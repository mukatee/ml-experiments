{
 "cells": [
  {
   "cell_type": "code",
   "execution_count": 1,
   "id": "8ca2283e-9f77-4bd0-baf1-b5d32f9e0ba5",
   "metadata": {},
   "outputs": [
    {
     "name": "stdout",
     "output_type": "stream",
     "text": [
      "Requirement already satisfied: faiss-cpu in /opt/conda/lib/python3.10/site-packages (1.7.4)\n",
      "\u001b[33mWARNING: Running pip as the 'root' user can result in broken permissions and conflicting behaviour with the system package manager. It is recommended to use a virtual environment instead: https://pip.pypa.io/warnings/venv\u001b[0m\u001b[33m\n",
      "\u001b[0m"
     ]
    }
   ],
   "source": [
    "#!pip install -U /mystuff/wikipedia2/faiss_gpu-1.7.2-cp310-cp310-manylinux_2_17_x86_64.manylinux2014_x86_64.whl\n",
    "#!pip install --upgrade faiss-gpu\n",
    "!pip install faiss-cpu\n",
    "#!pip install faiss-gpu-1.7.4_cuda11.4.tar.bz2\n"
   ]
  },
  {
   "cell_type": "code",
   "execution_count": 2,
   "id": "3276daa3-69f1-41c7-81cb-7a16d215abcc",
   "metadata": {},
   "outputs": [],
   "source": [
    "from faiss import write_index, read_index\n",
    "\n",
    "#sentence_index = read_index(\"/mystuff/wikipedia2/wikipedia_202307.index\")"
   ]
  },
  {
   "cell_type": "code",
   "execution_count": 5,
   "id": "8f39524f-47b1-429e-ad35-5d76ebe5419d",
   "metadata": {},
   "outputs": [
    {
     "data": {
      "application/vnd.jupyter.widget-view+json": {
       "model_id": "ca0b1d6f531f447e8d979074026ea70b",
       "version_major": 2,
       "version_minor": 0
      },
      "text/plain": [
       "  0%|          | 0/6082515 [00:00<?, ?it/s]"
      ]
     },
     "metadata": {},
     "output_type": "display_data"
    }
   ],
   "source": [
    "import sqlite3\n",
    "import numpy as np\n",
    "from tqdm.notebook import tqdm\n",
    "tqdm.pandas()\n",
    "\n",
    "def read_embeddings_from_db(db_path='embedding_vectors_512_head_bge_small_en.db'):\n",
    "    # Connect to SQLite database\n",
    "    conn = sqlite3.connect(db_path)\n",
    "    cursor = conn.cursor()\n",
    "\n",
    "    embedding_ids = []\n",
    "    embedding_vectors = []\n",
    "\n",
    "    try:\n",
    "        # Query to fetch all stored embeddings\n",
    "        cursor.execute(\"SELECT id, vector FROM embeddings ORDER BY id\")\n",
    "        rows = cursor.fetchall()\n",
    "\n",
    "        # Convert blobs back to NumPy arrays\n",
    "        for row in tqdm(rows):\n",
    "            embedding_id, embedding_blob = row\n",
    "            embedding_vector = np.frombuffer(embedding_blob, dtype=np.float32)\n",
    "            embedding_ids.append(embedding_id)\n",
    "            embedding_vectors.append(embedding_vector)\n",
    "#            retrieved_embeddings[embedding_id] = embedding_vector\n",
    "\n",
    "    except Exception as e:\n",
    "        print(f\"An error occurred while reading from the database: {e}\")\n",
    "\n",
    "    finally:\n",
    "        # Close the connection\n",
    "        conn.close()\n",
    "\n",
    "    return embedding_ids, embedding_vectors\n",
    "\n",
    "# Read embeddings from the SQLite database\n",
    "embedding_ids, embedding_vectors = read_embeddings_from_db()\n"
   ]
  },
  {
   "cell_type": "code",
   "execution_count": null,
   "id": "0420c3b2-dd0d-405e-902a-54b6f0a69473",
   "metadata": {},
   "outputs": [],
   "source": []
  },
  {
   "cell_type": "code",
   "execution_count": 6,
   "id": "2376f886-1a6f-4018-8fc7-eb7b13b6fa8c",
   "metadata": {},
   "outputs": [],
   "source": [
    "all_embeddings = np.stack(embedding_vectors)"
   ]
  },
  {
   "cell_type": "code",
   "execution_count": 7,
   "id": "d2e1519f-13be-40c1-b58d-066156c83e1c",
   "metadata": {},
   "outputs": [
    {
     "data": {
      "text/plain": [
       "(6082515, 384)"
      ]
     },
     "execution_count": 7,
     "metadata": {},
     "output_type": "execute_result"
    }
   ],
   "source": [
    "all_embeddings.shape"
   ]
  },
  {
   "cell_type": "markdown",
   "id": "34ea8331-8ad8-445b-91a9-5ded33e43503",
   "metadata": {},
   "source": [
    "## Choice of FAISS Index type\n",
    "\n",
    "If you want to go crazy trying to understand all combinations of FAISS index parameters, I recommend getting deep into their docs at https://github.com/facebookresearch/faiss/wiki/Guidelines-to-choose-an-index. Or just search the internets for \"faiss index selection\" and other similar searches.\n",
    "\n",
    "In the end, I just gave up reading about them too much and tried Flat index since it should give exact results. And somewhere I read it should work fine on a few million records. Which it did. Most likely because I used this for a Kaggle competition where I only had to search about 4k queries over those 6M records, so the tradeoff in full precision for running only 4k queries without real-time requirements was fine.\n",
    "\n",
    "The other trial was with the clustering version \"IVF65536_HNSW32,Flat\", which also seemed to give quite fine results. But in practice I would now start with just trying \"Flat\" and going from there with some trials, rather than spend a week reading the docs and go crazy. But thats just me.."
   ]
  },
  {
   "cell_type": "code",
   "execution_count": 8,
   "id": "220fedad-099d-4090-86ac-0d82a7f332b3",
   "metadata": {},
   "outputs": [
    {
     "name": "stdout",
     "output_type": "stream",
     "text": [
      "384\n"
     ]
    }
   ],
   "source": [
    "import faiss\n",
    "\n",
    "d = all_embeddings.shape[1]\n",
    "print(d)\n",
    "\n",
    "#index = faiss.index_factory(d, \"IVF65536_HNSW32,Flat\")\n",
    "index = faiss.index_factory(d, \"Flat\")\n"
   ]
  },
  {
   "cell_type": "code",
   "execution_count": 11,
   "id": "466f3a5c-2f2f-453a-838a-f98514d95361",
   "metadata": {},
   "outputs": [
    {
     "data": {
      "text/plain": [
       "0"
      ]
     },
     "execution_count": 11,
     "metadata": {},
     "output_type": "execute_result"
    }
   ],
   "source": [
    "ngpus = faiss.get_num_gpus()\n",
    "ngpus"
   ]
  },
  {
   "cell_type": "markdown",
   "id": "0a4dc22b-9e5b-40df-8962-46b0d0548170",
   "metadata": {},
   "source": [
    "## Train the FAISS index with embeddings to be indexed"
   ]
  },
  {
   "cell_type": "code",
   "execution_count": 15,
   "id": "0027e736-d7c1-40eb-ac6f-9503866ee6db",
   "metadata": {},
   "outputs": [
    {
     "name": "stdout",
     "output_type": "stream",
     "text": [
      "CPU times: user 83 µs, sys: 592 µs, total: 675 µs\n",
      "Wall time: 5.5 ms\n"
     ]
    }
   ],
   "source": [
    "%%time\n",
    "#gpu_index.train(all_embeddings)\n",
    "index.train(all_embeddings)\n"
   ]
  },
  {
   "cell_type": "markdown",
   "id": "02fb9eee-6032-41e2-902c-f248df5b48a6",
   "metadata": {},
   "source": [
    "## Add Embeddings to FAISS Index"
   ]
  },
  {
   "cell_type": "code",
   "execution_count": 16,
   "id": "642f2f22-9e76-4174-9ee5-c4e8fcd5babf",
   "metadata": {},
   "outputs": [],
   "source": [
    "index.add(all_embeddings)"
   ]
  },
  {
   "cell_type": "markdown",
   "id": "b5c238df-7674-42ee-a859-2e54c4158ec2",
   "metadata": {},
   "source": [
    "## Write FAISS Index to disk"
   ]
  },
  {
   "cell_type": "code",
   "execution_count": 17,
   "id": "ffb5cb59-bd55-4cfb-876e-bbb26433ac4d",
   "metadata": {},
   "outputs": [],
   "source": [
    "index_path = \"faiss_index_512_flat_small.index\"\n",
    "faiss.write_index(index, index_path)\n"
   ]
  },
  {
   "cell_type": "markdown",
   "id": "d9458dcd-e18d-4a11-bfde-0cdcdaed21aa",
   "metadata": {},
   "source": [
    "## Try some search where I knew what doc ID's it should return\n"
   ]
  },
  {
   "cell_type": "code",
   "execution_count": 18,
   "id": "63e89492-8647-4149-9cfe-c5b514de7099",
   "metadata": {},
   "outputs": [],
   "source": [
    "from sentence_transformers import SentenceTransformer\n",
    "\n",
    "#embedding_model_path = \"/mystuff/llm/gte-base\"\n",
    "#embedding_model_path = \"/mystuff/llm/all-MiniLM-L12-v2\"\n",
    "embedding_model_path = \"/mystuff/llm/bge-small-en\"\n",
    "\n",
    "embedding_model = SentenceTransformer(embedding_model_path, device='cuda')\n"
   ]
  },
  {
   "cell_type": "code",
   "execution_count": 19,
   "id": "d4cdb2f4-d49c-4941-88bd-ddf0f5fcd5a9",
   "metadata": {},
   "outputs": [],
   "source": [
    "q_embeddings = embedding_model.encode([\"What is the definition of anarchism?\"])\n"
   ]
  },
  {
   "cell_type": "code",
   "execution_count": 23,
   "id": "63cddac9-ab56-4a03-b0d3-6388a9262dda",
   "metadata": {},
   "outputs": [],
   "source": [
    "D, I = index.search(q_embeddings, 5)"
   ]
  },
  {
   "cell_type": "code",
   "execution_count": 24,
   "id": "8ac0b68d-7fe4-4716-a468-bc2f82edb23c",
   "metadata": {},
   "outputs": [
    {
     "data": {
      "text/plain": [
       "array([[1054330, 1880579, 5809849, 2102743,       0]])"
      ]
     },
     "execution_count": 24,
     "metadata": {},
     "output_type": "execute_result"
    }
   ],
   "source": [
    "I"
   ]
  },
  {
   "cell_type": "code",
   "execution_count": 22,
   "id": "068b02a4-6c05-49df-bbb3-023e0ab6170d",
   "metadata": {},
   "outputs": [
    {
     "data": {
      "text/plain": [
       "array([[18.58313 , 19.57069 , 20.886288]], dtype=float32)"
      ]
     },
     "execution_count": 22,
     "metadata": {},
     "output_type": "execute_result"
    }
   ],
   "source": [
    "D"
   ]
  },
  {
   "cell_type": "code",
   "execution_count": null,
   "id": "79781d6d-60be-4445-a034-a4da84f89a12",
   "metadata": {},
   "outputs": [],
   "source": []
  }
 ],
 "metadata": {
  "kernelspec": {
   "display_name": "Python 3 (ipykernel)",
   "language": "python",
   "name": "python3"
  },
  "language_info": {
   "codemirror_mode": {
    "name": "ipython",
    "version": 3
   },
   "file_extension": ".py",
   "mimetype": "text/x-python",
   "name": "python",
   "nbconvert_exporter": "python",
   "pygments_lexer": "ipython3",
   "version": "3.10.11"
  }
 },
 "nbformat": 4,
 "nbformat_minor": 5
}

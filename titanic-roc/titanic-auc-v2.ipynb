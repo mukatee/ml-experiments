{
 "cells": [
  {
   "cell_type": "code",
   "execution_count": 1,
   "metadata": {},
   "outputs": [],
   "source": [
    "import pandas as pd\n",
    "import numpy as np\n",
    "import matplotlib.pyplot as plt "
   ]
  },
  {
   "cell_type": "code",
   "execution_count": 2,
   "metadata": {},
   "outputs": [],
   "source": [
    "data = pd.read_csv(\"titanic/titanic3.csv\")"
   ]
  },
  {
   "cell_type": "code",
   "execution_count": 3,
   "metadata": {},
   "outputs": [
    {
     "data": {
      "text/plain": [
       "(1309, 14)"
      ]
     },
     "execution_count": 3,
     "metadata": {},
     "output_type": "execute_result"
    }
   ],
   "source": [
    "data.shape"
   ]
  },
  {
   "cell_type": "markdown",
   "metadata": {},
   "source": [
    "So there are 1309 rows and 14 columns"
   ]
  },
  {
   "cell_type": "code",
   "execution_count": 4,
   "metadata": {},
   "outputs": [
    {
     "data": {
      "text/html": [
       "<div>\n",
       "<style scoped>\n",
       "    .dataframe tbody tr th:only-of-type {\n",
       "        vertical-align: middle;\n",
       "    }\n",
       "\n",
       "    .dataframe tbody tr th {\n",
       "        vertical-align: top;\n",
       "    }\n",
       "\n",
       "    .dataframe thead th {\n",
       "        text-align: right;\n",
       "    }\n",
       "</style>\n",
       "<table border=\"1\" class=\"dataframe\">\n",
       "  <thead>\n",
       "    <tr style=\"text-align: right;\">\n",
       "      <th></th>\n",
       "      <th>pclass</th>\n",
       "      <th>survived</th>\n",
       "      <th>age</th>\n",
       "      <th>sibsp</th>\n",
       "      <th>parch</th>\n",
       "      <th>fare</th>\n",
       "      <th>body</th>\n",
       "    </tr>\n",
       "  </thead>\n",
       "  <tbody>\n",
       "    <tr>\n",
       "      <th>count</th>\n",
       "      <td>1309.000000</td>\n",
       "      <td>1309.000000</td>\n",
       "      <td>1046.000000</td>\n",
       "      <td>1309.000000</td>\n",
       "      <td>1309.000000</td>\n",
       "      <td>1308.000000</td>\n",
       "      <td>121.000000</td>\n",
       "    </tr>\n",
       "    <tr>\n",
       "      <th>mean</th>\n",
       "      <td>2.294882</td>\n",
       "      <td>0.381971</td>\n",
       "      <td>29.881135</td>\n",
       "      <td>0.498854</td>\n",
       "      <td>0.385027</td>\n",
       "      <td>33.295479</td>\n",
       "      <td>160.809917</td>\n",
       "    </tr>\n",
       "    <tr>\n",
       "      <th>std</th>\n",
       "      <td>0.837836</td>\n",
       "      <td>0.486055</td>\n",
       "      <td>14.413500</td>\n",
       "      <td>1.041658</td>\n",
       "      <td>0.865560</td>\n",
       "      <td>51.758668</td>\n",
       "      <td>97.696922</td>\n",
       "    </tr>\n",
       "    <tr>\n",
       "      <th>min</th>\n",
       "      <td>1.000000</td>\n",
       "      <td>0.000000</td>\n",
       "      <td>0.166700</td>\n",
       "      <td>0.000000</td>\n",
       "      <td>0.000000</td>\n",
       "      <td>0.000000</td>\n",
       "      <td>1.000000</td>\n",
       "    </tr>\n",
       "    <tr>\n",
       "      <th>25%</th>\n",
       "      <td>2.000000</td>\n",
       "      <td>0.000000</td>\n",
       "      <td>21.000000</td>\n",
       "      <td>0.000000</td>\n",
       "      <td>0.000000</td>\n",
       "      <td>7.895800</td>\n",
       "      <td>72.000000</td>\n",
       "    </tr>\n",
       "    <tr>\n",
       "      <th>50%</th>\n",
       "      <td>3.000000</td>\n",
       "      <td>0.000000</td>\n",
       "      <td>28.000000</td>\n",
       "      <td>0.000000</td>\n",
       "      <td>0.000000</td>\n",
       "      <td>14.454200</td>\n",
       "      <td>155.000000</td>\n",
       "    </tr>\n",
       "    <tr>\n",
       "      <th>75%</th>\n",
       "      <td>3.000000</td>\n",
       "      <td>1.000000</td>\n",
       "      <td>39.000000</td>\n",
       "      <td>1.000000</td>\n",
       "      <td>0.000000</td>\n",
       "      <td>31.275000</td>\n",
       "      <td>256.000000</td>\n",
       "    </tr>\n",
       "    <tr>\n",
       "      <th>max</th>\n",
       "      <td>3.000000</td>\n",
       "      <td>1.000000</td>\n",
       "      <td>80.000000</td>\n",
       "      <td>8.000000</td>\n",
       "      <td>9.000000</td>\n",
       "      <td>512.329200</td>\n",
       "      <td>328.000000</td>\n",
       "    </tr>\n",
       "  </tbody>\n",
       "</table>\n",
       "</div>"
      ],
      "text/plain": [
       "            pclass     survived          age        sibsp        parch  \\\n",
       "count  1309.000000  1309.000000  1046.000000  1309.000000  1309.000000   \n",
       "mean      2.294882     0.381971    29.881135     0.498854     0.385027   \n",
       "std       0.837836     0.486055    14.413500     1.041658     0.865560   \n",
       "min       1.000000     0.000000     0.166700     0.000000     0.000000   \n",
       "25%       2.000000     0.000000    21.000000     0.000000     0.000000   \n",
       "50%       3.000000     0.000000    28.000000     0.000000     0.000000   \n",
       "75%       3.000000     1.000000    39.000000     1.000000     0.000000   \n",
       "max       3.000000     1.000000    80.000000     8.000000     9.000000   \n",
       "\n",
       "              fare        body  \n",
       "count  1308.000000  121.000000  \n",
       "mean     33.295479  160.809917  \n",
       "std      51.758668   97.696922  \n",
       "min       0.000000    1.000000  \n",
       "25%       7.895800   72.000000  \n",
       "50%      14.454200  155.000000  \n",
       "75%      31.275000  256.000000  \n",
       "max     512.329200  328.000000  "
      ]
     },
     "execution_count": 4,
     "metadata": {},
     "output_type": "execute_result"
    }
   ],
   "source": [
    "data.describe()"
   ]
  },
  {
   "cell_type": "code",
   "execution_count": 5,
   "metadata": {},
   "outputs": [
    {
     "data": {
      "text/plain": [
       "Index(['pclass', 'survived', 'name', 'sex', 'age', 'sibsp', 'parch', 'ticket',\n",
       "       'fare', 'cabin', 'embarked', 'boat', 'body', 'home.dest'],\n",
       "      dtype='object')"
      ]
     },
     "execution_count": 5,
     "metadata": {},
     "output_type": "execute_result"
    }
   ],
   "source": [
    "data.columns"
   ]
  },
  {
   "cell_type": "markdown",
   "metadata": {},
   "source": [
    "comparing the two above, the set of columns shown by data.describe() is missing some columns. fix is:"
   ]
  },
  {
   "cell_type": "code",
   "execution_count": 6,
   "metadata": {},
   "outputs": [
    {
     "data": {
      "text/html": [
       "<div>\n",
       "<style scoped>\n",
       "    .dataframe tbody tr th:only-of-type {\n",
       "        vertical-align: middle;\n",
       "    }\n",
       "\n",
       "    .dataframe tbody tr th {\n",
       "        vertical-align: top;\n",
       "    }\n",
       "\n",
       "    .dataframe thead th {\n",
       "        text-align: right;\n",
       "    }\n",
       "</style>\n",
       "<table border=\"1\" class=\"dataframe\">\n",
       "  <thead>\n",
       "    <tr style=\"text-align: right;\">\n",
       "      <th></th>\n",
       "      <th>pclass</th>\n",
       "      <th>survived</th>\n",
       "      <th>name</th>\n",
       "      <th>sex</th>\n",
       "      <th>age</th>\n",
       "      <th>sibsp</th>\n",
       "      <th>parch</th>\n",
       "      <th>ticket</th>\n",
       "      <th>fare</th>\n",
       "      <th>cabin</th>\n",
       "      <th>embarked</th>\n",
       "      <th>boat</th>\n",
       "      <th>body</th>\n",
       "      <th>home.dest</th>\n",
       "    </tr>\n",
       "  </thead>\n",
       "  <tbody>\n",
       "    <tr>\n",
       "      <th>count</th>\n",
       "      <td>1309.000000</td>\n",
       "      <td>1309.000000</td>\n",
       "      <td>1309</td>\n",
       "      <td>1309</td>\n",
       "      <td>1046.000000</td>\n",
       "      <td>1309.000000</td>\n",
       "      <td>1309.000000</td>\n",
       "      <td>1309</td>\n",
       "      <td>1308.000000</td>\n",
       "      <td>295</td>\n",
       "      <td>1307</td>\n",
       "      <td>486</td>\n",
       "      <td>121.000000</td>\n",
       "      <td>745</td>\n",
       "    </tr>\n",
       "    <tr>\n",
       "      <th>unique</th>\n",
       "      <td>NaN</td>\n",
       "      <td>NaN</td>\n",
       "      <td>1307</td>\n",
       "      <td>2</td>\n",
       "      <td>NaN</td>\n",
       "      <td>NaN</td>\n",
       "      <td>NaN</td>\n",
       "      <td>929</td>\n",
       "      <td>NaN</td>\n",
       "      <td>186</td>\n",
       "      <td>3</td>\n",
       "      <td>27</td>\n",
       "      <td>NaN</td>\n",
       "      <td>369</td>\n",
       "    </tr>\n",
       "    <tr>\n",
       "      <th>top</th>\n",
       "      <td>NaN</td>\n",
       "      <td>NaN</td>\n",
       "      <td>Connolly, Miss. Kate</td>\n",
       "      <td>male</td>\n",
       "      <td>NaN</td>\n",
       "      <td>NaN</td>\n",
       "      <td>NaN</td>\n",
       "      <td>CA. 2343</td>\n",
       "      <td>NaN</td>\n",
       "      <td>C23 C25 C27</td>\n",
       "      <td>S</td>\n",
       "      <td>13</td>\n",
       "      <td>NaN</td>\n",
       "      <td>New York, NY</td>\n",
       "    </tr>\n",
       "    <tr>\n",
       "      <th>freq</th>\n",
       "      <td>NaN</td>\n",
       "      <td>NaN</td>\n",
       "      <td>2</td>\n",
       "      <td>843</td>\n",
       "      <td>NaN</td>\n",
       "      <td>NaN</td>\n",
       "      <td>NaN</td>\n",
       "      <td>11</td>\n",
       "      <td>NaN</td>\n",
       "      <td>6</td>\n",
       "      <td>914</td>\n",
       "      <td>39</td>\n",
       "      <td>NaN</td>\n",
       "      <td>64</td>\n",
       "    </tr>\n",
       "    <tr>\n",
       "      <th>mean</th>\n",
       "      <td>2.294882</td>\n",
       "      <td>0.381971</td>\n",
       "      <td>NaN</td>\n",
       "      <td>NaN</td>\n",
       "      <td>29.881135</td>\n",
       "      <td>0.498854</td>\n",
       "      <td>0.385027</td>\n",
       "      <td>NaN</td>\n",
       "      <td>33.295479</td>\n",
       "      <td>NaN</td>\n",
       "      <td>NaN</td>\n",
       "      <td>NaN</td>\n",
       "      <td>160.809917</td>\n",
       "      <td>NaN</td>\n",
       "    </tr>\n",
       "    <tr>\n",
       "      <th>std</th>\n",
       "      <td>0.837836</td>\n",
       "      <td>0.486055</td>\n",
       "      <td>NaN</td>\n",
       "      <td>NaN</td>\n",
       "      <td>14.413500</td>\n",
       "      <td>1.041658</td>\n",
       "      <td>0.865560</td>\n",
       "      <td>NaN</td>\n",
       "      <td>51.758668</td>\n",
       "      <td>NaN</td>\n",
       "      <td>NaN</td>\n",
       "      <td>NaN</td>\n",
       "      <td>97.696922</td>\n",
       "      <td>NaN</td>\n",
       "    </tr>\n",
       "    <tr>\n",
       "      <th>min</th>\n",
       "      <td>1.000000</td>\n",
       "      <td>0.000000</td>\n",
       "      <td>NaN</td>\n",
       "      <td>NaN</td>\n",
       "      <td>0.166700</td>\n",
       "      <td>0.000000</td>\n",
       "      <td>0.000000</td>\n",
       "      <td>NaN</td>\n",
       "      <td>0.000000</td>\n",
       "      <td>NaN</td>\n",
       "      <td>NaN</td>\n",
       "      <td>NaN</td>\n",
       "      <td>1.000000</td>\n",
       "      <td>NaN</td>\n",
       "    </tr>\n",
       "    <tr>\n",
       "      <th>25%</th>\n",
       "      <td>2.000000</td>\n",
       "      <td>0.000000</td>\n",
       "      <td>NaN</td>\n",
       "      <td>NaN</td>\n",
       "      <td>21.000000</td>\n",
       "      <td>0.000000</td>\n",
       "      <td>0.000000</td>\n",
       "      <td>NaN</td>\n",
       "      <td>7.895800</td>\n",
       "      <td>NaN</td>\n",
       "      <td>NaN</td>\n",
       "      <td>NaN</td>\n",
       "      <td>72.000000</td>\n",
       "      <td>NaN</td>\n",
       "    </tr>\n",
       "    <tr>\n",
       "      <th>50%</th>\n",
       "      <td>3.000000</td>\n",
       "      <td>0.000000</td>\n",
       "      <td>NaN</td>\n",
       "      <td>NaN</td>\n",
       "      <td>28.000000</td>\n",
       "      <td>0.000000</td>\n",
       "      <td>0.000000</td>\n",
       "      <td>NaN</td>\n",
       "      <td>14.454200</td>\n",
       "      <td>NaN</td>\n",
       "      <td>NaN</td>\n",
       "      <td>NaN</td>\n",
       "      <td>155.000000</td>\n",
       "      <td>NaN</td>\n",
       "    </tr>\n",
       "    <tr>\n",
       "      <th>75%</th>\n",
       "      <td>3.000000</td>\n",
       "      <td>1.000000</td>\n",
       "      <td>NaN</td>\n",
       "      <td>NaN</td>\n",
       "      <td>39.000000</td>\n",
       "      <td>1.000000</td>\n",
       "      <td>0.000000</td>\n",
       "      <td>NaN</td>\n",
       "      <td>31.275000</td>\n",
       "      <td>NaN</td>\n",
       "      <td>NaN</td>\n",
       "      <td>NaN</td>\n",
       "      <td>256.000000</td>\n",
       "      <td>NaN</td>\n",
       "    </tr>\n",
       "    <tr>\n",
       "      <th>max</th>\n",
       "      <td>3.000000</td>\n",
       "      <td>1.000000</td>\n",
       "      <td>NaN</td>\n",
       "      <td>NaN</td>\n",
       "      <td>80.000000</td>\n",
       "      <td>8.000000</td>\n",
       "      <td>9.000000</td>\n",
       "      <td>NaN</td>\n",
       "      <td>512.329200</td>\n",
       "      <td>NaN</td>\n",
       "      <td>NaN</td>\n",
       "      <td>NaN</td>\n",
       "      <td>328.000000</td>\n",
       "      <td>NaN</td>\n",
       "    </tr>\n",
       "  </tbody>\n",
       "</table>\n",
       "</div>"
      ],
      "text/plain": [
       "             pclass     survived                  name   sex          age  \\\n",
       "count   1309.000000  1309.000000                  1309  1309  1046.000000   \n",
       "unique          NaN          NaN                  1307     2          NaN   \n",
       "top             NaN          NaN  Connolly, Miss. Kate  male          NaN   \n",
       "freq            NaN          NaN                     2   843          NaN   \n",
       "mean       2.294882     0.381971                   NaN   NaN    29.881135   \n",
       "std        0.837836     0.486055                   NaN   NaN    14.413500   \n",
       "min        1.000000     0.000000                   NaN   NaN     0.166700   \n",
       "25%        2.000000     0.000000                   NaN   NaN    21.000000   \n",
       "50%        3.000000     0.000000                   NaN   NaN    28.000000   \n",
       "75%        3.000000     1.000000                   NaN   NaN    39.000000   \n",
       "max        3.000000     1.000000                   NaN   NaN    80.000000   \n",
       "\n",
       "              sibsp        parch    ticket         fare        cabin embarked  \\\n",
       "count   1309.000000  1309.000000      1309  1308.000000          295     1307   \n",
       "unique          NaN          NaN       929          NaN          186        3   \n",
       "top             NaN          NaN  CA. 2343          NaN  C23 C25 C27        S   \n",
       "freq            NaN          NaN        11          NaN            6      914   \n",
       "mean       0.498854     0.385027       NaN    33.295479          NaN      NaN   \n",
       "std        1.041658     0.865560       NaN    51.758668          NaN      NaN   \n",
       "min        0.000000     0.000000       NaN     0.000000          NaN      NaN   \n",
       "25%        0.000000     0.000000       NaN     7.895800          NaN      NaN   \n",
       "50%        0.000000     0.000000       NaN    14.454200          NaN      NaN   \n",
       "75%        1.000000     0.000000       NaN    31.275000          NaN      NaN   \n",
       "max        8.000000     9.000000       NaN   512.329200          NaN      NaN   \n",
       "\n",
       "       boat        body     home.dest  \n",
       "count   486  121.000000           745  \n",
       "unique   27         NaN           369  \n",
       "top      13         NaN  New York, NY  \n",
       "freq     39         NaN            64  \n",
       "mean    NaN  160.809917           NaN  \n",
       "std     NaN   97.696922           NaN  \n",
       "min     NaN    1.000000           NaN  \n",
       "25%     NaN   72.000000           NaN  \n",
       "50%     NaN  155.000000           NaN  \n",
       "75%     NaN  256.000000           NaN  \n",
       "max     NaN  328.000000           NaN  "
      ]
     },
     "execution_count": 6,
     "metadata": {},
     "output_type": "execute_result"
    }
   ],
   "source": [
    "#https://pandas.pydata.org/pandas-docs/stable/generated/pandas.DataFrame.describe.html\n",
    "data.describe(include=\"all\")"
   ]
  },
  {
   "cell_type": "markdown",
   "metadata": {},
   "source": [
    "this has a few more digits than i would like, so to fix:"
   ]
  },
  {
   "cell_type": "code",
   "execution_count": 7,
   "metadata": {},
   "outputs": [
    {
     "data": {
      "text/html": [
       "<div>\n",
       "<style scoped>\n",
       "    .dataframe tbody tr th:only-of-type {\n",
       "        vertical-align: middle;\n",
       "    }\n",
       "\n",
       "    .dataframe tbody tr th {\n",
       "        vertical-align: top;\n",
       "    }\n",
       "\n",
       "    .dataframe thead th {\n",
       "        text-align: right;\n",
       "    }\n",
       "</style>\n",
       "<table border=\"1\" class=\"dataframe\">\n",
       "  <thead>\n",
       "    <tr style=\"text-align: right;\">\n",
       "      <th></th>\n",
       "      <th>pclass</th>\n",
       "      <th>survived</th>\n",
       "      <th>name</th>\n",
       "      <th>sex</th>\n",
       "      <th>age</th>\n",
       "      <th>sibsp</th>\n",
       "      <th>parch</th>\n",
       "      <th>ticket</th>\n",
       "      <th>fare</th>\n",
       "      <th>cabin</th>\n",
       "      <th>embarked</th>\n",
       "      <th>boat</th>\n",
       "      <th>body</th>\n",
       "      <th>home.dest</th>\n",
       "    </tr>\n",
       "  </thead>\n",
       "  <tbody>\n",
       "    <tr>\n",
       "      <th>count</th>\n",
       "      <td>1309.00</td>\n",
       "      <td>1309.00</td>\n",
       "      <td>1309</td>\n",
       "      <td>1309</td>\n",
       "      <td>1046.00</td>\n",
       "      <td>1309.00</td>\n",
       "      <td>1309.00</td>\n",
       "      <td>1309</td>\n",
       "      <td>1308.00</td>\n",
       "      <td>295</td>\n",
       "      <td>1307</td>\n",
       "      <td>486</td>\n",
       "      <td>121.00</td>\n",
       "      <td>745</td>\n",
       "    </tr>\n",
       "    <tr>\n",
       "      <th>unique</th>\n",
       "      <td>NaN</td>\n",
       "      <td>NaN</td>\n",
       "      <td>1307</td>\n",
       "      <td>2</td>\n",
       "      <td>NaN</td>\n",
       "      <td>NaN</td>\n",
       "      <td>NaN</td>\n",
       "      <td>929</td>\n",
       "      <td>NaN</td>\n",
       "      <td>186</td>\n",
       "      <td>3</td>\n",
       "      <td>27</td>\n",
       "      <td>NaN</td>\n",
       "      <td>369</td>\n",
       "    </tr>\n",
       "    <tr>\n",
       "      <th>top</th>\n",
       "      <td>NaN</td>\n",
       "      <td>NaN</td>\n",
       "      <td>Connolly, Miss. Kate</td>\n",
       "      <td>male</td>\n",
       "      <td>NaN</td>\n",
       "      <td>NaN</td>\n",
       "      <td>NaN</td>\n",
       "      <td>CA. 2343</td>\n",
       "      <td>NaN</td>\n",
       "      <td>C23 C25 C27</td>\n",
       "      <td>S</td>\n",
       "      <td>13</td>\n",
       "      <td>NaN</td>\n",
       "      <td>New York, NY</td>\n",
       "    </tr>\n",
       "    <tr>\n",
       "      <th>freq</th>\n",
       "      <td>NaN</td>\n",
       "      <td>NaN</td>\n",
       "      <td>2</td>\n",
       "      <td>843</td>\n",
       "      <td>NaN</td>\n",
       "      <td>NaN</td>\n",
       "      <td>NaN</td>\n",
       "      <td>11</td>\n",
       "      <td>NaN</td>\n",
       "      <td>6</td>\n",
       "      <td>914</td>\n",
       "      <td>39</td>\n",
       "      <td>NaN</td>\n",
       "      <td>64</td>\n",
       "    </tr>\n",
       "    <tr>\n",
       "      <th>mean</th>\n",
       "      <td>2.29</td>\n",
       "      <td>0.38</td>\n",
       "      <td>NaN</td>\n",
       "      <td>NaN</td>\n",
       "      <td>29.88</td>\n",
       "      <td>0.50</td>\n",
       "      <td>0.39</td>\n",
       "      <td>NaN</td>\n",
       "      <td>33.30</td>\n",
       "      <td>NaN</td>\n",
       "      <td>NaN</td>\n",
       "      <td>NaN</td>\n",
       "      <td>160.81</td>\n",
       "      <td>NaN</td>\n",
       "    </tr>\n",
       "    <tr>\n",
       "      <th>std</th>\n",
       "      <td>0.84</td>\n",
       "      <td>0.49</td>\n",
       "      <td>NaN</td>\n",
       "      <td>NaN</td>\n",
       "      <td>14.41</td>\n",
       "      <td>1.04</td>\n",
       "      <td>0.87</td>\n",
       "      <td>NaN</td>\n",
       "      <td>51.76</td>\n",
       "      <td>NaN</td>\n",
       "      <td>NaN</td>\n",
       "      <td>NaN</td>\n",
       "      <td>97.70</td>\n",
       "      <td>NaN</td>\n",
       "    </tr>\n",
       "    <tr>\n",
       "      <th>min</th>\n",
       "      <td>1.00</td>\n",
       "      <td>0.00</td>\n",
       "      <td>NaN</td>\n",
       "      <td>NaN</td>\n",
       "      <td>0.17</td>\n",
       "      <td>0.00</td>\n",
       "      <td>0.00</td>\n",
       "      <td>NaN</td>\n",
       "      <td>0.00</td>\n",
       "      <td>NaN</td>\n",
       "      <td>NaN</td>\n",
       "      <td>NaN</td>\n",
       "      <td>1.00</td>\n",
       "      <td>NaN</td>\n",
       "    </tr>\n",
       "    <tr>\n",
       "      <th>25%</th>\n",
       "      <td>2.00</td>\n",
       "      <td>0.00</td>\n",
       "      <td>NaN</td>\n",
       "      <td>NaN</td>\n",
       "      <td>21.00</td>\n",
       "      <td>0.00</td>\n",
       "      <td>0.00</td>\n",
       "      <td>NaN</td>\n",
       "      <td>7.90</td>\n",
       "      <td>NaN</td>\n",
       "      <td>NaN</td>\n",
       "      <td>NaN</td>\n",
       "      <td>72.00</td>\n",
       "      <td>NaN</td>\n",
       "    </tr>\n",
       "    <tr>\n",
       "      <th>50%</th>\n",
       "      <td>3.00</td>\n",
       "      <td>0.00</td>\n",
       "      <td>NaN</td>\n",
       "      <td>NaN</td>\n",
       "      <td>28.00</td>\n",
       "      <td>0.00</td>\n",
       "      <td>0.00</td>\n",
       "      <td>NaN</td>\n",
       "      <td>14.45</td>\n",
       "      <td>NaN</td>\n",
       "      <td>NaN</td>\n",
       "      <td>NaN</td>\n",
       "      <td>155.00</td>\n",
       "      <td>NaN</td>\n",
       "    </tr>\n",
       "    <tr>\n",
       "      <th>75%</th>\n",
       "      <td>3.00</td>\n",
       "      <td>1.00</td>\n",
       "      <td>NaN</td>\n",
       "      <td>NaN</td>\n",
       "      <td>39.00</td>\n",
       "      <td>1.00</td>\n",
       "      <td>0.00</td>\n",
       "      <td>NaN</td>\n",
       "      <td>31.28</td>\n",
       "      <td>NaN</td>\n",
       "      <td>NaN</td>\n",
       "      <td>NaN</td>\n",
       "      <td>256.00</td>\n",
       "      <td>NaN</td>\n",
       "    </tr>\n",
       "    <tr>\n",
       "      <th>max</th>\n",
       "      <td>3.00</td>\n",
       "      <td>1.00</td>\n",
       "      <td>NaN</td>\n",
       "      <td>NaN</td>\n",
       "      <td>80.00</td>\n",
       "      <td>8.00</td>\n",
       "      <td>9.00</td>\n",
       "      <td>NaN</td>\n",
       "      <td>512.33</td>\n",
       "      <td>NaN</td>\n",
       "      <td>NaN</td>\n",
       "      <td>NaN</td>\n",
       "      <td>328.00</td>\n",
       "      <td>NaN</td>\n",
       "    </tr>\n",
       "  </tbody>\n",
       "</table>\n",
       "</div>"
      ],
      "text/plain": [
       "         pclass  survived                  name   sex      age    sibsp  \\\n",
       "count   1309.00   1309.00                  1309  1309  1046.00  1309.00   \n",
       "unique      NaN       NaN                  1307     2      NaN      NaN   \n",
       "top         NaN       NaN  Connolly, Miss. Kate  male      NaN      NaN   \n",
       "freq        NaN       NaN                     2   843      NaN      NaN   \n",
       "mean       2.29      0.38                   NaN   NaN    29.88     0.50   \n",
       "std        0.84      0.49                   NaN   NaN    14.41     1.04   \n",
       "min        1.00      0.00                   NaN   NaN     0.17     0.00   \n",
       "25%        2.00      0.00                   NaN   NaN    21.00     0.00   \n",
       "50%        3.00      0.00                   NaN   NaN    28.00     0.00   \n",
       "75%        3.00      1.00                   NaN   NaN    39.00     1.00   \n",
       "max        3.00      1.00                   NaN   NaN    80.00     8.00   \n",
       "\n",
       "          parch    ticket     fare        cabin embarked boat    body  \\\n",
       "count   1309.00      1309  1308.00          295     1307  486  121.00   \n",
       "unique      NaN       929      NaN          186        3   27     NaN   \n",
       "top         NaN  CA. 2343      NaN  C23 C25 C27        S   13     NaN   \n",
       "freq        NaN        11      NaN            6      914   39     NaN   \n",
       "mean       0.39       NaN    33.30          NaN      NaN  NaN  160.81   \n",
       "std        0.87       NaN    51.76          NaN      NaN  NaN   97.70   \n",
       "min        0.00       NaN     0.00          NaN      NaN  NaN    1.00   \n",
       "25%        0.00       NaN     7.90          NaN      NaN  NaN   72.00   \n",
       "50%        0.00       NaN    14.45          NaN      NaN  NaN  155.00   \n",
       "75%        0.00       NaN    31.28          NaN      NaN  NaN  256.00   \n",
       "max        9.00       NaN   512.33          NaN      NaN  NaN  328.00   \n",
       "\n",
       "           home.dest  \n",
       "count            745  \n",
       "unique           369  \n",
       "top     New York, NY  \n",
       "freq              64  \n",
       "mean             NaN  \n",
       "std              NaN  \n",
       "min              NaN  \n",
       "25%              NaN  \n",
       "50%              NaN  \n",
       "75%              NaN  \n",
       "max              NaN  "
      ]
     },
     "execution_count": 7,
     "metadata": {},
     "output_type": "execute_result"
    }
   ],
   "source": [
    "data.describe(include=\"all\").round(2)"
   ]
  },
  {
   "cell_type": "markdown",
   "metadata": {},
   "source": [
    "fits more nicely now, too. however, it is a bit hard to see in the above what all this means, something like df.printSchema() in Spark would be nice. couldn't quite find a matching function in pandas, which was odd. probably my fail, but managed to cook this up:"
   ]
  },
  {
   "cell_type": "code",
   "execution_count": 8,
   "metadata": {},
   "outputs": [
    {
     "data": {
      "text/plain": [
       "[dtype('int64'),\n",
       " dtype('int64'),\n",
       " dtype('O'),\n",
       " dtype('O'),\n",
       " dtype('float64'),\n",
       " dtype('int64'),\n",
       " dtype('int64'),\n",
       " dtype('O'),\n",
       " dtype('float64'),\n",
       " dtype('O'),\n",
       " dtype('O'),\n",
       " dtype('O'),\n",
       " dtype('float64'),\n",
       " dtype('O')]"
      ]
     },
     "execution_count": 8,
     "metadata": {},
     "output_type": "execute_result"
    }
   ],
   "source": [
    "[data[col].dtype for col in data.columns]"
   ]
  },
  {
   "cell_type": "code",
   "execution_count": 9,
   "metadata": {},
   "outputs": [
    {
     "name": "stdout",
     "output_type": "stream",
     "text": [
      "pclass=int64\n",
      "survived=int64\n",
      "name=object\n",
      "sex=object\n",
      "age=float64\n",
      "sibsp=int64\n",
      "parch=int64\n",
      "ticket=object\n",
      "fare=float64\n",
      "cabin=object\n",
      "embarked=object\n",
      "boat=object\n",
      "body=float64\n",
      "home.dest=object\n"
     ]
    }
   ],
   "source": [
    "for col in data.columns:\n",
    "    print(col+\"=\"+str(data[col].dtype))"
   ]
  },
  {
   "cell_type": "markdown",
   "metadata": {},
   "source": [
    "why are there no string columns, even if practically all columns that are marked as \"object\" type here contain strings? it appears this is a limitation related to the use of numpy as backend for the dataframe (series/column) arrays: https://stackoverflow.com/questions/21018654/strings-in-a-dataframe-but-dtype-is-object"
   ]
  },
  {
   "cell_type": "code",
   "execution_count": 10,
   "metadata": {},
   "outputs": [],
   "source": [
    "df = data #just more used to calling it df"
   ]
  },
  {
   "cell_type": "markdown",
   "metadata": {},
   "source": [
    "To find missing values, and do something about them.."
   ]
  },
  {
   "cell_type": "code",
   "execution_count": 11,
   "metadata": {},
   "outputs": [
    {
     "data": {
      "text/plain": [
       "pclass          0\n",
       "survived        0\n",
       "name            0\n",
       "sex             0\n",
       "age           263\n",
       "sibsp           0\n",
       "parch           0\n",
       "ticket          0\n",
       "fare            1\n",
       "cabin        1014\n",
       "embarked        2\n",
       "boat          823\n",
       "body         1188\n",
       "home.dest     564\n",
       "dtype: int64"
      ]
     },
     "execution_count": 11,
     "metadata": {},
     "output_type": "execute_result"
    }
   ],
   "source": [
    "df.isnull().sum()"
   ]
  },
  {
   "cell_type": "code",
   "execution_count": null,
   "metadata": {},
   "outputs": [],
   "source": []
  },
  {
   "cell_type": "code",
   "execution_count": 12,
   "metadata": {},
   "outputs": [
    {
     "data": {
      "text/plain": [
       "29.8811345124283"
      ]
     },
     "execution_count": 12,
     "metadata": {},
     "output_type": "execute_result"
    }
   ],
   "source": [
    "df[\"age\"].mean(skipna=True)"
   ]
  },
  {
   "cell_type": "code",
   "execution_count": 13,
   "metadata": {},
   "outputs": [
    {
     "data": {
      "text/plain": [
       "28.0"
      ]
     },
     "execution_count": 13,
     "metadata": {},
     "output_type": "execute_result"
    }
   ],
   "source": [
    "df[\"age\"].median(skipna=True)"
   ]
  },
  {
   "cell_type": "code",
   "execution_count": 14,
   "metadata": {},
   "outputs": [
    {
     "data": {
      "text/plain": [
       "0     False\n",
       "1     False\n",
       "2     False\n",
       "3     False\n",
       "4     False\n",
       "5     False\n",
       "6     False\n",
       "7     False\n",
       "8     False\n",
       "9      True\n",
       "10    False\n",
       "Name: cabin, dtype: bool"
      ]
     },
     "execution_count": 14,
     "metadata": {},
     "output_type": "execute_result"
    }
   ],
   "source": [
    "df[\"cabin\"].isnull().head(11)"
   ]
  },
  {
   "cell_type": "code",
   "execution_count": 15,
   "metadata": {},
   "outputs": [
    {
     "data": {
      "text/plain": [
       "1299    True\n",
       "1300    True\n",
       "1301    True\n",
       "1302    True\n",
       "1303    True\n",
       "1304    True\n",
       "1305    True\n",
       "1306    True\n",
       "1307    True\n",
       "1308    True\n",
       "Name: cabin, dtype: bool"
      ]
     },
     "execution_count": 15,
     "metadata": {},
     "output_type": "execute_result"
    }
   ],
   "source": [
    "df[\"cabin\"].isnull().tail(10)"
   ]
  },
  {
   "cell_type": "code",
   "execution_count": 16,
   "metadata": {},
   "outputs": [
    {
     "data": {
      "text/plain": [
       "1014"
      ]
     },
     "execution_count": 16,
     "metadata": {},
     "output_type": "execute_result"
    }
   ],
   "source": [
    "df[\"cabin\"].isnull().sum() #guess this sums the true values as ones?"
   ]
  },
  {
   "cell_type": "code",
   "execution_count": 17,
   "metadata": {},
   "outputs": [
    {
     "data": {
      "text/plain": [
       "77.52293577981652"
      ]
     },
     "execution_count": 17,
     "metadata": {},
     "output_type": "execute_result"
    }
   ],
   "source": [
    "1014/1308*100 #percentage of missing cabin values. maybe there is a way to print the same for all cols?"
   ]
  },
  {
   "cell_type": "code",
   "execution_count": 18,
   "metadata": {},
   "outputs": [
    {
     "data": {
      "text/plain": [
       "77.46371275783041"
      ]
     },
     "execution_count": 18,
     "metadata": {},
     "output_type": "execute_result"
    }
   ],
   "source": [
    "(df['cabin'].isnull().sum()/df.shape[0])*100 #same as above but with fancier syntax"
   ]
  },
  {
   "cell_type": "markdown",
   "metadata": {},
   "source": [
    "above two should give same results, but the row count is actually 1309 since index starts at 0"
   ]
  },
  {
   "cell_type": "code",
   "execution_count": 19,
   "metadata": {},
   "outputs": [
    {
     "data": {
      "text/plain": [
       "1309"
      ]
     },
     "execution_count": 19,
     "metadata": {},
     "output_type": "execute_result"
    }
   ],
   "source": [
    "df.shape[0]"
   ]
  },
  {
   "cell_type": "code",
   "execution_count": 20,
   "metadata": {},
   "outputs": [
    {
     "data": {
      "text/plain": [
       "0.15278838808250572"
      ]
     },
     "execution_count": 20,
     "metadata": {},
     "output_type": "execute_result"
    }
   ],
   "source": [
    "(df['embarked'].isnull().sum()/df.shape[0])*100 #same as above but for embarked"
   ]
  },
  {
   "cell_type": "markdown",
   "metadata": {},
   "source": [
    "so the cabin column has 77.5% null values, while embarked has only 0.15% null values. -> drop cabin from prediction features.. "
   ]
  },
  {
   "cell_type": "code",
   "execution_count": 21,
   "metadata": {},
   "outputs": [
    {
     "data": {
      "text/plain": [
       "2"
      ]
     },
     "execution_count": 21,
     "metadata": {},
     "output_type": "execute_result"
    }
   ],
   "source": [
    "df['embarked'].isnull().sum()"
   ]
  },
  {
   "cell_type": "code",
   "execution_count": 22,
   "metadata": {},
   "outputs": [
    {
     "data": {
      "text/plain": [
       "S    914\n",
       "C    270\n",
       "Q    123\n",
       "Name: embarked, dtype: int64"
      ]
     },
     "execution_count": 22,
     "metadata": {},
     "output_type": "execute_result"
    }
   ],
   "source": [
    "df['embarked'].value_counts()"
   ]
  },
  {
   "cell_type": "markdown",
   "metadata": {},
   "source": [
    "since there are only 2 missing values and the S value is highly dominant, replace (impute) missing values with it"
   ]
  },
  {
   "cell_type": "code",
   "execution_count": 23,
   "metadata": {},
   "outputs": [
    {
     "data": {
      "text/plain": [
       "'S'"
      ]
     },
     "execution_count": 23,
     "metadata": {},
     "output_type": "execute_result"
    }
   ],
   "source": [
    "df['embarked'].value_counts().idxmax() #this looks like a useful method, gives id value of most common item"
   ]
  },
  {
   "cell_type": "markdown",
   "metadata": {},
   "source": [
    "now, to fix the missing values. this drops the cabin volumn (due to few values), and replaces empty values for age with median, and for embarked with the most common (mode?) values. perhaps embarked could also be a new value for missing ones?"
   ]
  },
  {
   "cell_type": "code",
   "execution_count": 24,
   "metadata": {},
   "outputs": [],
   "source": [
    "df2 = df.copy()\n",
    "df2[\"age\"].fillna(df[\"age\"].median(skipna=True), inplace=True)\n",
    "df2[\"embarked\"].fillna(df['embarked'].value_counts().idxmax(), inplace=True)\n",
    "df2.drop('cabin', axis=1, inplace=True)"
   ]
  },
  {
   "cell_type": "code",
   "execution_count": 25,
   "metadata": {},
   "outputs": [
    {
     "data": {
      "text/html": [
       "<div>\n",
       "<style scoped>\n",
       "    .dataframe tbody tr th:only-of-type {\n",
       "        vertical-align: middle;\n",
       "    }\n",
       "\n",
       "    .dataframe tbody tr th {\n",
       "        vertical-align: top;\n",
       "    }\n",
       "\n",
       "    .dataframe thead th {\n",
       "        text-align: right;\n",
       "    }\n",
       "</style>\n",
       "<table border=\"1\" class=\"dataframe\">\n",
       "  <thead>\n",
       "    <tr style=\"text-align: right;\">\n",
       "      <th></th>\n",
       "      <th>pclass</th>\n",
       "      <th>survived</th>\n",
       "      <th>name</th>\n",
       "      <th>sex</th>\n",
       "      <th>age</th>\n",
       "      <th>sibsp</th>\n",
       "      <th>parch</th>\n",
       "      <th>ticket</th>\n",
       "      <th>fare</th>\n",
       "      <th>embarked</th>\n",
       "      <th>boat</th>\n",
       "      <th>body</th>\n",
       "      <th>home.dest</th>\n",
       "    </tr>\n",
       "  </thead>\n",
       "  <tbody>\n",
       "    <tr>\n",
       "      <th>0</th>\n",
       "      <td>1</td>\n",
       "      <td>1</td>\n",
       "      <td>Allen, Miss. Elisabeth Walton</td>\n",
       "      <td>female</td>\n",
       "      <td>29.0000</td>\n",
       "      <td>0</td>\n",
       "      <td>0</td>\n",
       "      <td>24160</td>\n",
       "      <td>211.3375</td>\n",
       "      <td>S</td>\n",
       "      <td>2</td>\n",
       "      <td>NaN</td>\n",
       "      <td>St Louis, MO</td>\n",
       "    </tr>\n",
       "    <tr>\n",
       "      <th>1</th>\n",
       "      <td>1</td>\n",
       "      <td>1</td>\n",
       "      <td>Allison, Master. Hudson Trevor</td>\n",
       "      <td>male</td>\n",
       "      <td>0.9167</td>\n",
       "      <td>1</td>\n",
       "      <td>2</td>\n",
       "      <td>113781</td>\n",
       "      <td>151.5500</td>\n",
       "      <td>S</td>\n",
       "      <td>11</td>\n",
       "      <td>NaN</td>\n",
       "      <td>Montreal, PQ / Chesterville, ON</td>\n",
       "    </tr>\n",
       "    <tr>\n",
       "      <th>2</th>\n",
       "      <td>1</td>\n",
       "      <td>0</td>\n",
       "      <td>Allison, Miss. Helen Loraine</td>\n",
       "      <td>female</td>\n",
       "      <td>2.0000</td>\n",
       "      <td>1</td>\n",
       "      <td>2</td>\n",
       "      <td>113781</td>\n",
       "      <td>151.5500</td>\n",
       "      <td>S</td>\n",
       "      <td>NaN</td>\n",
       "      <td>NaN</td>\n",
       "      <td>Montreal, PQ / Chesterville, ON</td>\n",
       "    </tr>\n",
       "    <tr>\n",
       "      <th>3</th>\n",
       "      <td>1</td>\n",
       "      <td>0</td>\n",
       "      <td>Allison, Mr. Hudson Joshua Creighton</td>\n",
       "      <td>male</td>\n",
       "      <td>30.0000</td>\n",
       "      <td>1</td>\n",
       "      <td>2</td>\n",
       "      <td>113781</td>\n",
       "      <td>151.5500</td>\n",
       "      <td>S</td>\n",
       "      <td>NaN</td>\n",
       "      <td>135.0</td>\n",
       "      <td>Montreal, PQ / Chesterville, ON</td>\n",
       "    </tr>\n",
       "    <tr>\n",
       "      <th>4</th>\n",
       "      <td>1</td>\n",
       "      <td>0</td>\n",
       "      <td>Allison, Mrs. Hudson J C (Bessie Waldo Daniels)</td>\n",
       "      <td>female</td>\n",
       "      <td>25.0000</td>\n",
       "      <td>1</td>\n",
       "      <td>2</td>\n",
       "      <td>113781</td>\n",
       "      <td>151.5500</td>\n",
       "      <td>S</td>\n",
       "      <td>NaN</td>\n",
       "      <td>NaN</td>\n",
       "      <td>Montreal, PQ / Chesterville, ON</td>\n",
       "    </tr>\n",
       "  </tbody>\n",
       "</table>\n",
       "</div>"
      ],
      "text/plain": [
       "   pclass  survived                                             name     sex  \\\n",
       "0       1         1                    Allen, Miss. Elisabeth Walton  female   \n",
       "1       1         1                   Allison, Master. Hudson Trevor    male   \n",
       "2       1         0                     Allison, Miss. Helen Loraine  female   \n",
       "3       1         0             Allison, Mr. Hudson Joshua Creighton    male   \n",
       "4       1         0  Allison, Mrs. Hudson J C (Bessie Waldo Daniels)  female   \n",
       "\n",
       "       age  sibsp  parch  ticket      fare embarked boat   body  \\\n",
       "0  29.0000      0      0   24160  211.3375        S    2    NaN   \n",
       "1   0.9167      1      2  113781  151.5500        S   11    NaN   \n",
       "2   2.0000      1      2  113781  151.5500        S  NaN    NaN   \n",
       "3  30.0000      1      2  113781  151.5500        S  NaN  135.0   \n",
       "4  25.0000      1      2  113781  151.5500        S  NaN    NaN   \n",
       "\n",
       "                         home.dest  \n",
       "0                     St Louis, MO  \n",
       "1  Montreal, PQ / Chesterville, ON  \n",
       "2  Montreal, PQ / Chesterville, ON  \n",
       "3  Montreal, PQ / Chesterville, ON  \n",
       "4  Montreal, PQ / Chesterville, ON  "
      ]
     },
     "execution_count": 25,
     "metadata": {},
     "output_type": "execute_result"
    }
   ],
   "source": [
    "df2.head()"
   ]
  },
  {
   "cell_type": "code",
   "execution_count": 26,
   "metadata": {},
   "outputs": [
    {
     "data": {
      "text/plain": [
       "pclass          0\n",
       "survived        0\n",
       "name            0\n",
       "sex             0\n",
       "age             0\n",
       "sibsp           0\n",
       "parch           0\n",
       "ticket          0\n",
       "fare            1\n",
       "embarked        0\n",
       "boat          823\n",
       "body         1188\n",
       "home.dest     564\n",
       "dtype: int64"
      ]
     },
     "execution_count": 26,
     "metadata": {},
     "output_type": "execute_result"
    }
   ],
   "source": [
    "df2.isnull().sum()"
   ]
  },
  {
   "cell_type": "markdown",
   "metadata": {},
   "source": [
    "it seems there are still columns with missing values, so fix those. first drop all columns with high % of missing values:"
   ]
  },
  {
   "cell_type": "code",
   "execution_count": 27,
   "metadata": {},
   "outputs": [],
   "source": [
    "df2.drop('boat', axis=1, inplace=True)\n",
    "df2.drop('body', axis=1, inplace=True)\n",
    "df2.drop('home.dest', axis=1, inplace=True)"
   ]
  },
  {
   "cell_type": "markdown",
   "metadata": {},
   "source": [
    "which row has the missing value for fate?"
   ]
  },
  {
   "cell_type": "code",
   "execution_count": 28,
   "metadata": {},
   "outputs": [
    {
     "data": {
      "text/html": [
       "<div>\n",
       "<style scoped>\n",
       "    .dataframe tbody tr th:only-of-type {\n",
       "        vertical-align: middle;\n",
       "    }\n",
       "\n",
       "    .dataframe tbody tr th {\n",
       "        vertical-align: top;\n",
       "    }\n",
       "\n",
       "    .dataframe thead th {\n",
       "        text-align: right;\n",
       "    }\n",
       "</style>\n",
       "<table border=\"1\" class=\"dataframe\">\n",
       "  <thead>\n",
       "    <tr style=\"text-align: right;\">\n",
       "      <th></th>\n",
       "      <th>pclass</th>\n",
       "      <th>survived</th>\n",
       "      <th>name</th>\n",
       "      <th>sex</th>\n",
       "      <th>age</th>\n",
       "      <th>sibsp</th>\n",
       "      <th>parch</th>\n",
       "      <th>ticket</th>\n",
       "      <th>fare</th>\n",
       "      <th>embarked</th>\n",
       "    </tr>\n",
       "  </thead>\n",
       "  <tbody>\n",
       "    <tr>\n",
       "      <th>1225</th>\n",
       "      <td>3</td>\n",
       "      <td>0</td>\n",
       "      <td>Storey, Mr. Thomas</td>\n",
       "      <td>male</td>\n",
       "      <td>60.5</td>\n",
       "      <td>0</td>\n",
       "      <td>0</td>\n",
       "      <td>3701</td>\n",
       "      <td>NaN</td>\n",
       "      <td>S</td>\n",
       "    </tr>\n",
       "  </tbody>\n",
       "</table>\n",
       "</div>"
      ],
      "text/plain": [
       "      pclass  survived                name   sex   age  sibsp  parch ticket  \\\n",
       "1225       3         0  Storey, Mr. Thomas  male  60.5      0      0   3701   \n",
       "\n",
       "      fare embarked  \n",
       "1225   NaN        S  "
      ]
     },
     "execution_count": 28,
     "metadata": {},
     "output_type": "execute_result"
    }
   ],
   "source": [
    "df2[df2[\"fare\"].isnull()==True]"
   ]
  },
  {
   "cell_type": "code",
   "execution_count": 29,
   "metadata": {},
   "outputs": [
    {
     "data": {
      "text/plain": [
       "33.29547928134557"
      ]
     },
     "execution_count": 29,
     "metadata": {},
     "output_type": "execute_result"
    }
   ],
   "source": [
    "df2[\"fare\"].mean()"
   ]
  },
  {
   "cell_type": "code",
   "execution_count": 30,
   "metadata": {},
   "outputs": [
    {
     "data": {
      "text/plain": [
       "14.4542"
      ]
     },
     "execution_count": 30,
     "metadata": {},
     "output_type": "execute_result"
    }
   ],
   "source": [
    "df2[\"fare\"].median()"
   ]
  },
  {
   "cell_type": "code",
   "execution_count": 31,
   "metadata": {},
   "outputs": [],
   "source": [
    "df2[\"fare\"].fillna(df[\"fare\"].median(skipna=True), inplace=True)"
   ]
  },
  {
   "cell_type": "code",
   "execution_count": 32,
   "metadata": {},
   "outputs": [
    {
     "data": {
      "text/plain": [
       "pclass      0\n",
       "survived    0\n",
       "name        0\n",
       "sex         0\n",
       "age         0\n",
       "sibsp       0\n",
       "parch       0\n",
       "ticket      0\n",
       "fare        0\n",
       "embarked    0\n",
       "dtype: int64"
      ]
     },
     "execution_count": 32,
     "metadata": {},
     "output_type": "execute_result"
    }
   ],
   "source": [
    "df2.isnull().sum()"
   ]
  },
  {
   "cell_type": "code",
   "execution_count": 33,
   "metadata": {},
   "outputs": [
    {
     "data": {
      "text/plain": [
       "pclass                       3\n",
       "survived                     0\n",
       "name        Storey, Mr. Thomas\n",
       "sex                       male\n",
       "age                       60.5\n",
       "sibsp                        0\n",
       "parch                        0\n",
       "ticket                    3701\n",
       "fare                   14.4542\n",
       "embarked                     S\n",
       "Name: 1225, dtype: object"
      ]
     },
     "execution_count": 33,
     "metadata": {},
     "output_type": "execute_result"
    }
   ],
   "source": [
    "df2.iloc[1225]"
   ]
  },
  {
   "cell_type": "code",
   "execution_count": 34,
   "metadata": {},
   "outputs": [
    {
     "data": {
      "text/html": [
       "<div>\n",
       "<style scoped>\n",
       "    .dataframe tbody tr th:only-of-type {\n",
       "        vertical-align: middle;\n",
       "    }\n",
       "\n",
       "    .dataframe tbody tr th {\n",
       "        vertical-align: top;\n",
       "    }\n",
       "\n",
       "    .dataframe thead th {\n",
       "        text-align: right;\n",
       "    }\n",
       "</style>\n",
       "<table border=\"1\" class=\"dataframe\">\n",
       "  <thead>\n",
       "    <tr style=\"text-align: right;\">\n",
       "      <th></th>\n",
       "      <th>pclass</th>\n",
       "      <th>survived</th>\n",
       "      <th>name</th>\n",
       "      <th>sex</th>\n",
       "      <th>age</th>\n",
       "      <th>sibsp</th>\n",
       "      <th>parch</th>\n",
       "      <th>ticket</th>\n",
       "      <th>fare</th>\n",
       "      <th>embarked</th>\n",
       "    </tr>\n",
       "  </thead>\n",
       "  <tbody>\n",
       "    <tr>\n",
       "      <th>1225</th>\n",
       "      <td>3</td>\n",
       "      <td>0</td>\n",
       "      <td>Storey, Mr. Thomas</td>\n",
       "      <td>male</td>\n",
       "      <td>60.5</td>\n",
       "      <td>0</td>\n",
       "      <td>0</td>\n",
       "      <td>3701</td>\n",
       "      <td>14.4542</td>\n",
       "      <td>S</td>\n",
       "    </tr>\n",
       "  </tbody>\n",
       "</table>\n",
       "</div>"
      ],
      "text/plain": [
       "      pclass  survived                name   sex   age  sibsp  parch ticket  \\\n",
       "1225       3         0  Storey, Mr. Thomas  male  60.5      0      0   3701   \n",
       "\n",
       "         fare embarked  \n",
       "1225  14.4542        S  "
      ]
     },
     "execution_count": 34,
     "metadata": {},
     "output_type": "execute_result"
    }
   ],
   "source": [
    "df2[1225:1226]"
   ]
  },
  {
   "cell_type": "code",
   "execution_count": 35,
   "metadata": {},
   "outputs": [
    {
     "data": {
      "text/html": [
       "<div>\n",
       "<style scoped>\n",
       "    .dataframe tbody tr th:only-of-type {\n",
       "        vertical-align: middle;\n",
       "    }\n",
       "\n",
       "    .dataframe tbody tr th {\n",
       "        vertical-align: top;\n",
       "    }\n",
       "\n",
       "    .dataframe thead th {\n",
       "        text-align: right;\n",
       "    }\n",
       "</style>\n",
       "<table border=\"1\" class=\"dataframe\">\n",
       "  <thead>\n",
       "    <tr style=\"text-align: right;\">\n",
       "      <th></th>\n",
       "      <th>pclass</th>\n",
       "      <th>survived</th>\n",
       "      <th>age</th>\n",
       "      <th>sibsp</th>\n",
       "      <th>parch</th>\n",
       "      <th>fare</th>\n",
       "    </tr>\n",
       "  </thead>\n",
       "  <tbody>\n",
       "    <tr>\n",
       "      <th>count</th>\n",
       "      <td>1309.000000</td>\n",
       "      <td>1309.000000</td>\n",
       "      <td>1309.000000</td>\n",
       "      <td>1309.000000</td>\n",
       "      <td>1309.000000</td>\n",
       "      <td>1309.000000</td>\n",
       "    </tr>\n",
       "    <tr>\n",
       "      <th>mean</th>\n",
       "      <td>2.294882</td>\n",
       "      <td>0.381971</td>\n",
       "      <td>29.503183</td>\n",
       "      <td>0.498854</td>\n",
       "      <td>0.385027</td>\n",
       "      <td>33.281086</td>\n",
       "    </tr>\n",
       "    <tr>\n",
       "      <th>std</th>\n",
       "      <td>0.837836</td>\n",
       "      <td>0.486055</td>\n",
       "      <td>12.905246</td>\n",
       "      <td>1.041658</td>\n",
       "      <td>0.865560</td>\n",
       "      <td>51.741500</td>\n",
       "    </tr>\n",
       "    <tr>\n",
       "      <th>min</th>\n",
       "      <td>1.000000</td>\n",
       "      <td>0.000000</td>\n",
       "      <td>0.166700</td>\n",
       "      <td>0.000000</td>\n",
       "      <td>0.000000</td>\n",
       "      <td>0.000000</td>\n",
       "    </tr>\n",
       "    <tr>\n",
       "      <th>25%</th>\n",
       "      <td>2.000000</td>\n",
       "      <td>0.000000</td>\n",
       "      <td>22.000000</td>\n",
       "      <td>0.000000</td>\n",
       "      <td>0.000000</td>\n",
       "      <td>7.895800</td>\n",
       "    </tr>\n",
       "    <tr>\n",
       "      <th>50%</th>\n",
       "      <td>3.000000</td>\n",
       "      <td>0.000000</td>\n",
       "      <td>28.000000</td>\n",
       "      <td>0.000000</td>\n",
       "      <td>0.000000</td>\n",
       "      <td>14.454200</td>\n",
       "    </tr>\n",
       "    <tr>\n",
       "      <th>75%</th>\n",
       "      <td>3.000000</td>\n",
       "      <td>1.000000</td>\n",
       "      <td>35.000000</td>\n",
       "      <td>1.000000</td>\n",
       "      <td>0.000000</td>\n",
       "      <td>31.275000</td>\n",
       "    </tr>\n",
       "    <tr>\n",
       "      <th>max</th>\n",
       "      <td>3.000000</td>\n",
       "      <td>1.000000</td>\n",
       "      <td>80.000000</td>\n",
       "      <td>8.000000</td>\n",
       "      <td>9.000000</td>\n",
       "      <td>512.329200</td>\n",
       "    </tr>\n",
       "  </tbody>\n",
       "</table>\n",
       "</div>"
      ],
      "text/plain": [
       "            pclass     survived          age        sibsp        parch  \\\n",
       "count  1309.000000  1309.000000  1309.000000  1309.000000  1309.000000   \n",
       "mean      2.294882     0.381971    29.503183     0.498854     0.385027   \n",
       "std       0.837836     0.486055    12.905246     1.041658     0.865560   \n",
       "min       1.000000     0.000000     0.166700     0.000000     0.000000   \n",
       "25%       2.000000     0.000000    22.000000     0.000000     0.000000   \n",
       "50%       3.000000     0.000000    28.000000     0.000000     0.000000   \n",
       "75%       3.000000     1.000000    35.000000     1.000000     0.000000   \n",
       "max       3.000000     1.000000    80.000000     8.000000     9.000000   \n",
       "\n",
       "              fare  \n",
       "count  1309.000000  \n",
       "mean     33.281086  \n",
       "std      51.741500  \n",
       "min       0.000000  \n",
       "25%       7.895800  \n",
       "50%      14.454200  \n",
       "75%      31.275000  \n",
       "max     512.329200  "
      ]
     },
     "execution_count": 35,
     "metadata": {},
     "output_type": "execute_result"
    }
   ],
   "source": [
    "df2.describe()"
   ]
  },
  {
   "cell_type": "code",
   "execution_count": 36,
   "metadata": {},
   "outputs": [
    {
     "data": {
      "text/html": [
       "<div>\n",
       "<style scoped>\n",
       "    .dataframe tbody tr th:only-of-type {\n",
       "        vertical-align: middle;\n",
       "    }\n",
       "\n",
       "    .dataframe tbody tr th {\n",
       "        vertical-align: top;\n",
       "    }\n",
       "\n",
       "    .dataframe thead th {\n",
       "        text-align: right;\n",
       "    }\n",
       "</style>\n",
       "<table border=\"1\" class=\"dataframe\">\n",
       "  <thead>\n",
       "    <tr style=\"text-align: right;\">\n",
       "      <th></th>\n",
       "      <th>pclass</th>\n",
       "      <th>survived</th>\n",
       "      <th>name</th>\n",
       "      <th>sex</th>\n",
       "      <th>age</th>\n",
       "      <th>sibsp</th>\n",
       "      <th>parch</th>\n",
       "      <th>ticket</th>\n",
       "      <th>fare</th>\n",
       "      <th>embarked</th>\n",
       "    </tr>\n",
       "  </thead>\n",
       "  <tbody>\n",
       "    <tr>\n",
       "      <th>0</th>\n",
       "      <td>1</td>\n",
       "      <td>1</td>\n",
       "      <td>Allen, Miss. Elisabeth Walton</td>\n",
       "      <td>female</td>\n",
       "      <td>29.0000</td>\n",
       "      <td>0</td>\n",
       "      <td>0</td>\n",
       "      <td>24160</td>\n",
       "      <td>211.3375</td>\n",
       "      <td>S</td>\n",
       "    </tr>\n",
       "    <tr>\n",
       "      <th>1</th>\n",
       "      <td>1</td>\n",
       "      <td>1</td>\n",
       "      <td>Allison, Master. Hudson Trevor</td>\n",
       "      <td>male</td>\n",
       "      <td>0.9167</td>\n",
       "      <td>1</td>\n",
       "      <td>2</td>\n",
       "      <td>113781</td>\n",
       "      <td>151.5500</td>\n",
       "      <td>S</td>\n",
       "    </tr>\n",
       "    <tr>\n",
       "      <th>2</th>\n",
       "      <td>1</td>\n",
       "      <td>0</td>\n",
       "      <td>Allison, Miss. Helen Loraine</td>\n",
       "      <td>female</td>\n",
       "      <td>2.0000</td>\n",
       "      <td>1</td>\n",
       "      <td>2</td>\n",
       "      <td>113781</td>\n",
       "      <td>151.5500</td>\n",
       "      <td>S</td>\n",
       "    </tr>\n",
       "    <tr>\n",
       "      <th>3</th>\n",
       "      <td>1</td>\n",
       "      <td>0</td>\n",
       "      <td>Allison, Mr. Hudson Joshua Creighton</td>\n",
       "      <td>male</td>\n",
       "      <td>30.0000</td>\n",
       "      <td>1</td>\n",
       "      <td>2</td>\n",
       "      <td>113781</td>\n",
       "      <td>151.5500</td>\n",
       "      <td>S</td>\n",
       "    </tr>\n",
       "    <tr>\n",
       "      <th>4</th>\n",
       "      <td>1</td>\n",
       "      <td>0</td>\n",
       "      <td>Allison, Mrs. Hudson J C (Bessie Waldo Daniels)</td>\n",
       "      <td>female</td>\n",
       "      <td>25.0000</td>\n",
       "      <td>1</td>\n",
       "      <td>2</td>\n",
       "      <td>113781</td>\n",
       "      <td>151.5500</td>\n",
       "      <td>S</td>\n",
       "    </tr>\n",
       "  </tbody>\n",
       "</table>\n",
       "</div>"
      ],
      "text/plain": [
       "   pclass  survived                                             name     sex  \\\n",
       "0       1         1                    Allen, Miss. Elisabeth Walton  female   \n",
       "1       1         1                   Allison, Master. Hudson Trevor    male   \n",
       "2       1         0                     Allison, Miss. Helen Loraine  female   \n",
       "3       1         0             Allison, Mr. Hudson Joshua Creighton    male   \n",
       "4       1         0  Allison, Mrs. Hudson J C (Bessie Waldo Daniels)  female   \n",
       "\n",
       "       age  sibsp  parch  ticket      fare embarked  \n",
       "0  29.0000      0      0   24160  211.3375        S  \n",
       "1   0.9167      1      2  113781  151.5500        S  \n",
       "2   2.0000      1      2  113781  151.5500        S  \n",
       "3  30.0000      1      2  113781  151.5500        S  \n",
       "4  25.0000      1      2  113781  151.5500        S  "
      ]
     },
     "execution_count": 36,
     "metadata": {},
     "output_type": "execute_result"
    }
   ],
   "source": [
    "df2.head()"
   ]
  },
  {
   "cell_type": "markdown",
   "metadata": {},
   "source": [
    "drop name and ticket. in some notebooks for this dataset they dig the title out of the name column, but not here.\n",
    "also turn embarked and sex columns into numerical, one column for each categorical value in each."
   ]
  },
  {
   "cell_type": "code",
   "execution_count": 37,
   "metadata": {},
   "outputs": [],
   "source": [
    "df3=pd.get_dummies(df2, columns=[\"embarked\",\"sex\"])\n",
    "#0 or 1 for sex_male covers sex_female so can drop the other\n",
    "df3.drop('sex_female', axis=1, inplace=True)\n",
    "#name is not really a predictor. although some notebooks dig the title from there for additional info\n",
    "df3.drop('name', axis=1, inplace=True)\n",
    "#ticket has no real meaning here, so just dropping it\n",
    "df3.drop('ticket', axis=1, inplace=True)"
   ]
  },
  {
   "cell_type": "code",
   "execution_count": 38,
   "metadata": {},
   "outputs": [
    {
     "data": {
      "text/html": [
       "<div>\n",
       "<style scoped>\n",
       "    .dataframe tbody tr th:only-of-type {\n",
       "        vertical-align: middle;\n",
       "    }\n",
       "\n",
       "    .dataframe tbody tr th {\n",
       "        vertical-align: top;\n",
       "    }\n",
       "\n",
       "    .dataframe thead th {\n",
       "        text-align: right;\n",
       "    }\n",
       "</style>\n",
       "<table border=\"1\" class=\"dataframe\">\n",
       "  <thead>\n",
       "    <tr style=\"text-align: right;\">\n",
       "      <th></th>\n",
       "      <th>pclass</th>\n",
       "      <th>survived</th>\n",
       "      <th>age</th>\n",
       "      <th>sibsp</th>\n",
       "      <th>parch</th>\n",
       "      <th>fare</th>\n",
       "      <th>embarked_C</th>\n",
       "      <th>embarked_Q</th>\n",
       "      <th>embarked_S</th>\n",
       "      <th>sex_male</th>\n",
       "    </tr>\n",
       "  </thead>\n",
       "  <tbody>\n",
       "    <tr>\n",
       "      <th>0</th>\n",
       "      <td>1</td>\n",
       "      <td>1</td>\n",
       "      <td>29.0000</td>\n",
       "      <td>0</td>\n",
       "      <td>0</td>\n",
       "      <td>211.3375</td>\n",
       "      <td>0</td>\n",
       "      <td>0</td>\n",
       "      <td>1</td>\n",
       "      <td>0</td>\n",
       "    </tr>\n",
       "    <tr>\n",
       "      <th>1</th>\n",
       "      <td>1</td>\n",
       "      <td>1</td>\n",
       "      <td>0.9167</td>\n",
       "      <td>1</td>\n",
       "      <td>2</td>\n",
       "      <td>151.5500</td>\n",
       "      <td>0</td>\n",
       "      <td>0</td>\n",
       "      <td>1</td>\n",
       "      <td>1</td>\n",
       "    </tr>\n",
       "    <tr>\n",
       "      <th>2</th>\n",
       "      <td>1</td>\n",
       "      <td>0</td>\n",
       "      <td>2.0000</td>\n",
       "      <td>1</td>\n",
       "      <td>2</td>\n",
       "      <td>151.5500</td>\n",
       "      <td>0</td>\n",
       "      <td>0</td>\n",
       "      <td>1</td>\n",
       "      <td>0</td>\n",
       "    </tr>\n",
       "    <tr>\n",
       "      <th>3</th>\n",
       "      <td>1</td>\n",
       "      <td>0</td>\n",
       "      <td>30.0000</td>\n",
       "      <td>1</td>\n",
       "      <td>2</td>\n",
       "      <td>151.5500</td>\n",
       "      <td>0</td>\n",
       "      <td>0</td>\n",
       "      <td>1</td>\n",
       "      <td>1</td>\n",
       "    </tr>\n",
       "    <tr>\n",
       "      <th>4</th>\n",
       "      <td>1</td>\n",
       "      <td>0</td>\n",
       "      <td>25.0000</td>\n",
       "      <td>1</td>\n",
       "      <td>2</td>\n",
       "      <td>151.5500</td>\n",
       "      <td>0</td>\n",
       "      <td>0</td>\n",
       "      <td>1</td>\n",
       "      <td>0</td>\n",
       "    </tr>\n",
       "  </tbody>\n",
       "</table>\n",
       "</div>"
      ],
      "text/plain": [
       "   pclass  survived      age  sibsp  parch      fare  embarked_C  embarked_Q  \\\n",
       "0       1         1  29.0000      0      0  211.3375           0           0   \n",
       "1       1         1   0.9167      1      2  151.5500           0           0   \n",
       "2       1         0   2.0000      1      2  151.5500           0           0   \n",
       "3       1         0  30.0000      1      2  151.5500           0           0   \n",
       "4       1         0  25.0000      1      2  151.5500           0           0   \n",
       "\n",
       "   embarked_S  sex_male  \n",
       "0           1         0  \n",
       "1           1         1  \n",
       "2           1         0  \n",
       "3           1         1  \n",
       "4           1         0  "
      ]
     },
     "execution_count": 38,
     "metadata": {},
     "output_type": "execute_result"
    }
   ],
   "source": [
    "df3.head()"
   ]
  },
  {
   "cell_type": "code",
   "execution_count": 39,
   "metadata": {},
   "outputs": [],
   "source": [
    "target = df3[\"survived\"]"
   ]
  },
  {
   "cell_type": "code",
   "execution_count": 40,
   "metadata": {},
   "outputs": [],
   "source": [
    "features = df3[[\"pclass\", \"age\", \"sibsp\", \"parch\", \"fare\", \"embarked_C\", \"embarked_Q\", \"embarked_S\", \"sex_male\"]]"
   ]
  },
  {
   "cell_type": "code",
   "execution_count": 41,
   "metadata": {},
   "outputs": [],
   "source": [
    "from sklearn.model_selection import train_test_split, cross_val_score\n",
    "from sklearn.metrics import accuracy_score, classification_report, precision_score, recall_score \n",
    "from sklearn.metrics import confusion_matrix, precision_recall_curve, roc_curve, auc, log_loss"
   ]
  },
  {
   "cell_type": "markdown",
   "metadata": {},
   "source": [
    "calling features X and target y now, just because that seem to be the convention.."
   ]
  },
  {
   "cell_type": "code",
   "execution_count": 42,
   "metadata": {},
   "outputs": [],
   "source": [
    "X_train, X_test, y_train, y_test = train_test_split(features, target, test_size=0.2, random_state=2)"
   ]
  },
  {
   "cell_type": "code",
   "execution_count": 43,
   "metadata": {},
   "outputs": [
    {
     "data": {
      "text/plain": [
       "LogisticRegression(C=1.0, class_weight=None, dual=False, fit_intercept=True,\n",
       "          intercept_scaling=1, max_iter=100, multi_class='ovr', n_jobs=1,\n",
       "          penalty='l2', random_state=None, solver='liblinear', tol=0.0001,\n",
       "          verbose=0, warm_start=False)"
      ]
     },
     "execution_count": 43,
     "metadata": {},
     "output_type": "execute_result"
    }
   ],
   "source": [
    "from sklearn.linear_model import LogisticRegression\n",
    "logreg = LogisticRegression()\n",
    "logreg.fit(X_train, y_train)"
   ]
  },
  {
   "cell_type": "code",
   "execution_count": 44,
   "metadata": {},
   "outputs": [],
   "source": [
    "predictions = logreg.predict(X_test)\n",
    "predicted_probabilities = logreg.predict_proba(X_test)"
   ]
  },
  {
   "cell_type": "code",
   "execution_count": 45,
   "metadata": {},
   "outputs": [
    {
     "data": {
      "text/plain": [
       "(262, 2)"
      ]
     },
     "execution_count": 45,
     "metadata": {},
     "output_type": "execute_result"
    }
   ],
   "source": [
    "predicted_probabilities.shape"
   ]
  },
  {
   "cell_type": "code",
   "execution_count": 46,
   "metadata": {},
   "outputs": [
    {
     "data": {
      "text/plain": [
       "(262, 9)"
      ]
     },
     "execution_count": 46,
     "metadata": {},
     "output_type": "execute_result"
    }
   ],
   "source": [
    "X_test.shape"
   ]
  },
  {
   "cell_type": "code",
   "execution_count": 47,
   "metadata": {},
   "outputs": [],
   "source": [
    "#the predicted_probabilities has two numbers for each row of features, [probability of false, probability of true]\n",
    "#so this just takes the true probability for each for (false probability is 1-true)\n",
    "pred_probs = predicted_probabilities[:, 1]"
   ]
  },
  {
   "cell_type": "markdown",
   "metadata": {},
   "source": [
    "to see how AUC/ROC is calculated, i start with the sklearn implementation"
   ]
  },
  {
   "cell_type": "code",
   "execution_count": 48,
   "metadata": {},
   "outputs": [],
   "source": [
    "[fpr, tpr, thr] = roc_curve(y_test, pred_probs)"
   ]
  },
  {
   "cell_type": "code",
   "execution_count": 49,
   "metadata": {},
   "outputs": [],
   "source": [
    "idx = np.min(np.where(tpr > 0.95)) # index of the first threshold for which the sensibility > 0.95"
   ]
  },
  {
   "cell_type": "code",
   "execution_count": 50,
   "metadata": {},
   "outputs": [
    {
     "data": {
      "image/png": "[encoded data removed]",
      "text/plain": [
       "<Figure size 800x480 with 1 Axes>"
      ]
     },
     "metadata": {
      "needs_background": "light"
     },
     "output_type": "display_data"
    }
   ],
   "source": [
    "plt.figure(figsize=(10, 6), dpi=80)\n",
    "plt.plot(fpr, tpr, color='coral', label='ROC curve (area = %0.3f)' % auc(fpr, tpr))\n",
    "plt.plot([0, 1], [0, 1], 'k--')\n",
    "plt.plot([0,fpr[idx]], [tpr[idx],tpr[idx]], 'k--', color='blue')\n",
    "plt.plot([fpr[idx],fpr[idx]], [0,tpr[idx]], 'k--', color='blue')\n",
    "plt.xlim([0.0, 1.0])\n",
    "plt.ylim([0.0, 1.05])\n",
    "plt.xlabel('False Positive Rate (1 - specificity)', fontsize=14)\n",
    "plt.ylabel('True Positive Rate (recall)', fontsize=14)\n",
    "plt.title('Receiver operating characteristic (ROC) curve')\n",
    "plt.legend(loc=\"lower right\")\n",
    "plt.show()"
   ]
  },
  {
   "cell_type": "code",
   "execution_count": 51,
   "metadata": {},
   "outputs": [
    {
     "name": "stdout",
     "output_type": "stream",
     "text": [
      "Train/Test split results:\n",
      "LogisticRegression accuracy is 0.832\n",
      "LogisticRegression log_loss is 0.419\n",
      "LogisticRegression auc is 0.877\n"
     ]
    }
   ],
   "source": [
    "print('Train/Test split results:')\n",
    "print(logreg.__class__.__name__+\" accuracy is %2.3f\" % accuracy_score(y_test, predictions))\n",
    "print(logreg.__class__.__name__+\" log_loss is %2.3f\" % log_loss(y_test, pred_probs))\n",
    "print(logreg.__class__.__name__+\" auc is %2.3f\" % auc(fpr, tpr))"
   ]
  },
  {
   "cell_type": "markdown",
   "metadata": {},
   "source": [
    "obviously this is all based on the tpr (true positive rate) and fpr (false positive) values given by the sklearn roc funtion. lets see what those are"
   ]
  },
  {
   "cell_type": "code",
   "execution_count": 52,
   "metadata": {},
   "outputs": [
    {
     "data": {
      "text/plain": [
       "array([0.        , 0.        , 0.00571429, 0.00571429, 0.01142857,\n",
       "       0.01142857, 0.01714286, 0.01714286, 0.02285714, 0.02285714,\n",
       "       0.02857143, 0.02857143, 0.03428571, 0.03428571, 0.04      ,\n",
       "       0.04      , 0.04571429, 0.04571429, 0.05142857, 0.05142857,\n",
       "       0.05714286, 0.05714286, 0.06285714, 0.06285714, 0.07428571,\n",
       "       0.07428571, 0.07428571, 0.08      , 0.08      , 0.09142857,\n",
       "       0.09142857, 0.09714286, 0.09714286, 0.10857143, 0.10857143,\n",
       "       0.12      , 0.12      , 0.14857143, 0.14857143, 0.16      ,\n",
       "       0.16      , 0.17142857, 0.17142857, 0.17142857, 0.18857143,\n",
       "       0.18857143, 0.21142857, 0.21142857, 0.22285714, 0.22857143,\n",
       "       0.23428571, 0.23428571, 0.24      , 0.24      , 0.26285714,\n",
       "       0.28571429, 0.32571429, 0.33714286, 0.34857143, 0.34857143,\n",
       "       0.37714286, 0.37714286, 0.38285714, 0.38285714, 0.38857143,\n",
       "       0.38857143, 0.4       , 0.4       , 0.43428571, 0.45714286,\n",
       "       0.46857143, 0.62857143, 0.62857143, 0.63428571, 0.63428571,\n",
       "       0.64      , 0.64      , 0.64571429, 0.65714286, 0.66285714,\n",
       "       0.66285714, 0.68      , 0.69142857, 0.72      , 0.73142857,\n",
       "       0.73714286, 0.74857143, 0.79428571, 0.82285714, 0.82285714,\n",
       "       0.85142857, 0.86285714, 0.88      , 0.89142857, 1.        ])"
      ]
     },
     "execution_count": 52,
     "metadata": {},
     "output_type": "execute_result"
    }
   ],
   "source": [
    "fpr"
   ]
  },
  {
   "cell_type": "code",
   "execution_count": 53,
   "metadata": {},
   "outputs": [
    {
     "data": {
      "text/plain": [
       "(95,)"
      ]
     },
     "execution_count": 53,
     "metadata": {},
     "output_type": "execute_result"
    }
   ],
   "source": [
    "fpr.shape"
   ]
  },
  {
   "cell_type": "code",
   "execution_count": 54,
   "metadata": {},
   "outputs": [
    {
     "data": {
      "text/plain": [
       "(95,)"
      ]
     },
     "execution_count": 54,
     "metadata": {},
     "output_type": "execute_result"
    }
   ],
   "source": [
    "tpr.shape"
   ]
  },
  {
   "cell_type": "code",
   "execution_count": 55,
   "metadata": {},
   "outputs": [
    {
     "data": {
      "text/plain": [
       "array([[156,  19],\n",
       "       [ 25,  62]])"
      ]
     },
     "execution_count": 55,
     "metadata": {},
     "output_type": "execute_result"
    }
   ],
   "source": [
    "confusion_matrix(y_test, predictions)#, labels=[0, 1])\n",
    "#the labels parameter can be used to change the order or confusion matrix"
   ]
  },
  {
   "cell_type": "code",
   "execution_count": 56,
   "metadata": {},
   "outputs": [
    {
     "data": {
      "text/plain": [
       "0.7654320987654321"
      ]
     },
     "execution_count": 56,
     "metadata": {},
     "output_type": "execute_result"
    }
   ],
   "source": [
    "precision_score(y_test, predictions)"
   ]
  },
  {
   "cell_type": "code",
   "execution_count": 57,
   "metadata": {},
   "outputs": [
    {
     "data": {
      "text/plain": [
       "0.8320610687022901"
      ]
     },
     "execution_count": 57,
     "metadata": {},
     "output_type": "execute_result"
    }
   ],
   "source": [
    "accuracy_score(y_test, predictions)"
   ]
  },
  {
   "cell_type": "code",
   "execution_count": 58,
   "metadata": {},
   "outputs": [
    {
     "data": {
      "text/plain": [
       "262"
      ]
     },
     "execution_count": 58,
     "metadata": {},
     "output_type": "execute_result"
    }
   ],
   "source": [
    "y_test.count()"
   ]
  },
  {
   "cell_type": "code",
   "execution_count": 59,
   "metadata": {},
   "outputs": [
    {
     "data": {
      "text/plain": [
       "262"
      ]
     },
     "execution_count": 59,
     "metadata": {},
     "output_type": "execute_result"
    }
   ],
   "source": [
    "156+19+25+62 #just to check that the confusion matrix elements sum up to test target count"
   ]
  },
  {
   "cell_type": "markdown",
   "metadata": {},
   "source": [
    "now for trying to dissect what ROC/AUC actually is. first, i assume the logistic regression classifier gives a prediction of 1 when the probability is 0.5 or higher. let's see.."
   ]
  },
  {
   "cell_type": "code",
   "execution_count": 60,
   "metadata": {},
   "outputs": [],
   "source": [
    "#ss is my survivor-set\n",
    "ss1 = np.where(pred_probs >= 0.5)"
   ]
  },
  {
   "cell_type": "code",
   "execution_count": 61,
   "metadata": {},
   "outputs": [
    {
     "data": {
      "text/plain": [
       "(array([  0,   1,   3,   4,   8,  13,  16,  26,  27,  30,  32,  42,  43,\n",
       "         46,  49,  50,  57,  59,  66,  67,  76,  77,  79,  83,  84,  85,\n",
       "         86,  92,  93,  98, 101, 109, 111, 113, 117, 121, 122, 125, 129,\n",
       "        130, 133, 137, 140, 143, 145, 147, 148, 149, 150, 152, 158, 170,\n",
       "        175, 176, 177, 180, 182, 183, 184, 186, 201, 202, 204, 205, 206,\n",
       "        211, 213, 215, 218, 227, 230, 234, 240, 241, 242, 246, 248, 249,\n",
       "        250, 252, 256]),)"
      ]
     },
     "execution_count": 61,
     "metadata": {},
     "output_type": "execute_result"
    }
   ],
   "source": [
    "ss1"
   ]
  },
  {
   "cell_type": "markdown",
   "metadata": {},
   "source": [
    "so those must be the indices in the actual target test array for predicted true. so y_test[0], y_test[1], y_test[3], y_test[4], y_test[8], ... would be predicted to be true. that's what i think."
   ]
  },
  {
   "cell_type": "code",
   "execution_count": 62,
   "metadata": {},
   "outputs": [
    {
     "data": {
      "text/plain": [
       "81"
      ]
     },
     "execution_count": 62,
     "metadata": {},
     "output_type": "execute_result"
    }
   ],
   "source": [
    "len(ss1[0])"
   ]
  },
  {
   "cell_type": "markdown",
   "metadata": {},
   "source": [
    "so we have 81 predicted as survivors"
   ]
  },
  {
   "cell_type": "code",
   "execution_count": 63,
   "metadata": {},
   "outputs": [],
   "source": [
    "ss2 = np.where(pred_probs < 0.5)"
   ]
  },
  {
   "cell_type": "code",
   "execution_count": 64,
   "metadata": {},
   "outputs": [
    {
     "data": {
      "text/plain": [
       "181"
      ]
     },
     "execution_count": 64,
     "metadata": {},
     "output_type": "execute_result"
    }
   ],
   "source": [
    "len(ss2[0])"
   ]
  },
  {
   "cell_type": "markdown",
   "metadata": {},
   "source": [
    "and 181 predicted as fatalities"
   ]
  },
  {
   "cell_type": "code",
   "execution_count": 65,
   "metadata": {},
   "outputs": [
    {
     "data": {
      "text/plain": [
       "0    175\n",
       "1     87\n",
       "Name: survived, dtype: int64"
      ]
     },
     "execution_count": 65,
     "metadata": {},
     "output_type": "execute_result"
    }
   ],
   "source": [
    "y_test.value_counts()"
   ]
  },
  {
   "cell_type": "markdown",
   "metadata": {},
   "source": [
    "while the actual values are 175 died, 87 survived. which says nothing about how well the predictions matched the correct people, of course. it's just the amount that was predicted, they might all be wrong (or right). First, a count for how many true positives we got:"
   ]
  },
  {
   "cell_type": "code",
   "execution_count": 66,
   "metadata": {},
   "outputs": [
    {
     "name": "stdout",
     "output_type": "stream",
     "text": [
      "62\n"
     ]
    }
   ],
   "source": [
    "count = 0\n",
    "for i in ss1[0]:\n",
    "    if y_test.values[i] == 1:\n",
    "        count += 1\n",
    "print(count)"
   ]
  },
  {
   "cell_type": "code",
   "execution_count": 67,
   "metadata": {},
   "outputs": [
    {
     "data": {
      "text/plain": [
       "62"
      ]
     },
     "execution_count": 67,
     "metadata": {},
     "output_type": "execute_result"
    }
   ],
   "source": [
    "sum(y_test.values[i] for i in ss1[0])"
   ]
  },
  {
   "cell_type": "code",
   "execution_count": 68,
   "metadata": {},
   "outputs": [
    {
     "data": {
      "text/plain": [
       "(262,)"
      ]
     },
     "execution_count": 68,
     "metadata": {},
     "output_type": "execute_result"
    }
   ],
   "source": [
    "y_test.shape"
   ]
  },
  {
   "cell_type": "markdown",
   "metadata": {},
   "source": [
    "and how many true negatives?"
   ]
  },
  {
   "cell_type": "code",
   "execution_count": 69,
   "metadata": {},
   "outputs": [
    {
     "name": "stdout",
     "output_type": "stream",
     "text": [
      "156\n"
     ]
    }
   ],
   "source": [
    "count = 0\n",
    "for i in ss2[0]:\n",
    "    if y_test.values[i] == 0:\n",
    "        count += 1\n",
    "print(count)"
   ]
  },
  {
   "cell_type": "code",
   "execution_count": 70,
   "metadata": {},
   "outputs": [
    {
     "data": {
      "text/plain": [
       "156"
      ]
     },
     "execution_count": 70,
     "metadata": {},
     "output_type": "execute_result"
    }
   ],
   "source": [
    "sum(1 for i in ss2[0] if y_test.values[i] == 0)"
   ]
  },
  {
   "cell_type": "markdown",
   "metadata": {},
   "source": [
    "and what would be the accuracy if this is correct?"
   ]
  },
  {
   "cell_type": "code",
   "execution_count": 71,
   "metadata": {},
   "outputs": [
    {
     "data": {
      "text/plain": [
       "0.8320610687022901"
      ]
     },
     "execution_count": 71,
     "metadata": {},
     "output_type": "execute_result"
    }
   ],
   "source": [
    "(156+62)/262"
   ]
  },
  {
   "cell_type": "markdown",
   "metadata": {},
   "source": [
    "and its a perfect match (regarding the accuracy_score calculated above). at least the calculation of tpr and fpr for the 0.5 threshold is correct, with the assumption that the classifier is by default using the 0.5 threshold. now to try different thresholds and see if the ROC/AUC thinking i have matches that implemented in sklearn. after a lot of time spent messing with it, i skip to the working part..:"
   ]
  },
  {
   "cell_type": "code",
   "execution_count": 72,
   "metadata": {},
   "outputs": [
    {
     "name": "stdout",
     "output_type": "stream",
     "text": [
      "threshold=1, count_tp=87, count_fp=175\n",
      "threshold=2, count_tp=87, count_fp=174\n",
      "threshold=3, count_tp=87, count_fp=174\n",
      "threshold=4, count_tp=87, count_fp=173\n",
      "threshold=5, count_tp=87, count_fp=171\n",
      "threshold=6, count_tp=87, count_fp=169\n",
      "threshold=7, count_tp=87, count_fp=169\n",
      "threshold=8, count_tp=87, count_fp=167\n",
      "threshold=9, count_tp=87, count_fp=161\n",
      "threshold=10, count_tp=87, count_fp=157\n",
      "threshold=11, count_tp=87, count_fp=148\n",
      "threshold=12, count_tp=86, count_fp=138\n",
      "threshold=13, count_tp=86, count_fp=116\n",
      "threshold=14, count_tp=83, count_fp=111\n",
      "threshold=15, count_tp=81, count_fp=103\n",
      "threshold=16, count_tp=81, count_fp=91\n",
      "threshold=17, count_tp=81, count_fp=86\n",
      "threshold=18, count_tp=81, count_fp=84\n",
      "threshold=19, count_tp=81, count_fp=71\n",
      "threshold=20, count_tp=80, count_fp=69\n",
      "threshold=21, count_tp=79, count_fp=67\n",
      "threshold=22, count_tp=78, count_fp=66\n",
      "threshold=23, count_tp=76, count_fp=62\n",
      "threshold=24, count_tp=75, count_fp=59\n",
      "threshold=25, count_tp=75, count_fp=56\n",
      "threshold=26, count_tp=75, count_fp=55\n",
      "threshold=27, count_tp=75, count_fp=52\n",
      "threshold=28, count_tp=75, count_fp=46\n",
      "threshold=29, count_tp=75, count_fp=44\n",
      "threshold=30, count_tp=75, count_fp=43\n",
      "threshold=31, count_tp=74, count_fp=41\n",
      "threshold=32, count_tp=73, count_fp=40\n",
      "threshold=33, count_tp=72, count_fp=37\n",
      "threshold=34, count_tp=72, count_fp=37\n",
      "threshold=35, count_tp=70, count_fp=36\n",
      "threshold=36, count_tp=70, count_fp=36\n",
      "threshold=37, count_tp=70, count_fp=35\n",
      "threshold=38, count_tp=70, count_fp=34\n",
      "threshold=39, count_tp=70, count_fp=33\n",
      "threshold=40, count_tp=69, count_fp=33\n",
      "threshold=41, count_tp=69, count_fp=31\n",
      "threshold=42, count_tp=69, count_fp=31\n",
      "threshold=43, count_tp=66, count_fp=30\n",
      "threshold=44, count_tp=65, count_fp=28\n",
      "threshold=45, count_tp=63, count_fp=26\n",
      "threshold=46, count_tp=63, count_fp=24\n",
      "threshold=47, count_tp=63, count_fp=23\n",
      "threshold=48, count_tp=62, count_fp=21\n",
      "threshold=49, count_tp=62, count_fp=19\n",
      "threshold=50, count_tp=62, count_fp=19\n",
      "threshold=51, count_tp=61, count_fp=19\n",
      "threshold=52, count_tp=61, count_fp=17\n",
      "threshold=53, count_tp=60, count_fp=17\n",
      "threshold=54, count_tp=60, count_fp=17\n",
      "threshold=55, count_tp=59, count_fp=15\n",
      "threshold=56, count_tp=59, count_fp=15\n",
      "threshold=57, count_tp=58, count_fp=14\n",
      "threshold=58, count_tp=58, count_fp=13\n",
      "threshold=59, count_tp=54, count_fp=13\n",
      "threshold=60, count_tp=54, count_fp=12\n",
      "threshold=61, count_tp=53, count_fp=11\n",
      "threshold=62, count_tp=52, count_fp=10\n",
      "threshold=63, count_tp=52, count_fp=10\n",
      "threshold=64, count_tp=50, count_fp=9\n",
      "threshold=65, count_tp=46, count_fp=9\n",
      "threshold=66, count_tp=44, count_fp=8\n",
      "threshold=67, count_tp=42, count_fp=7\n",
      "threshold=68, count_tp=41, count_fp=7\n",
      "threshold=69, count_tp=41, count_fp=7\n",
      "threshold=70, count_tp=38, count_fp=7\n",
      "threshold=71, count_tp=35, count_fp=6\n",
      "threshold=72, count_tp=35, count_fp=5\n",
      "threshold=73, count_tp=34, count_fp=5\n",
      "threshold=74, count_tp=33, count_fp=5\n",
      "threshold=75, count_tp=33, count_fp=5\n",
      "threshold=76, count_tp=30, count_fp=4\n",
      "threshold=77, count_tp=28, count_fp=4\n",
      "threshold=78, count_tp=25, count_fp=4\n",
      "threshold=79, count_tp=25, count_fp=3\n",
      "threshold=80, count_tp=23, count_fp=3\n",
      "threshold=81, count_tp=22, count_fp=2\n",
      "threshold=82, count_tp=19, count_fp=2\n",
      "threshold=83, count_tp=19, count_fp=2\n",
      "threshold=84, count_tp=17, count_fp=2\n",
      "threshold=85, count_tp=14, count_fp=2\n",
      "threshold=86, count_tp=14, count_fp=2\n",
      "threshold=87, count_tp=13, count_fp=1\n",
      "threshold=88, count_tp=13, count_fp=1\n",
      "threshold=89, count_tp=12, count_fp=1\n",
      "threshold=90, count_tp=10, count_fp=1\n",
      "threshold=91, count_tp=7, count_fp=1\n",
      "threshold=92, count_tp=6, count_fp=1\n",
      "threshold=93, count_tp=6, count_fp=1\n",
      "threshold=94, count_tp=3, count_fp=1\n",
      "threshold=95, count_tp=1, count_fp=0\n",
      "threshold=96, count_tp=0, count_fp=0\n",
      "threshold=97, count_tp=0, count_fp=0\n",
      "threshold=98, count_tp=0, count_fp=0\n",
      "threshold=99, count_tp=0, count_fp=0\n"
     ]
    }
   ],
   "source": [
    "tpr2 = []\n",
    "fpr2 = []\n",
    "#do the calculations for range of 1-100 percent confidence, increments of 1\n",
    "for threshold in range(1, 100, 1):\n",
    "    ss = np.where(pred_probs >= (threshold/100))\n",
    "    count_tp = 0\n",
    "    count_fp = 0\n",
    "    for i in ss[0]:\n",
    "        if y_test.values[i] == 1:\n",
    "            count_tp += 1\n",
    "        else:\n",
    "            count_fp += 1\n",
    "    tpr2.append(count_tp/87.0)\n",
    "    fpr2.append(count_fp/175.0)\n",
    "    print(\"threshold=\"+str(threshold)+\", count_tp=\"+str(count_tp)+\", count_fp=\"+str(count_fp))"
   ]
  },
  {
   "cell_type": "code",
   "execution_count": 73,
   "metadata": {},
   "outputs": [
    {
     "data": {
      "image/png": "[encoded data removed]",
      "text/plain": [
       "<Figure size 800x480 with 1 Axes>"
      ]
     },
     "metadata": {
      "needs_background": "light"
     },
     "output_type": "display_data"
    }
   ],
   "source": [
    "plt.figure(figsize=(10, 6), dpi=80)\n",
    "plt.plot(fpr, tpr, color='coral', label='ROC curve (area = %0.3f)' % auc(fpr, tpr))\n",
    "plt.plot([0, 1], [0, 1], 'k--')\n",
    "plt.xlim([0.0, 1.0])\n",
    "plt.ylim([0.0, 1.05])\n",
    "plt.xlabel('False Positive Rate', fontsize=14)\n",
    "plt.ylabel('True Positive Rate', fontsize=14)\n",
    "plt.title('ROC test')\n",
    "plt.legend(loc=\"lower right\")\n",
    "plt.show()"
   ]
  },
  {
   "cell_type": "code",
   "execution_count": 74,
   "metadata": {},
   "outputs": [
    {
     "data": {
      "image/png": "[encoded data removed]",
      "text/plain": [
       "<Figure size 800x480 with 1 Axes>"
      ]
     },
     "metadata": {
      "needs_background": "light"
     },
     "output_type": "display_data"
    }
   ],
   "source": [
    "plt.figure(figsize=(10, 6), dpi=80)\n",
    "plt.plot(fpr2, tpr2, color='coral', label='ROC curve (area = %0.3f)' % auc(fpr2, tpr2))\n",
    "plt.plot([0, 1], [0, 1], 'k--')\n",
    "plt.xlim([0.0, 1.0])\n",
    "plt.ylim([0.0, 1.05])\n",
    "plt.xlabel('False Positive Rate', fontsize=14)\n",
    "plt.ylabel('True Positive Rate', fontsize=14)\n",
    "plt.title('ROC test')\n",
    "plt.legend(loc=\"lower right\")\n",
    "plt.show()"
   ]
  },
  {
   "cell_type": "markdown",
   "metadata": {},
   "source": [
    "And it is practically the same curve. So my ROC/AUC thinking is correct (so I assume..)."
   ]
  },
  {
   "cell_type": "code",
   "execution_count": 75,
   "metadata": {},
   "outputs": [
    {
     "data": {
      "image/png": "[encoded data removed]",
      "text/plain": [
       "<Figure size 800x480 with 1 Axes>"
      ]
     },
     "metadata": {
      "needs_background": "light"
     },
     "output_type": "display_data"
    }
   ],
   "source": [
    "plt.figure(figsize=(10, 6), dpi=80)\n",
    "plt.plot(fpr2, tpr2, color='coral', label='ROC curve (area = %0.3f)' % auc(fpr2, tpr2))\n",
    "plt.plot(fpr, tpr, color='blue', label='ROC curve (area = %0.3f)' % auc(fpr, tpr))\n",
    "plt.plot([0, 1], [0, 1], 'k--')\n",
    "plt.xlim([0.0, 1.0])\n",
    "plt.ylim([0.0, 1.05])\n",
    "plt.xlabel('False Positive Rate', fontsize=14)\n",
    "plt.ylabel('True Positive Rate', fontsize=14)\n",
    "plt.title('ROC test')\n",
    "plt.legend(loc=\"lower right\")\n",
    "plt.show()"
   ]
  },
  {
   "cell_type": "code",
   "execution_count": 76,
   "metadata": {},
   "outputs": [
    {
     "data": {
      "text/plain": [
       "(95,)"
      ]
     },
     "execution_count": 76,
     "metadata": {},
     "output_type": "execute_result"
    }
   ],
   "source": [
    "fpr.shape"
   ]
  },
  {
   "cell_type": "code",
   "execution_count": 77,
   "metadata": {},
   "outputs": [
    {
     "data": {
      "text/plain": [
       "99"
      ]
     },
     "execution_count": 77,
     "metadata": {},
     "output_type": "execute_result"
    }
   ],
   "source": [
    "len(fpr2)"
   ]
  },
  {
   "cell_type": "code",
   "execution_count": 78,
   "metadata": {},
   "outputs": [
    {
     "data": {
      "text/plain": [
       "array([0.        , 0.        , 0.00571429, 0.00571429, 0.01142857,\n",
       "       0.01142857, 0.01714286, 0.01714286, 0.02285714, 0.02285714,\n",
       "       0.02857143, 0.02857143, 0.03428571, 0.03428571, 0.04      ,\n",
       "       0.04      , 0.04571429, 0.04571429, 0.05142857, 0.05142857,\n",
       "       0.05714286, 0.05714286, 0.06285714, 0.06285714, 0.07428571,\n",
       "       0.07428571, 0.07428571, 0.08      , 0.08      , 0.09142857,\n",
       "       0.09142857, 0.09714286, 0.09714286, 0.10857143, 0.10857143,\n",
       "       0.12      , 0.12      , 0.14857143, 0.14857143, 0.16      ,\n",
       "       0.16      , 0.17142857, 0.17142857, 0.17142857, 0.18857143,\n",
       "       0.18857143, 0.21142857, 0.21142857, 0.22285714, 0.22857143,\n",
       "       0.23428571, 0.23428571, 0.24      , 0.24      , 0.26285714,\n",
       "       0.28571429, 0.32571429, 0.33714286, 0.34857143, 0.34857143,\n",
       "       0.37714286, 0.37714286, 0.38285714, 0.38285714, 0.38857143,\n",
       "       0.38857143, 0.4       , 0.4       , 0.43428571, 0.45714286,\n",
       "       0.46857143, 0.62857143, 0.62857143, 0.63428571, 0.63428571,\n",
       "       0.64      , 0.64      , 0.64571429, 0.65714286, 0.66285714,\n",
       "       0.66285714, 0.68      , 0.69142857, 0.72      , 0.73142857,\n",
       "       0.73714286, 0.74857143, 0.79428571, 0.82285714, 0.82285714,\n",
       "       0.85142857, 0.86285714, 0.88      , 0.89142857, 1.        ])"
      ]
     },
     "execution_count": 78,
     "metadata": {},
     "output_type": "execute_result"
    }
   ],
   "source": [
    "fpr"
   ]
  },
  {
   "cell_type": "code",
   "execution_count": 79,
   "metadata": {},
   "outputs": [
    {
     "data": {
      "text/plain": [
       "array([1.        , 0.99428571, 0.99428571, 0.98857143, 0.97714286,\n",
       "       0.96571429, 0.96571429, 0.95428571, 0.92      , 0.89714286,\n",
       "       0.84571429, 0.78857143, 0.66285714, 0.63428571, 0.58857143,\n",
       "       0.52      , 0.49142857, 0.48      , 0.40571429, 0.39428571,\n",
       "       0.38285714, 0.37714286, 0.35428571, 0.33714286, 0.32      ,\n",
       "       0.31428571, 0.29714286, 0.26285714, 0.25142857, 0.24571429,\n",
       "       0.23428571, 0.22857143, 0.21142857, 0.21142857, 0.20571429,\n",
       "       0.20571429, 0.2       , 0.19428571, 0.18857143, 0.18857143,\n",
       "       0.17714286, 0.17714286, 0.17142857, 0.16      , 0.14857143,\n",
       "       0.13714286, 0.13142857, 0.12      , 0.10857143, 0.10857143,\n",
       "       0.10857143, 0.09714286, 0.09714286, 0.09714286, 0.08571429,\n",
       "       0.08571429, 0.08      , 0.07428571, 0.07428571, 0.06857143,\n",
       "       0.06285714, 0.05714286, 0.05714286, 0.05142857, 0.05142857,\n",
       "       0.04571429, 0.04      , 0.04      , 0.04      , 0.04      ,\n",
       "       0.03428571, 0.02857143, 0.02857143, 0.02857143, 0.02857143,\n",
       "       0.02285714, 0.02285714, 0.02285714, 0.01714286, 0.01714286,\n",
       "       0.01142857, 0.01142857, 0.01142857, 0.01142857, 0.01142857,\n",
       "       0.01142857, 0.00571429, 0.00571429, 0.00571429, 0.00571429,\n",
       "       0.00571429, 0.00571429, 0.00571429, 0.00571429, 0.        ,\n",
       "       0.        , 0.        , 0.        , 0.        ])"
      ]
     },
     "execution_count": 79,
     "metadata": {},
     "output_type": "execute_result"
    }
   ],
   "source": [
    "np.array(fpr2)"
   ]
  },
  {
   "cell_type": "code",
   "execution_count": 80,
   "metadata": {},
   "outputs": [
    {
     "data": {
      "text/plain": [
       "array([0.95088415, 0.94523744, 0.94433151, 0.88735906, 0.86820046,\n",
       "       0.81286851, 0.80847662, 0.79241033, 0.78157711, 0.76377304,\n",
       "       0.75724659, 0.72956179, 0.71977863, 0.70401182, 0.70160521,\n",
       "       0.66863069, 0.66341944, 0.65174523, 0.65024897, 0.6342464 ,\n",
       "       0.63001635, 0.61868955, 0.61479088, 0.60172207, 0.59225844,\n",
       "       0.58177374, 0.58027421, 0.57885387, 0.56673186, 0.54986331,\n",
       "       0.54937079, 0.54882292, 0.52469167, 0.51584338, 0.50426613,\n",
       "       0.48014018, 0.47789982, 0.45232349, 0.44519259, 0.44203986,\n",
       "       0.43892674, 0.43378224, 0.42655293, 0.42502826, 0.40283515,\n",
       "       0.39572852, 0.34370988, 0.34049813, 0.32382773, 0.32099169,\n",
       "       0.31275499, 0.31017684, 0.30953277, 0.30348576, 0.28008661,\n",
       "       0.27736946, 0.24317994, 0.24314769, 0.23412169, 0.23370882,\n",
       "       0.22219555, 0.22039886, 0.21542313, 0.21186501, 0.20940184,\n",
       "       0.20734276, 0.19973878, 0.19716815, 0.18398295, 0.18369904,\n",
       "       0.18369725, 0.14078944, 0.14070302, 0.14070218, 0.13874243,\n",
       "       0.13799297, 0.13715783, 0.13399095, 0.13372175, 0.13345383,\n",
       "       0.13057344, 0.1279474 , 0.1275107 , 0.1270535 , 0.12700496,\n",
       "       0.12689617, 0.12680186, 0.11906236, 0.11834502, 0.11440003,\n",
       "       0.10933941, 0.10860771, 0.10552423, 0.10468277, 0.0165529 ])"
      ]
     },
     "execution_count": 80,
     "metadata": {},
     "output_type": "execute_result"
    }
   ],
   "source": [
    "thr"
   ]
  },
  {
   "cell_type": "code",
   "execution_count": 81,
   "metadata": {},
   "outputs": [
    {
     "name": "stdout",
     "output_type": "stream",
     "text": [
      "threshold=0.9508841467240285, count_tp=1, count_fp=0\n",
      "threshold=0.9452374376939974, count_tp=2, count_fp=0\n",
      "threshold=0.9443315095645517, count_tp=2, count_fp=1\n",
      "threshold=0.8873590574554404, count_tp=13, count_fp=1\n",
      "threshold=0.8682004631010788, count_tp=13, count_fp=2\n",
      "threshold=0.8128685146826908, count_tp=22, count_fp=2\n",
      "threshold=0.8084766240316275, count_tp=22, count_fp=3\n",
      "threshold=0.7924103297267957, count_tp=25, count_fp=3\n",
      "threshold=0.7815771071117605, count_tp=25, count_fp=4\n",
      "threshold=0.7637730372883772, count_tp=30, count_fp=4\n",
      "threshold=0.7572465932616407, count_tp=30, count_fp=5\n",
      "threshold=0.7295617936015513, count_tp=35, count_fp=5\n",
      "threshold=0.7197786309895081, count_tp=35, count_fp=6\n",
      "threshold=0.704011824361913, count_tp=38, count_fp=6\n",
      "threshold=0.701605213512046, count_tp=38, count_fp=7\n",
      "threshold=0.6686306867048628, count_tp=43, count_fp=7\n",
      "threshold=0.6634194377119741, count_tp=43, count_fp=8\n",
      "threshold=0.651745233831714, count_tp=46, count_fp=8\n",
      "threshold=0.6502489709095344, count_tp=46, count_fp=9\n",
      "threshold=0.6342464019774986, count_tp=52, count_fp=9\n",
      "threshold=0.6300163468361882, count_tp=52, count_fp=10\n",
      "threshold=0.6186895526474085, count_tp=53, count_fp=10\n",
      "threshold=0.6147908791071057, count_tp=53, count_fp=11\n",
      "threshold=0.6017220679887019, count_tp=54, count_fp=11\n",
      "threshold=0.5922584447936917, count_tp=54, count_fp=13\n",
      "threshold=0.5817737394188721, count_tp=56, count_fp=13\n",
      "threshold=0.5802742149381693, count_tp=58, count_fp=13\n",
      "threshold=0.5788538683111758, count_tp=58, count_fp=14\n",
      "threshold=0.5667318576914661, count_tp=59, count_fp=14\n",
      "threshold=0.549863313475955, count_tp=59, count_fp=16\n",
      "threshold=0.5493707899389861, count_tp=60, count_fp=16\n",
      "threshold=0.548822920002867, count_tp=60, count_fp=17\n",
      "threshold=0.5246916651561455, count_tp=61, count_fp=17\n",
      "threshold=0.5158433833082536, count_tp=61, count_fp=19\n",
      "threshold=0.5042661255726298, count_tp=62, count_fp=19\n",
      "threshold=0.4801401821434857, count_tp=62, count_fp=21\n",
      "threshold=0.4778998233729275, count_tp=63, count_fp=21\n",
      "threshold=0.4523234903829294, count_tp=63, count_fp=26\n",
      "threshold=0.4451925877470463, count_tp=65, count_fp=26\n",
      "threshold=0.4420398573728881, count_tp=65, count_fp=28\n",
      "threshold=0.43892674370043605, count_tp=66, count_fp=28\n",
      "threshold=0.43378223709014324, count_tp=66, count_fp=30\n",
      "threshold=0.42655292531785, count_tp=68, count_fp=30\n",
      "threshold=0.42502826296982343, count_tp=69, count_fp=30\n",
      "threshold=0.4028351538930082, count_tp=69, count_fp=33\n",
      "threshold=0.3957285234315382, count_tp=70, count_fp=33\n",
      "threshold=0.34370988272962943, count_tp=70, count_fp=37\n",
      "threshold=0.3404981339655996, count_tp=72, count_fp=37\n",
      "threshold=0.32382773289515737, count_tp=72, count_fp=39\n",
      "threshold=0.32099168974211695, count_tp=73, count_fp=40\n",
      "threshold=0.31275499336266316, count_tp=73, count_fp=41\n",
      "threshold=0.3101768381716155, count_tp=74, count_fp=41\n",
      "threshold=0.30953277348236147, count_tp=74, count_fp=42\n",
      "threshold=0.3034857559508898, count_tp=75, count_fp=42\n",
      "threshold=0.2800866103501009, count_tp=75, count_fp=46\n",
      "threshold=0.277369458508833, count_tp=75, count_fp=50\n",
      "threshold=0.2431799395402281, count_tp=75, count_fp=57\n",
      "threshold=0.2431476902294834, count_tp=75, count_fp=59\n",
      "threshold=0.23412169127617974, count_tp=75, count_fp=61\n",
      "threshold=0.23370881803735608, count_tp=76, count_fp=61\n",
      "threshold=0.22219554631514646, count_tp=76, count_fp=66\n",
      "threshold=0.2203988576985528, count_tp=78, count_fp=66\n",
      "threshold=0.21542312781679965, count_tp=78, count_fp=67\n",
      "threshold=0.21186500735956526, count_tp=79, count_fp=67\n",
      "threshold=0.20940183747643668, count_tp=79, count_fp=68\n",
      "threshold=0.2073427572834694, count_tp=80, count_fp=68\n",
      "threshold=0.1997387796834219, count_tp=80, count_fp=70\n",
      "threshold=0.19716814987412662, count_tp=81, count_fp=70\n",
      "threshold=0.1839829490574329, count_tp=81, count_fp=76\n",
      "threshold=0.1836990418950263, count_tp=81, count_fp=80\n",
      "threshold=0.1836972541778138, count_tp=81, count_fp=82\n",
      "threshold=0.1407894436556736, count_tp=81, count_fp=110\n",
      "threshold=0.14070302296109466, count_tp=82, count_fp=110\n",
      "threshold=0.14070218135770668, count_tp=82, count_fp=111\n",
      "threshold=0.13874242978850976, count_tp=84, count_fp=111\n",
      "threshold=0.1379929692787766, count_tp=84, count_fp=112\n",
      "threshold=0.1371578324519867, count_tp=85, count_fp=112\n",
      "threshold=0.13399095119596524, count_tp=85, count_fp=113\n",
      "threshold=0.13372175476523418, count_tp=85, count_fp=115\n",
      "threshold=0.13345383201175515, count_tp=85, count_fp=116\n",
      "threshold=0.13057344095001852, count_tp=86, count_fp=116\n",
      "threshold=0.12794740152637488, count_tp=86, count_fp=119\n",
      "threshold=0.12751069812960736, count_tp=86, count_fp=121\n",
      "threshold=0.1270535017523007, count_tp=86, count_fp=126\n",
      "threshold=0.12700496377027268, count_tp=86, count_fp=128\n",
      "threshold=0.1268961729075934, count_tp=86, count_fp=129\n",
      "threshold=0.12680185554372572, count_tp=86, count_fp=131\n",
      "threshold=0.11906236461645996, count_tp=86, count_fp=139\n",
      "threshold=0.11834501545018564, count_tp=86, count_fp=144\n",
      "threshold=0.11440002569420583, count_tp=87, count_fp=144\n",
      "threshold=0.10933941204497881, count_tp=87, count_fp=149\n",
      "threshold=0.10860771311684395, count_tp=87, count_fp=151\n",
      "threshold=0.10552423318141799, count_tp=87, count_fp=154\n",
      "threshold=0.10468276896505244, count_tp=87, count_fp=156\n",
      "threshold=0.01655289599771739, count_tp=87, count_fp=175\n"
     ]
    }
   ],
   "source": [
    "tpr3 = []\n",
    "fpr3 = []\n",
    "#do the calculations for sklearn thresholds\n",
    "for threshold in thr:\n",
    "    ss = np.where(pred_probs >= threshold)\n",
    "    count_tp = 0\n",
    "    count_fp = 0\n",
    "    for i in ss[0]:\n",
    "        if y_test.values[i] == 1:\n",
    "            count_tp += 1\n",
    "        else:\n",
    "            count_fp += 1\n",
    "    tpr3.append(count_tp/87.0)\n",
    "    fpr3.append(count_fp/175.0)\n",
    "    print(\"threshold=\"+str(threshold)+\", count_tp=\"+str(count_tp)+\", count_fp=\"+str(count_fp))"
   ]
  },
  {
   "cell_type": "code",
   "execution_count": 82,
   "metadata": {},
   "outputs": [
    {
     "data": {
      "image/png": "[encoded data removed]",
      "text/plain": [
       "<Figure size 800x480 with 1 Axes>"
      ]
     },
     "metadata": {
      "needs_background": "light"
     },
     "output_type": "display_data"
    }
   ],
   "source": [
    "plt.figure(figsize=(10, 6), dpi=80)\n",
    "plt.plot(fpr3, tpr3, color='coral', label='ROC curve (area = %0.3f)' % auc(fpr3, tpr3))\n",
    "plt.plot([0, 1], [0, 1], 'k--')\n",
    "plt.xlim([0.0, 1.0])\n",
    "plt.ylim([0.0, 1.05])\n",
    "plt.xlabel('False Positive Rate', fontsize=14)\n",
    "plt.ylabel('True Positive Rate', fontsize=14)\n",
    "plt.title('ROC test')\n",
    "plt.legend(loc=\"lower right\")\n",
    "plt.show()"
   ]
  },
  {
   "cell_type": "code",
   "execution_count": 83,
   "metadata": {},
   "outputs": [
    {
     "data": {
      "image/png": "[encoded data removed]",
      "text/plain": [
       "<Figure size 800x480 with 1 Axes>"
      ]
     },
     "metadata": {
      "needs_background": "light"
     },
     "output_type": "display_data"
    }
   ],
   "source": [
    "plt.figure(figsize=(10, 6), dpi=80)\n",
    "plt.plot(fpr3, tpr3, color='coral', label='ROC curve (area = %0.3f)' % auc(fpr3, tpr3))\n",
    "plt.plot(fpr, tpr, color='blue', label='ROC curve (area = %0.3f)' % auc(fpr3, tpr3))\n",
    "plt.plot([0, 1], [0, 1], 'k--')\n",
    "plt.xlim([0.0, 1.0])\n",
    "plt.ylim([0.0, 1.05])\n",
    "plt.xlabel('False Positive Rate', fontsize=14)\n",
    "plt.ylabel('True Positive Rate', fontsize=14)\n",
    "plt.title('ROC test')\n",
    "plt.legend(loc=\"lower right\")\n",
    "plt.show()"
   ]
  },
  {
   "cell_type": "code",
   "execution_count": 84,
   "metadata": {},
   "outputs": [
    {
     "name": "stdout",
     "output_type": "stream",
     "text": [
      "threshold=0.9508841467240285, tp=1, fp=0 , tf=175 , acc=0.6717557251908397\n",
      "threshold=0.9452374376939974, tp=2, fp=0 , tf=175 , acc=0.6755725190839694\n",
      "threshold=0.9443315095645517, tp=2, fp=1 , tf=174 , acc=0.6717557251908397\n",
      "threshold=0.8873590574554404, tp=13, fp=1 , tf=174 , acc=0.7137404580152672\n",
      "threshold=0.8682004631010788, tp=13, fp=2 , tf=173 , acc=0.7099236641221374\n",
      "threshold=0.8128685146826908, tp=22, fp=2 , tf=173 , acc=0.7442748091603053\n",
      "threshold=0.8084766240316275, tp=22, fp=3 , tf=172 , acc=0.7404580152671756\n",
      "threshold=0.7924103297267957, tp=25, fp=3 , tf=172 , acc=0.7519083969465649\n",
      "threshold=0.7815771071117605, tp=25, fp=4 , tf=171 , acc=0.7480916030534351\n",
      "threshold=0.7637730372883772, tp=30, fp=4 , tf=171 , acc=0.767175572519084\n",
      "threshold=0.7572465932616407, tp=30, fp=5 , tf=170 , acc=0.7633587786259542\n",
      "threshold=0.7295617936015513, tp=35, fp=5 , tf=170 , acc=0.7824427480916031\n",
      "threshold=0.7197786309895081, tp=35, fp=6 , tf=169 , acc=0.7786259541984732\n",
      "threshold=0.704011824361913, tp=38, fp=6 , tf=169 , acc=0.7900763358778626\n",
      "threshold=0.701605213512046, tp=38, fp=7 , tf=168 , acc=0.7862595419847328\n",
      "threshold=0.6686306867048628, tp=43, fp=7 , tf=168 , acc=0.8053435114503816\n",
      "threshold=0.6634194377119741, tp=43, fp=8 , tf=167 , acc=0.8015267175572519\n",
      "threshold=0.651745233831714, tp=46, fp=8 , tf=167 , acc=0.8129770992366412\n",
      "threshold=0.6502489709095344, tp=46, fp=9 , tf=166 , acc=0.8091603053435115\n",
      "threshold=0.6342464019774986, tp=52, fp=9 , tf=166 , acc=0.8320610687022901\n",
      "threshold=0.6300163468361882, tp=52, fp=10 , tf=165 , acc=0.8282442748091603\n",
      "threshold=0.6186895526474085, tp=53, fp=10 , tf=165 , acc=0.8320610687022901\n",
      "threshold=0.6147908791071057, tp=53, fp=11 , tf=164 , acc=0.8282442748091603\n",
      "threshold=0.6017220679887019, tp=54, fp=11 , tf=164 , acc=0.8320610687022901\n",
      "threshold=0.5922584447936917, tp=54, fp=13 , tf=162 , acc=0.8244274809160306\n",
      "threshold=0.5817737394188721, tp=56, fp=13 , tf=162 , acc=0.8320610687022901\n",
      "threshold=0.5802742149381693, tp=58, fp=13 , tf=162 , acc=0.8396946564885496\n",
      "threshold=0.5788538683111758, tp=58, fp=14 , tf=161 , acc=0.8358778625954199\n",
      "threshold=0.5667318576914661, tp=59, fp=14 , tf=161 , acc=0.8396946564885496\n",
      "threshold=0.549863313475955, tp=59, fp=16 , tf=159 , acc=0.8320610687022901\n",
      "threshold=0.5493707899389861, tp=60, fp=16 , tf=159 , acc=0.8358778625954199\n",
      "threshold=0.548822920002867, tp=60, fp=17 , tf=158 , acc=0.8320610687022901\n",
      "threshold=0.5246916651561455, tp=61, fp=17 , tf=158 , acc=0.8358778625954199\n",
      "threshold=0.5158433833082536, tp=61, fp=19 , tf=156 , acc=0.8282442748091603\n",
      "threshold=0.5042661255726298, tp=62, fp=19 , tf=156 , acc=0.8320610687022901\n",
      "threshold=0.4801401821434857, tp=62, fp=21 , tf=154 , acc=0.8244274809160306\n",
      "threshold=0.4778998233729275, tp=63, fp=21 , tf=154 , acc=0.8282442748091603\n",
      "threshold=0.4523234903829294, tp=63, fp=26 , tf=149 , acc=0.8091603053435115\n",
      "threshold=0.4451925877470463, tp=65, fp=26 , tf=149 , acc=0.816793893129771\n",
      "threshold=0.4420398573728881, tp=65, fp=28 , tf=147 , acc=0.8091603053435115\n",
      "threshold=0.43892674370043605, tp=66, fp=28 , tf=147 , acc=0.8129770992366412\n",
      "threshold=0.43378223709014324, tp=66, fp=30 , tf=145 , acc=0.8053435114503816\n",
      "threshold=0.42655292531785, tp=68, fp=30 , tf=145 , acc=0.8129770992366412\n",
      "threshold=0.42502826296982343, tp=69, fp=30 , tf=145 , acc=0.816793893129771\n",
      "threshold=0.4028351538930082, tp=69, fp=33 , tf=142 , acc=0.8053435114503816\n",
      "threshold=0.3957285234315382, tp=70, fp=33 , tf=142 , acc=0.8091603053435115\n",
      "threshold=0.34370988272962943, tp=70, fp=37 , tf=138 , acc=0.7938931297709924\n",
      "threshold=0.3404981339655996, tp=72, fp=37 , tf=138 , acc=0.8015267175572519\n",
      "threshold=0.32382773289515737, tp=72, fp=39 , tf=136 , acc=0.7938931297709924\n",
      "threshold=0.32099168974211695, tp=73, fp=40 , tf=135 , acc=0.7938931297709924\n",
      "threshold=0.31275499336266316, tp=73, fp=41 , tf=134 , acc=0.7900763358778626\n",
      "threshold=0.3101768381716155, tp=74, fp=41 , tf=134 , acc=0.7938931297709924\n",
      "threshold=0.30953277348236147, tp=74, fp=42 , tf=133 , acc=0.7900763358778626\n",
      "threshold=0.3034857559508898, tp=75, fp=42 , tf=133 , acc=0.7938931297709924\n",
      "threshold=0.2800866103501009, tp=75, fp=46 , tf=129 , acc=0.7786259541984732\n",
      "threshold=0.277369458508833, tp=75, fp=50 , tf=125 , acc=0.7633587786259542\n",
      "threshold=0.2431799395402281, tp=75, fp=57 , tf=118 , acc=0.7366412213740458\n",
      "threshold=0.2431476902294834, tp=75, fp=59 , tf=116 , acc=0.7290076335877863\n",
      "threshold=0.23412169127617974, tp=75, fp=61 , tf=114 , acc=0.7213740458015268\n",
      "threshold=0.23370881803735608, tp=76, fp=61 , tf=114 , acc=0.7251908396946565\n",
      "threshold=0.22219554631514646, tp=76, fp=66 , tf=109 , acc=0.7061068702290076\n",
      "threshold=0.2203988576985528, tp=78, fp=66 , tf=109 , acc=0.7137404580152672\n",
      "threshold=0.21542312781679965, tp=78, fp=67 , tf=108 , acc=0.7099236641221374\n",
      "threshold=0.21186500735956526, tp=79, fp=67 , tf=108 , acc=0.7137404580152672\n",
      "threshold=0.20940183747643668, tp=79, fp=68 , tf=107 , acc=0.7099236641221374\n",
      "threshold=0.2073427572834694, tp=80, fp=68 , tf=107 , acc=0.7137404580152672\n",
      "threshold=0.1997387796834219, tp=80, fp=70 , tf=105 , acc=0.7061068702290076\n",
      "threshold=0.19716814987412662, tp=81, fp=70 , tf=105 , acc=0.7099236641221374\n",
      "threshold=0.1839829490574329, tp=81, fp=76 , tf=99 , acc=0.6870229007633588\n",
      "threshold=0.1836990418950263, tp=81, fp=80 , tf=95 , acc=0.6717557251908397\n",
      "threshold=0.1836972541778138, tp=81, fp=82 , tf=93 , acc=0.6641221374045801\n",
      "threshold=0.1407894436556736, tp=81, fp=110 , tf=65 , acc=0.5572519083969466\n",
      "threshold=0.14070302296109466, tp=82, fp=110 , tf=65 , acc=0.5610687022900763\n",
      "threshold=0.14070218135770668, tp=82, fp=111 , tf=64 , acc=0.5572519083969466\n",
      "threshold=0.13874242978850976, tp=84, fp=111 , tf=64 , acc=0.5648854961832062\n",
      "threshold=0.1379929692787766, tp=84, fp=112 , tf=63 , acc=0.5610687022900763\n",
      "threshold=0.1371578324519867, tp=85, fp=112 , tf=63 , acc=0.5648854961832062\n",
      "threshold=0.13399095119596524, tp=85, fp=113 , tf=62 , acc=0.5610687022900763\n",
      "threshold=0.13372175476523418, tp=85, fp=115 , tf=60 , acc=0.5534351145038168\n",
      "threshold=0.13345383201175515, tp=85, fp=116 , tf=59 , acc=0.549618320610687\n",
      "threshold=0.13057344095001852, tp=86, fp=116 , tf=59 , acc=0.5534351145038168\n",
      "threshold=0.12794740152637488, tp=86, fp=119 , tf=56 , acc=0.5419847328244275\n",
      "threshold=0.12751069812960736, tp=86, fp=121 , tf=54 , acc=0.5343511450381679\n",
      "threshold=0.1270535017523007, tp=86, fp=126 , tf=49 , acc=0.5152671755725191\n",
      "threshold=0.12700496377027268, tp=86, fp=128 , tf=47 , acc=0.5076335877862596\n",
      "threshold=0.1268961729075934, tp=86, fp=129 , tf=46 , acc=0.5038167938931297\n",
      "threshold=0.12680185554372572, tp=86, fp=131 , tf=44 , acc=0.4961832061068702\n",
      "threshold=0.11906236461645996, tp=86, fp=139 , tf=36 , acc=0.46564885496183206\n",
      "threshold=0.11834501545018564, tp=86, fp=144 , tf=31 , acc=0.44656488549618323\n",
      "threshold=0.11440002569420583, tp=87, fp=144 , tf=31 , acc=0.45038167938931295\n",
      "threshold=0.10933941204497881, tp=87, fp=149 , tf=26 , acc=0.4312977099236641\n",
      "threshold=0.10860771311684395, tp=87, fp=151 , tf=24 , acc=0.42366412213740456\n",
      "threshold=0.10552423318141799, tp=87, fp=154 , tf=21 , acc=0.4122137404580153\n",
      "threshold=0.10468276896505244, tp=87, fp=156 , tf=19 , acc=0.40458015267175573\n",
      "threshold=0.01655289599771739, tp=87, fp=175 , tf=0 , acc=0.3320610687022901\n"
     ]
    }
   ],
   "source": [
    "tpr3 = []\n",
    "fpr3 = []\n",
    "accuracies = []\n",
    "accs_ths = []\n",
    "\n",
    "#do the calculations for sklearn thresholds\n",
    "for threshold in thr:\n",
    "    ss = np.where(pred_probs >= threshold)\n",
    "    count_tp = sum(y_test.values[i] for i in ss[0])\n",
    "    count_fp = len(ss[0]) - count_tp\n",
    "    my_tpr = count_tp/87.0\n",
    "    my_fpr = count_fp/175.0\n",
    "\n",
    "    ssf = np.where(pred_probs < threshold)\n",
    "    count_tf = sum(1 for i in ssf[0] if y_test.values[i] == 0)\n",
    "    \n",
    "    tpr3.append(my_tpr)\n",
    "    fpr3.append(my_fpr)\n",
    "    acc = (count_tp+count_tf)/y_test.count()\n",
    "    accuracies.append(acc)\n",
    "    accs_ths.append((acc, threshold, count_tp, count_tf, count_tp+count_tf))\n",
    "    print(\"threshold=\"+str(threshold)+\", tp=\"+str(count_tp)+\", fp=\"+str(count_fp), \", tf=\"+str(count_tf), \", acc=\"+str(acc))"
   ]
  },
  {
   "cell_type": "code",
   "execution_count": 85,
   "metadata": {},
   "outputs": [
    {
     "data": {
      "text/plain": [
       "262"
      ]
     },
     "execution_count": 85,
     "metadata": {},
     "output_type": "execute_result"
    }
   ],
   "source": [
    "y_test.count()"
   ]
  },
  {
   "cell_type": "code",
   "execution_count": 86,
   "metadata": {},
   "outputs": [
    {
     "data": {
      "image/png": "[encoded data removed]",
      "text/plain": [
       "<Figure size 800x480 with 1 Axes>"
      ]
     },
     "metadata": {
      "needs_background": "light"
     },
     "output_type": "display_data"
    }
   ],
   "source": [
    "plt.figure(figsize=(10, 6), dpi=80)\n",
    "plt.plot(fpr3, tpr3, color='blue', label='ROC curve (area = %0.3f)' % auc(fpr3, tpr3))\n",
    "plt.plot(fpr3, accuracies, color='coral', label='Accuracy')\n",
    "plt.plot([0, 1], [0, 1], 'k--')\n",
    "plt.xlim([0.0, 1.0])\n",
    "plt.ylim([0.0, 1.05])\n",
    "plt.xlabel('False Positive Rate', fontsize=14)\n",
    "plt.ylabel('True Positive Rate/Accuracy', fontsize=14)\n",
    "plt.title('ROC test')\n",
    "plt.legend(loc=\"lower right\")\n",
    "plt.show()"
   ]
  },
  {
   "cell_type": "code",
   "execution_count": 87,
   "metadata": {},
   "outputs": [
    {
     "data": {
      "text/plain": [
       "[(0.8396946564885496, 0.5802742149381693, 58, 162, 220),\n",
       " (0.8396946564885496, 0.5667318576914661, 59, 161, 220),\n",
       " (0.8358778625954199, 0.5788538683111758, 58, 161, 219),\n",
       " (0.8358778625954199, 0.5493707899389861, 60, 159, 219),\n",
       " (0.8358778625954199, 0.5246916651561455, 61, 158, 219),\n",
       " (0.8320610687022901, 0.6342464019774986, 52, 166, 218),\n",
       " (0.8320610687022901, 0.6186895526474085, 53, 165, 218),\n",
       " (0.8320610687022901, 0.6017220679887019, 54, 164, 218),\n",
       " (0.8320610687022901, 0.5817737394188721, 56, 162, 218),\n",
       " (0.8320610687022901, 0.549863313475955, 59, 159, 218),\n",
       " (0.8320610687022901, 0.548822920002867, 60, 158, 218),\n",
       " (0.8320610687022901, 0.5042661255726298, 62, 156, 218),\n",
       " (0.8282442748091603, 0.6300163468361882, 52, 165, 217),\n",
       " (0.8282442748091603, 0.6147908791071057, 53, 164, 217),\n",
       " (0.8282442748091603, 0.5158433833082536, 61, 156, 217),\n",
       " (0.8282442748091603, 0.4778998233729275, 63, 154, 217),\n",
       " (0.8244274809160306, 0.5922584447936917, 54, 162, 216),\n",
       " (0.8244274809160306, 0.4801401821434857, 62, 154, 216),\n",
       " (0.816793893129771, 0.4451925877470463, 65, 149, 214),\n",
       " (0.816793893129771, 0.42502826296982343, 69, 145, 214),\n",
       " (0.8129770992366412, 0.651745233831714, 46, 167, 213),\n",
       " (0.8129770992366412, 0.43892674370043605, 66, 147, 213),\n",
       " (0.8129770992366412, 0.42655292531785, 68, 145, 213),\n",
       " (0.8091603053435115, 0.6502489709095344, 46, 166, 212),\n",
       " (0.8091603053435115, 0.4523234903829294, 63, 149, 212),\n",
       " (0.8091603053435115, 0.4420398573728881, 65, 147, 212),\n",
       " (0.8091603053435115, 0.3957285234315382, 70, 142, 212),\n",
       " (0.8053435114503816, 0.6686306867048628, 43, 168, 211),\n",
       " (0.8053435114503816, 0.43378223709014324, 66, 145, 211),\n",
       " (0.8053435114503816, 0.4028351538930082, 69, 142, 211),\n",
       " (0.8015267175572519, 0.6634194377119741, 43, 167, 210),\n",
       " (0.8015267175572519, 0.3404981339655996, 72, 138, 210),\n",
       " (0.7938931297709924, 0.34370988272962943, 70, 138, 208),\n",
       " (0.7938931297709924, 0.32382773289515737, 72, 136, 208),\n",
       " (0.7938931297709924, 0.32099168974211695, 73, 135, 208),\n",
       " (0.7938931297709924, 0.3101768381716155, 74, 134, 208),\n",
       " (0.7938931297709924, 0.3034857559508898, 75, 133, 208),\n",
       " (0.7900763358778626, 0.704011824361913, 38, 169, 207),\n",
       " (0.7900763358778626, 0.31275499336266316, 73, 134, 207),\n",
       " (0.7900763358778626, 0.30953277348236147, 74, 133, 207),\n",
       " (0.7862595419847328, 0.701605213512046, 38, 168, 206),\n",
       " (0.7824427480916031, 0.7295617936015513, 35, 170, 205),\n",
       " (0.7786259541984732, 0.7197786309895081, 35, 169, 204),\n",
       " (0.7786259541984732, 0.2800866103501009, 75, 129, 204),\n",
       " (0.767175572519084, 0.7637730372883772, 30, 171, 201),\n",
       " (0.7633587786259542, 0.7572465932616407, 30, 170, 200),\n",
       " (0.7633587786259542, 0.277369458508833, 75, 125, 200),\n",
       " (0.7519083969465649, 0.7924103297267957, 25, 172, 197),\n",
       " (0.7480916030534351, 0.7815771071117605, 25, 171, 196),\n",
       " (0.7442748091603053, 0.8128685146826908, 22, 173, 195),\n",
       " (0.7404580152671756, 0.8084766240316275, 22, 172, 194),\n",
       " (0.7366412213740458, 0.2431799395402281, 75, 118, 193),\n",
       " (0.7290076335877863, 0.2431476902294834, 75, 116, 191),\n",
       " (0.7251908396946565, 0.23370881803735608, 76, 114, 190),\n",
       " (0.7213740458015268, 0.23412169127617974, 75, 114, 189),\n",
       " (0.7137404580152672, 0.8873590574554404, 13, 174, 187),\n",
       " (0.7137404580152672, 0.2203988576985528, 78, 109, 187),\n",
       " (0.7137404580152672, 0.21186500735956526, 79, 108, 187),\n",
       " (0.7137404580152672, 0.2073427572834694, 80, 107, 187),\n",
       " (0.7099236641221374, 0.8682004631010788, 13, 173, 186),\n",
       " (0.7099236641221374, 0.21542312781679965, 78, 108, 186),\n",
       " (0.7099236641221374, 0.20940183747643668, 79, 107, 186),\n",
       " (0.7099236641221374, 0.19716814987412662, 81, 105, 186),\n",
       " (0.7061068702290076, 0.22219554631514646, 76, 109, 185),\n",
       " (0.7061068702290076, 0.1997387796834219, 80, 105, 185),\n",
       " (0.6870229007633588, 0.1839829490574329, 81, 99, 180),\n",
       " (0.6755725190839694, 0.9452374376939974, 2, 175, 177),\n",
       " (0.6717557251908397, 0.9508841467240285, 1, 175, 176),\n",
       " (0.6717557251908397, 0.9443315095645517, 2, 174, 176),\n",
       " (0.6717557251908397, 0.1836990418950263, 81, 95, 176),\n",
       " (0.6641221374045801, 0.1836972541778138, 81, 93, 174),\n",
       " (0.5648854961832062, 0.13874242978850976, 84, 64, 148),\n",
       " (0.5648854961832062, 0.1371578324519867, 85, 63, 148),\n",
       " (0.5610687022900763, 0.14070302296109466, 82, 65, 147),\n",
       " (0.5610687022900763, 0.1379929692787766, 84, 63, 147),\n",
       " (0.5610687022900763, 0.13399095119596524, 85, 62, 147),\n",
       " (0.5572519083969466, 0.1407894436556736, 81, 65, 146),\n",
       " (0.5572519083969466, 0.14070218135770668, 82, 64, 146),\n",
       " (0.5534351145038168, 0.13372175476523418, 85, 60, 145),\n",
       " (0.5534351145038168, 0.13057344095001852, 86, 59, 145),\n",
       " (0.549618320610687, 0.13345383201175515, 85, 59, 144),\n",
       " (0.5419847328244275, 0.12794740152637488, 86, 56, 142),\n",
       " (0.5343511450381679, 0.12751069812960736, 86, 54, 140),\n",
       " (0.5152671755725191, 0.1270535017523007, 86, 49, 135),\n",
       " (0.5076335877862596, 0.12700496377027268, 86, 47, 133),\n",
       " (0.5038167938931297, 0.1268961729075934, 86, 46, 132),\n",
       " (0.4961832061068702, 0.12680185554372572, 86, 44, 130),\n",
       " (0.46564885496183206, 0.11906236461645996, 86, 36, 122),\n",
       " (0.45038167938931295, 0.11440002569420583, 87, 31, 118),\n",
       " (0.44656488549618323, 0.11834501545018564, 86, 31, 117),\n",
       " (0.4312977099236641, 0.10933941204497881, 87, 26, 113),\n",
       " (0.42366412213740456, 0.10860771311684395, 87, 24, 111),\n",
       " (0.4122137404580153, 0.10552423318141799, 87, 21, 108),\n",
       " (0.40458015267175573, 0.10468276896505244, 87, 19, 106),\n",
       " (0.3320610687022901, 0.01655289599771739, 87, 0, 87)]"
      ]
     },
     "execution_count": 87,
     "metadata": {},
     "output_type": "execute_result"
    }
   ],
   "source": [
    "accs_ths.sort(reverse=True)\n",
    "accs_ths"
   ]
  },
  {
   "cell_type": "code",
   "execution_count": 88,
   "metadata": {},
   "outputs": [
    {
     "name": "stdout",
     "output_type": "stream",
     "text": [
      "threshold=0.01655289599771739, tp=62, fp=19 , tf=156 , acc=0.8320610687022901\n"
     ]
    }
   ],
   "source": [
    "ssx = np.where(pred_probs >= 0.5)\n",
    "count_tp = sum(y_test.values[i] for i in ssx[0])\n",
    "count_fp = len(ssx[0]) - count_tp\n",
    "my_tpr = count_tp/87.0\n",
    "my_fpr = count_fp/175.0\n",
    "\n",
    "ssxf = np.where(pred_probs < 0.5)\n",
    "count_tf = sum(1 for i in ssxf[0] if y_test.values[i] == 0)\n",
    "\n",
    "acc = (count_tp+count_tf)/y_test.count()\n",
    "print(\"threshold=\"+str(threshold)+\", tp=\"+str(count_tp)+\", fp=\"+str(count_fp), \", tf=\"+str(count_tf), \", acc=\"+str(acc))"
   ]
  },
  {
   "cell_type": "code",
   "execution_count": null,
   "metadata": {},
   "outputs": [],
   "source": []
  },
  {
   "cell_type": "code",
   "execution_count": null,
   "metadata": {},
   "outputs": [],
   "source": []
  },
  {
   "cell_type": "code",
   "execution_count": null,
   "metadata": {},
   "outputs": [],
   "source": []
  },
  {
   "cell_type": "code",
   "execution_count": null,
   "metadata": {},
   "outputs": [],
   "source": []
  },
  {
   "cell_type": "code",
   "execution_count": null,
   "metadata": {},
   "outputs": [],
   "source": []
  },
  {
   "cell_type": "code",
   "execution_count": null,
   "metadata": {},
   "outputs": [],
   "source": []
  }
 ],
 "metadata": {
  "kernelspec": {
   "display_name": "Python 3",
   "language": "python",
   "name": "python3"
  },
  "language_info": {
   "codemirror_mode": {
    "name": "ipython",
    "version": 3
   },
   "file_extension": ".py",
   "mimetype": "text/x-python",
   "name": "python",
   "nbconvert_exporter": "python",
   "pygments_lexer": "ipython3",
   "version": "3.6.5"
  }
 },
 "nbformat": 4,
 "nbformat_minor": 2
}

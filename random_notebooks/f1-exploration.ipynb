{
 "cells": [
  {
   "cell_type": "code",
   "execution_count": 1,
   "metadata": {
    "pycharm": {
     "name": "#%%\n"
    }
   },
   "outputs": [
    {
     "name": "stderr",
     "output_type": "stream",
     "text": [
      "/home/teemu/.local/share/virtualenvs/ml-experiments--Ocnvtwy/lib/python3.8/site-packages/tqdm/std.py:668: FutureWarning: The Panel class is removed from pandas. Accessing it from the top-level namespace will also be removed in the next version\n",
      "  from pandas import Panel\n"
     ]
    }
   ],
   "source": [
    "import matplotlib.pyplot as plt \n",
    "%matplotlib inline\n",
    "\n",
    "import pandas as pd\n",
    "import numpy as np\n",
    "from tqdm.auto import tqdm\n",
    "\n",
    "tqdm.pandas()"
   ]
  },
  {
   "cell_type": "code",
   "execution_count": 2,
   "metadata": {
    "pycharm": {
     "name": "#%%\n"
    }
   },
   "outputs": [],
   "source": [
    "def f1_(p, r):\n",
    "    multiple = p*r\n",
    "    summed = p+r\n",
    "    #print(f\"f1: {multiple},{summed}\")\n",
    "    div = multiple/summed\n",
    "    #print(f\"f1: {div}\")\n",
    "    return 2*div"
   ]
  },
  {
   "cell_type": "code",
   "execution_count": 3,
   "metadata": {
    "pycharm": {
     "name": "#%%\n"
    }
   },
   "outputs": [],
   "source": [
    "def f1(p, r):\n",
    "    if p == 0 or r == 0:\n",
    "        return np.nan\n",
    "    return 2*((p*r)/(p+r))"
   ]
  },
  {
   "cell_type": "code",
   "execution_count": 4,
   "metadata": {
    "pycharm": {
     "name": "#%%\n"
    }
   },
   "outputs": [
    {
     "data": {
      "text/plain": [
       "0.6666666666666666"
      ]
     },
     "execution_count": 4,
     "metadata": {},
     "output_type": "execute_result"
    }
   ],
   "source": [
    "f1(0.5,1.0)"
   ]
  },
  {
   "cell_type": "code",
   "execution_count": 5,
   "metadata": {
    "pycharm": {
     "name": "#%%\n"
    }
   },
   "outputs": [
    {
     "data": {
      "text/html": [
       "<div>\n",
       "<style scoped>\n",
       "    .dataframe tbody tr th:only-of-type {\n",
       "        vertical-align: middle;\n",
       "    }\n",
       "\n",
       "    .dataframe tbody tr th {\n",
       "        vertical-align: top;\n",
       "    }\n",
       "\n",
       "    .dataframe thead th {\n",
       "        text-align: right;\n",
       "    }\n",
       "</style>\n",
       "<table border=\"1\" class=\"dataframe\">\n",
       "  <thead>\n",
       "    <tr style=\"text-align: right;\">\n",
       "      <th></th>\n",
       "      <th>Precision</th>\n",
       "      <th>Recall</th>\n",
       "      <th>F1-Score</th>\n",
       "      <th>Difference</th>\n",
       "    </tr>\n",
       "  </thead>\n",
       "  <tbody>\n",
       "    <tr>\n",
       "      <th>0</th>\n",
       "      <td>0.1</td>\n",
       "      <td>1.0</td>\n",
       "      <td>0.18182</td>\n",
       "      <td>0.08182</td>\n",
       "    </tr>\n",
       "    <tr>\n",
       "      <th>1</th>\n",
       "      <td>0.2</td>\n",
       "      <td>1.0</td>\n",
       "      <td>0.33333</td>\n",
       "      <td>0.13333</td>\n",
       "    </tr>\n",
       "    <tr>\n",
       "      <th>2</th>\n",
       "      <td>0.3</td>\n",
       "      <td>1.0</td>\n",
       "      <td>0.46154</td>\n",
       "      <td>0.16154</td>\n",
       "    </tr>\n",
       "    <tr>\n",
       "      <th>3</th>\n",
       "      <td>0.4</td>\n",
       "      <td>1.0</td>\n",
       "      <td>0.57143</td>\n",
       "      <td>0.17143</td>\n",
       "    </tr>\n",
       "    <tr>\n",
       "      <th>4</th>\n",
       "      <td>0.5</td>\n",
       "      <td>1.0</td>\n",
       "      <td>0.66667</td>\n",
       "      <td>0.16667</td>\n",
       "    </tr>\n",
       "    <tr>\n",
       "      <th>5</th>\n",
       "      <td>0.6</td>\n",
       "      <td>1.0</td>\n",
       "      <td>0.75000</td>\n",
       "      <td>0.15000</td>\n",
       "    </tr>\n",
       "    <tr>\n",
       "      <th>6</th>\n",
       "      <td>0.7</td>\n",
       "      <td>1.0</td>\n",
       "      <td>0.82353</td>\n",
       "      <td>0.12353</td>\n",
       "    </tr>\n",
       "    <tr>\n",
       "      <th>7</th>\n",
       "      <td>0.8</td>\n",
       "      <td>1.0</td>\n",
       "      <td>0.88889</td>\n",
       "      <td>0.08889</td>\n",
       "    </tr>\n",
       "    <tr>\n",
       "      <th>8</th>\n",
       "      <td>0.9</td>\n",
       "      <td>1.0</td>\n",
       "      <td>0.94737</td>\n",
       "      <td>0.04737</td>\n",
       "    </tr>\n",
       "    <tr>\n",
       "      <th>9</th>\n",
       "      <td>1.0</td>\n",
       "      <td>1.0</td>\n",
       "      <td>1.00000</td>\n",
       "      <td>0.00000</td>\n",
       "    </tr>\n",
       "  </tbody>\n",
       "</table>\n",
       "</div>"
      ],
      "text/plain": [
       "   Precision  Recall  F1-Score  Difference\n",
       "0        0.1     1.0   0.18182     0.08182\n",
       "1        0.2     1.0   0.33333     0.13333\n",
       "2        0.3     1.0   0.46154     0.16154\n",
       "3        0.4     1.0   0.57143     0.17143\n",
       "4        0.5     1.0   0.66667     0.16667\n",
       "5        0.6     1.0   0.75000     0.15000\n",
       "6        0.7     1.0   0.82353     0.12353\n",
       "7        0.8     1.0   0.88889     0.08889\n",
       "8        0.9     1.0   0.94737     0.04737\n",
       "9        1.0     1.0   1.00000     0.00000"
      ]
     },
     "execution_count": 5,
     "metadata": {},
     "output_type": "execute_result"
    }
   ],
   "source": [
    "values = [(round(x,2), 1.0, round(f1(x, 1.0), 5), round(f1(x, 1.0)-x, 5)) for x in np.arange(0.1, 1.1, 0.1)]\n",
    "pd.DataFrame(columns=[\"Precision\", \"Recall\", \"F1-Score\", \"Difference\"], data=values)"
   ]
  },
  {
   "cell_type": "code",
   "execution_count": 6,
   "metadata": {
    "pycharm": {
     "name": "#%%\n"
    }
   },
   "outputs": [
    {
     "data": {
      "text/plain": [
       "[(0.1, 0.08182),\n",
       " (0.2, 0.13333),\n",
       " (0.3, 0.16154),\n",
       " (0.4, 0.17143),\n",
       " (0.5, 0.16667),\n",
       " (0.6, 0.15),\n",
       " (0.7, 0.12353),\n",
       " (0.8, 0.08889),\n",
       " (0.9, 0.04737),\n",
       " (1.0, 0.0)]"
      ]
     },
     "execution_count": 6,
     "metadata": {},
     "output_type": "execute_result"
    }
   ],
   "source": [
    "[(round(x,2), round(f1(x, 1.0)-x, 5)) for x in np.arange(0.1, 1.1, 0.1)]"
   ]
  },
  {
   "cell_type": "code",
   "execution_count": 7,
   "metadata": {
    "pycharm": {
     "name": "#%%\n"
    }
   },
   "outputs": [],
   "source": [
    "import numpy as np\n",
    "\n",
    "precisions = []\n",
    "recalls = []"
   ]
  },
  {
   "cell_type": "code",
   "execution_count": 8,
   "metadata": {
    "pycharm": {
     "name": "#%%\n"
    }
   },
   "outputs": [],
   "source": [
    "for i in np.arange(0.01, 1.0, 0.01):\n",
    "    precisions.append(i)\n",
    "precisions.append(1.0)"
   ]
  },
  {
   "cell_type": "code",
   "execution_count": 9,
   "metadata": {
    "pycharm": {
     "name": "#%%\n"
    }
   },
   "outputs": [],
   "source": [
    "for i in np.arange(0.01, 1.0, 0.01):\n",
    "    recalls.append(i)\n",
    "recalls.append(1.0)"
   ]
  },
  {
   "cell_type": "code",
   "execution_count": 10,
   "metadata": {},
   "outputs": [
    {
     "name": "stdout",
     "output_type": "stream",
     "text": [
      "[0.01, 0.02, 0.03, 0.04, 0.05, 0.06, 0.07, 0.08, 0.09, 0.1, 0.11, 0.12, 0.13, 0.14, 0.15, 0.16, 0.17, 0.18, 0.19, 0.2, 0.21, 0.22, 0.23, 0.24, 0.25, 0.26, 0.27, 0.28, 0.29, 0.3, 0.31, 0.32, 0.33, 0.34, 0.35, 0.36, 0.37, 0.38, 0.39, 0.4, 0.41, 0.42, 0.43, 0.44, 0.45, 0.46, 0.47, 0.48, 0.49, 0.5, 0.51, 0.52, 0.53, 0.54, 0.55, 0.56, 0.57, 0.58, 0.59, 0.6, 0.61, 0.62, 0.63, 0.64, 0.65, 0.66, 0.67, 0.68, 0.69, 0.7, 0.71, 0.72, 0.73, 0.74, 0.75, 0.76, 0.77, 0.78, 0.79, 0.8, 0.81, 0.82, 0.83, 0.84, 0.85, 0.86, 0.87, 0.88, 0.89, 0.9, 0.91, 0.92, 0.93, 0.94, 0.95, 0.96, 0.97, 0.98, 0.99, 1.0]\n"
     ]
    }
   ],
   "source": [
    "print([round(x, 2) for x in precisions])"
   ]
  },
  {
   "cell_type": "code",
   "execution_count": 11,
   "metadata": {
    "pycharm": {
     "name": "#%%\n"
    }
   },
   "outputs": [
    {
     "data": {
      "text/plain": [
       "1.0"
      ]
     },
     "execution_count": 11,
     "metadata": {},
     "output_type": "execute_result"
    }
   ],
   "source": [
    "max(precisions)"
   ]
  },
  {
   "cell_type": "code",
   "execution_count": 12,
   "metadata": {
    "pycharm": {
     "name": "#%%\n"
    }
   },
   "outputs": [
    {
     "data": {
      "image/png": "[encoded data removed]",
      "text/plain": [
       "<Figure size 432x288 with 1 Axes>"
      ]
     },
     "metadata": {
      "needs_background": "light"
     },
     "output_type": "display_data"
    }
   ],
   "source": [
    "plt.plot(recalls, precisions) #params are (x,y) \n",
    "plt.xlabel(\"Recall\") \n",
    "plt.ylabel(\"Precision\") \n",
    "plt.legend((\"relation\",), loc='best')\n",
    "plt.title(\"Precision=Recall\")\n",
    "plt.show()"
   ]
  },
  {
   "cell_type": "code",
   "execution_count": null,
   "metadata": {
    "pycharm": {
     "name": "#%%\n"
    }
   },
   "outputs": [],
   "source": []
  },
  {
   "cell_type": "code",
   "execution_count": 13,
   "metadata": {
    "pycharm": {
     "name": "#%%\n"
    }
   },
   "outputs": [],
   "source": [
    "f1_scores = []\n",
    "for (p, r) in zip (precisions, recalls):\n",
    "    f1_scores.append(f1(p,r))"
   ]
  },
  {
   "cell_type": "code",
   "execution_count": 14,
   "metadata": {
    "pycharm": {
     "name": "#%%\n"
    }
   },
   "outputs": [],
   "source": [
    "def plot_scores(x_label, y_label, x, y, title, print_max_y=False, print_max_x=False, draw_diagonal=False, legend1=\"F1 Score\"):\n",
    "    np_x = np.array(x)\n",
    "    np_y = np.array(y)\n",
    "    np_diff = np_y-np_x\n",
    "    max_idx = np.argmax(np_diff)\n",
    "    #print(np_diff)\n",
    "    #print(f\"max idx={max_idx}, ={y[max_idx]}\")\n",
    "    #plt.plot((x[max_idx], x[max_idx]), (0, y[max_idx]), 'r-')\n",
    "    if draw_diagonal:\n",
    "        plt.plot((0,1), (0,1), 'b--')\n",
    "    text_x = round(x[max_idx], 2)\n",
    "    text_y = round(y[max_idx], 2)\n",
    "    if print_max_x:\n",
    "        plt.axvline(x=x[max_idx],color='red')\n",
    "        plt.text(x[max_idx], 1, f\"{text_x}={text_y}\", ha='left', va='top', color=\"red\")\n",
    "    max_idx = np.argmax(y)\n",
    "    text_max = round(y[max_idx], 2)\n",
    "    if print_max_y:\n",
    "        plt.text(1, y[max_idx], f\"max={text_max}\", ha='left', va='top', color=\"red\")\n",
    "    plt.plot(x, y)\n",
    "    plt.xlabel(x_label)\n",
    "    plt.ylabel(y_label)\n",
    "    plt.title(title)\n",
    "    plt.legend((legend1, \"Max Gap\", \"F1 Score\",), loc='best')\n",
    "    plt.show()\n"
   ]
  },
  {
   "cell_type": "code",
   "execution_count": 15,
   "metadata": {
    "pycharm": {
     "name": "#%%\n"
    }
   },
   "outputs": [
    {
     "data": {
      "image/png": "[encoded data removed]",
      "text/plain": [
       "<Figure size 432x288 with 1 Axes>"
      ]
     },
     "metadata": {
      "needs_background": "light"
     },
     "output_type": "display_data"
    }
   ],
   "source": [
    "plot_scores(\"Recall\", \"F1 Score\", recalls, f1_scores, \"F1 with precision=recall\")"
   ]
  },
  {
   "cell_type": "code",
   "execution_count": 16,
   "metadata": {},
   "outputs": [
    {
     "data": {
      "text/html": [
       "<div>\n",
       "<style scoped>\n",
       "    .dataframe tbody tr th:only-of-type {\n",
       "        vertical-align: middle;\n",
       "    }\n",
       "\n",
       "    .dataframe tbody tr th {\n",
       "        vertical-align: top;\n",
       "    }\n",
       "\n",
       "    .dataframe thead th {\n",
       "        text-align: right;\n",
       "    }\n",
       "</style>\n",
       "<table border=\"1\" class=\"dataframe\">\n",
       "  <thead>\n",
       "    <tr style=\"text-align: right;\">\n",
       "      <th></th>\n",
       "      <th>Precision</th>\n",
       "      <th>Recall</th>\n",
       "      <th>F1-Score</th>\n",
       "      <th>Difference</th>\n",
       "    </tr>\n",
       "  </thead>\n",
       "  <tbody>\n",
       "    <tr>\n",
       "      <th>0</th>\n",
       "      <td>0.1</td>\n",
       "      <td>0.1</td>\n",
       "      <td>0.1</td>\n",
       "      <td>0.0</td>\n",
       "    </tr>\n",
       "    <tr>\n",
       "      <th>1</th>\n",
       "      <td>0.2</td>\n",
       "      <td>0.2</td>\n",
       "      <td>0.2</td>\n",
       "      <td>0.0</td>\n",
       "    </tr>\n",
       "    <tr>\n",
       "      <th>2</th>\n",
       "      <td>0.3</td>\n",
       "      <td>0.3</td>\n",
       "      <td>0.3</td>\n",
       "      <td>0.0</td>\n",
       "    </tr>\n",
       "    <tr>\n",
       "      <th>3</th>\n",
       "      <td>0.4</td>\n",
       "      <td>0.4</td>\n",
       "      <td>0.4</td>\n",
       "      <td>0.0</td>\n",
       "    </tr>\n",
       "    <tr>\n",
       "      <th>4</th>\n",
       "      <td>0.5</td>\n",
       "      <td>0.5</td>\n",
       "      <td>0.5</td>\n",
       "      <td>0.0</td>\n",
       "    </tr>\n",
       "    <tr>\n",
       "      <th>5</th>\n",
       "      <td>0.6</td>\n",
       "      <td>0.6</td>\n",
       "      <td>0.6</td>\n",
       "      <td>0.0</td>\n",
       "    </tr>\n",
       "    <tr>\n",
       "      <th>6</th>\n",
       "      <td>0.7</td>\n",
       "      <td>0.7</td>\n",
       "      <td>0.7</td>\n",
       "      <td>0.0</td>\n",
       "    </tr>\n",
       "    <tr>\n",
       "      <th>7</th>\n",
       "      <td>0.8</td>\n",
       "      <td>0.8</td>\n",
       "      <td>0.8</td>\n",
       "      <td>0.0</td>\n",
       "    </tr>\n",
       "    <tr>\n",
       "      <th>8</th>\n",
       "      <td>0.9</td>\n",
       "      <td>0.9</td>\n",
       "      <td>0.9</td>\n",
       "      <td>0.0</td>\n",
       "    </tr>\n",
       "    <tr>\n",
       "      <th>9</th>\n",
       "      <td>1.0</td>\n",
       "      <td>1.0</td>\n",
       "      <td>1.0</td>\n",
       "      <td>0.0</td>\n",
       "    </tr>\n",
       "  </tbody>\n",
       "</table>\n",
       "</div>"
      ],
      "text/plain": [
       "   Precision  Recall  F1-Score  Difference\n",
       "0        0.1     0.1       0.1         0.0\n",
       "1        0.2     0.2       0.2         0.0\n",
       "2        0.3     0.3       0.3         0.0\n",
       "3        0.4     0.4       0.4         0.0\n",
       "4        0.5     0.5       0.5         0.0\n",
       "5        0.6     0.6       0.6         0.0\n",
       "6        0.7     0.7       0.7         0.0\n",
       "7        0.8     0.8       0.8         0.0\n",
       "8        0.9     0.9       0.9         0.0\n",
       "9        1.0     1.0       1.0         0.0"
      ]
     },
     "execution_count": 16,
     "metadata": {},
     "output_type": "execute_result"
    }
   ],
   "source": [
    "values = [(round(x,2), round(x,2), round(f1(x, x), 5), round(f1(x, x)-x, 5)) for x in np.arange(0.1, 1.1, 0.1)]\n",
    "pd.DataFrame(columns=[\"Precision\", \"Recall\", \"F1-Score\", \"Difference\"], data=values)"
   ]
  },
  {
   "cell_type": "code",
   "execution_count": 17,
   "metadata": {
    "pycharm": {
     "name": "#%%\n"
    }
   },
   "outputs": [],
   "source": [
    "f1_scores = []\n",
    "for (p, r) in zip (precisions, recalls):\n",
    "    f1_scores.append(f1(p,1))"
   ]
  },
  {
   "cell_type": "code",
   "execution_count": 18,
   "metadata": {
    "pycharm": {
     "name": "#%%\n"
    }
   },
   "outputs": [
    {
     "data": {
      "image/png": "[encoded data removed]",
      "text/plain": [
       "<Figure size 432x288 with 1 Axes>"
      ]
     },
     "metadata": {
      "needs_background": "light"
     },
     "output_type": "display_data"
    }
   ],
   "source": [
    "plot_scores(\"Precision\", \"F1 Score\", precisions, f1_scores, \"F1 with recall=1.0 and precision 0.01-1.0\", print_max_x=True, print_max_y=True, draw_diagonal=True, legend1=\"X=Y\")"
   ]
  },
  {
   "cell_type": "code",
   "execution_count": 19,
   "metadata": {
    "pycharm": {
     "name": "#%%\n"
    }
   },
   "outputs": [],
   "source": [
    "f1_scores = []\n",
    "for (p, r) in zip (precisions, recalls):\n",
    "    f1_scores.append(f1(1, r))"
   ]
  },
  {
   "cell_type": "code",
   "execution_count": 20,
   "metadata": {
    "pycharm": {
     "name": "#%%\n"
    }
   },
   "outputs": [
    {
     "data": {
      "image/png": "[encoded data removed]",
      "text/plain": [
       "<Figure size 432x288 with 1 Axes>"
      ]
     },
     "metadata": {
      "needs_background": "light"
     },
     "output_type": "display_data"
    }
   ],
   "source": [
    "plot_scores(\"Recall\", \"F1 Score\", recalls, f1_scores, \"F1 with precision=1.0 and recall 0.01-1.0\", print_max_x=True, print_max_y=True, draw_diagonal=True, legend1=\"X=Y\")"
   ]
  },
  {
   "cell_type": "code",
   "execution_count": 21,
   "metadata": {
    "pycharm": {
     "name": "#%%\n"
    }
   },
   "outputs": [],
   "source": [
    "f1_scores = []\n",
    "for (p, r) in zip (precisions, recalls):\n",
    "    f1_scores.append(f1(1,r))"
   ]
  },
  {
   "cell_type": "code",
   "execution_count": 22,
   "metadata": {
    "pycharm": {
     "name": "#%%\n"
    }
   },
   "outputs": [
    {
     "data": {
      "text/html": [
       "<div>\n",
       "<style scoped>\n",
       "    .dataframe tbody tr th:only-of-type {\n",
       "        vertical-align: middle;\n",
       "    }\n",
       "\n",
       "    .dataframe tbody tr th {\n",
       "        vertical-align: top;\n",
       "    }\n",
       "\n",
       "    .dataframe thead th {\n",
       "        text-align: right;\n",
       "    }\n",
       "</style>\n",
       "<table border=\"1\" class=\"dataframe\">\n",
       "  <thead>\n",
       "    <tr style=\"text-align: right;\">\n",
       "      <th></th>\n",
       "      <th>Precision</th>\n",
       "      <th>Recall</th>\n",
       "      <th>F1-Score</th>\n",
       "      <th>Difference</th>\n",
       "    </tr>\n",
       "  </thead>\n",
       "  <tbody>\n",
       "    <tr>\n",
       "      <th>0</th>\n",
       "      <td>1.0</td>\n",
       "      <td>0.1</td>\n",
       "      <td>0.18182</td>\n",
       "      <td>0.08182</td>\n",
       "    </tr>\n",
       "    <tr>\n",
       "      <th>1</th>\n",
       "      <td>1.0</td>\n",
       "      <td>0.2</td>\n",
       "      <td>0.33333</td>\n",
       "      <td>0.13333</td>\n",
       "    </tr>\n",
       "    <tr>\n",
       "      <th>2</th>\n",
       "      <td>1.0</td>\n",
       "      <td>0.3</td>\n",
       "      <td>0.46154</td>\n",
       "      <td>0.16154</td>\n",
       "    </tr>\n",
       "    <tr>\n",
       "      <th>3</th>\n",
       "      <td>1.0</td>\n",
       "      <td>0.4</td>\n",
       "      <td>0.57143</td>\n",
       "      <td>0.17143</td>\n",
       "    </tr>\n",
       "    <tr>\n",
       "      <th>4</th>\n",
       "      <td>1.0</td>\n",
       "      <td>0.5</td>\n",
       "      <td>0.66667</td>\n",
       "      <td>0.16667</td>\n",
       "    </tr>\n",
       "    <tr>\n",
       "      <th>5</th>\n",
       "      <td>1.0</td>\n",
       "      <td>0.6</td>\n",
       "      <td>0.75000</td>\n",
       "      <td>0.15000</td>\n",
       "    </tr>\n",
       "    <tr>\n",
       "      <th>6</th>\n",
       "      <td>1.0</td>\n",
       "      <td>0.7</td>\n",
       "      <td>0.82353</td>\n",
       "      <td>0.12353</td>\n",
       "    </tr>\n",
       "    <tr>\n",
       "      <th>7</th>\n",
       "      <td>1.0</td>\n",
       "      <td>0.8</td>\n",
       "      <td>0.88889</td>\n",
       "      <td>0.08889</td>\n",
       "    </tr>\n",
       "    <tr>\n",
       "      <th>8</th>\n",
       "      <td>1.0</td>\n",
       "      <td>0.9</td>\n",
       "      <td>0.94737</td>\n",
       "      <td>0.04737</td>\n",
       "    </tr>\n",
       "    <tr>\n",
       "      <th>9</th>\n",
       "      <td>1.0</td>\n",
       "      <td>1.0</td>\n",
       "      <td>1.00000</td>\n",
       "      <td>0.00000</td>\n",
       "    </tr>\n",
       "  </tbody>\n",
       "</table>\n",
       "</div>"
      ],
      "text/plain": [
       "   Precision  Recall  F1-Score  Difference\n",
       "0        1.0     0.1   0.18182     0.08182\n",
       "1        1.0     0.2   0.33333     0.13333\n",
       "2        1.0     0.3   0.46154     0.16154\n",
       "3        1.0     0.4   0.57143     0.17143\n",
       "4        1.0     0.5   0.66667     0.16667\n",
       "5        1.0     0.6   0.75000     0.15000\n",
       "6        1.0     0.7   0.82353     0.12353\n",
       "7        1.0     0.8   0.88889     0.08889\n",
       "8        1.0     0.9   0.94737     0.04737\n",
       "9        1.0     1.0   1.00000     0.00000"
      ]
     },
     "execution_count": 22,
     "metadata": {},
     "output_type": "execute_result"
    }
   ],
   "source": [
    "values = [(1.0, round(x,2), round(f1(1.0, x), 5), round(f1(1.0, x)-x, 5)) for x in np.arange(0.1, 1.1, 0.1)]\n",
    "pd.DataFrame(columns=[\"Precision\", \"Recall\", \"F1-Score\", \"Difference\"], data=values)"
   ]
  },
  {
   "cell_type": "code",
   "execution_count": 23,
   "metadata": {
    "pycharm": {
     "name": "#%%\n"
    }
   },
   "outputs": [
    {
     "data": {
      "image/png": "[encoded data removed]",
      "text/plain": [
       "<Figure size 432x288 with 1 Axes>"
      ]
     },
     "metadata": {
      "needs_background": "light"
     },
     "output_type": "display_data"
    }
   ],
   "source": [
    "plot_scores(\"Recall\", \"F1 Score\", recalls, f1_scores, \"F1 with precision=1.0 and recall 0.01-1.0\")"
   ]
  },
  {
   "cell_type": "code",
   "execution_count": 24,
   "metadata": {
    "pycharm": {
     "name": "#%%\n"
    }
   },
   "outputs": [],
   "source": [
    "f1_scores = []\n",
    "for (p, r) in zip (precisions, recalls):\n",
    "    f1_scores.append(f1(0.8,r))"
   ]
  },
  {
   "cell_type": "code",
   "execution_count": 25,
   "metadata": {
    "pycharm": {
     "name": "#%%\n"
    }
   },
   "outputs": [
    {
     "data": {
      "text/html": [
       "<div>\n",
       "<style scoped>\n",
       "    .dataframe tbody tr th:only-of-type {\n",
       "        vertical-align: middle;\n",
       "    }\n",
       "\n",
       "    .dataframe tbody tr th {\n",
       "        vertical-align: top;\n",
       "    }\n",
       "\n",
       "    .dataframe thead th {\n",
       "        text-align: right;\n",
       "    }\n",
       "</style>\n",
       "<table border=\"1\" class=\"dataframe\">\n",
       "  <thead>\n",
       "    <tr style=\"text-align: right;\">\n",
       "      <th></th>\n",
       "      <th>Precision</th>\n",
       "      <th>Recall</th>\n",
       "      <th>F1-Score</th>\n",
       "      <th>Difference</th>\n",
       "    </tr>\n",
       "  </thead>\n",
       "  <tbody>\n",
       "    <tr>\n",
       "      <th>0</th>\n",
       "      <td>0.8</td>\n",
       "      <td>0.1</td>\n",
       "      <td>0.17778</td>\n",
       "      <td>0.07778</td>\n",
       "    </tr>\n",
       "    <tr>\n",
       "      <th>1</th>\n",
       "      <td>0.8</td>\n",
       "      <td>0.2</td>\n",
       "      <td>0.32000</td>\n",
       "      <td>0.12000</td>\n",
       "    </tr>\n",
       "    <tr>\n",
       "      <th>2</th>\n",
       "      <td>0.8</td>\n",
       "      <td>0.3</td>\n",
       "      <td>0.43636</td>\n",
       "      <td>0.13636</td>\n",
       "    </tr>\n",
       "    <tr>\n",
       "      <th>3</th>\n",
       "      <td>0.8</td>\n",
       "      <td>0.4</td>\n",
       "      <td>0.53333</td>\n",
       "      <td>0.13333</td>\n",
       "    </tr>\n",
       "    <tr>\n",
       "      <th>4</th>\n",
       "      <td>0.8</td>\n",
       "      <td>0.5</td>\n",
       "      <td>0.61538</td>\n",
       "      <td>0.11538</td>\n",
       "    </tr>\n",
       "    <tr>\n",
       "      <th>5</th>\n",
       "      <td>0.8</td>\n",
       "      <td>0.6</td>\n",
       "      <td>0.68571</td>\n",
       "      <td>0.08571</td>\n",
       "    </tr>\n",
       "    <tr>\n",
       "      <th>6</th>\n",
       "      <td>0.8</td>\n",
       "      <td>0.7</td>\n",
       "      <td>0.74667</td>\n",
       "      <td>0.04667</td>\n",
       "    </tr>\n",
       "    <tr>\n",
       "      <th>7</th>\n",
       "      <td>0.8</td>\n",
       "      <td>0.8</td>\n",
       "      <td>0.80000</td>\n",
       "      <td>0.00000</td>\n",
       "    </tr>\n",
       "    <tr>\n",
       "      <th>8</th>\n",
       "      <td>0.8</td>\n",
       "      <td>0.9</td>\n",
       "      <td>0.84706</td>\n",
       "      <td>-0.05294</td>\n",
       "    </tr>\n",
       "    <tr>\n",
       "      <th>9</th>\n",
       "      <td>0.8</td>\n",
       "      <td>1.0</td>\n",
       "      <td>0.88889</td>\n",
       "      <td>-0.11111</td>\n",
       "    </tr>\n",
       "  </tbody>\n",
       "</table>\n",
       "</div>"
      ],
      "text/plain": [
       "   Precision  Recall  F1-Score  Difference\n",
       "0        0.8     0.1   0.17778     0.07778\n",
       "1        0.8     0.2   0.32000     0.12000\n",
       "2        0.8     0.3   0.43636     0.13636\n",
       "3        0.8     0.4   0.53333     0.13333\n",
       "4        0.8     0.5   0.61538     0.11538\n",
       "5        0.8     0.6   0.68571     0.08571\n",
       "6        0.8     0.7   0.74667     0.04667\n",
       "7        0.8     0.8   0.80000     0.00000\n",
       "8        0.8     0.9   0.84706    -0.05294\n",
       "9        0.8     1.0   0.88889    -0.11111"
      ]
     },
     "execution_count": 25,
     "metadata": {},
     "output_type": "execute_result"
    }
   ],
   "source": [
    "values = [(0.8, round(x,2), round(f1(0.8, x), 5), round(f1(0.8, x)-x, 5)) for x in np.arange(0.1, 1.1, 0.1)]\n",
    "pd.DataFrame(columns=[\"Precision\", \"Recall\", \"F1-Score\", \"Difference\"], data=values)"
   ]
  },
  {
   "cell_type": "code",
   "execution_count": 26,
   "metadata": {
    "pycharm": {
     "name": "#%%\n"
    }
   },
   "outputs": [
    {
     "data": {
      "image/png": "[encoded data removed]",
      "text/plain": [
       "<Figure size 432x288 with 1 Axes>"
      ]
     },
     "metadata": {
      "needs_background": "light"
     },
     "output_type": "display_data"
    }
   ],
   "source": [
    "plot_scores(\"Recall\", \"F1 Score\", recalls, f1_scores, \"F1 with precision=0.8 and recall 0.01-1.0\", print_max_y=True)"
   ]
  },
  {
   "cell_type": "code",
   "execution_count": 27,
   "metadata": {
    "pycharm": {
     "name": "#%%\n"
    }
   },
   "outputs": [
    {
     "data": {
      "text/plain": [
       "0.888888888888889"
      ]
     },
     "execution_count": 27,
     "metadata": {},
     "output_type": "execute_result"
    }
   ],
   "source": [
    "max(f1_scores)"
   ]
  },
  {
   "cell_type": "code",
   "execution_count": 28,
   "metadata": {
    "pycharm": {
     "name": "#%%\n"
    }
   },
   "outputs": [],
   "source": [
    "f1_scores = []\n",
    "for (p, r) in zip (precisions, recalls):\n",
    "    f1_scores.append(f1(0.1,r))"
   ]
  },
  {
   "cell_type": "code",
   "execution_count": 29,
   "metadata": {
    "pycharm": {
     "name": "#%%\n"
    }
   },
   "outputs": [
    {
     "data": {
      "text/html": [
       "<div>\n",
       "<style scoped>\n",
       "    .dataframe tbody tr th:only-of-type {\n",
       "        vertical-align: middle;\n",
       "    }\n",
       "\n",
       "    .dataframe tbody tr th {\n",
       "        vertical-align: top;\n",
       "    }\n",
       "\n",
       "    .dataframe thead th {\n",
       "        text-align: right;\n",
       "    }\n",
       "</style>\n",
       "<table border=\"1\" class=\"dataframe\">\n",
       "  <thead>\n",
       "    <tr style=\"text-align: right;\">\n",
       "      <th></th>\n",
       "      <th>Precision</th>\n",
       "      <th>Recall</th>\n",
       "      <th>F1-Score</th>\n",
       "      <th>Difference</th>\n",
       "    </tr>\n",
       "  </thead>\n",
       "  <tbody>\n",
       "    <tr>\n",
       "      <th>0</th>\n",
       "      <td>0.1</td>\n",
       "      <td>0.1</td>\n",
       "      <td>0.10000</td>\n",
       "      <td>0.00000</td>\n",
       "    </tr>\n",
       "    <tr>\n",
       "      <th>1</th>\n",
       "      <td>0.1</td>\n",
       "      <td>0.2</td>\n",
       "      <td>0.13333</td>\n",
       "      <td>-0.06667</td>\n",
       "    </tr>\n",
       "    <tr>\n",
       "      <th>2</th>\n",
       "      <td>0.1</td>\n",
       "      <td>0.3</td>\n",
       "      <td>0.15000</td>\n",
       "      <td>-0.15000</td>\n",
       "    </tr>\n",
       "    <tr>\n",
       "      <th>3</th>\n",
       "      <td>0.1</td>\n",
       "      <td>0.4</td>\n",
       "      <td>0.16000</td>\n",
       "      <td>-0.24000</td>\n",
       "    </tr>\n",
       "    <tr>\n",
       "      <th>4</th>\n",
       "      <td>0.1</td>\n",
       "      <td>0.5</td>\n",
       "      <td>0.16667</td>\n",
       "      <td>-0.33333</td>\n",
       "    </tr>\n",
       "    <tr>\n",
       "      <th>5</th>\n",
       "      <td>0.1</td>\n",
       "      <td>0.6</td>\n",
       "      <td>0.17143</td>\n",
       "      <td>-0.42857</td>\n",
       "    </tr>\n",
       "    <tr>\n",
       "      <th>6</th>\n",
       "      <td>0.1</td>\n",
       "      <td>0.7</td>\n",
       "      <td>0.17500</td>\n",
       "      <td>-0.52500</td>\n",
       "    </tr>\n",
       "    <tr>\n",
       "      <th>7</th>\n",
       "      <td>0.1</td>\n",
       "      <td>0.8</td>\n",
       "      <td>0.17778</td>\n",
       "      <td>-0.62222</td>\n",
       "    </tr>\n",
       "    <tr>\n",
       "      <th>8</th>\n",
       "      <td>0.1</td>\n",
       "      <td>0.9</td>\n",
       "      <td>0.18000</td>\n",
       "      <td>-0.72000</td>\n",
       "    </tr>\n",
       "    <tr>\n",
       "      <th>9</th>\n",
       "      <td>0.1</td>\n",
       "      <td>1.0</td>\n",
       "      <td>0.18182</td>\n",
       "      <td>-0.81818</td>\n",
       "    </tr>\n",
       "  </tbody>\n",
       "</table>\n",
       "</div>"
      ],
      "text/plain": [
       "   Precision  Recall  F1-Score  Difference\n",
       "0        0.1     0.1   0.10000     0.00000\n",
       "1        0.1     0.2   0.13333    -0.06667\n",
       "2        0.1     0.3   0.15000    -0.15000\n",
       "3        0.1     0.4   0.16000    -0.24000\n",
       "4        0.1     0.5   0.16667    -0.33333\n",
       "5        0.1     0.6   0.17143    -0.42857\n",
       "6        0.1     0.7   0.17500    -0.52500\n",
       "7        0.1     0.8   0.17778    -0.62222\n",
       "8        0.1     0.9   0.18000    -0.72000\n",
       "9        0.1     1.0   0.18182    -0.81818"
      ]
     },
     "execution_count": 29,
     "metadata": {},
     "output_type": "execute_result"
    }
   ],
   "source": [
    "values = [(0.1, round(x,2), round(f1(0.1, x), 5), round(f1(0.1, x)-x, 5)) for x in np.arange(0.1, 1.1, 0.1)]\n",
    "pd.DataFrame(columns=[\"Precision\", \"Recall\", \"F1-Score\", \"Difference\"], data=values)"
   ]
  },
  {
   "cell_type": "code",
   "execution_count": 30,
   "metadata": {
    "pycharm": {
     "name": "#%%\n"
    }
   },
   "outputs": [
    {
     "data": {
      "image/png": "[encoded data removed]",
      "text/plain": [
       "<Figure size 432x288 with 1 Axes>"
      ]
     },
     "metadata": {
      "needs_background": "light"
     },
     "output_type": "display_data"
    }
   ],
   "source": [
    "plot_scores(\"Recall\", \"F1 Score\", recalls, f1_scores, \"F1 with precision=0.1 and recall 0.01-1.0\", print_max_y=True)"
   ]
  },
  {
   "cell_type": "code",
   "execution_count": 31,
   "metadata": {
    "pycharm": {
     "name": "#%%\n"
    }
   },
   "outputs": [
    {
     "data": {
      "image/png": "[encoded data removed]",
      "text/plain": [
       "<Figure size 432x288 with 1 Axes>"
      ]
     },
     "metadata": {
      "needs_background": "light"
     },
     "output_type": "display_data"
    }
   ],
   "source": [
    "plot_scores(\"Recall\", \"F1 Score\", recalls, f1_scores, \"F1 with precision=0.8 and recall 0.01-1.0\", print_max_y=True)"
   ]
  },
  {
   "cell_type": "code",
   "execution_count": 32,
   "metadata": {
    "pycharm": {
     "name": "#%%\n"
    }
   },
   "outputs": [
    {
     "data": {
      "text/plain": [
       "0.18181818181818182"
      ]
     },
     "execution_count": 32,
     "metadata": {},
     "output_type": "execute_result"
    }
   ],
   "source": [
    "max(f1_scores)"
   ]
  },
  {
   "cell_type": "code",
   "execution_count": 33,
   "metadata": {
    "pycharm": {
     "name": "#%%\n"
    }
   },
   "outputs": [],
   "source": [
    "f1_scores = []\n",
    "for (p, r) in zip (precisions, recalls):\n",
    "    f1_scores.append(f1(0.1,r))"
   ]
  },
  {
   "cell_type": "code",
   "execution_count": 34,
   "metadata": {
    "pycharm": {
     "name": "#%%\n"
    }
   },
   "outputs": [
    {
     "data": {
      "text/html": [
       "<div>\n",
       "<style scoped>\n",
       "    .dataframe tbody tr th:only-of-type {\n",
       "        vertical-align: middle;\n",
       "    }\n",
       "\n",
       "    .dataframe tbody tr th {\n",
       "        vertical-align: top;\n",
       "    }\n",
       "\n",
       "    .dataframe thead th {\n",
       "        text-align: right;\n",
       "    }\n",
       "</style>\n",
       "<table border=\"1\" class=\"dataframe\">\n",
       "  <thead>\n",
       "    <tr style=\"text-align: right;\">\n",
       "      <th></th>\n",
       "      <th>Precision</th>\n",
       "      <th>Recall</th>\n",
       "      <th>F1-Score</th>\n",
       "      <th>Difference</th>\n",
       "    </tr>\n",
       "  </thead>\n",
       "  <tbody>\n",
       "    <tr>\n",
       "      <th>0</th>\n",
       "      <td>0.1</td>\n",
       "      <td>0.1</td>\n",
       "      <td>0.10000</td>\n",
       "      <td>0.00000</td>\n",
       "    </tr>\n",
       "    <tr>\n",
       "      <th>1</th>\n",
       "      <td>0.1</td>\n",
       "      <td>0.2</td>\n",
       "      <td>0.13333</td>\n",
       "      <td>-0.06667</td>\n",
       "    </tr>\n",
       "    <tr>\n",
       "      <th>2</th>\n",
       "      <td>0.1</td>\n",
       "      <td>0.3</td>\n",
       "      <td>0.15000</td>\n",
       "      <td>-0.15000</td>\n",
       "    </tr>\n",
       "    <tr>\n",
       "      <th>3</th>\n",
       "      <td>0.1</td>\n",
       "      <td>0.4</td>\n",
       "      <td>0.16000</td>\n",
       "      <td>-0.24000</td>\n",
       "    </tr>\n",
       "    <tr>\n",
       "      <th>4</th>\n",
       "      <td>0.1</td>\n",
       "      <td>0.5</td>\n",
       "      <td>0.16667</td>\n",
       "      <td>-0.33333</td>\n",
       "    </tr>\n",
       "    <tr>\n",
       "      <th>5</th>\n",
       "      <td>0.1</td>\n",
       "      <td>0.6</td>\n",
       "      <td>0.17143</td>\n",
       "      <td>-0.42857</td>\n",
       "    </tr>\n",
       "    <tr>\n",
       "      <th>6</th>\n",
       "      <td>0.1</td>\n",
       "      <td>0.7</td>\n",
       "      <td>0.17500</td>\n",
       "      <td>-0.52500</td>\n",
       "    </tr>\n",
       "    <tr>\n",
       "      <th>7</th>\n",
       "      <td>0.1</td>\n",
       "      <td>0.8</td>\n",
       "      <td>0.17778</td>\n",
       "      <td>-0.62222</td>\n",
       "    </tr>\n",
       "    <tr>\n",
       "      <th>8</th>\n",
       "      <td>0.1</td>\n",
       "      <td>0.9</td>\n",
       "      <td>0.18000</td>\n",
       "      <td>-0.72000</td>\n",
       "    </tr>\n",
       "    <tr>\n",
       "      <th>9</th>\n",
       "      <td>0.1</td>\n",
       "      <td>1.0</td>\n",
       "      <td>0.18182</td>\n",
       "      <td>-0.81818</td>\n",
       "    </tr>\n",
       "  </tbody>\n",
       "</table>\n",
       "</div>"
      ],
      "text/plain": [
       "   Precision  Recall  F1-Score  Difference\n",
       "0        0.1     0.1   0.10000     0.00000\n",
       "1        0.1     0.2   0.13333    -0.06667\n",
       "2        0.1     0.3   0.15000    -0.15000\n",
       "3        0.1     0.4   0.16000    -0.24000\n",
       "4        0.1     0.5   0.16667    -0.33333\n",
       "5        0.1     0.6   0.17143    -0.42857\n",
       "6        0.1     0.7   0.17500    -0.52500\n",
       "7        0.1     0.8   0.17778    -0.62222\n",
       "8        0.1     0.9   0.18000    -0.72000\n",
       "9        0.1     1.0   0.18182    -0.81818"
      ]
     },
     "execution_count": 34,
     "metadata": {},
     "output_type": "execute_result"
    }
   ],
   "source": [
    "values = [(0.1, round(x,2), round(f1(0.1, x), 5), round(f1(0.1, x)-x, 5)) for x in np.arange(0.1, 1.1, 0.1)]\n",
    "pd.DataFrame(columns=[\"Precision\", \"Recall\", \"F1-Score\", \"Difference\"], data=values)"
   ]
  },
  {
   "cell_type": "code",
   "execution_count": 35,
   "metadata": {
    "pycharm": {
     "name": "#%%\n"
    }
   },
   "outputs": [
    {
     "data": {
      "image/png": "[encoded data removed]",
      "text/plain": [
       "<Figure size 432x288 with 1 Axes>"
      ]
     },
     "metadata": {
      "needs_background": "light"
     },
     "output_type": "display_data"
    }
   ],
   "source": [
    "plot_scores(\"Recall\", \"F1 Score\", recalls, f1_scores, \"F1 with precision=0.1 and recall 0.01-1.0\", print_max_y=True)"
   ]
  },
  {
   "cell_type": "code",
   "execution_count": 36,
   "metadata": {
    "pycharm": {
     "name": "#%%\n"
    }
   },
   "outputs": [
    {
     "data": {
      "image/png": "[encoded data removed]",
      "text/plain": [
       "<Figure size 432x288 with 1 Axes>"
      ]
     },
     "metadata": {
      "needs_background": "light"
     },
     "output_type": "display_data"
    }
   ],
   "source": [
    "plot_scores(\"Recall\", \"F1 Score\", recalls, f1_scores, \"F1 with precision=0.8 and recall 0.01-1.0\", print_max_y=True)"
   ]
  },
  {
   "cell_type": "code",
   "execution_count": 37,
   "metadata": {
    "pycharm": {
     "name": "#%%\n"
    }
   },
   "outputs": [
    {
     "data": {
      "text/plain": [
       "0.18181818181818182"
      ]
     },
     "execution_count": 37,
     "metadata": {},
     "output_type": "execute_result"
    }
   ],
   "source": [
    "max(f1_scores)"
   ]
  },
  {
   "cell_type": "code",
   "execution_count": 38,
   "metadata": {
    "pycharm": {
     "name": "#%%\n"
    }
   },
   "outputs": [],
   "source": [
    "f1_scores = []\n",
    "for (p, r) in zip (precisions, recalls):\n",
    "    f1_scores.append(f1(0.1,r))"
   ]
  },
  {
   "cell_type": "code",
   "execution_count": 39,
   "metadata": {
    "pycharm": {
     "name": "#%%\n"
    }
   },
   "outputs": [
    {
     "data": {
      "text/html": [
       "<div>\n",
       "<style scoped>\n",
       "    .dataframe tbody tr th:only-of-type {\n",
       "        vertical-align: middle;\n",
       "    }\n",
       "\n",
       "    .dataframe tbody tr th {\n",
       "        vertical-align: top;\n",
       "    }\n",
       "\n",
       "    .dataframe thead th {\n",
       "        text-align: right;\n",
       "    }\n",
       "</style>\n",
       "<table border=\"1\" class=\"dataframe\">\n",
       "  <thead>\n",
       "    <tr style=\"text-align: right;\">\n",
       "      <th></th>\n",
       "      <th>Precision</th>\n",
       "      <th>Recall</th>\n",
       "      <th>F1-Score</th>\n",
       "      <th>Difference</th>\n",
       "    </tr>\n",
       "  </thead>\n",
       "  <tbody>\n",
       "    <tr>\n",
       "      <th>0</th>\n",
       "      <td>0.1</td>\n",
       "      <td>0.1</td>\n",
       "      <td>0.10000</td>\n",
       "      <td>0.00000</td>\n",
       "    </tr>\n",
       "    <tr>\n",
       "      <th>1</th>\n",
       "      <td>0.1</td>\n",
       "      <td>0.2</td>\n",
       "      <td>0.13333</td>\n",
       "      <td>-0.06667</td>\n",
       "    </tr>\n",
       "    <tr>\n",
       "      <th>2</th>\n",
       "      <td>0.1</td>\n",
       "      <td>0.3</td>\n",
       "      <td>0.15000</td>\n",
       "      <td>-0.15000</td>\n",
       "    </tr>\n",
       "    <tr>\n",
       "      <th>3</th>\n",
       "      <td>0.1</td>\n",
       "      <td>0.4</td>\n",
       "      <td>0.16000</td>\n",
       "      <td>-0.24000</td>\n",
       "    </tr>\n",
       "    <tr>\n",
       "      <th>4</th>\n",
       "      <td>0.1</td>\n",
       "      <td>0.5</td>\n",
       "      <td>0.16667</td>\n",
       "      <td>-0.33333</td>\n",
       "    </tr>\n",
       "    <tr>\n",
       "      <th>5</th>\n",
       "      <td>0.1</td>\n",
       "      <td>0.6</td>\n",
       "      <td>0.17143</td>\n",
       "      <td>-0.42857</td>\n",
       "    </tr>\n",
       "    <tr>\n",
       "      <th>6</th>\n",
       "      <td>0.1</td>\n",
       "      <td>0.7</td>\n",
       "      <td>0.17500</td>\n",
       "      <td>-0.52500</td>\n",
       "    </tr>\n",
       "    <tr>\n",
       "      <th>7</th>\n",
       "      <td>0.1</td>\n",
       "      <td>0.8</td>\n",
       "      <td>0.17778</td>\n",
       "      <td>-0.62222</td>\n",
       "    </tr>\n",
       "    <tr>\n",
       "      <th>8</th>\n",
       "      <td>0.1</td>\n",
       "      <td>0.9</td>\n",
       "      <td>0.18000</td>\n",
       "      <td>-0.72000</td>\n",
       "    </tr>\n",
       "    <tr>\n",
       "      <th>9</th>\n",
       "      <td>0.1</td>\n",
       "      <td>1.0</td>\n",
       "      <td>0.18182</td>\n",
       "      <td>-0.81818</td>\n",
       "    </tr>\n",
       "  </tbody>\n",
       "</table>\n",
       "</div>"
      ],
      "text/plain": [
       "   Precision  Recall  F1-Score  Difference\n",
       "0        0.1     0.1   0.10000     0.00000\n",
       "1        0.1     0.2   0.13333    -0.06667\n",
       "2        0.1     0.3   0.15000    -0.15000\n",
       "3        0.1     0.4   0.16000    -0.24000\n",
       "4        0.1     0.5   0.16667    -0.33333\n",
       "5        0.1     0.6   0.17143    -0.42857\n",
       "6        0.1     0.7   0.17500    -0.52500\n",
       "7        0.1     0.8   0.17778    -0.62222\n",
       "8        0.1     0.9   0.18000    -0.72000\n",
       "9        0.1     1.0   0.18182    -0.81818"
      ]
     },
     "execution_count": 39,
     "metadata": {},
     "output_type": "execute_result"
    }
   ],
   "source": [
    "values = [(0.1, round(x,2), round(f1(0.1, x), 5), round(f1(0.1, x)-x, 5)) for x in np.arange(0.1, 1.1, 0.1)]\n",
    "pd.DataFrame(columns=[\"Precision\", \"Recall\", \"F1-Score\", \"Difference\"], data=values)"
   ]
  },
  {
   "cell_type": "code",
   "execution_count": 40,
   "metadata": {
    "pycharm": {
     "name": "#%%\n"
    }
   },
   "outputs": [
    {
     "data": {
      "image/png": "[encoded data removed]",
      "text/plain": [
       "<Figure size 432x288 with 1 Axes>"
      ]
     },
     "metadata": {
      "needs_background": "light"
     },
     "output_type": "display_data"
    }
   ],
   "source": [
    "plot_scores(\"Recall\", \"F1 Score\", recalls, f1_scores, \"F1 with precision=0.1 and recall 0.01-1.0\", print_max_y=True)"
   ]
  },
  {
   "cell_type": "code",
   "execution_count": 41,
   "metadata": {
    "pycharm": {
     "name": "#%%\n"
    }
   },
   "outputs": [],
   "source": [
    "f1_scores = []\n",
    "for p in precisions:\n",
    "    p_scores = []\n",
    "    for r in recalls:\n",
    "        p_scores.append(f1(p,r))\n",
    "    f1_scores.append(max(p_scores))"
   ]
  },
  {
   "cell_type": "code",
   "execution_count": 42,
   "metadata": {
    "pycharm": {
     "name": "#%%\n"
    }
   },
   "outputs": [
    {
     "data": {
      "image/png": "[encoded data removed]",
      "text/plain": [
       "<Figure size 432x288 with 1 Axes>"
      ]
     },
     "metadata": {
      "needs_background": "light"
     },
     "output_type": "display_data"
    }
   ],
   "source": [
    "plt.plot(recalls, f1_scores) #params are (x,y) \n",
    "plt.xlabel(\"Recall\") \n",
    "plt.ylabel(\"F1 Score\") \n",
    "plt.legend((\"F1 Score\",), loc='best') \n",
    "plt.show()"
   ]
  },
  {
   "cell_type": "markdown",
   "metadata": {},
   "source": [
    "| Label | Precision | Recall | FScore | Support |\n",
    "|-------|-----------|--------|--------|---------|\n",
    "| 1     | 94%       | 83%    | 0.88   | 204     |\n",
    "| 2     | 71%       | 50%    | 0.54   | 127     |\n",
    "| ...   | ...       | ...    | ...    | ...     |\n",
    "| 4     | 80%       | 98%    | 0.89   | 838     |\n",
    "| 5     | 93%       | 81%    | 0.91   | 1190    |"
   ]
  },
  {
   "cell_type": "code",
   "execution_count": 43,
   "metadata": {
    "pycharm": {
     "name": "#%%\n"
    }
   },
   "outputs": [
    {
     "data": {
      "text/plain": [
       "[0.8815819209039547,\n",
       " 0.5867768595041322,\n",
       " 0.8808988764044944,\n",
       " 0.8658620689655172]"
      ]
     },
     "execution_count": 43,
     "metadata": {},
     "output_type": "execute_result"
    }
   ],
   "source": [
    "#https://stackoverflow.com/questions/31421413/how-to-compute-precision-recall-accuracy-and-f1-score-for-the-multiclass-case\n",
    "f1_scores = []\n",
    "precisions = [0.94, 0.71, 0.80, 0.93]\n",
    "recalls =    [0.83, 0.50, 0.98, 0.81]\n",
    "for (p, r) in zip (precisions, recalls):\n",
    "    f1_scores.append(f1(p,r))\n",
    "f1_scores"
   ]
  },
  {
   "cell_type": "markdown",
   "metadata": {},
   "source": [
    "             precision    recall  f1-score   support\n",
    "\n",
    "          0       0.65      1.00      0.79        17\n",
    "          1       0.57      0.75      0.65        16\n",
    "          2       0.33      0.06      0.10        17\n",
    "avg / total       0.52      0.60      0.51        50"
   ]
  },
  {
   "cell_type": "code",
   "execution_count": 44,
   "metadata": {
    "pycharm": {
     "name": "#%%\n"
    }
   },
   "outputs": [
    {
     "data": {
      "text/plain": [
       "[0.787878787878788, 0.6477272727272728, 0.10153846153846155]"
      ]
     },
     "execution_count": 44,
     "metadata": {},
     "output_type": "execute_result"
    }
   ],
   "source": [
    "#https://stackoverflow.com/questions/31421413/how-to-compute-precision-recall-accuracy-and-f1-score-for-the-multiclass-case\n",
    "f1_scores = []\n",
    "precisions = [0.65, 0.57, 0.33]\n",
    "recalls =    [1.00, 0.75, 0.06]\n",
    "for (p, r) in zip (precisions, recalls):\n",
    "    f1_scores.append(f1(p,r))\n",
    "f1_scores"
   ]
  },
  {
   "cell_type": "markdown",
   "metadata": {
    "pycharm": {
     "name": "#%% md\n"
    }
   },
   "source": [
    "https://machinelearningmastery.com/how-to-calculate-precision-recall-f1-and-more-for-deep-learning-models/"
   ]
  },
  {
   "cell_type": "code",
   "execution_count": 45,
   "metadata": {
    "pycharm": {
     "name": "#%%\n"
    }
   },
   "outputs": [
    {
     "data": {
      "text/plain": [
       "0.8447939711827364"
      ]
     },
     "execution_count": 45,
     "metadata": {},
     "output_type": "execute_result"
    }
   ],
   "source": [
    "f1(0.836576, 0.853175)"
   ]
  },
  {
   "cell_type": "code",
   "execution_count": 46,
   "metadata": {
    "pycharm": {
     "name": "#%%\n"
    }
   },
   "outputs": [
    {
     "data": {
      "text/plain": [
       "0.5"
      ]
     },
     "execution_count": 46,
     "metadata": {},
     "output_type": "execute_result"
    }
   ],
   "source": [
    "f1(0.5, 0.5)"
   ]
  },
  {
   "cell_type": "code",
   "execution_count": null,
   "metadata": {
    "pycharm": {
     "name": "#%%\n"
    }
   },
   "outputs": [],
   "source": []
  },
  {
   "cell_type": "code",
   "execution_count": null,
   "metadata": {
    "pycharm": {
     "name": "#%%\n"
    }
   },
   "outputs": [],
   "source": []
  },
  {
   "cell_type": "code",
   "execution_count": null,
   "metadata": {
    "pycharm": {
     "name": "#%%\n"
    }
   },
   "outputs": [],
   "source": []
  },
  {
   "cell_type": "code",
   "execution_count": 47,
   "metadata": {
    "pycharm": {
     "name": "#%%\n"
    }
   },
   "outputs": [
    {
     "data": {
      "image/png": "[encoded data removed]",
      "text/plain": [
       "<Figure size 432x288 with 1 Axes>"
      ]
     },
     "metadata": {
      "needs_background": "light"
     },
     "output_type": "display_data"
    }
   ],
   "source": [
    "plt.plot(recalls, f1_scores) #params are (x,y) \n",
    "plt.xlabel(\"Recall\") \n",
    "plt.ylabel(\"F1 Score\") \n",
    "plt.legend((\"F1 Score\",), loc='best') \n",
    "plt.show()"
   ]
  },
  {
   "cell_type": "markdown",
   "metadata": {},
   "source": [
    "| Label | Precision | Recall | FScore | Support |\n",
    "|-------|-----------|--------|--------|---------|\n",
    "| 1     | 94%       | 83%    | 0.88   | 204     |\n",
    "| 2     | 71%       | 50%    | 0.54   | 127     |\n",
    "| ...   | ...       | ...    | ...    | ...     |\n",
    "| 4     | 80%       | 98%    | 0.89   | 838     |\n",
    "| 5     | 93%       | 81%    | 0.91   | 1190    |"
   ]
  },
  {
   "cell_type": "code",
   "execution_count": 48,
   "metadata": {
    "pycharm": {
     "name": "#%%\n"
    }
   },
   "outputs": [
    {
     "data": {
      "text/plain": [
       "[0.8815819209039547,\n",
       " 0.5867768595041322,\n",
       " 0.8808988764044944,\n",
       " 0.8658620689655172]"
      ]
     },
     "execution_count": 48,
     "metadata": {},
     "output_type": "execute_result"
    }
   ],
   "source": [
    "#https://stackoverflow.com/questions/31421413/how-to-compute-precision-recall-accuracy-and-f1-score-for-the-multiclass-case\n",
    "f1_scores = []\n",
    "precisions = [0.94, 0.71, 0.80, 0.93]\n",
    "recalls =    [0.83, 0.50, 0.98, 0.81]\n",
    "for (p, r) in zip (precisions, recalls):\n",
    "    f1_scores.append(f1(p,r))\n",
    "f1_scores"
   ]
  },
  {
   "cell_type": "markdown",
   "metadata": {},
   "source": [
    "             precision    recall  f1-score   support\n",
    "\n",
    "          0       0.65      1.00      0.79        17\n",
    "          1       0.57      0.75      0.65        16\n",
    "          2       0.33      0.06      0.10        17\n",
    "avg / total       0.52      0.60      0.51        50"
   ]
  },
  {
   "cell_type": "code",
   "execution_count": 49,
   "metadata": {
    "pycharm": {
     "name": "#%%\n"
    }
   },
   "outputs": [
    {
     "data": {
      "text/plain": [
       "[0.787878787878788, 0.6477272727272728, 0.10153846153846155]"
      ]
     },
     "execution_count": 49,
     "metadata": {},
     "output_type": "execute_result"
    }
   ],
   "source": [
    "#https://stackoverflow.com/questions/31421413/how-to-compute-precision-recall-accuracy-and-f1-score-for-the-multiclass-case\n",
    "f1_scores = []\n",
    "precisions = [0.65, 0.57, 0.33]\n",
    "recalls =    [1.00, 0.75, 0.06]\n",
    "for (p, r) in zip (precisions, recalls):\n",
    "    f1_scores.append(f1(p,r))\n",
    "f1_scores"
   ]
  },
  {
   "cell_type": "markdown",
   "metadata": {
    "pycharm": {
     "name": "#%% md\n"
    }
   },
   "source": [
    "https://machinelearningmastery.com/how-to-calculate-precision-recall-f1-and-more-for-deep-learning-models/"
   ]
  },
  {
   "cell_type": "code",
   "execution_count": 50,
   "metadata": {
    "pycharm": {
     "name": "#%%\n"
    }
   },
   "outputs": [
    {
     "data": {
      "text/plain": [
       "0.8447939711827364"
      ]
     },
     "execution_count": 50,
     "metadata": {},
     "output_type": "execute_result"
    }
   ],
   "source": [
    "f1(0.836576, 0.853175)"
   ]
  },
  {
   "cell_type": "code",
   "execution_count": 51,
   "metadata": {
    "pycharm": {
     "name": "#%%\n"
    }
   },
   "outputs": [
    {
     "data": {
      "text/plain": [
       "0.5"
      ]
     },
     "execution_count": 51,
     "metadata": {},
     "output_type": "execute_result"
    }
   ],
   "source": [
    "f1(0.5, 0.5)"
   ]
  },
  {
   "cell_type": "code",
   "execution_count": 52,
   "metadata": {
    "pycharm": {
     "name": "#%%\n"
    }
   },
   "outputs": [],
   "source": [
    "cancer = np.random.uniform(low=0.0, high=1.0, size=(500,))"
   ]
  },
  {
   "cell_type": "code",
   "execution_count": 53,
   "metadata": {
    "pycharm": {
     "name": "#%%\n"
    }
   },
   "outputs": [],
   "source": [
    "cancer_onehot = cancer > 0.5"
   ]
  },
  {
   "cell_type": "code",
   "execution_count": 54,
   "metadata": {
    "pycharm": {
     "name": "#%%\n"
    }
   },
   "outputs": [
    {
     "data": {
      "text/plain": [
       "218"
      ]
     },
     "execution_count": 54,
     "metadata": {},
     "output_type": "execute_result"
    }
   ],
   "source": [
    "sum(cancer_onehot)"
   ]
  },
  {
   "cell_type": "code",
   "execution_count": 55,
   "metadata": {
    "pycharm": {
     "name": "#%%\n"
    }
   },
   "outputs": [
    {
     "data": {
      "text/plain": [
       "282"
      ]
     },
     "execution_count": 55,
     "metadata": {},
     "output_type": "execute_result"
    }
   ],
   "source": [
    "len(cancer_onehot)-sum(cancer_onehot)"
   ]
  },
  {
   "cell_type": "code",
   "execution_count": 56,
   "metadata": {
    "pycharm": {
     "name": "#%%\n"
    }
   },
   "outputs": [
    {
     "data": {
      "text/plain": [
       "0.5"
      ]
     },
     "execution_count": 56,
     "metadata": {},
     "output_type": "execute_result"
    }
   ],
   "source": [
    "f1(0.5, 0.5)"
   ]
  },
  {
   "cell_type": "code",
   "execution_count": 57,
   "metadata": {
    "pycharm": {
     "name": "#%%\n"
    }
   },
   "outputs": [],
   "source": [
    "cancer = np.random.uniform(low=0.0, high=1.0, size=(500,))"
   ]
  },
  {
   "cell_type": "code",
   "execution_count": 58,
   "metadata": {
    "pycharm": {
     "name": "#%%\n"
    }
   },
   "outputs": [],
   "source": [
    "cancer_onehot = cancer > 0.5"
   ]
  },
  {
   "cell_type": "code",
   "execution_count": 59,
   "metadata": {
    "pycharm": {
     "name": "#%%\n"
    }
   },
   "outputs": [
    {
     "data": {
      "text/plain": [
       "257"
      ]
     },
     "execution_count": 59,
     "metadata": {},
     "output_type": "execute_result"
    }
   ],
   "source": [
    "sum(cancer_onehot)"
   ]
  },
  {
   "cell_type": "code",
   "execution_count": 60,
   "metadata": {
    "pycharm": {
     "name": "#%%\n"
    }
   },
   "outputs": [
    {
     "data": {
      "text/plain": [
       "243"
      ]
     },
     "execution_count": 60,
     "metadata": {},
     "output_type": "execute_result"
    }
   ],
   "source": [
    "len(cancer_onehot)-sum(cancer_onehot)"
   ]
  },
  {
   "cell_type": "code",
   "execution_count": 61,
   "metadata": {
    "pycharm": {
     "name": "#%%\n"
    }
   },
   "outputs": [],
   "source": [
    "#data has 100 instances, 90/10 split\n",
    "#TN,TP,FN,FP\n",
    "data = [(90, 0, 10, 0, \"predict all negative\"), #predict all negative\n",
    "        (0, 10, 0, 90, \"predict all positive\"), \n",
    "        (90, 10, 0, 0, \"predict 100% correct\"), #predict 100% correct\n",
    "        (80, 10, 0, 10, \"predict 10 negative wrong, rest (90) correct\"), #predict 10 negative wrong, rest (90) correct\n",
    "        (50, 0, 10, 40, \"predict 50% correct (only negatives), 50% wrong (including all positives)\"), #predict 50% correct (only negatives), 50% wrong (including all positives)\n",
    "        (90, 1, 9, 0, \"predict all negatives and 1/10 positives correct\"), #predict all negatives and 1/10 positives correct\n",
    "        (90, 2, 8, 0, \"predict all negatives and 2/10 positives correct\"), #predict all negatives and 2/10 positives correct\n",
    "        (90, 3, 7, 0, \"predict all negatives and 3/10 positives correct\"), #predict all negatives and 3/10 positives correct\n",
    "        (80, 0, 10, 10, \"predict all positives and 10/90 negatives wrong\"), #predict all positives and 10/90 negatives wrong\n",
    "        (80, 1, 9, 10, \"predict 9/10 positives and 10/90 negatives wrong\"), #predict 9/10 positives and 10/90 negatives wrong\n",
    "        (80, 2, 8, 10, \"predict 8/10 positives and 10/90 negatives wrong\"), #predict 8/10 positives and 10/90 negatives wrong\n",
    "        (80, 3, 7, 10, \"predict 7/10 positives and 10/90 negatives wrong\"), #predict 7/10 positives and 10/90 negatives wrong\n",
    "       ]"
   ]
  },
  {
   "cell_type": "code",
   "execution_count": 62,
   "metadata": {
    "pycharm": {
     "name": "#%%\n"
    }
   },
   "outputs": [
    {
     "data": {
      "text/html": [
       "<div>\n",
       "<style scoped>\n",
       "    .dataframe tbody tr th:only-of-type {\n",
       "        vertical-align: middle;\n",
       "    }\n",
       "\n",
       "    .dataframe tbody tr th {\n",
       "        vertical-align: top;\n",
       "    }\n",
       "\n",
       "    .dataframe thead th {\n",
       "        text-align: right;\n",
       "    }\n",
       "</style>\n",
       "<table border=\"1\" class=\"dataframe\">\n",
       "  <thead>\n",
       "    <tr style=\"text-align: right;\">\n",
       "      <th></th>\n",
       "      <th>TN</th>\n",
       "      <th>TP</th>\n",
       "      <th>FN</th>\n",
       "      <th>FP</th>\n",
       "      <th>Description</th>\n",
       "    </tr>\n",
       "  </thead>\n",
       "  <tbody>\n",
       "    <tr>\n",
       "      <th>0</th>\n",
       "      <td>90</td>\n",
       "      <td>0</td>\n",
       "      <td>10</td>\n",
       "      <td>0</td>\n",
       "      <td>predict all negative</td>\n",
       "    </tr>\n",
       "    <tr>\n",
       "      <th>1</th>\n",
       "      <td>0</td>\n",
       "      <td>10</td>\n",
       "      <td>0</td>\n",
       "      <td>90</td>\n",
       "      <td>predict all positive</td>\n",
       "    </tr>\n",
       "    <tr>\n",
       "      <th>2</th>\n",
       "      <td>90</td>\n",
       "      <td>10</td>\n",
       "      <td>0</td>\n",
       "      <td>0</td>\n",
       "      <td>predict 100% correct</td>\n",
       "    </tr>\n",
       "    <tr>\n",
       "      <th>3</th>\n",
       "      <td>80</td>\n",
       "      <td>10</td>\n",
       "      <td>0</td>\n",
       "      <td>10</td>\n",
       "      <td>predict 10 negative wrong, rest (90) correct</td>\n",
       "    </tr>\n",
       "    <tr>\n",
       "      <th>4</th>\n",
       "      <td>50</td>\n",
       "      <td>0</td>\n",
       "      <td>10</td>\n",
       "      <td>40</td>\n",
       "      <td>predict 50% correct (only negatives), 50% wron...</td>\n",
       "    </tr>\n",
       "    <tr>\n",
       "      <th>5</th>\n",
       "      <td>90</td>\n",
       "      <td>1</td>\n",
       "      <td>9</td>\n",
       "      <td>0</td>\n",
       "      <td>predict all negatives and 1/10 positives correct</td>\n",
       "    </tr>\n",
       "    <tr>\n",
       "      <th>6</th>\n",
       "      <td>90</td>\n",
       "      <td>2</td>\n",
       "      <td>8</td>\n",
       "      <td>0</td>\n",
       "      <td>predict all negatives and 2/10 positives correct</td>\n",
       "    </tr>\n",
       "    <tr>\n",
       "      <th>7</th>\n",
       "      <td>90</td>\n",
       "      <td>3</td>\n",
       "      <td>7</td>\n",
       "      <td>0</td>\n",
       "      <td>predict all negatives and 3/10 positives correct</td>\n",
       "    </tr>\n",
       "    <tr>\n",
       "      <th>8</th>\n",
       "      <td>80</td>\n",
       "      <td>0</td>\n",
       "      <td>10</td>\n",
       "      <td>10</td>\n",
       "      <td>predict all positives and 10/90 negatives wrong</td>\n",
       "    </tr>\n",
       "    <tr>\n",
       "      <th>9</th>\n",
       "      <td>80</td>\n",
       "      <td>1</td>\n",
       "      <td>9</td>\n",
       "      <td>10</td>\n",
       "      <td>predict 9/10 positives and 10/90 negatives wrong</td>\n",
       "    </tr>\n",
       "    <tr>\n",
       "      <th>10</th>\n",
       "      <td>80</td>\n",
       "      <td>2</td>\n",
       "      <td>8</td>\n",
       "      <td>10</td>\n",
       "      <td>predict 8/10 positives and 10/90 negatives wrong</td>\n",
       "    </tr>\n",
       "    <tr>\n",
       "      <th>11</th>\n",
       "      <td>80</td>\n",
       "      <td>3</td>\n",
       "      <td>7</td>\n",
       "      <td>10</td>\n",
       "      <td>predict 7/10 positives and 10/90 negatives wrong</td>\n",
       "    </tr>\n",
       "  </tbody>\n",
       "</table>\n",
       "</div>"
      ],
      "text/plain": [
       "    TN  TP  FN  FP                                        Description\n",
       "0   90   0  10   0                               predict all negative\n",
       "1    0  10   0  90                               predict all positive\n",
       "2   90  10   0   0                               predict 100% correct\n",
       "3   80  10   0  10       predict 10 negative wrong, rest (90) correct\n",
       "4   50   0  10  40  predict 50% correct (only negatives), 50% wron...\n",
       "5   90   1   9   0   predict all negatives and 1/10 positives correct\n",
       "6   90   2   8   0   predict all negatives and 2/10 positives correct\n",
       "7   90   3   7   0   predict all negatives and 3/10 positives correct\n",
       "8   80   0  10  10    predict all positives and 10/90 negatives wrong\n",
       "9   80   1   9  10   predict 9/10 positives and 10/90 negatives wrong\n",
       "10  80   2   8  10   predict 8/10 positives and 10/90 negatives wrong\n",
       "11  80   3   7  10   predict 7/10 positives and 10/90 negatives wrong"
      ]
     },
     "execution_count": 62,
     "metadata": {},
     "output_type": "execute_result"
    }
   ],
   "source": [
    "df = pd.DataFrame(columns=[\"TN\", \"TP\", \"FN\", \"FP\", \"Description\"], data=data)\n",
    "df"
   ]
  },
  {
   "cell_type": "code",
   "execution_count": 63,
   "metadata": {
    "pycharm": {
     "name": "#%%\n"
    }
   },
   "outputs": [],
   "source": [
    "def precision(tp, fp):\n",
    "    div = tp+fp\n",
    "    if div == 0:\n",
    "        return np.nan\n",
    "    return tp/div"
   ]
  },
  {
   "cell_type": "code",
   "execution_count": 64,
   "metadata": {
    "pycharm": {
     "name": "#%%\n"
    }
   },
   "outputs": [
    {
     "data": {
      "text/plain": [
       "nan"
      ]
     },
     "execution_count": 64,
     "metadata": {},
     "output_type": "execute_result"
    }
   ],
   "source": [
    "precision(data[0][1], data[0][3])"
   ]
  },
  {
   "cell_type": "code",
   "execution_count": 65,
   "metadata": {
    "pycharm": {
     "name": "#%%\n"
    }
   },
   "outputs": [],
   "source": [
    "def recall(tp, fn):\n",
    "    return tp/(tp+fn)"
   ]
  },
  {
   "cell_type": "code",
   "execution_count": 66,
   "metadata": {
    "pycharm": {
     "name": "#%%\n"
    }
   },
   "outputs": [
    {
     "data": {
      "text/plain": [
       "0.0"
      ]
     },
     "execution_count": 66,
     "metadata": {},
     "output_type": "execute_result"
    }
   ],
   "source": [
    "recall(data[0][1], data[0][2])"
   ]
  },
  {
   "cell_type": "code",
   "execution_count": 67,
   "metadata": {
    "pycharm": {
     "name": "#%%\n"
    }
   },
   "outputs": [
    {
     "name": "stdout",
     "output_type": "stream",
     "text": [
      "0: nan, 0.0\n",
      "1: 0.1, 1.0\n",
      "2: 1.0, 1.0\n",
      "3: 0.5, 1.0\n",
      "4: 0.0, 0.0\n",
      "5: 1.0, 0.1\n",
      "6: 1.0, 0.2\n",
      "7: 1.0, 0.3\n",
      "8: 0.0, 0.0\n",
      "9: 0.09090909090909091, 0.1\n",
      "10: 0.16666666666666666, 0.2\n",
      "11: 0.23076923076923078, 0.3\n"
     ]
    }
   ],
   "source": [
    "f1_scores = []\n",
    "for idx, row in enumerate(data):\n",
    "    p = precision(row[1], row[3])\n",
    "    r = recall(row[1], row[2])\n",
    "    print(f\"{idx}: {p}, {r}\")\n",
    "    f1_score = f1(p, r)\n",
    "    f1_scores.append(f1_score)"
   ]
  },
  {
   "cell_type": "code",
   "execution_count": 68,
   "metadata": {
    "pycharm": {
     "name": "#%%\n"
    }
   },
   "outputs": [
    {
     "data": {
      "text/plain": [
       "[nan,\n",
       " 0.18181818181818182,\n",
       " 1.0,\n",
       " 0.6666666666666666,\n",
       " nan,\n",
       " 0.18181818181818182,\n",
       " 0.33333333333333337,\n",
       " 0.4615384615384615,\n",
       " nan,\n",
       " 0.09523809523809525,\n",
       " 0.1818181818181818,\n",
       " 0.2608695652173913]"
      ]
     },
     "execution_count": 68,
     "metadata": {},
     "output_type": "execute_result"
    }
   ],
   "source": [
    "f1_scores"
   ]
  },
  {
   "cell_type": "code",
   "execution_count": 69,
   "metadata": {
    "pycharm": {
     "name": "#%%\n"
    }
   },
   "outputs": [
    {
     "data": {
      "text/html": [
       "<div>\n",
       "<style scoped>\n",
       "    .dataframe tbody tr th:only-of-type {\n",
       "        vertical-align: middle;\n",
       "    }\n",
       "\n",
       "    .dataframe tbody tr th {\n",
       "        vertical-align: top;\n",
       "    }\n",
       "\n",
       "    .dataframe thead th {\n",
       "        text-align: right;\n",
       "    }\n",
       "</style>\n",
       "<table border=\"1\" class=\"dataframe\">\n",
       "  <thead>\n",
       "    <tr style=\"text-align: right;\">\n",
       "      <th></th>\n",
       "      <th>TN</th>\n",
       "      <th>TP</th>\n",
       "      <th>FN</th>\n",
       "      <th>FP</th>\n",
       "      <th>Description</th>\n",
       "      <th>F1</th>\n",
       "    </tr>\n",
       "  </thead>\n",
       "  <tbody>\n",
       "    <tr>\n",
       "      <th>0</th>\n",
       "      <td>90</td>\n",
       "      <td>0</td>\n",
       "      <td>10</td>\n",
       "      <td>0</td>\n",
       "      <td>predict all negative</td>\n",
       "      <td>NaN</td>\n",
       "    </tr>\n",
       "    <tr>\n",
       "      <th>1</th>\n",
       "      <td>0</td>\n",
       "      <td>10</td>\n",
       "      <td>0</td>\n",
       "      <td>90</td>\n",
       "      <td>predict all positive</td>\n",
       "      <td>0.181818</td>\n",
       "    </tr>\n",
       "    <tr>\n",
       "      <th>2</th>\n",
       "      <td>90</td>\n",
       "      <td>10</td>\n",
       "      <td>0</td>\n",
       "      <td>0</td>\n",
       "      <td>predict 100% correct</td>\n",
       "      <td>1.000000</td>\n",
       "    </tr>\n",
       "    <tr>\n",
       "      <th>3</th>\n",
       "      <td>80</td>\n",
       "      <td>10</td>\n",
       "      <td>0</td>\n",
       "      <td>10</td>\n",
       "      <td>predict 10 negative wrong, rest (90) correct</td>\n",
       "      <td>0.666667</td>\n",
       "    </tr>\n",
       "    <tr>\n",
       "      <th>4</th>\n",
       "      <td>50</td>\n",
       "      <td>0</td>\n",
       "      <td>10</td>\n",
       "      <td>40</td>\n",
       "      <td>predict 50% correct (only negatives), 50% wron...</td>\n",
       "      <td>NaN</td>\n",
       "    </tr>\n",
       "    <tr>\n",
       "      <th>5</th>\n",
       "      <td>90</td>\n",
       "      <td>1</td>\n",
       "      <td>9</td>\n",
       "      <td>0</td>\n",
       "      <td>predict all negatives and 1/10 positives correct</td>\n",
       "      <td>0.181818</td>\n",
       "    </tr>\n",
       "    <tr>\n",
       "      <th>6</th>\n",
       "      <td>90</td>\n",
       "      <td>2</td>\n",
       "      <td>8</td>\n",
       "      <td>0</td>\n",
       "      <td>predict all negatives and 2/10 positives correct</td>\n",
       "      <td>0.333333</td>\n",
       "    </tr>\n",
       "    <tr>\n",
       "      <th>7</th>\n",
       "      <td>90</td>\n",
       "      <td>3</td>\n",
       "      <td>7</td>\n",
       "      <td>0</td>\n",
       "      <td>predict all negatives and 3/10 positives correct</td>\n",
       "      <td>0.461538</td>\n",
       "    </tr>\n",
       "    <tr>\n",
       "      <th>8</th>\n",
       "      <td>80</td>\n",
       "      <td>0</td>\n",
       "      <td>10</td>\n",
       "      <td>10</td>\n",
       "      <td>predict all positives and 10/90 negatives wrong</td>\n",
       "      <td>NaN</td>\n",
       "    </tr>\n",
       "    <tr>\n",
       "      <th>9</th>\n",
       "      <td>80</td>\n",
       "      <td>1</td>\n",
       "      <td>9</td>\n",
       "      <td>10</td>\n",
       "      <td>predict 9/10 positives and 10/90 negatives wrong</td>\n",
       "      <td>0.095238</td>\n",
       "    </tr>\n",
       "    <tr>\n",
       "      <th>10</th>\n",
       "      <td>80</td>\n",
       "      <td>2</td>\n",
       "      <td>8</td>\n",
       "      <td>10</td>\n",
       "      <td>predict 8/10 positives and 10/90 negatives wrong</td>\n",
       "      <td>0.181818</td>\n",
       "    </tr>\n",
       "    <tr>\n",
       "      <th>11</th>\n",
       "      <td>80</td>\n",
       "      <td>3</td>\n",
       "      <td>7</td>\n",
       "      <td>10</td>\n",
       "      <td>predict 7/10 positives and 10/90 negatives wrong</td>\n",
       "      <td>0.260870</td>\n",
       "    </tr>\n",
       "  </tbody>\n",
       "</table>\n",
       "</div>"
      ],
      "text/plain": [
       "    TN  TP  FN  FP                                        Description  \\\n",
       "0   90   0  10   0                               predict all negative   \n",
       "1    0  10   0  90                               predict all positive   \n",
       "2   90  10   0   0                               predict 100% correct   \n",
       "3   80  10   0  10       predict 10 negative wrong, rest (90) correct   \n",
       "4   50   0  10  40  predict 50% correct (only negatives), 50% wron...   \n",
       "5   90   1   9   0   predict all negatives and 1/10 positives correct   \n",
       "6   90   2   8   0   predict all negatives and 2/10 positives correct   \n",
       "7   90   3   7   0   predict all negatives and 3/10 positives correct   \n",
       "8   80   0  10  10    predict all positives and 10/90 negatives wrong   \n",
       "9   80   1   9  10   predict 9/10 positives and 10/90 negatives wrong   \n",
       "10  80   2   8  10   predict 8/10 positives and 10/90 negatives wrong   \n",
       "11  80   3   7  10   predict 7/10 positives and 10/90 negatives wrong   \n",
       "\n",
       "          F1  \n",
       "0        NaN  \n",
       "1   0.181818  \n",
       "2   1.000000  \n",
       "3   0.666667  \n",
       "4        NaN  \n",
       "5   0.181818  \n",
       "6   0.333333  \n",
       "7   0.461538  \n",
       "8        NaN  \n",
       "9   0.095238  \n",
       "10  0.181818  \n",
       "11  0.260870  "
      ]
     },
     "execution_count": 69,
     "metadata": {},
     "output_type": "execute_result"
    }
   ],
   "source": [
    "df[\"F1\"]=f1_scores\n",
    "df"
   ]
  },
  {
   "cell_type": "code",
   "execution_count": 70,
   "metadata": {
    "pycharm": {
     "name": "#%%\n"
    }
   },
   "outputs": [],
   "source": [
    "def acc(TN, TP, FN, FP):\n",
    "    return (TP + TN)/(TP + TN + FP + FN)"
   ]
  },
  {
   "cell_type": "code",
   "execution_count": 71,
   "metadata": {
    "pycharm": {
     "name": "#%%\n"
    }
   },
   "outputs": [
    {
     "data": {
      "text/plain": [
       "[0.9, 0.1, 1.0, 0.9, 0.5, 0.91, 0.92, 0.93, 0.8, 0.81, 0.82, 0.83]"
      ]
     },
     "execution_count": 71,
     "metadata": {},
     "output_type": "execute_result"
    }
   ],
   "source": [
    "accuracies = [acc(row[0], row[1], row[2], row[3]) for row in data]\n",
    "accuracies"
   ]
  },
  {
   "cell_type": "code",
   "execution_count": 72,
   "metadata": {
    "pycharm": {
     "name": "#%%\n"
    }
   },
   "outputs": [],
   "source": [
    "df[\"ACC\"] = accuracies"
   ]
  },
  {
   "cell_type": "code",
   "execution_count": 73,
   "metadata": {
    "pycharm": {
     "name": "#%%\n"
    }
   },
   "outputs": [
    {
     "data": {
      "text/html": [
       "<div>\n",
       "<style scoped>\n",
       "    .dataframe tbody tr th:only-of-type {\n",
       "        vertical-align: middle;\n",
       "    }\n",
       "\n",
       "    .dataframe tbody tr th {\n",
       "        vertical-align: top;\n",
       "    }\n",
       "\n",
       "    .dataframe thead th {\n",
       "        text-align: right;\n",
       "    }\n",
       "</style>\n",
       "<table border=\"1\" class=\"dataframe\">\n",
       "  <thead>\n",
       "    <tr style=\"text-align: right;\">\n",
       "      <th></th>\n",
       "      <th>TN</th>\n",
       "      <th>TP</th>\n",
       "      <th>FN</th>\n",
       "      <th>FP</th>\n",
       "      <th>Description</th>\n",
       "      <th>F1</th>\n",
       "      <th>ACC</th>\n",
       "    </tr>\n",
       "  </thead>\n",
       "  <tbody>\n",
       "    <tr>\n",
       "      <th>0</th>\n",
       "      <td>90</td>\n",
       "      <td>0</td>\n",
       "      <td>10</td>\n",
       "      <td>0</td>\n",
       "      <td>predict all negative</td>\n",
       "      <td>NaN</td>\n",
       "      <td>0.90</td>\n",
       "    </tr>\n",
       "    <tr>\n",
       "      <th>1</th>\n",
       "      <td>0</td>\n",
       "      <td>10</td>\n",
       "      <td>0</td>\n",
       "      <td>90</td>\n",
       "      <td>predict all positive</td>\n",
       "      <td>0.181818</td>\n",
       "      <td>0.10</td>\n",
       "    </tr>\n",
       "    <tr>\n",
       "      <th>2</th>\n",
       "      <td>90</td>\n",
       "      <td>10</td>\n",
       "      <td>0</td>\n",
       "      <td>0</td>\n",
       "      <td>predict 100% correct</td>\n",
       "      <td>1.000000</td>\n",
       "      <td>1.00</td>\n",
       "    </tr>\n",
       "    <tr>\n",
       "      <th>3</th>\n",
       "      <td>80</td>\n",
       "      <td>10</td>\n",
       "      <td>0</td>\n",
       "      <td>10</td>\n",
       "      <td>predict 10 negative wrong, rest (90) correct</td>\n",
       "      <td>0.666667</td>\n",
       "      <td>0.90</td>\n",
       "    </tr>\n",
       "    <tr>\n",
       "      <th>4</th>\n",
       "      <td>50</td>\n",
       "      <td>0</td>\n",
       "      <td>10</td>\n",
       "      <td>40</td>\n",
       "      <td>predict 50% correct (only negatives), 50% wron...</td>\n",
       "      <td>NaN</td>\n",
       "      <td>0.50</td>\n",
       "    </tr>\n",
       "    <tr>\n",
       "      <th>5</th>\n",
       "      <td>90</td>\n",
       "      <td>1</td>\n",
       "      <td>9</td>\n",
       "      <td>0</td>\n",
       "      <td>predict all negatives and 1/10 positives correct</td>\n",
       "      <td>0.181818</td>\n",
       "      <td>0.91</td>\n",
       "    </tr>\n",
       "    <tr>\n",
       "      <th>6</th>\n",
       "      <td>90</td>\n",
       "      <td>2</td>\n",
       "      <td>8</td>\n",
       "      <td>0</td>\n",
       "      <td>predict all negatives and 2/10 positives correct</td>\n",
       "      <td>0.333333</td>\n",
       "      <td>0.92</td>\n",
       "    </tr>\n",
       "    <tr>\n",
       "      <th>7</th>\n",
       "      <td>90</td>\n",
       "      <td>3</td>\n",
       "      <td>7</td>\n",
       "      <td>0</td>\n",
       "      <td>predict all negatives and 3/10 positives correct</td>\n",
       "      <td>0.461538</td>\n",
       "      <td>0.93</td>\n",
       "    </tr>\n",
       "    <tr>\n",
       "      <th>8</th>\n",
       "      <td>80</td>\n",
       "      <td>0</td>\n",
       "      <td>10</td>\n",
       "      <td>10</td>\n",
       "      <td>predict all positives and 10/90 negatives wrong</td>\n",
       "      <td>NaN</td>\n",
       "      <td>0.80</td>\n",
       "    </tr>\n",
       "    <tr>\n",
       "      <th>9</th>\n",
       "      <td>80</td>\n",
       "      <td>1</td>\n",
       "      <td>9</td>\n",
       "      <td>10</td>\n",
       "      <td>predict 9/10 positives and 10/90 negatives wrong</td>\n",
       "      <td>0.095238</td>\n",
       "      <td>0.81</td>\n",
       "    </tr>\n",
       "    <tr>\n",
       "      <th>10</th>\n",
       "      <td>80</td>\n",
       "      <td>2</td>\n",
       "      <td>8</td>\n",
       "      <td>10</td>\n",
       "      <td>predict 8/10 positives and 10/90 negatives wrong</td>\n",
       "      <td>0.181818</td>\n",
       "      <td>0.82</td>\n",
       "    </tr>\n",
       "    <tr>\n",
       "      <th>11</th>\n",
       "      <td>80</td>\n",
       "      <td>3</td>\n",
       "      <td>7</td>\n",
       "      <td>10</td>\n",
       "      <td>predict 7/10 positives and 10/90 negatives wrong</td>\n",
       "      <td>0.260870</td>\n",
       "      <td>0.83</td>\n",
       "    </tr>\n",
       "  </tbody>\n",
       "</table>\n",
       "</div>"
      ],
      "text/plain": [
       "    TN  TP  FN  FP                                        Description  \\\n",
       "0   90   0  10   0                               predict all negative   \n",
       "1    0  10   0  90                               predict all positive   \n",
       "2   90  10   0   0                               predict 100% correct   \n",
       "3   80  10   0  10       predict 10 negative wrong, rest (90) correct   \n",
       "4   50   0  10  40  predict 50% correct (only negatives), 50% wron...   \n",
       "5   90   1   9   0   predict all negatives and 1/10 positives correct   \n",
       "6   90   2   8   0   predict all negatives and 2/10 positives correct   \n",
       "7   90   3   7   0   predict all negatives and 3/10 positives correct   \n",
       "8   80   0  10  10    predict all positives and 10/90 negatives wrong   \n",
       "9   80   1   9  10   predict 9/10 positives and 10/90 negatives wrong   \n",
       "10  80   2   8  10   predict 8/10 positives and 10/90 negatives wrong   \n",
       "11  80   3   7  10   predict 7/10 positives and 10/90 negatives wrong   \n",
       "\n",
       "          F1   ACC  \n",
       "0        NaN  0.90  \n",
       "1   0.181818  0.10  \n",
       "2   1.000000  1.00  \n",
       "3   0.666667  0.90  \n",
       "4        NaN  0.50  \n",
       "5   0.181818  0.91  \n",
       "6   0.333333  0.92  \n",
       "7   0.461538  0.93  \n",
       "8        NaN  0.80  \n",
       "9   0.095238  0.81  \n",
       "10  0.181818  0.82  \n",
       "11  0.260870  0.83  "
      ]
     },
     "execution_count": 73,
     "metadata": {},
     "output_type": "execute_result"
    }
   ],
   "source": [
    "df"
   ]
  },
  {
   "cell_type": "code",
   "execution_count": 74,
   "metadata": {},
   "outputs": [],
   "source": [
    "df = df[[\"TN\", \"TP\", \"FN\", \"FP\", \"F1\", \"ACC\", \"Description\"]]"
   ]
  },
  {
   "cell_type": "code",
   "execution_count": 75,
   "metadata": {},
   "outputs": [
    {
     "data": {
      "text/html": [
       "<style  type=\"text/css\" >\n",
       "    #T_a73ca2a6_f258_11ea_a2b8_a38f868d0b43 th {\n",
       "          text-align: left;\n",
       "    }#T_a73ca2a6_f258_11ea_a2b8_a38f868d0b43row0_col6,#T_a73ca2a6_f258_11ea_a2b8_a38f868d0b43row1_col6,#T_a73ca2a6_f258_11ea_a2b8_a38f868d0b43row2_col6,#T_a73ca2a6_f258_11ea_a2b8_a38f868d0b43row3_col6,#T_a73ca2a6_f258_11ea_a2b8_a38f868d0b43row4_col6,#T_a73ca2a6_f258_11ea_a2b8_a38f868d0b43row5_col6,#T_a73ca2a6_f258_11ea_a2b8_a38f868d0b43row6_col6,#T_a73ca2a6_f258_11ea_a2b8_a38f868d0b43row7_col6,#T_a73ca2a6_f258_11ea_a2b8_a38f868d0b43row8_col6,#T_a73ca2a6_f258_11ea_a2b8_a38f868d0b43row9_col6,#T_a73ca2a6_f258_11ea_a2b8_a38f868d0b43row10_col6,#T_a73ca2a6_f258_11ea_a2b8_a38f868d0b43row11_col6{\n",
       "            text-align:  left;\n",
       "        }</style><table id=\"T_a73ca2a6_f258_11ea_a2b8_a38f868d0b43\" ><thead>    <tr>        <th class=\"blank level0\" ></th>        <th class=\"col_heading level0 col0\" >TN</th>        <th class=\"col_heading level0 col1\" >TP</th>        <th class=\"col_heading level0 col2\" >FN</th>        <th class=\"col_heading level0 col3\" >FP</th>        <th class=\"col_heading level0 col4\" >F1</th>        <th class=\"col_heading level0 col5\" >ACC</th>        <th class=\"col_heading level0 col6\" >Description</th>    </tr></thead><tbody>\n",
       "                <tr>\n",
       "                        <th id=\"T_a73ca2a6_f258_11ea_a2b8_a38f868d0b43level0_row0\" class=\"row_heading level0 row0\" >0</th>\n",
       "                        <td id=\"T_a73ca2a6_f258_11ea_a2b8_a38f868d0b43row0_col0\" class=\"data row0 col0\" >90</td>\n",
       "                        <td id=\"T_a73ca2a6_f258_11ea_a2b8_a38f868d0b43row0_col1\" class=\"data row0 col1\" >0</td>\n",
       "                        <td id=\"T_a73ca2a6_f258_11ea_a2b8_a38f868d0b43row0_col2\" class=\"data row0 col2\" >10</td>\n",
       "                        <td id=\"T_a73ca2a6_f258_11ea_a2b8_a38f868d0b43row0_col3\" class=\"data row0 col3\" >0</td>\n",
       "                        <td id=\"T_a73ca2a6_f258_11ea_a2b8_a38f868d0b43row0_col4\" class=\"data row0 col4\" >nan</td>\n",
       "                        <td id=\"T_a73ca2a6_f258_11ea_a2b8_a38f868d0b43row0_col5\" class=\"data row0 col5\" >0.900000</td>\n",
       "                        <td id=\"T_a73ca2a6_f258_11ea_a2b8_a38f868d0b43row0_col6\" class=\"data row0 col6\" >predict all negative</td>\n",
       "            </tr>\n",
       "            <tr>\n",
       "                        <th id=\"T_a73ca2a6_f258_11ea_a2b8_a38f868d0b43level0_row1\" class=\"row_heading level0 row1\" >1</th>\n",
       "                        <td id=\"T_a73ca2a6_f258_11ea_a2b8_a38f868d0b43row1_col0\" class=\"data row1 col0\" >0</td>\n",
       "                        <td id=\"T_a73ca2a6_f258_11ea_a2b8_a38f868d0b43row1_col1\" class=\"data row1 col1\" >10</td>\n",
       "                        <td id=\"T_a73ca2a6_f258_11ea_a2b8_a38f868d0b43row1_col2\" class=\"data row1 col2\" >0</td>\n",
       "                        <td id=\"T_a73ca2a6_f258_11ea_a2b8_a38f868d0b43row1_col3\" class=\"data row1 col3\" >90</td>\n",
       "                        <td id=\"T_a73ca2a6_f258_11ea_a2b8_a38f868d0b43row1_col4\" class=\"data row1 col4\" >0.181818</td>\n",
       "                        <td id=\"T_a73ca2a6_f258_11ea_a2b8_a38f868d0b43row1_col5\" class=\"data row1 col5\" >0.100000</td>\n",
       "                        <td id=\"T_a73ca2a6_f258_11ea_a2b8_a38f868d0b43row1_col6\" class=\"data row1 col6\" >predict all positive</td>\n",
       "            </tr>\n",
       "            <tr>\n",
       "                        <th id=\"T_a73ca2a6_f258_11ea_a2b8_a38f868d0b43level0_row2\" class=\"row_heading level0 row2\" >2</th>\n",
       "                        <td id=\"T_a73ca2a6_f258_11ea_a2b8_a38f868d0b43row2_col0\" class=\"data row2 col0\" >90</td>\n",
       "                        <td id=\"T_a73ca2a6_f258_11ea_a2b8_a38f868d0b43row2_col1\" class=\"data row2 col1\" >10</td>\n",
       "                        <td id=\"T_a73ca2a6_f258_11ea_a2b8_a38f868d0b43row2_col2\" class=\"data row2 col2\" >0</td>\n",
       "                        <td id=\"T_a73ca2a6_f258_11ea_a2b8_a38f868d0b43row2_col3\" class=\"data row2 col3\" >0</td>\n",
       "                        <td id=\"T_a73ca2a6_f258_11ea_a2b8_a38f868d0b43row2_col4\" class=\"data row2 col4\" >1.000000</td>\n",
       "                        <td id=\"T_a73ca2a6_f258_11ea_a2b8_a38f868d0b43row2_col5\" class=\"data row2 col5\" >1.000000</td>\n",
       "                        <td id=\"T_a73ca2a6_f258_11ea_a2b8_a38f868d0b43row2_col6\" class=\"data row2 col6\" >predict 100% correct</td>\n",
       "            </tr>\n",
       "            <tr>\n",
       "                        <th id=\"T_a73ca2a6_f258_11ea_a2b8_a38f868d0b43level0_row3\" class=\"row_heading level0 row3\" >3</th>\n",
       "                        <td id=\"T_a73ca2a6_f258_11ea_a2b8_a38f868d0b43row3_col0\" class=\"data row3 col0\" >80</td>\n",
       "                        <td id=\"T_a73ca2a6_f258_11ea_a2b8_a38f868d0b43row3_col1\" class=\"data row3 col1\" >10</td>\n",
       "                        <td id=\"T_a73ca2a6_f258_11ea_a2b8_a38f868d0b43row3_col2\" class=\"data row3 col2\" >0</td>\n",
       "                        <td id=\"T_a73ca2a6_f258_11ea_a2b8_a38f868d0b43row3_col3\" class=\"data row3 col3\" >10</td>\n",
       "                        <td id=\"T_a73ca2a6_f258_11ea_a2b8_a38f868d0b43row3_col4\" class=\"data row3 col4\" >0.666667</td>\n",
       "                        <td id=\"T_a73ca2a6_f258_11ea_a2b8_a38f868d0b43row3_col5\" class=\"data row3 col5\" >0.900000</td>\n",
       "                        <td id=\"T_a73ca2a6_f258_11ea_a2b8_a38f868d0b43row3_col6\" class=\"data row3 col6\" >predict 10 negative wrong, rest (90) correct</td>\n",
       "            </tr>\n",
       "            <tr>\n",
       "                        <th id=\"T_a73ca2a6_f258_11ea_a2b8_a38f868d0b43level0_row4\" class=\"row_heading level0 row4\" >4</th>\n",
       "                        <td id=\"T_a73ca2a6_f258_11ea_a2b8_a38f868d0b43row4_col0\" class=\"data row4 col0\" >50</td>\n",
       "                        <td id=\"T_a73ca2a6_f258_11ea_a2b8_a38f868d0b43row4_col1\" class=\"data row4 col1\" >0</td>\n",
       "                        <td id=\"T_a73ca2a6_f258_11ea_a2b8_a38f868d0b43row4_col2\" class=\"data row4 col2\" >10</td>\n",
       "                        <td id=\"T_a73ca2a6_f258_11ea_a2b8_a38f868d0b43row4_col3\" class=\"data row4 col3\" >40</td>\n",
       "                        <td id=\"T_a73ca2a6_f258_11ea_a2b8_a38f868d0b43row4_col4\" class=\"data row4 col4\" >nan</td>\n",
       "                        <td id=\"T_a73ca2a6_f258_11ea_a2b8_a38f868d0b43row4_col5\" class=\"data row4 col5\" >0.500000</td>\n",
       "                        <td id=\"T_a73ca2a6_f258_11ea_a2b8_a38f868d0b43row4_col6\" class=\"data row4 col6\" >predict 50% correct (only negatives), 50% wrong (including all positives)</td>\n",
       "            </tr>\n",
       "            <tr>\n",
       "                        <th id=\"T_a73ca2a6_f258_11ea_a2b8_a38f868d0b43level0_row5\" class=\"row_heading level0 row5\" >5</th>\n",
       "                        <td id=\"T_a73ca2a6_f258_11ea_a2b8_a38f868d0b43row5_col0\" class=\"data row5 col0\" >90</td>\n",
       "                        <td id=\"T_a73ca2a6_f258_11ea_a2b8_a38f868d0b43row5_col1\" class=\"data row5 col1\" >1</td>\n",
       "                        <td id=\"T_a73ca2a6_f258_11ea_a2b8_a38f868d0b43row5_col2\" class=\"data row5 col2\" >9</td>\n",
       "                        <td id=\"T_a73ca2a6_f258_11ea_a2b8_a38f868d0b43row5_col3\" class=\"data row5 col3\" >0</td>\n",
       "                        <td id=\"T_a73ca2a6_f258_11ea_a2b8_a38f868d0b43row5_col4\" class=\"data row5 col4\" >0.181818</td>\n",
       "                        <td id=\"T_a73ca2a6_f258_11ea_a2b8_a38f868d0b43row5_col5\" class=\"data row5 col5\" >0.910000</td>\n",
       "                        <td id=\"T_a73ca2a6_f258_11ea_a2b8_a38f868d0b43row5_col6\" class=\"data row5 col6\" >predict all negatives and 1/10 positives correct</td>\n",
       "            </tr>\n",
       "            <tr>\n",
       "                        <th id=\"T_a73ca2a6_f258_11ea_a2b8_a38f868d0b43level0_row6\" class=\"row_heading level0 row6\" >6</th>\n",
       "                        <td id=\"T_a73ca2a6_f258_11ea_a2b8_a38f868d0b43row6_col0\" class=\"data row6 col0\" >90</td>\n",
       "                        <td id=\"T_a73ca2a6_f258_11ea_a2b8_a38f868d0b43row6_col1\" class=\"data row6 col1\" >2</td>\n",
       "                        <td id=\"T_a73ca2a6_f258_11ea_a2b8_a38f868d0b43row6_col2\" class=\"data row6 col2\" >8</td>\n",
       "                        <td id=\"T_a73ca2a6_f258_11ea_a2b8_a38f868d0b43row6_col3\" class=\"data row6 col3\" >0</td>\n",
       "                        <td id=\"T_a73ca2a6_f258_11ea_a2b8_a38f868d0b43row6_col4\" class=\"data row6 col4\" >0.333333</td>\n",
       "                        <td id=\"T_a73ca2a6_f258_11ea_a2b8_a38f868d0b43row6_col5\" class=\"data row6 col5\" >0.920000</td>\n",
       "                        <td id=\"T_a73ca2a6_f258_11ea_a2b8_a38f868d0b43row6_col6\" class=\"data row6 col6\" >predict all negatives and 2/10 positives correct</td>\n",
       "            </tr>\n",
       "            <tr>\n",
       "                        <th id=\"T_a73ca2a6_f258_11ea_a2b8_a38f868d0b43level0_row7\" class=\"row_heading level0 row7\" >7</th>\n",
       "                        <td id=\"T_a73ca2a6_f258_11ea_a2b8_a38f868d0b43row7_col0\" class=\"data row7 col0\" >90</td>\n",
       "                        <td id=\"T_a73ca2a6_f258_11ea_a2b8_a38f868d0b43row7_col1\" class=\"data row7 col1\" >3</td>\n",
       "                        <td id=\"T_a73ca2a6_f258_11ea_a2b8_a38f868d0b43row7_col2\" class=\"data row7 col2\" >7</td>\n",
       "                        <td id=\"T_a73ca2a6_f258_11ea_a2b8_a38f868d0b43row7_col3\" class=\"data row7 col3\" >0</td>\n",
       "                        <td id=\"T_a73ca2a6_f258_11ea_a2b8_a38f868d0b43row7_col4\" class=\"data row7 col4\" >0.461538</td>\n",
       "                        <td id=\"T_a73ca2a6_f258_11ea_a2b8_a38f868d0b43row7_col5\" class=\"data row7 col5\" >0.930000</td>\n",
       "                        <td id=\"T_a73ca2a6_f258_11ea_a2b8_a38f868d0b43row7_col6\" class=\"data row7 col6\" >predict all negatives and 3/10 positives correct</td>\n",
       "            </tr>\n",
       "            <tr>\n",
       "                        <th id=\"T_a73ca2a6_f258_11ea_a2b8_a38f868d0b43level0_row8\" class=\"row_heading level0 row8\" >8</th>\n",
       "                        <td id=\"T_a73ca2a6_f258_11ea_a2b8_a38f868d0b43row8_col0\" class=\"data row8 col0\" >80</td>\n",
       "                        <td id=\"T_a73ca2a6_f258_11ea_a2b8_a38f868d0b43row8_col1\" class=\"data row8 col1\" >0</td>\n",
       "                        <td id=\"T_a73ca2a6_f258_11ea_a2b8_a38f868d0b43row8_col2\" class=\"data row8 col2\" >10</td>\n",
       "                        <td id=\"T_a73ca2a6_f258_11ea_a2b8_a38f868d0b43row8_col3\" class=\"data row8 col3\" >10</td>\n",
       "                        <td id=\"T_a73ca2a6_f258_11ea_a2b8_a38f868d0b43row8_col4\" class=\"data row8 col4\" >nan</td>\n",
       "                        <td id=\"T_a73ca2a6_f258_11ea_a2b8_a38f868d0b43row8_col5\" class=\"data row8 col5\" >0.800000</td>\n",
       "                        <td id=\"T_a73ca2a6_f258_11ea_a2b8_a38f868d0b43row8_col6\" class=\"data row8 col6\" >predict all positives and 10/90 negatives wrong</td>\n",
       "            </tr>\n",
       "            <tr>\n",
       "                        <th id=\"T_a73ca2a6_f258_11ea_a2b8_a38f868d0b43level0_row9\" class=\"row_heading level0 row9\" >9</th>\n",
       "                        <td id=\"T_a73ca2a6_f258_11ea_a2b8_a38f868d0b43row9_col0\" class=\"data row9 col0\" >80</td>\n",
       "                        <td id=\"T_a73ca2a6_f258_11ea_a2b8_a38f868d0b43row9_col1\" class=\"data row9 col1\" >1</td>\n",
       "                        <td id=\"T_a73ca2a6_f258_11ea_a2b8_a38f868d0b43row9_col2\" class=\"data row9 col2\" >9</td>\n",
       "                        <td id=\"T_a73ca2a6_f258_11ea_a2b8_a38f868d0b43row9_col3\" class=\"data row9 col3\" >10</td>\n",
       "                        <td id=\"T_a73ca2a6_f258_11ea_a2b8_a38f868d0b43row9_col4\" class=\"data row9 col4\" >0.095238</td>\n",
       "                        <td id=\"T_a73ca2a6_f258_11ea_a2b8_a38f868d0b43row9_col5\" class=\"data row9 col5\" >0.810000</td>\n",
       "                        <td id=\"T_a73ca2a6_f258_11ea_a2b8_a38f868d0b43row9_col6\" class=\"data row9 col6\" >predict 9/10 positives and 10/90 negatives wrong</td>\n",
       "            </tr>\n",
       "            <tr>\n",
       "                        <th id=\"T_a73ca2a6_f258_11ea_a2b8_a38f868d0b43level0_row10\" class=\"row_heading level0 row10\" >10</th>\n",
       "                        <td id=\"T_a73ca2a6_f258_11ea_a2b8_a38f868d0b43row10_col0\" class=\"data row10 col0\" >80</td>\n",
       "                        <td id=\"T_a73ca2a6_f258_11ea_a2b8_a38f868d0b43row10_col1\" class=\"data row10 col1\" >2</td>\n",
       "                        <td id=\"T_a73ca2a6_f258_11ea_a2b8_a38f868d0b43row10_col2\" class=\"data row10 col2\" >8</td>\n",
       "                        <td id=\"T_a73ca2a6_f258_11ea_a2b8_a38f868d0b43row10_col3\" class=\"data row10 col3\" >10</td>\n",
       "                        <td id=\"T_a73ca2a6_f258_11ea_a2b8_a38f868d0b43row10_col4\" class=\"data row10 col4\" >0.181818</td>\n",
       "                        <td id=\"T_a73ca2a6_f258_11ea_a2b8_a38f868d0b43row10_col5\" class=\"data row10 col5\" >0.820000</td>\n",
       "                        <td id=\"T_a73ca2a6_f258_11ea_a2b8_a38f868d0b43row10_col6\" class=\"data row10 col6\" >predict 8/10 positives and 10/90 negatives wrong</td>\n",
       "            </tr>\n",
       "            <tr>\n",
       "                        <th id=\"T_a73ca2a6_f258_11ea_a2b8_a38f868d0b43level0_row11\" class=\"row_heading level0 row11\" >11</th>\n",
       "                        <td id=\"T_a73ca2a6_f258_11ea_a2b8_a38f868d0b43row11_col0\" class=\"data row11 col0\" >80</td>\n",
       "                        <td id=\"T_a73ca2a6_f258_11ea_a2b8_a38f868d0b43row11_col1\" class=\"data row11 col1\" >3</td>\n",
       "                        <td id=\"T_a73ca2a6_f258_11ea_a2b8_a38f868d0b43row11_col2\" class=\"data row11 col2\" >7</td>\n",
       "                        <td id=\"T_a73ca2a6_f258_11ea_a2b8_a38f868d0b43row11_col3\" class=\"data row11 col3\" >10</td>\n",
       "                        <td id=\"T_a73ca2a6_f258_11ea_a2b8_a38f868d0b43row11_col4\" class=\"data row11 col4\" >0.260870</td>\n",
       "                        <td id=\"T_a73ca2a6_f258_11ea_a2b8_a38f868d0b43row11_col5\" class=\"data row11 col5\" >0.830000</td>\n",
       "                        <td id=\"T_a73ca2a6_f258_11ea_a2b8_a38f868d0b43row11_col6\" class=\"data row11 col6\" >predict 7/10 positives and 10/90 negatives wrong</td>\n",
       "            </tr>\n",
       "    </tbody></table>"
      ],
      "text/plain": [
       "<pandas.io.formats.style.Styler at 0x7f80e8c65a60>"
      ]
     },
     "execution_count": 75,
     "metadata": {},
     "output_type": "execute_result"
    }
   ],
   "source": [
    "#https://stackoverflow.com/questions/17232013/how-to-set-the-pandas-dataframe-data-left-right-alignment\n",
    "df.style.set_properties(subset=[\"Description\"], **{'text-align': 'left'}).set_table_styles([dict(selector='th', props=[('text-align', 'left')])])\n"
   ]
  },
  {
   "cell_type": "code",
   "execution_count": 76,
   "metadata": {
    "pycharm": {
     "name": "#%%\n"
    }
   },
   "outputs": [],
   "source": [
    "#50/50 split"
   ]
  },
  {
   "cell_type": "code",
   "execution_count": null,
   "metadata": {},
   "outputs": [],
   "source": []
  },
  {
   "cell_type": "code",
   "execution_count": 77,
   "metadata": {
    "pycharm": {
     "name": "#%%\n"
    }
   },
   "outputs": [],
   "source": [
    "#data has 100 instances, 50/50 split\n",
    "#TN,TP,FN,FP\n",
    "data = [(50, 0, 50, 0, \"predict all negative\"), #predict all negative\n",
    "        (0, 50, 0, 50, \"predict all positive\"), \n",
    "        (50, 50, 0, 0, \"predict 100% correct\"), #predict 100% correct\n",
    "        (40, 50, 0, 10, \"predict 10 negative wrong, rest (90) correct\"), #predict 10 negative wrong, rest (90) correct\n",
    "        (50, 0, 50, 0, \"predict 50% correct (all negatives), 50% wrong (all positives)\"), #predict 50% correct (all negatives), 50% wrong (all positives)\n",
    "        (50, 1, 49, 0, \"predict all negatives and 1/50 positives correct\"), #predict all negatives and 1/50 positives correct\n",
    "        (50, 2, 48, 0, \"predict all negatives and 2/50 positives correct\"), #predict all negatives and 2/50 positives correct\n",
    "        (50, 3, 47, 0, \"predict all negatives and 3/50 positives correct\"), #predict all negatives and 3/50 positives correct\n",
    "        (40, 0, 50, 10, \"predict all positives and 10/90 negatives wrong\"), #predict all positives and 10/90 negatives wrong\n",
    "        (40, 1, 49, 10, \"predict 9/10 positives and 10/90 negatives wrong\"), #predict 9/10 positives and 10/90 negatives wrong\n",
    "        (40, 2, 48, 10, \"predict 8/10 positives and 10/90 negatives wrong\"), #predict 8/10 positives and 10/90 negatives wrong\n",
    "        (40, 3, 47, 10, \"predict 7/10 positives and 10/90 negatives wrong\"), #predict 7/10 positives and 10/90 negatives wrong\n",
    "       ]"
   ]
  },
  {
   "cell_type": "code",
   "execution_count": 78,
   "metadata": {},
   "outputs": [
    {
     "name": "stdout",
     "output_type": "stream",
     "text": [
      "0: nan, 0.0\n",
      "1: 0.5, 1.0\n",
      "2: 1.0, 1.0\n",
      "3: 0.8333333333333334, 1.0\n",
      "4: nan, 0.0\n",
      "5: 1.0, 0.02\n",
      "6: 1.0, 0.04\n",
      "7: 1.0, 0.06\n",
      "8: 0.0, 0.0\n",
      "9: 0.09090909090909091, 0.02\n",
      "10: 0.16666666666666666, 0.04\n",
      "11: 0.23076923076923078, 0.06\n"
     ]
    }
   ],
   "source": [
    "f1_scores = []\n",
    "for idx, row in enumerate(data):\n",
    "    p = precision(row[1], row[3])\n",
    "    r = recall(row[1], row[2])\n",
    "    print(f\"{idx}: {p}, {r}\")\n",
    "    f1_score = f1(p, r)\n",
    "    f1_scores.append(f1_score)"
   ]
  },
  {
   "cell_type": "code",
   "execution_count": 79,
   "metadata": {},
   "outputs": [
    {
     "data": {
      "text/html": [
       "<div>\n",
       "<style scoped>\n",
       "    .dataframe tbody tr th:only-of-type {\n",
       "        vertical-align: middle;\n",
       "    }\n",
       "\n",
       "    .dataframe tbody tr th {\n",
       "        vertical-align: top;\n",
       "    }\n",
       "\n",
       "    .dataframe thead th {\n",
       "        text-align: right;\n",
       "    }\n",
       "</style>\n",
       "<table border=\"1\" class=\"dataframe\">\n",
       "  <thead>\n",
       "    <tr style=\"text-align: right;\">\n",
       "      <th></th>\n",
       "      <th>TN</th>\n",
       "      <th>TP</th>\n",
       "      <th>FN</th>\n",
       "      <th>FP</th>\n",
       "      <th>Description</th>\n",
       "    </tr>\n",
       "  </thead>\n",
       "  <tbody>\n",
       "    <tr>\n",
       "      <th>0</th>\n",
       "      <td>50</td>\n",
       "      <td>0</td>\n",
       "      <td>50</td>\n",
       "      <td>0</td>\n",
       "      <td>predict all negative</td>\n",
       "    </tr>\n",
       "    <tr>\n",
       "      <th>1</th>\n",
       "      <td>0</td>\n",
       "      <td>50</td>\n",
       "      <td>0</td>\n",
       "      <td>50</td>\n",
       "      <td>predict all positive</td>\n",
       "    </tr>\n",
       "    <tr>\n",
       "      <th>2</th>\n",
       "      <td>50</td>\n",
       "      <td>50</td>\n",
       "      <td>0</td>\n",
       "      <td>0</td>\n",
       "      <td>predict 100% correct</td>\n",
       "    </tr>\n",
       "    <tr>\n",
       "      <th>3</th>\n",
       "      <td>40</td>\n",
       "      <td>50</td>\n",
       "      <td>0</td>\n",
       "      <td>10</td>\n",
       "      <td>predict 10 negative wrong, rest (90) correct</td>\n",
       "    </tr>\n",
       "    <tr>\n",
       "      <th>4</th>\n",
       "      <td>50</td>\n",
       "      <td>0</td>\n",
       "      <td>50</td>\n",
       "      <td>0</td>\n",
       "      <td>predict 50% correct (all negatives), 50% wrong...</td>\n",
       "    </tr>\n",
       "    <tr>\n",
       "      <th>5</th>\n",
       "      <td>50</td>\n",
       "      <td>1</td>\n",
       "      <td>49</td>\n",
       "      <td>0</td>\n",
       "      <td>predict all negatives and 1/50 positives correct</td>\n",
       "    </tr>\n",
       "    <tr>\n",
       "      <th>6</th>\n",
       "      <td>50</td>\n",
       "      <td>2</td>\n",
       "      <td>48</td>\n",
       "      <td>0</td>\n",
       "      <td>predict all negatives and 2/50 positives correct</td>\n",
       "    </tr>\n",
       "    <tr>\n",
       "      <th>7</th>\n",
       "      <td>50</td>\n",
       "      <td>3</td>\n",
       "      <td>47</td>\n",
       "      <td>0</td>\n",
       "      <td>predict all negatives and 3/50 positives correct</td>\n",
       "    </tr>\n",
       "    <tr>\n",
       "      <th>8</th>\n",
       "      <td>40</td>\n",
       "      <td>0</td>\n",
       "      <td>50</td>\n",
       "      <td>10</td>\n",
       "      <td>predict all positives and 10/90 negatives wrong</td>\n",
       "    </tr>\n",
       "    <tr>\n",
       "      <th>9</th>\n",
       "      <td>40</td>\n",
       "      <td>1</td>\n",
       "      <td>49</td>\n",
       "      <td>10</td>\n",
       "      <td>predict 9/10 positives and 10/90 negatives wrong</td>\n",
       "    </tr>\n",
       "    <tr>\n",
       "      <th>10</th>\n",
       "      <td>40</td>\n",
       "      <td>2</td>\n",
       "      <td>48</td>\n",
       "      <td>10</td>\n",
       "      <td>predict 8/10 positives and 10/90 negatives wrong</td>\n",
       "    </tr>\n",
       "    <tr>\n",
       "      <th>11</th>\n",
       "      <td>40</td>\n",
       "      <td>3</td>\n",
       "      <td>47</td>\n",
       "      <td>10</td>\n",
       "      <td>predict 7/10 positives and 10/90 negatives wrong</td>\n",
       "    </tr>\n",
       "  </tbody>\n",
       "</table>\n",
       "</div>"
      ],
      "text/plain": [
       "    TN  TP  FN  FP                                        Description\n",
       "0   50   0  50   0                               predict all negative\n",
       "1    0  50   0  50                               predict all positive\n",
       "2   50  50   0   0                               predict 100% correct\n",
       "3   40  50   0  10       predict 10 negative wrong, rest (90) correct\n",
       "4   50   0  50   0  predict 50% correct (all negatives), 50% wrong...\n",
       "5   50   1  49   0   predict all negatives and 1/50 positives correct\n",
       "6   50   2  48   0   predict all negatives and 2/50 positives correct\n",
       "7   50   3  47   0   predict all negatives and 3/50 positives correct\n",
       "8   40   0  50  10    predict all positives and 10/90 negatives wrong\n",
       "9   40   1  49  10   predict 9/10 positives and 10/90 negatives wrong\n",
       "10  40   2  48  10   predict 8/10 positives and 10/90 negatives wrong\n",
       "11  40   3  47  10   predict 7/10 positives and 10/90 negatives wrong"
      ]
     },
     "execution_count": 79,
     "metadata": {},
     "output_type": "execute_result"
    }
   ],
   "source": [
    "df = pd.DataFrame(columns=[\"TN\", \"TP\", \"FN\", \"FP\", \"Description\"], data=data)\n",
    "df"
   ]
  },
  {
   "cell_type": "code",
   "execution_count": 80,
   "metadata": {},
   "outputs": [],
   "source": [
    "df[\"F1\"]=f1_scores"
   ]
  },
  {
   "cell_type": "code",
   "execution_count": 81,
   "metadata": {
    "pycharm": {
     "name": "#%%\n"
    }
   },
   "outputs": [
    {
     "data": {
      "text/plain": [
       "[0.5, 0.5, 1.0, 0.9, 0.5, 0.51, 0.52, 0.53, 0.4, 0.41, 0.42, 0.43]"
      ]
     },
     "execution_count": 81,
     "metadata": {},
     "output_type": "execute_result"
    }
   ],
   "source": [
    "accuracies = [acc(row[0], row[1], row[2], row[3]) for row in data]\n",
    "accuracies"
   ]
  },
  {
   "cell_type": "code",
   "execution_count": 82,
   "metadata": {
    "pycharm": {
     "name": "#%%\n"
    }
   },
   "outputs": [],
   "source": [
    "df[\"ACC\"] = accuracies"
   ]
  },
  {
   "cell_type": "code",
   "execution_count": 83,
   "metadata": {
    "pycharm": {
     "name": "#%%\n"
    }
   },
   "outputs": [
    {
     "data": {
      "text/html": [
       "<div>\n",
       "<style scoped>\n",
       "    .dataframe tbody tr th:only-of-type {\n",
       "        vertical-align: middle;\n",
       "    }\n",
       "\n",
       "    .dataframe tbody tr th {\n",
       "        vertical-align: top;\n",
       "    }\n",
       "\n",
       "    .dataframe thead th {\n",
       "        text-align: right;\n",
       "    }\n",
       "</style>\n",
       "<table border=\"1\" class=\"dataframe\">\n",
       "  <thead>\n",
       "    <tr style=\"text-align: right;\">\n",
       "      <th></th>\n",
       "      <th>TN</th>\n",
       "      <th>TP</th>\n",
       "      <th>FN</th>\n",
       "      <th>FP</th>\n",
       "      <th>Description</th>\n",
       "      <th>F1</th>\n",
       "      <th>ACC</th>\n",
       "    </tr>\n",
       "  </thead>\n",
       "  <tbody>\n",
       "    <tr>\n",
       "      <th>0</th>\n",
       "      <td>50</td>\n",
       "      <td>0</td>\n",
       "      <td>50</td>\n",
       "      <td>0</td>\n",
       "      <td>predict all negative</td>\n",
       "      <td>NaN</td>\n",
       "      <td>0.50</td>\n",
       "    </tr>\n",
       "    <tr>\n",
       "      <th>1</th>\n",
       "      <td>0</td>\n",
       "      <td>50</td>\n",
       "      <td>0</td>\n",
       "      <td>50</td>\n",
       "      <td>predict all positive</td>\n",
       "      <td>0.666667</td>\n",
       "      <td>0.50</td>\n",
       "    </tr>\n",
       "    <tr>\n",
       "      <th>2</th>\n",
       "      <td>50</td>\n",
       "      <td>50</td>\n",
       "      <td>0</td>\n",
       "      <td>0</td>\n",
       "      <td>predict 100% correct</td>\n",
       "      <td>1.000000</td>\n",
       "      <td>1.00</td>\n",
       "    </tr>\n",
       "    <tr>\n",
       "      <th>3</th>\n",
       "      <td>40</td>\n",
       "      <td>50</td>\n",
       "      <td>0</td>\n",
       "      <td>10</td>\n",
       "      <td>predict 10 negative wrong, rest (90) correct</td>\n",
       "      <td>0.909091</td>\n",
       "      <td>0.90</td>\n",
       "    </tr>\n",
       "    <tr>\n",
       "      <th>4</th>\n",
       "      <td>50</td>\n",
       "      <td>0</td>\n",
       "      <td>50</td>\n",
       "      <td>0</td>\n",
       "      <td>predict 50% correct (all negatives), 50% wrong...</td>\n",
       "      <td>NaN</td>\n",
       "      <td>0.50</td>\n",
       "    </tr>\n",
       "    <tr>\n",
       "      <th>5</th>\n",
       "      <td>50</td>\n",
       "      <td>1</td>\n",
       "      <td>49</td>\n",
       "      <td>0</td>\n",
       "      <td>predict all negatives and 1/50 positives correct</td>\n",
       "      <td>0.039216</td>\n",
       "      <td>0.51</td>\n",
       "    </tr>\n",
       "    <tr>\n",
       "      <th>6</th>\n",
       "      <td>50</td>\n",
       "      <td>2</td>\n",
       "      <td>48</td>\n",
       "      <td>0</td>\n",
       "      <td>predict all negatives and 2/50 positives correct</td>\n",
       "      <td>0.076923</td>\n",
       "      <td>0.52</td>\n",
       "    </tr>\n",
       "    <tr>\n",
       "      <th>7</th>\n",
       "      <td>50</td>\n",
       "      <td>3</td>\n",
       "      <td>47</td>\n",
       "      <td>0</td>\n",
       "      <td>predict all negatives and 3/50 positives correct</td>\n",
       "      <td>0.113208</td>\n",
       "      <td>0.53</td>\n",
       "    </tr>\n",
       "    <tr>\n",
       "      <th>8</th>\n",
       "      <td>40</td>\n",
       "      <td>0</td>\n",
       "      <td>50</td>\n",
       "      <td>10</td>\n",
       "      <td>predict all positives and 10/90 negatives wrong</td>\n",
       "      <td>NaN</td>\n",
       "      <td>0.40</td>\n",
       "    </tr>\n",
       "    <tr>\n",
       "      <th>9</th>\n",
       "      <td>40</td>\n",
       "      <td>1</td>\n",
       "      <td>49</td>\n",
       "      <td>10</td>\n",
       "      <td>predict 9/10 positives and 10/90 negatives wrong</td>\n",
       "      <td>0.032787</td>\n",
       "      <td>0.41</td>\n",
       "    </tr>\n",
       "    <tr>\n",
       "      <th>10</th>\n",
       "      <td>40</td>\n",
       "      <td>2</td>\n",
       "      <td>48</td>\n",
       "      <td>10</td>\n",
       "      <td>predict 8/10 positives and 10/90 negatives wrong</td>\n",
       "      <td>0.064516</td>\n",
       "      <td>0.42</td>\n",
       "    </tr>\n",
       "    <tr>\n",
       "      <th>11</th>\n",
       "      <td>40</td>\n",
       "      <td>3</td>\n",
       "      <td>47</td>\n",
       "      <td>10</td>\n",
       "      <td>predict 7/10 positives and 10/90 negatives wrong</td>\n",
       "      <td>0.095238</td>\n",
       "      <td>0.43</td>\n",
       "    </tr>\n",
       "  </tbody>\n",
       "</table>\n",
       "</div>"
      ],
      "text/plain": [
       "    TN  TP  FN  FP                                        Description  \\\n",
       "0   50   0  50   0                               predict all negative   \n",
       "1    0  50   0  50                               predict all positive   \n",
       "2   50  50   0   0                               predict 100% correct   \n",
       "3   40  50   0  10       predict 10 negative wrong, rest (90) correct   \n",
       "4   50   0  50   0  predict 50% correct (all negatives), 50% wrong...   \n",
       "5   50   1  49   0   predict all negatives and 1/50 positives correct   \n",
       "6   50   2  48   0   predict all negatives and 2/50 positives correct   \n",
       "7   50   3  47   0   predict all negatives and 3/50 positives correct   \n",
       "8   40   0  50  10    predict all positives and 10/90 negatives wrong   \n",
       "9   40   1  49  10   predict 9/10 positives and 10/90 negatives wrong   \n",
       "10  40   2  48  10   predict 8/10 positives and 10/90 negatives wrong   \n",
       "11  40   3  47  10   predict 7/10 positives and 10/90 negatives wrong   \n",
       "\n",
       "          F1   ACC  \n",
       "0        NaN  0.50  \n",
       "1   0.666667  0.50  \n",
       "2   1.000000  1.00  \n",
       "3   0.909091  0.90  \n",
       "4        NaN  0.50  \n",
       "5   0.039216  0.51  \n",
       "6   0.076923  0.52  \n",
       "7   0.113208  0.53  \n",
       "8        NaN  0.40  \n",
       "9   0.032787  0.41  \n",
       "10  0.064516  0.42  \n",
       "11  0.095238  0.43  "
      ]
     },
     "execution_count": 83,
     "metadata": {},
     "output_type": "execute_result"
    }
   ],
   "source": [
    "df"
   ]
  },
  {
   "cell_type": "code",
   "execution_count": 84,
   "metadata": {
    "pycharm": {
     "name": "#%%\n"
    }
   },
   "outputs": [],
   "source": [
    "df = df[[\"TN\", \"TP\", \"FN\", \"FP\", \"F1\", \"ACC\", \"Description\"]]"
   ]
  },
  {
   "cell_type": "code",
   "execution_count": 85,
   "metadata": {
    "pycharm": {
     "name": "#%%\n"
    }
   },
   "outputs": [
    {
     "data": {
      "text/html": [
       "<style  type=\"text/css\" >\n",
       "    #T_a88d766c_f258_11ea_a2b8_a38f868d0b43 th {\n",
       "          text-align: left;\n",
       "    }#T_a88d766c_f258_11ea_a2b8_a38f868d0b43row0_col6,#T_a88d766c_f258_11ea_a2b8_a38f868d0b43row1_col6,#T_a88d766c_f258_11ea_a2b8_a38f868d0b43row2_col6,#T_a88d766c_f258_11ea_a2b8_a38f868d0b43row3_col6,#T_a88d766c_f258_11ea_a2b8_a38f868d0b43row4_col6,#T_a88d766c_f258_11ea_a2b8_a38f868d0b43row5_col6,#T_a88d766c_f258_11ea_a2b8_a38f868d0b43row6_col6,#T_a88d766c_f258_11ea_a2b8_a38f868d0b43row7_col6,#T_a88d766c_f258_11ea_a2b8_a38f868d0b43row8_col6,#T_a88d766c_f258_11ea_a2b8_a38f868d0b43row9_col6,#T_a88d766c_f258_11ea_a2b8_a38f868d0b43row10_col6,#T_a88d766c_f258_11ea_a2b8_a38f868d0b43row11_col6{\n",
       "            text-align:  left;\n",
       "        }</style><table id=\"T_a88d766c_f258_11ea_a2b8_a38f868d0b43\" ><thead>    <tr>        <th class=\"blank level0\" ></th>        <th class=\"col_heading level0 col0\" >TN</th>        <th class=\"col_heading level0 col1\" >TP</th>        <th class=\"col_heading level0 col2\" >FN</th>        <th class=\"col_heading level0 col3\" >FP</th>        <th class=\"col_heading level0 col4\" >F1</th>        <th class=\"col_heading level0 col5\" >ACC</th>        <th class=\"col_heading level0 col6\" >Description</th>    </tr></thead><tbody>\n",
       "                <tr>\n",
       "                        <th id=\"T_a88d766c_f258_11ea_a2b8_a38f868d0b43level0_row0\" class=\"row_heading level0 row0\" >0</th>\n",
       "                        <td id=\"T_a88d766c_f258_11ea_a2b8_a38f868d0b43row0_col0\" class=\"data row0 col0\" >50</td>\n",
       "                        <td id=\"T_a88d766c_f258_11ea_a2b8_a38f868d0b43row0_col1\" class=\"data row0 col1\" >0</td>\n",
       "                        <td id=\"T_a88d766c_f258_11ea_a2b8_a38f868d0b43row0_col2\" class=\"data row0 col2\" >50</td>\n",
       "                        <td id=\"T_a88d766c_f258_11ea_a2b8_a38f868d0b43row0_col3\" class=\"data row0 col3\" >0</td>\n",
       "                        <td id=\"T_a88d766c_f258_11ea_a2b8_a38f868d0b43row0_col4\" class=\"data row0 col4\" >nan</td>\n",
       "                        <td id=\"T_a88d766c_f258_11ea_a2b8_a38f868d0b43row0_col5\" class=\"data row0 col5\" >0.500000</td>\n",
       "                        <td id=\"T_a88d766c_f258_11ea_a2b8_a38f868d0b43row0_col6\" class=\"data row0 col6\" >predict all negative</td>\n",
       "            </tr>\n",
       "            <tr>\n",
       "                        <th id=\"T_a88d766c_f258_11ea_a2b8_a38f868d0b43level0_row1\" class=\"row_heading level0 row1\" >1</th>\n",
       "                        <td id=\"T_a88d766c_f258_11ea_a2b8_a38f868d0b43row1_col0\" class=\"data row1 col0\" >0</td>\n",
       "                        <td id=\"T_a88d766c_f258_11ea_a2b8_a38f868d0b43row1_col1\" class=\"data row1 col1\" >50</td>\n",
       "                        <td id=\"T_a88d766c_f258_11ea_a2b8_a38f868d0b43row1_col2\" class=\"data row1 col2\" >0</td>\n",
       "                        <td id=\"T_a88d766c_f258_11ea_a2b8_a38f868d0b43row1_col3\" class=\"data row1 col3\" >50</td>\n",
       "                        <td id=\"T_a88d766c_f258_11ea_a2b8_a38f868d0b43row1_col4\" class=\"data row1 col4\" >0.666667</td>\n",
       "                        <td id=\"T_a88d766c_f258_11ea_a2b8_a38f868d0b43row1_col5\" class=\"data row1 col5\" >0.500000</td>\n",
       "                        <td id=\"T_a88d766c_f258_11ea_a2b8_a38f868d0b43row1_col6\" class=\"data row1 col6\" >predict all positive</td>\n",
       "            </tr>\n",
       "            <tr>\n",
       "                        <th id=\"T_a88d766c_f258_11ea_a2b8_a38f868d0b43level0_row2\" class=\"row_heading level0 row2\" >2</th>\n",
       "                        <td id=\"T_a88d766c_f258_11ea_a2b8_a38f868d0b43row2_col0\" class=\"data row2 col0\" >50</td>\n",
       "                        <td id=\"T_a88d766c_f258_11ea_a2b8_a38f868d0b43row2_col1\" class=\"data row2 col1\" >50</td>\n",
       "                        <td id=\"T_a88d766c_f258_11ea_a2b8_a38f868d0b43row2_col2\" class=\"data row2 col2\" >0</td>\n",
       "                        <td id=\"T_a88d766c_f258_11ea_a2b8_a38f868d0b43row2_col3\" class=\"data row2 col3\" >0</td>\n",
       "                        <td id=\"T_a88d766c_f258_11ea_a2b8_a38f868d0b43row2_col4\" class=\"data row2 col4\" >1.000000</td>\n",
       "                        <td id=\"T_a88d766c_f258_11ea_a2b8_a38f868d0b43row2_col5\" class=\"data row2 col5\" >1.000000</td>\n",
       "                        <td id=\"T_a88d766c_f258_11ea_a2b8_a38f868d0b43row2_col6\" class=\"data row2 col6\" >predict 100% correct</td>\n",
       "            </tr>\n",
       "            <tr>\n",
       "                        <th id=\"T_a88d766c_f258_11ea_a2b8_a38f868d0b43level0_row3\" class=\"row_heading level0 row3\" >3</th>\n",
       "                        <td id=\"T_a88d766c_f258_11ea_a2b8_a38f868d0b43row3_col0\" class=\"data row3 col0\" >40</td>\n",
       "                        <td id=\"T_a88d766c_f258_11ea_a2b8_a38f868d0b43row3_col1\" class=\"data row3 col1\" >50</td>\n",
       "                        <td id=\"T_a88d766c_f258_11ea_a2b8_a38f868d0b43row3_col2\" class=\"data row3 col2\" >0</td>\n",
       "                        <td id=\"T_a88d766c_f258_11ea_a2b8_a38f868d0b43row3_col3\" class=\"data row3 col3\" >10</td>\n",
       "                        <td id=\"T_a88d766c_f258_11ea_a2b8_a38f868d0b43row3_col4\" class=\"data row3 col4\" >0.909091</td>\n",
       "                        <td id=\"T_a88d766c_f258_11ea_a2b8_a38f868d0b43row3_col5\" class=\"data row3 col5\" >0.900000</td>\n",
       "                        <td id=\"T_a88d766c_f258_11ea_a2b8_a38f868d0b43row3_col6\" class=\"data row3 col6\" >predict 10 negative wrong, rest (90) correct</td>\n",
       "            </tr>\n",
       "            <tr>\n",
       "                        <th id=\"T_a88d766c_f258_11ea_a2b8_a38f868d0b43level0_row4\" class=\"row_heading level0 row4\" >4</th>\n",
       "                        <td id=\"T_a88d766c_f258_11ea_a2b8_a38f868d0b43row4_col0\" class=\"data row4 col0\" >50</td>\n",
       "                        <td id=\"T_a88d766c_f258_11ea_a2b8_a38f868d0b43row4_col1\" class=\"data row4 col1\" >0</td>\n",
       "                        <td id=\"T_a88d766c_f258_11ea_a2b8_a38f868d0b43row4_col2\" class=\"data row4 col2\" >50</td>\n",
       "                        <td id=\"T_a88d766c_f258_11ea_a2b8_a38f868d0b43row4_col3\" class=\"data row4 col3\" >0</td>\n",
       "                        <td id=\"T_a88d766c_f258_11ea_a2b8_a38f868d0b43row4_col4\" class=\"data row4 col4\" >nan</td>\n",
       "                        <td id=\"T_a88d766c_f258_11ea_a2b8_a38f868d0b43row4_col5\" class=\"data row4 col5\" >0.500000</td>\n",
       "                        <td id=\"T_a88d766c_f258_11ea_a2b8_a38f868d0b43row4_col6\" class=\"data row4 col6\" >predict 50% correct (all negatives), 50% wrong (all positives)</td>\n",
       "            </tr>\n",
       "            <tr>\n",
       "                        <th id=\"T_a88d766c_f258_11ea_a2b8_a38f868d0b43level0_row5\" class=\"row_heading level0 row5\" >5</th>\n",
       "                        <td id=\"T_a88d766c_f258_11ea_a2b8_a38f868d0b43row5_col0\" class=\"data row5 col0\" >50</td>\n",
       "                        <td id=\"T_a88d766c_f258_11ea_a2b8_a38f868d0b43row5_col1\" class=\"data row5 col1\" >1</td>\n",
       "                        <td id=\"T_a88d766c_f258_11ea_a2b8_a38f868d0b43row5_col2\" class=\"data row5 col2\" >49</td>\n",
       "                        <td id=\"T_a88d766c_f258_11ea_a2b8_a38f868d0b43row5_col3\" class=\"data row5 col3\" >0</td>\n",
       "                        <td id=\"T_a88d766c_f258_11ea_a2b8_a38f868d0b43row5_col4\" class=\"data row5 col4\" >0.039216</td>\n",
       "                        <td id=\"T_a88d766c_f258_11ea_a2b8_a38f868d0b43row5_col5\" class=\"data row5 col5\" >0.510000</td>\n",
       "                        <td id=\"T_a88d766c_f258_11ea_a2b8_a38f868d0b43row5_col6\" class=\"data row5 col6\" >predict all negatives and 1/50 positives correct</td>\n",
       "            </tr>\n",
       "            <tr>\n",
       "                        <th id=\"T_a88d766c_f258_11ea_a2b8_a38f868d0b43level0_row6\" class=\"row_heading level0 row6\" >6</th>\n",
       "                        <td id=\"T_a88d766c_f258_11ea_a2b8_a38f868d0b43row6_col0\" class=\"data row6 col0\" >50</td>\n",
       "                        <td id=\"T_a88d766c_f258_11ea_a2b8_a38f868d0b43row6_col1\" class=\"data row6 col1\" >2</td>\n",
       "                        <td id=\"T_a88d766c_f258_11ea_a2b8_a38f868d0b43row6_col2\" class=\"data row6 col2\" >48</td>\n",
       "                        <td id=\"T_a88d766c_f258_11ea_a2b8_a38f868d0b43row6_col3\" class=\"data row6 col3\" >0</td>\n",
       "                        <td id=\"T_a88d766c_f258_11ea_a2b8_a38f868d0b43row6_col4\" class=\"data row6 col4\" >0.076923</td>\n",
       "                        <td id=\"T_a88d766c_f258_11ea_a2b8_a38f868d0b43row6_col5\" class=\"data row6 col5\" >0.520000</td>\n",
       "                        <td id=\"T_a88d766c_f258_11ea_a2b8_a38f868d0b43row6_col6\" class=\"data row6 col6\" >predict all negatives and 2/50 positives correct</td>\n",
       "            </tr>\n",
       "            <tr>\n",
       "                        <th id=\"T_a88d766c_f258_11ea_a2b8_a38f868d0b43level0_row7\" class=\"row_heading level0 row7\" >7</th>\n",
       "                        <td id=\"T_a88d766c_f258_11ea_a2b8_a38f868d0b43row7_col0\" class=\"data row7 col0\" >50</td>\n",
       "                        <td id=\"T_a88d766c_f258_11ea_a2b8_a38f868d0b43row7_col1\" class=\"data row7 col1\" >3</td>\n",
       "                        <td id=\"T_a88d766c_f258_11ea_a2b8_a38f868d0b43row7_col2\" class=\"data row7 col2\" >47</td>\n",
       "                        <td id=\"T_a88d766c_f258_11ea_a2b8_a38f868d0b43row7_col3\" class=\"data row7 col3\" >0</td>\n",
       "                        <td id=\"T_a88d766c_f258_11ea_a2b8_a38f868d0b43row7_col4\" class=\"data row7 col4\" >0.113208</td>\n",
       "                        <td id=\"T_a88d766c_f258_11ea_a2b8_a38f868d0b43row7_col5\" class=\"data row7 col5\" >0.530000</td>\n",
       "                        <td id=\"T_a88d766c_f258_11ea_a2b8_a38f868d0b43row7_col6\" class=\"data row7 col6\" >predict all negatives and 3/50 positives correct</td>\n",
       "            </tr>\n",
       "            <tr>\n",
       "                        <th id=\"T_a88d766c_f258_11ea_a2b8_a38f868d0b43level0_row8\" class=\"row_heading level0 row8\" >8</th>\n",
       "                        <td id=\"T_a88d766c_f258_11ea_a2b8_a38f868d0b43row8_col0\" class=\"data row8 col0\" >40</td>\n",
       "                        <td id=\"T_a88d766c_f258_11ea_a2b8_a38f868d0b43row8_col1\" class=\"data row8 col1\" >0</td>\n",
       "                        <td id=\"T_a88d766c_f258_11ea_a2b8_a38f868d0b43row8_col2\" class=\"data row8 col2\" >50</td>\n",
       "                        <td id=\"T_a88d766c_f258_11ea_a2b8_a38f868d0b43row8_col3\" class=\"data row8 col3\" >10</td>\n",
       "                        <td id=\"T_a88d766c_f258_11ea_a2b8_a38f868d0b43row8_col4\" class=\"data row8 col4\" >nan</td>\n",
       "                        <td id=\"T_a88d766c_f258_11ea_a2b8_a38f868d0b43row8_col5\" class=\"data row8 col5\" >0.400000</td>\n",
       "                        <td id=\"T_a88d766c_f258_11ea_a2b8_a38f868d0b43row8_col6\" class=\"data row8 col6\" >predict all positives and 10/90 negatives wrong</td>\n",
       "            </tr>\n",
       "            <tr>\n",
       "                        <th id=\"T_a88d766c_f258_11ea_a2b8_a38f868d0b43level0_row9\" class=\"row_heading level0 row9\" >9</th>\n",
       "                        <td id=\"T_a88d766c_f258_11ea_a2b8_a38f868d0b43row9_col0\" class=\"data row9 col0\" >40</td>\n",
       "                        <td id=\"T_a88d766c_f258_11ea_a2b8_a38f868d0b43row9_col1\" class=\"data row9 col1\" >1</td>\n",
       "                        <td id=\"T_a88d766c_f258_11ea_a2b8_a38f868d0b43row9_col2\" class=\"data row9 col2\" >49</td>\n",
       "                        <td id=\"T_a88d766c_f258_11ea_a2b8_a38f868d0b43row9_col3\" class=\"data row9 col3\" >10</td>\n",
       "                        <td id=\"T_a88d766c_f258_11ea_a2b8_a38f868d0b43row9_col4\" class=\"data row9 col4\" >0.032787</td>\n",
       "                        <td id=\"T_a88d766c_f258_11ea_a2b8_a38f868d0b43row9_col5\" class=\"data row9 col5\" >0.410000</td>\n",
       "                        <td id=\"T_a88d766c_f258_11ea_a2b8_a38f868d0b43row9_col6\" class=\"data row9 col6\" >predict 9/10 positives and 10/90 negatives wrong</td>\n",
       "            </tr>\n",
       "            <tr>\n",
       "                        <th id=\"T_a88d766c_f258_11ea_a2b8_a38f868d0b43level0_row10\" class=\"row_heading level0 row10\" >10</th>\n",
       "                        <td id=\"T_a88d766c_f258_11ea_a2b8_a38f868d0b43row10_col0\" class=\"data row10 col0\" >40</td>\n",
       "                        <td id=\"T_a88d766c_f258_11ea_a2b8_a38f868d0b43row10_col1\" class=\"data row10 col1\" >2</td>\n",
       "                        <td id=\"T_a88d766c_f258_11ea_a2b8_a38f868d0b43row10_col2\" class=\"data row10 col2\" >48</td>\n",
       "                        <td id=\"T_a88d766c_f258_11ea_a2b8_a38f868d0b43row10_col3\" class=\"data row10 col3\" >10</td>\n",
       "                        <td id=\"T_a88d766c_f258_11ea_a2b8_a38f868d0b43row10_col4\" class=\"data row10 col4\" >0.064516</td>\n",
       "                        <td id=\"T_a88d766c_f258_11ea_a2b8_a38f868d0b43row10_col5\" class=\"data row10 col5\" >0.420000</td>\n",
       "                        <td id=\"T_a88d766c_f258_11ea_a2b8_a38f868d0b43row10_col6\" class=\"data row10 col6\" >predict 8/10 positives and 10/90 negatives wrong</td>\n",
       "            </tr>\n",
       "            <tr>\n",
       "                        <th id=\"T_a88d766c_f258_11ea_a2b8_a38f868d0b43level0_row11\" class=\"row_heading level0 row11\" >11</th>\n",
       "                        <td id=\"T_a88d766c_f258_11ea_a2b8_a38f868d0b43row11_col0\" class=\"data row11 col0\" >40</td>\n",
       "                        <td id=\"T_a88d766c_f258_11ea_a2b8_a38f868d0b43row11_col1\" class=\"data row11 col1\" >3</td>\n",
       "                        <td id=\"T_a88d766c_f258_11ea_a2b8_a38f868d0b43row11_col2\" class=\"data row11 col2\" >47</td>\n",
       "                        <td id=\"T_a88d766c_f258_11ea_a2b8_a38f868d0b43row11_col3\" class=\"data row11 col3\" >10</td>\n",
       "                        <td id=\"T_a88d766c_f258_11ea_a2b8_a38f868d0b43row11_col4\" class=\"data row11 col4\" >0.095238</td>\n",
       "                        <td id=\"T_a88d766c_f258_11ea_a2b8_a38f868d0b43row11_col5\" class=\"data row11 col5\" >0.430000</td>\n",
       "                        <td id=\"T_a88d766c_f258_11ea_a2b8_a38f868d0b43row11_col6\" class=\"data row11 col6\" >predict 7/10 positives and 10/90 negatives wrong</td>\n",
       "            </tr>\n",
       "    </tbody></table>"
      ],
      "text/plain": [
       "<pandas.io.formats.style.Styler at 0x7f80e8700bb0>"
      ]
     },
     "execution_count": 85,
     "metadata": {},
     "output_type": "execute_result"
    }
   ],
   "source": [
    "#https://stackoverflow.com/questions/17232013/how-to-set-the-pandas-dataframe-data-left-right-alignment\n",
    "df.style.set_properties(subset=[\"Description\"], **{'text-align': 'left'}).set_table_styles([dict(selector='th', props=[('text-align', 'left')])])\n"
   ]
  },
  {
   "cell_type": "code",
   "execution_count": 86,
   "metadata": {},
   "outputs": [],
   "source": [
    "#data has 100 instances, 90/10 split\n",
    "#TN,TP,FN,FP\n",
    "data = [(90, 0, 10, 0, \"predict all negative\"), #predict all negative\n",
    "        (0, 10, 0, 90, \"predict all positive\"), \n",
    "        (90, 10, 0, 0, \"predict 100% correct\"), #predict 100% correct\n",
    "        (80, 10, 0, 10, \"predict 10 negative wrong, rest (90) correct\"), #predict 10 negative wrong, rest (90) correct\n",
    "        (50, 0, 10, 40, \"predict 50% correct (only negatives), 50% wrong (including all positives)\"), #predict 50% correct (only negatives), 50% wrong (including all positives)\n",
    "        (90, 1, 9, 0, \"predict all negatives and 1/10 positives correct\"), #predict all negatives and 1/10 positives correct\n",
    "        (90, 2, 8, 0, \"predict all negatives and 2/10 positives correct\"), #predict all negatives and 2/10 positives correct\n",
    "        (90, 3, 7, 0, \"predict all negatives and 3/10 positives correct\"), #predict all negatives and 3/10 positives correct\n",
    "        (80, 0, 10, 10, \"predict all positives and 10/90 negatives wrong\"), #predict all positives and 10/90 negatives wrong\n",
    "        (80, 1, 9, 10, \"predict 9/10 positives and 10/90 negatives wrong\"), #predict 9/10 positives and 10/90 negatives wrong\n",
    "        (80, 2, 8, 10, \"predict 8/10 positives and 10/90 negatives wrong\"), #predict 8/10 positives and 10/90 negatives wrong\n",
    "        (80, 3, 7, 10, \"predict 7/10 positives and 10/90 negatives wrong\"), #predict 7/10 positives and 10/90 negatives wrong\n",
    "       ]"
   ]
  },
  {
   "cell_type": "code",
   "execution_count": 87,
   "metadata": {
    "pycharm": {
     "name": "#%%\n"
    }
   },
   "outputs": [],
   "source": [
    "# reverse split\n",
    "#data has 100 instances, 90/10 split\n",
    "#TP,TN,FP,FN\n",
    "data = [(0, 10, 0, 90, \"predict all negative\"),\n",
    "        (90, 0, 10, 0, \"predict all positive\"), \n",
    "        (90, 10, 0, 0, \"predict 100% correct\"),\n",
    "        (80, 10, 0, 10, \"predict 10 positive wrong, rest (90) correct\"),\n",
    "        (50, 0, 10, 40, \"predict 50% correct (only positives), 50% wrong (including all negatives)\"),\n",
    "        (90, 1, 9, 0, \"predict all positives and 1/10 negatives correct\"),\n",
    "        (90, 2, 8, 0, \"predict all positives and 2/10 negatives correct\"), #predict all negatives and 2/10 positives correct\n",
    "        (90, 3, 7, 0, \"predict all positives and 3/10 negatives correct\"), #predict all negatives and 3/10 positives correct\n",
    "        (80, 0, 10, 10, \"predict all negatives and 10/90 positives wrong\"), #predict all positives and 10/90 negatives wrong\n",
    "        (80, 1, 9, 10, \"predict 9/10 negatives and 10/90 positives wrong\"), #predict 9/10 positives and 10/90 negatives wrong\n",
    "        (80, 2, 8, 10, \"predict 8/10 negatives and 10/90 positives wrong\"), #predict 8/10 positives and 10/90 negatives wrong\n",
    "        (80, 3, 7, 10, \"predict 7/10 negatives and 10/90 positives wrong\"), #predict 7/10 positives and 10/90 negatives wrong\n",
    "       ]"
   ]
  },
  {
   "cell_type": "code",
   "execution_count": 88,
   "metadata": {
    "pycharm": {
     "name": "#%%\n"
    }
   },
   "outputs": [
    {
     "name": "stdout",
     "output_type": "stream",
     "text": [
      "0: nan, 0.0\n",
      "1: 0.9, 1.0\n",
      "2: 1.0, 1.0\n",
      "3: 1.0, 0.8888888888888888\n",
      "4: 0.8333333333333334, 0.5555555555555556\n",
      "5: 0.9090909090909091, 1.0\n",
      "6: 0.9183673469387755, 1.0\n",
      "7: 0.9278350515463918, 1.0\n",
      "8: 0.8888888888888888, 0.8888888888888888\n",
      "9: 0.898876404494382, 0.8888888888888888\n",
      "10: 0.9090909090909091, 0.8888888888888888\n",
      "11: 0.9195402298850575, 0.8888888888888888\n"
     ]
    }
   ],
   "source": [
    "f1_scores = []\n",
    "for idx, row in enumerate(data):\n",
    "    p = precision(row[0], row[2])\n",
    "    r = recall(row[0], row[3])\n",
    "    print(f\"{idx}: {p}, {r}\")\n",
    "    f1_score = f1(p, r)\n",
    "    f1_scores.append(f1_score)"
   ]
  },
  {
   "cell_type": "code",
   "execution_count": 89,
   "metadata": {
    "pycharm": {
     "name": "#%%\n"
    }
   },
   "outputs": [
    {
     "data": {
      "text/plain": [
       "[0.1, 0.9, 1.0, 0.9, 0.5, 0.91, 0.92, 0.93, 0.8, 0.81, 0.82, 0.83]"
      ]
     },
     "execution_count": 89,
     "metadata": {},
     "output_type": "execute_result"
    }
   ],
   "source": [
    "accuracies = [acc(row[0], row[1], row[2], row[3]) for row in data]\n",
    "accuracies"
   ]
  },
  {
   "cell_type": "code",
   "execution_count": 90,
   "metadata": {
    "pycharm": {
     "name": "#%%\n"
    }
   },
   "outputs": [
    {
     "data": {
      "text/html": [
       "<div>\n",
       "<style scoped>\n",
       "    .dataframe tbody tr th:only-of-type {\n",
       "        vertical-align: middle;\n",
       "    }\n",
       "\n",
       "    .dataframe tbody tr th {\n",
       "        vertical-align: top;\n",
       "    }\n",
       "\n",
       "    .dataframe thead th {\n",
       "        text-align: right;\n",
       "    }\n",
       "</style>\n",
       "<table border=\"1\" class=\"dataframe\">\n",
       "  <thead>\n",
       "    <tr style=\"text-align: right;\">\n",
       "      <th></th>\n",
       "      <th>TP</th>\n",
       "      <th>TN</th>\n",
       "      <th>FP</th>\n",
       "      <th>FN</th>\n",
       "      <th>Description</th>\n",
       "    </tr>\n",
       "  </thead>\n",
       "  <tbody>\n",
       "    <tr>\n",
       "      <th>0</th>\n",
       "      <td>0</td>\n",
       "      <td>10</td>\n",
       "      <td>0</td>\n",
       "      <td>90</td>\n",
       "      <td>predict all negative</td>\n",
       "    </tr>\n",
       "    <tr>\n",
       "      <th>1</th>\n",
       "      <td>90</td>\n",
       "      <td>0</td>\n",
       "      <td>10</td>\n",
       "      <td>0</td>\n",
       "      <td>predict all positive</td>\n",
       "    </tr>\n",
       "    <tr>\n",
       "      <th>2</th>\n",
       "      <td>90</td>\n",
       "      <td>10</td>\n",
       "      <td>0</td>\n",
       "      <td>0</td>\n",
       "      <td>predict 100% correct</td>\n",
       "    </tr>\n",
       "    <tr>\n",
       "      <th>3</th>\n",
       "      <td>80</td>\n",
       "      <td>10</td>\n",
       "      <td>0</td>\n",
       "      <td>10</td>\n",
       "      <td>predict 10 positive wrong, rest (90) correct</td>\n",
       "    </tr>\n",
       "    <tr>\n",
       "      <th>4</th>\n",
       "      <td>50</td>\n",
       "      <td>0</td>\n",
       "      <td>10</td>\n",
       "      <td>40</td>\n",
       "      <td>predict 50% correct (only positives), 50% wron...</td>\n",
       "    </tr>\n",
       "    <tr>\n",
       "      <th>5</th>\n",
       "      <td>90</td>\n",
       "      <td>1</td>\n",
       "      <td>9</td>\n",
       "      <td>0</td>\n",
       "      <td>predict all positives and 1/10 negatives correct</td>\n",
       "    </tr>\n",
       "    <tr>\n",
       "      <th>6</th>\n",
       "      <td>90</td>\n",
       "      <td>2</td>\n",
       "      <td>8</td>\n",
       "      <td>0</td>\n",
       "      <td>predict all positives and 2/10 negatives correct</td>\n",
       "    </tr>\n",
       "    <tr>\n",
       "      <th>7</th>\n",
       "      <td>90</td>\n",
       "      <td>3</td>\n",
       "      <td>7</td>\n",
       "      <td>0</td>\n",
       "      <td>predict all positives and 3/10 negatives correct</td>\n",
       "    </tr>\n",
       "    <tr>\n",
       "      <th>8</th>\n",
       "      <td>80</td>\n",
       "      <td>0</td>\n",
       "      <td>10</td>\n",
       "      <td>10</td>\n",
       "      <td>predict all negatives and 10/90 positives wrong</td>\n",
       "    </tr>\n",
       "    <tr>\n",
       "      <th>9</th>\n",
       "      <td>80</td>\n",
       "      <td>1</td>\n",
       "      <td>9</td>\n",
       "      <td>10</td>\n",
       "      <td>predict 9/10 negatives and 10/90 positives wrong</td>\n",
       "    </tr>\n",
       "    <tr>\n",
       "      <th>10</th>\n",
       "      <td>80</td>\n",
       "      <td>2</td>\n",
       "      <td>8</td>\n",
       "      <td>10</td>\n",
       "      <td>predict 8/10 negatives and 10/90 positives wrong</td>\n",
       "    </tr>\n",
       "    <tr>\n",
       "      <th>11</th>\n",
       "      <td>80</td>\n",
       "      <td>3</td>\n",
       "      <td>7</td>\n",
       "      <td>10</td>\n",
       "      <td>predict 7/10 negatives and 10/90 positives wrong</td>\n",
       "    </tr>\n",
       "  </tbody>\n",
       "</table>\n",
       "</div>"
      ],
      "text/plain": [
       "    TP  TN  FP  FN                                        Description\n",
       "0    0  10   0  90                               predict all negative\n",
       "1   90   0  10   0                               predict all positive\n",
       "2   90  10   0   0                               predict 100% correct\n",
       "3   80  10   0  10       predict 10 positive wrong, rest (90) correct\n",
       "4   50   0  10  40  predict 50% correct (only positives), 50% wron...\n",
       "5   90   1   9   0   predict all positives and 1/10 negatives correct\n",
       "6   90   2   8   0   predict all positives and 2/10 negatives correct\n",
       "7   90   3   7   0   predict all positives and 3/10 negatives correct\n",
       "8   80   0  10  10    predict all negatives and 10/90 positives wrong\n",
       "9   80   1   9  10   predict 9/10 negatives and 10/90 positives wrong\n",
       "10  80   2   8  10   predict 8/10 negatives and 10/90 positives wrong\n",
       "11  80   3   7  10   predict 7/10 negatives and 10/90 positives wrong"
      ]
     },
     "execution_count": 90,
     "metadata": {},
     "output_type": "execute_result"
    }
   ],
   "source": [
    "df = pd.DataFrame(columns=[\"TP\", \"TN\", \"FP\", \"FN\", \"Description\"], data=data)\n",
    "df"
   ]
  },
  {
   "cell_type": "code",
   "execution_count": 91,
   "metadata": {
    "pycharm": {
     "name": "#%%\n"
    }
   },
   "outputs": [],
   "source": [
    "df[\"F1\"]=f1_scores"
   ]
  },
  {
   "cell_type": "code",
   "execution_count": 92,
   "metadata": {
    "pycharm": {
     "name": "#%%\n"
    }
   },
   "outputs": [],
   "source": [
    "df[\"ACC\"] = accuracies"
   ]
  },
  {
   "cell_type": "code",
   "execution_count": 93,
   "metadata": {
    "pycharm": {
     "name": "#%%\n"
    }
   },
   "outputs": [
    {
     "data": {
      "text/html": [
       "<div>\n",
       "<style scoped>\n",
       "    .dataframe tbody tr th:only-of-type {\n",
       "        vertical-align: middle;\n",
       "    }\n",
       "\n",
       "    .dataframe tbody tr th {\n",
       "        vertical-align: top;\n",
       "    }\n",
       "\n",
       "    .dataframe thead th {\n",
       "        text-align: right;\n",
       "    }\n",
       "</style>\n",
       "<table border=\"1\" class=\"dataframe\">\n",
       "  <thead>\n",
       "    <tr style=\"text-align: right;\">\n",
       "      <th></th>\n",
       "      <th>TP</th>\n",
       "      <th>TN</th>\n",
       "      <th>FP</th>\n",
       "      <th>FN</th>\n",
       "      <th>Description</th>\n",
       "      <th>F1</th>\n",
       "      <th>ACC</th>\n",
       "    </tr>\n",
       "  </thead>\n",
       "  <tbody>\n",
       "    <tr>\n",
       "      <th>0</th>\n",
       "      <td>0</td>\n",
       "      <td>10</td>\n",
       "      <td>0</td>\n",
       "      <td>90</td>\n",
       "      <td>predict all negative</td>\n",
       "      <td>NaN</td>\n",
       "      <td>0.10</td>\n",
       "    </tr>\n",
       "    <tr>\n",
       "      <th>1</th>\n",
       "      <td>90</td>\n",
       "      <td>0</td>\n",
       "      <td>10</td>\n",
       "      <td>0</td>\n",
       "      <td>predict all positive</td>\n",
       "      <td>0.947368</td>\n",
       "      <td>0.90</td>\n",
       "    </tr>\n",
       "    <tr>\n",
       "      <th>2</th>\n",
       "      <td>90</td>\n",
       "      <td>10</td>\n",
       "      <td>0</td>\n",
       "      <td>0</td>\n",
       "      <td>predict 100% correct</td>\n",
       "      <td>1.000000</td>\n",
       "      <td>1.00</td>\n",
       "    </tr>\n",
       "    <tr>\n",
       "      <th>3</th>\n",
       "      <td>80</td>\n",
       "      <td>10</td>\n",
       "      <td>0</td>\n",
       "      <td>10</td>\n",
       "      <td>predict 10 positive wrong, rest (90) correct</td>\n",
       "      <td>0.941176</td>\n",
       "      <td>0.90</td>\n",
       "    </tr>\n",
       "    <tr>\n",
       "      <th>4</th>\n",
       "      <td>50</td>\n",
       "      <td>0</td>\n",
       "      <td>10</td>\n",
       "      <td>40</td>\n",
       "      <td>predict 50% correct (only positives), 50% wron...</td>\n",
       "      <td>0.666667</td>\n",
       "      <td>0.50</td>\n",
       "    </tr>\n",
       "    <tr>\n",
       "      <th>5</th>\n",
       "      <td>90</td>\n",
       "      <td>1</td>\n",
       "      <td>9</td>\n",
       "      <td>0</td>\n",
       "      <td>predict all positives and 1/10 negatives correct</td>\n",
       "      <td>0.952381</td>\n",
       "      <td>0.91</td>\n",
       "    </tr>\n",
       "    <tr>\n",
       "      <th>6</th>\n",
       "      <td>90</td>\n",
       "      <td>2</td>\n",
       "      <td>8</td>\n",
       "      <td>0</td>\n",
       "      <td>predict all positives and 2/10 negatives correct</td>\n",
       "      <td>0.957447</td>\n",
       "      <td>0.92</td>\n",
       "    </tr>\n",
       "    <tr>\n",
       "      <th>7</th>\n",
       "      <td>90</td>\n",
       "      <td>3</td>\n",
       "      <td>7</td>\n",
       "      <td>0</td>\n",
       "      <td>predict all positives and 3/10 negatives correct</td>\n",
       "      <td>0.962567</td>\n",
       "      <td>0.93</td>\n",
       "    </tr>\n",
       "    <tr>\n",
       "      <th>8</th>\n",
       "      <td>80</td>\n",
       "      <td>0</td>\n",
       "      <td>10</td>\n",
       "      <td>10</td>\n",
       "      <td>predict all negatives and 10/90 positives wrong</td>\n",
       "      <td>0.888889</td>\n",
       "      <td>0.80</td>\n",
       "    </tr>\n",
       "    <tr>\n",
       "      <th>9</th>\n",
       "      <td>80</td>\n",
       "      <td>1</td>\n",
       "      <td>9</td>\n",
       "      <td>10</td>\n",
       "      <td>predict 9/10 negatives and 10/90 positives wrong</td>\n",
       "      <td>0.893855</td>\n",
       "      <td>0.81</td>\n",
       "    </tr>\n",
       "    <tr>\n",
       "      <th>10</th>\n",
       "      <td>80</td>\n",
       "      <td>2</td>\n",
       "      <td>8</td>\n",
       "      <td>10</td>\n",
       "      <td>predict 8/10 negatives and 10/90 positives wrong</td>\n",
       "      <td>0.898876</td>\n",
       "      <td>0.82</td>\n",
       "    </tr>\n",
       "    <tr>\n",
       "      <th>11</th>\n",
       "      <td>80</td>\n",
       "      <td>3</td>\n",
       "      <td>7</td>\n",
       "      <td>10</td>\n",
       "      <td>predict 7/10 negatives and 10/90 positives wrong</td>\n",
       "      <td>0.903955</td>\n",
       "      <td>0.83</td>\n",
       "    </tr>\n",
       "  </tbody>\n",
       "</table>\n",
       "</div>"
      ],
      "text/plain": [
       "    TP  TN  FP  FN                                        Description  \\\n",
       "0    0  10   0  90                               predict all negative   \n",
       "1   90   0  10   0                               predict all positive   \n",
       "2   90  10   0   0                               predict 100% correct   \n",
       "3   80  10   0  10       predict 10 positive wrong, rest (90) correct   \n",
       "4   50   0  10  40  predict 50% correct (only positives), 50% wron...   \n",
       "5   90   1   9   0   predict all positives and 1/10 negatives correct   \n",
       "6   90   2   8   0   predict all positives and 2/10 negatives correct   \n",
       "7   90   3   7   0   predict all positives and 3/10 negatives correct   \n",
       "8   80   0  10  10    predict all negatives and 10/90 positives wrong   \n",
       "9   80   1   9  10   predict 9/10 negatives and 10/90 positives wrong   \n",
       "10  80   2   8  10   predict 8/10 negatives and 10/90 positives wrong   \n",
       "11  80   3   7  10   predict 7/10 negatives and 10/90 positives wrong   \n",
       "\n",
       "          F1   ACC  \n",
       "0        NaN  0.10  \n",
       "1   0.947368  0.90  \n",
       "2   1.000000  1.00  \n",
       "3   0.941176  0.90  \n",
       "4   0.666667  0.50  \n",
       "5   0.952381  0.91  \n",
       "6   0.957447  0.92  \n",
       "7   0.962567  0.93  \n",
       "8   0.888889  0.80  \n",
       "9   0.893855  0.81  \n",
       "10  0.898876  0.82  \n",
       "11  0.903955  0.83  "
      ]
     },
     "execution_count": 93,
     "metadata": {},
     "output_type": "execute_result"
    }
   ],
   "source": [
    "df"
   ]
  },
  {
   "cell_type": "code",
   "execution_count": 94,
   "metadata": {
    "pycharm": {
     "name": "#%%\n"
    }
   },
   "outputs": [],
   "source": [
    "df = df[[\"TN\", \"TP\", \"FN\", \"FP\", \"F1\", \"ACC\", \"Description\"]]"
   ]
  },
  {
   "cell_type": "code",
   "execution_count": 95,
   "metadata": {
    "pycharm": {
     "name": "#%%\n"
    }
   },
   "outputs": [
    {
     "data": {
      "text/html": [
       "<style  type=\"text/css\" >\n",
       "    #T_a9c80e48_f258_11ea_a2b8_a38f868d0b43 th {\n",
       "          text-align: left;\n",
       "    }#T_a9c80e48_f258_11ea_a2b8_a38f868d0b43row0_col6,#T_a9c80e48_f258_11ea_a2b8_a38f868d0b43row1_col6,#T_a9c80e48_f258_11ea_a2b8_a38f868d0b43row2_col6,#T_a9c80e48_f258_11ea_a2b8_a38f868d0b43row3_col6,#T_a9c80e48_f258_11ea_a2b8_a38f868d0b43row4_col6,#T_a9c80e48_f258_11ea_a2b8_a38f868d0b43row5_col6,#T_a9c80e48_f258_11ea_a2b8_a38f868d0b43row6_col6,#T_a9c80e48_f258_11ea_a2b8_a38f868d0b43row7_col6,#T_a9c80e48_f258_11ea_a2b8_a38f868d0b43row8_col6,#T_a9c80e48_f258_11ea_a2b8_a38f868d0b43row9_col6,#T_a9c80e48_f258_11ea_a2b8_a38f868d0b43row10_col6,#T_a9c80e48_f258_11ea_a2b8_a38f868d0b43row11_col6{\n",
       "            text-align:  left;\n",
       "        }</style><table id=\"T_a9c80e48_f258_11ea_a2b8_a38f868d0b43\" ><thead>    <tr>        <th class=\"blank level0\" ></th>        <th class=\"col_heading level0 col0\" >TN</th>        <th class=\"col_heading level0 col1\" >TP</th>        <th class=\"col_heading level0 col2\" >FN</th>        <th class=\"col_heading level0 col3\" >FP</th>        <th class=\"col_heading level0 col4\" >F1</th>        <th class=\"col_heading level0 col5\" >ACC</th>        <th class=\"col_heading level0 col6\" >Description</th>    </tr></thead><tbody>\n",
       "                <tr>\n",
       "                        <th id=\"T_a9c80e48_f258_11ea_a2b8_a38f868d0b43level0_row0\" class=\"row_heading level0 row0\" >0</th>\n",
       "                        <td id=\"T_a9c80e48_f258_11ea_a2b8_a38f868d0b43row0_col0\" class=\"data row0 col0\" >10</td>\n",
       "                        <td id=\"T_a9c80e48_f258_11ea_a2b8_a38f868d0b43row0_col1\" class=\"data row0 col1\" >0</td>\n",
       "                        <td id=\"T_a9c80e48_f258_11ea_a2b8_a38f868d0b43row0_col2\" class=\"data row0 col2\" >90</td>\n",
       "                        <td id=\"T_a9c80e48_f258_11ea_a2b8_a38f868d0b43row0_col3\" class=\"data row0 col3\" >0</td>\n",
       "                        <td id=\"T_a9c80e48_f258_11ea_a2b8_a38f868d0b43row0_col4\" class=\"data row0 col4\" >nan</td>\n",
       "                        <td id=\"T_a9c80e48_f258_11ea_a2b8_a38f868d0b43row0_col5\" class=\"data row0 col5\" >0.100000</td>\n",
       "                        <td id=\"T_a9c80e48_f258_11ea_a2b8_a38f868d0b43row0_col6\" class=\"data row0 col6\" >predict all negative</td>\n",
       "            </tr>\n",
       "            <tr>\n",
       "                        <th id=\"T_a9c80e48_f258_11ea_a2b8_a38f868d0b43level0_row1\" class=\"row_heading level0 row1\" >1</th>\n",
       "                        <td id=\"T_a9c80e48_f258_11ea_a2b8_a38f868d0b43row1_col0\" class=\"data row1 col0\" >0</td>\n",
       "                        <td id=\"T_a9c80e48_f258_11ea_a2b8_a38f868d0b43row1_col1\" class=\"data row1 col1\" >90</td>\n",
       "                        <td id=\"T_a9c80e48_f258_11ea_a2b8_a38f868d0b43row1_col2\" class=\"data row1 col2\" >0</td>\n",
       "                        <td id=\"T_a9c80e48_f258_11ea_a2b8_a38f868d0b43row1_col3\" class=\"data row1 col3\" >10</td>\n",
       "                        <td id=\"T_a9c80e48_f258_11ea_a2b8_a38f868d0b43row1_col4\" class=\"data row1 col4\" >0.947368</td>\n",
       "                        <td id=\"T_a9c80e48_f258_11ea_a2b8_a38f868d0b43row1_col5\" class=\"data row1 col5\" >0.900000</td>\n",
       "                        <td id=\"T_a9c80e48_f258_11ea_a2b8_a38f868d0b43row1_col6\" class=\"data row1 col6\" >predict all positive</td>\n",
       "            </tr>\n",
       "            <tr>\n",
       "                        <th id=\"T_a9c80e48_f258_11ea_a2b8_a38f868d0b43level0_row2\" class=\"row_heading level0 row2\" >2</th>\n",
       "                        <td id=\"T_a9c80e48_f258_11ea_a2b8_a38f868d0b43row2_col0\" class=\"data row2 col0\" >10</td>\n",
       "                        <td id=\"T_a9c80e48_f258_11ea_a2b8_a38f868d0b43row2_col1\" class=\"data row2 col1\" >90</td>\n",
       "                        <td id=\"T_a9c80e48_f258_11ea_a2b8_a38f868d0b43row2_col2\" class=\"data row2 col2\" >0</td>\n",
       "                        <td id=\"T_a9c80e48_f258_11ea_a2b8_a38f868d0b43row2_col3\" class=\"data row2 col3\" >0</td>\n",
       "                        <td id=\"T_a9c80e48_f258_11ea_a2b8_a38f868d0b43row2_col4\" class=\"data row2 col4\" >1.000000</td>\n",
       "                        <td id=\"T_a9c80e48_f258_11ea_a2b8_a38f868d0b43row2_col5\" class=\"data row2 col5\" >1.000000</td>\n",
       "                        <td id=\"T_a9c80e48_f258_11ea_a2b8_a38f868d0b43row2_col6\" class=\"data row2 col6\" >predict 100% correct</td>\n",
       "            </tr>\n",
       "            <tr>\n",
       "                        <th id=\"T_a9c80e48_f258_11ea_a2b8_a38f868d0b43level0_row3\" class=\"row_heading level0 row3\" >3</th>\n",
       "                        <td id=\"T_a9c80e48_f258_11ea_a2b8_a38f868d0b43row3_col0\" class=\"data row3 col0\" >10</td>\n",
       "                        <td id=\"T_a9c80e48_f258_11ea_a2b8_a38f868d0b43row3_col1\" class=\"data row3 col1\" >80</td>\n",
       "                        <td id=\"T_a9c80e48_f258_11ea_a2b8_a38f868d0b43row3_col2\" class=\"data row3 col2\" >10</td>\n",
       "                        <td id=\"T_a9c80e48_f258_11ea_a2b8_a38f868d0b43row3_col3\" class=\"data row3 col3\" >0</td>\n",
       "                        <td id=\"T_a9c80e48_f258_11ea_a2b8_a38f868d0b43row3_col4\" class=\"data row3 col4\" >0.941176</td>\n",
       "                        <td id=\"T_a9c80e48_f258_11ea_a2b8_a38f868d0b43row3_col5\" class=\"data row3 col5\" >0.900000</td>\n",
       "                        <td id=\"T_a9c80e48_f258_11ea_a2b8_a38f868d0b43row3_col6\" class=\"data row3 col6\" >predict 10 positive wrong, rest (90) correct</td>\n",
       "            </tr>\n",
       "            <tr>\n",
       "                        <th id=\"T_a9c80e48_f258_11ea_a2b8_a38f868d0b43level0_row4\" class=\"row_heading level0 row4\" >4</th>\n",
       "                        <td id=\"T_a9c80e48_f258_11ea_a2b8_a38f868d0b43row4_col0\" class=\"data row4 col0\" >0</td>\n",
       "                        <td id=\"T_a9c80e48_f258_11ea_a2b8_a38f868d0b43row4_col1\" class=\"data row4 col1\" >50</td>\n",
       "                        <td id=\"T_a9c80e48_f258_11ea_a2b8_a38f868d0b43row4_col2\" class=\"data row4 col2\" >40</td>\n",
       "                        <td id=\"T_a9c80e48_f258_11ea_a2b8_a38f868d0b43row4_col3\" class=\"data row4 col3\" >10</td>\n",
       "                        <td id=\"T_a9c80e48_f258_11ea_a2b8_a38f868d0b43row4_col4\" class=\"data row4 col4\" >0.666667</td>\n",
       "                        <td id=\"T_a9c80e48_f258_11ea_a2b8_a38f868d0b43row4_col5\" class=\"data row4 col5\" >0.500000</td>\n",
       "                        <td id=\"T_a9c80e48_f258_11ea_a2b8_a38f868d0b43row4_col6\" class=\"data row4 col6\" >predict 50% correct (only positives), 50% wrong (including all negatives)</td>\n",
       "            </tr>\n",
       "            <tr>\n",
       "                        <th id=\"T_a9c80e48_f258_11ea_a2b8_a38f868d0b43level0_row5\" class=\"row_heading level0 row5\" >5</th>\n",
       "                        <td id=\"T_a9c80e48_f258_11ea_a2b8_a38f868d0b43row5_col0\" class=\"data row5 col0\" >1</td>\n",
       "                        <td id=\"T_a9c80e48_f258_11ea_a2b8_a38f868d0b43row5_col1\" class=\"data row5 col1\" >90</td>\n",
       "                        <td id=\"T_a9c80e48_f258_11ea_a2b8_a38f868d0b43row5_col2\" class=\"data row5 col2\" >0</td>\n",
       "                        <td id=\"T_a9c80e48_f258_11ea_a2b8_a38f868d0b43row5_col3\" class=\"data row5 col3\" >9</td>\n",
       "                        <td id=\"T_a9c80e48_f258_11ea_a2b8_a38f868d0b43row5_col4\" class=\"data row5 col4\" >0.952381</td>\n",
       "                        <td id=\"T_a9c80e48_f258_11ea_a2b8_a38f868d0b43row5_col5\" class=\"data row5 col5\" >0.910000</td>\n",
       "                        <td id=\"T_a9c80e48_f258_11ea_a2b8_a38f868d0b43row5_col6\" class=\"data row5 col6\" >predict all positives and 1/10 negatives correct</td>\n",
       "            </tr>\n",
       "            <tr>\n",
       "                        <th id=\"T_a9c80e48_f258_11ea_a2b8_a38f868d0b43level0_row6\" class=\"row_heading level0 row6\" >6</th>\n",
       "                        <td id=\"T_a9c80e48_f258_11ea_a2b8_a38f868d0b43row6_col0\" class=\"data row6 col0\" >2</td>\n",
       "                        <td id=\"T_a9c80e48_f258_11ea_a2b8_a38f868d0b43row6_col1\" class=\"data row6 col1\" >90</td>\n",
       "                        <td id=\"T_a9c80e48_f258_11ea_a2b8_a38f868d0b43row6_col2\" class=\"data row6 col2\" >0</td>\n",
       "                        <td id=\"T_a9c80e48_f258_11ea_a2b8_a38f868d0b43row6_col3\" class=\"data row6 col3\" >8</td>\n",
       "                        <td id=\"T_a9c80e48_f258_11ea_a2b8_a38f868d0b43row6_col4\" class=\"data row6 col4\" >0.957447</td>\n",
       "                        <td id=\"T_a9c80e48_f258_11ea_a2b8_a38f868d0b43row6_col5\" class=\"data row6 col5\" >0.920000</td>\n",
       "                        <td id=\"T_a9c80e48_f258_11ea_a2b8_a38f868d0b43row6_col6\" class=\"data row6 col6\" >predict all positives and 2/10 negatives correct</td>\n",
       "            </tr>\n",
       "            <tr>\n",
       "                        <th id=\"T_a9c80e48_f258_11ea_a2b8_a38f868d0b43level0_row7\" class=\"row_heading level0 row7\" >7</th>\n",
       "                        <td id=\"T_a9c80e48_f258_11ea_a2b8_a38f868d0b43row7_col0\" class=\"data row7 col0\" >3</td>\n",
       "                        <td id=\"T_a9c80e48_f258_11ea_a2b8_a38f868d0b43row7_col1\" class=\"data row7 col1\" >90</td>\n",
       "                        <td id=\"T_a9c80e48_f258_11ea_a2b8_a38f868d0b43row7_col2\" class=\"data row7 col2\" >0</td>\n",
       "                        <td id=\"T_a9c80e48_f258_11ea_a2b8_a38f868d0b43row7_col3\" class=\"data row7 col3\" >7</td>\n",
       "                        <td id=\"T_a9c80e48_f258_11ea_a2b8_a38f868d0b43row7_col4\" class=\"data row7 col4\" >0.962567</td>\n",
       "                        <td id=\"T_a9c80e48_f258_11ea_a2b8_a38f868d0b43row7_col5\" class=\"data row7 col5\" >0.930000</td>\n",
       "                        <td id=\"T_a9c80e48_f258_11ea_a2b8_a38f868d0b43row7_col6\" class=\"data row7 col6\" >predict all positives and 3/10 negatives correct</td>\n",
       "            </tr>\n",
       "            <tr>\n",
       "                        <th id=\"T_a9c80e48_f258_11ea_a2b8_a38f868d0b43level0_row8\" class=\"row_heading level0 row8\" >8</th>\n",
       "                        <td id=\"T_a9c80e48_f258_11ea_a2b8_a38f868d0b43row8_col0\" class=\"data row8 col0\" >0</td>\n",
       "                        <td id=\"T_a9c80e48_f258_11ea_a2b8_a38f868d0b43row8_col1\" class=\"data row8 col1\" >80</td>\n",
       "                        <td id=\"T_a9c80e48_f258_11ea_a2b8_a38f868d0b43row8_col2\" class=\"data row8 col2\" >10</td>\n",
       "                        <td id=\"T_a9c80e48_f258_11ea_a2b8_a38f868d0b43row8_col3\" class=\"data row8 col3\" >10</td>\n",
       "                        <td id=\"T_a9c80e48_f258_11ea_a2b8_a38f868d0b43row8_col4\" class=\"data row8 col4\" >0.888889</td>\n",
       "                        <td id=\"T_a9c80e48_f258_11ea_a2b8_a38f868d0b43row8_col5\" class=\"data row8 col5\" >0.800000</td>\n",
       "                        <td id=\"T_a9c80e48_f258_11ea_a2b8_a38f868d0b43row8_col6\" class=\"data row8 col6\" >predict all negatives and 10/90 positives wrong</td>\n",
       "            </tr>\n",
       "            <tr>\n",
       "                        <th id=\"T_a9c80e48_f258_11ea_a2b8_a38f868d0b43level0_row9\" class=\"row_heading level0 row9\" >9</th>\n",
       "                        <td id=\"T_a9c80e48_f258_11ea_a2b8_a38f868d0b43row9_col0\" class=\"data row9 col0\" >1</td>\n",
       "                        <td id=\"T_a9c80e48_f258_11ea_a2b8_a38f868d0b43row9_col1\" class=\"data row9 col1\" >80</td>\n",
       "                        <td id=\"T_a9c80e48_f258_11ea_a2b8_a38f868d0b43row9_col2\" class=\"data row9 col2\" >10</td>\n",
       "                        <td id=\"T_a9c80e48_f258_11ea_a2b8_a38f868d0b43row9_col3\" class=\"data row9 col3\" >9</td>\n",
       "                        <td id=\"T_a9c80e48_f258_11ea_a2b8_a38f868d0b43row9_col4\" class=\"data row9 col4\" >0.893855</td>\n",
       "                        <td id=\"T_a9c80e48_f258_11ea_a2b8_a38f868d0b43row9_col5\" class=\"data row9 col5\" >0.810000</td>\n",
       "                        <td id=\"T_a9c80e48_f258_11ea_a2b8_a38f868d0b43row9_col6\" class=\"data row9 col6\" >predict 9/10 negatives and 10/90 positives wrong</td>\n",
       "            </tr>\n",
       "            <tr>\n",
       "                        <th id=\"T_a9c80e48_f258_11ea_a2b8_a38f868d0b43level0_row10\" class=\"row_heading level0 row10\" >10</th>\n",
       "                        <td id=\"T_a9c80e48_f258_11ea_a2b8_a38f868d0b43row10_col0\" class=\"data row10 col0\" >2</td>\n",
       "                        <td id=\"T_a9c80e48_f258_11ea_a2b8_a38f868d0b43row10_col1\" class=\"data row10 col1\" >80</td>\n",
       "                        <td id=\"T_a9c80e48_f258_11ea_a2b8_a38f868d0b43row10_col2\" class=\"data row10 col2\" >10</td>\n",
       "                        <td id=\"T_a9c80e48_f258_11ea_a2b8_a38f868d0b43row10_col3\" class=\"data row10 col3\" >8</td>\n",
       "                        <td id=\"T_a9c80e48_f258_11ea_a2b8_a38f868d0b43row10_col4\" class=\"data row10 col4\" >0.898876</td>\n",
       "                        <td id=\"T_a9c80e48_f258_11ea_a2b8_a38f868d0b43row10_col5\" class=\"data row10 col5\" >0.820000</td>\n",
       "                        <td id=\"T_a9c80e48_f258_11ea_a2b8_a38f868d0b43row10_col6\" class=\"data row10 col6\" >predict 8/10 negatives and 10/90 positives wrong</td>\n",
       "            </tr>\n",
       "            <tr>\n",
       "                        <th id=\"T_a9c80e48_f258_11ea_a2b8_a38f868d0b43level0_row11\" class=\"row_heading level0 row11\" >11</th>\n",
       "                        <td id=\"T_a9c80e48_f258_11ea_a2b8_a38f868d0b43row11_col0\" class=\"data row11 col0\" >3</td>\n",
       "                        <td id=\"T_a9c80e48_f258_11ea_a2b8_a38f868d0b43row11_col1\" class=\"data row11 col1\" >80</td>\n",
       "                        <td id=\"T_a9c80e48_f258_11ea_a2b8_a38f868d0b43row11_col2\" class=\"data row11 col2\" >10</td>\n",
       "                        <td id=\"T_a9c80e48_f258_11ea_a2b8_a38f868d0b43row11_col3\" class=\"data row11 col3\" >7</td>\n",
       "                        <td id=\"T_a9c80e48_f258_11ea_a2b8_a38f868d0b43row11_col4\" class=\"data row11 col4\" >0.903955</td>\n",
       "                        <td id=\"T_a9c80e48_f258_11ea_a2b8_a38f868d0b43row11_col5\" class=\"data row11 col5\" >0.830000</td>\n",
       "                        <td id=\"T_a9c80e48_f258_11ea_a2b8_a38f868d0b43row11_col6\" class=\"data row11 col6\" >predict 7/10 negatives and 10/90 positives wrong</td>\n",
       "            </tr>\n",
       "    </tbody></table>"
      ],
      "text/plain": [
       "<pandas.io.formats.style.Styler at 0x7f80e8700df0>"
      ]
     },
     "execution_count": 95,
     "metadata": {},
     "output_type": "execute_result"
    }
   ],
   "source": [
    "#https://stackoverflow.com/questions/17232013/how-to-set-the-pandas-dataframe-data-left-right-alignment\n",
    "df.style.set_properties(subset=[\"Description\"], **{'text-align': 'left'}).set_table_styles([dict(selector='th', props=[('text-align', 'left')])])\n"
   ]
  },
  {
   "cell_type": "code",
   "execution_count": 96,
   "metadata": {
    "pycharm": {
     "name": "#%%\n"
    }
   },
   "outputs": [
    {
     "data": {
      "text/plain": [
       "0.74962874251497"
      ]
     },
     "execution_count": 96,
     "metadata": {},
     "output_type": "execute_result"
    }
   ],
   "source": [
    "f1(p=0.714, r=0.789)"
   ]
  },
  {
   "cell_type": "code",
   "execution_count": 97,
   "metadata": {
    "pycharm": {
     "name": "#%%\n"
    }
   },
   "outputs": [
    {
     "data": {
      "text/plain": [
       "0.019801980198019802"
      ]
     },
     "execution_count": 97,
     "metadata": {},
     "output_type": "execute_result"
    }
   ],
   "source": [
    "f1(p=0.01, r=1.0)"
   ]
  },
  {
   "cell_type": "code",
   "execution_count": 98,
   "metadata": {
    "pycharm": {
     "name": "#%%\n"
    }
   },
   "outputs": [
    {
     "data": {
      "text/plain": [
       "[0.65, 0.57, 0.33]"
      ]
     },
     "execution_count": 98,
     "metadata": {},
     "output_type": "execute_result"
    }
   ],
   "source": [
    "precisions"
   ]
  },
  {
   "cell_type": "code",
   "execution_count": null,
   "metadata": {
    "pycharm": {
     "name": "#%%\n"
    }
   },
   "outputs": [],
   "source": []
  },
  {
   "cell_type": "code",
   "execution_count": null,
   "metadata": {},
   "outputs": [],
   "source": []
  },
  {
   "cell_type": "code",
   "execution_count": 99,
   "metadata": {},
   "outputs": [],
   "source": [
    "df[\"ACC\"] = accuracies"
   ]
  },
  {
   "cell_type": "code",
   "execution_count": 100,
   "metadata": {},
   "outputs": [
    {
     "data": {
      "text/html": [
       "<div>\n",
       "<style scoped>\n",
       "    .dataframe tbody tr th:only-of-type {\n",
       "        vertical-align: middle;\n",
       "    }\n",
       "\n",
       "    .dataframe tbody tr th {\n",
       "        vertical-align: top;\n",
       "    }\n",
       "\n",
       "    .dataframe thead th {\n",
       "        text-align: right;\n",
       "    }\n",
       "</style>\n",
       "<table border=\"1\" class=\"dataframe\">\n",
       "  <thead>\n",
       "    <tr style=\"text-align: right;\">\n",
       "      <th></th>\n",
       "      <th>TN</th>\n",
       "      <th>TP</th>\n",
       "      <th>FN</th>\n",
       "      <th>FP</th>\n",
       "      <th>F1</th>\n",
       "      <th>ACC</th>\n",
       "      <th>Description</th>\n",
       "    </tr>\n",
       "  </thead>\n",
       "  <tbody>\n",
       "    <tr>\n",
       "      <th>0</th>\n",
       "      <td>10</td>\n",
       "      <td>0</td>\n",
       "      <td>90</td>\n",
       "      <td>0</td>\n",
       "      <td>NaN</td>\n",
       "      <td>0.10</td>\n",
       "      <td>predict all negative</td>\n",
       "    </tr>\n",
       "    <tr>\n",
       "      <th>1</th>\n",
       "      <td>0</td>\n",
       "      <td>90</td>\n",
       "      <td>0</td>\n",
       "      <td>10</td>\n",
       "      <td>0.947368</td>\n",
       "      <td>0.90</td>\n",
       "      <td>predict all positive</td>\n",
       "    </tr>\n",
       "    <tr>\n",
       "      <th>2</th>\n",
       "      <td>10</td>\n",
       "      <td>90</td>\n",
       "      <td>0</td>\n",
       "      <td>0</td>\n",
       "      <td>1.000000</td>\n",
       "      <td>1.00</td>\n",
       "      <td>predict 100% correct</td>\n",
       "    </tr>\n",
       "    <tr>\n",
       "      <th>3</th>\n",
       "      <td>10</td>\n",
       "      <td>80</td>\n",
       "      <td>10</td>\n",
       "      <td>0</td>\n",
       "      <td>0.941176</td>\n",
       "      <td>0.90</td>\n",
       "      <td>predict 10 positive wrong, rest (90) correct</td>\n",
       "    </tr>\n",
       "    <tr>\n",
       "      <th>4</th>\n",
       "      <td>0</td>\n",
       "      <td>50</td>\n",
       "      <td>40</td>\n",
       "      <td>10</td>\n",
       "      <td>0.666667</td>\n",
       "      <td>0.50</td>\n",
       "      <td>predict 50% correct (only positives), 50% wron...</td>\n",
       "    </tr>\n",
       "    <tr>\n",
       "      <th>5</th>\n",
       "      <td>1</td>\n",
       "      <td>90</td>\n",
       "      <td>0</td>\n",
       "      <td>9</td>\n",
       "      <td>0.952381</td>\n",
       "      <td>0.91</td>\n",
       "      <td>predict all positives and 1/10 negatives correct</td>\n",
       "    </tr>\n",
       "    <tr>\n",
       "      <th>6</th>\n",
       "      <td>2</td>\n",
       "      <td>90</td>\n",
       "      <td>0</td>\n",
       "      <td>8</td>\n",
       "      <td>0.957447</td>\n",
       "      <td>0.92</td>\n",
       "      <td>predict all positives and 2/10 negatives correct</td>\n",
       "    </tr>\n",
       "    <tr>\n",
       "      <th>7</th>\n",
       "      <td>3</td>\n",
       "      <td>90</td>\n",
       "      <td>0</td>\n",
       "      <td>7</td>\n",
       "      <td>0.962567</td>\n",
       "      <td>0.93</td>\n",
       "      <td>predict all positives and 3/10 negatives correct</td>\n",
       "    </tr>\n",
       "    <tr>\n",
       "      <th>8</th>\n",
       "      <td>0</td>\n",
       "      <td>80</td>\n",
       "      <td>10</td>\n",
       "      <td>10</td>\n",
       "      <td>0.888889</td>\n",
       "      <td>0.80</td>\n",
       "      <td>predict all negatives and 10/90 positives wrong</td>\n",
       "    </tr>\n",
       "    <tr>\n",
       "      <th>9</th>\n",
       "      <td>1</td>\n",
       "      <td>80</td>\n",
       "      <td>10</td>\n",
       "      <td>9</td>\n",
       "      <td>0.893855</td>\n",
       "      <td>0.81</td>\n",
       "      <td>predict 9/10 negatives and 10/90 positives wrong</td>\n",
       "    </tr>\n",
       "    <tr>\n",
       "      <th>10</th>\n",
       "      <td>2</td>\n",
       "      <td>80</td>\n",
       "      <td>10</td>\n",
       "      <td>8</td>\n",
       "      <td>0.898876</td>\n",
       "      <td>0.82</td>\n",
       "      <td>predict 8/10 negatives and 10/90 positives wrong</td>\n",
       "    </tr>\n",
       "    <tr>\n",
       "      <th>11</th>\n",
       "      <td>3</td>\n",
       "      <td>80</td>\n",
       "      <td>10</td>\n",
       "      <td>7</td>\n",
       "      <td>0.903955</td>\n",
       "      <td>0.83</td>\n",
       "      <td>predict 7/10 negatives and 10/90 positives wrong</td>\n",
       "    </tr>\n",
       "  </tbody>\n",
       "</table>\n",
       "</div>"
      ],
      "text/plain": [
       "    TN  TP  FN  FP        F1   ACC  \\\n",
       "0   10   0  90   0       NaN  0.10   \n",
       "1    0  90   0  10  0.947368  0.90   \n",
       "2   10  90   0   0  1.000000  1.00   \n",
       "3   10  80  10   0  0.941176  0.90   \n",
       "4    0  50  40  10  0.666667  0.50   \n",
       "5    1  90   0   9  0.952381  0.91   \n",
       "6    2  90   0   8  0.957447  0.92   \n",
       "7    3  90   0   7  0.962567  0.93   \n",
       "8    0  80  10  10  0.888889  0.80   \n",
       "9    1  80  10   9  0.893855  0.81   \n",
       "10   2  80  10   8  0.898876  0.82   \n",
       "11   3  80  10   7  0.903955  0.83   \n",
       "\n",
       "                                          Description  \n",
       "0                                predict all negative  \n",
       "1                                predict all positive  \n",
       "2                                predict 100% correct  \n",
       "3        predict 10 positive wrong, rest (90) correct  \n",
       "4   predict 50% correct (only positives), 50% wron...  \n",
       "5    predict all positives and 1/10 negatives correct  \n",
       "6    predict all positives and 2/10 negatives correct  \n",
       "7    predict all positives and 3/10 negatives correct  \n",
       "8     predict all negatives and 10/90 positives wrong  \n",
       "9    predict 9/10 negatives and 10/90 positives wrong  \n",
       "10   predict 8/10 negatives and 10/90 positives wrong  \n",
       "11   predict 7/10 negatives and 10/90 positives wrong  "
      ]
     },
     "execution_count": 100,
     "metadata": {},
     "output_type": "execute_result"
    }
   ],
   "source": [
    "df"
   ]
  },
  {
   "cell_type": "code",
   "execution_count": 101,
   "metadata": {},
   "outputs": [],
   "source": [
    "df = df[[\"TN\", \"TP\", \"FN\", \"FP\", \"F1\", \"ACC\", \"Description\"]]"
   ]
  },
  {
   "cell_type": "code",
   "execution_count": 102,
   "metadata": {},
   "outputs": [
    {
     "data": {
      "text/html": [
       "<style  type=\"text/css\" >\n",
       "    #T_aadc7026_f258_11ea_a2b8_a38f868d0b43 th {\n",
       "          text-align: left;\n",
       "    }#T_aadc7026_f258_11ea_a2b8_a38f868d0b43row0_col6,#T_aadc7026_f258_11ea_a2b8_a38f868d0b43row1_col6,#T_aadc7026_f258_11ea_a2b8_a38f868d0b43row2_col6,#T_aadc7026_f258_11ea_a2b8_a38f868d0b43row3_col6,#T_aadc7026_f258_11ea_a2b8_a38f868d0b43row4_col6,#T_aadc7026_f258_11ea_a2b8_a38f868d0b43row5_col6,#T_aadc7026_f258_11ea_a2b8_a38f868d0b43row6_col6,#T_aadc7026_f258_11ea_a2b8_a38f868d0b43row7_col6,#T_aadc7026_f258_11ea_a2b8_a38f868d0b43row8_col6,#T_aadc7026_f258_11ea_a2b8_a38f868d0b43row9_col6,#T_aadc7026_f258_11ea_a2b8_a38f868d0b43row10_col6,#T_aadc7026_f258_11ea_a2b8_a38f868d0b43row11_col6{\n",
       "            text-align:  left;\n",
       "        }</style><table id=\"T_aadc7026_f258_11ea_a2b8_a38f868d0b43\" ><thead>    <tr>        <th class=\"blank level0\" ></th>        <th class=\"col_heading level0 col0\" >TN</th>        <th class=\"col_heading level0 col1\" >TP</th>        <th class=\"col_heading level0 col2\" >FN</th>        <th class=\"col_heading level0 col3\" >FP</th>        <th class=\"col_heading level0 col4\" >F1</th>        <th class=\"col_heading level0 col5\" >ACC</th>        <th class=\"col_heading level0 col6\" >Description</th>    </tr></thead><tbody>\n",
       "                <tr>\n",
       "                        <th id=\"T_aadc7026_f258_11ea_a2b8_a38f868d0b43level0_row0\" class=\"row_heading level0 row0\" >0</th>\n",
       "                        <td id=\"T_aadc7026_f258_11ea_a2b8_a38f868d0b43row0_col0\" class=\"data row0 col0\" >10</td>\n",
       "                        <td id=\"T_aadc7026_f258_11ea_a2b8_a38f868d0b43row0_col1\" class=\"data row0 col1\" >0</td>\n",
       "                        <td id=\"T_aadc7026_f258_11ea_a2b8_a38f868d0b43row0_col2\" class=\"data row0 col2\" >90</td>\n",
       "                        <td id=\"T_aadc7026_f258_11ea_a2b8_a38f868d0b43row0_col3\" class=\"data row0 col3\" >0</td>\n",
       "                        <td id=\"T_aadc7026_f258_11ea_a2b8_a38f868d0b43row0_col4\" class=\"data row0 col4\" >nan</td>\n",
       "                        <td id=\"T_aadc7026_f258_11ea_a2b8_a38f868d0b43row0_col5\" class=\"data row0 col5\" >0.100000</td>\n",
       "                        <td id=\"T_aadc7026_f258_11ea_a2b8_a38f868d0b43row0_col6\" class=\"data row0 col6\" >predict all negative</td>\n",
       "            </tr>\n",
       "            <tr>\n",
       "                        <th id=\"T_aadc7026_f258_11ea_a2b8_a38f868d0b43level0_row1\" class=\"row_heading level0 row1\" >1</th>\n",
       "                        <td id=\"T_aadc7026_f258_11ea_a2b8_a38f868d0b43row1_col0\" class=\"data row1 col0\" >0</td>\n",
       "                        <td id=\"T_aadc7026_f258_11ea_a2b8_a38f868d0b43row1_col1\" class=\"data row1 col1\" >90</td>\n",
       "                        <td id=\"T_aadc7026_f258_11ea_a2b8_a38f868d0b43row1_col2\" class=\"data row1 col2\" >0</td>\n",
       "                        <td id=\"T_aadc7026_f258_11ea_a2b8_a38f868d0b43row1_col3\" class=\"data row1 col3\" >10</td>\n",
       "                        <td id=\"T_aadc7026_f258_11ea_a2b8_a38f868d0b43row1_col4\" class=\"data row1 col4\" >0.947368</td>\n",
       "                        <td id=\"T_aadc7026_f258_11ea_a2b8_a38f868d0b43row1_col5\" class=\"data row1 col5\" >0.900000</td>\n",
       "                        <td id=\"T_aadc7026_f258_11ea_a2b8_a38f868d0b43row1_col6\" class=\"data row1 col6\" >predict all positive</td>\n",
       "            </tr>\n",
       "            <tr>\n",
       "                        <th id=\"T_aadc7026_f258_11ea_a2b8_a38f868d0b43level0_row2\" class=\"row_heading level0 row2\" >2</th>\n",
       "                        <td id=\"T_aadc7026_f258_11ea_a2b8_a38f868d0b43row2_col0\" class=\"data row2 col0\" >10</td>\n",
       "                        <td id=\"T_aadc7026_f258_11ea_a2b8_a38f868d0b43row2_col1\" class=\"data row2 col1\" >90</td>\n",
       "                        <td id=\"T_aadc7026_f258_11ea_a2b8_a38f868d0b43row2_col2\" class=\"data row2 col2\" >0</td>\n",
       "                        <td id=\"T_aadc7026_f258_11ea_a2b8_a38f868d0b43row2_col3\" class=\"data row2 col3\" >0</td>\n",
       "                        <td id=\"T_aadc7026_f258_11ea_a2b8_a38f868d0b43row2_col4\" class=\"data row2 col4\" >1.000000</td>\n",
       "                        <td id=\"T_aadc7026_f258_11ea_a2b8_a38f868d0b43row2_col5\" class=\"data row2 col5\" >1.000000</td>\n",
       "                        <td id=\"T_aadc7026_f258_11ea_a2b8_a38f868d0b43row2_col6\" class=\"data row2 col6\" >predict 100% correct</td>\n",
       "            </tr>\n",
       "            <tr>\n",
       "                        <th id=\"T_aadc7026_f258_11ea_a2b8_a38f868d0b43level0_row3\" class=\"row_heading level0 row3\" >3</th>\n",
       "                        <td id=\"T_aadc7026_f258_11ea_a2b8_a38f868d0b43row3_col0\" class=\"data row3 col0\" >10</td>\n",
       "                        <td id=\"T_aadc7026_f258_11ea_a2b8_a38f868d0b43row3_col1\" class=\"data row3 col1\" >80</td>\n",
       "                        <td id=\"T_aadc7026_f258_11ea_a2b8_a38f868d0b43row3_col2\" class=\"data row3 col2\" >10</td>\n",
       "                        <td id=\"T_aadc7026_f258_11ea_a2b8_a38f868d0b43row3_col3\" class=\"data row3 col3\" >0</td>\n",
       "                        <td id=\"T_aadc7026_f258_11ea_a2b8_a38f868d0b43row3_col4\" class=\"data row3 col4\" >0.941176</td>\n",
       "                        <td id=\"T_aadc7026_f258_11ea_a2b8_a38f868d0b43row3_col5\" class=\"data row3 col5\" >0.900000</td>\n",
       "                        <td id=\"T_aadc7026_f258_11ea_a2b8_a38f868d0b43row3_col6\" class=\"data row3 col6\" >predict 10 positive wrong, rest (90) correct</td>\n",
       "            </tr>\n",
       "            <tr>\n",
       "                        <th id=\"T_aadc7026_f258_11ea_a2b8_a38f868d0b43level0_row4\" class=\"row_heading level0 row4\" >4</th>\n",
       "                        <td id=\"T_aadc7026_f258_11ea_a2b8_a38f868d0b43row4_col0\" class=\"data row4 col0\" >0</td>\n",
       "                        <td id=\"T_aadc7026_f258_11ea_a2b8_a38f868d0b43row4_col1\" class=\"data row4 col1\" >50</td>\n",
       "                        <td id=\"T_aadc7026_f258_11ea_a2b8_a38f868d0b43row4_col2\" class=\"data row4 col2\" >40</td>\n",
       "                        <td id=\"T_aadc7026_f258_11ea_a2b8_a38f868d0b43row4_col3\" class=\"data row4 col3\" >10</td>\n",
       "                        <td id=\"T_aadc7026_f258_11ea_a2b8_a38f868d0b43row4_col4\" class=\"data row4 col4\" >0.666667</td>\n",
       "                        <td id=\"T_aadc7026_f258_11ea_a2b8_a38f868d0b43row4_col5\" class=\"data row4 col5\" >0.500000</td>\n",
       "                        <td id=\"T_aadc7026_f258_11ea_a2b8_a38f868d0b43row4_col6\" class=\"data row4 col6\" >predict 50% correct (only positives), 50% wrong (including all negatives)</td>\n",
       "            </tr>\n",
       "            <tr>\n",
       "                        <th id=\"T_aadc7026_f258_11ea_a2b8_a38f868d0b43level0_row5\" class=\"row_heading level0 row5\" >5</th>\n",
       "                        <td id=\"T_aadc7026_f258_11ea_a2b8_a38f868d0b43row5_col0\" class=\"data row5 col0\" >1</td>\n",
       "                        <td id=\"T_aadc7026_f258_11ea_a2b8_a38f868d0b43row5_col1\" class=\"data row5 col1\" >90</td>\n",
       "                        <td id=\"T_aadc7026_f258_11ea_a2b8_a38f868d0b43row5_col2\" class=\"data row5 col2\" >0</td>\n",
       "                        <td id=\"T_aadc7026_f258_11ea_a2b8_a38f868d0b43row5_col3\" class=\"data row5 col3\" >9</td>\n",
       "                        <td id=\"T_aadc7026_f258_11ea_a2b8_a38f868d0b43row5_col4\" class=\"data row5 col4\" >0.952381</td>\n",
       "                        <td id=\"T_aadc7026_f258_11ea_a2b8_a38f868d0b43row5_col5\" class=\"data row5 col5\" >0.910000</td>\n",
       "                        <td id=\"T_aadc7026_f258_11ea_a2b8_a38f868d0b43row5_col6\" class=\"data row5 col6\" >predict all positives and 1/10 negatives correct</td>\n",
       "            </tr>\n",
       "            <tr>\n",
       "                        <th id=\"T_aadc7026_f258_11ea_a2b8_a38f868d0b43level0_row6\" class=\"row_heading level0 row6\" >6</th>\n",
       "                        <td id=\"T_aadc7026_f258_11ea_a2b8_a38f868d0b43row6_col0\" class=\"data row6 col0\" >2</td>\n",
       "                        <td id=\"T_aadc7026_f258_11ea_a2b8_a38f868d0b43row6_col1\" class=\"data row6 col1\" >90</td>\n",
       "                        <td id=\"T_aadc7026_f258_11ea_a2b8_a38f868d0b43row6_col2\" class=\"data row6 col2\" >0</td>\n",
       "                        <td id=\"T_aadc7026_f258_11ea_a2b8_a38f868d0b43row6_col3\" class=\"data row6 col3\" >8</td>\n",
       "                        <td id=\"T_aadc7026_f258_11ea_a2b8_a38f868d0b43row6_col4\" class=\"data row6 col4\" >0.957447</td>\n",
       "                        <td id=\"T_aadc7026_f258_11ea_a2b8_a38f868d0b43row6_col5\" class=\"data row6 col5\" >0.920000</td>\n",
       "                        <td id=\"T_aadc7026_f258_11ea_a2b8_a38f868d0b43row6_col6\" class=\"data row6 col6\" >predict all positives and 2/10 negatives correct</td>\n",
       "            </tr>\n",
       "            <tr>\n",
       "                        <th id=\"T_aadc7026_f258_11ea_a2b8_a38f868d0b43level0_row7\" class=\"row_heading level0 row7\" >7</th>\n",
       "                        <td id=\"T_aadc7026_f258_11ea_a2b8_a38f868d0b43row7_col0\" class=\"data row7 col0\" >3</td>\n",
       "                        <td id=\"T_aadc7026_f258_11ea_a2b8_a38f868d0b43row7_col1\" class=\"data row7 col1\" >90</td>\n",
       "                        <td id=\"T_aadc7026_f258_11ea_a2b8_a38f868d0b43row7_col2\" class=\"data row7 col2\" >0</td>\n",
       "                        <td id=\"T_aadc7026_f258_11ea_a2b8_a38f868d0b43row7_col3\" class=\"data row7 col3\" >7</td>\n",
       "                        <td id=\"T_aadc7026_f258_11ea_a2b8_a38f868d0b43row7_col4\" class=\"data row7 col4\" >0.962567</td>\n",
       "                        <td id=\"T_aadc7026_f258_11ea_a2b8_a38f868d0b43row7_col5\" class=\"data row7 col5\" >0.930000</td>\n",
       "                        <td id=\"T_aadc7026_f258_11ea_a2b8_a38f868d0b43row7_col6\" class=\"data row7 col6\" >predict all positives and 3/10 negatives correct</td>\n",
       "            </tr>\n",
       "            <tr>\n",
       "                        <th id=\"T_aadc7026_f258_11ea_a2b8_a38f868d0b43level0_row8\" class=\"row_heading level0 row8\" >8</th>\n",
       "                        <td id=\"T_aadc7026_f258_11ea_a2b8_a38f868d0b43row8_col0\" class=\"data row8 col0\" >0</td>\n",
       "                        <td id=\"T_aadc7026_f258_11ea_a2b8_a38f868d0b43row8_col1\" class=\"data row8 col1\" >80</td>\n",
       "                        <td id=\"T_aadc7026_f258_11ea_a2b8_a38f868d0b43row8_col2\" class=\"data row8 col2\" >10</td>\n",
       "                        <td id=\"T_aadc7026_f258_11ea_a2b8_a38f868d0b43row8_col3\" class=\"data row8 col3\" >10</td>\n",
       "                        <td id=\"T_aadc7026_f258_11ea_a2b8_a38f868d0b43row8_col4\" class=\"data row8 col4\" >0.888889</td>\n",
       "                        <td id=\"T_aadc7026_f258_11ea_a2b8_a38f868d0b43row8_col5\" class=\"data row8 col5\" >0.800000</td>\n",
       "                        <td id=\"T_aadc7026_f258_11ea_a2b8_a38f868d0b43row8_col6\" class=\"data row8 col6\" >predict all negatives and 10/90 positives wrong</td>\n",
       "            </tr>\n",
       "            <tr>\n",
       "                        <th id=\"T_aadc7026_f258_11ea_a2b8_a38f868d0b43level0_row9\" class=\"row_heading level0 row9\" >9</th>\n",
       "                        <td id=\"T_aadc7026_f258_11ea_a2b8_a38f868d0b43row9_col0\" class=\"data row9 col0\" >1</td>\n",
       "                        <td id=\"T_aadc7026_f258_11ea_a2b8_a38f868d0b43row9_col1\" class=\"data row9 col1\" >80</td>\n",
       "                        <td id=\"T_aadc7026_f258_11ea_a2b8_a38f868d0b43row9_col2\" class=\"data row9 col2\" >10</td>\n",
       "                        <td id=\"T_aadc7026_f258_11ea_a2b8_a38f868d0b43row9_col3\" class=\"data row9 col3\" >9</td>\n",
       "                        <td id=\"T_aadc7026_f258_11ea_a2b8_a38f868d0b43row9_col4\" class=\"data row9 col4\" >0.893855</td>\n",
       "                        <td id=\"T_aadc7026_f258_11ea_a2b8_a38f868d0b43row9_col5\" class=\"data row9 col5\" >0.810000</td>\n",
       "                        <td id=\"T_aadc7026_f258_11ea_a2b8_a38f868d0b43row9_col6\" class=\"data row9 col6\" >predict 9/10 negatives and 10/90 positives wrong</td>\n",
       "            </tr>\n",
       "            <tr>\n",
       "                        <th id=\"T_aadc7026_f258_11ea_a2b8_a38f868d0b43level0_row10\" class=\"row_heading level0 row10\" >10</th>\n",
       "                        <td id=\"T_aadc7026_f258_11ea_a2b8_a38f868d0b43row10_col0\" class=\"data row10 col0\" >2</td>\n",
       "                        <td id=\"T_aadc7026_f258_11ea_a2b8_a38f868d0b43row10_col1\" class=\"data row10 col1\" >80</td>\n",
       "                        <td id=\"T_aadc7026_f258_11ea_a2b8_a38f868d0b43row10_col2\" class=\"data row10 col2\" >10</td>\n",
       "                        <td id=\"T_aadc7026_f258_11ea_a2b8_a38f868d0b43row10_col3\" class=\"data row10 col3\" >8</td>\n",
       "                        <td id=\"T_aadc7026_f258_11ea_a2b8_a38f868d0b43row10_col4\" class=\"data row10 col4\" >0.898876</td>\n",
       "                        <td id=\"T_aadc7026_f258_11ea_a2b8_a38f868d0b43row10_col5\" class=\"data row10 col5\" >0.820000</td>\n",
       "                        <td id=\"T_aadc7026_f258_11ea_a2b8_a38f868d0b43row10_col6\" class=\"data row10 col6\" >predict 8/10 negatives and 10/90 positives wrong</td>\n",
       "            </tr>\n",
       "            <tr>\n",
       "                        <th id=\"T_aadc7026_f258_11ea_a2b8_a38f868d0b43level0_row11\" class=\"row_heading level0 row11\" >11</th>\n",
       "                        <td id=\"T_aadc7026_f258_11ea_a2b8_a38f868d0b43row11_col0\" class=\"data row11 col0\" >3</td>\n",
       "                        <td id=\"T_aadc7026_f258_11ea_a2b8_a38f868d0b43row11_col1\" class=\"data row11 col1\" >80</td>\n",
       "                        <td id=\"T_aadc7026_f258_11ea_a2b8_a38f868d0b43row11_col2\" class=\"data row11 col2\" >10</td>\n",
       "                        <td id=\"T_aadc7026_f258_11ea_a2b8_a38f868d0b43row11_col3\" class=\"data row11 col3\" >7</td>\n",
       "                        <td id=\"T_aadc7026_f258_11ea_a2b8_a38f868d0b43row11_col4\" class=\"data row11 col4\" >0.903955</td>\n",
       "                        <td id=\"T_aadc7026_f258_11ea_a2b8_a38f868d0b43row11_col5\" class=\"data row11 col5\" >0.830000</td>\n",
       "                        <td id=\"T_aadc7026_f258_11ea_a2b8_a38f868d0b43row11_col6\" class=\"data row11 col6\" >predict 7/10 negatives and 10/90 positives wrong</td>\n",
       "            </tr>\n",
       "    </tbody></table>"
      ],
      "text/plain": [
       "<pandas.io.formats.style.Styler at 0x7f80e87006a0>"
      ]
     },
     "execution_count": 102,
     "metadata": {},
     "output_type": "execute_result"
    }
   ],
   "source": [
    "#https://stackoverflow.com/questions/17232013/how-to-set-the-pandas-dataframe-data-left-right-alignment\n",
    "df.style.set_properties(subset=[\"Description\"], **{'text-align': 'left'}).set_table_styles([dict(selector='th', props=[('text-align', 'left')])])\n"
   ]
  },
  {
   "cell_type": "code",
   "execution_count": 117,
   "metadata": {},
   "outputs": [],
   "source": [
    "# reverse split\n",
    "#data has 100 instances, 90/10 split\n",
    "#TP,TN,FP,FN\n",
    "data = [(0, 10, 0, 90, \"predict all negative\"),\n",
    "        (90, 0, 10, 0, \"predict all positive\"), \n",
    "        (90, 10, 0, 0, \"predict 100% correct\"),\n",
    "        (80, 10, 0, 10, \"predict 10 positive wrong, rest (90) correct\"),\n",
    "        (50, 0, 10, 40, \"predict 50% correct (only positives), 50% wrong (including all negatives)\"),\n",
    "        (90, 1, 9, 0, \"predict all positives and 1/10 negatives correct\"),\n",
    "        (90, 2, 8, 0, \"predict all positives and 2/10 negatives correct\"), #predict all negatives and 2/10 positives correct\n",
    "        (90, 3, 7, 0, \"predict all positives and 3/10 negatives correct\"), #predict all negatives and 3/10 positives correct\n",
    "        (80, 0, 10, 10, \"predict all negatives and 10/90 positives wrong\"), #predict all positives and 10/90 negatives wrong\n",
    "        (80, 1, 9, 10, \"predict 9/10 negatives and 10/90 positives wrong\"), #predict 9/10 positives and 10/90 negatives wrong\n",
    "        (80, 2, 8, 10, \"predict 8/10 negatives and 10/90 positives wrong\"), #predict 8/10 positives and 10/90 negatives wrong\n",
    "        (80, 3, 7, 10, \"predict 7/10 negatives and 10/90 positives wrong\"), #predict 7/10 positives and 10/90 negatives wrong\n",
    "       ]"
   ]
  },
  {
   "cell_type": "code",
   "execution_count": 118,
   "metadata": {},
   "outputs": [
    {
     "name": "stdout",
     "output_type": "stream",
     "text": [
      "0: nan, 0.0\n",
      "1: 0.9, 1.0\n",
      "2: 1.0, 1.0\n",
      "3: 1.0, 0.8888888888888888\n",
      "4: 0.8333333333333334, 0.5555555555555556\n",
      "5: 0.9090909090909091, 1.0\n",
      "6: 0.9183673469387755, 1.0\n",
      "7: 0.9278350515463918, 1.0\n",
      "8: 0.8888888888888888, 0.8888888888888888\n",
      "9: 0.898876404494382, 0.8888888888888888\n",
      "10: 0.9090909090909091, 0.8888888888888888\n",
      "11: 0.9195402298850575, 0.8888888888888888\n"
     ]
    }
   ],
   "source": [
    "f1_scores = []\n",
    "for idx, row in enumerate(data):\n",
    "    p = precision(row[0], row[2])\n",
    "    r = recall(row[0], row[3])\n",
    "    print(f\"{idx}: {p}, {r}\")\n",
    "    f1_score = f1(p, r)\n",
    "    f1_scores.append(f1_score)"
   ]
  },
  {
   "cell_type": "code",
   "execution_count": 119,
   "metadata": {},
   "outputs": [
    {
     "data": {
      "text/plain": [
       "[0.1, 0.9, 1.0, 0.9, 0.5, 0.91, 0.92, 0.93, 0.8, 0.81, 0.82, 0.83]"
      ]
     },
     "execution_count": 119,
     "metadata": {},
     "output_type": "execute_result"
    }
   ],
   "source": [
    "accuracies = [acc(row[0], row[1], row[2], row[3]) for row in data]\n",
    "accuracies"
   ]
  },
  {
   "cell_type": "code",
   "execution_count": 120,
   "metadata": {},
   "outputs": [
    {
     "data": {
      "text/html": [
       "<div>\n",
       "<style scoped>\n",
       "    .dataframe tbody tr th:only-of-type {\n",
       "        vertical-align: middle;\n",
       "    }\n",
       "\n",
       "    .dataframe tbody tr th {\n",
       "        vertical-align: top;\n",
       "    }\n",
       "\n",
       "    .dataframe thead th {\n",
       "        text-align: right;\n",
       "    }\n",
       "</style>\n",
       "<table border=\"1\" class=\"dataframe\">\n",
       "  <thead>\n",
       "    <tr style=\"text-align: right;\">\n",
       "      <th></th>\n",
       "      <th>TP</th>\n",
       "      <th>TN</th>\n",
       "      <th>FP</th>\n",
       "      <th>FN</th>\n",
       "      <th>Description</th>\n",
       "    </tr>\n",
       "  </thead>\n",
       "  <tbody>\n",
       "    <tr>\n",
       "      <th>0</th>\n",
       "      <td>0</td>\n",
       "      <td>10</td>\n",
       "      <td>0</td>\n",
       "      <td>90</td>\n",
       "      <td>predict all negative</td>\n",
       "    </tr>\n",
       "    <tr>\n",
       "      <th>1</th>\n",
       "      <td>90</td>\n",
       "      <td>0</td>\n",
       "      <td>10</td>\n",
       "      <td>0</td>\n",
       "      <td>predict all positive</td>\n",
       "    </tr>\n",
       "    <tr>\n",
       "      <th>2</th>\n",
       "      <td>90</td>\n",
       "      <td>10</td>\n",
       "      <td>0</td>\n",
       "      <td>0</td>\n",
       "      <td>predict 100% correct</td>\n",
       "    </tr>\n",
       "    <tr>\n",
       "      <th>3</th>\n",
       "      <td>80</td>\n",
       "      <td>10</td>\n",
       "      <td>0</td>\n",
       "      <td>10</td>\n",
       "      <td>predict 10 positive wrong, rest (90) correct</td>\n",
       "    </tr>\n",
       "    <tr>\n",
       "      <th>4</th>\n",
       "      <td>50</td>\n",
       "      <td>0</td>\n",
       "      <td>10</td>\n",
       "      <td>40</td>\n",
       "      <td>predict 50% correct (only positives), 50% wron...</td>\n",
       "    </tr>\n",
       "    <tr>\n",
       "      <th>5</th>\n",
       "      <td>90</td>\n",
       "      <td>1</td>\n",
       "      <td>9</td>\n",
       "      <td>0</td>\n",
       "      <td>predict all positives and 1/10 negatives correct</td>\n",
       "    </tr>\n",
       "    <tr>\n",
       "      <th>6</th>\n",
       "      <td>90</td>\n",
       "      <td>2</td>\n",
       "      <td>8</td>\n",
       "      <td>0</td>\n",
       "      <td>predict all positives and 2/10 negatives correct</td>\n",
       "    </tr>\n",
       "    <tr>\n",
       "      <th>7</th>\n",
       "      <td>90</td>\n",
       "      <td>3</td>\n",
       "      <td>7</td>\n",
       "      <td>0</td>\n",
       "      <td>predict all positives and 3/10 negatives correct</td>\n",
       "    </tr>\n",
       "    <tr>\n",
       "      <th>8</th>\n",
       "      <td>80</td>\n",
       "      <td>0</td>\n",
       "      <td>10</td>\n",
       "      <td>10</td>\n",
       "      <td>predict all negatives and 10/90 positives wrong</td>\n",
       "    </tr>\n",
       "    <tr>\n",
       "      <th>9</th>\n",
       "      <td>80</td>\n",
       "      <td>1</td>\n",
       "      <td>9</td>\n",
       "      <td>10</td>\n",
       "      <td>predict 9/10 negatives and 10/90 positives wrong</td>\n",
       "    </tr>\n",
       "    <tr>\n",
       "      <th>10</th>\n",
       "      <td>80</td>\n",
       "      <td>2</td>\n",
       "      <td>8</td>\n",
       "      <td>10</td>\n",
       "      <td>predict 8/10 negatives and 10/90 positives wrong</td>\n",
       "    </tr>\n",
       "    <tr>\n",
       "      <th>11</th>\n",
       "      <td>80</td>\n",
       "      <td>3</td>\n",
       "      <td>7</td>\n",
       "      <td>10</td>\n",
       "      <td>predict 7/10 negatives and 10/90 positives wrong</td>\n",
       "    </tr>\n",
       "  </tbody>\n",
       "</table>\n",
       "</div>"
      ],
      "text/plain": [
       "    TP  TN  FP  FN                                        Description\n",
       "0    0  10   0  90                               predict all negative\n",
       "1   90   0  10   0                               predict all positive\n",
       "2   90  10   0   0                               predict 100% correct\n",
       "3   80  10   0  10       predict 10 positive wrong, rest (90) correct\n",
       "4   50   0  10  40  predict 50% correct (only positives), 50% wron...\n",
       "5   90   1   9   0   predict all positives and 1/10 negatives correct\n",
       "6   90   2   8   0   predict all positives and 2/10 negatives correct\n",
       "7   90   3   7   0   predict all positives and 3/10 negatives correct\n",
       "8   80   0  10  10    predict all negatives and 10/90 positives wrong\n",
       "9   80   1   9  10   predict 9/10 negatives and 10/90 positives wrong\n",
       "10  80   2   8  10   predict 8/10 negatives and 10/90 positives wrong\n",
       "11  80   3   7  10   predict 7/10 negatives and 10/90 positives wrong"
      ]
     },
     "execution_count": 120,
     "metadata": {},
     "output_type": "execute_result"
    }
   ],
   "source": [
    "df = pd.DataFrame(columns=[\"TP\",\"TN\",\"FP\",\"FN\", \"Description\"], data=data)\n",
    "df"
   ]
  },
  {
   "cell_type": "code",
   "execution_count": 121,
   "metadata": {},
   "outputs": [],
   "source": [
    "df[\"F1\"]=f1_scores"
   ]
  },
  {
   "cell_type": "code",
   "execution_count": 122,
   "metadata": {},
   "outputs": [],
   "source": [
    "df[\"ACC\"] = accuracies"
   ]
  },
  {
   "cell_type": "code",
   "execution_count": 123,
   "metadata": {},
   "outputs": [
    {
     "data": {
      "text/html": [
       "<div>\n",
       "<style scoped>\n",
       "    .dataframe tbody tr th:only-of-type {\n",
       "        vertical-align: middle;\n",
       "    }\n",
       "\n",
       "    .dataframe tbody tr th {\n",
       "        vertical-align: top;\n",
       "    }\n",
       "\n",
       "    .dataframe thead th {\n",
       "        text-align: right;\n",
       "    }\n",
       "</style>\n",
       "<table border=\"1\" class=\"dataframe\">\n",
       "  <thead>\n",
       "    <tr style=\"text-align: right;\">\n",
       "      <th></th>\n",
       "      <th>TP</th>\n",
       "      <th>TN</th>\n",
       "      <th>FP</th>\n",
       "      <th>FN</th>\n",
       "      <th>Description</th>\n",
       "      <th>F1</th>\n",
       "      <th>ACC</th>\n",
       "    </tr>\n",
       "  </thead>\n",
       "  <tbody>\n",
       "    <tr>\n",
       "      <th>0</th>\n",
       "      <td>0</td>\n",
       "      <td>10</td>\n",
       "      <td>0</td>\n",
       "      <td>90</td>\n",
       "      <td>predict all negative</td>\n",
       "      <td>NaN</td>\n",
       "      <td>0.10</td>\n",
       "    </tr>\n",
       "    <tr>\n",
       "      <th>1</th>\n",
       "      <td>90</td>\n",
       "      <td>0</td>\n",
       "      <td>10</td>\n",
       "      <td>0</td>\n",
       "      <td>predict all positive</td>\n",
       "      <td>0.947368</td>\n",
       "      <td>0.90</td>\n",
       "    </tr>\n",
       "    <tr>\n",
       "      <th>2</th>\n",
       "      <td>90</td>\n",
       "      <td>10</td>\n",
       "      <td>0</td>\n",
       "      <td>0</td>\n",
       "      <td>predict 100% correct</td>\n",
       "      <td>1.000000</td>\n",
       "      <td>1.00</td>\n",
       "    </tr>\n",
       "    <tr>\n",
       "      <th>3</th>\n",
       "      <td>80</td>\n",
       "      <td>10</td>\n",
       "      <td>0</td>\n",
       "      <td>10</td>\n",
       "      <td>predict 10 positive wrong, rest (90) correct</td>\n",
       "      <td>0.941176</td>\n",
       "      <td>0.90</td>\n",
       "    </tr>\n",
       "    <tr>\n",
       "      <th>4</th>\n",
       "      <td>50</td>\n",
       "      <td>0</td>\n",
       "      <td>10</td>\n",
       "      <td>40</td>\n",
       "      <td>predict 50% correct (only positives), 50% wron...</td>\n",
       "      <td>0.666667</td>\n",
       "      <td>0.50</td>\n",
       "    </tr>\n",
       "    <tr>\n",
       "      <th>5</th>\n",
       "      <td>90</td>\n",
       "      <td>1</td>\n",
       "      <td>9</td>\n",
       "      <td>0</td>\n",
       "      <td>predict all positives and 1/10 negatives correct</td>\n",
       "      <td>0.952381</td>\n",
       "      <td>0.91</td>\n",
       "    </tr>\n",
       "    <tr>\n",
       "      <th>6</th>\n",
       "      <td>90</td>\n",
       "      <td>2</td>\n",
       "      <td>8</td>\n",
       "      <td>0</td>\n",
       "      <td>predict all positives and 2/10 negatives correct</td>\n",
       "      <td>0.957447</td>\n",
       "      <td>0.92</td>\n",
       "    </tr>\n",
       "    <tr>\n",
       "      <th>7</th>\n",
       "      <td>90</td>\n",
       "      <td>3</td>\n",
       "      <td>7</td>\n",
       "      <td>0</td>\n",
       "      <td>predict all positives and 3/10 negatives correct</td>\n",
       "      <td>0.962567</td>\n",
       "      <td>0.93</td>\n",
       "    </tr>\n",
       "    <tr>\n",
       "      <th>8</th>\n",
       "      <td>80</td>\n",
       "      <td>0</td>\n",
       "      <td>10</td>\n",
       "      <td>10</td>\n",
       "      <td>predict all negatives and 10/90 positives wrong</td>\n",
       "      <td>0.888889</td>\n",
       "      <td>0.80</td>\n",
       "    </tr>\n",
       "    <tr>\n",
       "      <th>9</th>\n",
       "      <td>80</td>\n",
       "      <td>1</td>\n",
       "      <td>9</td>\n",
       "      <td>10</td>\n",
       "      <td>predict 9/10 negatives and 10/90 positives wrong</td>\n",
       "      <td>0.893855</td>\n",
       "      <td>0.81</td>\n",
       "    </tr>\n",
       "    <tr>\n",
       "      <th>10</th>\n",
       "      <td>80</td>\n",
       "      <td>2</td>\n",
       "      <td>8</td>\n",
       "      <td>10</td>\n",
       "      <td>predict 8/10 negatives and 10/90 positives wrong</td>\n",
       "      <td>0.898876</td>\n",
       "      <td>0.82</td>\n",
       "    </tr>\n",
       "    <tr>\n",
       "      <th>11</th>\n",
       "      <td>80</td>\n",
       "      <td>3</td>\n",
       "      <td>7</td>\n",
       "      <td>10</td>\n",
       "      <td>predict 7/10 negatives and 10/90 positives wrong</td>\n",
       "      <td>0.903955</td>\n",
       "      <td>0.83</td>\n",
       "    </tr>\n",
       "  </tbody>\n",
       "</table>\n",
       "</div>"
      ],
      "text/plain": [
       "    TP  TN  FP  FN                                        Description  \\\n",
       "0    0  10   0  90                               predict all negative   \n",
       "1   90   0  10   0                               predict all positive   \n",
       "2   90  10   0   0                               predict 100% correct   \n",
       "3   80  10   0  10       predict 10 positive wrong, rest (90) correct   \n",
       "4   50   0  10  40  predict 50% correct (only positives), 50% wron...   \n",
       "5   90   1   9   0   predict all positives and 1/10 negatives correct   \n",
       "6   90   2   8   0   predict all positives and 2/10 negatives correct   \n",
       "7   90   3   7   0   predict all positives and 3/10 negatives correct   \n",
       "8   80   0  10  10    predict all negatives and 10/90 positives wrong   \n",
       "9   80   1   9  10   predict 9/10 negatives and 10/90 positives wrong   \n",
       "10  80   2   8  10   predict 8/10 negatives and 10/90 positives wrong   \n",
       "11  80   3   7  10   predict 7/10 negatives and 10/90 positives wrong   \n",
       "\n",
       "          F1   ACC  \n",
       "0        NaN  0.10  \n",
       "1   0.947368  0.90  \n",
       "2   1.000000  1.00  \n",
       "3   0.941176  0.90  \n",
       "4   0.666667  0.50  \n",
       "5   0.952381  0.91  \n",
       "6   0.957447  0.92  \n",
       "7   0.962567  0.93  \n",
       "8   0.888889  0.80  \n",
       "9   0.893855  0.81  \n",
       "10  0.898876  0.82  \n",
       "11  0.903955  0.83  "
      ]
     },
     "execution_count": 123,
     "metadata": {},
     "output_type": "execute_result"
    }
   ],
   "source": [
    "df"
   ]
  },
  {
   "cell_type": "code",
   "execution_count": 124,
   "metadata": {},
   "outputs": [],
   "source": [
    "df = df[[\"TN\", \"TP\", \"FN\", \"FP\", \"F1\", \"ACC\", \"Description\"]]"
   ]
  },
  {
   "cell_type": "code",
   "execution_count": 125,
   "metadata": {},
   "outputs": [
    {
     "data": {
      "text/html": [
       "<style  type=\"text/css\" >\n",
       "    #T_c87bd68a_f258_11ea_a2b8_a38f868d0b43 th {\n",
       "          text-align: left;\n",
       "    }#T_c87bd68a_f258_11ea_a2b8_a38f868d0b43row0_col6,#T_c87bd68a_f258_11ea_a2b8_a38f868d0b43row1_col6,#T_c87bd68a_f258_11ea_a2b8_a38f868d0b43row2_col6,#T_c87bd68a_f258_11ea_a2b8_a38f868d0b43row3_col6,#T_c87bd68a_f258_11ea_a2b8_a38f868d0b43row4_col6,#T_c87bd68a_f258_11ea_a2b8_a38f868d0b43row5_col6,#T_c87bd68a_f258_11ea_a2b8_a38f868d0b43row6_col6,#T_c87bd68a_f258_11ea_a2b8_a38f868d0b43row7_col6,#T_c87bd68a_f258_11ea_a2b8_a38f868d0b43row8_col6,#T_c87bd68a_f258_11ea_a2b8_a38f868d0b43row9_col6,#T_c87bd68a_f258_11ea_a2b8_a38f868d0b43row10_col6,#T_c87bd68a_f258_11ea_a2b8_a38f868d0b43row11_col6{\n",
       "            text-align:  left;\n",
       "        }</style><table id=\"T_c87bd68a_f258_11ea_a2b8_a38f868d0b43\" ><thead>    <tr>        <th class=\"blank level0\" ></th>        <th class=\"col_heading level0 col0\" >TN</th>        <th class=\"col_heading level0 col1\" >TP</th>        <th class=\"col_heading level0 col2\" >FN</th>        <th class=\"col_heading level0 col3\" >FP</th>        <th class=\"col_heading level0 col4\" >F1</th>        <th class=\"col_heading level0 col5\" >ACC</th>        <th class=\"col_heading level0 col6\" >Description</th>    </tr></thead><tbody>\n",
       "                <tr>\n",
       "                        <th id=\"T_c87bd68a_f258_11ea_a2b8_a38f868d0b43level0_row0\" class=\"row_heading level0 row0\" >0</th>\n",
       "                        <td id=\"T_c87bd68a_f258_11ea_a2b8_a38f868d0b43row0_col0\" class=\"data row0 col0\" >10</td>\n",
       "                        <td id=\"T_c87bd68a_f258_11ea_a2b8_a38f868d0b43row0_col1\" class=\"data row0 col1\" >0</td>\n",
       "                        <td id=\"T_c87bd68a_f258_11ea_a2b8_a38f868d0b43row0_col2\" class=\"data row0 col2\" >90</td>\n",
       "                        <td id=\"T_c87bd68a_f258_11ea_a2b8_a38f868d0b43row0_col3\" class=\"data row0 col3\" >0</td>\n",
       "                        <td id=\"T_c87bd68a_f258_11ea_a2b8_a38f868d0b43row0_col4\" class=\"data row0 col4\" >nan</td>\n",
       "                        <td id=\"T_c87bd68a_f258_11ea_a2b8_a38f868d0b43row0_col5\" class=\"data row0 col5\" >0.100000</td>\n",
       "                        <td id=\"T_c87bd68a_f258_11ea_a2b8_a38f868d0b43row0_col6\" class=\"data row0 col6\" >predict all negative</td>\n",
       "            </tr>\n",
       "            <tr>\n",
       "                        <th id=\"T_c87bd68a_f258_11ea_a2b8_a38f868d0b43level0_row1\" class=\"row_heading level0 row1\" >1</th>\n",
       "                        <td id=\"T_c87bd68a_f258_11ea_a2b8_a38f868d0b43row1_col0\" class=\"data row1 col0\" >0</td>\n",
       "                        <td id=\"T_c87bd68a_f258_11ea_a2b8_a38f868d0b43row1_col1\" class=\"data row1 col1\" >90</td>\n",
       "                        <td id=\"T_c87bd68a_f258_11ea_a2b8_a38f868d0b43row1_col2\" class=\"data row1 col2\" >0</td>\n",
       "                        <td id=\"T_c87bd68a_f258_11ea_a2b8_a38f868d0b43row1_col3\" class=\"data row1 col3\" >10</td>\n",
       "                        <td id=\"T_c87bd68a_f258_11ea_a2b8_a38f868d0b43row1_col4\" class=\"data row1 col4\" >0.947368</td>\n",
       "                        <td id=\"T_c87bd68a_f258_11ea_a2b8_a38f868d0b43row1_col5\" class=\"data row1 col5\" >0.900000</td>\n",
       "                        <td id=\"T_c87bd68a_f258_11ea_a2b8_a38f868d0b43row1_col6\" class=\"data row1 col6\" >predict all positive</td>\n",
       "            </tr>\n",
       "            <tr>\n",
       "                        <th id=\"T_c87bd68a_f258_11ea_a2b8_a38f868d0b43level0_row2\" class=\"row_heading level0 row2\" >2</th>\n",
       "                        <td id=\"T_c87bd68a_f258_11ea_a2b8_a38f868d0b43row2_col0\" class=\"data row2 col0\" >10</td>\n",
       "                        <td id=\"T_c87bd68a_f258_11ea_a2b8_a38f868d0b43row2_col1\" class=\"data row2 col1\" >90</td>\n",
       "                        <td id=\"T_c87bd68a_f258_11ea_a2b8_a38f868d0b43row2_col2\" class=\"data row2 col2\" >0</td>\n",
       "                        <td id=\"T_c87bd68a_f258_11ea_a2b8_a38f868d0b43row2_col3\" class=\"data row2 col3\" >0</td>\n",
       "                        <td id=\"T_c87bd68a_f258_11ea_a2b8_a38f868d0b43row2_col4\" class=\"data row2 col4\" >1.000000</td>\n",
       "                        <td id=\"T_c87bd68a_f258_11ea_a2b8_a38f868d0b43row2_col5\" class=\"data row2 col5\" >1.000000</td>\n",
       "                        <td id=\"T_c87bd68a_f258_11ea_a2b8_a38f868d0b43row2_col6\" class=\"data row2 col6\" >predict 100% correct</td>\n",
       "            </tr>\n",
       "            <tr>\n",
       "                        <th id=\"T_c87bd68a_f258_11ea_a2b8_a38f868d0b43level0_row3\" class=\"row_heading level0 row3\" >3</th>\n",
       "                        <td id=\"T_c87bd68a_f258_11ea_a2b8_a38f868d0b43row3_col0\" class=\"data row3 col0\" >10</td>\n",
       "                        <td id=\"T_c87bd68a_f258_11ea_a2b8_a38f868d0b43row3_col1\" class=\"data row3 col1\" >80</td>\n",
       "                        <td id=\"T_c87bd68a_f258_11ea_a2b8_a38f868d0b43row3_col2\" class=\"data row3 col2\" >10</td>\n",
       "                        <td id=\"T_c87bd68a_f258_11ea_a2b8_a38f868d0b43row3_col3\" class=\"data row3 col3\" >0</td>\n",
       "                        <td id=\"T_c87bd68a_f258_11ea_a2b8_a38f868d0b43row3_col4\" class=\"data row3 col4\" >0.941176</td>\n",
       "                        <td id=\"T_c87bd68a_f258_11ea_a2b8_a38f868d0b43row3_col5\" class=\"data row3 col5\" >0.900000</td>\n",
       "                        <td id=\"T_c87bd68a_f258_11ea_a2b8_a38f868d0b43row3_col6\" class=\"data row3 col6\" >predict 10 positive wrong, rest (90) correct</td>\n",
       "            </tr>\n",
       "            <tr>\n",
       "                        <th id=\"T_c87bd68a_f258_11ea_a2b8_a38f868d0b43level0_row4\" class=\"row_heading level0 row4\" >4</th>\n",
       "                        <td id=\"T_c87bd68a_f258_11ea_a2b8_a38f868d0b43row4_col0\" class=\"data row4 col0\" >0</td>\n",
       "                        <td id=\"T_c87bd68a_f258_11ea_a2b8_a38f868d0b43row4_col1\" class=\"data row4 col1\" >50</td>\n",
       "                        <td id=\"T_c87bd68a_f258_11ea_a2b8_a38f868d0b43row4_col2\" class=\"data row4 col2\" >40</td>\n",
       "                        <td id=\"T_c87bd68a_f258_11ea_a2b8_a38f868d0b43row4_col3\" class=\"data row4 col3\" >10</td>\n",
       "                        <td id=\"T_c87bd68a_f258_11ea_a2b8_a38f868d0b43row4_col4\" class=\"data row4 col4\" >0.666667</td>\n",
       "                        <td id=\"T_c87bd68a_f258_11ea_a2b8_a38f868d0b43row4_col5\" class=\"data row4 col5\" >0.500000</td>\n",
       "                        <td id=\"T_c87bd68a_f258_11ea_a2b8_a38f868d0b43row4_col6\" class=\"data row4 col6\" >predict 50% correct (only positives), 50% wrong (including all negatives)</td>\n",
       "            </tr>\n",
       "            <tr>\n",
       "                        <th id=\"T_c87bd68a_f258_11ea_a2b8_a38f868d0b43level0_row5\" class=\"row_heading level0 row5\" >5</th>\n",
       "                        <td id=\"T_c87bd68a_f258_11ea_a2b8_a38f868d0b43row5_col0\" class=\"data row5 col0\" >1</td>\n",
       "                        <td id=\"T_c87bd68a_f258_11ea_a2b8_a38f868d0b43row5_col1\" class=\"data row5 col1\" >90</td>\n",
       "                        <td id=\"T_c87bd68a_f258_11ea_a2b8_a38f868d0b43row5_col2\" class=\"data row5 col2\" >0</td>\n",
       "                        <td id=\"T_c87bd68a_f258_11ea_a2b8_a38f868d0b43row5_col3\" class=\"data row5 col3\" >9</td>\n",
       "                        <td id=\"T_c87bd68a_f258_11ea_a2b8_a38f868d0b43row5_col4\" class=\"data row5 col4\" >0.952381</td>\n",
       "                        <td id=\"T_c87bd68a_f258_11ea_a2b8_a38f868d0b43row5_col5\" class=\"data row5 col5\" >0.910000</td>\n",
       "                        <td id=\"T_c87bd68a_f258_11ea_a2b8_a38f868d0b43row5_col6\" class=\"data row5 col6\" >predict all positives and 1/10 negatives correct</td>\n",
       "            </tr>\n",
       "            <tr>\n",
       "                        <th id=\"T_c87bd68a_f258_11ea_a2b8_a38f868d0b43level0_row6\" class=\"row_heading level0 row6\" >6</th>\n",
       "                        <td id=\"T_c87bd68a_f258_11ea_a2b8_a38f868d0b43row6_col0\" class=\"data row6 col0\" >2</td>\n",
       "                        <td id=\"T_c87bd68a_f258_11ea_a2b8_a38f868d0b43row6_col1\" class=\"data row6 col1\" >90</td>\n",
       "                        <td id=\"T_c87bd68a_f258_11ea_a2b8_a38f868d0b43row6_col2\" class=\"data row6 col2\" >0</td>\n",
       "                        <td id=\"T_c87bd68a_f258_11ea_a2b8_a38f868d0b43row6_col3\" class=\"data row6 col3\" >8</td>\n",
       "                        <td id=\"T_c87bd68a_f258_11ea_a2b8_a38f868d0b43row6_col4\" class=\"data row6 col4\" >0.957447</td>\n",
       "                        <td id=\"T_c87bd68a_f258_11ea_a2b8_a38f868d0b43row6_col5\" class=\"data row6 col5\" >0.920000</td>\n",
       "                        <td id=\"T_c87bd68a_f258_11ea_a2b8_a38f868d0b43row6_col6\" class=\"data row6 col6\" >predict all positives and 2/10 negatives correct</td>\n",
       "            </tr>\n",
       "            <tr>\n",
       "                        <th id=\"T_c87bd68a_f258_11ea_a2b8_a38f868d0b43level0_row7\" class=\"row_heading level0 row7\" >7</th>\n",
       "                        <td id=\"T_c87bd68a_f258_11ea_a2b8_a38f868d0b43row7_col0\" class=\"data row7 col0\" >3</td>\n",
       "                        <td id=\"T_c87bd68a_f258_11ea_a2b8_a38f868d0b43row7_col1\" class=\"data row7 col1\" >90</td>\n",
       "                        <td id=\"T_c87bd68a_f258_11ea_a2b8_a38f868d0b43row7_col2\" class=\"data row7 col2\" >0</td>\n",
       "                        <td id=\"T_c87bd68a_f258_11ea_a2b8_a38f868d0b43row7_col3\" class=\"data row7 col3\" >7</td>\n",
       "                        <td id=\"T_c87bd68a_f258_11ea_a2b8_a38f868d0b43row7_col4\" class=\"data row7 col4\" >0.962567</td>\n",
       "                        <td id=\"T_c87bd68a_f258_11ea_a2b8_a38f868d0b43row7_col5\" class=\"data row7 col5\" >0.930000</td>\n",
       "                        <td id=\"T_c87bd68a_f258_11ea_a2b8_a38f868d0b43row7_col6\" class=\"data row7 col6\" >predict all positives and 3/10 negatives correct</td>\n",
       "            </tr>\n",
       "            <tr>\n",
       "                        <th id=\"T_c87bd68a_f258_11ea_a2b8_a38f868d0b43level0_row8\" class=\"row_heading level0 row8\" >8</th>\n",
       "                        <td id=\"T_c87bd68a_f258_11ea_a2b8_a38f868d0b43row8_col0\" class=\"data row8 col0\" >0</td>\n",
       "                        <td id=\"T_c87bd68a_f258_11ea_a2b8_a38f868d0b43row8_col1\" class=\"data row8 col1\" >80</td>\n",
       "                        <td id=\"T_c87bd68a_f258_11ea_a2b8_a38f868d0b43row8_col2\" class=\"data row8 col2\" >10</td>\n",
       "                        <td id=\"T_c87bd68a_f258_11ea_a2b8_a38f868d0b43row8_col3\" class=\"data row8 col3\" >10</td>\n",
       "                        <td id=\"T_c87bd68a_f258_11ea_a2b8_a38f868d0b43row8_col4\" class=\"data row8 col4\" >0.888889</td>\n",
       "                        <td id=\"T_c87bd68a_f258_11ea_a2b8_a38f868d0b43row8_col5\" class=\"data row8 col5\" >0.800000</td>\n",
       "                        <td id=\"T_c87bd68a_f258_11ea_a2b8_a38f868d0b43row8_col6\" class=\"data row8 col6\" >predict all negatives and 10/90 positives wrong</td>\n",
       "            </tr>\n",
       "            <tr>\n",
       "                        <th id=\"T_c87bd68a_f258_11ea_a2b8_a38f868d0b43level0_row9\" class=\"row_heading level0 row9\" >9</th>\n",
       "                        <td id=\"T_c87bd68a_f258_11ea_a2b8_a38f868d0b43row9_col0\" class=\"data row9 col0\" >1</td>\n",
       "                        <td id=\"T_c87bd68a_f258_11ea_a2b8_a38f868d0b43row9_col1\" class=\"data row9 col1\" >80</td>\n",
       "                        <td id=\"T_c87bd68a_f258_11ea_a2b8_a38f868d0b43row9_col2\" class=\"data row9 col2\" >10</td>\n",
       "                        <td id=\"T_c87bd68a_f258_11ea_a2b8_a38f868d0b43row9_col3\" class=\"data row9 col3\" >9</td>\n",
       "                        <td id=\"T_c87bd68a_f258_11ea_a2b8_a38f868d0b43row9_col4\" class=\"data row9 col4\" >0.893855</td>\n",
       "                        <td id=\"T_c87bd68a_f258_11ea_a2b8_a38f868d0b43row9_col5\" class=\"data row9 col5\" >0.810000</td>\n",
       "                        <td id=\"T_c87bd68a_f258_11ea_a2b8_a38f868d0b43row9_col6\" class=\"data row9 col6\" >predict 9/10 negatives and 10/90 positives wrong</td>\n",
       "            </tr>\n",
       "            <tr>\n",
       "                        <th id=\"T_c87bd68a_f258_11ea_a2b8_a38f868d0b43level0_row10\" class=\"row_heading level0 row10\" >10</th>\n",
       "                        <td id=\"T_c87bd68a_f258_11ea_a2b8_a38f868d0b43row10_col0\" class=\"data row10 col0\" >2</td>\n",
       "                        <td id=\"T_c87bd68a_f258_11ea_a2b8_a38f868d0b43row10_col1\" class=\"data row10 col1\" >80</td>\n",
       "                        <td id=\"T_c87bd68a_f258_11ea_a2b8_a38f868d0b43row10_col2\" class=\"data row10 col2\" >10</td>\n",
       "                        <td id=\"T_c87bd68a_f258_11ea_a2b8_a38f868d0b43row10_col3\" class=\"data row10 col3\" >8</td>\n",
       "                        <td id=\"T_c87bd68a_f258_11ea_a2b8_a38f868d0b43row10_col4\" class=\"data row10 col4\" >0.898876</td>\n",
       "                        <td id=\"T_c87bd68a_f258_11ea_a2b8_a38f868d0b43row10_col5\" class=\"data row10 col5\" >0.820000</td>\n",
       "                        <td id=\"T_c87bd68a_f258_11ea_a2b8_a38f868d0b43row10_col6\" class=\"data row10 col6\" >predict 8/10 negatives and 10/90 positives wrong</td>\n",
       "            </tr>\n",
       "            <tr>\n",
       "                        <th id=\"T_c87bd68a_f258_11ea_a2b8_a38f868d0b43level0_row11\" class=\"row_heading level0 row11\" >11</th>\n",
       "                        <td id=\"T_c87bd68a_f258_11ea_a2b8_a38f868d0b43row11_col0\" class=\"data row11 col0\" >3</td>\n",
       "                        <td id=\"T_c87bd68a_f258_11ea_a2b8_a38f868d0b43row11_col1\" class=\"data row11 col1\" >80</td>\n",
       "                        <td id=\"T_c87bd68a_f258_11ea_a2b8_a38f868d0b43row11_col2\" class=\"data row11 col2\" >10</td>\n",
       "                        <td id=\"T_c87bd68a_f258_11ea_a2b8_a38f868d0b43row11_col3\" class=\"data row11 col3\" >7</td>\n",
       "                        <td id=\"T_c87bd68a_f258_11ea_a2b8_a38f868d0b43row11_col4\" class=\"data row11 col4\" >0.903955</td>\n",
       "                        <td id=\"T_c87bd68a_f258_11ea_a2b8_a38f868d0b43row11_col5\" class=\"data row11 col5\" >0.830000</td>\n",
       "                        <td id=\"T_c87bd68a_f258_11ea_a2b8_a38f868d0b43row11_col6\" class=\"data row11 col6\" >predict 7/10 negatives and 10/90 positives wrong</td>\n",
       "            </tr>\n",
       "    </tbody></table>"
      ],
      "text/plain": [
       "<pandas.io.formats.style.Styler at 0x7f80e86fd250>"
      ]
     },
     "execution_count": 125,
     "metadata": {},
     "output_type": "execute_result"
    }
   ],
   "source": [
    "#https://stackoverflow.com/questions/17232013/how-to-set-the-pandas-dataframe-data-left-right-alignment\n",
    "df.style.set_properties(subset=[\"Description\"], **{'text-align': 'left'}).set_table_styles([dict(selector='th', props=[('text-align', 'left')])])\n"
   ]
  },
  {
   "cell_type": "code",
   "execution_count": 126,
   "metadata": {},
   "outputs": [
    {
     "data": {
      "text/plain": [
       "0.74962874251497"
      ]
     },
     "execution_count": 126,
     "metadata": {},
     "output_type": "execute_result"
    }
   ],
   "source": [
    "f1(p=0.714, r=0.789)"
   ]
  },
  {
   "cell_type": "code",
   "execution_count": null,
   "outputs": [],
   "source": [
    "f1(p=0.01, r=1.0)"
   ],
   "metadata": {
    "collapsed": false,
    "pycharm": {
     "name": "#%%\n"
    }
   }
  },
  {
   "cell_type": "code",
   "execution_count": null,
   "outputs": [],
   "source": [
    "precisions"
   ],
   "metadata": {
    "collapsed": false,
    "pycharm": {
     "name": "#%%\n"
    }
   }
  },
  {
   "cell_type": "code",
   "execution_count": null,
   "outputs": [],
   "source": [
    "precision(tp=0, fp=0.4)"
   ],
   "metadata": {
    "collapsed": false,
    "pycharm": {
     "name": "#%%\n"
    }
   }
  },
  {
   "cell_type": "code",
   "execution_count": null,
   "outputs": [],
   "source": [
    "recall(tp=0, fn=0.1)"
   ],
   "metadata": {
    "collapsed": false,
    "pycharm": {
     "name": "#%%\n"
    }
   }
  },
  {
   "cell_type": "code",
   "execution_count": null,
   "outputs": [],
   "source": [],
   "metadata": {
    "collapsed": false,
    "pycharm": {
     "name": "#%%\n"
    }
   }
  },
  {
   "cell_type": "code",
   "execution_count": 127,
   "metadata": {},
   "outputs": [
    {
     "data": {
      "text/plain": [
       "0.019801980198019802"
      ]
     },
     "execution_count": 127,
     "metadata": {},
     "output_type": "execute_result"
    }
   ],
   "source": []
  },
  {
   "cell_type": "code",
   "execution_count": 128,
   "metadata": {},
   "outputs": [
    {
     "data": {
      "text/plain": [
       "[0.65, 0.57, 0.33]"
      ]
     },
     "execution_count": 128,
     "metadata": {},
     "output_type": "execute_result"
    }
   ],
   "source": [
    "precisions"
   ]
  },
  {
   "cell_type": "code",
   "execution_count": 130,
   "metadata": {},
   "outputs": [
    {
     "data": {
      "text/plain": [
       "0.0"
      ]
     },
     "execution_count": 130,
     "metadata": {},
     "output_type": "execute_result"
    }
   ],
   "source": [
    "precision(tp=0, fp=0.4)"
   ]
  },
  {
   "cell_type": "code",
   "execution_count": 131,
   "metadata": {},
   "outputs": [
    {
     "data": {
      "text/plain": [
       "0.0"
      ]
     },
     "execution_count": 131,
     "metadata": {},
     "output_type": "execute_result"
    }
   ],
   "source": [
    "recall(tp=0, fn=0.1)"
   ]
  },
  {
   "cell_type": "code",
   "execution_count": null,
   "metadata": {},
   "outputs": [],
   "source": []
  },
  {
   "cell_type": "code",
   "execution_count": null,
   "metadata": {},
   "outputs": [],
   "source": []
  }
 ],
 "metadata": {
  "kernelspec": {
   "display_name": "Python 3",
   "language": "python",
   "name": "python3"
  },
  "language_info": {
   "codemirror_mode": {
    "name": "ipython",
    "version": 3
   },
   "file_extension": ".py",
   "mimetype": "text/x-python",
   "name": "python",
   "nbconvert_exporter": "python",
   "pygments_lexer": "ipython3",
   "version": "3.8.2"
  }
 },
 "nbformat": 4,
 "nbformat_minor": 1
}
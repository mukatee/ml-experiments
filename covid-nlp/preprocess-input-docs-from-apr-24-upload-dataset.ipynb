{
 "cells": [
  {
   "cell_type": "markdown",
   "metadata": {},
   "source": [
    "# Preprocessing paragraphs and sections\n",
    "\n",
    "This notebook does \n",
    " - preprocesses each document into two versions:\n",
    "     - all body sections preprocessed and merged into one text file\n",
    "     - all body sections preprocessed and listed separately, per document, in a single JSON as in the input dataset\n",
    " - preprocessing steps applied\n",
    "     - tokenization (NLTK)\n",
    "     - lemmatization (NLTK)\n",
    "     - n-grams (Gensim)\n",
    "     - stop-word removal (NLTK based + added some of my own from unrecognized words)\n",
    "     - punctuation and special characters removal\n",
    "     - removal of some article templates text, such as copyrights \n",
    " - outputs produced\n",
    "     - under output/whole/... the preprocessed documents with all body texts in one text file\n",
    "     - under output/paragraphs/... the processed documents with each original body section separately listed in JSON format\n",
    "     - output/closest.txt, a list of unrecognized (by dictionary) words and the closest match to known words (using Levenshtein word-distance)\n",
    "     - output/unknown.txt, list of all unrecognized words sorted by frequency\n",
    "     - the above output is compressed into output.zip and output.tar.gz for use as kernel input sources\n",
    "\n",
    "Update April 25th, 2020:\n",
    "- Update input dataset to Kaggle version from April 24th\n",
    "\n",
    "Update April 19th, 2020:\n",
    "- Fixed also filepaths being off similar to doc paths. Was causing downstream notebooks to use wrong input.\n",
    "- Updated input dataset to Kaggle version from April 17th\n",
    "\n",
    "Update April 18th, 2020: \n",
    "- Added stop word removal before and after lemmatization. NLTK lemmatizer does some weird things (e.g., was->wa, has->ha)\n",
    "- Fixed saved doc id's being off when docs are removed\n",
    "\n",
    "I made this notebook to provide input for further kernels to try techniques such as topic models."
   ]
  },
  {
   "cell_type": "code",
   "execution_count": 1,
   "metadata": {
    "_cell_guid": "b1076dfc-b9ad-4769-8c92-a6c4dae69d19",
    "_uuid": "8f2839f25d086af736a60e9eeb907d3b93b6e0e5"
   },
   "outputs": [],
   "source": [
    "import numpy as np # linear algebra\n",
    "import pandas as pd # data processing, CSV file I/O (e.g. pd.read_csv)\n",
    "import glob\n",
    "\n",
    "import os\n",
    "\n",
    "import kaggle_uploader\n"
   ]
  },
  {
   "cell_type": "code",
   "execution_count": 2,
   "metadata": {},
   "outputs": [],
   "source": [
    "from tqdm.auto import tqdm\n",
    "tqdm.pandas()"
   ]
  },
  {
   "cell_type": "code",
   "execution_count": 3,
   "metadata": {},
   "outputs": [
    {
     "data": {
      "text/plain": [
       "'0.3.0'"
      ]
     },
     "execution_count": 3,
     "metadata": {},
     "output_type": "execute_result"
    }
   ],
   "source": [
    "kaggle_uploader.__version__"
   ]
  },
  {
   "cell_type": "markdown",
   "metadata": {},
   "source": [
    "I use multiprocessing later in the kernel to process much of the data. It help process data faster but also can help manage memory better. Well, I still had troubles with Spacy and had to remove it due to memory issues but anyway. \n",
    "\n",
    "The CORES variable simply defines the number of parallel processes spawned later in multiprocessing."
   ]
  },
  {
   "cell_type": "code",
   "execution_count": 4,
   "metadata": {},
   "outputs": [],
   "source": [
    "CORES=4"
   ]
  },
  {
   "cell_type": "code",
   "execution_count": 5,
   "metadata": {},
   "outputs": [],
   "source": [
    "!mkdir output"
   ]
  },
  {
   "cell_type": "code",
   "execution_count": 6,
   "metadata": {},
   "outputs": [
    {
     "name": "stdout",
     "output_type": "stream",
     "text": [
      "COVID.DATA.LIC.AGMT.pdf  cord_19_embeddings_4_17  metadata.csv\r\n",
      "biorxiv_medrxiv\t\t custom_license\t\t  metadata.readme\r\n",
      "comm_use_subset\t\t json_schema.txt\t  noncomm_use_subset\r\n"
     ]
    }
   ],
   "source": [
    "!ls /kaggle/input/CORD-19-research-challenge/"
   ]
  },
  {
   "cell_type": "markdown",
   "metadata": {},
   "source": [
    "COVDoc is just a simple data structure to hold different forms of the documens while preprocessing them:"
   ]
  },
  {
   "cell_type": "code",
   "execution_count": 7,
   "metadata": {},
   "outputs": [],
   "source": [
    "class COVDoc:\n",
    "    def __init__(self, filepath: str):\n",
    "        self.doc_id = None\n",
    "        self.filepath = filepath\n",
    "        self.lang = None\n",
    "        self.file_type = None\n",
    "        self.paragraph_tokens = []\n",
    "        self.paragraph_texts = []\n",
    "        self.processed_paragraphs = []\n",
    "#        self.processed_spacy_paragraphs = []\n",
    "        self.processed_nltk_paragraphs = []\n",
    "        \n",
    "    #load_text is used to lazy-load the actual text when needed\n",
    "    def load_text(self):\n",
    "        with open(self.filepath) as f:\n",
    "            d = json.load(f)\n",
    "            for paragraph in d[\"body_text\"]:\n",
    "                self.paragraph_texts.append(paragraph[\"text\"].lower())\n"
   ]
  },
  {
   "cell_type": "markdown",
   "metadata": {},
   "source": [
    "Describe doc is a utility function I used to get an initial idea of some of the document data:"
   ]
  },
  {
   "cell_type": "code",
   "execution_count": 8,
   "metadata": {},
   "outputs": [],
   "source": [
    "import json\n",
    "\n",
    "def describe_doc(doc_path):\n",
    "    with open(doc_path) as f:\n",
    "        d = json.load(f)\n",
    "        print(d.keys())\n",
    "        print(f\"number of paragraphs: {len(d['body_text'])}\")\n",
    "        print()\n",
    "        for idx, paragraph in enumerate(d[\"body_text\"]):\n",
    "            print()\n",
    "            print(f\"section {idx+1}: title=\", end=\"\")\n",
    "            print(f'{paragraph[\"section\"]}: {len(paragraph[\"text\"])} chars')\n"
   ]
  },
  {
   "cell_type": "code",
   "execution_count": 9,
   "metadata": {},
   "outputs": [],
   "source": [
    "import nltk, re, string, collections\n",
    "from nltk.util import ngrams\n",
    "from nltk.corpus import stopwords\n",
    "import spacy"
   ]
  },
  {
   "cell_type": "code",
   "execution_count": 10,
   "metadata": {},
   "outputs": [
    {
     "data": {
      "text/html": [
       "<div>\n",
       "<style scoped>\n",
       "    .dataframe tbody tr th:only-of-type {\n",
       "        vertical-align: middle;\n",
       "    }\n",
       "\n",
       "    .dataframe tbody tr th {\n",
       "        vertical-align: top;\n",
       "    }\n",
       "\n",
       "    .dataframe thead th {\n",
       "        text-align: right;\n",
       "    }\n",
       "</style>\n",
       "<table border=\"1\" class=\"dataframe\">\n",
       "  <thead>\n",
       "    <tr style=\"text-align: right;\">\n",
       "      <th></th>\n",
       "      <th>cord_uid</th>\n",
       "      <th>sha</th>\n",
       "      <th>source_x</th>\n",
       "      <th>title</th>\n",
       "      <th>doi</th>\n",
       "      <th>pmcid</th>\n",
       "      <th>pubmed_id</th>\n",
       "      <th>license</th>\n",
       "      <th>abstract</th>\n",
       "      <th>publish_time</th>\n",
       "      <th>authors</th>\n",
       "      <th>journal</th>\n",
       "      <th>Microsoft Academic Paper ID</th>\n",
       "      <th>WHO #Covidence</th>\n",
       "      <th>has_pdf_parse</th>\n",
       "      <th>has_pmc_xml_parse</th>\n",
       "      <th>full_text_file</th>\n",
       "      <th>url</th>\n",
       "    </tr>\n",
       "  </thead>\n",
       "  <tbody>\n",
       "    <tr>\n",
       "      <th>0</th>\n",
       "      <td>zjufx4fo</td>\n",
       "      <td>b2897e1277f56641193a6db73825f707eed3e4c9</td>\n",
       "      <td>PMC</td>\n",
       "      <td>Sequence requirements for RNA strand transfer ...</td>\n",
       "      <td>10.1093/emboj/20.24.7220</td>\n",
       "      <td>PMC125340</td>\n",
       "      <td>11742998.0</td>\n",
       "      <td>unk</td>\n",
       "      <td>Nidovirus subgenomic mRNAs contain a leader se...</td>\n",
       "      <td>2001-12-17</td>\n",
       "      <td>Pasternak, Alexander O.; van den Born, Erwin; ...</td>\n",
       "      <td>The EMBO Journal</td>\n",
       "      <td>NaN</td>\n",
       "      <td>NaN</td>\n",
       "      <td>True</td>\n",
       "      <td>True</td>\n",
       "      <td>custom_license</td>\n",
       "      <td>http://europepmc.org/articles/pmc125340?pdf=re...</td>\n",
       "    </tr>\n",
       "    <tr>\n",
       "      <th>1</th>\n",
       "      <td>ymceytj3</td>\n",
       "      <td>e3d0d482ebd9a8ba81c254cc433f314142e72174</td>\n",
       "      <td>PMC</td>\n",
       "      <td>Crystal structure of murine sCEACAM1a[1,4]: a ...</td>\n",
       "      <td>10.1093/emboj/21.9.2076</td>\n",
       "      <td>PMC125375</td>\n",
       "      <td>11980704.0</td>\n",
       "      <td>unk</td>\n",
       "      <td>CEACAM1 is a member of the carcinoembryonic an...</td>\n",
       "      <td>2002-05-01</td>\n",
       "      <td>Tan, Kemin; Zelus, Bruce D.; Meijers, Rob; Liu...</td>\n",
       "      <td>The EMBO Journal</td>\n",
       "      <td>NaN</td>\n",
       "      <td>NaN</td>\n",
       "      <td>True</td>\n",
       "      <td>True</td>\n",
       "      <td>custom_license</td>\n",
       "      <td>http://europepmc.org/articles/pmc125375?pdf=re...</td>\n",
       "    </tr>\n",
       "    <tr>\n",
       "      <th>2</th>\n",
       "      <td>wzj2glte</td>\n",
       "      <td>00b1d99e70f779eb4ede50059db469c65e8c1469</td>\n",
       "      <td>PMC</td>\n",
       "      <td>Synthesis of a novel hepatitis C virus protein...</td>\n",
       "      <td>10.1093/emboj/20.14.3840</td>\n",
       "      <td>PMC125543</td>\n",
       "      <td>11447125.0</td>\n",
       "      <td>no-cc</td>\n",
       "      <td>Hepatitis C virus (HCV) is an important human ...</td>\n",
       "      <td>2001-07-16</td>\n",
       "      <td>Xu, Zhenming; Choi, Jinah; Yen, T.S.Benedict; ...</td>\n",
       "      <td>EMBO J</td>\n",
       "      <td>NaN</td>\n",
       "      <td>NaN</td>\n",
       "      <td>True</td>\n",
       "      <td>True</td>\n",
       "      <td>custom_license</td>\n",
       "      <td>https://www.ncbi.nlm.nih.gov/pmc/articles/PMC1...</td>\n",
       "    </tr>\n",
       "    <tr>\n",
       "      <th>3</th>\n",
       "      <td>2sfqsfm1</td>\n",
       "      <td>cf584e00f637cbd8f1bb35f3f09f5ed07b71aeb0</td>\n",
       "      <td>PMC</td>\n",
       "      <td>Structure of coronavirus main proteinase revea...</td>\n",
       "      <td>10.1093/emboj/cdf327</td>\n",
       "      <td>PMC126080</td>\n",
       "      <td>12093723.0</td>\n",
       "      <td>unk</td>\n",
       "      <td>The key enzyme in coronavirus polyprotein proc...</td>\n",
       "      <td>2002-07-01</td>\n",
       "      <td>Anand, Kanchan; Palm, Gottfried J.; Mesters, J...</td>\n",
       "      <td>The EMBO Journal</td>\n",
       "      <td>NaN</td>\n",
       "      <td>NaN</td>\n",
       "      <td>True</td>\n",
       "      <td>True</td>\n",
       "      <td>custom_license</td>\n",
       "      <td>http://europepmc.org/articles/pmc126080?pdf=re...</td>\n",
       "    </tr>\n",
       "    <tr>\n",
       "      <th>4</th>\n",
       "      <td>i0zym7iq</td>\n",
       "      <td>dde02f11923815e6a16a31dd6298c46b109c5dfa</td>\n",
       "      <td>PMC</td>\n",
       "      <td>Discontinuous and non-discontinuous subgenomic...</td>\n",
       "      <td>10.1093/emboj/cdf635</td>\n",
       "      <td>PMC136939</td>\n",
       "      <td>12456663.0</td>\n",
       "      <td>unk</td>\n",
       "      <td>Arteri-, corona-, toro- and roniviruses are ev...</td>\n",
       "      <td>2002-12-01</td>\n",
       "      <td>van Vliet, A.L.W.; Smits, S.L.; Rottier, P.J.M...</td>\n",
       "      <td>The EMBO Journal</td>\n",
       "      <td>NaN</td>\n",
       "      <td>NaN</td>\n",
       "      <td>True</td>\n",
       "      <td>True</td>\n",
       "      <td>custom_license</td>\n",
       "      <td>http://europepmc.org/articles/pmc136939?pdf=re...</td>\n",
       "    </tr>\n",
       "  </tbody>\n",
       "</table>\n",
       "</div>"
      ],
      "text/plain": [
       "   cord_uid                                       sha source_x  \\\n",
       "0  zjufx4fo  b2897e1277f56641193a6db73825f707eed3e4c9      PMC   \n",
       "1  ymceytj3  e3d0d482ebd9a8ba81c254cc433f314142e72174      PMC   \n",
       "2  wzj2glte  00b1d99e70f779eb4ede50059db469c65e8c1469      PMC   \n",
       "3  2sfqsfm1  cf584e00f637cbd8f1bb35f3f09f5ed07b71aeb0      PMC   \n",
       "4  i0zym7iq  dde02f11923815e6a16a31dd6298c46b109c5dfa      PMC   \n",
       "\n",
       "                                               title  \\\n",
       "0  Sequence requirements for RNA strand transfer ...   \n",
       "1  Crystal structure of murine sCEACAM1a[1,4]: a ...   \n",
       "2  Synthesis of a novel hepatitis C virus protein...   \n",
       "3  Structure of coronavirus main proteinase revea...   \n",
       "4  Discontinuous and non-discontinuous subgenomic...   \n",
       "\n",
       "                        doi      pmcid   pubmed_id license  \\\n",
       "0  10.1093/emboj/20.24.7220  PMC125340  11742998.0     unk   \n",
       "1   10.1093/emboj/21.9.2076  PMC125375  11980704.0     unk   \n",
       "2  10.1093/emboj/20.14.3840  PMC125543  11447125.0   no-cc   \n",
       "3      10.1093/emboj/cdf327  PMC126080  12093723.0     unk   \n",
       "4      10.1093/emboj/cdf635  PMC136939  12456663.0     unk   \n",
       "\n",
       "                                            abstract publish_time  \\\n",
       "0  Nidovirus subgenomic mRNAs contain a leader se...   2001-12-17   \n",
       "1  CEACAM1 is a member of the carcinoembryonic an...   2002-05-01   \n",
       "2  Hepatitis C virus (HCV) is an important human ...   2001-07-16   \n",
       "3  The key enzyme in coronavirus polyprotein proc...   2002-07-01   \n",
       "4  Arteri-, corona-, toro- and roniviruses are ev...   2002-12-01   \n",
       "\n",
       "                                             authors           journal  \\\n",
       "0  Pasternak, Alexander O.; van den Born, Erwin; ...  The EMBO Journal   \n",
       "1  Tan, Kemin; Zelus, Bruce D.; Meijers, Rob; Liu...  The EMBO Journal   \n",
       "2  Xu, Zhenming; Choi, Jinah; Yen, T.S.Benedict; ...            EMBO J   \n",
       "3  Anand, Kanchan; Palm, Gottfried J.; Mesters, J...  The EMBO Journal   \n",
       "4  van Vliet, A.L.W.; Smits, S.L.; Rottier, P.J.M...  The EMBO Journal   \n",
       "\n",
       "   Microsoft Academic Paper ID WHO #Covidence  has_pdf_parse  \\\n",
       "0                          NaN            NaN           True   \n",
       "1                          NaN            NaN           True   \n",
       "2                          NaN            NaN           True   \n",
       "3                          NaN            NaN           True   \n",
       "4                          NaN            NaN           True   \n",
       "\n",
       "   has_pmc_xml_parse  full_text_file  \\\n",
       "0               True  custom_license   \n",
       "1               True  custom_license   \n",
       "2               True  custom_license   \n",
       "3               True  custom_license   \n",
       "4               True  custom_license   \n",
       "\n",
       "                                                 url  \n",
       "0  http://europepmc.org/articles/pmc125340?pdf=re...  \n",
       "1  http://europepmc.org/articles/pmc125375?pdf=re...  \n",
       "2  https://www.ncbi.nlm.nih.gov/pmc/articles/PMC1...  \n",
       "3  http://europepmc.org/articles/pmc126080?pdf=re...  \n",
       "4  http://europepmc.org/articles/pmc136939?pdf=re...  "
      ]
     },
     "execution_count": 10,
     "metadata": {},
     "output_type": "execute_result"
    }
   ],
   "source": [
    "df_metadata = pd.read_csv(\"/kaggle/input/CORD-19-research-challenge/metadata.csv\")\n",
    "df_metadata[df_metadata[\"has_pmc_xml_parse\"] == True].head()"
   ]
  },
  {
   "cell_type": "code",
   "execution_count": 11,
   "metadata": {},
   "outputs": [
    {
     "data": {
      "text/plain": [
       "cord_uid                           0\n",
       "sha                            13826\n",
       "source_x                           0\n",
       "title                            163\n",
       "doi                             3346\n",
       "pmcid                          10562\n",
       "pubmed_id                      16461\n",
       "license                            0\n",
       "abstract                       10519\n",
       "publish_time                       8\n",
       "authors                         2526\n",
       "journal                         5790\n",
       "Microsoft Academic Paper ID    56402\n",
       "WHO #Covidence                 55598\n",
       "has_pdf_parse                      0\n",
       "has_pmc_xml_parse                  0\n",
       "full_text_file                  8445\n",
       "url                              306\n",
       "dtype: int64"
      ]
     },
     "execution_count": 11,
     "metadata": {},
     "output_type": "execute_result"
    }
   ],
   "source": [
    "df_metadata.isnull().sum()"
   ]
  },
  {
   "cell_type": "code",
   "execution_count": 12,
   "metadata": {},
   "outputs": [
    {
     "data": {
      "text/plain": [
       "(3313, 18)"
      ]
     },
     "execution_count": 12,
     "metadata": {},
     "output_type": "execute_result"
    }
   ],
   "source": [
    "mask = df_metadata[\"sha\"].isnull() & df_metadata[\"pmcid\"].isnull()\n",
    "dfnulls = df_metadata[mask]\n",
    "dfnulls.shape"
   ]
  },
  {
   "cell_type": "code",
   "execution_count": 13,
   "metadata": {},
   "outputs": [
    {
     "data": {
      "text/html": [
       "<div>\n",
       "<style scoped>\n",
       "    .dataframe tbody tr th:only-of-type {\n",
       "        vertical-align: middle;\n",
       "    }\n",
       "\n",
       "    .dataframe tbody tr th {\n",
       "        vertical-align: top;\n",
       "    }\n",
       "\n",
       "    .dataframe thead th {\n",
       "        text-align: right;\n",
       "    }\n",
       "</style>\n",
       "<table border=\"1\" class=\"dataframe\">\n",
       "  <thead>\n",
       "    <tr style=\"text-align: right;\">\n",
       "      <th></th>\n",
       "      <th>cord_uid</th>\n",
       "      <th>sha</th>\n",
       "      <th>source_x</th>\n",
       "      <th>title</th>\n",
       "      <th>doi</th>\n",
       "      <th>pmcid</th>\n",
       "      <th>pubmed_id</th>\n",
       "      <th>license</th>\n",
       "      <th>abstract</th>\n",
       "      <th>publish_time</th>\n",
       "      <th>authors</th>\n",
       "      <th>journal</th>\n",
       "      <th>Microsoft Academic Paper ID</th>\n",
       "      <th>WHO #Covidence</th>\n",
       "      <th>has_pdf_parse</th>\n",
       "      <th>has_pmc_xml_parse</th>\n",
       "      <th>full_text_file</th>\n",
       "      <th>url</th>\n",
       "    </tr>\n",
       "  </thead>\n",
       "  <tbody>\n",
       "    <tr>\n",
       "      <th>207</th>\n",
       "      <td>28wrp74k</td>\n",
       "      <td>NaN</td>\n",
       "      <td>PMC</td>\n",
       "      <td>SARS and Population Health Technology</td>\n",
       "      <td>10.2196/jmir.5.2.e14</td>\n",
       "      <td>PMC1550560</td>\n",
       "      <td>12857670.0</td>\n",
       "      <td>cc-by</td>\n",
       "      <td>The recent global outbreak of SARS (severe acu...</td>\n",
       "      <td>2003-06-30</td>\n",
       "      <td>Eysenbach, Gunther</td>\n",
       "      <td>J Med Internet Res</td>\n",
       "      <td>NaN</td>\n",
       "      <td>NaN</td>\n",
       "      <td>False</td>\n",
       "      <td>False</td>\n",
       "      <td>NaN</td>\n",
       "      <td>https://www.ncbi.nlm.nih.gov/pmc/articles/PMC1...</td>\n",
       "    </tr>\n",
       "    <tr>\n",
       "      <th>208</th>\n",
       "      <td>8f0pn321</td>\n",
       "      <td>NaN</td>\n",
       "      <td>PMC</td>\n",
       "      <td>The Internet as a Vehicle to Communicate Healt...</td>\n",
       "      <td>10.2196/jmir.6.1.e8</td>\n",
       "      <td>PMC1550585</td>\n",
       "      <td>15111274.0</td>\n",
       "      <td>cc-by</td>\n",
       "      <td>BACKGROUND: The recent public health risks ari...</td>\n",
       "      <td>2004-03-03</td>\n",
       "      <td>Kittler, Anne F; Hobbs, John; Volk, Lynn A; Kr...</td>\n",
       "      <td>J Med Internet Res</td>\n",
       "      <td>NaN</td>\n",
       "      <td>NaN</td>\n",
       "      <td>False</td>\n",
       "      <td>False</td>\n",
       "      <td>NaN</td>\n",
       "      <td>https://www.ncbi.nlm.nih.gov/pmc/articles/PMC1...</td>\n",
       "    </tr>\n",
       "    <tr>\n",
       "      <th>786</th>\n",
       "      <td>g4puurhk</td>\n",
       "      <td>NaN</td>\n",
       "      <td>PMC</td>\n",
       "      <td>Role of nitric oxide in management of acute re...</td>\n",
       "      <td>10.4103/1817-1737.41914</td>\n",
       "      <td>PMC2700444</td>\n",
       "      <td>19561888.0</td>\n",
       "      <td>cc-by</td>\n",
       "      <td>The current mortality rate of patients sufferi...</td>\n",
       "      <td>2008</td>\n",
       "      <td>Akmal, A. H.; Hasan, Mohd</td>\n",
       "      <td>Ann Thorac Med</td>\n",
       "      <td>NaN</td>\n",
       "      <td>NaN</td>\n",
       "      <td>False</td>\n",
       "      <td>False</td>\n",
       "      <td>NaN</td>\n",
       "      <td>https://www.ncbi.nlm.nih.gov/pmc/articles/PMC2...</td>\n",
       "    </tr>\n",
       "    <tr>\n",
       "      <th>787</th>\n",
       "      <td>ke0tkpso</td>\n",
       "      <td>NaN</td>\n",
       "      <td>PMC</td>\n",
       "      <td>Avian influenza: The tip of the iceberg</td>\n",
       "      <td>10.4103/1817-1737.43085</td>\n",
       "      <td>PMC2700449</td>\n",
       "      <td>19561900.0</td>\n",
       "      <td>cc-by</td>\n",
       "      <td>For some years now, we have been living with t...</td>\n",
       "      <td>2008</td>\n",
       "      <td>Balkhy, Hanan</td>\n",
       "      <td>Ann Thorac Med</td>\n",
       "      <td>NaN</td>\n",
       "      <td>NaN</td>\n",
       "      <td>False</td>\n",
       "      <td>False</td>\n",
       "      <td>NaN</td>\n",
       "      <td>https://www.ncbi.nlm.nih.gov/pmc/articles/PMC2...</td>\n",
       "    </tr>\n",
       "    <tr>\n",
       "      <th>820</th>\n",
       "      <td>t579ysgl</td>\n",
       "      <td>NaN</td>\n",
       "      <td>PMC</td>\n",
       "      <td>Reading chest radiographs in the critically il...</td>\n",
       "      <td>10.4103/1817-1737.53349</td>\n",
       "      <td>PMC2714572</td>\n",
       "      <td>19641649.0</td>\n",
       "      <td>cc-by</td>\n",
       "      <td>This is part II of two series review of readin...</td>\n",
       "      <td>2009</td>\n",
       "      <td>Khan, Ali Nawaz; Al-Jahdali, Hamdan; AL-Ghanem...</td>\n",
       "      <td>Ann Thorac Med</td>\n",
       "      <td>NaN</td>\n",
       "      <td>NaN</td>\n",
       "      <td>False</td>\n",
       "      <td>False</td>\n",
       "      <td>NaN</td>\n",
       "      <td>https://www.ncbi.nlm.nih.gov/pmc/articles/PMC2...</td>\n",
       "    </tr>\n",
       "    <tr>\n",
       "      <th>...</th>\n",
       "      <td>...</td>\n",
       "      <td>...</td>\n",
       "      <td>...</td>\n",
       "      <td>...</td>\n",
       "      <td>...</td>\n",
       "      <td>...</td>\n",
       "      <td>...</td>\n",
       "      <td>...</td>\n",
       "      <td>...</td>\n",
       "      <td>...</td>\n",
       "      <td>...</td>\n",
       "      <td>...</td>\n",
       "      <td>...</td>\n",
       "      <td>...</td>\n",
       "      <td>...</td>\n",
       "      <td>...</td>\n",
       "      <td>...</td>\n",
       "      <td>...</td>\n",
       "    </tr>\n",
       "    <tr>\n",
       "      <th>54643</th>\n",
       "      <td>fzq71ghi</td>\n",
       "      <td>NaN</td>\n",
       "      <td>WHO</td>\n",
       "      <td>Coronavirus latest: Trump requests $2.5 billio...</td>\n",
       "      <td>10.1038/d41586-020-00154-w</td>\n",
       "      <td>NaN</td>\n",
       "      <td>NaN</td>\n",
       "      <td>unk</td>\n",
       "      <td>Trump requests emergency funding for coronavir...</td>\n",
       "      <td>2020-03-17</td>\n",
       "      <td>NaN</td>\n",
       "      <td>Nature</td>\n",
       "      <td>2.143542e+09</td>\n",
       "      <td>#2033</td>\n",
       "      <td>False</td>\n",
       "      <td>False</td>\n",
       "      <td>NaN</td>\n",
       "      <td>https://doi.org/10.1038/d41586-020-00154-w</td>\n",
       "    </tr>\n",
       "    <tr>\n",
       "      <th>55361</th>\n",
       "      <td>iqr419fp</td>\n",
       "      <td>NaN</td>\n",
       "      <td>PMC</td>\n",
       "      <td>Prediction of Epidemic Spread of the 2019 Nove...</td>\n",
       "      <td>10.3390/ijerph17051679</td>\n",
       "      <td>PMC7084718</td>\n",
       "      <td>32143519.0</td>\n",
       "      <td>cc-by</td>\n",
       "      <td>After the 2019 novel coronavirus (2019-nCoV) o...</td>\n",
       "      <td>2020-03-04</td>\n",
       "      <td>Fan, Changyu; Liu, Linping; Guo, Wei; Yang, An...</td>\n",
       "      <td>Int J Environ Res Public Health</td>\n",
       "      <td>3.002748e+09</td>\n",
       "      <td>#4088</td>\n",
       "      <td>False</td>\n",
       "      <td>False</td>\n",
       "      <td>NaN</td>\n",
       "      <td>https://www.ncbi.nlm.nih.gov/pmc/articles/PMC7...</td>\n",
       "    </tr>\n",
       "    <tr>\n",
       "      <th>55603</th>\n",
       "      <td>3auz7gi6</td>\n",
       "      <td>NaN</td>\n",
       "      <td>PMC</td>\n",
       "      <td>Bacteriophage Based Biosensors: Trends, Outcom...</td>\n",
       "      <td>10.3390/nano10030501</td>\n",
       "      <td>PMC7153619</td>\n",
       "      <td>32168802.0</td>\n",
       "      <td>cc-by</td>\n",
       "      <td>Foodborne pathogens are one of the main concer...</td>\n",
       "      <td>2020-03-11</td>\n",
       "      <td>Aliakbar Ahovan, Zahra; Hashemi, Ali; De Plano...</td>\n",
       "      <td>Nanomaterials (Basel)</td>\n",
       "      <td>NaN</td>\n",
       "      <td>#8339</td>\n",
       "      <td>False</td>\n",
       "      <td>False</td>\n",
       "      <td>NaN</td>\n",
       "      <td>https://www.ncbi.nlm.nih.gov/pmc/articles/PMC7...</td>\n",
       "    </tr>\n",
       "    <tr>\n",
       "      <th>56029</th>\n",
       "      <td>ush6iqk5</td>\n",
       "      <td>NaN</td>\n",
       "      <td>PMC</td>\n",
       "      <td>All roads lead to coronavirus</td>\n",
       "      <td>10.1177/0141076820911516</td>\n",
       "      <td>PMC7068761</td>\n",
       "      <td>32160122.0</td>\n",
       "      <td>unk</td>\n",
       "      <td>NaN</td>\n",
       "      <td>2020-03-01</td>\n",
       "      <td>Abbasi, Kamran</td>\n",
       "      <td>Journal of the Royal Society of Medicine</td>\n",
       "      <td>NaN</td>\n",
       "      <td>#7583</td>\n",
       "      <td>False</td>\n",
       "      <td>False</td>\n",
       "      <td>NaN</td>\n",
       "      <td>https://journals.sagepub.com/doi/pdf/10.1177/0...</td>\n",
       "    </tr>\n",
       "    <tr>\n",
       "      <th>56284</th>\n",
       "      <td>9v5b6dtq</td>\n",
       "      <td>NaN</td>\n",
       "      <td>PMC</td>\n",
       "      <td>Data sharing for novel coronavirus (COVID-19)</td>\n",
       "      <td>10.2471/blt.20.251561</td>\n",
       "      <td>PMC7047033</td>\n",
       "      <td>32132744.0</td>\n",
       "      <td>cc-by</td>\n",
       "      <td>NaN</td>\n",
       "      <td>2020-03-01</td>\n",
       "      <td>Moorthy, Vasee; Henao Restrepo, Ana Maria; Pre...</td>\n",
       "      <td>Bull World Health Organ</td>\n",
       "      <td>3.006224e+09</td>\n",
       "      <td>#4910</td>\n",
       "      <td>False</td>\n",
       "      <td>False</td>\n",
       "      <td>NaN</td>\n",
       "      <td>https://www.ncbi.nlm.nih.gov/pmc/articles/PMC7...</td>\n",
       "    </tr>\n",
       "  </tbody>\n",
       "</table>\n",
       "<p>8445 rows × 18 columns</p>\n",
       "</div>"
      ],
      "text/plain": [
       "       cord_uid  sha source_x  \\\n",
       "207    28wrp74k  NaN      PMC   \n",
       "208    8f0pn321  NaN      PMC   \n",
       "786    g4puurhk  NaN      PMC   \n",
       "787    ke0tkpso  NaN      PMC   \n",
       "820    t579ysgl  NaN      PMC   \n",
       "...         ...  ...      ...   \n",
       "54643  fzq71ghi  NaN      WHO   \n",
       "55361  iqr419fp  NaN      PMC   \n",
       "55603  3auz7gi6  NaN      PMC   \n",
       "56029  ush6iqk5  NaN      PMC   \n",
       "56284  9v5b6dtq  NaN      PMC   \n",
       "\n",
       "                                                   title  \\\n",
       "207                SARS and Population Health Technology   \n",
       "208    The Internet as a Vehicle to Communicate Healt...   \n",
       "786    Role of nitric oxide in management of acute re...   \n",
       "787              Avian influenza: The tip of the iceberg   \n",
       "820    Reading chest radiographs in the critically il...   \n",
       "...                                                  ...   \n",
       "54643  Coronavirus latest: Trump requests $2.5 billio...   \n",
       "55361  Prediction of Epidemic Spread of the 2019 Nove...   \n",
       "55603  Bacteriophage Based Biosensors: Trends, Outcom...   \n",
       "56029                      All roads lead to coronavirus   \n",
       "56284      Data sharing for novel coronavirus (COVID-19)   \n",
       "\n",
       "                              doi       pmcid   pubmed_id license  \\\n",
       "207          10.2196/jmir.5.2.e14  PMC1550560  12857670.0   cc-by   \n",
       "208           10.2196/jmir.6.1.e8  PMC1550585  15111274.0   cc-by   \n",
       "786       10.4103/1817-1737.41914  PMC2700444  19561888.0   cc-by   \n",
       "787       10.4103/1817-1737.43085  PMC2700449  19561900.0   cc-by   \n",
       "820       10.4103/1817-1737.53349  PMC2714572  19641649.0   cc-by   \n",
       "...                           ...         ...         ...     ...   \n",
       "54643  10.1038/d41586-020-00154-w         NaN         NaN     unk   \n",
       "55361      10.3390/ijerph17051679  PMC7084718  32143519.0   cc-by   \n",
       "55603        10.3390/nano10030501  PMC7153619  32168802.0   cc-by   \n",
       "56029    10.1177/0141076820911516  PMC7068761  32160122.0     unk   \n",
       "56284       10.2471/blt.20.251561  PMC7047033  32132744.0   cc-by   \n",
       "\n",
       "                                                abstract publish_time  \\\n",
       "207    The recent global outbreak of SARS (severe acu...   2003-06-30   \n",
       "208    BACKGROUND: The recent public health risks ari...   2004-03-03   \n",
       "786    The current mortality rate of patients sufferi...         2008   \n",
       "787    For some years now, we have been living with t...         2008   \n",
       "820    This is part II of two series review of readin...         2009   \n",
       "...                                                  ...          ...   \n",
       "54643  Trump requests emergency funding for coronavir...   2020-03-17   \n",
       "55361  After the 2019 novel coronavirus (2019-nCoV) o...   2020-03-04   \n",
       "55603  Foodborne pathogens are one of the main concer...   2020-03-11   \n",
       "56029                                                NaN   2020-03-01   \n",
       "56284                                                NaN   2020-03-01   \n",
       "\n",
       "                                                 authors  \\\n",
       "207                                   Eysenbach, Gunther   \n",
       "208    Kittler, Anne F; Hobbs, John; Volk, Lynn A; Kr...   \n",
       "786                            Akmal, A. H.; Hasan, Mohd   \n",
       "787                                        Balkhy, Hanan   \n",
       "820    Khan, Ali Nawaz; Al-Jahdali, Hamdan; AL-Ghanem...   \n",
       "...                                                  ...   \n",
       "54643                                                NaN   \n",
       "55361  Fan, Changyu; Liu, Linping; Guo, Wei; Yang, An...   \n",
       "55603  Aliakbar Ahovan, Zahra; Hashemi, Ali; De Plano...   \n",
       "56029                                     Abbasi, Kamran   \n",
       "56284  Moorthy, Vasee; Henao Restrepo, Ana Maria; Pre...   \n",
       "\n",
       "                                        journal  Microsoft Academic Paper ID  \\\n",
       "207                          J Med Internet Res                          NaN   \n",
       "208                          J Med Internet Res                          NaN   \n",
       "786                              Ann Thorac Med                          NaN   \n",
       "787                              Ann Thorac Med                          NaN   \n",
       "820                              Ann Thorac Med                          NaN   \n",
       "...                                         ...                          ...   \n",
       "54643                                    Nature                 2.143542e+09   \n",
       "55361           Int J Environ Res Public Health                 3.002748e+09   \n",
       "55603                     Nanomaterials (Basel)                          NaN   \n",
       "56029  Journal of the Royal Society of Medicine                          NaN   \n",
       "56284                   Bull World Health Organ                 3.006224e+09   \n",
       "\n",
       "      WHO #Covidence  has_pdf_parse  has_pmc_xml_parse full_text_file  \\\n",
       "207              NaN          False              False            NaN   \n",
       "208              NaN          False              False            NaN   \n",
       "786              NaN          False              False            NaN   \n",
       "787              NaN          False              False            NaN   \n",
       "820              NaN          False              False            NaN   \n",
       "...              ...            ...                ...            ...   \n",
       "54643          #2033          False              False            NaN   \n",
       "55361          #4088          False              False            NaN   \n",
       "55603          #8339          False              False            NaN   \n",
       "56029          #7583          False              False            NaN   \n",
       "56284          #4910          False              False            NaN   \n",
       "\n",
       "                                                     url  \n",
       "207    https://www.ncbi.nlm.nih.gov/pmc/articles/PMC1...  \n",
       "208    https://www.ncbi.nlm.nih.gov/pmc/articles/PMC1...  \n",
       "786    https://www.ncbi.nlm.nih.gov/pmc/articles/PMC2...  \n",
       "787    https://www.ncbi.nlm.nih.gov/pmc/articles/PMC2...  \n",
       "820    https://www.ncbi.nlm.nih.gov/pmc/articles/PMC2...  \n",
       "...                                                  ...  \n",
       "54643         https://doi.org/10.1038/d41586-020-00154-w  \n",
       "55361  https://www.ncbi.nlm.nih.gov/pmc/articles/PMC7...  \n",
       "55603  https://www.ncbi.nlm.nih.gov/pmc/articles/PMC7...  \n",
       "56029  https://journals.sagepub.com/doi/pdf/10.1177/0...  \n",
       "56284  https://www.ncbi.nlm.nih.gov/pmc/articles/PMC7...  \n",
       "\n",
       "[8445 rows x 18 columns]"
      ]
     },
     "execution_count": 13,
     "metadata": {},
     "output_type": "execute_result"
    }
   ],
   "source": [
    "df_metadata[df_metadata[\"full_text_file\"].isnull()]"
   ]
  },
  {
   "cell_type": "code",
   "execution_count": 14,
   "metadata": {},
   "outputs": [
    {
     "data": {
      "text/plain": [
       "(57366, 18)"
      ]
     },
     "execution_count": 14,
     "metadata": {},
     "output_type": "execute_result"
    }
   ],
   "source": [
    "df_metadata.shape"
   ]
  },
  {
   "cell_type": "code",
   "execution_count": 15,
   "metadata": {},
   "outputs": [
    {
     "data": {
      "text/plain": [
       "array(['custom_license', 'comm_use_subset', nan, 'noncomm_use_subset',\n",
       "       'biorxiv_medrxiv'], dtype=object)"
      ]
     },
     "execution_count": 15,
     "metadata": {},
     "output_type": "execute_result"
    }
   ],
   "source": [
    "df_metadata[\"full_text_file\"].unique()"
   ]
  },
  {
   "cell_type": "markdown",
   "metadata": {},
   "source": [
    "## Loading documents, selecting PDF vs PMC"
   ]
  },
  {
   "cell_type": "markdown",
   "metadata": {},
   "source": [
    "Load the documents from the given path. Processing sequence:\n",
    "\n",
    "- Read a list of all PDF based JSON files\n",
    "- Parse file SHA from the filenames\n",
    "- Check metadata if there is an entry for that SHA\n",
    "- If the SHA is there, read the PMC XML JSON content instead. It should be better quality.\n",
    "- If SHA or PMC ID not found, read the PDF JSON and use that\n"
   ]
  },
  {
   "cell_type": "code",
   "execution_count": 16,
   "metadata": {},
   "outputs": [],
   "source": [
    "def load_docs_(base_path, file_type):\n",
    "    if not base_path.endswith(\"/\"):\n",
    "        base_path = base_path + \"/\"\n",
    "    loaded_docs = []\n",
    "    count_pdf = 0\n",
    "    count_pmc = 0\n",
    "    file_paths_pdf = glob.glob(base_path+\"pdf_json/*.json\")\n",
    "    file_paths_pmc = glob.glob(base_path+\"pmc_json/*.json\")\n",
    "    file_names_pdf = [os.path.basename(path) for path in file_paths_pdf]\n",
    "    for filepath in tqdm(file_paths_pdf):\n",
    "        filename_sha = os.path.basename(filepath).split(\".\")[0]\n",
    "        #print(filename_sha)\n",
    "        df_sha = df_metadata[df_metadata[\"sha\"] == filename_sha]\n",
    "        if df_sha.shape[0] > 0:\n",
    "            has_pmc = df_sha[\"has_pmc_xml_parse\"].to_list()[0]\n",
    "            if has_pmc:\n",
    "                count_pmc += 1\n",
    "                pmc_id = df_sha[\"pmcid\"].to_list()[0]\n",
    "                filepath = f\"{base_path}pmc_json/{pmc_id}.xml.json\"\n",
    "            else:\n",
    "                count_pdf += 1\n",
    "        else:\n",
    "            count_pdf += 1\n",
    "        doc = COVDoc(filepath)\n",
    "        doc.file_type = file_type\n",
    "        loaded_docs.append(doc)\n",
    "    print(f\"loaded {count_pdf} PDF files, {count_pmc} PMC files of type {file_type}\")\n",
    "    return loaded_docs"
   ]
  },
  {
   "cell_type": "code",
   "execution_count": 17,
   "metadata": {},
   "outputs": [],
   "source": [
    "file_paths_pdf_all = []\n",
    "file_paths_pmc_all = []\n",
    "all_docs = []\n",
    "\n",
    "def load_doc_paths(base_path, file_type):\n",
    "    if not base_path.endswith(\"/\"):\n",
    "        base_path = base_path + \"/\"\n",
    "    file_paths_pdf = glob.glob(base_path+\"pdf_json/*.json\")\n",
    "    file_paths_pmc = glob.glob(base_path+\"pmc_json/*.json\")\n",
    "    file_paths_pdf_all.extend(file_paths_pdf)\n",
    "    file_paths_pmc_all.extend(file_paths_pmc)"
   ]
  },
  {
   "cell_type": "code",
   "execution_count": 18,
   "metadata": {},
   "outputs": [],
   "source": [
    "medx_basepath = \"/kaggle/input/CORD-19-research-challenge/biorxiv_medrxiv/biorxiv_medrxiv\"\n",
    "load_doc_paths(medx_basepath, \"medx\")"
   ]
  },
  {
   "cell_type": "code",
   "execution_count": 19,
   "metadata": {},
   "outputs": [],
   "source": [
    "comuse_basepath = \"/kaggle/input/CORD-19-research-challenge/comm_use_subset/comm_use_subset/\"\n",
    "load_doc_paths(comuse_basepath, \"comuse\")"
   ]
  },
  {
   "cell_type": "code",
   "execution_count": 20,
   "metadata": {},
   "outputs": [],
   "source": [
    "custom_basepath = \"/kaggle/input/CORD-19-research-challenge/custom_license/custom_license/\"\n",
    "load_doc_paths(custom_basepath, \"custom\")\n"
   ]
  },
  {
   "cell_type": "code",
   "execution_count": 21,
   "metadata": {},
   "outputs": [],
   "source": [
    "noncom_basepath = \"/kaggle/input/CORD-19-research-challenge/noncomm_use_subset/noncomm_use_subset/\"\n",
    "load_doc_paths(noncom_basepath, \"noncom\")"
   ]
  },
  {
   "cell_type": "code",
   "execution_count": 22,
   "metadata": {},
   "outputs": [
    {
     "data": {
      "text/plain": [
       "45941"
      ]
     },
     "execution_count": 22,
     "metadata": {},
     "output_type": "execute_result"
    }
   ],
   "source": [
    "len(file_paths_pdf_all)"
   ]
  },
  {
   "cell_type": "code",
   "execution_count": 23,
   "metadata": {},
   "outputs": [
    {
     "data": {
      "text/plain": [
       "22263"
      ]
     },
     "execution_count": 23,
     "metadata": {},
     "output_type": "execute_result"
    }
   ],
   "source": [
    "len(file_paths_pmc_all)"
   ]
  },
  {
   "cell_type": "code",
   "execution_count": 24,
   "metadata": {},
   "outputs": [],
   "source": [
    "def find_docs_in_metadata():\n",
    "    pmc_count = 0\n",
    "    pmc_missed = 0\n",
    "    pdf_count = 0\n",
    "    pdf_missed = 0\n",
    "    missed = 0\n",
    "    total = 0\n",
    "    for idx, row in tqdm(df_metadata.iterrows(), total=df_metadata.shape[0]):\n",
    "        pmcid = row[\"pmcid\"]\n",
    "        found_path = None\n",
    "        if isinstance(pmcid, str):\n",
    "            for filepath in file_paths_pmc_all:\n",
    "                if pmcid in filepath:\n",
    "                    found_path = filepath\n",
    "                    #print(filepath)\n",
    "                    pmc_count += 1\n",
    "                    break\n",
    "            if found_path is None:\n",
    "                #print(pmcid)\n",
    "                pmc_missed += 1\n",
    "        if found_path is None:\n",
    "            sha = row[\"sha\"]\n",
    "            if isinstance(sha, str):\n",
    "                for filepath in file_paths_pdf_all:\n",
    "                    #print(sha)\n",
    "                    if sha in filepath:\n",
    "                        found_path = filepath\n",
    "                        #print(filepath)\n",
    "                        pdf_count += 1\n",
    "                        break\n",
    "            if found_path is None:\n",
    "                pdf_missed += 1\n",
    "        if found_path is None:\n",
    "            missed += 1\n",
    "        else:\n",
    "            doc = COVDoc(filepath)\n",
    "            filetype = filepath.split(\"/\")[-3]\n",
    "            doc.file_type = filetype\n",
    "            doc.doc_id = row.cord_uid\n",
    "            all_docs.append(doc)\n",
    "        total += 1\n",
    "    print(f\"finished: pmc={pmc_count}, pdf={pdf_count}, missed={missed}, pmc_missed={pmc_missed}, pdf_missed={pdf_missed}\")\n"
   ]
  },
  {
   "cell_type": "code",
   "execution_count": 25,
   "metadata": {},
   "outputs": [
    {
     "name": "stdout",
     "output_type": "stream",
     "text": [
      "/kaggle/input/CORD-19-research-challenge/noncomm_use_subset/noncomm_use_subset/pmc_json/PMC2114261.xml.json\n"
     ]
    }
   ],
   "source": [
    "for filepath in file_paths_pmc_all:\n",
    "    if \"PMC2114261\" in filepath:\n",
    "        print(filepath)\n"
   ]
  },
  {
   "cell_type": "code",
   "execution_count": 26,
   "metadata": {},
   "outputs": [
    {
     "data": {
      "application/vnd.jupyter.widget-view+json": {
       "model_id": "b01e753612f74ab392540e82770371d9",
       "version_major": 2,
       "version_minor": 0
      },
      "text/plain": [
       "HBox(children=(FloatProgress(value=0.0, max=57366.0), HTML(value='')))"
      ]
     },
     "metadata": {},
     "output_type": "display_data"
    },
    {
     "name": "stdout",
     "output_type": "stream",
     "text": [
      "\n",
      "finished: pmc=22282, pdf=21113, missed=13971, pmc_missed=24522, pdf_missed=13971\n"
     ]
    }
   ],
   "source": [
    "find_docs_in_metadata()"
   ]
  },
  {
   "cell_type": "code",
   "execution_count": 27,
   "metadata": {},
   "outputs": [],
   "source": [
    "#for doc in all_docs:\n",
    "#    if \"PMC2114261\" in doc.filepath:\n",
    "#        print(doc.doc_id)\n",
    "#        print(doc.filepath)\n",
    "#        doc.load_text()\n",
    "#        print(doc.paragraph_texts)"
   ]
  },
  {
   "cell_type": "code",
   "execution_count": 28,
   "metadata": {},
   "outputs": [
    {
     "data": {
      "text/html": [
       "<div>\n",
       "<style scoped>\n",
       "    .dataframe tbody tr th:only-of-type {\n",
       "        vertical-align: middle;\n",
       "    }\n",
       "\n",
       "    .dataframe tbody tr th {\n",
       "        vertical-align: top;\n",
       "    }\n",
       "\n",
       "    .dataframe thead th {\n",
       "        text-align: right;\n",
       "    }\n",
       "</style>\n",
       "<table border=\"1\" class=\"dataframe\">\n",
       "  <thead>\n",
       "    <tr style=\"text-align: right;\">\n",
       "      <th></th>\n",
       "      <th>cord_uid</th>\n",
       "      <th>sha</th>\n",
       "      <th>source_x</th>\n",
       "      <th>title</th>\n",
       "      <th>doi</th>\n",
       "      <th>pmcid</th>\n",
       "      <th>pubmed_id</th>\n",
       "      <th>license</th>\n",
       "      <th>abstract</th>\n",
       "      <th>publish_time</th>\n",
       "      <th>authors</th>\n",
       "      <th>journal</th>\n",
       "      <th>Microsoft Academic Paper ID</th>\n",
       "      <th>WHO #Covidence</th>\n",
       "      <th>has_pdf_parse</th>\n",
       "      <th>has_pmc_xml_parse</th>\n",
       "      <th>full_text_file</th>\n",
       "      <th>url</th>\n",
       "    </tr>\n",
       "  </thead>\n",
       "  <tbody>\n",
       "    <tr>\n",
       "      <th>38130</th>\n",
       "      <td>4sw25blb</td>\n",
       "      <td>67f40427adfd7f712e114a8f5da4a33158fc9f37</td>\n",
       "      <td>PMC</td>\n",
       "      <td>Signal recognition particle-dependent membrane...</td>\n",
       "      <td>NaN</td>\n",
       "      <td>PMC2114261</td>\n",
       "      <td>3458708.0</td>\n",
       "      <td>cc-by-nc-sa</td>\n",
       "      <td>Invariant (Ii) chain is a membrane-spanning pr...</td>\n",
       "      <td>1986-06-01</td>\n",
       "      <td>NaN</td>\n",
       "      <td>J Cell Biol</td>\n",
       "      <td>NaN</td>\n",
       "      <td>NaN</td>\n",
       "      <td>True</td>\n",
       "      <td>True</td>\n",
       "      <td>noncomm_use_subset</td>\n",
       "      <td>https://www.ncbi.nlm.nih.gov/pmc/articles/PMC2...</td>\n",
       "    </tr>\n",
       "  </tbody>\n",
       "</table>\n",
       "</div>"
      ],
      "text/plain": [
       "       cord_uid                                       sha source_x  \\\n",
       "38130  4sw25blb  67f40427adfd7f712e114a8f5da4a33158fc9f37      PMC   \n",
       "\n",
       "                                                   title  doi       pmcid  \\\n",
       "38130  Signal recognition particle-dependent membrane...  NaN  PMC2114261   \n",
       "\n",
       "       pubmed_id      license  \\\n",
       "38130  3458708.0  cc-by-nc-sa   \n",
       "\n",
       "                                                abstract publish_time authors  \\\n",
       "38130  Invariant (Ii) chain is a membrane-spanning pr...   1986-06-01     NaN   \n",
       "\n",
       "           journal  Microsoft Academic Paper ID WHO #Covidence  has_pdf_parse  \\\n",
       "38130  J Cell Biol                          NaN            NaN           True   \n",
       "\n",
       "       has_pmc_xml_parse      full_text_file  \\\n",
       "38130               True  noncomm_use_subset   \n",
       "\n",
       "                                                     url  \n",
       "38130  https://www.ncbi.nlm.nih.gov/pmc/articles/PMC2...  "
      ]
     },
     "execution_count": 28,
     "metadata": {},
     "output_type": "execute_result"
    }
   ],
   "source": [
    "df_metadata[df_metadata[\"cord_uid\"] == \"4sw25blb\"]"
   ]
  },
  {
   "cell_type": "code",
   "execution_count": 29,
   "metadata": {},
   "outputs": [
    {
     "data": {
      "text/plain": [
       "'zjufx4fo'"
      ]
     },
     "execution_count": 29,
     "metadata": {},
     "output_type": "execute_result"
    }
   ],
   "source": [
    "all_docs[0].doc_id"
   ]
  },
  {
   "cell_type": "code",
   "execution_count": 30,
   "metadata": {},
   "outputs": [
    {
     "data": {
      "text/plain": [
       "'/kaggle/input/CORD-19-research-challenge/custom_license/custom_license/pmc_json/PMC125340.xml.json'"
      ]
     },
     "execution_count": 30,
     "metadata": {},
     "output_type": "execute_result"
    }
   ],
   "source": [
    "all_docs[0].filepath"
   ]
  },
  {
   "cell_type": "code",
   "execution_count": 31,
   "metadata": {},
   "outputs": [],
   "source": [
    "#all_docs[0].load_text()"
   ]
  },
  {
   "cell_type": "code",
   "execution_count": 32,
   "metadata": {},
   "outputs": [],
   "source": [
    "#all_docs[0].paragraph_texts"
   ]
  },
  {
   "cell_type": "markdown",
   "metadata": {},
   "source": [
    "# Processing function definitions"
   ]
  },
  {
   "cell_type": "markdown",
   "metadata": {},
   "source": [
    "I used show_nltk_bigrams_for() to view potential bigrams:"
   ]
  },
  {
   "cell_type": "code",
   "execution_count": 33,
   "metadata": {},
   "outputs": [],
   "source": [
    "def show_nltk_bigrams_for(docs):\n",
    "    tokens = []\n",
    "    for doc in docs:\n",
    "        for paragraph in doc.paragraph_texts:\n",
    "            doc_tokens = nltk.word_tokenize(paragraph)\n",
    "            tokens.extend(doc_tokens)\n",
    "    bigrams = ngrams(tokens, 2)\n",
    "    bigram_freq = collections.Counter(bigrams)\n",
    "    print(bigram_freq.most_common(100))"
   ]
  },
  {
   "cell_type": "markdown",
   "metadata": {},
   "source": [
    "### Basic preprocessing"
   ]
  },
  {
   "cell_type": "markdown",
   "metadata": {},
   "source": [
    "Snippets to delete are some template values from the articles. Mainly from the MedX/BioX since I started with those. But these are removed before anything else is done, so further templates would just require adding lines here:"
   ]
  },
  {
   "cell_type": "code",
   "execution_count": 34,
   "metadata": {},
   "outputs": [],
   "source": [
    "snippets_to_delete = [\n",
    "    \"The copyright holder for this preprint\",\n",
    "    \"doi: medRxiv preprint\",\n",
    "    \"doi: bioRxiv preprint\",\n",
    "    \"medRxiv preprint\",\n",
    "    \"bioRxiv preprint\",\n",
    "    \"cc-by-nc-nd 4.0\",\n",
    "    \"cc-by-nd 4.0\",\n",
    "    \"cc-by-nc 4.0\",\n",
    "    \"cc-by 4.0\", \n",
    "    \"international license\", \n",
    "    \"is made available under a\",\n",
    "    \"(which was not peer-reviewed)\",\n",
    "    \"the copyright holder for this preprint\",\n",
    "    \"who has granted medrxiv a license to display the preprint in perpetuity\",\n",
    "    \"author/funder\",\n",
    "    \"all rights reserved\",\n",
    "    \"no reuse allowed without permission\",\n",
    "    \"all authors declare no competing interests\",\n",
    "    \"the authors declare no competing interests\",\n",
    "    \"no funding supported the project authors\",\n",
    "    \"his article is a US Government work\",\n",
    "    \"It is not subject to copyright under 17 USC 105 and is also made available for use under a CC0 license\",\n",
    "    \"Images were analyzed and processed using \",\n",
    "    \"ImageJ\",\n",
    "    \"(http://imagej.nih.gov/ij)\", \n",
    "    \"Adobe Photoshop\"\n",
    "    \"CC 2017\",\n",
    "    \"All images were assembled in Adobe Illustrator\",\n",
    "]\n",
    "snippets_to_delete = [snippet.lower() for snippet in snippets_to_delete]"
   ]
  },
  {
   "cell_type": "markdown",
   "metadata": {},
   "source": [
    "If you look for a lot of common terms and bi-grams you quickly notice many URL's, and many broken URL's as well. I extract them and replace with URLxxxx so I can compare if there are some broadly shared URL's across all documents, and get rid of them from topic models etc."
   ]
  },
  {
   "cell_type": "code",
   "execution_count": 35,
   "metadata": {},
   "outputs": [],
   "source": [
    "from urllib.parse import urlparse\n",
    "\n",
    "def extract_urls(text):\n",
    "    \"\"\"Return a list of urls from a text string.\"\"\"\n",
    "    out = []\n",
    "    for word in text.split(' '):\n",
    "        word = word.replace(\"(\", \"\")\n",
    "        word = word.replace(\")\", \"\")\n",
    "        #tried with URL-parse library, it got complicated so really just look for HTTP\n",
    "#        thing = urlparse(word.strip())\n",
    "#        if thing.scheme:\n",
    "        if word.startswith(\"http:/\") or word.startswith(\"https://\"):\n",
    "            out.append(word)\n",
    "    return out"
   ]
  },
  {
   "cell_type": "code",
   "execution_count": 36,
   "metadata": {},
   "outputs": [
    {
     "data": {
      "text/plain": [
       "['https://voice.baidu.com/act/newpneumonia/newpneumonia/?from=osari_pc_1']"
      ]
     },
     "execution_count": 36,
     "metadata": {},
     "output_type": "execute_result"
    }
   ],
   "source": [
    "#testing the function\n",
    "extract_urls(\"(https://voice.baidu.com/act/newpneumonia/newpneumonia/?from=osari_pc_1)\")"
   ]
  },
  {
   "cell_type": "markdown",
   "metadata": {},
   "source": [
    "Some basic preprocessing such as removing URL's, detecting document language, removing template texts:"
   ]
  },
  {
   "cell_type": "code",
   "execution_count": 37,
   "metadata": {},
   "outputs": [],
   "source": [
    "from collections import defaultdict\n",
    "import hashlib\n",
    "from langdetect import detect\n",
    "\n",
    "#get document language. I made another kernel to list these and about 98% are english, so I keep only the English ones\n",
    "#otherwise, I considered also translating the remaining ones but it seemed quite expensive looking at the cloud pricings for translate\n",
    "def get_lang(doc):\n",
    "    try:\n",
    "        lang = detect(doc)\n",
    "    except Exception as e: \n",
    "        #some documents are broken as in no text, just garbage. langdetect throws an exception for those\n",
    "        lang = \"broken\"\n",
    "    return lang\n",
    "\n",
    "#replace URLs with \"urlX\", remove common template strings\n",
    "def process_docs(docs):\n",
    "    print(f\"starting process_docs for {len(docs)} docs\")\n",
    "    url_counts = collections.Counter()\n",
    "    with tqdm(total=len(docs)) as pbar:\n",
    "        for doc in docs:\n",
    "            #NOTE: here we finally load the actual document content / paragraphs\n",
    "            doc.load_text()\n",
    "            total_text = \"\"\n",
    "            for paragraph in doc.paragraph_texts:\n",
    "                processed_paragraph = process_text(paragraph, url_counts)\n",
    "                del paragraph\n",
    "                doc.processed_paragraphs.append(processed_paragraph)\n",
    "                total_text += processed_paragraph\n",
    "            #need to save memory, this is not be used later (for now) so delete now\n",
    "            del doc.paragraph_texts\n",
    "            doc.lang = get_lang(total_text)\n",
    "            del total_text\n",
    "            pbar.update(1)\n",
    "    print(\"finished process_docs\")\n",
    "    return url_counts\n",
    "        \n",
    "def process_text(doc_text, url_counts):\n",
    "    #sort url so longest is first, otherwise broken URL replacement if one is subset of another\n",
    "    urls = extract_urls(doc_text)\n",
    "\n",
    "    moded_text = doc_text.lower()\n",
    "    urls_to_replace = []\n",
    "    for url in urls:\n",
    "        if not url.startswith(\"http\"):\n",
    "            continue\n",
    "        urls_to_replace.append(url)\n",
    "        url_counts[url] += 1\n",
    "    del urls\n",
    "\n",
    "    for snippet in snippets_to_delete:\n",
    "        moded_text_2 = moded_text.replace(snippet, \"\")\n",
    "        del moded_text\n",
    "        moded_text = moded_text_2\n",
    "\n",
    "    urls_to_replace.sort(key = len, reverse=True)\n",
    "    for url in urls_to_replace:\n",
    "        url_hash = hashlib.sha256(url.lower().encode('utf-8')).hexdigest();\n",
    "        moded_text_2 = moded_text.replace(url, f\"URL{url_hash}\")\n",
    "        del moded_text\n",
    "        moded_text = moded_text_2\n",
    "    del urls_to_replace\n",
    "    return moded_text\n"
   ]
  },
  {
   "cell_type": "markdown",
   "metadata": {},
   "source": [
    "Install library to do English dictionary checks, to identify possible domain specific and misspelled words:"
   ]
  },
  {
   "cell_type": "code",
   "execution_count": 38,
   "metadata": {
    "_kg_hide-output": true
   },
   "outputs": [
    {
     "name": "stdout",
     "output_type": "stream",
     "text": [
      "Collecting pyenchant\r\n",
      "  Downloading pyenchant-3.0.1-py3-none-any.whl (56 kB)\r\n",
      "\u001b[K     |████████████████████████████████| 56 kB 1.5 MB/s \r\n",
      "\u001b[?25hInstalling collected packages: pyenchant\r\n",
      "Successfully installed pyenchant-3.0.1\r\n",
      "\r\n",
      "\r\n",
      "\r\n",
      "The following additional packages will be installed:\r\n",
      "  aspell aspell-en enchant libaspell15 libenchant1c2a libglib2.0-bin\r\n",
      "  libglib2.0-dev libpcre16-3 libpcre3-dev libpcre32-3 libpcrecpp0v5\r\n",
      "Suggested packages:\r\n",
      "  aspell-doc spellutils libenchant-voikko libglib2.0-doc\r\n",
      "The following NEW packages will be installed:\r\n",
      "  aspell aspell-en enchant libaspell15 libenchant-dev libenchant1c2a\r\n",
      "  libglib2.0-bin libglib2.0-dev libpcre16-3 libpcre3-dev libpcre32-3\r\n",
      "  libpcrecpp0v5\r\n",
      "0 upgraded, 12 newly installed, 0 to remove and 34 not upgraded.\r\n",
      "Need to get 6907 kB of archives.\r\n",
      "After this operation, 20.5 MB of additional disk space will be used.\r\n",
      "Get:1 http://deb.debian.org/debian stretch/main amd64 libpcrecpp0v5 amd64 2:8.39-3 [151 kB]\r\n",
      "Get:2 http://deb.debian.org/debian stretch/main amd64 libaspell15 amd64 0.60.7~20110707-3+b2 [330 kB]\r\n",
      "Get:3 http://deb.debian.org/debian stretch/main amd64 aspell amd64 0.60.7~20110707-3+b2 [226 kB]\r\n",
      "Get:4 http://deb.debian.org/debian stretch/main amd64 aspell-en all 2016.11.20-0-0.1 [299 kB]\r\n",
      "Get:5 http://deb.debian.org/debian stretch/main amd64 libenchant1c2a amd64 1.6.0-11+b1 [68.2 kB]\r\n",
      "Get:6 http://deb.debian.org/debian stretch/main amd64 enchant amd64 1.6.0-11+b1 [18.3 kB]\r\n",
      "Get:7 http://deb.debian.org/debian stretch/main amd64 libglib2.0-bin amd64 2.50.3-2+deb9u2 [1615 kB]\r\n",
      "Get:8 http://deb.debian.org/debian stretch/main amd64 libpcre16-3 amd64 2:8.39-3 [258 kB]\r\n",
      "Get:9 http://deb.debian.org/debian stretch/main amd64 libpcre32-3 amd64 2:8.39-3 [248 kB]\r\n",
      "Get:10 http://deb.debian.org/debian stretch/main amd64 libpcre3-dev amd64 2:8.39-3 [647 kB]\r\n",
      "Get:11 http://deb.debian.org/debian stretch/main amd64 libglib2.0-dev amd64 2.50.3-2+deb9u2 [2985 kB]\r\n",
      "Get:12 http://deb.debian.org/debian stretch/main amd64 libenchant-dev amd64 1.6.0-11+b1 [59.9 kB]\r\n",
      "Fetched 6907 kB in 0s (22.9 MB/s)\r\n",
      "debconf: delaying package configuration, since apt-utils is not installed\r\n",
      "\n",
      "\u001b7\u001b[0;23r\u001b8\u001b[1ASelecting previously unselected package libpcrecpp0v5:amd64.\r\n",
      "(Reading database ... 74146 files and directories currently installed.)\r\n",
      "Preparing to unpack .../00-libpcrecpp0v5_2%3a8.39-3_amd64.deb ...\r\n",
      "\u001b7\u001b[24;0f\u001b[42m\u001b[30mProgress: [  0%]\u001b[49m\u001b[39m [..........................................................] \u001b8\u001b7\u001b[24;0f\u001b[42m\u001b[30mProgress: [  1%]\u001b[49m\u001b[39m [..........................................................] \u001b8Unpacking libpcrecpp0v5:amd64 (2:8.39-3) ...\r\n",
      "\u001b7\u001b[24;0f\u001b[42m\u001b[30mProgress: [  3%]\u001b[49m\u001b[39m [#.........................................................] \u001b8\u001b7\u001b[24;0f\u001b[42m\u001b[30mProgress: [  4%]\u001b[49m\u001b[39m [##........................................................] \u001b8Selecting previously unselected package libaspell15:amd64.\r\n",
      "Preparing to unpack .../01-libaspell15_0.60.7~20110707-3+b2_amd64.deb ...\r\n",
      "\u001b7\u001b[24;0f\u001b[42m\u001b[30mProgress: [  6%]\u001b[49m\u001b[39m [###.......................................................] \u001b8Unpacking libaspell15:amd64 (0.60.7~20110707-3+b2) ...\r\n",
      "\u001b7\u001b[24;0f\u001b[42m\u001b[30mProgress: [  8%]\u001b[49m\u001b[39m [####......................................................] \u001b8\u001b7\u001b[24;0f\u001b[42m\u001b[30mProgress: [  9%]\u001b[49m\u001b[39m [#####.....................................................] \u001b8Selecting previously unselected package aspell.\r\n",
      "Preparing to unpack .../02-aspell_0.60.7~20110707-3+b2_amd64.deb ...\r\n",
      "\u001b7\u001b[24;0f\u001b[42m\u001b[30mProgress: [ 11%]\u001b[49m\u001b[39m [######....................................................] \u001b8Unpacking aspell (0.60.7~20110707-3+b2) ...\r\n",
      "\u001b7\u001b[24;0f\u001b[42m\u001b[30mProgress: [ 13%]\u001b[49m\u001b[39m [#######...................................................] \u001b8\u001b7\u001b[24;0f\u001b[42m\u001b[30mProgress: [ 14%]\u001b[49m\u001b[39m [########..................................................] \u001b8Selecting previously unselected package aspell-en.\r\n",
      "Preparing to unpack .../03-aspell-en_2016.11.20-0-0.1_all.deb ...\r\n",
      "\u001b7\u001b[24;0f\u001b[42m\u001b[30mProgress: [ 16%]\u001b[49m\u001b[39m [#########.................................................] \u001b8Unpacking aspell-en (2016.11.20-0-0.1) ...\r\n",
      "\u001b7\u001b[24;0f\u001b[42m\u001b[30mProgress: [ 18%]\u001b[49m\u001b[39m [##########................................................] \u001b8\u001b7\u001b[24;0f\u001b[42m\u001b[30mProgress: [ 19%]\u001b[49m\u001b[39m [###########...............................................] \u001b8Selecting previously unselected package libenchant1c2a:amd64.\r\n",
      "Preparing to unpack .../04-libenchant1c2a_1.6.0-11+b1_amd64.deb ...\r\n",
      "\u001b7\u001b[24;0f\u001b[42m\u001b[30mProgress: [ 21%]\u001b[49m\u001b[39m [############..............................................] \u001b8Unpacking libenchant1c2a:amd64 (1.6.0-11+b1) ...\r\n",
      "\u001b7\u001b[24;0f\u001b[42m\u001b[30mProgress: [ 22%]\u001b[49m\u001b[39m [#############.............................................] \u001b8\u001b7\u001b[24;0f\u001b[42m\u001b[30mProgress: [ 24%]\u001b[49m\u001b[39m [##############............................................] \u001b8Selecting previously unselected package enchant.\r\n",
      "Preparing to unpack .../05-enchant_1.6.0-11+b1_amd64.deb ...\r\n",
      "\u001b7\u001b[24;0f\u001b[42m\u001b[30mProgress: [ 26%]\u001b[49m\u001b[39m [###############...........................................] \u001b8Unpacking enchant (1.6.0-11+b1) ...\r\n",
      "\u001b7\u001b[24;0f\u001b[42m\u001b[30mProgress: [ 27%]\u001b[49m\u001b[39m [################..........................................] \u001b8\u001b7\u001b[24;0f\u001b[42m\u001b[30mProgress: [ 29%]\u001b[49m\u001b[39m [#################.........................................] \u001b8Selecting previously unselected package libglib2.0-bin.\r\n",
      "Preparing to unpack .../06-libglib2.0-bin_2.50.3-2+deb9u2_amd64.deb ...\r\n",
      "\u001b7\u001b[24;0f\u001b[42m\u001b[30mProgress: [ 31%]\u001b[49m\u001b[39m [##################........................................] \u001b8Unpacking libglib2.0-bin (2.50.3-2+deb9u2) ...\r\n",
      "\u001b7\u001b[24;0f\u001b[42m\u001b[30mProgress: [ 32%]\u001b[49m\u001b[39m [###################.......................................] \u001b8\u001b7\u001b[24;0f\u001b[42m\u001b[30mProgress: [ 34%]\u001b[49m\u001b[39m [###################.......................................] \u001b8Selecting previously unselected package libpcre16-3:amd64.\r\n",
      "Preparing to unpack .../07-libpcre16-3_2%3a8.39-3_amd64.deb ...\r\n",
      "\u001b7\u001b[24;0f\u001b[42m\u001b[30mProgress: [ 36%]\u001b[49m\u001b[39m [####################......................................] \u001b8Unpacking libpcre16-3:amd64 (2:8.39-3) ...\r\n",
      "\u001b7\u001b[24;0f\u001b[42m\u001b[30mProgress: [ 37%]\u001b[49m\u001b[39m [#####################.....................................] \u001b8\u001b7\u001b[24;0f\u001b[42m\u001b[30mProgress: [ 39%]\u001b[49m\u001b[39m [######################....................................] \u001b8Selecting previously unselected package libpcre32-3:amd64.\r\n",
      "Preparing to unpack .../08-libpcre32-3_2%3a8.39-3_amd64.deb ...\r\n",
      "\u001b7\u001b[24;0f\u001b[42m\u001b[30mProgress: [ 40%]\u001b[49m\u001b[39m [#######################...................................] \u001b8Unpacking libpcre32-3:amd64 (2:8.39-3) ...\r\n",
      "\u001b7\u001b[24;0f\u001b[42m\u001b[30mProgress: [ 42%]\u001b[49m\u001b[39m [########################..................................] \u001b8\u001b7\u001b[24;0f\u001b[42m\u001b[30mProgress: [ 44%]\u001b[49m\u001b[39m [#########################.................................] \u001b8Selecting previously unselected package libpcre3-dev:amd64.\r\n",
      "Preparing to unpack .../09-libpcre3-dev_2%3a8.39-3_amd64.deb ...\r\n",
      "\u001b7\u001b[24;0f\u001b[42m\u001b[30mProgress: [ 45%]\u001b[49m\u001b[39m [##########################................................] \u001b8Unpacking libpcre3-dev:amd64 (2:8.39-3) ...\r\n",
      "\u001b7\u001b[24;0f\u001b[42m\u001b[30mProgress: [ 47%]\u001b[49m\u001b[39m [###########################...............................] \u001b8\u001b7\u001b[24;0f\u001b[42m\u001b[30mProgress: [ 49%]\u001b[49m\u001b[39m [############################..............................] \u001b8Selecting previously unselected package libglib2.0-dev.\r\n",
      "Preparing to unpack .../10-libglib2.0-dev_2.50.3-2+deb9u2_amd64.deb ...\r\n",
      "\u001b7\u001b[24;0f\u001b[42m\u001b[30mProgress: [ 50%]\u001b[49m\u001b[39m [#############################.............................] \u001b8Unpacking libglib2.0-dev (2.50.3-2+deb9u2) ...\r\n",
      "\u001b7\u001b[24;0f\u001b[42m\u001b[30mProgress: [ 52%]\u001b[49m\u001b[39m [##############################............................] \u001b8Selecting previously unselected package libenchant-dev.\r\n",
      "Preparing to unpack .../11-libenchant-dev_1.6.0-11+b1_amd64.deb ...\r\n",
      "\u001b7\u001b[24;0f\u001b[42m\u001b[30mProgress: [ 53%]\u001b[49m\u001b[39m [###############################...........................] \u001b8Unpacking libenchant-dev (1.6.0-11+b1) ...\r\n",
      "\u001b7\u001b[24;0f\u001b[42m\u001b[30mProgress: [ 55%]\u001b[49m\u001b[39m [################################..........................] \u001b8\u001b7\u001b[24;0f\u001b[42m\u001b[30mProgress: [ 57%]\u001b[49m\u001b[39m [#################################.........................] \u001b8Setting up libaspell15:amd64 (0.60.7~20110707-3+b2) ...\r\n",
      "\u001b7\u001b[24;0f\u001b[42m\u001b[30mProgress: [ 58%]\u001b[49m\u001b[39m [##################################........................] \u001b8\u001b7\u001b[24;0f\u001b[42m\u001b[30mProgress: [ 60%]\u001b[49m\u001b[39m [##################################........................] \u001b8Processing triggers for libglib2.0-0:amd64 (2.50.3-2+deb9u2) ...\r\n",
      "\u001b7\u001b[24;0f\u001b[42m\u001b[30mProgress: [ 61%]\u001b[49m\u001b[39m [###################################.......................] \u001b8\u001b7\u001b[24;0f\u001b[42m\u001b[30mProgress: [ 63%]\u001b[49m\u001b[39m [####################################......................] \u001b8Processing triggers for libc-bin (2.24-11+deb9u4) ...\r\n",
      "Setting up libpcrecpp0v5:amd64 (2:8.39-3) ...\r\n",
      "\u001b7\u001b[24;0f\u001b[42m\u001b[30mProgress: [ 65%]\u001b[49m\u001b[39m [#####################################.....................] \u001b8\u001b7\u001b[24;0f\u001b[42m\u001b[30mProgress: [ 66%]\u001b[49m\u001b[39m [######################################....................] \u001b8Setting up libpcre32-3:amd64 (2:8.39-3) ...\r\n",
      "\u001b7\u001b[24;0f\u001b[42m\u001b[30mProgress: [ 68%]\u001b[49m\u001b[39m [#######################################...................] \u001b8\u001b7\u001b[24;0f\u001b[42m\u001b[30mProgress: [ 69%]\u001b[49m\u001b[39m [########################################..................] \u001b8Setting up libpcre16-3:amd64 (2:8.39-3) ...\r\n",
      "\u001b7\u001b[24;0f\u001b[42m\u001b[30mProgress: [ 71%]\u001b[49m\u001b[39m [#########################################.................] \u001b8\u001b7\u001b[24;0f\u001b[42m\u001b[30mProgress: [ 73%]\u001b[49m\u001b[39m [##########################################................] \u001b8Setting up aspell (0.60.7~20110707-3+b2) ...\r\n",
      "\u001b7\u001b[24;0f\u001b[42m\u001b[30mProgress: [ 74%]\u001b[49m\u001b[39m [###########################################...............] \u001b8debconf: unable to initialize frontend: Dialog\r\n",
      "debconf: (No usable dialog-like program is installed, so the dialog based frontend cannot be used. at /usr/share/perl5/Debconf/FrontEnd/Dialog.pm line 76.)\r\n",
      "debconf: falling back to frontend: Readline\r\n",
      "\u001b7\u001b[24;0f\u001b[42m\u001b[30mProgress: [ 76%]\u001b[49m\u001b[39m [############################################..............] \u001b8Setting up libglib2.0-bin (2.50.3-2+deb9u2) ...\r\n",
      "\u001b7\u001b[24;0f\u001b[42m\u001b[30mProgress: [ 77%]\u001b[49m\u001b[39m [#############################################.............] \u001b8\u001b7\u001b[24;0f\u001b[42m\u001b[30mProgress: [ 79%]\u001b[49m\u001b[39m [##############################################............] \u001b8Setting up libenchant1c2a:amd64 (1.6.0-11+b1) ...\r\n",
      "\u001b7\u001b[24;0f\u001b[42m\u001b[30mProgress: [ 80%]\u001b[49m\u001b[39m [##############################################............] \u001b8\u001b7\u001b[24;0f\u001b[42m\u001b[30mProgress: [ 82%]\u001b[49m\u001b[39m [###############################################...........] \u001b8Setting up libpcre3-dev:amd64 (2:8.39-3) ...\r\n",
      "\u001b7\u001b[24;0f\u001b[42m\u001b[30mProgress: [ 84%]\u001b[49m\u001b[39m [################################################..........] \u001b8\u001b7\u001b[24;0f\u001b[42m\u001b[30mProgress: [ 85%]\u001b[49m\u001b[39m [#################################################.........] \u001b8Setting up libglib2.0-dev (2.50.3-2+deb9u2) ...\r\n",
      "\u001b7\u001b[24;0f\u001b[42m\u001b[30mProgress: [ 87%]\u001b[49m\u001b[39m [##################################################........] \u001b8\u001b7\u001b[24;0f\u001b[42m\u001b[30mProgress: [ 88%]\u001b[49m\u001b[39m [###################################################.......] \u001b8Setting up aspell-en (2016.11.20-0-0.1) ...\r\n",
      "\u001b7\u001b[24;0f\u001b[42m\u001b[30mProgress: [ 90%]\u001b[49m\u001b[39m [####################################################......] \u001b8debconf: unable to initialize frontend: Dialog\r\n",
      "debconf: (No usable dialog-like program is installed, so the dialog based frontend cannot be used. at /usr/share/perl5/Debconf/FrontEnd/Dialog.pm line 76.)\r\n",
      "debconf: falling back to frontend: Readline\r\n",
      "\u001b7\u001b[24;0f\u001b[42m\u001b[30mProgress: [ 92%]\u001b[49m\u001b[39m [#####################################################.....] \u001b8Setting up enchant (1.6.0-11+b1) ...\r\n",
      "\u001b7\u001b[24;0f\u001b[42m\u001b[30mProgress: [ 93%]\u001b[49m\u001b[39m [######################################################....] \u001b8\u001b7\u001b[24;0f\u001b[42m\u001b[30mProgress: [ 95%]\u001b[49m\u001b[39m [#######################################################...] \u001b8Setting up libenchant-dev (1.6.0-11+b1) ...\r\n",
      "\u001b7\u001b[24;0f\u001b[42m\u001b[30mProgress: [ 96%]\u001b[49m\u001b[39m [########################################################..] \u001b8\u001b7\u001b[24;0f\u001b[42m\u001b[30mProgress: [ 98%]\u001b[49m\u001b[39m [#########################################################.] \u001b8Processing triggers for libc-bin (2.24-11+deb9u4) ...\r\n",
      "Processing triggers for dictionaries-common (1.27.2) ...\r\n",
      "debconf: unable to initialize frontend: Dialog\r\n",
      "debconf: (No usable dialog-like program is installed, so the dialog based frontend cannot be used. at /usr/share/perl5/Debconf/FrontEnd/Dialog.pm line 76.)\r\n",
      "debconf: falling back to frontend: Readline\r\n",
      "aspell-autobuildhash: processing: en [en-common].\r\n",
      "aspell-autobuildhash: processing: en [en-variant_0].\r\n",
      "aspell-autobuildhash: processing: en [en-variant_1].\r\n",
      "aspell-autobuildhash: processing: en [en-variant_2].\r\n",
      "aspell-autobuildhash: processing: en [en-w_accents-only].\r\n",
      "aspell-autobuildhash: processing: en [en-wo_accents-only].\r\n",
      "aspell-autobuildhash: processing: en [en_AU-variant_0].\r\n",
      "aspell-autobuildhash: processing: en [en_AU-variant_1].\r\n",
      "aspell-autobuildhash: processing: en [en_AU-w_accents-only].\r\n",
      "aspell-autobuildhash: processing: en [en_AU-wo_accents-only].\r\n",
      "aspell-autobuildhash: processing: en [en_CA-variant_0].\r\n",
      "aspell-autobuildhash: processing: en [en_CA-variant_1].\r\n",
      "aspell-autobuildhash: processing: en [en_CA-w_accents-only].\r\n",
      "aspell-autobuildhash: processing: en [en_CA-wo_accents-only].\r\n",
      "aspell-autobuildhash: processing: en [en_GB-ise-w_accents-only].\r\n",
      "aspell-autobuildhash: processing: en [en_GB-ise-wo_accents-only].\r\n",
      "aspell-autobuildhash: processing: en [en_GB-ize-w_accents-only].\r\n",
      "aspell-autobuildhash: processing: en [en_GB-ize-wo_accents-only].\r\n",
      "aspell-autobuildhash: processing: en [en_GB-variant_0].\r\n",
      "aspell-autobuildhash: processing: en [en_GB-variant_1].\r\n",
      "aspell-autobuildhash: processing: en [en_US-w_accents-only].\r\n",
      "aspell-autobuildhash: processing: en [en_US-wo_accents-only].\r\n",
      "\r\n",
      "\u001b7\u001b[0;24r\u001b8\u001b[1A\u001b[J"
     ]
    }
   ],
   "source": [
    "!pip install pyenchant\n",
    "!apt install libenchant-dev -y"
   ]
  },
  {
   "cell_type": "code",
   "execution_count": 39,
   "metadata": {},
   "outputs": [],
   "source": [
    "import enchant\n",
    "\n",
    "d = enchant.Dict(\"en_US\")"
   ]
  },
  {
   "cell_type": "markdown",
   "metadata": {},
   "source": [
    "### Spacy processing"
   ]
  },
  {
   "cell_type": "markdown",
   "metadata": {},
   "source": [
    "I was using Spacy for lemmatization. Dropping unnecessary parts of the pipeline speeds it up by a lot, and saves some memory. But it had a lot of issues with memory management, so I disabled it and use only NLTK preprocessing. Which works fine actually.."
   ]
  },
  {
   "cell_type": "code",
   "execution_count": 40,
   "metadata": {},
   "outputs": [],
   "source": [
    "#print(\"loading spacy nlp\")\n",
    "#nlp = spacy.load(\"en_core_web_lg\", disable=['parser', 'ner'])\n"
   ]
  },
  {
   "cell_type": "markdown",
   "metadata": {},
   "source": [
    "The following does Spacy specific pre-processing. Spacy does a good job of lemmatizing a lot of even somewhat obscure seeming words that NLTK seems to miss. Also using Spacy to ID words that are stopwords, punctuation, and purely numeric. Removing those.\n",
    "\n",
    "(this is disabled for memory issues, but the NLTK version is fine)"
   ]
  },
  {
   "cell_type": "code",
   "execution_count": 41,
   "metadata": {},
   "outputs": [],
   "source": [
    "#some things to try if memory is still an issue:\n",
    "#https://github.com/explosion/spaCy/issues/3618\n",
    "def spacy_process(docs_to_process, nlp):\n",
    "    print(\"starting spacy process\")\n",
    "    #nlp = spacy.load(\"en_core_web_lg\", disable=['parser', 'ner'])\n",
    "    processed_doc_tokens = []\n",
    "    with tqdm(total=len(docs_to_process)) as pbar:\n",
    "        for doc in docs_to_process:\n",
    "            for paragraph in doc.processed_paragraphs:\n",
    "                spacy_paragraph = nlp(paragraph)\n",
    "                processed_spacy_paragraph = []\n",
    "                for token in spacy_paragraph:\n",
    "                    if token.is_stop:\n",
    "                        continue\n",
    "                    if token.pos_ == \"PUNCT\":\n",
    "                        continue\n",
    "                    if token.pos_ == \"NUM\":\n",
    "                        #tried to insert _NUM_ for numbers but it dominates quite a bit. just enable this if want it\n",
    "                        #processed_med_tokens.append(\"_NUM_\")\n",
    "                        continue\n",
    "                    token_text = token.lemma_.strip()\n",
    "                    #spacy seems to have some logic to understand for example that anti-viral is a compound word, but it reports different tokens still\n",
    "                    #maybe combine them somehow later but for now try it this way..\n",
    "                    if len(token_text) <= 1:\n",
    "                        continue\n",
    "                    processed_spacy_paragraph.append(token_text)\n",
    "                del spacy_paragraph\n",
    "                del paragraph\n",
    "                doc.processed_spacy_paragraphs.append(processed_spacy_paragraph)\n",
    "            del doc.processed_paragraphs\n",
    "            pbar.update(1)\n",
    "    del nlp\n",
    "    return"
   ]
  },
  {
   "cell_type": "markdown",
   "metadata": {},
   "source": [
    "### Typo fixing"
   ]
  },
  {
   "cell_type": "markdown",
   "metadata": {},
   "source": [
    "I collected a set of words that seem misspelled by running the kernel previously many times. This list is a mapping of words to their \"correct\" spelling. Note that this mapping is all from my head, so might be all wrong. Intent is to provide better input for later techniques such as topic models, where a single words matches across documents."
   ]
  },
  {
   "cell_type": "code",
   "execution_count": 42,
   "metadata": {
    "_kg_hide-input": true
   },
   "outputs": [],
   "source": [
    "replacements = {'cells': 'cell', 'cases': 'case', 'used': 'use', 'using': 'use', 'results': 'result', '2modifications': 'modifications','2substitution': 'substitution','2′omethyltransferase': 'omethyltransferase','2′omethyltransferases': 'omethyltransferase','3adjacent': 'adjacent','3blocking': 'blocking','3coordinate': 'coordinate','3processing': 'processing','5coding': 'coding','5sequence': 'sequence','6phosphate': 'phosphate','abiotic': 'biotic','accuraty': 'accuracy','acidemia': 'academia','adapte': 'adapt','adaptor': 'adapter','adenovirus2': 'adenovirus2','adenoviruses': 'adenovirus','advective': 'adjective','aetiological': 'etiological','ageing': 'aging','aliquote': 'aliquot','alltogether': 'altogether','ambiguus': 'ambiguous','ammonis': 'ammonia','anaesthesia': 'anesthesia','anaesthetize': 'anesthetize','analyse': 'analyze','analysed': 'analyzed','analyte': 'analyze','antarctica': 'antarctic','apathogenic': 'pathogenic','artefact': 'artifact','arteritis': 'arthritis','beest': 'best','begining': 'beginning','behaviour': 'behavior','behavioural': 'behavioral','benchmarke': 'benchmark','binominal': 'binomial','biomedicals': 'biomedical','bulletin6': 'bulletin','caesarean': 'cesarean','capitalise': 'capitalize','carboxyl': 'carbonyl','catalyse': 'catalyze','categorisation': 'categorization','categorise': 'categorize','centralised': 'centralized','chaperone': 'chaperon','characterisation': 'characterization','characterise': 'characterize','characterised': 'characterized','checke': 'check','children1': 'children','chimaera': 'chimera','chimaeric': 'chimeric','circos': 'circus','cirrhosus': 'cirrhosis','cohorte': 'cohort','colinear': 'collinear','collisson': 'collision','colonisation': 'colonization','colour': 'color','colourless': 'colorless','coltd': 'cold','comfirmed': 'confirmed','compacta': 'compact','completetly': 'completely','completness': 'completeness','complexe': 'complex','compostion': 'composition','compounde': 'compound','concentrator5': 'concentrator','conceptualise': 'conceptualize','confluency': 'confluence','conjunctival': 'conjunctiva','contraining': 'containing','convertion': 'conversion','coronaviruses': 'coronavirus','corresponde': 'correspond','criterial': 'criteria','crosstalke': 'crosstalk','crosstalks': 'crosstalk','crystalize': 'crystallize','crystallise': 'crystallize','customisable': 'customizable','customise': 'customize','cyano': 'cyan','cysteines': 'cysteine','cytokines': 'cytokine','cytopathogenicity': 'cytopathogenic','cytotox': 'cytotoxin','cytotoxicities': 'cytotoxin','cytotoxicity': 'cytotoxin','cytotoxins': 'cytotoxin','datasets9': 'datasets','defence': 'defense','derivatize': 'derivative','descendent': 'descendant','destabilise': 'destabilize','detectible': 'detectable','detectr': 'detector','diabete': 'diabetes','dialyzed': 'dialyze','diameter6': 'diameter','diarrhoea': 'diarrhea','differece': 'difference','difine': 'define','dimeter': 'diameter','disc1': 'disc','discernable': 'discernible','discretised': 'discretized','discretize': 'discretized','distinguishs': 'distinguish','distrubution': 'distribution','doublestranded': 'doublestrand','dromedarius': 'dromedaries','ebiosciences': 'biosciences','effectived': 'effective','elegans': 'elegant','elimilate': 'eliminate','elongase': 'elongate','emphasise': 'emphasize','endeavour': 'endeavor','england1': 'england','enrichr': 'enrich','enrolment': 'enrollment','ensembl': 'ensemble','enspire': 'inspire','epithelia': 'epithelial','epitopes': 'epitope','equilocal': 'equivocal','esensor': 'sensor','estimaed': 'estimate','estimatedγ': 'estimated','estimatie': 'estimate','euclidiean': 'euclidean','evalulate': 'evaluate','evaporite': 'evaporate','exclusivly': 'exclusively','exportin5': 'exporting','expresss': 'express','factor2': 'factor','fast5': 'fast','favour': 'favor','favourable': 'favorable','favourably': 'favorably','flagellar': 'flagella','fluorescens': 'fluorescent','formalise': 'formalize','frameshifted': 'frameshift','frameshifter': 'frameshift','frameshifting': 'frameshift','frameshifts': 'frameshift','fulfil': 'fulfill','gastropoda': 'gastropod','geneious': 'generous','generalisation': 'generalization','generalise': 'generalize','generalised': 'generalized','genometric': 'geometric','genomics': 'genomic','grida': 'grid','harbour': 'harbor','hepes': 'herpes','heptatitis': 'hepatitis','heterogeneity': 'heterogenity','heterogenous': 'heterogeneous','holliday': 'holiday','homogenous': 'homogeneous','homolog': 'homology','hospitalisation': 'hospitalization','hospitalise': 'hospitalize','hospitalised': 'hospitalized','hybridisation': 'hybridization','hydrolyse': 'hydrolyze','hydrolysing': 'hydrolyzing','hypothesise': 'hypothesize','ifectious': 'infectious','imager': 'image','immunisation': 'immunization','immuno': 'immune','immunoassays': 'immunoassay','immunoblotting': 'immunoblot','imperiale': 'imperial','inadvertantly': 'inadvertently','incease': 'increase','incremente': 'increment','indictor': 'indicator','individuals5': 'individuals','individualĥ': 'individual','industralized': 'industrialized','infec': 'infect','infecte': 'infect','infecteds': 'infected','infection1': 'infection','infection2': 'infection','infections8': 'infections','influenzae': 'influenza','initialise': 'initialize','instal': 'install','instituitional': 'institutional','instututional': 'institutional','interferonγ': 'interferon','interleukin2': 'interleukin','interleukin6': 'interleukin','interleukin8': 'interleukin','internalisation': 'internalization','interspecie': 'interspecies','intinity': 'infinity','isotype': 'isotope','judgement': 'judgment','labeld': 'labeled','labelling': 'labeling','labour': 'labor','leucocyte': 'leukocyte','libarary': 'library','licence': 'license','lindependent': 'independent','localisation': 'localization','localised': 'localized','logisticα': 'logistics','loop1': 'loop','lysates': 'lysate','makino': 'making','marginalise': 'marginalize','mathematica': 'mathematical','maximisation': 'maximization','maximise': 'maximize','mcherry': 'cherry','mclean': 'clean','measurment': 'measurement','medicine4': 'medicine','mega6': 'mega','metagenomes': 'metagenome','methylated': 'methylate','microbiol': 'microbial','minima': 'minimal','minimise': 'minimize','mobilisation': 'mobilization','modeller': 'modeler','modelling': 'modeling','modulatory': 'modulator','moleculare': 'molecular','monocytes': 'monocyte','morbidit': 'morbidity','multinomialq': 'multinomial','multiplexe': 'multiplex','multiplexed': 'multiplex','nanoparticles': 'nanoparticle','naïve': 'naive','neat1': 'neat','neighbour': 'neighbor','neighbourhood': 'neighborhood','neighbouring': 'neighboring','networkx': 'network','neutralisation': 'neutralization','neutralise': 'neutralize','neutraliza': 'neutralize','neutrophils': 'neutrophil','normalisation': 'normalization','normalise': 'normalize','normalised': 'normalized','notationx': 'notation','notationû': 'notation','npopulation': 'population','nucleases': 'nuclease','nucleolin': 'nucleoli','nucleoside': 'nucleotide','nucleosides': 'nucleotides','oesophagus': 'esophagus','offcial': 'official','omethyltransferases': 'omethyltransferase','oppsitely': 'oppositely','optimem': 'optimum','optimisation': 'optimization','optimise': 'optimize','organisation': 'organization','organise': 'organize','overlapa': 'overlap','overrepresente': 'overrepresented','paediatric': 'pediatric','pagel': 'page','parainfluenza3': 'parainfluenza','parameterisation': 'parameterization','parametrisation': 'parameterization','parametrise': 'parametrize','patients6': 'patients','penalise': 'penalize','peneumonia': 'pneumonia','peptidase4': 'peptidase','peroxydase': 'peroxidase','personel': 'personnel','phenylalanin': 'phenylalanine','phospho': 'phosphor','phylogenetically': 'phylogenetic','phylogenetics': 'phylogenetic','physico': 'physics','physicochemical': 'physiochemical','plateaue': 'plateau','pneumoniae': 'pneumonia','polioviruses': 'poliovirus','polymere': 'polymer','populationsṡ': 'populations','popultion': 'population','predition': 'prediction','prioritise': 'prioritize','prisma': 'prism','programme': 'programmer','promotor': 'promoter','prospero': 'prosper','protozoal': 'protozoa','provence': 'province','pselection': 'selection','punctate': 'punctuate','quencher1': 'quencher','quilty': 'guilty','radiograph': 'radiography','randomised': 'randomized','rateμ': 'rate','realisation': 'realization','realise': 'realize','reanalyse': 'reanalyze','recognise': 'recognize','recptor': 'receptor','reduc': 'reduce','refolde': 'refold','regularisation': 'regularization','regulary': 'regularly','remodeler': 'remodel','remodelling': 'remodeling','renumbere': 'renumber','replicase': 'replicate','represen': 'represent','representa': 'represent','reprograme': 'reprogram','reprograming': 'reprogramming','ressources': 'resources','restricta': 'restrict','reteste': 'retest','ribsomal': 'ribosomal','satisfie': 'satisfied','scheme1': 'scheme','scheme2': 'scheme','scientifica': 'scientific','scrutinise': 'scrutinize','sensitisation': 'sensitization','sensitise': 'sensitize','sensitised': 'sensitized','sequela': 'sequel','sequencher': 'sequencer','serie': 'series','signalling': 'signaling','simillar': 'similar','singlestranded': 'singlestrand','specialise': 'specialize','specialised': 'specialized','specically': 'specially','specrometry': 'spectrometry','spektrophotometer': 'spectrophotometer','stabilise': 'stabilize','standard8': 'standard','standardise': 'standardize','standardised': 'standardized','statiscical': 'statistical','statistially': 'statistically','stereotypy': 'stereotype','stimualate': 'stimulate','stirling': 'stirring','strain3': 'strain','striatum': 'stratum','studies9': 'studies','subprocesse': 'subprocess','subsampled': 'subsample','subspecie': 'subspecies','suceptible': 'susceptible','summarise': 'summarize','superpositione': 'superposition','sympatry': 'sympathy','synchronise': 'synchronize','syndrom': 'syndrome','synthesise': 'synthesize','syringae': 'syringe','tetherin': 'tethering','therminator': 'terminator','thresholde': 'threshold','timeω': 'time','tlymphocyte': 'lymphocyte','transduce': 'transducer','transduced': 'transducer','transducer': 'transduce','transfect': 'transfection','transfectants': 'transfectant','transfected': 'transfection','transfecting': 'transfection','transfections': 'transfection','transferases': 'transferase','transferrable': 'transferable','transferrin': 'transferring','transferrins': 'transferring','translocations': 'translocation','transmid': 'transmit','transmsission': 'transmission','traveller': 'traveler','travelling': 'traveling','treshold': 'threshold','tryple': 'triple','tubercolosis': 'tuberculosis','tumour': 'tumor','unappreciate': 'unappreciated','unassemble': 'unassembled','uncoate': 'uncoated','underle': 'underlie','underpowere': 'underpowered','underreporte': 'underreported','undiagnose': 'undiagnosed','unlabelled': 'unlabeled','unpaire': 'unpaired','unrecognised': 'unrecognized','unsupervise': 'unsupervised','upregulated': 'upregulate','upregulates': 'upregulate','upregulations': 'upregulate','urbanisation': 'urbanization','usingñ': 'use','using': 'use', 'utilisation': 'utilization','utilise': 'utilize','vaccinees': 'vaccinee','ventilatory': 'ventilator','viremic': 'viremia','virions': 'virion','virus1': 'virus','viruse': 'virus','viruses3': 'viruses','visualisation': 'visualization','visualise': 'visualize','vitros': 'vitro','wellcome': 'welcome','wildtypes': 'wildtype','µorder': 'order','µslide': 'slide','δpressure': 'pressure', 'studies': 'study'}\n"
   ]
  },
  {
   "cell_type": "markdown",
   "metadata": {},
   "source": [
    "### NLTK processing"
   ]
  },
  {
   "cell_type": "markdown",
   "metadata": {},
   "source": [
    "Previously I defined a function for Spacy specific preprocessing. This one is for NLTK specific pre-processing. So why do another? Because Spacy lemmatizes well, but it also seems to think too many words are just fine. I think because it uses some vocabulary from large-scale web-scraping. And the internet contains all sorts of weird acronyms and spellings.. So I use also NLTK, which is based on more \"rigorous\" English texts to also identify \"unknown\" words to store and present later. For example, for collecting domain specific words and to identify misspellings.\n",
    "\n",
    "... And for now I disabled Spacy so this is it."
   ]
  },
  {
   "cell_type": "markdown",
   "metadata": {},
   "source": [
    "is_numeric() is Python string function to check if string is numeric. Here I just test it before using it:"
   ]
  },
  {
   "cell_type": "code",
   "execution_count": 43,
   "metadata": {},
   "outputs": [
    {
     "data": {
      "text/plain": [
       "True"
      ]
     },
     "execution_count": 43,
     "metadata": {},
     "output_type": "execute_result"
    }
   ],
   "source": [
    "\"10\".isnumeric()"
   ]
  },
  {
   "cell_type": "code",
   "execution_count": 44,
   "metadata": {},
   "outputs": [],
   "source": [
    "stop_words = set(stopwords.words('english'))\n",
    "stop_words.update([\"et\", \"al\", \"fig\", \"eg\", \"ie\", \"2′\", \"usepackage\", \"setlength\", \"also\", \"may\", \"figure\", \"one\", \"two\", \"new\", \"however\"])\n",
    "#stop_words"
   ]
  },
  {
   "cell_type": "markdown",
   "metadata": {},
   "source": [
    "The translator is to remove punctunation (and any other chars we might want to add to replace_chars)."
   ]
  },
  {
   "cell_type": "code",
   "execution_count": 45,
   "metadata": {},
   "outputs": [
    {
     "data": {
      "text/plain": [
       "'!\"#$%&\\'()*+,-./:;<=>?@[\\\\]^_`{|}~'"
      ]
     },
     "execution_count": 45,
     "metadata": {},
     "output_type": "execute_result"
    }
   ],
   "source": [
    "replace_chars = string.punctuation#.replace(\"_\", \"\")\n",
    "translator = str.maketrans('', '', replace_chars)\n",
    "replace_chars"
   ]
  },
  {
   "cell_type": "code",
   "execution_count": 46,
   "metadata": {},
   "outputs": [
    {
     "data": {
      "text/plain": [
       "'wa'"
      ]
     },
     "execution_count": 46,
     "metadata": {},
     "output_type": "execute_result"
    }
   ],
   "source": [
    "lemmatizer = nltk.stem.WordNetLemmatizer()\n",
    "lemmatizer.lemmatize(\"was\")"
   ]
  },
  {
   "cell_type": "code",
   "execution_count": 47,
   "metadata": {},
   "outputs": [],
   "source": [
    "from nltk.tokenize import sent_tokenize, word_tokenize\n",
    "\n",
    "def nltk_process(docs):\n",
    "    print(\"nltk process..\")\n",
    "    lemmatizer = nltk.stem.WordNetLemmatizer()\n",
    "    nltk_paragraph_tokens = []\n",
    "    #count how many times each recognized word occurs\n",
    "    known_words_e = collections.Counter()\n",
    "    #count how many times each unrecognized word occurs. good for looking for typos and domain words by frequency\n",
    "    unknown_words_e = collections.Counter()\n",
    "\n",
    "    with tqdm(total=len(docs)) as pbar:\n",
    "        print(\".\", end=\"\")\n",
    "        for doc in docs:\n",
    "            doc_tokens = []\n",
    "            #go through the previously Spacy preprocessed words\n",
    "#            for spacy_paragraph in doc.processed_spacy_paragraphs:\n",
    "            for paragraph in doc.processed_paragraphs:\n",
    "                processed_nltk_paragraph = []\n",
    "                paragraph_token = word_tokenize(paragraph)\n",
    "\n",
    "                for token in paragraph_token:\n",
    "                    #remove special chars as defined before (the \"translator\" variable)\n",
    "                    token = token.translate(translator)\n",
    "                    token = token.strip()\n",
    "                    if token in stop_words:\n",
    "                        #check words here before NLTK \"lemmatizes\" some of them, such as was->wa or has->ha\n",
    "                        continue\n",
    "                    token = lemmatizer.lemmatize(token)\n",
    "                    #replace using my custom mapping where applicable\n",
    "                    if token in replacements:\n",
    "                        token = replacements[token]\n",
    "                    if token in stop_words:\n",
    "                        #check stop words here a second time, just to be sure...\n",
    "                        continue\n",
    "                    if len(token) <= 1:\n",
    "                        #drop single letters and empty words\n",
    "                        continue\n",
    "                    if token.isnumeric():\n",
    "                        continue\n",
    "                    #d is the dictionary defined before, so check if the dictionary knows about it\n",
    "                    if not d.check(token):\n",
    "                        unknown_words_e[token] += 1\n",
    "                    else:\n",
    "                        known_words_e[token] += 1\n",
    "\n",
    "                    processed_nltk_paragraph.append(token)\n",
    "                doc_tokens.append(processed_nltk_paragraph)\n",
    "            nltk_paragraph_tokens.append(doc_tokens)\n",
    "            del doc.processed_paragraphs\n",
    "            #del doc.processed_spacy_paragraphs\n",
    "            pbar.update(1)\n",
    "    return nltk_paragraph_tokens, known_words_e, unknown_words_e"
   ]
  },
  {
   "cell_type": "code",
   "execution_count": 48,
   "metadata": {},
   "outputs": [
    {
     "data": {
      "text/plain": [
       "'child'"
      ]
     },
     "execution_count": 48,
     "metadata": {},
     "output_type": "execute_result"
    }
   ],
   "source": [
    "nltk.stem.WordNetLemmatizer().lemmatize('children')"
   ]
  },
  {
   "cell_type": "code",
   "execution_count": 49,
   "metadata": {},
   "outputs": [],
   "source": [
    "# few words I looked up from the first docs I processed:\n",
    "#anti-203 = anti campaign for proposal 203 for marihuana?\n",
    "# hbss = sickle hemoglobin ?\n",
    "# qpcr = Real-time polymerase chain reaction\n",
    "#impinger = tool for airborne sampling\n",
    "# trizol = TRIzol is a chemical solution used in the extraction of DNA, RNA, and proteins from cells. ( wikipedia )"
   ]
  },
  {
   "cell_type": "markdown",
   "metadata": {},
   "source": [
    "## N-Grams"
   ]
  },
  {
   "cell_type": "markdown",
   "metadata": {},
   "source": [
    "NLTK based function to show most common ngrams, used it for basic data exploration:"
   ]
  },
  {
   "cell_type": "code",
   "execution_count": 50,
   "metadata": {},
   "outputs": [],
   "source": [
    "def show_top_ngrams(tokens, top_size, *ns):\n",
    "    for n in ns:\n",
    "        print()\n",
    "        print(f\"{n}-GRAMS:\")\n",
    "        ng = ngrams(tokens, n)\n",
    "        ngram_freq = collections.Counter(ng)\n",
    "        for line in ngram_freq.most_common(top_size):\n",
    "            print(f\"{line[1]}: {line[0]}\")\n",
    " "
   ]
  },
  {
   "cell_type": "code",
   "execution_count": 51,
   "metadata": {},
   "outputs": [],
   "source": [
    "#ptfe = Polytetrafluoroethylene\n",
    "#pvc = Polyvinyl chloride\n",
    "#skc biosampler = https://skcltd.com/products2/bioaerosol-sampling/biosampler.html"
   ]
  },
  {
   "cell_type": "markdown",
   "metadata": {},
   "source": [
    "Gensim bigrams, trigrams, and practically quad-grams:"
   ]
  },
  {
   "cell_type": "code",
   "execution_count": 52,
   "metadata": {},
   "outputs": [],
   "source": [
    "from gensim.models import Phrases\n",
    "import gensim\n",
    "import os\n",
    "import json\n",
    "\n",
    "#https://stackoverflow.com/questions/53694381/print-bigrams-learned-with-gensim\n",
    "#https://datascience.stackexchange.com/questions/25524/how-does-phrases-in-gensim-work\n",
    "\n",
    "def create_gensim_ngram_models(params):\n",
    "    filetypes, paragraph_lists, filenames, doc_ids = params\n",
    "    tokens = []\n",
    "    total_paragraphs = 0\n",
    "    for paragraph_list in paragraph_lists:\n",
    "        tokens.extend(paragraph_list)\n",
    "        total_paragraphs += len(paragraph_list)\n",
    "        \n",
    "    print(\"creating bigram\")\n",
    "    bigram = Phrases(tokens, min_count=5, threshold=100)\n",
    "    print(\"creating trigram\")\n",
    "    trigram = Phrases(bigram[tokens], threshold=100)\n",
    "    print(\"creating bigram-model\")\n",
    "    bigram_mod = gensim.models.phrases.Phraser(bigram) \n",
    "    print(\"creating trigram-model\")\n",
    "    trigram_mod = gensim.models.phrases.Phraser(trigram)\n",
    "\n",
    "    print(\"processing docs\")\n",
    "    for idx, paragraph_list in enumerate(tqdm(paragraph_lists)):\n",
    "        paragraph_tokens = []\n",
    "        paragraph_tokens_extended = []\n",
    "        for paragraph in paragraph_list:\n",
    "            gensim_tokens = trigram_mod[bigram_mod[paragraph]]\n",
    "            extended = []\n",
    "            for gensim_token in gensim_tokens:\n",
    "                extended.append(gensim_token)\n",
    "                if \"_\" in gensim_token:\n",
    "                    extended.extend(gensim_token.split(\"_\"))\n",
    "            paragraph_tokens.append(gensim_tokens)\n",
    "            paragraph_tokens_extended.append(extended)\n",
    "            del paragraph\n",
    "\n",
    "        doc_id = doc_ids[idx]\n",
    "        filetype = filetypes[idx]\n",
    "        filename = os.path.basename(f\"{filenames[idx]}\")\n",
    "        filename = os.path.splitext(f\"{filename}\")[0]\n",
    "        \n",
    "        doc = doc_id+\"\\n\"\n",
    "        doc_json_list = []\n",
    "        for paragraph in paragraph_tokens:\n",
    "            doc += \" \"+\" \".join(paragraph)\n",
    "            doc_json_list.append({\"text\": paragraph})\n",
    "        doc_json = {\"doc_id\": doc_id, \"body_text\": doc_json_list}\n",
    "        \n",
    "        whole_filename = f'output/whole/{filetype}/{filename}.txt'\n",
    "        paragraph_filename = f'output/paragraphs/{filetype}/{filename}.json'\n",
    "        os.makedirs(os.path.dirname(whole_filename), exist_ok=True)\n",
    "        os.makedirs(os.path.dirname(paragraph_filename), exist_ok=True)\n",
    "        with open(whole_filename, 'w') as f:\n",
    "            f.write(f\"{doc}\\n\")\n",
    "        with open(paragraph_filename, 'w') as f:\n",
    "            json.dump(doc_json, f, indent=4)\n",
    "            \n",
    "        del paragraph_list\n",
    "        del paragraph_tokens\n",
    "        del paragraph_tokens_extended\n",
    "        del doc\n",
    "        del doc_json\n",
    "        del doc_json_list\n",
    "    return #gensim_doc_tokens, gensim_doc_tokens_extended\n",
    "\n",
    "def no_pool_gensim(filetypes, paragraphs, filenames, doc_ids):\n",
    "    params = (filetypes, paragraphs, filenames, doc_ids)\n",
    "    return create_gensim_ngram_models(params)\n",
    "\n",
    "def pool_gensim(filetypes, paragraphs, filenames, doc_ids):\n",
    "    pool_data = (filetypes, paragraphs, filenames, doc_ids)\n",
    "    with Pool(processes=1) as pool:\n",
    "        result = pool.map(create_gensim_ngram_models, [pool_data])\n",
    "        #gensim_doc_tokens, gensim_doc_tokens_extended = result[0]\n",
    "        pool.terminate()\n",
    "        pool.close()\n",
    "        pool.join()\n",
    "    return #gensim_doc_tokens, gensim_doc_tokens_extended\n",
    "\n"
   ]
  },
  {
   "cell_type": "markdown",
   "metadata": {},
   "source": [
    "## Multi-processing over the documents with above functions"
   ]
  },
  {
   "cell_type": "markdown",
   "metadata": {},
   "source": [
    "Now to use multi-processing to process the docs in different parts. Good thing is that it runs in separate processes, so when the processes finish they are terminated and all memory released. Otherwise memory control in Python is quite a challenge (well, it still seems to be a challenge, but maybe this helps..):"
   ]
  },
  {
   "cell_type": "code",
   "execution_count": 53,
   "metadata": {},
   "outputs": [],
   "source": [
    "from multiprocessing import Pool\n",
    "import psutil\n",
    "\n",
    "def process_map_slice(idx_slice):\n",
    "    idx = idx_slice[0]\n",
    "    print(f\"processing slice {idx}\")\n",
    "    docs = idx_slice[1]\n",
    "    print(f\"processing slice {idx}: process_docs {len(docs)}\")\n",
    "    url_counts = process_docs(docs)\n",
    "    docs = [doc for doc in docs if doc.lang == \"en\"]\n",
    "    #disabled spacy processing due to memory issues. it was a bit slow too for this purpose\n",
    "    #print(f\"processing slice {idx}: spacy_process\")\n",
    "    #nlp = idx_slice[2]\n",
    "    #spacy_process(docs, nlp)\n",
    "    print(f\"processing slice {idx}: nltk_process\")\n",
    "    processed_nltk_paragraphs, known_words_e, unknown_words_e = nltk_process(docs)\n",
    "    doc_ids = [doc.doc_id for doc in docs]\n",
    "    filepaths = [doc.filepath for doc in docs]\n",
    "    del docs\n",
    "    del idx_slice\n",
    "    print(f\"processing slice {idx}: done\")\n",
    "    return (idx, processed_nltk_paragraphs, known_words_e, unknown_words_e, url_counts, doc_ids, filepaths)\n",
    "\n",
    "def map_reduce(docs_to_process):\n",
    "    #split the given docs to CORES number of subsets so can spawn a process per core to process the subset\n",
    "    slice_list = np.array_split(docs_to_process, CORES)\n",
    "    processed_nltk_paragraphs = []\n",
    "    #track recognized words for later checking against unrecognized (by dictionary check)\n",
    "    #helpful for fixing common typos etc\n",
    "    known_words_e = collections.Counter()\n",
    "    unknown_words_e = collections.Counter()\n",
    "    url_counts = collections.Counter()\n",
    "    doc_ids = []\n",
    "    filepaths = []\n",
    "    print(\"creating pool\")\n",
    "    with Pool(processes=CORES) as pool:\n",
    "        import gc\n",
    "        gc.collect()\n",
    "        idx_slices = []\n",
    "        for idx, doc_slice in enumerate(slice_list):\n",
    "            idx_slices.append((idx, doc_slice))\n",
    "        results = pool.map(process_map_slice, idx_slices)\n",
    "        pool.terminate()\n",
    "        pool.close()\n",
    "        pool.join()\n",
    "        del pool\n",
    "        print(\"pool finished\")\n",
    "        del doc_slice\n",
    "        del slice_list\n",
    "        del idx_slices\n",
    "    results.sort(key=lambda tup: tup[0])\n",
    "    prev_idx = -1\n",
    "    print(\"starting merge\")\n",
    "    #print(psutil.virtual_memory())\n",
    "    for result in results:\n",
    "        idx_slice, processed_nltk_paragraphs2, known_words_e_2, unknown_words_e_2, url_counts_2, doc_ids_2, filepaths_2 = result            \n",
    "        assert idx_slice > prev_idx, f\"Prev must be < current: {prev_idx} < {idx_slice} fails\"\n",
    "        prev_idx = idx_slice\n",
    "        processed_nltk_paragraphs.extend(processed_nltk_paragraphs2)\n",
    "        known_words_e += known_words_e_2\n",
    "        unknown_words_e += unknown_words_e_2\n",
    "        url_counts += url_counts_2\n",
    "        doc_ids.extend(doc_ids_2)\n",
    "        filepaths.extend(filepaths_2)\n",
    "        del processed_nltk_paragraphs2\n",
    "        del known_words_e_2\n",
    "        del unknown_words_e_2\n",
    "        del url_counts_2\n",
    "        del result\n",
    "    del results\n",
    "    #filepaths = [doc.filepath for doc in docs_to_process]\n",
    "    del docs_to_process\n",
    "    print(\"finished map-reduce\")\n",
    "    print(psutil.virtual_memory())\n",
    "    return processed_nltk_paragraphs, known_words_e, unknown_words_e, url_counts, filepaths, doc_ids\n"
   ]
  },
  {
   "cell_type": "code",
   "execution_count": 54,
   "metadata": {},
   "outputs": [],
   "source": [
    "#!cat /kaggle/input/CORD-19-research-challenge/biorxiv_medrxiv/biorxiv_medrxiv/pdf_json/0a43046c154d0e521a6c425df215d90f3c62681e.json"
   ]
  },
  {
   "cell_type": "code",
   "execution_count": 55,
   "metadata": {},
   "outputs": [
    {
     "data": {
      "text/plain": [
       "(700, 10, 10)"
      ]
     },
     "execution_count": 55,
     "metadata": {},
     "output_type": "execute_result"
    }
   ],
   "source": [
    "import gc\n",
    "\n",
    "gc.get_threshold()"
   ]
  },
  {
   "cell_type": "code",
   "execution_count": 56,
   "metadata": {},
   "outputs": [],
   "source": [
    "import random\n",
    "\n",
    "#some of the article sets contain longer docs, we want to process in parallel so make sure every process gets different lengths by shuffling the list\n",
    "random.shuffle(all_docs)\n",
    "\n",
    "#results = map_reduce(all_docs)\n",
    "#processed_nltk_paragraphs, known_words_e, unknown_words_e, url_counts, all_filenames = results"
   ]
  },
  {
   "cell_type": "markdown",
   "metadata": {},
   "source": [
    "Split the data into N subsets and run in separate multiprocessing Pool sessions. I tried to save memory with this but Spacy kept eating it all up. After removing Spacy I can easily process everything at once, so this loop is not really needed but leaving it here if need it later."
   ]
  },
  {
   "cell_type": "code",
   "execution_count": 57,
   "metadata": {},
   "outputs": [
    {
     "name": "stdout",
     "output_type": "stream",
     "text": [
      "creating pool\n",
      "processing slice 0\n",
      "processing slice 0: process_docs 10849\n",
      "starting process_docs for 10849 docs\n"
     ]
    },
    {
     "data": {
      "application/vnd.jupyter.widget-view+json": {
       "model_id": "66ab25dc3a65416eb66fa595143c259c",
       "version_major": 2,
       "version_minor": 0
      },
      "text/plain": [
       "HBox(children=(FloatProgress(value=0.0, max=10849.0), HTML(value='')))"
      ]
     },
     "metadata": {},
     "output_type": "display_data"
    },
    {
     "name": "stdout",
     "output_type": "stream",
     "text": [
      "processing slice 1\n",
      "processing slice 1: process_docs 10849\n",
      "starting process_docs for 10849 docs\n"
     ]
    },
    {
     "data": {
      "application/vnd.jupyter.widget-view+json": {
       "model_id": "683776d4f5db4d1780700d36b7997ba5",
       "version_major": 2,
       "version_minor": 0
      },
      "text/plain": [
       "HBox(children=(FloatProgress(value=0.0, max=10849.0), HTML(value='')))"
      ]
     },
     "metadata": {},
     "output_type": "display_data"
    },
    {
     "name": "stdout",
     "output_type": "stream",
     "text": [
      "processing slice 2\n",
      "processing slice 2: process_docs 10849\n",
      "starting process_docs for 10849 docs\n"
     ]
    },
    {
     "data": {
      "application/vnd.jupyter.widget-view+json": {
       "model_id": "add889221ed04498a26ee6d1f84b3a4e",
       "version_major": 2,
       "version_minor": 0
      },
      "text/plain": [
       "HBox(children=(FloatProgress(value=0.0, max=10849.0), HTML(value='')))"
      ]
     },
     "metadata": {},
     "output_type": "display_data"
    },
    {
     "name": "stdout",
     "output_type": "stream",
     "text": [
      "processing slice 3\n",
      "processing slice 3: process_docs 10848\n",
      "starting process_docs for 10848 docs\n"
     ]
    },
    {
     "data": {
      "application/vnd.jupyter.widget-view+json": {
       "model_id": "d98f5f7e65e94ce2b71c159f45cc11cb",
       "version_major": 2,
       "version_minor": 0
      },
      "text/plain": [
       "HBox(children=(FloatProgress(value=0.0, max=10848.0), HTML(value='')))"
      ]
     },
     "metadata": {},
     "output_type": "display_data"
    }
   ],
   "source": [
    "memory_saving_list = np.array_split(all_docs, 1)\n",
    "#memory_saving_list = [all_docs]\n",
    "file_types = [doc.file_type for doc in all_docs]\n",
    "#doc_ids = [doc.doc_id for doc in all_docs]\n",
    "\n",
    "processed_nltk_paragraphs = []\n",
    "known_words_e = collections.Counter()\n",
    "unknown_words_e = collections.Counter()\n",
    "url_counts = collections.Counter()\n",
    "filepaths = []\n",
    "doc_ids = []\n",
    "for doc_list in memory_saving_list:\n",
    "#    doc_list = doc_list[:100]\n",
    "    processed_nltk_paragraphs_2, known_words_e_2, unknown_words_e_2, url_counts_2, filepaths_2, doc_ids_2 = map_reduce(doc_list)\n",
    "    processed_nltk_paragraphs.extend(processed_nltk_paragraphs_2)\n",
    "    known_words_e += known_words_e_2\n",
    "    unknown_words_e += unknown_words_e_2\n",
    "    url_counts += url_counts_2\n",
    "    filepaths.extend(filepaths_2)\n",
    "    doc_ids.extend(doc_ids_2)\n",
    "    for doc in doc_list:\n",
    "        del doc\n",
    "    del doc_list\n",
    "    #break\n",
    "\n",
    "del processed_nltk_paragraphs_2\n",
    "del known_words_e_2\n",
    "del unknown_words_e_2\n",
    "del url_counts_2    \n",
    "\n",
    "del memory_saving_list\n",
    "#del all_docs\n"
   ]
  },
  {
   "cell_type": "code",
   "execution_count": 58,
   "metadata": {},
   "outputs": [
    {
     "data": {
      "text/plain": [
       "'7dabfpql'"
      ]
     },
     "execution_count": 58,
     "metadata": {},
     "output_type": "execute_result"
    }
   ],
   "source": [
    "doc_ids[0]"
   ]
  },
  {
   "cell_type": "code",
   "execution_count": 59,
   "metadata": {},
   "outputs": [],
   "source": [
    "#processed_nltk_paragraphs[0]"
   ]
  },
  {
   "cell_type": "code",
   "execution_count": 60,
   "metadata": {},
   "outputs": [],
   "source": [
    "filetypes = file_types"
   ]
  },
  {
   "cell_type": "markdown",
   "metadata": {},
   "source": [
    "## Look at common, infrequent, and unknown words and their relations"
   ]
  },
  {
   "cell_type": "markdown",
   "metadata": {},
   "source": [
    "The following could be used to show that plain bi-grams from unprocessed text are quite the garbase. So this is why I run bigrams later on full pre-processed et, to get better/cleaner results."
   ]
  },
  {
   "cell_type": "code",
   "execution_count": 61,
   "metadata": {},
   "outputs": [],
   "source": [
    "#show_nltk_bigrams_for(all_docs)"
   ]
  },
  {
   "cell_type": "markdown",
   "metadata": {},
   "source": [
    "Check some most common words and their closes matches:"
   ]
  },
  {
   "cell_type": "code",
   "execution_count": 62,
   "metadata": {},
   "outputs": [
    {
     "data": {
      "text/plain": [
       "[('rna', 192865),\n",
       " ('dna', 110779),\n",
       " ('pcr', 84710),\n",
       " ('le', 83458),\n",
       " ('coronavirus', 79638),\n",
       " ('sars', 70504),\n",
       " ('usa', 52511),\n",
       " ('mrna', 51601),\n",
       " ('cytokine', 50604),\n",
       " ('sarscov', 49751),\n",
       " ('covid19', 45497),\n",
       " ('rsv', 43019),\n",
       " ('hiv', 42481),\n",
       " ('ph', 40761),\n",
       " ('merscov', 39939),\n",
       " ('andor', 37951),\n",
       " ('igg', 35010),\n",
       " ('pb', 32991),\n",
       " ('epitope', 32192),\n",
       " ('healthcare', 30751)]"
      ]
     },
     "execution_count": 62,
     "metadata": {},
     "output_type": "execute_result"
    }
   ],
   "source": [
    "unknown_words_e.most_common()[:20]"
   ]
  },
  {
   "cell_type": "markdown",
   "metadata": {},
   "source": [
    "Write list of unknown words to file, in order of most frequent. Can check for common typos later to add to replacement list."
   ]
  },
  {
   "cell_type": "code",
   "execution_count": 63,
   "metadata": {},
   "outputs": [],
   "source": [
    "from operator import itemgetter\n",
    "#https://stackoverflow.com/questions/17243620/operator-itemgetter-or-lambda/17243726#17243726\n",
    "\n",
    "unknown_list = list(unknown_words_e.items())\n",
    "unknown_list.sort(key=itemgetter(1), reverse=True)\n",
    "unknown_str = \"\"\n",
    "for unknown in unknown_list:\n",
    "    unknown_str += f\"{unknown[0]}: {unknown[1]}\\n\"\n",
    "with open(f'output/unknown.txt', 'w') as f:\n",
    "    f.write(unknown_str)"
   ]
  },
  {
   "cell_type": "code",
   "execution_count": 64,
   "metadata": {},
   "outputs": [
    {
     "name": "stdout",
     "output_type": "stream",
     "text": [
      "total 24104\r\n",
      "-rw-r--r-- 1 root root 24679203 Apr 25 09:54 unknown.txt\r\n"
     ]
    }
   ],
   "source": [
    "!ls -l output"
   ]
  },
  {
   "cell_type": "code",
   "execution_count": 65,
   "metadata": {},
   "outputs": [
    {
     "name": "stdout",
     "output_type": "stream",
     "text": [
      "Filesystem      Size  Used Avail Use% Mounted on\r\n",
      "/dev/loop1      4.9G   45M  4.8G   1% /kaggle/working\r\n"
     ]
    }
   ],
   "source": [
    "!df -h ."
   ]
  },
  {
   "cell_type": "code",
   "execution_count": 66,
   "metadata": {},
   "outputs": [],
   "source": [
    "#unknown_list"
   ]
  },
  {
   "cell_type": "markdown",
   "metadata": {},
   "source": [
    "Create a list of infrequent words to remove, and a list of words to check for spelling:"
   ]
  },
  {
   "cell_type": "code",
   "execution_count": 67,
   "metadata": {},
   "outputs": [],
   "source": [
    "def test_remove_threshold(n, counter):\n",
    "    count_kept = 0\n",
    "    count_removed = 0\n",
    "    for word_count in reversed(counter.most_common()):\n",
    "        if word_count[1] > n:\n",
    "            #if more than N instances of word, do not remove but check later\n",
    "            count_kept += 1\n",
    "            continue\n",
    "        count_removed += 1\n",
    "    return count_kept, count_removed\n"
   ]
  },
  {
   "cell_type": "code",
   "execution_count": 68,
   "metadata": {},
   "outputs": [
    {
     "data": {
      "text/plain": [
       "<matplotlib.axes._subplots.AxesSubplot at 0x7f7081a6bbe0>"
      ]
     },
     "execution_count": 68,
     "metadata": {},
     "output_type": "execute_result"
    },
    {
     "data": {
      "image/png": "[encoded data removed]",
      "text/plain": [
       "<Figure size 432x288 with 1 Axes>"
      ]
     },
     "metadata": {
      "needs_background": "light"
     },
     "output_type": "display_data"
    }
   ],
   "source": [
    "list_kept = []\n",
    "list_removed = []\n",
    "for x in range(0, 50):\n",
    "    count_kept, count_removed = test_remove_threshold(x, unknown_words_e)\n",
    "    list_kept.append(count_kept)\n",
    "    list_removed.append(count_removed)\n",
    "df = pd.DataFrame()\n",
    "df[\"kept\"] = list_kept\n",
    "df[\"removed\"] = list_removed\n",
    "df.plot()\n"
   ]
  },
  {
   "cell_type": "markdown",
   "metadata": {},
   "source": [
    "The above graph and the table below illustrate how a large number of very infrequent words exist in this corpus. Most of these actually only found once in all the documents. Likely some processing artefacts or other errors."
   ]
  },
  {
   "cell_type": "code",
   "execution_count": 69,
   "metadata": {},
   "outputs": [
    {
     "data": {
      "text/html": [
       "<div>\n",
       "<style scoped>\n",
       "    .dataframe tbody tr th:only-of-type {\n",
       "        vertical-align: middle;\n",
       "    }\n",
       "\n",
       "    .dataframe tbody tr th {\n",
       "        vertical-align: top;\n",
       "    }\n",
       "\n",
       "    .dataframe thead th {\n",
       "        text-align: right;\n",
       "    }\n",
       "</style>\n",
       "<table border=\"1\" class=\"dataframe\">\n",
       "  <thead>\n",
       "    <tr style=\"text-align: right;\">\n",
       "      <th></th>\n",
       "      <th>kept</th>\n",
       "      <th>removed</th>\n",
       "    </tr>\n",
       "  </thead>\n",
       "  <tbody>\n",
       "    <tr>\n",
       "      <th>0</th>\n",
       "      <td>1629104</td>\n",
       "      <td>0</td>\n",
       "    </tr>\n",
       "    <tr>\n",
       "      <th>1</th>\n",
       "      <td>633171</td>\n",
       "      <td>995933</td>\n",
       "    </tr>\n",
       "    <tr>\n",
       "      <th>2</th>\n",
       "      <td>416177</td>\n",
       "      <td>1212927</td>\n",
       "    </tr>\n",
       "    <tr>\n",
       "      <th>3</th>\n",
       "      <td>319974</td>\n",
       "      <td>1309130</td>\n",
       "    </tr>\n",
       "    <tr>\n",
       "      <th>4</th>\n",
       "      <td>262701</td>\n",
       "      <td>1366403</td>\n",
       "    </tr>\n",
       "    <tr>\n",
       "      <th>5</th>\n",
       "      <td>224953</td>\n",
       "      <td>1404151</td>\n",
       "    </tr>\n",
       "    <tr>\n",
       "      <th>6</th>\n",
       "      <td>197112</td>\n",
       "      <td>1431992</td>\n",
       "    </tr>\n",
       "    <tr>\n",
       "      <th>7</th>\n",
       "      <td>176390</td>\n",
       "      <td>1452714</td>\n",
       "    </tr>\n",
       "    <tr>\n",
       "      <th>8</th>\n",
       "      <td>159914</td>\n",
       "      <td>1469190</td>\n",
       "    </tr>\n",
       "    <tr>\n",
       "      <th>9</th>\n",
       "      <td>146435</td>\n",
       "      <td>1482669</td>\n",
       "    </tr>\n",
       "    <tr>\n",
       "      <th>10</th>\n",
       "      <td>135139</td>\n",
       "      <td>1493965</td>\n",
       "    </tr>\n",
       "    <tr>\n",
       "      <th>11</th>\n",
       "      <td>125557</td>\n",
       "      <td>1503547</td>\n",
       "    </tr>\n",
       "    <tr>\n",
       "      <th>12</th>\n",
       "      <td>117508</td>\n",
       "      <td>1511596</td>\n",
       "    </tr>\n",
       "    <tr>\n",
       "      <th>13</th>\n",
       "      <td>110523</td>\n",
       "      <td>1518581</td>\n",
       "    </tr>\n",
       "    <tr>\n",
       "      <th>14</th>\n",
       "      <td>104359</td>\n",
       "      <td>1524745</td>\n",
       "    </tr>\n",
       "    <tr>\n",
       "      <th>15</th>\n",
       "      <td>98946</td>\n",
       "      <td>1530158</td>\n",
       "    </tr>\n",
       "    <tr>\n",
       "      <th>16</th>\n",
       "      <td>94218</td>\n",
       "      <td>1534886</td>\n",
       "    </tr>\n",
       "    <tr>\n",
       "      <th>17</th>\n",
       "      <td>89893</td>\n",
       "      <td>1539211</td>\n",
       "    </tr>\n",
       "    <tr>\n",
       "      <th>18</th>\n",
       "      <td>85937</td>\n",
       "      <td>1543167</td>\n",
       "    </tr>\n",
       "    <tr>\n",
       "      <th>19</th>\n",
       "      <td>82324</td>\n",
       "      <td>1546780</td>\n",
       "    </tr>\n",
       "    <tr>\n",
       "      <th>20</th>\n",
       "      <td>78960</td>\n",
       "      <td>1550144</td>\n",
       "    </tr>\n",
       "    <tr>\n",
       "      <th>21</th>\n",
       "      <td>76064</td>\n",
       "      <td>1553040</td>\n",
       "    </tr>\n",
       "    <tr>\n",
       "      <th>22</th>\n",
       "      <td>73320</td>\n",
       "      <td>1555784</td>\n",
       "    </tr>\n",
       "    <tr>\n",
       "      <th>23</th>\n",
       "      <td>70744</td>\n",
       "      <td>1558360</td>\n",
       "    </tr>\n",
       "    <tr>\n",
       "      <th>24</th>\n",
       "      <td>68310</td>\n",
       "      <td>1560794</td>\n",
       "    </tr>\n",
       "    <tr>\n",
       "      <th>25</th>\n",
       "      <td>66124</td>\n",
       "      <td>1562980</td>\n",
       "    </tr>\n",
       "    <tr>\n",
       "      <th>26</th>\n",
       "      <td>64031</td>\n",
       "      <td>1565073</td>\n",
       "    </tr>\n",
       "    <tr>\n",
       "      <th>27</th>\n",
       "      <td>62214</td>\n",
       "      <td>1566890</td>\n",
       "    </tr>\n",
       "    <tr>\n",
       "      <th>28</th>\n",
       "      <td>60465</td>\n",
       "      <td>1568639</td>\n",
       "    </tr>\n",
       "    <tr>\n",
       "      <th>29</th>\n",
       "      <td>58801</td>\n",
       "      <td>1570303</td>\n",
       "    </tr>\n",
       "    <tr>\n",
       "      <th>30</th>\n",
       "      <td>57160</td>\n",
       "      <td>1571944</td>\n",
       "    </tr>\n",
       "    <tr>\n",
       "      <th>31</th>\n",
       "      <td>55759</td>\n",
       "      <td>1573345</td>\n",
       "    </tr>\n",
       "    <tr>\n",
       "      <th>32</th>\n",
       "      <td>54319</td>\n",
       "      <td>1574785</td>\n",
       "    </tr>\n",
       "    <tr>\n",
       "      <th>33</th>\n",
       "      <td>53019</td>\n",
       "      <td>1576085</td>\n",
       "    </tr>\n",
       "    <tr>\n",
       "      <th>34</th>\n",
       "      <td>51841</td>\n",
       "      <td>1577263</td>\n",
       "    </tr>\n",
       "    <tr>\n",
       "      <th>35</th>\n",
       "      <td>50647</td>\n",
       "      <td>1578457</td>\n",
       "    </tr>\n",
       "    <tr>\n",
       "      <th>36</th>\n",
       "      <td>49501</td>\n",
       "      <td>1579603</td>\n",
       "    </tr>\n",
       "    <tr>\n",
       "      <th>37</th>\n",
       "      <td>48383</td>\n",
       "      <td>1580721</td>\n",
       "    </tr>\n",
       "    <tr>\n",
       "      <th>38</th>\n",
       "      <td>47324</td>\n",
       "      <td>1581780</td>\n",
       "    </tr>\n",
       "    <tr>\n",
       "      <th>39</th>\n",
       "      <td>46340</td>\n",
       "      <td>1582764</td>\n",
       "    </tr>\n",
       "    <tr>\n",
       "      <th>40</th>\n",
       "      <td>45388</td>\n",
       "      <td>1583716</td>\n",
       "    </tr>\n",
       "    <tr>\n",
       "      <th>41</th>\n",
       "      <td>44463</td>\n",
       "      <td>1584641</td>\n",
       "    </tr>\n",
       "    <tr>\n",
       "      <th>42</th>\n",
       "      <td>43623</td>\n",
       "      <td>1585481</td>\n",
       "    </tr>\n",
       "    <tr>\n",
       "      <th>43</th>\n",
       "      <td>42765</td>\n",
       "      <td>1586339</td>\n",
       "    </tr>\n",
       "    <tr>\n",
       "      <th>44</th>\n",
       "      <td>41983</td>\n",
       "      <td>1587121</td>\n",
       "    </tr>\n",
       "    <tr>\n",
       "      <th>45</th>\n",
       "      <td>41188</td>\n",
       "      <td>1587916</td>\n",
       "    </tr>\n",
       "    <tr>\n",
       "      <th>46</th>\n",
       "      <td>40503</td>\n",
       "      <td>1588601</td>\n",
       "    </tr>\n",
       "    <tr>\n",
       "      <th>47</th>\n",
       "      <td>39797</td>\n",
       "      <td>1589307</td>\n",
       "    </tr>\n",
       "    <tr>\n",
       "      <th>48</th>\n",
       "      <td>39129</td>\n",
       "      <td>1589975</td>\n",
       "    </tr>\n",
       "    <tr>\n",
       "      <th>49</th>\n",
       "      <td>38470</td>\n",
       "      <td>1590634</td>\n",
       "    </tr>\n",
       "  </tbody>\n",
       "</table>\n",
       "</div>"
      ],
      "text/plain": [
       "       kept  removed\n",
       "0   1629104        0\n",
       "1    633171   995933\n",
       "2    416177  1212927\n",
       "3    319974  1309130\n",
       "4    262701  1366403\n",
       "5    224953  1404151\n",
       "6    197112  1431992\n",
       "7    176390  1452714\n",
       "8    159914  1469190\n",
       "9    146435  1482669\n",
       "10   135139  1493965\n",
       "11   125557  1503547\n",
       "12   117508  1511596\n",
       "13   110523  1518581\n",
       "14   104359  1524745\n",
       "15    98946  1530158\n",
       "16    94218  1534886\n",
       "17    89893  1539211\n",
       "18    85937  1543167\n",
       "19    82324  1546780\n",
       "20    78960  1550144\n",
       "21    76064  1553040\n",
       "22    73320  1555784\n",
       "23    70744  1558360\n",
       "24    68310  1560794\n",
       "25    66124  1562980\n",
       "26    64031  1565073\n",
       "27    62214  1566890\n",
       "28    60465  1568639\n",
       "29    58801  1570303\n",
       "30    57160  1571944\n",
       "31    55759  1573345\n",
       "32    54319  1574785\n",
       "33    53019  1576085\n",
       "34    51841  1577263\n",
       "35    50647  1578457\n",
       "36    49501  1579603\n",
       "37    48383  1580721\n",
       "38    47324  1581780\n",
       "39    46340  1582764\n",
       "40    45388  1583716\n",
       "41    44463  1584641\n",
       "42    43623  1585481\n",
       "43    42765  1586339\n",
       "44    41983  1587121\n",
       "45    41188  1587916\n",
       "46    40503  1588601\n",
       "47    39797  1589307\n",
       "48    39129  1589975\n",
       "49    38470  1590634"
      ]
     },
     "execution_count": 69,
     "metadata": {},
     "output_type": "execute_result"
    }
   ],
   "source": [
    "pd.set_option('display.max_rows', 50)\n",
    "df"
   ]
  },
  {
   "cell_type": "markdown",
   "metadata": {},
   "source": [
    "I picked threshold of 30 to keep ~50k words and remove ~1.2M words / tokens. Well at the time of writing this anyway.. The size of the vocabulary easily multiplies the memory and processing requirements, so reasonable filtering seems useful."
   ]
  },
  {
   "cell_type": "code",
   "execution_count": 70,
   "metadata": {},
   "outputs": [
    {
     "name": "stdout",
     "output_type": "stream",
     "text": [
      "selected 1571944 unknown words for removal\n",
      "kept 57160 unknown words\n",
      "selected 8454 known words for removal\n",
      "kept 36939 known words\n"
     ]
    }
   ],
   "source": [
    "words_to_remove = set()\n",
    "words_to_check = []\n",
    "\n",
    "#TODO: test threahold values\n",
    "\n",
    "count = 0\n",
    "count2 = 0\n",
    "for word_count in reversed(unknown_words_e.most_common()):\n",
    "    if word_count[1] > 30:\n",
    "        #if more than N instances of word, do not remove but check later\n",
    "        #TODO: smaller threshold for typo check?\n",
    "        words_to_check.append(word_count)\n",
    "        count2 += 1\n",
    "        continue\n",
    "\n",
    "    words_to_remove.add(word_count[0])    \n",
    "    count += 1\n",
    "print(f\"selected {count} unknown words for removal\")\n",
    "print(f\"kept {count2} unknown words\")\n",
    "\n",
    "def remove_infrequent_known_words():\n",
    "    count = 0\n",
    "    count2 = 0\n",
    "    for word_count in reversed(known_words_e.most_common()):\n",
    "        if word_count[1] > 2:\n",
    "            #more than N instances of word, stop removing\n",
    "            count2 += 1\n",
    "            continue\n",
    "        words_to_remove.add(word_count[0])\n",
    "        count += 1\n",
    "    print(f\"selected {count} known words for removal\")\n",
    "    print(f\"kept {count2} known words\")\n",
    "\n",
    "\n",
    "    \n",
    "remove_infrequent_known_words()\n",
    "    \n",
    "words_to_check.sort(key=itemgetter(1), reverse=True)\n"
   ]
  },
  {
   "cell_type": "code",
   "execution_count": 71,
   "metadata": {},
   "outputs": [
    {
     "data": {
      "text/plain": [
       "57160"
      ]
     },
     "execution_count": 71,
     "metadata": {},
     "output_type": "execute_result"
    }
   ],
   "source": [
    "len(words_to_check)"
   ]
  },
  {
   "cell_type": "markdown",
   "metadata": {},
   "source": [
    "Remove all infrequent words:"
   ]
  },
  {
   "cell_type": "code",
   "execution_count": 72,
   "metadata": {},
   "outputs": [
    {
     "data": {
      "application/vnd.jupyter.widget-view+json": {
       "model_id": "f6b3ce8a889c4f608c97ca8c9f5d4a1d",
       "version_major": 2,
       "version_minor": 0
      },
      "text/plain": [
       "HBox(children=(FloatProgress(value=0.0, max=39957.0), HTML(value='')))"
      ]
     },
     "metadata": {},
     "output_type": "display_data"
    },
    {
     "name": "stdout",
     "output_type": "stream",
     "text": [
      "\n",
      "size before:103478347\n",
      "size after: 99292336\n",
      "reduced by: 4186011\n"
     ]
    }
   ],
   "source": [
    "size_before = 0\n",
    "size_after = 0\n",
    "new_list_list = []\n",
    "for paragraph_list in tqdm(processed_nltk_paragraphs):\n",
    "    new_list = []\n",
    "    for paragraph in paragraph_list:\n",
    "        size_before += len(paragraph)\n",
    "        new_paragraph = [token for token in paragraph if token not in words_to_remove]\n",
    "        size_after += len(new_paragraph)\n",
    "        new_list.append(new_paragraph)\n",
    "        del paragraph\n",
    "    new_list_list.append(new_list)\n",
    "\n",
    "del processed_nltk_paragraphs\n",
    "processed_nltk_paragraphs = new_list_list\n",
    "print(f\"size before:{size_before}\")\n",
    "print(f\"size after: {size_after}\")\n",
    "diff = size_before - size_after\n",
    "print(f\"reduced by: {diff}\")\n",
    "    "
   ]
  },
  {
   "cell_type": "markdown",
   "metadata": {},
   "source": [
    "### Find closest known words for unknown words"
   ]
  },
  {
   "cell_type": "markdown",
   "metadata": {},
   "source": [
    "Find closest matching words from the collected known words for each word in the list of unknown words. I use the closest matchest to check for potential common typos. More frequent typos or same thing with slightly different typing (if not a real typo, e.g., British vs US English) are most useful for unifying."
   ]
  },
  {
   "cell_type": "markdown",
   "metadata": {},
   "source": [
    "Levenshtein allows calculating word distances, so if distance is 1 keep it in a list to see if it is a type and could be added to the \"replacements\" mapping."
   ]
  },
  {
   "cell_type": "code",
   "execution_count": 73,
   "metadata": {},
   "outputs": [
    {
     "name": "stdout",
     "output_type": "stream",
     "text": [
      "Collecting weighted-levenshtein\r\n",
      "  Downloading weighted_levenshtein-0.2.1.tar.gz (129 kB)\r\n",
      "\u001b[K     |████████████████████████████████| 129 kB 4.7 MB/s \r\n",
      "\u001b[?25hBuilding wheels for collected packages: weighted-levenshtein\r\n",
      "  Building wheel for weighted-levenshtein (setup.py) ... \u001b[?25l-\b \b\\\b \b|\b \bdone\r\n",
      "\u001b[?25h  Created wheel for weighted-levenshtein: filename=weighted_levenshtein-0.2.1-cp36-cp36m-linux_x86_64.whl size=326162 sha256=1b251e6b3c51f91dddcc2494a54ec168ff667fc8336766d3502001685638f04f\r\n",
      "  Stored in directory: /root/.cache/pip/wheels/10/fe/fe/28f5d0f363045c1c9fd4e9d69990cbda2ffe23a38cb1658ab7\r\n",
      "Successfully built weighted-levenshtein\r\n",
      "Installing collected packages: weighted-levenshtein\r\n",
      "Successfully installed weighted-levenshtein-0.2.1\r\n",
      "Requirement already satisfied: python-Levenshtein in /opt/conda/lib/python3.6/site-packages/python_Levenshtein-0.12.0-py3.6-linux-x86_64.egg (0.12.0)\r\n",
      "Requirement already satisfied: setuptools in /opt/conda/lib/python3.6/site-packages (from python-Levenshtein) (45.2.0.post20200210)\r\n"
     ]
    }
   ],
   "source": [
    "!pip install weighted-levenshtein\n",
    "!pip install python-Levenshtein"
   ]
  },
  {
   "cell_type": "code",
   "execution_count": 74,
   "metadata": {},
   "outputs": [
    {
     "name": "stdout",
     "output_type": "stream",
     "text": [
      "1.0\n",
      "1\n"
     ]
    }
   ],
   "source": [
    "from weighted_levenshtein import lev, osa, dam_lev\n",
    "import Levenshtein\n",
    "\n",
    "#just to see it works\n",
    "print(lev('BANANAS', 'BANDANAS'))\n",
    "print(Levenshtein.distance(\"BANANAS\", \"BANDANAS\"))"
   ]
  },
  {
   "cell_type": "markdown",
   "metadata": {},
   "source": [
    "Perform the actual comparison unknwon vs all known words:"
   ]
  },
  {
   "cell_type": "code",
   "execution_count": 75,
   "metadata": {},
   "outputs": [],
   "source": [
    "import time\n",
    "\n",
    "def find_closest_matches(unknown_words, known_words):\n",
    "    count = 0\n",
    "    count_diff = 0\n",
    "    count_short = 0\n",
    "    count_scored = 0\n",
    "    file_str = \"\"\n",
    "    epoch_time = int(time.time()/60)\n",
    "    for unknown in tqdm(unknown_words):\n",
    "        if len(unknown[0]) < 5:\n",
    "            count_short += 1\n",
    "            #skip saving words that are shorter than 5 chars\n",
    "            continue\n",
    "#            if unknown[1] < 20:\n",
    "#                #less than 10 instances of word, stop\n",
    "#                break\n",
    "        for known in known_words:\n",
    "            unknown_word = unknown[0]\n",
    "            known_word = known\n",
    "            diff = len(unknown_word) - len(known_word)\n",
    "            diff = abs(diff)\n",
    "            if diff > 1:\n",
    "                count_diff += 1\n",
    "                continue\n",
    "            count_scored += 1\n",
    "            score = Levenshtein.distance(unknown_word, known_word)\n",
    "            if score == 1:\n",
    "                line = f\"{unknown[1]}: '{unknown[0]}': '{known}',\"\n",
    "                file_str += f\"{line}\\n\"\n",
    "                if count < 50:\n",
    "                    print(line)\n",
    "                count += 1\n",
    "    with open(f'output/closest.txt', 'w') as f:\n",
    "        f.write(file_str)\n",
    "\n",
    "    print(f\"count={count}, count_diff={count_diff}, count_short={count_short}, count_scored={count_scored}\")"
   ]
  },
  {
   "cell_type": "code",
   "execution_count": 76,
   "metadata": {},
   "outputs": [
    {
     "data": {
      "application/vnd.jupyter.widget-view+json": {
       "model_id": "ed2d797ce45147d7a7afc914df44034a",
       "version_major": 2,
       "version_minor": 0
      },
      "text/plain": [
       "HBox(children=(FloatProgress(value=0.0, max=57160.0), HTML(value='')))"
      ]
     },
     "metadata": {},
     "output_type": "display_data"
    },
    {
     "name": "stdout",
     "output_type": "stream",
     "text": [
      "50604: 'cytokine': 'cytosine',\n",
      "37951: 'andor': 'candor',\n",
      "37951: 'andor': 'ardor',\n",
      "32192: 'epitope': 'epitome',\n",
      "25692: 'virion': 'vision',\n",
      "22861: 'codon': 'colon',\n",
      "22861: 'codon': 'coon',\n",
      "22861: 'codon': 'cordon',\n",
      "21978: 'realtime': 'mealtime',\n",
      "20032: 'mucosal': 'mucosa',\n",
      "19197: 'ebola': 'bola',\n",
      "17481: 'germany': 'germane',\n",
      "15024: 'murine': 'marine',\n",
      "15024: 'murine': 'purine',\n",
      "15024: 'murine': 'urine',\n",
      "13611: 'tcell': 'tell',\n",
      "13611: 'tcell': 'cell',\n",
      "13245: 'adjuvant': 'adjutant',\n",
      "11362: 'nterminal': 'terminal',\n",
      "10923: 'cterminal': 'terminal',\n",
      "9978: 'italy': 'ital',\n",
      "9857: 'lectin': 'pectin',\n",
      "9408: 'france': 'franc',\n",
      "9408: 'france': 'trance',\n",
      "8688: 'cytotoxin': 'cytotoxic',\n",
      "8629: 'humoral': 'humeral',\n",
      "8499: 'coinfection': 'confection',\n",
      "8201: 'titre': 'title',\n",
      "8201: 'titre': 'tire',\n",
      "8201: 'titre': 'tithe',\n",
      "7957: 'clade': 'blade',\n",
      "7957: 'clade': 'clad',\n",
      "7957: 'clade': 'glade',\n",
      "7957: 'clade': 'lade',\n",
      "7957: 'clade': 'clave',\n",
      "7957: 'clade': 'clads',\n",
      "7043: 'asian': 'avian',\n",
      "6432: 'zhang': 'hang',\n",
      "5998: 'serine': 'shrine',\n",
      "5998: 'serine': 'serene',\n",
      "5998: 'serine': 'seine',\n",
      "5471: 'spain': 'pain',\n",
      "5471: 'spain': 'span',\n",
      "5471: 'spain': 'stain',\n",
      "5471: 'spain': 'spin',\n",
      "5471: 'spain': 'sprain',\n",
      "5471: 'spain': 'spawn',\n",
      "5471: 'spain': 'swain',\n",
      "5471: 'spain': 'spavin',\n",
      "5471: 'spain': 'slain',\n"
     ]
    }
   ],
   "source": [
    "find_closest_matches(words_to_check, known_words_e)\n",
    "#find_closest_matches(unknown_words_e, known_words_e)\n"
   ]
  },
  {
   "cell_type": "code",
   "execution_count": 77,
   "metadata": {},
   "outputs": [
    {
     "name": "stdout",
     "output_type": "stream",
     "text": [
      "total 24304\r\n",
      "-rw-r--r-- 1 root root   204778 Apr 25 10:26 closest.txt\r\n",
      "-rw-r--r-- 1 root root 24679203 Apr 25 09:54 unknown.txt\r\n"
     ]
    }
   ],
   "source": [
    "!ls -l output"
   ]
  },
  {
   "cell_type": "code",
   "execution_count": 78,
   "metadata": {},
   "outputs": [
    {
     "data": {
      "text/plain": [
       "[('https://doi.org/10.1101/2020.03.', 763),\n",
       " ('https://doi.org/10.', 704),\n",
       " ('https://doi.org/10.1101/2020.04.', 698),\n",
       " ('http://', 427),\n",
       " ('https://doi.org', 276),\n",
       " ('https://doi.org/10.1101/2020.02.', 230),\n",
       " ('http://www.', 210),\n",
       " ('https://', 112),\n",
       " ('https://doi.', 111),\n",
       " ('https://doi.org/10.1101/2020.04.14.', 87),\n",
       " ('https://doi.org/10.1101/19011940', 76),\n",
       " ('https://doi.org/10.1101/742320', 57),\n",
       " ('https://doi.org/10.1101/2020.04.13.20064519', 53),\n",
       " ('http://blast.ncbi.nlm.nih.gov/blast.cgi.', 50),\n",
       " ('http://www.ncbi.nlm.nih.gov', 50),\n",
       " ('http://www.ncbi.nlm.nih.gov/', 49),\n",
       " ('http://www.ncbi.nlm.nih.gov.', 47),\n",
       " ('http://blast.ncbi.nlm.nih.gov/blast.cgi', 45),\n",
       " ('https://doi.org/10.1101/338392', 44),\n",
       " ('https://doi.org/10.1101/2020.03.13.990598', 42)]"
      ]
     },
     "execution_count": 78,
     "metadata": {},
     "output_type": "execute_result"
    }
   ],
   "source": [
    "url_counts.most_common(20)"
   ]
  },
  {
   "cell_type": "markdown",
   "metadata": {},
   "source": [
    "Here https://doi.org/10.1101/19011940 seems to be the top actual intact URL left. It refers to paper titled \"Using Digital Surveillance Tools for Near Real-Time Mapping of the Risk of International Infectious Disease Spread: Ebola as a Case Study\".\n",
    "\n",
    "And thats all folks. You can just add this kernel as a data source if you like to play with the preprocessed files. Just click on \"+Add data\" on the right-side sidebar top if you like."
   ]
  },
  {
   "cell_type": "code",
   "execution_count": 79,
   "metadata": {},
   "outputs": [],
   "source": [
    "del words_to_check\n",
    "del words_to_remove\n",
    "del known_words_e\n",
    "del unknown_words_e\n",
    "del all_docs\n",
    "del unknown_list\n",
    "del unknown_str\n"
   ]
  },
  {
   "cell_type": "markdown",
   "metadata": {},
   "source": [
    "Build the bigrams, trigrams, (and potentially quad-grams) with Gensim:"
   ]
  },
  {
   "cell_type": "code",
   "execution_count": 80,
   "metadata": {},
   "outputs": [
    {
     "name": "stdout",
     "output_type": "stream",
     "text": [
      "creating bigram\n",
      "creating trigram\n",
      "creating bigram-model\n",
      "creating trigram-model\n",
      "processing docs\n"
     ]
    },
    {
     "data": {
      "application/vnd.jupyter.widget-view+json": {
       "model_id": "489253aa37704d03b958d08dc06609a0",
       "version_major": 2,
       "version_minor": 0
      },
      "text/plain": [
       "HBox(children=(FloatProgress(value=0.0, max=39957.0), HTML(value='')))"
      ]
     },
     "metadata": {},
     "output_type": "display_data"
    }
   ],
   "source": [
    "%%time\n",
    "no_pool_gensim(filetypes, processed_nltk_paragraphs, filepaths, doc_ids)\n"
   ]
  },
  {
   "cell_type": "code",
   "execution_count": 81,
   "metadata": {},
   "outputs": [
    {
     "name": "stdout",
     "output_type": "stream",
     "text": [
      "0003793cf9e709bc2b9d0c8111186f78fb73fc04.json\r\n",
      "0005d253951fedc237715a37db147032eea28912.json\r\n",
      "000affa746a03f1fe4e3b3ef1a62fdfa9b9ac52a.json\r\n",
      "00154ef181732195c77fc1abd791fa2a996b9099.json\r\n",
      "0016983545c217458b711d5aaad5fba583d81171.json\r\n",
      "001916486b2012ccc611fe18d4763f9e81517cbb.json\r\n",
      "001b8a3bcea5b3a810fd9d03a1bc51cf708fe399.json\r\n",
      "001d8d54a7e73e761f779c81661595cc5ae2ca08.json\r\n",
      "001ec025dd65db8a47827c8f49d9c41d60f35d00.json\r\n",
      "0020ab317ef923b740c1d3db52083a4e48495f8a.json\r\n",
      "ls: write error: Broken pipe\r\n"
     ]
    }
   ],
   "source": [
    "!ls output/paragraphs/custom_license | head -n 10"
   ]
  },
  {
   "cell_type": "code",
   "execution_count": 82,
   "metadata": {},
   "outputs": [
    {
     "name": "stdout",
     "output_type": "stream",
     "text": [
      "569888\toutput/paragraphs/comm_use_subset\r\n",
      "132420\toutput/paragraphs/noncomm_use_subset\r\n",
      "158668\toutput/paragraphs/biorxiv_medrxiv\r\n",
      "1812704\toutput/paragraphs/custom_license\r\n",
      "2673684\toutput/paragraphs\r\n",
      "184680\toutput/whole/comm_use_subset\r\n",
      "43192\toutput/whole/noncomm_use_subset\r\n",
      "51060\toutput/whole/biorxiv_medrxiv\r\n",
      "588548\toutput/whole/custom_license\r\n",
      "867484\toutput/whole\r\n",
      "3565476\toutput\r\n"
     ]
    }
   ],
   "source": [
    "!du output\n"
   ]
  },
  {
   "cell_type": "markdown",
   "metadata": {},
   "source": [
    "See if the bigramming works:"
   ]
  },
  {
   "cell_type": "code",
   "execution_count": 83,
   "metadata": {},
   "outputs": [],
   "source": [
    "#!head output/paragraphs/custom/00016663c74157a66b4d509d5c4edffd5391bbe0.json"
   ]
  },
  {
   "cell_type": "markdown",
   "metadata": {},
   "source": [
    "# Package the output"
   ]
  },
  {
   "cell_type": "code",
   "execution_count": 84,
   "metadata": {},
   "outputs": [
    {
     "name": "stdout",
     "output_type": "stream",
     "text": [
      "closest.txt  paragraphs  unknown.txt  whole\r\n"
     ]
    }
   ],
   "source": [
    "!ls output"
   ]
  },
  {
   "cell_type": "code",
   "execution_count": 85,
   "metadata": {},
   "outputs": [
    {
     "name": "stdout",
     "output_type": "stream",
     "text": [
      "2102\r\n"
     ]
    }
   ],
   "source": [
    "!ls output/paragraphs/noncomm_use_subset | wc -l"
   ]
  },
  {
   "cell_type": "code",
   "execution_count": 86,
   "metadata": {},
   "outputs": [
    {
     "name": "stdout",
     "output_type": "stream",
     "text": [
      "2102\r\n"
     ]
    }
   ],
   "source": [
    "!ls output/whole/noncomm_use_subset | wc -l"
   ]
  },
  {
   "cell_type": "code",
   "execution_count": 87,
   "metadata": {},
   "outputs": [
    {
     "name": "stdout",
     "output_type": "stream",
     "text": [
      "2087\r\n"
     ]
    }
   ],
   "source": [
    "!ls output/paragraphs/biorxiv_medrxiv | wc -l"
   ]
  },
  {
   "cell_type": "code",
   "execution_count": 88,
   "metadata": {},
   "outputs": [
    {
     "name": "stdout",
     "output_type": "stream",
     "text": [
      "total 586956\r\n",
      "-rw-r--r-- 1 root root    4184 Apr 25 11:30 0003793cf9e709bc2b9d0c8111186f78fb73fc04.txt\r\n",
      "-rw-r--r-- 1 root root    9787 Apr 25 11:24 0005d253951fedc237715a37db147032eea28912.txt\r\n",
      "-rw-r--r-- 1 root root    8263 Apr 25 11:27 000affa746a03f1fe4e3b3ef1a62fdfa9b9ac52a.txt\r\n",
      "-rw-r--r-- 1 root root   37467 Apr 25 11:30 00154ef181732195c77fc1abd791fa2a996b9099.txt\r\n",
      "-rw-r--r-- 1 root root    4683 Apr 25 11:16 0016983545c217458b711d5aaad5fba583d81171.txt\r\n",
      "-rw-r--r-- 1 root root   57065 Apr 25 11:23 001916486b2012ccc611fe18d4763f9e81517cbb.txt\r\n",
      "-rw-r--r-- 1 root root  120059 Apr 25 11:13 001b8a3bcea5b3a810fd9d03a1bc51cf708fe399.txt\r\n",
      "-rw-r--r-- 1 root root   28547 Apr 25 11:10 001d8d54a7e73e761f779c81661595cc5ae2ca08.txt\r\n",
      "-rw-r--r-- 1 root root   20784 Apr 25 11:29 001ec025dd65db8a47827c8f49d9c41d60f35d00.txt\r\n",
      "ls: write error: Broken pipe\r\n"
     ]
    }
   ],
   "source": [
    "!ls -l output/whole/custom_license | head -n 10"
   ]
  },
  {
   "cell_type": "code",
   "execution_count": 89,
   "metadata": {},
   "outputs": [
    {
     "name": "stdout",
     "output_type": "stream",
     "text": [
      "total 569352\r\n",
      "-rw-r--r-- 1 root root   14311 Apr 25 11:32 00060fb61742ff60e4e3ba4648c74a34cfe9560d.json\r\n",
      "-rw-r--r-- 1 root root   31468 Apr 25 11:23 001259ae6d9bfa9376894f61aa6b6c5f18be2177.json\r\n",
      "-rw-r--r-- 1 root root   15875 Apr 25 11:22 0014b643b47d9b881e401ad5c4995622e0a39433.json\r\n",
      "-rw-r--r-- 1 root root   20498 Apr 25 11:17 0015023cc06b5362d332b3baf348d11567ca2fbb.json\r\n",
      "-rw-r--r-- 1 root root   26846 Apr 25 11:10 0017543a70b6b8d729f3bbd0a84f24683a1854d7.json\r\n",
      "-rw-r--r-- 1 root root   68220 Apr 25 11:29 002160a433024de8c5e80b210f0b54e5d029fa57.json\r\n",
      "-rw-r--r-- 1 root root   17565 Apr 25 11:26 002faa16056227423f9d108d01f0dae31491510c.json\r\n",
      "-rw-r--r-- 1 root root   38549 Apr 25 11:16 00325033266973fb091b9beb535090bf94810283.json\r\n",
      "-rw-r--r-- 1 root root   32864 Apr 25 11:22 00340eea543336d54adda18236424de6a5e91c9d.json\r\n",
      "ls: write error: Broken pipe\r\n"
     ]
    }
   ],
   "source": [
    "!ls -l output/paragraphs/comm_use_subset | head -n 10\n"
   ]
  },
  {
   "cell_type": "code",
   "execution_count": 90,
   "metadata": {},
   "outputs": [],
   "source": [
    "#!head output/whole/comuse/1a465d982030d8f361dc914ff2defa359fdbe5f9.txt"
   ]
  },
  {
   "cell_type": "code",
   "execution_count": 91,
   "metadata": {
    "_kg_hide-output": true
   },
   "outputs": [
    {
     "name": "stdout",
     "output_type": "stream",
     "text": [
      "\r\n",
      "\r\n",
      "\r\n",
      "The following NEW packages will be installed:\r\n",
      "  zip\r\n",
      "0 upgraded, 1 newly installed, 0 to remove and 34 not upgraded.\r\n",
      "Need to get 234 kB of archives.\r\n",
      "After this operation, 623 kB of additional disk space will be used.\r\n",
      "Get:1 http://deb.debian.org/debian stretch/main amd64 zip amd64 3.0-11+b1 [234 kB]\r\n",
      "Fetched 234 kB in 0s (3097 kB/s)\r\n",
      "debconf: delaying package configuration, since apt-utils is not installed\r\n",
      "\n",
      "\u001b7\u001b[0;23r\u001b8\u001b[1ASelecting previously unselected package zip.\r\n",
      "(Reading database ... 75022 files and directories currently installed.)\r\n",
      "Preparing to unpack .../zip_3.0-11+b1_amd64.deb ...\r\n",
      "\u001b7\u001b[24;0f\u001b[42m\u001b[30mProgress: [  0%]\u001b[49m\u001b[39m [..........................................................] \u001b8\u001b7\u001b[24;0f\u001b[42m\u001b[30mProgress: [ 16%]\u001b[49m\u001b[39m [#########.................................................] \u001b8Unpacking zip (3.0-11+b1) ...\r\n",
      "\u001b7\u001b[24;0f\u001b[42m\u001b[30mProgress: [ 33%]\u001b[49m\u001b[39m [###################.......................................] \u001b8\u001b7\u001b[24;0f\u001b[42m\u001b[30mProgress: [ 50%]\u001b[49m\u001b[39m [#############################.............................] \u001b8Setting up zip (3.0-11+b1) ...\r\n",
      "\u001b7\u001b[24;0f\u001b[42m\u001b[30mProgress: [ 66%]\u001b[49m\u001b[39m [######################################....................] \u001b8\u001b7\u001b[24;0f\u001b[42m\u001b[30mProgress: [ 83%]\u001b[49m\u001b[39m [################################################..........] \u001b8\r\n",
      "\u001b7\u001b[0;24r\u001b8\u001b[1A\u001b[J"
     ]
    }
   ],
   "source": [
    "!apt install zip -y"
   ]
  },
  {
   "cell_type": "code",
   "execution_count": 92,
   "metadata": {},
   "outputs": [
    {
     "name": "stdout",
     "output_type": "stream",
     "text": [
      "CPU times: user 4 µs, sys: 0 ns, total: 4 µs\n",
      "Wall time: 7.63 µs\n"
     ]
    }
   ],
   "source": [
    "%%time\n",
    "#!tar zcf output.tgz output\n"
   ]
  },
  {
   "cell_type": "code",
   "execution_count": 93,
   "metadata": {},
   "outputs": [
    {
     "name": "stdout",
     "output_type": "stream",
     "text": [
      "CPU times: user 3.04 s, sys: 860 ms, total: 3.9 s\n",
      "Wall time: 2min 7s\n"
     ]
    }
   ],
   "source": [
    "%%time\n",
    "!zip -r -q output.zip output"
   ]
  },
  {
   "cell_type": "code",
   "execution_count": 94,
   "metadata": {},
   "outputs": [
    {
     "name": "stdout",
     "output_type": "stream",
     "text": [
      "total 24312\r\n",
      "-rw-r--r-- 1 root root   204778 Apr 25 10:26 closest.txt\r\n",
      "drwxr-xr-x 6 root root     4096 Apr 25 11:10 paragraphs\r\n",
      "-rw-r--r-- 1 root root 24679203 Apr 25 09:54 unknown.txt\r\n",
      "drwxr-xr-x 6 root root     4096 Apr 25 11:10 whole\r\n"
     ]
    }
   ],
   "source": [
    "!ls -l output"
   ]
  },
  {
   "cell_type": "code",
   "execution_count": 95,
   "metadata": {},
   "outputs": [
    {
     "name": "stdout",
     "output_type": "stream",
     "text": [
      "total 601204\r\n",
      "---------- 1 root root    449172 Apr 25 08:43 __notebook__.ipynb\r\n",
      "drwxr-xr-x 4 root root      4096 Apr 25 11:10 output\r\n",
      "-rw-r--r-- 1 root root 615171792 Apr 25 11:35 output.zip\r\n"
     ]
    }
   ],
   "source": [
    "!ls -l"
   ]
  },
  {
   "cell_type": "code",
   "execution_count": 96,
   "metadata": {},
   "outputs": [],
   "source": [
    "!mkdir upload_dir\n",
    "!mv output.zip upload_dir"
   ]
  },
  {
   "cell_type": "code",
   "execution_count": 97,
   "metadata": {},
   "outputs": [
    {
     "name": "stdout",
     "output_type": "stream",
     "text": [
      "output.zip\r\n"
     ]
    }
   ],
   "source": [
    "!ls upload_dir"
   ]
  },
  {
   "cell_type": "code",
   "execution_count": 98,
   "metadata": {},
   "outputs": [
    {
     "data": {
      "text/plain": [
       "'/kaggle/working/upload_dir'"
      ]
     },
     "execution_count": 98,
     "metadata": {},
     "output_type": "execute_result"
    }
   ],
   "source": [
    "os.path.abspath(\"./upload_dir\")"
   ]
  },
  {
   "cell_type": "code",
   "execution_count": 99,
   "metadata": {},
   "outputs": [
    {
     "name": "stdout",
     "output_type": "stream",
     "text": [
      "\n",
      "/kaggle/working/upload_dir\n",
      "running cmd:['kaggle', 'datasets', 'version', '-p', '/kaggle/working/upload_dir', '-m', '\"new version\"']\n",
      "Starting upload for file output.zip\n",
      "Upload successful: output.zip (587MB)\n",
      "Dataset version is being created. Please check progress at https://www.kaggle.com/donkeys/covid-nlp-preprocess\n",
      "\n"
     ]
    },
    {
     "data": {
      "text/plain": [
       "{'title': 'COVID NLP Preprocessed',\n",
       " 'id': 'donkeys/covid-nlp-preprocess',\n",
       " 'licenses': [{'name': 'CC0-1.0'}],\n",
       " 'resources': [{'path': '/kaggle/working/upload_dir/output.zip',\n",
       "   'description': 'zipped preprocessing data'}]}"
      ]
     },
     "execution_count": 99,
     "metadata": {},
     "output_type": "execute_result"
    }
   ],
   "source": [
    "import kaggle_uploader\n",
    "\n",
    "from kaggle_secrets import UserSecretsClient\n",
    "\n",
    "user_secrets = UserSecretsClient()\n",
    "api_secret = user_secrets.get_secret(\"kaggle api key\")\n",
    "\n",
    "kaggle_uploader.resources = []\n",
    "kaggle_uploader.init_on_kaggle(\"donkeys\", api_secret)\n",
    "kaggle_uploader.base_path = \"./upload_dir\"\n",
    "kaggle_uploader.title = \"COVID NLP Preprocessed\"\n",
    "kaggle_uploader.dataset_id = \"covid-nlp-preprocess\"\n",
    "kaggle_uploader.user_id = \"donkeys\"\n",
    "kaggle_uploader.add_resource(\"output.zip\", \"zipped preprocessing data\")\n",
    "kaggle_uploader.update(\"new version\")\n"
   ]
  },
  {
   "cell_type": "markdown",
   "metadata": {},
   "source": [
    "Final check to see if missed some very common stopwords or such:"
   ]
  },
  {
   "cell_type": "code",
   "execution_count": 100,
   "metadata": {},
   "outputs": [
    {
     "data": {
      "text/plain": [
       "94099"
      ]
     },
     "execution_count": 100,
     "metadata": {},
     "output_type": "execute_result"
    }
   ],
   "source": [
    "import collections\n",
    "\n",
    "word_count = collections.Counter()\n",
    "for doc in processed_nltk_paragraphs:\n",
    "    for paragraph in doc:\n",
    "        word_count.update(paragraph)\n",
    "len(word_count)"
   ]
  },
  {
   "cell_type": "code",
   "execution_count": 101,
   "metadata": {},
   "outputs": [
    {
     "data": {
      "text/plain": [
       "[('cell', 850817),\n",
       " ('use', 767177),\n",
       " ('virus', 688792),\n",
       " ('infection', 546724),\n",
       " ('study', 498344),\n",
       " ('patient', 494973),\n",
       " ('protein', 463631),\n",
       " ('disease', 418528),\n",
       " ('viral', 311611),\n",
       " ('result', 288654),\n",
       " ('case', 285166),\n",
       " ('human', 264493),\n",
       " ('group', 239148),\n",
       " ('data', 236872),\n",
       " ('gene', 220714),\n",
       " ('time', 212132),\n",
       " ('response', 211051),\n",
       " ('level', 210510),\n",
       " ('sample', 210308),\n",
       " ('number', 203569),\n",
       " ('day', 202304),\n",
       " ('control', 194867),\n",
       " ('rna', 192865),\n",
       " ('health', 192504),\n",
       " ('mouse', 192494),\n",
       " ('antibody', 191288),\n",
       " ('analysis', 191140),\n",
       " ('clinical', 189660),\n",
       " ('system', 188003),\n",
       " ('treatment', 187665)]"
      ]
     },
     "execution_count": 101,
     "metadata": {},
     "output_type": "execute_result"
    }
   ],
   "source": [
    "word_count.most_common(30)"
   ]
  },
  {
   "cell_type": "markdown",
   "metadata": {},
   "source": [
    "Well, \"use\" is a bit of a give or take.. But I leave it in."
   ]
  },
  {
   "cell_type": "code",
   "execution_count": 102,
   "metadata": {},
   "outputs": [
    {
     "name": "stdout",
     "output_type": "stream",
     "text": [
      "0001418189999fea7f7cbe3e82703d71c85a6fe5.json\r\n",
      "00016663c74157a66b4d509d5c4edffd5391bbe0.json\r\n",
      "002c9e9bed0d874c169d9f77a135f12e41b733ee.json\r\n",
      "01213acdd86020357259f2a1094bc43f9bb79796.json\r\n",
      "0131ce11f9dbeac6ad5f732ab5d268674da53290.json\r\n",
      "014fcb209d3870dce737d4d50e3ec85044cfd2f6.json\r\n",
      "01626763ff19226d69dedacfe5fa22f2f0dd0018.json\r\n",
      "018fb5e62fbbcae07d57d94d29ac630dcc4dccf9.json\r\n",
      "019d4817c1bb20299f7bcd20248bd85ad0f59a2e.json\r\n",
      "01b1b409f426cc712ba8e1876d0ac34bab8689e1.json\r\n",
      "ls: write error: Broken pipe\r\n"
     ]
    }
   ],
   "source": [
    "!ls output/paragraphs/biorxiv_medrxiv | head -n 10"
   ]
  },
  {
   "cell_type": "code",
   "execution_count": 103,
   "metadata": {},
   "outputs": [
    {
     "name": "stdout",
     "output_type": "stream",
     "text": [
      "head: cannot open 'output/paragraphs/biorxiv_medrxiv/00060fb61742ff60e4e3ba4648c74a34cfe9560d.json' for reading: No such file or directory\r\n"
     ]
    }
   ],
   "source": [
    "!head output/paragraphs/biorxiv_medrxiv/00060fb61742ff60e4e3ba4648c74a34cfe9560d.json"
   ]
  },
  {
   "cell_type": "markdown",
   "metadata": {},
   "source": [
    "The output was zipped, so delete the directory with individual files. Kaggle notebooks seem to be unable to host 1000+ output files when used as input to other notebooks."
   ]
  },
  {
   "cell_type": "code",
   "execution_count": 104,
   "metadata": {},
   "outputs": [],
   "source": [
    "!rm -rf output"
   ]
  },
  {
   "cell_type": "code",
   "execution_count": null,
   "metadata": {},
   "outputs": [],
   "source": []
  }
 ],
 "metadata": {
  "kernelspec": {
   "display_name": "Python 3",
   "language": "python",
   "name": "python3"
  },
  "language_info": {
   "codemirror_mode": {
    "name": "ipython",
    "version": 3
   },
   "file_extension": ".py",
   "mimetype": "text/x-python",
   "name": "python",
   "nbconvert_exporter": "python",
   "pygments_lexer": "ipython3",
   "version": "3.6.6"
  },
  "widgets": {
   "application/vnd.jupyter.widget-state+json": {
    "state": {
     "002b3a97167d43d9beda2c8343ae1cee": {
      "model_module": "@jupyter-widgets/base",
      "model_module_version": "1.2.0",
      "model_name": "LayoutModel",
      "state": {
       "_model_module": "@jupyter-widgets/base",
       "_model_module_version": "1.2.0",
       "_model_name": "LayoutModel",
       "_view_count": null,
       "_view_module": "@jupyter-widgets/base",
       "_view_module_version": "1.2.0",
       "_view_name": "LayoutView",
       "align_content": null,
       "align_items": null,
       "align_self": null,
       "border": null,
       "bottom": null,
       "display": null,
       "flex": null,
       "flex_flow": null,
       "grid_area": null,
       "grid_auto_columns": null,
       "grid_auto_flow": null,
       "grid_auto_rows": null,
       "grid_column": null,
       "grid_gap": null,
       "grid_row": null,
       "grid_template_areas": null,
       "grid_template_columns": null,
       "grid_template_rows": null,
       "height": null,
       "justify_content": null,
       "justify_items": null,
       "left": null,
       "margin": null,
       "max_height": null,
       "max_width": null,
       "min_height": null,
       "min_width": null,
       "object_fit": null,
       "object_position": null,
       "order": null,
       "overflow": null,
       "overflow_x": null,
       "overflow_y": null,
       "padding": null,
       "right": null,
       "top": null,
       "visibility": null,
       "width": null
      }
     },
     "0a7b8228efd1434eb66b74626d96ab7b": {
      "model_module": "@jupyter-widgets/controls",
      "model_module_version": "1.5.0",
      "model_name": "ProgressStyleModel",
      "state": {
       "_model_module": "@jupyter-widgets/controls",
       "_model_module_version": "1.5.0",
       "_model_name": "ProgressStyleModel",
       "_view_count": null,
       "_view_module": "@jupyter-widgets/base",
       "_view_module_version": "1.2.0",
       "_view_name": "StyleView",
       "bar_color": null,
       "description_width": "initial"
      }
     },
     "0aa12b925145458cbb37a4f7fbeb7eaf": {
      "model_module": "@jupyter-widgets/base",
      "model_module_version": "1.2.0",
      "model_name": "LayoutModel",
      "state": {
       "_model_module": "@jupyter-widgets/base",
       "_model_module_version": "1.2.0",
       "_model_name": "LayoutModel",
       "_view_count": null,
       "_view_module": "@jupyter-widgets/base",
       "_view_module_version": "1.2.0",
       "_view_name": "LayoutView",
       "align_content": null,
       "align_items": null,
       "align_self": null,
       "border": null,
       "bottom": null,
       "display": null,
       "flex": null,
       "flex_flow": null,
       "grid_area": null,
       "grid_auto_columns": null,
       "grid_auto_flow": null,
       "grid_auto_rows": null,
       "grid_column": null,
       "grid_gap": null,
       "grid_row": null,
       "grid_template_areas": null,
       "grid_template_columns": null,
       "grid_template_rows": null,
       "height": null,
       "justify_content": null,
       "justify_items": null,
       "left": null,
       "margin": null,
       "max_height": null,
       "max_width": null,
       "min_height": null,
       "min_width": null,
       "object_fit": null,
       "object_position": null,
       "order": null,
       "overflow": null,
       "overflow_x": null,
       "overflow_y": null,
       "padding": null,
       "right": null,
       "top": null,
       "visibility": null,
       "width": null
      }
     },
     "0b313047040242d8ab1d000f56a2b284": {
      "model_module": "@jupyter-widgets/controls",
      "model_module_version": "1.5.0",
      "model_name": "DescriptionStyleModel",
      "state": {
       "_model_module": "@jupyter-widgets/controls",
       "_model_module_version": "1.5.0",
       "_model_name": "DescriptionStyleModel",
       "_view_count": null,
       "_view_module": "@jupyter-widgets/base",
       "_view_module_version": "1.2.0",
       "_view_name": "StyleView",
       "description_width": ""
      }
     },
     "0b490117ec7047fcb777861dafac5c77": {
      "model_module": "@jupyter-widgets/controls",
      "model_module_version": "1.5.0",
      "model_name": "ProgressStyleModel",
      "state": {
       "_model_module": "@jupyter-widgets/controls",
       "_model_module_version": "1.5.0",
       "_model_name": "ProgressStyleModel",
       "_view_count": null,
       "_view_module": "@jupyter-widgets/base",
       "_view_module_version": "1.2.0",
       "_view_name": "StyleView",
       "bar_color": null,
       "description_width": "initial"
      }
     },
     "0cbfb62ecbf04c60be847936501a5f24": {
      "model_module": "@jupyter-widgets/base",
      "model_module_version": "1.2.0",
      "model_name": "LayoutModel",
      "state": {
       "_model_module": "@jupyter-widgets/base",
       "_model_module_version": "1.2.0",
       "_model_name": "LayoutModel",
       "_view_count": null,
       "_view_module": "@jupyter-widgets/base",
       "_view_module_version": "1.2.0",
       "_view_name": "LayoutView",
       "align_content": null,
       "align_items": null,
       "align_self": null,
       "border": null,
       "bottom": null,
       "display": null,
       "flex": null,
       "flex_flow": null,
       "grid_area": null,
       "grid_auto_columns": null,
       "grid_auto_flow": null,
       "grid_auto_rows": null,
       "grid_column": null,
       "grid_gap": null,
       "grid_row": null,
       "grid_template_areas": null,
       "grid_template_columns": null,
       "grid_template_rows": null,
       "height": null,
       "justify_content": null,
       "justify_items": null,
       "left": null,
       "margin": null,
       "max_height": null,
       "max_width": null,
       "min_height": null,
       "min_width": null,
       "object_fit": null,
       "object_position": null,
       "order": null,
       "overflow": null,
       "overflow_x": null,
       "overflow_y": null,
       "padding": null,
       "right": null,
       "top": null,
       "visibility": null,
       "width": null
      }
     },
     "0d98f02f5a614e3187791c637f91f013": {
      "model_module": "@jupyter-widgets/base",
      "model_module_version": "1.2.0",
      "model_name": "LayoutModel",
      "state": {
       "_model_module": "@jupyter-widgets/base",
       "_model_module_version": "1.2.0",
       "_model_name": "LayoutModel",
       "_view_count": null,
       "_view_module": "@jupyter-widgets/base",
       "_view_module_version": "1.2.0",
       "_view_name": "LayoutView",
       "align_content": null,
       "align_items": null,
       "align_self": null,
       "border": null,
       "bottom": null,
       "display": null,
       "flex": null,
       "flex_flow": null,
       "grid_area": null,
       "grid_auto_columns": null,
       "grid_auto_flow": null,
       "grid_auto_rows": null,
       "grid_column": null,
       "grid_gap": null,
       "grid_row": null,
       "grid_template_areas": null,
       "grid_template_columns": null,
       "grid_template_rows": null,
       "height": null,
       "justify_content": null,
       "justify_items": null,
       "left": null,
       "margin": null,
       "max_height": null,
       "max_width": null,
       "min_height": null,
       "min_width": null,
       "object_fit": null,
       "object_position": null,
       "order": null,
       "overflow": null,
       "overflow_x": null,
       "overflow_y": null,
       "padding": null,
       "right": null,
       "top": null,
       "visibility": null,
       "width": null
      }
     },
     "1dc3041fd2cc4b80b9c5bf63d20a063d": {
      "model_module": "@jupyter-widgets/base",
      "model_module_version": "1.2.0",
      "model_name": "LayoutModel",
      "state": {
       "_model_module": "@jupyter-widgets/base",
       "_model_module_version": "1.2.0",
       "_model_name": "LayoutModel",
       "_view_count": null,
       "_view_module": "@jupyter-widgets/base",
       "_view_module_version": "1.2.0",
       "_view_name": "LayoutView",
       "align_content": null,
       "align_items": null,
       "align_self": null,
       "border": null,
       "bottom": null,
       "display": null,
       "flex": null,
       "flex_flow": null,
       "grid_area": null,
       "grid_auto_columns": null,
       "grid_auto_flow": null,
       "grid_auto_rows": null,
       "grid_column": null,
       "grid_gap": null,
       "grid_row": null,
       "grid_template_areas": null,
       "grid_template_columns": null,
       "grid_template_rows": null,
       "height": null,
       "justify_content": null,
       "justify_items": null,
       "left": null,
       "margin": null,
       "max_height": null,
       "max_width": null,
       "min_height": null,
       "min_width": null,
       "object_fit": null,
       "object_position": null,
       "order": null,
       "overflow": null,
       "overflow_x": null,
       "overflow_y": null,
       "padding": null,
       "right": null,
       "top": null,
       "visibility": null,
       "width": null
      }
     },
     "22131a73c21446638a776332b86a2767": {
      "model_module": "@jupyter-widgets/controls",
      "model_module_version": "1.5.0",
      "model_name": "FloatProgressModel",
      "state": {
       "_dom_classes": [],
       "_model_module": "@jupyter-widgets/controls",
       "_model_module_version": "1.5.0",
       "_model_name": "FloatProgressModel",
       "_view_count": null,
       "_view_module": "@jupyter-widgets/controls",
       "_view_module_version": "1.5.0",
       "_view_name": "ProgressView",
       "bar_style": "",
       "description": " 83%",
       "description_tooltip": null,
       "layout": "IPY_MODEL_29172a73dba14c618aff27a6796a0da5",
       "max": 39957.0,
       "min": 0.0,
       "orientation": "horizontal",
       "style": "IPY_MODEL_0a7b8228efd1434eb66b74626d96ab7b",
       "value": 33037.0
      }
     },
     "29172a73dba14c618aff27a6796a0da5": {
      "model_module": "@jupyter-widgets/base",
      "model_module_version": "1.2.0",
      "model_name": "LayoutModel",
      "state": {
       "_model_module": "@jupyter-widgets/base",
       "_model_module_version": "1.2.0",
       "_model_name": "LayoutModel",
       "_view_count": null,
       "_view_module": "@jupyter-widgets/base",
       "_view_module_version": "1.2.0",
       "_view_name": "LayoutView",
       "align_content": null,
       "align_items": null,
       "align_self": null,
       "border": null,
       "bottom": null,
       "display": null,
       "flex": null,
       "flex_flow": null,
       "grid_area": null,
       "grid_auto_columns": null,
       "grid_auto_flow": null,
       "grid_auto_rows": null,
       "grid_column": null,
       "grid_gap": null,
       "grid_row": null,
       "grid_template_areas": null,
       "grid_template_columns": null,
       "grid_template_rows": null,
       "height": null,
       "justify_content": null,
       "justify_items": null,
       "left": null,
       "margin": null,
       "max_height": null,
       "max_width": null,
       "min_height": null,
       "min_width": null,
       "object_fit": null,
       "object_position": null,
       "order": null,
       "overflow": null,
       "overflow_x": null,
       "overflow_y": null,
       "padding": null,
       "right": null,
       "top": null,
       "visibility": null,
       "width": null
      }
     },
     "2c2bb9223d9842dcb8751e2fdc10c215": {
      "model_module": "@jupyter-widgets/controls",
      "model_module_version": "1.5.0",
      "model_name": "HTMLModel",
      "state": {
       "_dom_classes": [],
       "_model_module": "@jupyter-widgets/controls",
       "_model_module_version": "1.5.0",
       "_model_name": "HTMLModel",
       "_view_count": null,
       "_view_module": "@jupyter-widgets/controls",
       "_view_module_version": "1.5.0",
       "_view_name": "HTMLView",
       "description": "",
       "description_tooltip": null,
       "layout": "IPY_MODEL_3a9f28c4f9dc431eb06852a8c758718e",
       "placeholder": "​",
       "style": "IPY_MODEL_912d398da64d447ab4f77509ae4a777f",
       "value": " 39957/39957 [00:44&lt;00:00, 890.02it/s]"
      }
     },
     "2da5790c525f402f90bac7819e184b52": {
      "model_module": "@jupyter-widgets/base",
      "model_module_version": "1.2.0",
      "model_name": "LayoutModel",
      "state": {
       "_model_module": "@jupyter-widgets/base",
       "_model_module_version": "1.2.0",
       "_model_name": "LayoutModel",
       "_view_count": null,
       "_view_module": "@jupyter-widgets/base",
       "_view_module_version": "1.2.0",
       "_view_name": "LayoutView",
       "align_content": null,
       "align_items": null,
       "align_self": null,
       "border": null,
       "bottom": null,
       "display": null,
       "flex": null,
       "flex_flow": null,
       "grid_area": null,
       "grid_auto_columns": null,
       "grid_auto_flow": null,
       "grid_auto_rows": null,
       "grid_column": null,
       "grid_gap": null,
       "grid_row": null,
       "grid_template_areas": null,
       "grid_template_columns": null,
       "grid_template_rows": null,
       "height": null,
       "justify_content": null,
       "justify_items": null,
       "left": null,
       "margin": null,
       "max_height": null,
       "max_width": null,
       "min_height": null,
       "min_width": null,
       "object_fit": null,
       "object_position": null,
       "order": null,
       "overflow": null,
       "overflow_x": null,
       "overflow_y": null,
       "padding": null,
       "right": null,
       "top": null,
       "visibility": null,
       "width": null
      }
     },
     "2e7254a661044fdbbf93d01094124212": {
      "model_module": "@jupyter-widgets/base",
      "model_module_version": "1.2.0",
      "model_name": "LayoutModel",
      "state": {
       "_model_module": "@jupyter-widgets/base",
       "_model_module_version": "1.2.0",
       "_model_name": "LayoutModel",
       "_view_count": null,
       "_view_module": "@jupyter-widgets/base",
       "_view_module_version": "1.2.0",
       "_view_name": "LayoutView",
       "align_content": null,
       "align_items": null,
       "align_self": null,
       "border": null,
       "bottom": null,
       "display": null,
       "flex": null,
       "flex_flow": null,
       "grid_area": null,
       "grid_auto_columns": null,
       "grid_auto_flow": null,
       "grid_auto_rows": null,
       "grid_column": null,
       "grid_gap": null,
       "grid_row": null,
       "grid_template_areas": null,
       "grid_template_columns": null,
       "grid_template_rows": null,
       "height": null,
       "justify_content": null,
       "justify_items": null,
       "left": null,
       "margin": null,
       "max_height": null,
       "max_width": null,
       "min_height": null,
       "min_width": null,
       "object_fit": null,
       "object_position": null,
       "order": null,
       "overflow": null,
       "overflow_x": null,
       "overflow_y": null,
       "padding": null,
       "right": null,
       "top": null,
       "visibility": null,
       "width": null
      }
     },
     "2f47a167585d46308f5feac30618a3a3": {
      "model_module": "@jupyter-widgets/controls",
      "model_module_version": "1.5.0",
      "model_name": "HTMLModel",
      "state": {
       "_dom_classes": [],
       "_model_module": "@jupyter-widgets/controls",
       "_model_module_version": "1.5.0",
       "_model_name": "HTMLModel",
       "_view_count": null,
       "_view_module": "@jupyter-widgets/controls",
       "_view_module_version": "1.5.0",
       "_view_name": "HTMLView",
       "description": "",
       "description_tooltip": null,
       "layout": "IPY_MODEL_76af3e325f2e4e8996d90bdd177577bf",
       "placeholder": "​",
       "style": "IPY_MODEL_c135480952b54dc7858329f2e2590257",
       "value": " 9256/10849 [23:05&lt;1:00:10,  2.27s/it]"
      }
     },
     "317730c313ba4dc6ab20b03c399b6c7d": {
      "model_module": "@jupyter-widgets/controls",
      "model_module_version": "1.5.0",
      "model_name": "FloatProgressModel",
      "state": {
       "_dom_classes": [],
       "_model_module": "@jupyter-widgets/controls",
       "_model_module_version": "1.5.0",
       "_model_name": "FloatProgressModel",
       "_view_count": null,
       "_view_module": "@jupyter-widgets/controls",
       "_view_module_version": "1.5.0",
       "_view_name": "ProgressView",
       "bar_style": "success",
       "description": "100%",
       "description_tooltip": null,
       "layout": "IPY_MODEL_5b43c0e7e7f84c9d834b310842132e5d",
       "max": 39957.0,
       "min": 0.0,
       "orientation": "horizontal",
       "style": "IPY_MODEL_88359587564e4cde991a431e8941932e",
       "value": 39957.0
      }
     },
     "3532001a86814800af9ee78e70e39a47": {
      "model_module": "@jupyter-widgets/controls",
      "model_module_version": "1.5.0",
      "model_name": "ProgressStyleModel",
      "state": {
       "_model_module": "@jupyter-widgets/controls",
       "_model_module_version": "1.5.0",
       "_model_name": "ProgressStyleModel",
       "_view_count": null,
       "_view_module": "@jupyter-widgets/base",
       "_view_module_version": "1.2.0",
       "_view_name": "StyleView",
       "bar_color": null,
       "description_width": ""
      }
     },
     "39ab507c369945cb9f124186dd65809c": {
      "model_module": "@jupyter-widgets/base",
      "model_module_version": "1.2.0",
      "model_name": "LayoutModel",
      "state": {
       "_model_module": "@jupyter-widgets/base",
       "_model_module_version": "1.2.0",
       "_model_name": "LayoutModel",
       "_view_count": null,
       "_view_module": "@jupyter-widgets/base",
       "_view_module_version": "1.2.0",
       "_view_name": "LayoutView",
       "align_content": null,
       "align_items": null,
       "align_self": null,
       "border": null,
       "bottom": null,
       "display": null,
       "flex": null,
       "flex_flow": null,
       "grid_area": null,
       "grid_auto_columns": null,
       "grid_auto_flow": null,
       "grid_auto_rows": null,
       "grid_column": null,
       "grid_gap": null,
       "grid_row": null,
       "grid_template_areas": null,
       "grid_template_columns": null,
       "grid_template_rows": null,
       "height": null,
       "justify_content": null,
       "justify_items": null,
       "left": null,
       "margin": null,
       "max_height": null,
       "max_width": null,
       "min_height": null,
       "min_width": null,
       "object_fit": null,
       "object_position": null,
       "order": null,
       "overflow": null,
       "overflow_x": null,
       "overflow_y": null,
       "padding": null,
       "right": null,
       "top": null,
       "visibility": null,
       "width": null
      }
     },
     "3a9f28c4f9dc431eb06852a8c758718e": {
      "model_module": "@jupyter-widgets/base",
      "model_module_version": "1.2.0",
      "model_name": "LayoutModel",
      "state": {
       "_model_module": "@jupyter-widgets/base",
       "_model_module_version": "1.2.0",
       "_model_name": "LayoutModel",
       "_view_count": null,
       "_view_module": "@jupyter-widgets/base",
       "_view_module_version": "1.2.0",
       "_view_name": "LayoutView",
       "align_content": null,
       "align_items": null,
       "align_self": null,
       "border": null,
       "bottom": null,
       "display": null,
       "flex": null,
       "flex_flow": null,
       "grid_area": null,
       "grid_auto_columns": null,
       "grid_auto_flow": null,
       "grid_auto_rows": null,
       "grid_column": null,
       "grid_gap": null,
       "grid_row": null,
       "grid_template_areas": null,
       "grid_template_columns": null,
       "grid_template_rows": null,
       "height": null,
       "justify_content": null,
       "justify_items": null,
       "left": null,
       "margin": null,
       "max_height": null,
       "max_width": null,
       "min_height": null,
       "min_width": null,
       "object_fit": null,
       "object_position": null,
       "order": null,
       "overflow": null,
       "overflow_x": null,
       "overflow_y": null,
       "padding": null,
       "right": null,
       "top": null,
       "visibility": null,
       "width": null
      }
     },
     "43b045a3add3484e82694838ff95e45f": {
      "model_module": "@jupyter-widgets/controls",
      "model_module_version": "1.5.0",
      "model_name": "ProgressStyleModel",
      "state": {
       "_model_module": "@jupyter-widgets/controls",
       "_model_module_version": "1.5.0",
       "_model_name": "ProgressStyleModel",
       "_view_count": null,
       "_view_module": "@jupyter-widgets/base",
       "_view_module_version": "1.2.0",
       "_view_name": "StyleView",
       "bar_color": null,
       "description_width": "initial"
      }
     },
     "44e4ffb2244344379e22e4c66976ba25": {
      "model_module": "@jupyter-widgets/controls",
      "model_module_version": "1.5.0",
      "model_name": "DescriptionStyleModel",
      "state": {
       "_model_module": "@jupyter-widgets/controls",
       "_model_module_version": "1.5.0",
       "_model_name": "DescriptionStyleModel",
       "_view_count": null,
       "_view_module": "@jupyter-widgets/base",
       "_view_module_version": "1.2.0",
       "_view_name": "StyleView",
       "description_width": ""
      }
     },
     "489253aa37704d03b958d08dc06609a0": {
      "model_module": "@jupyter-widgets/controls",
      "model_module_version": "1.5.0",
      "model_name": "HBoxModel",
      "state": {
       "_dom_classes": [],
       "_model_module": "@jupyter-widgets/controls",
       "_model_module_version": "1.5.0",
       "_model_name": "HBoxModel",
       "_view_count": null,
       "_view_module": "@jupyter-widgets/controls",
       "_view_module_version": "1.5.0",
       "_view_name": "HBoxView",
       "box_style": "",
       "children": [
        "IPY_MODEL_22131a73c21446638a776332b86a2767",
        "IPY_MODEL_9fb7a1609e5448f8afcd65704f780fef"
       ],
       "layout": "IPY_MODEL_1dc3041fd2cc4b80b9c5bf63d20a063d"
      }
     },
     "4e5bcbbf119c41df9fd74463a42eeebf": {
      "model_module": "@jupyter-widgets/controls",
      "model_module_version": "1.5.0",
      "model_name": "FloatProgressModel",
      "state": {
       "_dom_classes": [],
       "_model_module": "@jupyter-widgets/controls",
       "_model_module_version": "1.5.0",
       "_model_name": "FloatProgressModel",
       "_view_count": null,
       "_view_module": "@jupyter-widgets/controls",
       "_view_module_version": "1.5.0",
       "_view_name": "ProgressView",
       "bar_style": "",
       "description": " 86%",
       "description_tooltip": null,
       "layout": "IPY_MODEL_39ab507c369945cb9f124186dd65809c",
       "max": 10848.0,
       "min": 0.0,
       "orientation": "horizontal",
       "style": "IPY_MODEL_43b045a3add3484e82694838ff95e45f",
       "value": 9334.0
      }
     },
     "5215d3b7d0f04137bc3f0fa31c410298": {
      "model_module": "@jupyter-widgets/controls",
      "model_module_version": "1.5.0",
      "model_name": "ProgressStyleModel",
      "state": {
       "_model_module": "@jupyter-widgets/controls",
       "_model_module_version": "1.5.0",
       "_model_name": "ProgressStyleModel",
       "_view_count": null,
       "_view_module": "@jupyter-widgets/base",
       "_view_module_version": "1.2.0",
       "_view_name": "StyleView",
       "bar_color": null,
       "description_width": "initial"
      }
     },
     "54221905d8f94e188f464d511bf5d314": {
      "model_module": "@jupyter-widgets/base",
      "model_module_version": "1.2.0",
      "model_name": "LayoutModel",
      "state": {
       "_model_module": "@jupyter-widgets/base",
       "_model_module_version": "1.2.0",
       "_model_name": "LayoutModel",
       "_view_count": null,
       "_view_module": "@jupyter-widgets/base",
       "_view_module_version": "1.2.0",
       "_view_name": "LayoutView",
       "align_content": null,
       "align_items": null,
       "align_self": null,
       "border": null,
       "bottom": null,
       "display": null,
       "flex": null,
       "flex_flow": null,
       "grid_area": null,
       "grid_auto_columns": null,
       "grid_auto_flow": null,
       "grid_auto_rows": null,
       "grid_column": null,
       "grid_gap": null,
       "grid_row": null,
       "grid_template_areas": null,
       "grid_template_columns": null,
       "grid_template_rows": null,
       "height": null,
       "justify_content": null,
       "justify_items": null,
       "left": null,
       "margin": null,
       "max_height": null,
       "max_width": null,
       "min_height": null,
       "min_width": null,
       "object_fit": null,
       "object_position": null,
       "order": null,
       "overflow": null,
       "overflow_x": null,
       "overflow_y": null,
       "padding": null,
       "right": null,
       "top": null,
       "visibility": null,
       "width": null
      }
     },
     "57c40632074948559ff3dc5f733a8b3e": {
      "model_module": "@jupyter-widgets/controls",
      "model_module_version": "1.5.0",
      "model_name": "FloatProgressModel",
      "state": {
       "_dom_classes": [],
       "_model_module": "@jupyter-widgets/controls",
       "_model_module_version": "1.5.0",
       "_model_name": "FloatProgressModel",
       "_view_count": null,
       "_view_module": "@jupyter-widgets/controls",
       "_view_module_version": "1.5.0",
       "_view_name": "ProgressView",
       "bar_style": "",
       "description": " 86%",
       "description_tooltip": null,
       "layout": "IPY_MODEL_0d98f02f5a614e3187791c637f91f013",
       "max": 10849.0,
       "min": 0.0,
       "orientation": "horizontal",
       "style": "IPY_MODEL_3532001a86814800af9ee78e70e39a47",
       "value": 9296.0
      }
     },
     "5b43c0e7e7f84c9d834b310842132e5d": {
      "model_module": "@jupyter-widgets/base",
      "model_module_version": "1.2.0",
      "model_name": "LayoutModel",
      "state": {
       "_model_module": "@jupyter-widgets/base",
       "_model_module_version": "1.2.0",
       "_model_name": "LayoutModel",
       "_view_count": null,
       "_view_module": "@jupyter-widgets/base",
       "_view_module_version": "1.2.0",
       "_view_name": "LayoutView",
       "align_content": null,
       "align_items": null,
       "align_self": null,
       "border": null,
       "bottom": null,
       "display": null,
       "flex": null,
       "flex_flow": null,
       "grid_area": null,
       "grid_auto_columns": null,
       "grid_auto_flow": null,
       "grid_auto_rows": null,
       "grid_column": null,
       "grid_gap": null,
       "grid_row": null,
       "grid_template_areas": null,
       "grid_template_columns": null,
       "grid_template_rows": null,
       "height": null,
       "justify_content": null,
       "justify_items": null,
       "left": null,
       "margin": null,
       "max_height": null,
       "max_width": null,
       "min_height": null,
       "min_width": null,
       "object_fit": null,
       "object_position": null,
       "order": null,
       "overflow": null,
       "overflow_x": null,
       "overflow_y": null,
       "padding": null,
       "right": null,
       "top": null,
       "visibility": null,
       "width": null
      }
     },
     "66159bfa184f41bca1fc4dd20d9a4f5e": {
      "model_module": "@jupyter-widgets/base",
      "model_module_version": "1.2.0",
      "model_name": "LayoutModel",
      "state": {
       "_model_module": "@jupyter-widgets/base",
       "_model_module_version": "1.2.0",
       "_model_name": "LayoutModel",
       "_view_count": null,
       "_view_module": "@jupyter-widgets/base",
       "_view_module_version": "1.2.0",
       "_view_name": "LayoutView",
       "align_content": null,
       "align_items": null,
       "align_self": null,
       "border": null,
       "bottom": null,
       "display": null,
       "flex": null,
       "flex_flow": null,
       "grid_area": null,
       "grid_auto_columns": null,
       "grid_auto_flow": null,
       "grid_auto_rows": null,
       "grid_column": null,
       "grid_gap": null,
       "grid_row": null,
       "grid_template_areas": null,
       "grid_template_columns": null,
       "grid_template_rows": null,
       "height": null,
       "justify_content": null,
       "justify_items": null,
       "left": null,
       "margin": null,
       "max_height": null,
       "max_width": null,
       "min_height": null,
       "min_width": null,
       "object_fit": null,
       "object_position": null,
       "order": null,
       "overflow": null,
       "overflow_x": null,
       "overflow_y": null,
       "padding": null,
       "right": null,
       "top": null,
       "visibility": null,
       "width": null
      }
     },
     "66ab25dc3a65416eb66fa595143c259c": {
      "model_module": "@jupyter-widgets/controls",
      "model_module_version": "1.5.0",
      "model_name": "HBoxModel",
      "state": {
       "_dom_classes": [],
       "_model_module": "@jupyter-widgets/controls",
       "_model_module_version": "1.5.0",
       "_model_name": "HBoxModel",
       "_view_count": null,
       "_view_module": "@jupyter-widgets/controls",
       "_view_module_version": "1.5.0",
       "_view_name": "HBoxView",
       "box_style": "",
       "children": [
        "IPY_MODEL_ede5d50e227a4bc7aa5aef3f1683d4eb",
        "IPY_MODEL_2f47a167585d46308f5feac30618a3a3"
       ],
       "layout": "IPY_MODEL_85301890edec4d3099ce08d0e0aa94b4"
      }
     },
     "683776d4f5db4d1780700d36b7997ba5": {
      "model_module": "@jupyter-widgets/controls",
      "model_module_version": "1.5.0",
      "model_name": "HBoxModel",
      "state": {
       "_dom_classes": [],
       "_model_module": "@jupyter-widgets/controls",
       "_model_module_version": "1.5.0",
       "_model_name": "HBoxModel",
       "_view_count": null,
       "_view_module": "@jupyter-widgets/controls",
       "_view_module_version": "1.5.0",
       "_view_name": "HBoxView",
       "box_style": "",
       "children": [
        "IPY_MODEL_57c40632074948559ff3dc5f733a8b3e",
        "IPY_MODEL_e46eb49ddea14d06a3b5e8c48f58786f"
       ],
       "layout": "IPY_MODEL_ad447c9327e54aa69dce246f477e9d97"
      }
     },
     "6c698f063e914ec6bde8ea6eb80ab800": {
      "model_module": "@jupyter-widgets/controls",
      "model_module_version": "1.5.0",
      "model_name": "HTMLModel",
      "state": {
       "_dom_classes": [],
       "_model_module": "@jupyter-widgets/controls",
       "_model_module_version": "1.5.0",
       "_model_name": "HTMLModel",
       "_view_count": null,
       "_view_module": "@jupyter-widgets/controls",
       "_view_module_version": "1.5.0",
       "_view_name": "HTMLView",
       "description": "",
       "description_tooltip": null,
       "layout": "IPY_MODEL_2e7254a661044fdbbf93d01094124212",
       "placeholder": "​",
       "style": "IPY_MODEL_0b313047040242d8ab1d000f56a2b284",
       "value": " 57160/57160 [56:29&lt;00:00, 16.87it/s]"
      }
     },
     "76af3e325f2e4e8996d90bdd177577bf": {
      "model_module": "@jupyter-widgets/base",
      "model_module_version": "1.2.0",
      "model_name": "LayoutModel",
      "state": {
       "_model_module": "@jupyter-widgets/base",
       "_model_module_version": "1.2.0",
       "_model_name": "LayoutModel",
       "_view_count": null,
       "_view_module": "@jupyter-widgets/base",
       "_view_module_version": "1.2.0",
       "_view_name": "LayoutView",
       "align_content": null,
       "align_items": null,
       "align_self": null,
       "border": null,
       "bottom": null,
       "display": null,
       "flex": null,
       "flex_flow": null,
       "grid_area": null,
       "grid_auto_columns": null,
       "grid_auto_flow": null,
       "grid_auto_rows": null,
       "grid_column": null,
       "grid_gap": null,
       "grid_row": null,
       "grid_template_areas": null,
       "grid_template_columns": null,
       "grid_template_rows": null,
       "height": null,
       "justify_content": null,
       "justify_items": null,
       "left": null,
       "margin": null,
       "max_height": null,
       "max_width": null,
       "min_height": null,
       "min_width": null,
       "object_fit": null,
       "object_position": null,
       "order": null,
       "overflow": null,
       "overflow_x": null,
       "overflow_y": null,
       "padding": null,
       "right": null,
       "top": null,
       "visibility": null,
       "width": null
      }
     },
     "7adb3da9eaac402d9bc83556f7192af7": {
      "model_module": "@jupyter-widgets/controls",
      "model_module_version": "1.5.0",
      "model_name": "DescriptionStyleModel",
      "state": {
       "_model_module": "@jupyter-widgets/controls",
       "_model_module_version": "1.5.0",
       "_model_name": "DescriptionStyleModel",
       "_view_count": null,
       "_view_module": "@jupyter-widgets/base",
       "_view_module_version": "1.2.0",
       "_view_name": "StyleView",
       "description_width": ""
      }
     },
     "83753ba1c944436c81c7a0503ff3a100": {
      "model_module": "@jupyter-widgets/controls",
      "model_module_version": "1.5.0",
      "model_name": "DescriptionStyleModel",
      "state": {
       "_model_module": "@jupyter-widgets/controls",
       "_model_module_version": "1.5.0",
       "_model_name": "DescriptionStyleModel",
       "_view_count": null,
       "_view_module": "@jupyter-widgets/base",
       "_view_module_version": "1.2.0",
       "_view_name": "StyleView",
       "description_width": ""
      }
     },
     "85301890edec4d3099ce08d0e0aa94b4": {
      "model_module": "@jupyter-widgets/base",
      "model_module_version": "1.2.0",
      "model_name": "LayoutModel",
      "state": {
       "_model_module": "@jupyter-widgets/base",
       "_model_module_version": "1.2.0",
       "_model_name": "LayoutModel",
       "_view_count": null,
       "_view_module": "@jupyter-widgets/base",
       "_view_module_version": "1.2.0",
       "_view_name": "LayoutView",
       "align_content": null,
       "align_items": null,
       "align_self": null,
       "border": null,
       "bottom": null,
       "display": null,
       "flex": null,
       "flex_flow": null,
       "grid_area": null,
       "grid_auto_columns": null,
       "grid_auto_flow": null,
       "grid_auto_rows": null,
       "grid_column": null,
       "grid_gap": null,
       "grid_row": null,
       "grid_template_areas": null,
       "grid_template_columns": null,
       "grid_template_rows": null,
       "height": null,
       "justify_content": null,
       "justify_items": null,
       "left": null,
       "margin": null,
       "max_height": null,
       "max_width": null,
       "min_height": null,
       "min_width": null,
       "object_fit": null,
       "object_position": null,
       "order": null,
       "overflow": null,
       "overflow_x": null,
       "overflow_y": null,
       "padding": null,
       "right": null,
       "top": null,
       "visibility": null,
       "width": null
      }
     },
     "86cc8d5a3e0f4098967303e35a1bfdc5": {
      "model_module": "@jupyter-widgets/controls",
      "model_module_version": "1.5.0",
      "model_name": "HTMLModel",
      "state": {
       "_dom_classes": [],
       "_model_module": "@jupyter-widgets/controls",
       "_model_module_version": "1.5.0",
       "_model_name": "HTMLModel",
       "_view_count": null,
       "_view_module": "@jupyter-widgets/controls",
       "_view_module_version": "1.5.0",
       "_view_name": "HTMLView",
       "description": "",
       "description_tooltip": null,
       "layout": "IPY_MODEL_affde3d1bc774315aec3f4cd9e114c77",
       "placeholder": "​",
       "style": "IPY_MODEL_fd3f280ea9d44659ab355f599cc7c622",
       "value": " 57366/57366 [03:26&lt;00:00, 277.66it/s]"
      }
     },
     "88359587564e4cde991a431e8941932e": {
      "model_module": "@jupyter-widgets/controls",
      "model_module_version": "1.5.0",
      "model_name": "ProgressStyleModel",
      "state": {
       "_model_module": "@jupyter-widgets/controls",
       "_model_module_version": "1.5.0",
       "_model_name": "ProgressStyleModel",
       "_view_count": null,
       "_view_module": "@jupyter-widgets/base",
       "_view_module_version": "1.2.0",
       "_view_name": "StyleView",
       "bar_color": null,
       "description_width": "initial"
      }
     },
     "8836b9f9ede8475ab2d4dc18d82808f6": {
      "model_module": "@jupyter-widgets/base",
      "model_module_version": "1.2.0",
      "model_name": "LayoutModel",
      "state": {
       "_model_module": "@jupyter-widgets/base",
       "_model_module_version": "1.2.0",
       "_model_name": "LayoutModel",
       "_view_count": null,
       "_view_module": "@jupyter-widgets/base",
       "_view_module_version": "1.2.0",
       "_view_name": "LayoutView",
       "align_content": null,
       "align_items": null,
       "align_self": null,
       "border": null,
       "bottom": null,
       "display": null,
       "flex": null,
       "flex_flow": null,
       "grid_area": null,
       "grid_auto_columns": null,
       "grid_auto_flow": null,
       "grid_auto_rows": null,
       "grid_column": null,
       "grid_gap": null,
       "grid_row": null,
       "grid_template_areas": null,
       "grid_template_columns": null,
       "grid_template_rows": null,
       "height": null,
       "justify_content": null,
       "justify_items": null,
       "left": null,
       "margin": null,
       "max_height": null,
       "max_width": null,
       "min_height": null,
       "min_width": null,
       "object_fit": null,
       "object_position": null,
       "order": null,
       "overflow": null,
       "overflow_x": null,
       "overflow_y": null,
       "padding": null,
       "right": null,
       "top": null,
       "visibility": null,
       "width": null
      }
     },
     "8b09ab2d4b524e19b941cbe7b765b80c": {
      "model_module": "@jupyter-widgets/base",
      "model_module_version": "1.2.0",
      "model_name": "LayoutModel",
      "state": {
       "_model_module": "@jupyter-widgets/base",
       "_model_module_version": "1.2.0",
       "_model_name": "LayoutModel",
       "_view_count": null,
       "_view_module": "@jupyter-widgets/base",
       "_view_module_version": "1.2.0",
       "_view_name": "LayoutView",
       "align_content": null,
       "align_items": null,
       "align_self": null,
       "border": null,
       "bottom": null,
       "display": null,
       "flex": null,
       "flex_flow": null,
       "grid_area": null,
       "grid_auto_columns": null,
       "grid_auto_flow": null,
       "grid_auto_rows": null,
       "grid_column": null,
       "grid_gap": null,
       "grid_row": null,
       "grid_template_areas": null,
       "grid_template_columns": null,
       "grid_template_rows": null,
       "height": null,
       "justify_content": null,
       "justify_items": null,
       "left": null,
       "margin": null,
       "max_height": null,
       "max_width": null,
       "min_height": null,
       "min_width": null,
       "object_fit": null,
       "object_position": null,
       "order": null,
       "overflow": null,
       "overflow_x": null,
       "overflow_y": null,
       "padding": null,
       "right": null,
       "top": null,
       "visibility": null,
       "width": null
      }
     },
     "912d398da64d447ab4f77509ae4a777f": {
      "model_module": "@jupyter-widgets/controls",
      "model_module_version": "1.5.0",
      "model_name": "DescriptionStyleModel",
      "state": {
       "_model_module": "@jupyter-widgets/controls",
       "_model_module_version": "1.5.0",
       "_model_name": "DescriptionStyleModel",
       "_view_count": null,
       "_view_module": "@jupyter-widgets/base",
       "_view_module_version": "1.2.0",
       "_view_name": "StyleView",
       "description_width": ""
      }
     },
     "9fb7a1609e5448f8afcd65704f780fef": {
      "model_module": "@jupyter-widgets/controls",
      "model_module_version": "1.5.0",
      "model_name": "HTMLModel",
      "state": {
       "_dom_classes": [],
       "_model_module": "@jupyter-widgets/controls",
       "_model_module_version": "1.5.0",
       "_model_name": "HTMLModel",
       "_view_count": null,
       "_view_module": "@jupyter-widgets/controls",
       "_view_module_version": "1.5.0",
       "_view_name": "HTMLView",
       "description": "",
       "description_tooltip": null,
       "layout": "IPY_MODEL_f2c2317843234947981ab41124a8ee26",
       "placeholder": "​",
       "style": "IPY_MODEL_44e4ffb2244344379e22e4c66976ba25",
       "value": " 33037/39957 [18:36&lt;03:15, 35.45it/s]"
      }
     },
     "ad447c9327e54aa69dce246f477e9d97": {
      "model_module": "@jupyter-widgets/base",
      "model_module_version": "1.2.0",
      "model_name": "LayoutModel",
      "state": {
       "_model_module": "@jupyter-widgets/base",
       "_model_module_version": "1.2.0",
       "_model_name": "LayoutModel",
       "_view_count": null,
       "_view_module": "@jupyter-widgets/base",
       "_view_module_version": "1.2.0",
       "_view_name": "LayoutView",
       "align_content": null,
       "align_items": null,
       "align_self": null,
       "border": null,
       "bottom": null,
       "display": null,
       "flex": null,
       "flex_flow": null,
       "grid_area": null,
       "grid_auto_columns": null,
       "grid_auto_flow": null,
       "grid_auto_rows": null,
       "grid_column": null,
       "grid_gap": null,
       "grid_row": null,
       "grid_template_areas": null,
       "grid_template_columns": null,
       "grid_template_rows": null,
       "height": null,
       "justify_content": null,
       "justify_items": null,
       "left": null,
       "margin": null,
       "max_height": null,
       "max_width": null,
       "min_height": null,
       "min_width": null,
       "object_fit": null,
       "object_position": null,
       "order": null,
       "overflow": null,
       "overflow_x": null,
       "overflow_y": null,
       "padding": null,
       "right": null,
       "top": null,
       "visibility": null,
       "width": null
      }
     },
     "add889221ed04498a26ee6d1f84b3a4e": {
      "model_module": "@jupyter-widgets/controls",
      "model_module_version": "1.5.0",
      "model_name": "HBoxModel",
      "state": {
       "_dom_classes": [],
       "_model_module": "@jupyter-widgets/controls",
       "_model_module_version": "1.5.0",
       "_model_name": "HBoxModel",
       "_view_count": null,
       "_view_module": "@jupyter-widgets/controls",
       "_view_module_version": "1.5.0",
       "_view_name": "HBoxView",
       "box_style": "",
       "children": [
        "IPY_MODEL_c3c6c18d0b834cc99133b2585e5a1153",
        "IPY_MODEL_dddda534fc7c46f99e533cd6132a4b31"
       ],
       "layout": "IPY_MODEL_f233a24b219b44b4829e8fa9ffb6b741"
      }
     },
     "affde3d1bc774315aec3f4cd9e114c77": {
      "model_module": "@jupyter-widgets/base",
      "model_module_version": "1.2.0",
      "model_name": "LayoutModel",
      "state": {
       "_model_module": "@jupyter-widgets/base",
       "_model_module_version": "1.2.0",
       "_model_name": "LayoutModel",
       "_view_count": null,
       "_view_module": "@jupyter-widgets/base",
       "_view_module_version": "1.2.0",
       "_view_name": "LayoutView",
       "align_content": null,
       "align_items": null,
       "align_self": null,
       "border": null,
       "bottom": null,
       "display": null,
       "flex": null,
       "flex_flow": null,
       "grid_area": null,
       "grid_auto_columns": null,
       "grid_auto_flow": null,
       "grid_auto_rows": null,
       "grid_column": null,
       "grid_gap": null,
       "grid_row": null,
       "grid_template_areas": null,
       "grid_template_columns": null,
       "grid_template_rows": null,
       "height": null,
       "justify_content": null,
       "justify_items": null,
       "left": null,
       "margin": null,
       "max_height": null,
       "max_width": null,
       "min_height": null,
       "min_width": null,
       "object_fit": null,
       "object_position": null,
       "order": null,
       "overflow": null,
       "overflow_x": null,
       "overflow_y": null,
       "padding": null,
       "right": null,
       "top": null,
       "visibility": null,
       "width": null
      }
     },
     "b01e753612f74ab392540e82770371d9": {
      "model_module": "@jupyter-widgets/controls",
      "model_module_version": "1.5.0",
      "model_name": "HBoxModel",
      "state": {
       "_dom_classes": [],
       "_model_module": "@jupyter-widgets/controls",
       "_model_module_version": "1.5.0",
       "_model_name": "HBoxModel",
       "_view_count": null,
       "_view_module": "@jupyter-widgets/controls",
       "_view_module_version": "1.5.0",
       "_view_name": "HBoxView",
       "box_style": "",
       "children": [
        "IPY_MODEL_d71cd9b8ce8442abbb3678220077662b",
        "IPY_MODEL_86cc8d5a3e0f4098967303e35a1bfdc5"
       ],
       "layout": "IPY_MODEL_66159bfa184f41bca1fc4dd20d9a4f5e"
      }
     },
     "b132e76baa254103b31bc23e38463d47": {
      "model_module": "@jupyter-widgets/controls",
      "model_module_version": "1.5.0",
      "model_name": "ProgressStyleModel",
      "state": {
       "_model_module": "@jupyter-widgets/controls",
       "_model_module_version": "1.5.0",
       "_model_name": "ProgressStyleModel",
       "_view_count": null,
       "_view_module": "@jupyter-widgets/base",
       "_view_module_version": "1.2.0",
       "_view_name": "StyleView",
       "bar_color": null,
       "description_width": "initial"
      }
     },
     "c135480952b54dc7858329f2e2590257": {
      "model_module": "@jupyter-widgets/controls",
      "model_module_version": "1.5.0",
      "model_name": "DescriptionStyleModel",
      "state": {
       "_model_module": "@jupyter-widgets/controls",
       "_model_module_version": "1.5.0",
       "_model_name": "DescriptionStyleModel",
       "_view_count": null,
       "_view_module": "@jupyter-widgets/base",
       "_view_module_version": "1.2.0",
       "_view_name": "StyleView",
       "description_width": ""
      }
     },
     "c3c6c18d0b834cc99133b2585e5a1153": {
      "model_module": "@jupyter-widgets/controls",
      "model_module_version": "1.5.0",
      "model_name": "FloatProgressModel",
      "state": {
       "_dom_classes": [],
       "_model_module": "@jupyter-widgets/controls",
       "_model_module_version": "1.5.0",
       "_model_name": "FloatProgressModel",
       "_view_count": null,
       "_view_module": "@jupyter-widgets/controls",
       "_view_module_version": "1.5.0",
       "_view_name": "ProgressView",
       "bar_style": "",
       "description": " 86%",
       "description_tooltip": null,
       "layout": "IPY_MODEL_0aa12b925145458cbb37a4f7fbeb7eaf",
       "max": 10849.0,
       "min": 0.0,
       "orientation": "horizontal",
       "style": "IPY_MODEL_5215d3b7d0f04137bc3f0fa31c410298",
       "value": 9332.0
      }
     },
     "c4d0a9c9666942b0adcb9c95abef6efc": {
      "model_module": "@jupyter-widgets/controls",
      "model_module_version": "1.5.0",
      "model_name": "FloatProgressModel",
      "state": {
       "_dom_classes": [],
       "_model_module": "@jupyter-widgets/controls",
       "_model_module_version": "1.5.0",
       "_model_name": "FloatProgressModel",
       "_view_count": null,
       "_view_module": "@jupyter-widgets/controls",
       "_view_module_version": "1.5.0",
       "_view_name": "ProgressView",
       "bar_style": "",
       "description": " 58%",
       "description_tooltip": null,
       "layout": "IPY_MODEL_0cbfb62ecbf04c60be847936501a5f24",
       "max": 57160.0,
       "min": 0.0,
       "orientation": "horizontal",
       "style": "IPY_MODEL_0b490117ec7047fcb777861dafac5c77",
       "value": 33034.0
      }
     },
     "c7ca67bf248049e29dc7759520be1d02": {
      "model_module": "@jupyter-widgets/controls",
      "model_module_version": "1.5.0",
      "model_name": "DescriptionStyleModel",
      "state": {
       "_model_module": "@jupyter-widgets/controls",
       "_model_module_version": "1.5.0",
       "_model_name": "DescriptionStyleModel",
       "_view_count": null,
       "_view_module": "@jupyter-widgets/base",
       "_view_module_version": "1.2.0",
       "_view_name": "StyleView",
       "description_width": ""
      }
     },
     "d71cd9b8ce8442abbb3678220077662b": {
      "model_module": "@jupyter-widgets/controls",
      "model_module_version": "1.5.0",
      "model_name": "FloatProgressModel",
      "state": {
       "_dom_classes": [],
       "_model_module": "@jupyter-widgets/controls",
       "_model_module_version": "1.5.0",
       "_model_name": "FloatProgressModel",
       "_view_count": null,
       "_view_module": "@jupyter-widgets/controls",
       "_view_module_version": "1.5.0",
       "_view_name": "ProgressView",
       "bar_style": "success",
       "description": "100%",
       "description_tooltip": null,
       "layout": "IPY_MODEL_8b09ab2d4b524e19b941cbe7b765b80c",
       "max": 57366.0,
       "min": 0.0,
       "orientation": "horizontal",
       "style": "IPY_MODEL_b132e76baa254103b31bc23e38463d47",
       "value": 57366.0
      }
     },
     "d98f5f7e65e94ce2b71c159f45cc11cb": {
      "model_module": "@jupyter-widgets/controls",
      "model_module_version": "1.5.0",
      "model_name": "HBoxModel",
      "state": {
       "_dom_classes": [],
       "_model_module": "@jupyter-widgets/controls",
       "_model_module_version": "1.5.0",
       "_model_name": "HBoxModel",
       "_view_count": null,
       "_view_module": "@jupyter-widgets/controls",
       "_view_module_version": "1.5.0",
       "_view_name": "HBoxView",
       "box_style": "",
       "children": [
        "IPY_MODEL_4e5bcbbf119c41df9fd74463a42eeebf",
        "IPY_MODEL_e7d55dc7ed784fefaf519e496eb4a464"
       ],
       "layout": "IPY_MODEL_f191761ae42c46c69cc4d7a2b07b6916"
      }
     },
     "dddda534fc7c46f99e533cd6132a4b31": {
      "model_module": "@jupyter-widgets/controls",
      "model_module_version": "1.5.0",
      "model_name": "HTMLModel",
      "state": {
       "_dom_classes": [],
       "_model_module": "@jupyter-widgets/controls",
       "_model_module_version": "1.5.0",
       "_model_name": "HTMLModel",
       "_view_count": null,
       "_view_module": "@jupyter-widgets/controls",
       "_view_module_version": "1.5.0",
       "_view_name": "HTMLView",
       "description": "",
       "description_tooltip": null,
       "layout": "IPY_MODEL_2da5790c525f402f90bac7819e184b52",
       "placeholder": "​",
       "style": "IPY_MODEL_c7ca67bf248049e29dc7759520be1d02",
       "value": " 9332/10849 [23:05&lt;31:16,  1.24s/it]"
      }
     },
     "de1e9cadffb441f8bdaa5f7fd1b97523": {
      "model_module": "@jupyter-widgets/base",
      "model_module_version": "1.2.0",
      "model_name": "LayoutModel",
      "state": {
       "_model_module": "@jupyter-widgets/base",
       "_model_module_version": "1.2.0",
       "_model_name": "LayoutModel",
       "_view_count": null,
       "_view_module": "@jupyter-widgets/base",
       "_view_module_version": "1.2.0",
       "_view_name": "LayoutView",
       "align_content": null,
       "align_items": null,
       "align_self": null,
       "border": null,
       "bottom": null,
       "display": null,
       "flex": null,
       "flex_flow": null,
       "grid_area": null,
       "grid_auto_columns": null,
       "grid_auto_flow": null,
       "grid_auto_rows": null,
       "grid_column": null,
       "grid_gap": null,
       "grid_row": null,
       "grid_template_areas": null,
       "grid_template_columns": null,
       "grid_template_rows": null,
       "height": null,
       "justify_content": null,
       "justify_items": null,
       "left": null,
       "margin": null,
       "max_height": null,
       "max_width": null,
       "min_height": null,
       "min_width": null,
       "object_fit": null,
       "object_position": null,
       "order": null,
       "overflow": null,
       "overflow_x": null,
       "overflow_y": null,
       "padding": null,
       "right": null,
       "top": null,
       "visibility": null,
       "width": null
      }
     },
     "e1d26ff537464a7592a5d78a65809584": {
      "model_module": "@jupyter-widgets/base",
      "model_module_version": "1.2.0",
      "model_name": "LayoutModel",
      "state": {
       "_model_module": "@jupyter-widgets/base",
       "_model_module_version": "1.2.0",
       "_model_name": "LayoutModel",
       "_view_count": null,
       "_view_module": "@jupyter-widgets/base",
       "_view_module_version": "1.2.0",
       "_view_name": "LayoutView",
       "align_content": null,
       "align_items": null,
       "align_self": null,
       "border": null,
       "bottom": null,
       "display": null,
       "flex": null,
       "flex_flow": null,
       "grid_area": null,
       "grid_auto_columns": null,
       "grid_auto_flow": null,
       "grid_auto_rows": null,
       "grid_column": null,
       "grid_gap": null,
       "grid_row": null,
       "grid_template_areas": null,
       "grid_template_columns": null,
       "grid_template_rows": null,
       "height": null,
       "justify_content": null,
       "justify_items": null,
       "left": null,
       "margin": null,
       "max_height": null,
       "max_width": null,
       "min_height": null,
       "min_width": null,
       "object_fit": null,
       "object_position": null,
       "order": null,
       "overflow": null,
       "overflow_x": null,
       "overflow_y": null,
       "padding": null,
       "right": null,
       "top": null,
       "visibility": null,
       "width": null
      }
     },
     "e46eb49ddea14d06a3b5e8c48f58786f": {
      "model_module": "@jupyter-widgets/controls",
      "model_module_version": "1.5.0",
      "model_name": "HTMLModel",
      "state": {
       "_dom_classes": [],
       "_model_module": "@jupyter-widgets/controls",
       "_model_module_version": "1.5.0",
       "_model_name": "HTMLModel",
       "_view_count": null,
       "_view_module": "@jupyter-widgets/controls",
       "_view_module_version": "1.5.0",
       "_view_name": "HTMLView",
       "description": "",
       "description_tooltip": null,
       "layout": "IPY_MODEL_e1d26ff537464a7592a5d78a65809584",
       "placeholder": "​",
       "style": "IPY_MODEL_7adb3da9eaac402d9bc83556f7192af7",
       "value": " 9296/10849 [23:05&lt;28:31,  1.10s/it]"
      }
     },
     "e72fed0949274499963ace2fa3ebcbd8": {
      "model_module": "@jupyter-widgets/controls",
      "model_module_version": "1.5.0",
      "model_name": "ProgressStyleModel",
      "state": {
       "_model_module": "@jupyter-widgets/controls",
       "_model_module_version": "1.5.0",
       "_model_name": "ProgressStyleModel",
       "_view_count": null,
       "_view_module": "@jupyter-widgets/base",
       "_view_module_version": "1.2.0",
       "_view_name": "StyleView",
       "bar_color": null,
       "description_width": "initial"
      }
     },
     "e7d55dc7ed784fefaf519e496eb4a464": {
      "model_module": "@jupyter-widgets/controls",
      "model_module_version": "1.5.0",
      "model_name": "HTMLModel",
      "state": {
       "_dom_classes": [],
       "_model_module": "@jupyter-widgets/controls",
       "_model_module_version": "1.5.0",
       "_model_name": "HTMLModel",
       "_view_count": null,
       "_view_module": "@jupyter-widgets/controls",
       "_view_module_version": "1.5.0",
       "_view_name": "HTMLView",
       "description": "",
       "description_tooltip": null,
       "layout": "IPY_MODEL_de1e9cadffb441f8bdaa5f7fd1b97523",
       "placeholder": "​",
       "style": "IPY_MODEL_83753ba1c944436c81c7a0503ff3a100",
       "value": " 9334/10848 [23:05&lt;31:36,  1.25s/it]"
      }
     },
     "ed2d797ce45147d7a7afc914df44034a": {
      "model_module": "@jupyter-widgets/controls",
      "model_module_version": "1.5.0",
      "model_name": "HBoxModel",
      "state": {
       "_dom_classes": [],
       "_model_module": "@jupyter-widgets/controls",
       "_model_module_version": "1.5.0",
       "_model_name": "HBoxModel",
       "_view_count": null,
       "_view_module": "@jupyter-widgets/controls",
       "_view_module_version": "1.5.0",
       "_view_name": "HBoxView",
       "box_style": "",
       "children": [
        "IPY_MODEL_c4d0a9c9666942b0adcb9c95abef6efc",
        "IPY_MODEL_6c698f063e914ec6bde8ea6eb80ab800"
       ],
       "layout": "IPY_MODEL_54221905d8f94e188f464d511bf5d314"
      }
     },
     "ede5d50e227a4bc7aa5aef3f1683d4eb": {
      "model_module": "@jupyter-widgets/controls",
      "model_module_version": "1.5.0",
      "model_name": "FloatProgressModel",
      "state": {
       "_dom_classes": [],
       "_model_module": "@jupyter-widgets/controls",
       "_model_module_version": "1.5.0",
       "_model_name": "FloatProgressModel",
       "_view_count": null,
       "_view_module": "@jupyter-widgets/controls",
       "_view_module_version": "1.5.0",
       "_view_name": "ProgressView",
       "bar_style": "",
       "description": " 20%",
       "description_tooltip": null,
       "layout": "IPY_MODEL_002b3a97167d43d9beda2c8343ae1cee",
       "max": 10849.0,
       "min": 0.0,
       "orientation": "horizontal",
       "style": "IPY_MODEL_e72fed0949274499963ace2fa3ebcbd8",
       "value": 9257.0
      }
     },
     "f191761ae42c46c69cc4d7a2b07b6916": {
      "model_module": "@jupyter-widgets/base",
      "model_module_version": "1.2.0",
      "model_name": "LayoutModel",
      "state": {
       "_model_module": "@jupyter-widgets/base",
       "_model_module_version": "1.2.0",
       "_model_name": "LayoutModel",
       "_view_count": null,
       "_view_module": "@jupyter-widgets/base",
       "_view_module_version": "1.2.0",
       "_view_name": "LayoutView",
       "align_content": null,
       "align_items": null,
       "align_self": null,
       "border": null,
       "bottom": null,
       "display": null,
       "flex": null,
       "flex_flow": null,
       "grid_area": null,
       "grid_auto_columns": null,
       "grid_auto_flow": null,
       "grid_auto_rows": null,
       "grid_column": null,
       "grid_gap": null,
       "grid_row": null,
       "grid_template_areas": null,
       "grid_template_columns": null,
       "grid_template_rows": null,
       "height": null,
       "justify_content": null,
       "justify_items": null,
       "left": null,
       "margin": null,
       "max_height": null,
       "max_width": null,
       "min_height": null,
       "min_width": null,
       "object_fit": null,
       "object_position": null,
       "order": null,
       "overflow": null,
       "overflow_x": null,
       "overflow_y": null,
       "padding": null,
       "right": null,
       "top": null,
       "visibility": null,
       "width": null
      }
     },
     "f233a24b219b44b4829e8fa9ffb6b741": {
      "model_module": "@jupyter-widgets/base",
      "model_module_version": "1.2.0",
      "model_name": "LayoutModel",
      "state": {
       "_model_module": "@jupyter-widgets/base",
       "_model_module_version": "1.2.0",
       "_model_name": "LayoutModel",
       "_view_count": null,
       "_view_module": "@jupyter-widgets/base",
       "_view_module_version": "1.2.0",
       "_view_name": "LayoutView",
       "align_content": null,
       "align_items": null,
       "align_self": null,
       "border": null,
       "bottom": null,
       "display": null,
       "flex": null,
       "flex_flow": null,
       "grid_area": null,
       "grid_auto_columns": null,
       "grid_auto_flow": null,
       "grid_auto_rows": null,
       "grid_column": null,
       "grid_gap": null,
       "grid_row": null,
       "grid_template_areas": null,
       "grid_template_columns": null,
       "grid_template_rows": null,
       "height": null,
       "justify_content": null,
       "justify_items": null,
       "left": null,
       "margin": null,
       "max_height": null,
       "max_width": null,
       "min_height": null,
       "min_width": null,
       "object_fit": null,
       "object_position": null,
       "order": null,
       "overflow": null,
       "overflow_x": null,
       "overflow_y": null,
       "padding": null,
       "right": null,
       "top": null,
       "visibility": null,
       "width": null
      }
     },
     "f2c2317843234947981ab41124a8ee26": {
      "model_module": "@jupyter-widgets/base",
      "model_module_version": "1.2.0",
      "model_name": "LayoutModel",
      "state": {
       "_model_module": "@jupyter-widgets/base",
       "_model_module_version": "1.2.0",
       "_model_name": "LayoutModel",
       "_view_count": null,
       "_view_module": "@jupyter-widgets/base",
       "_view_module_version": "1.2.0",
       "_view_name": "LayoutView",
       "align_content": null,
       "align_items": null,
       "align_self": null,
       "border": null,
       "bottom": null,
       "display": null,
       "flex": null,
       "flex_flow": null,
       "grid_area": null,
       "grid_auto_columns": null,
       "grid_auto_flow": null,
       "grid_auto_rows": null,
       "grid_column": null,
       "grid_gap": null,
       "grid_row": null,
       "grid_template_areas": null,
       "grid_template_columns": null,
       "grid_template_rows": null,
       "height": null,
       "justify_content": null,
       "justify_items": null,
       "left": null,
       "margin": null,
       "max_height": null,
       "max_width": null,
       "min_height": null,
       "min_width": null,
       "object_fit": null,
       "object_position": null,
       "order": null,
       "overflow": null,
       "overflow_x": null,
       "overflow_y": null,
       "padding": null,
       "right": null,
       "top": null,
       "visibility": null,
       "width": null
      }
     },
     "f6b3ce8a889c4f608c97ca8c9f5d4a1d": {
      "model_module": "@jupyter-widgets/controls",
      "model_module_version": "1.5.0",
      "model_name": "HBoxModel",
      "state": {
       "_dom_classes": [],
       "_model_module": "@jupyter-widgets/controls",
       "_model_module_version": "1.5.0",
       "_model_name": "HBoxModel",
       "_view_count": null,
       "_view_module": "@jupyter-widgets/controls",
       "_view_module_version": "1.5.0",
       "_view_name": "HBoxView",
       "box_style": "",
       "children": [
        "IPY_MODEL_317730c313ba4dc6ab20b03c399b6c7d",
        "IPY_MODEL_2c2bb9223d9842dcb8751e2fdc10c215"
       ],
       "layout": "IPY_MODEL_8836b9f9ede8475ab2d4dc18d82808f6"
      }
     },
     "fd3f280ea9d44659ab355f599cc7c622": {
      "model_module": "@jupyter-widgets/controls",
      "model_module_version": "1.5.0",
      "model_name": "DescriptionStyleModel",
      "state": {
       "_model_module": "@jupyter-widgets/controls",
       "_model_module_version": "1.5.0",
       "_model_name": "DescriptionStyleModel",
       "_view_count": null,
       "_view_module": "@jupyter-widgets/base",
       "_view_module_version": "1.2.0",
       "_view_name": "StyleView",
       "description_width": ""
      }
     }
    },
    "version_major": 2,
    "version_minor": 0
   }
  }
 },
 "nbformat": 4,
 "nbformat_minor": 4
}

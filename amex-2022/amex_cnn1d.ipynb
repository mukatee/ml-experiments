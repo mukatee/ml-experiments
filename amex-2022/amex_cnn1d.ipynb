{
 "cells": [
  {
   "cell_type": "markdown",
   "id": "d4b19f7a",
   "metadata": {},
   "source": [
    "# 1D CNN-Based Keras Models for Tabular Data\n",
    "\n",
    "## For Kaggle AMEX default prediction competition data\n",
    "\n",
    "https://www.kaggle.com/competitions/amex-default-prediction/data\n",
    "\n",
    "This competition had some random looking data where no information on columns was given. The notebook is mainly to allow me to copy it for use in 1D CNN experiments in other tabular data cases.\n",
    "\n",
    "This assumes TF/Keras and various other Python libraries are installed. And GPU configured. I used a Docker image and Pipfile with all these installed."
   ]
  },
  {
   "cell_type": "code",
   "execution_count": 1,
   "id": "0c1c8efd",
   "metadata": {},
   "outputs": [],
   "source": [
    "import pandas as pd\n",
    "import numpy as np\n",
    "import multiprocessing\n",
    "from multiprocessing import Process\n",
    "import glob\n",
    "import os\n",
    "\n",
    "import optuna  # pip install optuna\n",
    "from sklearn.metrics import log_loss\n",
    "from sklearn.metrics import accuracy_score\n",
    "from sklearn.model_selection import StratifiedKFold\n",
    "from optuna.integration import LightGBMPruningCallback\n",
    "from sklearn.model_selection import train_test_split\n",
    "import lightgbm as lgbm\n",
    "import xgboost as xgb\n",
    "from tqdm import tqdm\n",
    "\n",
    "tqdm.pandas()\n",
    "\n",
    "import time\n",
    "\n",
    "N_FOLDS = 5\n"
   ]
  },
  {
   "cell_type": "code",
   "execution_count": 2,
   "id": "47e66ca1",
   "metadata": {},
   "outputs": [],
   "source": [
    "# https://www.kaggle.com/kyakovlev\n",
    "# https://www.kaggle.com/competitions/amex-default-prediction/discussion/327534\n",
    "def amex_metric_mod(y_true, y_pred):\n",
    "\n",
    "    labels     = np.transpose(np.array([y_true, y_pred]))\n",
    "    labels     = labels[labels[:, 1].argsort()[::-1]]\n",
    "    weights    = np.where(labels[:,0]==0, 20, 1)\n",
    "    cut_vals   = labels[np.cumsum(weights) <= int(0.04 * np.sum(weights))]\n",
    "    top_four   = np.sum(cut_vals[:,0]) / np.sum(labels[:,0])\n",
    "\n",
    "    gini = [0,0]\n",
    "    for i in [1,0]:\n",
    "        labels         = np.transpose(np.array([y_true, y_pred]))\n",
    "        labels         = labels[labels[:, i].argsort()[::-1]]\n",
    "        weight         = np.where(labels[:,0]==0, 20, 1)\n",
    "        weight_random  = np.cumsum(weight / np.sum(weight))\n",
    "        total_pos      = np.sum(labels[:, 0] *  weight)\n",
    "        cum_pos_found  = np.cumsum(labels[:, 0] * weight)\n",
    "        lorentz        = cum_pos_found / total_pos\n",
    "        gini[i]        = np.sum((lorentz - weight_random) * weight)\n",
    "\n",
    "    return 0.5 * (gini[1]/gini[0] + top_four)\n",
    "\n"
   ]
  },
  {
   "cell_type": "code",
   "execution_count": 3,
   "id": "81f2ef20",
   "metadata": {},
   "outputs": [],
   "source": [
    "def amex_metric(y_true, y_pred, return_components=False) -> float:\n",
    "    \"\"\"Amex metric for ndarrays\"\"\"\n",
    "    def top_four_percent_captured(df) -> float:\n",
    "        \"\"\"Corresponds to the recall for a threshold of 4 %\"\"\"\n",
    "        df['weight'] = df['target'].apply(lambda x: 20 if x==0 else 1)\n",
    "        four_pct_cutoff = int(0.04 * df['weight'].sum())\n",
    "        df['weight_cumsum'] = df['weight'].cumsum()\n",
    "        df_cutoff = df.loc[df['weight_cumsum'] <= four_pct_cutoff]\n",
    "        return (df_cutoff['target'] == 1).sum() / (df['target'] == 1).sum()\n",
    "        \n",
    "    def weighted_gini(df) -> float:\n",
    "        df['weight'] = df['target'].apply(lambda x: 20 if x==0 else 1)\n",
    "        df['random'] = (df['weight'] / df['weight'].sum()).cumsum()\n",
    "        total_pos = (df['target'] * df['weight']).sum()\n",
    "        df['cum_pos_found'] = (df['target'] * df['weight']).cumsum()\n",
    "        df['lorentz'] = df['cum_pos_found'] / total_pos\n",
    "        df['gini'] = (df['lorentz'] - df['random']) * df['weight']\n",
    "        return df['gini'].sum()\n",
    "\n",
    "    def normalized_weighted_gini(df) -> float:\n",
    "        \"\"\"Corresponds to 2 * AUC - 1\"\"\"\n",
    "        df2 = pd.DataFrame({'target': df.target, 'prediction': df.target})\n",
    "        df2.sort_values('prediction', ascending=False, inplace=True)\n",
    "        return weighted_gini(df) / weighted_gini(df2)\n",
    "\n",
    "    df = pd.DataFrame({'target': y_true.ravel(), 'prediction': y_pred.ravel()})\n",
    "    df.sort_values('prediction', ascending=False, inplace=True)\n",
    "    g = normalized_weighted_gini(df)\n",
    "    d = top_four_percent_captured(df)\n",
    "\n",
    "    if return_components: return g, d, 0.5 * (g + d)\n",
    "    return 0.5 * (g + d)"
   ]
  },
  {
   "cell_type": "code",
   "execution_count": 4,
   "id": "f7400943",
   "metadata": {},
   "outputs": [],
   "source": [
    "def format_time(seconds):\n",
    "    seconds = int(seconds)\n",
    "    minutes = seconds // 60\n",
    "    hours = minutes // 60\n",
    "    minutes = minutes % 60\n",
    "    seconds = seconds % 60\n",
    "    if hours > 0:\n",
    "        return f\"{hours}h, {minutes}m, {seconds}s\"\n",
    "    if minutes > 0:\n",
    "        return f\"{minutes}m, {seconds}s\"\n",
    "    return f\"{seconds}s\"\n",
    "        "
   ]
  },
  {
   "cell_type": "markdown",
   "id": "af62d700",
   "metadata": {},
   "source": [
    "# Path Configurations"
   ]
  },
  {
   "cell_type": "code",
   "execution_count": 5,
   "id": "d10c46a5",
   "metadata": {},
   "outputs": [],
   "source": [
    "MODEL_IDENTIFIER = \"large_v2\"\n",
    "PREDICTIONS_FILE = f\"predictions_cnn_{MODEL_IDENTIFIER}.csv\"\n",
    "SUBMISSIONS_FILE = f\"submission_cnn_{MODEL_IDENTIFIER}.csv\"\n",
    "OPTIMIZER_PARAMS_FILE = f\"optimizer_results_cnn_{MODEL_IDENTIFIER}.csv\"\n",
    "TRAIN_DATA = \"large_train_v2.parquet\"\n",
    "TEST_DATA = \"large_test_v2.parquet\""
   ]
  },
  {
   "cell_type": "markdown",
   "id": "53d95822",
   "metadata": {},
   "source": [
    "# Data Reads"
   ]
  },
  {
   "cell_type": "code",
   "execution_count": 6,
   "id": "ad638174",
   "metadata": {},
   "outputs": [
    {
     "data": {
      "text/html": [
       "<div>\n",
       "<style scoped>\n",
       "    .dataframe tbody tr th:only-of-type {\n",
       "        vertical-align: middle;\n",
       "    }\n",
       "\n",
       "    .dataframe tbody tr th {\n",
       "        vertical-align: top;\n",
       "    }\n",
       "\n",
       "    .dataframe thead th {\n",
       "        text-align: right;\n",
       "    }\n",
       "</style>\n",
       "<table border=\"1\" class=\"dataframe\">\n",
       "  <thead>\n",
       "    <tr style=\"text-align: right;\">\n",
       "      <th></th>\n",
       "      <th>S_2_1</th>\n",
       "      <th>S_2_2</th>\n",
       "      <th>S_2_3</th>\n",
       "      <th>S_2_4</th>\n",
       "      <th>S_2_5</th>\n",
       "      <th>S_2_6</th>\n",
       "      <th>S_2_7</th>\n",
       "      <th>S_2_8</th>\n",
       "      <th>S_2_9</th>\n",
       "      <th>S_2_10</th>\n",
       "      <th>...</th>\n",
       "      <th>D_68_7_6</th>\n",
       "      <th>D_68_7_7</th>\n",
       "      <th>D_68_7_8</th>\n",
       "      <th>D_68_7_9</th>\n",
       "      <th>D_68_7_10</th>\n",
       "      <th>D_68_7_11</th>\n",
       "      <th>D_68_7_12</th>\n",
       "      <th>D_68_7_13</th>\n",
       "      <th>customer_ID</th>\n",
       "      <th>target</th>\n",
       "    </tr>\n",
       "  </thead>\n",
       "  <tbody>\n",
       "    <tr>\n",
       "      <th>0</th>\n",
       "      <td>0.008214</td>\n",
       "      <td>0.037988</td>\n",
       "      <td>0.090349</td>\n",
       "      <td>0.106776</td>\n",
       "      <td>0.140657</td>\n",
       "      <td>0.160164</td>\n",
       "      <td>0.206365</td>\n",
       "      <td>0.226899</td>\n",
       "      <td>0.271047</td>\n",
       "      <td>0.285421</td>\n",
       "      <td>...</td>\n",
       "      <td>1.0</td>\n",
       "      <td>1.0</td>\n",
       "      <td>1.0</td>\n",
       "      <td>1.0</td>\n",
       "      <td>1.0</td>\n",
       "      <td>1.0</td>\n",
       "      <td>1.0</td>\n",
       "      <td>1.0</td>\n",
       "      <td>0000099d6bd597052cdcda90ffabf56573fe9d7c79be5f...</td>\n",
       "      <td>False</td>\n",
       "    </tr>\n",
       "    <tr>\n",
       "      <th>1</th>\n",
       "      <td>0.000000</td>\n",
       "      <td>0.047228</td>\n",
       "      <td>0.068788</td>\n",
       "      <td>0.119097</td>\n",
       "      <td>0.155031</td>\n",
       "      <td>0.175565</td>\n",
       "      <td>0.203285</td>\n",
       "      <td>0.239220</td>\n",
       "      <td>0.275154</td>\n",
       "      <td>0.311088</td>\n",
       "      <td>...</td>\n",
       "      <td>1.0</td>\n",
       "      <td>1.0</td>\n",
       "      <td>1.0</td>\n",
       "      <td>1.0</td>\n",
       "      <td>1.0</td>\n",
       "      <td>1.0</td>\n",
       "      <td>1.0</td>\n",
       "      <td>1.0</td>\n",
       "      <td>00000fd6641609c6ece5454664794f0340ad84dddce9a2...</td>\n",
       "      <td>False</td>\n",
       "    </tr>\n",
       "    <tr>\n",
       "      <th>2</th>\n",
       "      <td>0.010267</td>\n",
       "      <td>0.042094</td>\n",
       "      <td>0.073922</td>\n",
       "      <td>0.103696</td>\n",
       "      <td>0.136550</td>\n",
       "      <td>0.168378</td>\n",
       "      <td>0.199179</td>\n",
       "      <td>0.231006</td>\n",
       "      <td>0.261807</td>\n",
       "      <td>0.293635</td>\n",
       "      <td>...</td>\n",
       "      <td>1.0</td>\n",
       "      <td>1.0</td>\n",
       "      <td>1.0</td>\n",
       "      <td>1.0</td>\n",
       "      <td>1.0</td>\n",
       "      <td>1.0</td>\n",
       "      <td>1.0</td>\n",
       "      <td>1.0</td>\n",
       "      <td>00001b22f846c82c51f6e3958ccd81970162bae8b007e8...</td>\n",
       "      <td>False</td>\n",
       "    </tr>\n",
       "    <tr>\n",
       "      <th>3</th>\n",
       "      <td>0.030801</td>\n",
       "      <td>0.052361</td>\n",
       "      <td>0.091376</td>\n",
       "      <td>0.118070</td>\n",
       "      <td>0.140657</td>\n",
       "      <td>0.162218</td>\n",
       "      <td>0.206365</td>\n",
       "      <td>0.242300</td>\n",
       "      <td>0.276181</td>\n",
       "      <td>0.311088</td>\n",
       "      <td>...</td>\n",
       "      <td>0.0</td>\n",
       "      <td>0.0</td>\n",
       "      <td>0.0</td>\n",
       "      <td>0.0</td>\n",
       "      <td>0.0</td>\n",
       "      <td>0.0</td>\n",
       "      <td>0.0</td>\n",
       "      <td>0.0</td>\n",
       "      <td>000041bdba6ecadd89a52d11886e8eaaec9325906c9723...</td>\n",
       "      <td>False</td>\n",
       "    </tr>\n",
       "    <tr>\n",
       "      <th>4</th>\n",
       "      <td>0.029774</td>\n",
       "      <td>0.053388</td>\n",
       "      <td>0.092402</td>\n",
       "      <td>0.116016</td>\n",
       "      <td>0.146817</td>\n",
       "      <td>0.163244</td>\n",
       "      <td>0.210472</td>\n",
       "      <td>0.248460</td>\n",
       "      <td>0.280287</td>\n",
       "      <td>0.312115</td>\n",
       "      <td>...</td>\n",
       "      <td>1.0</td>\n",
       "      <td>1.0</td>\n",
       "      <td>1.0</td>\n",
       "      <td>1.0</td>\n",
       "      <td>1.0</td>\n",
       "      <td>1.0</td>\n",
       "      <td>1.0</td>\n",
       "      <td>1.0</td>\n",
       "      <td>00007889e4fcd2614b6cbe7f8f3d2e5c728eca32d9eb8a...</td>\n",
       "      <td>False</td>\n",
       "    </tr>\n",
       "  </tbody>\n",
       "</table>\n",
       "<p>5 rows × 3214 columns</p>\n",
       "</div>"
      ],
      "text/plain": [
       "      S_2_1     S_2_2     S_2_3     S_2_4     S_2_5     S_2_6     S_2_7  \\\n",
       "0  0.008214  0.037988  0.090349  0.106776  0.140657  0.160164  0.206365   \n",
       "1  0.000000  0.047228  0.068788  0.119097  0.155031  0.175565  0.203285   \n",
       "2  0.010267  0.042094  0.073922  0.103696  0.136550  0.168378  0.199179   \n",
       "3  0.030801  0.052361  0.091376  0.118070  0.140657  0.162218  0.206365   \n",
       "4  0.029774  0.053388  0.092402  0.116016  0.146817  0.163244  0.210472   \n",
       "\n",
       "      S_2_8     S_2_9    S_2_10  ...  D_68_7_6  D_68_7_7  D_68_7_8  D_68_7_9  \\\n",
       "0  0.226899  0.271047  0.285421  ...       1.0       1.0       1.0       1.0   \n",
       "1  0.239220  0.275154  0.311088  ...       1.0       1.0       1.0       1.0   \n",
       "2  0.231006  0.261807  0.293635  ...       1.0       1.0       1.0       1.0   \n",
       "3  0.242300  0.276181  0.311088  ...       0.0       0.0       0.0       0.0   \n",
       "4  0.248460  0.280287  0.312115  ...       1.0       1.0       1.0       1.0   \n",
       "\n",
       "   D_68_7_10  D_68_7_11  D_68_7_12  D_68_7_13  \\\n",
       "0        1.0        1.0        1.0        1.0   \n",
       "1        1.0        1.0        1.0        1.0   \n",
       "2        1.0        1.0        1.0        1.0   \n",
       "3        0.0        0.0        0.0        0.0   \n",
       "4        1.0        1.0        1.0        1.0   \n",
       "\n",
       "                                         customer_ID  target  \n",
       "0  0000099d6bd597052cdcda90ffabf56573fe9d7c79be5f...   False  \n",
       "1  00000fd6641609c6ece5454664794f0340ad84dddce9a2...   False  \n",
       "2  00001b22f846c82c51f6e3958ccd81970162bae8b007e8...   False  \n",
       "3  000041bdba6ecadd89a52d11886e8eaaec9325906c9723...   False  \n",
       "4  00007889e4fcd2614b6cbe7f8f3d2e5c728eca32d9eb8a...   False  \n",
       "\n",
       "[5 rows x 3214 columns]"
      ]
     },
     "execution_count": 6,
     "metadata": {},
     "output_type": "execute_result"
    }
   ],
   "source": [
    "df_train = pd.read_parquet(TRAIN_DATA, engine=\"pyarrow\")\n",
    "#this was just because I accidentally at one point scaled the target so False=0.5 and True=1.0\n",
    "df_train[\"target\"] = df_train[\"target\"] > 0.6\n",
    "df_train.head()\n"
   ]
  },
  {
   "cell_type": "code",
   "execution_count": 7,
   "id": "13eca126",
   "metadata": {},
   "outputs": [
    {
     "data": {
      "text/plain": [
       "(458913, 3214)"
      ]
     },
     "execution_count": 7,
     "metadata": {},
     "output_type": "execute_result"
    }
   ],
   "source": [
    "df_train.shape"
   ]
  },
  {
   "cell_type": "code",
   "execution_count": 8,
   "id": "8610915d",
   "metadata": {},
   "outputs": [
    {
     "data": {
      "text/html": [
       "<div>\n",
       "<style scoped>\n",
       "    .dataframe tbody tr th:only-of-type {\n",
       "        vertical-align: middle;\n",
       "    }\n",
       "\n",
       "    .dataframe tbody tr th {\n",
       "        vertical-align: top;\n",
       "    }\n",
       "\n",
       "    .dataframe thead th {\n",
       "        text-align: right;\n",
       "    }\n",
       "</style>\n",
       "<table border=\"1\" class=\"dataframe\">\n",
       "  <thead>\n",
       "    <tr style=\"text-align: right;\">\n",
       "      <th></th>\n",
       "      <th>S_2_1</th>\n",
       "      <th>S_2_2</th>\n",
       "      <th>S_2_3</th>\n",
       "      <th>S_2_4</th>\n",
       "      <th>S_2_5</th>\n",
       "      <th>S_2_6</th>\n",
       "      <th>S_2_7</th>\n",
       "      <th>S_2_8</th>\n",
       "      <th>S_2_9</th>\n",
       "      <th>S_2_10</th>\n",
       "      <th>...</th>\n",
       "      <th>D_68_7_5</th>\n",
       "      <th>D_68_7_6</th>\n",
       "      <th>D_68_7_7</th>\n",
       "      <th>D_68_7_8</th>\n",
       "      <th>D_68_7_9</th>\n",
       "      <th>D_68_7_10</th>\n",
       "      <th>D_68_7_11</th>\n",
       "      <th>D_68_7_12</th>\n",
       "      <th>D_68_7_13</th>\n",
       "      <th>customer_ID</th>\n",
       "    </tr>\n",
       "  </thead>\n",
       "  <tbody>\n",
       "    <tr>\n",
       "      <th>0</th>\n",
       "      <td>0.739220</td>\n",
       "      <td>0.774127</td>\n",
       "      <td>0.805955</td>\n",
       "      <td>0.831622</td>\n",
       "      <td>0.858316</td>\n",
       "      <td>0.887064</td>\n",
       "      <td>0.921971</td>\n",
       "      <td>0.967146</td>\n",
       "      <td>0.980493</td>\n",
       "      <td>NaN</td>\n",
       "      <td>...</td>\n",
       "      <td>1.0</td>\n",
       "      <td>1.0</td>\n",
       "      <td>1.0</td>\n",
       "      <td>1.0</td>\n",
       "      <td>1.0</td>\n",
       "      <td>NaN</td>\n",
       "      <td>NaN</td>\n",
       "      <td>NaN</td>\n",
       "      <td>NaN</td>\n",
       "      <td>00000469ba478561f23a92a868bd366de6f6527a684c9a...</td>\n",
       "    </tr>\n",
       "    <tr>\n",
       "      <th>1</th>\n",
       "      <td>0.428131</td>\n",
       "      <td>0.465092</td>\n",
       "      <td>0.495893</td>\n",
       "      <td>0.513347</td>\n",
       "      <td>0.546201</td>\n",
       "      <td>0.586242</td>\n",
       "      <td>0.622177</td>\n",
       "      <td>0.629363</td>\n",
       "      <td>0.662218</td>\n",
       "      <td>0.711499</td>\n",
       "      <td>...</td>\n",
       "      <td>1.0</td>\n",
       "      <td>1.0</td>\n",
       "      <td>1.0</td>\n",
       "      <td>1.0</td>\n",
       "      <td>1.0</td>\n",
       "      <td>1.0</td>\n",
       "      <td>1.0</td>\n",
       "      <td>1.0</td>\n",
       "      <td>1.0</td>\n",
       "      <td>00001bf2e77ff879fab36aa4fac689b9ba411dae63ae39...</td>\n",
       "    </tr>\n",
       "    <tr>\n",
       "      <th>2</th>\n",
       "      <td>0.596509</td>\n",
       "      <td>0.641684</td>\n",
       "      <td>0.663244</td>\n",
       "      <td>0.704312</td>\n",
       "      <td>0.743326</td>\n",
       "      <td>0.749487</td>\n",
       "      <td>0.811088</td>\n",
       "      <td>0.812115</td>\n",
       "      <td>0.858316</td>\n",
       "      <td>0.894251</td>\n",
       "      <td>...</td>\n",
       "      <td>1.0</td>\n",
       "      <td>1.0</td>\n",
       "      <td>1.0</td>\n",
       "      <td>1.0</td>\n",
       "      <td>1.0</td>\n",
       "      <td>1.0</td>\n",
       "      <td>0.0</td>\n",
       "      <td>0.0</td>\n",
       "      <td>0.0</td>\n",
       "      <td>0000210045da4f81e5f122c6bde5c2a617d03eef67f82c...</td>\n",
       "    </tr>\n",
       "    <tr>\n",
       "      <th>3</th>\n",
       "      <td>0.410678</td>\n",
       "      <td>0.455852</td>\n",
       "      <td>0.496920</td>\n",
       "      <td>0.502053</td>\n",
       "      <td>0.534908</td>\n",
       "      <td>0.588296</td>\n",
       "      <td>0.624230</td>\n",
       "      <td>0.637577</td>\n",
       "      <td>0.684805</td>\n",
       "      <td>0.705339</td>\n",
       "      <td>...</td>\n",
       "      <td>0.0</td>\n",
       "      <td>0.0</td>\n",
       "      <td>0.0</td>\n",
       "      <td>0.0</td>\n",
       "      <td>0.0</td>\n",
       "      <td>0.0</td>\n",
       "      <td>0.0</td>\n",
       "      <td>0.0</td>\n",
       "      <td>0.0</td>\n",
       "      <td>00003b41e58ede33b8daf61ab56d9952f17c9ad1c3976c...</td>\n",
       "    </tr>\n",
       "    <tr>\n",
       "      <th>4</th>\n",
       "      <td>0.610883</td>\n",
       "      <td>0.652977</td>\n",
       "      <td>0.684805</td>\n",
       "      <td>0.705339</td>\n",
       "      <td>0.728953</td>\n",
       "      <td>0.772074</td>\n",
       "      <td>0.800821</td>\n",
       "      <td>0.837782</td>\n",
       "      <td>0.843943</td>\n",
       "      <td>0.878850</td>\n",
       "      <td>...</td>\n",
       "      <td>1.0</td>\n",
       "      <td>1.0</td>\n",
       "      <td>1.0</td>\n",
       "      <td>1.0</td>\n",
       "      <td>0.0</td>\n",
       "      <td>0.0</td>\n",
       "      <td>0.0</td>\n",
       "      <td>0.0</td>\n",
       "      <td>0.0</td>\n",
       "      <td>00004b22eaeeeb0ec976890c1d9bfc14fd9427e98c4ee9...</td>\n",
       "    </tr>\n",
       "  </tbody>\n",
       "</table>\n",
       "<p>5 rows × 3212 columns</p>\n",
       "</div>"
      ],
      "text/plain": [
       "      S_2_1     S_2_2     S_2_3     S_2_4     S_2_5     S_2_6     S_2_7  \\\n",
       "0  0.739220  0.774127  0.805955  0.831622  0.858316  0.887064  0.921971   \n",
       "1  0.428131  0.465092  0.495893  0.513347  0.546201  0.586242  0.622177   \n",
       "2  0.596509  0.641684  0.663244  0.704312  0.743326  0.749487  0.811088   \n",
       "3  0.410678  0.455852  0.496920  0.502053  0.534908  0.588296  0.624230   \n",
       "4  0.610883  0.652977  0.684805  0.705339  0.728953  0.772074  0.800821   \n",
       "\n",
       "      S_2_8     S_2_9    S_2_10  ...  D_68_7_5  D_68_7_6  D_68_7_7  D_68_7_8  \\\n",
       "0  0.967146  0.980493       NaN  ...       1.0       1.0       1.0       1.0   \n",
       "1  0.629363  0.662218  0.711499  ...       1.0       1.0       1.0       1.0   \n",
       "2  0.812115  0.858316  0.894251  ...       1.0       1.0       1.0       1.0   \n",
       "3  0.637577  0.684805  0.705339  ...       0.0       0.0       0.0       0.0   \n",
       "4  0.837782  0.843943  0.878850  ...       1.0       1.0       1.0       1.0   \n",
       "\n",
       "   D_68_7_9  D_68_7_10  D_68_7_11  D_68_7_12  D_68_7_13  \\\n",
       "0       1.0        NaN        NaN        NaN        NaN   \n",
       "1       1.0        1.0        1.0        1.0        1.0   \n",
       "2       1.0        1.0        0.0        0.0        0.0   \n",
       "3       0.0        0.0        0.0        0.0        0.0   \n",
       "4       0.0        0.0        0.0        0.0        0.0   \n",
       "\n",
       "                                         customer_ID  \n",
       "0  00000469ba478561f23a92a868bd366de6f6527a684c9a...  \n",
       "1  00001bf2e77ff879fab36aa4fac689b9ba411dae63ae39...  \n",
       "2  0000210045da4f81e5f122c6bde5c2a617d03eef67f82c...  \n",
       "3  00003b41e58ede33b8daf61ab56d9952f17c9ad1c3976c...  \n",
       "4  00004b22eaeeeb0ec976890c1d9bfc14fd9427e98c4ee9...  \n",
       "\n",
       "[5 rows x 3212 columns]"
      ]
     },
     "execution_count": 8,
     "metadata": {},
     "output_type": "execute_result"
    }
   ],
   "source": [
    "df_test = pd.read_parquet(TEST_DATA, engine=\"pyarrow\")\n",
    "#df_test = pd.read_parquet(\"deloitte-data/keras_test.parquet\", engine=\"pyarrow\")\n",
    "df_test.head()\n"
   ]
  },
  {
   "cell_type": "code",
   "execution_count": 9,
   "id": "dee42e37",
   "metadata": {},
   "outputs": [
    {
     "data": {
      "text/plain": [
       "['fake_splitter', 'target']"
      ]
     },
     "execution_count": 9,
     "metadata": {},
     "output_type": "execute_result"
    }
   ],
   "source": [
    "[col for col in df_train.columns if col not in df_test.columns]"
   ]
  },
  {
   "cell_type": "code",
   "execution_count": 10,
   "id": "dbdd8a8a",
   "metadata": {},
   "outputs": [],
   "source": [
    "# categorical values are expected to have been handled in preprocessing (one-hot encoded in this case)"
   ]
  },
  {
   "cell_type": "code",
   "execution_count": 11,
   "id": "d9556730",
   "metadata": {},
   "outputs": [
    {
     "data": {
      "text/plain": [
       "(458913, 3214)"
      ]
     },
     "execution_count": 11,
     "metadata": {},
     "output_type": "execute_result"
    }
   ],
   "source": [
    "df_train.shape"
   ]
  },
  {
   "cell_type": "markdown",
   "id": "3e6562b4",
   "metadata": {},
   "source": [
    "# Preprocessing: Replace inf values"
   ]
  },
  {
   "cell_type": "code",
   "execution_count": 12,
   "id": "5b1c1100",
   "metadata": {},
   "outputs": [],
   "source": [
    "#have to fill na's here as the above groupby creates them\n",
    "df_train.replace([np.inf, -np.inf], np.nan,inplace=True)\n",
    "df_train.fillna(-1, inplace=True)"
   ]
  },
  {
   "cell_type": "code",
   "execution_count": 13,
   "id": "583babf1",
   "metadata": {},
   "outputs": [],
   "source": [
    "#have to fill na's here as the above groupby creates them\n",
    "df_test.replace([np.inf, -np.inf], np.nan,inplace=True)\n",
    "df_test.fillna(-1, inplace=True)"
   ]
  },
  {
   "cell_type": "markdown",
   "id": "dff16ba7",
   "metadata": {},
   "source": [
    "# Preprocessing: Create Stratification Column"
   ]
  },
  {
   "cell_type": "code",
   "execution_count": 14,
   "id": "a120def3",
   "metadata": {},
   "outputs": [],
   "source": [
    "# fake_splitter is combination of two columns to stratify on. created in pre-processing\n",
    "strat = df_train[\"fake_splitter\"]\n",
    "df_train = df_train.drop(\"fake_splitter\", axis=1)"
   ]
  },
  {
   "cell_type": "code",
   "execution_count": 15,
   "id": "cd4cb653",
   "metadata": {},
   "outputs": [
    {
     "data": {
      "text/plain": [
       "(458913, 3211)"
      ]
     },
     "execution_count": 15,
     "metadata": {},
     "output_type": "execute_result"
    }
   ],
   "source": [
    "X = df_train.drop([\"customer_ID\", \"target\"], axis=1)\n",
    "y = df_train[\"target\"]\n",
    "X.shape"
   ]
  },
  {
   "cell_type": "code",
   "execution_count": 16,
   "id": "4bd65b24",
   "metadata": {},
   "outputs": [],
   "source": [
    "stratzip = zip(strat, y)\n",
    "#stratified k-fold only supports single binary value, tuple stratification breaks it\n",
    "stratzip = [f\"{a}-{b}\" for (a,b) in stratzip]\n",
    "strat = stratzip"
   ]
  },
  {
   "cell_type": "code",
   "execution_count": 17,
   "id": "fe68a269",
   "metadata": {},
   "outputs": [
    {
     "data": {
      "text/plain": [
       "9174841"
      ]
     },
     "execution_count": 17,
     "metadata": {},
     "output_type": "execute_result"
    }
   ],
   "source": [
    "3029*13*233"
   ]
  },
  {
   "cell_type": "markdown",
   "id": "bcd044ef",
   "metadata": {},
   "source": [
    "# Model Creation and Training"
   ]
  },
  {
   "cell_type": "code",
   "execution_count": 18,
   "id": "a717ef34",
   "metadata": {},
   "outputs": [],
   "source": [
    "def reset_keras():\n",
    "    sess = tf.compat.v1.keras.backend.get_session()\n",
    "    tf.compat.v1.keras.backend.clear_session()\n",
    "    sess.close()\n",
    "    sess = tf.compat.v1.keras.backend.get_session()\n",
    "\n",
    "    try:\n",
    "        del classifier # this is from global space - change this as you need\n",
    "    except:\n",
    "        pass\n",
    "\n",
    "    # use the same config as you used to create the session\n",
    "    config = tf.compat.v1.ConfigProto()\n",
    "    config.gpu_options.per_process_gpu_memory_fraction = 1\n",
    "    config.gpu_options.visible_device_list = \"0\"\n",
    "    tf.compat.v1.keras.backend.set_session(tf.compat.v1.Session(config=config))"
   ]
  },
  {
   "cell_type": "code",
   "execution_count": 19,
   "id": "45166f49",
   "metadata": {},
   "outputs": [],
   "source": [
    "def delete_keras_models():\n",
    "    for fl in glob.glob(\"keras/*\"):\n",
    "        #Do what you want with the file\n",
    "        os.remove(fl)\n",
    "\n",
    "def create_model_cnn(X_input):\n",
    "    from keras.models import Model\n",
    "    from keras.optimizers import Adam\n",
    "    from tensorflow.keras.layers import Conv1D, BatchNormalization, Activation, MaxPooling1D, Flatten, Dropout, Dense, Input\n",
    "    from tensorflow.keras import backend as K \n",
    "    import tensorflow as tf\n",
    "\n",
    "    print(tf.config.experimental.get_memory_info('GPU:0'))\n",
    "    print(\"creating classifier, cnn\")\n",
    "    #https://stackoverflow.com/questions/59567226/how-to-programmatically-determine-available-gpu-memory-with-tensorflow?noredirect=1&lq=1\n",
    "    print(tf.config.experimental.get_memory_info('GPU:0'))\n",
    "\n",
    "    input1 = Input(shape=(X_input.shape[1:]))\n",
    "    conv1 = Conv1D(filters=64, kernel_size=13, strides=13, activation='relu')(input1)\n",
    "    conv2 = Conv1D(filters=32, kernel_size=3, strides=1, activation='relu')(conv1)\n",
    "    flatten = Flatten()(conv2)\n",
    "    hidden1 = Dense(64, activation='relu')(flatten)\n",
    "    drop1 = Dropout(0.3)(hidden1)\n",
    "    hidden2 = Dense(16, activation='relu')(drop1)\n",
    "    output = Dense(1, activation='sigmoid')(hidden2)\n",
    "\n",
    "    print(\"layers created\")\n",
    "\n",
    "    model = Model(inputs=input1, outputs=output)\n",
    "\n",
    "    print(\"model created\")\n",
    "\n",
    "    model.compile(Adam(learning_rate=.0001), loss='binary_crossentropy', metrics=['accuracy'])\n",
    "    \n",
    "    return model\n",
    "\n",
    "\n",
    "def create_model_cnn_batchnorm(X_input):\n",
    "    from keras.models import Model\n",
    "    from keras.optimizers import Adam\n",
    "    from tensorflow.keras.layers import Conv1D, BatchNormalization, Activation, MaxPooling1D, Flatten, Dropout, Dense, Input\n",
    "    from tensorflow.keras import backend as K \n",
    "    import tensorflow as tf\n",
    "\n",
    "    print(tf.config.experimental.get_memory_info('GPU:0'))\n",
    "    print(\"creating classifier, cnn\")\n",
    "    #https://stackoverflow.com/questions/59567226/how-to-programmatically-determine-available-gpu-memory-with-tensorflow?noredirect=1&lq=1\n",
    "    print(tf.config.experimental.get_memory_info('GPU:0'))\n",
    "\n",
    "    input1 = Input(shape=(X_input.shape[1:]))\n",
    "    x = Conv1D(filters=64, kernel_size=13, strides=13, activation='relu')(input1)\n",
    "    x = BatchNormalization()(x)\n",
    "    x = Conv1D(filters=32, kernel_size=6, strides=1, activation='relu')(x)\n",
    "    x = BatchNormalization()(x)\n",
    "    x = Flatten()(x)\n",
    "    x = Dropout(0.3)(x)\n",
    "    x = Dense(64, activation='relu')(x)\n",
    "    x = BatchNormalization()(x)\n",
    "    x = Dropout(0.3)(x)\n",
    "    x = Dense(16, activation='relu')(x)\n",
    "    x = BatchNormalization()(x)\n",
    "    output = Dense(1, activation='sigmoid')(x)\n",
    "\n",
    "    print(\"layers created\")\n",
    "\n",
    "    model = Model(inputs=input1, outputs=output)\n",
    "\n",
    "    print(\"model created\")\n",
    "\n",
    "    model.compile(Adam(learning_rate=.0001), loss='binary_crossentropy', metrics=['accuracy'])\n",
    "    \n",
    "    return model\n",
    "\n",
    "\n",
    "def create_model_wavenet(X_input):\n",
    "    from keras.models import Model\n",
    "    from keras.optimizers import Adam\n",
    "    from tensorflow.keras.layers import Conv1D, BatchNormalization, Activation, MaxPooling1D, Flatten, Dropout, Dense, Input\n",
    "    from tensorflow.keras import backend as K \n",
    "    import tensorflow as tf\n",
    "\n",
    "    print(\"creating classifier, wavenet\")\n",
    "    wavenet_model = tf.keras.Sequential()\n",
    "    wavenet_model.add(tf.keras.layers.InputLayer(input_shape=(X_input.shape[1:])))\n",
    "    for rate in (1, 2, 4, 8) * 2:\n",
    "        wavenet_model.add(tf.keras.layers.Conv1D(\n",
    "            filters=32, kernel_size=2, padding=\"causal\", activation=\"relu\",\n",
    "            dilation_rate=rate))\n",
    "    wavenet_model.add(tf.keras.layers.Conv1D(filters=14, kernel_size=1))\n",
    "    wavenet_model.add(tf.keras.layers.Flatten())\n",
    "    wavenet_model.add(tf.keras.layers.Dense(6, activation='relu'))\n",
    "    wavenet_model.add(tf.keras.layers.Dense(1, activation='sigmoid'))\n",
    "    wavenet_model.compile(Adam(learning_rate=.0001), loss='binary_crossentropy', metrics=['accuracy'])\n",
    "    return wavenet_model\n",
    "\n",
    "\n",
    "def create_model_bilstm(X_input):\n",
    "    from keras.models import Model\n",
    "    from keras.optimizers import Adam\n",
    "    from tensorflow.keras.layers import Conv1D, BatchNormalization, Activation, MaxPooling1D, Flatten, Dropout, Dense, Input, Bidirectional, LSTM, GRU\n",
    "    from tensorflow.keras import backend as K\n",
    "    import tensorflow as tf\n",
    "\n",
    "    print(\"creating classifier, bilstm\")\n",
    "    #https://stackoverflow.com/questions/59567226/how-to-programmatically-determine-available-gpu-memory-with-tensorflow?noredirect=1&lq=1\n",
    "    print(tf.config.experimental.get_memory_info('GPU:0'))\n",
    "\n",
    "    input1 = Input(shape=(X_input.shape[1:]))\n",
    "    gru1 = Bidirectional(LSTM(64, return_sequences=True))(input1)\n",
    "    gru2 = Bidirectional(LSTM(32, return_sequences=False))(gru1)\n",
    "    hidden1 = Dense(32, activation='relu')(gru2)\n",
    "    drop1 = Dropout(0.3)(hidden1)\n",
    "    hidden2 = Dense(16, activation='relu')(drop1)\n",
    "    output = Dense(1, activation='sigmoid')(hidden2)\n",
    "\n",
    "    print(\"layers created\")\n",
    "\n",
    "    model = Model(inputs=input1, outputs=output)\n",
    "\n",
    "    print(\"model created\")\n",
    "\n",
    "    model.compile(Adam(learning_rate=.0001), loss='binary_crossentropy', metrics=['accuracy'])\n",
    "    \n",
    "    return model\n",
    "\n",
    "def create_model_gru(X_input):\n",
    "    from keras.models import Model\n",
    "    from keras.optimizers import Adam\n",
    "    from tensorflow.keras.layers import Conv1D, BatchNormalization, Activation, MaxPooling1D, Flatten, Dropout, Dense, Input, Bidirectional, LSTM, GRU\n",
    "    from tensorflow.keras import backend as K \n",
    "    import tensorflow as tf\n",
    "\n",
    "    print(\"creating classifier, gru\")\n",
    "    #https://stackoverflow.com/questions/59567226/how-to-programmatically-determine-available-gpu-memory-with-tensorflow?noredirect=1&lq=1\n",
    "    print(tf.config.experimental.get_memory_info('GPU:0'))\n",
    "\n",
    "    input1 = Input(shape=(X_input.shape[1:]))\n",
    "    gru1 = tf.keras.layers.GRU(64, return_sequences=True)(input1)\n",
    "    gru2 = tf.keras.layers.GRU(32, return_sequences=False)(gru1)\n",
    "    hidden1 = Dense(32, activation='relu')(gru2)\n",
    "    drop1 = Dropout(0.3)(hidden1)\n",
    "    hidden2 = Dense(16, activation='relu')(drop1)\n",
    "    output = Dense(1, activation='sigmoid')(hidden2)\n",
    "\n",
    "    print(\"layers created\")\n",
    "\n",
    "    model = Model(inputs=input1, outputs=output)\n",
    "\n",
    "    print(\"model created\")\n",
    "\n",
    "    model.compile(Adam(learning_rate=.0001), loss='binary_crossentropy', metrics=['accuracy'])\n",
    "    \n",
    "    return model\n",
    "\n",
    "def create_model_cnn_gru(X_input):\n",
    "    from keras.models import Model\n",
    "    from keras.optimizers import Adam\n",
    "    from tensorflow.keras.layers import Conv1D, BatchNormalization, Activation, MaxPooling1D, Flatten, Dropout, Dense, Input, Bidirectional, LSTM, GRU\n",
    "    from tensorflow.keras import backend as K \n",
    "    import tensorflow as tf\n",
    "\n",
    "    print(\"creating classifier, cnn-gru\")\n",
    "\n",
    "    input1 = Input(shape=(X_input.shape[1:]))\n",
    "    cnn1 = Conv1D(filters=32, kernel_size=4, strides=2, activation=\"relu\")(input1)\n",
    "    gru1 = Bidirectional(GRU(64, return_sequences=False))(cnn1)\n",
    "    hidden1 = Dense(32, activation='relu')(gru1)\n",
    "    drop1 = Dropout(0.3)(hidden1)\n",
    "    hidden2 = Dense(16, activation='relu')(drop1)\n",
    "    output = Dense(1, activation='sigmoid')(hidden2)\n",
    "\n",
    "    print(\"layers created\")\n",
    "\n",
    "    model = Model(inputs=input1, outputs=output)\n",
    "\n",
    "    print(\"model created\")\n",
    "\n",
    "    model.compile(Adam(learning_rate=.0001), loss='binary_crossentropy', metrics=['accuracy'])\n",
    "    \n",
    "    return model\n",
    "\n",
    "    \n",
    "def train_and_predict(df_from, strat, X, y):\n",
    "    delete_keras_models()\n",
    "\n",
    "    manager = multiprocessing.Manager()\n",
    "    process_dict = manager.dict()\n",
    "    X_cols = X.columns\n",
    "    X = X.values.reshape(-1, X.shape[1], 1)\n",
    "\n",
    "    cols_to_drop = [col for col in df_from.columns if \"fake\" in col]\n",
    "    df_from = df_train.drop(cols_to_drop, axis=1)\n",
    "\n",
    "    cv = StratifiedKFold(n_splits=N_FOLDS, shuffle=True, random_state=1911)\n",
    "\n",
    "    cv_scores = np.empty(N_FOLDS)\n",
    "    cv_accuracies = np.empty(N_FOLDS)\n",
    "    time_start_all_folds = time.time()\n",
    "    acc_score_total = 0\n",
    "    \n",
    "    n_classes = 1\n",
    "    train_preds = np.zeros((X.shape[0], n_classes))\n",
    "\n",
    "    for idx, (train_idx, test_idx) in enumerate(cv.split(X, strat)):\n",
    "        \n",
    "        time_start_this_fold = time.time()\n",
    "        print(f\"=== STARTING FOLD {idx+1}/{N_FOLDS} ===\")\n",
    "        #K.clear_session()\n",
    "        #reset_keras()\n",
    "        axis = 0\n",
    "        X_train, X_test = np.take(X, train_idx, axis), np.take(X, test_idx, axis)\n",
    "        y_train, y_test = np.take(y, train_idx, axis), np.take(y, test_idx, axis)\n",
    "        \n",
    "        p = Process(target=train_and_predict_2, args=(idx, process_dict, X_train, y_train, X_test, y_test))\n",
    "        p.start()\n",
    "        flag = p.join()\n",
    "        print(f\"Subprocess exited with code {flag}\")\n",
    "        p.close()\n",
    "        print(\"Subprocess closed\")\n",
    "        \n",
    "        preds = process_dict[f\"preds-{idx}\"]\n",
    "        np.add.at(train_preds, test_idx, preds)\n",
    "        print(f\"count zerO: {np.count_nonzero(train_preds)}\")\n",
    "\n",
    "        preds_this_round = (preds >= 0.5)\n",
    "        acc_score = accuracy_score(y_test, preds_this_round)\n",
    "        acc_score_total += acc_score\n",
    "\n",
    "        log_loss_fold = log_loss(y_test, preds)\n",
    "        cv_scores[idx] = log_loss_fold\n",
    "        cv_accuracies[idx] = acc_score\n",
    "\n",
    "        amex_score = amex_metric(y_test, preds)\n",
    "\n",
    "        time_total_this_fold = time.time() - time_start_this_fold\n",
    "        print(f\"=== FINISHED FOLD {idx+1}/{N_FOLDS} log loss={log_loss_fold}, accuracy={acc_score}, amex={amex_score} ===\")\n",
    "        print(f\"time to run this fold: {format_time(time_total_this_fold)}\")\n",
    "\n",
    "    #print(type(train_preds))\n",
    "    #print(type(process_dict))\n",
    "    return process_dict, train_preds\n",
    "\n",
    "def train_and_predict_2(idx, process_dict, X_train, y_train, X_test, y_test):\n",
    "    #tensorflow must be imported inside a process if processes are used. otherwise the main process reserves GPU\n",
    "    import tensorflow as tf\n",
    "    \n",
    "    model = create_model_cnn_batchnorm(X_train)\n",
    "\n",
    "    print(\"model compiled, fitting\")\n",
    "    \n",
    "    model_checkpoint_callback = tf.keras.callbacks.ModelCheckpoint(\n",
    "        filepath=f\"keras/cnn-model-fold{idx}\",\n",
    "#        filepath=f\"keras/cnn-model-fold{idx}-\"+\"{epoch:02d}\",\n",
    "        save_weights_only=True,\n",
    "        monitor='val_loss',\n",
    "        mode='min',\n",
    "        save_best_only=True)\n",
    "\n",
    "    model.fit(X_train, y_train, batch_size=64, epochs=5, validation_data=(X_test, y_test), callbacks=[model_checkpoint_callback])\n",
    "    #have to store history right after fit(), as predict() seems to clear it\n",
    "    history = model.history.history\n",
    "\n",
    "    filepath = f\"keras/cnn-model-fold{idx}\"\n",
    "    print(f\"loading best weights: {filepath}\")\n",
    "    model.load_weights(filepath)\n",
    "    print(f\"predicting\")\n",
    "    preds = model.predict(X_test)\n",
    "    print(preds.shape)\n",
    "        \n",
    "    process_dict[f\"history-{idx}\"] = history\n",
    "    process_dict[f\"preds-{idx}\"] = preds\n",
    "        \n"
   ]
  },
  {
   "cell_type": "code",
   "execution_count": 20,
   "id": "470c8d03",
   "metadata": {},
   "outputs": [
    {
     "name": "stdout",
     "output_type": "stream",
     "text": [
      "=== STARTING FOLD 1/5 ===\n"
     ]
    },
    {
     "name": "stderr",
     "output_type": "stream",
     "text": [
      "2022-08-28 00:04:12.562758: I tensorflow/stream_executor/cuda/cuda_gpu_executor.cc:975] successful NUMA node read from SysFS had negative value (-1), but there must be at least one NUMA node, so returning NUMA node zero\n",
      "2022-08-28 00:04:12.592565: I tensorflow/stream_executor/cuda/cuda_gpu_executor.cc:975] successful NUMA node read from SysFS had negative value (-1), but there must be at least one NUMA node, so returning NUMA node zero\n",
      "2022-08-28 00:04:12.593432: I tensorflow/stream_executor/cuda/cuda_gpu_executor.cc:975] successful NUMA node read from SysFS had negative value (-1), but there must be at least one NUMA node, so returning NUMA node zero\n",
      "2022-08-28 00:04:12.596049: I tensorflow/core/platform/cpu_feature_guard.cc:193] This TensorFlow binary is optimized with oneAPI Deep Neural Network Library (oneDNN) to use the following CPU instructions in performance-critical operations:  AVX2 FMA\n",
      "To enable them in other operations, rebuild TensorFlow with the appropriate compiler flags.\n",
      "2022-08-28 00:04:12.598438: I tensorflow/stream_executor/cuda/cuda_gpu_executor.cc:975] successful NUMA node read from SysFS had negative value (-1), but there must be at least one NUMA node, so returning NUMA node zero\n",
      "2022-08-28 00:04:12.599270: I tensorflow/stream_executor/cuda/cuda_gpu_executor.cc:975] successful NUMA node read from SysFS had negative value (-1), but there must be at least one NUMA node, so returning NUMA node zero\n",
      "2022-08-28 00:04:12.600080: I tensorflow/stream_executor/cuda/cuda_gpu_executor.cc:975] successful NUMA node read from SysFS had negative value (-1), but there must be at least one NUMA node, so returning NUMA node zero\n"
     ]
    },
    {
     "name": "stdout",
     "output_type": "stream",
     "text": [
      "{'current': 0, 'peak': 0}\n",
      "creating classifier, cnn\n",
      "{'current': 0, 'peak': 0}\n"
     ]
    },
    {
     "name": "stderr",
     "output_type": "stream",
     "text": [
      "2022-08-28 00:04:13.256919: I tensorflow/stream_executor/cuda/cuda_gpu_executor.cc:975] successful NUMA node read from SysFS had negative value (-1), but there must be at least one NUMA node, so returning NUMA node zero\n",
      "2022-08-28 00:04:13.257787: I tensorflow/stream_executor/cuda/cuda_gpu_executor.cc:975] successful NUMA node read from SysFS had negative value (-1), but there must be at least one NUMA node, so returning NUMA node zero\n",
      "2022-08-28 00:04:13.258349: I tensorflow/stream_executor/cuda/cuda_gpu_executor.cc:975] successful NUMA node read from SysFS had negative value (-1), but there must be at least one NUMA node, so returning NUMA node zero\n",
      "2022-08-28 00:04:13.258815: I tensorflow/core/common_runtime/gpu/gpu_device.cc:1532] Created device /job:localhost/replica:0/task:0/device:GPU:0 with 22258 MB memory:  -> device: 0, name: NVIDIA GeForce RTX 3090, pci bus id: 0000:2d:00.0, compute capability: 8.6\n"
     ]
    },
    {
     "name": "stdout",
     "output_type": "stream",
     "text": [
      "layers created\n",
      "model created\n",
      "model compiled, fitting\n",
      "Epoch 1/5\n"
     ]
    },
    {
     "name": "stderr",
     "output_type": "stream",
     "text": [
      "2022-08-28 00:04:17.434332: I tensorflow/stream_executor/cuda/cuda_dnn.cc:384] Loaded cuDNN version 8100\n",
      "2022-08-28 00:04:19.256741: I tensorflow/stream_executor/cuda/cuda_blas.cc:1786] TensorFloat-32 will be used for the matrix multiplication. This will only be logged once.\n"
     ]
    },
    {
     "name": "stdout",
     "output_type": "stream",
     "text": [
      "5737/5737 [==============================] - 23s 3ms/step - loss: 0.2965 - accuracy: 0.8795 - val_loss: 0.2373 - val_accuracy: 0.8961\n",
      "Epoch 2/5\n",
      "5737/5737 [==============================] - 19s 3ms/step - loss: 0.2468 - accuracy: 0.8912 - val_loss: 0.2315 - val_accuracy: 0.8984\n",
      "Epoch 3/5\n",
      "5737/5737 [==============================] - 20s 3ms/step - loss: 0.2404 - accuracy: 0.8931 - val_loss: 0.2292 - val_accuracy: 0.8987\n",
      "Epoch 4/5\n",
      "5737/5737 [==============================] - 19s 3ms/step - loss: 0.2367 - accuracy: 0.8950 - val_loss: 0.2284 - val_accuracy: 0.8989\n",
      "Epoch 5/5\n",
      "5737/5737 [==============================] - 19s 3ms/step - loss: 0.2341 - accuracy: 0.8963 - val_loss: 0.2298 - val_accuracy: 0.8980\n",
      "loading best weights: keras/cnn-model-fold0\n",
      "predicting\n",
      "2869/2869 [==============================] - 2s 682us/step\n",
      "(91783, 1)\n",
      "Subprocess exited with code None\n",
      "Subprocess closed\n",
      "count zerO: 91783\n",
      "=== FINISHED FOLD 1/5 log loss=0.22840913584116562, accuracy=0.8989464279877537, amex=0.7772265659263757 ===\n",
      "time to run this fold: 1m, 55s\n",
      "=== STARTING FOLD 2/5 ===\n"
     ]
    },
    {
     "name": "stderr",
     "output_type": "stream",
     "text": [
      "2022-08-28 00:06:06.666926: I tensorflow/stream_executor/cuda/cuda_gpu_executor.cc:975] successful NUMA node read from SysFS had negative value (-1), but there must be at least one NUMA node, so returning NUMA node zero\n",
      "2022-08-28 00:06:06.671680: I tensorflow/stream_executor/cuda/cuda_gpu_executor.cc:975] successful NUMA node read from SysFS had negative value (-1), but there must be at least one NUMA node, so returning NUMA node zero\n",
      "2022-08-28 00:06:06.672212: I tensorflow/stream_executor/cuda/cuda_gpu_executor.cc:975] successful NUMA node read from SysFS had negative value (-1), but there must be at least one NUMA node, so returning NUMA node zero\n",
      "2022-08-28 00:06:06.672901: I tensorflow/core/platform/cpu_feature_guard.cc:193] This TensorFlow binary is optimized with oneAPI Deep Neural Network Library (oneDNN) to use the following CPU instructions in performance-critical operations:  AVX2 FMA\n",
      "To enable them in other operations, rebuild TensorFlow with the appropriate compiler flags.\n",
      "2022-08-28 00:06:06.673711: I tensorflow/stream_executor/cuda/cuda_gpu_executor.cc:975] successful NUMA node read from SysFS had negative value (-1), but there must be at least one NUMA node, so returning NUMA node zero\n",
      "2022-08-28 00:06:06.674302: I tensorflow/stream_executor/cuda/cuda_gpu_executor.cc:975] successful NUMA node read from SysFS had negative value (-1), but there must be at least one NUMA node, so returning NUMA node zero\n",
      "2022-08-28 00:06:06.674822: I tensorflow/stream_executor/cuda/cuda_gpu_executor.cc:975] successful NUMA node read from SysFS had negative value (-1), but there must be at least one NUMA node, so returning NUMA node zero\n"
     ]
    },
    {
     "name": "stdout",
     "output_type": "stream",
     "text": [
      "{'current': 0, 'peak': 0}\n",
      "creating classifier, cnn\n",
      "{'current': 0, 'peak': 0}\n",
      "layers created\n",
      "model created\n",
      "model compiled, fitting\n"
     ]
    },
    {
     "name": "stderr",
     "output_type": "stream",
     "text": [
      "2022-08-28 00:06:06.937501: I tensorflow/stream_executor/cuda/cuda_gpu_executor.cc:975] successful NUMA node read from SysFS had negative value (-1), but there must be at least one NUMA node, so returning NUMA node zero\n",
      "2022-08-28 00:06:06.938010: I tensorflow/stream_executor/cuda/cuda_gpu_executor.cc:975] successful NUMA node read from SysFS had negative value (-1), but there must be at least one NUMA node, so returning NUMA node zero\n",
      "2022-08-28 00:06:06.938480: I tensorflow/stream_executor/cuda/cuda_gpu_executor.cc:975] successful NUMA node read from SysFS had negative value (-1), but there must be at least one NUMA node, so returning NUMA node zero\n",
      "2022-08-28 00:06:06.938930: I tensorflow/core/common_runtime/gpu/gpu_device.cc:1532] Created device /job:localhost/replica:0/task:0/device:GPU:0 with 22256 MB memory:  -> device: 0, name: NVIDIA GeForce RTX 3090, pci bus id: 0000:2d:00.0, compute capability: 8.6\n"
     ]
    },
    {
     "name": "stdout",
     "output_type": "stream",
     "text": [
      "Epoch 1/5\n"
     ]
    },
    {
     "name": "stderr",
     "output_type": "stream",
     "text": [
      "2022-08-28 00:06:10.569489: I tensorflow/stream_executor/cuda/cuda_dnn.cc:384] Loaded cuDNN version 8100\n"
     ]
    },
    {
     "name": "stdout",
     "output_type": "stream",
     "text": [
      "\r",
      "   1/5737 [..............................] - ETA: 2:49:58 - loss: 0.8800 - accuracy: 0.4219"
     ]
    },
    {
     "name": "stderr",
     "output_type": "stream",
     "text": [
      "2022-08-28 00:06:11.318193: I tensorflow/stream_executor/cuda/cuda_blas.cc:1786] TensorFloat-32 will be used for the matrix multiplication. This will only be logged once.\n"
     ]
    },
    {
     "name": "stdout",
     "output_type": "stream",
     "text": [
      "5737/5737 [==============================] - 21s 3ms/step - loss: 0.2995 - accuracy: 0.8788 - val_loss: 0.2384 - val_accuracy: 0.8942\n",
      "Epoch 2/5\n",
      "5737/5737 [==============================] - 19s 3ms/step - loss: 0.2476 - accuracy: 0.8911 - val_loss: 0.2329 - val_accuracy: 0.8969\n",
      "Epoch 3/5\n",
      "5737/5737 [==============================] - 19s 3ms/step - loss: 0.2402 - accuracy: 0.8934 - val_loss: 0.2307 - val_accuracy: 0.8974\n",
      "Epoch 4/5\n",
      "5737/5737 [==============================] - 19s 3ms/step - loss: 0.2368 - accuracy: 0.8952 - val_loss: 0.2298 - val_accuracy: 0.8984\n",
      "Epoch 5/5\n",
      "5737/5737 [==============================] - 19s 3ms/step - loss: 0.2337 - accuracy: 0.8968 - val_loss: 0.2288 - val_accuracy: 0.8993\n",
      "loading best weights: keras/cnn-model-fold1\n",
      "predicting\n",
      "2869/2869 [==============================] - 2s 703us/step\n",
      "(91783, 1)\n",
      "Subprocess exited with code None\n",
      "Subprocess closed\n",
      "count zerO: 183566\n",
      "=== FINISHED FOLD 2/5 log loss=0.2287704374929481, accuracy=0.8993059716941045, amex=0.7740029384025113 ===\n",
      "time to run this fold: 1m, 51s\n",
      "=== STARTING FOLD 3/5 ===\n"
     ]
    },
    {
     "name": "stderr",
     "output_type": "stream",
     "text": [
      "2022-08-28 00:07:57.726333: I tensorflow/stream_executor/cuda/cuda_gpu_executor.cc:975] successful NUMA node read from SysFS had negative value (-1), but there must be at least one NUMA node, so returning NUMA node zero\n",
      "2022-08-28 00:07:57.729548: I tensorflow/stream_executor/cuda/cuda_gpu_executor.cc:975] successful NUMA node read from SysFS had negative value (-1), but there must be at least one NUMA node, so returning NUMA node zero\n",
      "2022-08-28 00:07:57.730073: I tensorflow/stream_executor/cuda/cuda_gpu_executor.cc:975] successful NUMA node read from SysFS had negative value (-1), but there must be at least one NUMA node, so returning NUMA node zero\n",
      "2022-08-28 00:07:57.730753: I tensorflow/core/platform/cpu_feature_guard.cc:193] This TensorFlow binary is optimized with oneAPI Deep Neural Network Library (oneDNN) to use the following CPU instructions in performance-critical operations:  AVX2 FMA\n",
      "To enable them in other operations, rebuild TensorFlow with the appropriate compiler flags.\n",
      "2022-08-28 00:07:57.731638: I tensorflow/stream_executor/cuda/cuda_gpu_executor.cc:975] successful NUMA node read from SysFS had negative value (-1), but there must be at least one NUMA node, so returning NUMA node zero\n",
      "2022-08-28 00:07:57.732340: I tensorflow/stream_executor/cuda/cuda_gpu_executor.cc:975] successful NUMA node read from SysFS had negative value (-1), but there must be at least one NUMA node, so returning NUMA node zero\n",
      "2022-08-28 00:07:57.733182: I tensorflow/stream_executor/cuda/cuda_gpu_executor.cc:975] successful NUMA node read from SysFS had negative value (-1), but there must be at least one NUMA node, so returning NUMA node zero\n"
     ]
    },
    {
     "name": "stdout",
     "output_type": "stream",
     "text": [
      "{'current': 0, 'peak': 0}\n",
      "creating classifier, cnn\n",
      "{'current': 0, 'peak': 0}\n",
      "layers created\n",
      "model created\n",
      "model compiled, fitting\n"
     ]
    },
    {
     "name": "stderr",
     "output_type": "stream",
     "text": [
      "2022-08-28 00:07:57.997981: I tensorflow/stream_executor/cuda/cuda_gpu_executor.cc:975] successful NUMA node read from SysFS had negative value (-1), but there must be at least one NUMA node, so returning NUMA node zero\n",
      "2022-08-28 00:07:57.998494: I tensorflow/stream_executor/cuda/cuda_gpu_executor.cc:975] successful NUMA node read from SysFS had negative value (-1), but there must be at least one NUMA node, so returning NUMA node zero\n",
      "2022-08-28 00:07:57.999015: I tensorflow/stream_executor/cuda/cuda_gpu_executor.cc:975] successful NUMA node read from SysFS had negative value (-1), but there must be at least one NUMA node, so returning NUMA node zero\n",
      "2022-08-28 00:07:57.999491: I tensorflow/core/common_runtime/gpu/gpu_device.cc:1532] Created device /job:localhost/replica:0/task:0/device:GPU:0 with 22256 MB memory:  -> device: 0, name: NVIDIA GeForce RTX 3090, pci bus id: 0000:2d:00.0, compute capability: 8.6\n"
     ]
    },
    {
     "name": "stdout",
     "output_type": "stream",
     "text": [
      "Epoch 1/5\n"
     ]
    },
    {
     "name": "stderr",
     "output_type": "stream",
     "text": [
      "2022-08-28 00:08:01.693520: I tensorflow/stream_executor/cuda/cuda_dnn.cc:384] Loaded cuDNN version 8100\n"
     ]
    },
    {
     "name": "stdout",
     "output_type": "stream",
     "text": [
      "\r",
      "   1/5737 [..............................] - ETA: 2:52:10 - loss: 1.1746 - accuracy: 0.2344"
     ]
    },
    {
     "name": "stderr",
     "output_type": "stream",
     "text": [
      "2022-08-28 00:08:02.445502: I tensorflow/stream_executor/cuda/cuda_blas.cc:1786] TensorFloat-32 will be used for the matrix multiplication. This will only be logged once.\n"
     ]
    },
    {
     "name": "stdout",
     "output_type": "stream",
     "text": [
      "5737/5737 [==============================] - 22s 4ms/step - loss: 0.3024 - accuracy: 0.8751 - val_loss: 0.2365 - val_accuracy: 0.8946\n",
      "Epoch 2/5\n",
      "5737/5737 [==============================] - 19s 3ms/step - loss: 0.2433 - accuracy: 0.8923 - val_loss: 0.2295 - val_accuracy: 0.8985\n",
      "Epoch 3/5\n",
      "5737/5737 [==============================] - 20s 3ms/step - loss: 0.2377 - accuracy: 0.8945 - val_loss: 0.2279 - val_accuracy: 0.8987\n",
      "Epoch 4/5\n",
      "5737/5737 [==============================] - 19s 3ms/step - loss: 0.2343 - accuracy: 0.8960 - val_loss: 0.2260 - val_accuracy: 0.9006\n",
      "Epoch 5/5\n",
      "5737/5737 [==============================] - 19s 3ms/step - loss: 0.2322 - accuracy: 0.8970 - val_loss: 0.2280 - val_accuracy: 0.8977\n",
      "loading best weights: keras/cnn-model-fold2\n",
      "predicting\n",
      "2869/2869 [==============================] - 2s 723us/step\n",
      "(91783, 1)\n",
      "Subprocess exited with code None\n",
      "Subprocess closed\n",
      "count zerO: 275349\n",
      "=== FINISHED FOLD 3/5 log loss=0.22596239363569523, accuracy=0.9006460891450486, amex=0.78236262311369 ===\n",
      "time to run this fold: 1m, 52s\n",
      "=== STARTING FOLD 4/5 ===\n"
     ]
    },
    {
     "name": "stderr",
     "output_type": "stream",
     "text": [
      "2022-08-28 00:09:49.814584: I tensorflow/stream_executor/cuda/cuda_gpu_executor.cc:975] successful NUMA node read from SysFS had negative value (-1), but there must be at least one NUMA node, so returning NUMA node zero\n",
      "2022-08-28 00:09:49.819341: I tensorflow/stream_executor/cuda/cuda_gpu_executor.cc:975] successful NUMA node read from SysFS had negative value (-1), but there must be at least one NUMA node, so returning NUMA node zero\n",
      "2022-08-28 00:09:49.819885: I tensorflow/stream_executor/cuda/cuda_gpu_executor.cc:975] successful NUMA node read from SysFS had negative value (-1), but there must be at least one NUMA node, so returning NUMA node zero\n",
      "2022-08-28 00:09:49.820593: I tensorflow/core/platform/cpu_feature_guard.cc:193] This TensorFlow binary is optimized with oneAPI Deep Neural Network Library (oneDNN) to use the following CPU instructions in performance-critical operations:  AVX2 FMA\n",
      "To enable them in other operations, rebuild TensorFlow with the appropriate compiler flags.\n",
      "2022-08-28 00:09:49.821395: I tensorflow/stream_executor/cuda/cuda_gpu_executor.cc:975] successful NUMA node read from SysFS had negative value (-1), but there must be at least one NUMA node, so returning NUMA node zero\n",
      "2022-08-28 00:09:49.821985: I tensorflow/stream_executor/cuda/cuda_gpu_executor.cc:975] successful NUMA node read from SysFS had negative value (-1), but there must be at least one NUMA node, so returning NUMA node zero\n",
      "2022-08-28 00:09:49.822514: I tensorflow/stream_executor/cuda/cuda_gpu_executor.cc:975] successful NUMA node read from SysFS had negative value (-1), but there must be at least one NUMA node, so returning NUMA node zero\n"
     ]
    },
    {
     "name": "stdout",
     "output_type": "stream",
     "text": [
      "{'current': 0, 'peak': 0}\n",
      "creating classifier, cnn\n",
      "{'current': 0, 'peak': 0}\n",
      "layers created\n",
      "model created\n",
      "model compiled, fitting\n"
     ]
    },
    {
     "name": "stderr",
     "output_type": "stream",
     "text": [
      "2022-08-28 00:09:50.082408: I tensorflow/stream_executor/cuda/cuda_gpu_executor.cc:975] successful NUMA node read from SysFS had negative value (-1), but there must be at least one NUMA node, so returning NUMA node zero\n",
      "2022-08-28 00:09:50.082918: I tensorflow/stream_executor/cuda/cuda_gpu_executor.cc:975] successful NUMA node read from SysFS had negative value (-1), but there must be at least one NUMA node, so returning NUMA node zero\n",
      "2022-08-28 00:09:50.083430: I tensorflow/stream_executor/cuda/cuda_gpu_executor.cc:975] successful NUMA node read from SysFS had negative value (-1), but there must be at least one NUMA node, so returning NUMA node zero\n",
      "2022-08-28 00:09:50.083905: I tensorflow/core/common_runtime/gpu/gpu_device.cc:1532] Created device /job:localhost/replica:0/task:0/device:GPU:0 with 22256 MB memory:  -> device: 0, name: NVIDIA GeForce RTX 3090, pci bus id: 0000:2d:00.0, compute capability: 8.6\n"
     ]
    },
    {
     "name": "stdout",
     "output_type": "stream",
     "text": [
      "Epoch 1/5\n"
     ]
    },
    {
     "name": "stderr",
     "output_type": "stream",
     "text": [
      "2022-08-28 00:09:53.734458: I tensorflow/stream_executor/cuda/cuda_dnn.cc:384] Loaded cuDNN version 8100\n"
     ]
    },
    {
     "name": "stdout",
     "output_type": "stream",
     "text": [
      "\r",
      "   1/5737 [..............................] - ETA: 2:51:45 - loss: 1.0727 - accuracy: 0.5625"
     ]
    },
    {
     "name": "stderr",
     "output_type": "stream",
     "text": [
      "2022-08-28 00:09:54.490258: I tensorflow/stream_executor/cuda/cuda_blas.cc:1786] TensorFloat-32 will be used for the matrix multiplication. This will only be logged once.\n"
     ]
    },
    {
     "name": "stdout",
     "output_type": "stream",
     "text": [
      "5737/5737 [==============================] - 22s 3ms/step - loss: 0.3014 - accuracy: 0.8765 - val_loss: 0.2383 - val_accuracy: 0.8951\n",
      "Epoch 2/5\n",
      "5737/5737 [==============================] - 20s 3ms/step - loss: 0.2489 - accuracy: 0.8902 - val_loss: 0.2314 - val_accuracy: 0.8980\n",
      "Epoch 3/5\n",
      "5737/5737 [==============================] - 19s 3ms/step - loss: 0.2414 - accuracy: 0.8931 - val_loss: 0.2294 - val_accuracy: 0.8984\n",
      "Epoch 4/5\n",
      "5737/5737 [==============================] - 20s 3ms/step - loss: 0.2373 - accuracy: 0.8950 - val_loss: 0.2289 - val_accuracy: 0.8978\n",
      "Epoch 5/5\n",
      "5737/5737 [==============================] - 19s 3ms/step - loss: 0.2346 - accuracy: 0.8964 - val_loss: 0.2294 - val_accuracy: 0.8977\n",
      "loading best weights: keras/cnn-model-fold3\n",
      "predicting\n",
      "2869/2869 [==============================] - 2s 719us/step\n",
      "(91782, 1)\n",
      "Subprocess exited with code None\n",
      "Subprocess closed\n",
      "count zerO: 367131\n",
      "=== FINISHED FOLD 4/5 log loss=0.22891536152259445, accuracy=0.8978013118040574, amex=0.7739837860098228 ===\n",
      "time to run this fold: 1m, 52s\n",
      "=== STARTING FOLD 5/5 ===\n"
     ]
    },
    {
     "name": "stderr",
     "output_type": "stream",
     "text": [
      "2022-08-28 00:11:41.917262: I tensorflow/stream_executor/cuda/cuda_gpu_executor.cc:975] successful NUMA node read from SysFS had negative value (-1), but there must be at least one NUMA node, so returning NUMA node zero\n",
      "2022-08-28 00:11:41.920487: I tensorflow/stream_executor/cuda/cuda_gpu_executor.cc:975] successful NUMA node read from SysFS had negative value (-1), but there must be at least one NUMA node, so returning NUMA node zero\n",
      "2022-08-28 00:11:41.921025: I tensorflow/stream_executor/cuda/cuda_gpu_executor.cc:975] successful NUMA node read from SysFS had negative value (-1), but there must be at least one NUMA node, so returning NUMA node zero\n",
      "2022-08-28 00:11:41.921712: I tensorflow/core/platform/cpu_feature_guard.cc:193] This TensorFlow binary is optimized with oneAPI Deep Neural Network Library (oneDNN) to use the following CPU instructions in performance-critical operations:  AVX2 FMA\n",
      "To enable them in other operations, rebuild TensorFlow with the appropriate compiler flags.\n",
      "2022-08-28 00:11:41.922522: I tensorflow/stream_executor/cuda/cuda_gpu_executor.cc:975] successful NUMA node read from SysFS had negative value (-1), but there must be at least one NUMA node, so returning NUMA node zero\n",
      "2022-08-28 00:11:41.923098: I tensorflow/stream_executor/cuda/cuda_gpu_executor.cc:975] successful NUMA node read from SysFS had negative value (-1), but there must be at least one NUMA node, so returning NUMA node zero\n",
      "2022-08-28 00:11:41.923612: I tensorflow/stream_executor/cuda/cuda_gpu_executor.cc:975] successful NUMA node read from SysFS had negative value (-1), but there must be at least one NUMA node, so returning NUMA node zero\n"
     ]
    },
    {
     "name": "stdout",
     "output_type": "stream",
     "text": [
      "{'current': 0, 'peak': 0}\n",
      "creating classifier, cnn\n",
      "{'current': 0, 'peak': 0}\n",
      "layers created\n",
      "model created\n",
      "model compiled, fitting\n"
     ]
    },
    {
     "name": "stderr",
     "output_type": "stream",
     "text": [
      "2022-08-28 00:11:42.184686: I tensorflow/stream_executor/cuda/cuda_gpu_executor.cc:975] successful NUMA node read from SysFS had negative value (-1), but there must be at least one NUMA node, so returning NUMA node zero\n",
      "2022-08-28 00:11:42.185251: I tensorflow/stream_executor/cuda/cuda_gpu_executor.cc:975] successful NUMA node read from SysFS had negative value (-1), but there must be at least one NUMA node, so returning NUMA node zero\n",
      "2022-08-28 00:11:42.185764: I tensorflow/stream_executor/cuda/cuda_gpu_executor.cc:975] successful NUMA node read from SysFS had negative value (-1), but there must be at least one NUMA node, so returning NUMA node zero\n",
      "2022-08-28 00:11:42.186242: I tensorflow/core/common_runtime/gpu/gpu_device.cc:1532] Created device /job:localhost/replica:0/task:0/device:GPU:0 with 22258 MB memory:  -> device: 0, name: NVIDIA GeForce RTX 3090, pci bus id: 0000:2d:00.0, compute capability: 8.6\n"
     ]
    },
    {
     "name": "stdout",
     "output_type": "stream",
     "text": [
      "Epoch 1/5\n"
     ]
    },
    {
     "name": "stderr",
     "output_type": "stream",
     "text": [
      "2022-08-28 00:11:45.852854: I tensorflow/stream_executor/cuda/cuda_dnn.cc:384] Loaded cuDNN version 8100\n"
     ]
    },
    {
     "name": "stdout",
     "output_type": "stream",
     "text": [
      "\r",
      "   1/5737 [..............................] - ETA: 2:51:30 - loss: 0.6357 - accuracy: 0.7188"
     ]
    },
    {
     "name": "stderr",
     "output_type": "stream",
     "text": [
      "2022-08-28 00:11:46.612299: I tensorflow/stream_executor/cuda/cuda_blas.cc:1786] TensorFloat-32 will be used for the matrix multiplication. This will only be logged once.\n"
     ]
    },
    {
     "name": "stdout",
     "output_type": "stream",
     "text": [
      "5737/5737 [==============================] - 22s 4ms/step - loss: 0.2987 - accuracy: 0.8787 - val_loss: 0.2401 - val_accuracy: 0.8939\n",
      "Epoch 2/5\n",
      "5737/5737 [==============================] - 19s 3ms/step - loss: 0.2488 - accuracy: 0.8902 - val_loss: 0.2316 - val_accuracy: 0.8976\n",
      "Epoch 3/5\n",
      "5737/5737 [==============================] - 19s 3ms/step - loss: 0.2419 - accuracy: 0.8928 - val_loss: 0.2285 - val_accuracy: 0.8990\n",
      "Epoch 4/5\n",
      "5737/5737 [==============================] - 19s 3ms/step - loss: 0.2379 - accuracy: 0.8945 - val_loss: 0.2268 - val_accuracy: 0.8991\n",
      "Epoch 5/5\n",
      "5737/5737 [==============================] - 20s 3ms/step - loss: 0.2354 - accuracy: 0.8960 - val_loss: 0.2274 - val_accuracy: 0.8989\n",
      "loading best weights: keras/cnn-model-fold4\n",
      "predicting\n",
      "2869/2869 [==============================] - 2s 743us/step\n",
      "(91782, 1)\n",
      "Subprocess exited with code None\n",
      "Subprocess closed\n",
      "count zerO: 458913\n",
      "=== FINISHED FOLD 5/5 log loss=0.22678537793670261, accuracy=0.8990869669434094, amex=0.7770146034903859 ===\n",
      "time to run this fold: 1m, 52s\n"
     ]
    }
   ],
   "source": [
    "process_dict, train_preds = train_and_predict(df_train, strat, X, y)\n"
   ]
  },
  {
   "cell_type": "code",
   "execution_count": 21,
   "id": "50bba19b",
   "metadata": {},
   "outputs": [
    {
     "data": {
      "text/plain": [
       "5736.4125"
      ]
     },
     "execution_count": 21,
     "metadata": {},
     "output_type": "execute_result"
    }
   ],
   "source": [
    "458913/64*0.8"
   ]
  },
  {
   "cell_type": "code",
   "execution_count": null,
   "id": "903cfb86",
   "metadata": {},
   "outputs": [],
   "source": []
  },
  {
   "cell_type": "code",
   "execution_count": null,
   "id": "e84ee35e",
   "metadata": {},
   "outputs": [],
   "source": []
  },
  {
   "cell_type": "code",
   "execution_count": 22,
   "id": "969fd8e8",
   "metadata": {},
   "outputs": [],
   "source": [
    "#large data set\n",
    "\n",
    "#13 rows\n",
    "#wavenet 0.76-0.77\n",
    "#gru 0.75-0.76 (3 iter)\n",
    "#bi-lstm 0.75-0.77\n",
    "\n",
    "#1 row\n",
    "#bi-lstm 0.75-0.77\n",
    "#wavenet 0.77-0.79\n",
    "#gru-cnn 0.70\n",
    "#perus cnn 0.77-0.78\n",
    "\n",
    "#deloitte data set\n",
    "#wavenet 0.774-0.784\n",
    "#cnn 0.766-0.785\n"
   ]
  },
  {
   "cell_type": "markdown",
   "id": "fe9a064e",
   "metadata": {},
   "source": [
    "# Save Out of Fold Predictions from Training "
   ]
  },
  {
   "cell_type": "code",
   "execution_count": 23,
   "id": "d7e08dd0",
   "metadata": {},
   "outputs": [
    {
     "data": {
      "text/plain": [
       "array([[0.99111253],\n",
       "       [0.28556508],\n",
       "       [0.12409421],\n",
       "       ...,\n",
       "       [0.20284677],\n",
       "       [0.00877489],\n",
       "       [0.00362701]], dtype=float32)"
      ]
     },
     "execution_count": 23,
     "metadata": {},
     "output_type": "execute_result"
    }
   ],
   "source": [
    "process_dict[\"preds-1\"]"
   ]
  },
  {
   "cell_type": "code",
   "execution_count": 24,
   "id": "f70eecdb",
   "metadata": {},
   "outputs": [
    {
     "data": {
      "text/plain": [
       "(458913, 1)"
      ]
     },
     "execution_count": 24,
     "metadata": {},
     "output_type": "execute_result"
    }
   ],
   "source": [
    "train_preds.shape"
   ]
  },
  {
   "cell_type": "code",
   "execution_count": 25,
   "id": "4390b134",
   "metadata": {},
   "outputs": [],
   "source": [
    "df_preds = pd.DataFrame()\n",
    "df_preds[\"customer_ID\"] = df_train[\"customer_ID\"]\n",
    "df_preds[\"prediction\"] = train_preds"
   ]
  },
  {
   "cell_type": "code",
   "execution_count": 26,
   "id": "441c1941",
   "metadata": {},
   "outputs": [
    {
     "data": {
      "text/plain": [
       "0.7768854485848968"
      ]
     },
     "execution_count": 26,
     "metadata": {},
     "output_type": "execute_result"
    }
   ],
   "source": [
    "amex_metric_mod(y, train_preds[:, 0])    "
   ]
  },
  {
   "cell_type": "code",
   "execution_count": 27,
   "id": "4c258c02",
   "metadata": {},
   "outputs": [],
   "source": [
    "df_preds.to_csv(\"predictions_cnn.csv\")"
   ]
  },
  {
   "cell_type": "markdown",
   "id": "90deaa81",
   "metadata": {},
   "source": [
    "# Reload Models, Predict Entire Training Set"
   ]
  },
  {
   "cell_type": "code",
   "execution_count": 28,
   "id": "918df72c",
   "metadata": {},
   "outputs": [],
   "source": [
    "#test.replace([np.inf, -np.inf], np.nan,inplace=True)\n",
    "X_train = df_train.drop([\"customer_ID\", \"target\"], axis=1)\n",
    "X = X_train.values.reshape(-1, X_train.shape[1], 1)\n"
   ]
  },
  {
   "cell_type": "code",
   "execution_count": 29,
   "id": "6b41b95e",
   "metadata": {},
   "outputs": [
    {
     "data": {
      "text/plain": [
       "Index(['S_2_1', 'S_2_2', 'S_2_3', 'S_2_4', 'S_2_5', 'S_2_6', 'S_2_7', 'S_2_8',\n",
       "       'S_2_9', 'S_2_10',\n",
       "       ...\n",
       "       'D_68_7_4', 'D_68_7_5', 'D_68_7_6', 'D_68_7_7', 'D_68_7_8', 'D_68_7_9',\n",
       "       'D_68_7_10', 'D_68_7_11', 'D_68_7_12', 'D_68_7_13'],\n",
       "      dtype='object', length=3211)"
      ]
     },
     "execution_count": 29,
     "metadata": {},
     "output_type": "execute_result"
    }
   ],
   "source": [
    "X_train.columns"
   ]
  },
  {
   "cell_type": "code",
   "execution_count": 30,
   "id": "0467a1d3",
   "metadata": {},
   "outputs": [],
   "source": [
    "def predict_keras(idx, process_dict, X, weights_filepath):\n",
    "    model = create_model_cnn_batchnorm(X)\n",
    "    model.load_weights(filepath)\n",
    "    preds = model.predict(X)\n",
    "    process_dict[f\"preds-{idx}\"] = preds"
   ]
  },
  {
   "cell_type": "code",
   "execution_count": 31,
   "id": "29c48bc0",
   "metadata": {},
   "outputs": [
    {
     "name": "stdout",
     "output_type": "stream",
     "text": [
      "keras/cnn-model-fold0*.data-*\n",
      "=== STARTING TO PREDICT 1/5: keras/cnn-model-fold0 === \n"
     ]
    },
    {
     "name": "stderr",
     "output_type": "stream",
     "text": [
      "2022-08-28 00:13:31.322204: I tensorflow/stream_executor/cuda/cuda_gpu_executor.cc:975] successful NUMA node read from SysFS had negative value (-1), but there must be at least one NUMA node, so returning NUMA node zero\n",
      "2022-08-28 00:13:31.325625: I tensorflow/stream_executor/cuda/cuda_gpu_executor.cc:975] successful NUMA node read from SysFS had negative value (-1), but there must be at least one NUMA node, so returning NUMA node zero\n",
      "2022-08-28 00:13:31.326132: I tensorflow/stream_executor/cuda/cuda_gpu_executor.cc:975] successful NUMA node read from SysFS had negative value (-1), but there must be at least one NUMA node, so returning NUMA node zero\n",
      "2022-08-28 00:13:31.326804: I tensorflow/core/platform/cpu_feature_guard.cc:193] This TensorFlow binary is optimized with oneAPI Deep Neural Network Library (oneDNN) to use the following CPU instructions in performance-critical operations:  AVX2 FMA\n",
      "To enable them in other operations, rebuild TensorFlow with the appropriate compiler flags.\n",
      "2022-08-28 00:13:31.327628: I tensorflow/stream_executor/cuda/cuda_gpu_executor.cc:975] successful NUMA node read from SysFS had negative value (-1), but there must be at least one NUMA node, so returning NUMA node zero\n",
      "2022-08-28 00:13:31.328191: I tensorflow/stream_executor/cuda/cuda_gpu_executor.cc:975] successful NUMA node read from SysFS had negative value (-1), but there must be at least one NUMA node, so returning NUMA node zero\n",
      "2022-08-28 00:13:31.328688: I tensorflow/stream_executor/cuda/cuda_gpu_executor.cc:975] successful NUMA node read from SysFS had negative value (-1), but there must be at least one NUMA node, so returning NUMA node zero\n"
     ]
    },
    {
     "name": "stdout",
     "output_type": "stream",
     "text": [
      "{'current': 0, 'peak': 0}\n",
      "creating classifier, cnn\n",
      "{'current': 0, 'peak': 0}\n",
      "layers created\n",
      "model created\n"
     ]
    },
    {
     "name": "stderr",
     "output_type": "stream",
     "text": [
      "2022-08-28 00:13:31.606477: I tensorflow/stream_executor/cuda/cuda_gpu_executor.cc:975] successful NUMA node read from SysFS had negative value (-1), but there must be at least one NUMA node, so returning NUMA node zero\n",
      "2022-08-28 00:13:31.606981: I tensorflow/stream_executor/cuda/cuda_gpu_executor.cc:975] successful NUMA node read from SysFS had negative value (-1), but there must be at least one NUMA node, so returning NUMA node zero\n",
      "2022-08-28 00:13:31.607453: I tensorflow/stream_executor/cuda/cuda_gpu_executor.cc:975] successful NUMA node read from SysFS had negative value (-1), but there must be at least one NUMA node, so returning NUMA node zero\n",
      "2022-08-28 00:13:31.607897: I tensorflow/core/common_runtime/gpu/gpu_device.cc:1532] Created device /job:localhost/replica:0/task:0/device:GPU:0 with 22258 MB memory:  -> device: 0, name: NVIDIA GeForce RTX 3090, pci bus id: 0000:2d:00.0, compute capability: 8.6\n",
      "2022-08-28 00:13:38.064818: I tensorflow/stream_executor/cuda/cuda_dnn.cc:384] Loaded cuDNN version 8100\n"
     ]
    },
    {
     "name": "stdout",
     "output_type": "stream",
     "text": [
      "  204/14342 [..............................] - ETA: 10s  "
     ]
    },
    {
     "name": "stderr",
     "output_type": "stream",
     "text": [
      "2022-08-28 00:13:38.806804: I tensorflow/stream_executor/cuda/cuda_blas.cc:1786] TensorFloat-32 will be used for the matrix multiplication. This will only be logged once.\n"
     ]
    },
    {
     "name": "stdout",
     "output_type": "stream",
     "text": [
      "14342/14342 [==============================] - 12s 781us/step\n",
      "=== FINISHED PREDICTION 1/5: [116012.125] === \n",
      "Subprocess exited with code None\n",
      "keras/cnn-model-fold1*.data-*\n",
      "=== STARTING TO PREDICT 2/5: keras/cnn-model-fold1 === \n"
     ]
    },
    {
     "name": "stderr",
     "output_type": "stream",
     "text": [
      "2022-08-28 00:13:52.679345: I tensorflow/stream_executor/cuda/cuda_gpu_executor.cc:975] successful NUMA node read from SysFS had negative value (-1), but there must be at least one NUMA node, so returning NUMA node zero\n",
      "2022-08-28 00:13:52.682847: I tensorflow/stream_executor/cuda/cuda_gpu_executor.cc:975] successful NUMA node read from SysFS had negative value (-1), but there must be at least one NUMA node, so returning NUMA node zero\n",
      "2022-08-28 00:13:52.683350: I tensorflow/stream_executor/cuda/cuda_gpu_executor.cc:975] successful NUMA node read from SysFS had negative value (-1), but there must be at least one NUMA node, so returning NUMA node zero\n",
      "2022-08-28 00:13:52.684012: I tensorflow/core/platform/cpu_feature_guard.cc:193] This TensorFlow binary is optimized with oneAPI Deep Neural Network Library (oneDNN) to use the following CPU instructions in performance-critical operations:  AVX2 FMA\n",
      "To enable them in other operations, rebuild TensorFlow with the appropriate compiler flags.\n",
      "2022-08-28 00:13:52.684973: I tensorflow/stream_executor/cuda/cuda_gpu_executor.cc:975] successful NUMA node read from SysFS had negative value (-1), but there must be at least one NUMA node, so returning NUMA node zero\n",
      "2022-08-28 00:13:52.685635: I tensorflow/stream_executor/cuda/cuda_gpu_executor.cc:975] successful NUMA node read from SysFS had negative value (-1), but there must be at least one NUMA node, so returning NUMA node zero\n",
      "2022-08-28 00:13:52.686263: I tensorflow/stream_executor/cuda/cuda_gpu_executor.cc:975] successful NUMA node read from SysFS had negative value (-1), but there must be at least one NUMA node, so returning NUMA node zero\n"
     ]
    },
    {
     "name": "stdout",
     "output_type": "stream",
     "text": [
      "{'current': 0, 'peak': 0}\n",
      "creating classifier, cnn\n",
      "{'current': 0, 'peak': 0}\n",
      "layers created\n",
      "model created\n"
     ]
    },
    {
     "name": "stderr",
     "output_type": "stream",
     "text": [
      "2022-08-28 00:13:52.948977: I tensorflow/stream_executor/cuda/cuda_gpu_executor.cc:975] successful NUMA node read from SysFS had negative value (-1), but there must be at least one NUMA node, so returning NUMA node zero\n",
      "2022-08-28 00:13:52.949506: I tensorflow/stream_executor/cuda/cuda_gpu_executor.cc:975] successful NUMA node read from SysFS had negative value (-1), but there must be at least one NUMA node, so returning NUMA node zero\n",
      "2022-08-28 00:13:52.949994: I tensorflow/stream_executor/cuda/cuda_gpu_executor.cc:975] successful NUMA node read from SysFS had negative value (-1), but there must be at least one NUMA node, so returning NUMA node zero\n",
      "2022-08-28 00:13:52.950454: I tensorflow/core/common_runtime/gpu/gpu_device.cc:1532] Created device /job:localhost/replica:0/task:0/device:GPU:0 with 22256 MB memory:  -> device: 0, name: NVIDIA GeForce RTX 3090, pci bus id: 0000:2d:00.0, compute capability: 8.6\n",
      "2022-08-28 00:13:59.469252: I tensorflow/stream_executor/cuda/cuda_dnn.cc:384] Loaded cuDNN version 8100\n"
     ]
    },
    {
     "name": "stdout",
     "output_type": "stream",
     "text": [
      "  205/14342 [..............................] - ETA: 10s  "
     ]
    },
    {
     "name": "stderr",
     "output_type": "stream",
     "text": [
      "2022-08-28 00:14:00.217461: I tensorflow/stream_executor/cuda/cuda_blas.cc:1786] TensorFloat-32 will be used for the matrix multiplication. This will only be logged once.\n"
     ]
    },
    {
     "name": "stdout",
     "output_type": "stream",
     "text": [
      "14342/14342 [==============================] - 11s 695us/step\n",
      "=== FINISHED PREDICTION 2/5: [117119.58] === \n",
      "Subprocess exited with code None\n",
      "keras/cnn-model-fold2*.data-*\n",
      "=== STARTING TO PREDICT 3/5: keras/cnn-model-fold2 === \n"
     ]
    },
    {
     "name": "stderr",
     "output_type": "stream",
     "text": [
      "2022-08-28 00:14:12.862967: I tensorflow/stream_executor/cuda/cuda_gpu_executor.cc:975] successful NUMA node read from SysFS had negative value (-1), but there must be at least one NUMA node, so returning NUMA node zero\n",
      "2022-08-28 00:14:12.866430: I tensorflow/stream_executor/cuda/cuda_gpu_executor.cc:975] successful NUMA node read from SysFS had negative value (-1), but there must be at least one NUMA node, so returning NUMA node zero\n",
      "2022-08-28 00:14:12.866935: I tensorflow/stream_executor/cuda/cuda_gpu_executor.cc:975] successful NUMA node read from SysFS had negative value (-1), but there must be at least one NUMA node, so returning NUMA node zero\n",
      "2022-08-28 00:14:12.867596: I tensorflow/core/platform/cpu_feature_guard.cc:193] This TensorFlow binary is optimized with oneAPI Deep Neural Network Library (oneDNN) to use the following CPU instructions in performance-critical operations:  AVX2 FMA\n",
      "To enable them in other operations, rebuild TensorFlow with the appropriate compiler flags.\n",
      "2022-08-28 00:14:12.868469: I tensorflow/stream_executor/cuda/cuda_gpu_executor.cc:975] successful NUMA node read from SysFS had negative value (-1), but there must be at least one NUMA node, so returning NUMA node zero\n",
      "2022-08-28 00:14:12.869028: I tensorflow/stream_executor/cuda/cuda_gpu_executor.cc:975] successful NUMA node read from SysFS had negative value (-1), but there must be at least one NUMA node, so returning NUMA node zero\n",
      "2022-08-28 00:14:12.869533: I tensorflow/stream_executor/cuda/cuda_gpu_executor.cc:975] successful NUMA node read from SysFS had negative value (-1), but there must be at least one NUMA node, so returning NUMA node zero\n"
     ]
    },
    {
     "name": "stdout",
     "output_type": "stream",
     "text": [
      "{'current': 0, 'peak': 0}\n",
      "creating classifier, cnn\n",
      "{'current': 0, 'peak': 0}\n",
      "layers created\n",
      "model created\n"
     ]
    },
    {
     "name": "stderr",
     "output_type": "stream",
     "text": [
      "2022-08-28 00:14:13.121214: I tensorflow/stream_executor/cuda/cuda_gpu_executor.cc:975] successful NUMA node read from SysFS had negative value (-1), but there must be at least one NUMA node, so returning NUMA node zero\n",
      "2022-08-28 00:14:13.121725: I tensorflow/stream_executor/cuda/cuda_gpu_executor.cc:975] successful NUMA node read from SysFS had negative value (-1), but there must be at least one NUMA node, so returning NUMA node zero\n",
      "2022-08-28 00:14:13.122238: I tensorflow/stream_executor/cuda/cuda_gpu_executor.cc:975] successful NUMA node read from SysFS had negative value (-1), but there must be at least one NUMA node, so returning NUMA node zero\n",
      "2022-08-28 00:14:13.122706: I tensorflow/core/common_runtime/gpu/gpu_device.cc:1532] Created device /job:localhost/replica:0/task:0/device:GPU:0 with 22256 MB memory:  -> device: 0, name: NVIDIA GeForce RTX 3090, pci bus id: 0000:2d:00.0, compute capability: 8.6\n",
      "2022-08-28 00:14:19.735873: I tensorflow/stream_executor/cuda/cuda_dnn.cc:384] Loaded cuDNN version 8100\n"
     ]
    },
    {
     "name": "stdout",
     "output_type": "stream",
     "text": [
      "  198/14342 [..............................] - ETA: 10s  "
     ]
    },
    {
     "name": "stderr",
     "output_type": "stream",
     "text": [
      "2022-08-28 00:14:20.487721: I tensorflow/stream_executor/cuda/cuda_blas.cc:1786] TensorFloat-32 will be used for the matrix multiplication. This will only be logged once.\n"
     ]
    },
    {
     "name": "stdout",
     "output_type": "stream",
     "text": [
      "14342/14342 [==============================] - 12s 744us/step\n",
      "=== FINISHED PREDICTION 3/5: [119885.86] === \n",
      "Subprocess exited with code None\n",
      "keras/cnn-model-fold3*.data-*\n",
      "=== STARTING TO PREDICT 4/5: keras/cnn-model-fold3 === \n"
     ]
    },
    {
     "name": "stderr",
     "output_type": "stream",
     "text": [
      "2022-08-28 00:14:33.828208: I tensorflow/stream_executor/cuda/cuda_gpu_executor.cc:975] successful NUMA node read from SysFS had negative value (-1), but there must be at least one NUMA node, so returning NUMA node zero\n",
      "2022-08-28 00:14:33.831679: I tensorflow/stream_executor/cuda/cuda_gpu_executor.cc:975] successful NUMA node read from SysFS had negative value (-1), but there must be at least one NUMA node, so returning NUMA node zero\n",
      "2022-08-28 00:14:33.832184: I tensorflow/stream_executor/cuda/cuda_gpu_executor.cc:975] successful NUMA node read from SysFS had negative value (-1), but there must be at least one NUMA node, so returning NUMA node zero\n",
      "2022-08-28 00:14:33.832847: I tensorflow/core/platform/cpu_feature_guard.cc:193] This TensorFlow binary is optimized with oneAPI Deep Neural Network Library (oneDNN) to use the following CPU instructions in performance-critical operations:  AVX2 FMA\n",
      "To enable them in other operations, rebuild TensorFlow with the appropriate compiler flags.\n",
      "2022-08-28 00:14:33.833724: I tensorflow/stream_executor/cuda/cuda_gpu_executor.cc:975] successful NUMA node read from SysFS had negative value (-1), but there must be at least one NUMA node, so returning NUMA node zero\n",
      "2022-08-28 00:14:33.834289: I tensorflow/stream_executor/cuda/cuda_gpu_executor.cc:975] successful NUMA node read from SysFS had negative value (-1), but there must be at least one NUMA node, so returning NUMA node zero\n",
      "2022-08-28 00:14:33.834785: I tensorflow/stream_executor/cuda/cuda_gpu_executor.cc:975] successful NUMA node read from SysFS had negative value (-1), but there must be at least one NUMA node, so returning NUMA node zero\n"
     ]
    },
    {
     "name": "stdout",
     "output_type": "stream",
     "text": [
      "{'current': 0, 'peak': 0}\n",
      "creating classifier, cnn\n",
      "{'current': 0, 'peak': 0}\n",
      "layers created\n",
      "model created\n"
     ]
    },
    {
     "name": "stderr",
     "output_type": "stream",
     "text": [
      "2022-08-28 00:14:34.092043: I tensorflow/stream_executor/cuda/cuda_gpu_executor.cc:975] successful NUMA node read from SysFS had negative value (-1), but there must be at least one NUMA node, so returning NUMA node zero\n",
      "2022-08-28 00:14:34.092561: I tensorflow/stream_executor/cuda/cuda_gpu_executor.cc:975] successful NUMA node read from SysFS had negative value (-1), but there must be at least one NUMA node, so returning NUMA node zero\n",
      "2022-08-28 00:14:34.093086: I tensorflow/stream_executor/cuda/cuda_gpu_executor.cc:975] successful NUMA node read from SysFS had negative value (-1), but there must be at least one NUMA node, so returning NUMA node zero\n",
      "2022-08-28 00:14:34.093556: I tensorflow/core/common_runtime/gpu/gpu_device.cc:1532] Created device /job:localhost/replica:0/task:0/device:GPU:0 with 22256 MB memory:  -> device: 0, name: NVIDIA GeForce RTX 3090, pci bus id: 0000:2d:00.0, compute capability: 8.6\n",
      "2022-08-28 00:14:40.639532: I tensorflow/stream_executor/cuda/cuda_dnn.cc:384] Loaded cuDNN version 8100\n"
     ]
    },
    {
     "name": "stdout",
     "output_type": "stream",
     "text": [
      "  211/14342 [..............................] - ETA: 10s  "
     ]
    },
    {
     "name": "stderr",
     "output_type": "stream",
     "text": [
      "2022-08-28 00:14:41.390599: I tensorflow/stream_executor/cuda/cuda_blas.cc:1786] TensorFloat-32 will be used for the matrix multiplication. This will only be logged once.\n"
     ]
    },
    {
     "name": "stdout",
     "output_type": "stream",
     "text": [
      "14342/14342 [==============================] - 11s 702us/step\n",
      "=== FINISHED PREDICTION 4/5: [115811.31] === \n",
      "Subprocess exited with code None\n",
      "keras/cnn-model-fold4*.data-*\n",
      "=== STARTING TO PREDICT 5/5: keras/cnn-model-fold4 === \n"
     ]
    },
    {
     "name": "stderr",
     "output_type": "stream",
     "text": [
      "2022-08-28 00:14:54.095170: I tensorflow/stream_executor/cuda/cuda_gpu_executor.cc:975] successful NUMA node read from SysFS had negative value (-1), but there must be at least one NUMA node, so returning NUMA node zero\n",
      "2022-08-28 00:14:54.098604: I tensorflow/stream_executor/cuda/cuda_gpu_executor.cc:975] successful NUMA node read from SysFS had negative value (-1), but there must be at least one NUMA node, so returning NUMA node zero\n",
      "2022-08-28 00:14:54.099091: I tensorflow/stream_executor/cuda/cuda_gpu_executor.cc:975] successful NUMA node read from SysFS had negative value (-1), but there must be at least one NUMA node, so returning NUMA node zero\n",
      "2022-08-28 00:14:54.099758: I tensorflow/core/platform/cpu_feature_guard.cc:193] This TensorFlow binary is optimized with oneAPI Deep Neural Network Library (oneDNN) to use the following CPU instructions in performance-critical operations:  AVX2 FMA\n",
      "To enable them in other operations, rebuild TensorFlow with the appropriate compiler flags.\n",
      "2022-08-28 00:14:54.100627: I tensorflow/stream_executor/cuda/cuda_gpu_executor.cc:975] successful NUMA node read from SysFS had negative value (-1), but there must be at least one NUMA node, so returning NUMA node zero\n",
      "2022-08-28 00:14:54.101193: I tensorflow/stream_executor/cuda/cuda_gpu_executor.cc:975] successful NUMA node read from SysFS had negative value (-1), but there must be at least one NUMA node, so returning NUMA node zero\n",
      "2022-08-28 00:14:54.101689: I tensorflow/stream_executor/cuda/cuda_gpu_executor.cc:975] successful NUMA node read from SysFS had negative value (-1), but there must be at least one NUMA node, so returning NUMA node zero\n"
     ]
    },
    {
     "name": "stdout",
     "output_type": "stream",
     "text": [
      "{'current': 0, 'peak': 0}\n",
      "creating classifier, cnn\n",
      "{'current': 0, 'peak': 0}\n",
      "layers created\n",
      "model created\n"
     ]
    },
    {
     "name": "stderr",
     "output_type": "stream",
     "text": [
      "2022-08-28 00:14:54.353601: I tensorflow/stream_executor/cuda/cuda_gpu_executor.cc:975] successful NUMA node read from SysFS had negative value (-1), but there must be at least one NUMA node, so returning NUMA node zero\n",
      "2022-08-28 00:14:54.354116: I tensorflow/stream_executor/cuda/cuda_gpu_executor.cc:975] successful NUMA node read from SysFS had negative value (-1), but there must be at least one NUMA node, so returning NUMA node zero\n",
      "2022-08-28 00:14:54.354627: I tensorflow/stream_executor/cuda/cuda_gpu_executor.cc:975] successful NUMA node read from SysFS had negative value (-1), but there must be at least one NUMA node, so returning NUMA node zero\n",
      "2022-08-28 00:14:54.355094: I tensorflow/core/common_runtime/gpu/gpu_device.cc:1532] Created device /job:localhost/replica:0/task:0/device:GPU:0 with 22256 MB memory:  -> device: 0, name: NVIDIA GeForce RTX 3090, pci bus id: 0000:2d:00.0, compute capability: 8.6\n",
      "2022-08-28 00:15:00.957510: I tensorflow/stream_executor/cuda/cuda_dnn.cc:384] Loaded cuDNN version 8100\n"
     ]
    },
    {
     "name": "stdout",
     "output_type": "stream",
     "text": [
      "  215/14342 [..............................] - ETA: 9s   "
     ]
    },
    {
     "name": "stderr",
     "output_type": "stream",
     "text": [
      "2022-08-28 00:15:01.701497: I tensorflow/stream_executor/cuda/cuda_blas.cc:1786] TensorFloat-32 will be used for the matrix multiplication. This will only be logged once.\n"
     ]
    },
    {
     "name": "stdout",
     "output_type": "stream",
     "text": [
      "14342/14342 [==============================] - 11s 678us/step\n",
      "=== FINISHED PREDICTION 5/5: [117759.39] === \n",
      "Subprocess exited with code None\n"
     ]
    }
   ],
   "source": [
    "\n",
    "manager = multiprocessing.Manager()\n",
    "process_dict = manager.dict()\n",
    "for idx in range(N_FOLDS):\n",
    "    #todo: remove inner loop\n",
    "    searchpath = f\"keras/cnn-model-fold{idx}*.data-*\"\n",
    "    print(searchpath)\n",
    "    for fl in glob.glob(searchpath):\n",
    "\n",
    "        ending = fl.index(\".\")\n",
    "        filepath = fl[0:ending]\n",
    "        print(f\"=== STARTING TO PREDICT {idx+1}/{N_FOLDS}: {filepath} === \")\n",
    "\n",
    "        p = Process(target=predict_keras, args=(idx, process_dict, X, filepath))\n",
    "        p.start()\n",
    "        flag = p.join()\n",
    "        p.close()\n",
    "        print(f\"=== FINISHED PREDICTION {idx+1}/{N_FOLDS}: {sum(process_dict[f'preds-{idx}'])} === \")\n",
    "        print(f\"Subprocess exited with code {flag}\")\n",
    "\n"
   ]
  },
  {
   "cell_type": "code",
   "execution_count": 32,
   "id": "56936328",
   "metadata": {},
   "outputs": [],
   "source": [
    "preds = []\n",
    "for x in range(N_FOLDS):\n",
    "    preds.append(process_dict[f\"preds-{x}\"])"
   ]
  },
  {
   "cell_type": "code",
   "execution_count": 33,
   "id": "41dd50fb",
   "metadata": {},
   "outputs": [
    {
     "data": {
      "text/plain": [
       "array([[0.0023371 ],\n",
       "       [0.00368023],\n",
       "       [0.00388113],\n",
       "       ...,\n",
       "       [0.004959  ],\n",
       "       [0.08748712],\n",
       "       [0.00424258]], dtype=float32)"
      ]
     },
     "execution_count": 33,
     "metadata": {},
     "output_type": "execute_result"
    }
   ],
   "source": [
    "preds = sum(preds)/N_FOLDS\n",
    "preds"
   ]
  },
  {
   "cell_type": "code",
   "execution_count": 34,
   "id": "d2b10230",
   "metadata": {},
   "outputs": [
    {
     "data": {
      "text/plain": [
       "0.7880889773206304"
      ]
     },
     "execution_count": 34,
     "metadata": {},
     "output_type": "execute_result"
    }
   ],
   "source": [
    "amex_metric_mod(y, preds[:, 0])   \n"
   ]
  },
  {
   "cell_type": "code",
   "execution_count": 35,
   "id": "27796793",
   "metadata": {},
   "outputs": [],
   "source": [
    "df_preds = pd.DataFrame()\n",
    "df_preds[\"customer_ID\"] = df_train[\"customer_ID\"]\n",
    "df_preds[\"prediction\"] = preds[:, 0]"
   ]
  },
  {
   "cell_type": "code",
   "execution_count": 36,
   "id": "f7f7de39",
   "metadata": {},
   "outputs": [
    {
     "data": {
      "text/html": [
       "<div>\n",
       "<style scoped>\n",
       "    .dataframe tbody tr th:only-of-type {\n",
       "        vertical-align: middle;\n",
       "    }\n",
       "\n",
       "    .dataframe tbody tr th {\n",
       "        vertical-align: top;\n",
       "    }\n",
       "\n",
       "    .dataframe thead th {\n",
       "        text-align: right;\n",
       "    }\n",
       "</style>\n",
       "<table border=\"1\" class=\"dataframe\">\n",
       "  <thead>\n",
       "    <tr style=\"text-align: right;\">\n",
       "      <th></th>\n",
       "      <th>customer_ID</th>\n",
       "      <th>prediction</th>\n",
       "    </tr>\n",
       "  </thead>\n",
       "  <tbody>\n",
       "    <tr>\n",
       "      <th>0</th>\n",
       "      <td>0000099d6bd597052cdcda90ffabf56573fe9d7c79be5f...</td>\n",
       "      <td>0.002337</td>\n",
       "    </tr>\n",
       "    <tr>\n",
       "      <th>1</th>\n",
       "      <td>00000fd6641609c6ece5454664794f0340ad84dddce9a2...</td>\n",
       "      <td>0.003680</td>\n",
       "    </tr>\n",
       "    <tr>\n",
       "      <th>2</th>\n",
       "      <td>00001b22f846c82c51f6e3958ccd81970162bae8b007e8...</td>\n",
       "      <td>0.003881</td>\n",
       "    </tr>\n",
       "    <tr>\n",
       "      <th>3</th>\n",
       "      <td>000041bdba6ecadd89a52d11886e8eaaec9325906c9723...</td>\n",
       "      <td>0.008267</td>\n",
       "    </tr>\n",
       "    <tr>\n",
       "      <th>4</th>\n",
       "      <td>00007889e4fcd2614b6cbe7f8f3d2e5c728eca32d9eb8a...</td>\n",
       "      <td>0.003272</td>\n",
       "    </tr>\n",
       "    <tr>\n",
       "      <th>...</th>\n",
       "      <td>...</td>\n",
       "      <td>...</td>\n",
       "    </tr>\n",
       "    <tr>\n",
       "      <th>458908</th>\n",
       "      <td>ffff41c8a52833b56430603969b9ca48d208e7c192c6a4...</td>\n",
       "      <td>0.004575</td>\n",
       "    </tr>\n",
       "    <tr>\n",
       "      <th>458909</th>\n",
       "      <td>ffff518bb2075e4816ee3fe9f3b152c57fc0e6f01bf7fd...</td>\n",
       "      <td>0.031651</td>\n",
       "    </tr>\n",
       "    <tr>\n",
       "      <th>458910</th>\n",
       "      <td>ffff9984b999fccb2b6127635ed0736dda94e544e67e02...</td>\n",
       "      <td>0.004959</td>\n",
       "    </tr>\n",
       "    <tr>\n",
       "      <th>458911</th>\n",
       "      <td>ffffa5c46bc8de74f5a4554e74e239c8dee6b9baf38814...</td>\n",
       "      <td>0.087487</td>\n",
       "    </tr>\n",
       "    <tr>\n",
       "      <th>458912</th>\n",
       "      <td>fffff1d38b785cef84adeace64f8f83db3a0c31e8d92ea...</td>\n",
       "      <td>0.004243</td>\n",
       "    </tr>\n",
       "  </tbody>\n",
       "</table>\n",
       "<p>458913 rows × 2 columns</p>\n",
       "</div>"
      ],
      "text/plain": [
       "                                              customer_ID  prediction\n",
       "0       0000099d6bd597052cdcda90ffabf56573fe9d7c79be5f...    0.002337\n",
       "1       00000fd6641609c6ece5454664794f0340ad84dddce9a2...    0.003680\n",
       "2       00001b22f846c82c51f6e3958ccd81970162bae8b007e8...    0.003881\n",
       "3       000041bdba6ecadd89a52d11886e8eaaec9325906c9723...    0.008267\n",
       "4       00007889e4fcd2614b6cbe7f8f3d2e5c728eca32d9eb8a...    0.003272\n",
       "...                                                   ...         ...\n",
       "458908  ffff41c8a52833b56430603969b9ca48d208e7c192c6a4...    0.004575\n",
       "458909  ffff518bb2075e4816ee3fe9f3b152c57fc0e6f01bf7fd...    0.031651\n",
       "458910  ffff9984b999fccb2b6127635ed0736dda94e544e67e02...    0.004959\n",
       "458911  ffffa5c46bc8de74f5a4554e74e239c8dee6b9baf38814...    0.087487\n",
       "458912  fffff1d38b785cef84adeace64f8f83db3a0c31e8d92ea...    0.004243\n",
       "\n",
       "[458913 rows x 2 columns]"
      ]
     },
     "execution_count": 36,
     "metadata": {},
     "output_type": "execute_result"
    }
   ],
   "source": [
    "df_preds"
   ]
  },
  {
   "cell_type": "code",
   "execution_count": 37,
   "id": "884e966a",
   "metadata": {},
   "outputs": [],
   "source": [
    "df_preds.to_csv(\"predictions_cnn_2.csv\")"
   ]
  },
  {
   "cell_type": "code",
   "execution_count": null,
   "id": "76bf2f40",
   "metadata": {},
   "outputs": [],
   "source": []
  },
  {
   "cell_type": "markdown",
   "id": "a4ad81bb",
   "metadata": {},
   "source": [
    "# Create Kaggle Submission\n",
    "\n",
    "Use all models created from folds to predict the test set and write submission.csv."
   ]
  },
  {
   "cell_type": "code",
   "execution_count": 38,
   "id": "6c84057c",
   "metadata": {},
   "outputs": [
    {
     "data": {
      "text/plain": [
       "(924621, 3211, 1)"
      ]
     },
     "execution_count": 38,
     "metadata": {},
     "output_type": "execute_result"
    }
   ],
   "source": [
    "X_test = df_test.drop(\"customer_ID\", axis=1)\n",
    "X_test_np = X_test.values.reshape (-1, X_test.shape[1], 1)\n",
    "#X_test_np = X_test.values.reshape (-1, 13, 233)\n",
    "X_test_np.shape"
   ]
  },
  {
   "cell_type": "code",
   "execution_count": 39,
   "id": "1762e011",
   "metadata": {},
   "outputs": [
    {
     "data": {
      "text/plain": [
       "5"
      ]
     },
     "execution_count": 39,
     "metadata": {},
     "output_type": "execute_result"
    }
   ],
   "source": [
    "N_FOLDS"
   ]
  },
  {
   "cell_type": "code",
   "execution_count": 40,
   "id": "c1fc2bb3",
   "metadata": {},
   "outputs": [
    {
     "name": "stdout",
     "output_type": "stream",
     "text": [
      "keras/cnn-model-fold0*.data-*\n",
      "=== STARTING TO PREDICT 1/5: keras/cnn-model-fold0 === \n"
     ]
    },
    {
     "name": "stderr",
     "output_type": "stream",
     "text": [
      "2022-08-28 00:15:17.418589: I tensorflow/stream_executor/cuda/cuda_gpu_executor.cc:975] successful NUMA node read from SysFS had negative value (-1), but there must be at least one NUMA node, so returning NUMA node zero\n",
      "2022-08-28 00:15:17.422084: I tensorflow/stream_executor/cuda/cuda_gpu_executor.cc:975] successful NUMA node read from SysFS had negative value (-1), but there must be at least one NUMA node, so returning NUMA node zero\n",
      "2022-08-28 00:15:17.422604: I tensorflow/stream_executor/cuda/cuda_gpu_executor.cc:975] successful NUMA node read from SysFS had negative value (-1), but there must be at least one NUMA node, so returning NUMA node zero\n",
      "2022-08-28 00:15:17.423281: I tensorflow/core/platform/cpu_feature_guard.cc:193] This TensorFlow binary is optimized with oneAPI Deep Neural Network Library (oneDNN) to use the following CPU instructions in performance-critical operations:  AVX2 FMA\n",
      "To enable them in other operations, rebuild TensorFlow with the appropriate compiler flags.\n",
      "2022-08-28 00:15:17.424119: I tensorflow/stream_executor/cuda/cuda_gpu_executor.cc:975] successful NUMA node read from SysFS had negative value (-1), but there must be at least one NUMA node, so returning NUMA node zero\n",
      "2022-08-28 00:15:17.424678: I tensorflow/stream_executor/cuda/cuda_gpu_executor.cc:975] successful NUMA node read from SysFS had negative value (-1), but there must be at least one NUMA node, so returning NUMA node zero\n",
      "2022-08-28 00:15:17.425180: I tensorflow/stream_executor/cuda/cuda_gpu_executor.cc:975] successful NUMA node read from SysFS had negative value (-1), but there must be at least one NUMA node, so returning NUMA node zero\n"
     ]
    },
    {
     "name": "stdout",
     "output_type": "stream",
     "text": [
      "{'current': 0, 'peak': 0}\n",
      "creating classifier, cnn\n",
      "{'current': 0, 'peak': 0}\n",
      "layers created\n",
      "model created\n"
     ]
    },
    {
     "name": "stderr",
     "output_type": "stream",
     "text": [
      "2022-08-28 00:15:17.680889: I tensorflow/stream_executor/cuda/cuda_gpu_executor.cc:975] successful NUMA node read from SysFS had negative value (-1), but there must be at least one NUMA node, so returning NUMA node zero\n",
      "2022-08-28 00:15:17.681428: I tensorflow/stream_executor/cuda/cuda_gpu_executor.cc:975] successful NUMA node read from SysFS had negative value (-1), but there must be at least one NUMA node, so returning NUMA node zero\n",
      "2022-08-28 00:15:17.681909: I tensorflow/stream_executor/cuda/cuda_gpu_executor.cc:975] successful NUMA node read from SysFS had negative value (-1), but there must be at least one NUMA node, so returning NUMA node zero\n",
      "2022-08-28 00:15:17.682366: I tensorflow/core/common_runtime/gpu/gpu_device.cc:1532] Created device /job:localhost/replica:0/task:0/device:GPU:0 with 22256 MB memory:  -> device: 0, name: NVIDIA GeForce RTX 3090, pci bus id: 0000:2d:00.0, compute capability: 8.6\n",
      "2022-08-28 00:15:23.513886: W tensorflow/core/framework/cpu_allocator_impl.cc:82] Allocation of 11875832124 exceeds 10% of free system memory.\n",
      "2022-08-28 00:15:27.205863: W tensorflow/core/framework/cpu_allocator_impl.cc:82] Allocation of 11875832124 exceeds 10% of free system memory.\n",
      "2022-08-28 00:15:30.399704: I tensorflow/stream_executor/cuda/cuda_dnn.cc:384] Loaded cuDNN version 8100\n"
     ]
    },
    {
     "name": "stdout",
     "output_type": "stream",
     "text": [
      "  211/28895 [..............................] - ETA: 20s  "
     ]
    },
    {
     "name": "stderr",
     "output_type": "stream",
     "text": [
      "2022-08-28 00:15:31.141745: I tensorflow/stream_executor/cuda/cuda_blas.cc:1786] TensorFloat-32 will be used for the matrix multiplication. This will only be logged once.\n"
     ]
    },
    {
     "name": "stdout",
     "output_type": "stream",
     "text": [
      "28895/28895 [==============================] - 21s 691us/step\n",
      "=== FINISHED PREDICTION 1/5: [223097.23] === \n",
      "Subprocess exited with code None\n",
      "keras/cnn-model-fold1*.data-*\n",
      "=== STARTING TO PREDICT 2/5: keras/cnn-model-fold1 === \n"
     ]
    },
    {
     "name": "stderr",
     "output_type": "stream",
     "text": [
      "2022-08-28 00:15:55.481310: I tensorflow/stream_executor/cuda/cuda_gpu_executor.cc:975] successful NUMA node read from SysFS had negative value (-1), but there must be at least one NUMA node, so returning NUMA node zero\n",
      "2022-08-28 00:15:55.485990: I tensorflow/stream_executor/cuda/cuda_gpu_executor.cc:975] successful NUMA node read from SysFS had negative value (-1), but there must be at least one NUMA node, so returning NUMA node zero\n",
      "2022-08-28 00:15:55.486492: I tensorflow/stream_executor/cuda/cuda_gpu_executor.cc:975] successful NUMA node read from SysFS had negative value (-1), but there must be at least one NUMA node, so returning NUMA node zero\n",
      "2022-08-28 00:15:55.487156: I tensorflow/core/platform/cpu_feature_guard.cc:193] This TensorFlow binary is optimized with oneAPI Deep Neural Network Library (oneDNN) to use the following CPU instructions in performance-critical operations:  AVX2 FMA\n",
      "To enable them in other operations, rebuild TensorFlow with the appropriate compiler flags.\n",
      "2022-08-28 00:15:55.488004: I tensorflow/stream_executor/cuda/cuda_gpu_executor.cc:975] successful NUMA node read from SysFS had negative value (-1), but there must be at least one NUMA node, so returning NUMA node zero\n",
      "2022-08-28 00:15:55.488547: I tensorflow/stream_executor/cuda/cuda_gpu_executor.cc:975] successful NUMA node read from SysFS had negative value (-1), but there must be at least one NUMA node, so returning NUMA node zero\n",
      "2022-08-28 00:15:55.489049: I tensorflow/stream_executor/cuda/cuda_gpu_executor.cc:975] successful NUMA node read from SysFS had negative value (-1), but there must be at least one NUMA node, so returning NUMA node zero\n"
     ]
    },
    {
     "name": "stdout",
     "output_type": "stream",
     "text": [
      "{'current': 0, 'peak': 0}\n",
      "creating classifier, cnn\n",
      "{'current': 0, 'peak': 0}\n",
      "layers created\n",
      "model created\n"
     ]
    },
    {
     "name": "stderr",
     "output_type": "stream",
     "text": [
      "2022-08-28 00:15:55.745472: I tensorflow/stream_executor/cuda/cuda_gpu_executor.cc:975] successful NUMA node read from SysFS had negative value (-1), but there must be at least one NUMA node, so returning NUMA node zero\n",
      "2022-08-28 00:15:55.745987: I tensorflow/stream_executor/cuda/cuda_gpu_executor.cc:975] successful NUMA node read from SysFS had negative value (-1), but there must be at least one NUMA node, so returning NUMA node zero\n",
      "2022-08-28 00:15:55.746469: I tensorflow/stream_executor/cuda/cuda_gpu_executor.cc:975] successful NUMA node read from SysFS had negative value (-1), but there must be at least one NUMA node, so returning NUMA node zero\n",
      "2022-08-28 00:15:55.746919: I tensorflow/core/common_runtime/gpu/gpu_device.cc:1532] Created device /job:localhost/replica:0/task:0/device:GPU:0 with 22256 MB memory:  -> device: 0, name: NVIDIA GeForce RTX 3090, pci bus id: 0000:2d:00.0, compute capability: 8.6\n",
      "2022-08-28 00:16:01.539087: W tensorflow/core/framework/cpu_allocator_impl.cc:82] Allocation of 11875832124 exceeds 10% of free system memory.\n",
      "2022-08-28 00:16:05.237380: W tensorflow/core/framework/cpu_allocator_impl.cc:82] Allocation of 11875832124 exceeds 10% of free system memory.\n",
      "2022-08-28 00:16:08.479589: I tensorflow/stream_executor/cuda/cuda_dnn.cc:384] Loaded cuDNN version 8100\n"
     ]
    },
    {
     "name": "stdout",
     "output_type": "stream",
     "text": [
      "  202/28895 [..............................] - ETA: 21s  "
     ]
    },
    {
     "name": "stderr",
     "output_type": "stream",
     "text": [
      "2022-08-28 00:16:09.223256: I tensorflow/stream_executor/cuda/cuda_blas.cc:1786] TensorFloat-32 will be used for the matrix multiplication. This will only be logged once.\n"
     ]
    },
    {
     "name": "stdout",
     "output_type": "stream",
     "text": [
      "28895/28895 [==============================] - 22s 711us/step\n",
      "=== FINISHED PREDICTION 2/5: [225171.44] === \n",
      "Subprocess exited with code None\n",
      "keras/cnn-model-fold2*.data-*\n",
      "=== STARTING TO PREDICT 3/5: keras/cnn-model-fold2 === \n"
     ]
    },
    {
     "name": "stderr",
     "output_type": "stream",
     "text": [
      "2022-08-28 00:16:33.945314: I tensorflow/stream_executor/cuda/cuda_gpu_executor.cc:975] successful NUMA node read from SysFS had negative value (-1), but there must be at least one NUMA node, so returning NUMA node zero\n",
      "2022-08-28 00:16:33.948856: I tensorflow/stream_executor/cuda/cuda_gpu_executor.cc:975] successful NUMA node read from SysFS had negative value (-1), but there must be at least one NUMA node, so returning NUMA node zero\n",
      "2022-08-28 00:16:33.949469: I tensorflow/stream_executor/cuda/cuda_gpu_executor.cc:975] successful NUMA node read from SysFS had negative value (-1), but there must be at least one NUMA node, so returning NUMA node zero\n",
      "2022-08-28 00:16:33.950136: I tensorflow/core/platform/cpu_feature_guard.cc:193] This TensorFlow binary is optimized with oneAPI Deep Neural Network Library (oneDNN) to use the following CPU instructions in performance-critical operations:  AVX2 FMA\n",
      "To enable them in other operations, rebuild TensorFlow with the appropriate compiler flags.\n",
      "2022-08-28 00:16:33.951067: I tensorflow/stream_executor/cuda/cuda_gpu_executor.cc:975] successful NUMA node read from SysFS had negative value (-1), but there must be at least one NUMA node, so returning NUMA node zero\n",
      "2022-08-28 00:16:33.951744: I tensorflow/stream_executor/cuda/cuda_gpu_executor.cc:975] successful NUMA node read from SysFS had negative value (-1), but there must be at least one NUMA node, so returning NUMA node zero\n",
      "2022-08-28 00:16:33.952356: I tensorflow/stream_executor/cuda/cuda_gpu_executor.cc:975] successful NUMA node read from SysFS had negative value (-1), but there must be at least one NUMA node, so returning NUMA node zero\n"
     ]
    },
    {
     "name": "stdout",
     "output_type": "stream",
     "text": [
      "{'current': 0, 'peak': 0}\n",
      "creating classifier, cnn\n",
      "{'current': 0, 'peak': 0}\n",
      "layers created\n",
      "model created\n"
     ]
    },
    {
     "name": "stderr",
     "output_type": "stream",
     "text": [
      "2022-08-28 00:16:34.218774: I tensorflow/stream_executor/cuda/cuda_gpu_executor.cc:975] successful NUMA node read from SysFS had negative value (-1), but there must be at least one NUMA node, so returning NUMA node zero\n",
      "2022-08-28 00:16:34.219296: I tensorflow/stream_executor/cuda/cuda_gpu_executor.cc:975] successful NUMA node read from SysFS had negative value (-1), but there must be at least one NUMA node, so returning NUMA node zero\n",
      "2022-08-28 00:16:34.219783: I tensorflow/stream_executor/cuda/cuda_gpu_executor.cc:975] successful NUMA node read from SysFS had negative value (-1), but there must be at least one NUMA node, so returning NUMA node zero\n",
      "2022-08-28 00:16:34.220241: I tensorflow/core/common_runtime/gpu/gpu_device.cc:1532] Created device /job:localhost/replica:0/task:0/device:GPU:0 with 22256 MB memory:  -> device: 0, name: NVIDIA GeForce RTX 3090, pci bus id: 0000:2d:00.0, compute capability: 8.6\n",
      "2022-08-28 00:16:40.090616: W tensorflow/core/framework/cpu_allocator_impl.cc:82] Allocation of 11875832124 exceeds 10% of free system memory.\n",
      "2022-08-28 00:16:43.796043: W tensorflow/core/framework/cpu_allocator_impl.cc:82] Allocation of 11875832124 exceeds 10% of free system memory.\n",
      "2022-08-28 00:16:47.031487: I tensorflow/stream_executor/cuda/cuda_dnn.cc:384] Loaded cuDNN version 8100\n"
     ]
    },
    {
     "name": "stdout",
     "output_type": "stream",
     "text": [
      "  215/28895 [..............................] - ETA: 20s  "
     ]
    },
    {
     "name": "stderr",
     "output_type": "stream",
     "text": [
      "2022-08-28 00:16:47.774612: I tensorflow/stream_executor/cuda/cuda_blas.cc:1786] TensorFloat-32 will be used for the matrix multiplication. This will only be logged once.\n"
     ]
    },
    {
     "name": "stdout",
     "output_type": "stream",
     "text": [
      "28895/28895 [==============================] - 22s 736us/step\n",
      "=== FINISHED PREDICTION 3/5: [232699.84] === \n",
      "Subprocess exited with code None\n",
      "keras/cnn-model-fold3*.data-*\n",
      "=== STARTING TO PREDICT 4/5: keras/cnn-model-fold3 === \n"
     ]
    },
    {
     "name": "stderr",
     "output_type": "stream",
     "text": [
      "2022-08-28 00:17:13.263268: I tensorflow/stream_executor/cuda/cuda_gpu_executor.cc:975] successful NUMA node read from SysFS had negative value (-1), but there must be at least one NUMA node, so returning NUMA node zero\n",
      "2022-08-28 00:17:13.266821: I tensorflow/stream_executor/cuda/cuda_gpu_executor.cc:975] successful NUMA node read from SysFS had negative value (-1), but there must be at least one NUMA node, so returning NUMA node zero\n",
      "2022-08-28 00:17:13.267327: I tensorflow/stream_executor/cuda/cuda_gpu_executor.cc:975] successful NUMA node read from SysFS had negative value (-1), but there must be at least one NUMA node, so returning NUMA node zero\n",
      "2022-08-28 00:17:13.268016: I tensorflow/core/platform/cpu_feature_guard.cc:193] This TensorFlow binary is optimized with oneAPI Deep Neural Network Library (oneDNN) to use the following CPU instructions in performance-critical operations:  AVX2 FMA\n",
      "To enable them in other operations, rebuild TensorFlow with the appropriate compiler flags.\n",
      "2022-08-28 00:17:13.268887: I tensorflow/stream_executor/cuda/cuda_gpu_executor.cc:975] successful NUMA node read from SysFS had negative value (-1), but there must be at least one NUMA node, so returning NUMA node zero\n",
      "2022-08-28 00:17:13.269470: I tensorflow/stream_executor/cuda/cuda_gpu_executor.cc:975] successful NUMA node read from SysFS had negative value (-1), but there must be at least one NUMA node, so returning NUMA node zero\n",
      "2022-08-28 00:17:13.269987: I tensorflow/stream_executor/cuda/cuda_gpu_executor.cc:975] successful NUMA node read from SysFS had negative value (-1), but there must be at least one NUMA node, so returning NUMA node zero\n"
     ]
    },
    {
     "name": "stdout",
     "output_type": "stream",
     "text": [
      "{'current': 0, 'peak': 0}\n",
      "creating classifier, cnn\n",
      "{'current': 0, 'peak': 0}\n",
      "layers created\n",
      "model created\n"
     ]
    },
    {
     "name": "stderr",
     "output_type": "stream",
     "text": [
      "2022-08-28 00:17:13.523546: I tensorflow/stream_executor/cuda/cuda_gpu_executor.cc:975] successful NUMA node read from SysFS had negative value (-1), but there must be at least one NUMA node, so returning NUMA node zero\n",
      "2022-08-28 00:17:13.524054: I tensorflow/stream_executor/cuda/cuda_gpu_executor.cc:975] successful NUMA node read from SysFS had negative value (-1), but there must be at least one NUMA node, so returning NUMA node zero\n",
      "2022-08-28 00:17:13.524567: I tensorflow/stream_executor/cuda/cuda_gpu_executor.cc:975] successful NUMA node read from SysFS had negative value (-1), but there must be at least one NUMA node, so returning NUMA node zero\n",
      "2022-08-28 00:17:13.525044: I tensorflow/core/common_runtime/gpu/gpu_device.cc:1532] Created device /job:localhost/replica:0/task:0/device:GPU:0 with 22256 MB memory:  -> device: 0, name: NVIDIA GeForce RTX 3090, pci bus id: 0000:2d:00.0, compute capability: 8.6\n",
      "2022-08-28 00:17:19.418043: W tensorflow/core/framework/cpu_allocator_impl.cc:82] Allocation of 11875832124 exceeds 10% of free system memory.\n",
      "2022-08-28 00:17:23.140591: W tensorflow/core/framework/cpu_allocator_impl.cc:82] Allocation of 11875832124 exceeds 10% of free system memory.\n",
      "2022-08-28 00:17:26.373122: I tensorflow/stream_executor/cuda/cuda_dnn.cc:384] Loaded cuDNN version 8100\n"
     ]
    },
    {
     "name": "stdout",
     "output_type": "stream",
     "text": [
      "  197/28895 [..............................] - ETA: 22s  "
     ]
    },
    {
     "name": "stderr",
     "output_type": "stream",
     "text": [
      "2022-08-28 00:17:27.116564: I tensorflow/stream_executor/cuda/cuda_blas.cc:1786] TensorFloat-32 will be used for the matrix multiplication. This will only be logged once.\n"
     ]
    },
    {
     "name": "stdout",
     "output_type": "stream",
     "text": [
      "28895/28895 [==============================] - 22s 705us/step\n",
      "=== FINISHED PREDICTION 4/5: [225868.64] === \n",
      "Subprocess exited with code None\n",
      "keras/cnn-model-fold4*.data-*\n",
      "=== STARTING TO PREDICT 5/5: keras/cnn-model-fold4 === \n"
     ]
    },
    {
     "name": "stderr",
     "output_type": "stream",
     "text": [
      "2022-08-28 00:17:51.692870: I tensorflow/stream_executor/cuda/cuda_gpu_executor.cc:975] successful NUMA node read from SysFS had negative value (-1), but there must be at least one NUMA node, so returning NUMA node zero\n",
      "2022-08-28 00:17:51.697750: I tensorflow/stream_executor/cuda/cuda_gpu_executor.cc:975] successful NUMA node read from SysFS had negative value (-1), but there must be at least one NUMA node, so returning NUMA node zero\n",
      "2022-08-28 00:17:51.698272: I tensorflow/stream_executor/cuda/cuda_gpu_executor.cc:975] successful NUMA node read from SysFS had negative value (-1), but there must be at least one NUMA node, so returning NUMA node zero\n",
      "2022-08-28 00:17:51.698940: I tensorflow/core/platform/cpu_feature_guard.cc:193] This TensorFlow binary is optimized with oneAPI Deep Neural Network Library (oneDNN) to use the following CPU instructions in performance-critical operations:  AVX2 FMA\n",
      "To enable them in other operations, rebuild TensorFlow with the appropriate compiler flags.\n",
      "2022-08-28 00:17:51.699774: I tensorflow/stream_executor/cuda/cuda_gpu_executor.cc:975] successful NUMA node read from SysFS had negative value (-1), but there must be at least one NUMA node, so returning NUMA node zero\n",
      "2022-08-28 00:17:51.700351: I tensorflow/stream_executor/cuda/cuda_gpu_executor.cc:975] successful NUMA node read from SysFS had negative value (-1), but there must be at least one NUMA node, so returning NUMA node zero\n",
      "2022-08-28 00:17:51.700867: I tensorflow/stream_executor/cuda/cuda_gpu_executor.cc:975] successful NUMA node read from SysFS had negative value (-1), but there must be at least one NUMA node, so returning NUMA node zero\n"
     ]
    },
    {
     "name": "stdout",
     "output_type": "stream",
     "text": [
      "{'current': 0, 'peak': 0}\n",
      "creating classifier, cnn\n",
      "{'current': 0, 'peak': 0}\n",
      "layers created\n",
      "model created\n"
     ]
    },
    {
     "name": "stderr",
     "output_type": "stream",
     "text": [
      "2022-08-28 00:17:51.952192: I tensorflow/stream_executor/cuda/cuda_gpu_executor.cc:975] successful NUMA node read from SysFS had negative value (-1), but there must be at least one NUMA node, so returning NUMA node zero\n",
      "2022-08-28 00:17:51.952709: I tensorflow/stream_executor/cuda/cuda_gpu_executor.cc:975] successful NUMA node read from SysFS had negative value (-1), but there must be at least one NUMA node, so returning NUMA node zero\n",
      "2022-08-28 00:17:51.953217: I tensorflow/stream_executor/cuda/cuda_gpu_executor.cc:975] successful NUMA node read from SysFS had negative value (-1), but there must be at least one NUMA node, so returning NUMA node zero\n",
      "2022-08-28 00:17:51.953681: I tensorflow/core/common_runtime/gpu/gpu_device.cc:1532] Created device /job:localhost/replica:0/task:0/device:GPU:0 with 22256 MB memory:  -> device: 0, name: NVIDIA GeForce RTX 3090, pci bus id: 0000:2d:00.0, compute capability: 8.6\n",
      "2022-08-28 00:17:57.821454: W tensorflow/core/framework/cpu_allocator_impl.cc:82] Allocation of 11875832124 exceeds 10% of free system memory.\n",
      "2022-08-28 00:18:01.528263: W tensorflow/core/framework/cpu_allocator_impl.cc:82] Allocation of 11875832124 exceeds 10% of free system memory.\n",
      "2022-08-28 00:18:04.750666: I tensorflow/stream_executor/cuda/cuda_dnn.cc:384] Loaded cuDNN version 8100\n"
     ]
    },
    {
     "name": "stdout",
     "output_type": "stream",
     "text": [
      "  217/28895 [..............................] - ETA: 20s  "
     ]
    },
    {
     "name": "stderr",
     "output_type": "stream",
     "text": [
      "2022-08-28 00:18:05.490846: I tensorflow/stream_executor/cuda/cuda_blas.cc:1786] TensorFloat-32 will be used for the matrix multiplication. This will only be logged once.\n"
     ]
    },
    {
     "name": "stdout",
     "output_type": "stream",
     "text": [
      "28895/28895 [==============================] - 21s 690us/step\n",
      "=== FINISHED PREDICTION 5/5: [229921.48] === \n",
      "Subprocess exited with code None\n"
     ]
    }
   ],
   "source": [
    "manager = multiprocessing.Manager()\n",
    "process_dict = manager.dict()\n",
    "for idx in range(N_FOLDS):\n",
    "    #todo: remove inner loop\n",
    "    searchpath = f\"keras/cnn-model-fold{idx}*.data-*\"\n",
    "    print(searchpath)\n",
    "    for fl in glob.glob(searchpath):\n",
    "\n",
    "        ending = fl.index(\".\")\n",
    "        filepath = fl[0:ending]\n",
    "        print(f\"=== STARTING TO PREDICT {idx+1}/{N_FOLDS}: {filepath} === \")\n",
    "\n",
    "        p = Process(target=predict_keras, args=(idx, process_dict, X_test_np, filepath))\n",
    "        p.start()\n",
    "        flag = p.join()\n",
    "        p.close()\n",
    "        print(f\"=== FINISHED PREDICTION {idx+1}/{N_FOLDS}: {sum(process_dict[f'preds-{idx}'])} === \")\n",
    "        print(f\"Subprocess exited with code {flag}\")\n"
   ]
  },
  {
   "cell_type": "code",
   "execution_count": 41,
   "id": "5b6e610f",
   "metadata": {},
   "outputs": [
    {
     "data": {
      "text/plain": [
       "array([232699.84], dtype=float32)"
      ]
     },
     "execution_count": 41,
     "metadata": {},
     "output_type": "execute_result"
    }
   ],
   "source": [
    "sum(process_dict[\"preds-2\"])"
   ]
  },
  {
   "cell_type": "code",
   "execution_count": 42,
   "id": "1c5e8b2a",
   "metadata": {},
   "outputs": [],
   "source": [
    "preds = []\n",
    "for x in range(N_FOLDS):\n",
    "    preds.append(process_dict[f\"preds-{x}\"])"
   ]
  },
  {
   "cell_type": "code",
   "execution_count": 43,
   "id": "c382288b",
   "metadata": {},
   "outputs": [
    {
     "data": {
      "text/plain": [
       "array([[0.02569789],\n",
       "       [0.00239859],\n",
       "       [0.03533811],\n",
       "       ...,\n",
       "       [0.5338541 ],\n",
       "       [0.41173655],\n",
       "       [0.06334434]], dtype=float32)"
      ]
     },
     "execution_count": 43,
     "metadata": {},
     "output_type": "execute_result"
    }
   ],
   "source": [
    "preds = sum(preds)/N_FOLDS\n",
    "preds"
   ]
  },
  {
   "cell_type": "code",
   "execution_count": 45,
   "id": "85797ca4",
   "metadata": {},
   "outputs": [
    {
     "data": {
      "text/html": [
       "<div>\n",
       "<style scoped>\n",
       "    .dataframe tbody tr th:only-of-type {\n",
       "        vertical-align: middle;\n",
       "    }\n",
       "\n",
       "    .dataframe tbody tr th {\n",
       "        vertical-align: top;\n",
       "    }\n",
       "\n",
       "    .dataframe thead th {\n",
       "        text-align: right;\n",
       "    }\n",
       "</style>\n",
       "<table border=\"1\" class=\"dataframe\">\n",
       "  <thead>\n",
       "    <tr style=\"text-align: right;\">\n",
       "      <th></th>\n",
       "      <th>customer_ID</th>\n",
       "      <th>prediction</th>\n",
       "    </tr>\n",
       "  </thead>\n",
       "  <tbody>\n",
       "    <tr>\n",
       "      <th>0</th>\n",
       "      <td>00000469ba478561f23a92a868bd366de6f6527a684c9a...</td>\n",
       "      <td>0.025698</td>\n",
       "    </tr>\n",
       "    <tr>\n",
       "      <th>1</th>\n",
       "      <td>00001bf2e77ff879fab36aa4fac689b9ba411dae63ae39...</td>\n",
       "      <td>0.002399</td>\n",
       "    </tr>\n",
       "    <tr>\n",
       "      <th>2</th>\n",
       "      <td>0000210045da4f81e5f122c6bde5c2a617d03eef67f82c...</td>\n",
       "      <td>0.035338</td>\n",
       "    </tr>\n",
       "    <tr>\n",
       "      <th>3</th>\n",
       "      <td>00003b41e58ede33b8daf61ab56d9952f17c9ad1c3976c...</td>\n",
       "      <td>0.224146</td>\n",
       "    </tr>\n",
       "    <tr>\n",
       "      <th>4</th>\n",
       "      <td>00004b22eaeeeb0ec976890c1d9bfc14fd9427e98c4ee9...</td>\n",
       "      <td>0.828007</td>\n",
       "    </tr>\n",
       "    <tr>\n",
       "      <th>...</th>\n",
       "      <td>...</td>\n",
       "      <td>...</td>\n",
       "    </tr>\n",
       "    <tr>\n",
       "      <th>924616</th>\n",
       "      <td>ffff952c631f2c911b8a2a8ca56ea6e656309a83d2f64c...</td>\n",
       "      <td>0.007329</td>\n",
       "    </tr>\n",
       "    <tr>\n",
       "      <th>924617</th>\n",
       "      <td>ffffcf5df59e5e0bba2a5ac4578a34e2b5aa64a1546cd3...</td>\n",
       "      <td>0.744417</td>\n",
       "    </tr>\n",
       "    <tr>\n",
       "      <th>924618</th>\n",
       "      <td>ffffd61f098cc056dbd7d2a21380c4804bbfe60856f475...</td>\n",
       "      <td>0.533854</td>\n",
       "    </tr>\n",
       "    <tr>\n",
       "      <th>924619</th>\n",
       "      <td>ffffddef1fc3643ea179c93245b68dca0f36941cd83977...</td>\n",
       "      <td>0.411737</td>\n",
       "    </tr>\n",
       "    <tr>\n",
       "      <th>924620</th>\n",
       "      <td>fffffa7cf7e453e1acc6a1426475d5cb9400859f82ff61...</td>\n",
       "      <td>0.063344</td>\n",
       "    </tr>\n",
       "  </tbody>\n",
       "</table>\n",
       "<p>924621 rows × 2 columns</p>\n",
       "</div>"
      ],
      "text/plain": [
       "                                              customer_ID  prediction\n",
       "0       00000469ba478561f23a92a868bd366de6f6527a684c9a...    0.025698\n",
       "1       00001bf2e77ff879fab36aa4fac689b9ba411dae63ae39...    0.002399\n",
       "2       0000210045da4f81e5f122c6bde5c2a617d03eef67f82c...    0.035338\n",
       "3       00003b41e58ede33b8daf61ab56d9952f17c9ad1c3976c...    0.224146\n",
       "4       00004b22eaeeeb0ec976890c1d9bfc14fd9427e98c4ee9...    0.828007\n",
       "...                                                   ...         ...\n",
       "924616  ffff952c631f2c911b8a2a8ca56ea6e656309a83d2f64c...    0.007329\n",
       "924617  ffffcf5df59e5e0bba2a5ac4578a34e2b5aa64a1546cd3...    0.744417\n",
       "924618  ffffd61f098cc056dbd7d2a21380c4804bbfe60856f475...    0.533854\n",
       "924619  ffffddef1fc3643ea179c93245b68dca0f36941cd83977...    0.411737\n",
       "924620  fffffa7cf7e453e1acc6a1426475d5cb9400859f82ff61...    0.063344\n",
       "\n",
       "[924621 rows x 2 columns]"
      ]
     },
     "execution_count": 45,
     "metadata": {},
     "output_type": "execute_result"
    }
   ],
   "source": [
    "submission = pd.DataFrame()\n",
    "submission[\"customer_ID\"] = df_test[\"customer_ID\"]\n",
    "submission[\"prediction\"] = preds\n",
    "submission"
   ]
  },
  {
   "cell_type": "code",
   "execution_count": 46,
   "id": "8f00bf8b",
   "metadata": {},
   "outputs": [],
   "source": [
    "submission.to_csv(\"submission_cnn.csv\", index=False)"
   ]
  },
  {
   "cell_type": "code",
   "execution_count": null,
   "id": "d6b84fe8",
   "metadata": {},
   "outputs": [],
   "source": []
  },
  {
   "cell_type": "code",
   "execution_count": null,
   "id": "d78b9816",
   "metadata": {},
   "outputs": [],
   "source": []
  },
  {
   "cell_type": "code",
   "execution_count": null,
   "id": "61f15dad",
   "metadata": {},
   "outputs": [],
   "source": []
  },
  {
   "cell_type": "code",
   "execution_count": null,
   "id": "bfb89259",
   "metadata": {},
   "outputs": [],
   "source": []
  },
  {
   "cell_type": "code",
   "execution_count": null,
   "id": "60647039",
   "metadata": {},
   "outputs": [],
   "source": []
  },
  {
   "cell_type": "code",
   "execution_count": null,
   "id": "fe98d313",
   "metadata": {},
   "outputs": [],
   "source": []
  },
  {
   "cell_type": "code",
   "execution_count": null,
   "id": "32451971",
   "metadata": {},
   "outputs": [],
   "source": []
  },
  {
   "cell_type": "code",
   "execution_count": null,
   "id": "7fb7ad3a",
   "metadata": {},
   "outputs": [],
   "source": []
  },
  {
   "cell_type": "code",
   "execution_count": null,
   "id": "3d1af15b",
   "metadata": {},
   "outputs": [],
   "source": []
  },
  {
   "cell_type": "code",
   "execution_count": null,
   "id": "a6199ae8",
   "metadata": {},
   "outputs": [],
   "source": []
  },
  {
   "cell_type": "code",
   "execution_count": null,
   "id": "bbf028a0",
   "metadata": {},
   "outputs": [],
   "source": []
  },
  {
   "cell_type": "code",
   "execution_count": null,
   "id": "1b1b29aa",
   "metadata": {},
   "outputs": [],
   "source": []
  },
  {
   "cell_type": "code",
   "execution_count": null,
   "id": "56bc3457",
   "metadata": {},
   "outputs": [],
   "source": []
  }
 ],
 "metadata": {
  "kernelspec": {
   "display_name": "Python 3 (ipykernel)",
   "language": "python",
   "name": "python3"
  },
  "language_info": {
   "codemirror_mode": {
    "name": "ipython",
    "version": 3
   },
   "file_extension": ".py",
   "mimetype": "text/x-python",
   "name": "python",
   "nbconvert_exporter": "python",
   "pygments_lexer": "ipython3",
   "version": "3.8.10"
  }
 },
 "nbformat": 4,
 "nbformat_minor": 5
}

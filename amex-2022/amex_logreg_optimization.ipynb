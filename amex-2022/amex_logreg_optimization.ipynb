{
 "cells": [
  {
   "cell_type": "markdown",
   "id": "08c539e7",
   "metadata": {},
   "source": [
    "# Logistic Regression Optuna Optimizer\n",
    "\n",
    "## For Kaggle AMEX default prediction competition data\n",
    "\n",
    "https://www.kaggle.com/competitions/amex-default-prediction/data\n",
    "\n",
    "This competition had some random looking data where no information on columns was given. The notebook is mainly to allow me to copy it for use in Logreg optimization in other tabular data cases.\n",
    "\n",
    "This assumes skelearn and various other Python libraries are installed. This one is not using GPU (as far as I know :)). I used a Docker image and Pipfile with all these installed.\n"
   ]
  },
  {
   "cell_type": "code",
   "execution_count": 2,
   "id": "1bd51f61",
   "metadata": {},
   "outputs": [],
   "source": [
    "import pandas as pd\n",
    "import numpy as np\n",
    "\n",
    "import optuna  # pip install optuna\n",
    "from sklearn.metrics import log_loss\n",
    "from sklearn.metrics import accuracy_score\n",
    "from sklearn.model_selection import StratifiedKFold\n",
    "from sklearn.model_selection import train_test_split\n",
    "from sklearn.linear_model import LogisticRegression\n",
    "from tqdm import tqdm\n",
    "import gc\n",
    "from sklearn import preprocessing\n",
    "\n",
    "tqdm.pandas()\n",
    "\n",
    "import time\n",
    "\n",
    "N_FOLDS = 10"
   ]
  },
  {
   "cell_type": "code",
   "execution_count": 3,
   "id": "9f848a2b",
   "metadata": {},
   "outputs": [],
   "source": [
    "# https://www.kaggle.com/kyakovlev\n",
    "# https://www.kaggle.com/competitions/amex-default-prediction/discussion/327534\n",
    "def amex_metric_mod(y_true, y_pred):\n",
    "\n",
    "    labels     = np.transpose(np.array([y_true, y_pred]))\n",
    "    labels     = labels[labels[:, 1].argsort()[::-1]]\n",
    "    weights    = np.where(labels[:,0]==0, 20, 1)\n",
    "    cut_vals   = labels[np.cumsum(weights) <= int(0.04 * np.sum(weights))]\n",
    "    top_four   = np.sum(cut_vals[:,0]) / np.sum(labels[:,0])\n",
    "\n",
    "    gini = [0,0]\n",
    "    for i in [1,0]:\n",
    "        labels         = np.transpose(np.array([y_true, y_pred]))\n",
    "        labels         = labels[labels[:, i].argsort()[::-1]]\n",
    "        weight         = np.where(labels[:,0]==0, 20, 1)\n",
    "        weight_random  = np.cumsum(weight / np.sum(weight))\n",
    "        total_pos      = np.sum(labels[:, 0] *  weight)\n",
    "        cum_pos_found  = np.cumsum(labels[:, 0] * weight)\n",
    "        lorentz        = cum_pos_found / total_pos\n",
    "        gini[i]        = np.sum((lorentz - weight_random) * weight)\n",
    "\n",
    "    return 0.5 * (gini[1]/gini[0] + top_four)\n"
   ]
  },
  {
   "cell_type": "code",
   "execution_count": 4,
   "id": "b8b22a79",
   "metadata": {},
   "outputs": [],
   "source": [
    "cat_cols = ['B_30', 'B_38', 'D_114', 'D_116', 'D_117', 'D_120', 'D_126', 'D_63', 'D_64', 'D_66', 'D_68'] \n"
   ]
  },
  {
   "cell_type": "code",
   "execution_count": null,
   "id": "36efef24",
   "metadata": {},
   "outputs": [],
   "source": []
  },
  {
   "cell_type": "code",
   "execution_count": 5,
   "id": "ee9f7b91",
   "metadata": {},
   "outputs": [],
   "source": [
    "def format_time(seconds):\n",
    "    seconds = int(seconds)\n",
    "    minutes = seconds // 60\n",
    "    hours = minutes // 60\n",
    "    minutes = minutes % 60\n",
    "    seconds = seconds % 60\n",
    "    if hours > 0:\n",
    "        return f\"{hours}h, {minutes}m, {seconds}s\"\n",
    "    if minutes > 0:\n",
    "        return f\"{minutes}m, {seconds}s\"\n",
    "    return f\"{seconds}s\"\n",
    "        "
   ]
  },
  {
   "cell_type": "code",
   "execution_count": 6,
   "id": "89932a74",
   "metadata": {},
   "outputs": [],
   "source": [
    "def find_new_cat_cols(df_from):\n",
    "    new_cat_cols = []\n",
    "    for cat_col in cat_cols:\n",
    "        new_cat_cols.extend([col for col in df_from.columns if col.startswith(cat_col)])\n",
    "    return new_cat_cols\n"
   ]
  },
  {
   "cell_type": "markdown",
   "id": "f38233ae",
   "metadata": {},
   "source": [
    "# LogReg Optuna Optimizer"
   ]
  },
  {
   "cell_type": "code",
   "execution_count": 82,
   "id": "ef69c204",
   "metadata": {},
   "outputs": [],
   "source": [
    "\n",
    "optuna_eval_results = {}\n",
    "optuna_iteration_index = 0\n",
    "optuna_losses = []\n",
    "optuna_accuracies = []\n",
    "optuna_amexes = []\n",
    "optuna_parameters = []\n",
    "optuna_seconds = []\n",
    "\n",
    "def optuna_objective(trial, X, y, verbosity=-1):\n",
    "    global optuna_iteration_index\n",
    "    optuna_iteration_index += 1\n",
    "    param_grid = {\n",
    "        \"solver\": trial.suggest_categorical(\"solver\", [\"lbfgs\", \"liblinear\", \"sag\", \"saga\"]),\n",
    "        'C': trial.suggest_discrete_uniform('C', 1e-5, 10, 0.1),\n",
    "        \"fit_intercept\": trial.suggest_categorical(\"fit_intercept\", [True, False]),\n",
    "        \"class_weight\": trial.suggest_categorical(\"class_weight\", [\"balanced\", None]),\n",
    "        \"n_jobs\": -1,\n",
    "        \"verbose\": 0\n",
    "    }\n",
    "    if param_grid[\"solver\"] == \"lbfgs\":\n",
    "        penalty = trial.suggest_categorical(\"penalty-lbfgs\", [\"l2\", 'none'])\n",
    "        param_grid[\"penalty\"] = penalty\n",
    "        print(f\"1: {penalty}\")\n",
    "    if param_grid[\"solver\"] == \"liblinear\":\n",
    "        penalty = trial.suggest_categorical(\"penalty-liblinear\", [\"l1\", \"l2\"])\n",
    "        param_grid[\"penalty\"] = penalty\n",
    "        print(f\"2: {penalty}\")\n",
    "    if param_grid[\"solver\"] == \"sag\":\n",
    "        penalty = trial.suggest_categorical(\"penalty-sag\", [\"l2\", 'none'])\n",
    "        param_grid[\"penalty\"] = penalty\n",
    "        print(f\"3: {penalty}\")\n",
    "    if param_grid[\"solver\"] == \"saga\":\n",
    "        penalty = trial.suggest_categorical(\"penalty-saga\", [\"elasticnet\", \"l1\", \"l2\", 'none'])\n",
    "        param_grid[\"penalty\"] = penalty\n",
    "        print(f\"4: {penalty}\")\n",
    "    if param_grid[\"penalty\"] == \"elasticnet\":\n",
    "        param_grid[\"l1_ratio\"] = trial.suggest_discrete_uniform('l1_ratio', 0.00001, 0.99999, 0.00001)\n",
    "        print(f\"5: {param_grid['penalty']}\")\n",
    "    \n",
    "    print(f\"STARTING OPTIMIZATION iteration {optuna_iteration_index}, data size: {X.shape}, params={param_grid}\")\n",
    "    #split data into 5 pieces, run the optimizer on only 2 of them for speed\n",
    "    N_FOLDS_RUN = N_FOLDS\n",
    "    cv = StratifiedKFold(n_splits=N_FOLDS, shuffle=True, random_state=69)\n",
    "#    cv = StratifiedKFold(n_splits=N_FOLDS, shuffle=True, random_state=1121218)\n",
    "\n",
    "    cv_scores = np.empty(N_FOLDS_RUN)\n",
    "    cv_accuracies = np.empty(N_FOLDS_RUN)\n",
    "    cv_amexes = np.empty(N_FOLDS_RUN)\n",
    "    \n",
    "    time_start_all_folds = time.time()\n",
    "    acc_score_total = 0\n",
    "    n_classes = 1\n",
    "    train_preds = np.zeros((X.shape[0], n_classes))\n",
    "    amex_total = 0\n",
    "    for idx, (train_idx, test_idx) in enumerate(cv.split(X, y)):\n",
    "        if idx >= N_FOLDS_RUN:\n",
    "            break\n",
    "        time_start_this_fold = time.time()\n",
    "        print(f\"=== STARTING FOLD {idx+1}/{N_FOLDS_RUN} ({N_FOLDS}) ===\")\n",
    "        X_train, X_test = X.iloc[train_idx], X.iloc[test_idx]\n",
    "        y_train, y_test = y.iloc[train_idx], y.iloc[test_idx]\n",
    "#        evalset = [(X_train, y_train), (X_test,y_test)]\n",
    "        evalset = [(X_test,y_test)]\n",
    "        \n",
    "        print(\"creating classifier\")\n",
    "        model = LogisticRegression(**param_grid)\n",
    "        print(\"fitting\")\n",
    "                \n",
    "        model.fit(\n",
    "            X_train,\n",
    "            y_train,\n",
    "        )\n",
    "\n",
    "        print(\"predicting\")\n",
    "        preds = model.predict_proba(X_test)\n",
    "\n",
    "        preds_true_amex = preds[:, 1]\n",
    "        preds_true = preds[:, 1].flatten()\n",
    "        preds_true.shape = (y_test.shape[0], 1)\n",
    "        amex_y_test = np.array(y_test)\n",
    "        amex_y_test.shape = (y_test.shape[0], 1)\n",
    "        np.add.at(train_preds, test_idx, preds_true)\n",
    "        print(f\"count zerO: {np.count_nonzero(train_preds)}\")\n",
    "\n",
    "        preds_this_round = (preds >= 0.5)[:,1]\n",
    "\n",
    "        acc_score = accuracy_score(y_test, preds_this_round)\n",
    "        acc_score_total += acc_score\n",
    "\n",
    "        amex_score = amex_metric_mod(y_test, preds_true_amex)\n",
    "        amex_total += amex_score\n",
    "\n",
    "        log_loss_fold = log_loss(y_test, preds)\n",
    "        cv_scores[idx] = log_loss_fold\n",
    "        cv_accuracies[idx] = acc_score\n",
    "        cv_amexes[idx] = amex_score\n",
    "        print(f\"amex: {amex_score}\")\n",
    "\n",
    "        print(f\"=== FINISHED FOLD {idx+1}/{N_FOLDS}, log loss={log_loss_fold}, accuracy={acc_score}, amex={amex_score} ===\")\n",
    "        time_total_this_fold = time.time() - time_start_this_fold\n",
    "        print(f\"time to run this fold: {format_time(time_total_this_fold)}\")        \n",
    "\n",
    "        if amex_score < 0.78:\n",
    "            print(\"low score on amex, dropping loop\")\n",
    "            return amex_score\n",
    "\n",
    "   \n",
    "    time_total_all_folds = time.time() - time_start_all_folds        \n",
    "    print(f\"time to run folds: {format_time(time_total_all_folds)}\")\n",
    "    \n",
    "    iteration_log_loss = np.mean(cv_scores)\n",
    "    iteration_accuracy = np.mean(cv_accuracies)\n",
    "    iteration_amex = np.mean(cv_amexes)\n",
    "    optuna_losses.append(iteration_log_loss)\n",
    "    optuna_amexes.append(iteration_amex)\n",
    "    optuna_accuracies.append(iteration_accuracy)\n",
    "    optuna_parameters.append(param_grid)\n",
    "    optuna_seconds.append(int(time_total_all_folds))\n",
    "    print(f\"iteration logloss: {iteration_log_loss}, iteration acc: {iteration_accuracy}, Iteration amex: {iteration_amex}\")\n",
    "    return iteration_amex #iteration_log_loss\n"
   ]
  },
  {
   "cell_type": "markdown",
   "id": "c4385400",
   "metadata": {},
   "source": [
    "# Load Data\n",
    "\n",
    "The data is the prediction outputs of XGB, LGBM, Catboost, CNN1D, and CNN Wavenet models.\n",
    "\n",
    "## First the predictions for the training data, to be used to train the logreg ensemble model:"
   ]
  },
  {
   "cell_type": "code",
   "execution_count": 83,
   "id": "895c6094",
   "metadata": {},
   "outputs": [],
   "source": [
    "df_xgb = pd.read_csv(\"predictions_xgb_lagged.csv\").drop(\"Unnamed: 0\", axis=1)\n",
    "df_lgbm = pd.read_csv(\"predictions_lgbm_lagged.csv\").drop(\"Unnamed: 0\", axis=1)\n",
    "df_cat = pd.read_csv(\"predictions_cat_lagged.csv\").drop(\"Unnamed: 0\", axis=1)\n",
    "df_cnn = pd.read_csv(\"predictions_cnn.csv\").drop(\"Unnamed: 0\", axis=1)\n",
    "df_wave = pd.read_csv(\"predictions_wave.csv\").drop(\"Unnamed: 0\", axis=1)\n",
    "df_target = pd.read_csv(\"train_labels.csv\")"
   ]
  },
  {
   "cell_type": "code",
   "execution_count": 84,
   "id": "137570ea",
   "metadata": {},
   "outputs": [
    {
     "data": {
      "text/html": [
       "<div>\n",
       "<style scoped>\n",
       "    .dataframe tbody tr th:only-of-type {\n",
       "        vertical-align: middle;\n",
       "    }\n",
       "\n",
       "    .dataframe tbody tr th {\n",
       "        vertical-align: top;\n",
       "    }\n",
       "\n",
       "    .dataframe thead th {\n",
       "        text-align: right;\n",
       "    }\n",
       "</style>\n",
       "<table border=\"1\" class=\"dataframe\">\n",
       "  <thead>\n",
       "    <tr style=\"text-align: right;\">\n",
       "      <th></th>\n",
       "      <th>customer_ID</th>\n",
       "      <th>prediction</th>\n",
       "    </tr>\n",
       "  </thead>\n",
       "  <tbody>\n",
       "    <tr>\n",
       "      <th>0</th>\n",
       "      <td>0000099d6bd597052cdcda90ffabf56573fe9d7c79be5f...</td>\n",
       "      <td>0.000736</td>\n",
       "    </tr>\n",
       "    <tr>\n",
       "      <th>1</th>\n",
       "      <td>00000fd6641609c6ece5454664794f0340ad84dddce9a2...</td>\n",
       "      <td>0.001333</td>\n",
       "    </tr>\n",
       "    <tr>\n",
       "      <th>2</th>\n",
       "      <td>00001b22f846c82c51f6e3958ccd81970162bae8b007e8...</td>\n",
       "      <td>0.001681</td>\n",
       "    </tr>\n",
       "    <tr>\n",
       "      <th>3</th>\n",
       "      <td>000041bdba6ecadd89a52d11886e8eaaec9325906c9723...</td>\n",
       "      <td>0.007314</td>\n",
       "    </tr>\n",
       "    <tr>\n",
       "      <th>4</th>\n",
       "      <td>00007889e4fcd2614b6cbe7f8f3d2e5c728eca32d9eb8a...</td>\n",
       "      <td>0.001709</td>\n",
       "    </tr>\n",
       "    <tr>\n",
       "      <th>...</th>\n",
       "      <td>...</td>\n",
       "      <td>...</td>\n",
       "    </tr>\n",
       "    <tr>\n",
       "      <th>458908</th>\n",
       "      <td>ffff41c8a52833b56430603969b9ca48d208e7c192c6a4...</td>\n",
       "      <td>0.002823</td>\n",
       "    </tr>\n",
       "    <tr>\n",
       "      <th>458909</th>\n",
       "      <td>ffff518bb2075e4816ee3fe9f3b152c57fc0e6f01bf7fd...</td>\n",
       "      <td>0.023796</td>\n",
       "    </tr>\n",
       "    <tr>\n",
       "      <th>458910</th>\n",
       "      <td>ffff9984b999fccb2b6127635ed0736dda94e544e67e02...</td>\n",
       "      <td>0.003624</td>\n",
       "    </tr>\n",
       "    <tr>\n",
       "      <th>458911</th>\n",
       "      <td>ffffa5c46bc8de74f5a4554e74e239c8dee6b9baf38814...</td>\n",
       "      <td>0.055756</td>\n",
       "    </tr>\n",
       "    <tr>\n",
       "      <th>458912</th>\n",
       "      <td>fffff1d38b785cef84adeace64f8f83db3a0c31e8d92ea...</td>\n",
       "      <td>0.002395</td>\n",
       "    </tr>\n",
       "  </tbody>\n",
       "</table>\n",
       "<p>458913 rows × 2 columns</p>\n",
       "</div>"
      ],
      "text/plain": [
       "                                              customer_ID  prediction\n",
       "0       0000099d6bd597052cdcda90ffabf56573fe9d7c79be5f...    0.000736\n",
       "1       00000fd6641609c6ece5454664794f0340ad84dddce9a2...    0.001333\n",
       "2       00001b22f846c82c51f6e3958ccd81970162bae8b007e8...    0.001681\n",
       "3       000041bdba6ecadd89a52d11886e8eaaec9325906c9723...    0.007314\n",
       "4       00007889e4fcd2614b6cbe7f8f3d2e5c728eca32d9eb8a...    0.001709\n",
       "...                                                   ...         ...\n",
       "458908  ffff41c8a52833b56430603969b9ca48d208e7c192c6a4...    0.002823\n",
       "458909  ffff518bb2075e4816ee3fe9f3b152c57fc0e6f01bf7fd...    0.023796\n",
       "458910  ffff9984b999fccb2b6127635ed0736dda94e544e67e02...    0.003624\n",
       "458911  ffffa5c46bc8de74f5a4554e74e239c8dee6b9baf38814...    0.055756\n",
       "458912  fffff1d38b785cef84adeace64f8f83db3a0c31e8d92ea...    0.002395\n",
       "\n",
       "[458913 rows x 2 columns]"
      ]
     },
     "execution_count": 84,
     "metadata": {},
     "output_type": "execute_result"
    }
   ],
   "source": [
    "df_xgb"
   ]
  },
  {
   "cell_type": "code",
   "execution_count": 85,
   "id": "bdcbfaa7",
   "metadata": {},
   "outputs": [],
   "source": [
    "#these tuples will be later merged into one, such as prediction_xgb, prediction_cat, ... \n",
    "#where the first tuple item (tupe[0]) is the prediction dataframe, and tuple[1] is its prefix\n",
    "dfs_to_merge = [(df_xgb, \"xgb\"), (df_cat, \"cat\"), (df_cnn, \"cnn\"), (df_wave, \"wave\"), (df_target, \"target\")]"
   ]
  },
  {
   "cell_type": "code",
   "execution_count": 86,
   "id": "2861cf3d",
   "metadata": {},
   "outputs": [
    {
     "name": "stdout",
     "output_type": "stream",
     "text": [
      "merging xgb\n",
      "merging cat\n",
      "merging cnn\n",
      "merging wave\n",
      "merging target\n"
     ]
    }
   ],
   "source": [
    "df_train = pd.DataFrame()\n",
    "df_train[\"customer_ID\"] = []\n",
    "#tuple0 = dfs_to_merge[0]\n",
    "#df_train[f\"prediction_{tuple0[1]}\"] = tuple0[0][\"prediction\"]\n",
    "\n",
    "for df_tuple in dfs_to_merge:\n",
    "    df = df_tuple[0]\n",
    "    suffix = df_tuple[1]\n",
    "    print(f\"merging {suffix}\")\n",
    "    df_train = pd.merge(df_train, df, how=\"outer\", on=\"customer_ID\", suffixes=[\"\", f\"_{suffix}\"])\n"
   ]
  },
  {
   "cell_type": "code",
   "execution_count": 87,
   "id": "83af1d44",
   "metadata": {},
   "outputs": [
    {
     "data": {
      "text/html": [
       "<div>\n",
       "<style scoped>\n",
       "    .dataframe tbody tr th:only-of-type {\n",
       "        vertical-align: middle;\n",
       "    }\n",
       "\n",
       "    .dataframe tbody tr th {\n",
       "        vertical-align: top;\n",
       "    }\n",
       "\n",
       "    .dataframe thead th {\n",
       "        text-align: right;\n",
       "    }\n",
       "</style>\n",
       "<table border=\"1\" class=\"dataframe\">\n",
       "  <thead>\n",
       "    <tr style=\"text-align: right;\">\n",
       "      <th></th>\n",
       "      <th>customer_ID</th>\n",
       "      <th>prediction</th>\n",
       "      <th>prediction_cat</th>\n",
       "      <th>prediction_cnn</th>\n",
       "      <th>prediction_wave</th>\n",
       "      <th>target</th>\n",
       "    </tr>\n",
       "  </thead>\n",
       "  <tbody>\n",
       "    <tr>\n",
       "      <th>0</th>\n",
       "      <td>0000099d6bd597052cdcda90ffabf56573fe9d7c79be5f...</td>\n",
       "      <td>0.000736</td>\n",
       "      <td>0.001574</td>\n",
       "      <td>0.000114</td>\n",
       "      <td>0.000582</td>\n",
       "      <td>0</td>\n",
       "    </tr>\n",
       "    <tr>\n",
       "      <th>1</th>\n",
       "      <td>00000fd6641609c6ece5454664794f0340ad84dddce9a2...</td>\n",
       "      <td>0.001333</td>\n",
       "      <td>0.002910</td>\n",
       "      <td>0.000693</td>\n",
       "      <td>0.000715</td>\n",
       "      <td>0</td>\n",
       "    </tr>\n",
       "    <tr>\n",
       "      <th>2</th>\n",
       "      <td>00001b22f846c82c51f6e3958ccd81970162bae8b007e8...</td>\n",
       "      <td>0.001681</td>\n",
       "      <td>0.002506</td>\n",
       "      <td>0.000670</td>\n",
       "      <td>0.001487</td>\n",
       "      <td>0</td>\n",
       "    </tr>\n",
       "    <tr>\n",
       "      <th>3</th>\n",
       "      <td>000041bdba6ecadd89a52d11886e8eaaec9325906c9723...</td>\n",
       "      <td>0.007314</td>\n",
       "      <td>0.007465</td>\n",
       "      <td>0.003867</td>\n",
       "      <td>0.003853</td>\n",
       "      <td>0</td>\n",
       "    </tr>\n",
       "    <tr>\n",
       "      <th>4</th>\n",
       "      <td>00007889e4fcd2614b6cbe7f8f3d2e5c728eca32d9eb8a...</td>\n",
       "      <td>0.001709</td>\n",
       "      <td>0.005253</td>\n",
       "      <td>0.001066</td>\n",
       "      <td>0.002279</td>\n",
       "      <td>0</td>\n",
       "    </tr>\n",
       "    <tr>\n",
       "      <th>...</th>\n",
       "      <td>...</td>\n",
       "      <td>...</td>\n",
       "      <td>...</td>\n",
       "      <td>...</td>\n",
       "      <td>...</td>\n",
       "      <td>...</td>\n",
       "    </tr>\n",
       "    <tr>\n",
       "      <th>458908</th>\n",
       "      <td>ffff41c8a52833b56430603969b9ca48d208e7c192c6a4...</td>\n",
       "      <td>0.002823</td>\n",
       "      <td>0.007015</td>\n",
       "      <td>0.005916</td>\n",
       "      <td>0.004779</td>\n",
       "      <td>0</td>\n",
       "    </tr>\n",
       "    <tr>\n",
       "      <th>458909</th>\n",
       "      <td>ffff518bb2075e4816ee3fe9f3b152c57fc0e6f01bf7fd...</td>\n",
       "      <td>0.023796</td>\n",
       "      <td>0.024286</td>\n",
       "      <td>0.021221</td>\n",
       "      <td>0.013617</td>\n",
       "      <td>0</td>\n",
       "    </tr>\n",
       "    <tr>\n",
       "      <th>458910</th>\n",
       "      <td>ffff9984b999fccb2b6127635ed0736dda94e544e67e02...</td>\n",
       "      <td>0.003624</td>\n",
       "      <td>0.002882</td>\n",
       "      <td>0.000570</td>\n",
       "      <td>0.001506</td>\n",
       "      <td>0</td>\n",
       "    </tr>\n",
       "    <tr>\n",
       "      <th>458911</th>\n",
       "      <td>ffffa5c46bc8de74f5a4554e74e239c8dee6b9baf38814...</td>\n",
       "      <td>0.055756</td>\n",
       "      <td>0.054378</td>\n",
       "      <td>0.112111</td>\n",
       "      <td>0.053124</td>\n",
       "      <td>1</td>\n",
       "    </tr>\n",
       "    <tr>\n",
       "      <th>458912</th>\n",
       "      <td>fffff1d38b785cef84adeace64f8f83db3a0c31e8d92ea...</td>\n",
       "      <td>0.002395</td>\n",
       "      <td>0.002928</td>\n",
       "      <td>0.001399</td>\n",
       "      <td>0.003728</td>\n",
       "      <td>0</td>\n",
       "    </tr>\n",
       "  </tbody>\n",
       "</table>\n",
       "<p>458913 rows × 6 columns</p>\n",
       "</div>"
      ],
      "text/plain": [
       "                                              customer_ID  prediction  \\\n",
       "0       0000099d6bd597052cdcda90ffabf56573fe9d7c79be5f...    0.000736   \n",
       "1       00000fd6641609c6ece5454664794f0340ad84dddce9a2...    0.001333   \n",
       "2       00001b22f846c82c51f6e3958ccd81970162bae8b007e8...    0.001681   \n",
       "3       000041bdba6ecadd89a52d11886e8eaaec9325906c9723...    0.007314   \n",
       "4       00007889e4fcd2614b6cbe7f8f3d2e5c728eca32d9eb8a...    0.001709   \n",
       "...                                                   ...         ...   \n",
       "458908  ffff41c8a52833b56430603969b9ca48d208e7c192c6a4...    0.002823   \n",
       "458909  ffff518bb2075e4816ee3fe9f3b152c57fc0e6f01bf7fd...    0.023796   \n",
       "458910  ffff9984b999fccb2b6127635ed0736dda94e544e67e02...    0.003624   \n",
       "458911  ffffa5c46bc8de74f5a4554e74e239c8dee6b9baf38814...    0.055756   \n",
       "458912  fffff1d38b785cef84adeace64f8f83db3a0c31e8d92ea...    0.002395   \n",
       "\n",
       "        prediction_cat  prediction_cnn  prediction_wave  target  \n",
       "0             0.001574        0.000114         0.000582       0  \n",
       "1             0.002910        0.000693         0.000715       0  \n",
       "2             0.002506        0.000670         0.001487       0  \n",
       "3             0.007465        0.003867         0.003853       0  \n",
       "4             0.005253        0.001066         0.002279       0  \n",
       "...                ...             ...              ...     ...  \n",
       "458908        0.007015        0.005916         0.004779       0  \n",
       "458909        0.024286        0.021221         0.013617       0  \n",
       "458910        0.002882        0.000570         0.001506       0  \n",
       "458911        0.054378        0.112111         0.053124       1  \n",
       "458912        0.002928        0.001399         0.003728       0  \n",
       "\n",
       "[458913 rows x 6 columns]"
      ]
     },
     "execution_count": 87,
     "metadata": {},
     "output_type": "execute_result"
    }
   ],
   "source": [
    "df_train"
   ]
  },
  {
   "cell_type": "markdown",
   "id": "497593bf",
   "metadata": {},
   "source": [
    "## The Input Submission Predictions to Predict Final Submission"
   ]
  },
  {
   "cell_type": "code",
   "execution_count": 112,
   "id": "a6eb631f",
   "metadata": {},
   "outputs": [],
   "source": [
    "df_xgb = pd.read_csv(\"submission_xgb_lagged.csv\")\n",
    "df_lgbm = pd.read_csv(\"submission_lgbm_lagged_seed2.csv\")\n",
    "df_cat = pd.read_csv(\"submission_cat_lagged_seed2.csv\")\n",
    "df_cnn = pd.read_csv(\"submission_cnn.csv\")\n",
    "df_wave = pd.read_csv(\"submission_cnn_wave.csv\")\n",
    "\n",
    "#df_train = df_xgb.copy()"
   ]
  },
  {
   "cell_type": "code",
   "execution_count": 113,
   "id": "38c1cd4b",
   "metadata": {},
   "outputs": [],
   "source": [
    "dfs_to_merge = [(df_xgb, \"xgb\"), (df_cat, \"cat\"), (df_cnn, \"cnn\"), (df_wave, \"wave\")]"
   ]
  },
  {
   "cell_type": "code",
   "execution_count": 114,
   "id": "dd126b1a",
   "metadata": {},
   "outputs": [
    {
     "name": "stdout",
     "output_type": "stream",
     "text": [
      "merging xgb\n",
      "merging cat\n",
      "merging cnn\n",
      "merging wave\n"
     ]
    }
   ],
   "source": [
    "df_test = pd.DataFrame()\n",
    "df_test[\"customer_ID\"] = []\n",
    "\n",
    "for df_tuple in dfs_to_merge:\n",
    "    df = df_tuple[0]\n",
    "    suffix = df_tuple[1]\n",
    "    print(f\"merging {suffix}\")\n",
    "    df_test = pd.merge(df_test, df, how=\"outer\", on=\"customer_ID\", suffixes=[\"\", f\"_{suffix}\"])\n"
   ]
  },
  {
   "cell_type": "markdown",
   "id": "7a2badf4",
   "metadata": {},
   "source": [
    "# Train and Predict After Optimization"
   ]
  },
  {
   "cell_type": "code",
   "execution_count": 103,
   "id": "341c6535",
   "metadata": {},
   "outputs": [],
   "source": [
    "def train_and_predict(optuna_params, df_from):\n",
    "    X = df_from.drop([\"customer_ID\", \"target\"], axis=1)\n",
    "    y = df_from[\"target\"]\n",
    "\n",
    "    verbosity=50 #print status every 50 iteration of tree building\n",
    "    optuna_eval_results = {}\n",
    "\n",
    "    cv = StratifiedKFold(n_splits=N_FOLDS, shuffle=True, random_state=1121218)\n",
    "\n",
    "    cv_scores = np.empty(N_FOLDS)\n",
    "    cv_accuracies = np.empty(N_FOLDS)\n",
    "    time_start_all_folds = time.time()\n",
    "    acc_score_total = 0\n",
    "    models = []\n",
    "\n",
    "    n_classes = 1\n",
    "    train_preds = np.zeros((X.shape[0], n_classes))\n",
    "    #balanced_preds = np.empty([X.shape[0], n_classes], dtype = float)\n",
    "\n",
    "    for idx, (train_idx, test_idx) in enumerate(cv.split(X, y)):\n",
    "\n",
    "        \n",
    "        time_start_this_fold = time.time()\n",
    "        print(f\"=== STARTING FOLD {idx+1}/{N_FOLDS} ===\")\n",
    "        X_train, X_test = X.iloc[train_idx], X.iloc[test_idx]\n",
    "        y_train, y_test = y.iloc[train_idx], y.iloc[test_idx]\n",
    "        \n",
    "        print(\"creating classifier\")\n",
    "        model = LogisticRegression(**optuna_params)\n",
    "\n",
    "        \n",
    "        print(\"fitting\")\n",
    "        model.fit(\n",
    "            X_train,\n",
    "            y_train,\n",
    "        )\n",
    "        \n",
    "        print(f\"predicting\")\n",
    "        preds = model.predict_proba(X_test)\n",
    "\n",
    "        preds_true_amex = preds[:, 1]\n",
    "        preds_true = preds[:, 1].flatten()\n",
    "        preds_true.shape = (y_test.shape[0], 1)\n",
    "        np.add.at(train_preds, test_idx, preds_true)\n",
    "        print(f\"count zerO: {np.count_nonzero(train_preds)}\")\n",
    "        \n",
    "        amex_score = amex_metric_mod(y_test, preds_true_amex)        \n",
    "\n",
    "        preds_this_round = (preds >= 0.5)[:,1]\n",
    "        \n",
    "        acc_score = accuracy_score(y_test, preds_this_round)\n",
    "        acc_score_total += acc_score\n",
    "\n",
    "        log_loss_fold = log_loss(y_test, preds)\n",
    "        cv_scores[idx] = log_loss_fold\n",
    "        cv_accuracies[idx] = acc_score\n",
    "        print(f\"=== FINISHED FOLD {idx+1}/{N_FOLDS}, log loss={log_loss_fold}, accuracy={acc_score}, amex={amex_score} ===\")\n",
    "        time_total_this_fold = time.time() - time_start_this_fold\n",
    "        print(f\"time to run this fold: {format_time(time_total_this_fold)}\")        \n",
    "        \n",
    "        models.append(model)\n",
    "        \n",
    "    return models, train_preds\n"
   ]
  },
  {
   "cell_type": "code",
   "execution_count": 89,
   "id": "2bc6aa5a",
   "metadata": {},
   "outputs": [
    {
     "data": {
      "text/html": [
       "<div>\n",
       "<style scoped>\n",
       "    .dataframe tbody tr th:only-of-type {\n",
       "        vertical-align: middle;\n",
       "    }\n",
       "\n",
       "    .dataframe tbody tr th {\n",
       "        vertical-align: top;\n",
       "    }\n",
       "\n",
       "    .dataframe thead th {\n",
       "        text-align: right;\n",
       "    }\n",
       "</style>\n",
       "<table border=\"1\" class=\"dataframe\">\n",
       "  <thead>\n",
       "    <tr style=\"text-align: right;\">\n",
       "      <th></th>\n",
       "      <th>customer_ID</th>\n",
       "      <th>prediction</th>\n",
       "      <th>prediction_cat</th>\n",
       "      <th>prediction_cnn</th>\n",
       "      <th>prediction_wave</th>\n",
       "      <th>target</th>\n",
       "    </tr>\n",
       "  </thead>\n",
       "  <tbody>\n",
       "    <tr>\n",
       "      <th>0</th>\n",
       "      <td>0000099d6bd597052cdcda90ffabf56573fe9d7c79be5f...</td>\n",
       "      <td>0.000736</td>\n",
       "      <td>0.001574</td>\n",
       "      <td>0.000114</td>\n",
       "      <td>0.000582</td>\n",
       "      <td>0</td>\n",
       "    </tr>\n",
       "    <tr>\n",
       "      <th>1</th>\n",
       "      <td>00000fd6641609c6ece5454664794f0340ad84dddce9a2...</td>\n",
       "      <td>0.001333</td>\n",
       "      <td>0.002910</td>\n",
       "      <td>0.000693</td>\n",
       "      <td>0.000715</td>\n",
       "      <td>0</td>\n",
       "    </tr>\n",
       "    <tr>\n",
       "      <th>2</th>\n",
       "      <td>00001b22f846c82c51f6e3958ccd81970162bae8b007e8...</td>\n",
       "      <td>0.001681</td>\n",
       "      <td>0.002506</td>\n",
       "      <td>0.000670</td>\n",
       "      <td>0.001487</td>\n",
       "      <td>0</td>\n",
       "    </tr>\n",
       "    <tr>\n",
       "      <th>3</th>\n",
       "      <td>000041bdba6ecadd89a52d11886e8eaaec9325906c9723...</td>\n",
       "      <td>0.007314</td>\n",
       "      <td>0.007465</td>\n",
       "      <td>0.003867</td>\n",
       "      <td>0.003853</td>\n",
       "      <td>0</td>\n",
       "    </tr>\n",
       "    <tr>\n",
       "      <th>4</th>\n",
       "      <td>00007889e4fcd2614b6cbe7f8f3d2e5c728eca32d9eb8a...</td>\n",
       "      <td>0.001709</td>\n",
       "      <td>0.005253</td>\n",
       "      <td>0.001066</td>\n",
       "      <td>0.002279</td>\n",
       "      <td>0</td>\n",
       "    </tr>\n",
       "  </tbody>\n",
       "</table>\n",
       "</div>"
      ],
      "text/plain": [
       "                                         customer_ID  prediction  \\\n",
       "0  0000099d6bd597052cdcda90ffabf56573fe9d7c79be5f...    0.000736   \n",
       "1  00000fd6641609c6ece5454664794f0340ad84dddce9a2...    0.001333   \n",
       "2  00001b22f846c82c51f6e3958ccd81970162bae8b007e8...    0.001681   \n",
       "3  000041bdba6ecadd89a52d11886e8eaaec9325906c9723...    0.007314   \n",
       "4  00007889e4fcd2614b6cbe7f8f3d2e5c728eca32d9eb8a...    0.001709   \n",
       "\n",
       "   prediction_cat  prediction_cnn  prediction_wave  target  \n",
       "0        0.001574        0.000114         0.000582       0  \n",
       "1        0.002910        0.000693         0.000715       0  \n",
       "2        0.002506        0.000670         0.001487       0  \n",
       "3        0.007465        0.003867         0.003853       0  \n",
       "4        0.005253        0.001066         0.002279       0  "
      ]
     },
     "execution_count": 89,
     "metadata": {},
     "output_type": "execute_result"
    }
   ],
   "source": [
    "#df_train = pd.read_parquet(\"train_lagged.parquet\", engine=\"pyarrow\")\n",
    "df_train.head()"
   ]
  },
  {
   "cell_type": "code",
   "execution_count": 90,
   "id": "41a50f66",
   "metadata": {},
   "outputs": [
    {
     "ename": "NameError",
     "evalue": "name 'df_test' is not defined",
     "output_type": "error",
     "traceback": [
      "\u001b[0;31m---------------------------------------------------------------------------\u001b[0m",
      "\u001b[0;31mNameError\u001b[0m                                 Traceback (most recent call last)",
      "Input \u001b[0;32mIn [90]\u001b[0m, in \u001b[0;36m<cell line: 2>\u001b[0;34m()\u001b[0m\n\u001b[1;32m      1\u001b[0m \u001b[38;5;66;03m#df_test = pd.read_parquet(\"test_lagged.parquet\", engine=\"pyarrow\")\u001b[39;00m\n\u001b[0;32m----> 2\u001b[0m \u001b[43mdf_test\u001b[49m\u001b[38;5;241m.\u001b[39mhead()\n",
      "\u001b[0;31mNameError\u001b[0m: name 'df_test' is not defined"
     ]
    }
   ],
   "source": [
    "#df_test = pd.read_parquet(\"test_lagged.parquet\", engine=\"pyarrow\")\n",
    "df_test.head()"
   ]
  },
  {
   "cell_type": "code",
   "execution_count": 91,
   "id": "803e5983",
   "metadata": {},
   "outputs": [],
   "source": [
    "X = df_train.drop([\"customer_ID\", \"target\"], axis=1)\n",
    "y = df_train[\"target\"]"
   ]
  },
  {
   "cell_type": "markdown",
   "id": "af5c31c7",
   "metadata": {},
   "source": [
    "# Run Actual Optuna Optimization for Logreg on Training Data"
   ]
  },
  {
   "cell_type": "code",
   "execution_count": 92,
   "id": "39b4e512",
   "metadata": {},
   "outputs": [
    {
     "name": "stderr",
     "output_type": "stream",
     "text": [
      "\u001b[32m[I 2022-08-11 18:20:25,031]\u001b[0m A new study created in memory with name: LogReg Classifier\u001b[0m\n",
      "/usr/local/lib/python3.8/dist-packages/optuna/distributions.py:545: UserWarning: The distribution is specified by [1e-05, 10] and q=0.1, but the range is not divisible by `q`. It will be replaced by [1e-05, 9.90001].\n",
      "  warnings.warn(\n"
     ]
    },
    {
     "name": "stdout",
     "output_type": "stream",
     "text": [
      "3: l2\n",
      "STARTING OPTIMIZATION iteration 1, data size: (458913, 4), params={'solver': 'sag', 'C': 7.80001, 'fit_intercept': True, 'class_weight': None, 'n_jobs': -1, 'verbose': 0, 'penalty': 'l2'}\n",
      "=== STARTING FOLD 1/10 (10) ===\n",
      "creating classifier\n",
      "fitting\n",
      "predicting\n",
      "count zerO: 45892\n",
      "amex: 0.790076908516802\n",
      "=== FINISHED FOLD 1/10, log loss=0.23464963167002814, accuracy=0.9048853830733026, amex=0.790076908516802 ===\n",
      "time to run this fold: 1s\n",
      "=== STARTING FOLD 2/10 (10) ===\n",
      "creating classifier\n",
      "fitting\n",
      "predicting\n",
      "count zerO: 91784\n",
      "amex: 0.798255622855955\n",
      "=== FINISHED FOLD 2/10, log loss=0.22987875267991098, accuracy=0.9051468665562625, amex=0.798255622855955 ===\n",
      "time to run this fold: 1s\n",
      "=== STARTING FOLD 3/10 (10) ===\n",
      "creating classifier\n",
      "fitting\n",
      "predicting\n",
      "count zerO: 137676\n",
      "amex: 0.7972424006199069\n",
      "=== FINISHED FOLD 3/10, log loss=0.228409411323274, accuracy=0.9070208315174758, amex=0.7972424006199069 ===\n",
      "time to run this fold: 1s\n",
      "=== STARTING FOLD 4/10 (10) ===\n",
      "creating classifier\n",
      "fitting\n",
      "predicting\n",
      "count zerO: 183567\n",
      "amex: 0.7937172954375487\n",
      "=== FINISHED FOLD 4/10, log loss=0.23301610231759204, accuracy=0.9028785600662439, amex=0.7937172954375487 ===\n",
      "time to run this fold: 0s\n",
      "=== STARTING FOLD 5/10 (10) ===\n",
      "creating classifier\n",
      "fitting\n",
      "predicting\n",
      "count zerO: 229458\n",
      "amex: 0.7899115861955834\n",
      "=== FINISHED FOLD 5/10, log loss=0.23485824995233576, accuracy=0.9034669107232355, amex=0.7899115861955834 ===\n",
      "time to run this fold: 0s\n",
      "=== STARTING FOLD 6/10 (10) ===\n",
      "creating classifier\n",
      "fitting\n",
      "predicting\n",
      "count zerO: 275349\n",
      "amex: 0.7902041581809767\n",
      "=== FINISHED FOLD 6/10, log loss=0.23622809321204194, accuracy=0.9021158832886622, amex=0.7902041581809767 ===\n",
      "time to run this fold: 1s\n",
      "=== STARTING FOLD 7/10 (10) ===\n",
      "creating classifier\n",
      "fitting\n",
      "predicting\n",
      "count zerO: 321240\n",
      "amex: 0.7935104552789876\n",
      "=== FINISHED FOLD 7/10, log loss=0.23087042589506884, accuracy=0.9051230088688413, amex=0.7935104552789876 ===\n",
      "time to run this fold: 1s\n",
      "=== STARTING FOLD 8/10 (10) ===\n",
      "creating classifier\n",
      "fitting\n",
      "predicting\n",
      "count zerO: 367131\n",
      "amex: 0.7972140958258076\n",
      "=== FINISHED FOLD 8/10, log loss=0.23034581363565204, accuracy=0.9065176178335621, amex=0.7972140958258076 ===\n",
      "time to run this fold: 1s\n",
      "=== STARTING FOLD 9/10 (10) ===\n",
      "creating classifier\n",
      "fitting\n",
      "predicting\n",
      "count zerO: 413022\n",
      "amex: 0.7960377781488539\n",
      "=== FINISHED FOLD 9/10, log loss=0.23072180285466964, accuracy=0.9039463075548583, amex=0.7960377781488539 ===\n",
      "time to run this fold: 1s\n",
      "=== STARTING FOLD 10/10 (10) ===\n",
      "creating classifier\n",
      "fitting\n"
     ]
    },
    {
     "name": "stderr",
     "output_type": "stream",
     "text": [
      "\u001b[32m[I 2022-08-11 18:20:36,086]\u001b[0m Trial 0 finished with value: 0.7933035108781096 and parameters: {'solver': 'sag', 'C': 7.80001, 'fit_intercept': True, 'class_weight': None, 'penalty-sag': 'l2'}. Best is trial 0 with value: 0.7933035108781096.\u001b[0m\n"
     ]
    },
    {
     "name": "stdout",
     "output_type": "stream",
     "text": [
      "predicting\n",
      "count zerO: 458913\n",
      "amex: 0.7868648077206741\n",
      "=== FINISHED FOLD 10/10, log loss=0.2367486836547948, accuracy=0.9024863262949162, amex=0.7868648077206741 ===\n",
      "time to run this fold: 1s\n",
      "time to run folds: 11s\n",
      "iteration logloss: 0.23257269671953687, iteration acc: 0.904358769577736, Iteration amex: 0.7933035108781096\n",
      "4: elasticnet\n",
      "5: elasticnet\n",
      "STARTING OPTIMIZATION iteration 2, data size: (458913, 4), params={'solver': 'saga', 'C': 2.00001, 'fit_intercept': True, 'class_weight': 'balanced', 'n_jobs': -1, 'verbose': 0, 'penalty': 'elasticnet', 'l1_ratio': 0.63909}\n",
      "=== STARTING FOLD 1/10 (10) ===\n",
      "creating classifier\n",
      "fitting\n"
     ]
    },
    {
     "name": "stderr",
     "output_type": "stream",
     "text": [
      "/usr/local/lib/python3.8/dist-packages/optuna/distributions.py:545: UserWarning: The distribution is specified by [1e-05, 10] and q=0.1, but the range is not divisible by `q`. It will be replaced by [1e-05, 9.90001].\n",
      "  warnings.warn(\n"
     ]
    },
    {
     "name": "stdout",
     "output_type": "stream",
     "text": [
      "predicting\n",
      "count zerO: 45892\n",
      "amex: 0.79018800011854\n",
      "=== FINISHED FOLD 1/10, log loss=0.27320662421888436, accuracy=0.8980868125163427, amex=0.79018800011854 ===\n",
      "time to run this fold: 0s\n",
      "=== STARTING FOLD 2/10 (10) ===\n",
      "creating classifier\n",
      "fitting\n",
      "predicting\n",
      "count zerO: 91784\n",
      "amex: 0.7981973476942903\n",
      "=== FINISHED FOLD 2/10, log loss=0.27149456269930516, accuracy=0.8991545367384294, amex=0.7981973476942903 ===\n",
      "time to run this fold: 0s\n",
      "=== STARTING FOLD 3/10 (10) ===\n",
      "creating classifier\n",
      "fitting\n",
      "predicting\n",
      "count zerO: 137676\n",
      "amex: 0.7970488033011058\n",
      "=== FINISHED FOLD 3/10, log loss=0.2670507710521949, accuracy=0.902052645341236, amex=0.7970488033011058 ===\n",
      "time to run this fold: 0s\n",
      "=== STARTING FOLD 4/10 (10) ===\n",
      "creating classifier\n",
      "fitting\n",
      "predicting\n",
      "count zerO: 183567\n",
      "amex: 0.7935904750583527\n",
      "=== FINISHED FOLD 4/10, log loss=0.2741505383174474, accuracy=0.8972129611470658, amex=0.7935904750583527 ===\n",
      "time to run this fold: 0s\n",
      "=== STARTING FOLD 5/10 (10) ===\n",
      "creating classifier\n",
      "fitting\n",
      "predicting\n",
      "count zerO: 229458\n",
      "amex: 0.7901381560035907\n",
      "=== FINISHED FOLD 5/10, log loss=0.2732748287021166, accuracy=0.899304874594147, amex=0.7901381560035907 ===\n",
      "time to run this fold: 0s\n",
      "=== STARTING FOLD 6/10 (10) ===\n",
      "creating classifier\n",
      "fitting\n",
      "predicting\n",
      "count zerO: 275349\n",
      "amex: 0.790557287828535\n",
      "=== FINISHED FOLD 6/10, log loss=0.27786532509187495, accuracy=0.8958183521823451, amex=0.790557287828535 ===\n",
      "time to run this fold: 0s\n",
      "=== STARTING FOLD 7/10 (10) ===\n",
      "creating classifier\n",
      "fitting\n",
      "predicting\n",
      "count zerO: 321240\n",
      "amex: 0.7933196040207953\n",
      "=== FINISHED FOLD 7/10, log loss=0.2718838135442445, accuracy=0.8995445730099584, amex=0.7933196040207953 ===\n",
      "time to run this fold: 0s\n",
      "=== STARTING FOLD 8/10 (10) ===\n",
      "creating classifier\n",
      "fitting\n",
      "predicting\n",
      "count zerO: 367131\n",
      "amex: 0.7975343416899628\n",
      "=== FINISHED FOLD 8/10, log loss=0.2683066180796146, accuracy=0.9012660434507855, amex=0.7975343416899628 ===\n",
      "time to run this fold: 0s\n",
      "=== STARTING FOLD 9/10 (10) ===\n",
      "creating classifier\n",
      "fitting\n",
      "predicting\n",
      "count zerO: 413022\n",
      "amex: 0.7953419024328829\n",
      "=== FINISHED FOLD 9/10, log loss=0.2703267349134253, accuracy=0.8998932252511386, amex=0.7953419024328829 ===\n",
      "time to run this fold: 0s\n",
      "=== STARTING FOLD 10/10 (10) ===\n",
      "creating classifier\n",
      "fitting\n"
     ]
    },
    {
     "name": "stderr",
     "output_type": "stream",
     "text": [
      "\u001b[32m[I 2022-08-11 18:20:45,243]\u001b[0m Trial 1 finished with value: 0.79329224736701 and parameters: {'solver': 'saga', 'C': 2.00001, 'fit_intercept': True, 'class_weight': 'balanced', 'penalty-saga': 'elasticnet', 'l1_ratio': 0.63909}. Best is trial 0 with value: 0.7933035108781096.\u001b[0m\n"
     ]
    },
    {
     "name": "stdout",
     "output_type": "stream",
     "text": [
      "predicting\n",
      "count zerO: 458913\n",
      "amex: 0.787006555522044\n",
      "=== FINISHED FOLD 10/10, log loss=0.27898572767125396, accuracy=0.896384912074263, amex=0.787006555522044 ===\n",
      "time to run this fold: 0s\n",
      "time to run folds: 9s\n",
      "iteration logloss: 0.27265455442903613, iteration acc: 0.8988718936305711, Iteration amex: 0.79329224736701\n",
      "1: l2\n",
      "STARTING OPTIMIZATION iteration 3, data size: (458913, 4), params={'solver': 'lbfgs', 'C': 3.00001, 'fit_intercept': True, 'class_weight': None, 'n_jobs': -1, 'verbose': 0, 'penalty': 'l2'}\n",
      "=== STARTING FOLD 1/10 (10) ===\n",
      "creating classifier\n",
      "fitting\n"
     ]
    },
    {
     "name": "stderr",
     "output_type": "stream",
     "text": [
      "/usr/local/lib/python3.8/dist-packages/optuna/distributions.py:545: UserWarning: The distribution is specified by [1e-05, 10] and q=0.1, but the range is not divisible by `q`. It will be replaced by [1e-05, 9.90001].\n",
      "  warnings.warn(\n"
     ]
    },
    {
     "name": "stdout",
     "output_type": "stream",
     "text": [
      "predicting\n",
      "count zerO: 45892\n",
      "amex: 0.7900768961441735\n",
      "=== FINISHED FOLD 1/10, log loss=0.23464949722349948, accuracy=0.9048853830733026, amex=0.7900768961441735 ===\n",
      "time to run this fold: 0s\n",
      "=== STARTING FOLD 2/10 (10) ===\n",
      "creating classifier\n",
      "fitting\n",
      "predicting\n",
      "count zerO: 91784\n",
      "amex: 0.7982554298429524\n",
      "=== FINISHED FOLD 2/10, log loss=0.229878939015799, accuracy=0.9051468665562625, amex=0.7982554298429524 ===\n",
      "time to run this fold: 0s\n",
      "=== STARTING FOLD 3/10 (10) ===\n",
      "creating classifier\n",
      "fitting\n",
      "predicting\n",
      "count zerO: 137676\n",
      "amex: 0.797242059135364\n",
      "=== FINISHED FOLD 3/10, log loss=0.2284099490449071, accuracy=0.9070644120979692, amex=0.797242059135364 ===\n",
      "time to run this fold: 0s\n",
      "=== STARTING FOLD 4/10 (10) ===\n",
      "creating classifier\n",
      "fitting\n",
      "predicting\n",
      "count zerO: 183567\n",
      "amex: 0.7937168425612391\n",
      "=== FINISHED FOLD 4/10, log loss=0.23301626779697227, accuracy=0.9028785600662439, amex=0.7937168425612391 ===\n",
      "time to run this fold: 0s\n",
      "=== STARTING FOLD 5/10 (10) ===\n",
      "creating classifier\n",
      "fitting\n",
      "predicting\n",
      "count zerO: 229458\n",
      "amex: 0.7899114500852172\n",
      "=== FINISHED FOLD 5/10, log loss=0.2348585210727507, accuracy=0.9034887014883093, amex=0.7899114500852172 ===\n",
      "time to run this fold: 0s\n",
      "=== STARTING FOLD 6/10 (10) ===\n",
      "creating classifier\n",
      "fitting\n",
      "predicting\n",
      "count zerO: 275349\n",
      "amex: 0.7902040913668189\n",
      "=== FINISHED FOLD 6/10, log loss=0.2362279205448232, accuracy=0.9021158832886622, amex=0.7902040913668189 ===\n",
      "time to run this fold: 0s\n",
      "=== STARTING FOLD 7/10 (10) ===\n",
      "creating classifier\n",
      "fitting\n",
      "predicting\n",
      "count zerO: 321240\n",
      "amex: 0.7935103463966562\n",
      "=== FINISHED FOLD 7/10, log loss=0.2308704750233408, accuracy=0.9051230088688413, amex=0.7935103463966562 ===\n",
      "time to run this fold: 0s\n",
      "=== STARTING FOLD 8/10 (10) ===\n",
      "creating classifier\n",
      "fitting\n",
      "predicting\n",
      "count zerO: 367131\n",
      "amex: 0.7972140859274137\n",
      "=== FINISHED FOLD 8/10, log loss=0.23034585077343817, accuracy=0.9065176178335621, amex=0.7972140859274137 ===\n",
      "time to run this fold: 0s\n",
      "=== STARTING FOLD 9/10 (10) ===\n",
      "creating classifier\n",
      "fitting\n",
      "predicting\n",
      "count zerO: 413022\n",
      "amex: 0.7959954983151785\n",
      "=== FINISHED FOLD 9/10, log loss=0.2307218162584172, accuracy=0.9039463075548583, amex=0.7959954983151785 ===\n",
      "time to run this fold: 0s\n",
      "=== STARTING FOLD 10/10 (10) ===\n",
      "creating classifier\n",
      "fitting\n"
     ]
    },
    {
     "name": "stderr",
     "output_type": "stream",
     "text": [
      "\u001b[32m[I 2022-08-11 18:20:53,566]\u001b[0m Trial 2 finished with value: 0.7932991304578616 and parameters: {'solver': 'lbfgs', 'C': 3.00001, 'fit_intercept': True, 'class_weight': None, 'penalty-lbfgs': 'l2'}. Best is trial 0 with value: 0.7933035108781096.\u001b[0m\n"
     ]
    },
    {
     "name": "stdout",
     "output_type": "stream",
     "text": [
      "predicting\n",
      "count zerO: 458913\n",
      "amex: 0.7868646048036021\n",
      "=== FINISHED FOLD 10/10, log loss=0.2367483930884809, accuracy=0.9024863262949162, amex=0.7868646048036021 ===\n",
      "time to run this fold: 0s\n",
      "time to run folds: 8s\n",
      "iteration logloss: 0.2325727629842429, iteration acc: 0.9043653067122926, Iteration amex: 0.7932991304578616\n",
      "3: l2\n",
      "STARTING OPTIMIZATION iteration 4, data size: (458913, 4), params={'solver': 'sag', 'C': 5.50001, 'fit_intercept': False, 'class_weight': 'balanced', 'n_jobs': -1, 'verbose': 0, 'penalty': 'l2'}\n",
      "=== STARTING FOLD 1/10 (10) ===\n",
      "creating classifier\n",
      "fitting\n"
     ]
    },
    {
     "name": "stderr",
     "output_type": "stream",
     "text": [
      "/usr/local/lib/python3.8/dist-packages/optuna/distributions.py:545: UserWarning: The distribution is specified by [1e-05, 10] and q=0.1, but the range is not divisible by `q`. It will be replaced by [1e-05, 9.90001].\n",
      "  warnings.warn(\n"
     ]
    },
    {
     "name": "stdout",
     "output_type": "stream",
     "text": [
      "predicting\n",
      "count zerO: 45892\n",
      "amex: 0.7892577784915225\n",
      "=== FINISHED FOLD 1/10, log loss=0.6778527885711582, accuracy=0.25991458206223306, amex=0.7892577784915225 ===\n",
      "time to run this fold: 1s\n",
      "=== STARTING FOLD 2/10 (10) ===\n",
      "creating classifier\n",
      "fitting\n",
      "predicting\n",
      "count zerO: 91784\n",
      "amex: 0.7970515370644913\n",
      "=== FINISHED FOLD 2/10, log loss=0.6778822084219177, accuracy=0.2600453238037131, amex=0.7970515370644913 ===\n",
      "time to run this fold: 1s\n",
      "=== STARTING FOLD 3/10 (10) ===\n",
      "creating classifier\n",
      "fitting\n",
      "predicting\n",
      "count zerO: 137676\n",
      "amex: 0.7960324601827442\n",
      "=== FINISHED FOLD 3/10, log loss=0.6746624517224431, accuracy=0.2597838403207531, amex=0.7960324601827442 ===\n",
      "time to run this fold: 0s\n",
      "=== STARTING FOLD 4/10 (10) ===\n",
      "creating classifier\n",
      "fitting\n",
      "predicting\n",
      "count zerO: 183567\n",
      "amex: 0.7902978218720402\n",
      "=== FINISHED FOLD 4/10, log loss=0.6794271983942674, accuracy=0.2597241289141662, amex=0.7902978218720402 ===\n",
      "time to run this fold: 1s\n",
      "=== STARTING FOLD 5/10 (10) ===\n",
      "creating classifier\n",
      "fitting\n",
      "predicting\n",
      "count zerO: 229458\n",
      "amex: 0.792057349344713\n",
      "=== FINISHED FOLD 5/10, log loss=0.6772787688169208, accuracy=0.25974591967923993, amex=0.792057349344713 ===\n",
      "time to run this fold: 1s\n",
      "=== STARTING FOLD 6/10 (10) ===\n",
      "creating classifier\n",
      "fitting\n",
      "predicting\n",
      "count zerO: 275349\n",
      "amex: 0.7855421017007393\n",
      "=== FINISHED FOLD 6/10, log loss=0.6809286180269194, accuracy=0.26035606110130527, amex=0.7855421017007393 ===\n",
      "time to run this fold: 1s\n",
      "=== STARTING FOLD 7/10 (10) ===\n",
      "creating classifier\n",
      "fitting\n",
      "predicting\n",
      "count zerO: 321240\n",
      "amex: 0.7907851811932388\n",
      "=== FINISHED FOLD 7/10, log loss=0.6777500487807763, accuracy=0.2600074088601251, amex=0.7907851811932388 ===\n",
      "time to run this fold: 1s\n",
      "=== STARTING FOLD 8/10 (10) ===\n",
      "creating classifier\n",
      "fitting\n",
      "predicting\n",
      "count zerO: 367131\n",
      "amex: 0.7946970128377054\n",
      "=== FINISHED FOLD 8/10, log loss=0.6753063591995399, accuracy=0.25987666426968253, amex=0.7946970128377054 ===\n",
      "time to run this fold: 0s\n",
      "=== STARTING FOLD 9/10 (10) ===\n",
      "creating classifier\n",
      "fitting\n",
      "predicting\n",
      "count zerO: 413022\n",
      "amex: 0.7937144524245694\n",
      "=== FINISHED FOLD 9/10, log loss=0.6772113942799964, accuracy=0.2599638273299776, amex=0.7937144524245694 ===\n",
      "time to run this fold: 1s\n",
      "=== STARTING FOLD 10/10 (10) ===\n",
      "creating classifier\n",
      "fitting\n"
     ]
    },
    {
     "name": "stderr",
     "output_type": "stream",
     "text": [
      "\u001b[32m[I 2022-08-11 18:21:04,553]\u001b[0m Trial 3 finished with value: 0.7913766128177503 and parameters: {'solver': 'sag', 'C': 5.50001, 'fit_intercept': False, 'class_weight': 'balanced', 'penalty-sag': 'l2'}. Best is trial 0 with value: 0.7933035108781096.\u001b[0m\n"
     ]
    },
    {
     "name": "stdout",
     "output_type": "stream",
     "text": [
      "predicting\n",
      "count zerO: 458913\n",
      "amex: 0.7843304330657388\n",
      "=== FINISHED FOLD 10/10, log loss=0.681589334409543, accuracy=0.2600945719204201, amex=0.7843304330657388 ===\n",
      "time to run this fold: 0s\n",
      "time to run folds: 10s\n",
      "iteration logloss: 0.6779889170623482, iteration acc: 0.2599512328261616, Iteration amex: 0.7913766128177503\n",
      "4: l1\n",
      "STARTING OPTIMIZATION iteration 5, data size: (458913, 4), params={'solver': 'saga', 'C': 8.80001, 'fit_intercept': False, 'class_weight': None, 'n_jobs': -1, 'verbose': 0, 'penalty': 'l1'}\n",
      "=== STARTING FOLD 1/10 (10) ===\n",
      "creating classifier\n",
      "fitting\n"
     ]
    },
    {
     "name": "stderr",
     "output_type": "stream",
     "text": [
      "/usr/local/lib/python3.8/dist-packages/optuna/distributions.py:545: UserWarning: The distribution is specified by [1e-05, 10] and q=0.1, but the range is not divisible by `q`. It will be replaced by [1e-05, 9.90001].\n",
      "  warnings.warn(\n",
      "\u001b[32m[I 2022-08-11 18:21:05,417]\u001b[0m Trial 4 finished with value: 0.7639946738502854 and parameters: {'solver': 'saga', 'C': 8.80001, 'fit_intercept': False, 'class_weight': None, 'penalty-saga': 'l1'}. Best is trial 0 with value: 0.7933035108781096.\u001b[0m\n"
     ]
    },
    {
     "name": "stdout",
     "output_type": "stream",
     "text": [
      "predicting\n",
      "count zerO: 45892\n",
      "amex: 0.7639946738502854\n",
      "=== FINISHED FOLD 1/10, log loss=0.6507780423178686, accuracy=0.29852697637932535, amex=0.7639946738502854 ===\n",
      "time to run this fold: 0s\n",
      "low score on amex, dropping loop\n",
      "3: l2\n",
      "STARTING OPTIMIZATION iteration 6, data size: (458913, 4), params={'solver': 'sag', 'C': 8.10001, 'fit_intercept': True, 'class_weight': None, 'n_jobs': -1, 'verbose': 0, 'penalty': 'l2'}\n",
      "=== STARTING FOLD 1/10 (10) ===\n",
      "creating classifier\n",
      "fitting\n"
     ]
    },
    {
     "name": "stderr",
     "output_type": "stream",
     "text": [
      "/usr/local/lib/python3.8/dist-packages/optuna/distributions.py:545: UserWarning: The distribution is specified by [1e-05, 10] and q=0.1, but the range is not divisible by `q`. It will be replaced by [1e-05, 9.90001].\n",
      "  warnings.warn(\n"
     ]
    },
    {
     "name": "stdout",
     "output_type": "stream",
     "text": [
      "predicting\n",
      "count zerO: 45892\n",
      "amex: 0.7900769703799437\n",
      "=== FINISHED FOLD 1/10, log loss=0.23464962127455607, accuracy=0.9048635927830558, amex=0.7900769703799437 ===\n",
      "time to run this fold: 1s\n",
      "=== STARTING FOLD 2/10 (10) ===\n",
      "creating classifier\n",
      "fitting\n",
      "predicting\n",
      "count zerO: 91784\n",
      "amex: 0.7982555956361725\n",
      "=== FINISHED FOLD 2/10, log loss=0.22987885225958027, accuracy=0.9051686568465092, amex=0.7982555956361725 ===\n",
      "time to run this fold: 1s\n",
      "=== STARTING FOLD 3/10 (10) ===\n",
      "creating classifier\n",
      "fitting\n",
      "predicting\n",
      "count zerO: 137676\n",
      "amex: 0.7972423387567651\n",
      "=== FINISHED FOLD 3/10, log loss=0.22840924689629094, accuracy=0.9070426218077224, amex=0.7972423387567651 ===\n",
      "time to run this fold: 1s\n",
      "=== STARTING FOLD 4/10 (10) ===\n",
      "creating classifier\n",
      "fitting\n",
      "predicting\n",
      "count zerO: 183567\n",
      "amex: 0.793717206347127\n",
      "=== FINISHED FOLD 4/10, log loss=0.23301597368898538, accuracy=0.9028785600662439, amex=0.793717206347127 ===\n",
      "time to run this fold: 1s\n",
      "=== STARTING FOLD 5/10 (10) ===\n",
      "creating classifier\n",
      "fitting\n",
      "predicting\n",
      "count zerO: 229458\n",
      "amex: 0.7899116158923907\n",
      "=== FINISHED FOLD 5/10, log loss=0.2348583016349139, accuracy=0.9034887014883093, amex=0.7899116158923907 ===\n",
      "time to run this fold: 1s\n",
      "=== STARTING FOLD 6/10 (10) ===\n",
      "creating classifier\n",
      "fitting\n",
      "predicting\n",
      "count zerO: 275349\n",
      "amex: 0.7902041507571813\n",
      "=== FINISHED FOLD 6/10, log loss=0.23622814548258408, accuracy=0.9021158832886622, amex=0.7902041507571813 ===\n",
      "time to run this fold: 1s\n",
      "=== STARTING FOLD 7/10 (10) ===\n",
      "creating classifier\n",
      "fitting\n",
      "predicting\n",
      "count zerO: 321240\n",
      "amex: 0.7935103958886249\n",
      "=== FINISHED FOLD 7/10, log loss=0.2308704448761464, accuracy=0.9051230088688413, amex=0.7935103958886249 ===\n",
      "time to run this fold: 1s\n",
      "=== STARTING FOLD 8/10 (10) ===\n",
      "creating classifier\n",
      "fitting\n",
      "predicting\n",
      "count zerO: 367131\n",
      "amex: 0.7972141131479966\n",
      "=== FINISHED FOLD 8/10, log loss=0.23034595526091237, accuracy=0.9065176178335621, amex=0.7972141131479966 ===\n",
      "time to run this fold: 1s\n",
      "=== STARTING FOLD 9/10 (10) ===\n",
      "creating classifier\n",
      "fitting\n",
      "predicting\n",
      "count zerO: 413022\n",
      "amex: 0.7960377633012634\n",
      "=== FINISHED FOLD 9/10, log loss=0.23072159788678404, accuracy=0.9039463075548583, amex=0.7960377633012634 ===\n",
      "time to run this fold: 1s\n",
      "=== STARTING FOLD 10/10 (10) ===\n",
      "creating classifier\n",
      "fitting\n"
     ]
    },
    {
     "name": "stderr",
     "output_type": "stream",
     "text": [
      "\u001b[32m[I 2022-08-11 18:21:16,993]\u001b[0m Trial 5 finished with value: 0.7933034982574123 and parameters: {'solver': 'sag', 'C': 8.10001, 'fit_intercept': True, 'class_weight': None, 'penalty-sag': 'l2'}. Best is trial 0 with value: 0.7933035108781096.\u001b[0m\n"
     ]
    },
    {
     "name": "stdout",
     "output_type": "stream",
     "text": [
      "predicting\n",
      "count zerO: 458913\n",
      "amex: 0.7868648324666585\n",
      "=== FINISHED FOLD 10/10, log loss=0.23674833074404814, accuracy=0.9024863262949162, amex=0.7868648324666585 ===\n",
      "time to run this fold: 1s\n",
      "time to run folds: 11s\n",
      "iteration logloss: 0.23257264700048014, iteration acc: 0.9043631276832681, Iteration amex: 0.7933034982574123\n",
      "3: l2\n",
      "STARTING OPTIMIZATION iteration 7, data size: (458913, 4), params={'solver': 'sag', 'C': 4.300009999999999, 'fit_intercept': True, 'class_weight': 'balanced', 'n_jobs': -1, 'verbose': 0, 'penalty': 'l2'}\n",
      "=== STARTING FOLD 1/10 (10) ===\n",
      "creating classifier\n",
      "fitting\n"
     ]
    },
    {
     "name": "stderr",
     "output_type": "stream",
     "text": [
      "/usr/local/lib/python3.8/dist-packages/optuna/distributions.py:545: UserWarning: The distribution is specified by [1e-05, 10] and q=0.1, but the range is not divisible by `q`. It will be replaced by [1e-05, 9.90001].\n",
      "  warnings.warn(\n"
     ]
    },
    {
     "name": "stdout",
     "output_type": "stream",
     "text": [
      "predicting\n",
      "count zerO: 45892\n",
      "amex: 0.7901879407299238\n",
      "=== FINISHED FOLD 1/10, log loss=0.2732033204741187, accuracy=0.8980868125163427, amex=0.7901879407299238 ===\n",
      "time to run this fold: 1s\n",
      "=== STARTING FOLD 2/10 (10) ===\n",
      "creating classifier\n",
      "fitting\n",
      "predicting\n",
      "count zerO: 91784\n",
      "amex: 0.7981973452197646\n",
      "=== FINISHED FOLD 2/10, log loss=0.2715082726139699, accuracy=0.8991327464481826, amex=0.7981973452197646 ===\n",
      "time to run this fold: 1s\n",
      "=== STARTING FOLD 3/10 (10) ===\n",
      "creating classifier\n",
      "fitting\n",
      "predicting\n",
      "count zerO: 137676\n",
      "amex: 0.7970486944219761\n",
      "=== FINISHED FOLD 3/10, log loss=0.2670405571392439, accuracy=0.9020744356314826, amex=0.7970486944219761 ===\n",
      "time to run this fold: 1s\n",
      "=== STARTING FOLD 4/10 (10) ===\n",
      "creating classifier\n",
      "fitting\n",
      "predicting\n",
      "count zerO: 183567\n",
      "amex: 0.7935904824825545\n",
      "=== FINISHED FOLD 4/10, log loss=0.2741436731522478, accuracy=0.8972129611470658, amex=0.7935904824825545 ===\n",
      "time to run this fold: 1s\n",
      "=== STARTING FOLD 5/10 (10) ===\n",
      "creating classifier\n",
      "fitting\n",
      "predicting\n",
      "count zerO: 229458\n",
      "amex: 0.7901381213573158\n",
      "=== FINISHED FOLD 5/10, log loss=0.27327723504781243, accuracy=0.8992830838290733, amex=0.7901381213573158 ===\n",
      "time to run this fold: 1s\n",
      "=== STARTING FOLD 6/10 (10) ===\n",
      "creating classifier\n",
      "fitting\n",
      "predicting\n",
      "count zerO: 275349\n",
      "amex: 0.7905572878285351\n",
      "=== FINISHED FOLD 6/10, log loss=0.2778685845668459, accuracy=0.8958183521823451, amex=0.7905572878285351 ===\n",
      "time to run this fold: 1s\n",
      "=== STARTING FOLD 7/10 (10) ===\n",
      "creating classifier\n",
      "fitting\n",
      "predicting\n",
      "count zerO: 321240\n",
      "amex: 0.7933196114445906\n",
      "=== FINISHED FOLD 7/10, log loss=0.27188982589783267, accuracy=0.8995663637750322, amex=0.7933196114445906 ===\n",
      "time to run this fold: 1s\n",
      "=== STARTING FOLD 8/10 (10) ===\n",
      "creating classifier\n",
      "fitting\n",
      "predicting\n",
      "count zerO: 367131\n",
      "amex: 0.7975343144693801\n",
      "=== FINISHED FOLD 8/10, log loss=0.26829725635581886, accuracy=0.9012660434507855, amex=0.7975343144693801 ===\n",
      "time to run this fold: 1s\n",
      "=== STARTING FOLD 9/10 (10) ===\n",
      "creating classifier\n",
      "fitting\n",
      "predicting\n",
      "count zerO: 413022\n",
      "amex: 0.7953418851106939\n",
      "=== FINISHED FOLD 9/10, log loss=0.2703273608990212, accuracy=0.8998932252511386, amex=0.7953418851106939 ===\n",
      "time to run this fold: 1s\n",
      "=== STARTING FOLD 10/10 (10) ===\n",
      "creating classifier\n",
      "fitting\n"
     ]
    },
    {
     "name": "stderr",
     "output_type": "stream",
     "text": [
      "\u001b[32m[I 2022-08-11 18:21:28,764]\u001b[0m Trial 6 finished with value: 0.7932922260858164 and parameters: {'solver': 'sag', 'C': 4.300009999999999, 'fit_intercept': True, 'class_weight': 'balanced', 'penalty-sag': 'l2'}. Best is trial 0 with value: 0.7933035108781096.\u001b[0m\n"
     ]
    },
    {
     "name": "stdout",
     "output_type": "stream",
     "text": [
      "predicting\n",
      "count zerO: 458913\n",
      "amex: 0.7870065777934299\n",
      "=== FINISHED FOLD 10/10, log loss=0.27900016476356027, accuracy=0.896384912074263, amex=0.7870065777934299 ===\n",
      "time to run this fold: 1s\n",
      "time to run folds: 11s\n",
      "iteration logloss: 0.2726556250910471, iteration acc: 0.8988718936305711, Iteration amex: 0.7932922260858164\n",
      "4: elasticnet\n",
      "5: elasticnet\n",
      "STARTING OPTIMIZATION iteration 8, data size: (458913, 4), params={'solver': 'saga', 'C': 8.30001, 'fit_intercept': True, 'class_weight': 'balanced', 'n_jobs': -1, 'verbose': 0, 'penalty': 'elasticnet', 'l1_ratio': 0.45616000000000007}\n",
      "=== STARTING FOLD 1/10 (10) ===\n",
      "creating classifier\n",
      "fitting\n"
     ]
    },
    {
     "name": "stderr",
     "output_type": "stream",
     "text": [
      "/usr/local/lib/python3.8/dist-packages/optuna/distributions.py:545: UserWarning: The distribution is specified by [1e-05, 10] and q=0.1, but the range is not divisible by `q`. It will be replaced by [1e-05, 9.90001].\n",
      "  warnings.warn(\n"
     ]
    },
    {
     "name": "stdout",
     "output_type": "stream",
     "text": [
      "predicting\n",
      "count zerO: 45892\n",
      "amex: 0.7901879827968602\n",
      "=== FINISHED FOLD 1/10, log loss=0.27320799117661554, accuracy=0.8980868125163427, amex=0.7901879827968602 ===\n",
      "time to run this fold: 0s\n",
      "=== STARTING FOLD 2/10 (10) ===\n",
      "creating classifier\n",
      "fitting\n",
      "predicting\n",
      "count zerO: 91784\n",
      "amex: 0.7981974219300606\n",
      "=== FINISHED FOLD 2/10, log loss=0.2714977730182745, accuracy=0.8991545367384294, amex=0.7981974219300606 ===\n",
      "time to run this fold: 0s\n",
      "=== STARTING FOLD 3/10 (10) ===\n",
      "creating classifier\n",
      "fitting\n",
      "predicting\n",
      "count zerO: 137676\n",
      "amex: 0.7970488503170936\n",
      "=== FINISHED FOLD 3/10, log loss=0.26704688759500855, accuracy=0.9020744356314826, amex=0.7970488503170936 ===\n",
      "time to run this fold: 0s\n",
      "=== STARTING FOLD 4/10 (10) ===\n",
      "creating classifier\n",
      "fitting\n",
      "predicting\n",
      "count zerO: 183567\n",
      "amex: 0.7935904552604812\n",
      "=== FINISHED FOLD 4/10, log loss=0.2741468302258617, accuracy=0.8972129611470658, amex=0.7935904552604812 ===\n",
      "time to run this fold: 0s\n",
      "=== STARTING FOLD 5/10 (10) ===\n",
      "creating classifier\n",
      "fitting\n",
      "predicting\n",
      "count zerO: 229458\n",
      "amex: 0.7901382574676821\n",
      "=== FINISHED FOLD 5/10, log loss=0.27327587345782184, accuracy=0.899304874594147, amex=0.7901382574676821 ===\n",
      "time to run this fold: 0s\n",
      "=== STARTING FOLD 6/10 (10) ===\n",
      "creating classifier\n",
      "fitting\n",
      "predicting\n",
      "count zerO: 275349\n",
      "amex: 0.7905573373205038\n",
      "=== FINISHED FOLD 6/10, log loss=0.27785712866615575, accuracy=0.8958183521823451, amex=0.7905573373205038 ===\n",
      "time to run this fold: 0s\n",
      "=== STARTING FOLD 7/10 (10) ===\n",
      "creating classifier\n",
      "fitting\n",
      "predicting\n",
      "count zerO: 321240\n",
      "amex: 0.7933196337159765\n",
      "=== FINISHED FOLD 7/10, log loss=0.2718846821724159, accuracy=0.8995663637750322, amex=0.7933196337159765 ===\n",
      "time to run this fold: 0s\n",
      "=== STARTING FOLD 8/10 (10) ===\n",
      "creating classifier\n",
      "fitting\n",
      "predicting\n",
      "count zerO: 367131\n",
      "amex: 0.7975344134533175\n",
      "=== FINISHED FOLD 8/10, log loss=0.2683044311309785, accuracy=0.9012660434507855, amex=0.7975344134533175 ===\n",
      "time to run this fold: 0s\n",
      "=== STARTING FOLD 9/10 (10) ===\n",
      "creating classifier\n",
      "fitting\n",
      "predicting\n",
      "count zerO: 413022\n",
      "amex: 0.7953419915184269\n",
      "=== FINISHED FOLD 9/10, log loss=0.27032264104064907, accuracy=0.8998932252511386, amex=0.7953419915184269 ===\n",
      "time to run this fold: 0s\n",
      "=== STARTING FOLD 10/10 (10) ===\n",
      "creating classifier\n",
      "fitting\n"
     ]
    },
    {
     "name": "stderr",
     "output_type": "stream",
     "text": [
      "\u001b[32m[I 2022-08-11 18:21:37,828]\u001b[0m Trial 7 finished with value: 0.793292303540536 and parameters: {'solver': 'saga', 'C': 8.30001, 'fit_intercept': True, 'class_weight': 'balanced', 'penalty-saga': 'elasticnet', 'l1_ratio': 0.45616000000000007}. Best is trial 0 with value: 0.7933035108781096.\u001b[0m\n"
     ]
    },
    {
     "name": "stdout",
     "output_type": "stream",
     "text": [
      "predicting\n",
      "count zerO: 458913\n",
      "amex: 0.7870066916249583\n",
      "=== FINISHED FOLD 10/10, log loss=0.27898575988605856, accuracy=0.896384912074263, amex=0.7870066916249583 ===\n",
      "time to run this fold: 0s\n",
      "time to run folds: 9s\n",
      "iteration logloss: 0.27265299983698404, iteration acc: 0.8988762517361032, Iteration amex: 0.793292303540536\n",
      "2: l2\n",
      "STARTING OPTIMIZATION iteration 9, data size: (458913, 4), params={'solver': 'liblinear', 'C': 5.40001, 'fit_intercept': True, 'class_weight': None, 'n_jobs': -1, 'verbose': 0, 'penalty': 'l2'}\n",
      "=== STARTING FOLD 1/10 (10) ===\n",
      "creating classifier\n",
      "fitting\n"
     ]
    },
    {
     "name": "stderr",
     "output_type": "stream",
     "text": [
      "/usr/local/lib/python3.8/dist-packages/optuna/distributions.py:545: UserWarning: The distribution is specified by [1e-05, 10] and q=0.1, but the range is not divisible by `q`. It will be replaced by [1e-05, 9.90001].\n",
      "  warnings.warn(\n",
      "/usr/local/lib/python3.8/dist-packages/sklearn/linear_model/_logistic.py:1153: UserWarning: 'n_jobs' > 1 does not have any effect when 'solver' is set to 'liblinear'. Got 'n_jobs' = 32.\n",
      "  warnings.warn(\n"
     ]
    },
    {
     "name": "stdout",
     "output_type": "stream",
     "text": [
      "predicting\n",
      "count zerO: 45892\n",
      "amex: 0.7900769035677506\n",
      "=== FINISHED FOLD 1/10, log loss=0.23464948395521573, accuracy=0.9048853830733026, amex=0.7900769035677506 ===\n",
      "time to run this fold: 0s\n",
      "=== STARTING FOLD 2/10 (10) ===\n",
      "creating classifier\n",
      "fitting\n"
     ]
    },
    {
     "name": "stderr",
     "output_type": "stream",
     "text": [
      "/usr/local/lib/python3.8/dist-packages/sklearn/linear_model/_logistic.py:1153: UserWarning: 'n_jobs' > 1 does not have any effect when 'solver' is set to 'liblinear'. Got 'n_jobs' = 32.\n",
      "  warnings.warn(\n"
     ]
    },
    {
     "name": "stdout",
     "output_type": "stream",
     "text": [
      "predicting\n",
      "count zerO: 91784\n",
      "amex: 0.7982554669608375\n",
      "=== FINISHED FOLD 2/10, log loss=0.2298790588156529, accuracy=0.9051468665562625, amex=0.7982554669608375 ===\n",
      "time to run this fold: 0s\n",
      "=== STARTING FOLD 3/10 (10) ===\n",
      "creating classifier\n",
      "fitting\n"
     ]
    },
    {
     "name": "stderr",
     "output_type": "stream",
     "text": [
      "/usr/local/lib/python3.8/dist-packages/sklearn/linear_model/_logistic.py:1153: UserWarning: 'n_jobs' > 1 does not have any effect when 'solver' is set to 'liblinear'. Got 'n_jobs' = 32.\n",
      "  warnings.warn(\n"
     ]
    },
    {
     "name": "stdout",
     "output_type": "stream",
     "text": [
      "predicting\n",
      "count zerO: 137676\n",
      "amex: 0.7972421902852247\n",
      "=== FINISHED FOLD 3/10, log loss=0.22840977100782853, accuracy=0.9070426218077224, amex=0.7972421902852247 ===\n",
      "time to run this fold: 0s\n",
      "=== STARTING FOLD 4/10 (10) ===\n",
      "creating classifier\n",
      "fitting\n"
     ]
    },
    {
     "name": "stderr",
     "output_type": "stream",
     "text": [
      "/usr/local/lib/python3.8/dist-packages/sklearn/linear_model/_logistic.py:1153: UserWarning: 'n_jobs' > 1 does not have any effect when 'solver' is set to 'liblinear'. Got 'n_jobs' = 32.\n",
      "  warnings.warn(\n"
     ]
    },
    {
     "name": "stdout",
     "output_type": "stream",
     "text": [
      "predicting\n",
      "count zerO: 183567\n",
      "amex: 0.7937171543777146\n",
      "=== FINISHED FOLD 4/10, log loss=0.23301611848252754, accuracy=0.9028785600662439, amex=0.7937171543777146 ===\n",
      "time to run this fold: 0s\n",
      "=== STARTING FOLD 5/10 (10) ===\n",
      "creating classifier\n",
      "fitting\n"
     ]
    },
    {
     "name": "stderr",
     "output_type": "stream",
     "text": [
      "/usr/local/lib/python3.8/dist-packages/sklearn/linear_model/_logistic.py:1153: UserWarning: 'n_jobs' > 1 does not have any effect when 'solver' is set to 'liblinear'. Got 'n_jobs' = 32.\n",
      "  warnings.warn(\n"
     ]
    },
    {
     "name": "stdout",
     "output_type": "stream",
     "text": [
      "predicting\n",
      "count zerO: 229458\n",
      "amex: 0.7899115218525012\n",
      "=== FINISHED FOLD 5/10, log loss=0.23485844103336534, accuracy=0.9034887014883093, amex=0.7899115218525012 ===\n",
      "time to run this fold: 0s\n",
      "=== STARTING FOLD 6/10 (10) ===\n",
      "creating classifier\n",
      "fitting\n"
     ]
    },
    {
     "name": "stderr",
     "output_type": "stream",
     "text": [
      "/usr/local/lib/python3.8/dist-packages/sklearn/linear_model/_logistic.py:1153: UserWarning: 'n_jobs' > 1 does not have any effect when 'solver' is set to 'liblinear'. Got 'n_jobs' = 32.\n",
      "  warnings.warn(\n"
     ]
    },
    {
     "name": "stdout",
     "output_type": "stream",
     "text": [
      "predicting\n",
      "count zerO: 275349\n",
      "amex: 0.7902041557063783\n",
      "=== FINISHED FOLD 6/10, log loss=0.2362280497459009, accuracy=0.9021158832886622, amex=0.7902041557063783 ===\n",
      "time to run this fold: 0s\n",
      "=== STARTING FOLD 7/10 (10) ===\n",
      "creating classifier\n",
      "fitting\n"
     ]
    },
    {
     "name": "stderr",
     "output_type": "stream",
     "text": [
      "/usr/local/lib/python3.8/dist-packages/sklearn/linear_model/_logistic.py:1153: UserWarning: 'n_jobs' > 1 does not have any effect when 'solver' is set to 'liblinear'. Got 'n_jobs' = 32.\n",
      "  warnings.warn(\n"
     ]
    },
    {
     "name": "stdout",
     "output_type": "stream",
     "text": [
      "predicting\n",
      "count zerO: 321240\n",
      "amex: 0.7934674256419849\n",
      "=== FINISHED FOLD 7/10, log loss=0.23087292168659274, accuracy=0.9051012181037676, amex=0.7934674256419849 ===\n",
      "time to run this fold: 0s\n",
      "=== STARTING FOLD 8/10 (10) ===\n",
      "creating classifier\n",
      "fitting\n"
     ]
    },
    {
     "name": "stderr",
     "output_type": "stream",
     "text": [
      "/usr/local/lib/python3.8/dist-packages/sklearn/linear_model/_logistic.py:1153: UserWarning: 'n_jobs' > 1 does not have any effect when 'solver' is set to 'liblinear'. Got 'n_jobs' = 32.\n",
      "  warnings.warn(\n"
     ]
    },
    {
     "name": "stdout",
     "output_type": "stream",
     "text": [
      "predicting\n",
      "count zerO: 367131\n",
      "amex: 0.7972563335913094\n",
      "=== FINISHED FOLD 8/10, log loss=0.23034625864047234, accuracy=0.9064958270684884, amex=0.7972563335913094 ===\n",
      "time to run this fold: 0s\n",
      "=== STARTING FOLD 9/10 (10) ===\n",
      "creating classifier\n",
      "fitting\n"
     ]
    },
    {
     "name": "stderr",
     "output_type": "stream",
     "text": [
      "/usr/local/lib/python3.8/dist-packages/sklearn/linear_model/_logistic.py:1153: UserWarning: 'n_jobs' > 1 does not have any effect when 'solver' is set to 'liblinear'. Got 'n_jobs' = 32.\n",
      "  warnings.warn(\n"
     ]
    },
    {
     "name": "stdout",
     "output_type": "stream",
     "text": [
      "predicting\n",
      "count zerO: 413022\n",
      "amex: 0.7960375702825851\n",
      "=== FINISHED FOLD 9/10, log loss=0.2307219972335715, accuracy=0.9039463075548583, amex=0.7960375702825851 ===\n",
      "time to run this fold: 0s\n",
      "=== STARTING FOLD 10/10 (10) ===\n",
      "creating classifier\n",
      "fitting\n"
     ]
    },
    {
     "name": "stderr",
     "output_type": "stream",
     "text": [
      "/usr/local/lib/python3.8/dist-packages/sklearn/linear_model/_logistic.py:1153: UserWarning: 'n_jobs' > 1 does not have any effect when 'solver' is set to 'liblinear'. Got 'n_jobs' = 32.\n",
      "  warnings.warn(\n",
      "\u001b[32m[I 2022-08-11 18:21:40,708]\u001b[0m Trial 8 finished with value: 0.7933033440901417 and parameters: {'solver': 'liblinear', 'C': 5.40001, 'fit_intercept': True, 'class_weight': None, 'penalty-liblinear': 'l2'}. Best is trial 0 with value: 0.7933035108781096.\u001b[0m\n"
     ]
    },
    {
     "name": "stdout",
     "output_type": "stream",
     "text": [
      "predicting\n",
      "count zerO: 458913\n",
      "amex: 0.7868647186351303\n",
      "=== FINISHED FOLD 10/10, log loss=0.2367484660133615, accuracy=0.9024863262949162, amex=0.7868647186351303 ===\n",
      "time to run this fold: 0s\n",
      "time to run folds: 2s\n",
      "iteration logloss: 0.23257305666144892, iteration acc: 0.9043587695302533, Iteration amex: 0.7933033440901417\n",
      "3: l2\n",
      "STARTING OPTIMIZATION iteration 10, data size: (458913, 4), params={'solver': 'sag', 'C': 7.80001, 'fit_intercept': True, 'class_weight': 'balanced', 'n_jobs': -1, 'verbose': 0, 'penalty': 'l2'}\n",
      "=== STARTING FOLD 1/10 (10) ===\n",
      "creating classifier\n",
      "fitting\n"
     ]
    },
    {
     "name": "stderr",
     "output_type": "stream",
     "text": [
      "/usr/local/lib/python3.8/dist-packages/optuna/distributions.py:545: UserWarning: The distribution is specified by [1e-05, 10] and q=0.1, but the range is not divisible by `q`. It will be replaced by [1e-05, 9.90001].\n",
      "  warnings.warn(\n"
     ]
    },
    {
     "name": "stdout",
     "output_type": "stream",
     "text": [
      "predicting\n",
      "count zerO: 45892\n",
      "amex: 0.7901879827968602\n",
      "=== FINISHED FOLD 1/10, log loss=0.2732117371743594, accuracy=0.8980868125163427, amex=0.7901879827968602 ===\n",
      "time to run this fold: 1s\n",
      "=== STARTING FOLD 2/10 (10) ===\n",
      "creating classifier\n",
      "fitting\n",
      "predicting\n",
      "count zerO: 91784\n",
      "amex: 0.7981973724395471\n",
      "=== FINISHED FOLD 2/10, log loss=0.2715020131914448, accuracy=0.8991327464481826, amex=0.7981973724395471 ===\n",
      "time to run this fold: 0s\n",
      "=== STARTING FOLD 3/10 (10) ===\n",
      "creating classifier\n",
      "fitting\n",
      "predicting\n",
      "count zerO: 137676\n",
      "amex: 0.7970487958775287\n",
      "=== FINISHED FOLD 3/10, log loss=0.26704098822932354, accuracy=0.9020744356314826, amex=0.7970487958775287 ===\n",
      "time to run this fold: 1s\n",
      "=== STARTING FOLD 4/10 (10) ===\n",
      "creating classifier\n",
      "fitting\n",
      "predicting\n",
      "count zerO: 183567\n",
      "amex: 0.7935904874320224\n",
      "=== FINISHED FOLD 4/10, log loss=0.2741555371954065, accuracy=0.8972129611470658, amex=0.7935904874320224 ===\n",
      "time to run this fold: 1s\n",
      "=== STARTING FOLD 5/10 (10) ===\n",
      "creating classifier\n",
      "fitting\n",
      "predicting\n",
      "count zerO: 229458\n",
      "amex: 0.7901381287815175\n",
      "=== FINISHED FOLD 5/10, log loss=0.273273977742496, accuracy=0.899304874594147, amex=0.7901381287815175 ===\n",
      "time to run this fold: 1s\n",
      "=== STARTING FOLD 6/10 (10) ===\n",
      "creating classifier\n",
      "fitting\n",
      "predicting\n",
      "count zerO: 275349\n",
      "amex: 0.7905573397951022\n",
      "=== FINISHED FOLD 6/10, log loss=0.27787082198273905, accuracy=0.8958183521823451, amex=0.7905573397951022 ===\n",
      "time to run this fold: 1s\n",
      "=== STARTING FOLD 7/10 (10) ===\n",
      "creating classifier\n",
      "fitting\n",
      "predicting\n",
      "count zerO: 321240\n",
      "amex: 0.7933196262921811\n",
      "=== FINISHED FOLD 7/10, log loss=0.2718920353714776, accuracy=0.8995881545401059, amex=0.7933196262921811 ===\n",
      "time to run this fold: 1s\n",
      "=== STARTING FOLD 8/10 (10) ===\n",
      "creating classifier\n",
      "fitting\n",
      "predicting\n",
      "count zerO: 367131\n",
      "amex: 0.7975344184025144\n",
      "=== FINISHED FOLD 8/10, log loss=0.26829513473227573, accuracy=0.9012660434507855, amex=0.7975344184025144 ===\n",
      "time to run this fold: 1s\n",
      "=== STARTING FOLD 9/10 (10) ===\n",
      "creating classifier\n",
      "fitting\n",
      "predicting\n",
      "count zerO: 413022\n",
      "amex: 0.7953419989422221\n",
      "=== FINISHED FOLD 9/10, log loss=0.27033209581333, accuracy=0.8998932252511386, amex=0.7953419989422221 ===\n",
      "time to run this fold: 1s\n",
      "=== STARTING FOLD 10/10 (10) ===\n",
      "creating classifier\n",
      "fitting\n"
     ]
    },
    {
     "name": "stderr",
     "output_type": "stream",
     "text": [
      "\u001b[32m[I 2022-08-11 18:21:52,629]\u001b[0m Trial 9 finished with value: 0.7932922782994091 and parameters: {'solver': 'sag', 'C': 7.80001, 'fit_intercept': True, 'class_weight': 'balanced', 'penalty-sag': 'l2'}. Best is trial 0 with value: 0.7933035108781096.\u001b[0m\n"
     ]
    },
    {
     "name": "stdout",
     "output_type": "stream",
     "text": [
      "predicting\n",
      "count zerO: 458913\n",
      "amex: 0.7870066322345957\n",
      "=== FINISHED FOLD 10/10, log loss=0.27898325465060114, accuracy=0.896384912074263, amex=0.7870066322345957 ===\n",
      "time to run this fold: 1s\n",
      "time to run folds: 11s\n",
      "iteration logloss: 0.27265575960834537, iteration acc: 0.8988762517835859, Iteration amex: 0.7932922782994091\n",
      "1: none\n",
      "STARTING OPTIMIZATION iteration 11, data size: (458913, 4), params={'solver': 'lbfgs', 'C': 9.80001, 'fit_intercept': False, 'class_weight': None, 'n_jobs': -1, 'verbose': 0, 'penalty': 'none'}\n",
      "=== STARTING FOLD 1/10 (10) ===\n",
      "creating classifier\n",
      "fitting\n"
     ]
    },
    {
     "name": "stderr",
     "output_type": "stream",
     "text": [
      "/usr/local/lib/python3.8/dist-packages/optuna/distributions.py:545: UserWarning: The distribution is specified by [1e-05, 10] and q=0.1, but the range is not divisible by `q`. It will be replaced by [1e-05, 9.90001].\n",
      "  warnings.warn(\n",
      "/usr/local/lib/python3.8/dist-packages/sklearn/linear_model/_logistic.py:1113: UserWarning: Setting penalty='none' will ignore the C and l1_ratio parameters\n",
      "  warnings.warn(\n",
      "\u001b[32m[I 2022-08-11 18:21:53,323]\u001b[0m Trial 10 finished with value: 0.7639787082106377 and parameters: {'solver': 'lbfgs', 'C': 9.80001, 'fit_intercept': False, 'class_weight': None, 'penalty-lbfgs': 'none'}. Best is trial 0 with value: 0.7933035108781096.\u001b[0m\n"
     ]
    },
    {
     "name": "stdout",
     "output_type": "stream",
     "text": [
      "predicting\n",
      "count zerO: 45892\n",
      "amex: 0.7639787082106377\n",
      "=== FINISHED FOLD 1/10, log loss=0.6507781043628978, accuracy=0.2985923472500654, amex=0.7639787082106377 ===\n",
      "time to run this fold: 0s\n",
      "low score on amex, dropping loop\n",
      "3: none\n",
      "STARTING OPTIMIZATION iteration 12, data size: (458913, 4), params={'solver': 'sag', 'C': 6.90001, 'fit_intercept': True, 'class_weight': None, 'n_jobs': -1, 'verbose': 0, 'penalty': 'none'}\n",
      "=== STARTING FOLD 1/10 (10) ===\n",
      "creating classifier\n",
      "fitting\n"
     ]
    },
    {
     "name": "stderr",
     "output_type": "stream",
     "text": [
      "/usr/local/lib/python3.8/dist-packages/optuna/distributions.py:545: UserWarning: The distribution is specified by [1e-05, 10] and q=0.1, but the range is not divisible by `q`. It will be replaced by [1e-05, 9.90001].\n",
      "  warnings.warn(\n",
      "/usr/local/lib/python3.8/dist-packages/sklearn/linear_model/_logistic.py:1113: UserWarning: Setting penalty='none' will ignore the C and l1_ratio parameters\n",
      "  warnings.warn(\n"
     ]
    },
    {
     "name": "stdout",
     "output_type": "stream",
     "text": [
      "predicting\n",
      "count zerO: 45892\n",
      "amex: 0.790076802112198\n",
      "=== FINISHED FOLD 1/10, log loss=0.23464990181479103, accuracy=0.9048635927830558, amex=0.790076802112198 ===\n",
      "time to run this fold: 1s\n",
      "=== STARTING FOLD 2/10 (10) ===\n",
      "creating classifier\n",
      "fitting\n"
     ]
    },
    {
     "name": "stderr",
     "output_type": "stream",
     "text": [
      "/usr/local/lib/python3.8/dist-packages/sklearn/linear_model/_logistic.py:1113: UserWarning: Setting penalty='none' will ignore the C and l1_ratio parameters\n",
      "  warnings.warn(\n"
     ]
    },
    {
     "name": "stdout",
     "output_type": "stream",
     "text": [
      "predicting\n",
      "count zerO: 91784\n",
      "amex: 0.7982557738020211\n",
      "=== FINISHED FOLD 2/10, log loss=0.22987891609751993, accuracy=0.9051686568465092, amex=0.7982557738020211 ===\n",
      "time to run this fold: 1s\n",
      "=== STARTING FOLD 3/10 (10) ===\n",
      "creating classifier\n",
      "fitting\n"
     ]
    },
    {
     "name": "stderr",
     "output_type": "stream",
     "text": [
      "/usr/local/lib/python3.8/dist-packages/sklearn/linear_model/_logistic.py:1113: UserWarning: Setting penalty='none' will ignore the C and l1_ratio parameters\n",
      "  warnings.warn(\n"
     ]
    },
    {
     "name": "stdout",
     "output_type": "stream",
     "text": [
      "predicting\n",
      "count zerO: 137676\n",
      "amex: 0.7972424501104204\n",
      "=== FINISHED FOLD 3/10, log loss=0.22840917589844117, accuracy=0.9070208315174758, amex=0.7972424501104204 ===\n",
      "time to run this fold: 1s\n",
      "=== STARTING FOLD 4/10 (10) ===\n",
      "creating classifier\n",
      "fitting\n"
     ]
    },
    {
     "name": "stderr",
     "output_type": "stream",
     "text": [
      "/usr/local/lib/python3.8/dist-packages/sklearn/linear_model/_logistic.py:1113: UserWarning: Setting penalty='none' will ignore the C and l1_ratio parameters\n",
      "  warnings.warn(\n"
     ]
    },
    {
     "name": "stdout",
     "output_type": "stream",
     "text": [
      "predicting\n",
      "count zerO: 183567\n",
      "amex: 0.7937174686689239\n",
      "=== FINISHED FOLD 4/10, log loss=0.23301582684041228, accuracy=0.9028785600662439, amex=0.7937174686689239 ===\n",
      "time to run this fold: 1s\n",
      "=== STARTING FOLD 5/10 (10) ===\n",
      "creating classifier\n",
      "fitting\n"
     ]
    },
    {
     "name": "stderr",
     "output_type": "stream",
     "text": [
      "/usr/local/lib/python3.8/dist-packages/sklearn/linear_model/_logistic.py:1113: UserWarning: Setting penalty='none' will ignore the C and l1_ratio parameters\n",
      "  warnings.warn(\n"
     ]
    },
    {
     "name": "stdout",
     "output_type": "stream",
     "text": [
      "predicting\n",
      "count zerO: 229458\n",
      "amex: 0.7899537780164458\n",
      "=== FINISHED FOLD 5/10, log loss=0.23485848722055133, accuracy=0.9034887014883093, amex=0.7899537780164458 ===\n",
      "time to run this fold: 1s\n",
      "=== STARTING FOLD 6/10 (10) ===\n",
      "creating classifier\n",
      "fitting\n"
     ]
    },
    {
     "name": "stderr",
     "output_type": "stream",
     "text": [
      "/usr/local/lib/python3.8/dist-packages/sklearn/linear_model/_logistic.py:1113: UserWarning: Setting penalty='none' will ignore the C and l1_ratio parameters\n",
      "  warnings.warn(\n"
     ]
    },
    {
     "name": "stdout",
     "output_type": "stream",
     "text": [
      "predicting\n",
      "count zerO: 275349\n",
      "amex: 0.7902042373681267\n",
      "=== FINISHED FOLD 6/10, log loss=0.23622837503107022, accuracy=0.9021158832886622, amex=0.7902042373681267 ===\n",
      "time to run this fold: 1s\n",
      "=== STARTING FOLD 7/10 (10) ===\n",
      "creating classifier\n",
      "fitting\n"
     ]
    },
    {
     "name": "stderr",
     "output_type": "stream",
     "text": [
      "/usr/local/lib/python3.8/dist-packages/sklearn/linear_model/_logistic.py:1113: UserWarning: Setting penalty='none' will ignore the C and l1_ratio parameters\n",
      "  warnings.warn(\n"
     ]
    },
    {
     "name": "stdout",
     "output_type": "stream",
     "text": [
      "predicting\n",
      "count zerO: 321240\n",
      "amex: 0.7935105641613188\n",
      "=== FINISHED FOLD 7/10, log loss=0.23087053870994662, accuracy=0.9051230088688413, amex=0.7935105641613188 ===\n",
      "time to run this fold: 1s\n",
      "=== STARTING FOLD 8/10 (10) ===\n",
      "creating classifier\n",
      "fitting\n"
     ]
    },
    {
     "name": "stderr",
     "output_type": "stream",
     "text": [
      "/usr/local/lib/python3.8/dist-packages/sklearn/linear_model/_logistic.py:1113: UserWarning: Setting penalty='none' will ignore the C and l1_ratio parameters\n",
      "  warnings.warn(\n"
     ]
    },
    {
     "name": "stdout",
     "output_type": "stream",
     "text": [
      "predicting\n",
      "count zerO: 367131\n",
      "amex: 0.7972141651145637\n",
      "=== FINISHED FOLD 8/10, log loss=0.23034568771346955, accuracy=0.9065176178335621, amex=0.7972141651145637 ===\n",
      "time to run this fold: 1s\n",
      "=== STARTING FOLD 9/10 (10) ===\n",
      "creating classifier\n",
      "fitting\n"
     ]
    },
    {
     "name": "stderr",
     "output_type": "stream",
     "text": [
      "/usr/local/lib/python3.8/dist-packages/sklearn/linear_model/_logistic.py:1113: UserWarning: Setting penalty='none' will ignore the C and l1_ratio parameters\n",
      "  warnings.warn(\n"
     ]
    },
    {
     "name": "stdout",
     "output_type": "stream",
     "text": [
      "predicting\n",
      "count zerO: 413022\n",
      "amex: 0.7960377707250588\n",
      "=== FINISHED FOLD 9/10, log loss=0.23072129834084998, accuracy=0.9039463075548583, amex=0.7960377707250588 ===\n",
      "time to run this fold: 0s\n",
      "=== STARTING FOLD 10/10 (10) ===\n",
      "creating classifier\n",
      "fitting\n"
     ]
    },
    {
     "name": "stderr",
     "output_type": "stream",
     "text": [
      "/usr/local/lib/python3.8/dist-packages/sklearn/linear_model/_logistic.py:1113: UserWarning: Setting penalty='none' will ignore the C and l1_ratio parameters\n",
      "  warnings.warn(\n",
      "\u001b[32m[I 2022-08-11 18:22:04,972]\u001b[0m Trial 11 finished with value: 0.7933077896986902 and parameters: {'solver': 'sag', 'C': 6.90001, 'fit_intercept': True, 'class_weight': None, 'penalty-sag': 'none'}. Best is trial 11 with value: 0.7933077896986902.\u001b[0m\n"
     ]
    },
    {
     "name": "stdout",
     "output_type": "stream",
     "text": [
      "predicting\n",
      "count zerO: 458913\n",
      "amex: 0.7868648869078242\n",
      "=== FINISHED FOLD 10/10, log loss=0.2367485289044604, accuracy=0.9024863262949162, amex=0.7868648869078242 ===\n",
      "time to run this fold: 1s\n",
      "time to run folds: 11s\n",
      "iteration logloss: 0.23257267365715126, iteration acc: 0.9043609486542433, Iteration amex: 0.7933077896986902\n",
      "3: none\n",
      "STARTING OPTIMIZATION iteration 13, data size: (458913, 4), params={'solver': 'sag', 'C': 6.70001, 'fit_intercept': True, 'class_weight': None, 'n_jobs': -1, 'verbose': 0, 'penalty': 'none'}\n",
      "=== STARTING FOLD 1/10 (10) ===\n",
      "creating classifier\n",
      "fitting\n"
     ]
    },
    {
     "name": "stderr",
     "output_type": "stream",
     "text": [
      "/usr/local/lib/python3.8/dist-packages/optuna/distributions.py:545: UserWarning: The distribution is specified by [1e-05, 10] and q=0.1, but the range is not divisible by `q`. It will be replaced by [1e-05, 9.90001].\n",
      "  warnings.warn(\n",
      "/usr/local/lib/python3.8/dist-packages/sklearn/linear_model/_logistic.py:1113: UserWarning: Setting penalty='none' will ignore the C and l1_ratio parameters\n",
      "  warnings.warn(\n"
     ]
    },
    {
     "name": "stdout",
     "output_type": "stream",
     "text": [
      "predicting\n",
      "count zerO: 45892\n",
      "amex: 0.7900768293319803\n",
      "=== FINISHED FOLD 1/10, log loss=0.23464975367102217, accuracy=0.9048853830733026, amex=0.7900768293319803 ===\n",
      "time to run this fold: 1s\n",
      "=== STARTING FOLD 2/10 (10) ===\n",
      "creating classifier\n",
      "fitting\n"
     ]
    },
    {
     "name": "stderr",
     "output_type": "stream",
     "text": [
      "/usr/local/lib/python3.8/dist-packages/sklearn/linear_model/_logistic.py:1113: UserWarning: Setting penalty='none' will ignore the C and l1_ratio parameters\n",
      "  warnings.warn(\n"
     ]
    },
    {
     "name": "stdout",
     "output_type": "stream",
     "text": [
      "predicting\n",
      "count zerO: 91784\n",
      "amex: 0.7982557515312901\n",
      "=== FINISHED FOLD 2/10, log loss=0.22987901724662674, accuracy=0.9051686568465092, amex=0.7982557515312901 ===\n",
      "time to run this fold: 1s\n",
      "=== STARTING FOLD 3/10 (10) ===\n",
      "creating classifier\n",
      "fitting\n"
     ]
    },
    {
     "name": "stderr",
     "output_type": "stream",
     "text": [
      "/usr/local/lib/python3.8/dist-packages/sklearn/linear_model/_logistic.py:1113: UserWarning: Setting penalty='none' will ignore the C and l1_ratio parameters\n",
      "  warnings.warn(\n"
     ]
    },
    {
     "name": "stdout",
     "output_type": "stream",
     "text": [
      "predicting\n",
      "count zerO: 137676\n",
      "amex: 0.7972424402123177\n",
      "=== FINISHED FOLD 3/10, log loss=0.2284096176006985, accuracy=0.9070208315174758, amex=0.7972424402123177 ===\n",
      "time to run this fold: 1s\n",
      "=== STARTING FOLD 4/10 (10) ===\n",
      "creating classifier\n",
      "fitting\n"
     ]
    },
    {
     "name": "stderr",
     "output_type": "stream",
     "text": [
      "/usr/local/lib/python3.8/dist-packages/sklearn/linear_model/_logistic.py:1113: UserWarning: Setting penalty='none' will ignore the C and l1_ratio parameters\n",
      "  warnings.warn(\n"
     ]
    },
    {
     "name": "stdout",
     "output_type": "stream",
     "text": [
      "predicting\n",
      "count zerO: 183567\n",
      "amex: 0.7937173969016399\n",
      "=== FINISHED FOLD 4/10, log loss=0.23301581928438367, accuracy=0.9028785600662439, amex=0.7937173969016399 ===\n",
      "time to run this fold: 1s\n",
      "=== STARTING FOLD 5/10 (10) ===\n",
      "creating classifier\n",
      "fitting\n"
     ]
    },
    {
     "name": "stderr",
     "output_type": "stream",
     "text": [
      "/usr/local/lib/python3.8/dist-packages/sklearn/linear_model/_logistic.py:1113: UserWarning: Setting penalty='none' will ignore the C and l1_ratio parameters\n",
      "  warnings.warn(\n"
     ]
    },
    {
     "name": "stdout",
     "output_type": "stream",
     "text": [
      "predicting\n",
      "count zerO: 229458\n",
      "amex: 0.7899537903901155\n",
      "=== FINISHED FOLD 5/10, log loss=0.23485855666665625, accuracy=0.9034887014883093, amex=0.7899537903901155 ===\n",
      "time to run this fold: 1s\n",
      "=== STARTING FOLD 6/10 (10) ===\n",
      "creating classifier\n",
      "fitting\n"
     ]
    },
    {
     "name": "stderr",
     "output_type": "stream",
     "text": [
      "/usr/local/lib/python3.8/dist-packages/sklearn/linear_model/_logistic.py:1113: UserWarning: Setting penalty='none' will ignore the C and l1_ratio parameters\n",
      "  warnings.warn(\n"
     ]
    },
    {
     "name": "stdout",
     "output_type": "stream",
     "text": [
      "predicting\n",
      "count zerO: 275349\n",
      "amex: 0.790204244791922\n",
      "=== FINISHED FOLD 6/10, log loss=0.23622875805780688, accuracy=0.9021158832886622, amex=0.790204244791922 ===\n",
      "time to run this fold: 1s\n",
      "=== STARTING FOLD 7/10 (10) ===\n",
      "creating classifier\n",
      "fitting\n"
     ]
    },
    {
     "name": "stderr",
     "output_type": "stream",
     "text": [
      "/usr/local/lib/python3.8/dist-packages/sklearn/linear_model/_logistic.py:1113: UserWarning: Setting penalty='none' will ignore the C and l1_ratio parameters\n",
      "  warnings.warn(\n"
     ]
    },
    {
     "name": "stdout",
     "output_type": "stream",
     "text": [
      "predicting\n",
      "count zerO: 321240\n",
      "amex: 0.7935105938565001\n",
      "=== FINISHED FOLD 7/10, log loss=0.2308703867143734, accuracy=0.9051230088688413, amex=0.7935105938565001 ===\n",
      "time to run this fold: 1s\n",
      "=== STARTING FOLD 8/10 (10) ===\n",
      "creating classifier\n",
      "fitting\n"
     ]
    },
    {
     "name": "stderr",
     "output_type": "stream",
     "text": [
      "/usr/local/lib/python3.8/dist-packages/sklearn/linear_model/_logistic.py:1113: UserWarning: Setting penalty='none' will ignore the C and l1_ratio parameters\n",
      "  warnings.warn(\n"
     ]
    },
    {
     "name": "stdout",
     "output_type": "stream",
     "text": [
      "predicting\n",
      "count zerO: 367131\n",
      "amex: 0.7972140958258074\n",
      "=== FINISHED FOLD 8/10, log loss=0.2303456956531698, accuracy=0.9065176178335621, amex=0.7972140958258074 ===\n",
      "time to run this fold: 1s\n",
      "=== STARTING FOLD 9/10 (10) ===\n",
      "creating classifier\n",
      "fitting\n"
     ]
    },
    {
     "name": "stderr",
     "output_type": "stream",
     "text": [
      "/usr/local/lib/python3.8/dist-packages/sklearn/linear_model/_logistic.py:1113: UserWarning: Setting penalty='none' will ignore the C and l1_ratio parameters\n",
      "  warnings.warn(\n"
     ]
    },
    {
     "name": "stdout",
     "output_type": "stream",
     "text": [
      "predicting\n",
      "count zerO: 413022\n",
      "amex: 0.7960377484536727\n",
      "=== FINISHED FOLD 9/10, log loss=0.2307216329328038, accuracy=0.9039463075548583, amex=0.7960377484536727 ===\n",
      "time to run this fold: 1s\n",
      "=== STARTING FOLD 10/10 (10) ===\n",
      "creating classifier\n",
      "fitting\n"
     ]
    },
    {
     "name": "stderr",
     "output_type": "stream",
     "text": [
      "/usr/local/lib/python3.8/dist-packages/sklearn/linear_model/_logistic.py:1113: UserWarning: Setting penalty='none' will ignore the C and l1_ratio parameters\n",
      "  warnings.warn(\n",
      "\u001b[32m[I 2022-08-11 18:22:16,217]\u001b[0m Trial 12 finished with value: 0.7933077760880881 and parameters: {'solver': 'sag', 'C': 6.70001, 'fit_intercept': True, 'class_weight': None, 'penalty-sag': 'none'}. Best is trial 11 with value: 0.7933077896986902.\u001b[0m\n"
     ]
    },
    {
     "name": "stdout",
     "output_type": "stream",
     "text": [
      "predicting\n",
      "count zerO: 458913\n",
      "amex: 0.7868648695856351\n",
      "=== FINISHED FOLD 10/10, log loss=0.23674899950520062, accuracy=0.9024863262949162, amex=0.7868648695856351 ===\n",
      "time to run this fold: 0s\n",
      "time to run folds: 11s\n",
      "iteration logloss: 0.2325728237332742, iteration acc: 0.9043631276832681, Iteration amex: 0.7933077760880881\n",
      "2: l1\n",
      "STARTING OPTIMIZATION iteration 14, data size: (458913, 4), params={'solver': 'liblinear', 'C': 6.40001, 'fit_intercept': True, 'class_weight': None, 'n_jobs': -1, 'verbose': 0, 'penalty': 'l1'}\n",
      "=== STARTING FOLD 1/10 (10) ===\n",
      "creating classifier\n",
      "fitting\n"
     ]
    },
    {
     "name": "stderr",
     "output_type": "stream",
     "text": [
      "/usr/local/lib/python3.8/dist-packages/optuna/distributions.py:545: UserWarning: The distribution is specified by [1e-05, 10] and q=0.1, but the range is not divisible by `q`. It will be replaced by [1e-05, 9.90001].\n",
      "  warnings.warn(\n",
      "/usr/local/lib/python3.8/dist-packages/sklearn/linear_model/_logistic.py:1153: UserWarning: 'n_jobs' > 1 does not have any effect when 'solver' is set to 'liblinear'. Got 'n_jobs' = 32.\n",
      "  warnings.warn(\n"
     ]
    },
    {
     "name": "stdout",
     "output_type": "stream",
     "text": [
      "predicting\n",
      "count zerO: 45892\n",
      "amex: 0.7900352423714601\n",
      "=== FINISHED FOLD 1/10, log loss=0.23464812256260492, accuracy=0.9049289636537958, amex=0.7900352423714601 ===\n",
      "time to run this fold: 1s\n",
      "=== STARTING FOLD 2/10 (10) ===\n",
      "creating classifier\n",
      "fitting\n"
     ]
    },
    {
     "name": "stderr",
     "output_type": "stream",
     "text": [
      "/usr/local/lib/python3.8/dist-packages/sklearn/linear_model/_logistic.py:1153: UserWarning: 'n_jobs' > 1 does not have any effect when 'solver' is set to 'liblinear'. Got 'n_jobs' = 32.\n",
      "  warnings.warn(\n"
     ]
    },
    {
     "name": "stdout",
     "output_type": "stream",
     "text": [
      "predicting\n",
      "count zerO: 91784\n",
      "amex: 0.7982124843678374\n",
      "=== FINISHED FOLD 2/10, log loss=0.22988371443640188, accuracy=0.9051468665562625, amex=0.7982124843678374 ===\n",
      "time to run this fold: 1s\n",
      "=== STARTING FOLD 3/10 (10) ===\n",
      "creating classifier\n",
      "fitting\n"
     ]
    },
    {
     "name": "stderr",
     "output_type": "stream",
     "text": [
      "/usr/local/lib/python3.8/dist-packages/sklearn/linear_model/_logistic.py:1153: UserWarning: 'n_jobs' > 1 does not have any effect when 'solver' is set to 'liblinear'. Got 'n_jobs' = 32.\n",
      "  warnings.warn(\n"
     ]
    },
    {
     "name": "stdout",
     "output_type": "stream",
     "text": [
      "predicting\n",
      "count zerO: 137676\n",
      "amex: 0.797241975001491\n",
      "=== FINISHED FOLD 3/10, log loss=0.22840914191129713, accuracy=0.9070644120979692, amex=0.797241975001491 ===\n",
      "time to run this fold: 1s\n",
      "=== STARTING FOLD 4/10 (10) ===\n",
      "creating classifier\n",
      "fitting\n"
     ]
    },
    {
     "name": "stderr",
     "output_type": "stream",
     "text": [
      "/usr/local/lib/python3.8/dist-packages/sklearn/linear_model/_logistic.py:1153: UserWarning: 'n_jobs' > 1 does not have any effect when 'solver' is set to 'liblinear'. Got 'n_jobs' = 32.\n",
      "  warnings.warn(\n"
     ]
    },
    {
     "name": "stdout",
     "output_type": "stream",
     "text": [
      "predicting\n",
      "count zerO: 183567\n",
      "amex: 0.7938000952495566\n",
      "=== FINISHED FOLD 4/10, log loss=0.23301910302405537, accuracy=0.9028567693011702, amex=0.7938000952495566 ===\n",
      "time to run this fold: 1s\n",
      "=== STARTING FOLD 5/10 (10) ===\n",
      "creating classifier\n",
      "fitting\n"
     ]
    },
    {
     "name": "stderr",
     "output_type": "stream",
     "text": [
      "/usr/local/lib/python3.8/dist-packages/sklearn/linear_model/_logistic.py:1153: UserWarning: 'n_jobs' > 1 does not have any effect when 'solver' is set to 'liblinear'. Got 'n_jobs' = 32.\n",
      "  warnings.warn(\n"
     ]
    },
    {
     "name": "stdout",
     "output_type": "stream",
     "text": [
      "predicting\n",
      "count zerO: 229458\n",
      "amex: 0.7898682559971122\n",
      "=== FINISHED FOLD 5/10, log loss=0.23486349758955563, accuracy=0.9034669107232355, amex=0.7898682559971122 ===\n",
      "time to run this fold: 1s\n",
      "=== STARTING FOLD 6/10 (10) ===\n",
      "creating classifier\n",
      "fitting\n"
     ]
    },
    {
     "name": "stderr",
     "output_type": "stream",
     "text": [
      "/usr/local/lib/python3.8/dist-packages/sklearn/linear_model/_logistic.py:1153: UserWarning: 'n_jobs' > 1 does not have any effect when 'solver' is set to 'liblinear'. Got 'n_jobs' = 32.\n",
      "  warnings.warn(\n"
     ]
    },
    {
     "name": "stdout",
     "output_type": "stream",
     "text": [
      "predicting\n",
      "count zerO: 275349\n",
      "amex: 0.7902049129335005\n",
      "=== FINISHED FOLD 6/10, log loss=0.23622661171545914, accuracy=0.902137674053736, amex=0.7902049129335005 ===\n",
      "time to run this fold: 1s\n",
      "=== STARTING FOLD 7/10 (10) ===\n",
      "creating classifier\n",
      "fitting\n"
     ]
    },
    {
     "name": "stderr",
     "output_type": "stream",
     "text": [
      "/usr/local/lib/python3.8/dist-packages/sklearn/linear_model/_logistic.py:1153: UserWarning: 'n_jobs' > 1 does not have any effect when 'solver' is set to 'liblinear'. Got 'n_jobs' = 32.\n",
      "  warnings.warn(\n"
     ]
    },
    {
     "name": "stdout",
     "output_type": "stream",
     "text": [
      "predicting\n",
      "count zerO: 321240\n",
      "amex: 0.7935109031813048\n",
      "=== FINISHED FOLD 7/10, log loss=0.23086977284950683, accuracy=0.9051230088688413, amex=0.7935109031813048 ===\n",
      "time to run this fold: 1s\n",
      "=== STARTING FOLD 8/10 (10) ===\n",
      "creating classifier\n",
      "fitting\n"
     ]
    },
    {
     "name": "stderr",
     "output_type": "stream",
     "text": [
      "/usr/local/lib/python3.8/dist-packages/sklearn/linear_model/_logistic.py:1153: UserWarning: 'n_jobs' > 1 does not have any effect when 'solver' is set to 'liblinear'. Got 'n_jobs' = 32.\n",
      "  warnings.warn(\n"
     ]
    },
    {
     "name": "stdout",
     "output_type": "stream",
     "text": [
      "predicting\n",
      "count zerO: 367131\n",
      "amex: 0.7973406952907856\n",
      "=== FINISHED FOLD 8/10, log loss=0.2303466045344073, accuracy=0.9064958270684884, amex=0.7973406952907856 ===\n",
      "time to run this fold: 0s\n",
      "=== STARTING FOLD 9/10 (10) ===\n",
      "creating classifier\n",
      "fitting\n"
     ]
    },
    {
     "name": "stderr",
     "output_type": "stream",
     "text": [
      "/usr/local/lib/python3.8/dist-packages/sklearn/linear_model/_logistic.py:1153: UserWarning: 'n_jobs' > 1 does not have any effect when 'solver' is set to 'liblinear'. Got 'n_jobs' = 32.\n",
      "  warnings.warn(\n"
     ]
    },
    {
     "name": "stdout",
     "output_type": "stream",
     "text": [
      "predicting\n",
      "count zerO: 413022\n",
      "amex: 0.7959532778718655\n",
      "=== FINISHED FOLD 9/10, log loss=0.2307222345152145, accuracy=0.903968098319932, amex=0.7959532778718655 ===\n",
      "time to run this fold: 1s\n",
      "=== STARTING FOLD 10/10 (10) ===\n",
      "creating classifier\n",
      "fitting\n"
     ]
    },
    {
     "name": "stderr",
     "output_type": "stream",
     "text": [
      "/usr/local/lib/python3.8/dist-packages/sklearn/linear_model/_logistic.py:1153: UserWarning: 'n_jobs' > 1 does not have any effect when 'solver' is set to 'liblinear'. Got 'n_jobs' = 32.\n",
      "  warnings.warn(\n",
      "\u001b[32m[I 2022-08-11 18:22:30,643]\u001b[0m Trial 13 finished with value: 0.793324337606319 and parameters: {'solver': 'liblinear', 'C': 6.40001, 'fit_intercept': True, 'class_weight': None, 'penalty-liblinear': 'l1'}. Best is trial 13 with value: 0.793324337606319.\u001b[0m\n"
     ]
    },
    {
     "name": "stdout",
     "output_type": "stream",
     "text": [
      "predicting\n",
      "count zerO: 458913\n",
      "amex: 0.7870755337982764\n",
      "=== FINISHED FOLD 10/10, log loss=0.23674915826294657, accuracy=0.9024645355298424, amex=0.7870755337982764 ===\n",
      "time to run this fold: 1s\n",
      "time to run folds: 14s\n",
      "iteration logloss: 0.23257379614014492, iteration acc: 0.9043653066173274, Iteration amex: 0.793324337606319\n",
      "2: l1\n",
      "STARTING OPTIMIZATION iteration 15, data size: (458913, 4), params={'solver': 'liblinear', 'C': 6.40001, 'fit_intercept': True, 'class_weight': None, 'n_jobs': -1, 'verbose': 0, 'penalty': 'l1'}\n",
      "=== STARTING FOLD 1/10 (10) ===\n",
      "creating classifier\n",
      "fitting\n"
     ]
    },
    {
     "name": "stderr",
     "output_type": "stream",
     "text": [
      "/usr/local/lib/python3.8/dist-packages/optuna/distributions.py:545: UserWarning: The distribution is specified by [1e-05, 10] and q=0.1, but the range is not divisible by `q`. It will be replaced by [1e-05, 9.90001].\n",
      "  warnings.warn(\n",
      "/usr/local/lib/python3.8/dist-packages/sklearn/linear_model/_logistic.py:1153: UserWarning: 'n_jobs' > 1 does not have any effect when 'solver' is set to 'liblinear'. Got 'n_jobs' = 32.\n",
      "  warnings.warn(\n"
     ]
    },
    {
     "name": "stdout",
     "output_type": "stream",
     "text": [
      "predicting\n",
      "count zerO: 45892\n",
      "amex: 0.7900767971631466\n",
      "=== FINISHED FOLD 1/10, log loss=0.23464922904011984, accuracy=0.9048853830733026, amex=0.7900767971631466 ===\n",
      "time to run this fold: 2s\n",
      "=== STARTING FOLD 2/10 (10) ===\n",
      "creating classifier\n",
      "fitting\n"
     ]
    },
    {
     "name": "stderr",
     "output_type": "stream",
     "text": [
      "/usr/local/lib/python3.8/dist-packages/sklearn/linear_model/_logistic.py:1153: UserWarning: 'n_jobs' > 1 does not have any effect when 'solver' is set to 'liblinear'. Got 'n_jobs' = 32.\n",
      "  warnings.warn(\n"
     ]
    },
    {
     "name": "stdout",
     "output_type": "stream",
     "text": [
      "predicting\n",
      "count zerO: 91784\n",
      "amex: 0.7982570358101149\n",
      "=== FINISHED FOLD 2/10, log loss=0.22987468768260313, accuracy=0.9051904471367559, amex=0.7982570358101149 ===\n",
      "time to run this fold: 1s\n",
      "=== STARTING FOLD 3/10 (10) ===\n",
      "creating classifier\n",
      "fitting\n"
     ]
    },
    {
     "name": "stderr",
     "output_type": "stream",
     "text": [
      "/usr/local/lib/python3.8/dist-packages/sklearn/linear_model/_logistic.py:1153: UserWarning: 'n_jobs' > 1 does not have any effect when 'solver' is set to 'liblinear'. Got 'n_jobs' = 32.\n",
      "  warnings.warn(\n"
     ]
    },
    {
     "name": "stdout",
     "output_type": "stream",
     "text": [
      "predicting\n",
      "count zerO: 137676\n",
      "amex: 0.7971584571213821\n",
      "=== FINISHED FOLD 3/10, log loss=0.22840943778045578, accuracy=0.9070208315174758, amex=0.7971584571213821 ===\n",
      "time to run this fold: 1s\n",
      "=== STARTING FOLD 4/10 (10) ===\n",
      "creating classifier\n",
      "fitting\n"
     ]
    },
    {
     "name": "stderr",
     "output_type": "stream",
     "text": [
      "/usr/local/lib/python3.8/dist-packages/sklearn/linear_model/_logistic.py:1153: UserWarning: 'n_jobs' > 1 does not have any effect when 'solver' is set to 'liblinear'. Got 'n_jobs' = 32.\n",
      "  warnings.warn(\n"
     ]
    },
    {
     "name": "stdout",
     "output_type": "stream",
     "text": [
      "predicting\n",
      "count zerO: 183567\n",
      "amex: 0.7937582894871877\n",
      "=== FINISHED FOLD 4/10, log loss=0.2330188967397829, accuracy=0.9028567693011702, amex=0.7937582894871877 ===\n",
      "time to run this fold: 1s\n",
      "=== STARTING FOLD 5/10 (10) ===\n",
      "creating classifier\n",
      "fitting\n"
     ]
    },
    {
     "name": "stderr",
     "output_type": "stream",
     "text": [
      "/usr/local/lib/python3.8/dist-packages/sklearn/linear_model/_logistic.py:1153: UserWarning: 'n_jobs' > 1 does not have any effect when 'solver' is set to 'liblinear'. Got 'n_jobs' = 32.\n",
      "  warnings.warn(\n"
     ]
    },
    {
     "name": "stdout",
     "output_type": "stream",
     "text": [
      "predicting\n",
      "count zerO: 229458\n",
      "amex: 0.789868560389386\n",
      "=== FINISHED FOLD 5/10, log loss=0.23486323395067774, accuracy=0.9034887014883093, amex=0.789868560389386 ===\n",
      "time to run this fold: 1s\n",
      "=== STARTING FOLD 6/10 (10) ===\n",
      "creating classifier\n",
      "fitting\n"
     ]
    },
    {
     "name": "stderr",
     "output_type": "stream",
     "text": [
      "/usr/local/lib/python3.8/dist-packages/sklearn/linear_model/_logistic.py:1153: UserWarning: 'n_jobs' > 1 does not have any effect when 'solver' is set to 'liblinear'. Got 'n_jobs' = 32.\n",
      "  warnings.warn(\n"
     ]
    },
    {
     "name": "stdout",
     "output_type": "stream",
     "text": [
      "predicting\n",
      "count zerO: 275349\n",
      "amex: 0.7902452304106141\n",
      "=== FINISHED FOLD 6/10, log loss=0.2362301781683874, accuracy=0.902137674053736, amex=0.7902452304106141 ===\n",
      "time to run this fold: 1s\n",
      "=== STARTING FOLD 7/10 (10) ===\n",
      "creating classifier\n",
      "fitting\n"
     ]
    },
    {
     "name": "stderr",
     "output_type": "stream",
     "text": [
      "/usr/local/lib/python3.8/dist-packages/sklearn/linear_model/_logistic.py:1153: UserWarning: 'n_jobs' > 1 does not have any effect when 'solver' is set to 'liblinear'. Got 'n_jobs' = 32.\n",
      "  warnings.warn(\n"
     ]
    },
    {
     "name": "stdout",
     "output_type": "stream",
     "text": [
      "predicting\n",
      "count zerO: 321240\n",
      "amex: 0.7935526534509146\n",
      "=== FINISHED FOLD 7/10, log loss=0.230870182380496, accuracy=0.9051230088688413, amex=0.7935526534509146 ===\n",
      "time to run this fold: 2s\n",
      "=== STARTING FOLD 8/10 (10) ===\n",
      "creating classifier\n",
      "fitting\n"
     ]
    },
    {
     "name": "stderr",
     "output_type": "stream",
     "text": [
      "/usr/local/lib/python3.8/dist-packages/sklearn/linear_model/_logistic.py:1153: UserWarning: 'n_jobs' > 1 does not have any effect when 'solver' is set to 'liblinear'. Got 'n_jobs' = 32.\n",
      "  warnings.warn(\n"
     ]
    },
    {
     "name": "stdout",
     "output_type": "stream",
     "text": [
      "predicting\n",
      "count zerO: 367131\n",
      "amex: 0.7971721797581024\n",
      "=== FINISHED FOLD 8/10, log loss=0.2303450413883059, accuracy=0.9065176178335621, amex=0.7971721797581024 ===\n",
      "time to run this fold: 1s\n",
      "=== STARTING FOLD 9/10 (10) ===\n",
      "creating classifier\n",
      "fitting\n"
     ]
    },
    {
     "name": "stderr",
     "output_type": "stream",
     "text": [
      "/usr/local/lib/python3.8/dist-packages/sklearn/linear_model/_logistic.py:1153: UserWarning: 'n_jobs' > 1 does not have any effect when 'solver' is set to 'liblinear'. Got 'n_jobs' = 32.\n",
      "  warnings.warn(\n"
     ]
    },
    {
     "name": "stdout",
     "output_type": "stream",
     "text": [
      "predicting\n",
      "count zerO: 413022\n",
      "amex: 0.7960797065895512\n",
      "=== FINISHED FOLD 9/10, log loss=0.23072135318732373, accuracy=0.903968098319932, amex=0.7960797065895512 ===\n",
      "time to run this fold: 1s\n",
      "=== STARTING FOLD 10/10 (10) ===\n",
      "creating classifier\n",
      "fitting\n"
     ]
    },
    {
     "name": "stderr",
     "output_type": "stream",
     "text": [
      "/usr/local/lib/python3.8/dist-packages/sklearn/linear_model/_logistic.py:1153: UserWarning: 'n_jobs' > 1 does not have any effect when 'solver' is set to 'liblinear'. Got 'n_jobs' = 32.\n",
      "  warnings.warn(\n",
      "\u001b[32m[I 2022-08-11 18:22:49,043]\u001b[0m Trial 14 finished with value: 0.7933202468520608 and parameters: {'solver': 'liblinear', 'C': 6.40001, 'fit_intercept': True, 'class_weight': None, 'penalty-liblinear': 'l1'}. Best is trial 13 with value: 0.793324337606319.\u001b[0m\n"
     ]
    },
    {
     "name": "stdout",
     "output_type": "stream",
     "text": [
      "predicting\n",
      "count zerO: 458913\n",
      "amex: 0.7870335583402088\n",
      "=== FINISHED FOLD 10/10, log loss=0.23674889971143886, accuracy=0.9024645355298424, amex=0.7870335583402088 ===\n",
      "time to run this fold: 1s\n",
      "time to run folds: 18s\n",
      "iteration logloss: 0.23257311400295907, iteration acc: 0.9043653067122929, Iteration amex: 0.7933202468520608\n",
      "2: l1\n",
      "STARTING OPTIMIZATION iteration 16, data size: (458913, 4), params={'solver': 'liblinear', 'C': 0.70001, 'fit_intercept': False, 'class_weight': None, 'n_jobs': -1, 'verbose': 0, 'penalty': 'l1'}\n",
      "=== STARTING FOLD 1/10 (10) ===\n",
      "creating classifier\n",
      "fitting\n"
     ]
    },
    {
     "name": "stderr",
     "output_type": "stream",
     "text": [
      "/usr/local/lib/python3.8/dist-packages/optuna/distributions.py:545: UserWarning: The distribution is specified by [1e-05, 10] and q=0.1, but the range is not divisible by `q`. It will be replaced by [1e-05, 9.90001].\n",
      "  warnings.warn(\n",
      "/usr/local/lib/python3.8/dist-packages/sklearn/linear_model/_logistic.py:1153: UserWarning: 'n_jobs' > 1 does not have any effect when 'solver' is set to 'liblinear'. Got 'n_jobs' = 32.\n",
      "  warnings.warn(\n",
      "\u001b[32m[I 2022-08-11 18:22:51,564]\u001b[0m Trial 15 finished with value: 0.7642122070918393 and parameters: {'solver': 'liblinear', 'C': 0.70001, 'fit_intercept': False, 'class_weight': None, 'penalty-liblinear': 'l1'}. Best is trial 13 with value: 0.793324337606319.\u001b[0m\n"
     ]
    },
    {
     "name": "stdout",
     "output_type": "stream",
     "text": [
      "predicting\n",
      "count zerO: 45892\n",
      "amex: 0.7642122070918393\n",
      "=== FINISHED FOLD 1/10, log loss=0.6507774707920132, accuracy=0.2982437026061187, amex=0.7642122070918393 ===\n",
      "time to run this fold: 2s\n",
      "low score on amex, dropping loop\n",
      "2: l1\n",
      "STARTING OPTIMIZATION iteration 17, data size: (458913, 4), params={'solver': 'liblinear', 'C': 4.00001, 'fit_intercept': True, 'class_weight': None, 'n_jobs': -1, 'verbose': 0, 'penalty': 'l1'}\n",
      "=== STARTING FOLD 1/10 (10) ===\n",
      "creating classifier\n",
      "fitting\n"
     ]
    },
    {
     "name": "stderr",
     "output_type": "stream",
     "text": [
      "/usr/local/lib/python3.8/dist-packages/optuna/distributions.py:545: UserWarning: The distribution is specified by [1e-05, 10] and q=0.1, but the range is not divisible by `q`. It will be replaced by [1e-05, 9.90001].\n",
      "  warnings.warn(\n",
      "/usr/local/lib/python3.8/dist-packages/sklearn/linear_model/_logistic.py:1153: UserWarning: 'n_jobs' > 1 does not have any effect when 'solver' is set to 'liblinear'. Got 'n_jobs' = 32.\n",
      "  warnings.warn(\n"
     ]
    },
    {
     "name": "stdout",
     "output_type": "stream",
     "text": [
      "predicting\n",
      "count zerO: 45892\n",
      "amex: 0.790035304234602\n",
      "=== FINISHED FOLD 1/10, log loss=0.2346482337596045, accuracy=0.9049507539440426, amex=0.790035304234602 ===\n",
      "time to run this fold: 1s\n",
      "=== STARTING FOLD 2/10 (10) ===\n",
      "creating classifier\n",
      "fitting\n"
     ]
    },
    {
     "name": "stderr",
     "output_type": "stream",
     "text": [
      "/usr/local/lib/python3.8/dist-packages/sklearn/linear_model/_logistic.py:1153: UserWarning: 'n_jobs' > 1 does not have any effect when 'solver' is set to 'liblinear'. Got 'n_jobs' = 32.\n",
      "  warnings.warn(\n"
     ]
    },
    {
     "name": "stdout",
     "output_type": "stream",
     "text": [
      "predicting\n",
      "count zerO: 91784\n",
      "amex: 0.798257186756181\n",
      "=== FINISHED FOLD 2/10, log loss=0.2298742962994275, accuracy=0.9051904471367559, amex=0.798257186756181 ===\n",
      "time to run this fold: 1s\n",
      "=== STARTING FOLD 3/10 (10) ===\n",
      "creating classifier\n",
      "fitting\n"
     ]
    },
    {
     "name": "stderr",
     "output_type": "stream",
     "text": [
      "/usr/local/lib/python3.8/dist-packages/sklearn/linear_model/_logistic.py:1153: UserWarning: 'n_jobs' > 1 does not have any effect when 'solver' is set to 'liblinear'. Got 'n_jobs' = 32.\n",
      "  warnings.warn(\n"
     ]
    },
    {
     "name": "stdout",
     "output_type": "stream",
     "text": [
      "predicting\n",
      "count zerO: 137676\n",
      "amex: 0.7972420541863126\n",
      "=== FINISHED FOLD 3/10, log loss=0.2284094317646064, accuracy=0.9070644120979692, amex=0.7972420541863126 ===\n",
      "time to run this fold: 1s\n",
      "=== STARTING FOLD 4/10 (10) ===\n",
      "creating classifier\n",
      "fitting\n"
     ]
    },
    {
     "name": "stderr",
     "output_type": "stream",
     "text": [
      "/usr/local/lib/python3.8/dist-packages/sklearn/linear_model/_logistic.py:1153: UserWarning: 'n_jobs' > 1 does not have any effect when 'solver' is set to 'liblinear'. Got 'n_jobs' = 32.\n",
      "  warnings.warn(\n"
     ]
    },
    {
     "name": "stdout",
     "output_type": "stream",
     "text": [
      "predicting\n",
      "count zerO: 183567\n",
      "amex: 0.7938000234822725\n",
      "=== FINISHED FOLD 4/10, log loss=0.2330193160239396, accuracy=0.9028567693011702, amex=0.7938000234822725 ===\n",
      "time to run this fold: 1s\n",
      "=== STARTING FOLD 5/10 (10) ===\n",
      "creating classifier\n",
      "fitting\n"
     ]
    },
    {
     "name": "stderr",
     "output_type": "stream",
     "text": [
      "/usr/local/lib/python3.8/dist-packages/sklearn/linear_model/_logistic.py:1153: UserWarning: 'n_jobs' > 1 does not have any effect when 'solver' is set to 'liblinear'. Got 'n_jobs' = 32.\n",
      "  warnings.warn(\n"
     ]
    },
    {
     "name": "stdout",
     "output_type": "stream",
     "text": [
      "predicting\n",
      "count zerO: 229458\n",
      "amex: 0.7898691345276583\n",
      "=== FINISHED FOLD 5/10, log loss=0.2348614382762831, accuracy=0.903510492253383, amex=0.7898691345276583 ===\n",
      "time to run this fold: 1s\n",
      "=== STARTING FOLD 6/10 (10) ===\n",
      "creating classifier\n",
      "fitting\n"
     ]
    },
    {
     "name": "stderr",
     "output_type": "stream",
     "text": [
      "/usr/local/lib/python3.8/dist-packages/sklearn/linear_model/_logistic.py:1153: UserWarning: 'n_jobs' > 1 does not have any effect when 'solver' is set to 'liblinear'. Got 'n_jobs' = 32.\n",
      "  warnings.warn(\n"
     ]
    },
    {
     "name": "stdout",
     "output_type": "stream",
     "text": [
      "predicting\n",
      "count zerO: 275349\n",
      "amex: 0.7902452625803937\n",
      "=== FINISHED FOLD 6/10, log loss=0.23622997393188333, accuracy=0.902137674053736, amex=0.7902452625803937 ===\n",
      "time to run this fold: 1s\n",
      "=== STARTING FOLD 7/10 (10) ===\n",
      "creating classifier\n",
      "fitting\n"
     ]
    },
    {
     "name": "stderr",
     "output_type": "stream",
     "text": [
      "/usr/local/lib/python3.8/dist-packages/sklearn/linear_model/_logistic.py:1153: UserWarning: 'n_jobs' > 1 does not have any effect when 'solver' is set to 'liblinear'. Got 'n_jobs' = 32.\n",
      "  warnings.warn(\n"
     ]
    },
    {
     "name": "stdout",
     "output_type": "stream",
     "text": [
      "predicting\n",
      "count zerO: 321240\n",
      "amex: 0.7935521684296205\n",
      "=== FINISHED FOLD 7/10, log loss=0.23087071705728443, accuracy=0.905166590398989, amex=0.7935521684296205 ===\n",
      "time to run this fold: 1s\n",
      "=== STARTING FOLD 8/10 (10) ===\n",
      "creating classifier\n",
      "fitting\n"
     ]
    },
    {
     "name": "stderr",
     "output_type": "stream",
     "text": [
      "/usr/local/lib/python3.8/dist-packages/sklearn/linear_model/_logistic.py:1153: UserWarning: 'n_jobs' > 1 does not have any effect when 'solver' is set to 'liblinear'. Got 'n_jobs' = 32.\n",
      "  warnings.warn(\n"
     ]
    },
    {
     "name": "stdout",
     "output_type": "stream",
     "text": [
      "predicting\n",
      "count zerO: 367131\n",
      "amex: 0.7972564919656097\n",
      "=== FINISHED FOLD 8/10, log loss=0.23034681387950953, accuracy=0.9064958270684884, amex=0.7972564919656097 ===\n",
      "time to run this fold: 1s\n",
      "=== STARTING FOLD 9/10 (10) ===\n",
      "creating classifier\n",
      "fitting\n"
     ]
    },
    {
     "name": "stderr",
     "output_type": "stream",
     "text": [
      "/usr/local/lib/python3.8/dist-packages/sklearn/linear_model/_logistic.py:1153: UserWarning: 'n_jobs' > 1 does not have any effect when 'solver' is set to 'liblinear'. Got 'n_jobs' = 32.\n",
      "  warnings.warn(\n"
     ]
    },
    {
     "name": "stdout",
     "output_type": "stream",
     "text": [
      "predicting\n",
      "count zerO: 413022\n",
      "amex: 0.7960794838756916\n",
      "=== FINISHED FOLD 9/10, log loss=0.23072138210356916, accuracy=0.9039463075548583, amex=0.7960794838756916 ===\n",
      "time to run this fold: 1s\n",
      "=== STARTING FOLD 10/10 (10) ===\n",
      "creating classifier\n",
      "fitting\n"
     ]
    },
    {
     "name": "stderr",
     "output_type": "stream",
     "text": [
      "/usr/local/lib/python3.8/dist-packages/sklearn/linear_model/_logistic.py:1153: UserWarning: 'n_jobs' > 1 does not have any effect when 'solver' is set to 'liblinear'. Got 'n_jobs' = 32.\n",
      "  warnings.warn(\n",
      "\u001b[32m[I 2022-08-11 18:23:07,321]\u001b[0m Trial 16 finished with value: 0.7933117914876313 and parameters: {'solver': 'liblinear', 'C': 4.00001, 'fit_intercept': True, 'class_weight': None, 'penalty-liblinear': 'l1'}. Best is trial 13 with value: 0.793324337606319.\u001b[0m\n"
     ]
    },
    {
     "name": "stdout",
     "output_type": "stream",
     "text": [
      "predicting\n",
      "count zerO: 458913\n",
      "amex: 0.7867808048379719\n",
      "=== FINISHED FOLD 10/10, log loss=0.2367483402603418, accuracy=0.90250811705999, amex=0.7867808048379719 ===\n",
      "time to run this fold: 1s\n",
      "time to run folds: 15s\n",
      "iteration logloss: 0.23257299433564493, iteration acc: 0.9043827390869381, Iteration amex: 0.7933117914876313\n",
      "2: l1\n",
      "STARTING OPTIMIZATION iteration 18, data size: (458913, 4), params={'solver': 'liblinear', 'C': 6.40001, 'fit_intercept': True, 'class_weight': None, 'n_jobs': -1, 'verbose': 0, 'penalty': 'l1'}\n",
      "=== STARTING FOLD 1/10 (10) ===\n",
      "creating classifier\n",
      "fitting\n"
     ]
    },
    {
     "name": "stderr",
     "output_type": "stream",
     "text": [
      "/usr/local/lib/python3.8/dist-packages/optuna/distributions.py:545: UserWarning: The distribution is specified by [1e-05, 10] and q=0.1, but the range is not divisible by `q`. It will be replaced by [1e-05, 9.90001].\n",
      "  warnings.warn(\n",
      "/usr/local/lib/python3.8/dist-packages/sklearn/linear_model/_logistic.py:1153: UserWarning: 'n_jobs' > 1 does not have any effect when 'solver' is set to 'liblinear'. Got 'n_jobs' = 32.\n",
      "  warnings.warn(\n"
     ]
    },
    {
     "name": "stdout",
     "output_type": "stream",
     "text": [
      "predicting\n",
      "count zerO: 45892\n",
      "amex: 0.7900351458649588\n",
      "=== FINISHED FOLD 1/10, log loss=0.23464804528488903, accuracy=0.9049507539440426, amex=0.7900351458649588 ===\n",
      "time to run this fold: 1s\n",
      "=== STARTING FOLD 2/10 (10) ===\n",
      "creating classifier\n",
      "fitting\n"
     ]
    },
    {
     "name": "stderr",
     "output_type": "stream",
     "text": [
      "/usr/local/lib/python3.8/dist-packages/sklearn/linear_model/_logistic.py:1153: UserWarning: 'n_jobs' > 1 does not have any effect when 'solver' is set to 'liblinear'. Got 'n_jobs' = 32.\n",
      "  warnings.warn(\n"
     ]
    },
    {
     "name": "stdout",
     "output_type": "stream",
     "text": [
      "predicting\n",
      "count zerO: 91784\n",
      "amex: 0.798212457148055\n",
      "=== FINISHED FOLD 2/10, log loss=0.22988378053964661, accuracy=0.9051468665562625, amex=0.798212457148055 ===\n",
      "time to run this fold: 1s\n",
      "=== STARTING FOLD 3/10 (10) ===\n",
      "creating classifier\n",
      "fitting\n"
     ]
    },
    {
     "name": "stderr",
     "output_type": "stream",
     "text": [
      "/usr/local/lib/python3.8/dist-packages/sklearn/linear_model/_logistic.py:1153: UserWarning: 'n_jobs' > 1 does not have any effect when 'solver' is set to 'liblinear'. Got 'n_jobs' = 32.\n",
      "  warnings.warn(\n"
     ]
    },
    {
     "name": "stdout",
     "output_type": "stream",
     "text": [
      "predicting\n",
      "count zerO: 137676\n",
      "amex: 0.7972839851059014\n",
      "=== FINISHED FOLD 3/10, log loss=0.2284092386696584, accuracy=0.9070644120979692, amex=0.7972839851059014 ===\n",
      "time to run this fold: 1s\n",
      "=== STARTING FOLD 4/10 (10) ===\n",
      "creating classifier\n",
      "fitting\n"
     ]
    },
    {
     "name": "stderr",
     "output_type": "stream",
     "text": [
      "/usr/local/lib/python3.8/dist-packages/sklearn/linear_model/_logistic.py:1153: UserWarning: 'n_jobs' > 1 does not have any effect when 'solver' is set to 'liblinear'. Got 'n_jobs' = 32.\n",
      "  warnings.warn(\n"
     ]
    },
    {
     "name": "stdout",
     "output_type": "stream",
     "text": [
      "predicting\n",
      "count zerO: 183567\n",
      "amex: 0.7938001793905103\n",
      "=== FINISHED FOLD 4/10, log loss=0.2330189554297664, accuracy=0.9028567693011702, amex=0.7938001793905103 ===\n",
      "time to run this fold: 1s\n",
      "=== STARTING FOLD 5/10 (10) ===\n",
      "creating classifier\n",
      "fitting\n"
     ]
    },
    {
     "name": "stderr",
     "output_type": "stream",
     "text": [
      "/usr/local/lib/python3.8/dist-packages/sklearn/linear_model/_logistic.py:1153: UserWarning: 'n_jobs' > 1 does not have any effect when 'solver' is set to 'liblinear'. Got 'n_jobs' = 32.\n",
      "  warnings.warn(\n"
     ]
    },
    {
     "name": "stdout",
     "output_type": "stream",
     "text": [
      "predicting\n",
      "count zerO: 229458\n",
      "amex: 0.7898695280103536\n",
      "=== FINISHED FOLD 5/10, log loss=0.23486056042134892, accuracy=0.903510492253383, amex=0.7898695280103536 ===\n",
      "time to run this fold: 1s\n",
      "=== STARTING FOLD 6/10 (10) ===\n",
      "creating classifier\n",
      "fitting\n"
     ]
    },
    {
     "name": "stderr",
     "output_type": "stream",
     "text": [
      "/usr/local/lib/python3.8/dist-packages/sklearn/linear_model/_logistic.py:1153: UserWarning: 'n_jobs' > 1 does not have any effect when 'solver' is set to 'liblinear'. Got 'n_jobs' = 32.\n",
      "  warnings.warn(\n"
     ]
    },
    {
     "name": "stdout",
     "output_type": "stream",
     "text": [
      "predicting\n",
      "count zerO: 275349\n",
      "amex: 0.790245128952078\n",
      "=== FINISHED FOLD 6/10, log loss=0.23622952381148218, accuracy=0.9021594648188098, amex=0.790245128952078 ===\n",
      "time to run this fold: 1s\n",
      "=== STARTING FOLD 7/10 (10) ===\n",
      "creating classifier\n",
      "fitting\n"
     ]
    },
    {
     "name": "stderr",
     "output_type": "stream",
     "text": [
      "/usr/local/lib/python3.8/dist-packages/sklearn/linear_model/_logistic.py:1153: UserWarning: 'n_jobs' > 1 does not have any effect when 'solver' is set to 'liblinear'. Got 'n_jobs' = 32.\n",
      "  warnings.warn(\n"
     ]
    },
    {
     "name": "stdout",
     "output_type": "stream",
     "text": [
      "predicting\n",
      "count zerO: 321240\n",
      "amex: 0.793552109039258\n",
      "=== FINISHED FOLD 7/10, log loss=0.23087089852467568, accuracy=0.905166590398989, amex=0.793552109039258 ===\n",
      "time to run this fold: 1s\n",
      "=== STARTING FOLD 8/10 (10) ===\n",
      "creating classifier\n",
      "fitting\n"
     ]
    },
    {
     "name": "stderr",
     "output_type": "stream",
     "text": [
      "/usr/local/lib/python3.8/dist-packages/sklearn/linear_model/_logistic.py:1153: UserWarning: 'n_jobs' > 1 does not have any effect when 'solver' is set to 'liblinear'. Got 'n_jobs' = 32.\n",
      "  warnings.warn(\n"
     ]
    },
    {
     "name": "stdout",
     "output_type": "stream",
     "text": [
      "predicting\n",
      "count zerO: 367131\n",
      "amex: 0.7972143531840452\n",
      "=== FINISHED FOLD 8/10, log loss=0.23034697578653734, accuracy=0.9064740363034146, amex=0.7972143531840452 ===\n",
      "time to run this fold: 1s\n",
      "=== STARTING FOLD 9/10 (10) ===\n",
      "creating classifier\n",
      "fitting\n"
     ]
    },
    {
     "name": "stderr",
     "output_type": "stream",
     "text": [
      "/usr/local/lib/python3.8/dist-packages/sklearn/linear_model/_logistic.py:1153: UserWarning: 'n_jobs' > 1 does not have any effect when 'solver' is set to 'liblinear'. Got 'n_jobs' = 32.\n",
      "  warnings.warn(\n"
     ]
    },
    {
     "name": "stdout",
     "output_type": "stream",
     "text": [
      "predicting\n",
      "count zerO: 413022\n",
      "amex: 0.7960797189625435\n",
      "=== FINISHED FOLD 9/10, log loss=0.23072113857325594, accuracy=0.903968098319932, amex=0.7960797189625435 ===\n",
      "time to run this fold: 1s\n",
      "=== STARTING FOLD 10/10 (10) ===\n",
      "creating classifier\n",
      "fitting\n"
     ]
    },
    {
     "name": "stderr",
     "output_type": "stream",
     "text": [
      "/usr/local/lib/python3.8/dist-packages/sklearn/linear_model/_logistic.py:1153: UserWarning: 'n_jobs' > 1 does not have any effect when 'solver' is set to 'liblinear'. Got 'n_jobs' = 32.\n",
      "  warnings.warn(\n",
      "\u001b[32m[I 2022-08-11 18:23:24,149]\u001b[0m Trial 17 finished with value: 0.7933326074912369 and parameters: {'solver': 'liblinear', 'C': 6.40001, 'fit_intercept': True, 'class_weight': None, 'penalty-liblinear': 'l1'}. Best is trial 17 with value: 0.7933326074912369.\u001b[0m\n"
     ]
    },
    {
     "name": "stdout",
     "output_type": "stream",
     "text": [
      "predicting\n",
      "count zerO: 458913\n",
      "amex: 0.7870334692546652\n",
      "=== FINISHED FOLD 10/10, log loss=0.2367488420355277, accuracy=0.9024645355298424, amex=0.7870334692546652 ===\n",
      "time to run this fold: 1s\n",
      "time to run folds: 16s\n",
      "iteration logloss: 0.2325737959076788, iteration acc: 0.9043762019523817, Iteration amex: 0.7933326074912369\n",
      "2: l1\n",
      "STARTING OPTIMIZATION iteration 19, data size: (458913, 4), params={'solver': 'liblinear', 'C': 6.00001, 'fit_intercept': False, 'class_weight': None, 'n_jobs': -1, 'verbose': 0, 'penalty': 'l1'}\n",
      "=== STARTING FOLD 1/10 (10) ===\n",
      "creating classifier\n",
      "fitting\n"
     ]
    },
    {
     "name": "stderr",
     "output_type": "stream",
     "text": [
      "/usr/local/lib/python3.8/dist-packages/optuna/distributions.py:545: UserWarning: The distribution is specified by [1e-05, 10] and q=0.1, but the range is not divisible by `q`. It will be replaced by [1e-05, 9.90001].\n",
      "  warnings.warn(\n",
      "/usr/local/lib/python3.8/dist-packages/sklearn/linear_model/_logistic.py:1153: UserWarning: 'n_jobs' > 1 does not have any effect when 'solver' is set to 'liblinear'. Got 'n_jobs' = 32.\n",
      "  warnings.warn(\n",
      "\u001b[32m[I 2022-08-11 18:23:25,210]\u001b[0m Trial 18 finished with value: 0.7638189624030549 and parameters: {'solver': 'liblinear', 'C': 6.00001, 'fit_intercept': False, 'class_weight': None, 'penalty-liblinear': 'l1'}. Best is trial 17 with value: 0.7933326074912369.\u001b[0m\n"
     ]
    },
    {
     "name": "stdout",
     "output_type": "stream",
     "text": [
      "predicting\n",
      "count zerO: 45892\n",
      "amex: 0.7638189624030549\n",
      "=== FINISHED FOLD 1/10, log loss=0.6507786366941035, accuracy=0.29848339579883204, amex=0.7638189624030549 ===\n",
      "time to run this fold: 1s\n",
      "low score on amex, dropping loop\n",
      "2: l1\n",
      "STARTING OPTIMIZATION iteration 20, data size: (458913, 4), params={'solver': 'liblinear', 'C': 3.9000100000000004, 'fit_intercept': True, 'class_weight': None, 'n_jobs': -1, 'verbose': 0, 'penalty': 'l1'}\n",
      "=== STARTING FOLD 1/10 (10) ===\n",
      "creating classifier\n",
      "fitting\n"
     ]
    },
    {
     "name": "stderr",
     "output_type": "stream",
     "text": [
      "/usr/local/lib/python3.8/dist-packages/optuna/distributions.py:545: UserWarning: The distribution is specified by [1e-05, 10] and q=0.1, but the range is not divisible by `q`. It will be replaced by [1e-05, 9.90001].\n",
      "  warnings.warn(\n",
      "/usr/local/lib/python3.8/dist-packages/sklearn/linear_model/_logistic.py:1153: UserWarning: 'n_jobs' > 1 does not have any effect when 'solver' is set to 'liblinear'. Got 'n_jobs' = 32.\n",
      "  warnings.warn(\n"
     ]
    },
    {
     "name": "stdout",
     "output_type": "stream",
     "text": [
      "predicting\n",
      "count zerO: 45892\n",
      "amex: 0.7900343564912689\n",
      "=== FINISHED FOLD 1/10, log loss=0.2346514900133176, accuracy=0.9048635927830558, amex=0.7900343564912689 ===\n",
      "time to run this fold: 2s\n",
      "=== STARTING FOLD 2/10 (10) ===\n",
      "creating classifier\n",
      "fitting\n"
     ]
    },
    {
     "name": "stderr",
     "output_type": "stream",
     "text": [
      "/usr/local/lib/python3.8/dist-packages/sklearn/linear_model/_logistic.py:1153: UserWarning: 'n_jobs' > 1 does not have any effect when 'solver' is set to 'liblinear'. Got 'n_jobs' = 32.\n",
      "  warnings.warn(\n"
     ]
    },
    {
     "name": "stdout",
     "output_type": "stream",
     "text": [
      "predicting\n",
      "count zerO: 91784\n",
      "amex: 0.7982127516166102\n",
      "=== FINISHED FOLD 2/10, log loss=0.22988287469856986, accuracy=0.9051468665562625, amex=0.7982127516166102 ===\n",
      "time to run this fold: 1s\n",
      "=== STARTING FOLD 3/10 (10) ===\n",
      "creating classifier\n",
      "fitting\n"
     ]
    },
    {
     "name": "stderr",
     "output_type": "stream",
     "text": [
      "/usr/local/lib/python3.8/dist-packages/sklearn/linear_model/_logistic.py:1153: UserWarning: 'n_jobs' > 1 does not have any effect when 'solver' is set to 'liblinear'. Got 'n_jobs' = 32.\n",
      "  warnings.warn(\n"
     ]
    },
    {
     "name": "stdout",
     "output_type": "stream",
     "text": [
      "predicting\n",
      "count zerO: 137676\n",
      "amex: 0.7973687996374634\n",
      "=== FINISHED FOLD 3/10, log loss=0.228409018313101, accuracy=0.9069772509369824, amex=0.7973687996374634 ===\n",
      "time to run this fold: 0s\n",
      "=== STARTING FOLD 4/10 (10) ===\n",
      "creating classifier\n",
      "fitting\n"
     ]
    },
    {
     "name": "stderr",
     "output_type": "stream",
     "text": [
      "/usr/local/lib/python3.8/dist-packages/sklearn/linear_model/_logistic.py:1153: UserWarning: 'n_jobs' > 1 does not have any effect when 'solver' is set to 'liblinear'. Got 'n_jobs' = 32.\n",
      "  warnings.warn(\n"
     ]
    },
    {
     "name": "stdout",
     "output_type": "stream",
     "text": [
      "predicting\n",
      "count zerO: 183567\n",
      "amex: 0.7937586978182865\n",
      "=== FINISHED FOLD 4/10, log loss=0.23301890664128158, accuracy=0.9028785600662439, amex=0.7937586978182865 ===\n",
      "time to run this fold: 1s\n",
      "=== STARTING FOLD 5/10 (10) ===\n",
      "creating classifier\n",
      "fitting\n"
     ]
    },
    {
     "name": "stderr",
     "output_type": "stream",
     "text": [
      "/usr/local/lib/python3.8/dist-packages/sklearn/linear_model/_logistic.py:1153: UserWarning: 'n_jobs' > 1 does not have any effect when 'solver' is set to 'liblinear'. Got 'n_jobs' = 32.\n",
      "  warnings.warn(\n"
     ]
    },
    {
     "name": "stdout",
     "output_type": "stream",
     "text": [
      "predicting\n",
      "count zerO: 229458\n",
      "amex: 0.789911865840518\n",
      "=== FINISHED FOLD 5/10, log loss=0.2348562449507315, accuracy=0.903510492253383, amex=0.789911865840518 ===\n",
      "time to run this fold: 1s\n",
      "=== STARTING FOLD 6/10 (10) ===\n",
      "creating classifier\n",
      "fitting\n"
     ]
    },
    {
     "name": "stderr",
     "output_type": "stream",
     "text": [
      "/usr/local/lib/python3.8/dist-packages/sklearn/linear_model/_logistic.py:1153: UserWarning: 'n_jobs' > 1 does not have any effect when 'solver' is set to 'liblinear'. Got 'n_jobs' = 32.\n",
      "  warnings.warn(\n"
     ]
    },
    {
     "name": "stdout",
     "output_type": "stream",
     "text": [
      "predicting\n",
      "count zerO: 275349\n",
      "amex: 0.7902463118101319\n",
      "=== FINISHED FOLD 6/10, log loss=0.23622993040637594, accuracy=0.9021158832886622, amex=0.7902463118101319 ===\n",
      "time to run this fold: 0s\n",
      "=== STARTING FOLD 7/10 (10) ===\n",
      "creating classifier\n",
      "fitting\n"
     ]
    },
    {
     "name": "stderr",
     "output_type": "stream",
     "text": [
      "/usr/local/lib/python3.8/dist-packages/sklearn/linear_model/_logistic.py:1153: UserWarning: 'n_jobs' > 1 does not have any effect when 'solver' is set to 'liblinear'. Got 'n_jobs' = 32.\n",
      "  warnings.warn(\n"
     ]
    },
    {
     "name": "stdout",
     "output_type": "stream",
     "text": [
      "predicting\n",
      "count zerO: 321240\n",
      "amex: 0.7935107324340127\n",
      "=== FINISHED FOLD 7/10, log loss=0.2308704411474326, accuracy=0.9051230088688413, amex=0.7935107324340127 ===\n",
      "time to run this fold: 1s\n",
      "=== STARTING FOLD 8/10 (10) ===\n",
      "creating classifier\n",
      "fitting\n"
     ]
    },
    {
     "name": "stderr",
     "output_type": "stream",
     "text": [
      "/usr/local/lib/python3.8/dist-packages/sklearn/linear_model/_logistic.py:1153: UserWarning: 'n_jobs' > 1 does not have any effect when 'solver' is set to 'liblinear'. Got 'n_jobs' = 32.\n",
      "  warnings.warn(\n"
     ]
    },
    {
     "name": "stdout",
     "output_type": "stream",
     "text": [
      "predicting\n",
      "count zerO: 367131\n",
      "amex: 0.7972144298965966\n",
      "=== FINISHED FOLD 8/10, log loss=0.23034699728976543, accuracy=0.9064740363034146, amex=0.7972144298965966 ===\n",
      "time to run this fold: 1s\n",
      "=== STARTING FOLD 9/10 (10) ===\n",
      "creating classifier\n",
      "fitting\n"
     ]
    },
    {
     "name": "stderr",
     "output_type": "stream",
     "text": [
      "/usr/local/lib/python3.8/dist-packages/sklearn/linear_model/_logistic.py:1153: UserWarning: 'n_jobs' > 1 does not have any effect when 'solver' is set to 'liblinear'. Got 'n_jobs' = 32.\n",
      "  warnings.warn(\n"
     ]
    },
    {
     "name": "stdout",
     "output_type": "stream",
     "text": [
      "predicting\n",
      "count zerO: 413022\n",
      "amex: 0.795953376855803\n",
      "=== FINISHED FOLD 9/10, log loss=0.23072215186867534, accuracy=0.903968098319932, amex=0.795953376855803 ===\n",
      "time to run this fold: 2s\n",
      "=== STARTING FOLD 10/10 (10) ===\n",
      "creating classifier\n",
      "fitting\n"
     ]
    },
    {
     "name": "stderr",
     "output_type": "stream",
     "text": [
      "/usr/local/lib/python3.8/dist-packages/sklearn/linear_model/_logistic.py:1153: UserWarning: 'n_jobs' > 1 does not have any effect when 'solver' is set to 'liblinear'. Got 'n_jobs' = 32.\n",
      "  warnings.warn(\n",
      "\u001b[32m[I 2022-08-11 18:23:39,964]\u001b[0m Trial 19 finished with value: 0.7932950146831399 and parameters: {'solver': 'liblinear', 'C': 3.9000100000000004, 'fit_intercept': True, 'class_weight': None, 'penalty-liblinear': 'l1'}. Best is trial 17 with value: 0.7933326074912369.\u001b[0m\n"
     ]
    },
    {
     "name": "stdout",
     "output_type": "stream",
     "text": [
      "predicting\n",
      "count zerO: 458913\n",
      "amex: 0.7867388244307074\n",
      "=== FINISHED FOLD 10/10, log loss=0.2367484927878223, accuracy=0.90250811705999, amex=0.7867388244307074 ===\n",
      "time to run this fold: 1s\n",
      "time to run folds: 14s\n",
      "iteration logloss: 0.23257365481170736, iteration acc: 0.9043565906436768, Iteration amex: 0.7932950146831399\n",
      "2: l2\n",
      "STARTING OPTIMIZATION iteration 21, data size: (458913, 4), params={'solver': 'liblinear', 'C': 9.600010000000001, 'fit_intercept': True, 'class_weight': None, 'n_jobs': -1, 'verbose': 0, 'penalty': 'l2'}\n",
      "=== STARTING FOLD 1/10 (10) ===\n",
      "creating classifier\n",
      "fitting\n"
     ]
    },
    {
     "name": "stderr",
     "output_type": "stream",
     "text": [
      "/usr/local/lib/python3.8/dist-packages/optuna/distributions.py:545: UserWarning: The distribution is specified by [1e-05, 10] and q=0.1, but the range is not divisible by `q`. It will be replaced by [1e-05, 9.90001].\n",
      "  warnings.warn(\n",
      "/usr/local/lib/python3.8/dist-packages/sklearn/linear_model/_logistic.py:1153: UserWarning: 'n_jobs' > 1 does not have any effect when 'solver' is set to 'liblinear'. Got 'n_jobs' = 32.\n",
      "  warnings.warn(\n"
     ]
    },
    {
     "name": "stdout",
     "output_type": "stream",
     "text": [
      "predicting\n",
      "count zerO: 45892\n",
      "amex: 0.7900769629563668\n",
      "=== FINISHED FOLD 1/10, log loss=0.23464958512819895, accuracy=0.9048853830733026, amex=0.7900769629563668 ===\n",
      "time to run this fold: 0s\n",
      "=== STARTING FOLD 2/10 (10) ===\n",
      "creating classifier\n",
      "fitting\n"
     ]
    },
    {
     "name": "stderr",
     "output_type": "stream",
     "text": [
      "/usr/local/lib/python3.8/dist-packages/sklearn/linear_model/_logistic.py:1153: UserWarning: 'n_jobs' > 1 does not have any effect when 'solver' is set to 'liblinear'. Got 'n_jobs' = 32.\n",
      "  warnings.warn(\n"
     ]
    },
    {
     "name": "stdout",
     "output_type": "stream",
     "text": [
      "predicting\n",
      "count zerO: 91784\n",
      "amex: 0.7982554174703241\n",
      "=== FINISHED FOLD 2/10, log loss=0.22987908578110083, accuracy=0.9051468665562625, amex=0.7982554174703241 ===\n",
      "time to run this fold: 0s\n",
      "=== STARTING FOLD 3/10 (10) ===\n",
      "creating classifier\n",
      "fitting\n"
     ]
    },
    {
     "name": "stderr",
     "output_type": "stream",
     "text": [
      "/usr/local/lib/python3.8/dist-packages/sklearn/linear_model/_logistic.py:1153: UserWarning: 'n_jobs' > 1 does not have any effect when 'solver' is set to 'liblinear'. Got 'n_jobs' = 32.\n",
      "  warnings.warn(\n"
     ]
    },
    {
     "name": "stdout",
     "output_type": "stream",
     "text": [
      "predicting\n",
      "count zerO: 137676\n",
      "amex: 0.7972421779125962\n",
      "=== FINISHED FOLD 3/10, log loss=0.22840968289791097, accuracy=0.9070426218077224, amex=0.7972421779125962 ===\n",
      "time to run this fold: 0s\n",
      "=== STARTING FOLD 4/10 (10) ===\n",
      "creating classifier\n",
      "fitting\n"
     ]
    },
    {
     "name": "stderr",
     "output_type": "stream",
     "text": [
      "/usr/local/lib/python3.8/dist-packages/sklearn/linear_model/_logistic.py:1153: UserWarning: 'n_jobs' > 1 does not have any effect when 'solver' is set to 'liblinear'. Got 'n_jobs' = 32.\n",
      "  warnings.warn(\n"
     ]
    },
    {
     "name": "stdout",
     "output_type": "stream",
     "text": [
      "predicting\n",
      "count zerO: 183567\n",
      "amex: 0.7937172607912735\n",
      "=== FINISHED FOLD 4/10, log loss=0.2330160123795422, accuracy=0.9028785600662439, amex=0.7937172607912735 ===\n",
      "time to run this fold: 0s\n",
      "=== STARTING FOLD 5/10 (10) ===\n",
      "creating classifier\n",
      "fitting\n"
     ]
    },
    {
     "name": "stderr",
     "output_type": "stream",
     "text": [
      "/usr/local/lib/python3.8/dist-packages/sklearn/linear_model/_logistic.py:1153: UserWarning: 'n_jobs' > 1 does not have any effect when 'solver' is set to 'liblinear'. Got 'n_jobs' = 32.\n",
      "  warnings.warn(\n"
     ]
    },
    {
     "name": "stdout",
     "output_type": "stream",
     "text": [
      "predicting\n",
      "count zerO: 229458\n",
      "amex: 0.789911608468189\n",
      "=== FINISHED FOLD 5/10, log loss=0.23485848658330305, accuracy=0.9034887014883093, amex=0.789911608468189 ===\n",
      "time to run this fold: 0s\n",
      "=== STARTING FOLD 6/10 (10) ===\n",
      "creating classifier\n",
      "fitting\n"
     ]
    },
    {
     "name": "stderr",
     "output_type": "stream",
     "text": [
      "/usr/local/lib/python3.8/dist-packages/sklearn/linear_model/_logistic.py:1153: UserWarning: 'n_jobs' > 1 does not have any effect when 'solver' is set to 'liblinear'. Got 'n_jobs' = 32.\n",
      "  warnings.warn(\n"
     ]
    },
    {
     "name": "stdout",
     "output_type": "stream",
     "text": [
      "predicting\n",
      "count zerO: 275349\n",
      "amex: 0.7902041284857954\n",
      "=== FINISHED FOLD 6/10, log loss=0.23622815845960238, accuracy=0.9021158832886622, amex=0.7902041284857954 ===\n",
      "time to run this fold: 0s\n",
      "=== STARTING FOLD 7/10 (10) ===\n",
      "creating classifier\n",
      "fitting\n"
     ]
    },
    {
     "name": "stderr",
     "output_type": "stream",
     "text": [
      "/usr/local/lib/python3.8/dist-packages/sklearn/linear_model/_logistic.py:1153: UserWarning: 'n_jobs' > 1 does not have any effect when 'solver' is set to 'liblinear'. Got 'n_jobs' = 32.\n",
      "  warnings.warn(\n"
     ]
    },
    {
     "name": "stdout",
     "output_type": "stream",
     "text": [
      "predicting\n",
      "count zerO: 321240\n",
      "amex: 0.793467482557749\n",
      "=== FINISHED FOLD 7/10, log loss=0.2308729065999984, accuracy=0.9051012181037676, amex=0.793467482557749 ===\n",
      "time to run this fold: 0s\n",
      "=== STARTING FOLD 8/10 (10) ===\n",
      "creating classifier\n",
      "fitting\n"
     ]
    },
    {
     "name": "stderr",
     "output_type": "stream",
     "text": [
      "/usr/local/lib/python3.8/dist-packages/sklearn/linear_model/_logistic.py:1153: UserWarning: 'n_jobs' > 1 does not have any effect when 'solver' is set to 'liblinear'. Got 'n_jobs' = 32.\n",
      "  warnings.warn(\n"
     ]
    },
    {
     "name": "stdout",
     "output_type": "stream",
     "text": [
      "predicting\n",
      "count zerO: 367131\n",
      "amex: 0.7972562519295612\n",
      "=== FINISHED FOLD 8/10, log loss=0.23034627905888502, accuracy=0.9064958270684884, amex=0.7972562519295612 ===\n",
      "time to run this fold: 0s\n",
      "=== STARTING FOLD 9/10 (10) ===\n",
      "creating classifier\n",
      "fitting\n"
     ]
    },
    {
     "name": "stderr",
     "output_type": "stream",
     "text": [
      "/usr/local/lib/python3.8/dist-packages/sklearn/linear_model/_logistic.py:1153: UserWarning: 'n_jobs' > 1 does not have any effect when 'solver' is set to 'liblinear'. Got 'n_jobs' = 32.\n",
      "  warnings.warn(\n"
     ]
    },
    {
     "name": "stdout",
     "output_type": "stream",
     "text": [
      "predicting\n",
      "count zerO: 413022\n",
      "amex: 0.7960376667919242\n",
      "=== FINISHED FOLD 9/10, log loss=0.23072193848365133, accuracy=0.9039463075548583, amex=0.7960376667919242 ===\n",
      "time to run this fold: 0s\n",
      "=== STARTING FOLD 10/10 (10) ===\n",
      "creating classifier\n",
      "fitting\n"
     ]
    },
    {
     "name": "stderr",
     "output_type": "stream",
     "text": [
      "/usr/local/lib/python3.8/dist-packages/sklearn/linear_model/_logistic.py:1153: UserWarning: 'n_jobs' > 1 does not have any effect when 'solver' is set to 'liblinear'. Got 'n_jobs' = 32.\n",
      "  warnings.warn(\n",
      "\u001b[32m[I 2022-08-11 18:23:42,806]\u001b[0m Trial 20 finished with value: 0.7933033777457446 and parameters: {'solver': 'liblinear', 'C': 9.600010000000001, 'fit_intercept': True, 'class_weight': None, 'penalty-liblinear': 'l2'}. Best is trial 17 with value: 0.7933326074912369.\u001b[0m\n"
     ]
    },
    {
     "name": "stdout",
     "output_type": "stream",
     "text": [
      "predicting\n",
      "count zerO: 458913\n",
      "amex: 0.7868648200936663\n",
      "=== FINISHED FOLD 10/10, log loss=0.23674857215088424, accuracy=0.9024863262949162, amex=0.7868648200936663 ===\n",
      "time to run this fold: 0s\n",
      "time to run folds: 2s\n",
      "iteration logloss: 0.23257307075230776, iteration acc: 0.9043587695302533, Iteration amex: 0.7933033777457446\n",
      "2: l1\n",
      "STARTING OPTIMIZATION iteration 22, data size: (458913, 4), params={'solver': 'liblinear', 'C': 6.70001, 'fit_intercept': True, 'class_weight': None, 'n_jobs': -1, 'verbose': 0, 'penalty': 'l1'}\n",
      "=== STARTING FOLD 1/10 (10) ===\n",
      "creating classifier\n",
      "fitting\n"
     ]
    },
    {
     "name": "stderr",
     "output_type": "stream",
     "text": [
      "/usr/local/lib/python3.8/dist-packages/optuna/distributions.py:545: UserWarning: The distribution is specified by [1e-05, 10] and q=0.1, but the range is not divisible by `q`. It will be replaced by [1e-05, 9.90001].\n",
      "  warnings.warn(\n",
      "/usr/local/lib/python3.8/dist-packages/sklearn/linear_model/_logistic.py:1153: UserWarning: 'n_jobs' > 1 does not have any effect when 'solver' is set to 'liblinear'. Got 'n_jobs' = 32.\n",
      "  warnings.warn(\n"
     ]
    },
    {
     "name": "stdout",
     "output_type": "stream",
     "text": [
      "predicting\n",
      "count zerO: 45892\n",
      "amex: 0.7900350295622522\n",
      "=== FINISHED FOLD 1/10, log loss=0.23464818720832165, accuracy=0.9049071733635492, amex=0.7900350295622522 ===\n",
      "time to run this fold: 1s\n",
      "=== STARTING FOLD 2/10 (10) ===\n",
      "creating classifier\n",
      "fitting\n"
     ]
    },
    {
     "name": "stderr",
     "output_type": "stream",
     "text": [
      "/usr/local/lib/python3.8/dist-packages/sklearn/linear_model/_logistic.py:1153: UserWarning: 'n_jobs' > 1 does not have any effect when 'solver' is set to 'liblinear'. Got 'n_jobs' = 32.\n",
      "  warnings.warn(\n"
     ]
    },
    {
     "name": "stdout",
     "output_type": "stream",
     "text": [
      "predicting\n",
      "count zerO: 91784\n",
      "amex: 0.7982124596225806\n",
      "=== FINISHED FOLD 2/10, log loss=0.22988336850900012, accuracy=0.9051468665562625, amex=0.7982124596225806 ===\n",
      "time to run this fold: 1s\n",
      "=== STARTING FOLD 3/10 (10) ===\n",
      "creating classifier\n",
      "fitting\n"
     ]
    },
    {
     "name": "stderr",
     "output_type": "stream",
     "text": [
      "/usr/local/lib/python3.8/dist-packages/sklearn/linear_model/_logistic.py:1153: UserWarning: 'n_jobs' > 1 does not have any effect when 'solver' is set to 'liblinear'. Got 'n_jobs' = 32.\n",
      "  warnings.warn(\n"
     ]
    },
    {
     "name": "stdout",
     "output_type": "stream",
     "text": [
      "predicting\n",
      "count zerO: 137676\n",
      "amex: 0.7971584521723307\n",
      "=== FINISHED FOLD 3/10, log loss=0.22840960467276292, accuracy=0.9070208315174758, amex=0.7971584521723307 ===\n",
      "time to run this fold: 1s\n",
      "=== STARTING FOLD 4/10 (10) ===\n",
      "creating classifier\n",
      "fitting\n"
     ]
    },
    {
     "name": "stderr",
     "output_type": "stream",
     "text": [
      "/usr/local/lib/python3.8/dist-packages/sklearn/linear_model/_logistic.py:1153: UserWarning: 'n_jobs' > 1 does not have any effect when 'solver' is set to 'liblinear'. Got 'n_jobs' = 32.\n",
      "  warnings.warn(\n"
     ]
    },
    {
     "name": "stdout",
     "output_type": "stream",
     "text": [
      "predicting\n",
      "count zerO: 183567\n",
      "amex: 0.7938001571179049\n",
      "=== FINISHED FOLD 4/10, log loss=0.23301891864189594, accuracy=0.9028567693011702, amex=0.7938001571179049 ===\n",
      "time to run this fold: 1s\n",
      "=== STARTING FOLD 5/10 (10) ===\n",
      "creating classifier\n",
      "fitting\n"
     ]
    },
    {
     "name": "stderr",
     "output_type": "stream",
     "text": [
      "/usr/local/lib/python3.8/dist-packages/sklearn/linear_model/_logistic.py:1153: UserWarning: 'n_jobs' > 1 does not have any effect when 'solver' is set to 'liblinear'. Got 'n_jobs' = 32.\n",
      "  warnings.warn(\n"
     ]
    },
    {
     "name": "stdout",
     "output_type": "stream",
     "text": [
      "predicting\n",
      "count zerO: 229458\n",
      "amex: 0.7898699264425164\n",
      "=== FINISHED FOLD 5/10, log loss=0.23485567896957008, accuracy=0.903510492253383, amex=0.7898699264425164 ===\n",
      "time to run this fold: 1s\n",
      "=== STARTING FOLD 6/10 (10) ===\n",
      "creating classifier\n",
      "fitting\n"
     ]
    },
    {
     "name": "stderr",
     "output_type": "stream",
     "text": [
      "/usr/local/lib/python3.8/dist-packages/sklearn/linear_model/_logistic.py:1153: UserWarning: 'n_jobs' > 1 does not have any effect when 'solver' is set to 'liblinear'. Got 'n_jobs' = 32.\n",
      "  warnings.warn(\n"
     ]
    },
    {
     "name": "stdout",
     "output_type": "stream",
     "text": [
      "predicting\n",
      "count zerO: 275349\n",
      "amex: 0.7901631997828675\n",
      "=== FINISHED FOLD 6/10, log loss=0.23622460906699544, accuracy=0.902137674053736, amex=0.7901631997828675 ===\n",
      "time to run this fold: 1s\n",
      "=== STARTING FOLD 7/10 (10) ===\n",
      "creating classifier\n",
      "fitting\n"
     ]
    },
    {
     "name": "stderr",
     "output_type": "stream",
     "text": [
      "/usr/local/lib/python3.8/dist-packages/sklearn/linear_model/_logistic.py:1153: UserWarning: 'n_jobs' > 1 does not have any effect when 'solver' is set to 'liblinear'. Got 'n_jobs' = 32.\n",
      "  warnings.warn(\n"
     ]
    },
    {
     "name": "stdout",
     "output_type": "stream",
     "text": [
      "predicting\n",
      "count zerO: 321240\n",
      "amex: 0.7935105889073033\n",
      "=== FINISHED FOLD 7/10, log loss=0.23087020236299546, accuracy=0.9051230088688413, amex=0.7935105889073033 ===\n",
      "time to run this fold: 1s\n",
      "=== STARTING FOLD 8/10 (10) ===\n",
      "creating classifier\n",
      "fitting\n"
     ]
    },
    {
     "name": "stderr",
     "output_type": "stream",
     "text": [
      "/usr/local/lib/python3.8/dist-packages/sklearn/linear_model/_logistic.py:1153: UserWarning: 'n_jobs' > 1 does not have any effect when 'solver' is set to 'liblinear'. Got 'n_jobs' = 32.\n",
      "  warnings.warn(\n"
     ]
    },
    {
     "name": "stdout",
     "output_type": "stream",
     "text": [
      "predicting\n",
      "count zerO: 367131\n",
      "amex: 0.7972143952522186\n",
      "=== FINISHED FOLD 8/10, log loss=0.23034699859656502, accuracy=0.9064740363034146, amex=0.7972143952522186 ===\n",
      "time to run this fold: 1s\n",
      "=== STARTING FOLD 9/10 (10) ===\n",
      "creating classifier\n",
      "fitting\n"
     ]
    },
    {
     "name": "stderr",
     "output_type": "stream",
     "text": [
      "/usr/local/lib/python3.8/dist-packages/sklearn/linear_model/_logistic.py:1153: UserWarning: 'n_jobs' > 1 does not have any effect when 'solver' is set to 'liblinear'. Got 'n_jobs' = 32.\n",
      "  warnings.warn(\n"
     ]
    },
    {
     "name": "stdout",
     "output_type": "stream",
     "text": [
      "predicting\n",
      "count zerO: 413022\n",
      "amex: 0.7959534312969687\n",
      "=== FINISHED FOLD 9/10, log loss=0.2307219977068213, accuracy=0.903968098319932, amex=0.7959534312969687 ===\n",
      "time to run this fold: 1s\n",
      "=== STARTING FOLD 10/10 (10) ===\n",
      "creating classifier\n",
      "fitting\n"
     ]
    },
    {
     "name": "stderr",
     "output_type": "stream",
     "text": [
      "/usr/local/lib/python3.8/dist-packages/sklearn/linear_model/_logistic.py:1153: UserWarning: 'n_jobs' > 1 does not have any effect when 'solver' is set to 'liblinear'. Got 'n_jobs' = 32.\n",
      "  warnings.warn(\n",
      "\u001b[32m[I 2022-08-11 18:23:58,887]\u001b[0m Trial 21 finished with value: 0.793269872214994 and parameters: {'solver': 'liblinear', 'C': 6.70001, 'fit_intercept': True, 'class_weight': None, 'penalty-liblinear': 'l1'}. Best is trial 17 with value: 0.7933326074912369.\u001b[0m\n"
     ]
    },
    {
     "name": "stdout",
     "output_type": "stream",
     "text": [
      "predicting\n",
      "count zerO: 458913\n",
      "amex: 0.786781081992997\n",
      "=== FINISHED FOLD 10/10, log loss=0.23674877399557245, accuracy=0.90250811705999, amex=0.786781081992997 ===\n",
      "time to run this fold: 1s\n",
      "time to run folds: 16s\n",
      "iteration logloss: 0.23257283397305004, iteration acc: 0.9043653067597754, Iteration amex: 0.793269872214994\n",
      "2: l1\n",
      "STARTING OPTIMIZATION iteration 23, data size: (458913, 4), params={'solver': 'liblinear', 'C': 6.30001, 'fit_intercept': True, 'class_weight': None, 'n_jobs': -1, 'verbose': 0, 'penalty': 'l1'}\n",
      "=== STARTING FOLD 1/10 (10) ===\n",
      "creating classifier\n",
      "fitting\n"
     ]
    },
    {
     "name": "stderr",
     "output_type": "stream",
     "text": [
      "/usr/local/lib/python3.8/dist-packages/optuna/distributions.py:545: UserWarning: The distribution is specified by [1e-05, 10] and q=0.1, but the range is not divisible by `q`. It will be replaced by [1e-05, 9.90001].\n",
      "  warnings.warn(\n",
      "/usr/local/lib/python3.8/dist-packages/sklearn/linear_model/_logistic.py:1153: UserWarning: 'n_jobs' > 1 does not have any effect when 'solver' is set to 'liblinear'. Got 'n_jobs' = 32.\n",
      "  warnings.warn(\n"
     ]
    },
    {
     "name": "stdout",
     "output_type": "stream",
     "text": [
      "predicting\n",
      "count zerO: 45892\n",
      "amex: 0.7900352374224089\n",
      "=== FINISHED FOLD 1/10, log loss=0.2346480144224724, accuracy=0.9049507539440426, amex=0.7900352374224089 ===\n",
      "time to run this fold: 1s\n",
      "=== STARTING FOLD 2/10 (10) ===\n",
      "creating classifier\n",
      "fitting\n"
     ]
    },
    {
     "name": "stderr",
     "output_type": "stream",
     "text": [
      "/usr/local/lib/python3.8/dist-packages/sklearn/linear_model/_logistic.py:1153: UserWarning: 'n_jobs' > 1 does not have any effect when 'solver' is set to 'liblinear'. Got 'n_jobs' = 32.\n",
      "  warnings.warn(\n"
     ]
    },
    {
     "name": "stdout",
     "output_type": "stream",
     "text": [
      "predicting\n",
      "count zerO: 91784\n",
      "amex: 0.7982569912686526\n",
      "=== FINISHED FOLD 2/10, log loss=0.22987477538430384, accuracy=0.9051904471367559, amex=0.7982569912686526 ===\n",
      "time to run this fold: 1s\n",
      "=== STARTING FOLD 3/10 (10) ===\n",
      "creating classifier\n",
      "fitting\n"
     ]
    },
    {
     "name": "stderr",
     "output_type": "stream",
     "text": [
      "/usr/local/lib/python3.8/dist-packages/sklearn/linear_model/_logistic.py:1153: UserWarning: 'n_jobs' > 1 does not have any effect when 'solver' is set to 'liblinear'. Got 'n_jobs' = 32.\n",
      "  warnings.warn(\n"
     ]
    },
    {
     "name": "stdout",
     "output_type": "stream",
     "text": [
      "predicting\n",
      "count zerO: 137676\n",
      "amex: 0.7971584818666387\n",
      "=== FINISHED FOLD 3/10, log loss=0.228409371171288, accuracy=0.9070208315174758, amex=0.7971584818666387 ===\n",
      "time to run this fold: 1s\n",
      "=== STARTING FOLD 4/10 (10) ===\n",
      "creating classifier\n",
      "fitting\n"
     ]
    },
    {
     "name": "stderr",
     "output_type": "stream",
     "text": [
      "/usr/local/lib/python3.8/dist-packages/sklearn/linear_model/_logistic.py:1153: UserWarning: 'n_jobs' > 1 does not have any effect when 'solver' is set to 'liblinear'. Got 'n_jobs' = 32.\n",
      "  warnings.warn(\n"
     ]
    },
    {
     "name": "stdout",
     "output_type": "stream",
     "text": [
      "predicting\n",
      "count zerO: 183567\n",
      "amex: 0.7938000729769513\n",
      "=== FINISHED FOLD 4/10, log loss=0.23301892233341095, accuracy=0.9028567693011702, amex=0.7938000729769513 ===\n",
      "time to run this fold: 1s\n",
      "=== STARTING FOLD 5/10 (10) ===\n",
      "creating classifier\n",
      "fitting\n"
     ]
    },
    {
     "name": "stderr",
     "output_type": "stream",
     "text": [
      "/usr/local/lib/python3.8/dist-packages/sklearn/linear_model/_logistic.py:1153: UserWarning: 'n_jobs' > 1 does not have any effect when 'solver' is set to 'liblinear'. Got 'n_jobs' = 32.\n",
      "  warnings.warn(\n"
     ]
    },
    {
     "name": "stdout",
     "output_type": "stream",
     "text": [
      "predicting\n",
      "count zerO: 229458\n",
      "amex: 0.7899118113963715\n",
      "=== FINISHED FOLD 5/10, log loss=0.23485641243034605, accuracy=0.903510492253383, amex=0.7899118113963715 ===\n",
      "time to run this fold: 1s\n",
      "=== STARTING FOLD 6/10 (10) ===\n",
      "creating classifier\n",
      "fitting\n"
     ]
    },
    {
     "name": "stderr",
     "output_type": "stream",
     "text": [
      "/usr/local/lib/python3.8/dist-packages/sklearn/linear_model/_logistic.py:1153: UserWarning: 'n_jobs' > 1 does not have any effect when 'solver' is set to 'liblinear'. Got 'n_jobs' = 32.\n",
      "  warnings.warn(\n"
     ]
    },
    {
     "name": "stdout",
     "output_type": "stream",
     "text": [
      "predicting\n",
      "count zerO: 275349\n",
      "amex: 0.7902450250189437\n",
      "=== FINISHED FOLD 6/10, log loss=0.2362308320734021, accuracy=0.9021158832886622, amex=0.7902450250189437 ===\n",
      "time to run this fold: 1s\n",
      "=== STARTING FOLD 7/10 (10) ===\n",
      "creating classifier\n",
      "fitting\n"
     ]
    },
    {
     "name": "stderr",
     "output_type": "stream",
     "text": [
      "/usr/local/lib/python3.8/dist-packages/sklearn/linear_model/_logistic.py:1153: UserWarning: 'n_jobs' > 1 does not have any effect when 'solver' is set to 'liblinear'. Got 'n_jobs' = 32.\n",
      "  warnings.warn(\n"
     ]
    },
    {
     "name": "stdout",
     "output_type": "stream",
     "text": [
      "predicting\n",
      "count zerO: 321240\n",
      "amex: 0.7935527524348521\n",
      "=== FINISHED FOLD 7/10, log loss=0.23087048248442812, accuracy=0.9051230088688413, amex=0.7935527524348521 ===\n",
      "time to run this fold: 1s\n",
      "=== STARTING FOLD 8/10 (10) ===\n",
      "creating classifier\n",
      "fitting\n"
     ]
    },
    {
     "name": "stderr",
     "output_type": "stream",
     "text": [
      "/usr/local/lib/python3.8/dist-packages/sklearn/linear_model/_logistic.py:1153: UserWarning: 'n_jobs' > 1 does not have any effect when 'solver' is set to 'liblinear'. Got 'n_jobs' = 32.\n",
      "  warnings.warn(\n"
     ]
    },
    {
     "name": "stdout",
     "output_type": "stream",
     "text": [
      "predicting\n",
      "count zerO: 367131\n",
      "amex: 0.7971721277915351\n",
      "=== FINISHED FOLD 8/10, log loss=0.23034481179228927, accuracy=0.9065176178335621, amex=0.7971721277915351 ===\n",
      "time to run this fold: 1s\n",
      "=== STARTING FOLD 9/10 (10) ===\n",
      "creating classifier\n",
      "fitting\n"
     ]
    },
    {
     "name": "stderr",
     "output_type": "stream",
     "text": [
      "/usr/local/lib/python3.8/dist-packages/sklearn/linear_model/_logistic.py:1153: UserWarning: 'n_jobs' > 1 does not have any effect when 'solver' is set to 'liblinear'. Got 'n_jobs' = 32.\n",
      "  warnings.warn(\n"
     ]
    },
    {
     "name": "stdout",
     "output_type": "stream",
     "text": [
      "predicting\n",
      "count zerO: 413022\n",
      "amex: 0.7959533446860233\n",
      "=== FINISHED FOLD 9/10, log loss=0.23072219480961856, accuracy=0.903968098319932, amex=0.7959533446860233 ===\n",
      "time to run this fold: 1s\n",
      "=== STARTING FOLD 10/10 (10) ===\n",
      "creating classifier\n",
      "fitting\n"
     ]
    },
    {
     "name": "stderr",
     "output_type": "stream",
     "text": [
      "/usr/local/lib/python3.8/dist-packages/sklearn/linear_model/_logistic.py:1153: UserWarning: 'n_jobs' > 1 does not have any effect when 'solver' is set to 'liblinear'. Got 'n_jobs' = 32.\n",
      "  warnings.warn(\n",
      "\u001b[32m[I 2022-08-11 18:24:14,527]\u001b[0m Trial 22 finished with value: 0.7932866788277863 and parameters: {'solver': 'liblinear', 'C': 6.30001, 'fit_intercept': True, 'class_weight': None, 'penalty-liblinear': 'l1'}. Best is trial 17 with value: 0.7933326074912369.\u001b[0m\n"
     ]
    },
    {
     "name": "stdout",
     "output_type": "stream",
     "text": [
      "predicting\n",
      "count zerO: 458913\n",
      "amex: 0.7867809434154844\n",
      "=== FINISHED FOLD 10/10, log loss=0.23674837466652413, accuracy=0.90250811705999, amex=0.7867809434154844 ===\n",
      "time to run this fold: 1s\n",
      "time to run folds: 15s\n",
      "iteration logloss: 0.23257241915680832, iteration acc: 0.9043762019523814, Iteration amex: 0.7932866788277863\n",
      "2: l1\n",
      "STARTING OPTIMIZATION iteration 24, data size: (458913, 4), params={'solver': 'liblinear', 'C': 5.10001, 'fit_intercept': True, 'class_weight': None, 'n_jobs': -1, 'verbose': 0, 'penalty': 'l1'}\n",
      "=== STARTING FOLD 1/10 (10) ===\n",
      "creating classifier\n",
      "fitting\n"
     ]
    },
    {
     "name": "stderr",
     "output_type": "stream",
     "text": [
      "/usr/local/lib/python3.8/dist-packages/optuna/distributions.py:545: UserWarning: The distribution is specified by [1e-05, 10] and q=0.1, but the range is not divisible by `q`. It will be replaced by [1e-05, 9.90001].\n",
      "  warnings.warn(\n",
      "/usr/local/lib/python3.8/dist-packages/sklearn/linear_model/_logistic.py:1153: UserWarning: 'n_jobs' > 1 does not have any effect when 'solver' is set to 'liblinear'. Got 'n_jobs' = 32.\n",
      "  warnings.warn(\n"
     ]
    },
    {
     "name": "stdout",
     "output_type": "stream",
     "text": [
      "predicting\n",
      "count zerO: 45892\n",
      "amex: 0.7900353364034358\n",
      "=== FINISHED FOLD 1/10, log loss=0.23464793778944987, accuracy=0.9049289636537958, amex=0.7900353364034358 ===\n",
      "time to run this fold: 1s\n",
      "=== STARTING FOLD 2/10 (10) ===\n",
      "creating classifier\n",
      "fitting\n"
     ]
    },
    {
     "name": "stderr",
     "output_type": "stream",
     "text": [
      "/usr/local/lib/python3.8/dist-packages/sklearn/linear_model/_logistic.py:1153: UserWarning: 'n_jobs' > 1 does not have any effect when 'solver' is set to 'liblinear'. Got 'n_jobs' = 32.\n",
      "  warnings.warn(\n"
     ]
    },
    {
     "name": "stdout",
     "output_type": "stream",
     "text": [
      "predicting\n",
      "count zerO: 91784\n",
      "amex: 0.7982569615743447\n",
      "=== FINISHED FOLD 2/10, log loss=0.22987469335650157, accuracy=0.9051904471367559, amex=0.7982569615743447 ===\n",
      "time to run this fold: 1s\n",
      "=== STARTING FOLD 3/10 (10) ===\n",
      "creating classifier\n",
      "fitting\n"
     ]
    },
    {
     "name": "stderr",
     "output_type": "stream",
     "text": [
      "/usr/local/lib/python3.8/dist-packages/sklearn/linear_model/_logistic.py:1153: UserWarning: 'n_jobs' > 1 does not have any effect when 'solver' is set to 'liblinear'. Got 'n_jobs' = 32.\n",
      "  warnings.warn(\n"
     ]
    },
    {
     "name": "stdout",
     "output_type": "stream",
     "text": [
      "predicting\n",
      "count zerO: 137676\n",
      "amex: 0.7971584397997025\n",
      "=== FINISHED FOLD 3/10, log loss=0.22840942920507398, accuracy=0.9070208315174758, amex=0.7971584397997025 ===\n",
      "time to run this fold: 1s\n",
      "=== STARTING FOLD 4/10 (10) ===\n",
      "creating classifier\n",
      "fitting\n"
     ]
    },
    {
     "name": "stderr",
     "output_type": "stream",
     "text": [
      "/usr/local/lib/python3.8/dist-packages/sklearn/linear_model/_logistic.py:1153: UserWarning: 'n_jobs' > 1 does not have any effect when 'solver' is set to 'liblinear'. Got 'n_jobs' = 32.\n",
      "  warnings.warn(\n"
     ]
    },
    {
     "name": "stdout",
     "output_type": "stream",
     "text": [
      "predicting\n",
      "count zerO: 183567\n",
      "amex: 0.7936758311884624\n",
      "=== FINISHED FOLD 4/10, log loss=0.2330125946359207, accuracy=0.9028785600662439, amex=0.7936758311884624 ===\n",
      "time to run this fold: 2s\n",
      "=== STARTING FOLD 5/10 (10) ===\n",
      "creating classifier\n",
      "fitting\n"
     ]
    },
    {
     "name": "stderr",
     "output_type": "stream",
     "text": [
      "/usr/local/lib/python3.8/dist-packages/sklearn/linear_model/_logistic.py:1153: UserWarning: 'n_jobs' > 1 does not have any effect when 'solver' is set to 'liblinear'. Got 'n_jobs' = 32.\n",
      "  warnings.warn(\n"
     ]
    },
    {
     "name": "stdout",
     "output_type": "stream",
     "text": [
      "predicting\n",
      "count zerO: 229458\n",
      "amex: 0.7899118163458392\n",
      "=== FINISHED FOLD 5/10, log loss=0.23485612914157122, accuracy=0.903510492253383, amex=0.7899118163458392 ===\n",
      "time to run this fold: 1s\n",
      "=== STARTING FOLD 6/10 (10) ===\n",
      "creating classifier\n",
      "fitting\n"
     ]
    },
    {
     "name": "stderr",
     "output_type": "stream",
     "text": [
      "/usr/local/lib/python3.8/dist-packages/sklearn/linear_model/_logistic.py:1153: UserWarning: 'n_jobs' > 1 does not have any effect when 'solver' is set to 'liblinear'. Got 'n_jobs' = 32.\n",
      "  warnings.warn(\n"
     ]
    },
    {
     "name": "stdout",
     "output_type": "stream",
     "text": [
      "predicting\n",
      "count zerO: 275349\n",
      "amex: 0.7902451561726609\n",
      "=== FINISHED FOLD 6/10, log loss=0.23622950359407546, accuracy=0.9021594648188098, amex=0.7902451561726609 ===\n",
      "time to run this fold: 2s\n",
      "=== STARTING FOLD 7/10 (10) ===\n",
      "creating classifier\n",
      "fitting\n"
     ]
    },
    {
     "name": "stderr",
     "output_type": "stream",
     "text": [
      "/usr/local/lib/python3.8/dist-packages/sklearn/linear_model/_logistic.py:1153: UserWarning: 'n_jobs' > 1 does not have any effect when 'solver' is set to 'liblinear'. Got 'n_jobs' = 32.\n",
      "  warnings.warn(\n"
     ]
    },
    {
     "name": "stdout",
     "output_type": "stream",
     "text": [
      "predicting\n",
      "count zerO: 321240\n",
      "amex: 0.7935526113827411\n",
      "=== FINISHED FOLD 7/10, log loss=0.23087043133029914, accuracy=0.9051230088688413, amex=0.7935526113827411 ===\n",
      "time to run this fold: 1s\n",
      "=== STARTING FOLD 8/10 (10) ===\n",
      "creating classifier\n",
      "fitting\n"
     ]
    },
    {
     "name": "stderr",
     "output_type": "stream",
     "text": [
      "/usr/local/lib/python3.8/dist-packages/sklearn/linear_model/_logistic.py:1153: UserWarning: 'n_jobs' > 1 does not have any effect when 'solver' is set to 'liblinear'. Got 'n_jobs' = 32.\n",
      "  warnings.warn(\n"
     ]
    },
    {
     "name": "stdout",
     "output_type": "stream",
     "text": [
      "predicting\n",
      "count zerO: 367131\n",
      "amex: 0.7971721005709524\n",
      "=== FINISHED FOLD 8/10, log loss=0.23034509729507324, accuracy=0.9065176178335621, amex=0.7971721005709524 ===\n",
      "time to run this fold: 2s\n",
      "=== STARTING FOLD 9/10 (10) ===\n",
      "creating classifier\n",
      "fitting\n"
     ]
    },
    {
     "name": "stderr",
     "output_type": "stream",
     "text": [
      "/usr/local/lib/python3.8/dist-packages/sklearn/linear_model/_logistic.py:1153: UserWarning: 'n_jobs' > 1 does not have any effect when 'solver' is set to 'liblinear'. Got 'n_jobs' = 32.\n",
      "  warnings.warn(\n"
     ]
    },
    {
     "name": "stdout",
     "output_type": "stream",
     "text": [
      "predicting\n",
      "count zerO: 413022\n",
      "amex: 0.7960380726260683\n",
      "=== FINISHED FOLD 9/10, log loss=0.23071999558001186, accuracy=0.9039898890850058, amex=0.7960380726260683 ===\n",
      "time to run this fold: 0s\n",
      "=== STARTING FOLD 10/10 (10) ===\n",
      "creating classifier\n",
      "fitting\n"
     ]
    },
    {
     "name": "stderr",
     "output_type": "stream",
     "text": [
      "/usr/local/lib/python3.8/dist-packages/sklearn/linear_model/_logistic.py:1153: UserWarning: 'n_jobs' > 1 does not have any effect when 'solver' is set to 'liblinear'. Got 'n_jobs' = 32.\n",
      "  warnings.warn(\n",
      "\u001b[32m[I 2022-08-11 18:24:32,233]\u001b[0m Trial 23 finished with value: 0.7932827328870053 and parameters: {'solver': 'liblinear', 'C': 5.10001, 'fit_intercept': True, 'class_weight': None, 'penalty-liblinear': 'l1'}. Best is trial 17 with value: 0.7933326074912369.\u001b[0m\n"
     ]
    },
    {
     "name": "stdout",
     "output_type": "stream",
     "text": [
      "predicting\n",
      "count zerO: 458913\n",
      "amex: 0.786781002805847\n",
      "=== FINISHED FOLD 10/10, log loss=0.2367483869790115, accuracy=0.90250811705999, amex=0.786781002805847 ===\n",
      "time to run this fold: 1s\n",
      "time to run folds: 17s\n",
      "iteration logloss: 0.23257141989069882, iteration acc: 0.9043827392293864, Iteration amex: 0.7932827328870053\n",
      "2: l1\n",
      "STARTING OPTIMIZATION iteration 25, data size: (458913, 4), params={'solver': 'liblinear', 'C': 7.20001, 'fit_intercept': True, 'class_weight': None, 'n_jobs': -1, 'verbose': 0, 'penalty': 'l1'}\n",
      "=== STARTING FOLD 1/10 (10) ===\n",
      "creating classifier\n",
      "fitting\n"
     ]
    },
    {
     "name": "stderr",
     "output_type": "stream",
     "text": [
      "/usr/local/lib/python3.8/dist-packages/optuna/distributions.py:545: UserWarning: The distribution is specified by [1e-05, 10] and q=0.1, but the range is not divisible by `q`. It will be replaced by [1e-05, 9.90001].\n",
      "  warnings.warn(\n",
      "/usr/local/lib/python3.8/dist-packages/sklearn/linear_model/_logistic.py:1153: UserWarning: 'n_jobs' > 1 does not have any effect when 'solver' is set to 'liblinear'. Got 'n_jobs' = 32.\n",
      "  warnings.warn(\n"
     ]
    },
    {
     "name": "stdout",
     "output_type": "stream",
     "text": [
      "predicting\n",
      "count zerO: 45892\n",
      "amex: 0.7900343218479096\n",
      "=== FINISHED FOLD 1/10, log loss=0.23465147794593294, accuracy=0.9048635927830558, amex=0.7900343218479096 ===\n",
      "time to run this fold: 1s\n",
      "=== STARTING FOLD 2/10 (10) ===\n",
      "creating classifier\n",
      "fitting\n"
     ]
    },
    {
     "name": "stderr",
     "output_type": "stream",
     "text": [
      "/usr/local/lib/python3.8/dist-packages/sklearn/linear_model/_logistic.py:1153: UserWarning: 'n_jobs' > 1 does not have any effect when 'solver' is set to 'liblinear'. Got 'n_jobs' = 32.\n",
      "  warnings.warn(\n"
     ]
    },
    {
     "name": "stdout",
     "output_type": "stream",
     "text": [
      "predicting\n",
      "count zerO: 91784\n",
      "amex: 0.7982123804377592\n",
      "=== FINISHED FOLD 2/10, log loss=0.22988342868455436, accuracy=0.9051468665562625, amex=0.7982123804377592 ===\n",
      "time to run this fold: 1s\n",
      "=== STARTING FOLD 3/10 (10) ===\n",
      "creating classifier\n",
      "fitting\n"
     ]
    },
    {
     "name": "stderr",
     "output_type": "stream",
     "text": [
      "/usr/local/lib/python3.8/dist-packages/sklearn/linear_model/_logistic.py:1153: UserWarning: 'n_jobs' > 1 does not have any effect when 'solver' is set to 'liblinear'. Got 'n_jobs' = 32.\n",
      "  warnings.warn(\n"
     ]
    },
    {
     "name": "stdout",
     "output_type": "stream",
     "text": [
      "predicting\n",
      "count zerO: 137676\n",
      "amex: 0.7971585511533578\n",
      "=== FINISHED FOLD 3/10, log loss=0.22840934690059791, accuracy=0.9070208315174758, amex=0.7971585511533578 ===\n",
      "time to run this fold: 1s\n",
      "=== STARTING FOLD 4/10 (10) ===\n",
      "creating classifier\n",
      "fitting\n"
     ]
    },
    {
     "name": "stderr",
     "output_type": "stream",
     "text": [
      "/usr/local/lib/python3.8/dist-packages/sklearn/linear_model/_logistic.py:1153: UserWarning: 'n_jobs' > 1 does not have any effect when 'solver' is set to 'liblinear'. Got 'n_jobs' = 32.\n",
      "  warnings.warn(\n"
     ]
    },
    {
     "name": "stdout",
     "output_type": "stream",
     "text": [
      "predicting\n",
      "count zerO: 183567\n",
      "amex: 0.7938001422695014\n",
      "=== FINISHED FOLD 4/10, log loss=0.23301902164135696, accuracy=0.9028567693011702, amex=0.7938001422695014 ===\n",
      "time to run this fold: 1s\n",
      "=== STARTING FOLD 5/10 (10) ===\n",
      "creating classifier\n",
      "fitting\n"
     ]
    },
    {
     "name": "stderr",
     "output_type": "stream",
     "text": [
      "/usr/local/lib/python3.8/dist-packages/sklearn/linear_model/_logistic.py:1153: UserWarning: 'n_jobs' > 1 does not have any effect when 'solver' is set to 'liblinear'. Got 'n_jobs' = 32.\n",
      "  warnings.warn(\n"
     ]
    },
    {
     "name": "stdout",
     "output_type": "stream",
     "text": [
      "predicting\n",
      "count zerO: 229458\n",
      "amex: 0.7898693473547764\n",
      "=== FINISHED FOLD 5/10, log loss=0.23486087977502934, accuracy=0.903510492253383, amex=0.7898693473547764 ===\n",
      "time to run this fold: 1s\n",
      "=== STARTING FOLD 6/10 (10) ===\n",
      "creating classifier\n",
      "fitting\n"
     ]
    },
    {
     "name": "stderr",
     "output_type": "stream",
     "text": [
      "/usr/local/lib/python3.8/dist-packages/sklearn/linear_model/_logistic.py:1153: UserWarning: 'n_jobs' > 1 does not have any effect when 'solver' is set to 'liblinear'. Got 'n_jobs' = 32.\n",
      "  warnings.warn(\n"
     ]
    },
    {
     "name": "stdout",
     "output_type": "stream",
     "text": [
      "predicting\n",
      "count zerO: 275349\n",
      "amex: 0.7902050515110132\n",
      "=== FINISHED FOLD 6/10, log loss=0.2362261533035402, accuracy=0.902137674053736, amex=0.7902050515110132 ===\n",
      "time to run this fold: 1s\n",
      "=== STARTING FOLD 7/10 (10) ===\n",
      "creating classifier\n",
      "fitting\n"
     ]
    },
    {
     "name": "stderr",
     "output_type": "stream",
     "text": [
      "/usr/local/lib/python3.8/dist-packages/sklearn/linear_model/_logistic.py:1153: UserWarning: 'n_jobs' > 1 does not have any effect when 'solver' is set to 'liblinear'. Got 'n_jobs' = 32.\n",
      "  warnings.warn(\n"
     ]
    },
    {
     "name": "stdout",
     "output_type": "stream",
     "text": [
      "predicting\n",
      "count zerO: 321240\n",
      "amex: 0.793552435686252\n",
      "=== FINISHED FOLD 7/10, log loss=0.23087057159998012, accuracy=0.9051447996339151, amex=0.793552435686252 ===\n",
      "time to run this fold: 2s\n",
      "=== STARTING FOLD 8/10 (10) ===\n",
      "creating classifier\n",
      "fitting\n"
     ]
    },
    {
     "name": "stderr",
     "output_type": "stream",
     "text": [
      "/usr/local/lib/python3.8/dist-packages/sklearn/linear_model/_logistic.py:1153: UserWarning: 'n_jobs' > 1 does not have any effect when 'solver' is set to 'liblinear'. Got 'n_jobs' = 32.\n",
      "  warnings.warn(\n"
     ]
    },
    {
     "name": "stdout",
     "output_type": "stream",
     "text": [
      "predicting\n",
      "count zerO: 367131\n",
      "amex: 0.7972142245049263\n",
      "=== FINISHED FOLD 8/10, log loss=0.23034604237699038, accuracy=0.9064958270684884, amex=0.7972142245049263 ===\n",
      "time to run this fold: 0s\n",
      "=== STARTING FOLD 9/10 (10) ===\n",
      "creating classifier\n",
      "fitting\n"
     ]
    },
    {
     "name": "stderr",
     "output_type": "stream",
     "text": [
      "/usr/local/lib/python3.8/dist-packages/sklearn/linear_model/_logistic.py:1153: UserWarning: 'n_jobs' > 1 does not have any effect when 'solver' is set to 'liblinear'. Got 'n_jobs' = 32.\n",
      "  warnings.warn(\n"
     ]
    },
    {
     "name": "stdout",
     "output_type": "stream",
     "text": [
      "predicting\n",
      "count zerO: 413022\n",
      "amex: 0.7959531764133296\n",
      "=== FINISHED FOLD 9/10, log loss=0.23072229438301606, accuracy=0.903968098319932, amex=0.7959531764133296 ===\n",
      "time to run this fold: 1s\n",
      "=== STARTING FOLD 10/10 (10) ===\n",
      "creating classifier\n",
      "fitting\n"
     ]
    },
    {
     "name": "stderr",
     "output_type": "stream",
     "text": [
      "/usr/local/lib/python3.8/dist-packages/sklearn/linear_model/_logistic.py:1153: UserWarning: 'n_jobs' > 1 does not have any effect when 'solver' is set to 'liblinear'. Got 'n_jobs' = 32.\n",
      "  warnings.warn(\n",
      "\u001b[32m[I 2022-08-11 18:24:47,864]\u001b[0m Trial 24 finished with value: 0.7933033115281081 and parameters: {'solver': 'liblinear', 'C': 7.20001, 'fit_intercept': True, 'class_weight': None, 'penalty-liblinear': 'l1'}. Best is trial 17 with value: 0.7933326074912369.\u001b[0m\n"
     ]
    },
    {
     "name": "stdout",
     "output_type": "stream",
     "text": [
      "predicting\n",
      "count zerO: 458913\n",
      "amex: 0.7870334841022557\n",
      "=== FINISHED FOLD 10/10, log loss=0.2367492057951461, accuracy=0.9024645355298424, amex=0.7870334841022557 ===\n",
      "time to run this fold: 1s\n",
      "time to run folds: 15s\n",
      "iteration logloss: 0.23257384224061442, iteration acc: 0.9043609487017262, Iteration amex: 0.7933033115281081\n",
      "1: l2\n",
      "STARTING OPTIMIZATION iteration 26, data size: (458913, 4), params={'solver': 'lbfgs', 'C': 6.00001, 'fit_intercept': True, 'class_weight': None, 'n_jobs': -1, 'verbose': 0, 'penalty': 'l2'}\n",
      "=== STARTING FOLD 1/10 (10) ===\n",
      "creating classifier\n",
      "fitting\n"
     ]
    },
    {
     "name": "stderr",
     "output_type": "stream",
     "text": [
      "/usr/local/lib/python3.8/dist-packages/optuna/distributions.py:545: UserWarning: The distribution is specified by [1e-05, 10] and q=0.1, but the range is not divisible by `q`. It will be replaced by [1e-05, 9.90001].\n",
      "  warnings.warn(\n"
     ]
    },
    {
     "name": "stdout",
     "output_type": "stream",
     "text": [
      "predicting\n",
      "count zerO: 45892\n",
      "amex: 0.7900768367555573\n",
      "=== FINISHED FOLD 1/10, log loss=0.2346496585227844, accuracy=0.9048853830733026, amex=0.7900768367555573 ===\n",
      "time to run this fold: 0s\n",
      "=== STARTING FOLD 2/10 (10) ===\n",
      "creating classifier\n",
      "fitting\n",
      "predicting\n",
      "count zerO: 91784\n",
      "amex: 0.7982554149957983\n",
      "=== FINISHED FOLD 2/10, log loss=0.22987905536609834, accuracy=0.9051468665562625, amex=0.7982554149957983 ===\n",
      "time to run this fold: 0s\n",
      "=== STARTING FOLD 3/10 (10) ===\n",
      "creating classifier\n",
      "fitting\n",
      "predicting\n",
      "count zerO: 137676\n",
      "amex: 0.7972001133686211\n",
      "=== FINISHED FOLD 3/10, log loss=0.22840980072478084, accuracy=0.9070426218077224, amex=0.7972001133686211 ===\n",
      "time to run this fold: 0s\n",
      "=== STARTING FOLD 4/10 (10) ===\n",
      "creating classifier\n",
      "fitting\n",
      "predicting\n",
      "count zerO: 183567\n",
      "amex: 0.7937171840745216\n",
      "=== FINISHED FOLD 4/10, log loss=0.2330160693817123, accuracy=0.9028785600662439, amex=0.7937171840745216 ===\n",
      "time to run this fold: 0s\n",
      "=== STARTING FOLD 5/10 (10) ===\n",
      "creating classifier\n",
      "fitting\n",
      "predicting\n",
      "count zerO: 229458\n",
      "amex: 0.7899115218525014\n",
      "=== FINISHED FOLD 5/10, log loss=0.2348585324607562, accuracy=0.9034887014883093, amex=0.7899115218525014 ===\n",
      "time to run this fold: 0s\n",
      "=== STARTING FOLD 6/10 (10) ===\n",
      "creating classifier\n",
      "fitting\n",
      "predicting\n",
      "count zerO: 275349\n",
      "amex: 0.7902041458079845\n",
      "=== FINISHED FOLD 6/10, log loss=0.23622813491182398, accuracy=0.9021158832886622, amex=0.7902041458079845 ===\n",
      "time to run this fold: 0s\n",
      "=== STARTING FOLD 7/10 (10) ===\n",
      "creating classifier\n",
      "fitting\n",
      "predicting\n",
      "count zerO: 321240\n",
      "amex: 0.7935103439220579\n",
      "=== FINISHED FOLD 7/10, log loss=0.23087046566152725, accuracy=0.9051230088688413, amex=0.7935103439220579 ===\n",
      "time to run this fold: 0s\n",
      "=== STARTING FOLD 8/10 (10) ===\n",
      "creating classifier\n",
      "fitting\n",
      "predicting\n",
      "count zerO: 367131\n",
      "amex: 0.7972140735544215\n",
      "=== FINISHED FOLD 8/10, log loss=0.2303458972868013, accuracy=0.9065176178335621, amex=0.7972140735544215 ===\n",
      "time to run this fold: 0s\n",
      "=== STARTING FOLD 9/10 (10) ===\n",
      "creating classifier\n",
      "fitting\n",
      "predicting\n",
      "count zerO: 413022\n",
      "amex: 0.7960377336060821\n",
      "=== FINISHED FOLD 9/10, log loss=0.23072173972881377, accuracy=0.9039463075548583, amex=0.7960377336060821 ===\n",
      "time to run this fold: 0s\n",
      "=== STARTING FOLD 10/10 (10) ===\n",
      "creating classifier\n",
      "fitting\n"
     ]
    },
    {
     "name": "stderr",
     "output_type": "stream",
     "text": [
      "\u001b[32m[I 2022-08-11 18:24:53,672]\u001b[0m Trial 25 finished with value: 0.7932992180607416 and parameters: {'solver': 'lbfgs', 'C': 6.00001, 'fit_intercept': True, 'class_weight': None, 'penalty-lbfgs': 'l2'}. Best is trial 17 with value: 0.7933326074912369.\u001b[0m\n"
     ]
    },
    {
     "name": "stdout",
     "output_type": "stream",
     "text": [
      "predicting\n",
      "count zerO: 458913\n",
      "amex: 0.786864812669871\n",
      "=== FINISHED FOLD 10/10, log loss=0.23674857313132722, accuracy=0.9024863262949162, amex=0.786864812669871 ===\n",
      "time to run this fold: 0s\n",
      "time to run folds: 5s\n",
      "iteration logloss: 0.23257279271764256, iteration acc: 0.9043631276832681, Iteration amex: 0.7932992180607416\n",
      "2: l1\n",
      "STARTING OPTIMIZATION iteration 27, data size: (458913, 4), params={'solver': 'liblinear', 'C': 4.70001, 'fit_intercept': False, 'class_weight': None, 'n_jobs': -1, 'verbose': 0, 'penalty': 'l1'}\n",
      "=== STARTING FOLD 1/10 (10) ===\n",
      "creating classifier\n",
      "fitting\n"
     ]
    },
    {
     "name": "stderr",
     "output_type": "stream",
     "text": [
      "/usr/local/lib/python3.8/dist-packages/optuna/distributions.py:545: UserWarning: The distribution is specified by [1e-05, 10] and q=0.1, but the range is not divisible by `q`. It will be replaced by [1e-05, 9.90001].\n",
      "  warnings.warn(\n",
      "/usr/local/lib/python3.8/dist-packages/sklearn/linear_model/_logistic.py:1153: UserWarning: 'n_jobs' > 1 does not have any effect when 'solver' is set to 'liblinear'. Got 'n_jobs' = 32.\n",
      "  warnings.warn(\n",
      "\u001b[32m[I 2022-08-11 18:24:54,843]\u001b[0m Trial 26 finished with value: 0.7638108583314731 and parameters: {'solver': 'liblinear', 'C': 4.70001, 'fit_intercept': False, 'class_weight': None, 'penalty-liblinear': 'l1'}. Best is trial 17 with value: 0.7933326074912369.\u001b[0m\n"
     ]
    },
    {
     "name": "stdout",
     "output_type": "stream",
     "text": [
      "predicting\n",
      "count zerO: 45892\n",
      "amex: 0.7638108583314731\n",
      "=== FINISHED FOLD 1/10, log loss=0.6507785932073702, accuracy=0.29846160550858536, amex=0.7638108583314731 ===\n",
      "time to run this fold: 1s\n",
      "low score on amex, dropping loop\n",
      "2: l1\n",
      "STARTING OPTIMIZATION iteration 28, data size: (458913, 4), params={'solver': 'liblinear', 'C': 8.90001, 'fit_intercept': True, 'class_weight': None, 'n_jobs': -1, 'verbose': 0, 'penalty': 'l1'}\n",
      "=== STARTING FOLD 1/10 (10) ===\n",
      "creating classifier\n",
      "fitting\n"
     ]
    },
    {
     "name": "stderr",
     "output_type": "stream",
     "text": [
      "/usr/local/lib/python3.8/dist-packages/optuna/distributions.py:545: UserWarning: The distribution is specified by [1e-05, 10] and q=0.1, but the range is not divisible by `q`. It will be replaced by [1e-05, 9.90001].\n",
      "  warnings.warn(\n",
      "/usr/local/lib/python3.8/dist-packages/sklearn/linear_model/_logistic.py:1153: UserWarning: 'n_jobs' > 1 does not have any effect when 'solver' is set to 'liblinear'. Got 'n_jobs' = 32.\n",
      "  warnings.warn(\n"
     ]
    },
    {
     "name": "stdout",
     "output_type": "stream",
     "text": [
      "predicting\n",
      "count zerO: 45892\n",
      "amex: 0.7900351805083184\n",
      "=== FINISHED FOLD 1/10, log loss=0.23464825776924092, accuracy=0.9049507539440426, amex=0.7900351805083184 ===\n",
      "time to run this fold: 0s\n",
      "=== STARTING FOLD 2/10 (10) ===\n",
      "creating classifier\n",
      "fitting\n"
     ]
    },
    {
     "name": "stderr",
     "output_type": "stream",
     "text": [
      "/usr/local/lib/python3.8/dist-packages/sklearn/linear_model/_logistic.py:1153: UserWarning: 'n_jobs' > 1 does not have any effect when 'solver' is set to 'liblinear'. Got 'n_jobs' = 32.\n",
      "  warnings.warn(\n"
     ]
    },
    {
     "name": "stdout",
     "output_type": "stream",
     "text": [
      "predicting\n",
      "count zerO: 91784\n",
      "amex: 0.7982570506572688\n",
      "=== FINISHED FOLD 2/10, log loss=0.22987470010373995, accuracy=0.9051904471367559, amex=0.7982570506572688 ===\n",
      "time to run this fold: 1s\n",
      "=== STARTING FOLD 3/10 (10) ===\n",
      "creating classifier\n",
      "fitting\n"
     ]
    },
    {
     "name": "stderr",
     "output_type": "stream",
     "text": [
      "/usr/local/lib/python3.8/dist-packages/sklearn/linear_model/_logistic.py:1153: UserWarning: 'n_jobs' > 1 does not have any effect when 'solver' is set to 'liblinear'. Got 'n_jobs' = 32.\n",
      "  warnings.warn(\n"
     ]
    },
    {
     "name": "stdout",
     "output_type": "stream",
     "text": [
      "predicting\n",
      "count zerO: 137676\n",
      "amex: 0.7972419527307599\n",
      "=== FINISHED FOLD 3/10, log loss=0.22840918562235227, accuracy=0.9070644120979692, amex=0.7972419527307599 ===\n",
      "time to run this fold: 1s\n",
      "=== STARTING FOLD 4/10 (10) ===\n",
      "creating classifier\n",
      "fitting\n"
     ]
    },
    {
     "name": "stderr",
     "output_type": "stream",
     "text": [
      "/usr/local/lib/python3.8/dist-packages/sklearn/linear_model/_logistic.py:1153: UserWarning: 'n_jobs' > 1 does not have any effect when 'solver' is set to 'liblinear'. Got 'n_jobs' = 32.\n",
      "  warnings.warn(\n"
     ]
    },
    {
     "name": "stdout",
     "output_type": "stream",
     "text": [
      "predicting\n",
      "count zerO: 183567\n",
      "amex: 0.7937590962504497\n",
      "=== FINISHED FOLD 4/10, log loss=0.23301817336925046, accuracy=0.9028785600662439, amex=0.7937590962504497 ===\n",
      "time to run this fold: 1s\n",
      "=== STARTING FOLD 5/10 (10) ===\n",
      "creating classifier\n",
      "fitting\n"
     ]
    },
    {
     "name": "stderr",
     "output_type": "stream",
     "text": [
      "/usr/local/lib/python3.8/dist-packages/sklearn/linear_model/_logistic.py:1153: UserWarning: 'n_jobs' > 1 does not have any effect when 'solver' is set to 'liblinear'. Got 'n_jobs' = 32.\n",
      "  warnings.warn(\n"
     ]
    },
    {
     "name": "stdout",
     "output_type": "stream",
     "text": [
      "predicting\n",
      "count zerO: 229458\n",
      "amex: 0.7898692632138228\n",
      "=== FINISHED FOLD 5/10, log loss=0.23486135545955245, accuracy=0.903510492253383, amex=0.7898692632138228 ===\n",
      "time to run this fold: 1s\n",
      "=== STARTING FOLD 6/10 (10) ===\n",
      "creating classifier\n",
      "fitting\n"
     ]
    },
    {
     "name": "stderr",
     "output_type": "stream",
     "text": [
      "/usr/local/lib/python3.8/dist-packages/sklearn/linear_model/_logistic.py:1153: UserWarning: 'n_jobs' > 1 does not have any effect when 'solver' is set to 'liblinear'. Got 'n_jobs' = 32.\n",
      "  warnings.warn(\n"
     ]
    },
    {
     "name": "stdout",
     "output_type": "stream",
     "text": [
      "predicting\n",
      "count zerO: 275349\n",
      "amex: 0.79020489808591\n",
      "=== FINISHED FOLD 6/10, log loss=0.2362269311258411, accuracy=0.902137674053736, amex=0.79020489808591 ===\n",
      "time to run this fold: 1s\n",
      "=== STARTING FOLD 7/10 (10) ===\n",
      "creating classifier\n",
      "fitting\n"
     ]
    },
    {
     "name": "stderr",
     "output_type": "stream",
     "text": [
      "/usr/local/lib/python3.8/dist-packages/sklearn/linear_model/_logistic.py:1153: UserWarning: 'n_jobs' > 1 does not have any effect when 'solver' is set to 'liblinear'. Got 'n_jobs' = 32.\n",
      "  warnings.warn(\n"
     ]
    },
    {
     "name": "stdout",
     "output_type": "stream",
     "text": [
      "predicting\n",
      "count zerO: 321240\n",
      "amex: 0.7935106408738705\n",
      "=== FINISHED FOLD 7/10, log loss=0.23087035237712084, accuracy=0.9051230088688413, amex=0.7935106408738705 ===\n",
      "time to run this fold: 1s\n",
      "=== STARTING FOLD 8/10 (10) ===\n",
      "creating classifier\n",
      "fitting\n"
     ]
    },
    {
     "name": "stderr",
     "output_type": "stream",
     "text": [
      "/usr/local/lib/python3.8/dist-packages/sklearn/linear_model/_logistic.py:1153: UserWarning: 'n_jobs' > 1 does not have any effect when 'solver' is set to 'liblinear'. Got 'n_jobs' = 32.\n",
      "  warnings.warn(\n"
     ]
    },
    {
     "name": "stdout",
     "output_type": "stream",
     "text": [
      "predicting\n",
      "count zerO: 367131\n",
      "amex: 0.7971721624359134\n",
      "=== FINISHED FOLD 8/10, log loss=0.23034506323256057, accuracy=0.9065176178335621, amex=0.7971721624359134 ===\n",
      "time to run this fold: 1s\n",
      "=== STARTING FOLD 9/10 (10) ===\n",
      "creating classifier\n",
      "fitting\n"
     ]
    },
    {
     "name": "stderr",
     "output_type": "stream",
     "text": [
      "/usr/local/lib/python3.8/dist-packages/sklearn/linear_model/_logistic.py:1153: UserWarning: 'n_jobs' > 1 does not have any effect when 'solver' is set to 'liblinear'. Got 'n_jobs' = 32.\n",
      "  warnings.warn(\n"
     ]
    },
    {
     "name": "stdout",
     "output_type": "stream",
     "text": [
      "predicting\n",
      "count zerO: 413022\n",
      "amex: 0.7959534288223702\n",
      "=== FINISHED FOLD 9/10, log loss=0.2307222026695125, accuracy=0.903968098319932, amex=0.7959534288223702 ===\n",
      "time to run this fold: 1s\n",
      "=== STARTING FOLD 10/10 (10) ===\n",
      "creating classifier\n",
      "fitting\n"
     ]
    },
    {
     "name": "stderr",
     "output_type": "stream",
     "text": [
      "/usr/local/lib/python3.8/dist-packages/sklearn/linear_model/_logistic.py:1153: UserWarning: 'n_jobs' > 1 does not have any effect when 'solver' is set to 'liblinear'. Got 'n_jobs' = 32.\n",
      "  warnings.warn(\n",
      "\u001b[32m[I 2022-08-11 18:25:08,482]\u001b[0m Trial 27 finished with value: 0.7933079217275354 and parameters: {'solver': 'liblinear', 'C': 8.90001, 'fit_intercept': True, 'class_weight': None, 'penalty-liblinear': 'l1'}. Best is trial 17 with value: 0.7933326074912369.\u001b[0m\n"
     ]
    },
    {
     "name": "stdout",
     "output_type": "stream",
     "text": [
      "predicting\n",
      "count zerO: 458913\n",
      "amex: 0.7870755436966702\n",
      "=== FINISHED FOLD 10/10, log loss=0.23674930348327236, accuracy=0.9024645355298424, amex=0.7870755436966702 ===\n",
      "time to run this fold: 1s\n",
      "time to run folds: 13s\n",
      "iteration logloss: 0.2325725525212443, iteration acc: 0.9043805600104309, Iteration amex: 0.7933079217275354\n",
      "2: l2\n",
      "STARTING OPTIMIZATION iteration 29, data size: (458913, 4), params={'solver': 'liblinear', 'C': 3.10001, 'fit_intercept': True, 'class_weight': None, 'n_jobs': -1, 'verbose': 0, 'penalty': 'l2'}\n",
      "=== STARTING FOLD 1/10 (10) ===\n",
      "creating classifier\n",
      "fitting\n"
     ]
    },
    {
     "name": "stderr",
     "output_type": "stream",
     "text": [
      "/usr/local/lib/python3.8/dist-packages/optuna/distributions.py:545: UserWarning: The distribution is specified by [1e-05, 10] and q=0.1, but the range is not divisible by `q`. It will be replaced by [1e-05, 9.90001].\n",
      "  warnings.warn(\n",
      "/usr/local/lib/python3.8/dist-packages/sklearn/linear_model/_logistic.py:1153: UserWarning: 'n_jobs' > 1 does not have any effect when 'solver' is set to 'liblinear'. Got 'n_jobs' = 32.\n",
      "  warnings.warn(\n"
     ]
    },
    {
     "name": "stdout",
     "output_type": "stream",
     "text": [
      "predicting\n",
      "count zerO: 45892\n",
      "amex: 0.7900768763479682\n",
      "=== FINISHED FOLD 1/10, log loss=0.2346493132600287, accuracy=0.9048853830733026, amex=0.7900768763479682 ===\n",
      "time to run this fold: 0s\n",
      "=== STARTING FOLD 2/10 (10) ===\n",
      "creating classifier\n",
      "fitting\n"
     ]
    },
    {
     "name": "stderr",
     "output_type": "stream",
     "text": [
      "/usr/local/lib/python3.8/dist-packages/sklearn/linear_model/_logistic.py:1153: UserWarning: 'n_jobs' > 1 does not have any effect when 'solver' is set to 'liblinear'. Got 'n_jobs' = 32.\n",
      "  warnings.warn(\n"
     ]
    },
    {
     "name": "stdout",
     "output_type": "stream",
     "text": [
      "predicting\n",
      "count zerO: 91784\n",
      "amex: 0.7982554743844146\n",
      "=== FINISHED FOLD 2/10, log loss=0.22987901454350176, accuracy=0.9051468665562625, amex=0.7982554743844146 ===\n",
      "time to run this fold: 0s\n",
      "=== STARTING FOLD 3/10 (10) ===\n",
      "creating classifier\n",
      "fitting\n"
     ]
    },
    {
     "name": "stderr",
     "output_type": "stream",
     "text": [
      "/usr/local/lib/python3.8/dist-packages/sklearn/linear_model/_logistic.py:1153: UserWarning: 'n_jobs' > 1 does not have any effect when 'solver' is set to 'liblinear'. Got 'n_jobs' = 32.\n",
      "  warnings.warn(\n"
     ]
    },
    {
     "name": "stdout",
     "output_type": "stream",
     "text": [
      "predicting\n",
      "count zerO: 137676\n",
      "amex: 0.7972421308966084\n",
      "=== FINISHED FOLD 3/10, log loss=0.22840992083039807, accuracy=0.9070644120979692, amex=0.7972421308966084 ===\n",
      "time to run this fold: 0s\n",
      "=== STARTING FOLD 4/10 (10) ===\n",
      "creating classifier\n",
      "fitting\n"
     ]
    },
    {
     "name": "stderr",
     "output_type": "stream",
     "text": [
      "/usr/local/lib/python3.8/dist-packages/sklearn/linear_model/_logistic.py:1153: UserWarning: 'n_jobs' > 1 does not have any effect when 'solver' is set to 'liblinear'. Got 'n_jobs' = 32.\n",
      "  warnings.warn(\n"
     ]
    },
    {
     "name": "stdout",
     "output_type": "stream",
     "text": [
      "predicting\n",
      "count zerO: 183567\n",
      "amex: 0.7937168326623032\n",
      "=== FINISHED FOLD 4/10, log loss=0.23301629845434324, accuracy=0.9028785600662439, amex=0.7937168326623032 ===\n",
      "time to run this fold: 0s\n",
      "=== STARTING FOLD 5/10 (10) ===\n",
      "creating classifier\n",
      "fitting\n"
     ]
    },
    {
     "name": "stderr",
     "output_type": "stream",
     "text": [
      "/usr/local/lib/python3.8/dist-packages/sklearn/linear_model/_logistic.py:1153: UserWarning: 'n_jobs' > 1 does not have any effect when 'solver' is set to 'liblinear'. Got 'n_jobs' = 32.\n",
      "  warnings.warn(\n"
     ]
    },
    {
     "name": "stdout",
     "output_type": "stream",
     "text": [
      "predicting\n",
      "count zerO: 229458\n",
      "amex: 0.7899114674083548\n",
      "=== FINISHED FOLD 5/10, log loss=0.23485836401503754, accuracy=0.9034887014883093, amex=0.7899114674083548 ===\n",
      "time to run this fold: 0s\n",
      "=== STARTING FOLD 6/10 (10) ===\n",
      "creating classifier\n",
      "fitting\n"
     ]
    },
    {
     "name": "stderr",
     "output_type": "stream",
     "text": [
      "/usr/local/lib/python3.8/dist-packages/sklearn/linear_model/_logistic.py:1153: UserWarning: 'n_jobs' > 1 does not have any effect when 'solver' is set to 'liblinear'. Got 'n_jobs' = 32.\n",
      "  warnings.warn(\n"
     ]
    },
    {
     "name": "stdout",
     "output_type": "stream",
     "text": [
      "predicting\n",
      "count zerO: 275349\n",
      "amex: 0.7902041062144095\n",
      "=== FINISHED FOLD 6/10, log loss=0.23622786581543895, accuracy=0.9021158832886622, amex=0.7902041062144095 ===\n",
      "time to run this fold: 0s\n",
      "=== STARTING FOLD 7/10 (10) ===\n",
      "creating classifier\n",
      "fitting\n"
     ]
    },
    {
     "name": "stderr",
     "output_type": "stream",
     "text": [
      "/usr/local/lib/python3.8/dist-packages/sklearn/linear_model/_logistic.py:1153: UserWarning: 'n_jobs' > 1 does not have any effect when 'solver' is set to 'liblinear'. Got 'n_jobs' = 32.\n",
      "  warnings.warn(\n"
     ]
    },
    {
     "name": "stdout",
     "output_type": "stream",
     "text": [
      "predicting\n",
      "count zerO: 321240\n",
      "amex: 0.7934674132689927\n",
      "=== FINISHED FOLD 7/10, log loss=0.2308729478369042, accuracy=0.9051012181037676, amex=0.7934674132689927 ===\n",
      "time to run this fold: 0s\n",
      "=== STARTING FOLD 8/10 (10) ===\n",
      "creating classifier\n",
      "fitting\n"
     ]
    },
    {
     "name": "stderr",
     "output_type": "stream",
     "text": [
      "/usr/local/lib/python3.8/dist-packages/sklearn/linear_model/_logistic.py:1153: UserWarning: 'n_jobs' > 1 does not have any effect when 'solver' is set to 'liblinear'. Got 'n_jobs' = 32.\n",
      "  warnings.warn(\n"
     ]
    },
    {
     "name": "stdout",
     "output_type": "stream",
     "text": [
      "predicting\n",
      "count zerO: 367131\n",
      "amex: 0.7972562469803641\n",
      "=== FINISHED FOLD 8/10, log loss=0.23034622469994254, accuracy=0.9064958270684884, amex=0.7972562469803641 ===\n",
      "time to run this fold: 0s\n",
      "=== STARTING FOLD 9/10 (10) ===\n",
      "creating classifier\n",
      "fitting\n"
     ]
    },
    {
     "name": "stderr",
     "output_type": "stream",
     "text": [
      "/usr/local/lib/python3.8/dist-packages/sklearn/linear_model/_logistic.py:1153: UserWarning: 'n_jobs' > 1 does not have any effect when 'solver' is set to 'liblinear'. Got 'n_jobs' = 32.\n",
      "  warnings.warn(\n"
     ]
    },
    {
     "name": "stdout",
     "output_type": "stream",
     "text": [
      "predicting\n",
      "count zerO: 413022\n",
      "amex: 0.7960374886208367\n",
      "=== FINISHED FOLD 9/10, log loss=0.2307220972586598, accuracy=0.9039463075548583, amex=0.7960374886208367 ===\n",
      "time to run this fold: 0s\n",
      "=== STARTING FOLD 10/10 (10) ===\n",
      "creating classifier\n",
      "fitting\n"
     ]
    },
    {
     "name": "stderr",
     "output_type": "stream",
     "text": [
      "/usr/local/lib/python3.8/dist-packages/sklearn/linear_model/_logistic.py:1153: UserWarning: 'n_jobs' > 1 does not have any effect when 'solver' is set to 'liblinear'. Got 'n_jobs' = 32.\n",
      "  warnings.warn(\n",
      "\u001b[32m[I 2022-08-11 18:25:11,265]\u001b[0m Trial 28 finished with value: 0.7933032616841869 and parameters: {'solver': 'liblinear', 'C': 3.10001, 'fit_intercept': True, 'class_weight': None, 'penalty-liblinear': 'l2'}. Best is trial 17 with value: 0.7933326074912369.\u001b[0m\n"
     ]
    },
    {
     "name": "stdout",
     "output_type": "stream",
     "text": [
      "predicting\n",
      "count zerO: 458913\n",
      "amex: 0.7868645800576177\n",
      "=== FINISHED FOLD 10/10, log loss=0.23674828662407846, accuracy=0.9024863262949162, amex=0.7868645800576177 ===\n",
      "time to run this fold: 0s\n",
      "time to run folds: 2s\n",
      "iteration logloss: 0.23257303333383333, iteration acc: 0.9043609485592781, Iteration amex: 0.7933032616841869\n",
      "2: l1\n",
      "STARTING OPTIMIZATION iteration 30, data size: (458913, 4), params={'solver': 'liblinear', 'C': 7.90001, 'fit_intercept': True, 'class_weight': None, 'n_jobs': -1, 'verbose': 0, 'penalty': 'l1'}\n",
      "=== STARTING FOLD 1/10 (10) ===\n",
      "creating classifier\n",
      "fitting\n"
     ]
    },
    {
     "name": "stderr",
     "output_type": "stream",
     "text": [
      "/usr/local/lib/python3.8/dist-packages/optuna/distributions.py:545: UserWarning: The distribution is specified by [1e-05, 10] and q=0.1, but the range is not divisible by `q`. It will be replaced by [1e-05, 9.90001].\n",
      "  warnings.warn(\n",
      "/usr/local/lib/python3.8/dist-packages/sklearn/linear_model/_logistic.py:1153: UserWarning: 'n_jobs' > 1 does not have any effect when 'solver' is set to 'liblinear'. Got 'n_jobs' = 32.\n",
      "  warnings.warn(\n"
     ]
    },
    {
     "name": "stdout",
     "output_type": "stream",
     "text": [
      "predicting\n",
      "count zerO: 45892\n",
      "amex: 0.7899934524998349\n",
      "=== FINISHED FOLD 1/10, log loss=0.2346476012026722, accuracy=0.9049507539440426, amex=0.7899934524998349 ===\n",
      "time to run this fold: 1s\n",
      "=== STARTING FOLD 2/10 (10) ===\n",
      "creating classifier\n",
      "fitting\n"
     ]
    },
    {
     "name": "stderr",
     "output_type": "stream",
     "text": [
      "/usr/local/lib/python3.8/dist-packages/sklearn/linear_model/_logistic.py:1153: UserWarning: 'n_jobs' > 1 does not have any effect when 'solver' is set to 'liblinear'. Got 'n_jobs' = 32.\n",
      "  warnings.warn(\n"
     ]
    },
    {
     "name": "stdout",
     "output_type": "stream",
     "text": [
      "predicting\n",
      "count zerO: 91784\n",
      "amex: 0.7982123606415537\n",
      "=== FINISHED FOLD 2/10, log loss=0.22988316305856205, accuracy=0.9051468665562625, amex=0.7982123606415537 ===\n",
      "time to run this fold: 1s\n",
      "=== STARTING FOLD 3/10 (10) ===\n",
      "creating classifier\n",
      "fitting\n"
     ]
    },
    {
     "name": "stderr",
     "output_type": "stream",
     "text": [
      "/usr/local/lib/python3.8/dist-packages/sklearn/linear_model/_logistic.py:1153: UserWarning: 'n_jobs' > 1 does not have any effect when 'solver' is set to 'liblinear'. Got 'n_jobs' = 32.\n",
      "  warnings.warn(\n"
     ]
    },
    {
     "name": "stdout",
     "output_type": "stream",
     "text": [
      "predicting\n",
      "count zerO: 137676\n",
      "amex: 0.7972840840869284\n",
      "=== FINISHED FOLD 3/10, log loss=0.22840943029215635, accuracy=0.9070644120979692, amex=0.7972840840869284 ===\n",
      "time to run this fold: 1s\n",
      "=== STARTING FOLD 4/10 (10) ===\n",
      "creating classifier\n",
      "fitting\n"
     ]
    },
    {
     "name": "stderr",
     "output_type": "stream",
     "text": [
      "/usr/local/lib/python3.8/dist-packages/sklearn/linear_model/_logistic.py:1153: UserWarning: 'n_jobs' > 1 does not have any effect when 'solver' is set to 'liblinear'. Got 'n_jobs' = 32.\n",
      "  warnings.warn(\n"
     ]
    },
    {
     "name": "stdout",
     "output_type": "stream",
     "text": [
      "predicting\n",
      "count zerO: 183567\n",
      "amex: 0.7938000952495565\n",
      "=== FINISHED FOLD 4/10, log loss=0.2330191211613165, accuracy=0.9028567693011702, amex=0.7938000952495565 ===\n",
      "time to run this fold: 1s\n",
      "=== STARTING FOLD 5/10 (10) ===\n",
      "creating classifier\n",
      "fitting\n"
     ]
    },
    {
     "name": "stderr",
     "output_type": "stream",
     "text": [
      "/usr/local/lib/python3.8/dist-packages/sklearn/linear_model/_logistic.py:1153: UserWarning: 'n_jobs' > 1 does not have any effect when 'solver' is set to 'liblinear'. Got 'n_jobs' = 32.\n",
      "  warnings.warn(\n"
     ]
    },
    {
     "name": "stdout",
     "output_type": "stream",
     "text": [
      "predicting\n",
      "count zerO: 229458\n",
      "amex: 0.7898693028095656\n",
      "=== FINISHED FOLD 5/10, log loss=0.23486098626773852, accuracy=0.903510492253383, amex=0.7898693028095656 ===\n",
      "time to run this fold: 1s\n",
      "=== STARTING FOLD 6/10 (10) ===\n",
      "creating classifier\n",
      "fitting\n"
     ]
    },
    {
     "name": "stderr",
     "output_type": "stream",
     "text": [
      "/usr/local/lib/python3.8/dist-packages/sklearn/linear_model/_logistic.py:1153: UserWarning: 'n_jobs' > 1 does not have any effect when 'solver' is set to 'liblinear'. Got 'n_jobs' = 32.\n",
      "  warnings.warn(\n"
     ]
    },
    {
     "name": "stdout",
     "output_type": "stream",
     "text": [
      "predicting\n",
      "count zerO: 275349\n",
      "amex: 0.7901629745944097\n",
      "=== FINISHED FOLD 6/10, log loss=0.2362260707288212, accuracy=0.902137674053736, amex=0.7901629745944097 ===\n",
      "time to run this fold: 1s\n",
      "=== STARTING FOLD 7/10 (10) ===\n",
      "creating classifier\n",
      "fitting\n"
     ]
    },
    {
     "name": "stderr",
     "output_type": "stream",
     "text": [
      "/usr/local/lib/python3.8/dist-packages/sklearn/linear_model/_logistic.py:1153: UserWarning: 'n_jobs' > 1 does not have any effect when 'solver' is set to 'liblinear'. Got 'n_jobs' = 32.\n",
      "  warnings.warn(\n"
     ]
    },
    {
     "name": "stdout",
     "output_type": "stream",
     "text": [
      "predicting\n",
      "count zerO: 321240\n",
      "amex: 0.7935107695529893\n",
      "=== FINISHED FOLD 7/10, log loss=0.2308693445522887, accuracy=0.9051447996339151, amex=0.7935107695529893 ===\n",
      "time to run this fold: 1s\n",
      "=== STARTING FOLD 8/10 (10) ===\n",
      "creating classifier\n",
      "fitting\n"
     ]
    },
    {
     "name": "stderr",
     "output_type": "stream",
     "text": [
      "/usr/local/lib/python3.8/dist-packages/sklearn/linear_model/_logistic.py:1153: UserWarning: 'n_jobs' > 1 does not have any effect when 'solver' is set to 'liblinear'. Got 'n_jobs' = 32.\n",
      "  warnings.warn(\n"
     ]
    },
    {
     "name": "stdout",
     "output_type": "stream",
     "text": [
      "predicting\n",
      "count zerO: 367131\n",
      "amex: 0.7971721500629212\n",
      "=== FINISHED FOLD 8/10, log loss=0.23034538438202554, accuracy=0.9065176178335621, amex=0.7971721500629212 ===\n",
      "time to run this fold: 1s\n",
      "=== STARTING FOLD 9/10 (10) ===\n",
      "creating classifier\n",
      "fitting\n"
     ]
    },
    {
     "name": "stderr",
     "output_type": "stream",
     "text": [
      "/usr/local/lib/python3.8/dist-packages/sklearn/linear_model/_logistic.py:1153: UserWarning: 'n_jobs' > 1 does not have any effect when 'solver' is set to 'liblinear'. Got 'n_jobs' = 32.\n",
      "  warnings.warn(\n"
     ]
    },
    {
     "name": "stdout",
     "output_type": "stream",
     "text": [
      "predicting\n",
      "count zerO: 413022\n",
      "amex: 0.7959531293959592\n",
      "=== FINISHED FOLD 9/10, log loss=0.2307223357796656, accuracy=0.903968098319932, amex=0.7959531293959592 ===\n",
      "time to run this fold: 1s\n",
      "=== STARTING FOLD 10/10 (10) ===\n",
      "creating classifier\n",
      "fitting\n"
     ]
    },
    {
     "name": "stderr",
     "output_type": "stream",
     "text": [
      "/usr/local/lib/python3.8/dist-packages/sklearn/linear_model/_logistic.py:1153: UserWarning: 'n_jobs' > 1 does not have any effect when 'solver' is set to 'liblinear'. Got 'n_jobs' = 32.\n",
      "  warnings.warn(\n",
      "\u001b[32m[I 2022-08-11 18:25:26,150]\u001b[0m Trial 29 finished with value: 0.793273922024103 and parameters: {'solver': 'liblinear', 'C': 7.90001, 'fit_intercept': True, 'class_weight': None, 'penalty-liblinear': 'l1'}. Best is trial 17 with value: 0.7933326074912369.\u001b[0m\n"
     ]
    },
    {
     "name": "stdout",
     "output_type": "stream",
     "text": [
      "predicting\n",
      "count zerO: 458913\n",
      "amex: 0.7867809013473109\n",
      "=== FINISHED FOLD 10/10, log loss=0.23674870239564574, accuracy=0.90250811705999, amex=0.7867809013473109 ===\n",
      "time to run this fold: 1s\n",
      "time to run folds: 14s\n",
      "iteration logloss: 0.23257321398208922, iteration acc: 0.9043805601053962, Iteration amex: 0.793273922024103\n",
      "1: none\n",
      "STARTING OPTIMIZATION iteration 31, data size: (458913, 4), params={'solver': 'lbfgs', 'C': 7.30001, 'fit_intercept': True, 'class_weight': None, 'n_jobs': -1, 'verbose': 0, 'penalty': 'none'}\n",
      "=== STARTING FOLD 1/10 (10) ===\n",
      "creating classifier\n",
      "fitting\n"
     ]
    },
    {
     "name": "stderr",
     "output_type": "stream",
     "text": [
      "/usr/local/lib/python3.8/dist-packages/optuna/distributions.py:545: UserWarning: The distribution is specified by [1e-05, 10] and q=0.1, but the range is not divisible by `q`. It will be replaced by [1e-05, 9.90001].\n",
      "  warnings.warn(\n",
      "/usr/local/lib/python3.8/dist-packages/sklearn/linear_model/_logistic.py:1113: UserWarning: Setting penalty='none' will ignore the C and l1_ratio parameters\n",
      "  warnings.warn(\n"
     ]
    },
    {
     "name": "stdout",
     "output_type": "stream",
     "text": [
      "predicting\n",
      "count zerO: 45892\n",
      "amex: 0.7900769184149046\n",
      "=== FINISHED FOLD 1/10, log loss=0.23464982108010535, accuracy=0.9048853830733026, amex=0.7900769184149046 ===\n",
      "time to run this fold: 0s\n",
      "=== STARTING FOLD 2/10 (10) ===\n",
      "creating classifier\n",
      "fitting\n"
     ]
    },
    {
     "name": "stderr",
     "output_type": "stream",
     "text": [
      "/usr/local/lib/python3.8/dist-packages/sklearn/linear_model/_logistic.py:1113: UserWarning: Setting penalty='none' will ignore the C and l1_ratio parameters\n",
      "  warnings.warn(\n"
     ]
    },
    {
     "name": "stdout",
     "output_type": "stream",
     "text": [
      "predicting\n",
      "count zerO: 91784\n",
      "amex: 0.7982554521136835\n",
      "=== FINISHED FOLD 2/10, log loss=0.2298791159167071, accuracy=0.9051250762660159, amex=0.7982554521136835 ===\n",
      "time to run this fold: 0s\n",
      "=== STARTING FOLD 3/10 (10) ===\n",
      "creating classifier\n",
      "fitting\n"
     ]
    },
    {
     "name": "stderr",
     "output_type": "stream",
     "text": [
      "/usr/local/lib/python3.8/dist-packages/sklearn/linear_model/_logistic.py:1113: UserWarning: Setting penalty='none' will ignore the C and l1_ratio parameters\n",
      "  warnings.warn(\n"
     ]
    },
    {
     "name": "stdout",
     "output_type": "stream",
     "text": [
      "predicting\n",
      "count zerO: 137676\n",
      "amex: 0.7971999921168629\n",
      "=== FINISHED FOLD 3/10, log loss=0.22840965244933412, accuracy=0.9070426218077224, amex=0.7971999921168629 ===\n",
      "time to run this fold: 0s\n",
      "=== STARTING FOLD 4/10 (10) ===\n",
      "creating classifier\n",
      "fitting\n"
     ]
    },
    {
     "name": "stderr",
     "output_type": "stream",
     "text": [
      "/usr/local/lib/python3.8/dist-packages/sklearn/linear_model/_logistic.py:1113: UserWarning: Setting penalty='none' will ignore the C and l1_ratio parameters\n",
      "  warnings.warn(\n"
     ]
    },
    {
     "name": "stdout",
     "output_type": "stream",
     "text": [
      "predicting\n",
      "count zerO: 183567\n",
      "amex: 0.7937173771037684\n",
      "=== FINISHED FOLD 4/10, log loss=0.23301587075902722, accuracy=0.9028785600662439, amex=0.7937173771037684 ===\n",
      "time to run this fold: 0s\n",
      "=== STARTING FOLD 5/10 (10) ===\n",
      "creating classifier\n",
      "fitting\n"
     ]
    },
    {
     "name": "stderr",
     "output_type": "stream",
     "text": [
      "/usr/local/lib/python3.8/dist-packages/sklearn/linear_model/_logistic.py:1113: UserWarning: Setting penalty='none' will ignore the C and l1_ratio parameters\n",
      "  warnings.warn(\n"
     ]
    },
    {
     "name": "stdout",
     "output_type": "stream",
     "text": [
      "predicting\n",
      "count zerO: 229458\n",
      "amex: 0.7899537606933084\n",
      "=== FINISHED FOLD 5/10, log loss=0.23485854428862235, accuracy=0.9034887014883093, amex=0.7899537606933084 ===\n",
      "time to run this fold: 0s\n",
      "=== STARTING FOLD 6/10 (10) ===\n",
      "creating classifier\n",
      "fitting\n"
     ]
    },
    {
     "name": "stderr",
     "output_type": "stream",
     "text": [
      "/usr/local/lib/python3.8/dist-packages/sklearn/linear_model/_logistic.py:1113: UserWarning: Setting penalty='none' will ignore the C and l1_ratio parameters\n",
      "  warnings.warn(\n"
     ]
    },
    {
     "name": "stdout",
     "output_type": "stream",
     "text": [
      "predicting\n",
      "count zerO: 275349\n",
      "amex: 0.7902042101475439\n",
      "=== FINISHED FOLD 6/10, log loss=0.23622832543781683, accuracy=0.9021158832886622, amex=0.7902042101475439 ===\n",
      "time to run this fold: 0s\n",
      "=== STARTING FOLD 7/10 (10) ===\n",
      "creating classifier\n",
      "fitting\n"
     ]
    },
    {
     "name": "stderr",
     "output_type": "stream",
     "text": [
      "/usr/local/lib/python3.8/dist-packages/sklearn/linear_model/_logistic.py:1113: UserWarning: Setting penalty='none' will ignore the C and l1_ratio parameters\n",
      "  warnings.warn(\n"
     ]
    },
    {
     "name": "stdout",
     "output_type": "stream",
     "text": [
      "predicting\n",
      "count zerO: 321240\n",
      "amex: 0.7935105790089094\n",
      "=== FINISHED FOLD 7/10, log loss=0.2308704567013646, accuracy=0.9051230088688413, amex=0.7935105790089094 ===\n",
      "time to run this fold: 0s\n",
      "=== STARTING FOLD 8/10 (10) ===\n",
      "creating classifier\n",
      "fitting\n"
     ]
    },
    {
     "name": "stderr",
     "output_type": "stream",
     "text": [
      "/usr/local/lib/python3.8/dist-packages/sklearn/linear_model/_logistic.py:1113: UserWarning: Setting penalty='none' will ignore the C and l1_ratio parameters\n",
      "  warnings.warn(\n"
     ]
    },
    {
     "name": "stdout",
     "output_type": "stream",
     "text": [
      "predicting\n",
      "count zerO: 367131\n",
      "amex: 0.7972141948097449\n",
      "=== FINISHED FOLD 8/10, log loss=0.23034594586514914, accuracy=0.9065176178335621, amex=0.7972141948097449 ===\n",
      "time to run this fold: 0s\n",
      "=== STARTING FOLD 9/10 (10) ===\n",
      "creating classifier\n",
      "fitting\n"
     ]
    },
    {
     "name": "stderr",
     "output_type": "stream",
     "text": [
      "/usr/local/lib/python3.8/dist-packages/sklearn/linear_model/_logistic.py:1113: UserWarning: Setting penalty='none' will ignore the C and l1_ratio parameters\n",
      "  warnings.warn(\n"
     ]
    },
    {
     "name": "stdout",
     "output_type": "stream",
     "text": [
      "predicting\n",
      "count zerO: 413022\n",
      "amex: 0.7960377707250587\n",
      "=== FINISHED FOLD 9/10, log loss=0.23072163499851597, accuracy=0.9039463075548583, amex=0.7960377707250587 ===\n",
      "time to run this fold: 0s\n",
      "=== STARTING FOLD 10/10 (10) ===\n",
      "creating classifier\n",
      "fitting\n"
     ]
    },
    {
     "name": "stderr",
     "output_type": "stream",
     "text": [
      "/usr/local/lib/python3.8/dist-packages/sklearn/linear_model/_logistic.py:1113: UserWarning: Setting penalty='none' will ignore the C and l1_ratio parameters\n",
      "  warnings.warn(\n",
      "\u001b[32m[I 2022-08-11 18:25:33,857]\u001b[0m Trial 30 finished with value: 0.7933035194008177 and parameters: {'solver': 'lbfgs', 'C': 7.30001, 'fit_intercept': True, 'class_weight': None, 'penalty-lbfgs': 'none'}. Best is trial 17 with value: 0.7933326074912369.\u001b[0m\n"
     ]
    },
    {
     "name": "stdout",
     "output_type": "stream",
     "text": [
      "predicting\n",
      "count zerO: 458913\n",
      "amex: 0.7868649388743914\n",
      "=== FINISHED FOLD 10/10, log loss=0.23674875401528378, accuracy=0.9024863262949162, amex=0.7868649388743914 ===\n",
      "time to run this fold: 0s\n",
      "time to run folds: 7s\n",
      "iteration logloss: 0.23257281215119266, iteration acc: 0.9043609486542433, Iteration amex: 0.7933035194008177\n",
      "2: l1\n",
      "STARTING OPTIMIZATION iteration 32, data size: (458913, 4), params={'solver': 'liblinear', 'C': 3.8000100000000003, 'fit_intercept': True, 'class_weight': None, 'n_jobs': -1, 'verbose': 0, 'penalty': 'l1'}\n",
      "=== STARTING FOLD 1/10 (10) ===\n",
      "creating classifier\n",
      "fitting\n"
     ]
    },
    {
     "name": "stderr",
     "output_type": "stream",
     "text": [
      "/usr/local/lib/python3.8/dist-packages/optuna/distributions.py:545: UserWarning: The distribution is specified by [1e-05, 10] and q=0.1, but the range is not divisible by `q`. It will be replaced by [1e-05, 9.90001].\n",
      "  warnings.warn(\n",
      "/usr/local/lib/python3.8/dist-packages/sklearn/linear_model/_logistic.py:1153: UserWarning: 'n_jobs' > 1 does not have any effect when 'solver' is set to 'liblinear'. Got 'n_jobs' = 32.\n",
      "  warnings.warn(\n"
     ]
    },
    {
     "name": "stdout",
     "output_type": "stream",
     "text": [
      "predicting\n",
      "count zerO: 45892\n",
      "amex: 0.7900765645577335\n",
      "=== FINISHED FOLD 1/10, log loss=0.23464883056865182, accuracy=0.9048853830733026, amex=0.7900765645577335 ===\n",
      "time to run this fold: 1s\n",
      "=== STARTING FOLD 2/10 (10) ===\n",
      "creating classifier\n",
      "fitting\n"
     ]
    },
    {
     "name": "stderr",
     "output_type": "stream",
     "text": [
      "/usr/local/lib/python3.8/dist-packages/sklearn/linear_model/_logistic.py:1153: UserWarning: 'n_jobs' > 1 does not have any effect when 'solver' is set to 'liblinear'. Got 'n_jobs' = 32.\n",
      "  warnings.warn(\n"
     ]
    },
    {
     "name": "stdout",
     "output_type": "stream",
     "text": [
      "predicting\n",
      "count zerO: 91784\n",
      "amex: 0.7982569393036136\n",
      "=== FINISHED FOLD 2/10, log loss=0.2298750538367575, accuracy=0.9051904471367559, amex=0.7982569393036136 ===\n",
      "time to run this fold: 1s\n",
      "=== STARTING FOLD 3/10 (10) ===\n",
      "creating classifier\n",
      "fitting\n"
     ]
    },
    {
     "name": "stderr",
     "output_type": "stream",
     "text": [
      "/usr/local/lib/python3.8/dist-packages/sklearn/linear_model/_logistic.py:1153: UserWarning: 'n_jobs' > 1 does not have any effect when 'solver' is set to 'liblinear'. Got 'n_jobs' = 32.\n",
      "  warnings.warn(\n"
     ]
    },
    {
     "name": "stdout",
     "output_type": "stream",
     "text": [
      "predicting\n",
      "count zerO: 137676\n",
      "amex: 0.7972839974785297\n",
      "=== FINISHED FOLD 3/10, log loss=0.22840952642508758, accuracy=0.9070644120979692, amex=0.7972839974785297 ===\n",
      "time to run this fold: 1s\n",
      "=== STARTING FOLD 4/10 (10) ===\n",
      "creating classifier\n",
      "fitting\n"
     ]
    },
    {
     "name": "stderr",
     "output_type": "stream",
     "text": [
      "/usr/local/lib/python3.8/dist-packages/sklearn/linear_model/_logistic.py:1153: UserWarning: 'n_jobs' > 1 does not have any effect when 'solver' is set to 'liblinear'. Got 'n_jobs' = 32.\n",
      "  warnings.warn(\n"
     ]
    },
    {
     "name": "stdout",
     "output_type": "stream",
     "text": [
      "predicting\n",
      "count zerO: 183567\n",
      "amex: 0.7938420569201632\n",
      "=== FINISHED FOLD 4/10, log loss=0.2330178090840316, accuracy=0.9028567693011702, amex=0.7938420569201632 ===\n",
      "time to run this fold: 1s\n",
      "=== STARTING FOLD 5/10 (10) ===\n",
      "creating classifier\n",
      "fitting\n"
     ]
    },
    {
     "name": "stderr",
     "output_type": "stream",
     "text": [
      "/usr/local/lib/python3.8/dist-packages/sklearn/linear_model/_logistic.py:1153: UserWarning: 'n_jobs' > 1 does not have any effect when 'solver' is set to 'liblinear'. Got 'n_jobs' = 32.\n",
      "  warnings.warn(\n"
     ]
    },
    {
     "name": "stdout",
     "output_type": "stream",
     "text": [
      "predicting\n",
      "count zerO: 229458\n",
      "amex: 0.7898693894252534\n",
      "=== FINISHED FOLD 5/10, log loss=0.23486092467922678, accuracy=0.903510492253383, amex=0.7898693894252534 ===\n",
      "time to run this fold: 1s\n",
      "=== STARTING FOLD 6/10 (10) ===\n",
      "creating classifier\n",
      "fitting\n"
     ]
    },
    {
     "name": "stderr",
     "output_type": "stream",
     "text": [
      "/usr/local/lib/python3.8/dist-packages/sklearn/linear_model/_logistic.py:1153: UserWarning: 'n_jobs' > 1 does not have any effect when 'solver' is set to 'liblinear'. Got 'n_jobs' = 32.\n",
      "  warnings.warn(\n"
     ]
    },
    {
     "name": "stdout",
     "output_type": "stream",
     "text": [
      "predicting\n",
      "count zerO: 275349\n",
      "amex: 0.7902050440872178\n",
      "=== FINISHED FOLD 6/10, log loss=0.2362250912710821, accuracy=0.902137674053736, amex=0.7902050440872178 ===\n",
      "time to run this fold: 1s\n",
      "=== STARTING FOLD 7/10 (10) ===\n",
      "creating classifier\n",
      "fitting\n"
     ]
    },
    {
     "name": "stderr",
     "output_type": "stream",
     "text": [
      "/usr/local/lib/python3.8/dist-packages/sklearn/linear_model/_logistic.py:1153: UserWarning: 'n_jobs' > 1 does not have any effect when 'solver' is set to 'liblinear'. Got 'n_jobs' = 32.\n",
      "  warnings.warn(\n"
     ]
    },
    {
     "name": "stdout",
     "output_type": "stream",
     "text": [
      "predicting\n",
      "count zerO: 321240\n",
      "amex: 0.7935521956502034\n",
      "=== FINISHED FOLD 7/10, log loss=0.23087071484006236, accuracy=0.905166590398989, amex=0.7935521956502034 ===\n",
      "time to run this fold: 1s\n",
      "=== STARTING FOLD 8/10 (10) ===\n",
      "creating classifier\n",
      "fitting\n"
     ]
    },
    {
     "name": "stderr",
     "output_type": "stream",
     "text": [
      "/usr/local/lib/python3.8/dist-packages/sklearn/linear_model/_logistic.py:1153: UserWarning: 'n_jobs' > 1 does not have any effect when 'solver' is set to 'liblinear'. Got 'n_jobs' = 32.\n",
      "  warnings.warn(\n"
     ]
    },
    {
     "name": "stdout",
     "output_type": "stream",
     "text": [
      "predicting\n",
      "count zerO: 367131\n",
      "amex: 0.7971723208102134\n",
      "=== FINISHED FOLD 8/10, log loss=0.2303449121929184, accuracy=0.9065176178335621, amex=0.7971723208102134 ===\n",
      "time to run this fold: 1s\n",
      "=== STARTING FOLD 9/10 (10) ===\n",
      "creating classifier\n",
      "fitting\n"
     ]
    },
    {
     "name": "stderr",
     "output_type": "stream",
     "text": [
      "/usr/local/lib/python3.8/dist-packages/sklearn/linear_model/_logistic.py:1153: UserWarning: 'n_jobs' > 1 does not have any effect when 'solver' is set to 'liblinear'. Got 'n_jobs' = 32.\n",
      "  warnings.warn(\n"
     ]
    },
    {
     "name": "stdout",
     "output_type": "stream",
     "text": [
      "predicting\n",
      "count zerO: 413022\n",
      "amex: 0.7959534807889375\n",
      "=== FINISHED FOLD 9/10, log loss=0.23072193705803629, accuracy=0.903968098319932, amex=0.7959534807889375 ===\n",
      "time to run this fold: 1s\n",
      "=== STARTING FOLD 10/10 (10) ===\n",
      "creating classifier\n",
      "fitting\n"
     ]
    },
    {
     "name": "stderr",
     "output_type": "stream",
     "text": [
      "/usr/local/lib/python3.8/dist-packages/sklearn/linear_model/_logistic.py:1153: UserWarning: 'n_jobs' > 1 does not have any effect when 'solver' is set to 'liblinear'. Got 'n_jobs' = 32.\n",
      "  warnings.warn(\n",
      "\u001b[32m[I 2022-08-11 18:25:46,929]\u001b[0m Trial 31 finished with value: 0.7932950632806887 and parameters: {'solver': 'liblinear', 'C': 3.8000100000000003, 'fit_intercept': True, 'class_weight': None, 'penalty-liblinear': 'l1'}. Best is trial 17 with value: 0.7933326074912369.\u001b[0m\n"
     ]
    },
    {
     "name": "stdout",
     "output_type": "stream",
     "text": [
      "predicting\n",
      "count zerO: 458913\n",
      "amex: 0.7867386437850215\n",
      "=== FINISHED FOLD 10/10, log loss=0.23674829217939433, accuracy=0.9025299078250637, amex=0.7867386437850215 ===\n",
      "time to run this fold: 0s\n",
      "time to run folds: 13s\n",
      "iteration logloss: 0.23257230921352487, iteration acc: 0.9043827392293864, Iteration amex: 0.7932950632806887\n",
      "2: l1\n",
      "STARTING OPTIMIZATION iteration 33, data size: (458913, 4), params={'solver': 'liblinear', 'C': 2.60001, 'fit_intercept': True, 'class_weight': None, 'n_jobs': -1, 'verbose': 0, 'penalty': 'l1'}\n",
      "=== STARTING FOLD 1/10 (10) ===\n",
      "creating classifier\n",
      "fitting\n"
     ]
    },
    {
     "name": "stderr",
     "output_type": "stream",
     "text": [
      "/usr/local/lib/python3.8/dist-packages/optuna/distributions.py:545: UserWarning: The distribution is specified by [1e-05, 10] and q=0.1, but the range is not divisible by `q`. It will be replaced by [1e-05, 9.90001].\n",
      "  warnings.warn(\n",
      "/usr/local/lib/python3.8/dist-packages/sklearn/linear_model/_logistic.py:1153: UserWarning: 'n_jobs' > 1 does not have any effect when 'solver' is set to 'liblinear'. Got 'n_jobs' = 32.\n",
      "  warnings.warn(\n"
     ]
    },
    {
     "name": "stdout",
     "output_type": "stream",
     "text": [
      "predicting\n",
      "count zerO: 45892\n",
      "amex: 0.7900769728544694\n",
      "=== FINISHED FOLD 1/10, log loss=0.234650742090904, accuracy=0.9048635927830558, amex=0.7900769728544694 ===\n",
      "time to run this fold: 1s\n",
      "=== STARTING FOLD 2/10 (10) ===\n",
      "creating classifier\n",
      "fitting\n"
     ]
    },
    {
     "name": "stderr",
     "output_type": "stream",
     "text": [
      "/usr/local/lib/python3.8/dist-packages/sklearn/linear_model/_logistic.py:1153: UserWarning: 'n_jobs' > 1 does not have any effect when 'solver' is set to 'liblinear'. Got 'n_jobs' = 32.\n",
      "  warnings.warn(\n"
     ]
    },
    {
     "name": "stdout",
     "output_type": "stream",
     "text": [
      "predicting\n",
      "count zerO: 91784\n",
      "amex: 0.7982570110648581\n",
      "=== FINISHED FOLD 2/10, log loss=0.22987489036431313, accuracy=0.9051904471367559, amex=0.7982570110648581 ===\n",
      "time to run this fold: 1s\n",
      "=== STARTING FOLD 3/10 (10) ===\n",
      "creating classifier\n",
      "fitting\n"
     ]
    },
    {
     "name": "stderr",
     "output_type": "stream",
     "text": [
      "/usr/local/lib/python3.8/dist-packages/sklearn/linear_model/_logistic.py:1153: UserWarning: 'n_jobs' > 1 does not have any effect when 'solver' is set to 'liblinear'. Got 'n_jobs' = 32.\n",
      "  warnings.warn(\n"
     ]
    },
    {
     "name": "stdout",
     "output_type": "stream",
     "text": [
      "predicting\n",
      "count zerO: 137676\n",
      "amex: 0.7971586154910252\n",
      "=== FINISHED FOLD 3/10, log loss=0.22840947329979067, accuracy=0.9069990412272292, amex=0.7971586154910252 ===\n",
      "time to run this fold: 1s\n",
      "=== STARTING FOLD 4/10 (10) ===\n",
      "creating classifier\n",
      "fitting\n"
     ]
    },
    {
     "name": "stderr",
     "output_type": "stream",
     "text": [
      "/usr/local/lib/python3.8/dist-packages/sklearn/linear_model/_logistic.py:1153: UserWarning: 'n_jobs' > 1 does not have any effect when 'solver' is set to 'liblinear'. Got 'n_jobs' = 32.\n",
      "  warnings.warn(\n"
     ]
    },
    {
     "name": "stdout",
     "output_type": "stream",
     "text": [
      "predicting\n",
      "count zerO: 183567\n",
      "amex: 0.7938000581285476\n",
      "=== FINISHED FOLD 4/10, log loss=0.23301925529049583, accuracy=0.9028567693011702, amex=0.7938000581285476 ===\n",
      "time to run this fold: 1s\n",
      "=== STARTING FOLD 5/10 (10) ===\n",
      "creating classifier\n",
      "fitting\n"
     ]
    },
    {
     "name": "stderr",
     "output_type": "stream",
     "text": [
      "/usr/local/lib/python3.8/dist-packages/sklearn/linear_model/_logistic.py:1153: UserWarning: 'n_jobs' > 1 does not have any effect when 'solver' is set to 'liblinear'. Got 'n_jobs' = 32.\n",
      "  warnings.warn(\n"
     ]
    },
    {
     "name": "stdout",
     "output_type": "stream",
     "text": [
      "predicting\n",
      "count zerO: 229458\n",
      "amex: 0.7899117891237659\n",
      "=== FINISHED FOLD 5/10, log loss=0.23485619565987084, accuracy=0.903510492253383, amex=0.7899117891237659 ===\n",
      "time to run this fold: 1s\n",
      "=== STARTING FOLD 6/10 (10) ===\n",
      "creating classifier\n",
      "fitting\n"
     ]
    },
    {
     "name": "stderr",
     "output_type": "stream",
     "text": [
      "/usr/local/lib/python3.8/dist-packages/sklearn/linear_model/_logistic.py:1153: UserWarning: 'n_jobs' > 1 does not have any effect when 'solver' is set to 'liblinear'. Got 'n_jobs' = 32.\n",
      "  warnings.warn(\n"
     ]
    },
    {
     "name": "stdout",
     "output_type": "stream",
     "text": [
      "predicting\n",
      "count zerO: 275349\n",
      "amex: 0.7902869881040191\n",
      "=== FINISHED FOLD 6/10, log loss=0.23623132969985944, accuracy=0.902137674053736, amex=0.7902869881040191 ===\n",
      "time to run this fold: 1s\n",
      "=== STARTING FOLD 7/10 (10) ===\n",
      "creating classifier\n",
      "fitting\n"
     ]
    },
    {
     "name": "stderr",
     "output_type": "stream",
     "text": [
      "/usr/local/lib/python3.8/dist-packages/sklearn/linear_model/_logistic.py:1153: UserWarning: 'n_jobs' > 1 does not have any effect when 'solver' is set to 'liblinear'. Got 'n_jobs' = 32.\n",
      "  warnings.warn(\n"
     ]
    },
    {
     "name": "stdout",
     "output_type": "stream",
     "text": [
      "predicting\n",
      "count zerO: 321240\n",
      "amex: 0.793552131310644\n",
      "=== FINISHED FOLD 7/10, log loss=0.23087144509842467, accuracy=0.9051883811640626, amex=0.793552131310644 ===\n",
      "time to run this fold: 0s\n",
      "=== STARTING FOLD 8/10 (10) ===\n",
      "creating classifier\n",
      "fitting\n"
     ]
    },
    {
     "name": "stderr",
     "output_type": "stream",
     "text": [
      "/usr/local/lib/python3.8/dist-packages/sklearn/linear_model/_logistic.py:1153: UserWarning: 'n_jobs' > 1 does not have any effect when 'solver' is set to 'liblinear'. Got 'n_jobs' = 32.\n",
      "  warnings.warn(\n"
     ]
    },
    {
     "name": "stdout",
     "output_type": "stream",
     "text": [
      "predicting\n",
      "count zerO: 367131\n",
      "amex: 0.7972143036920762\n",
      "=== FINISHED FOLD 8/10, log loss=0.23034582891430647, accuracy=0.9065176178335621, amex=0.7972143036920762 ===\n",
      "time to run this fold: 1s\n",
      "=== STARTING FOLD 9/10 (10) ===\n",
      "creating classifier\n",
      "fitting\n"
     ]
    },
    {
     "name": "stderr",
     "output_type": "stream",
     "text": [
      "/usr/local/lib/python3.8/dist-packages/sklearn/linear_model/_logistic.py:1153: UserWarning: 'n_jobs' > 1 does not have any effect when 'solver' is set to 'liblinear'. Got 'n_jobs' = 32.\n",
      "  warnings.warn(\n"
     ]
    },
    {
     "name": "stdout",
     "output_type": "stream",
     "text": [
      "predicting\n",
      "count zerO: 413022\n",
      "amex: 0.7960796348261966\n",
      "=== FINISHED FOLD 9/10, log loss=0.23072130568339225, accuracy=0.903968098319932, amex=0.7960796348261966 ===\n",
      "time to run this fold: 2s\n",
      "=== STARTING FOLD 10/10 (10) ===\n",
      "creating classifier\n",
      "fitting\n"
     ]
    },
    {
     "name": "stderr",
     "output_type": "stream",
     "text": [
      "/usr/local/lib/python3.8/dist-packages/sklearn/linear_model/_logistic.py:1153: UserWarning: 'n_jobs' > 1 does not have any effect when 'solver' is set to 'liblinear'. Got 'n_jobs' = 32.\n",
      "  warnings.warn(\n",
      "\u001b[32m[I 2022-08-11 18:26:00,572]\u001b[0m Trial 32 finished with value: 0.7933076128583836 and parameters: {'solver': 'liblinear', 'C': 2.60001, 'fit_intercept': True, 'class_weight': None, 'penalty-liblinear': 'l1'}. Best is trial 17 with value: 0.7933326074912369.\u001b[0m\n"
     ]
    },
    {
     "name": "stdout",
     "output_type": "stream",
     "text": [
      "predicting\n",
      "count zerO: 458913\n",
      "amex: 0.7867386239882338\n",
      "=== FINISHED FOLD 10/10, log loss=0.23674854239433454, accuracy=0.90250811705999, amex=0.7867386239882338 ===\n",
      "time to run this fold: 0s\n",
      "time to run folds: 13s\n",
      "iteration logloss: 0.23257290084956922, iteration acc: 0.9043740231132876, Iteration amex: 0.7933076128583836\n",
      "4: none\n",
      "STARTING OPTIMIZATION iteration 34, data size: (458913, 4), params={'solver': 'saga', 'C': 5.60001, 'fit_intercept': True, 'class_weight': None, 'n_jobs': -1, 'verbose': 0, 'penalty': 'none'}\n",
      "=== STARTING FOLD 1/10 (10) ===\n",
      "creating classifier\n",
      "fitting\n"
     ]
    },
    {
     "name": "stderr",
     "output_type": "stream",
     "text": [
      "/usr/local/lib/python3.8/dist-packages/optuna/distributions.py:545: UserWarning: The distribution is specified by [1e-05, 10] and q=0.1, but the range is not divisible by `q`. It will be replaced by [1e-05, 9.90001].\n",
      "  warnings.warn(\n",
      "/usr/local/lib/python3.8/dist-packages/sklearn/linear_model/_logistic.py:1113: UserWarning: Setting penalty='none' will ignore the C and l1_ratio parameters\n",
      "  warnings.warn(\n"
     ]
    },
    {
     "name": "stdout",
     "output_type": "stream",
     "text": [
      "predicting\n",
      "count zerO: 45892\n",
      "amex: 0.7900768045867237\n",
      "=== FINISHED FOLD 1/10, log loss=0.234649773153693, accuracy=0.9048853830733026, amex=0.7900768045867237 ===\n",
      "time to run this fold: 0s\n",
      "=== STARTING FOLD 2/10 (10) ===\n",
      "creating classifier\n",
      "fitting\n"
     ]
    },
    {
     "name": "stderr",
     "output_type": "stream",
     "text": [
      "/usr/local/lib/python3.8/dist-packages/sklearn/linear_model/_logistic.py:1113: UserWarning: Setting penalty='none' will ignore the C and l1_ratio parameters\n",
      "  warnings.warn(\n"
     ]
    },
    {
     "name": "stdout",
     "output_type": "stream",
     "text": [
      "predicting\n",
      "count zerO: 91784\n",
      "amex: 0.7982557713274955\n",
      "=== FINISHED FOLD 2/10, log loss=0.22987894753090882, accuracy=0.9051686568465092, amex=0.7982557713274955 ===\n",
      "time to run this fold: 0s\n",
      "=== STARTING FOLD 3/10 (10) ===\n",
      "creating classifier\n",
      "fitting\n"
     ]
    },
    {
     "name": "stderr",
     "output_type": "stream",
     "text": [
      "/usr/local/lib/python3.8/dist-packages/sklearn/linear_model/_logistic.py:1113: UserWarning: Setting penalty='none' will ignore the C and l1_ratio parameters\n",
      "  warnings.warn(\n"
     ]
    },
    {
     "name": "stdout",
     "output_type": "stream",
     "text": [
      "predicting\n",
      "count zerO: 137676\n",
      "amex: 0.7972424426868434\n",
      "=== FINISHED FOLD 3/10, log loss=0.22840913444995217, accuracy=0.9070208315174758, amex=0.7972424426868434 ===\n",
      "time to run this fold: 0s\n",
      "=== STARTING FOLD 4/10 (10) ===\n",
      "creating classifier\n",
      "fitting\n"
     ]
    },
    {
     "name": "stderr",
     "output_type": "stream",
     "text": [
      "/usr/local/lib/python3.8/dist-packages/sklearn/linear_model/_logistic.py:1113: UserWarning: Setting penalty='none' will ignore the C and l1_ratio parameters\n",
      "  warnings.warn(\n"
     ]
    },
    {
     "name": "stdout",
     "output_type": "stream",
     "text": [
      "predicting\n",
      "count zerO: 183567\n",
      "amex: 0.7937173944269059\n",
      "=== FINISHED FOLD 4/10, log loss=0.233015897618064, accuracy=0.9028785600662439, amex=0.7937173944269059 ===\n",
      "time to run this fold: 0s\n",
      "=== STARTING FOLD 5/10 (10) ===\n",
      "creating classifier\n",
      "fitting\n"
     ]
    },
    {
     "name": "stderr",
     "output_type": "stream",
     "text": [
      "/usr/local/lib/python3.8/dist-packages/sklearn/linear_model/_logistic.py:1113: UserWarning: Setting penalty='none' will ignore the C and l1_ratio parameters\n",
      "  warnings.warn(\n"
     ]
    },
    {
     "name": "stdout",
     "output_type": "stream",
     "text": [
      "predicting\n",
      "count zerO: 229458\n",
      "amex: 0.789953775541712\n",
      "=== FINISHED FOLD 5/10, log loss=0.23485874705537904, accuracy=0.9034887014883093, amex=0.789953775541712 ===\n",
      "time to run this fold: 0s\n",
      "=== STARTING FOLD 6/10 (10) ===\n",
      "creating classifier\n",
      "fitting\n"
     ]
    },
    {
     "name": "stderr",
     "output_type": "stream",
     "text": [
      "/usr/local/lib/python3.8/dist-packages/sklearn/linear_model/_logistic.py:1113: UserWarning: Setting penalty='none' will ignore the C and l1_ratio parameters\n",
      "  warnings.warn(\n"
     ]
    },
    {
     "name": "stdout",
     "output_type": "stream",
     "text": [
      "predicting\n",
      "count zerO: 275349\n",
      "amex: 0.7902041977745518\n",
      "=== FINISHED FOLD 6/10, log loss=0.23622822077530664, accuracy=0.9021158832886622, amex=0.7902041977745518 ===\n",
      "time to run this fold: 0s\n",
      "=== STARTING FOLD 7/10 (10) ===\n",
      "creating classifier\n",
      "fitting\n"
     ]
    },
    {
     "name": "stderr",
     "output_type": "stream",
     "text": [
      "/usr/local/lib/python3.8/dist-packages/sklearn/linear_model/_logistic.py:1113: UserWarning: Setting penalty='none' will ignore the C and l1_ratio parameters\n",
      "  warnings.warn(\n"
     ]
    },
    {
     "name": "stdout",
     "output_type": "stream",
     "text": [
      "predicting\n",
      "count zerO: 321240\n",
      "amex: 0.7935105790089094\n",
      "=== FINISHED FOLD 7/10, log loss=0.23087048782168068, accuracy=0.9051230088688413, amex=0.7935105790089094 ===\n",
      "time to run this fold: 0s\n",
      "=== STARTING FOLD 8/10 (10) ===\n",
      "creating classifier\n",
      "fitting\n"
     ]
    },
    {
     "name": "stderr",
     "output_type": "stream",
     "text": [
      "/usr/local/lib/python3.8/dist-packages/sklearn/linear_model/_logistic.py:1113: UserWarning: Setting penalty='none' will ignore the C and l1_ratio parameters\n",
      "  warnings.warn(\n"
     ]
    },
    {
     "name": "stdout",
     "output_type": "stream",
     "text": [
      "predicting\n",
      "count zerO: 367131\n",
      "amex: 0.7972141502669731\n",
      "=== FINISHED FOLD 8/10, log loss=0.23034588764449596, accuracy=0.9065176178335621, amex=0.7972141502669731 ===\n",
      "time to run this fold: 0s\n",
      "=== STARTING FOLD 9/10 (10) ===\n",
      "creating classifier\n",
      "fitting\n"
     ]
    },
    {
     "name": "stderr",
     "output_type": "stream",
     "text": [
      "/usr/local/lib/python3.8/dist-packages/sklearn/linear_model/_logistic.py:1113: UserWarning: Setting penalty='none' will ignore the C and l1_ratio parameters\n",
      "  warnings.warn(\n"
     ]
    },
    {
     "name": "stdout",
     "output_type": "stream",
     "text": [
      "predicting\n",
      "count zerO: 413022\n",
      "amex: 0.7960377731996571\n",
      "=== FINISHED FOLD 9/10, log loss=0.23072150627358615, accuracy=0.9039463075548583, amex=0.7960377731996571 ===\n",
      "time to run this fold: 0s\n",
      "=== STARTING FOLD 10/10 (10) ===\n",
      "creating classifier\n",
      "fitting\n"
     ]
    },
    {
     "name": "stderr",
     "output_type": "stream",
     "text": [
      "/usr/local/lib/python3.8/dist-packages/sklearn/linear_model/_logistic.py:1113: UserWarning: Setting penalty='none' will ignore the C and l1_ratio parameters\n",
      "  warnings.warn(\n",
      "\u001b[32m[I 2022-08-11 18:26:07,967]\u001b[0m Trial 33 finished with value: 0.7933077758405407 and parameters: {'solver': 'saga', 'C': 5.60001, 'fit_intercept': True, 'class_weight': None, 'penalty-saga': 'none'}. Best is trial 17 with value: 0.7933326074912369.\u001b[0m\n"
     ]
    },
    {
     "name": "stdout",
     "output_type": "stream",
     "text": [
      "predicting\n",
      "count zerO: 458913\n",
      "amex: 0.7868648695856352\n",
      "=== FINISHED FOLD 10/10, log loss=0.23674886289684413, accuracy=0.9024863262949162, amex=0.7868648695856352 ===\n",
      "time to run this fold: 0s\n",
      "time to run folds: 7s\n",
      "iteration logloss: 0.23257274652199106, iteration acc: 0.9043631276832681, Iteration amex: 0.7933077758405407\n",
      "2: l1\n",
      "STARTING OPTIMIZATION iteration 35, data size: (458913, 4), params={'solver': 'liblinear', 'C': 4.60001, 'fit_intercept': True, 'class_weight': None, 'n_jobs': -1, 'verbose': 0, 'penalty': 'l1'}\n",
      "=== STARTING FOLD 1/10 (10) ===\n",
      "creating classifier\n",
      "fitting\n"
     ]
    },
    {
     "name": "stderr",
     "output_type": "stream",
     "text": [
      "/usr/local/lib/python3.8/dist-packages/optuna/distributions.py:545: UserWarning: The distribution is specified by [1e-05, 10] and q=0.1, but the range is not divisible by `q`. It will be replaced by [1e-05, 9.90001].\n",
      "  warnings.warn(\n",
      "/usr/local/lib/python3.8/dist-packages/sklearn/linear_model/_logistic.py:1153: UserWarning: 'n_jobs' > 1 does not have any effect when 'solver' is set to 'liblinear'. Got 'n_jobs' = 32.\n",
      "  warnings.warn(\n"
     ]
    },
    {
     "name": "stdout",
     "output_type": "stream",
     "text": [
      "predicting\n",
      "count zerO: 45892\n",
      "amex: 0.7900352646421913\n",
      "=== FINISHED FOLD 1/10, log loss=0.23464803294528983, accuracy=0.9049507539440426, amex=0.7900352646421913 ===\n",
      "time to run this fold: 1s\n",
      "=== STARTING FOLD 2/10 (10) ===\n",
      "creating classifier\n",
      "fitting\n"
     ]
    },
    {
     "name": "stderr",
     "output_type": "stream",
     "text": [
      "/usr/local/lib/python3.8/dist-packages/sklearn/linear_model/_logistic.py:1153: UserWarning: 'n_jobs' > 1 does not have any effect when 'solver' is set to 'liblinear'. Got 'n_jobs' = 32.\n",
      "  warnings.warn(\n"
     ]
    },
    {
     "name": "stdout",
     "output_type": "stream",
     "text": [
      "predicting\n",
      "count zerO: 91784\n",
      "amex: 0.7982569863196014\n",
      "=== FINISHED FOLD 2/10, log loss=0.22987427315168374, accuracy=0.9051904471367559, amex=0.7982569863196014 ===\n",
      "time to run this fold: 1s\n",
      "=== STARTING FOLD 3/10 (10) ===\n",
      "creating classifier\n",
      "fitting\n"
     ]
    },
    {
     "name": "stderr",
     "output_type": "stream",
     "text": [
      "/usr/local/lib/python3.8/dist-packages/sklearn/linear_model/_logistic.py:1153: UserWarning: 'n_jobs' > 1 does not have any effect when 'solver' is set to 'liblinear'. Got 'n_jobs' = 32.\n",
      "  warnings.warn(\n"
     ]
    },
    {
     "name": "stdout",
     "output_type": "stream",
     "text": [
      "predicting\n",
      "count zerO: 137676\n",
      "amex: 0.7971584818666388\n",
      "=== FINISHED FOLD 3/10, log loss=0.2284094291662786, accuracy=0.9070208315174758, amex=0.7971584818666388 ===\n",
      "time to run this fold: 1s\n",
      "=== STARTING FOLD 4/10 (10) ===\n",
      "creating classifier\n",
      "fitting\n"
     ]
    },
    {
     "name": "stderr",
     "output_type": "stream",
     "text": [
      "/usr/local/lib/python3.8/dist-packages/sklearn/linear_model/_logistic.py:1153: UserWarning: 'n_jobs' > 1 does not have any effect when 'solver' is set to 'liblinear'. Got 'n_jobs' = 32.\n",
      "  warnings.warn(\n"
     ]
    },
    {
     "name": "stdout",
     "output_type": "stream",
     "text": [
      "predicting\n",
      "count zerO: 183567\n",
      "amex: 0.7936757866432516\n",
      "=== FINISHED FOLD 4/10, log loss=0.2330127488398679, accuracy=0.9028785600662439, amex=0.7936757866432516 ===\n",
      "time to run this fold: 1s\n",
      "=== STARTING FOLD 5/10 (10) ===\n",
      "creating classifier\n",
      "fitting\n"
     ]
    },
    {
     "name": "stderr",
     "output_type": "stream",
     "text": [
      "/usr/local/lib/python3.8/dist-packages/sklearn/linear_model/_logistic.py:1153: UserWarning: 'n_jobs' > 1 does not have any effect when 'solver' is set to 'liblinear'. Got 'n_jobs' = 32.\n",
      "  warnings.warn(\n"
     ]
    },
    {
     "name": "stdout",
     "output_type": "stream",
     "text": [
      "predicting\n",
      "count zerO: 229458\n",
      "amex: 0.7899551267464389\n",
      "=== FINISHED FOLD 5/10, log loss=0.23485615658868245, accuracy=0.9034887014883093, amex=0.7899551267464389 ===\n",
      "time to run this fold: 0s\n",
      "=== STARTING FOLD 6/10 (10) ===\n",
      "creating classifier\n",
      "fitting\n"
     ]
    },
    {
     "name": "stderr",
     "output_type": "stream",
     "text": [
      "/usr/local/lib/python3.8/dist-packages/sklearn/linear_model/_logistic.py:1153: UserWarning: 'n_jobs' > 1 does not have any effect when 'solver' is set to 'liblinear'. Got 'n_jobs' = 32.\n",
      "  warnings.warn(\n"
     ]
    },
    {
     "name": "stdout",
     "output_type": "stream",
     "text": [
      "predicting\n",
      "count zerO: 275349\n",
      "amex: 0.7902048263225552\n",
      "=== FINISHED FOLD 6/10, log loss=0.23622668642214378, accuracy=0.902137674053736, amex=0.7902048263225552 ===\n",
      "time to run this fold: 1s\n",
      "=== STARTING FOLD 7/10 (10) ===\n",
      "creating classifier\n",
      "fitting\n"
     ]
    },
    {
     "name": "stderr",
     "output_type": "stream",
     "text": [
      "/usr/local/lib/python3.8/dist-packages/sklearn/linear_model/_logistic.py:1153: UserWarning: 'n_jobs' > 1 does not have any effect when 'solver' is set to 'liblinear'. Got 'n_jobs' = 32.\n",
      "  warnings.warn(\n"
     ]
    },
    {
     "name": "stdout",
     "output_type": "stream",
     "text": [
      "predicting\n",
      "count zerO: 321240\n",
      "amex: 0.7935109798938565\n",
      "=== FINISHED FOLD 7/10, log loss=0.2308692633896112, accuracy=0.9051447996339151, amex=0.7935109798938565 ===\n",
      "time to run this fold: 1s\n",
      "=== STARTING FOLD 8/10 (10) ===\n",
      "creating classifier\n",
      "fitting\n"
     ]
    },
    {
     "name": "stderr",
     "output_type": "stream",
     "text": [
      "/usr/local/lib/python3.8/dist-packages/sklearn/linear_model/_logistic.py:1153: UserWarning: 'n_jobs' > 1 does not have any effect when 'solver' is set to 'liblinear'. Got 'n_jobs' = 32.\n",
      "  warnings.warn(\n"
     ]
    },
    {
     "name": "stdout",
     "output_type": "stream",
     "text": [
      "predicting\n",
      "count zerO: 367131\n",
      "amex: 0.7972144323711952\n",
      "=== FINISHED FOLD 8/10, log loss=0.2303469075623257, accuracy=0.9064740363034146, amex=0.7972144323711952 ===\n",
      "time to run this fold: 1s\n",
      "=== STARTING FOLD 9/10 (10) ===\n",
      "creating classifier\n",
      "fitting\n"
     ]
    },
    {
     "name": "stderr",
     "output_type": "stream",
     "text": [
      "/usr/local/lib/python3.8/dist-packages/sklearn/linear_model/_logistic.py:1153: UserWarning: 'n_jobs' > 1 does not have any effect when 'solver' is set to 'liblinear'. Got 'n_jobs' = 32.\n",
      "  warnings.warn(\n"
     ]
    },
    {
     "name": "stdout",
     "output_type": "stream",
     "text": [
      "predicting\n",
      "count zerO: 413022\n",
      "amex: 0.795953433771567\n",
      "=== FINISHED FOLD 9/10, log loss=0.2307218921026159, accuracy=0.903968098319932, amex=0.795953433771567 ===\n",
      "time to run this fold: 1s\n",
      "=== STARTING FOLD 10/10 (10) ===\n",
      "creating classifier\n",
      "fitting\n"
     ]
    },
    {
     "name": "stderr",
     "output_type": "stream",
     "text": [
      "/usr/local/lib/python3.8/dist-packages/sklearn/linear_model/_logistic.py:1153: UserWarning: 'n_jobs' > 1 does not have any effect when 'solver' is set to 'liblinear'. Got 'n_jobs' = 32.\n",
      "  warnings.warn(\n",
      "\u001b[32m[I 2022-08-11 18:26:22,522]\u001b[0m Trial 34 finished with value: 0.7932746299111757 and parameters: {'solver': 'liblinear', 'C': 4.60001, 'fit_intercept': True, 'class_weight': None, 'penalty-liblinear': 'l1'}. Best is trial 17 with value: 0.7933326074912369.\u001b[0m\n"
     ]
    },
    {
     "name": "stdout",
     "output_type": "stream",
     "text": [
      "predicting\n",
      "count zerO: 458913\n",
      "amex: 0.786780980534461\n",
      "=== FINISHED FOLD 10/10, log loss=0.23674873118419235, accuracy=0.90250811705999, amex=0.786780980534461 ===\n",
      "time to run this fold: 1s\n",
      "time to run folds: 14s\n",
      "iteration logloss: 0.2325714121352691, iteration acc: 0.9043762019523814, Iteration amex: 0.7932746299111757\n",
      "2: l1\n",
      "STARTING OPTIMIZATION iteration 36, data size: (458913, 4), params={'solver': 'liblinear', 'C': 1.30001, 'fit_intercept': True, 'class_weight': None, 'n_jobs': -1, 'verbose': 0, 'penalty': 'l1'}\n",
      "=== STARTING FOLD 1/10 (10) ===\n",
      "creating classifier\n",
      "fitting\n"
     ]
    },
    {
     "name": "stderr",
     "output_type": "stream",
     "text": [
      "/usr/local/lib/python3.8/dist-packages/optuna/distributions.py:545: UserWarning: The distribution is specified by [1e-05, 10] and q=0.1, but the range is not divisible by `q`. It will be replaced by [1e-05, 9.90001].\n",
      "  warnings.warn(\n",
      "/usr/local/lib/python3.8/dist-packages/sklearn/linear_model/_logistic.py:1153: UserWarning: 'n_jobs' > 1 does not have any effect when 'solver' is set to 'liblinear'. Got 'n_jobs' = 32.\n",
      "  warnings.warn(\n"
     ]
    },
    {
     "name": "stdout",
     "output_type": "stream",
     "text": [
      "predicting\n",
      "count zerO: 45892\n",
      "amex: 0.7900352027790494\n",
      "=== FINISHED FOLD 1/10, log loss=0.2346479550362997, accuracy=0.9049507539440426, amex=0.7900352027790494 ===\n",
      "time to run this fold: 2s\n",
      "=== STARTING FOLD 2/10 (10) ===\n",
      "creating classifier\n",
      "fitting\n"
     ]
    },
    {
     "name": "stderr",
     "output_type": "stream",
     "text": [
      "/usr/local/lib/python3.8/dist-packages/sklearn/linear_model/_logistic.py:1153: UserWarning: 'n_jobs' > 1 does not have any effect when 'solver' is set to 'liblinear'. Got 'n_jobs' = 32.\n",
      "  warnings.warn(\n"
     ]
    },
    {
     "name": "stdout",
     "output_type": "stream",
     "text": [
      "predicting\n",
      "count zerO: 91784\n",
      "amex: 0.7982569269309852\n",
      "=== FINISHED FOLD 2/10, log loss=0.22987537349230663, accuracy=0.9051904471367559, amex=0.7982569269309852 ===\n",
      "time to run this fold: 1s\n",
      "=== STARTING FOLD 3/10 (10) ===\n",
      "creating classifier\n",
      "fitting\n"
     ]
    },
    {
     "name": "stderr",
     "output_type": "stream",
     "text": [
      "/usr/local/lib/python3.8/dist-packages/sklearn/linear_model/_logistic.py:1153: UserWarning: 'n_jobs' > 1 does not have any effect when 'solver' is set to 'liblinear'. Got 'n_jobs' = 32.\n",
      "  warnings.warn(\n"
     ]
    },
    {
     "name": "stdout",
     "output_type": "stream",
     "text": [
      "predicting\n",
      "count zerO: 137676\n",
      "amex: 0.7971584719685361\n",
      "=== FINISHED FOLD 3/10, log loss=0.22840973970031894, accuracy=0.9069990412272292, amex=0.7971584719685361 ===\n",
      "time to run this fold: 2s\n",
      "=== STARTING FOLD 4/10 (10) ===\n",
      "creating classifier\n",
      "fitting\n"
     ]
    },
    {
     "name": "stderr",
     "output_type": "stream",
     "text": [
      "/usr/local/lib/python3.8/dist-packages/sklearn/linear_model/_logistic.py:1153: UserWarning: 'n_jobs' > 1 does not have any effect when 'solver' is set to 'liblinear'. Got 'n_jobs' = 32.\n",
      "  warnings.warn(\n"
     ]
    },
    {
     "name": "stdout",
     "output_type": "stream",
     "text": [
      "predicting\n",
      "count zerO: 183567\n",
      "amex: 0.7937583389818663\n",
      "=== FINISHED FOLD 4/10, log loss=0.23301700384537216, accuracy=0.9028567693011702, amex=0.7937583389818663 ===\n",
      "time to run this fold: 1s\n",
      "=== STARTING FOLD 5/10 (10) ===\n",
      "creating classifier\n",
      "fitting\n"
     ]
    },
    {
     "name": "stderr",
     "output_type": "stream",
     "text": [
      "/usr/local/lib/python3.8/dist-packages/sklearn/linear_model/_logistic.py:1153: UserWarning: 'n_jobs' > 1 does not have any effect when 'solver' is set to 'liblinear'. Got 'n_jobs' = 32.\n",
      "  warnings.warn(\n"
     ]
    },
    {
     "name": "stdout",
     "output_type": "stream",
     "text": [
      "predicting\n",
      "count zerO: 229458\n",
      "amex: 0.7898694314957302\n",
      "=== FINISHED FOLD 5/10, log loss=0.23486076065036712, accuracy=0.903510492253383, amex=0.7898694314957302 ===\n",
      "time to run this fold: 1s\n",
      "=== STARTING FOLD 6/10 (10) ===\n",
      "creating classifier\n",
      "fitting\n"
     ]
    },
    {
     "name": "stderr",
     "output_type": "stream",
     "text": [
      "/usr/local/lib/python3.8/dist-packages/sklearn/linear_model/_logistic.py:1153: UserWarning: 'n_jobs' > 1 does not have any effect when 'solver' is set to 'liblinear'. Got 'n_jobs' = 32.\n",
      "  warnings.warn(\n"
     ]
    },
    {
     "name": "stdout",
     "output_type": "stream",
     "text": [
      "predicting\n",
      "count zerO: 275349\n",
      "amex: 0.7902050366634225\n",
      "=== FINISHED FOLD 6/10, log loss=0.23622656220567476, accuracy=0.902137674053736, amex=0.7902050366634225 ===\n",
      "time to run this fold: 1s\n",
      "=== STARTING FOLD 7/10 (10) ===\n",
      "creating classifier\n",
      "fitting\n"
     ]
    },
    {
     "name": "stderr",
     "output_type": "stream",
     "text": [
      "/usr/local/lib/python3.8/dist-packages/sklearn/linear_model/_logistic.py:1153: UserWarning: 'n_jobs' > 1 does not have any effect when 'solver' is set to 'liblinear'. Got 'n_jobs' = 32.\n",
      "  warnings.warn(\n"
     ]
    },
    {
     "name": "stdout",
     "output_type": "stream",
     "text": [
      "predicting\n",
      "count zerO: 321240\n",
      "amex: 0.7935525222971973\n",
      "=== FINISHED FOLD 7/10, log loss=0.230870357779177, accuracy=0.9051230088688413, amex=0.7935525222971973 ===\n",
      "time to run this fold: 1s\n",
      "=== STARTING FOLD 8/10 (10) ===\n",
      "creating classifier\n",
      "fitting\n"
     ]
    },
    {
     "name": "stderr",
     "output_type": "stream",
     "text": [
      "/usr/local/lib/python3.8/dist-packages/sklearn/linear_model/_logistic.py:1153: UserWarning: 'n_jobs' > 1 does not have any effect when 'solver' is set to 'liblinear'. Got 'n_jobs' = 32.\n",
      "  warnings.warn(\n"
     ]
    },
    {
     "name": "stdout",
     "output_type": "stream",
     "text": [
      "predicting\n",
      "count zerO: 367131\n",
      "amex: 0.7972144274219983\n",
      "=== FINISHED FOLD 8/10, log loss=0.2303470267735375, accuracy=0.9064740363034146, amex=0.7972144274219983 ===\n",
      "time to run this fold: 1s\n",
      "=== STARTING FOLD 9/10 (10) ===\n",
      "creating classifier\n",
      "fitting\n"
     ]
    },
    {
     "name": "stderr",
     "output_type": "stream",
     "text": [
      "/usr/local/lib/python3.8/dist-packages/sklearn/linear_model/_logistic.py:1153: UserWarning: 'n_jobs' > 1 does not have any effect when 'solver' is set to 'liblinear'. Got 'n_jobs' = 32.\n",
      "  warnings.warn(\n"
     ]
    },
    {
     "name": "stdout",
     "output_type": "stream",
     "text": [
      "predicting\n",
      "count zerO: 413022\n",
      "amex: 0.796079530893062\n",
      "=== FINISHED FOLD 9/10, log loss=0.2307215586018121, accuracy=0.9039463075548583, amex=0.796079530893062 ===\n",
      "time to run this fold: 1s\n",
      "=== STARTING FOLD 10/10 (10) ===\n",
      "creating classifier\n",
      "fitting\n"
     ]
    },
    {
     "name": "stderr",
     "output_type": "stream",
     "text": [
      "/usr/local/lib/python3.8/dist-packages/sklearn/linear_model/_logistic.py:1153: UserWarning: 'n_jobs' > 1 does not have any effect when 'solver' is set to 'liblinear'. Got 'n_jobs' = 32.\n",
      "  warnings.warn(\n",
      "\u001b[32m[I 2022-08-11 18:26:39,060]\u001b[0m Trial 35 finished with value: 0.793316331414374 and parameters: {'solver': 'liblinear', 'C': 1.30001, 'fit_intercept': True, 'class_weight': None, 'penalty-liblinear': 'l1'}. Best is trial 17 with value: 0.7933326074912369.\u001b[0m\n"
     ]
    },
    {
     "name": "stdout",
     "output_type": "stream",
     "text": [
      "predicting\n",
      "count zerO: 458913\n",
      "amex: 0.7870334247118933\n",
      "=== FINISHED FOLD 10/10, log loss=0.236748648061732, accuracy=0.9024863262949162, amex=0.7870334247118933 ===\n",
      "time to run this fold: 1s\n",
      "time to run folds: 16s\n",
      "iteration logloss: 0.23257249861465973, iteration acc: 0.9043674856938347, Iteration amex: 0.793316331414374\n",
      "4: l2\n",
      "STARTING OPTIMIZATION iteration 37, data size: (458913, 4), params={'solver': 'saga', 'C': 1e-05, 'fit_intercept': False, 'class_weight': None, 'n_jobs': -1, 'verbose': 0, 'penalty': 'l2'}\n",
      "=== STARTING FOLD 1/10 (10) ===\n",
      "creating classifier\n",
      "fitting\n"
     ]
    },
    {
     "name": "stderr",
     "output_type": "stream",
     "text": [
      "/usr/local/lib/python3.8/dist-packages/optuna/distributions.py:545: UserWarning: The distribution is specified by [1e-05, 10] and q=0.1, but the range is not divisible by `q`. It will be replaced by [1e-05, 9.90001].\n",
      "  warnings.warn(\n"
     ]
    },
    {
     "name": "stdout",
     "output_type": "stream",
     "text": [
      "predicting\n",
      "count zerO: 45892\n",
      "amex: 0.7893479568102021\n",
      "=== FINISHED FOLD 1/10, log loss=0.6666063118587001, accuracy=0.2589340190011331, amex=0.7893479568102021 ===\n",
      "time to run this fold: 0s\n",
      "=== STARTING FOLD 2/10 (10) ===\n",
      "creating classifier\n",
      "fitting\n",
      "predicting\n",
      "count zerO: 91784\n",
      "amex: 0.7971677751873596\n",
      "=== FINISHED FOLD 2/10, log loss=0.6663572770035402, accuracy=0.2589340190011331, amex=0.7971677751873596 ===\n",
      "time to run this fold: 0s\n",
      "=== STARTING FOLD 3/10 (10) ===\n",
      "creating classifier\n",
      "fitting\n",
      "predicting\n",
      "count zerO: 137676\n",
      "amex: 0.7962084036610712\n",
      "=== FINISHED FOLD 3/10, log loss=0.665973110157151, accuracy=0.2589340190011331, amex=0.7962084036610712 ===\n",
      "time to run this fold: 0s\n",
      "=== STARTING FOLD 4/10 (10) ===\n",
      "creating classifier\n",
      "fitting\n",
      "predicting\n",
      "count zerO: 183567\n",
      "amex: 0.7923033366668262\n",
      "=== FINISHED FOLD 4/10, log loss=0.6668161191255525, accuracy=0.258917870606437, amex=0.7923033366668262 ===\n",
      "time to run this fold: 0s\n",
      "=== STARTING FOLD 5/10 (10) ===\n",
      "creating classifier\n",
      "fitting\n",
      "predicting\n",
      "count zerO: 229458\n",
      "amex: 0.7890992808556709\n",
      "=== FINISHED FOLD 5/10, log loss=0.6664501203754803, accuracy=0.258917870606437, amex=0.7890992808556709 ===\n",
      "time to run this fold: 0s\n",
      "=== STARTING FOLD 6/10 (10) ===\n",
      "creating classifier\n",
      "fitting\n",
      "predicting\n",
      "count zerO: 275349\n",
      "amex: 0.790714908032485\n",
      "=== FINISHED FOLD 6/10, log loss=0.6668526576780066, accuracy=0.25893966137151075, amex=0.790714908032485 ===\n",
      "time to run this fold: 0s\n",
      "=== STARTING FOLD 7/10 (10) ===\n",
      "creating classifier\n",
      "fitting\n",
      "predicting\n",
      "count zerO: 321240\n",
      "amex: 0.7927762359883992\n",
      "=== FINISHED FOLD 7/10, log loss=0.666358359691324, accuracy=0.25893966137151075, amex=0.7927762359883992 ===\n",
      "time to run this fold: 0s\n",
      "=== STARTING FOLD 8/10 (10) ===\n",
      "creating classifier\n",
      "fitting\n",
      "predicting\n",
      "count zerO: 367131\n",
      "amex: 0.7982097082622657\n",
      "=== FINISHED FOLD 8/10, log loss=0.6661891397824111, accuracy=0.25893966137151075, amex=0.7982097082622657 ===\n",
      "time to run this fold: 0s\n",
      "=== STARTING FOLD 9/10 (10) ===\n",
      "creating classifier\n",
      "fitting\n",
      "predicting\n",
      "count zerO: 413022\n",
      "amex: 0.793809944047341\n",
      "=== FINISHED FOLD 9/10, log loss=0.6664214830934081, accuracy=0.25893966137151075, amex=0.793809944047341 ===\n",
      "time to run this fold: 0s\n",
      "=== STARTING FOLD 10/10 (10) ===\n",
      "creating classifier\n",
      "fitting\n"
     ]
    },
    {
     "name": "stderr",
     "output_type": "stream",
     "text": [
      "\u001b[32m[I 2022-08-11 18:26:44,650]\u001b[0m Trial 36 finished with value: 0.7927352720474689 and parameters: {'solver': 'saga', 'C': 1e-05, 'fit_intercept': False, 'class_weight': None, 'penalty-saga': 'l2'}. Best is trial 17 with value: 0.7933326074912369.\u001b[0m\n"
     ]
    },
    {
     "name": "stdout",
     "output_type": "stream",
     "text": [
      "predicting\n",
      "count zerO: 458913\n",
      "amex: 0.7877151709630676\n",
      "=== FINISHED FOLD 10/10, log loss=0.666965934585145, accuracy=0.25893966137151075, amex=0.7877151709630676 ===\n",
      "time to run this fold: 0s\n",
      "time to run folds: 5s\n",
      "iteration logloss: 0.6664990513350719, iteration acc: 0.25893361050738267, Iteration amex: 0.7927352720474689\n",
      "2: l1\n",
      "STARTING OPTIMIZATION iteration 38, data size: (458913, 4), params={'solver': 'liblinear', 'C': 6.30001, 'fit_intercept': True, 'class_weight': None, 'n_jobs': -1, 'verbose': 0, 'penalty': 'l1'}\n",
      "=== STARTING FOLD 1/10 (10) ===\n",
      "creating classifier\n",
      "fitting\n"
     ]
    },
    {
     "name": "stderr",
     "output_type": "stream",
     "text": [
      "/usr/local/lib/python3.8/dist-packages/optuna/distributions.py:545: UserWarning: The distribution is specified by [1e-05, 10] and q=0.1, but the range is not divisible by `q`. It will be replaced by [1e-05, 9.90001].\n",
      "  warnings.warn(\n",
      "/usr/local/lib/python3.8/dist-packages/sklearn/linear_model/_logistic.py:1153: UserWarning: 'n_jobs' > 1 does not have any effect when 'solver' is set to 'liblinear'. Got 'n_jobs' = 32.\n",
      "  warnings.warn(\n"
     ]
    },
    {
     "name": "stdout",
     "output_type": "stream",
     "text": [
      "predicting\n",
      "count zerO: 45892\n",
      "amex: 0.7900351359668562\n",
      "=== FINISHED FOLD 1/10, log loss=0.2346481891730791, accuracy=0.9049289636537958, amex=0.7900351359668562 ===\n",
      "time to run this fold: 1s\n",
      "=== STARTING FOLD 2/10 (10) ===\n",
      "creating classifier\n",
      "fitting\n"
     ]
    },
    {
     "name": "stderr",
     "output_type": "stream",
     "text": [
      "/usr/local/lib/python3.8/dist-packages/sklearn/linear_model/_logistic.py:1153: UserWarning: 'n_jobs' > 1 does not have any effect when 'solver' is set to 'liblinear'. Got 'n_jobs' = 32.\n",
      "  warnings.warn(\n"
     ]
    },
    {
     "name": "stdout",
     "output_type": "stream",
     "text": [
      "predicting\n",
      "count zerO: 91784\n",
      "amex: 0.7982568922876258\n",
      "=== FINISHED FOLD 2/10, log loss=0.229875171386503, accuracy=0.9051904471367559, amex=0.7982568922876258 ===\n",
      "time to run this fold: 1s\n",
      "=== STARTING FOLD 3/10 (10) ===\n",
      "creating classifier\n",
      "fitting\n"
     ]
    },
    {
     "name": "stderr",
     "output_type": "stream",
     "text": [
      "/usr/local/lib/python3.8/dist-packages/sklearn/linear_model/_logistic.py:1153: UserWarning: 'n_jobs' > 1 does not have any effect when 'solver' is set to 'liblinear'. Got 'n_jobs' = 32.\n",
      "  warnings.warn(\n"
     ]
    },
    {
     "name": "stdout",
     "output_type": "stream",
     "text": [
      "predicting\n",
      "count zerO: 137676\n",
      "amex: 0.797241975001491\n",
      "=== FINISHED FOLD 3/10, log loss=0.2284094668693285, accuracy=0.9070644120979692, amex=0.797241975001491 ===\n",
      "time to run this fold: 1s\n",
      "=== STARTING FOLD 4/10 (10) ===\n",
      "creating classifier\n",
      "fitting\n"
     ]
    },
    {
     "name": "stderr",
     "output_type": "stream",
     "text": [
      "/usr/local/lib/python3.8/dist-packages/sklearn/linear_model/_logistic.py:1153: UserWarning: 'n_jobs' > 1 does not have any effect when 'solver' is set to 'liblinear'. Got 'n_jobs' = 32.\n",
      "  warnings.warn(\n"
     ]
    },
    {
     "name": "stdout",
     "output_type": "stream",
     "text": [
      "predicting\n",
      "count zerO: 183567\n",
      "amex: 0.7936759079052143\n",
      "=== FINISHED FOLD 4/10, log loss=0.2330127590391275, accuracy=0.9028785600662439, amex=0.7936759079052143 ===\n",
      "time to run this fold: 1s\n",
      "=== STARTING FOLD 5/10 (10) ===\n",
      "creating classifier\n",
      "fitting\n"
     ]
    },
    {
     "name": "stderr",
     "output_type": "stream",
     "text": [
      "/usr/local/lib/python3.8/dist-packages/sklearn/linear_model/_logistic.py:1153: UserWarning: 'n_jobs' > 1 does not have any effect when 'solver' is set to 'liblinear'. Got 'n_jobs' = 32.\n",
      "  warnings.warn(\n"
     ]
    },
    {
     "name": "stdout",
     "output_type": "stream",
     "text": [
      "predicting\n",
      "count zerO: 229458\n",
      "amex: 0.7898693028095656\n",
      "=== FINISHED FOLD 5/10, log loss=0.2348611464860409, accuracy=0.903510492253383, amex=0.7898693028095656 ===\n",
      "time to run this fold: 1s\n",
      "=== STARTING FOLD 6/10 (10) ===\n",
      "creating classifier\n",
      "fitting\n"
     ]
    },
    {
     "name": "stderr",
     "output_type": "stream",
     "text": [
      "/usr/local/lib/python3.8/dist-packages/sklearn/linear_model/_logistic.py:1153: UserWarning: 'n_jobs' > 1 does not have any effect when 'solver' is set to 'liblinear'. Got 'n_jobs' = 32.\n",
      "  warnings.warn(\n"
     ]
    },
    {
     "name": "stdout",
     "output_type": "stream",
     "text": [
      "predicting\n",
      "count zerO: 275349\n",
      "amex: 0.7902048832383193\n",
      "=== FINISHED FOLD 6/10, log loss=0.2362266187682598, accuracy=0.902137674053736, amex=0.7902048832383193 ===\n",
      "time to run this fold: 1s\n",
      "=== STARTING FOLD 7/10 (10) ===\n",
      "creating classifier\n",
      "fitting\n"
     ]
    },
    {
     "name": "stderr",
     "output_type": "stream",
     "text": [
      "/usr/local/lib/python3.8/dist-packages/sklearn/linear_model/_logistic.py:1153: UserWarning: 'n_jobs' > 1 does not have any effect when 'solver' is set to 'liblinear'. Got 'n_jobs' = 32.\n",
      "  warnings.warn(\n"
     ]
    },
    {
     "name": "stdout",
     "output_type": "stream",
     "text": [
      "predicting\n",
      "count zerO: 321240\n",
      "amex: 0.7935106903658391\n",
      "=== FINISHED FOLD 7/10, log loss=0.23087023945076338, accuracy=0.9051230088688413, amex=0.7935106903658391 ===\n",
      "time to run this fold: 2s\n",
      "=== STARTING FOLD 8/10 (10) ===\n",
      "creating classifier\n",
      "fitting\n"
     ]
    },
    {
     "name": "stderr",
     "output_type": "stream",
     "text": [
      "/usr/local/lib/python3.8/dist-packages/sklearn/linear_model/_logistic.py:1153: UserWarning: 'n_jobs' > 1 does not have any effect when 'solver' is set to 'liblinear'. Got 'n_jobs' = 32.\n",
      "  warnings.warn(\n"
     ]
    },
    {
     "name": "stdout",
     "output_type": "stream",
     "text": [
      "predicting\n",
      "count zerO: 367131\n",
      "amex: 0.7971722366738665\n",
      "=== FINISHED FOLD 8/10, log loss=0.23034524050808053, accuracy=0.9065176178335621, amex=0.7971722366738665 ===\n",
      "time to run this fold: 1s\n",
      "=== STARTING FOLD 9/10 (10) ===\n",
      "creating classifier\n",
      "fitting\n"
     ]
    },
    {
     "name": "stderr",
     "output_type": "stream",
     "text": [
      "/usr/local/lib/python3.8/dist-packages/sklearn/linear_model/_logistic.py:1153: UserWarning: 'n_jobs' > 1 does not have any effect when 'solver' is set to 'liblinear'. Got 'n_jobs' = 32.\n",
      "  warnings.warn(\n"
     ]
    },
    {
     "name": "stdout",
     "output_type": "stream",
     "text": [
      "predicting\n",
      "count zerO: 413022\n",
      "amex: 0.7960796744197715\n",
      "=== FINISHED FOLD 9/10, log loss=0.23072125054557893, accuracy=0.903968098319932, amex=0.7960796744197715 ===\n",
      "time to run this fold: 1s\n",
      "=== STARTING FOLD 10/10 (10) ===\n",
      "creating classifier\n",
      "fitting\n"
     ]
    },
    {
     "name": "stderr",
     "output_type": "stream",
     "text": [
      "/usr/local/lib/python3.8/dist-packages/sklearn/linear_model/_logistic.py:1153: UserWarning: 'n_jobs' > 1 does not have any effect when 'solver' is set to 'liblinear'. Got 'n_jobs' = 32.\n",
      "  warnings.warn(\n",
      "\u001b[32m[I 2022-08-11 18:27:00,997]\u001b[0m Trial 37 finished with value: 0.7933122252263612 and parameters: {'solver': 'liblinear', 'C': 6.30001, 'fit_intercept': True, 'class_weight': None, 'penalty-liblinear': 'l1'}. Best is trial 17 with value: 0.7933326074912369.\u001b[0m\n"
     ]
    },
    {
     "name": "stdout",
     "output_type": "stream",
     "text": [
      "predicting\n",
      "count zerO: 458913\n",
      "amex: 0.7870755535950641\n",
      "=== FINISHED FOLD 10/10, log loss=0.23674931343668595, accuracy=0.9024645355298424, amex=0.7870755535950641 ===\n",
      "time to run this fold: 1s\n",
      "time to run folds: 16s\n",
      "iteration logloss: 0.23257193956634475, iteration acc: 0.9043783809814062, Iteration amex: 0.7933122252263612\n",
      "1: l2\n",
      "STARTING OPTIMIZATION iteration 39, data size: (458913, 4), params={'solver': 'lbfgs', 'C': 2.2000100000000002, 'fit_intercept': True, 'class_weight': None, 'n_jobs': -1, 'verbose': 0, 'penalty': 'l2'}\n",
      "=== STARTING FOLD 1/10 (10) ===\n",
      "creating classifier\n",
      "fitting\n"
     ]
    },
    {
     "name": "stderr",
     "output_type": "stream",
     "text": [
      "/usr/local/lib/python3.8/dist-packages/optuna/distributions.py:545: UserWarning: The distribution is specified by [1e-05, 10] and q=0.1, but the range is not divisible by `q`. It will be replaced by [1e-05, 9.90001].\n",
      "  warnings.warn(\n"
     ]
    },
    {
     "name": "stdout",
     "output_type": "stream",
     "text": [
      "predicting\n",
      "count zerO: 45892\n",
      "amex: 0.7900768293319803\n",
      "=== FINISHED FOLD 1/10, log loss=0.2346493807309783, accuracy=0.9048853830733026, amex=0.7900768293319803 ===\n",
      "time to run this fold: 0s\n",
      "=== STARTING FOLD 2/10 (10) ===\n",
      "creating classifier\n",
      "fitting\n",
      "predicting\n",
      "count zerO: 91784\n",
      "amex: 0.7982553679798106\n",
      "=== FINISHED FOLD 2/10, log loss=0.22987885577864514, accuracy=0.9051686568465092, amex=0.7982553679798106 ===\n",
      "time to run this fold: 0s\n",
      "=== STARTING FOLD 3/10 (10) ===\n",
      "creating classifier\n",
      "fitting\n",
      "predicting\n",
      "count zerO: 137676\n",
      "amex: 0.7972420071703248\n",
      "=== FINISHED FOLD 3/10, log loss=0.2284100569014135, accuracy=0.9070644120979692, amex=0.7972420071703248 ===\n",
      "time to run this fold: 0s\n",
      "=== STARTING FOLD 4/10 (10) ===\n",
      "creating classifier\n",
      "fitting\n",
      "predicting\n",
      "count zerO: 183567\n",
      "amex: 0.7937168128644319\n",
      "=== FINISHED FOLD 4/10, log loss=0.23301637424470598, accuracy=0.9028785600662439, amex=0.7937168128644319 ===\n",
      "time to run this fold: 0s\n",
      "=== STARTING FOLD 5/10 (10) ===\n",
      "creating classifier\n",
      "fitting\n",
      "predicting\n",
      "count zerO: 229458\n",
      "amex: 0.7899113659442635\n",
      "=== FINISHED FOLD 5/10, log loss=0.23485851312674963, accuracy=0.9034887014883093, amex=0.7899113659442635 ===\n",
      "time to run this fold: 0s\n",
      "=== STARTING FOLD 6/10 (10) ===\n",
      "creating classifier\n",
      "fitting\n",
      "predicting\n",
      "count zerO: 275349\n",
      "amex: 0.7902040196034641\n",
      "=== FINISHED FOLD 6/10, log loss=0.23622778004016348, accuracy=0.9021158832886622, amex=0.7902040196034641 ===\n",
      "time to run this fold: 0s\n",
      "=== STARTING FOLD 7/10 (10) ===\n",
      "creating classifier\n",
      "fitting\n",
      "predicting\n",
      "count zerO: 321240\n",
      "amex: 0.7935103711426406\n",
      "=== FINISHED FOLD 7/10, log loss=0.23087048223109183, accuracy=0.9051230088688413, amex=0.7935103711426406 ===\n",
      "time to run this fold: 0s\n",
      "=== STARTING FOLD 8/10 (10) ===\n",
      "creating classifier\n",
      "fitting\n",
      "predicting\n",
      "count zerO: 367131\n",
      "amex: 0.7971720881979603\n",
      "=== FINISHED FOLD 8/10, log loss=0.2303458167367901, accuracy=0.9065176178335621, amex=0.7971720881979603 ===\n",
      "time to run this fold: 0s\n",
      "=== STARTING FOLD 9/10 (10) ===\n",
      "creating classifier\n",
      "fitting\n",
      "predicting\n",
      "count zerO: 413022\n",
      "amex: 0.7959954785183909\n",
      "=== FINISHED FOLD 9/10, log loss=0.23072187582405382, accuracy=0.9039463075548583, amex=0.7959954785183909 ===\n",
      "time to run this fold: 0s\n",
      "=== STARTING FOLD 10/10 (10) ===\n",
      "creating classifier\n",
      "fitting\n"
     ]
    },
    {
     "name": "stderr",
     "output_type": "stream",
     "text": [
      "\u001b[32m[I 2022-08-11 18:27:09,334]\u001b[0m Trial 38 finished with value: 0.7932990826980195 and parameters: {'solver': 'lbfgs', 'C': 2.2000100000000002, 'fit_intercept': True, 'class_weight': None, 'penalty-lbfgs': 'l2'}. Best is trial 17 with value: 0.7933326074912369.\u001b[0m\n"
     ]
    },
    {
     "name": "stdout",
     "output_type": "stream",
     "text": [
      "predicting\n",
      "count zerO: 458913\n",
      "amex: 0.786906486226929\n",
      "=== FINISHED FOLD 10/10, log loss=0.2367482551384808, accuracy=0.9024863262949162, amex=0.786906486226929 ===\n",
      "time to run this fold: 0s\n",
      "time to run folds: 8s\n",
      "iteration logloss: 0.23257273907530726, iteration acc: 0.9043674857413174, Iteration amex: 0.7932990826980195\n",
      "4: none\n",
      "STARTING OPTIMIZATION iteration 40, data size: (458913, 4), params={'solver': 'saga', 'C': 8.60001, 'fit_intercept': True, 'class_weight': None, 'n_jobs': -1, 'verbose': 0, 'penalty': 'none'}\n",
      "=== STARTING FOLD 1/10 (10) ===\n",
      "creating classifier\n",
      "fitting\n"
     ]
    },
    {
     "name": "stderr",
     "output_type": "stream",
     "text": [
      "/usr/local/lib/python3.8/dist-packages/optuna/distributions.py:545: UserWarning: The distribution is specified by [1e-05, 10] and q=0.1, but the range is not divisible by `q`. It will be replaced by [1e-05, 9.90001].\n",
      "  warnings.warn(\n",
      "/usr/local/lib/python3.8/dist-packages/sklearn/linear_model/_logistic.py:1113: UserWarning: Setting penalty='none' will ignore the C and l1_ratio parameters\n",
      "  warnings.warn(\n"
     ]
    },
    {
     "name": "stdout",
     "output_type": "stream",
     "text": [
      "predicting\n",
      "count zerO: 45892\n",
      "amex: 0.7900768194338778\n",
      "=== FINISHED FOLD 1/10, log loss=0.23464984856011534, accuracy=0.9048635927830558, amex=0.7900768194338778 ===\n",
      "time to run this fold: 0s\n",
      "=== STARTING FOLD 2/10 (10) ===\n",
      "creating classifier\n",
      "fitting\n"
     ]
    },
    {
     "name": "stderr",
     "output_type": "stream",
     "text": [
      "/usr/local/lib/python3.8/dist-packages/sklearn/linear_model/_logistic.py:1113: UserWarning: Setting penalty='none' will ignore the C and l1_ratio parameters\n",
      "  warnings.warn(\n"
     ]
    },
    {
     "name": "stdout",
     "output_type": "stream",
     "text": [
      "predicting\n",
      "count zerO: 91784\n",
      "amex: 0.7982557985472778\n",
      "=== FINISHED FOLD 2/10, log loss=0.22987888700874123, accuracy=0.9051686568465092, amex=0.7982557985472778 ===\n",
      "time to run this fold: 0s\n",
      "=== STARTING FOLD 3/10 (10) ===\n",
      "creating classifier\n",
      "fitting\n"
     ]
    },
    {
     "name": "stderr",
     "output_type": "stream",
     "text": [
      "/usr/local/lib/python3.8/dist-packages/sklearn/linear_model/_logistic.py:1113: UserWarning: Setting penalty='none' will ignore the C and l1_ratio parameters\n",
      "  warnings.warn(\n"
     ]
    },
    {
     "name": "stdout",
     "output_type": "stream",
     "text": [
      "predicting\n",
      "count zerO: 137676\n",
      "amex: 0.7972424129925353\n",
      "=== FINISHED FOLD 3/10, log loss=0.2284093919036545, accuracy=0.9070208315174758, amex=0.7972424129925353 ===\n",
      "time to run this fold: 0s\n",
      "=== STARTING FOLD 4/10 (10) ===\n",
      "creating classifier\n",
      "fitting\n"
     ]
    },
    {
     "name": "stderr",
     "output_type": "stream",
     "text": [
      "/usr/local/lib/python3.8/dist-packages/sklearn/linear_model/_logistic.py:1113: UserWarning: Setting penalty='none' will ignore the C and l1_ratio parameters\n",
      "  warnings.warn(\n"
     ]
    },
    {
     "name": "stdout",
     "output_type": "stream",
     "text": [
      "predicting\n",
      "count zerO: 183567\n",
      "amex: 0.7937173919521718\n",
      "=== FINISHED FOLD 4/10, log loss=0.23301585632048044, accuracy=0.9028785600662439, amex=0.7937173919521718 ===\n",
      "time to run this fold: 0s\n",
      "=== STARTING FOLD 5/10 (10) ===\n",
      "creating classifier\n",
      "fitting\n"
     ]
    },
    {
     "name": "stderr",
     "output_type": "stream",
     "text": [
      "/usr/local/lib/python3.8/dist-packages/sklearn/linear_model/_logistic.py:1113: UserWarning: Setting penalty='none' will ignore the C and l1_ratio parameters\n",
      "  warnings.warn(\n"
     ]
    },
    {
     "name": "stdout",
     "output_type": "stream",
     "text": [
      "predicting\n",
      "count zerO: 229458\n",
      "amex: 0.789953735945969\n",
      "=== FINISHED FOLD 5/10, log loss=0.2348585156214574, accuracy=0.9034887014883093, amex=0.789953735945969 ===\n",
      "time to run this fold: 0s\n",
      "=== STARTING FOLD 6/10 (10) ===\n",
      "creating classifier\n",
      "fitting\n"
     ]
    },
    {
     "name": "stderr",
     "output_type": "stream",
     "text": [
      "/usr/local/lib/python3.8/dist-packages/sklearn/linear_model/_logistic.py:1113: UserWarning: Setting penalty='none' will ignore the C and l1_ratio parameters\n",
      "  warnings.warn(\n"
     ]
    },
    {
     "name": "stdout",
     "output_type": "stream",
     "text": [
      "predicting\n",
      "count zerO: 275349\n",
      "amex: 0.7902042200459377\n",
      "=== FINISHED FOLD 6/10, log loss=0.23622816746862527, accuracy=0.9021158832886622, amex=0.7902042200459377 ===\n",
      "time to run this fold: 0s\n",
      "=== STARTING FOLD 7/10 (10) ===\n",
      "creating classifier\n",
      "fitting\n"
     ]
    },
    {
     "name": "stderr",
     "output_type": "stream",
     "text": [
      "/usr/local/lib/python3.8/dist-packages/sklearn/linear_model/_logistic.py:1113: UserWarning: Setting penalty='none' will ignore the C and l1_ratio parameters\n",
      "  warnings.warn(\n"
     ]
    },
    {
     "name": "stdout",
     "output_type": "stream",
     "text": [
      "predicting\n",
      "count zerO: 321240\n",
      "amex: 0.7935105740597126\n",
      "=== FINISHED FOLD 7/10, log loss=0.2308704571828801, accuracy=0.9051230088688413, amex=0.7935105740597126 ===\n",
      "time to run this fold: 0s\n",
      "=== STARTING FOLD 8/10 (10) ===\n",
      "creating classifier\n",
      "fitting\n"
     ]
    },
    {
     "name": "stderr",
     "output_type": "stream",
     "text": [
      "/usr/local/lib/python3.8/dist-packages/sklearn/linear_model/_logistic.py:1113: UserWarning: Setting penalty='none' will ignore the C and l1_ratio parameters\n",
      "  warnings.warn(\n"
     ]
    },
    {
     "name": "stdout",
     "output_type": "stream",
     "text": [
      "predicting\n",
      "count zerO: 367131\n",
      "amex: 0.7972141354193825\n",
      "=== FINISHED FOLD 8/10, log loss=0.2303459728694624, accuracy=0.9065176178335621, amex=0.7972141354193825 ===\n",
      "time to run this fold: 0s\n",
      "=== STARTING FOLD 9/10 (10) ===\n",
      "creating classifier\n",
      "fitting\n"
     ]
    },
    {
     "name": "stderr",
     "output_type": "stream",
     "text": [
      "/usr/local/lib/python3.8/dist-packages/sklearn/linear_model/_logistic.py:1113: UserWarning: Setting penalty='none' will ignore the C and l1_ratio parameters\n",
      "  warnings.warn(\n"
     ]
    },
    {
     "name": "stdout",
     "output_type": "stream",
     "text": [
      "predicting\n",
      "count zerO: 413022\n",
      "amex: 0.7960377707250585\n",
      "=== FINISHED FOLD 9/10, log loss=0.23072165197742672, accuracy=0.9039463075548583, amex=0.7960377707250585 ===\n",
      "time to run this fold: 0s\n",
      "=== STARTING FOLD 10/10 (10) ===\n",
      "creating classifier\n",
      "fitting\n"
     ]
    },
    {
     "name": "stderr",
     "output_type": "stream",
     "text": [
      "/usr/local/lib/python3.8/dist-packages/sklearn/linear_model/_logistic.py:1113: UserWarning: Setting penalty='none' will ignore the C and l1_ratio parameters\n",
      "  warnings.warn(\n",
      "\u001b[32m[I 2022-08-11 18:27:16,668]\u001b[0m Trial 39 finished with value: 0.7933077728707557 and parameters: {'solver': 'saga', 'C': 8.60001, 'fit_intercept': True, 'class_weight': None, 'penalty-saga': 'none'}. Best is trial 17 with value: 0.7933326074912369.\u001b[0m\n"
     ]
    },
    {
     "name": "stdout",
     "output_type": "stream",
     "text": [
      "predicting\n",
      "count zerO: 458913\n",
      "amex: 0.7868648695856351\n",
      "=== FINISHED FOLD 10/10, log loss=0.2367490064523367, accuracy=0.9024863262949162, amex=0.7868648695856351 ===\n",
      "time to run this fold: 0s\n",
      "time to run folds: 7s\n",
      "iteration logloss: 0.23257277553651798, iteration acc: 0.9043609486542433, Iteration amex: 0.7933077728707557\n",
      "2: l2\n",
      "STARTING OPTIMIZATION iteration 41, data size: (458913, 4), params={'solver': 'liblinear', 'C': 7.40001, 'fit_intercept': False, 'class_weight': None, 'n_jobs': -1, 'verbose': 0, 'penalty': 'l2'}\n",
      "=== STARTING FOLD 1/10 (10) ===\n",
      "creating classifier\n",
      "fitting\n"
     ]
    },
    {
     "name": "stderr",
     "output_type": "stream",
     "text": [
      "/usr/local/lib/python3.8/dist-packages/optuna/distributions.py:545: UserWarning: The distribution is specified by [1e-05, 10] and q=0.1, but the range is not divisible by `q`. It will be replaced by [1e-05, 9.90001].\n",
      "  warnings.warn(\n",
      "/usr/local/lib/python3.8/dist-packages/sklearn/linear_model/_logistic.py:1153: UserWarning: 'n_jobs' > 1 does not have any effect when 'solver' is set to 'liblinear'. Got 'n_jobs' = 32.\n",
      "  warnings.warn(\n",
      "\u001b[32m[I 2022-08-11 18:27:16,926]\u001b[0m Trial 40 finished with value: 0.7640041339619366 and parameters: {'solver': 'liblinear', 'C': 7.40001, 'fit_intercept': False, 'class_weight': None, 'penalty-liblinear': 'l2'}. Best is trial 17 with value: 0.7933326074912369.\u001b[0m\n"
     ]
    },
    {
     "name": "stdout",
     "output_type": "stream",
     "text": [
      "predicting\n",
      "count zerO: 45892\n",
      "amex: 0.7640041339619366\n",
      "=== FINISHED FOLD 1/10, log loss=0.6507779598924711, accuracy=0.29852697637932535, amex=0.7640041339619366 ===\n",
      "time to run this fold: 0s\n",
      "low score on amex, dropping loop\n",
      "2: l1\n",
      "STARTING OPTIMIZATION iteration 42, data size: (458913, 4), params={'solver': 'liblinear', 'C': 6.30001, 'fit_intercept': True, 'class_weight': None, 'n_jobs': -1, 'verbose': 0, 'penalty': 'l1'}\n",
      "=== STARTING FOLD 1/10 (10) ===\n",
      "creating classifier\n",
      "fitting\n"
     ]
    },
    {
     "name": "stderr",
     "output_type": "stream",
     "text": [
      "/usr/local/lib/python3.8/dist-packages/optuna/distributions.py:545: UserWarning: The distribution is specified by [1e-05, 10] and q=0.1, but the range is not divisible by `q`. It will be replaced by [1e-05, 9.90001].\n",
      "  warnings.warn(\n",
      "/usr/local/lib/python3.8/dist-packages/sklearn/linear_model/_logistic.py:1153: UserWarning: 'n_jobs' > 1 does not have any effect when 'solver' is set to 'liblinear'. Got 'n_jobs' = 32.\n",
      "  warnings.warn(\n"
     ]
    },
    {
     "name": "stdout",
     "output_type": "stream",
     "text": [
      "predicting\n",
      "count zerO: 45892\n",
      "amex: 0.7900341956471002\n",
      "=== FINISHED FOLD 1/10, log loss=0.23465174927926452, accuracy=0.9048853830733026, amex=0.7900341956471002 ===\n",
      "time to run this fold: 1s\n",
      "=== STARTING FOLD 2/10 (10) ===\n",
      "creating classifier\n",
      "fitting\n"
     ]
    },
    {
     "name": "stderr",
     "output_type": "stream",
     "text": [
      "/usr/local/lib/python3.8/dist-packages/sklearn/linear_model/_logistic.py:1153: UserWarning: 'n_jobs' > 1 does not have any effect when 'solver' is set to 'liblinear'. Got 'n_jobs' = 32.\n",
      "  warnings.warn(\n"
     ]
    },
    {
     "name": "stdout",
     "output_type": "stream",
     "text": [
      "predicting\n",
      "count zerO: 91784\n",
      "amex: 0.7982126749063143\n",
      "=== FINISHED FOLD 2/10, log loss=0.22988303691252032, accuracy=0.9051468665562625, amex=0.7982126749063143 ===\n",
      "time to run this fold: 1s\n",
      "=== STARTING FOLD 3/10 (10) ===\n",
      "creating classifier\n",
      "fitting\n"
     ]
    },
    {
     "name": "stderr",
     "output_type": "stream",
     "text": [
      "/usr/local/lib/python3.8/dist-packages/sklearn/linear_model/_logistic.py:1153: UserWarning: 'n_jobs' > 1 does not have any effect when 'solver' is set to 'liblinear'. Got 'n_jobs' = 32.\n",
      "  warnings.warn(\n"
     ]
    },
    {
     "name": "stdout",
     "output_type": "stream",
     "text": [
      "predicting\n",
      "count zerO: 137676\n",
      "amex: 0.7971584843411644\n",
      "=== FINISHED FOLD 3/10, log loss=0.22840935144878746, accuracy=0.9070208315174758, amex=0.7971584843411644 ===\n",
      "time to run this fold: 1s\n",
      "=== STARTING FOLD 4/10 (10) ===\n",
      "creating classifier\n",
      "fitting\n"
     ]
    },
    {
     "name": "stderr",
     "output_type": "stream",
     "text": [
      "/usr/local/lib/python3.8/dist-packages/sklearn/linear_model/_logistic.py:1153: UserWarning: 'n_jobs' > 1 does not have any effect when 'solver' is set to 'liblinear'. Got 'n_jobs' = 32.\n",
      "  warnings.warn(\n"
     ]
    },
    {
     "name": "stdout",
     "output_type": "stream",
     "text": [
      "predicting\n",
      "count zerO: 183567\n",
      "amex: 0.7936758856326089\n",
      "=== FINISHED FOLD 4/10, log loss=0.23301287676742408, accuracy=0.9028785600662439, amex=0.7936758856326089 ===\n",
      "time to run this fold: 1s\n",
      "=== STARTING FOLD 5/10 (10) ===\n",
      "creating classifier\n",
      "fitting\n"
     ]
    },
    {
     "name": "stderr",
     "output_type": "stream",
     "text": [
      "/usr/local/lib/python3.8/dist-packages/sklearn/linear_model/_logistic.py:1153: UserWarning: 'n_jobs' > 1 does not have any effect when 'solver' is set to 'liblinear'. Got 'n_jobs' = 32.\n",
      "  warnings.warn(\n"
     ]
    },
    {
     "name": "stdout",
     "output_type": "stream",
     "text": [
      "predicting\n",
      "count zerO: 229458\n",
      "amex: 0.7898692780622263\n",
      "=== FINISHED FOLD 5/10, log loss=0.2348610876310531, accuracy=0.903510492253383, amex=0.7898692780622263 ===\n",
      "time to run this fold: 1s\n",
      "=== STARTING FOLD 6/10 (10) ===\n",
      "creating classifier\n",
      "fitting\n"
     ]
    },
    {
     "name": "stderr",
     "output_type": "stream",
     "text": [
      "/usr/local/lib/python3.8/dist-packages/sklearn/linear_model/_logistic.py:1153: UserWarning: 'n_jobs' > 1 does not have any effect when 'solver' is set to 'liblinear'. Got 'n_jobs' = 32.\n",
      "  warnings.warn(\n"
     ]
    },
    {
     "name": "stdout",
     "output_type": "stream",
     "text": [
      "predicting\n",
      "count zerO: 275349\n",
      "amex: 0.7902450992568968\n",
      "=== FINISHED FOLD 6/10, log loss=0.23623055927183315, accuracy=0.9021158832886622, amex=0.7902450992568968 ===\n",
      "time to run this fold: 1s\n",
      "=== STARTING FOLD 7/10 (10) ===\n",
      "creating classifier\n",
      "fitting\n"
     ]
    },
    {
     "name": "stderr",
     "output_type": "stream",
     "text": [
      "/usr/local/lib/python3.8/dist-packages/sklearn/linear_model/_logistic.py:1153: UserWarning: 'n_jobs' > 1 does not have any effect when 'solver' is set to 'liblinear'. Got 'n_jobs' = 32.\n",
      "  warnings.warn(\n"
     ]
    },
    {
     "name": "stdout",
     "output_type": "stream",
     "text": [
      "predicting\n",
      "count zerO: 321240\n",
      "amex: 0.7935941686336725\n",
      "=== FINISHED FOLD 7/10, log loss=0.23087073334404187, accuracy=0.9051883811640626, amex=0.7935941686336725 ===\n",
      "time to run this fold: 1s\n",
      "=== STARTING FOLD 8/10 (10) ===\n",
      "creating classifier\n",
      "fitting\n"
     ]
    },
    {
     "name": "stderr",
     "output_type": "stream",
     "text": [
      "/usr/local/lib/python3.8/dist-packages/sklearn/linear_model/_logistic.py:1153: UserWarning: 'n_jobs' > 1 does not have any effect when 'solver' is set to 'liblinear'. Got 'n_jobs' = 32.\n",
      "  warnings.warn(\n"
     ]
    },
    {
     "name": "stdout",
     "output_type": "stream",
     "text": [
      "predicting\n",
      "count zerO: 367131\n",
      "amex: 0.7972143012174778\n",
      "=== FINISHED FOLD 8/10, log loss=0.23034703611897603, accuracy=0.9064740363034146, amex=0.7972143012174778 ===\n",
      "time to run this fold: 1s\n",
      "=== STARTING FOLD 9/10 (10) ===\n",
      "creating classifier\n",
      "fitting\n"
     ]
    },
    {
     "name": "stderr",
     "output_type": "stream",
     "text": [
      "/usr/local/lib/python3.8/dist-packages/sklearn/linear_model/_logistic.py:1153: UserWarning: 'n_jobs' > 1 does not have any effect when 'solver' is set to 'liblinear'. Got 'n_jobs' = 32.\n",
      "  warnings.warn(\n"
     ]
    },
    {
     "name": "stdout",
     "output_type": "stream",
     "text": [
      "predicting\n",
      "count zerO: 413022\n",
      "amex: 0.7959534387207641\n",
      "=== FINISHED FOLD 9/10, log loss=0.2307221251820865, accuracy=0.903968098319932, amex=0.7959534387207641 ===\n",
      "time to run this fold: 1s\n",
      "=== STARTING FOLD 10/10 (10) ===\n",
      "creating classifier\n",
      "fitting\n"
     ]
    },
    {
     "name": "stderr",
     "output_type": "stream",
     "text": [
      "/usr/local/lib/python3.8/dist-packages/sklearn/linear_model/_logistic.py:1153: UserWarning: 'n_jobs' > 1 does not have any effect when 'solver' is set to 'liblinear'. Got 'n_jobs' = 32.\n",
      "  warnings.warn(\n",
      "\u001b[32m[I 2022-08-11 18:27:31,713]\u001b[0m Trial 41 finished with value: 0.7932696365696523 and parameters: {'solver': 'liblinear', 'C': 6.30001, 'fit_intercept': True, 'class_weight': None, 'penalty-liblinear': 'l1'}. Best is trial 17 with value: 0.7933326074912369.\u001b[0m\n"
     ]
    },
    {
     "name": "stdout",
     "output_type": "stream",
     "text": [
      "predicting\n",
      "count zerO: 458913\n",
      "amex: 0.786738839278298\n",
      "=== FINISHED FOLD 10/10, log loss=0.23674851874022193, accuracy=0.90250811705999, amex=0.786738839278298 ===\n",
      "time to run this fold: 1s\n",
      "time to run folds: 14s\n",
      "iteration logloss: 0.2325737074696209, iteration acc: 0.9043696649602729, Iteration amex: 0.7932696365696523\n",
      "2: l1\n",
      "STARTING OPTIMIZATION iteration 43, data size: (458913, 4), params={'solver': 'liblinear', 'C': 1.00001, 'fit_intercept': True, 'class_weight': None, 'n_jobs': -1, 'verbose': 0, 'penalty': 'l1'}\n",
      "=== STARTING FOLD 1/10 (10) ===\n",
      "creating classifier\n",
      "fitting\n"
     ]
    },
    {
     "name": "stderr",
     "output_type": "stream",
     "text": [
      "/usr/local/lib/python3.8/dist-packages/optuna/distributions.py:545: UserWarning: The distribution is specified by [1e-05, 10] and q=0.1, but the range is not divisible by `q`. It will be replaced by [1e-05, 9.90001].\n",
      "  warnings.warn(\n",
      "/usr/local/lib/python3.8/dist-packages/sklearn/linear_model/_logistic.py:1153: UserWarning: 'n_jobs' > 1 does not have any effect when 'solver' is set to 'liblinear'. Got 'n_jobs' = 32.\n",
      "  warnings.warn(\n"
     ]
    },
    {
     "name": "stdout",
     "output_type": "stream",
     "text": [
      "predicting\n",
      "count zerO: 45892\n",
      "amex: 0.7900343292714866\n",
      "=== FINISHED FOLD 1/10, log loss=0.23465142513586373, accuracy=0.9048635927830558, amex=0.7900343292714866 ===\n",
      "time to run this fold: 1s\n",
      "=== STARTING FOLD 2/10 (10) ===\n",
      "creating classifier\n",
      "fitting\n"
     ]
    },
    {
     "name": "stderr",
     "output_type": "stream",
     "text": [
      "/usr/local/lib/python3.8/dist-packages/sklearn/linear_model/_logistic.py:1153: UserWarning: 'n_jobs' > 1 does not have any effect when 'solver' is set to 'liblinear'. Got 'n_jobs' = 32.\n",
      "  warnings.warn(\n"
     ]
    },
    {
     "name": "stdout",
     "output_type": "stream",
     "text": [
      "predicting\n",
      "count zerO: 91784\n",
      "amex: 0.79825698137055\n",
      "=== FINISHED FOLD 2/10, log loss=0.22987496850925465, accuracy=0.9051904471367559, amex=0.79825698137055 ===\n",
      "time to run this fold: 1s\n",
      "=== STARTING FOLD 3/10 (10) ===\n",
      "creating classifier\n",
      "fitting\n"
     ]
    },
    {
     "name": "stderr",
     "output_type": "stream",
     "text": [
      "/usr/local/lib/python3.8/dist-packages/sklearn/linear_model/_logistic.py:1153: UserWarning: 'n_jobs' > 1 does not have any effect when 'solver' is set to 'liblinear'. Got 'n_jobs' = 32.\n",
      "  warnings.warn(\n"
     ]
    },
    {
     "name": "stdout",
     "output_type": "stream",
     "text": [
      "predicting\n",
      "count zerO: 137676\n",
      "amex: 0.7972420220174787\n",
      "=== FINISHED FOLD 3/10, log loss=0.22840966301236718, accuracy=0.9070644120979692, amex=0.7972420220174787 ===\n",
      "time to run this fold: 1s\n",
      "=== STARTING FOLD 4/10 (10) ===\n",
      "creating classifier\n",
      "fitting\n"
     ]
    },
    {
     "name": "stderr",
     "output_type": "stream",
     "text": [
      "/usr/local/lib/python3.8/dist-packages/sklearn/linear_model/_logistic.py:1153: UserWarning: 'n_jobs' > 1 does not have any effect when 'solver' is set to 'liblinear'. Got 'n_jobs' = 32.\n",
      "  warnings.warn(\n"
     ]
    },
    {
     "name": "stdout",
     "output_type": "stream",
     "text": [
      "predicting\n",
      "count zerO: 183567\n",
      "amex: 0.7938001843399781\n",
      "=== FINISHED FOLD 4/10, log loss=0.23301909438196572, accuracy=0.9028567693011702, amex=0.7938001843399781 ===\n",
      "time to run this fold: 1s\n",
      "=== STARTING FOLD 5/10 (10) ===\n",
      "creating classifier\n",
      "fitting\n"
     ]
    },
    {
     "name": "stderr",
     "output_type": "stream",
     "text": [
      "/usr/local/lib/python3.8/dist-packages/sklearn/linear_model/_logistic.py:1153: UserWarning: 'n_jobs' > 1 does not have any effect when 'solver' is set to 'liblinear'. Got 'n_jobs' = 32.\n",
      "  warnings.warn(\n"
     ]
    },
    {
     "name": "stdout",
     "output_type": "stream",
     "text": [
      "predicting\n",
      "count zerO: 229458\n",
      "amex: 0.789869656696518\n",
      "=== FINISHED FOLD 5/10, log loss=0.23486009643137293, accuracy=0.903510492253383, amex=0.789869656696518 ===\n",
      "time to run this fold: 1s\n",
      "=== STARTING FOLD 6/10 (10) ===\n",
      "creating classifier\n",
      "fitting\n"
     ]
    },
    {
     "name": "stderr",
     "output_type": "stream",
     "text": [
      "/usr/local/lib/python3.8/dist-packages/sklearn/linear_model/_logistic.py:1153: UserWarning: 'n_jobs' > 1 does not have any effect when 'solver' is set to 'liblinear'. Got 'n_jobs' = 32.\n",
      "  warnings.warn(\n"
     ]
    },
    {
     "name": "stdout",
     "output_type": "stream",
     "text": [
      "predicting\n",
      "count zerO: 275349\n",
      "amex: 0.790287327124005\n",
      "=== FINISHED FOLD 6/10, log loss=0.23623067240275705, accuracy=0.9021158832886622, amex=0.790287327124005 ===\n",
      "time to run this fold: 0s\n",
      "=== STARTING FOLD 7/10 (10) ===\n",
      "creating classifier\n",
      "fitting\n"
     ]
    },
    {
     "name": "stderr",
     "output_type": "stream",
     "text": [
      "/usr/local/lib/python3.8/dist-packages/sklearn/linear_model/_logistic.py:1153: UserWarning: 'n_jobs' > 1 does not have any effect when 'solver' is set to 'liblinear'. Got 'n_jobs' = 32.\n",
      "  warnings.warn(\n"
     ]
    },
    {
     "name": "stdout",
     "output_type": "stream",
     "text": [
      "predicting\n",
      "count zerO: 321240\n",
      "amex: 0.7935526781968989\n",
      "=== FINISHED FOLD 7/10, log loss=0.23087035944997375, accuracy=0.9051230088688413, amex=0.7935526781968989 ===\n",
      "time to run this fold: 1s\n",
      "=== STARTING FOLD 8/10 (10) ===\n",
      "creating classifier\n",
      "fitting\n"
     ]
    },
    {
     "name": "stderr",
     "output_type": "stream",
     "text": [
      "/usr/local/lib/python3.8/dist-packages/sklearn/linear_model/_logistic.py:1153: UserWarning: 'n_jobs' > 1 does not have any effect when 'solver' is set to 'liblinear'. Got 'n_jobs' = 32.\n",
      "  warnings.warn(\n"
     ]
    },
    {
     "name": "stdout",
     "output_type": "stream",
     "text": [
      "predicting\n",
      "count zerO: 367131\n",
      "amex: 0.7971721055201493\n",
      "=== FINISHED FOLD 8/10, log loss=0.23034496019774375, accuracy=0.9065176178335621, amex=0.7971721055201493 ===\n",
      "time to run this fold: 1s\n",
      "=== STARTING FOLD 9/10 (10) ===\n",
      "creating classifier\n",
      "fitting\n"
     ]
    },
    {
     "name": "stderr",
     "output_type": "stream",
     "text": [
      "/usr/local/lib/python3.8/dist-packages/sklearn/linear_model/_logistic.py:1153: UserWarning: 'n_jobs' > 1 does not have any effect when 'solver' is set to 'liblinear'. Got 'n_jobs' = 32.\n",
      "  warnings.warn(\n"
     ]
    },
    {
     "name": "stdout",
     "output_type": "stream",
     "text": [
      "predicting\n",
      "count zerO: 413022\n",
      "amex: 0.7959533917033936\n",
      "=== FINISHED FOLD 9/10, log loss=0.23072217692327882, accuracy=0.903968098319932, amex=0.7959533917033936 ===\n",
      "time to run this fold: 1s\n",
      "=== STARTING FOLD 10/10 (10) ===\n",
      "creating classifier\n",
      "fitting\n"
     ]
    },
    {
     "name": "stderr",
     "output_type": "stream",
     "text": [
      "/usr/local/lib/python3.8/dist-packages/sklearn/linear_model/_logistic.py:1153: UserWarning: 'n_jobs' > 1 does not have any effect when 'solver' is set to 'liblinear'. Got 'n_jobs' = 32.\n",
      "  warnings.warn(\n",
      "\u001b[32m[I 2022-08-11 18:27:47,667]\u001b[0m Trial 42 finished with value: 0.7933244135800782 and parameters: {'solver': 'liblinear', 'C': 1.00001, 'fit_intercept': True, 'class_weight': None, 'penalty-liblinear': 'l1'}. Best is trial 17 with value: 0.7933326074912369.\u001b[0m\n"
     ]
    },
    {
     "name": "stdout",
     "output_type": "stream",
     "text": [
      "predicting\n",
      "count zerO: 458913\n",
      "amex: 0.7870754595603233\n",
      "=== FINISHED FOLD 10/10, log loss=0.23674907238489404, accuracy=0.9024645355298424, amex=0.7870754595603233 ===\n",
      "time to run this fold: 1s\n",
      "time to run folds: 15s\n",
      "iteration logloss: 0.2325732488829472, iteration acc: 0.9043674857413174, Iteration amex: 0.7933244135800782\n",
      "2: l1\n",
      "STARTING OPTIMIZATION iteration 44, data size: (458913, 4), params={'solver': 'liblinear', 'C': 1.00001, 'fit_intercept': True, 'class_weight': None, 'n_jobs': -1, 'verbose': 0, 'penalty': 'l1'}\n",
      "=== STARTING FOLD 1/10 (10) ===\n",
      "creating classifier\n",
      "fitting\n"
     ]
    },
    {
     "name": "stderr",
     "output_type": "stream",
     "text": [
      "/usr/local/lib/python3.8/dist-packages/optuna/distributions.py:545: UserWarning: The distribution is specified by [1e-05, 10] and q=0.1, but the range is not divisible by `q`. It will be replaced by [1e-05, 9.90001].\n",
      "  warnings.warn(\n",
      "/usr/local/lib/python3.8/dist-packages/sklearn/linear_model/_logistic.py:1153: UserWarning: 'n_jobs' > 1 does not have any effect when 'solver' is set to 'liblinear'. Got 'n_jobs' = 32.\n",
      "  warnings.warn(\n"
     ]
    },
    {
     "name": "stdout",
     "output_type": "stream",
     "text": [
      "predicting\n",
      "count zerO: 45892\n",
      "amex: 0.7900342896790757\n",
      "=== FINISHED FOLD 1/10, log loss=0.23465162549178614, accuracy=0.9048635927830558, amex=0.7900342896790757 ===\n",
      "time to run this fold: 1s\n",
      "=== STARTING FOLD 2/10 (10) ===\n",
      "creating classifier\n",
      "fitting\n"
     ]
    },
    {
     "name": "stderr",
     "output_type": "stream",
     "text": [
      "/usr/local/lib/python3.8/dist-packages/sklearn/linear_model/_logistic.py:1153: UserWarning: 'n_jobs' > 1 does not have any effect when 'solver' is set to 'liblinear'. Got 'n_jobs' = 32.\n",
      "  warnings.warn(\n"
     ]
    },
    {
     "name": "stdout",
     "output_type": "stream",
     "text": [
      "predicting\n",
      "count zerO: 91784\n",
      "amex: 0.7982568056792272\n",
      "=== FINISHED FOLD 2/10, log loss=0.22987543237834446, accuracy=0.9051904471367559, amex=0.7982568056792272 ===\n",
      "time to run this fold: 1s\n",
      "=== STARTING FOLD 3/10 (10) ===\n",
      "creating classifier\n",
      "fitting\n"
     ]
    },
    {
     "name": "stderr",
     "output_type": "stream",
     "text": [
      "/usr/local/lib/python3.8/dist-packages/sklearn/linear_model/_logistic.py:1153: UserWarning: 'n_jobs' > 1 does not have any effect when 'solver' is set to 'liblinear'. Got 'n_jobs' = 32.\n",
      "  warnings.warn(\n"
     ]
    },
    {
     "name": "stdout",
     "output_type": "stream",
     "text": [
      "predicting\n",
      "count zerO: 137676\n",
      "amex: 0.797242012119376\n",
      "=== FINISHED FOLD 3/10, log loss=0.22840936724178348, accuracy=0.9070644120979692, amex=0.797242012119376 ===\n",
      "time to run this fold: 2s\n",
      "=== STARTING FOLD 4/10 (10) ===\n",
      "creating classifier\n",
      "fitting\n"
     ]
    },
    {
     "name": "stderr",
     "output_type": "stream",
     "text": [
      "/usr/local/lib/python3.8/dist-packages/sklearn/linear_model/_logistic.py:1153: UserWarning: 'n_jobs' > 1 does not have any effect when 'solver' is set to 'liblinear'. Got 'n_jobs' = 32.\n",
      "  warnings.warn(\n"
     ]
    },
    {
     "name": "stdout",
     "output_type": "stream",
     "text": [
      "predicting\n",
      "count zerO: 183567\n",
      "amex: 0.7938002412588585\n",
      "=== FINISHED FOLD 4/10, log loss=0.23301901233896155, accuracy=0.9028567693011702, amex=0.7938002412588585 ===\n",
      "time to run this fold: 1s\n",
      "=== STARTING FOLD 5/10 (10) ===\n",
      "creating classifier\n",
      "fitting\n"
     ]
    },
    {
     "name": "stderr",
     "output_type": "stream",
     "text": [
      "/usr/local/lib/python3.8/dist-packages/sklearn/linear_model/_logistic.py:1153: UserWarning: 'n_jobs' > 1 does not have any effect when 'solver' is set to 'liblinear'. Got 'n_jobs' = 32.\n",
      "  warnings.warn(\n"
     ]
    },
    {
     "name": "stdout",
     "output_type": "stream",
     "text": [
      "predicting\n",
      "count zerO: 229458\n",
      "amex: 0.7899123261410295\n",
      "=== FINISHED FOLD 5/10, log loss=0.23485750040585018, accuracy=0.9034887014883093, amex=0.7899123261410295 ===\n",
      "time to run this fold: 1s\n",
      "=== STARTING FOLD 6/10 (10) ===\n",
      "creating classifier\n",
      "fitting\n"
     ]
    },
    {
     "name": "stderr",
     "output_type": "stream",
     "text": [
      "/usr/local/lib/python3.8/dist-packages/sklearn/linear_model/_logistic.py:1153: UserWarning: 'n_jobs' > 1 does not have any effect when 'solver' is set to 'liblinear'. Got 'n_jobs' = 32.\n",
      "  warnings.warn(\n"
     ]
    },
    {
     "name": "stdout",
     "output_type": "stream",
     "text": [
      "predicting\n",
      "count zerO: 275349\n",
      "amex: 0.790205162867943\n",
      "=== FINISHED FOLD 6/10, log loss=0.2362255054412934, accuracy=0.902137674053736, amex=0.790205162867943 ===\n",
      "time to run this fold: 1s\n",
      "=== STARTING FOLD 7/10 (10) ===\n",
      "creating classifier\n",
      "fitting\n"
     ]
    },
    {
     "name": "stderr",
     "output_type": "stream",
     "text": [
      "/usr/local/lib/python3.8/dist-packages/sklearn/linear_model/_logistic.py:1153: UserWarning: 'n_jobs' > 1 does not have any effect when 'solver' is set to 'liblinear'. Got 'n_jobs' = 32.\n",
      "  warnings.warn(\n"
     ]
    },
    {
     "name": "stdout",
     "output_type": "stream",
     "text": [
      "predicting\n",
      "count zerO: 321240\n",
      "amex: 0.7934682175134855\n",
      "=== FINISHED FOLD 7/10, log loss=0.23087157827840032, accuracy=0.9051012181037676, amex=0.7934682175134855 ===\n",
      "time to run this fold: 0s\n",
      "=== STARTING FOLD 8/10 (10) ===\n",
      "creating classifier\n",
      "fitting\n"
     ]
    },
    {
     "name": "stderr",
     "output_type": "stream",
     "text": [
      "/usr/local/lib/python3.8/dist-packages/sklearn/linear_model/_logistic.py:1153: UserWarning: 'n_jobs' > 1 does not have any effect when 'solver' is set to 'liblinear'. Got 'n_jobs' = 32.\n",
      "  warnings.warn(\n"
     ]
    },
    {
     "name": "stdout",
     "output_type": "stream",
     "text": [
      "predicting\n",
      "count zerO: 367131\n",
      "amex: 0.7971721772835041\n",
      "=== FINISHED FOLD 8/10, log loss=0.23034544353663586, accuracy=0.9065176178335621, amex=0.7971721772835041 ===\n",
      "time to run this fold: 1s\n",
      "=== STARTING FOLD 9/10 (10) ===\n",
      "creating classifier\n",
      "fitting\n"
     ]
    },
    {
     "name": "stderr",
     "output_type": "stream",
     "text": [
      "/usr/local/lib/python3.8/dist-packages/sklearn/linear_model/_logistic.py:1153: UserWarning: 'n_jobs' > 1 does not have any effect when 'solver' is set to 'liblinear'. Got 'n_jobs' = 32.\n",
      "  warnings.warn(\n"
     ]
    },
    {
     "name": "stdout",
     "output_type": "stream",
     "text": [
      "predicting\n",
      "count zerO: 413022\n",
      "amex: 0.7959533273638343\n",
      "=== FINISHED FOLD 9/10, log loss=0.23072235137764313, accuracy=0.903968098319932, amex=0.7959533273638343 ===\n",
      "time to run this fold: 1s\n",
      "=== STARTING FOLD 10/10 (10) ===\n",
      "creating classifier\n",
      "fitting\n"
     ]
    },
    {
     "name": "stderr",
     "output_type": "stream",
     "text": [
      "/usr/local/lib/python3.8/dist-packages/sklearn/linear_model/_logistic.py:1153: UserWarning: 'n_jobs' > 1 does not have any effect when 'solver' is set to 'liblinear'. Got 'n_jobs' = 32.\n",
      "  warnings.warn(\n",
      "\u001b[32m[I 2022-08-11 18:28:03,408]\u001b[0m Trial 43 finished with value: 0.793282560972955 and parameters: {'solver': 'liblinear', 'C': 1.00001, 'fit_intercept': True, 'class_weight': None, 'penalty-liblinear': 'l1'}. Best is trial 17 with value: 0.7933326074912369.\u001b[0m\n"
     ]
    },
    {
     "name": "stdout",
     "output_type": "stream",
     "text": [
      "predicting\n",
      "count zerO: 458913\n",
      "amex: 0.7867810498232173\n",
      "=== FINISHED FOLD 10/10, log loss=0.23674811156335132, accuracy=0.90250811705999, amex=0.7867810498232173 ===\n",
      "time to run this fold: 2s\n",
      "time to run folds: 15s\n",
      "iteration logloss: 0.232572592805405, iteration acc: 0.9043696648178248, Iteration amex: 0.793282560972955\n",
      "2: l1\n",
      "STARTING OPTIMIZATION iteration 45, data size: (458913, 4), params={'solver': 'liblinear', 'C': 1.4000100000000002, 'fit_intercept': True, 'class_weight': None, 'n_jobs': -1, 'verbose': 0, 'penalty': 'l1'}\n",
      "=== STARTING FOLD 1/10 (10) ===\n",
      "creating classifier\n",
      "fitting\n"
     ]
    },
    {
     "name": "stderr",
     "output_type": "stream",
     "text": [
      "/usr/local/lib/python3.8/dist-packages/optuna/distributions.py:545: UserWarning: The distribution is specified by [1e-05, 10] and q=0.1, but the range is not divisible by `q`. It will be replaced by [1e-05, 9.90001].\n",
      "  warnings.warn(\n",
      "/usr/local/lib/python3.8/dist-packages/sklearn/linear_model/_logistic.py:1153: UserWarning: 'n_jobs' > 1 does not have any effect when 'solver' is set to 'liblinear'. Got 'n_jobs' = 32.\n",
      "  warnings.warn(\n"
     ]
    },
    {
     "name": "stdout",
     "output_type": "stream",
     "text": [
      "predicting\n",
      "count zerO: 45892\n",
      "amex: 0.7900352299988318\n",
      "=== FINISHED FOLD 1/10, log loss=0.23464816684157355, accuracy=0.9049507539440426, amex=0.7900352299988318 ===\n",
      "time to run this fold: 1s\n",
      "=== STARTING FOLD 2/10 (10) ===\n",
      "creating classifier\n",
      "fitting\n"
     ]
    },
    {
     "name": "stderr",
     "output_type": "stream",
     "text": [
      "/usr/local/lib/python3.8/dist-packages/sklearn/linear_model/_logistic.py:1153: UserWarning: 'n_jobs' > 1 does not have any effect when 'solver' is set to 'liblinear'. Got 'n_jobs' = 32.\n",
      "  warnings.warn(\n"
     ]
    },
    {
     "name": "stdout",
     "output_type": "stream",
     "text": [
      "predicting\n",
      "count zerO: 91784\n",
      "amex: 0.7982148722851127\n",
      "=== FINISHED FOLD 2/10, log loss=0.2298754885829421, accuracy=0.9051904471367559, amex=0.7982148722851127 ===\n",
      "time to run this fold: 1s\n",
      "=== STARTING FOLD 3/10 (10) ===\n",
      "creating classifier\n",
      "fitting\n"
     ]
    },
    {
     "name": "stderr",
     "output_type": "stream",
     "text": [
      "/usr/local/lib/python3.8/dist-packages/sklearn/linear_model/_logistic.py:1153: UserWarning: 'n_jobs' > 1 does not have any effect when 'solver' is set to 'liblinear'. Got 'n_jobs' = 32.\n",
      "  warnings.warn(\n"
     ]
    },
    {
     "name": "stdout",
     "output_type": "stream",
     "text": [
      "predicting\n",
      "count zerO: 137676\n",
      "amex: 0.7971585140354726\n",
      "=== FINISHED FOLD 3/10, log loss=0.22840968719901095, accuracy=0.9069990412272292, amex=0.7971585140354726 ===\n",
      "time to run this fold: 1s\n",
      "=== STARTING FOLD 4/10 (10) ===\n",
      "creating classifier\n",
      "fitting\n"
     ]
    },
    {
     "name": "stderr",
     "output_type": "stream",
     "text": [
      "/usr/local/lib/python3.8/dist-packages/sklearn/linear_model/_logistic.py:1153: UserWarning: 'n_jobs' > 1 does not have any effect when 'solver' is set to 'liblinear'. Got 'n_jobs' = 32.\n",
      "  warnings.warn(\n"
     ]
    },
    {
     "name": "stdout",
     "output_type": "stream",
     "text": [
      "predicting\n",
      "count zerO: 183567\n",
      "amex: 0.7937589626148174\n",
      "=== FINISHED FOLD 4/10, log loss=0.2330178745527367, accuracy=0.9028785600662439, amex=0.7937589626148174 ===\n",
      "time to run this fold: 0s\n",
      "=== STARTING FOLD 5/10 (10) ===\n",
      "creating classifier\n",
      "fitting\n"
     ]
    },
    {
     "name": "stderr",
     "output_type": "stream",
     "text": [
      "/usr/local/lib/python3.8/dist-packages/sklearn/linear_model/_logistic.py:1153: UserWarning: 'n_jobs' > 1 does not have any effect when 'solver' is set to 'liblinear'. Got 'n_jobs' = 32.\n",
      "  warnings.warn(\n"
     ]
    },
    {
     "name": "stdout",
     "output_type": "stream",
     "text": [
      "predicting\n",
      "count zerO: 229458\n",
      "amex: 0.789911972254077\n",
      "=== FINISHED FOLD 5/10, log loss=0.23485608342666314, accuracy=0.903510492253383, amex=0.789911972254077 ===\n",
      "time to run this fold: 1s\n",
      "=== STARTING FOLD 6/10 (10) ===\n",
      "creating classifier\n",
      "fitting\n"
     ]
    },
    {
     "name": "stderr",
     "output_type": "stream",
     "text": [
      "/usr/local/lib/python3.8/dist-packages/sklearn/linear_model/_logistic.py:1153: UserWarning: 'n_jobs' > 1 does not have any effect when 'solver' is set to 'liblinear'. Got 'n_jobs' = 32.\n",
      "  warnings.warn(\n"
     ]
    },
    {
     "name": "stdout",
     "output_type": "stream",
     "text": [
      "predicting\n",
      "count zerO: 275349\n",
      "amex: 0.7902455669560017\n",
      "=== FINISHED FOLD 6/10, log loss=0.23622728266022902, accuracy=0.9021594648188098, amex=0.7902455669560017 ===\n",
      "time to run this fold: 1s\n",
      "=== STARTING FOLD 7/10 (10) ===\n",
      "creating classifier\n",
      "fitting\n"
     ]
    },
    {
     "name": "stderr",
     "output_type": "stream",
     "text": [
      "/usr/local/lib/python3.8/dist-packages/sklearn/linear_model/_logistic.py:1153: UserWarning: 'n_jobs' > 1 does not have any effect when 'solver' is set to 'liblinear'. Got 'n_jobs' = 32.\n",
      "  warnings.warn(\n"
     ]
    },
    {
     "name": "stdout",
     "output_type": "stream",
     "text": [
      "predicting\n",
      "count zerO: 321240\n",
      "amex: 0.7935526212811348\n",
      "=== FINISHED FOLD 7/10, log loss=0.23087033963981357, accuracy=0.9051230088688413, amex=0.7935526212811348 ===\n",
      "time to run this fold: 1s\n",
      "=== STARTING FOLD 8/10 (10) ===\n",
      "creating classifier\n",
      "fitting\n"
     ]
    },
    {
     "name": "stderr",
     "output_type": "stream",
     "text": [
      "/usr/local/lib/python3.8/dist-packages/sklearn/linear_model/_logistic.py:1153: UserWarning: 'n_jobs' > 1 does not have any effect when 'solver' is set to 'liblinear'. Got 'n_jobs' = 32.\n",
      "  warnings.warn(\n"
     ]
    },
    {
     "name": "stdout",
     "output_type": "stream",
     "text": [
      "predicting\n",
      "count zerO: 367131\n",
      "amex: 0.7972144521679827\n",
      "=== FINISHED FOLD 8/10, log loss=0.23034699250488222, accuracy=0.9064522455383408, amex=0.7972144521679827 ===\n",
      "time to run this fold: 1s\n",
      "=== STARTING FOLD 9/10 (10) ===\n",
      "creating classifier\n",
      "fitting\n"
     ]
    },
    {
     "name": "stderr",
     "output_type": "stream",
     "text": [
      "/usr/local/lib/python3.8/dist-packages/sklearn/linear_model/_logistic.py:1153: UserWarning: 'n_jobs' > 1 does not have any effect when 'solver' is set to 'liblinear'. Got 'n_jobs' = 32.\n",
      "  warnings.warn(\n"
     ]
    },
    {
     "name": "stdout",
     "output_type": "stream",
     "text": [
      "predicting\n",
      "count zerO: 413022\n",
      "amex: 0.7959533917033936\n",
      "=== FINISHED FOLD 9/10, log loss=0.2307222482623944, accuracy=0.903968098319932, amex=0.7959533917033936 ===\n",
      "time to run this fold: 1s\n",
      "=== STARTING FOLD 10/10 (10) ===\n",
      "creating classifier\n",
      "fitting\n"
     ]
    },
    {
     "name": "stderr",
     "output_type": "stream",
     "text": [
      "/usr/local/lib/python3.8/dist-packages/sklearn/linear_model/_logistic.py:1153: UserWarning: 'n_jobs' > 1 does not have any effect when 'solver' is set to 'liblinear'. Got 'n_jobs' = 32.\n",
      "  warnings.warn(\n",
      "\u001b[32m[I 2022-08-11 18:28:18,175]\u001b[0m Trial 44 finished with value: 0.7932784516609864 and parameters: {'solver': 'liblinear', 'C': 1.4000100000000002, 'fit_intercept': True, 'class_weight': None, 'penalty-liblinear': 'l1'}. Best is trial 17 with value: 0.7933326074912369.\u001b[0m\n"
     ]
    },
    {
     "name": "stdout",
     "output_type": "stream",
     "text": [
      "predicting\n",
      "count zerO: 458913\n",
      "amex: 0.7867389333130387\n",
      "=== FINISHED FOLD 10/10, log loss=0.23674840023756244, accuracy=0.90250811705999, amex=0.7867389333130387 ===\n",
      "time to run this fold: 1s\n",
      "time to run folds: 14s\n",
      "iteration logloss: 0.23257225639078083, iteration acc: 0.9043740229233569, Iteration amex: 0.7932784516609864\n",
      "3: none\n",
      "STARTING OPTIMIZATION iteration 46, data size: (458913, 4), params={'solver': 'sag', 'C': 1e-05, 'fit_intercept': True, 'class_weight': None, 'n_jobs': -1, 'verbose': 0, 'penalty': 'none'}\n",
      "=== STARTING FOLD 1/10 (10) ===\n",
      "creating classifier\n",
      "fitting\n"
     ]
    },
    {
     "name": "stderr",
     "output_type": "stream",
     "text": [
      "/usr/local/lib/python3.8/dist-packages/optuna/distributions.py:545: UserWarning: The distribution is specified by [1e-05, 10] and q=0.1, but the range is not divisible by `q`. It will be replaced by [1e-05, 9.90001].\n",
      "  warnings.warn(\n",
      "/usr/local/lib/python3.8/dist-packages/sklearn/linear_model/_logistic.py:1113: UserWarning: Setting penalty='none' will ignore the C and l1_ratio parameters\n",
      "  warnings.warn(\n"
     ]
    },
    {
     "name": "stdout",
     "output_type": "stream",
     "text": [
      "predicting\n",
      "count zerO: 45892\n",
      "amex: 0.7900768293319803\n",
      "=== FINISHED FOLD 1/10, log loss=0.23464998158328007, accuracy=0.9048635927830558, amex=0.7900768293319803 ===\n",
      "time to run this fold: 1s\n",
      "=== STARTING FOLD 2/10 (10) ===\n",
      "creating classifier\n",
      "fitting\n"
     ]
    },
    {
     "name": "stderr",
     "output_type": "stream",
     "text": [
      "/usr/local/lib/python3.8/dist-packages/sklearn/linear_model/_logistic.py:1113: UserWarning: Setting penalty='none' will ignore the C and l1_ratio parameters\n",
      "  warnings.warn(\n"
     ]
    },
    {
     "name": "stdout",
     "output_type": "stream",
     "text": [
      "predicting\n",
      "count zerO: 91784\n",
      "amex: 0.7982557490567643\n",
      "=== FINISHED FOLD 2/10, log loss=0.22987877523882025, accuracy=0.9051250762660159, amex=0.7982557490567643 ===\n",
      "time to run this fold: 0s\n",
      "=== STARTING FOLD 3/10 (10) ===\n",
      "creating classifier\n",
      "fitting\n"
     ]
    },
    {
     "name": "stderr",
     "output_type": "stream",
     "text": [
      "/usr/local/lib/python3.8/dist-packages/sklearn/linear_model/_logistic.py:1113: UserWarning: Setting penalty='none' will ignore the C and l1_ratio parameters\n",
      "  warnings.warn(\n"
     ]
    },
    {
     "name": "stdout",
     "output_type": "stream",
     "text": [
      "predicting\n",
      "count zerO: 137676\n",
      "amex: 0.7972424550594717\n",
      "=== FINISHED FOLD 3/10, log loss=0.2284094812717101, accuracy=0.9070208315174758, amex=0.7972424550594717 ===\n",
      "time to run this fold: 1s\n",
      "=== STARTING FOLD 4/10 (10) ===\n",
      "creating classifier\n",
      "fitting\n"
     ]
    },
    {
     "name": "stderr",
     "output_type": "stream",
     "text": [
      "/usr/local/lib/python3.8/dist-packages/sklearn/linear_model/_logistic.py:1113: UserWarning: Setting penalty='none' will ignore the C and l1_ratio parameters\n",
      "  warnings.warn(\n"
     ]
    },
    {
     "name": "stdout",
     "output_type": "stream",
     "text": [
      "predicting\n",
      "count zerO: 183567\n",
      "amex: 0.7937174142247774\n",
      "=== FINISHED FOLD 4/10, log loss=0.23301586685480197, accuracy=0.9028785600662439, amex=0.7937174142247774 ===\n",
      "time to run this fold: 0s\n",
      "=== STARTING FOLD 5/10 (10) ===\n",
      "creating classifier\n",
      "fitting\n"
     ]
    },
    {
     "name": "stderr",
     "output_type": "stream",
     "text": [
      "/usr/local/lib/python3.8/dist-packages/sklearn/linear_model/_logistic.py:1113: UserWarning: Setting penalty='none' will ignore the C and l1_ratio parameters\n",
      "  warnings.warn(\n"
     ]
    },
    {
     "name": "stdout",
     "output_type": "stream",
     "text": [
      "predicting\n",
      "count zerO: 229458\n",
      "amex: 0.7899538126627209\n",
      "=== FINISHED FOLD 5/10, log loss=0.23485861485316123, accuracy=0.9034887014883093, amex=0.7899538126627209 ===\n",
      "time to run this fold: 1s\n",
      "=== STARTING FOLD 6/10 (10) ===\n",
      "creating classifier\n",
      "fitting\n"
     ]
    },
    {
     "name": "stderr",
     "output_type": "stream",
     "text": [
      "/usr/local/lib/python3.8/dist-packages/sklearn/linear_model/_logistic.py:1113: UserWarning: Setting penalty='none' will ignore the C and l1_ratio parameters\n",
      "  warnings.warn(\n"
     ]
    },
    {
     "name": "stdout",
     "output_type": "stream",
     "text": [
      "predicting\n",
      "count zerO: 275349\n",
      "amex: 0.7902042472665205\n",
      "=== FINISHED FOLD 6/10, log loss=0.2362282188907766, accuracy=0.9021158832886622, amex=0.7902042472665205 ===\n",
      "time to run this fold: 1s\n",
      "=== STARTING FOLD 7/10 (10) ===\n",
      "creating classifier\n",
      "fitting\n"
     ]
    },
    {
     "name": "stderr",
     "output_type": "stream",
     "text": [
      "/usr/local/lib/python3.8/dist-packages/sklearn/linear_model/_logistic.py:1113: UserWarning: Setting penalty='none' will ignore the C and l1_ratio parameters\n",
      "  warnings.warn(\n"
     ]
    },
    {
     "name": "stdout",
     "output_type": "stream",
     "text": [
      "predicting\n",
      "count zerO: 321240\n",
      "amex: 0.793510621077083\n",
      "=== FINISHED FOLD 7/10, log loss=0.2308704387007201, accuracy=0.9051230088688413, amex=0.793510621077083 ===\n",
      "time to run this fold: 1s\n",
      "=== STARTING FOLD 8/10 (10) ===\n",
      "creating classifier\n",
      "fitting\n"
     ]
    },
    {
     "name": "stderr",
     "output_type": "stream",
     "text": [
      "/usr/local/lib/python3.8/dist-packages/sklearn/linear_model/_logistic.py:1113: UserWarning: Setting penalty='none' will ignore the C and l1_ratio parameters\n",
      "  warnings.warn(\n"
     ]
    },
    {
     "name": "stdout",
     "output_type": "stream",
     "text": [
      "predicting\n",
      "count zerO: 367131\n",
      "amex: 0.7972562494549627\n",
      "=== FINISHED FOLD 8/10, log loss=0.2303455743603884, accuracy=0.9065176178335621, amex=0.7972562494549627 ===\n",
      "time to run this fold: 0s\n",
      "=== STARTING FOLD 9/10 (10) ===\n",
      "creating classifier\n",
      "fitting\n"
     ]
    },
    {
     "name": "stderr",
     "output_type": "stream",
     "text": [
      "/usr/local/lib/python3.8/dist-packages/sklearn/linear_model/_logistic.py:1113: UserWarning: Setting penalty='none' will ignore the C and l1_ratio parameters\n",
      "  warnings.warn(\n"
     ]
    },
    {
     "name": "stdout",
     "output_type": "stream",
     "text": [
      "predicting\n",
      "count zerO: 413022\n",
      "amex: 0.7960377682504602\n",
      "=== FINISHED FOLD 9/10, log loss=0.23072160444099443, accuracy=0.9039463075548583, amex=0.7960377682504602 ===\n",
      "time to run this fold: 0s\n",
      "=== STARTING FOLD 10/10 (10) ===\n",
      "creating classifier\n",
      "fitting\n"
     ]
    },
    {
     "name": "stderr",
     "output_type": "stream",
     "text": [
      "/usr/local/lib/python3.8/dist-packages/sklearn/linear_model/_logistic.py:1113: UserWarning: Setting penalty='none' will ignore the C and l1_ratio parameters\n",
      "  warnings.warn(\n",
      "\u001b[32m[I 2022-08-11 18:28:28,562]\u001b[0m Trial 45 finished with value: 0.7933120038241762 and parameters: {'solver': 'sag', 'C': 1e-05, 'fit_intercept': True, 'class_weight': None, 'penalty-sag': 'none'}. Best is trial 17 with value: 0.7933326074912369.\u001b[0m\n"
     ]
    },
    {
     "name": "stdout",
     "output_type": "stream",
     "text": [
      "predicting\n",
      "count zerO: 458913\n",
      "amex: 0.7868648918570211\n",
      "=== FINISHED FOLD 10/10, log loss=0.2367485393832327, accuracy=0.9024863262949162, amex=0.7868648918570211 ===\n",
      "time to run this fold: 1s\n",
      "time to run folds: 10s\n",
      "iteration logloss: 0.23257270955778858, iteration acc: 0.9043565905961941, Iteration amex: 0.7933120038241762\n",
      "2: l1\n",
      "STARTING OPTIMIZATION iteration 47, data size: (458913, 4), params={'solver': 'liblinear', 'C': 1.7000100000000002, 'fit_intercept': True, 'class_weight': None, 'n_jobs': -1, 'verbose': 0, 'penalty': 'l1'}\n",
      "=== STARTING FOLD 1/10 (10) ===\n",
      "creating classifier\n",
      "fitting\n"
     ]
    },
    {
     "name": "stderr",
     "output_type": "stream",
     "text": [
      "/usr/local/lib/python3.8/dist-packages/optuna/distributions.py:545: UserWarning: The distribution is specified by [1e-05, 10] and q=0.1, but the range is not divisible by `q`. It will be replaced by [1e-05, 9.90001].\n",
      "  warnings.warn(\n",
      "/usr/local/lib/python3.8/dist-packages/sklearn/linear_model/_logistic.py:1153: UserWarning: 'n_jobs' > 1 does not have any effect when 'solver' is set to 'liblinear'. Got 'n_jobs' = 32.\n",
      "  warnings.warn(\n"
     ]
    },
    {
     "name": "stdout",
     "output_type": "stream",
     "text": [
      "predicting\n",
      "count zerO: 45892\n",
      "amex: 0.7900352423714603\n",
      "=== FINISHED FOLD 1/10, log loss=0.23464802097701978, accuracy=0.9049507539440426, amex=0.7900352423714603 ===\n",
      "time to run this fold: 1s\n",
      "=== STARTING FOLD 2/10 (10) ===\n",
      "creating classifier\n",
      "fitting\n"
     ]
    },
    {
     "name": "stderr",
     "output_type": "stream",
     "text": [
      "/usr/local/lib/python3.8/dist-packages/sklearn/linear_model/_logistic.py:1153: UserWarning: 'n_jobs' > 1 does not have any effect when 'solver' is set to 'liblinear'. Got 'n_jobs' = 32.\n",
      "  warnings.warn(\n"
     ]
    },
    {
     "name": "stdout",
     "output_type": "stream",
     "text": [
      "predicting\n",
      "count zerO: 91784\n",
      "amex: 0.7982568848640487\n",
      "=== FINISHED FOLD 2/10, log loss=0.2298752758726864, accuracy=0.9051904471367559, amex=0.7982568848640487 ===\n",
      "time to run this fold: 1s\n",
      "=== STARTING FOLD 3/10 (10) ===\n",
      "creating classifier\n",
      "fitting\n"
     ]
    },
    {
     "name": "stderr",
     "output_type": "stream",
     "text": [
      "/usr/local/lib/python3.8/dist-packages/sklearn/linear_model/_logistic.py:1153: UserWarning: 'n_jobs' > 1 does not have any effect when 'solver' is set to 'liblinear'. Got 'n_jobs' = 32.\n",
      "  warnings.warn(\n"
     ]
    },
    {
     "name": "stdout",
     "output_type": "stream",
     "text": [
      "predicting\n",
      "count zerO: 137676\n",
      "amex: 0.7971584274270739\n",
      "=== FINISHED FOLD 3/10, log loss=0.2284098093052509, accuracy=0.9070208315174758, amex=0.7971584274270739 ===\n",
      "time to run this fold: 1s\n",
      "=== STARTING FOLD 4/10 (10) ===\n",
      "creating classifier\n",
      "fitting\n"
     ]
    },
    {
     "name": "stderr",
     "output_type": "stream",
     "text": [
      "/usr/local/lib/python3.8/dist-packages/sklearn/linear_model/_logistic.py:1153: UserWarning: 'n_jobs' > 1 does not have any effect when 'solver' is set to 'liblinear'. Got 'n_jobs' = 32.\n",
      "  warnings.warn(\n"
     ]
    },
    {
     "name": "stdout",
     "output_type": "stream",
     "text": [
      "predicting\n",
      "count zerO: 183567\n",
      "amex: 0.7937590170589638\n",
      "=== FINISHED FOLD 4/10, log loss=0.23301579127130415, accuracy=0.9028567693011702, amex=0.7937590170589638 ===\n",
      "time to run this fold: 0s\n",
      "=== STARTING FOLD 5/10 (10) ===\n",
      "creating classifier\n",
      "fitting\n"
     ]
    },
    {
     "name": "stderr",
     "output_type": "stream",
     "text": [
      "/usr/local/lib/python3.8/dist-packages/sklearn/linear_model/_logistic.py:1153: UserWarning: 'n_jobs' > 1 does not have any effect when 'solver' is set to 'liblinear'. Got 'n_jobs' = 32.\n",
      "  warnings.warn(\n"
     ]
    },
    {
     "name": "stdout",
     "output_type": "stream",
     "text": [
      "predicting\n",
      "count zerO: 229458\n",
      "amex: 0.7898693102337675\n",
      "=== FINISHED FOLD 5/10, log loss=0.2348607994289423, accuracy=0.903510492253383, amex=0.7898693102337675 ===\n",
      "time to run this fold: 1s\n",
      "=== STARTING FOLD 6/10 (10) ===\n",
      "creating classifier\n",
      "fitting\n"
     ]
    },
    {
     "name": "stderr",
     "output_type": "stream",
     "text": [
      "/usr/local/lib/python3.8/dist-packages/sklearn/linear_model/_logistic.py:1153: UserWarning: 'n_jobs' > 1 does not have any effect when 'solver' is set to 'liblinear'. Got 'n_jobs' = 32.\n",
      "  warnings.warn(\n"
     ]
    },
    {
     "name": "stdout",
     "output_type": "stream",
     "text": [
      "predicting\n",
      "count zerO: 275349\n",
      "amex: 0.7902049352048865\n",
      "=== FINISHED FOLD 6/10, log loss=0.23622674490430415, accuracy=0.902137674053736, amex=0.7902049352048865 ===\n",
      "time to run this fold: 2s\n",
      "=== STARTING FOLD 7/10 (10) ===\n",
      "creating classifier\n",
      "fitting\n"
     ]
    },
    {
     "name": "stderr",
     "output_type": "stream",
     "text": [
      "/usr/local/lib/python3.8/dist-packages/sklearn/linear_model/_logistic.py:1153: UserWarning: 'n_jobs' > 1 does not have any effect when 'solver' is set to 'liblinear'. Got 'n_jobs' = 32.\n",
      "  warnings.warn(\n"
     ]
    },
    {
     "name": "stdout",
     "output_type": "stream",
     "text": [
      "predicting\n",
      "count zerO: 321240\n",
      "amex: 0.7935524777544254\n",
      "=== FINISHED FOLD 7/10, log loss=0.2308703487290759, accuracy=0.9051447996339151, amex=0.7935524777544254 ===\n",
      "time to run this fold: 1s\n",
      "=== STARTING FOLD 8/10 (10) ===\n",
      "creating classifier\n",
      "fitting\n"
     ]
    },
    {
     "name": "stderr",
     "output_type": "stream",
     "text": [
      "/usr/local/lib/python3.8/dist-packages/sklearn/linear_model/_logistic.py:1153: UserWarning: 'n_jobs' > 1 does not have any effect when 'solver' is set to 'liblinear'. Got 'n_jobs' = 32.\n",
      "  warnings.warn(\n"
     ]
    },
    {
     "name": "stdout",
     "output_type": "stream",
     "text": [
      "predicting\n",
      "count zerO: 367131\n",
      "amex: 0.7971722713182448\n",
      "=== FINISHED FOLD 8/10, log loss=0.2303453565271366, accuracy=0.9065176178335621, amex=0.7971722713182448 ===\n",
      "time to run this fold: 1s\n",
      "=== STARTING FOLD 9/10 (10) ===\n",
      "creating classifier\n",
      "fitting\n"
     ]
    },
    {
     "name": "stderr",
     "output_type": "stream",
     "text": [
      "/usr/local/lib/python3.8/dist-packages/sklearn/linear_model/_logistic.py:1153: UserWarning: 'n_jobs' > 1 does not have any effect when 'solver' is set to 'liblinear'. Got 'n_jobs' = 32.\n",
      "  warnings.warn(\n"
     ]
    },
    {
     "name": "stdout",
     "output_type": "stream",
     "text": [
      "predicting\n",
      "count zerO: 413022\n",
      "amex: 0.7960796175040075\n",
      "=== FINISHED FOLD 9/10, log loss=0.23072130684199155, accuracy=0.903968098319932, amex=0.7960796175040075 ===\n",
      "time to run this fold: 1s\n",
      "=== STARTING FOLD 10/10 (10) ===\n",
      "creating classifier\n",
      "fitting\n"
     ]
    },
    {
     "name": "stderr",
     "output_type": "stream",
     "text": [
      "/usr/local/lib/python3.8/dist-packages/sklearn/linear_model/_logistic.py:1153: UserWarning: 'n_jobs' > 1 does not have any effect when 'solver' is set to 'liblinear'. Got 'n_jobs' = 32.\n",
      "  warnings.warn(\n",
      "\u001b[32m[I 2022-08-11 18:28:45,097]\u001b[0m Trial 46 finished with value: 0.7932827077456343 and parameters: {'solver': 'liblinear', 'C': 1.7000100000000002, 'fit_intercept': True, 'class_weight': None, 'penalty-liblinear': 'l1'}. Best is trial 17 with value: 0.7933326074912369.\u001b[0m\n"
     ]
    },
    {
     "name": "stdout",
     "output_type": "stream",
     "text": [
      "predicting\n",
      "count zerO: 458913\n",
      "amex: 0.7867388937194637\n",
      "=== FINISHED FOLD 10/10, log loss=0.23674830523926343, accuracy=0.90250811705999, amex=0.7867388937194637 ===\n",
      "time to run this fold: 1s\n",
      "time to run folds: 16s\n",
      "iteration logloss: 0.23257217590969753, iteration acc: 0.9043805601053962, Iteration amex: 0.7932827077456343\n",
      "2: l1\n",
      "STARTING OPTIMIZATION iteration 48, data size: (458913, 4), params={'solver': 'liblinear', 'C': 0.60001, 'fit_intercept': True, 'class_weight': None, 'n_jobs': -1, 'verbose': 0, 'penalty': 'l1'}\n",
      "=== STARTING FOLD 1/10 (10) ===\n",
      "creating classifier\n",
      "fitting\n"
     ]
    },
    {
     "name": "stderr",
     "output_type": "stream",
     "text": [
      "/usr/local/lib/python3.8/dist-packages/optuna/distributions.py:545: UserWarning: The distribution is specified by [1e-05, 10] and q=0.1, but the range is not divisible by `q`. It will be replaced by [1e-05, 9.90001].\n",
      "  warnings.warn(\n",
      "/usr/local/lib/python3.8/dist-packages/sklearn/linear_model/_logistic.py:1153: UserWarning: 'n_jobs' > 1 does not have any effect when 'solver' is set to 'liblinear'. Got 'n_jobs' = 32.\n",
      "  warnings.warn(\n"
     ]
    },
    {
     "name": "stdout",
     "output_type": "stream",
     "text": [
      "predicting\n",
      "count zerO: 45892\n",
      "amex: 0.7900343119498068\n",
      "=== FINISHED FOLD 1/10, log loss=0.2346512863917512, accuracy=0.9048635927830558, amex=0.7900343119498068 ===\n",
      "time to run this fold: 1s\n",
      "=== STARTING FOLD 2/10 (10) ===\n",
      "creating classifier\n",
      "fitting\n"
     ]
    },
    {
     "name": "stderr",
     "output_type": "stream",
     "text": [
      "/usr/local/lib/python3.8/dist-packages/sklearn/linear_model/_logistic.py:1153: UserWarning: 'n_jobs' > 1 does not have any effect when 'solver' is set to 'liblinear'. Got 'n_jobs' = 32.\n",
      "  warnings.warn(\n"
     ]
    },
    {
     "name": "stdout",
     "output_type": "stream",
     "text": [
      "predicting\n",
      "count zerO: 91784\n",
      "amex: 0.798257003641281\n",
      "=== FINISHED FOLD 2/10, log loss=0.2298750225233373, accuracy=0.9051904471367559, amex=0.798257003641281 ===\n",
      "time to run this fold: 1s\n",
      "=== STARTING FOLD 3/10 (10) ===\n",
      "creating classifier\n",
      "fitting\n"
     ]
    },
    {
     "name": "stderr",
     "output_type": "stream",
     "text": [
      "/usr/local/lib/python3.8/dist-packages/sklearn/linear_model/_logistic.py:1153: UserWarning: 'n_jobs' > 1 does not have any effect when 'solver' is set to 'liblinear'. Got 'n_jobs' = 32.\n",
      "  warnings.warn(\n"
     ]
    },
    {
     "name": "stdout",
     "output_type": "stream",
     "text": [
      "predicting\n",
      "count zerO: 137676\n",
      "amex: 0.7972419304600289\n",
      "=== FINISHED FOLD 3/10, log loss=0.2284096748919309, accuracy=0.9070644120979692, amex=0.7972419304600289 ===\n",
      "time to run this fold: 2s\n",
      "=== STARTING FOLD 4/10 (10) ===\n",
      "creating classifier\n",
      "fitting\n"
     ]
    },
    {
     "name": "stderr",
     "output_type": "stream",
     "text": [
      "/usr/local/lib/python3.8/dist-packages/sklearn/linear_model/_logistic.py:1153: UserWarning: 'n_jobs' > 1 does not have any effect when 'solver' is set to 'liblinear'. Got 'n_jobs' = 32.\n",
      "  warnings.warn(\n"
     ]
    },
    {
     "name": "stdout",
     "output_type": "stream",
     "text": [
      "predicting\n",
      "count zerO: 183567\n",
      "amex: 0.7938000259570065\n",
      "=== FINISHED FOLD 4/10, log loss=0.23301915125093728, accuracy=0.9028567693011702, amex=0.7938000259570065 ===\n",
      "time to run this fold: 1s\n",
      "=== STARTING FOLD 5/10 (10) ===\n",
      "creating classifier\n",
      "fitting\n"
     ]
    },
    {
     "name": "stderr",
     "output_type": "stream",
     "text": [
      "/usr/local/lib/python3.8/dist-packages/sklearn/linear_model/_logistic.py:1153: UserWarning: 'n_jobs' > 1 does not have any effect when 'solver' is set to 'liblinear'. Got 'n_jobs' = 32.\n",
      "  warnings.warn(\n"
     ]
    },
    {
     "name": "stdout",
     "output_type": "stream",
     "text": [
      "predicting\n",
      "count zerO: 229458\n",
      "amex: 0.7898694191220605\n",
      "=== FINISHED FOLD 5/10, log loss=0.2348604360405199, accuracy=0.903510492253383, amex=0.7898694191220605 ===\n",
      "time to run this fold: 1s\n",
      "=== STARTING FOLD 6/10 (10) ===\n",
      "creating classifier\n",
      "fitting\n"
     ]
    },
    {
     "name": "stderr",
     "output_type": "stream",
     "text": [
      "/usr/local/lib/python3.8/dist-packages/sklearn/linear_model/_logistic.py:1153: UserWarning: 'n_jobs' > 1 does not have any effect when 'solver' is set to 'liblinear'. Got 'n_jobs' = 32.\n",
      "  warnings.warn(\n"
     ]
    },
    {
     "name": "stdout",
     "output_type": "stream",
     "text": [
      "predicting\n",
      "count zerO: 275349\n",
      "amex: 0.790204955001674\n",
      "=== FINISHED FOLD 6/10, log loss=0.2362266071567617, accuracy=0.902137674053736, amex=0.790204955001674 ===\n",
      "time to run this fold: 1s\n",
      "=== STARTING FOLD 7/10 (10) ===\n",
      "creating classifier\n",
      "fitting\n"
     ]
    },
    {
     "name": "stderr",
     "output_type": "stream",
     "text": [
      "/usr/local/lib/python3.8/dist-packages/sklearn/linear_model/_logistic.py:1153: UserWarning: 'n_jobs' > 1 does not have any effect when 'solver' is set to 'liblinear'. Got 'n_jobs' = 32.\n",
      "  warnings.warn(\n"
     ]
    },
    {
     "name": "stdout",
     "output_type": "stream",
     "text": [
      "predicting\n",
      "count zerO: 321240\n",
      "amex: 0.7935526287049302\n",
      "=== FINISHED FOLD 7/10, log loss=0.23087044324186545, accuracy=0.9051230088688413, amex=0.7935526287049302 ===\n",
      "time to run this fold: 1s\n",
      "=== STARTING FOLD 8/10 (10) ===\n",
      "creating classifier\n",
      "fitting\n"
     ]
    },
    {
     "name": "stderr",
     "output_type": "stream",
     "text": [
      "/usr/local/lib/python3.8/dist-packages/sklearn/linear_model/_logistic.py:1153: UserWarning: 'n_jobs' > 1 does not have any effect when 'solver' is set to 'liblinear'. Got 'n_jobs' = 32.\n",
      "  warnings.warn(\n"
     ]
    },
    {
     "name": "stdout",
     "output_type": "stream",
     "text": [
      "predicting\n",
      "count zerO: 367131\n",
      "amex: 0.797214454642581\n",
      "=== FINISHED FOLD 8/10, log loss=0.2303470845566626, accuracy=0.9064740363034146, amex=0.797214454642581 ===\n",
      "time to run this fold: 1s\n",
      "=== STARTING FOLD 9/10 (10) ===\n",
      "creating classifier\n",
      "fitting\n"
     ]
    },
    {
     "name": "stderr",
     "output_type": "stream",
     "text": [
      "/usr/local/lib/python3.8/dist-packages/sklearn/linear_model/_logistic.py:1153: UserWarning: 'n_jobs' > 1 does not have any effect when 'solver' is set to 'liblinear'. Got 'n_jobs' = 32.\n",
      "  warnings.warn(\n"
     ]
    },
    {
     "name": "stdout",
     "output_type": "stream",
     "text": [
      "predicting\n",
      "count zerO: 413022\n",
      "amex: 0.7960796942165589\n",
      "=== FINISHED FOLD 9/10, log loss=0.23072164496698838, accuracy=0.903968098319932, amex=0.7960796942165589 ===\n",
      "time to run this fold: 1s\n",
      "=== STARTING FOLD 10/10 (10) ===\n",
      "creating classifier\n",
      "fitting\n"
     ]
    },
    {
     "name": "stderr",
     "output_type": "stream",
     "text": [
      "/usr/local/lib/python3.8/dist-packages/sklearn/linear_model/_logistic.py:1153: UserWarning: 'n_jobs' > 1 does not have any effect when 'solver' is set to 'liblinear'. Got 'n_jobs' = 32.\n",
      "  warnings.warn(\n",
      "\u001b[32m[I 2022-08-11 18:29:01,967]\u001b[0m Trial 47 finished with value: 0.793299334958517 and parameters: {'solver': 'liblinear', 'C': 0.60001, 'fit_intercept': True, 'class_weight': None, 'penalty-liblinear': 'l1'}. Best is trial 17 with value: 0.7933326074912369.\u001b[0m\n"
     ]
    },
    {
     "name": "stdout",
     "output_type": "stream",
     "text": [
      "predicting\n",
      "count zerO: 458913\n",
      "amex: 0.7867389258892434\n",
      "=== FINISHED FOLD 10/10, log loss=0.23674789696543203, accuracy=0.90250811705999, amex=0.7867389258892434 ===\n",
      "time to run this fold: 1s\n",
      "time to run folds: 16s\n",
      "iteration logloss: 0.23257292479861866, iteration acc: 0.9043696648178248, Iteration amex: 0.793299334958517\n",
      "1: none\n",
      "STARTING OPTIMIZATION iteration 49, data size: (458913, 4), params={'solver': 'lbfgs', 'C': 3.2000100000000002, 'fit_intercept': True, 'class_weight': None, 'n_jobs': -1, 'verbose': 0, 'penalty': 'none'}\n",
      "=== STARTING FOLD 1/10 (10) ===\n",
      "creating classifier\n",
      "fitting\n"
     ]
    },
    {
     "name": "stderr",
     "output_type": "stream",
     "text": [
      "/usr/local/lib/python3.8/dist-packages/optuna/distributions.py:545: UserWarning: The distribution is specified by [1e-05, 10] and q=0.1, but the range is not divisible by `q`. It will be replaced by [1e-05, 9.90001].\n",
      "  warnings.warn(\n",
      "/usr/local/lib/python3.8/dist-packages/sklearn/linear_model/_logistic.py:1113: UserWarning: Setting penalty='none' will ignore the C and l1_ratio parameters\n",
      "  warnings.warn(\n"
     ]
    },
    {
     "name": "stdout",
     "output_type": "stream",
     "text": [
      "predicting\n",
      "count zerO: 45892\n",
      "amex: 0.7900769184149046\n",
      "=== FINISHED FOLD 1/10, log loss=0.23464982108010535, accuracy=0.9048853830733026, amex=0.7900769184149046 ===\n",
      "time to run this fold: 0s\n",
      "=== STARTING FOLD 2/10 (10) ===\n",
      "creating classifier\n",
      "fitting\n"
     ]
    },
    {
     "name": "stderr",
     "output_type": "stream",
     "text": [
      "/usr/local/lib/python3.8/dist-packages/sklearn/linear_model/_logistic.py:1113: UserWarning: Setting penalty='none' will ignore the C and l1_ratio parameters\n",
      "  warnings.warn(\n"
     ]
    },
    {
     "name": "stdout",
     "output_type": "stream",
     "text": [
      "predicting\n",
      "count zerO: 91784\n",
      "amex: 0.7982554521136835\n",
      "=== FINISHED FOLD 2/10, log loss=0.2298791159167071, accuracy=0.9051250762660159, amex=0.7982554521136835 ===\n",
      "time to run this fold: 0s\n",
      "=== STARTING FOLD 3/10 (10) ===\n",
      "creating classifier\n",
      "fitting\n"
     ]
    },
    {
     "name": "stderr",
     "output_type": "stream",
     "text": [
      "/usr/local/lib/python3.8/dist-packages/sklearn/linear_model/_logistic.py:1113: UserWarning: Setting penalty='none' will ignore the C and l1_ratio parameters\n",
      "  warnings.warn(\n"
     ]
    },
    {
     "name": "stdout",
     "output_type": "stream",
     "text": [
      "predicting\n",
      "count zerO: 137676\n",
      "amex: 0.7971999921168629\n",
      "=== FINISHED FOLD 3/10, log loss=0.22840965244933412, accuracy=0.9070426218077224, amex=0.7971999921168629 ===\n",
      "time to run this fold: 0s\n",
      "=== STARTING FOLD 4/10 (10) ===\n",
      "creating classifier\n",
      "fitting\n"
     ]
    },
    {
     "name": "stderr",
     "output_type": "stream",
     "text": [
      "/usr/local/lib/python3.8/dist-packages/sklearn/linear_model/_logistic.py:1113: UserWarning: Setting penalty='none' will ignore the C and l1_ratio parameters\n",
      "  warnings.warn(\n"
     ]
    },
    {
     "name": "stdout",
     "output_type": "stream",
     "text": [
      "predicting\n",
      "count zerO: 183567\n",
      "amex: 0.7937173771037684\n",
      "=== FINISHED FOLD 4/10, log loss=0.23301587075902722, accuracy=0.9028785600662439, amex=0.7937173771037684 ===\n",
      "time to run this fold: 0s\n",
      "=== STARTING FOLD 5/10 (10) ===\n",
      "creating classifier\n",
      "fitting\n"
     ]
    },
    {
     "name": "stderr",
     "output_type": "stream",
     "text": [
      "/usr/local/lib/python3.8/dist-packages/sklearn/linear_model/_logistic.py:1113: UserWarning: Setting penalty='none' will ignore the C and l1_ratio parameters\n",
      "  warnings.warn(\n"
     ]
    },
    {
     "name": "stdout",
     "output_type": "stream",
     "text": [
      "predicting\n",
      "count zerO: 229458\n",
      "amex: 0.7899537606933084\n",
      "=== FINISHED FOLD 5/10, log loss=0.23485854428862235, accuracy=0.9034887014883093, amex=0.7899537606933084 ===\n",
      "time to run this fold: 0s\n",
      "=== STARTING FOLD 6/10 (10) ===\n",
      "creating classifier\n",
      "fitting\n"
     ]
    },
    {
     "name": "stderr",
     "output_type": "stream",
     "text": [
      "/usr/local/lib/python3.8/dist-packages/sklearn/linear_model/_logistic.py:1113: UserWarning: Setting penalty='none' will ignore the C and l1_ratio parameters\n",
      "  warnings.warn(\n"
     ]
    },
    {
     "name": "stdout",
     "output_type": "stream",
     "text": [
      "predicting\n",
      "count zerO: 275349\n",
      "amex: 0.7902042101475439\n",
      "=== FINISHED FOLD 6/10, log loss=0.23622832543781683, accuracy=0.9021158832886622, amex=0.7902042101475439 ===\n",
      "time to run this fold: 0s\n",
      "=== STARTING FOLD 7/10 (10) ===\n",
      "creating classifier\n",
      "fitting\n"
     ]
    },
    {
     "name": "stderr",
     "output_type": "stream",
     "text": [
      "/usr/local/lib/python3.8/dist-packages/sklearn/linear_model/_logistic.py:1113: UserWarning: Setting penalty='none' will ignore the C and l1_ratio parameters\n",
      "  warnings.warn(\n"
     ]
    },
    {
     "name": "stdout",
     "output_type": "stream",
     "text": [
      "predicting\n",
      "count zerO: 321240\n",
      "amex: 0.7935105790089094\n",
      "=== FINISHED FOLD 7/10, log loss=0.2308704567013646, accuracy=0.9051230088688413, amex=0.7935105790089094 ===\n",
      "time to run this fold: 0s\n",
      "=== STARTING FOLD 8/10 (10) ===\n",
      "creating classifier\n",
      "fitting\n"
     ]
    },
    {
     "name": "stderr",
     "output_type": "stream",
     "text": [
      "/usr/local/lib/python3.8/dist-packages/sklearn/linear_model/_logistic.py:1113: UserWarning: Setting penalty='none' will ignore the C and l1_ratio parameters\n",
      "  warnings.warn(\n"
     ]
    },
    {
     "name": "stdout",
     "output_type": "stream",
     "text": [
      "predicting\n",
      "count zerO: 367131\n",
      "amex: 0.7972141948097449\n",
      "=== FINISHED FOLD 8/10, log loss=0.23034594586514914, accuracy=0.9065176178335621, amex=0.7972141948097449 ===\n",
      "time to run this fold: 0s\n",
      "=== STARTING FOLD 9/10 (10) ===\n",
      "creating classifier\n",
      "fitting\n"
     ]
    },
    {
     "name": "stderr",
     "output_type": "stream",
     "text": [
      "/usr/local/lib/python3.8/dist-packages/sklearn/linear_model/_logistic.py:1113: UserWarning: Setting penalty='none' will ignore the C and l1_ratio parameters\n",
      "  warnings.warn(\n"
     ]
    },
    {
     "name": "stdout",
     "output_type": "stream",
     "text": [
      "predicting\n",
      "count zerO: 413022\n",
      "amex: 0.7960377707250587\n",
      "=== FINISHED FOLD 9/10, log loss=0.23072163499851597, accuracy=0.9039463075548583, amex=0.7960377707250587 ===\n",
      "time to run this fold: 0s\n",
      "=== STARTING FOLD 10/10 (10) ===\n",
      "creating classifier\n",
      "fitting\n"
     ]
    },
    {
     "name": "stderr",
     "output_type": "stream",
     "text": [
      "/usr/local/lib/python3.8/dist-packages/sklearn/linear_model/_logistic.py:1113: UserWarning: Setting penalty='none' will ignore the C and l1_ratio parameters\n",
      "  warnings.warn(\n",
      "\u001b[32m[I 2022-08-11 18:29:10,193]\u001b[0m Trial 48 finished with value: 0.7933035194008177 and parameters: {'solver': 'lbfgs', 'C': 3.2000100000000002, 'fit_intercept': True, 'class_weight': None, 'penalty-lbfgs': 'none'}. Best is trial 17 with value: 0.7933326074912369.\u001b[0m\n"
     ]
    },
    {
     "name": "stdout",
     "output_type": "stream",
     "text": [
      "predicting\n",
      "count zerO: 458913\n",
      "amex: 0.7868649388743914\n",
      "=== FINISHED FOLD 10/10, log loss=0.23674875401528378, accuracy=0.9024863262949162, amex=0.7868649388743914 ===\n",
      "time to run this fold: 0s\n",
      "time to run folds: 8s\n",
      "iteration logloss: 0.23257281215119266, iteration acc: 0.9043609486542433, Iteration amex: 0.7933035194008177\n",
      "3: none\n",
      "STARTING OPTIMIZATION iteration 50, data size: (458913, 4), params={'solver': 'sag', 'C': 5.40001, 'fit_intercept': False, 'class_weight': None, 'n_jobs': -1, 'verbose': 0, 'penalty': 'none'}\n",
      "=== STARTING FOLD 1/10 (10) ===\n",
      "creating classifier\n",
      "fitting\n"
     ]
    },
    {
     "name": "stderr",
     "output_type": "stream",
     "text": [
      "/usr/local/lib/python3.8/dist-packages/optuna/distributions.py:545: UserWarning: The distribution is specified by [1e-05, 10] and q=0.1, but the range is not divisible by `q`. It will be replaced by [1e-05, 9.90001].\n",
      "  warnings.warn(\n",
      "/usr/local/lib/python3.8/dist-packages/sklearn/linear_model/_logistic.py:1113: UserWarning: Setting penalty='none' will ignore the C and l1_ratio parameters\n",
      "  warnings.warn(\n",
      "\u001b[32m[I 2022-08-11 18:29:11,280]\u001b[0m Trial 49 finished with value: 0.7639832266945181 and parameters: {'solver': 'sag', 'C': 5.40001, 'fit_intercept': False, 'class_weight': None, 'penalty-sag': 'none'}. Best is trial 17 with value: 0.7933326074912369.\u001b[0m\n"
     ]
    },
    {
     "name": "stdout",
     "output_type": "stream",
     "text": [
      "predicting\n",
      "count zerO: 45892\n",
      "amex: 0.7639832266945181\n",
      "=== FINISHED FOLD 1/10, log loss=0.6507780762548928, accuracy=0.2985923472500654, amex=0.7639832266945181 ===\n",
      "time to run this fold: 1s\n",
      "low score on amex, dropping loop\n"
     ]
    }
   ],
   "source": [
    "optuna_eval_results = {}\n",
    "optuna_iteration_index = 0\n",
    "optuna_losses = []\n",
    "optuna_accuracies = []\n",
    "optuna_amexes = []\n",
    "optuna_parameters = []\n",
    "optuna_seconds = []\n",
    "\n",
    "#study = optuna.create_study(direction=\"minimize\", study_name=\"XGB Classifier\")\n",
    "study = optuna.create_study(direction=\"maximize\", study_name=\"LogReg Classifier\")\n",
    "func = lambda trial: optuna_objective(trial, X, y)\n",
    "study.optimize(func, n_trials=50)"
   ]
  },
  {
   "cell_type": "code",
   "execution_count": 93,
   "id": "b3924f2b",
   "metadata": {},
   "outputs": [
    {
     "data": {
      "text/plain": [
       "494"
      ]
     },
     "execution_count": 93,
     "metadata": {},
     "output_type": "execute_result"
    }
   ],
   "source": [
    "sum(optuna_seconds)"
   ]
  },
  {
   "cell_type": "markdown",
   "id": "e854b09f",
   "metadata": {},
   "source": [
    "# Look into Optimized Parameters\n",
    "\n",
    "Compare parameters vs achieved loss, accuracy, amex score, and running time:"
   ]
  },
  {
   "cell_type": "code",
   "execution_count": 94,
   "id": "48c60e45",
   "metadata": {},
   "outputs": [],
   "source": [
    "df_params = pd.DataFrame(optuna_parameters)\n",
    "df_params[\"loss\"] = optuna_losses\n",
    "df_params[\"accuracy\"] = optuna_accuracies\n",
    "df_params[\"amex\"] = optuna_amexes\n",
    "df_params[\"time\"] = optuna_seconds\n",
    "\n",
    "#df_params"
   ]
  },
  {
   "cell_type": "code",
   "execution_count": 96,
   "id": "5f27ecd5",
   "metadata": {},
   "outputs": [],
   "source": [
    "df_params.to_csv(\"optimizer_results_logreg.csv\")"
   ]
  },
  {
   "cell_type": "code",
   "execution_count": 97,
   "id": "1cf2c531",
   "metadata": {},
   "outputs": [
    {
     "data": {
      "text/plain": [
       "[{'solver': 'sag',\n",
       "  'C': 7.80001,\n",
       "  'fit_intercept': True,\n",
       "  'class_weight': None,\n",
       "  'n_jobs': -1,\n",
       "  'verbose': 0,\n",
       "  'penalty': 'l2'},\n",
       " {'solver': 'saga',\n",
       "  'C': 2.00001,\n",
       "  'fit_intercept': True,\n",
       "  'class_weight': 'balanced',\n",
       "  'n_jobs': -1,\n",
       "  'verbose': 0,\n",
       "  'penalty': 'elasticnet',\n",
       "  'l1_ratio': 0.63909},\n",
       " {'solver': 'lbfgs',\n",
       "  'C': 3.00001,\n",
       "  'fit_intercept': True,\n",
       "  'class_weight': None,\n",
       "  'n_jobs': -1,\n",
       "  'verbose': 0,\n",
       "  'penalty': 'l2'},\n",
       " {'solver': 'sag',\n",
       "  'C': 5.50001,\n",
       "  'fit_intercept': False,\n",
       "  'class_weight': 'balanced',\n",
       "  'n_jobs': -1,\n",
       "  'verbose': 0,\n",
       "  'penalty': 'l2'},\n",
       " {'solver': 'sag',\n",
       "  'C': 8.10001,\n",
       "  'fit_intercept': True,\n",
       "  'class_weight': None,\n",
       "  'n_jobs': -1,\n",
       "  'verbose': 0,\n",
       "  'penalty': 'l2'},\n",
       " {'solver': 'sag',\n",
       "  'C': 4.300009999999999,\n",
       "  'fit_intercept': True,\n",
       "  'class_weight': 'balanced',\n",
       "  'n_jobs': -1,\n",
       "  'verbose': 0,\n",
       "  'penalty': 'l2'},\n",
       " {'solver': 'saga',\n",
       "  'C': 8.30001,\n",
       "  'fit_intercept': True,\n",
       "  'class_weight': 'balanced',\n",
       "  'n_jobs': -1,\n",
       "  'verbose': 0,\n",
       "  'penalty': 'elasticnet',\n",
       "  'l1_ratio': 0.45616000000000007},\n",
       " {'solver': 'liblinear',\n",
       "  'C': 5.40001,\n",
       "  'fit_intercept': True,\n",
       "  'class_weight': None,\n",
       "  'n_jobs': -1,\n",
       "  'verbose': 0,\n",
       "  'penalty': 'l2'},\n",
       " {'solver': 'sag',\n",
       "  'C': 7.80001,\n",
       "  'fit_intercept': True,\n",
       "  'class_weight': 'balanced',\n",
       "  'n_jobs': -1,\n",
       "  'verbose': 0,\n",
       "  'penalty': 'l2'},\n",
       " {'solver': 'sag',\n",
       "  'C': 6.90001,\n",
       "  'fit_intercept': True,\n",
       "  'class_weight': None,\n",
       "  'n_jobs': -1,\n",
       "  'verbose': 0,\n",
       "  'penalty': 'none'},\n",
       " {'solver': 'sag',\n",
       "  'C': 6.70001,\n",
       "  'fit_intercept': True,\n",
       "  'class_weight': None,\n",
       "  'n_jobs': -1,\n",
       "  'verbose': 0,\n",
       "  'penalty': 'none'},\n",
       " {'solver': 'liblinear',\n",
       "  'C': 6.40001,\n",
       "  'fit_intercept': True,\n",
       "  'class_weight': None,\n",
       "  'n_jobs': -1,\n",
       "  'verbose': 0,\n",
       "  'penalty': 'l1'},\n",
       " {'solver': 'liblinear',\n",
       "  'C': 6.40001,\n",
       "  'fit_intercept': True,\n",
       "  'class_weight': None,\n",
       "  'n_jobs': -1,\n",
       "  'verbose': 0,\n",
       "  'penalty': 'l1'},\n",
       " {'solver': 'liblinear',\n",
       "  'C': 4.00001,\n",
       "  'fit_intercept': True,\n",
       "  'class_weight': None,\n",
       "  'n_jobs': -1,\n",
       "  'verbose': 0,\n",
       "  'penalty': 'l1'},\n",
       " {'solver': 'liblinear',\n",
       "  'C': 6.40001,\n",
       "  'fit_intercept': True,\n",
       "  'class_weight': None,\n",
       "  'n_jobs': -1,\n",
       "  'verbose': 0,\n",
       "  'penalty': 'l1'},\n",
       " {'solver': 'liblinear',\n",
       "  'C': 3.9000100000000004,\n",
       "  'fit_intercept': True,\n",
       "  'class_weight': None,\n",
       "  'n_jobs': -1,\n",
       "  'verbose': 0,\n",
       "  'penalty': 'l1'},\n",
       " {'solver': 'liblinear',\n",
       "  'C': 9.600010000000001,\n",
       "  'fit_intercept': True,\n",
       "  'class_weight': None,\n",
       "  'n_jobs': -1,\n",
       "  'verbose': 0,\n",
       "  'penalty': 'l2'},\n",
       " {'solver': 'liblinear',\n",
       "  'C': 6.70001,\n",
       "  'fit_intercept': True,\n",
       "  'class_weight': None,\n",
       "  'n_jobs': -1,\n",
       "  'verbose': 0,\n",
       "  'penalty': 'l1'},\n",
       " {'solver': 'liblinear',\n",
       "  'C': 6.30001,\n",
       "  'fit_intercept': True,\n",
       "  'class_weight': None,\n",
       "  'n_jobs': -1,\n",
       "  'verbose': 0,\n",
       "  'penalty': 'l1'},\n",
       " {'solver': 'liblinear',\n",
       "  'C': 5.10001,\n",
       "  'fit_intercept': True,\n",
       "  'class_weight': None,\n",
       "  'n_jobs': -1,\n",
       "  'verbose': 0,\n",
       "  'penalty': 'l1'},\n",
       " {'solver': 'liblinear',\n",
       "  'C': 7.20001,\n",
       "  'fit_intercept': True,\n",
       "  'class_weight': None,\n",
       "  'n_jobs': -1,\n",
       "  'verbose': 0,\n",
       "  'penalty': 'l1'},\n",
       " {'solver': 'lbfgs',\n",
       "  'C': 6.00001,\n",
       "  'fit_intercept': True,\n",
       "  'class_weight': None,\n",
       "  'n_jobs': -1,\n",
       "  'verbose': 0,\n",
       "  'penalty': 'l2'},\n",
       " {'solver': 'liblinear',\n",
       "  'C': 8.90001,\n",
       "  'fit_intercept': True,\n",
       "  'class_weight': None,\n",
       "  'n_jobs': -1,\n",
       "  'verbose': 0,\n",
       "  'penalty': 'l1'},\n",
       " {'solver': 'liblinear',\n",
       "  'C': 3.10001,\n",
       "  'fit_intercept': True,\n",
       "  'class_weight': None,\n",
       "  'n_jobs': -1,\n",
       "  'verbose': 0,\n",
       "  'penalty': 'l2'},\n",
       " {'solver': 'liblinear',\n",
       "  'C': 7.90001,\n",
       "  'fit_intercept': True,\n",
       "  'class_weight': None,\n",
       "  'n_jobs': -1,\n",
       "  'verbose': 0,\n",
       "  'penalty': 'l1'},\n",
       " {'solver': 'lbfgs',\n",
       "  'C': 7.30001,\n",
       "  'fit_intercept': True,\n",
       "  'class_weight': None,\n",
       "  'n_jobs': -1,\n",
       "  'verbose': 0,\n",
       "  'penalty': 'none'},\n",
       " {'solver': 'liblinear',\n",
       "  'C': 3.8000100000000003,\n",
       "  'fit_intercept': True,\n",
       "  'class_weight': None,\n",
       "  'n_jobs': -1,\n",
       "  'verbose': 0,\n",
       "  'penalty': 'l1'},\n",
       " {'solver': 'liblinear',\n",
       "  'C': 2.60001,\n",
       "  'fit_intercept': True,\n",
       "  'class_weight': None,\n",
       "  'n_jobs': -1,\n",
       "  'verbose': 0,\n",
       "  'penalty': 'l1'},\n",
       " {'solver': 'saga',\n",
       "  'C': 5.60001,\n",
       "  'fit_intercept': True,\n",
       "  'class_weight': None,\n",
       "  'n_jobs': -1,\n",
       "  'verbose': 0,\n",
       "  'penalty': 'none'},\n",
       " {'solver': 'liblinear',\n",
       "  'C': 4.60001,\n",
       "  'fit_intercept': True,\n",
       "  'class_weight': None,\n",
       "  'n_jobs': -1,\n",
       "  'verbose': 0,\n",
       "  'penalty': 'l1'},\n",
       " {'solver': 'liblinear',\n",
       "  'C': 1.30001,\n",
       "  'fit_intercept': True,\n",
       "  'class_weight': None,\n",
       "  'n_jobs': -1,\n",
       "  'verbose': 0,\n",
       "  'penalty': 'l1'},\n",
       " {'solver': 'saga',\n",
       "  'C': 1e-05,\n",
       "  'fit_intercept': False,\n",
       "  'class_weight': None,\n",
       "  'n_jobs': -1,\n",
       "  'verbose': 0,\n",
       "  'penalty': 'l2'},\n",
       " {'solver': 'liblinear',\n",
       "  'C': 6.30001,\n",
       "  'fit_intercept': True,\n",
       "  'class_weight': None,\n",
       "  'n_jobs': -1,\n",
       "  'verbose': 0,\n",
       "  'penalty': 'l1'},\n",
       " {'solver': 'lbfgs',\n",
       "  'C': 2.2000100000000002,\n",
       "  'fit_intercept': True,\n",
       "  'class_weight': None,\n",
       "  'n_jobs': -1,\n",
       "  'verbose': 0,\n",
       "  'penalty': 'l2'},\n",
       " {'solver': 'saga',\n",
       "  'C': 8.60001,\n",
       "  'fit_intercept': True,\n",
       "  'class_weight': None,\n",
       "  'n_jobs': -1,\n",
       "  'verbose': 0,\n",
       "  'penalty': 'none'},\n",
       " {'solver': 'liblinear',\n",
       "  'C': 6.30001,\n",
       "  'fit_intercept': True,\n",
       "  'class_weight': None,\n",
       "  'n_jobs': -1,\n",
       "  'verbose': 0,\n",
       "  'penalty': 'l1'},\n",
       " {'solver': 'liblinear',\n",
       "  'C': 1.00001,\n",
       "  'fit_intercept': True,\n",
       "  'class_weight': None,\n",
       "  'n_jobs': -1,\n",
       "  'verbose': 0,\n",
       "  'penalty': 'l1'},\n",
       " {'solver': 'liblinear',\n",
       "  'C': 1.00001,\n",
       "  'fit_intercept': True,\n",
       "  'class_weight': None,\n",
       "  'n_jobs': -1,\n",
       "  'verbose': 0,\n",
       "  'penalty': 'l1'},\n",
       " {'solver': 'liblinear',\n",
       "  'C': 1.4000100000000002,\n",
       "  'fit_intercept': True,\n",
       "  'class_weight': None,\n",
       "  'n_jobs': -1,\n",
       "  'verbose': 0,\n",
       "  'penalty': 'l1'},\n",
       " {'solver': 'sag',\n",
       "  'C': 1e-05,\n",
       "  'fit_intercept': True,\n",
       "  'class_weight': None,\n",
       "  'n_jobs': -1,\n",
       "  'verbose': 0,\n",
       "  'penalty': 'none'},\n",
       " {'solver': 'liblinear',\n",
       "  'C': 1.7000100000000002,\n",
       "  'fit_intercept': True,\n",
       "  'class_weight': None,\n",
       "  'n_jobs': -1,\n",
       "  'verbose': 0,\n",
       "  'penalty': 'l1'},\n",
       " {'solver': 'liblinear',\n",
       "  'C': 0.60001,\n",
       "  'fit_intercept': True,\n",
       "  'class_weight': None,\n",
       "  'n_jobs': -1,\n",
       "  'verbose': 0,\n",
       "  'penalty': 'l1'},\n",
       " {'solver': 'lbfgs',\n",
       "  'C': 3.2000100000000002,\n",
       "  'fit_intercept': True,\n",
       "  'class_weight': None,\n",
       "  'n_jobs': -1,\n",
       "  'verbose': 0,\n",
       "  'penalty': 'none'}]"
      ]
     },
     "execution_count": 97,
     "metadata": {},
     "output_type": "execute_result"
    }
   ],
   "source": [
    "optuna_parameters"
   ]
  },
  {
   "cell_type": "code",
   "execution_count": 98,
   "id": "2bcad5de",
   "metadata": {},
   "outputs": [
    {
     "data": {
      "text/plain": [
       "14"
      ]
     },
     "execution_count": 98,
     "metadata": {},
     "output_type": "execute_result"
    }
   ],
   "source": [
    "best_idx = np.argmax(df_params[\"amex\"])\n",
    "best_idx"
   ]
  },
  {
   "cell_type": "code",
   "execution_count": 99,
   "id": "0d80128e",
   "metadata": {},
   "outputs": [
    {
     "data": {
      "text/html": [
       "<div>\n",
       "<style scoped>\n",
       "    .dataframe tbody tr th:only-of-type {\n",
       "        vertical-align: middle;\n",
       "    }\n",
       "\n",
       "    .dataframe tbody tr th {\n",
       "        vertical-align: top;\n",
       "    }\n",
       "\n",
       "    .dataframe thead th {\n",
       "        text-align: right;\n",
       "    }\n",
       "</style>\n",
       "<table border=\"1\" class=\"dataframe\">\n",
       "  <thead>\n",
       "    <tr style=\"text-align: right;\">\n",
       "      <th></th>\n",
       "      <th>solver</th>\n",
       "      <th>C</th>\n",
       "      <th>fit_intercept</th>\n",
       "      <th>class_weight</th>\n",
       "      <th>n_jobs</th>\n",
       "      <th>verbose</th>\n",
       "      <th>penalty</th>\n",
       "      <th>l1_ratio</th>\n",
       "      <th>loss</th>\n",
       "      <th>accuracy</th>\n",
       "      <th>amex</th>\n",
       "      <th>time</th>\n",
       "    </tr>\n",
       "  </thead>\n",
       "  <tbody>\n",
       "    <tr>\n",
       "      <th>14</th>\n",
       "      <td>liblinear</td>\n",
       "      <td>6.40001</td>\n",
       "      <td>True</td>\n",
       "      <td>None</td>\n",
       "      <td>-1</td>\n",
       "      <td>0</td>\n",
       "      <td>l1</td>\n",
       "      <td>NaN</td>\n",
       "      <td>0.232574</td>\n",
       "      <td>0.904376</td>\n",
       "      <td>0.793333</td>\n",
       "      <td>16</td>\n",
       "    </tr>\n",
       "    <tr>\n",
       "      <th>36</th>\n",
       "      <td>liblinear</td>\n",
       "      <td>1.00001</td>\n",
       "      <td>True</td>\n",
       "      <td>None</td>\n",
       "      <td>-1</td>\n",
       "      <td>0</td>\n",
       "      <td>l1</td>\n",
       "      <td>NaN</td>\n",
       "      <td>0.232573</td>\n",
       "      <td>0.904367</td>\n",
       "      <td>0.793324</td>\n",
       "      <td>15</td>\n",
       "    </tr>\n",
       "    <tr>\n",
       "      <th>11</th>\n",
       "      <td>liblinear</td>\n",
       "      <td>6.40001</td>\n",
       "      <td>True</td>\n",
       "      <td>None</td>\n",
       "      <td>-1</td>\n",
       "      <td>0</td>\n",
       "      <td>l1</td>\n",
       "      <td>NaN</td>\n",
       "      <td>0.232574</td>\n",
       "      <td>0.904365</td>\n",
       "      <td>0.793324</td>\n",
       "      <td>14</td>\n",
       "    </tr>\n",
       "    <tr>\n",
       "      <th>12</th>\n",
       "      <td>liblinear</td>\n",
       "      <td>6.40001</td>\n",
       "      <td>True</td>\n",
       "      <td>None</td>\n",
       "      <td>-1</td>\n",
       "      <td>0</td>\n",
       "      <td>l1</td>\n",
       "      <td>NaN</td>\n",
       "      <td>0.232573</td>\n",
       "      <td>0.904365</td>\n",
       "      <td>0.793320</td>\n",
       "      <td>18</td>\n",
       "    </tr>\n",
       "    <tr>\n",
       "      <th>30</th>\n",
       "      <td>liblinear</td>\n",
       "      <td>1.30001</td>\n",
       "      <td>True</td>\n",
       "      <td>None</td>\n",
       "      <td>-1</td>\n",
       "      <td>0</td>\n",
       "      <td>l1</td>\n",
       "      <td>NaN</td>\n",
       "      <td>0.232572</td>\n",
       "      <td>0.904367</td>\n",
       "      <td>0.793316</td>\n",
       "      <td>16</td>\n",
       "    </tr>\n",
       "  </tbody>\n",
       "</table>\n",
       "</div>"
      ],
      "text/plain": [
       "       solver        C  fit_intercept class_weight  n_jobs  verbose penalty  \\\n",
       "14  liblinear  6.40001           True         None      -1        0      l1   \n",
       "36  liblinear  1.00001           True         None      -1        0      l1   \n",
       "11  liblinear  6.40001           True         None      -1        0      l1   \n",
       "12  liblinear  6.40001           True         None      -1        0      l1   \n",
       "30  liblinear  1.30001           True         None      -1        0      l1   \n",
       "\n",
       "    l1_ratio      loss  accuracy      amex  time  \n",
       "14       NaN  0.232574  0.904376  0.793333    16  \n",
       "36       NaN  0.232573  0.904367  0.793324    15  \n",
       "11       NaN  0.232574  0.904365  0.793324    14  \n",
       "12       NaN  0.232573  0.904365  0.793320    18  \n",
       "30       NaN  0.232572  0.904367  0.793316    16  "
      ]
     },
     "execution_count": 99,
     "metadata": {},
     "output_type": "execute_result"
    }
   ],
   "source": [
    "df_params.sort_values(by=\"amex\", ascending=False).head(5)"
   ]
  },
  {
   "cell_type": "code",
   "execution_count": 100,
   "id": "0f7fdf71",
   "metadata": {},
   "outputs": [
    {
     "data": {
      "text/plain": [
       "(43, 12)"
      ]
     },
     "execution_count": 100,
     "metadata": {},
     "output_type": "execute_result"
    }
   ],
   "source": [
    "df_params.shape"
   ]
  },
  {
   "cell_type": "markdown",
   "id": "7b2cc180",
   "metadata": {},
   "source": [
    "# Pick Best Optimizer Parameters and Clean it up\n",
    "\n",
    "Remove the metadata added above, and any other excess values that might confuse the classifier."
   ]
  },
  {
   "cell_type": "code",
   "execution_count": 101,
   "id": "4ba4200e",
   "metadata": {},
   "outputs": [],
   "source": [
    "optuna_params = df_params.iloc[best_idx]\n",
    "optuna_params = dict(optuna_params)\n"
   ]
  },
  {
   "cell_type": "code",
   "execution_count": 102,
   "id": "3e40a132",
   "metadata": {},
   "outputs": [
    {
     "data": {
      "text/plain": [
       "{'solver': 'liblinear',\n",
       " 'C': 6.40001,\n",
       " 'fit_intercept': True,\n",
       " 'class_weight': None,\n",
       " 'n_jobs': -1,\n",
       " 'verbose': 0,\n",
       " 'penalty': 'l1',\n",
       " 'l1_ratio': nan,\n",
       " 'loss': 0.2325737959076788,\n",
       " 'accuracy': 0.9043762019523817,\n",
       " 'amex': 0.7933326074912369,\n",
       " 'time': 16}"
      ]
     },
     "execution_count": 102,
     "metadata": {},
     "output_type": "execute_result"
    }
   ],
   "source": [
    "optuna_params"
   ]
  },
  {
   "cell_type": "code",
   "execution_count": 105,
   "id": "403edb37",
   "metadata": {},
   "outputs": [
    {
     "name": "stdout",
     "output_type": "stream",
     "text": [
      "delete: l1_ratio\n",
      "delete loss\n"
     ]
    }
   ],
   "source": [
    "keys = list(optuna_params.keys())\n",
    "for param in keys:\n",
    "    if isinstance(optuna_params[param], (np.number)) and np.isnan(optuna_params[param]):\n",
    "        print(f\"delete: {param}\")\n",
    "        del optuna_params[param]\n",
    "print(\"delete loss\")\n",
    "del optuna_params[\"loss\"]\n",
    "#del optuna_params[\"Unnamed: 0\"]\n",
    "del optuna_params[\"accuracy\"]\n",
    "del optuna_params[\"time\"]\n",
    "del optuna_params[\"amex\"]\n"
   ]
  },
  {
   "cell_type": "markdown",
   "id": "1a6e106e",
   "metadata": {},
   "source": [
    "# Train the Final Model with Best Parameters\n",
    "\n",
    "Could probably use more folds here etc if desired, to see if the model performence could still be slighly improved."
   ]
  },
  {
   "cell_type": "code",
   "execution_count": 106,
   "id": "138b0d79",
   "metadata": {},
   "outputs": [
    {
     "name": "stdout",
     "output_type": "stream",
     "text": [
      "=== STARTING FOLD 1/10 ===\n",
      "creating classifier\n",
      "fitting\n"
     ]
    },
    {
     "name": "stderr",
     "output_type": "stream",
     "text": [
      "/usr/local/lib/python3.8/dist-packages/sklearn/linear_model/_logistic.py:1153: UserWarning: 'n_jobs' > 1 does not have any effect when 'solver' is set to 'liblinear'. Got 'n_jobs' = 32.\n",
      "  warnings.warn(\n"
     ]
    },
    {
     "name": "stdout",
     "output_type": "stream",
     "text": [
      "predicting\n",
      "count zerO: 45892\n",
      "=== FINISHED FOLD 1/10, log loss=0.22997592302199105, accuracy=0.9056262529416892, amex=0.7995776002457089 ===\n",
      "time to run this fold: 1s\n",
      "=== STARTING FOLD 2/10 ===\n",
      "creating classifier\n",
      "fitting\n"
     ]
    },
    {
     "name": "stderr",
     "output_type": "stream",
     "text": [
      "/usr/local/lib/python3.8/dist-packages/sklearn/linear_model/_logistic.py:1153: UserWarning: 'n_jobs' > 1 does not have any effect when 'solver' is set to 'liblinear'. Got 'n_jobs' = 32.\n",
      "  warnings.warn(\n"
     ]
    },
    {
     "name": "stdout",
     "output_type": "stream",
     "text": [
      "predicting\n",
      "count zerO: 91784\n",
      "=== FINISHED FOLD 2/10, log loss=0.23866587890432342, accuracy=0.9007234376361893, amex=0.7842778810721497 ===\n",
      "time to run this fold: 1s\n",
      "=== STARTING FOLD 3/10 ===\n",
      "creating classifier\n",
      "fitting\n"
     ]
    },
    {
     "name": "stderr",
     "output_type": "stream",
     "text": [
      "/usr/local/lib/python3.8/dist-packages/sklearn/linear_model/_logistic.py:1153: UserWarning: 'n_jobs' > 1 does not have any effect when 'solver' is set to 'liblinear'. Got 'n_jobs' = 32.\n",
      "  warnings.warn(\n"
     ]
    },
    {
     "name": "stdout",
     "output_type": "stream",
     "text": [
      "predicting\n",
      "count zerO: 137676\n",
      "=== FINISHED FOLD 3/10, log loss=0.23251019573903112, accuracy=0.9036869171097359, amex=0.7906587957035354 ===\n",
      "time to run this fold: 1s\n",
      "=== STARTING FOLD 4/10 ===\n",
      "creating classifier\n",
      "fitting\n"
     ]
    },
    {
     "name": "stderr",
     "output_type": "stream",
     "text": [
      "/usr/local/lib/python3.8/dist-packages/sklearn/linear_model/_logistic.py:1153: UserWarning: 'n_jobs' > 1 does not have any effect when 'solver' is set to 'liblinear'. Got 'n_jobs' = 32.\n",
      "  warnings.warn(\n"
     ]
    },
    {
     "name": "stdout",
     "output_type": "stream",
     "text": [
      "predicting\n",
      "count zerO: 183567\n",
      "=== FINISHED FOLD 4/10, log loss=0.23438650538763928, accuracy=0.9047743566276611, amex=0.791351364850027 ===\n",
      "time to run this fold: 1s\n",
      "=== STARTING FOLD 5/10 ===\n",
      "creating classifier\n",
      "fitting\n"
     ]
    },
    {
     "name": "stderr",
     "output_type": "stream",
     "text": [
      "/usr/local/lib/python3.8/dist-packages/sklearn/linear_model/_logistic.py:1153: UserWarning: 'n_jobs' > 1 does not have any effect when 'solver' is set to 'liblinear'. Got 'n_jobs' = 32.\n",
      "  warnings.warn(\n"
     ]
    },
    {
     "name": "stdout",
     "output_type": "stream",
     "text": [
      "predicting\n",
      "count zerO: 229458\n",
      "=== FINISHED FOLD 5/10, log loss=0.23290005378867795, accuracy=0.9046871935673662, amex=0.7914100864166487 ===\n",
      "time to run this fold: 1s\n",
      "=== STARTING FOLD 6/10 ===\n",
      "creating classifier\n",
      "fitting\n"
     ]
    },
    {
     "name": "stderr",
     "output_type": "stream",
     "text": [
      "/usr/local/lib/python3.8/dist-packages/sklearn/linear_model/_logistic.py:1153: UserWarning: 'n_jobs' > 1 does not have any effect when 'solver' is set to 'liblinear'. Got 'n_jobs' = 32.\n",
      "  warnings.warn(\n"
     ]
    },
    {
     "name": "stdout",
     "output_type": "stream",
     "text": [
      "predicting\n",
      "count zerO: 275349\n",
      "=== FINISHED FOLD 6/10, log loss=0.2310158158128495, accuracy=0.9039898890850058, amex=0.7933254762428905 ===\n",
      "time to run this fold: 1s\n",
      "=== STARTING FOLD 7/10 ===\n",
      "creating classifier\n",
      "fitting\n"
     ]
    },
    {
     "name": "stderr",
     "output_type": "stream",
     "text": [
      "/usr/local/lib/python3.8/dist-packages/sklearn/linear_model/_logistic.py:1153: UserWarning: 'n_jobs' > 1 does not have any effect when 'solver' is set to 'liblinear'. Got 'n_jobs' = 32.\n",
      "  warnings.warn(\n"
     ]
    },
    {
     "name": "stdout",
     "output_type": "stream",
     "text": [
      "predicting\n",
      "count zerO: 321240\n",
      "=== FINISHED FOLD 7/10, log loss=0.23426195161157806, accuracy=0.9035976553136781, amex=0.7930906129255395 ===\n",
      "time to run this fold: 1s\n",
      "=== STARTING FOLD 8/10 ===\n",
      "creating classifier\n",
      "fitting\n"
     ]
    },
    {
     "name": "stderr",
     "output_type": "stream",
     "text": [
      "/usr/local/lib/python3.8/dist-packages/sklearn/linear_model/_logistic.py:1153: UserWarning: 'n_jobs' > 1 does not have any effect when 'solver' is set to 'liblinear'. Got 'n_jobs' = 32.\n",
      "  warnings.warn(\n"
     ]
    },
    {
     "name": "stdout",
     "output_type": "stream",
     "text": [
      "predicting\n",
      "count zerO: 367131\n",
      "=== FINISHED FOLD 8/10, log loss=0.228656407516664, accuracy=0.9054716611100215, amex=0.8012668070223616 ===\n",
      "time to run this fold: 1s\n",
      "=== STARTING FOLD 9/10 ===\n",
      "creating classifier\n",
      "fitting\n"
     ]
    },
    {
     "name": "stderr",
     "output_type": "stream",
     "text": [
      "/usr/local/lib/python3.8/dist-packages/sklearn/linear_model/_logistic.py:1153: UserWarning: 'n_jobs' > 1 does not have any effect when 'solver' is set to 'liblinear'. Got 'n_jobs' = 32.\n",
      "  warnings.warn(\n"
     ]
    },
    {
     "name": "stdout",
     "output_type": "stream",
     "text": [
      "predicting\n",
      "count zerO: 413022\n",
      "=== FINISHED FOLD 9/10, log loss=0.2314607230777883, accuracy=0.9060818025320869, amex=0.7979308431254946 ===\n",
      "time to run this fold: 1s\n",
      "=== STARTING FOLD 10/10 ===\n",
      "creating classifier\n",
      "fitting\n"
     ]
    },
    {
     "name": "stderr",
     "output_type": "stream",
     "text": [
      "/usr/local/lib/python3.8/dist-packages/sklearn/linear_model/_logistic.py:1153: UserWarning: 'n_jobs' > 1 does not have any effect when 'solver' is set to 'liblinear'. Got 'n_jobs' = 32.\n",
      "  warnings.warn(\n"
     ]
    },
    {
     "name": "stdout",
     "output_type": "stream",
     "text": [
      "predicting\n",
      "count zerO: 458913\n",
      "=== FINISHED FOLD 10/10, log loss=0.2318632904685847, accuracy=0.9052101719291364, amex=0.7920845306271835 ===\n",
      "time to run this fold: 1s\n"
     ]
    }
   ],
   "source": [
    "#optuna_params = df_params.iloc[best_idx]\n",
    "#final_models, final_preds = train_and_predict(optuna_params, df_full_train[:50000])\n",
    "final_models, final_preds = train_and_predict(optuna_params, df_train)\n"
   ]
  },
  {
   "cell_type": "code",
   "execution_count": 119,
   "id": "53bc9691",
   "metadata": {},
   "outputs": [],
   "source": [
    "#test.replace([np.inf, -np.inf], np.nan,inplace=True)\n",
    "X = df_test.reset_index(drop=True).drop([\"customer_ID\"], axis=1)\n"
   ]
  },
  {
   "cell_type": "code",
   "execution_count": 120,
   "id": "15b7428e",
   "metadata": {},
   "outputs": [
    {
     "data": {
      "text/html": [
       "<div>\n",
       "<style scoped>\n",
       "    .dataframe tbody tr th:only-of-type {\n",
       "        vertical-align: middle;\n",
       "    }\n",
       "\n",
       "    .dataframe tbody tr th {\n",
       "        vertical-align: top;\n",
       "    }\n",
       "\n",
       "    .dataframe thead th {\n",
       "        text-align: right;\n",
       "    }\n",
       "</style>\n",
       "<table border=\"1\" class=\"dataframe\">\n",
       "  <thead>\n",
       "    <tr style=\"text-align: right;\">\n",
       "      <th></th>\n",
       "      <th>prediction</th>\n",
       "      <th>prediction_cat</th>\n",
       "      <th>prediction_cnn</th>\n",
       "      <th>prediction_wave</th>\n",
       "    </tr>\n",
       "  </thead>\n",
       "  <tbody>\n",
       "    <tr>\n",
       "      <th>0</th>\n",
       "      <td>0.036600</td>\n",
       "      <td>0.021390</td>\n",
       "      <td>0.012639</td>\n",
       "      <td>0.011262</td>\n",
       "    </tr>\n",
       "    <tr>\n",
       "      <th>1</th>\n",
       "      <td>0.001210</td>\n",
       "      <td>0.003025</td>\n",
       "      <td>0.000541</td>\n",
       "      <td>0.000376</td>\n",
       "    </tr>\n",
       "    <tr>\n",
       "      <th>2</th>\n",
       "      <td>0.028329</td>\n",
       "      <td>0.040909</td>\n",
       "      <td>0.023913</td>\n",
       "      <td>0.017206</td>\n",
       "    </tr>\n",
       "    <tr>\n",
       "      <th>3</th>\n",
       "      <td>0.286871</td>\n",
       "      <td>0.223804</td>\n",
       "      <td>0.236606</td>\n",
       "      <td>0.196489</td>\n",
       "    </tr>\n",
       "    <tr>\n",
       "      <th>4</th>\n",
       "      <td>0.858424</td>\n",
       "      <td>0.846619</td>\n",
       "      <td>0.804460</td>\n",
       "      <td>0.805402</td>\n",
       "    </tr>\n",
       "    <tr>\n",
       "      <th>...</th>\n",
       "      <td>...</td>\n",
       "      <td>...</td>\n",
       "      <td>...</td>\n",
       "      <td>...</td>\n",
       "    </tr>\n",
       "    <tr>\n",
       "      <th>924616</th>\n",
       "      <td>0.021910</td>\n",
       "      <td>0.013295</td>\n",
       "      <td>0.008139</td>\n",
       "      <td>0.007367</td>\n",
       "    </tr>\n",
       "    <tr>\n",
       "      <th>924617</th>\n",
       "      <td>0.834791</td>\n",
       "      <td>0.856650</td>\n",
       "      <td>0.833293</td>\n",
       "      <td>0.835387</td>\n",
       "    </tr>\n",
       "    <tr>\n",
       "      <th>924618</th>\n",
       "      <td>0.575642</td>\n",
       "      <td>0.572674</td>\n",
       "      <td>0.577704</td>\n",
       "      <td>0.576724</td>\n",
       "    </tr>\n",
       "    <tr>\n",
       "      <th>924619</th>\n",
       "      <td>0.340214</td>\n",
       "      <td>0.338167</td>\n",
       "      <td>0.367028</td>\n",
       "      <td>0.335191</td>\n",
       "    </tr>\n",
       "    <tr>\n",
       "      <th>924620</th>\n",
       "      <td>0.076470</td>\n",
       "      <td>0.058486</td>\n",
       "      <td>0.048524</td>\n",
       "      <td>0.038706</td>\n",
       "    </tr>\n",
       "  </tbody>\n",
       "</table>\n",
       "<p>924621 rows × 4 columns</p>\n",
       "</div>"
      ],
      "text/plain": [
       "        prediction  prediction_cat  prediction_cnn  prediction_wave\n",
       "0         0.036600        0.021390        0.012639         0.011262\n",
       "1         0.001210        0.003025        0.000541         0.000376\n",
       "2         0.028329        0.040909        0.023913         0.017206\n",
       "3         0.286871        0.223804        0.236606         0.196489\n",
       "4         0.858424        0.846619        0.804460         0.805402\n",
       "...            ...             ...             ...              ...\n",
       "924616    0.021910        0.013295        0.008139         0.007367\n",
       "924617    0.834791        0.856650        0.833293         0.835387\n",
       "924618    0.575642        0.572674        0.577704         0.576724\n",
       "924619    0.340214        0.338167        0.367028         0.335191\n",
       "924620    0.076470        0.058486        0.048524         0.038706\n",
       "\n",
       "[924621 rows x 4 columns]"
      ]
     },
     "execution_count": 120,
     "metadata": {},
     "output_type": "execute_result"
    }
   ],
   "source": [
    "X"
   ]
  },
  {
   "cell_type": "markdown",
   "id": "cc1a60ea",
   "metadata": {},
   "source": [
    "# Run Final Predictions\n",
    "\n",
    "Using all models trained from the N data folds, averaging their predictions."
   ]
  },
  {
   "cell_type": "code",
   "execution_count": 121,
   "id": "6cd4be68",
   "metadata": {},
   "outputs": [
    {
     "name": "stderr",
     "output_type": "stream",
     "text": [
      "100%|█████████████████████████████████████████████████████████████████████████████████████████████████| 10/10 [00:00<00:00, 72.18it/s]\n"
     ]
    }
   ],
   "source": [
    "from tqdm import tqdm\n",
    "\n",
    "n_classes = 1\n",
    "sub_preds = np.zeros((X.shape[0], n_classes))\n",
    "\n",
    "#tqdm.auto()\n",
    "tqdm.pandas()\n",
    "\n",
    "for model in tqdm(final_models): #lqtm\n",
    "    preds = model.predict_proba(X)\n",
    "    preds_true = preds[:, 1]\n",
    "    preds_true.shape = (X.shape[0], 1)\n",
    "    sub_preds += preds_true\n",
    "sub_preds /= N_FOLDS\n"
   ]
  },
  {
   "cell_type": "code",
   "execution_count": 122,
   "id": "85090313",
   "metadata": {},
   "outputs": [
    {
     "data": {
      "text/html": [
       "<div>\n",
       "<style scoped>\n",
       "    .dataframe tbody tr th:only-of-type {\n",
       "        vertical-align: middle;\n",
       "    }\n",
       "\n",
       "    .dataframe tbody tr th {\n",
       "        vertical-align: top;\n",
       "    }\n",
       "\n",
       "    .dataframe thead th {\n",
       "        text-align: right;\n",
       "    }\n",
       "</style>\n",
       "<table border=\"1\" class=\"dataframe\">\n",
       "  <thead>\n",
       "    <tr style=\"text-align: right;\">\n",
       "      <th></th>\n",
       "      <th>customer_ID</th>\n",
       "      <th>prediction</th>\n",
       "    </tr>\n",
       "  </thead>\n",
       "  <tbody>\n",
       "    <tr>\n",
       "      <th>0</th>\n",
       "      <td>00000469ba478561f23a92a868bd366de6f6527a684c9a...</td>\n",
       "      <td>0.028070</td>\n",
       "    </tr>\n",
       "    <tr>\n",
       "      <th>1</th>\n",
       "      <td>00001bf2e77ff879fab36aa4fac689b9ba411dae63ae39...</td>\n",
       "      <td>0.024209</td>\n",
       "    </tr>\n",
       "    <tr>\n",
       "      <th>2</th>\n",
       "      <td>0000210045da4f81e5f122c6bde5c2a617d03eef67f82c...</td>\n",
       "      <td>0.029470</td>\n",
       "    </tr>\n",
       "    <tr>\n",
       "      <th>3</th>\n",
       "      <td>00003b41e58ede33b8daf61ab56d9952f17c9ad1c3976c...</td>\n",
       "      <td>0.118674</td>\n",
       "    </tr>\n",
       "    <tr>\n",
       "      <th>4</th>\n",
       "      <td>00004b22eaeeeb0ec976890c1d9bfc14fd9427e98c4ee9...</td>\n",
       "      <td>0.899949</td>\n",
       "    </tr>\n",
       "    <tr>\n",
       "      <th>...</th>\n",
       "      <td>...</td>\n",
       "      <td>...</td>\n",
       "    </tr>\n",
       "    <tr>\n",
       "      <th>924616</th>\n",
       "      <td>ffff952c631f2c911b8a2a8ca56ea6e656309a83d2f64c...</td>\n",
       "      <td>0.026403</td>\n",
       "    </tr>\n",
       "    <tr>\n",
       "      <th>924617</th>\n",
       "      <td>ffffcf5df59e5e0bba2a5ac4578a34e2b5aa64a1546cd3...</td>\n",
       "      <td>0.903488</td>\n",
       "    </tr>\n",
       "    <tr>\n",
       "      <th>924618</th>\n",
       "      <td>ffffd61f098cc056dbd7d2a21380c4804bbfe60856f475...</td>\n",
       "      <td>0.586670</td>\n",
       "    </tr>\n",
       "    <tr>\n",
       "      <th>924619</th>\n",
       "      <td>ffffddef1fc3643ea179c93245b68dca0f36941cd83977...</td>\n",
       "      <td>0.216163</td>\n",
       "    </tr>\n",
       "    <tr>\n",
       "      <th>924620</th>\n",
       "      <td>fffffa7cf7e453e1acc6a1426475d5cb9400859f82ff61...</td>\n",
       "      <td>0.035938</td>\n",
       "    </tr>\n",
       "  </tbody>\n",
       "</table>\n",
       "<p>924621 rows × 2 columns</p>\n",
       "</div>"
      ],
      "text/plain": [
       "                                              customer_ID  prediction\n",
       "0       00000469ba478561f23a92a868bd366de6f6527a684c9a...    0.028070\n",
       "1       00001bf2e77ff879fab36aa4fac689b9ba411dae63ae39...    0.024209\n",
       "2       0000210045da4f81e5f122c6bde5c2a617d03eef67f82c...    0.029470\n",
       "3       00003b41e58ede33b8daf61ab56d9952f17c9ad1c3976c...    0.118674\n",
       "4       00004b22eaeeeb0ec976890c1d9bfc14fd9427e98c4ee9...    0.899949\n",
       "...                                                   ...         ...\n",
       "924616  ffff952c631f2c911b8a2a8ca56ea6e656309a83d2f64c...    0.026403\n",
       "924617  ffffcf5df59e5e0bba2a5ac4578a34e2b5aa64a1546cd3...    0.903488\n",
       "924618  ffffd61f098cc056dbd7d2a21380c4804bbfe60856f475...    0.586670\n",
       "924619  ffffddef1fc3643ea179c93245b68dca0f36941cd83977...    0.216163\n",
       "924620  fffffa7cf7e453e1acc6a1426475d5cb9400859f82ff61...    0.035938\n",
       "\n",
       "[924621 rows x 2 columns]"
      ]
     },
     "execution_count": 122,
     "metadata": {},
     "output_type": "execute_result"
    }
   ],
   "source": [
    "submission = pd.DataFrame()\n",
    "submission[\"customer_ID\"] = df_test.reset_index()[\"customer_ID\"]\n",
    "submission[\"prediction\"] = sub_preds\n",
    "submission"
   ]
  },
  {
   "cell_type": "code",
   "execution_count": 123,
   "id": "f08b03c6",
   "metadata": {},
   "outputs": [],
   "source": [
    "submission.to_csv(\"submission_logreg.csv\", index=False)"
   ]
  },
  {
   "cell_type": "code",
   "execution_count": null,
   "id": "820cc787",
   "metadata": {},
   "outputs": [],
   "source": [
    "for idx, model in enumerate(final_models):    \n",
    "    with open(f'final_model{idx}.pickle','wb') as f:\n",
    "        pickle.dump(model,f)"
   ]
  },
  {
   "cell_type": "code",
   "execution_count": 42,
   "id": "e16ea04b",
   "metadata": {},
   "outputs": [
    {
     "data": {
      "text/plain": [
       "True"
      ]
     },
     "execution_count": 42,
     "metadata": {},
     "output_type": "execute_result"
    }
   ],
   "source": [
    "isinstance(np.int32(10), (np.number))"
   ]
  },
  {
   "cell_type": "code",
   "execution_count": null,
   "id": "0b04d5e7",
   "metadata": {},
   "outputs": [],
   "source": []
  },
  {
   "cell_type": "code",
   "execution_count": null,
   "id": "9398c223",
   "metadata": {},
   "outputs": [],
   "source": []
  },
  {
   "cell_type": "code",
   "execution_count": null,
   "id": "c1fbadce",
   "metadata": {},
   "outputs": [],
   "source": []
  },
  {
   "cell_type": "code",
   "execution_count": null,
   "id": "9587bbe3",
   "metadata": {},
   "outputs": [],
   "source": []
  },
  {
   "cell_type": "code",
   "execution_count": null,
   "id": "698cec67",
   "metadata": {},
   "outputs": [],
   "source": []
  }
 ],
 "metadata": {
  "kernelspec": {
   "display_name": "Python 3 (ipykernel)",
   "language": "python",
   "name": "python3"
  },
  "language_info": {
   "codemirror_mode": {
    "name": "ipython",
    "version": 3
   },
   "file_extension": ".py",
   "mimetype": "text/x-python",
   "name": "python",
   "nbconvert_exporter": "python",
   "pygments_lexer": "ipython3",
   "version": "3.8.10"
  }
 },
 "nbformat": 4,
 "nbformat_minor": 5
}

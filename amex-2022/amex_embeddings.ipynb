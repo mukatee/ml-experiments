{
 "cells": [
  {
   "cell_type": "markdown",
   "id": "23ea00cb",
   "metadata": {},
   "source": [
    "# Category Embeddings based Keras Models for Tabular Data\n",
    "\n",
    "## For Kaggle AMEX default prediction competition data\n",
    "\n",
    "https://www.kaggle.com/competitions/amex-default-prediction/data\n",
    "\n",
    "This competition had some random looking data where no information on columns was given. This notebook was for trying embeddings layers in Keras. \n",
    "\n",
    "This assumes TF/Keras and various other Python libraries are installed. And GPU configured. I used a Docker image and Pipfile with all these installed."
   ]
  },
  {
   "cell_type": "code",
   "execution_count": 1,
   "id": "0c1c8efd",
   "metadata": {},
   "outputs": [],
   "source": [
    "import pandas as pd\n",
    "import numpy as np\n",
    "import multiprocessing\n",
    "from multiprocessing import Process\n",
    "import glob\n",
    "import os\n",
    "\n",
    "from sklearn.metrics import log_loss\n",
    "from sklearn.metrics import accuracy_score\n",
    "from sklearn.model_selection import StratifiedKFold\n",
    "from sklearn.model_selection import train_test_split\n",
    "from tqdm import tqdm\n",
    "\n",
    "tqdm.pandas()\n",
    "\n",
    "import time\n",
    "\n",
    "N_FOLDS = 5\n"
   ]
  },
  {
   "cell_type": "code",
   "execution_count": 2,
   "id": "47e66ca1",
   "metadata": {},
   "outputs": [],
   "source": [
    "# https://www.kaggle.com/kyakovlev\n",
    "# https://www.kaggle.com/competitions/amex-default-prediction/discussion/327534\n",
    "def amex_metric_mod(y_true, y_pred):\n",
    "\n",
    "    labels     = np.transpose(np.array([y_true, y_pred]))\n",
    "    labels     = labels[labels[:, 1].argsort()[::-1]]\n",
    "    weights    = np.where(labels[:,0]==0, 20, 1)\n",
    "    cut_vals   = labels[np.cumsum(weights) <= int(0.04 * np.sum(weights))]\n",
    "    top_four   = np.sum(cut_vals[:,0]) / np.sum(labels[:,0])\n",
    "\n",
    "    gini = [0,0]\n",
    "    for i in [1,0]:\n",
    "        labels         = np.transpose(np.array([y_true, y_pred]))\n",
    "        labels         = labels[labels[:, i].argsort()[::-1]]\n",
    "        weight         = np.where(labels[:,0]==0, 20, 1)\n",
    "        weight_random  = np.cumsum(weight / np.sum(weight))\n",
    "        total_pos      = np.sum(labels[:, 0] *  weight)\n",
    "        cum_pos_found  = np.cumsum(labels[:, 0] * weight)\n",
    "        lorentz        = cum_pos_found / total_pos\n",
    "        gini[i]        = np.sum((lorentz - weight_random) * weight)\n",
    "\n",
    "    return 0.5 * (gini[1]/gini[0] + top_four)\n",
    "\n"
   ]
  },
  {
   "cell_type": "code",
   "execution_count": 3,
   "id": "81f2ef20",
   "metadata": {},
   "outputs": [],
   "source": [
    "def amex_metric(y_true, y_pred, return_components=False) -> float:\n",
    "    \"\"\"Amex metric for ndarrays\"\"\"\n",
    "    def top_four_percent_captured(df) -> float:\n",
    "        \"\"\"Corresponds to the recall for a threshold of 4 %\"\"\"\n",
    "        df['weight'] = df['target'].apply(lambda x: 20 if x==0 else 1)\n",
    "        four_pct_cutoff = int(0.04 * df['weight'].sum())\n",
    "        df['weight_cumsum'] = df['weight'].cumsum()\n",
    "        df_cutoff = df.loc[df['weight_cumsum'] <= four_pct_cutoff]\n",
    "        return (df_cutoff['target'] == 1).sum() / (df['target'] == 1).sum()\n",
    "        \n",
    "    def weighted_gini(df) -> float:\n",
    "        df['weight'] = df['target'].apply(lambda x: 20 if x==0 else 1)\n",
    "        df['random'] = (df['weight'] / df['weight'].sum()).cumsum()\n",
    "        total_pos = (df['target'] * df['weight']).sum()\n",
    "        df['cum_pos_found'] = (df['target'] * df['weight']).cumsum()\n",
    "        df['lorentz'] = df['cum_pos_found'] / total_pos\n",
    "        df['gini'] = (df['lorentz'] - df['random']) * df['weight']\n",
    "        return df['gini'].sum()\n",
    "\n",
    "    def normalized_weighted_gini(df) -> float:\n",
    "        \"\"\"Corresponds to 2 * AUC - 1\"\"\"\n",
    "        df2 = pd.DataFrame({'target': df.target, 'prediction': df.target})\n",
    "        df2.sort_values('prediction', ascending=False, inplace=True)\n",
    "        return weighted_gini(df) / weighted_gini(df2)\n",
    "\n",
    "    df = pd.DataFrame({'target': y_true.ravel(), 'prediction': y_pred.ravel()})\n",
    "    df.sort_values('prediction', ascending=False, inplace=True)\n",
    "    g = normalized_weighted_gini(df)\n",
    "    d = top_four_percent_captured(df)\n",
    "\n",
    "    if return_components: return g, d, 0.5 * (g + d)\n",
    "    return 0.5 * (g + d)"
   ]
  },
  {
   "cell_type": "code",
   "execution_count": 4,
   "id": "dd043224",
   "metadata": {},
   "outputs": [],
   "source": [
    "def format_time(seconds):\n",
    "    seconds = int(seconds)\n",
    "    minutes = seconds // 60\n",
    "    hours = minutes // 60\n",
    "    minutes = minutes % 60\n",
    "    seconds = seconds % 60\n",
    "    if hours > 0:\n",
    "        return f\"{hours}h, {minutes}m, {seconds}s\"\n",
    "    if minutes > 0:\n",
    "        return f\"{minutes}m, {seconds}s\"\n",
    "    return f\"{seconds}s\"\n",
    "        "
   ]
  },
  {
   "cell_type": "markdown",
   "id": "d79fd29d",
   "metadata": {},
   "source": [
    "# Load Data\n",
    "\n",
    "The data has been prepared before by the preprocessing notebook. This involves scaling data to 0-1 for non-embedding cols etc."
   ]
  },
  {
   "cell_type": "code",
   "execution_count": 5,
   "id": "ad638174",
   "metadata": {},
   "outputs": [
    {
     "data": {
      "text/html": [
       "<div>\n",
       "<style scoped>\n",
       "    .dataframe tbody tr th:only-of-type {\n",
       "        vertical-align: middle;\n",
       "    }\n",
       "\n",
       "    .dataframe tbody tr th {\n",
       "        vertical-align: top;\n",
       "    }\n",
       "\n",
       "    .dataframe thead th {\n",
       "        text-align: right;\n",
       "    }\n",
       "</style>\n",
       "<table border=\"1\" class=\"dataframe\">\n",
       "  <thead>\n",
       "    <tr style=\"text-align: right;\">\n",
       "      <th></th>\n",
       "      <th>S_2_1</th>\n",
       "      <th>S_2_2</th>\n",
       "      <th>S_2_3</th>\n",
       "      <th>S_2_4</th>\n",
       "      <th>S_2_5</th>\n",
       "      <th>S_2_6</th>\n",
       "      <th>S_2_7</th>\n",
       "      <th>S_2_8</th>\n",
       "      <th>S_2_9</th>\n",
       "      <th>S_2_10</th>\n",
       "      <th>...</th>\n",
       "      <th>S_23-P_3_6</th>\n",
       "      <th>S_23-P_3_7</th>\n",
       "      <th>S_23-P_3_8</th>\n",
       "      <th>S_23-P_3_9</th>\n",
       "      <th>S_23-P_3_10</th>\n",
       "      <th>S_23-P_3_11</th>\n",
       "      <th>S_23-P_3_12</th>\n",
       "      <th>S_23-P_3_13</th>\n",
       "      <th>customer_ID</th>\n",
       "      <th>target</th>\n",
       "    </tr>\n",
       "  </thead>\n",
       "  <tbody>\n",
       "    <tr>\n",
       "      <th>0</th>\n",
       "      <td>0.008214</td>\n",
       "      <td>0.037988</td>\n",
       "      <td>0.090349</td>\n",
       "      <td>0.106776</td>\n",
       "      <td>0.140657</td>\n",
       "      <td>0.160164</td>\n",
       "      <td>0.206365</td>\n",
       "      <td>0.226899</td>\n",
       "      <td>0.271047</td>\n",
       "      <td>0.285421</td>\n",
       "      <td>...</td>\n",
       "      <td>0.234825</td>\n",
       "      <td>0.235098</td>\n",
       "      <td>0.279948</td>\n",
       "      <td>0.223628</td>\n",
       "      <td>0.225614</td>\n",
       "      <td>0.295942</td>\n",
       "      <td>0.255588</td>\n",
       "      <td>0.264086</td>\n",
       "      <td>0000099d6bd597052cdcda90ffabf56573fe9d7c79be5f...</td>\n",
       "      <td>0</td>\n",
       "    </tr>\n",
       "    <tr>\n",
       "      <th>1</th>\n",
       "      <td>0.000000</td>\n",
       "      <td>0.047228</td>\n",
       "      <td>0.068788</td>\n",
       "      <td>0.119097</td>\n",
       "      <td>0.155031</td>\n",
       "      <td>0.175565</td>\n",
       "      <td>0.203285</td>\n",
       "      <td>0.239220</td>\n",
       "      <td>0.275154</td>\n",
       "      <td>0.311088</td>\n",
       "      <td>...</td>\n",
       "      <td>0.309776</td>\n",
       "      <td>0.302655</td>\n",
       "      <td>0.287516</td>\n",
       "      <td>0.340720</td>\n",
       "      <td>0.329134</td>\n",
       "      <td>0.337388</td>\n",
       "      <td>0.339961</td>\n",
       "      <td>0.301747</td>\n",
       "      <td>00000fd6641609c6ece5454664794f0340ad84dddce9a2...</td>\n",
       "      <td>0</td>\n",
       "    </tr>\n",
       "    <tr>\n",
       "      <th>2</th>\n",
       "      <td>0.010267</td>\n",
       "      <td>0.042094</td>\n",
       "      <td>0.073922</td>\n",
       "      <td>0.103696</td>\n",
       "      <td>0.136550</td>\n",
       "      <td>0.168378</td>\n",
       "      <td>0.199179</td>\n",
       "      <td>0.231006</td>\n",
       "      <td>0.261807</td>\n",
       "      <td>0.293635</td>\n",
       "      <td>...</td>\n",
       "      <td>0.249119</td>\n",
       "      <td>0.245535</td>\n",
       "      <td>0.253332</td>\n",
       "      <td>0.426317</td>\n",
       "      <td>0.266009</td>\n",
       "      <td>0.234389</td>\n",
       "      <td>0.292437</td>\n",
       "      <td>0.264936</td>\n",
       "      <td>00001b22f846c82c51f6e3958ccd81970162bae8b007e8...</td>\n",
       "      <td>0</td>\n",
       "    </tr>\n",
       "    <tr>\n",
       "      <th>3</th>\n",
       "      <td>0.030801</td>\n",
       "      <td>0.052361</td>\n",
       "      <td>0.091376</td>\n",
       "      <td>0.118070</td>\n",
       "      <td>0.140657</td>\n",
       "      <td>0.162218</td>\n",
       "      <td>0.206365</td>\n",
       "      <td>0.242300</td>\n",
       "      <td>0.276181</td>\n",
       "      <td>0.311088</td>\n",
       "      <td>...</td>\n",
       "      <td>0.296159</td>\n",
       "      <td>0.254749</td>\n",
       "      <td>0.271090</td>\n",
       "      <td>0.446758</td>\n",
       "      <td>0.218490</td>\n",
       "      <td>0.233907</td>\n",
       "      <td>0.234684</td>\n",
       "      <td>0.237745</td>\n",
       "      <td>000041bdba6ecadd89a52d11886e8eaaec9325906c9723...</td>\n",
       "      <td>0</td>\n",
       "    </tr>\n",
       "    <tr>\n",
       "      <th>4</th>\n",
       "      <td>0.029774</td>\n",
       "      <td>0.053388</td>\n",
       "      <td>0.092402</td>\n",
       "      <td>0.116016</td>\n",
       "      <td>0.146817</td>\n",
       "      <td>0.163244</td>\n",
       "      <td>0.210472</td>\n",
       "      <td>0.248460</td>\n",
       "      <td>0.280287</td>\n",
       "      <td>0.312115</td>\n",
       "      <td>...</td>\n",
       "      <td>0.506138</td>\n",
       "      <td>0.362316</td>\n",
       "      <td>0.355110</td>\n",
       "      <td>0.326496</td>\n",
       "      <td>0.312432</td>\n",
       "      <td>0.320591</td>\n",
       "      <td>0.301749</td>\n",
       "      <td>0.301565</td>\n",
       "      <td>00007889e4fcd2614b6cbe7f8f3d2e5c728eca32d9eb8a...</td>\n",
       "      <td>0</td>\n",
       "    </tr>\n",
       "  </tbody>\n",
       "</table>\n",
       "<p>5 rows × 2641 columns</p>\n",
       "</div>"
      ],
      "text/plain": [
       "      S_2_1     S_2_2     S_2_3     S_2_4     S_2_5     S_2_6     S_2_7  \\\n",
       "0  0.008214  0.037988  0.090349  0.106776  0.140657  0.160164  0.206365   \n",
       "1  0.000000  0.047228  0.068788  0.119097  0.155031  0.175565  0.203285   \n",
       "2  0.010267  0.042094  0.073922  0.103696  0.136550  0.168378  0.199179   \n",
       "3  0.030801  0.052361  0.091376  0.118070  0.140657  0.162218  0.206365   \n",
       "4  0.029774  0.053388  0.092402  0.116016  0.146817  0.163244  0.210472   \n",
       "\n",
       "      S_2_8     S_2_9    S_2_10  ...  S_23-P_3_6  S_23-P_3_7  S_23-P_3_8  \\\n",
       "0  0.226899  0.271047  0.285421  ...    0.234825    0.235098    0.279948   \n",
       "1  0.239220  0.275154  0.311088  ...    0.309776    0.302655    0.287516   \n",
       "2  0.231006  0.261807  0.293635  ...    0.249119    0.245535    0.253332   \n",
       "3  0.242300  0.276181  0.311088  ...    0.296159    0.254749    0.271090   \n",
       "4  0.248460  0.280287  0.312115  ...    0.506138    0.362316    0.355110   \n",
       "\n",
       "   S_23-P_3_9  S_23-P_3_10  S_23-P_3_11  S_23-P_3_12  S_23-P_3_13  \\\n",
       "0    0.223628     0.225614     0.295942     0.255588     0.264086   \n",
       "1    0.340720     0.329134     0.337388     0.339961     0.301747   \n",
       "2    0.426317     0.266009     0.234389     0.292437     0.264936   \n",
       "3    0.446758     0.218490     0.233907     0.234684     0.237745   \n",
       "4    0.326496     0.312432     0.320591     0.301749     0.301565   \n",
       "\n",
       "                                         customer_ID  target  \n",
       "0  0000099d6bd597052cdcda90ffabf56573fe9d7c79be5f...       0  \n",
       "1  00000fd6641609c6ece5454664794f0340ad84dddce9a2...       0  \n",
       "2  00001b22f846c82c51f6e3958ccd81970162bae8b007e8...       0  \n",
       "3  000041bdba6ecadd89a52d11886e8eaaec9325906c9723...       0  \n",
       "4  00007889e4fcd2614b6cbe7f8f3d2e5c728eca32d9eb8a...       0  \n",
       "\n",
       "[5 rows x 2641 columns]"
      ]
     },
     "execution_count": 5,
     "metadata": {},
     "output_type": "execute_result"
    }
   ],
   "source": [
    "df_train = pd.read_parquet(\"large_train_embeddings.parquet\", engine=\"pyarrow\")\n",
    "#df_train = pd.read_parquet(\"deloitte-data/keras_train.parquet\", engine=\"pyarrow\")\n",
    "#df_train[\"target\"] = df_train[\"target\"] > 0.6\n",
    "strat = df_train[\"fake_splitter\"]\n",
    "df_train = df_train.drop(\"fake_splitter\", axis=1)\n",
    "df_train.head()\n"
   ]
  },
  {
   "cell_type": "code",
   "execution_count": 6,
   "id": "110dc564",
   "metadata": {},
   "outputs": [
    {
     "data": {
      "text/plain": [
       "(458913, 2641)"
      ]
     },
     "execution_count": 6,
     "metadata": {},
     "output_type": "execute_result"
    }
   ],
   "source": [
    "df_train.shape"
   ]
  },
  {
   "cell_type": "code",
   "execution_count": 7,
   "id": "046a79cb",
   "metadata": {},
   "outputs": [
    {
     "data": {
      "text/plain": [
       "118828"
      ]
     },
     "execution_count": 7,
     "metadata": {},
     "output_type": "execute_result"
    }
   ],
   "source": [
    "sum(df_train[\"target\"])"
   ]
  },
  {
   "cell_type": "code",
   "execution_count": 8,
   "id": "d1f86fb0",
   "metadata": {},
   "outputs": [],
   "source": [
    "target = df_train[\"target\"]"
   ]
  },
  {
   "cell_type": "code",
   "execution_count": 9,
   "id": "8610915d",
   "metadata": {},
   "outputs": [
    {
     "data": {
      "text/html": [
       "<div>\n",
       "<style scoped>\n",
       "    .dataframe tbody tr th:only-of-type {\n",
       "        vertical-align: middle;\n",
       "    }\n",
       "\n",
       "    .dataframe tbody tr th {\n",
       "        vertical-align: top;\n",
       "    }\n",
       "\n",
       "    .dataframe thead th {\n",
       "        text-align: right;\n",
       "    }\n",
       "</style>\n",
       "<table border=\"1\" class=\"dataframe\">\n",
       "  <thead>\n",
       "    <tr style=\"text-align: right;\">\n",
       "      <th></th>\n",
       "      <th>S_2_1</th>\n",
       "      <th>S_2_2</th>\n",
       "      <th>S_2_3</th>\n",
       "      <th>S_2_4</th>\n",
       "      <th>S_2_5</th>\n",
       "      <th>S_2_6</th>\n",
       "      <th>S_2_7</th>\n",
       "      <th>S_2_8</th>\n",
       "      <th>S_2_9</th>\n",
       "      <th>S_2_10</th>\n",
       "      <th>...</th>\n",
       "      <th>S_23-P_3_5</th>\n",
       "      <th>S_23-P_3_6</th>\n",
       "      <th>S_23-P_3_7</th>\n",
       "      <th>S_23-P_3_8</th>\n",
       "      <th>S_23-P_3_9</th>\n",
       "      <th>S_23-P_3_10</th>\n",
       "      <th>S_23-P_3_11</th>\n",
       "      <th>S_23-P_3_12</th>\n",
       "      <th>S_23-P_3_13</th>\n",
       "      <th>customer_ID</th>\n",
       "    </tr>\n",
       "  </thead>\n",
       "  <tbody>\n",
       "    <tr>\n",
       "      <th>0</th>\n",
       "      <td>0.739220</td>\n",
       "      <td>0.774127</td>\n",
       "      <td>0.805955</td>\n",
       "      <td>0.831622</td>\n",
       "      <td>0.858316</td>\n",
       "      <td>0.887064</td>\n",
       "      <td>0.921971</td>\n",
       "      <td>0.967146</td>\n",
       "      <td>0.980493</td>\n",
       "      <td>-1.000000</td>\n",
       "      <td>...</td>\n",
       "      <td>0.289173</td>\n",
       "      <td>0.327993</td>\n",
       "      <td>0.264301</td>\n",
       "      <td>0.262299</td>\n",
       "      <td>0.310161</td>\n",
       "      <td>-1.000000</td>\n",
       "      <td>-1.000000</td>\n",
       "      <td>-1.000000</td>\n",
       "      <td>-1.000000</td>\n",
       "      <td>00000469ba478561f23a92a868bd366de6f6527a684c9a...</td>\n",
       "    </tr>\n",
       "    <tr>\n",
       "      <th>1</th>\n",
       "      <td>0.428131</td>\n",
       "      <td>0.465092</td>\n",
       "      <td>0.495893</td>\n",
       "      <td>0.513347</td>\n",
       "      <td>0.546201</td>\n",
       "      <td>0.586242</td>\n",
       "      <td>0.622177</td>\n",
       "      <td>0.629363</td>\n",
       "      <td>0.662218</td>\n",
       "      <td>0.711499</td>\n",
       "      <td>...</td>\n",
       "      <td>0.370963</td>\n",
       "      <td>0.261539</td>\n",
       "      <td>0.362988</td>\n",
       "      <td>0.357788</td>\n",
       "      <td>0.258911</td>\n",
       "      <td>0.319032</td>\n",
       "      <td>0.311544</td>\n",
       "      <td>0.271942</td>\n",
       "      <td>0.332120</td>\n",
       "      <td>00001bf2e77ff879fab36aa4fac689b9ba411dae63ae39...</td>\n",
       "    </tr>\n",
       "    <tr>\n",
       "      <th>2</th>\n",
       "      <td>0.596509</td>\n",
       "      <td>0.641684</td>\n",
       "      <td>0.663244</td>\n",
       "      <td>0.704312</td>\n",
       "      <td>0.743326</td>\n",
       "      <td>0.749487</td>\n",
       "      <td>0.811088</td>\n",
       "      <td>0.812115</td>\n",
       "      <td>0.858316</td>\n",
       "      <td>0.894251</td>\n",
       "      <td>...</td>\n",
       "      <td>0.118320</td>\n",
       "      <td>0.121544</td>\n",
       "      <td>0.068181</td>\n",
       "      <td>0.065045</td>\n",
       "      <td>0.337753</td>\n",
       "      <td>0.424995</td>\n",
       "      <td>0.373444</td>\n",
       "      <td>0.371102</td>\n",
       "      <td>0.304577</td>\n",
       "      <td>0000210045da4f81e5f122c6bde5c2a617d03eef67f82c...</td>\n",
       "    </tr>\n",
       "    <tr>\n",
       "      <th>3</th>\n",
       "      <td>0.410678</td>\n",
       "      <td>0.455852</td>\n",
       "      <td>0.496920</td>\n",
       "      <td>0.502053</td>\n",
       "      <td>0.534908</td>\n",
       "      <td>0.588296</td>\n",
       "      <td>0.624230</td>\n",
       "      <td>0.637577</td>\n",
       "      <td>0.684805</td>\n",
       "      <td>0.705339</td>\n",
       "      <td>...</td>\n",
       "      <td>0.297998</td>\n",
       "      <td>0.268463</td>\n",
       "      <td>0.278719</td>\n",
       "      <td>0.324589</td>\n",
       "      <td>0.266189</td>\n",
       "      <td>0.271857</td>\n",
       "      <td>0.248616</td>\n",
       "      <td>0.260190</td>\n",
       "      <td>0.268461</td>\n",
       "      <td>00003b41e58ede33b8daf61ab56d9952f17c9ad1c3976c...</td>\n",
       "    </tr>\n",
       "    <tr>\n",
       "      <th>4</th>\n",
       "      <td>0.610883</td>\n",
       "      <td>0.652977</td>\n",
       "      <td>0.684805</td>\n",
       "      <td>0.705339</td>\n",
       "      <td>0.728953</td>\n",
       "      <td>0.772074</td>\n",
       "      <td>0.800821</td>\n",
       "      <td>0.837782</td>\n",
       "      <td>0.843943</td>\n",
       "      <td>0.878850</td>\n",
       "      <td>...</td>\n",
       "      <td>0.108597</td>\n",
       "      <td>0.297084</td>\n",
       "      <td>0.433925</td>\n",
       "      <td>0.432530</td>\n",
       "      <td>0.424020</td>\n",
       "      <td>0.470337</td>\n",
       "      <td>0.381729</td>\n",
       "      <td>0.431672</td>\n",
       "      <td>0.337952</td>\n",
       "      <td>00004b22eaeeeb0ec976890c1d9bfc14fd9427e98c4ee9...</td>\n",
       "    </tr>\n",
       "  </tbody>\n",
       "</table>\n",
       "<p>5 rows × 2640 columns</p>\n",
       "</div>"
      ],
      "text/plain": [
       "      S_2_1     S_2_2     S_2_3     S_2_4     S_2_5     S_2_6     S_2_7  \\\n",
       "0  0.739220  0.774127  0.805955  0.831622  0.858316  0.887064  0.921971   \n",
       "1  0.428131  0.465092  0.495893  0.513347  0.546201  0.586242  0.622177   \n",
       "2  0.596509  0.641684  0.663244  0.704312  0.743326  0.749487  0.811088   \n",
       "3  0.410678  0.455852  0.496920  0.502053  0.534908  0.588296  0.624230   \n",
       "4  0.610883  0.652977  0.684805  0.705339  0.728953  0.772074  0.800821   \n",
       "\n",
       "      S_2_8     S_2_9    S_2_10  ...  S_23-P_3_5  S_23-P_3_6  S_23-P_3_7  \\\n",
       "0  0.967146  0.980493 -1.000000  ...    0.289173    0.327993    0.264301   \n",
       "1  0.629363  0.662218  0.711499  ...    0.370963    0.261539    0.362988   \n",
       "2  0.812115  0.858316  0.894251  ...    0.118320    0.121544    0.068181   \n",
       "3  0.637577  0.684805  0.705339  ...    0.297998    0.268463    0.278719   \n",
       "4  0.837782  0.843943  0.878850  ...    0.108597    0.297084    0.433925   \n",
       "\n",
       "   S_23-P_3_8  S_23-P_3_9  S_23-P_3_10  S_23-P_3_11  S_23-P_3_12  S_23-P_3_13  \\\n",
       "0    0.262299    0.310161    -1.000000    -1.000000    -1.000000    -1.000000   \n",
       "1    0.357788    0.258911     0.319032     0.311544     0.271942     0.332120   \n",
       "2    0.065045    0.337753     0.424995     0.373444     0.371102     0.304577   \n",
       "3    0.324589    0.266189     0.271857     0.248616     0.260190     0.268461   \n",
       "4    0.432530    0.424020     0.470337     0.381729     0.431672     0.337952   \n",
       "\n",
       "                                         customer_ID  \n",
       "0  00000469ba478561f23a92a868bd366de6f6527a684c9a...  \n",
       "1  00001bf2e77ff879fab36aa4fac689b9ba411dae63ae39...  \n",
       "2  0000210045da4f81e5f122c6bde5c2a617d03eef67f82c...  \n",
       "3  00003b41e58ede33b8daf61ab56d9952f17c9ad1c3976c...  \n",
       "4  00004b22eaeeeb0ec976890c1d9bfc14fd9427e98c4ee9...  \n",
       "\n",
       "[5 rows x 2640 columns]"
      ]
     },
     "execution_count": 9,
     "metadata": {},
     "output_type": "execute_result"
    }
   ],
   "source": [
    "df_test = pd.read_parquet(\"large_test_embeddings.parquet\", engine=\"pyarrow\")\n",
    "#df_test = pd.read_parquet(\"deloitte-data/keras_test.parquet\", engine=\"pyarrow\")\n",
    "df_test.head()\n"
   ]
  },
  {
   "cell_type": "code",
   "execution_count": 10,
   "id": "dee42e37",
   "metadata": {},
   "outputs": [
    {
     "data": {
      "text/plain": [
       "['target']"
      ]
     },
     "execution_count": 10,
     "metadata": {},
     "output_type": "execute_result"
    }
   ],
   "source": [
    "[col for col in df_train.columns if col not in df_test.columns]"
   ]
  },
  {
   "cell_type": "code",
   "execution_count": 11,
   "id": "8588e824",
   "metadata": {},
   "outputs": [
    {
     "data": {
      "text/plain": [
       "[]"
      ]
     },
     "execution_count": 11,
     "metadata": {},
     "output_type": "execute_result"
    }
   ],
   "source": [
    "[col for col in df_test.columns if col not in df_train.columns]"
   ]
  },
  {
   "cell_type": "code",
   "execution_count": 12,
   "id": "e3ce350c",
   "metadata": {},
   "outputs": [],
   "source": [
    "df_train = df_train.drop(\"target\", axis=1)"
   ]
  },
  {
   "cell_type": "code",
   "execution_count": 13,
   "id": "8d12b269",
   "metadata": {},
   "outputs": [],
   "source": [
    "#df_test = df_test.drop(\"fake_splitter\", axis=1)"
   ]
  },
  {
   "cell_type": "code",
   "execution_count": 14,
   "id": "b171b083",
   "metadata": {},
   "outputs": [
    {
     "data": {
      "text/plain": [
       "(458913, 2640)"
      ]
     },
     "execution_count": 14,
     "metadata": {},
     "output_type": "execute_result"
    }
   ],
   "source": [
    "df_train.shape"
   ]
  },
  {
   "cell_type": "code",
   "execution_count": 15,
   "id": "745fe16c",
   "metadata": {},
   "outputs": [
    {
     "data": {
      "text/plain": [
       "(924621, 2640)"
      ]
     },
     "execution_count": 15,
     "metadata": {},
     "output_type": "execute_result"
    }
   ],
   "source": [
    "df_test.shape"
   ]
  },
  {
   "cell_type": "code",
   "execution_count": 16,
   "id": "384236bd",
   "metadata": {},
   "outputs": [],
   "source": [
    "cat_cols = ['B_30', 'B_38', 'D_114', 'D_116', 'D_117', 'D_120', 'D_126', 'D_63', 'D_64', 'D_66', 'D_68'] \n",
    "new_cat_cols = []\n",
    "for cat_col in cat_cols:\n",
    "    new_cat_cols.extend([col for col in df_train.columns if col.startswith(cat_col)])\n",
    "cat_cols = new_cat_cols\n",
    "#cat_cols"
   ]
  },
  {
   "cell_type": "markdown",
   "id": "19b688a9",
   "metadata": {},
   "source": [
    "Taking all the columns with a few values only, will build and embedding input for each later in the Keras model."
   ]
  },
  {
   "cell_type": "code",
   "execution_count": 17,
   "id": "348b9d4c",
   "metadata": {},
   "outputs": [
    {
     "data": {
      "text/plain": [
       "D_41_1      3\n",
       "D_41_2      3\n",
       "D_41_3      3\n",
       "D_41_4      3\n",
       "D_41_5      3\n",
       "           ..\n",
       "D_145_9     3\n",
       "D_145_10    3\n",
       "D_145_11    3\n",
       "D_145_12    3\n",
       "D_145_13    3\n",
       "Length: 1183, dtype: int64"
      ]
     },
     "execution_count": 17,
     "metadata": {},
     "output_type": "execute_result"
    }
   ],
   "source": [
    "unique_counts = df_train.nunique()\n",
    "small_count_cols_train = unique_counts[unique_counts < 10]\n",
    "#small_count_cols_train = small_count_cols_train.drop(\"fake_splitter\")\n",
    "small_count_cols_train"
   ]
  },
  {
   "cell_type": "code",
   "execution_count": 18,
   "id": "39b6838e",
   "metadata": {},
   "outputs": [
    {
     "data": {
      "text/plain": [
       "R_1_1       2\n",
       "R_1_2       3\n",
       "R_1_3       3\n",
       "R_1_4       3\n",
       "R_1_5       3\n",
       "           ..\n",
       "D_145_9     3\n",
       "D_145_10    3\n",
       "D_145_11    3\n",
       "D_145_12    3\n",
       "D_145_13    3\n",
       "Length: 1196, dtype: int64"
      ]
     },
     "execution_count": 18,
     "metadata": {},
     "output_type": "execute_result"
    }
   ],
   "source": [
    "unique_counts = df_test.nunique()\n",
    "small_count_cols_test = unique_counts[unique_counts < 10]\n",
    "#small_count_cols = small_count_cols.drop(\"fake_splitter\")\n",
    "small_count_cols_test"
   ]
  },
  {
   "cell_type": "markdown",
   "id": "ae671af7",
   "metadata": {},
   "source": [
    "Check train vs test data if they have same set of columns with few values:"
   ]
  },
  {
   "cell_type": "code",
   "execution_count": 19,
   "id": "c45b87b8",
   "metadata": {},
   "outputs": [
    {
     "data": {
      "text/plain": [
       "{'R_1_1',\n",
       " 'R_1_10',\n",
       " 'R_1_11',\n",
       " 'R_1_12',\n",
       " 'R_1_13',\n",
       " 'R_1_2',\n",
       " 'R_1_3',\n",
       " 'R_1_4',\n",
       " 'R_1_5',\n",
       " 'R_1_6',\n",
       " 'R_1_7',\n",
       " 'R_1_8',\n",
       " 'R_1_9'}"
      ]
     },
     "execution_count": 19,
     "metadata": {},
     "output_type": "execute_result"
    }
   ],
   "source": [
    "#list any columns with few values in test set that have more values in training set\n",
    "set(small_count_cols_test.index)-set(small_count_cols_train.index)"
   ]
  },
  {
   "cell_type": "code",
   "execution_count": 20,
   "id": "305329c7",
   "metadata": {},
   "outputs": [
    {
     "data": {
      "text/plain": [
       "set()"
      ]
     },
     "execution_count": 20,
     "metadata": {},
     "output_type": "execute_result"
    }
   ],
   "source": [
    "#list any columns with few values in train set that have more values in test set\n",
    "set(small_count_cols_train.index)-set(small_count_cols_test.index)"
   ]
  },
  {
   "cell_type": "code",
   "execution_count": 21,
   "id": "10f166e1",
   "metadata": {},
   "outputs": [
    {
     "data": {
      "text/plain": [
       "1183"
      ]
     },
     "execution_count": 21,
     "metadata": {},
     "output_type": "execute_result"
    }
   ],
   "source": [
    "embeddables = set(cat_cols).union(set(small_count_cols_train.index))\n",
    "len(embeddables)"
   ]
  },
  {
   "cell_type": "code",
   "execution_count": null,
   "id": "401a63e0",
   "metadata": {},
   "outputs": [],
   "source": []
  },
  {
   "cell_type": "markdown",
   "id": "2351c41f",
   "metadata": {},
   "source": [
    "# Build Inputs Mapping for Embedding Layers\n",
    "\n",
    "train_inputs will contain:\n",
    "- key: Column name.\n",
    "- value: Numpy array of values for that column.\n",
    "\n",
    "Keras fit/predict can then take this mapping as input to feed into the embedding layers in the model."
   ]
  },
  {
   "cell_type": "code",
   "execution_count": 22,
   "id": "7017ff10",
   "metadata": {},
   "outputs": [],
   "source": [
    "#train_inputs = {}"
   ]
  },
  {
   "cell_type": "code",
   "execution_count": 23,
   "id": "35c92513",
   "metadata": {},
   "outputs": [],
   "source": [
    "#for col in embeddables:\n",
    "#    train_inputs[col] = df_train[col].to_numpy()"
   ]
  },
  {
   "cell_type": "markdown",
   "id": "a10f6467",
   "metadata": {},
   "source": [
    "# Put all the Remaining Columns into a Separate Input Matrix\n",
    "\n",
    "This will be all the other inputs (non-categorical/larger set of values)."
   ]
  },
  {
   "cell_type": "code",
   "execution_count": 24,
   "id": "f942ad70",
   "metadata": {},
   "outputs": [],
   "source": [
    "numericals = [col for col in df_train.columns if col not in embeddables and col != \"customer_ID\"]"
   ]
  },
  {
   "cell_type": "code",
   "execution_count": 25,
   "id": "1cbace24",
   "metadata": {},
   "outputs": [
    {
     "data": {
      "text/plain": [
       "1456"
      ]
     },
     "execution_count": 25,
     "metadata": {},
     "output_type": "execute_result"
    }
   ],
   "source": [
    "len(numericals)"
   ]
  },
  {
   "cell_type": "code",
   "execution_count": 26,
   "id": "e5d38003",
   "metadata": {},
   "outputs": [],
   "source": [
    "# put above matrix input the model input dict for model training\n",
    "# model will have an input with matching shape and name (\"numerical\")\n",
    "\n",
    "#train_inputs[\"numerical\"] = df_train[numericals].to_numpy()"
   ]
  },
  {
   "cell_type": "code",
   "execution_count": null,
   "id": "e780a67f",
   "metadata": {},
   "outputs": [],
   "source": []
  },
  {
   "cell_type": "code",
   "execution_count": null,
   "id": "b18edad4",
   "metadata": {},
   "outputs": [],
   "source": []
  },
  {
   "cell_type": "code",
   "execution_count": 27,
   "id": "9889c741",
   "metadata": {},
   "outputs": [],
   "source": [
    "y = target"
   ]
  },
  {
   "cell_type": "code",
   "execution_count": 28,
   "id": "343c362f",
   "metadata": {},
   "outputs": [],
   "source": [
    "#X = df_train.drop([\"customer_ID\", \"target\"], axis=1)\n",
    "#y = df_train[\"target\"]\n",
    "#xs = X.shape\n",
    "#xs"
   ]
  },
  {
   "cell_type": "code",
   "execution_count": 29,
   "id": "667240e1",
   "metadata": {},
   "outputs": [],
   "source": [
    "stratzip = zip(strat, y)\n",
    "#stratified k-fold only supports single binary value, tuple stratification breaks it\n",
    "stratzip = [f\"{a}-{b}\" for (a,b) in stratzip]\n",
    "#stratzip = list(stratzip)"
   ]
  },
  {
   "cell_type": "code",
   "execution_count": 30,
   "id": "b7fb7d5c",
   "metadata": {},
   "outputs": [],
   "source": [
    "#Xv = X.values.reshape(xs[1], 13, 233)\n",
    "#Xnp = X.values.reshape (458913, 13, 233)\n",
    "#Xnp = X.values.reshape (458913, 1, X.shape[1])\n",
    "#Xnp.shape"
   ]
  },
  {
   "cell_type": "code",
   "execution_count": 31,
   "id": "88cfdcfe",
   "metadata": {},
   "outputs": [
    {
     "data": {
      "text/plain": [
       "9174841"
      ]
     },
     "execution_count": 31,
     "metadata": {},
     "output_type": "execute_result"
    }
   ],
   "source": [
    "3029*13*233"
   ]
  },
  {
   "cell_type": "markdown",
   "id": "5eff13af",
   "metadata": {},
   "source": [
    "# Build Keras Models"
   ]
  },
  {
   "cell_type": "code",
   "execution_count": 32,
   "id": "a717ef34",
   "metadata": {},
   "outputs": [],
   "source": [
    "#this was an attempt on resetting keras between iterations for memory etc. \n",
    "#did not work so well, and so it was always run in separate process\n",
    "def reset_keras():\n",
    "    sess = tf.compat.v1.keras.backend.get_session()\n",
    "    tf.compat.v1.keras.backend.clear_session()\n",
    "    sess.close()\n",
    "    sess = tf.compat.v1.keras.backend.get_session()\n",
    "\n",
    "    try:\n",
    "        del classifier # this is from global space - change this as you need\n",
    "    except:\n",
    "        pass\n",
    "\n",
    "    # use the same config as you used to create the session\n",
    "    config = tf.compat.v1.ConfigProto()\n",
    "    config.gpu_options.per_process_gpu_memory_fraction = 1\n",
    "    config.gpu_options.visible_device_list = \"0\"\n",
    "    tf.compat.v1.keras.backend.set_session(tf.compat.v1.Session(config=config))"
   ]
  },
  {
   "cell_type": "code",
   "execution_count": 60,
   "id": "45166f49",
   "metadata": {},
   "outputs": [],
   "source": [
    "#delete the stored keras models under keras/... directory\n",
    "def delete_keras_models():\n",
    "    for fl in glob.glob(\"keras/*\"):\n",
    "        #Do what you want with the file\n",
    "        os.remove(fl)\n",
    "\n",
    "#embedding layers + numericals -> cnn -> ...\n",
    "def create_model_cnn_embedded(X_reference, X_input, embed_cols, embed_col_sizes, numerical_count):\n",
    "    from keras.models import Model\n",
    "    from keras.optimizers import Adam\n",
    "    from tensorflow.keras.layers import Conv1D, BatchNormalization, Activation, MaxPooling1D, Flatten, Dropout, Dense, Input, concatenate, Embedding, Reshape\n",
    "    from tensorflow.keras import backend as K \n",
    "    import tensorflow as tf\n",
    "\n",
    "#    print(tf.config.experimental.get_memory_info('GPU:0'))\n",
    "    print(\"creating classifier, cnn\")\n",
    "    #https://stackoverflow.com/questions/59567226/how-to-programmatically-determine-available-gpu-memory-with-tensorflow?noredirect=1&lq=1\n",
    "#    print(tf.config.experimental.get_memory_info('GPU:0'))\n",
    "    \n",
    "    flats = []\n",
    "    inputs = []\n",
    "    embed_size = 10\n",
    "    reshape_size = 0\n",
    "    for embed_col in embed_cols:\n",
    "        #have to use X_reference here and it always has to be same dataframe to have same unique count\n",
    "        values = X_reference[embed_col].nunique()\n",
    "        input1 = Input(shape=(1,), name=embed_col)\n",
    "        inputs.append(input1)\n",
    "        embed = Embedding(values, embed_size)(input1) #TODO: embed_size=values?\n",
    "        flat = Flatten()(embed)\n",
    "        flats.append(flat)\n",
    "        reshape_size += embed_size\n",
    "\n",
    "    non_embeds = X_input.drop(embed_cols, axis=1)\n",
    "    reshape_size += non_embeds.shape[1]\n",
    "    input1 = Input(shape=(non_embeds.shape[1:]), name=\"numerical\")\n",
    "    inputs.append(input1)\n",
    "    flats.append(input1)\n",
    "\n",
    "    x = concatenate(flats)\n",
    "    x = Reshape((reshape_size, 1))(x)\n",
    "    \n",
    "    x = Conv1D(filters=64, kernel_size=15, strides=15, activation='relu')(x)\n",
    "    x = BatchNormalization()(x)\n",
    "    x = Conv1D(filters=32, kernel_size=3, strides=1, activation='relu')(x)\n",
    "    x = BatchNormalization()(x)\n",
    "    x = Flatten()(x)\n",
    "    x = Dropout(0.3)(x)\n",
    "    x = Dense(64, activation='relu')(x)\n",
    "    x = BatchNormalization()(x)\n",
    "    x = Dropout(0.3)(x)\n",
    "    x = Dense(16, activation='relu')(x)\n",
    "    x = BatchNormalization()(x)\n",
    "    output = Dense(1, activation='sigmoid')(x)\n",
    "\n",
    "    print(\"layers created\")\n",
    "\n",
    "    model = Model(inputs=[inputs], outputs=output)\n",
    "\n",
    "    print(\"model created\")\n",
    "\n",
    "    model.compile(Adam(learning_rate=.001), loss='binary_crossentropy', metrics=['accuracy'])\n",
    "    \n",
    "    return model\n",
    "\n",
    "\n",
    "#embedding layers + numericals -> mlp -> ...\n",
    "def create_model_mlp_embedded(X_input, embed_cols, embed_col_sizes, numerical_count):\n",
    "    from keras.models import Model\n",
    "    from keras.optimizers import Adam\n",
    "    from tensorflow.keras.layers import Conv1D, BatchNormalization, Activation, MaxPooling1D, Flatten, Dropout, Dense, Input, concatenate, Embedding, Reshape\n",
    "    from tensorflow.keras import backend as K \n",
    "    import tensorflow as tf\n",
    "\n",
    "    print(tf.config.experimental.get_memory_info('GPU:0'))\n",
    "    print(\"creating mlp classifier\")\n",
    "    #https://stackoverflow.com/questions/59567226/how-to-programmatically-determine-available-gpu-memory-with-tensorflow?noredirect=1&lq=1\n",
    "    print(tf.config.experimental.get_memory_info('GPU:0'))\n",
    "\n",
    "    flats = []\n",
    "    inputs = []\n",
    "    embed_size = 3\n",
    "    reshape_size = 0\n",
    "    for embed_col in embed_cols:\n",
    "        #https://medium.com/analytics-vidhya/understanding-embedding-layer-in-keras-bbe3ff1327ce\n",
    "        values = X_input[embed_col].nunique()\n",
    "        input1 = Input(shape=(1,), name=embed_col)\n",
    "        inputs.append(input1)\n",
    "        embed = Embedding(values, embed_size, name=f\"embedding-{embed_col}\")(input1) #TODO: embed_size=values?\n",
    "        flat = Flatten()(embed)\n",
    "        flats.append(flat)\n",
    "        reshape_size += embed_size\n",
    "\n",
    "    non_embeds = X_input.drop(embed_cols, axis=1)\n",
    "    reshape_size += non_embeds.shape[1]\n",
    "    input1 = Input(shape=(non_embeds.shape[1:]), name=\"numerical\")\n",
    "    inputs.append(input1)\n",
    "    flats.append(input1)\n",
    "\n",
    "    x = concatenate(flats)\n",
    "#    x = Reshape((reshape_size, 1))(x)\n",
    "\n",
    "    x = Dense(128, activation='relu')(x)\n",
    "    x = Dropout(0.5)(x)\n",
    "    x = Dense(64, activation='relu')(x)\n",
    "    x = Dropout(0.3)(x)\n",
    "    x = Dense(16, activation='relu')(x)\n",
    "    output = Dense(1, activation='sigmoid')(x)\n",
    "\n",
    "    print(\"layers created\")\n",
    "\n",
    "    model = Model(inputs=[inputs], outputs=output)\n",
    "\n",
    "    print(\"model created\")\n",
    "\n",
    "    model.compile(Adam(learning_rate=.0001), loss='binary_crossentropy', metrics=['accuracy'], run_eagerly=True)\n",
    "    \n",
    "    print(\"model compiled\")\n",
    "    \n",
    "    #print(model.summary())\n",
    "    \n",
    "    return model\n",
    "\n",
    "\n",
    "#create dict for embedding inputs, where key=layer name, value=array of input values for that layer\n",
    "#one key per embedding layer, one for the rest (\"numerical\")\n",
    "def create_embedding_input(df_from, y, embeddable_cols, numerical_cols, train_idx, test_idx):\n",
    "    axis = 0\n",
    "    \n",
    "    if train_idx is None:\n",
    "        #looking only to reshape input, not to sample it\n",
    "        X_train, X_test = df_from, None\n",
    "        y_train, y_test = y, None\n",
    "    else:\n",
    "        X_train, X_test = df_from.iloc[train_idx], df_from.iloc[test_idx]\n",
    "        y_train, y_test = np.take(y, train_idx, axis), np.take(y, test_idx, axis)\n",
    "    \n",
    "    #key=column name, value=numpy array of values for that column\n",
    "    train_inputs = {}\n",
    "    #embed counts = collect the count of values per embed column, to build flatten layer size later\n",
    "    embed_counts = {}\n",
    "    for col in embeddable_cols:\n",
    "        cols = 1\n",
    "        train_inputs[col] = X_train[col].to_numpy()#.reshape(-1, cols, 1)\n",
    "        embed_counts[col] = df_from[col].nunique()\n",
    "        #X = X.values.reshape(-1, X.shape[1], 1)\n",
    "    count_num_cols = len(numerical_cols)\n",
    "    #put all the remaining columns as a single input under the layer name \"numerical\"\n",
    "    train_inputs[\"numerical\"] = X_train[numerical_cols].to_numpy()#.reshape(-1, count_num_cols, 1)\n",
    "    \n",
    "    #build same dict for test data\n",
    "    test_inputs = {}\n",
    "    if X_test is not None:\n",
    "        for col in embeddable_cols:\n",
    "            cols = 1\n",
    "            test_inputs[col] = X_test[col].to_numpy()#.reshape(-1, cols, 1)\n",
    "        count_num_cols = len(numerical_cols)\n",
    "        test_inputs[\"numerical\"] = X_test[numerical_cols].to_numpy()#.reshape(-1, count_num_cols, 1)\n",
    "    print(len(embeddable_cols))\n",
    "    print(train_inputs[\"numerical\"].shape)\n",
    "    \n",
    "    return train_inputs, test_inputs, y_train, y_test, embed_counts\n",
    "\n",
    "\n",
    "def train_and_predict(df_from, y, embeddable_cols, numerical_cols, strat):\n",
    "    delete_keras_models()\n",
    "\n",
    "    manager = multiprocessing.Manager()\n",
    "    process_dict = manager.dict()\n",
    "\n",
    "    cols_to_drop = [col for col in df_from.columns if \"fake\" in col]\n",
    "    df_from = df_from.drop(cols_to_drop, axis=1)\n",
    "\n",
    "    cv = StratifiedKFold(n_splits=N_FOLDS, shuffle=True, random_state=69)\n",
    "#    cv = StratifiedKFold(n_splits=N_FOLDS, shuffle=True, random_state=1121218)\n",
    "\n",
    "    cv_scores = np.empty(N_FOLDS)\n",
    "    cv_accuracies = np.empty(N_FOLDS)\n",
    "    time_start_all_folds = time.time()\n",
    "    acc_score_total = 0\n",
    "    \n",
    "    n_classes = 1\n",
    "    train_preds = np.zeros((df_from.shape[0], n_classes))\n",
    "    customer_ids = df_from[\"customer_ID\"]\n",
    "    df_from = df_from.drop(\"customer_ID\", axis=1)\n",
    "    print(df_from.shape)\n",
    "    print(strat.shape)\n",
    "\n",
    "    for idx, (train_idx, test_idx) in enumerate(cv.split(df_from, strat)):\n",
    "        \n",
    "        time_start_this_fold = time.time()\n",
    "        print(f\"=== STARTING FOLD {idx+1}/{N_FOLDS} ===\")\n",
    "        #K.clear_session()\n",
    "        #reset_keras()\n",
    "        axis = 0\n",
    "        \n",
    "        #this should be modified to load the data in the new process, now it occupies 2*the memory of data\n",
    "        #once in this process, another time in the training process\n",
    "        #the copying across processes for 40-50GB of data also takes resources/time\n",
    "        p = Process(target=train_and_predict_2, args=(idx, process_dict, df_from, y, embeddable_cols, numerical_cols, train_idx, test_idx))\n",
    "        p.start()\n",
    "        flag = p.join()\n",
    "        print(f\"Subprocess exited with code {flag}\")\n",
    "        p.close()\n",
    "        print(\"Subprocess closed\")\n",
    "        \n",
    "        preds = process_dict[f\"preds-{idx}\"]\n",
    "        y_test = process_dict[f\"ytest-{idx}\"]\n",
    "        np.add.at(train_preds, test_idx, preds)\n",
    "        print(f\"count zerO: {np.count_nonzero(train_preds)}\")\n",
    "\n",
    "        preds_this_round = (preds >= 0.5)\n",
    "        acc_score = accuracy_score(y_test, preds_this_round)\n",
    "        acc_score_total += acc_score\n",
    "\n",
    "        log_loss_fold = log_loss(y_test, preds)\n",
    "        cv_scores[idx] = log_loss_fold\n",
    "        cv_accuracies[idx] = acc_score\n",
    "\n",
    "        amex_score = amex_metric(y_test, preds)\n",
    "\n",
    "        time_total_this_fold = time.time() - time_start_this_fold\n",
    "        print(f\"=== FINISHED FOLD {idx+1}/{N_FOLDS} log loss={log_loss_fold}, accuracy={acc_score}, amex={amex_score} ===\")\n",
    "        print(f\"time to run this fold: {format_time(time_total_this_fold)}\")\n",
    "\n",
    "    #print(type(train_preds))\n",
    "    #print(type(process_dict))\n",
    "    return process_dict, train_preds\n",
    "\n",
    "#this is the method that is run to train a data split (iteration)\n",
    "#separate method allows it to be started as a separate process\n",
    "def train_and_predict_2(idx, process_dict, df_from, y, embeddable_cols, numerical_cols, train_idx, test_idx):\n",
    "    import tensorflow as tf\n",
    "    \n",
    "    train_dict, test_dict, y_train, y_test, embed_counts = create_embedding_input(df_from, y, embeddable_cols, numerical_cols, train_idx, test_idx)\n",
    "    \n",
    "    print(df_from.dtypes.value_counts())\n",
    "    \n",
    "    #assuming df_from is actually df_train here and train + predict is only called on training\n",
    "    #thus both the X_reference and X_train are set as df_from here\n",
    "    model = create_model_cnn_embedded(df_from, df_from, embeddable_cols, embed_counts, len(numerical_cols))\n",
    "\n",
    "    print(\"model compiled, fitting\")\n",
    "    \n",
    "    model_checkpoint_callback = tf.keras.callbacks.ModelCheckpoint(\n",
    "        filepath=f\"keras/embedded-model-fold{idx}\",\n",
    "#        filepath=f\"keras/cnn-model-fold{idx}-\"+\"{epoch:02d}\",\n",
    "        save_weights_only=True,\n",
    "        monitor='val_loss',\n",
    "        mode='min',\n",
    "        save_best_only=True)\n",
    "\n",
    "    print(len(train_dict))\n",
    "    print(train_dict[\"numerical\"].shape)\n",
    "#    model.fit(train_dict, y_train, batch_size=64, epochs=10, callbacks=[model_checkpoint_callback])\n",
    "    model.fit(train_dict, y_train, batch_size=128, epochs=5, validation_data=(test_dict, y_test), callbacks=[model_checkpoint_callback])\n",
    "    #have to store history right after fit(), as predict() seems to clear it\n",
    "    history = model.history.history\n",
    "\n",
    "    filepath = f\"keras/embedded-model-fold{idx}\"\n",
    "    print(f\"loading best weights: {filepath}\")\n",
    "    model.load_weights(filepath)\n",
    "    print(f\"predicting\")\n",
    "    preds = model.predict(test_dict)\n",
    "    print(preds.shape)\n",
    "        \n",
    "    process_dict[f\"history-{idx}\"] = history\n",
    "    process_dict[f\"preds-{idx}\"] = preds\n",
    "    process_dict[f\"ytest-{idx}\"] = y_test\n",
    "        \n"
   ]
  },
  {
   "cell_type": "code",
   "execution_count": 34,
   "id": "b87acdd5",
   "metadata": {},
   "outputs": [
    {
     "data": {
      "text/plain": [
       "(458913, 2640)"
      ]
     },
     "execution_count": 34,
     "metadata": {},
     "output_type": "execute_result"
    }
   ],
   "source": [
    "df_train.shape"
   ]
  },
  {
   "cell_type": "code",
   "execution_count": 35,
   "id": "470c8d03",
   "metadata": {},
   "outputs": [
    {
     "name": "stdout",
     "output_type": "stream",
     "text": [
      "(458913, 2639)\n",
      "(458913,)\n",
      "=== STARTING FOLD 1/5 ===\n",
      "1183\n",
      "(367130, 1456)\n",
      "float32    2628\n",
      "int8         11\n",
      "dtype: int64\n",
      "creating classifier, cnn\n"
     ]
    },
    {
     "name": "stderr",
     "output_type": "stream",
     "text": [
      "2022-08-25 21:26:47.019305: I tensorflow/stream_executor/cuda/cuda_gpu_executor.cc:975] successful NUMA node read from SysFS had negative value (-1), but there must be at least one NUMA node, so returning NUMA node zero\n",
      "2022-08-25 21:26:47.022145: I tensorflow/stream_executor/cuda/cuda_gpu_executor.cc:975] successful NUMA node read from SysFS had negative value (-1), but there must be at least one NUMA node, so returning NUMA node zero\n",
      "2022-08-25 21:26:47.022674: I tensorflow/stream_executor/cuda/cuda_gpu_executor.cc:975] successful NUMA node read from SysFS had negative value (-1), but there must be at least one NUMA node, so returning NUMA node zero\n",
      "2022-08-25 21:26:47.023317: I tensorflow/core/platform/cpu_feature_guard.cc:193] This TensorFlow binary is optimized with oneAPI Deep Neural Network Library (oneDNN) to use the following CPU instructions in performance-critical operations:  AVX2 FMA\n",
      "To enable them in other operations, rebuild TensorFlow with the appropriate compiler flags.\n",
      "2022-08-25 21:26:47.024353: I tensorflow/stream_executor/cuda/cuda_gpu_executor.cc:975] successful NUMA node read from SysFS had negative value (-1), but there must be at least one NUMA node, so returning NUMA node zero\n",
      "2022-08-25 21:26:47.024939: I tensorflow/stream_executor/cuda/cuda_gpu_executor.cc:975] successful NUMA node read from SysFS had negative value (-1), but there must be at least one NUMA node, so returning NUMA node zero\n",
      "2022-08-25 21:26:47.025528: I tensorflow/stream_executor/cuda/cuda_gpu_executor.cc:975] successful NUMA node read from SysFS had negative value (-1), but there must be at least one NUMA node, so returning NUMA node zero\n",
      "2022-08-25 21:26:47.290599: I tensorflow/stream_executor/cuda/cuda_gpu_executor.cc:975] successful NUMA node read from SysFS had negative value (-1), but there must be at least one NUMA node, so returning NUMA node zero\n",
      "2022-08-25 21:26:47.291110: I tensorflow/stream_executor/cuda/cuda_gpu_executor.cc:975] successful NUMA node read from SysFS had negative value (-1), but there must be at least one NUMA node, so returning NUMA node zero\n",
      "2022-08-25 21:26:47.291587: I tensorflow/stream_executor/cuda/cuda_gpu_executor.cc:975] successful NUMA node read from SysFS had negative value (-1), but there must be at least one NUMA node, so returning NUMA node zero\n",
      "2022-08-25 21:26:47.292041: I tensorflow/core/common_runtime/gpu/gpu_device.cc:1532] Created device /job:localhost/replica:0/task:0/device:GPU:0 with 22256 MB memory:  -> device: 0, name: NVIDIA GeForce RTX 3090, pci bus id: 0000:2d:00.0, compute capability: 8.6\n"
     ]
    },
    {
     "name": "stdout",
     "output_type": "stream",
     "text": [
      "layers created\n",
      "model created\n",
      "model compiled, fitting\n",
      "1184\n",
      "(367130, 1456)\n",
      "Epoch 1/5\n"
     ]
    },
    {
     "name": "stderr",
     "output_type": "stream",
     "text": [
      "2022-08-25 21:28:00.727568: I tensorflow/stream_executor/cuda/cuda_dnn.cc:384] Loaded cuDNN version 8100\n",
      "2022-08-25 21:28:01.444520: I tensorflow/stream_executor/cuda/cuda_blas.cc:1786] TensorFloat-32 will be used for the matrix multiplication. This will only be logged once.\n"
     ]
    },
    {
     "name": "stdout",
     "output_type": "stream",
     "text": [
      "2869/2869 [==============================] - 724s 231ms/step - loss: 0.2667 - accuracy: 0.8823 - val_loss: 0.2380 - val_accuracy: 0.8926\n",
      "Epoch 2/5\n",
      "2869/2869 [==============================] - 658s 229ms/step - loss: 0.2454 - accuracy: 0.8897 - val_loss: 0.2344 - val_accuracy: 0.8943\n",
      "Epoch 3/5\n",
      "2869/2869 [==============================] - 658s 229ms/step - loss: 0.2415 - accuracy: 0.8921 - val_loss: 0.2316 - val_accuracy: 0.8959\n",
      "Epoch 4/5\n",
      "2869/2869 [==============================] - 657s 229ms/step - loss: 0.2384 - accuracy: 0.8937 - val_loss: 0.2293 - val_accuracy: 0.8981\n",
      "Epoch 5/5\n",
      "2869/2869 [==============================] - 659s 230ms/step - loss: 0.2365 - accuracy: 0.8952 - val_loss: 0.2300 - val_accuracy: 0.8969\n",
      "loading best weights: keras/embedded-model-fold0\n",
      "predicting\n",
      "2869/2869 [==============================] - 118s 39ms/step\n",
      "(91783, 1)\n",
      "Subprocess exited with code None\n",
      "Subprocess closed\n",
      "count zerO: 91783\n",
      "=== FINISHED FOLD 1/5 log loss=0.22933822995274258, accuracy=0.8980639116176198, amex=0.771753741034982 ===\n",
      "time to run this fold: 58m, 55s\n",
      "=== STARTING FOLD 2/5 ===\n",
      "1183\n",
      "(367130, 1456)\n",
      "float32    2628\n",
      "int8         11\n",
      "dtype: int64\n",
      "creating classifier, cnn\n"
     ]
    },
    {
     "name": "stderr",
     "output_type": "stream",
     "text": [
      "2022-08-25 22:25:42.953730: I tensorflow/stream_executor/cuda/cuda_gpu_executor.cc:975] successful NUMA node read from SysFS had negative value (-1), but there must be at least one NUMA node, so returning NUMA node zero\n",
      "2022-08-25 22:25:42.956534: I tensorflow/stream_executor/cuda/cuda_gpu_executor.cc:975] successful NUMA node read from SysFS had negative value (-1), but there must be at least one NUMA node, so returning NUMA node zero\n",
      "2022-08-25 22:25:42.957045: I tensorflow/stream_executor/cuda/cuda_gpu_executor.cc:975] successful NUMA node read from SysFS had negative value (-1), but there must be at least one NUMA node, so returning NUMA node zero\n",
      "2022-08-25 22:25:42.957666: I tensorflow/core/platform/cpu_feature_guard.cc:193] This TensorFlow binary is optimized with oneAPI Deep Neural Network Library (oneDNN) to use the following CPU instructions in performance-critical operations:  AVX2 FMA\n",
      "To enable them in other operations, rebuild TensorFlow with the appropriate compiler flags.\n",
      "2022-08-25 22:25:42.958519: I tensorflow/stream_executor/cuda/cuda_gpu_executor.cc:975] successful NUMA node read from SysFS had negative value (-1), but there must be at least one NUMA node, so returning NUMA node zero\n",
      "2022-08-25 22:25:42.959064: I tensorflow/stream_executor/cuda/cuda_gpu_executor.cc:975] successful NUMA node read from SysFS had negative value (-1), but there must be at least one NUMA node, so returning NUMA node zero\n",
      "2022-08-25 22:25:42.959556: I tensorflow/stream_executor/cuda/cuda_gpu_executor.cc:975] successful NUMA node read from SysFS had negative value (-1), but there must be at least one NUMA node, so returning NUMA node zero\n",
      "2022-08-25 22:25:43.219234: I tensorflow/stream_executor/cuda/cuda_gpu_executor.cc:975] successful NUMA node read from SysFS had negative value (-1), but there must be at least one NUMA node, so returning NUMA node zero\n",
      "2022-08-25 22:25:43.219749: I tensorflow/stream_executor/cuda/cuda_gpu_executor.cc:975] successful NUMA node read from SysFS had negative value (-1), but there must be at least one NUMA node, so returning NUMA node zero\n",
      "2022-08-25 22:25:43.220224: I tensorflow/stream_executor/cuda/cuda_gpu_executor.cc:975] successful NUMA node read from SysFS had negative value (-1), but there must be at least one NUMA node, so returning NUMA node zero\n",
      "2022-08-25 22:25:43.220674: I tensorflow/core/common_runtime/gpu/gpu_device.cc:1532] Created device /job:localhost/replica:0/task:0/device:GPU:0 with 22258 MB memory:  -> device: 0, name: NVIDIA GeForce RTX 3090, pci bus id: 0000:2d:00.0, compute capability: 8.6\n"
     ]
    },
    {
     "name": "stdout",
     "output_type": "stream",
     "text": [
      "layers created\n",
      "model created\n",
      "model compiled, fitting\n",
      "1184\n",
      "(367130, 1456)\n",
      "Epoch 1/5\n"
     ]
    },
    {
     "name": "stderr",
     "output_type": "stream",
     "text": [
      "2022-08-25 22:26:57.120728: I tensorflow/stream_executor/cuda/cuda_dnn.cc:384] Loaded cuDNN version 8100\n",
      "2022-08-25 22:26:57.852644: I tensorflow/stream_executor/cuda/cuda_blas.cc:1786] TensorFloat-32 will be used for the matrix multiplication. This will only be logged once.\n"
     ]
    },
    {
     "name": "stdout",
     "output_type": "stream",
     "text": [
      "2869/2869 [==============================] - 764s 244ms/step - loss: 0.2671 - accuracy: 0.8817 - val_loss: 0.2353 - val_accuracy: 0.8955\n",
      "Epoch 2/5\n",
      "2869/2869 [==============================] - 689s 240ms/step - loss: 0.2454 - accuracy: 0.8901 - val_loss: 0.2348 - val_accuracy: 0.8954\n",
      "Epoch 3/5\n",
      "2869/2869 [==============================] - 692s 241ms/step - loss: 0.2414 - accuracy: 0.8924 - val_loss: 0.2349 - val_accuracy: 0.8941\n",
      "Epoch 4/5\n",
      "2869/2869 [==============================] - 696s 243ms/step - loss: 0.2395 - accuracy: 0.8933 - val_loss: 0.2312 - val_accuracy: 0.8970\n",
      "Epoch 5/5\n",
      "2869/2869 [==============================] - 694s 242ms/step - loss: 0.2372 - accuracy: 0.8945 - val_loss: 0.2310 - val_accuracy: 0.8981\n",
      "loading best weights: keras/embedded-model-fold1\n",
      "predicting\n",
      "2869/2869 [==============================] - 117s 39ms/step\n",
      "(91783, 1)\n",
      "Subprocess exited with code None\n",
      "Subprocess closed\n",
      "count zerO: 183566\n",
      "=== FINISHED FOLD 2/5 log loss=0.23096319767029708, accuracy=0.8980965974091063, amex=0.7755851178213775 ===\n",
      "time to run this fold: 1h, 1m, 53s\n",
      "=== STARTING FOLD 3/5 ===\n",
      "1183\n",
      "(367130, 1456)\n",
      "float32    2628\n",
      "int8         11\n",
      "dtype: int64\n",
      "creating classifier, cnn\n"
     ]
    },
    {
     "name": "stderr",
     "output_type": "stream",
     "text": [
      "2022-08-25 23:27:36.758043: I tensorflow/stream_executor/cuda/cuda_gpu_executor.cc:975] successful NUMA node read from SysFS had negative value (-1), but there must be at least one NUMA node, so returning NUMA node zero\n",
      "2022-08-25 23:27:36.760929: I tensorflow/stream_executor/cuda/cuda_gpu_executor.cc:975] successful NUMA node read from SysFS had negative value (-1), but there must be at least one NUMA node, so returning NUMA node zero\n",
      "2022-08-25 23:27:36.761473: I tensorflow/stream_executor/cuda/cuda_gpu_executor.cc:975] successful NUMA node read from SysFS had negative value (-1), but there must be at least one NUMA node, so returning NUMA node zero\n",
      "2022-08-25 23:27:36.762131: I tensorflow/core/platform/cpu_feature_guard.cc:193] This TensorFlow binary is optimized with oneAPI Deep Neural Network Library (oneDNN) to use the following CPU instructions in performance-critical operations:  AVX2 FMA\n",
      "To enable them in other operations, rebuild TensorFlow with the appropriate compiler flags.\n",
      "2022-08-25 23:27:36.763154: I tensorflow/stream_executor/cuda/cuda_gpu_executor.cc:975] successful NUMA node read from SysFS had negative value (-1), but there must be at least one NUMA node, so returning NUMA node zero\n",
      "2022-08-25 23:27:36.764184: I tensorflow/stream_executor/cuda/cuda_gpu_executor.cc:975] successful NUMA node read from SysFS had negative value (-1), but there must be at least one NUMA node, so returning NUMA node zero\n",
      "2022-08-25 23:27:36.764743: I tensorflow/stream_executor/cuda/cuda_gpu_executor.cc:975] successful NUMA node read from SysFS had negative value (-1), but there must be at least one NUMA node, so returning NUMA node zero\n",
      "2022-08-25 23:27:37.030163: I tensorflow/stream_executor/cuda/cuda_gpu_executor.cc:975] successful NUMA node read from SysFS had negative value (-1), but there must be at least one NUMA node, so returning NUMA node zero\n",
      "2022-08-25 23:27:37.030702: I tensorflow/stream_executor/cuda/cuda_gpu_executor.cc:975] successful NUMA node read from SysFS had negative value (-1), but there must be at least one NUMA node, so returning NUMA node zero\n",
      "2022-08-25 23:27:37.031189: I tensorflow/stream_executor/cuda/cuda_gpu_executor.cc:975] successful NUMA node read from SysFS had negative value (-1), but there must be at least one NUMA node, so returning NUMA node zero\n",
      "2022-08-25 23:27:37.031658: I tensorflow/core/common_runtime/gpu/gpu_device.cc:1532] Created device /job:localhost/replica:0/task:0/device:GPU:0 with 22256 MB memory:  -> device: 0, name: NVIDIA GeForce RTX 3090, pci bus id: 0000:2d:00.0, compute capability: 8.6\n"
     ]
    },
    {
     "name": "stdout",
     "output_type": "stream",
     "text": [
      "layers created\n",
      "model created\n",
      "model compiled, fitting\n",
      "1184\n",
      "(367130, 1456)\n",
      "Epoch 1/5\n"
     ]
    },
    {
     "name": "stderr",
     "output_type": "stream",
     "text": [
      "2022-08-25 23:28:52.358192: I tensorflow/stream_executor/cuda/cuda_dnn.cc:384] Loaded cuDNN version 8100\n",
      "2022-08-25 23:28:53.073210: I tensorflow/stream_executor/cuda/cuda_blas.cc:1786] TensorFloat-32 will be used for the matrix multiplication. This will only be logged once.\n"
     ]
    },
    {
     "name": "stdout",
     "output_type": "stream",
     "text": [
      "2869/2869 [==============================] - 747s 238ms/step - loss: 0.2654 - accuracy: 0.8829 - val_loss: 0.2395 - val_accuracy: 0.8931\n",
      "Epoch 2/5\n",
      "2869/2869 [==============================] - 676s 236ms/step - loss: 0.2443 - accuracy: 0.8905 - val_loss: 0.2396 - val_accuracy: 0.8916\n",
      "Epoch 3/5\n",
      "2869/2869 [==============================] - 675s 235ms/step - loss: 0.2405 - accuracy: 0.8926 - val_loss: 0.2333 - val_accuracy: 0.8959\n",
      "Epoch 4/5\n",
      "2869/2869 [==============================] - 678s 236ms/step - loss: 0.2376 - accuracy: 0.8940 - val_loss: 0.2321 - val_accuracy: 0.8978\n",
      "Epoch 5/5\n",
      "2869/2869 [==============================] - 675s 235ms/step - loss: 0.2355 - accuracy: 0.8954 - val_loss: 0.2329 - val_accuracy: 0.8968\n",
      "loading best weights: keras/embedded-model-fold2\n",
      "predicting\n",
      "2869/2869 [==============================] - 118s 39ms/step\n",
      "(91783, 1)\n",
      "Subprocess exited with code None\n",
      "Subprocess closed\n",
      "count zerO: 275349\n",
      "=== FINISHED FOLD 3/5 log loss=0.23213919060390087, accuracy=0.8977915300218995, amex=0.7730205033115839 ===\n",
      "time to run this fold: 1h, 0m, 31s\n",
      "=== STARTING FOLD 4/5 ===\n",
      "1183\n",
      "(367131, 1456)\n",
      "float32    2628\n",
      "int8         11\n",
      "dtype: int64\n",
      "creating classifier, cnn\n"
     ]
    },
    {
     "name": "stderr",
     "output_type": "stream",
     "text": [
      "2022-08-26 00:28:08.138590: I tensorflow/stream_executor/cuda/cuda_gpu_executor.cc:975] successful NUMA node read from SysFS had negative value (-1), but there must be at least one NUMA node, so returning NUMA node zero\n",
      "2022-08-26 00:28:08.141486: I tensorflow/stream_executor/cuda/cuda_gpu_executor.cc:975] successful NUMA node read from SysFS had negative value (-1), but there must be at least one NUMA node, so returning NUMA node zero\n",
      "2022-08-26 00:28:08.142015: I tensorflow/stream_executor/cuda/cuda_gpu_executor.cc:975] successful NUMA node read from SysFS had negative value (-1), but there must be at least one NUMA node, so returning NUMA node zero\n",
      "2022-08-26 00:28:08.142690: I tensorflow/core/platform/cpu_feature_guard.cc:193] This TensorFlow binary is optimized with oneAPI Deep Neural Network Library (oneDNN) to use the following CPU instructions in performance-critical operations:  AVX2 FMA\n",
      "To enable them in other operations, rebuild TensorFlow with the appropriate compiler flags.\n",
      "2022-08-26 00:28:08.143682: I tensorflow/stream_executor/cuda/cuda_gpu_executor.cc:975] successful NUMA node read from SysFS had negative value (-1), but there must be at least one NUMA node, so returning NUMA node zero\n",
      "2022-08-26 00:28:08.144256: I tensorflow/stream_executor/cuda/cuda_gpu_executor.cc:975] successful NUMA node read from SysFS had negative value (-1), but there must be at least one NUMA node, so returning NUMA node zero\n",
      "2022-08-26 00:28:08.144785: I tensorflow/stream_executor/cuda/cuda_gpu_executor.cc:975] successful NUMA node read from SysFS had negative value (-1), but there must be at least one NUMA node, so returning NUMA node zero\n",
      "2022-08-26 00:28:08.413718: I tensorflow/stream_executor/cuda/cuda_gpu_executor.cc:975] successful NUMA node read from SysFS had negative value (-1), but there must be at least one NUMA node, so returning NUMA node zero\n",
      "2022-08-26 00:28:08.414275: I tensorflow/stream_executor/cuda/cuda_gpu_executor.cc:975] successful NUMA node read from SysFS had negative value (-1), but there must be at least one NUMA node, so returning NUMA node zero\n",
      "2022-08-26 00:28:08.414793: I tensorflow/stream_executor/cuda/cuda_gpu_executor.cc:975] successful NUMA node read from SysFS had negative value (-1), but there must be at least one NUMA node, so returning NUMA node zero\n",
      "2022-08-26 00:28:08.415276: I tensorflow/core/common_runtime/gpu/gpu_device.cc:1532] Created device /job:localhost/replica:0/task:0/device:GPU:0 with 22256 MB memory:  -> device: 0, name: NVIDIA GeForce RTX 3090, pci bus id: 0000:2d:00.0, compute capability: 8.6\n"
     ]
    },
    {
     "name": "stdout",
     "output_type": "stream",
     "text": [
      "layers created\n",
      "model created\n",
      "model compiled, fitting\n",
      "1184\n",
      "(367131, 1456)\n",
      "Epoch 1/5\n"
     ]
    },
    {
     "name": "stderr",
     "output_type": "stream",
     "text": [
      "2022-08-26 00:29:23.725911: I tensorflow/stream_executor/cuda/cuda_dnn.cc:384] Loaded cuDNN version 8100\n",
      "2022-08-26 00:29:24.432767: I tensorflow/stream_executor/cuda/cuda_blas.cc:1786] TensorFloat-32 will be used for the matrix multiplication. This will only be logged once.\n"
     ]
    },
    {
     "name": "stdout",
     "output_type": "stream",
     "text": [
      "2869/2869 [==============================] - 769s 246ms/step - loss: 0.2653 - accuracy: 0.8826 - val_loss: 0.2452 - val_accuracy: 0.8897\n",
      "Epoch 2/5\n",
      "2869/2869 [==============================] - 693s 242ms/step - loss: 0.2442 - accuracy: 0.8910 - val_loss: 0.2326 - val_accuracy: 0.8968\n",
      "Epoch 3/5\n",
      "2869/2869 [==============================] - 697s 243ms/step - loss: 0.2406 - accuracy: 0.8927 - val_loss: 0.2323 - val_accuracy: 0.8962\n",
      "Epoch 4/5\n",
      "2869/2869 [==============================] - 695s 242ms/step - loss: 0.2372 - accuracy: 0.8944 - val_loss: 0.2302 - val_accuracy: 0.8978\n",
      "Epoch 5/5\n",
      "2869/2869 [==============================] - 696s 243ms/step - loss: 0.2358 - accuracy: 0.8951 - val_loss: 0.2295 - val_accuracy: 0.8977\n",
      "loading best weights: keras/embedded-model-fold3\n",
      "predicting\n",
      "2869/2869 [==============================] - 116s 39ms/step\n",
      "(91782, 1)\n",
      "Subprocess exited with code None\n",
      "Subprocess closed\n",
      "count zerO: 367131\n",
      "=== FINISHED FOLD 4/5 log loss=0.2295277254262763, accuracy=0.8976814625961518, amex=0.7753407524639585 ===\n",
      "time to run this fold: 1h, 2m, 6s\n",
      "=== STARTING FOLD 5/5 ===\n",
      "1183\n",
      "(367131, 1456)\n",
      "float32    2628\n",
      "int8         11\n",
      "dtype: int64\n",
      "creating classifier, cnn\n"
     ]
    },
    {
     "name": "stderr",
     "output_type": "stream",
     "text": [
      "2022-08-26 01:30:14.846021: I tensorflow/stream_executor/cuda/cuda_gpu_executor.cc:975] successful NUMA node read from SysFS had negative value (-1), but there must be at least one NUMA node, so returning NUMA node zero\n",
      "2022-08-26 01:30:14.848917: I tensorflow/stream_executor/cuda/cuda_gpu_executor.cc:975] successful NUMA node read from SysFS had negative value (-1), but there must be at least one NUMA node, so returning NUMA node zero\n",
      "2022-08-26 01:30:14.849466: I tensorflow/stream_executor/cuda/cuda_gpu_executor.cc:975] successful NUMA node read from SysFS had negative value (-1), but there must be at least one NUMA node, so returning NUMA node zero\n",
      "2022-08-26 01:30:14.850126: I tensorflow/core/platform/cpu_feature_guard.cc:193] This TensorFlow binary is optimized with oneAPI Deep Neural Network Library (oneDNN) to use the following CPU instructions in performance-critical operations:  AVX2 FMA\n",
      "To enable them in other operations, rebuild TensorFlow with the appropriate compiler flags.\n",
      "2022-08-26 01:30:14.851187: I tensorflow/stream_executor/cuda/cuda_gpu_executor.cc:975] successful NUMA node read from SysFS had negative value (-1), but there must be at least one NUMA node, so returning NUMA node zero\n",
      "2022-08-26 01:30:14.852097: I tensorflow/stream_executor/cuda/cuda_gpu_executor.cc:975] successful NUMA node read from SysFS had negative value (-1), but there must be at least one NUMA node, so returning NUMA node zero\n",
      "2022-08-26 01:30:14.852669: I tensorflow/stream_executor/cuda/cuda_gpu_executor.cc:975] successful NUMA node read from SysFS had negative value (-1), but there must be at least one NUMA node, so returning NUMA node zero\n",
      "2022-08-26 01:30:15.122240: I tensorflow/stream_executor/cuda/cuda_gpu_executor.cc:975] successful NUMA node read from SysFS had negative value (-1), but there must be at least one NUMA node, so returning NUMA node zero\n",
      "2022-08-26 01:30:15.122762: I tensorflow/stream_executor/cuda/cuda_gpu_executor.cc:975] successful NUMA node read from SysFS had negative value (-1), but there must be at least one NUMA node, so returning NUMA node zero\n",
      "2022-08-26 01:30:15.123277: I tensorflow/stream_executor/cuda/cuda_gpu_executor.cc:975] successful NUMA node read from SysFS had negative value (-1), but there must be at least one NUMA node, so returning NUMA node zero\n",
      "2022-08-26 01:30:15.123757: I tensorflow/core/common_runtime/gpu/gpu_device.cc:1532] Created device /job:localhost/replica:0/task:0/device:GPU:0 with 22258 MB memory:  -> device: 0, name: NVIDIA GeForce RTX 3090, pci bus id: 0000:2d:00.0, compute capability: 8.6\n"
     ]
    },
    {
     "name": "stdout",
     "output_type": "stream",
     "text": [
      "layers created\n",
      "model created\n",
      "model compiled, fitting\n",
      "1184\n",
      "(367131, 1456)\n",
      "Epoch 1/5\n"
     ]
    },
    {
     "name": "stderr",
     "output_type": "stream",
     "text": [
      "2022-08-26 01:31:30.139601: I tensorflow/stream_executor/cuda/cuda_dnn.cc:384] Loaded cuDNN version 8100\n",
      "2022-08-26 01:31:30.849759: I tensorflow/stream_executor/cuda/cuda_blas.cc:1786] TensorFloat-32 will be used for the matrix multiplication. This will only be logged once.\n"
     ]
    },
    {
     "name": "stdout",
     "output_type": "stream",
     "text": [
      "2869/2869 [==============================] - 760s 243ms/step - loss: 0.2661 - accuracy: 0.8822 - val_loss: 0.2404 - val_accuracy: 0.8928\n",
      "Epoch 2/5\n",
      "2869/2869 [==============================] - 692s 241ms/step - loss: 0.2455 - accuracy: 0.8903 - val_loss: 0.2391 - val_accuracy: 0.8935\n",
      "Epoch 3/5\n",
      "2869/2869 [==============================] - 691s 241ms/step - loss: 0.2406 - accuracy: 0.8927 - val_loss: 0.2332 - val_accuracy: 0.8966\n",
      "Epoch 4/5\n",
      "2869/2869 [==============================] - 686s 239ms/step - loss: 0.2374 - accuracy: 0.8946 - val_loss: 0.2319 - val_accuracy: 0.8976\n",
      "Epoch 5/5\n",
      "2869/2869 [==============================] - 692s 241ms/step - loss: 0.2357 - accuracy: 0.8952 - val_loss: 0.2311 - val_accuracy: 0.8974\n",
      "loading best weights: keras/embedded-model-fold4\n",
      "predicting\n",
      "2869/2869 [==============================] - 117s 39ms/step\n",
      "(91782, 1)\n",
      "Subprocess exited with code None\n",
      "Subprocess closed\n",
      "count zerO: 458913\n",
      "=== FINISHED FOLD 5/5 log loss=0.23107495221158753, accuracy=0.8974308687978035, amex=0.7706040864153059 ===\n",
      "time to run this fold: 1h, 1m, 39s\n"
     ]
    }
   ],
   "source": [
    "#here run the actual CV split + training on each split\n",
    "#process_dict, train_preds = train_and_predict(df_train[:1000], target[:1000], embeddables, numericals, strat[:1000])\n",
    "process_dict, train_preds = train_and_predict(df_train, target, embeddables, numericals, strat)\n"
   ]
  },
  {
   "cell_type": "code",
   "execution_count": 36,
   "id": "2fe13943",
   "metadata": {},
   "outputs": [],
   "source": [
    "#cannot import TF outside processses or it will reserve GPU and later use of TF/Keras will fail to find GPU\n",
    "#import tensorflow as tf\n",
    "#tf.config.list_physical_devices('GPU')"
   ]
  },
  {
   "cell_type": "code",
   "execution_count": 37,
   "id": "06367366",
   "metadata": {},
   "outputs": [
    {
     "name": "stdout",
     "output_type": "stream",
     "text": [
      "float32    2628\n",
      "int8         11\n",
      "object        1\n",
      "dtype: int64\n"
     ]
    }
   ],
   "source": [
    "print(df_train.dtypes.value_counts())"
   ]
  },
  {
   "cell_type": "code",
   "execution_count": 38,
   "id": "4423ae46",
   "metadata": {},
   "outputs": [
    {
     "data": {
      "text/plain": [
       "dtype('int64')"
      ]
     },
     "execution_count": 38,
     "metadata": {},
     "output_type": "execute_result"
    }
   ],
   "source": [
    "target.dtype"
   ]
  },
  {
   "cell_type": "code",
   "execution_count": 39,
   "id": "5babf72d",
   "metadata": {},
   "outputs": [
    {
     "data": {
      "text/plain": [
       "Index(['customer_ID'], dtype='object')"
      ]
     },
     "execution_count": 39,
     "metadata": {},
     "output_type": "execute_result"
    }
   ],
   "source": [
    "df_train.select_dtypes(include=['object']).columns"
   ]
  },
  {
   "cell_type": "code",
   "execution_count": null,
   "id": "e84ee35e",
   "metadata": {},
   "outputs": [],
   "source": []
  },
  {
   "cell_type": "code",
   "execution_count": 40,
   "id": "969fd8e8",
   "metadata": {},
   "outputs": [],
   "source": [
    "#large data set\n",
    "\n",
    "#13 rows\n",
    "#wavenet 0.76-0.77\n",
    "#gru 0.75-0.76 (3 iter)\n",
    "#bi-lstm 0.75-0.77\n",
    "\n",
    "#1 row\n",
    "#bi-lstm 0.75-0.77\n",
    "#wavenet 0.77-0.79\n",
    "#gru-cnn 0.70\n",
    "#perus cnn 0.77-0.78\n",
    "\n",
    "#deloitte data set\n",
    "#wavenet 0.774-0.784\n",
    "#cnn 0.766-0.785\n",
    "\n"
   ]
  },
  {
   "cell_type": "code",
   "execution_count": 41,
   "id": "d7e08dd0",
   "metadata": {},
   "outputs": [
    {
     "data": {
      "text/plain": [
       "array([[0.00128628],\n",
       "       [0.8709188 ],\n",
       "       [0.25024173],\n",
       "       ...,\n",
       "       [0.93081063],\n",
       "       [0.9252362 ],\n",
       "       [0.48868656]], dtype=float32)"
      ]
     },
     "execution_count": 41,
     "metadata": {},
     "output_type": "execute_result"
    }
   ],
   "source": [
    "process_dict[\"preds-1\"]"
   ]
  },
  {
   "cell_type": "code",
   "execution_count": 42,
   "id": "f70eecdb",
   "metadata": {},
   "outputs": [
    {
     "data": {
      "text/plain": [
       "(458913, 1)"
      ]
     },
     "execution_count": 42,
     "metadata": {},
     "output_type": "execute_result"
    }
   ],
   "source": [
    "train_preds.shape"
   ]
  },
  {
   "cell_type": "code",
   "execution_count": 43,
   "id": "4390b134",
   "metadata": {},
   "outputs": [],
   "source": [
    "df_preds = pd.DataFrame()\n",
    "df_preds[\"customer_ID\"] = df_train[\"customer_ID\"]\n",
    "df_preds[\"prediction\"] = train_preds"
   ]
  },
  {
   "cell_type": "code",
   "execution_count": 44,
   "id": "441c1941",
   "metadata": {},
   "outputs": [
    {
     "data": {
      "text/plain": [
       "0.7729221399799109"
      ]
     },
     "execution_count": 44,
     "metadata": {},
     "output_type": "execute_result"
    }
   ],
   "source": [
    "amex_metric_mod(y, train_preds[:, 0])    "
   ]
  },
  {
   "cell_type": "code",
   "execution_count": 45,
   "id": "4c258c02",
   "metadata": {},
   "outputs": [],
   "source": [
    "df_preds.to_csv(\"predictions_mlp_embedded.csv\")"
   ]
  },
  {
   "cell_type": "code",
   "execution_count": null,
   "id": "8a8e0fde",
   "metadata": {},
   "outputs": [],
   "source": []
  },
  {
   "cell_type": "code",
   "execution_count": null,
   "id": "b06210c7",
   "metadata": {},
   "outputs": [],
   "source": []
  },
  {
   "cell_type": "markdown",
   "id": "621640bc",
   "metadata": {},
   "source": [
    "# Predict Entire Training Set with Trained Models\n",
    "\n",
    "Not sure if this is meaningful or would it be just better to concatenate the out-of-fold preds from trained folds (as is done above)."
   ]
  },
  {
   "cell_type": "code",
   "execution_count": null,
   "id": "5a39eb58",
   "metadata": {},
   "outputs": [],
   "source": []
  },
  {
   "cell_type": "code",
   "execution_count": 46,
   "id": "918df72c",
   "metadata": {},
   "outputs": [],
   "source": [
    "#test.replace([np.inf, -np.inf], np.nan,inplace=True)\n",
    "#X_train = df_train.drop([\"customer_ID\"], axis=1)\n",
    "#X = X_train.values.reshape(-1, X_train.shape[1], 1)\n"
   ]
  },
  {
   "cell_type": "code",
   "execution_count": 47,
   "id": "6b41b95e",
   "metadata": {},
   "outputs": [],
   "source": [
    "#X_train.columns\n",
    "#train_dict, test_dict, y_train, y_test, embed_counts = create_embedding_input(df_train, target, embeddables, numericals, None, None)"
   ]
  },
  {
   "cell_type": "code",
   "execution_count": 72,
   "id": "0467a1d3",
   "metadata": {},
   "outputs": [],
   "source": [
    "def predict_keras(idx, process_dict, X_ref, X, weights_filepath, embeddables, numericals):\n",
    "    train_dict, test_dict, y, y_test, embed_counts = create_embedding_input(X, target, embeddables, numericals, None, None)\n",
    "    model = create_model_cnn_embedded(X_ref, X, embeddables, embed_counts, len(numericals))\n",
    "    model.load_weights(filepath)\n",
    "    preds = model.predict(train_dict)\n",
    "    process_dict[f\"preds-{idx}\"] = preds"
   ]
  },
  {
   "cell_type": "code",
   "execution_count": 49,
   "id": "29c48bc0",
   "metadata": {},
   "outputs": [
    {
     "name": "stdout",
     "output_type": "stream",
     "text": [
      "keras/embedded-model-fold0*.data-*\n",
      "=== STARTING TO PREDICT 1/5: keras/embedded-model-fold0 === \n",
      "1183\n",
      "(458913, 1456)\n",
      "creating classifier, cnn\n"
     ]
    },
    {
     "name": "stderr",
     "output_type": "stream",
     "text": [
      "2022-08-26 07:52:20.070139: I tensorflow/stream_executor/cuda/cuda_gpu_executor.cc:975] successful NUMA node read from SysFS had negative value (-1), but there must be at least one NUMA node, so returning NUMA node zero\n",
      "2022-08-26 07:52:20.073358: I tensorflow/stream_executor/cuda/cuda_gpu_executor.cc:975] successful NUMA node read from SysFS had negative value (-1), but there must be at least one NUMA node, so returning NUMA node zero\n",
      "2022-08-26 07:52:20.073907: I tensorflow/stream_executor/cuda/cuda_gpu_executor.cc:975] successful NUMA node read from SysFS had negative value (-1), but there must be at least one NUMA node, so returning NUMA node zero\n",
      "2022-08-26 07:52:20.074517: I tensorflow/core/platform/cpu_feature_guard.cc:193] This TensorFlow binary is optimized with oneAPI Deep Neural Network Library (oneDNN) to use the following CPU instructions in performance-critical operations:  AVX2 FMA\n",
      "To enable them in other operations, rebuild TensorFlow with the appropriate compiler flags.\n",
      "2022-08-26 07:52:20.075544: I tensorflow/stream_executor/cuda/cuda_gpu_executor.cc:975] successful NUMA node read from SysFS had negative value (-1), but there must be at least one NUMA node, so returning NUMA node zero\n",
      "2022-08-26 07:52:20.076106: I tensorflow/stream_executor/cuda/cuda_gpu_executor.cc:975] successful NUMA node read from SysFS had negative value (-1), but there must be at least one NUMA node, so returning NUMA node zero\n",
      "2022-08-26 07:52:20.076619: I tensorflow/stream_executor/cuda/cuda_gpu_executor.cc:975] successful NUMA node read from SysFS had negative value (-1), but there must be at least one NUMA node, so returning NUMA node zero\n",
      "2022-08-26 07:52:20.337999: I tensorflow/stream_executor/cuda/cuda_gpu_executor.cc:975] successful NUMA node read from SysFS had negative value (-1), but there must be at least one NUMA node, so returning NUMA node zero\n",
      "2022-08-26 07:52:20.338523: I tensorflow/stream_executor/cuda/cuda_gpu_executor.cc:975] successful NUMA node read from SysFS had negative value (-1), but there must be at least one NUMA node, so returning NUMA node zero\n",
      "2022-08-26 07:52:20.338992: I tensorflow/stream_executor/cuda/cuda_gpu_executor.cc:975] successful NUMA node read from SysFS had negative value (-1), but there must be at least one NUMA node, so returning NUMA node zero\n",
      "2022-08-26 07:52:20.339440: I tensorflow/core/common_runtime/gpu/gpu_device.cc:1532] Created device /job:localhost/replica:0/task:0/device:GPU:0 with 22256 MB memory:  -> device: 0, name: NVIDIA GeForce RTX 3090, pci bus id: 0000:2d:00.0, compute capability: 8.6\n"
     ]
    },
    {
     "name": "stdout",
     "output_type": "stream",
     "text": [
      "layers created\n",
      "model created\n"
     ]
    },
    {
     "name": "stderr",
     "output_type": "stream",
     "text": [
      "2022-08-26 07:53:19.792795: I tensorflow/stream_executor/cuda/cuda_dnn.cc:384] Loaded cuDNN version 8100\n"
     ]
    },
    {
     "name": "stdout",
     "output_type": "stream",
     "text": [
      "    5/14342 [..............................] - ETA: 9:39  "
     ]
    },
    {
     "name": "stderr",
     "output_type": "stream",
     "text": [
      "2022-08-26 07:53:20.494097: I tensorflow/stream_executor/cuda/cuda_blas.cc:1786] TensorFloat-32 will be used for the matrix multiplication. This will only be logged once.\n"
     ]
    },
    {
     "name": "stdout",
     "output_type": "stream",
     "text": [
      "14342/14342 [==============================] - 566s 39ms/step\n",
      "=== FINISHED PREDICTION 1/5: [118170.98] === \n",
      "Subprocess exited with code None\n",
      "keras/embedded-model-fold1*.data-*\n",
      "=== STARTING TO PREDICT 2/5: keras/embedded-model-fold1 === \n",
      "1183\n",
      "(458913, 1456)\n",
      "creating classifier, cnn\n"
     ]
    },
    {
     "name": "stderr",
     "output_type": "stream",
     "text": [
      "2022-08-26 08:02:45.366644: I tensorflow/stream_executor/cuda/cuda_gpu_executor.cc:975] successful NUMA node read from SysFS had negative value (-1), but there must be at least one NUMA node, so returning NUMA node zero\n",
      "2022-08-26 08:02:45.369873: I tensorflow/stream_executor/cuda/cuda_gpu_executor.cc:975] successful NUMA node read from SysFS had negative value (-1), but there must be at least one NUMA node, so returning NUMA node zero\n",
      "2022-08-26 08:02:45.370420: I tensorflow/stream_executor/cuda/cuda_gpu_executor.cc:975] successful NUMA node read from SysFS had negative value (-1), but there must be at least one NUMA node, so returning NUMA node zero\n",
      "2022-08-26 08:02:45.371074: I tensorflow/core/platform/cpu_feature_guard.cc:193] This TensorFlow binary is optimized with oneAPI Deep Neural Network Library (oneDNN) to use the following CPU instructions in performance-critical operations:  AVX2 FMA\n",
      "To enable them in other operations, rebuild TensorFlow with the appropriate compiler flags.\n",
      "2022-08-26 08:02:45.372004: I tensorflow/stream_executor/cuda/cuda_gpu_executor.cc:975] successful NUMA node read from SysFS had negative value (-1), but there must be at least one NUMA node, so returning NUMA node zero\n",
      "2022-08-26 08:02:45.372897: I tensorflow/stream_executor/cuda/cuda_gpu_executor.cc:975] successful NUMA node read from SysFS had negative value (-1), but there must be at least one NUMA node, so returning NUMA node zero\n",
      "2022-08-26 08:02:45.373417: I tensorflow/stream_executor/cuda/cuda_gpu_executor.cc:975] successful NUMA node read from SysFS had negative value (-1), but there must be at least one NUMA node, so returning NUMA node zero\n",
      "2022-08-26 08:02:45.641933: I tensorflow/stream_executor/cuda/cuda_gpu_executor.cc:975] successful NUMA node read from SysFS had negative value (-1), but there must be at least one NUMA node, so returning NUMA node zero\n",
      "2022-08-26 08:02:45.642477: I tensorflow/stream_executor/cuda/cuda_gpu_executor.cc:975] successful NUMA node read from SysFS had negative value (-1), but there must be at least one NUMA node, so returning NUMA node zero\n",
      "2022-08-26 08:02:45.642982: I tensorflow/stream_executor/cuda/cuda_gpu_executor.cc:975] successful NUMA node read from SysFS had negative value (-1), but there must be at least one NUMA node, so returning NUMA node zero\n",
      "2022-08-26 08:02:45.643451: I tensorflow/core/common_runtime/gpu/gpu_device.cc:1532] Created device /job:localhost/replica:0/task:0/device:GPU:0 with 22256 MB memory:  -> device: 0, name: NVIDIA GeForce RTX 3090, pci bus id: 0000:2d:00.0, compute capability: 8.6\n"
     ]
    },
    {
     "name": "stdout",
     "output_type": "stream",
     "text": [
      "layers created\n",
      "model created\n"
     ]
    },
    {
     "name": "stderr",
     "output_type": "stream",
     "text": [
      "2022-08-26 08:03:47.783249: I tensorflow/stream_executor/cuda/cuda_dnn.cc:384] Loaded cuDNN version 8100\n"
     ]
    },
    {
     "name": "stdout",
     "output_type": "stream",
     "text": [
      "    5/14342 [..............................] - ETA: 9:09  "
     ]
    },
    {
     "name": "stderr",
     "output_type": "stream",
     "text": [
      "2022-08-26 08:03:48.485942: I tensorflow/stream_executor/cuda/cuda_blas.cc:1786] TensorFloat-32 will be used for the matrix multiplication. This will only be logged once.\n"
     ]
    },
    {
     "name": "stdout",
     "output_type": "stream",
     "text": [
      "14342/14342 [==============================] - 573s 39ms/step\n",
      "=== FINISHED PREDICTION 2/5: [111582.32] === \n",
      "Subprocess exited with code None\n",
      "keras/embedded-model-fold2*.data-*\n",
      "=== STARTING TO PREDICT 3/5: keras/embedded-model-fold2 === \n",
      "1183\n",
      "(458913, 1456)\n",
      "creating classifier, cnn\n"
     ]
    },
    {
     "name": "stderr",
     "output_type": "stream",
     "text": [
      "2022-08-26 08:13:20.143119: I tensorflow/stream_executor/cuda/cuda_gpu_executor.cc:975] successful NUMA node read from SysFS had negative value (-1), but there must be at least one NUMA node, so returning NUMA node zero\n",
      "2022-08-26 08:13:20.146319: I tensorflow/stream_executor/cuda/cuda_gpu_executor.cc:975] successful NUMA node read from SysFS had negative value (-1), but there must be at least one NUMA node, so returning NUMA node zero\n",
      "2022-08-26 08:13:20.146850: I tensorflow/stream_executor/cuda/cuda_gpu_executor.cc:975] successful NUMA node read from SysFS had negative value (-1), but there must be at least one NUMA node, so returning NUMA node zero\n",
      "2022-08-26 08:13:20.147496: I tensorflow/core/platform/cpu_feature_guard.cc:193] This TensorFlow binary is optimized with oneAPI Deep Neural Network Library (oneDNN) to use the following CPU instructions in performance-critical operations:  AVX2 FMA\n",
      "To enable them in other operations, rebuild TensorFlow with the appropriate compiler flags.\n",
      "2022-08-26 08:13:20.148523: I tensorflow/stream_executor/cuda/cuda_gpu_executor.cc:975] successful NUMA node read from SysFS had negative value (-1), but there must be at least one NUMA node, so returning NUMA node zero\n",
      "2022-08-26 08:13:20.149082: I tensorflow/stream_executor/cuda/cuda_gpu_executor.cc:975] successful NUMA node read from SysFS had negative value (-1), but there must be at least one NUMA node, so returning NUMA node zero\n",
      "2022-08-26 08:13:20.149590: I tensorflow/stream_executor/cuda/cuda_gpu_executor.cc:975] successful NUMA node read from SysFS had negative value (-1), but there must be at least one NUMA node, so returning NUMA node zero\n",
      "2022-08-26 08:13:20.422788: I tensorflow/stream_executor/cuda/cuda_gpu_executor.cc:975] successful NUMA node read from SysFS had negative value (-1), but there must be at least one NUMA node, so returning NUMA node zero\n",
      "2022-08-26 08:13:20.423325: I tensorflow/stream_executor/cuda/cuda_gpu_executor.cc:975] successful NUMA node read from SysFS had negative value (-1), but there must be at least one NUMA node, so returning NUMA node zero\n",
      "2022-08-26 08:13:20.423848: I tensorflow/stream_executor/cuda/cuda_gpu_executor.cc:975] successful NUMA node read from SysFS had negative value (-1), but there must be at least one NUMA node, so returning NUMA node zero\n",
      "2022-08-26 08:13:20.424317: I tensorflow/core/common_runtime/gpu/gpu_device.cc:1532] Created device /job:localhost/replica:0/task:0/device:GPU:0 with 22256 MB memory:  -> device: 0, name: NVIDIA GeForce RTX 3090, pci bus id: 0000:2d:00.0, compute capability: 8.6\n"
     ]
    },
    {
     "name": "stdout",
     "output_type": "stream",
     "text": [
      "layers created\n",
      "model created\n"
     ]
    },
    {
     "name": "stderr",
     "output_type": "stream",
     "text": [
      "2022-08-26 08:14:22.687838: I tensorflow/stream_executor/cuda/cuda_dnn.cc:384] Loaded cuDNN version 8100\n"
     ]
    },
    {
     "name": "stdout",
     "output_type": "stream",
     "text": [
      "    5/14342 [..............................] - ETA: 9:51  "
     ]
    },
    {
     "name": "stderr",
     "output_type": "stream",
     "text": [
      "2022-08-26 08:14:23.399503: I tensorflow/stream_executor/cuda/cuda_blas.cc:1786] TensorFloat-32 will be used for the matrix multiplication. This will only be logged once.\n"
     ]
    },
    {
     "name": "stdout",
     "output_type": "stream",
     "text": [
      "14342/14342 [==============================] - 557s 38ms/step\n",
      "=== FINISHED PREDICTION 3/5: [111912.83] === \n",
      "Subprocess exited with code None\n",
      "keras/embedded-model-fold3*.data-*\n",
      "=== STARTING TO PREDICT 4/5: keras/embedded-model-fold3 === \n",
      "1183\n",
      "(458913, 1456)\n",
      "creating classifier, cnn\n"
     ]
    },
    {
     "name": "stderr",
     "output_type": "stream",
     "text": [
      "2022-08-26 08:23:39.511294: I tensorflow/stream_executor/cuda/cuda_gpu_executor.cc:975] successful NUMA node read from SysFS had negative value (-1), but there must be at least one NUMA node, so returning NUMA node zero\n",
      "2022-08-26 08:23:39.514562: I tensorflow/stream_executor/cuda/cuda_gpu_executor.cc:975] successful NUMA node read from SysFS had negative value (-1), but there must be at least one NUMA node, so returning NUMA node zero\n",
      "2022-08-26 08:23:39.515114: I tensorflow/stream_executor/cuda/cuda_gpu_executor.cc:975] successful NUMA node read from SysFS had negative value (-1), but there must be at least one NUMA node, so returning NUMA node zero\n",
      "2022-08-26 08:23:39.515786: I tensorflow/core/platform/cpu_feature_guard.cc:193] This TensorFlow binary is optimized with oneAPI Deep Neural Network Library (oneDNN) to use the following CPU instructions in performance-critical operations:  AVX2 FMA\n",
      "To enable them in other operations, rebuild TensorFlow with the appropriate compiler flags.\n",
      "2022-08-26 08:23:39.516859: I tensorflow/stream_executor/cuda/cuda_gpu_executor.cc:975] successful NUMA node read from SysFS had negative value (-1), but there must be at least one NUMA node, so returning NUMA node zero\n",
      "2022-08-26 08:23:39.517422: I tensorflow/stream_executor/cuda/cuda_gpu_executor.cc:975] successful NUMA node read from SysFS had negative value (-1), but there must be at least one NUMA node, so returning NUMA node zero\n",
      "2022-08-26 08:23:39.517951: I tensorflow/stream_executor/cuda/cuda_gpu_executor.cc:975] successful NUMA node read from SysFS had negative value (-1), but there must be at least one NUMA node, so returning NUMA node zero\n",
      "2022-08-26 08:23:39.784614: I tensorflow/stream_executor/cuda/cuda_gpu_executor.cc:975] successful NUMA node read from SysFS had negative value (-1), but there must be at least one NUMA node, so returning NUMA node zero\n",
      "2022-08-26 08:23:39.785145: I tensorflow/stream_executor/cuda/cuda_gpu_executor.cc:975] successful NUMA node read from SysFS had negative value (-1), but there must be at least one NUMA node, so returning NUMA node zero\n",
      "2022-08-26 08:23:39.785666: I tensorflow/stream_executor/cuda/cuda_gpu_executor.cc:975] successful NUMA node read from SysFS had negative value (-1), but there must be at least one NUMA node, so returning NUMA node zero\n",
      "2022-08-26 08:23:39.786152: I tensorflow/core/common_runtime/gpu/gpu_device.cc:1532] Created device /job:localhost/replica:0/task:0/device:GPU:0 with 22256 MB memory:  -> device: 0, name: NVIDIA GeForce RTX 3090, pci bus id: 0000:2d:00.0, compute capability: 8.6\n"
     ]
    },
    {
     "name": "stdout",
     "output_type": "stream",
     "text": [
      "layers created\n",
      "model created\n"
     ]
    },
    {
     "name": "stderr",
     "output_type": "stream",
     "text": [
      "2022-08-26 08:24:41.885793: I tensorflow/stream_executor/cuda/cuda_dnn.cc:384] Loaded cuDNN version 8100\n"
     ]
    },
    {
     "name": "stdout",
     "output_type": "stream",
     "text": [
      "    5/14342 [..............................] - ETA: 9:20  "
     ]
    },
    {
     "name": "stderr",
     "output_type": "stream",
     "text": [
      "2022-08-26 08:24:42.603627: I tensorflow/stream_executor/cuda/cuda_blas.cc:1786] TensorFloat-32 will be used for the matrix multiplication. This will only be logged once.\n"
     ]
    },
    {
     "name": "stdout",
     "output_type": "stream",
     "text": [
      "14342/14342 [==============================] - 554s 38ms/step\n",
      "=== FINISHED PREDICTION 4/5: [113137.88] === \n",
      "Subprocess exited with code None\n",
      "keras/embedded-model-fold4*.data-*\n",
      "=== STARTING TO PREDICT 5/5: keras/embedded-model-fold4 === \n",
      "1183\n",
      "(458913, 1456)\n",
      "creating classifier, cnn\n"
     ]
    },
    {
     "name": "stderr",
     "output_type": "stream",
     "text": [
      "2022-08-26 08:33:55.683998: I tensorflow/stream_executor/cuda/cuda_gpu_executor.cc:975] successful NUMA node read from SysFS had negative value (-1), but there must be at least one NUMA node, so returning NUMA node zero\n",
      "2022-08-26 08:33:55.687259: I tensorflow/stream_executor/cuda/cuda_gpu_executor.cc:975] successful NUMA node read from SysFS had negative value (-1), but there must be at least one NUMA node, so returning NUMA node zero\n",
      "2022-08-26 08:33:55.687786: I tensorflow/stream_executor/cuda/cuda_gpu_executor.cc:975] successful NUMA node read from SysFS had negative value (-1), but there must be at least one NUMA node, so returning NUMA node zero\n",
      "2022-08-26 08:33:55.688433: I tensorflow/core/platform/cpu_feature_guard.cc:193] This TensorFlow binary is optimized with oneAPI Deep Neural Network Library (oneDNN) to use the following CPU instructions in performance-critical operations:  AVX2 FMA\n",
      "To enable them in other operations, rebuild TensorFlow with the appropriate compiler flags.\n",
      "2022-08-26 08:33:55.689461: I tensorflow/stream_executor/cuda/cuda_gpu_executor.cc:975] successful NUMA node read from SysFS had negative value (-1), but there must be at least one NUMA node, so returning NUMA node zero\n",
      "2022-08-26 08:33:55.690028: I tensorflow/stream_executor/cuda/cuda_gpu_executor.cc:975] successful NUMA node read from SysFS had negative value (-1), but there must be at least one NUMA node, so returning NUMA node zero\n",
      "2022-08-26 08:33:55.690546: I tensorflow/stream_executor/cuda/cuda_gpu_executor.cc:975] successful NUMA node read from SysFS had negative value (-1), but there must be at least one NUMA node, so returning NUMA node zero\n",
      "2022-08-26 08:33:55.960003: I tensorflow/stream_executor/cuda/cuda_gpu_executor.cc:975] successful NUMA node read from SysFS had negative value (-1), but there must be at least one NUMA node, so returning NUMA node zero\n",
      "2022-08-26 08:33:55.960528: I tensorflow/stream_executor/cuda/cuda_gpu_executor.cc:975] successful NUMA node read from SysFS had negative value (-1), but there must be at least one NUMA node, so returning NUMA node zero\n",
      "2022-08-26 08:33:55.961019: I tensorflow/stream_executor/cuda/cuda_gpu_executor.cc:975] successful NUMA node read from SysFS had negative value (-1), but there must be at least one NUMA node, so returning NUMA node zero\n",
      "2022-08-26 08:33:55.961485: I tensorflow/core/common_runtime/gpu/gpu_device.cc:1532] Created device /job:localhost/replica:0/task:0/device:GPU:0 with 22256 MB memory:  -> device: 0, name: NVIDIA GeForce RTX 3090, pci bus id: 0000:2d:00.0, compute capability: 8.6\n"
     ]
    },
    {
     "name": "stdout",
     "output_type": "stream",
     "text": [
      "layers created\n",
      "model created\n"
     ]
    },
    {
     "name": "stderr",
     "output_type": "stream",
     "text": [
      "2022-08-26 08:34:58.095368: I tensorflow/stream_executor/cuda/cuda_dnn.cc:384] Loaded cuDNN version 8100\n"
     ]
    },
    {
     "name": "stdout",
     "output_type": "stream",
     "text": [
      "    5/14342 [..............................] - ETA: 9:43  "
     ]
    },
    {
     "name": "stderr",
     "output_type": "stream",
     "text": [
      "2022-08-26 08:34:58.816898: I tensorflow/stream_executor/cuda/cuda_blas.cc:1786] TensorFloat-32 will be used for the matrix multiplication. This will only be logged once.\n"
     ]
    },
    {
     "name": "stdout",
     "output_type": "stream",
     "text": [
      "14342/14342 [==============================] - 567s 39ms/step\n",
      "=== FINISHED PREDICTION 5/5: [113722.01] === \n",
      "Subprocess exited with code None\n"
     ]
    }
   ],
   "source": [
    "manager = multiprocessing.Manager()\n",
    "process_dict = manager.dict()\n",
    "for idx in range(N_FOLDS):\n",
    "    #todo: remove inner loop\n",
    "    searchpath = f\"keras/embedded-model-fold{idx}*.data-*\"\n",
    "    print(searchpath)\n",
    "    for fl in glob.glob(searchpath):\n",
    "\n",
    "        ending = fl.index(\".\")\n",
    "        filepath = fl[0:ending]\n",
    "        print(f\"=== STARTING TO PREDICT {idx+1}/{N_FOLDS}: {filepath} === \")\n",
    "\n",
    "        X = df_train.drop([\"customer_ID\"], axis=1)\n",
    "        #again, reference df and train df are both X here as this is the training df predicted\n",
    "        p = Process(target=predict_keras, args=(idx, process_dict, X, X, filepath, embeddables, numericals))\n",
    "        p.start()\n",
    "        flag = p.join()\n",
    "        p.close()\n",
    "        print(f\"=== FINISHED PREDICTION {idx+1}/{N_FOLDS}: {sum(process_dict[f'preds-{idx}'])} === \")\n",
    "        print(f\"Subprocess exited with code {flag}\")\n",
    "\n"
   ]
  },
  {
   "cell_type": "code",
   "execution_count": 50,
   "id": "56936328",
   "metadata": {},
   "outputs": [],
   "source": [
    "preds = []\n",
    "for x in range(N_FOLDS):\n",
    "    preds.append(process_dict[f\"preds-{x}\"])"
   ]
  },
  {
   "cell_type": "code",
   "execution_count": 51,
   "id": "41dd50fb",
   "metadata": {},
   "outputs": [
    {
     "data": {
      "text/plain": [
       "array([[0.00070457],\n",
       "       [0.0013388 ],\n",
       "       [0.00194356],\n",
       "       ...,\n",
       "       [0.00249963],\n",
       "       [0.08902572],\n",
       "       [0.00164985]], dtype=float32)"
      ]
     },
     "execution_count": 51,
     "metadata": {},
     "output_type": "execute_result"
    }
   ],
   "source": [
    "preds = sum(preds)/N_FOLDS\n",
    "preds"
   ]
  },
  {
   "cell_type": "code",
   "execution_count": 52,
   "id": "d2b10230",
   "metadata": {},
   "outputs": [
    {
     "data": {
      "text/plain": [
       "0.7845456440460035"
      ]
     },
     "execution_count": 52,
     "metadata": {},
     "output_type": "execute_result"
    }
   ],
   "source": [
    "amex_metric_mod(y, preds[:, 0])   \n"
   ]
  },
  {
   "cell_type": "code",
   "execution_count": 53,
   "id": "27796793",
   "metadata": {},
   "outputs": [],
   "source": [
    "df_preds = pd.DataFrame()\n",
    "df_preds[\"customer_ID\"] = df_train[\"customer_ID\"]\n",
    "df_preds[\"prediction\"] = preds[:, 0]"
   ]
  },
  {
   "cell_type": "code",
   "execution_count": 54,
   "id": "f7f7de39",
   "metadata": {},
   "outputs": [
    {
     "data": {
      "text/html": [
       "<div>\n",
       "<style scoped>\n",
       "    .dataframe tbody tr th:only-of-type {\n",
       "        vertical-align: middle;\n",
       "    }\n",
       "\n",
       "    .dataframe tbody tr th {\n",
       "        vertical-align: top;\n",
       "    }\n",
       "\n",
       "    .dataframe thead th {\n",
       "        text-align: right;\n",
       "    }\n",
       "</style>\n",
       "<table border=\"1\" class=\"dataframe\">\n",
       "  <thead>\n",
       "    <tr style=\"text-align: right;\">\n",
       "      <th></th>\n",
       "      <th>customer_ID</th>\n",
       "      <th>prediction</th>\n",
       "    </tr>\n",
       "  </thead>\n",
       "  <tbody>\n",
       "    <tr>\n",
       "      <th>0</th>\n",
       "      <td>0000099d6bd597052cdcda90ffabf56573fe9d7c79be5f...</td>\n",
       "      <td>0.000705</td>\n",
       "    </tr>\n",
       "    <tr>\n",
       "      <th>1</th>\n",
       "      <td>00000fd6641609c6ece5454664794f0340ad84dddce9a2...</td>\n",
       "      <td>0.001339</td>\n",
       "    </tr>\n",
       "    <tr>\n",
       "      <th>2</th>\n",
       "      <td>00001b22f846c82c51f6e3958ccd81970162bae8b007e8...</td>\n",
       "      <td>0.001944</td>\n",
       "    </tr>\n",
       "    <tr>\n",
       "      <th>3</th>\n",
       "      <td>000041bdba6ecadd89a52d11886e8eaaec9325906c9723...</td>\n",
       "      <td>0.005971</td>\n",
       "    </tr>\n",
       "    <tr>\n",
       "      <th>4</th>\n",
       "      <td>00007889e4fcd2614b6cbe7f8f3d2e5c728eca32d9eb8a...</td>\n",
       "      <td>0.002372</td>\n",
       "    </tr>\n",
       "    <tr>\n",
       "      <th>...</th>\n",
       "      <td>...</td>\n",
       "      <td>...</td>\n",
       "    </tr>\n",
       "    <tr>\n",
       "      <th>458908</th>\n",
       "      <td>ffff41c8a52833b56430603969b9ca48d208e7c192c6a4...</td>\n",
       "      <td>0.002524</td>\n",
       "    </tr>\n",
       "    <tr>\n",
       "      <th>458909</th>\n",
       "      <td>ffff518bb2075e4816ee3fe9f3b152c57fc0e6f01bf7fd...</td>\n",
       "      <td>0.029118</td>\n",
       "    </tr>\n",
       "    <tr>\n",
       "      <th>458910</th>\n",
       "      <td>ffff9984b999fccb2b6127635ed0736dda94e544e67e02...</td>\n",
       "      <td>0.002500</td>\n",
       "    </tr>\n",
       "    <tr>\n",
       "      <th>458911</th>\n",
       "      <td>ffffa5c46bc8de74f5a4554e74e239c8dee6b9baf38814...</td>\n",
       "      <td>0.089026</td>\n",
       "    </tr>\n",
       "    <tr>\n",
       "      <th>458912</th>\n",
       "      <td>fffff1d38b785cef84adeace64f8f83db3a0c31e8d92ea...</td>\n",
       "      <td>0.001650</td>\n",
       "    </tr>\n",
       "  </tbody>\n",
       "</table>\n",
       "<p>458913 rows × 2 columns</p>\n",
       "</div>"
      ],
      "text/plain": [
       "                                              customer_ID  prediction\n",
       "0       0000099d6bd597052cdcda90ffabf56573fe9d7c79be5f...    0.000705\n",
       "1       00000fd6641609c6ece5454664794f0340ad84dddce9a2...    0.001339\n",
       "2       00001b22f846c82c51f6e3958ccd81970162bae8b007e8...    0.001944\n",
       "3       000041bdba6ecadd89a52d11886e8eaaec9325906c9723...    0.005971\n",
       "4       00007889e4fcd2614b6cbe7f8f3d2e5c728eca32d9eb8a...    0.002372\n",
       "...                                                   ...         ...\n",
       "458908  ffff41c8a52833b56430603969b9ca48d208e7c192c6a4...    0.002524\n",
       "458909  ffff518bb2075e4816ee3fe9f3b152c57fc0e6f01bf7fd...    0.029118\n",
       "458910  ffff9984b999fccb2b6127635ed0736dda94e544e67e02...    0.002500\n",
       "458911  ffffa5c46bc8de74f5a4554e74e239c8dee6b9baf38814...    0.089026\n",
       "458912  fffff1d38b785cef84adeace64f8f83db3a0c31e8d92ea...    0.001650\n",
       "\n",
       "[458913 rows x 2 columns]"
      ]
     },
     "execution_count": 54,
     "metadata": {},
     "output_type": "execute_result"
    }
   ],
   "source": [
    "df_preds"
   ]
  },
  {
   "cell_type": "code",
   "execution_count": 55,
   "id": "884e966a",
   "metadata": {},
   "outputs": [],
   "source": [
    "df_preds.to_csv(\"predictions_cnn_embedded.csv\")"
   ]
  },
  {
   "cell_type": "code",
   "execution_count": null,
   "id": "76bf2f40",
   "metadata": {},
   "outputs": [],
   "source": []
  },
  {
   "cell_type": "code",
   "execution_count": null,
   "id": "46b1964b",
   "metadata": {},
   "outputs": [],
   "source": []
  },
  {
   "cell_type": "code",
   "execution_count": 57,
   "id": "6c84057c",
   "metadata": {},
   "outputs": [],
   "source": [
    "#X_test = df_test.drop(\"customer_ID\", axis=1)\n",
    "#X_test_np = X_test.values.reshape (-1, X_test.shape[1], 1)\n",
    "##X_test_np = X_test.values.reshape (-1, 13, 233)\n",
    "#X_test_np.shape"
   ]
  },
  {
   "cell_type": "code",
   "execution_count": 58,
   "id": "1762e011",
   "metadata": {},
   "outputs": [
    {
     "data": {
      "text/plain": [
       "5"
      ]
     },
     "execution_count": 58,
     "metadata": {},
     "output_type": "execute_result"
    }
   ],
   "source": [
    "N_FOLDS"
   ]
  },
  {
   "cell_type": "code",
   "execution_count": 73,
   "id": "c1fc2bb3",
   "metadata": {},
   "outputs": [
    {
     "name": "stdout",
     "output_type": "stream",
     "text": [
      "keras/embedded-model-fold0*.data-*\n",
      "=== STARTING TO PREDICT 1/5: keras/embedded-model-fold0 === \n",
      "1183\n",
      "(924621, 1456)\n",
      "creating classifier, cnn\n"
     ]
    },
    {
     "name": "stderr",
     "output_type": "stream",
     "text": [
      "2022-08-26 11:06:03.372089: I tensorflow/stream_executor/cuda/cuda_gpu_executor.cc:975] successful NUMA node read from SysFS had negative value (-1), but there must be at least one NUMA node, so returning NUMA node zero\n",
      "2022-08-26 11:06:03.375586: I tensorflow/stream_executor/cuda/cuda_gpu_executor.cc:975] successful NUMA node read from SysFS had negative value (-1), but there must be at least one NUMA node, so returning NUMA node zero\n",
      "2022-08-26 11:06:03.376158: I tensorflow/stream_executor/cuda/cuda_gpu_executor.cc:975] successful NUMA node read from SysFS had negative value (-1), but there must be at least one NUMA node, so returning NUMA node zero\n",
      "2022-08-26 11:06:03.376794: I tensorflow/core/platform/cpu_feature_guard.cc:193] This TensorFlow binary is optimized with oneAPI Deep Neural Network Library (oneDNN) to use the following CPU instructions in performance-critical operations:  AVX2 FMA\n",
      "To enable them in other operations, rebuild TensorFlow with the appropriate compiler flags.\n",
      "2022-08-26 11:06:03.377806: I tensorflow/stream_executor/cuda/cuda_gpu_executor.cc:975] successful NUMA node read from SysFS had negative value (-1), but there must be at least one NUMA node, so returning NUMA node zero\n",
      "2022-08-26 11:06:03.378520: I tensorflow/stream_executor/cuda/cuda_gpu_executor.cc:975] successful NUMA node read from SysFS had negative value (-1), but there must be at least one NUMA node, so returning NUMA node zero\n",
      "2022-08-26 11:06:03.379277: I tensorflow/stream_executor/cuda/cuda_gpu_executor.cc:975] successful NUMA node read from SysFS had negative value (-1), but there must be at least one NUMA node, so returning NUMA node zero\n",
      "2022-08-26 11:06:03.652859: I tensorflow/stream_executor/cuda/cuda_gpu_executor.cc:975] successful NUMA node read from SysFS had negative value (-1), but there must be at least one NUMA node, so returning NUMA node zero\n",
      "2022-08-26 11:06:03.653383: I tensorflow/stream_executor/cuda/cuda_gpu_executor.cc:975] successful NUMA node read from SysFS had negative value (-1), but there must be at least one NUMA node, so returning NUMA node zero\n",
      "2022-08-26 11:06:03.653870: I tensorflow/stream_executor/cuda/cuda_gpu_executor.cc:975] successful NUMA node read from SysFS had negative value (-1), but there must be at least one NUMA node, so returning NUMA node zero\n",
      "2022-08-26 11:06:03.654352: I tensorflow/core/common_runtime/gpu/gpu_device.cc:1532] Created device /job:localhost/replica:0/task:0/device:GPU:0 with 22258 MB memory:  -> device: 0, name: NVIDIA GeForce RTX 3090, pci bus id: 0000:2d:00.0, compute capability: 8.6\n"
     ]
    },
    {
     "name": "stdout",
     "output_type": "stream",
     "text": [
      "layers created\n",
      "model created\n"
     ]
    },
    {
     "name": "stderr",
     "output_type": "stream",
     "text": [
      "2022-08-26 11:06:58.629359: W tensorflow/core/framework/cpu_allocator_impl.cc:82] Allocation of 5384992704 exceeds 10% of free system memory.\n",
      "2022-08-26 11:07:01.509382: W tensorflow/core/framework/cpu_allocator_impl.cc:82] Allocation of 5384992704 exceeds 10% of free system memory.\n",
      "2022-08-26 11:07:09.723709: I tensorflow/stream_executor/cuda/cuda_dnn.cc:384] Loaded cuDNN version 8100\n"
     ]
    },
    {
     "name": "stdout",
     "output_type": "stream",
     "text": [
      "    5/28895 [..............................] - ETA: 19:44  "
     ]
    },
    {
     "name": "stderr",
     "output_type": "stream",
     "text": [
      "2022-08-26 11:07:10.435140: I tensorflow/stream_executor/cuda/cuda_blas.cc:1786] TensorFloat-32 will be used for the matrix multiplication. This will only be logged once.\n"
     ]
    },
    {
     "name": "stdout",
     "output_type": "stream",
     "text": [
      "28895/28895 [==============================] - 1140s 39ms/step\n",
      "=== FINISHED PREDICTION 1/5: [228016.16] === \n",
      "Subprocess exited with code None\n",
      "keras/embedded-model-fold1*.data-*\n",
      "=== STARTING TO PREDICT 2/5: keras/embedded-model-fold1 === \n",
      "1183\n",
      "(924621, 1456)\n",
      "creating classifier, cnn\n"
     ]
    },
    {
     "name": "stderr",
     "output_type": "stream",
     "text": [
      "2022-08-26 11:26:13.768729: I tensorflow/stream_executor/cuda/cuda_gpu_executor.cc:975] successful NUMA node read from SysFS had negative value (-1), but there must be at least one NUMA node, so returning NUMA node zero\n",
      "2022-08-26 11:26:13.774820: I tensorflow/stream_executor/cuda/cuda_gpu_executor.cc:975] successful NUMA node read from SysFS had negative value (-1), but there must be at least one NUMA node, so returning NUMA node zero\n",
      "2022-08-26 11:26:13.775355: I tensorflow/stream_executor/cuda/cuda_gpu_executor.cc:975] successful NUMA node read from SysFS had negative value (-1), but there must be at least one NUMA node, so returning NUMA node zero\n",
      "2022-08-26 11:26:13.776008: I tensorflow/core/platform/cpu_feature_guard.cc:193] This TensorFlow binary is optimized with oneAPI Deep Neural Network Library (oneDNN) to use the following CPU instructions in performance-critical operations:  AVX2 FMA\n",
      "To enable them in other operations, rebuild TensorFlow with the appropriate compiler flags.\n",
      "2022-08-26 11:26:13.777061: I tensorflow/stream_executor/cuda/cuda_gpu_executor.cc:975] successful NUMA node read from SysFS had negative value (-1), but there must be at least one NUMA node, so returning NUMA node zero\n",
      "2022-08-26 11:26:13.777625: I tensorflow/stream_executor/cuda/cuda_gpu_executor.cc:975] successful NUMA node read from SysFS had negative value (-1), but there must be at least one NUMA node, so returning NUMA node zero\n",
      "2022-08-26 11:26:13.778157: I tensorflow/stream_executor/cuda/cuda_gpu_executor.cc:975] successful NUMA node read from SysFS had negative value (-1), but there must be at least one NUMA node, so returning NUMA node zero\n",
      "2022-08-26 11:26:14.045131: I tensorflow/stream_executor/cuda/cuda_gpu_executor.cc:975] successful NUMA node read from SysFS had negative value (-1), but there must be at least one NUMA node, so returning NUMA node zero\n",
      "2022-08-26 11:26:14.045646: I tensorflow/stream_executor/cuda/cuda_gpu_executor.cc:975] successful NUMA node read from SysFS had negative value (-1), but there must be at least one NUMA node, so returning NUMA node zero\n",
      "2022-08-26 11:26:14.046148: I tensorflow/stream_executor/cuda/cuda_gpu_executor.cc:975] successful NUMA node read from SysFS had negative value (-1), but there must be at least one NUMA node, so returning NUMA node zero\n",
      "2022-08-26 11:26:14.046620: I tensorflow/core/common_runtime/gpu/gpu_device.cc:1532] Created device /job:localhost/replica:0/task:0/device:GPU:0 with 22258 MB memory:  -> device: 0, name: NVIDIA GeForce RTX 3090, pci bus id: 0000:2d:00.0, compute capability: 8.6\n"
     ]
    },
    {
     "name": "stdout",
     "output_type": "stream",
     "text": [
      "layers created\n",
      "model created\n"
     ]
    },
    {
     "name": "stderr",
     "output_type": "stream",
     "text": [
      "2022-08-26 11:27:07.660163: W tensorflow/core/framework/cpu_allocator_impl.cc:82] Allocation of 5384992704 exceeds 10% of free system memory.\n",
      "2022-08-26 11:27:10.508952: W tensorflow/core/framework/cpu_allocator_impl.cc:82] Allocation of 5384992704 exceeds 10% of free system memory.\n",
      "2022-08-26 11:27:18.515547: I tensorflow/stream_executor/cuda/cuda_dnn.cc:384] Loaded cuDNN version 8100\n"
     ]
    },
    {
     "name": "stdout",
     "output_type": "stream",
     "text": [
      "    5/28895 [..............................] - ETA: 19:21  "
     ]
    },
    {
     "name": "stderr",
     "output_type": "stream",
     "text": [
      "2022-08-26 11:27:19.228190: I tensorflow/stream_executor/cuda/cuda_blas.cc:1786] TensorFloat-32 will be used for the matrix multiplication. This will only be logged once.\n"
     ]
    },
    {
     "name": "stdout",
     "output_type": "stream",
     "text": [
      "28895/28895 [==============================] - 1142s 39ms/step\n",
      "=== FINISHED PREDICTION 2/5: [213903.25] === \n",
      "Subprocess exited with code None\n",
      "keras/embedded-model-fold2*.data-*\n",
      "=== STARTING TO PREDICT 3/5: keras/embedded-model-fold2 === \n",
      "1183\n",
      "(924621, 1456)\n",
      "creating classifier, cnn\n"
     ]
    },
    {
     "name": "stderr",
     "output_type": "stream",
     "text": [
      "2022-08-26 11:46:24.626404: I tensorflow/stream_executor/cuda/cuda_gpu_executor.cc:975] successful NUMA node read from SysFS had negative value (-1), but there must be at least one NUMA node, so returning NUMA node zero\n",
      "2022-08-26 11:46:24.629639: I tensorflow/stream_executor/cuda/cuda_gpu_executor.cc:975] successful NUMA node read from SysFS had negative value (-1), but there must be at least one NUMA node, so returning NUMA node zero\n",
      "2022-08-26 11:46:24.630173: I tensorflow/stream_executor/cuda/cuda_gpu_executor.cc:975] successful NUMA node read from SysFS had negative value (-1), but there must be at least one NUMA node, so returning NUMA node zero\n",
      "2022-08-26 11:46:24.630811: I tensorflow/core/platform/cpu_feature_guard.cc:193] This TensorFlow binary is optimized with oneAPI Deep Neural Network Library (oneDNN) to use the following CPU instructions in performance-critical operations:  AVX2 FMA\n",
      "To enable them in other operations, rebuild TensorFlow with the appropriate compiler flags.\n",
      "2022-08-26 11:46:24.631823: I tensorflow/stream_executor/cuda/cuda_gpu_executor.cc:975] successful NUMA node read from SysFS had negative value (-1), but there must be at least one NUMA node, so returning NUMA node zero\n",
      "2022-08-26 11:46:24.632378: I tensorflow/stream_executor/cuda/cuda_gpu_executor.cc:975] successful NUMA node read from SysFS had negative value (-1), but there must be at least one NUMA node, so returning NUMA node zero\n",
      "2022-08-26 11:46:24.632881: I tensorflow/stream_executor/cuda/cuda_gpu_executor.cc:975] successful NUMA node read from SysFS had negative value (-1), but there must be at least one NUMA node, so returning NUMA node zero\n",
      "2022-08-26 11:46:24.895210: I tensorflow/stream_executor/cuda/cuda_gpu_executor.cc:975] successful NUMA node read from SysFS had negative value (-1), but there must be at least one NUMA node, so returning NUMA node zero\n",
      "2022-08-26 11:46:24.895721: I tensorflow/stream_executor/cuda/cuda_gpu_executor.cc:975] successful NUMA node read from SysFS had negative value (-1), but there must be at least one NUMA node, so returning NUMA node zero\n",
      "2022-08-26 11:46:24.896194: I tensorflow/stream_executor/cuda/cuda_gpu_executor.cc:975] successful NUMA node read from SysFS had negative value (-1), but there must be at least one NUMA node, so returning NUMA node zero\n",
      "2022-08-26 11:46:24.896651: I tensorflow/core/common_runtime/gpu/gpu_device.cc:1532] Created device /job:localhost/replica:0/task:0/device:GPU:0 with 22256 MB memory:  -> device: 0, name: NVIDIA GeForce RTX 3090, pci bus id: 0000:2d:00.0, compute capability: 8.6\n"
     ]
    },
    {
     "name": "stdout",
     "output_type": "stream",
     "text": [
      "layers created\n",
      "model created\n"
     ]
    },
    {
     "name": "stderr",
     "output_type": "stream",
     "text": [
      "2022-08-26 11:47:18.489178: W tensorflow/core/framework/cpu_allocator_impl.cc:82] Allocation of 5384992704 exceeds 10% of free system memory.\n",
      "2022-08-26 11:47:21.352041: W tensorflow/core/framework/cpu_allocator_impl.cc:82] Allocation of 5384992704 exceeds 10% of free system memory.\n",
      "2022-08-26 11:47:29.427240: I tensorflow/stream_executor/cuda/cuda_dnn.cc:384] Loaded cuDNN version 8100\n"
     ]
    },
    {
     "name": "stdout",
     "output_type": "stream",
     "text": [
      "    5/28895 [..............................] - ETA: 18:38  "
     ]
    },
    {
     "name": "stderr",
     "output_type": "stream",
     "text": [
      "2022-08-26 11:47:30.158290: I tensorflow/stream_executor/cuda/cuda_blas.cc:1786] TensorFloat-32 will be used for the matrix multiplication. This will only be logged once.\n"
     ]
    },
    {
     "name": "stdout",
     "output_type": "stream",
     "text": [
      "28895/28895 [==============================] - 1143s 39ms/step\n",
      "=== FINISHED PREDICTION 3/5: [213757.92] === \n",
      "Subprocess exited with code None\n",
      "keras/embedded-model-fold3*.data-*\n",
      "=== STARTING TO PREDICT 4/5: keras/embedded-model-fold3 === \n",
      "1183\n",
      "(924621, 1456)\n",
      "creating classifier, cnn\n"
     ]
    },
    {
     "name": "stderr",
     "output_type": "stream",
     "text": [
      "2022-08-26 12:06:36.420712: I tensorflow/stream_executor/cuda/cuda_gpu_executor.cc:975] successful NUMA node read from SysFS had negative value (-1), but there must be at least one NUMA node, so returning NUMA node zero\n",
      "2022-08-26 12:06:36.423933: I tensorflow/stream_executor/cuda/cuda_gpu_executor.cc:975] successful NUMA node read from SysFS had negative value (-1), but there must be at least one NUMA node, so returning NUMA node zero\n",
      "2022-08-26 12:06:36.424475: I tensorflow/stream_executor/cuda/cuda_gpu_executor.cc:975] successful NUMA node read from SysFS had negative value (-1), but there must be at least one NUMA node, so returning NUMA node zero\n",
      "2022-08-26 12:06:36.425120: I tensorflow/core/platform/cpu_feature_guard.cc:193] This TensorFlow binary is optimized with oneAPI Deep Neural Network Library (oneDNN) to use the following CPU instructions in performance-critical operations:  AVX2 FMA\n",
      "To enable them in other operations, rebuild TensorFlow with the appropriate compiler flags.\n",
      "2022-08-26 12:06:36.426173: I tensorflow/stream_executor/cuda/cuda_gpu_executor.cc:975] successful NUMA node read from SysFS had negative value (-1), but there must be at least one NUMA node, so returning NUMA node zero\n",
      "2022-08-26 12:06:36.426837: I tensorflow/stream_executor/cuda/cuda_gpu_executor.cc:975] successful NUMA node read from SysFS had negative value (-1), but there must be at least one NUMA node, so returning NUMA node zero\n",
      "2022-08-26 12:06:36.427450: I tensorflow/stream_executor/cuda/cuda_gpu_executor.cc:975] successful NUMA node read from SysFS had negative value (-1), but there must be at least one NUMA node, so returning NUMA node zero\n",
      "2022-08-26 12:06:36.701174: I tensorflow/stream_executor/cuda/cuda_gpu_executor.cc:975] successful NUMA node read from SysFS had negative value (-1), but there must be at least one NUMA node, so returning NUMA node zero\n",
      "2022-08-26 12:06:36.701682: I tensorflow/stream_executor/cuda/cuda_gpu_executor.cc:975] successful NUMA node read from SysFS had negative value (-1), but there must be at least one NUMA node, so returning NUMA node zero\n",
      "2022-08-26 12:06:36.702190: I tensorflow/stream_executor/cuda/cuda_gpu_executor.cc:975] successful NUMA node read from SysFS had negative value (-1), but there must be at least one NUMA node, so returning NUMA node zero\n",
      "2022-08-26 12:06:36.702652: I tensorflow/core/common_runtime/gpu/gpu_device.cc:1532] Created device /job:localhost/replica:0/task:0/device:GPU:0 with 22256 MB memory:  -> device: 0, name: NVIDIA GeForce RTX 3090, pci bus id: 0000:2d:00.0, compute capability: 8.6\n"
     ]
    },
    {
     "name": "stdout",
     "output_type": "stream",
     "text": [
      "layers created\n",
      "model created\n"
     ]
    },
    {
     "name": "stderr",
     "output_type": "stream",
     "text": [
      "2022-08-26 12:07:30.185837: W tensorflow/core/framework/cpu_allocator_impl.cc:82] Allocation of 5384992704 exceeds 10% of free system memory.\n",
      "2022-08-26 12:07:33.039616: W tensorflow/core/framework/cpu_allocator_impl.cc:82] Allocation of 5384992704 exceeds 10% of free system memory.\n",
      "2022-08-26 12:07:41.027646: I tensorflow/stream_executor/cuda/cuda_dnn.cc:384] Loaded cuDNN version 8100\n"
     ]
    },
    {
     "name": "stdout",
     "output_type": "stream",
     "text": [
      "    5/28895 [..............................] - ETA: 19:13  "
     ]
    },
    {
     "name": "stderr",
     "output_type": "stream",
     "text": [
      "2022-08-26 12:07:41.751952: I tensorflow/stream_executor/cuda/cuda_blas.cc:1786] TensorFloat-32 will be used for the matrix multiplication. This will only be logged once.\n"
     ]
    },
    {
     "name": "stdout",
     "output_type": "stream",
     "text": [
      "28895/28895 [==============================] - 1117s 38ms/step\n",
      "=== FINISHED PREDICTION 4/5: [220409.12] === \n",
      "Subprocess exited with code None\n",
      "keras/embedded-model-fold4*.data-*\n",
      "=== STARTING TO PREDICT 5/5: keras/embedded-model-fold4 === \n",
      "1183\n",
      "(924621, 1456)\n",
      "creating classifier, cnn\n"
     ]
    },
    {
     "name": "stderr",
     "output_type": "stream",
     "text": [
      "2022-08-26 12:26:22.050008: I tensorflow/stream_executor/cuda/cuda_gpu_executor.cc:975] successful NUMA node read from SysFS had negative value (-1), but there must be at least one NUMA node, so returning NUMA node zero\n",
      "2022-08-26 12:26:22.053644: I tensorflow/stream_executor/cuda/cuda_gpu_executor.cc:975] successful NUMA node read from SysFS had negative value (-1), but there must be at least one NUMA node, so returning NUMA node zero\n",
      "2022-08-26 12:26:22.054177: I tensorflow/stream_executor/cuda/cuda_gpu_executor.cc:975] successful NUMA node read from SysFS had negative value (-1), but there must be at least one NUMA node, so returning NUMA node zero\n",
      "2022-08-26 12:26:22.054821: I tensorflow/core/platform/cpu_feature_guard.cc:193] This TensorFlow binary is optimized with oneAPI Deep Neural Network Library (oneDNN) to use the following CPU instructions in performance-critical operations:  AVX2 FMA\n",
      "To enable them in other operations, rebuild TensorFlow with the appropriate compiler flags.\n",
      "2022-08-26 12:26:22.055892: I tensorflow/stream_executor/cuda/cuda_gpu_executor.cc:975] successful NUMA node read from SysFS had negative value (-1), but there must be at least one NUMA node, so returning NUMA node zero\n",
      "2022-08-26 12:26:22.056462: I tensorflow/stream_executor/cuda/cuda_gpu_executor.cc:975] successful NUMA node read from SysFS had negative value (-1), but there must be at least one NUMA node, so returning NUMA node zero\n",
      "2022-08-26 12:26:22.056966: I tensorflow/stream_executor/cuda/cuda_gpu_executor.cc:975] successful NUMA node read from SysFS had negative value (-1), but there must be at least one NUMA node, so returning NUMA node zero\n",
      "2022-08-26 12:26:22.324628: I tensorflow/stream_executor/cuda/cuda_gpu_executor.cc:975] successful NUMA node read from SysFS had negative value (-1), but there must be at least one NUMA node, so returning NUMA node zero\n",
      "2022-08-26 12:26:22.325135: I tensorflow/stream_executor/cuda/cuda_gpu_executor.cc:975] successful NUMA node read from SysFS had negative value (-1), but there must be at least one NUMA node, so returning NUMA node zero\n",
      "2022-08-26 12:26:22.325607: I tensorflow/stream_executor/cuda/cuda_gpu_executor.cc:975] successful NUMA node read from SysFS had negative value (-1), but there must be at least one NUMA node, so returning NUMA node zero\n",
      "2022-08-26 12:26:22.326067: I tensorflow/core/common_runtime/gpu/gpu_device.cc:1532] Created device /job:localhost/replica:0/task:0/device:GPU:0 with 22258 MB memory:  -> device: 0, name: NVIDIA GeForce RTX 3090, pci bus id: 0000:2d:00.0, compute capability: 8.6\n"
     ]
    },
    {
     "name": "stdout",
     "output_type": "stream",
     "text": [
      "layers created\n",
      "model created\n"
     ]
    },
    {
     "name": "stderr",
     "output_type": "stream",
     "text": [
      "2022-08-26 12:27:15.800073: W tensorflow/core/framework/cpu_allocator_impl.cc:82] Allocation of 5384992704 exceeds 10% of free system memory.\n",
      "2022-08-26 12:27:18.656416: W tensorflow/core/framework/cpu_allocator_impl.cc:82] Allocation of 5384992704 exceeds 10% of free system memory.\n",
      "2022-08-26 12:27:26.677417: I tensorflow/stream_executor/cuda/cuda_dnn.cc:384] Loaded cuDNN version 8100\n"
     ]
    },
    {
     "name": "stdout",
     "output_type": "stream",
     "text": [
      "    5/28895 [..............................] - ETA: 20:58  "
     ]
    },
    {
     "name": "stderr",
     "output_type": "stream",
     "text": [
      "2022-08-26 12:27:27.394157: I tensorflow/stream_executor/cuda/cuda_blas.cc:1786] TensorFloat-32 will be used for the matrix multiplication. This will only be logged once.\n"
     ]
    },
    {
     "name": "stdout",
     "output_type": "stream",
     "text": [
      "28895/28895 [==============================] - 1143s 39ms/step\n",
      "=== FINISHED PREDICTION 5/5: [215183.5] === \n",
      "Subprocess exited with code None\n"
     ]
    }
   ],
   "source": [
    "manager = multiprocessing.Manager()\n",
    "process_dict = manager.dict()\n",
    "for idx in range(N_FOLDS):\n",
    "    #todo: remove inner loop\n",
    "    searchpath = f\"keras/embedded-model-fold{idx}*.data-*\"\n",
    "    print(searchpath)\n",
    "    for fl in glob.glob(searchpath):\n",
    "\n",
    "        ending = fl.index(\".\")\n",
    "        filepath = fl[0:ending]\n",
    "        print(f\"=== STARTING TO PREDICT {idx+1}/{N_FOLDS}: {filepath} === \")\n",
    "\n",
    "        X = df_test.drop([\"customer_ID\"], axis=1)\n",
    "        X_ref = df_train.drop([\"customer_ID\"], axis=1)\n",
    "        p = Process(target=predict_keras, args=(idx, process_dict, X_ref, X, filepath, embeddables, numericals))\n",
    "#        p = Process(target=predict_keras, args=(idx, process_dict, X_test_np, filepath))\n",
    "        p.start()\n",
    "        flag = p.join()\n",
    "        p.close()\n",
    "        print(f\"=== FINISHED PREDICTION {idx+1}/{N_FOLDS}: {sum(process_dict[f'preds-{idx}'])} === \")\n",
    "        print(f\"Subprocess exited with code {flag}\")\n"
   ]
  },
  {
   "cell_type": "code",
   "execution_count": 74,
   "id": "5b6e610f",
   "metadata": {},
   "outputs": [
    {
     "data": {
      "text/plain": [
       "array([213757.92], dtype=float32)"
      ]
     },
     "execution_count": 74,
     "metadata": {},
     "output_type": "execute_result"
    }
   ],
   "source": [
    "sum(process_dict[\"preds-2\"])"
   ]
  },
  {
   "cell_type": "code",
   "execution_count": 75,
   "id": "1c5e8b2a",
   "metadata": {},
   "outputs": [],
   "source": [
    "preds = []\n",
    "for x in range(N_FOLDS):\n",
    "    preds.append(process_dict[f\"preds-{x}\"])"
   ]
  },
  {
   "cell_type": "code",
   "execution_count": 76,
   "id": "f5fbbe5c",
   "metadata": {},
   "outputs": [
    {
     "data": {
      "text/plain": [
       "(924621, 1)"
      ]
     },
     "execution_count": 76,
     "metadata": {},
     "output_type": "execute_result"
    }
   ],
   "source": [
    "process_dict[\"preds-0\"].shape"
   ]
  },
  {
   "cell_type": "code",
   "execution_count": 77,
   "id": "c382288b",
   "metadata": {},
   "outputs": [
    {
     "data": {
      "text/plain": [
       "array([[0.02850733],\n",
       "       [0.00109833],\n",
       "       [0.07285783],\n",
       "       ...,\n",
       "       [0.60344857],\n",
       "       [0.44189662],\n",
       "       [0.03884048]], dtype=float32)"
      ]
     },
     "execution_count": 77,
     "metadata": {},
     "output_type": "execute_result"
    }
   ],
   "source": [
    "preds = sum(preds)/N_FOLDS\n",
    "preds"
   ]
  },
  {
   "cell_type": "code",
   "execution_count": 78,
   "id": "50b90b79",
   "metadata": {},
   "outputs": [
    {
     "data": {
      "text/plain": [
       "(924621, 2640)"
      ]
     },
     "execution_count": 78,
     "metadata": {},
     "output_type": "execute_result"
    }
   ],
   "source": [
    "df_test.shape"
   ]
  },
  {
   "cell_type": "code",
   "execution_count": 79,
   "id": "8b54d271",
   "metadata": {},
   "outputs": [
    {
     "data": {
      "text/plain": [
       "924621"
      ]
     },
     "execution_count": 79,
     "metadata": {},
     "output_type": "execute_result"
    }
   ],
   "source": [
    "len(preds)"
   ]
  },
  {
   "cell_type": "code",
   "execution_count": 80,
   "id": "85797ca4",
   "metadata": {},
   "outputs": [
    {
     "data": {
      "text/html": [
       "<div>\n",
       "<style scoped>\n",
       "    .dataframe tbody tr th:only-of-type {\n",
       "        vertical-align: middle;\n",
       "    }\n",
       "\n",
       "    .dataframe tbody tr th {\n",
       "        vertical-align: top;\n",
       "    }\n",
       "\n",
       "    .dataframe thead th {\n",
       "        text-align: right;\n",
       "    }\n",
       "</style>\n",
       "<table border=\"1\" class=\"dataframe\">\n",
       "  <thead>\n",
       "    <tr style=\"text-align: right;\">\n",
       "      <th></th>\n",
       "      <th>customer_ID</th>\n",
       "      <th>prediction</th>\n",
       "    </tr>\n",
       "  </thead>\n",
       "  <tbody>\n",
       "    <tr>\n",
       "      <th>0</th>\n",
       "      <td>00000469ba478561f23a92a868bd366de6f6527a684c9a...</td>\n",
       "      <td>0.028507</td>\n",
       "    </tr>\n",
       "    <tr>\n",
       "      <th>1</th>\n",
       "      <td>00001bf2e77ff879fab36aa4fac689b9ba411dae63ae39...</td>\n",
       "      <td>0.001098</td>\n",
       "    </tr>\n",
       "    <tr>\n",
       "      <th>2</th>\n",
       "      <td>0000210045da4f81e5f122c6bde5c2a617d03eef67f82c...</td>\n",
       "      <td>0.072858</td>\n",
       "    </tr>\n",
       "    <tr>\n",
       "      <th>3</th>\n",
       "      <td>00003b41e58ede33b8daf61ab56d9952f17c9ad1c3976c...</td>\n",
       "      <td>0.243074</td>\n",
       "    </tr>\n",
       "    <tr>\n",
       "      <th>4</th>\n",
       "      <td>00004b22eaeeeb0ec976890c1d9bfc14fd9427e98c4ee9...</td>\n",
       "      <td>0.832472</td>\n",
       "    </tr>\n",
       "    <tr>\n",
       "      <th>...</th>\n",
       "      <td>...</td>\n",
       "      <td>...</td>\n",
       "    </tr>\n",
       "    <tr>\n",
       "      <th>924616</th>\n",
       "      <td>ffff952c631f2c911b8a2a8ca56ea6e656309a83d2f64c...</td>\n",
       "      <td>0.006105</td>\n",
       "    </tr>\n",
       "    <tr>\n",
       "      <th>924617</th>\n",
       "      <td>ffffcf5df59e5e0bba2a5ac4578a34e2b5aa64a1546cd3...</td>\n",
       "      <td>0.641984</td>\n",
       "    </tr>\n",
       "    <tr>\n",
       "      <th>924618</th>\n",
       "      <td>ffffd61f098cc056dbd7d2a21380c4804bbfe60856f475...</td>\n",
       "      <td>0.603449</td>\n",
       "    </tr>\n",
       "    <tr>\n",
       "      <th>924619</th>\n",
       "      <td>ffffddef1fc3643ea179c93245b68dca0f36941cd83977...</td>\n",
       "      <td>0.441897</td>\n",
       "    </tr>\n",
       "    <tr>\n",
       "      <th>924620</th>\n",
       "      <td>fffffa7cf7e453e1acc6a1426475d5cb9400859f82ff61...</td>\n",
       "      <td>0.038840</td>\n",
       "    </tr>\n",
       "  </tbody>\n",
       "</table>\n",
       "<p>924621 rows × 2 columns</p>\n",
       "</div>"
      ],
      "text/plain": [
       "                                              customer_ID  prediction\n",
       "0       00000469ba478561f23a92a868bd366de6f6527a684c9a...    0.028507\n",
       "1       00001bf2e77ff879fab36aa4fac689b9ba411dae63ae39...    0.001098\n",
       "2       0000210045da4f81e5f122c6bde5c2a617d03eef67f82c...    0.072858\n",
       "3       00003b41e58ede33b8daf61ab56d9952f17c9ad1c3976c...    0.243074\n",
       "4       00004b22eaeeeb0ec976890c1d9bfc14fd9427e98c4ee9...    0.832472\n",
       "...                                                   ...         ...\n",
       "924616  ffff952c631f2c911b8a2a8ca56ea6e656309a83d2f64c...    0.006105\n",
       "924617  ffffcf5df59e5e0bba2a5ac4578a34e2b5aa64a1546cd3...    0.641984\n",
       "924618  ffffd61f098cc056dbd7d2a21380c4804bbfe60856f475...    0.603449\n",
       "924619  ffffddef1fc3643ea179c93245b68dca0f36941cd83977...    0.441897\n",
       "924620  fffffa7cf7e453e1acc6a1426475d5cb9400859f82ff61...    0.038840\n",
       "\n",
       "[924621 rows x 2 columns]"
      ]
     },
     "execution_count": 80,
     "metadata": {},
     "output_type": "execute_result"
    }
   ],
   "source": [
    "submission = pd.DataFrame()\n",
    "submission[\"customer_ID\"] = df_test[\"customer_ID\"]\n",
    "submission[\"prediction\"] = preds\n",
    "submission"
   ]
  },
  {
   "cell_type": "code",
   "execution_count": 81,
   "id": "8f00bf8b",
   "metadata": {},
   "outputs": [],
   "source": [
    "submission.to_csv(\"submission_cnn_embedded.csv\", index=False)"
   ]
  },
  {
   "cell_type": "code",
   "execution_count": null,
   "id": "d6b84fe8",
   "metadata": {},
   "outputs": [],
   "source": []
  },
  {
   "cell_type": "code",
   "execution_count": null,
   "id": "d78b9816",
   "metadata": {},
   "outputs": [],
   "source": []
  },
  {
   "cell_type": "code",
   "execution_count": null,
   "id": "61f15dad",
   "metadata": {},
   "outputs": [],
   "source": []
  },
  {
   "cell_type": "code",
   "execution_count": null,
   "id": "4a91fe34",
   "metadata": {},
   "outputs": [],
   "source": []
  },
  {
   "cell_type": "code",
   "execution_count": null,
   "id": "52379539",
   "metadata": {},
   "outputs": [],
   "source": []
  },
  {
   "cell_type": "code",
   "execution_count": null,
   "id": "956bd114",
   "metadata": {},
   "outputs": [],
   "source": []
  },
  {
   "cell_type": "code",
   "execution_count": null,
   "id": "2ee28eaa",
   "metadata": {},
   "outputs": [],
   "source": []
  },
  {
   "cell_type": "code",
   "execution_count": null,
   "id": "cf0a6ff1",
   "metadata": {},
   "outputs": [],
   "source": []
  },
  {
   "cell_type": "code",
   "execution_count": null,
   "id": "334f910b",
   "metadata": {},
   "outputs": [],
   "source": []
  },
  {
   "cell_type": "code",
   "execution_count": null,
   "id": "5a08d841",
   "metadata": {},
   "outputs": [],
   "source": []
  },
  {
   "cell_type": "code",
   "execution_count": null,
   "id": "6fc4be22",
   "metadata": {},
   "outputs": [],
   "source": []
  },
  {
   "cell_type": "code",
   "execution_count": null,
   "id": "3e2f2680",
   "metadata": {},
   "outputs": [],
   "source": []
  },
  {
   "cell_type": "code",
   "execution_count": null,
   "id": "5b93fdf6",
   "metadata": {},
   "outputs": [],
   "source": []
  },
  {
   "cell_type": "code",
   "execution_count": null,
   "id": "44b0f8ec",
   "metadata": {},
   "outputs": [],
   "source": []
  },
  {
   "cell_type": "code",
   "execution_count": null,
   "id": "9ac4dcbd",
   "metadata": {},
   "outputs": [],
   "source": []
  }
 ],
 "metadata": {
  "kernelspec": {
   "display_name": "Python 3 (ipykernel)",
   "language": "python",
   "name": "python3"
  },
  "language_info": {
   "codemirror_mode": {
    "name": "ipython",
    "version": 3
   },
   "file_extension": ".py",
   "mimetype": "text/x-python",
   "name": "python",
   "nbconvert_exporter": "python",
   "pygments_lexer": "ipython3",
   "version": "3.8.10"
  }
 },
 "nbformat": 4,
 "nbformat_minor": 5
}

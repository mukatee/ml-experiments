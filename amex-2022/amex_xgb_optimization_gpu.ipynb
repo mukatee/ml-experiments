{
 "cells": [
  {
   "cell_type": "markdown",
   "id": "2656498b",
   "metadata": {},
   "source": [
    "# XGB GPU Optuna Optimizer\n",
    "\n",
    "## For Kaggle AMEX default prediction competition data\n",
    "\n",
    "https://www.kaggle.com/competitions/amex-default-prediction/data\n",
    "\n",
    "This competition had some random looking data where no information on columns was given. The notebook is mainly to allow me to copy it for use in Logreg optimization in other tabular data cases.\n",
    "\n",
    "This assumes XGB (xgboost) and various other Python libraries are installed. And GPU configured. I used a Docker image and Pipfile with all these installed.\n"
   ]
  },
  {
   "cell_type": "code",
   "execution_count": 1,
   "id": "9cf2f441",
   "metadata": {},
   "outputs": [],
   "source": [
    "#!pip install xgboost"
   ]
  },
  {
   "cell_type": "code",
   "execution_count": 1,
   "id": "1bd51f61",
   "metadata": {},
   "outputs": [],
   "source": [
    "import pandas as pd\n",
    "import numpy as np\n",
    "\n",
    "import optuna  # pip install optuna\n",
    "from sklearn.metrics import log_loss\n",
    "from sklearn.metrics import accuracy_score\n",
    "from sklearn.model_selection import StratifiedKFold\n",
    "from sklearn.model_selection import train_test_split\n",
    "import xgboost as xgb\n",
    "from tqdm import tqdm\n",
    "import gc\n",
    "from sklearn import preprocessing\n",
    "\n",
    "tqdm.pandas()\n",
    "\n",
    "import time\n",
    "\n",
    "N_FOLDS = 5"
   ]
  },
  {
   "cell_type": "code",
   "execution_count": 2,
   "id": "9f848a2b",
   "metadata": {},
   "outputs": [],
   "source": [
    "# https://www.kaggle.com/kyakovlev\n",
    "# https://www.kaggle.com/competitions/amex-default-prediction/discussion/327534\n",
    "def amex_metric_mod(y_true, y_pred):\n",
    "\n",
    "    labels     = np.transpose(np.array([y_true, y_pred]))\n",
    "    labels     = labels[labels[:, 1].argsort()[::-1]]\n",
    "    weights    = np.where(labels[:,0]==0, 20, 1)\n",
    "    cut_vals   = labels[np.cumsum(weights) <= int(0.04 * np.sum(weights))]\n",
    "    top_four   = np.sum(cut_vals[:,0]) / np.sum(labels[:,0])\n",
    "\n",
    "    gini = [0,0]\n",
    "    for i in [1,0]:\n",
    "        labels         = np.transpose(np.array([y_true, y_pred]))\n",
    "        labels         = labels[labels[:, i].argsort()[::-1]]\n",
    "        weight         = np.where(labels[:,0]==0, 20, 1)\n",
    "        weight_random  = np.cumsum(weight / np.sum(weight))\n",
    "        total_pos      = np.sum(labels[:, 0] *  weight)\n",
    "        cum_pos_found  = np.cumsum(labels[:, 0] * weight)\n",
    "        lorentz        = cum_pos_found / total_pos\n",
    "        gini[i]        = np.sum((lorentz - weight_random) * weight)\n",
    "\n",
    "    return 0.5 * (gini[1]/gini[0] + top_four)\n",
    "\n",
    "\n",
    "def xgboost_amex_metric_mod(predt: np.ndarray, dtrain: xgb.DMatrix):\n",
    "    y = dtrain.get_label()\n",
    "    return 'AMEXcustom', 1 - amex_metric_mod(y, predt)\n",
    "\n",
    "def xgboost_amex_metric_mod2(predt: np.ndarray, dtrain: xgb.DMatrix):\n",
    "    y = dtrain.get_label()\n",
    "    return 'AMEXcustom2', amex_metric_mod(y, predt)\n"
   ]
  },
  {
   "cell_type": "code",
   "execution_count": 3,
   "id": "b8b22a79",
   "metadata": {},
   "outputs": [],
   "source": [
    "cat_cols = ['B_30', 'B_38', 'D_114', 'D_116', 'D_117', 'D_120', 'D_126', 'D_63', 'D_64', 'D_66', 'D_68'] \n"
   ]
  },
  {
   "cell_type": "code",
   "execution_count": null,
   "id": "36efef24",
   "metadata": {},
   "outputs": [],
   "source": []
  },
  {
   "cell_type": "code",
   "execution_count": 4,
   "id": "decc3c25",
   "metadata": {},
   "outputs": [],
   "source": [
    "#https://medium.com/bigdatarepublic/advanced-pandas-optimize-speed-and-memory-a654b53be6c2\n",
    "from typing import List\n",
    "\n",
    "def optimize_floats(df: pd.DataFrame) -> pd.DataFrame:\n",
    "    floats = df.select_dtypes(include=['float64']).columns.tolist()\n",
    "    df[floats] = df[floats].apply(pd.to_numeric, downcast='float')\n",
    "    return df\n",
    "\n",
    "def optimize_ints(df: pd.DataFrame) -> pd.DataFrame:\n",
    "    ints = df.select_dtypes(include=['int64']).columns.tolist()\n",
    "    df[ints] = df[ints].apply(pd.to_numeric, downcast='integer')\n",
    "    return df\n",
    "\n",
    "#this does not seem to work for this dataset, customer id's got duplicated\n",
    "def optimize_objects(df: pd.DataFrame, datetime_features: List[str]) -> pd.DataFrame:\n",
    "    for col in df.select_dtypes(include=['object']):\n",
    "        if col not in datetime_features:\n",
    "            if not (type(df[col][0])==list):\n",
    "                num_unique_values = len(df[col].unique())\n",
    "                num_total_values = len(df[col])\n",
    "                if float(num_unique_values) / num_total_values < 0.5:\n",
    "                    df[col] = df[col].astype('category')\n",
    "        else:\n",
    "            df[col] = pd.to_datetime(df[col])\n",
    "    return df\n",
    "\n",
    "def optimize(df: pd.DataFrame, datetime_features: List[str] = []):\n",
    "    return optimize_floats(optimize_ints(df))\n",
    "    #the optimize objects was causing issue with categoricals\n",
    "    #return optimize_floats(optimize_ints(optimize_objects(df, datetime_features)))"
   ]
  },
  {
   "cell_type": "code",
   "execution_count": 5,
   "id": "ee9f7b91",
   "metadata": {},
   "outputs": [],
   "source": [
    "def format_time(seconds):\n",
    "    seconds = int(seconds)\n",
    "    minutes = seconds // 60\n",
    "    hours = minutes // 60\n",
    "    minutes = minutes % 60\n",
    "    seconds = seconds % 60\n",
    "    if hours > 0:\n",
    "        return f\"{hours}h, {minutes}m, {seconds}s\"\n",
    "    if minutes > 0:\n",
    "        return f\"{minutes}m, {seconds}s\"\n",
    "    return f\"{seconds}s\"\n",
    "        "
   ]
  },
  {
   "cell_type": "code",
   "execution_count": 6,
   "id": "5a8e95f8",
   "metadata": {},
   "outputs": [],
   "source": [
    "def find_new_cat_cols(df_from):\n",
    "    new_cat_cols = []\n",
    "    for cat_col in cat_cols:\n",
    "        new_cat_cols.extend([col for col in df_from.columns if col.startswith(cat_col)])\n",
    "    return new_cat_cols\n"
   ]
  },
  {
   "cell_type": "markdown",
   "id": "f38233ae",
   "metadata": {},
   "source": [
    "# XGB Optuna Optimizer Code"
   ]
  },
  {
   "cell_type": "code",
   "execution_count": 7,
   "id": "ef69c204",
   "metadata": {},
   "outputs": [],
   "source": [
    "#https://xgboost.readthedocs.io/en/latest/parameter.html\n",
    "\n",
    "optuna_eval_results = {}\n",
    "optuna_iteration_index = 0\n",
    "optuna_losses = []\n",
    "optuna_accuracies = []\n",
    "optuna_amexes = []\n",
    "optuna_parameters = []\n",
    "optuna_seconds = []\n",
    "\n",
    "def optuna_objective(trial, X, y, strat, verbosity=-1):\n",
    "    global optuna_iteration_index\n",
    "    \n",
    "    optuna_iteration_index += 1\n",
    "    #param_grid = {}  # to be filled in later\n",
    "    param_grid = {\n",
    "        #'max_depth': trial.suggest_int('max_depth', 2, 10, 1),\n",
    "        \"booster\": trial.suggest_categorical(\"booster\", [\"gbtree\", \"gblinear\", \"dart\"]),\n",
    "        \"lambda\": trial.suggest_loguniform(\"lambda\", 1e-8, 1.0),\n",
    "        \"alpha\": trial.suggest_loguniform(\"alpha\", 1e-8, 1.0),\n",
    "        'learning_rate': trial.suggest_float(\"learning_rate\", 0.01, 0.3),\n",
    "        # nthread defaults to maximum so not setting it\n",
    "        'subsample': trial.suggest_float('subsample', 0.75, 1.0),\n",
    "        'colsample_bytree': trial.suggest_float('colsample_bytree', 0.3, 1.0),\n",
    "        'colsample_bylevel': trial.suggest_float('colsample_bylevel', 0.3, 1.0),\n",
    "        'min_child_weight': trial.suggest_int('min_child_weight', 0, 5),\n",
    "        \"objective\": 'binary:logistic', \n",
    "        \"max_depth\" : -1,\n",
    "#        'eval_metric': \"logloss\",\n",
    "#        'eval_metric': amex_metric_mod,\n",
    "        'eval_metric': amex_metric_mod,\n",
    "        'n_estimators': 10000, #500,\n",
    "        'n_jobs': 16,\n",
    "        # 'tree_method': 'gpu_hist',\n",
    "    }\n",
    "    param = param_grid\n",
    "    if param[\"booster\"] == \"gbtree\" or param[\"booster\"] == \"dart\":\n",
    "        param[\"max_depth\"] = trial.suggest_int(\"max_depth\", 1, 9)\n",
    "        param[\"eta\"] = trial.suggest_loguniform(\"eta\", 1e-8, 1.0)\n",
    "        param[\"gamma\"] = trial.suggest_loguniform(\"gamma\", 1e-8, 10)#1e-8, 1.0)\n",
    "        param[\"grow_policy\"] = trial.suggest_categorical(\"grow_policy\", [\"depthwise\", \"lossguide\"])\n",
    "    if param[\"booster\"] == \"dart\":\n",
    "        param[\"sample_type\"] = trial.suggest_categorical(\"sample_type\", [\"uniform\", \"weighted\"])\n",
    "        param[\"normalize_type\"] = trial.suggest_categorical(\"normalize_type\", [\"tree\", \"forest\"])\n",
    "        param[\"rate_drop\"] = trial.suggest_loguniform(\"rate_drop\", 1e-8, 1.0)\n",
    "        param[\"skip_drop\"] = trial.suggest_loguniform(\"skip_drop\", 1e-8, 1.0)\n",
    "    if True:\n",
    "        # tree_method: 'gpu_hist' causes xgboost to use GPU.\n",
    "        # https://xgboost.readthedocs.io/en/latest/gpu/\n",
    "        param_grid[\"tree_method\"] = \"gpu_hist\"\n",
    "        param_grid['predictor'] = 'gpu_predictor'\n",
    "    if None is not None:\n",
    "        param_grid[\"scale_pos_weight\"] = self.scale_pos_weight\n",
    "\n",
    "    print(f\"STARTING OPTIMIZATION iteration {optuna_iteration_index}, data size: {X.shape}, params={param_grid}\")\n",
    "    #split data into 5 pieces, run the optimizer on only 2 of them for speed\n",
    "    N_FOLDS_RUN = N_FOLDS\n",
    "    cv = StratifiedKFold(n_splits=N_FOLDS, shuffle=True, random_state=69)\n",
    "#    cv = StratifiedKFold(n_splits=N_FOLDS, shuffle=True, random_state=1121218)\n",
    "\n",
    "    cv_scores = np.empty(N_FOLDS_RUN)\n",
    "    cv_accuracies = np.empty(N_FOLDS_RUN)\n",
    "    cv_amexes = np.empty(N_FOLDS_RUN)\n",
    "    \n",
    "    time_start_all_folds = time.time()\n",
    "    acc_score_total = 0\n",
    "    n_classes = 1\n",
    "    train_preds = np.zeros((X.shape[0], n_classes))\n",
    "    amex_total = 0\n",
    "    for idx, (train_idx, test_idx) in enumerate(cv.split(X, strat)):\n",
    "        if idx >= N_FOLDS_RUN:\n",
    "            break\n",
    "        time_start_this_fold = time.time()\n",
    "        print(f\"=== STARTING FOLD {idx+1}/{N_FOLDS_RUN} ({N_FOLDS}) ===\")\n",
    "        X_train, X_test = X.iloc[train_idx], X.iloc[test_idx]\n",
    "        y_train, y_test = y.iloc[train_idx], y.iloc[test_idx]\n",
    "#        evalset = [(X_train, y_train), (X_test,y_test)]\n",
    "        evalset = [(X_test,y_test)]\n",
    "        \n",
    "        print(\"creating classifier\")\n",
    "        model = xgb.XGBClassifier(**param_grid, enable_categorical = True)\n",
    "        print(\"fitting\")\n",
    "        \n",
    "        es = xgb.callback.EarlyStopping(\n",
    "            rounds=100,\n",
    "            min_delta=1e-3,\n",
    "    #        save_best=True,\n",
    "            maximize=True,\n",
    "    #        data_name=\"valid\",\n",
    "            metric_name=\"amex_metric_mod\",\n",
    "        )\n",
    "        cbs = [es]\n",
    "        \n",
    "        model.fit(\n",
    "            X_train,\n",
    "            y_train,\n",
    "#            eval_metric: xgboost_amex_metric_mod,\n",
    "            verbose=100,\n",
    "            eval_set=evalset,\n",
    "            #early_stopping_rounds=100,\n",
    "            callbacks=cbs\n",
    "        )\n",
    "\n",
    "        print(\"predicting\")\n",
    "        preds = model.predict_proba(X_test, iteration_range=(0, model.best_iteration + 1))\n",
    "\n",
    "        preds_true_amex = preds[:, 1]\n",
    "        preds_true = preds[:, 1].flatten()\n",
    "        preds_true.shape = (y_test.shape[0], 1)\n",
    "        amex_y_test = np.array(y_test)\n",
    "        amex_y_test.shape = (y_test.shape[0], 1)\n",
    "        np.add.at(train_preds, test_idx, preds_true)\n",
    "        print(f\"count zerO: {np.count_nonzero(train_preds)}\")\n",
    "\n",
    "        preds_this_round = (preds >= 0.5)[:,1]\n",
    "\n",
    "        acc_score = accuracy_score(y_test, preds_this_round)\n",
    "        acc_score_total += acc_score\n",
    "\n",
    "        amex_score = amex_metric_mod(y_test, preds_true_amex)\n",
    "        amex_total += amex_score\n",
    "\n",
    "        log_loss_fold = log_loss(y_test, preds)\n",
    "        cv_scores[idx] = log_loss_fold\n",
    "        cv_accuracies[idx] = acc_score\n",
    "        cv_amexes[idx] = amex_score\n",
    "        print(f\"amex: {amex_score}\")\n",
    "\n",
    "        print(f\"=== FINISHED FOLD {idx+1}/{N_FOLDS}, log loss={log_loss_fold}, accuracy={acc_score}, amex={amex_score} ===\")\n",
    "        time_total_this_fold = time.time() - time_start_this_fold\n",
    "        print(f\"time to run this fold: {format_time(time_total_this_fold)}\")        \n",
    "\n",
    "        if amex_score < 0.78:\n",
    "            print(\"low score on amex, dropping loop\")\n",
    "            return amex_score\n",
    "   \n",
    "    time_total_all_folds = time.time() - time_start_all_folds        \n",
    "    print(f\"time to run folds: {format_time(time_total_all_folds)}\")\n",
    "    \n",
    "    iteration_log_loss = np.mean(cv_scores)\n",
    "    iteration_accuracy = np.mean(cv_accuracies)\n",
    "    iteration_amex = np.mean(cv_amexes)\n",
    "    optuna_losses.append(iteration_log_loss)\n",
    "    optuna_amexes.append(iteration_amex)\n",
    "    optuna_accuracies.append(iteration_accuracy)\n",
    "    optuna_parameters.append(param_grid)\n",
    "    optuna_seconds.append(int(time_total_all_folds))\n",
    "    print(f\"iteration logloss: {iteration_log_loss}, iteration acc: {iteration_accuracy}, Iteration amex: {iteration_amex}\")\n",
    "    return iteration_amex #iteration_log_loss\n"
   ]
  },
  {
   "cell_type": "markdown",
   "id": "c3ed7e10",
   "metadata": {},
   "source": [
    "# Load Data"
   ]
  },
  {
   "cell_type": "code",
   "execution_count": 8,
   "id": "b8a91659",
   "metadata": {},
   "outputs": [
    {
     "data": {
      "text/html": [
       "<div>\n",
       "<style scoped>\n",
       "    .dataframe tbody tr th:only-of-type {\n",
       "        vertical-align: middle;\n",
       "    }\n",
       "\n",
       "    .dataframe tbody tr th {\n",
       "        vertical-align: top;\n",
       "    }\n",
       "\n",
       "    .dataframe thead th {\n",
       "        text-align: right;\n",
       "    }\n",
       "</style>\n",
       "<table border=\"1\" class=\"dataframe\">\n",
       "  <thead>\n",
       "    <tr style=\"text-align: right;\">\n",
       "      <th></th>\n",
       "      <th>customer_ID</th>\n",
       "      <th>S_2_first</th>\n",
       "      <th>S_2_mean</th>\n",
       "      <th>S_2_std</th>\n",
       "      <th>S_2_min</th>\n",
       "      <th>S_2_max</th>\n",
       "      <th>S_2_last</th>\n",
       "      <th>P_2_first</th>\n",
       "      <th>P_2_mean</th>\n",
       "      <th>P_2_std</th>\n",
       "      <th>...</th>\n",
       "      <th>D_66_count</th>\n",
       "      <th>D_66_first</th>\n",
       "      <th>D_66_last</th>\n",
       "      <th>D_66_nunique</th>\n",
       "      <th>D_68_count</th>\n",
       "      <th>D_68_first</th>\n",
       "      <th>D_68_last</th>\n",
       "      <th>D_68_nunique</th>\n",
       "      <th>target</th>\n",
       "      <th>fake_splitter</th>\n",
       "    </tr>\n",
       "  </thead>\n",
       "  <tbody>\n",
       "    <tr>\n",
       "      <th>0</th>\n",
       "      <td>0000099d6bd597052cdcda90ffabf56573fe9d7c79be5f...</td>\n",
       "      <td>0</td>\n",
       "      <td>0.0</td>\n",
       "      <td>0.0</td>\n",
       "      <td>0</td>\n",
       "      <td>0</td>\n",
       "      <td>0</td>\n",
       "      <td>0.94</td>\n",
       "      <td>0.933846</td>\n",
       "      <td>0.024337</td>\n",
       "      <td>...</td>\n",
       "      <td>13</td>\n",
       "      <td>0</td>\n",
       "      <td>0</td>\n",
       "      <td>1</td>\n",
       "      <td>13</td>\n",
       "      <td>7</td>\n",
       "      <td>7</td>\n",
       "      <td>1</td>\n",
       "      <td>0</td>\n",
       "      <td>True</td>\n",
       "    </tr>\n",
       "    <tr>\n",
       "      <th>1</th>\n",
       "      <td>00000fd6641609c6ece5454664794f0340ad84dddce9a2...</td>\n",
       "      <td>0</td>\n",
       "      <td>0.0</td>\n",
       "      <td>0.0</td>\n",
       "      <td>0</td>\n",
       "      <td>0</td>\n",
       "      <td>0</td>\n",
       "      <td>0.93</td>\n",
       "      <td>0.899231</td>\n",
       "      <td>0.022899</td>\n",
       "      <td>...</td>\n",
       "      <td>13</td>\n",
       "      <td>0</td>\n",
       "      <td>0</td>\n",
       "      <td>1</td>\n",
       "      <td>13</td>\n",
       "      <td>7</td>\n",
       "      <td>7</td>\n",
       "      <td>1</td>\n",
       "      <td>0</td>\n",
       "      <td>True</td>\n",
       "    </tr>\n",
       "    <tr>\n",
       "      <th>2</th>\n",
       "      <td>00001b22f846c82c51f6e3958ccd81970162bae8b007e8...</td>\n",
       "      <td>0</td>\n",
       "      <td>0.0</td>\n",
       "      <td>0.0</td>\n",
       "      <td>0</td>\n",
       "      <td>0</td>\n",
       "      <td>0</td>\n",
       "      <td>0.88</td>\n",
       "      <td>0.877692</td>\n",
       "      <td>0.027735</td>\n",
       "      <td>...</td>\n",
       "      <td>13</td>\n",
       "      <td>0</td>\n",
       "      <td>0</td>\n",
       "      <td>1</td>\n",
       "      <td>13</td>\n",
       "      <td>7</td>\n",
       "      <td>7</td>\n",
       "      <td>1</td>\n",
       "      <td>0</td>\n",
       "      <td>True</td>\n",
       "    </tr>\n",
       "    <tr>\n",
       "      <th>3</th>\n",
       "      <td>000041bdba6ecadd89a52d11886e8eaaec9325906c9723...</td>\n",
       "      <td>0</td>\n",
       "      <td>0.0</td>\n",
       "      <td>0.0</td>\n",
       "      <td>0</td>\n",
       "      <td>0</td>\n",
       "      <td>0</td>\n",
       "      <td>0.57</td>\n",
       "      <td>0.597692</td>\n",
       "      <td>0.018777</td>\n",
       "      <td>...</td>\n",
       "      <td>13</td>\n",
       "      <td>0</td>\n",
       "      <td>0</td>\n",
       "      <td>1</td>\n",
       "      <td>13</td>\n",
       "      <td>3</td>\n",
       "      <td>4</td>\n",
       "      <td>3</td>\n",
       "      <td>0</td>\n",
       "      <td>True</td>\n",
       "    </tr>\n",
       "    <tr>\n",
       "      <th>4</th>\n",
       "      <td>00007889e4fcd2614b6cbe7f8f3d2e5c728eca32d9eb8a...</td>\n",
       "      <td>0</td>\n",
       "      <td>0.0</td>\n",
       "      <td>0.0</td>\n",
       "      <td>0</td>\n",
       "      <td>0</td>\n",
       "      <td>0</td>\n",
       "      <td>0.94</td>\n",
       "      <td>0.893077</td>\n",
       "      <td>0.042502</td>\n",
       "      <td>...</td>\n",
       "      <td>13</td>\n",
       "      <td>2</td>\n",
       "      <td>2</td>\n",
       "      <td>1</td>\n",
       "      <td>13</td>\n",
       "      <td>7</td>\n",
       "      <td>7</td>\n",
       "      <td>1</td>\n",
       "      <td>0</td>\n",
       "      <td>True</td>\n",
       "    </tr>\n",
       "  </tbody>\n",
       "</table>\n",
       "<p>5 rows × 1583 columns</p>\n",
       "</div>"
      ],
      "text/plain": [
       "                                         customer_ID  S_2_first  S_2_mean  \\\n",
       "0  0000099d6bd597052cdcda90ffabf56573fe9d7c79be5f...          0       0.0   \n",
       "1  00000fd6641609c6ece5454664794f0340ad84dddce9a2...          0       0.0   \n",
       "2  00001b22f846c82c51f6e3958ccd81970162bae8b007e8...          0       0.0   \n",
       "3  000041bdba6ecadd89a52d11886e8eaaec9325906c9723...          0       0.0   \n",
       "4  00007889e4fcd2614b6cbe7f8f3d2e5c728eca32d9eb8a...          0       0.0   \n",
       "\n",
       "   S_2_std  S_2_min  S_2_max  S_2_last  P_2_first  P_2_mean   P_2_std  ...  \\\n",
       "0      0.0        0        0         0       0.94  0.933846  0.024337  ...   \n",
       "1      0.0        0        0         0       0.93  0.899231  0.022899  ...   \n",
       "2      0.0        0        0         0       0.88  0.877692  0.027735  ...   \n",
       "3      0.0        0        0         0       0.57  0.597692  0.018777  ...   \n",
       "4      0.0        0        0         0       0.94  0.893077  0.042502  ...   \n",
       "\n",
       "   D_66_count  D_66_first  D_66_last  D_66_nunique  D_68_count  D_68_first  \\\n",
       "0          13           0          0             1          13           7   \n",
       "1          13           0          0             1          13           7   \n",
       "2          13           0          0             1          13           7   \n",
       "3          13           0          0             1          13           3   \n",
       "4          13           2          2             1          13           7   \n",
       "\n",
       "   D_68_last  D_68_nunique  target  fake_splitter  \n",
       "0          7             1       0           True  \n",
       "1          7             1       0           True  \n",
       "2          7             1       0           True  \n",
       "3          4             3       0           True  \n",
       "4          7             1       0           True  \n",
       "\n",
       "[5 rows x 1583 columns]"
      ]
     },
     "execution_count": 8,
     "metadata": {},
     "output_type": "execute_result"
    }
   ],
   "source": [
    "df_train = pd.read_parquet(\"train_lagged.parquet\", engine=\"pyarrow\")\n",
    "df_train.head()"
   ]
  },
  {
   "cell_type": "code",
   "execution_count": 9,
   "id": "45a01a20",
   "metadata": {},
   "outputs": [
    {
     "data": {
      "text/html": [
       "<div>\n",
       "<style scoped>\n",
       "    .dataframe tbody tr th:only-of-type {\n",
       "        vertical-align: middle;\n",
       "    }\n",
       "\n",
       "    .dataframe tbody tr th {\n",
       "        vertical-align: top;\n",
       "    }\n",
       "\n",
       "    .dataframe thead th {\n",
       "        text-align: right;\n",
       "    }\n",
       "</style>\n",
       "<table border=\"1\" class=\"dataframe\">\n",
       "  <thead>\n",
       "    <tr style=\"text-align: right;\">\n",
       "      <th></th>\n",
       "      <th>customer_ID</th>\n",
       "      <th>S_2_first</th>\n",
       "      <th>S_2_mean</th>\n",
       "      <th>S_2_std</th>\n",
       "      <th>S_2_min</th>\n",
       "      <th>S_2_max</th>\n",
       "      <th>S_2_last</th>\n",
       "      <th>P_2_first</th>\n",
       "      <th>P_2_mean</th>\n",
       "      <th>P_2_std</th>\n",
       "      <th>...</th>\n",
       "      <th>D_64_last</th>\n",
       "      <th>D_64_nunique</th>\n",
       "      <th>D_66_count</th>\n",
       "      <th>D_66_first</th>\n",
       "      <th>D_66_last</th>\n",
       "      <th>D_66_nunique</th>\n",
       "      <th>D_68_count</th>\n",
       "      <th>D_68_first</th>\n",
       "      <th>D_68_last</th>\n",
       "      <th>D_68_nunique</th>\n",
       "    </tr>\n",
       "  </thead>\n",
       "  <tbody>\n",
       "    <tr>\n",
       "      <th>0</th>\n",
       "      <td>00000469ba478561f23a92a868bd366de6f6527a684c9a...</td>\n",
       "      <td>0</td>\n",
       "      <td>0.0</td>\n",
       "      <td>0.0</td>\n",
       "      <td>0</td>\n",
       "      <td>0</td>\n",
       "      <td>0</td>\n",
       "      <td>0.63</td>\n",
       "      <td>0.602222</td>\n",
       "      <td>0.019861</td>\n",
       "      <td>...</td>\n",
       "      <td>4</td>\n",
       "      <td>2</td>\n",
       "      <td>9</td>\n",
       "      <td>0</td>\n",
       "      <td>0</td>\n",
       "      <td>1</td>\n",
       "      <td>9</td>\n",
       "      <td>0</td>\n",
       "      <td>7</td>\n",
       "      <td>2</td>\n",
       "    </tr>\n",
       "    <tr>\n",
       "      <th>1</th>\n",
       "      <td>00001bf2e77ff879fab36aa4fac689b9ba411dae63ae39...</td>\n",
       "      <td>0</td>\n",
       "      <td>0.0</td>\n",
       "      <td>0.0</td>\n",
       "      <td>0</td>\n",
       "      <td>0</td>\n",
       "      <td>0</td>\n",
       "      <td>0.89</td>\n",
       "      <td>0.860769</td>\n",
       "      <td>0.030947</td>\n",
       "      <td>...</td>\n",
       "      <td>1</td>\n",
       "      <td>1</td>\n",
       "      <td>13</td>\n",
       "      <td>0</td>\n",
       "      <td>0</td>\n",
       "      <td>1</td>\n",
       "      <td>13</td>\n",
       "      <td>7</td>\n",
       "      <td>7</td>\n",
       "      <td>1</td>\n",
       "    </tr>\n",
       "    <tr>\n",
       "      <th>2</th>\n",
       "      <td>0000210045da4f81e5f122c6bde5c2a617d03eef67f82c...</td>\n",
       "      <td>0</td>\n",
       "      <td>0.0</td>\n",
       "      <td>0.0</td>\n",
       "      <td>0</td>\n",
       "      <td>0</td>\n",
       "      <td>0</td>\n",
       "      <td>0.77</td>\n",
       "      <td>0.748462</td>\n",
       "      <td>0.061893</td>\n",
       "      <td>...</td>\n",
       "      <td>4</td>\n",
       "      <td>2</td>\n",
       "      <td>13</td>\n",
       "      <td>2</td>\n",
       "      <td>2</td>\n",
       "      <td>1</td>\n",
       "      <td>13</td>\n",
       "      <td>7</td>\n",
       "      <td>5</td>\n",
       "      <td>2</td>\n",
       "    </tr>\n",
       "    <tr>\n",
       "      <th>3</th>\n",
       "      <td>00003b41e58ede33b8daf61ab56d9952f17c9ad1c3976c...</td>\n",
       "      <td>0</td>\n",
       "      <td>0.0</td>\n",
       "      <td>0.0</td>\n",
       "      <td>0</td>\n",
       "      <td>0</td>\n",
       "      <td>0</td>\n",
       "      <td>0.51</td>\n",
       "      <td>0.474615</td>\n",
       "      <td>0.026962</td>\n",
       "      <td>...</td>\n",
       "      <td>3</td>\n",
       "      <td>1</td>\n",
       "      <td>13</td>\n",
       "      <td>0</td>\n",
       "      <td>0</td>\n",
       "      <td>1</td>\n",
       "      <td>13</td>\n",
       "      <td>6</td>\n",
       "      <td>6</td>\n",
       "      <td>1</td>\n",
       "    </tr>\n",
       "    <tr>\n",
       "      <th>4</th>\n",
       "      <td>00004b22eaeeeb0ec976890c1d9bfc14fd9427e98c4ee9...</td>\n",
       "      <td>0</td>\n",
       "      <td>0.0</td>\n",
       "      <td>0.0</td>\n",
       "      <td>0</td>\n",
       "      <td>0</td>\n",
       "      <td>0</td>\n",
       "      <td>0.29</td>\n",
       "      <td>0.323846</td>\n",
       "      <td>0.050751</td>\n",
       "      <td>...</td>\n",
       "      <td>3</td>\n",
       "      <td>2</td>\n",
       "      <td>13</td>\n",
       "      <td>0</td>\n",
       "      <td>0</td>\n",
       "      <td>1</td>\n",
       "      <td>13</td>\n",
       "      <td>7</td>\n",
       "      <td>6</td>\n",
       "      <td>2</td>\n",
       "    </tr>\n",
       "  </tbody>\n",
       "</table>\n",
       "<p>5 rows × 1581 columns</p>\n",
       "</div>"
      ],
      "text/plain": [
       "                                         customer_ID  S_2_first  S_2_mean  \\\n",
       "0  00000469ba478561f23a92a868bd366de6f6527a684c9a...          0       0.0   \n",
       "1  00001bf2e77ff879fab36aa4fac689b9ba411dae63ae39...          0       0.0   \n",
       "2  0000210045da4f81e5f122c6bde5c2a617d03eef67f82c...          0       0.0   \n",
       "3  00003b41e58ede33b8daf61ab56d9952f17c9ad1c3976c...          0       0.0   \n",
       "4  00004b22eaeeeb0ec976890c1d9bfc14fd9427e98c4ee9...          0       0.0   \n",
       "\n",
       "   S_2_std  S_2_min  S_2_max  S_2_last  P_2_first  P_2_mean   P_2_std  ...  \\\n",
       "0      0.0        0        0         0       0.63  0.602222  0.019861  ...   \n",
       "1      0.0        0        0         0       0.89  0.860769  0.030947  ...   \n",
       "2      0.0        0        0         0       0.77  0.748462  0.061893  ...   \n",
       "3      0.0        0        0         0       0.51  0.474615  0.026962  ...   \n",
       "4      0.0        0        0         0       0.29  0.323846  0.050751  ...   \n",
       "\n",
       "   D_64_last  D_64_nunique  D_66_count  D_66_first  D_66_last  D_66_nunique  \\\n",
       "0          4             2           9           0          0             1   \n",
       "1          1             1          13           0          0             1   \n",
       "2          4             2          13           2          2             1   \n",
       "3          3             1          13           0          0             1   \n",
       "4          3             2          13           0          0             1   \n",
       "\n",
       "   D_68_count  D_68_first  D_68_last  D_68_nunique  \n",
       "0           9           0          7             2  \n",
       "1          13           7          7             1  \n",
       "2          13           7          5             2  \n",
       "3          13           6          6             1  \n",
       "4          13           7          6             2  \n",
       "\n",
       "[5 rows x 1581 columns]"
      ]
     },
     "execution_count": 9,
     "metadata": {},
     "output_type": "execute_result"
    }
   ],
   "source": [
    "df_test = pd.read_parquet(\"test_lagged.parquet\", engine=\"pyarrow\")\n",
    "df_test.head()"
   ]
  },
  {
   "cell_type": "code",
   "execution_count": 10,
   "id": "19c8e94c",
   "metadata": {},
   "outputs": [],
   "source": [
    "#special combo-column created for stratification\n",
    "strat = df_train[\"fake_splitter\"]\n"
   ]
  },
  {
   "cell_type": "code",
   "execution_count": 11,
   "id": "6b159be8",
   "metadata": {},
   "outputs": [
    {
     "data": {
      "text/plain": [
       "['fake_splitter']"
      ]
     },
     "execution_count": 11,
     "metadata": {},
     "output_type": "execute_result"
    }
   ],
   "source": [
    "cols_to_drop = [col for col in df_train.columns if \"fake\" in col]\n",
    "cols_to_drop"
   ]
  },
  {
   "cell_type": "code",
   "execution_count": 12,
   "id": "4470607f",
   "metadata": {},
   "outputs": [],
   "source": [
    "df_train = df_train.drop(cols_to_drop, axis=1)"
   ]
  },
  {
   "cell_type": "code",
   "execution_count": 13,
   "id": "8e621668",
   "metadata": {},
   "outputs": [],
   "source": [
    "X = df_train.drop([\"customer_ID\", \"target\"], axis=1)\n",
    "y = df_train[\"target\"]"
   ]
  },
  {
   "cell_type": "code",
   "execution_count": 14,
   "id": "443898cf",
   "metadata": {},
   "outputs": [],
   "source": [
    "stratzip = zip(strat, y)\n",
    "#stratified k-fold only supports single binary value, tuple stratification breaks it\n",
    "stratzip = [f\"{a}-{b}\" for (a,b) in stratzip]\n",
    "#stratzip = list(stratzip)"
   ]
  },
  {
   "cell_type": "code",
   "execution_count": 25,
   "id": "930d12c9",
   "metadata": {},
   "outputs": [],
   "source": [
    "cat_cols = find_new_cat_cols(df_train)"
   ]
  },
  {
   "cell_type": "code",
   "execution_count": 26,
   "id": "5f711474",
   "metadata": {},
   "outputs": [],
   "source": [
    "num_cols = [col for col in df_train.columns if col not in cat_cols if col != \"customer_ID\"]"
   ]
  },
  {
   "cell_type": "markdown",
   "id": "2980a14c",
   "metadata": {},
   "source": [
    "# Run Optuna Optimizer"
   ]
  },
  {
   "cell_type": "code",
   "execution_count": 15,
   "id": "a8168061",
   "metadata": {},
   "outputs": [
    {
     "name": "stderr",
     "output_type": "stream",
     "text": [
      "\u001b[32m[I 2022-08-28 13:30:17,165]\u001b[0m A new study created in memory with name: XGB Classifier\u001b[0m\n"
     ]
    },
    {
     "name": "stdout",
     "output_type": "stream",
     "text": [
      "STARTING OPTIMIZATION iteration 1, data size: (458913, 1580), params={'booster': 'gblinear', 'lambda': 0.001476479059081602, 'alpha': 0.0002072147510625708, 'learning_rate': 0.1500858515816118, 'subsample': 0.824727326751916, 'colsample_bytree': 0.7901230710210116, 'colsample_bylevel': 0.8725667048715013, 'min_child_weight': 5, 'objective': 'binary:logistic', 'max_depth': -1, 'eval_metric': <function amex_metric_mod at 0x7fa3788d18b0>, 'n_estimators': 10000, 'n_jobs': 16, 'tree_method': 'gpu_hist', 'predictor': 'gpu_predictor'}\n",
      "=== STARTING FOLD 1/5 (5) ===\n",
      "creating classifier\n",
      "fitting\n"
     ]
    },
    {
     "name": "stderr",
     "output_type": "stream",
     "text": [
      "/usr/local/lib/python3.8/dist-packages/xgboost/sklearn.py:793: UserWarning: `callbacks` in `fit` method is deprecated for better compatibility with scikit-learn, use `callbacks` in constructor or`set_params` instead.\n",
      "  warnings.warn(\n"
     ]
    },
    {
     "name": "stdout",
     "output_type": "stream",
     "text": [
      "[13:30:20] WARNING: ../src/learner.cc:627: \n",
      "Parameters: { \"colsample_bylevel\", \"colsample_bytree\", \"max_depth\", \"min_child_weight\", \"predictor\", \"subsample\", \"tree_method\" } might not be used.\n",
      "\n",
      "  This could be a false alarm, with some parameters getting used by language bindings but\n",
      "  then being mistakenly passed down to XGBoost core, or some parameter actually being used\n",
      "  but getting flagged wrongly here. Please open an issue if you find any such cases.\n",
      "\n",
      "\n",
      "[0]\tvalidation_0-logloss:0.31746\tvalidation_0-amex_metric_mod:0.73048\n",
      "[100]\tvalidation_0-logloss:0.23064\tvalidation_0-amex_metric_mod:0.77948\n",
      "[159]\tvalidation_0-logloss:0.23046\tvalidation_0-amex_metric_mod:0.77979\n",
      "predicting\n"
     ]
    },
    {
     "name": "stderr",
     "output_type": "stream",
     "text": [
      "\u001b[32m[I 2022-08-28 13:31:13,977]\u001b[0m Trial 0 finished with value: 0.7797884795278291 and parameters: {'booster': 'gblinear', 'lambda': 0.001476479059081602, 'alpha': 0.0002072147510625708, 'learning_rate': 0.1500858515816118, 'subsample': 0.824727326751916, 'colsample_bytree': 0.7901230710210116, 'colsample_bylevel': 0.8725667048715013, 'min_child_weight': 5}. Best is trial 0 with value: 0.7797884795278291.\u001b[0m\n"
     ]
    },
    {
     "name": "stdout",
     "output_type": "stream",
     "text": [
      "count zerO: 91783\n",
      "amex: 0.7797884795278291\n",
      "=== FINISHED FOLD 1/5, log loss=0.2304140770499984, accuracy=0.8990553806260418, amex=0.7797884795278291 ===\n",
      "time to run this fold: 56s\n",
      "low score on amex, dropping loop\n",
      "STARTING OPTIMIZATION iteration 2, data size: (458913, 1580), params={'booster': 'gblinear', 'lambda': 1.0544189136104984e-08, 'alpha': 1.1715263868830878e-05, 'learning_rate': 0.23905780152932654, 'subsample': 0.8486418523716334, 'colsample_bytree': 0.30703236310130705, 'colsample_bylevel': 0.642088441135574, 'min_child_weight': 5, 'objective': 'binary:logistic', 'max_depth': -1, 'eval_metric': <function amex_metric_mod at 0x7fa3788d18b0>, 'n_estimators': 10000, 'n_jobs': 16, 'tree_method': 'gpu_hist', 'predictor': 'gpu_predictor'}\n",
      "=== STARTING FOLD 1/5 (5) ===\n",
      "creating classifier\n",
      "fitting\n"
     ]
    },
    {
     "name": "stderr",
     "output_type": "stream",
     "text": [
      "/usr/local/lib/python3.8/dist-packages/xgboost/sklearn.py:793: UserWarning: `callbacks` in `fit` method is deprecated for better compatibility with scikit-learn, use `callbacks` in constructor or`set_params` instead.\n",
      "  warnings.warn(\n"
     ]
    },
    {
     "name": "stdout",
     "output_type": "stream",
     "text": [
      "[13:31:17] WARNING: ../src/learner.cc:627: \n",
      "Parameters: { \"colsample_bylevel\", \"colsample_bytree\", \"max_depth\", \"min_child_weight\", \"predictor\", \"subsample\", \"tree_method\" } might not be used.\n",
      "\n",
      "  This could be a false alarm, with some parameters getting used by language bindings but\n",
      "  then being mistakenly passed down to XGBoost core, or some parameter actually being used\n",
      "  but getting flagged wrongly here. Please open an issue if you find any such cases.\n",
      "\n",
      "\n",
      "[0]\tvalidation_0-logloss:0.31378\tvalidation_0-amex_metric_mod:0.72925\n",
      "[100]\tvalidation_0-logloss:0.22726\tvalidation_0-amex_metric_mod:0.78489\n",
      "[153]\tvalidation_0-logloss:0.22702\tvalidation_0-amex_metric_mod:0.78411\n",
      "predicting\n",
      "count zerO: 91783\n",
      "amex: 0.7842770010264177\n",
      "=== FINISHED FOLD 1/5, log loss=0.22699065027911758, accuracy=0.9009075754769402, amex=0.7842770010264177 ===\n",
      "time to run this fold: 54s\n",
      "=== STARTING FOLD 2/5 (5) ===\n",
      "creating classifier\n",
      "fitting\n"
     ]
    },
    {
     "name": "stderr",
     "output_type": "stream",
     "text": [
      "/usr/local/lib/python3.8/dist-packages/xgboost/sklearn.py:793: UserWarning: `callbacks` in `fit` method is deprecated for better compatibility with scikit-learn, use `callbacks` in constructor or`set_params` instead.\n",
      "  warnings.warn(\n"
     ]
    },
    {
     "name": "stdout",
     "output_type": "stream",
     "text": [
      "[13:32:11] WARNING: ../src/learner.cc:627: \n",
      "Parameters: { \"colsample_bylevel\", \"colsample_bytree\", \"max_depth\", \"min_child_weight\", \"predictor\", \"subsample\", \"tree_method\" } might not be used.\n",
      "\n",
      "  This could be a false alarm, with some parameters getting used by language bindings but\n",
      "  then being mistakenly passed down to XGBoost core, or some parameter actually being used\n",
      "  but getting flagged wrongly here. Please open an issue if you find any such cases.\n",
      "\n",
      "\n",
      "[0]\tvalidation_0-logloss:0.31449\tvalidation_0-amex_metric_mod:0.73189\n",
      "[100]\tvalidation_0-logloss:0.22640\tvalidation_0-amex_metric_mod:0.78314\n",
      "[200]\tvalidation_0-logloss:0.22608\tvalidation_0-amex_metric_mod:0.78398\n",
      "[268]\tvalidation_0-logloss:0.22599\tvalidation_0-amex_metric_mod:0.78407\n",
      "predicting\n",
      "count zerO: 183566\n",
      "amex: 0.7840691411907976\n",
      "=== FINISHED FOLD 2/5, log loss=0.22593385107438688, accuracy=0.9013107002386063, amex=0.7840691411907976 ===\n",
      "time to run this fold: 1m, 30s\n",
      "=== STARTING FOLD 3/5 (5) ===\n",
      "creating classifier\n",
      "fitting\n"
     ]
    },
    {
     "name": "stderr",
     "output_type": "stream",
     "text": [
      "/usr/local/lib/python3.8/dist-packages/xgboost/sklearn.py:793: UserWarning: `callbacks` in `fit` method is deprecated for better compatibility with scikit-learn, use `callbacks` in constructor or`set_params` instead.\n",
      "  warnings.warn(\n"
     ]
    },
    {
     "name": "stdout",
     "output_type": "stream",
     "text": [
      "[13:33:42] WARNING: ../src/learner.cc:627: \n",
      "Parameters: { \"colsample_bylevel\", \"colsample_bytree\", \"max_depth\", \"min_child_weight\", \"predictor\", \"subsample\", \"tree_method\" } might not be used.\n",
      "\n",
      "  This could be a false alarm, with some parameters getting used by language bindings but\n",
      "  then being mistakenly passed down to XGBoost core, or some parameter actually being used\n",
      "  but getting flagged wrongly here. Please open an issue if you find any such cases.\n",
      "\n",
      "\n",
      "[0]\tvalidation_0-logloss:0.31782\tvalidation_0-amex_metric_mod:0.72564\n",
      "[100]\tvalidation_0-logloss:0.22898\tvalidation_0-amex_metric_mod:0.77888\n",
      "[149]\tvalidation_0-logloss:0.22874\tvalidation_0-amex_metric_mod:0.77929\n",
      "predicting\n"
     ]
    },
    {
     "name": "stderr",
     "output_type": "stream",
     "text": [
      "\u001b[32m[I 2022-08-28 13:34:32,730]\u001b[0m Trial 1 finished with value: 0.7792852762982996 and parameters: {'booster': 'gblinear', 'lambda': 1.0544189136104984e-08, 'alpha': 1.1715263868830878e-05, 'learning_rate': 0.23905780152932654, 'subsample': 0.8486418523716334, 'colsample_bytree': 0.30703236310130705, 'colsample_bylevel': 0.642088441135574, 'min_child_weight': 5}. Best is trial 0 with value: 0.7797884795278291.\u001b[0m\n"
     ]
    },
    {
     "name": "stdout",
     "output_type": "stream",
     "text": [
      "count zerO: 275349\n",
      "amex: 0.7792852762982996\n",
      "=== FINISHED FOLD 3/5, log loss=0.228637930104775, accuracy=0.8993495527494199, amex=0.7792852762982996 ===\n",
      "time to run this fold: 52s\n",
      "low score on amex, dropping loop\n",
      "STARTING OPTIMIZATION iteration 3, data size: (458913, 1580), params={'booster': 'gblinear', 'lambda': 1.088139338485925e-08, 'alpha': 0.00017192262931102834, 'learning_rate': 0.20650171845883142, 'subsample': 0.9817634319221797, 'colsample_bytree': 0.8731572566402701, 'colsample_bylevel': 0.5739949261612489, 'min_child_weight': 4, 'objective': 'binary:logistic', 'max_depth': -1, 'eval_metric': <function amex_metric_mod at 0x7fa3788d18b0>, 'n_estimators': 10000, 'n_jobs': 16, 'tree_method': 'gpu_hist', 'predictor': 'gpu_predictor'}\n",
      "=== STARTING FOLD 1/5 (5) ===\n",
      "creating classifier\n",
      "fitting\n"
     ]
    },
    {
     "name": "stderr",
     "output_type": "stream",
     "text": [
      "/usr/local/lib/python3.8/dist-packages/xgboost/sklearn.py:793: UserWarning: `callbacks` in `fit` method is deprecated for better compatibility with scikit-learn, use `callbacks` in constructor or`set_params` instead.\n",
      "  warnings.warn(\n"
     ]
    },
    {
     "name": "stdout",
     "output_type": "stream",
     "text": [
      "[13:34:35] WARNING: ../src/learner.cc:627: \n",
      "Parameters: { \"colsample_bylevel\", \"colsample_bytree\", \"max_depth\", \"min_child_weight\", \"predictor\", \"subsample\", \"tree_method\" } might not be used.\n",
      "\n",
      "  This could be a false alarm, with some parameters getting used by language bindings but\n",
      "  then being mistakenly passed down to XGBoost core, or some parameter actually being used\n",
      "  but getting flagged wrongly here. Please open an issue if you find any such cases.\n",
      "\n",
      "\n",
      "[0]\tvalidation_0-logloss:0.31290\tvalidation_0-amex_metric_mod:0.72801\n",
      "[100]\tvalidation_0-logloss:0.22932\tvalidation_0-amex_metric_mod:0.78211\n",
      "[180]\tvalidation_0-logloss:0.22910\tvalidation_0-amex_metric_mod:0.78144\n",
      "predicting\n",
      "count zerO: 91783\n",
      "amex: 0.7814437899159392\n",
      "=== FINISHED FOLD 1/5, log loss=0.2290734426137783, accuracy=0.8998834206770316, amex=0.7814437899159392 ===\n",
      "time to run this fold: 1m, 3s\n",
      "=== STARTING FOLD 2/5 (5) ===\n",
      "creating classifier\n",
      "fitting\n"
     ]
    },
    {
     "name": "stderr",
     "output_type": "stream",
     "text": [
      "/usr/local/lib/python3.8/dist-packages/xgboost/sklearn.py:793: UserWarning: `callbacks` in `fit` method is deprecated for better compatibility with scikit-learn, use `callbacks` in constructor or`set_params` instead.\n",
      "  warnings.warn(\n"
     ]
    },
    {
     "name": "stdout",
     "output_type": "stream",
     "text": [
      "[13:35:39] WARNING: ../src/learner.cc:627: \n",
      "Parameters: { \"colsample_bylevel\", \"colsample_bytree\", \"max_depth\", \"min_child_weight\", \"predictor\", \"subsample\", \"tree_method\" } might not be used.\n",
      "\n",
      "  This could be a false alarm, with some parameters getting used by language bindings but\n",
      "  then being mistakenly passed down to XGBoost core, or some parameter actually being used\n",
      "  but getting flagged wrongly here. Please open an issue if you find any such cases.\n",
      "\n",
      "\n",
      "[0]\tvalidation_0-logloss:0.31431\tvalidation_0-amex_metric_mod:0.73047\n",
      "[100]\tvalidation_0-logloss:0.22776\tvalidation_0-amex_metric_mod:0.78258\n",
      "[200]\tvalidation_0-logloss:0.22745\tvalidation_0-amex_metric_mod:0.78283\n",
      "[240]\tvalidation_0-logloss:0.22740\tvalidation_0-amex_metric_mod:0.78285\n",
      "predicting\n",
      "count zerO: 183566\n",
      "amex: 0.7828498532576267\n",
      "=== FINISHED FOLD 2/5, log loss=0.22734839523154385, accuracy=0.9007332512556792, amex=0.7828498532576267 ===\n",
      "time to run this fold: 1m, 21s\n",
      "=== STARTING FOLD 3/5 (5) ===\n",
      "creating classifier\n",
      "fitting\n"
     ]
    },
    {
     "name": "stderr",
     "output_type": "stream",
     "text": [
      "/usr/local/lib/python3.8/dist-packages/xgboost/sklearn.py:793: UserWarning: `callbacks` in `fit` method is deprecated for better compatibility with scikit-learn, use `callbacks` in constructor or`set_params` instead.\n",
      "  warnings.warn(\n"
     ]
    },
    {
     "name": "stdout",
     "output_type": "stream",
     "text": [
      "[13:37:01] WARNING: ../src/learner.cc:627: \n",
      "Parameters: { \"colsample_bylevel\", \"colsample_bytree\", \"max_depth\", \"min_child_weight\", \"predictor\", \"subsample\", \"tree_method\" } might not be used.\n",
      "\n",
      "  This could be a false alarm, with some parameters getting used by language bindings but\n",
      "  then being mistakenly passed down to XGBoost core, or some parameter actually being used\n",
      "  but getting flagged wrongly here. Please open an issue if you find any such cases.\n",
      "\n",
      "\n",
      "[0]\tvalidation_0-logloss:0.31981\tvalidation_0-amex_metric_mod:0.72556\n",
      "[100]\tvalidation_0-logloss:0.23018\tvalidation_0-amex_metric_mod:0.77681\n",
      "[136]\tvalidation_0-logloss:0.23008\tvalidation_0-amex_metric_mod:0.77686\n",
      "predicting\n"
     ]
    },
    {
     "name": "stderr",
     "output_type": "stream",
     "text": [
      "\u001b[32m[I 2022-08-28 13:37:47,293]\u001b[0m Trial 2 finished with value: 0.7768607134503762 and parameters: {'booster': 'gblinear', 'lambda': 1.088139338485925e-08, 'alpha': 0.00017192262931102834, 'learning_rate': 0.20650171845883142, 'subsample': 0.9817634319221797, 'colsample_bytree': 0.8731572566402701, 'colsample_bylevel': 0.5739949261612489, 'min_child_weight': 4}. Best is trial 0 with value: 0.7797884795278291.\u001b[0m\n"
     ]
    },
    {
     "name": "stdout",
     "output_type": "stream",
     "text": [
      "count zerO: 275349\n",
      "amex: 0.7768607134503762\n",
      "=== FINISHED FOLD 3/5, log loss=0.23004773977200577, accuracy=0.8978133205495571, amex=0.7768607134503762 ===\n",
      "time to run this fold: 49s\n",
      "low score on amex, dropping loop\n",
      "STARTING OPTIMIZATION iteration 4, data size: (458913, 1580), params={'booster': 'dart', 'lambda': 1.601286604820426e-07, 'alpha': 3.8638181772860624e-05, 'learning_rate': 0.24528509046544517, 'subsample': 0.8062956228746005, 'colsample_bytree': 0.8582391186734493, 'colsample_bylevel': 0.7037303278426852, 'min_child_weight': 3, 'objective': 'binary:logistic', 'max_depth': 5, 'eval_metric': <function amex_metric_mod at 0x7fa3788d18b0>, 'n_estimators': 10000, 'n_jobs': 16, 'eta': 2.100790042978229e-06, 'gamma': 2.057121860404488e-07, 'grow_policy': 'depthwise', 'sample_type': 'uniform', 'normalize_type': 'tree', 'rate_drop': 0.07420734811810292, 'skip_drop': 0.021314475145365414, 'tree_method': 'gpu_hist', 'predictor': 'gpu_predictor'}\n",
      "=== STARTING FOLD 1/5 (5) ===\n",
      "creating classifier\n",
      "fitting\n"
     ]
    },
    {
     "name": "stderr",
     "output_type": "stream",
     "text": [
      "/usr/local/lib/python3.8/dist-packages/xgboost/sklearn.py:793: UserWarning: `callbacks` in `fit` method is deprecated for better compatibility with scikit-learn, use `callbacks` in constructor or`set_params` instead.\n",
      "  warnings.warn(\n"
     ]
    },
    {
     "name": "stdout",
     "output_type": "stream",
     "text": [
      "[0]\tvalidation_0-logloss:0.55337\tvalidation_0-amex_metric_mod:0.69202\n",
      "[100]\tvalidation_0-logloss:0.22657\tvalidation_0-amex_metric_mod:0.78046\n",
      "[200]\tvalidation_0-logloss:0.22487\tvalidation_0-amex_metric_mod:0.78291\n",
      "[288]\tvalidation_0-logloss:0.22444\tvalidation_0-amex_metric_mod:0.78391\n",
      "predicting\n",
      "count zerO: 91783\n",
      "amex: 0.7825747264426235\n",
      "=== FINISHED FOLD 1/5, log loss=0.22771538160346635, accuracy=0.9007005654641927, amex=0.7825747264426235 ===\n",
      "time to run this fold: 3m, 8s\n",
      "=== STARTING FOLD 2/5 (5) ===\n",
      "creating classifier\n",
      "fitting\n"
     ]
    },
    {
     "name": "stderr",
     "output_type": "stream",
     "text": [
      "/usr/local/lib/python3.8/dist-packages/xgboost/sklearn.py:793: UserWarning: `callbacks` in `fit` method is deprecated for better compatibility with scikit-learn, use `callbacks` in constructor or`set_params` instead.\n",
      "  warnings.warn(\n"
     ]
    },
    {
     "name": "stdout",
     "output_type": "stream",
     "text": [
      "[0]\tvalidation_0-logloss:0.55330\tvalidation_0-amex_metric_mod:0.68740\n",
      "[100]\tvalidation_0-logloss:0.22615\tvalidation_0-amex_metric_mod:0.78087\n",
      "[200]\tvalidation_0-logloss:0.22422\tvalidation_0-amex_metric_mod:0.78411\n",
      "[289]\tvalidation_0-logloss:0.22374\tvalidation_0-amex_metric_mod:0.78475\n",
      "predicting\n",
      "count zerO: 183566\n",
      "amex: 0.7841809384728208\n",
      "=== FINISHED FOLD 2/5, log loss=0.22716498788475975, accuracy=0.90044997439613, amex=0.7841809384728208 ===\n",
      "time to run this fold: 3m, 9s\n",
      "=== STARTING FOLD 3/5 (5) ===\n",
      "creating classifier\n",
      "fitting\n"
     ]
    },
    {
     "name": "stderr",
     "output_type": "stream",
     "text": [
      "/usr/local/lib/python3.8/dist-packages/xgboost/sklearn.py:793: UserWarning: `callbacks` in `fit` method is deprecated for better compatibility with scikit-learn, use `callbacks` in constructor or`set_params` instead.\n",
      "  warnings.warn(\n"
     ]
    },
    {
     "name": "stdout",
     "output_type": "stream",
     "text": [
      "[0]\tvalidation_0-logloss:0.55380\tvalidation_0-amex_metric_mod:0.68568\n",
      "[100]\tvalidation_0-logloss:0.22686\tvalidation_0-amex_metric_mod:0.77753\n",
      "[200]\tvalidation_0-logloss:0.22522\tvalidation_0-amex_metric_mod:0.78113\n",
      "[300]\tvalidation_0-logloss:0.22471\tvalidation_0-amex_metric_mod:0.78171\n",
      "[400]\tvalidation_0-logloss:0.22378\tvalidation_0-amex_metric_mod:0.78303\n",
      "[406]\tvalidation_0-logloss:0.22378\tvalidation_0-amex_metric_mod:0.78303\n",
      "predicting\n",
      "count zerO: 275349\n",
      "amex: 0.7821357026399478\n",
      "=== FINISHED FOLD 3/5, log loss=0.2261113553748655, accuracy=0.9012344333918045, amex=0.7821357026399478 ===\n",
      "time to run this fold: 5m, 56s\n",
      "=== STARTING FOLD 4/5 (5) ===\n",
      "creating classifier\n",
      "fitting\n"
     ]
    },
    {
     "name": "stderr",
     "output_type": "stream",
     "text": [
      "/usr/local/lib/python3.8/dist-packages/xgboost/sklearn.py:793: UserWarning: `callbacks` in `fit` method is deprecated for better compatibility with scikit-learn, use `callbacks` in constructor or`set_params` instead.\n",
      "  warnings.warn(\n"
     ]
    },
    {
     "name": "stdout",
     "output_type": "stream",
     "text": [
      "[0]\tvalidation_0-logloss:0.55350\tvalidation_0-amex_metric_mod:0.68926\n",
      "[100]\tvalidation_0-logloss:0.22663\tvalidation_0-amex_metric_mod:0.78314\n",
      "[200]\tvalidation_0-logloss:0.22484\tvalidation_0-amex_metric_mod:0.78651\n",
      "[300]\tvalidation_0-logloss:0.22436\tvalidation_0-amex_metric_mod:0.78731\n",
      "[367]\tvalidation_0-logloss:0.22379\tvalidation_0-amex_metric_mod:0.78764\n",
      "predicting\n",
      "count zerO: 367131\n",
      "amex: 0.7867712016149077\n",
      "=== FINISHED FOLD 4/5, log loss=0.2263964240087958, accuracy=0.9002854590224663, amex=0.7867712016149077 ===\n",
      "time to run this fold: 4m, 54s\n",
      "=== STARTING FOLD 5/5 (5) ===\n",
      "creating classifier\n",
      "fitting\n"
     ]
    },
    {
     "name": "stderr",
     "output_type": "stream",
     "text": [
      "/usr/local/lib/python3.8/dist-packages/xgboost/sklearn.py:793: UserWarning: `callbacks` in `fit` method is deprecated for better compatibility with scikit-learn, use `callbacks` in constructor or`set_params` instead.\n",
      "  warnings.warn(\n"
     ]
    },
    {
     "name": "stdout",
     "output_type": "stream",
     "text": [
      "[0]\tvalidation_0-logloss:0.55373\tvalidation_0-amex_metric_mod:0.67840\n",
      "[100]\tvalidation_0-logloss:0.22824\tvalidation_0-amex_metric_mod:0.77511\n",
      "[200]\tvalidation_0-logloss:0.22647\tvalidation_0-amex_metric_mod:0.77827\n",
      "[300]\tvalidation_0-logloss:0.22597\tvalidation_0-amex_metric_mod:0.77971\n",
      "[400]\tvalidation_0-logloss:0.22526\tvalidation_0-amex_metric_mod:0.78044\n",
      "[429]\tvalidation_0-logloss:0.22479\tvalidation_0-amex_metric_mod:0.78056\n",
      "predicting\n"
     ]
    },
    {
     "name": "stderr",
     "output_type": "stream",
     "text": [
      "\u001b[32m[I 2022-08-28 14:01:27,967]\u001b[0m Trial 3 finished with value: 0.7831427472925754 and parameters: {'booster': 'dart', 'lambda': 1.601286604820426e-07, 'alpha': 3.8638181772860624e-05, 'learning_rate': 0.24528509046544517, 'subsample': 0.8062956228746005, 'colsample_bytree': 0.8582391186734493, 'colsample_bylevel': 0.7037303278426852, 'min_child_weight': 3, 'max_depth': 5, 'eta': 2.100790042978229e-06, 'gamma': 2.057121860404488e-07, 'grow_policy': 'depthwise', 'sample_type': 'uniform', 'normalize_type': 'tree', 'rate_drop': 0.07420734811810292, 'skip_drop': 0.021314475145365414}. Best is trial 3 with value: 0.7831427472925754.\u001b[0m\n"
     ]
    },
    {
     "name": "stdout",
     "output_type": "stream",
     "text": [
      "count zerO: 458913\n",
      "amex: 0.7800511672925771\n",
      "=== FINISHED FOLD 5/5, log loss=0.22705880145856722, accuracy=0.9007430650890152, amex=0.7800511672925771 ===\n",
      "time to run this fold: 6m, 32s\n",
      "time to run folds: 23m, 40s\n",
      "iteration logloss: 0.22688939006609093, iteration acc: 0.9006826994727218, Iteration amex: 0.7831427472925754\n",
      "STARTING OPTIMIZATION iteration 5, data size: (458913, 1580), params={'booster': 'gbtree', 'lambda': 0.00035500315399670927, 'alpha': 0.08253111784592687, 'learning_rate': 0.0824956887990701, 'subsample': 0.9735150788793945, 'colsample_bytree': 0.707999443893663, 'colsample_bylevel': 0.5855232333652107, 'min_child_weight': 0, 'objective': 'binary:logistic', 'max_depth': 1, 'eval_metric': <function amex_metric_mod at 0x7fa3788d18b0>, 'n_estimators': 10000, 'n_jobs': 16, 'eta': 1.5325672502960853e-07, 'gamma': 0.005720084830695628, 'grow_policy': 'lossguide', 'tree_method': 'gpu_hist', 'predictor': 'gpu_predictor'}\n",
      "=== STARTING FOLD 1/5 (5) ===\n",
      "creating classifier\n",
      "fitting\n"
     ]
    },
    {
     "name": "stderr",
     "output_type": "stream",
     "text": [
      "/usr/local/lib/python3.8/dist-packages/xgboost/sklearn.py:793: UserWarning: `callbacks` in `fit` method is deprecated for better compatibility with scikit-learn, use `callbacks` in constructor or`set_params` instead.\n",
      "  warnings.warn(\n"
     ]
    },
    {
     "name": "stdout",
     "output_type": "stream",
     "text": [
      "[0]\tvalidation_0-logloss:0.65091\tvalidation_0-amex_metric_mod:0.43706\n",
      "[100]\tvalidation_0-logloss:0.25778\tvalidation_0-amex_metric_mod:0.74662\n",
      "[200]\tvalidation_0-logloss:0.24359\tvalidation_0-amex_metric_mod:0.76037\n",
      "[300]\tvalidation_0-logloss:0.23796\tvalidation_0-amex_metric_mod:0.76749\n",
      "[400]\tvalidation_0-logloss:0.23451\tvalidation_0-amex_metric_mod:0.77079\n",
      "[500]\tvalidation_0-logloss:0.23221\tvalidation_0-amex_metric_mod:0.77357\n",
      "[600]\tvalidation_0-logloss:0.23059\tvalidation_0-amex_metric_mod:0.77628\n",
      "[700]\tvalidation_0-logloss:0.22933\tvalidation_0-amex_metric_mod:0.77842\n",
      "[800]\tvalidation_0-logloss:0.22828\tvalidation_0-amex_metric_mod:0.77883\n",
      "[802]\tvalidation_0-logloss:0.22826\tvalidation_0-amex_metric_mod:0.77892\n",
      "predicting\n"
     ]
    },
    {
     "name": "stderr",
     "output_type": "stream",
     "text": [
      "\u001b[32m[I 2022-08-28 14:02:08,721]\u001b[0m Trial 4 finished with value: 0.7786436392399911 and parameters: {'booster': 'gbtree', 'lambda': 0.00035500315399670927, 'alpha': 0.08253111784592687, 'learning_rate': 0.0824956887990701, 'subsample': 0.9735150788793945, 'colsample_bytree': 0.707999443893663, 'colsample_bylevel': 0.5855232333652107, 'min_child_weight': 0, 'max_depth': 1, 'eta': 1.5325672502960853e-07, 'gamma': 0.005720084830695628, 'grow_policy': 'lossguide'}. Best is trial 3 with value: 0.7831427472925754.\u001b[0m\n"
     ]
    },
    {
     "name": "stdout",
     "output_type": "stream",
     "text": [
      "count zerO: 91783\n",
      "amex: 0.7786436392399911\n",
      "=== FINISHED FOLD 1/5, log loss=0.22929645634844667, accuracy=0.8983689790048266, amex=0.7786436392399911 ===\n",
      "time to run this fold: 40s\n",
      "low score on amex, dropping loop\n",
      "STARTING OPTIMIZATION iteration 6, data size: (458913, 1580), params={'booster': 'gblinear', 'lambda': 0.13277065032945326, 'alpha': 0.001377611521023199, 'learning_rate': 0.13844976684120203, 'subsample': 0.7944748745457729, 'colsample_bytree': 0.9851358656050975, 'colsample_bylevel': 0.47383176121313897, 'min_child_weight': 2, 'objective': 'binary:logistic', 'max_depth': -1, 'eval_metric': <function amex_metric_mod at 0x7fa3788d18b0>, 'n_estimators': 10000, 'n_jobs': 16, 'tree_method': 'gpu_hist', 'predictor': 'gpu_predictor'}\n",
      "=== STARTING FOLD 1/5 (5) ===\n",
      "creating classifier\n",
      "fitting\n"
     ]
    },
    {
     "name": "stderr",
     "output_type": "stream",
     "text": [
      "/usr/local/lib/python3.8/dist-packages/xgboost/sklearn.py:793: UserWarning: `callbacks` in `fit` method is deprecated for better compatibility with scikit-learn, use `callbacks` in constructor or`set_params` instead.\n",
      "  warnings.warn(\n"
     ]
    },
    {
     "name": "stdout",
     "output_type": "stream",
     "text": [
      "[14:02:11] WARNING: ../src/learner.cc:627: \n",
      "Parameters: { \"colsample_bylevel\", \"colsample_bytree\", \"max_depth\", \"min_child_weight\", \"predictor\", \"subsample\", \"tree_method\" } might not be used.\n",
      "\n",
      "  This could be a false alarm, with some parameters getting used by language bindings but\n",
      "  then being mistakenly passed down to XGBoost core, or some parameter actually being used\n",
      "  but getting flagged wrongly here. Please open an issue if you find any such cases.\n",
      "\n",
      "\n",
      "[0]\tvalidation_0-logloss:0.32512\tvalidation_0-amex_metric_mod:0.72893\n",
      "[100]\tvalidation_0-logloss:0.25017\tvalidation_0-amex_metric_mod:0.75409\n",
      "[110]\tvalidation_0-logloss:0.25015\tvalidation_0-amex_metric_mod:0.75392\n",
      "predicting\n"
     ]
    },
    {
     "name": "stderr",
     "output_type": "stream",
     "text": [
      "\u001b[32m[I 2022-08-28 14:02:48,273]\u001b[0m Trial 5 finished with value: 0.7539207388788309 and parameters: {'booster': 'gblinear', 'lambda': 0.13277065032945326, 'alpha': 0.001377611521023199, 'learning_rate': 0.13844976684120203, 'subsample': 0.7944748745457729, 'colsample_bytree': 0.9851358656050975, 'colsample_bylevel': 0.47383176121313897, 'min_child_weight': 2}. Best is trial 3 with value: 0.7831427472925754.\u001b[0m\n"
     ]
    },
    {
     "name": "stdout",
     "output_type": "stream",
     "text": [
      "count zerO: 91783\n",
      "amex: 0.7539207388788309\n",
      "=== FINISHED FOLD 1/5, log loss=0.2500999385132868, accuracy=0.8890208426397045, amex=0.7539207388788309 ===\n",
      "time to run this fold: 39s\n",
      "low score on amex, dropping loop\n",
      "STARTING OPTIMIZATION iteration 7, data size: (458913, 1580), params={'booster': 'dart', 'lambda': 0.05905998150220166, 'alpha': 0.0004646027244243295, 'learning_rate': 0.26215174460132296, 'subsample': 0.7780494854292201, 'colsample_bytree': 0.8851876858409988, 'colsample_bylevel': 0.31354956176682136, 'min_child_weight': 4, 'objective': 'binary:logistic', 'max_depth': 2, 'eval_metric': <function amex_metric_mod at 0x7fa3788d18b0>, 'n_estimators': 10000, 'n_jobs': 16, 'eta': 5.6121628415650815e-06, 'gamma': 0.003663051707078861, 'grow_policy': 'depthwise', 'sample_type': 'uniform', 'normalize_type': 'tree', 'rate_drop': 0.0032906672584868436, 'skip_drop': 0.0009317188184846759, 'tree_method': 'gpu_hist', 'predictor': 'gpu_predictor'}\n",
      "=== STARTING FOLD 1/5 (5) ===\n",
      "creating classifier\n",
      "fitting\n"
     ]
    },
    {
     "name": "stderr",
     "output_type": "stream",
     "text": [
      "/usr/local/lib/python3.8/dist-packages/xgboost/sklearn.py:793: UserWarning: `callbacks` in `fit` method is deprecated for better compatibility with scikit-learn, use `callbacks` in constructor or`set_params` instead.\n",
      "  warnings.warn(\n"
     ]
    },
    {
     "name": "stdout",
     "output_type": "stream",
     "text": [
      "[0]\tvalidation_0-logloss:0.55627\tvalidation_0-amex_metric_mod:0.63343\n",
      "[100]\tvalidation_0-logloss:0.22853\tvalidation_0-amex_metric_mod:0.77556\n",
      "[200]\tvalidation_0-logloss:0.22389\tvalidation_0-amex_metric_mod:0.78445\n",
      "[300]\tvalidation_0-logloss:0.22194\tvalidation_0-amex_metric_mod:0.78614\n",
      "[400]\tvalidation_0-logloss:0.22092\tvalidation_0-amex_metric_mod:0.78845\n",
      "[500]\tvalidation_0-logloss:0.22036\tvalidation_0-amex_metric_mod:0.78989\n",
      "[567]\tvalidation_0-logloss:0.22013\tvalidation_0-amex_metric_mod:0.78976\n",
      "predicting\n",
      "count zerO: 91783\n",
      "amex: 0.7887231542314029\n",
      "=== FINISHED FOLD 1/5, log loss=0.2207471109197849, accuracy=0.9034243814213961, amex=0.7887231542314029 ===\n",
      "time to run this fold: 5m, 32s\n",
      "=== STARTING FOLD 2/5 (5) ===\n",
      "creating classifier\n",
      "fitting\n"
     ]
    },
    {
     "name": "stderr",
     "output_type": "stream",
     "text": [
      "/usr/local/lib/python3.8/dist-packages/xgboost/sklearn.py:793: UserWarning: `callbacks` in `fit` method is deprecated for better compatibility with scikit-learn, use `callbacks` in constructor or`set_params` instead.\n",
      "  warnings.warn(\n"
     ]
    },
    {
     "name": "stdout",
     "output_type": "stream",
     "text": [
      "[0]\tvalidation_0-logloss:0.55638\tvalidation_0-amex_metric_mod:0.62701\n",
      "[100]\tvalidation_0-logloss:0.22743\tvalidation_0-amex_metric_mod:0.77700\n",
      "[200]\tvalidation_0-logloss:0.22273\tvalidation_0-amex_metric_mod:0.78287\n",
      "[300]\tvalidation_0-logloss:0.22058\tvalidation_0-amex_metric_mod:0.78627\n",
      "[400]\tvalidation_0-logloss:0.21946\tvalidation_0-amex_metric_mod:0.78675\n",
      "[446]\tvalidation_0-logloss:0.21919\tvalidation_0-amex_metric_mod:0.78711\n",
      "predicting\n",
      "count zerO: 183566\n",
      "amex: 0.7874815043176848\n",
      "=== FINISHED FOLD 2/5, log loss=0.22020615578762512, accuracy=0.9032609524639639, amex=0.7874815043176848 ===\n",
      "time to run this fold: 3m, 30s\n",
      "=== STARTING FOLD 3/5 (5) ===\n",
      "creating classifier\n",
      "fitting\n"
     ]
    },
    {
     "name": "stderr",
     "output_type": "stream",
     "text": [
      "/usr/local/lib/python3.8/dist-packages/xgboost/sklearn.py:793: UserWarning: `callbacks` in `fit` method is deprecated for better compatibility with scikit-learn, use `callbacks` in constructor or`set_params` instead.\n",
      "  warnings.warn(\n"
     ]
    },
    {
     "name": "stdout",
     "output_type": "stream",
     "text": [
      "[0]\tvalidation_0-logloss:0.55646\tvalidation_0-amex_metric_mod:0.62367\n",
      "[100]\tvalidation_0-logloss:0.22822\tvalidation_0-amex_metric_mod:0.77496\n",
      "[200]\tvalidation_0-logloss:0.22340\tvalidation_0-amex_metric_mod:0.78234\n",
      "[300]\tvalidation_0-logloss:0.22135\tvalidation_0-amex_metric_mod:0.78503\n",
      "[400]\tvalidation_0-logloss:0.22029\tvalidation_0-amex_metric_mod:0.78756\n",
      "[500]\tvalidation_0-logloss:0.21978\tvalidation_0-amex_metric_mod:0.78836\n",
      "[565]\tvalidation_0-logloss:0.21941\tvalidation_0-amex_metric_mod:0.78873\n",
      "predicting\n",
      "count zerO: 275349\n",
      "amex: 0.7872093778594245\n",
      "=== FINISHED FOLD 3/5, log loss=0.22033926822644437, accuracy=0.9023893313576589, amex=0.7872093778594245 ===\n",
      "time to run this fold: 5m, 26s\n",
      "=== STARTING FOLD 4/5 (5) ===\n",
      "creating classifier\n",
      "fitting\n"
     ]
    },
    {
     "name": "stderr",
     "output_type": "stream",
     "text": [
      "/usr/local/lib/python3.8/dist-packages/xgboost/sklearn.py:793: UserWarning: `callbacks` in `fit` method is deprecated for better compatibility with scikit-learn, use `callbacks` in constructor or`set_params` instead.\n",
      "  warnings.warn(\n"
     ]
    },
    {
     "name": "stdout",
     "output_type": "stream",
     "text": [
      "[0]\tvalidation_0-logloss:0.55663\tvalidation_0-amex_metric_mod:0.62597\n",
      "[100]\tvalidation_0-logloss:0.22876\tvalidation_0-amex_metric_mod:0.77758\n",
      "[200]\tvalidation_0-logloss:0.22360\tvalidation_0-amex_metric_mod:0.78525\n",
      "[300]\tvalidation_0-logloss:0.22132\tvalidation_0-amex_metric_mod:0.78759\n",
      "[400]\tvalidation_0-logloss:0.22037\tvalidation_0-amex_metric_mod:0.78902\n",
      "[500]\tvalidation_0-logloss:0.21969\tvalidation_0-amex_metric_mod:0.79034\n",
      "[560]\tvalidation_0-logloss:0.21931\tvalidation_0-amex_metric_mod:0.79050\n",
      "predicting\n",
      "count zerO: 367131\n",
      "amex: 0.7895007643459968\n",
      "=== FINISHED FOLD 4/5, log loss=0.22029203756880855, accuracy=0.9029330369789283, amex=0.7895007643459968 ===\n",
      "time to run this fold: 5m, 22s\n",
      "=== STARTING FOLD 5/5 (5) ===\n",
      "creating classifier\n",
      "fitting\n"
     ]
    },
    {
     "name": "stderr",
     "output_type": "stream",
     "text": [
      "/usr/local/lib/python3.8/dist-packages/xgboost/sklearn.py:793: UserWarning: `callbacks` in `fit` method is deprecated for better compatibility with scikit-learn, use `callbacks` in constructor or`set_params` instead.\n",
      "  warnings.warn(\n"
     ]
    },
    {
     "name": "stdout",
     "output_type": "stream",
     "text": [
      "[0]\tvalidation_0-logloss:0.55690\tvalidation_0-amex_metric_mod:0.61916\n",
      "[100]\tvalidation_0-logloss:0.23050\tvalidation_0-amex_metric_mod:0.76813\n",
      "[200]\tvalidation_0-logloss:0.22573\tvalidation_0-amex_metric_mod:0.77651\n",
      "[300]\tvalidation_0-logloss:0.22368\tvalidation_0-amex_metric_mod:0.78130\n",
      "[391]\tvalidation_0-logloss:0.22303\tvalidation_0-amex_metric_mod:0.78069\n",
      "predicting\n"
     ]
    },
    {
     "name": "stderr",
     "output_type": "stream",
     "text": [
      "\u001b[32m[I 2022-08-28 14:25:26,575]\u001b[0m Trial 6 finished with value: 0.7867228336805665 and parameters: {'booster': 'dart', 'lambda': 0.05905998150220166, 'alpha': 0.0004646027244243295, 'learning_rate': 0.26215174460132296, 'subsample': 0.7780494854292201, 'colsample_bytree': 0.8851876858409988, 'colsample_bylevel': 0.31354956176682136, 'min_child_weight': 4, 'max_depth': 2, 'eta': 5.6121628415650815e-06, 'gamma': 0.003663051707078861, 'grow_policy': 'depthwise', 'sample_type': 'uniform', 'normalize_type': 'tree', 'rate_drop': 0.0032906672584868436, 'skip_drop': 0.0009317188184846759}. Best is trial 6 with value: 0.7867228336805665.\u001b[0m\n"
     ]
    },
    {
     "name": "stdout",
     "output_type": "stream",
     "text": [
      "count zerO: 458913\n",
      "amex: 0.7806993676483238\n",
      "=== FINISHED FOLD 5/5, log loss=0.2241773007529171, accuracy=0.9010372404175111, amex=0.7806993676483238 ===\n",
      "time to run this fold: 2m, 45s\n",
      "time to run folds: 22m, 38s\n",
      "iteration logloss: 0.221152374651116, iteration acc: 0.9026089885278917, Iteration amex: 0.7867228336805665\n",
      "STARTING OPTIMIZATION iteration 8, data size: (458913, 1580), params={'booster': 'dart', 'lambda': 0.02020460853063888, 'alpha': 0.07576393812692717, 'learning_rate': 0.24183908144375882, 'subsample': 0.7912890234131992, 'colsample_bytree': 0.5487977892495832, 'colsample_bylevel': 0.9698033965710842, 'min_child_weight': 4, 'objective': 'binary:logistic', 'max_depth': 6, 'eval_metric': <function amex_metric_mod at 0x7fa3788d18b0>, 'n_estimators': 10000, 'n_jobs': 16, 'eta': 6.541698852199295e-08, 'gamma': 8.074212001793813e-06, 'grow_policy': 'lossguide', 'sample_type': 'uniform', 'normalize_type': 'forest', 'rate_drop': 3.204626822005223e-08, 'skip_drop': 3.874316177301528e-06, 'tree_method': 'gpu_hist', 'predictor': 'gpu_predictor'}\n",
      "=== STARTING FOLD 1/5 (5) ===\n",
      "creating classifier\n",
      "fitting\n"
     ]
    },
    {
     "name": "stderr",
     "output_type": "stream",
     "text": [
      "/usr/local/lib/python3.8/dist-packages/xgboost/sklearn.py:793: UserWarning: `callbacks` in `fit` method is deprecated for better compatibility with scikit-learn, use `callbacks` in constructor or`set_params` instead.\n",
      "  warnings.warn(\n"
     ]
    },
    {
     "name": "stdout",
     "output_type": "stream",
     "text": [
      "[0]\tvalidation_0-logloss:0.55221\tvalidation_0-amex_metric_mod:0.71192\n",
      "[100]\tvalidation_0-logloss:0.22436\tvalidation_0-amex_metric_mod:0.78126\n",
      "[155]\tvalidation_0-logloss:0.22562\tvalidation_0-amex_metric_mod:0.77982\n",
      "predicting\n",
      "count zerO: 91783\n",
      "amex: 0.7820279695698139\n",
      "=== FINISHED FOLD 1/5, log loss=0.22436179734262632, accuracy=0.9007659370471656, amex=0.7820279695698139 ===\n",
      "time to run this fold: 1m, 15s\n",
      "=== STARTING FOLD 2/5 (5) ===\n",
      "creating classifier\n",
      "fitting\n"
     ]
    },
    {
     "name": "stderr",
     "output_type": "stream",
     "text": [
      "/usr/local/lib/python3.8/dist-packages/xgboost/sklearn.py:793: UserWarning: `callbacks` in `fit` method is deprecated for better compatibility with scikit-learn, use `callbacks` in constructor or`set_params` instead.\n",
      "  warnings.warn(\n"
     ]
    },
    {
     "name": "stdout",
     "output_type": "stream",
     "text": [
      "[0]\tvalidation_0-logloss:0.55201\tvalidation_0-amex_metric_mod:0.70850\n",
      "[100]\tvalidation_0-logloss:0.22202\tvalidation_0-amex_metric_mod:0.78481\n",
      "[196]\tvalidation_0-logloss:0.22388\tvalidation_0-amex_metric_mod:0.78205\n",
      "predicting\n",
      "count zerO: 183566\n",
      "amex: 0.7850075398559738\n",
      "=== FINISHED FOLD 2/5, log loss=0.22200621619390948, accuracy=0.9027161892725233, amex=0.7850075398559738 ===\n",
      "time to run this fold: 1m, 52s\n",
      "=== STARTING FOLD 3/5 (5) ===\n",
      "creating classifier\n",
      "fitting\n"
     ]
    },
    {
     "name": "stderr",
     "output_type": "stream",
     "text": [
      "/usr/local/lib/python3.8/dist-packages/xgboost/sklearn.py:793: UserWarning: `callbacks` in `fit` method is deprecated for better compatibility with scikit-learn, use `callbacks` in constructor or`set_params` instead.\n",
      "  warnings.warn(\n"
     ]
    },
    {
     "name": "stdout",
     "output_type": "stream",
     "text": [
      "[0]\tvalidation_0-logloss:0.55244\tvalidation_0-amex_metric_mod:0.70695\n",
      "[100]\tvalidation_0-logloss:0.22334\tvalidation_0-amex_metric_mod:0.78170\n",
      "[153]\tvalidation_0-logloss:0.22413\tvalidation_0-amex_metric_mod:0.78231\n",
      "predicting\n",
      "count zerO: 275349\n",
      "amex: 0.7818801557172341\n",
      "=== FINISHED FOLD 3/5, log loss=0.22384854507963695, accuracy=0.9001231164812656, amex=0.7818801557172341 ===\n",
      "time to run this fold: 1m, 12s\n",
      "=== STARTING FOLD 4/5 (5) ===\n",
      "creating classifier\n",
      "fitting\n"
     ]
    },
    {
     "name": "stderr",
     "output_type": "stream",
     "text": [
      "/usr/local/lib/python3.8/dist-packages/xgboost/sklearn.py:793: UserWarning: `callbacks` in `fit` method is deprecated for better compatibility with scikit-learn, use `callbacks` in constructor or`set_params` instead.\n",
      "  warnings.warn(\n"
     ]
    },
    {
     "name": "stdout",
     "output_type": "stream",
     "text": [
      "[0]\tvalidation_0-logloss:0.55217\tvalidation_0-amex_metric_mod:0.71453\n",
      "[100]\tvalidation_0-logloss:0.22312\tvalidation_0-amex_metric_mod:0.78340\n",
      "[156]\tvalidation_0-logloss:0.22471\tvalidation_0-amex_metric_mod:0.78207\n",
      "predicting\n",
      "count zerO: 367131\n",
      "amex: 0.7843908561409241\n",
      "=== FINISHED FOLD 4/5, log loss=0.22367009104438582, accuracy=0.9005796343509621, amex=0.7843908561409241 ===\n",
      "time to run this fold: 1m, 15s\n",
      "=== STARTING FOLD 5/5 (5) ===\n",
      "creating classifier\n",
      "fitting\n"
     ]
    },
    {
     "name": "stderr",
     "output_type": "stream",
     "text": [
      "/usr/local/lib/python3.8/dist-packages/xgboost/sklearn.py:793: UserWarning: `callbacks` in `fit` method is deprecated for better compatibility with scikit-learn, use `callbacks` in constructor or`set_params` instead.\n",
      "  warnings.warn(\n"
     ]
    },
    {
     "name": "stdout",
     "output_type": "stream",
     "text": [
      "[0]\tvalidation_0-logloss:0.55246\tvalidation_0-amex_metric_mod:0.70826\n",
      "[100]\tvalidation_0-logloss:0.22509\tvalidation_0-amex_metric_mod:0.77850\n",
      "[154]\tvalidation_0-logloss:0.22602\tvalidation_0-amex_metric_mod:0.77894\n",
      "predicting\n"
     ]
    },
    {
     "name": "stderr",
     "output_type": "stream",
     "text": [
      "\u001b[32m[I 2022-08-28 14:32:17,204]\u001b[0m Trial 7 finished with value: 0.779123854430844 and parameters: {'booster': 'dart', 'lambda': 0.02020460853063888, 'alpha': 0.07576393812692717, 'learning_rate': 0.24183908144375882, 'subsample': 0.7912890234131992, 'colsample_bytree': 0.5487977892495832, 'colsample_bylevel': 0.9698033965710842, 'min_child_weight': 4, 'max_depth': 6, 'eta': 6.541698852199295e-08, 'gamma': 8.074212001793813e-06, 'grow_policy': 'lossguide', 'sample_type': 'uniform', 'normalize_type': 'forest', 'rate_drop': 3.204626822005223e-08, 'skip_drop': 3.874316177301528e-06}. Best is trial 6 with value: 0.7867228336805665.\u001b[0m\n"
     ]
    },
    {
     "name": "stdout",
     "output_type": "stream",
     "text": [
      "count zerO: 458913\n",
      "amex: 0.779123854430844\n",
      "=== FINISHED FOLD 5/5, log loss=0.2257259134482934, accuracy=0.9004162036129089, amex=0.779123854430844 ===\n",
      "time to run this fold: 1m, 14s\n",
      "low score on amex, dropping loop\n",
      "STARTING OPTIMIZATION iteration 9, data size: (458913, 1580), params={'booster': 'gbtree', 'lambda': 0.1427779070110534, 'alpha': 1.2210863732439613e-07, 'learning_rate': 0.09288932784513146, 'subsample': 0.7854911202531849, 'colsample_bytree': 0.3315581613748485, 'colsample_bylevel': 0.44989669528734033, 'min_child_weight': 3, 'objective': 'binary:logistic', 'max_depth': 1, 'eval_metric': <function amex_metric_mod at 0x7fa3788d18b0>, 'n_estimators': 10000, 'n_jobs': 16, 'eta': 0.7329048371727995, 'gamma': 0.0003353623596389703, 'grow_policy': 'lossguide', 'tree_method': 'gpu_hist', 'predictor': 'gpu_predictor'}\n",
      "=== STARTING FOLD 1/5 (5) ===\n",
      "creating classifier\n",
      "fitting\n"
     ]
    },
    {
     "name": "stderr",
     "output_type": "stream",
     "text": [
      "/usr/local/lib/python3.8/dist-packages/xgboost/sklearn.py:793: UserWarning: `callbacks` in `fit` method is deprecated for better compatibility with scikit-learn, use `callbacks` in constructor or`set_params` instead.\n",
      "  warnings.warn(\n"
     ]
    },
    {
     "name": "stdout",
     "output_type": "stream",
     "text": [
      "[0]\tvalidation_0-logloss:0.64612\tvalidation_0-amex_metric_mod:0.43312\n",
      "[100]\tvalidation_0-logloss:0.25463\tvalidation_0-amex_metric_mod:0.74859\n",
      "[200]\tvalidation_0-logloss:0.24185\tvalidation_0-amex_metric_mod:0.76203\n",
      "[300]\tvalidation_0-logloss:0.23646\tvalidation_0-amex_metric_mod:0.76953\n",
      "[400]\tvalidation_0-logloss:0.23315\tvalidation_0-amex_metric_mod:0.77422\n",
      "[500]\tvalidation_0-logloss:0.23105\tvalidation_0-amex_metric_mod:0.77738\n",
      "[600]\tvalidation_0-logloss:0.22942\tvalidation_0-amex_metric_mod:0.77901\n",
      "[700]\tvalidation_0-logloss:0.22816\tvalidation_0-amex_metric_mod:0.78101\n",
      "[776]\tvalidation_0-logloss:0.22741\tvalidation_0-amex_metric_mod:0.78132\n",
      "predicting\n",
      "count zerO: 91783\n",
      "amex: 0.7807509272948857\n",
      "=== FINISHED FOLD 1/5, log loss=0.2284456844568188, accuracy=0.8992406001111317, amex=0.7807509272948857 ===\n",
      "time to run this fold: 38s\n",
      "=== STARTING FOLD 2/5 (5) ===\n",
      "creating classifier\n",
      "fitting\n"
     ]
    },
    {
     "name": "stderr",
     "output_type": "stream",
     "text": [
      "/usr/local/lib/python3.8/dist-packages/xgboost/sklearn.py:793: UserWarning: `callbacks` in `fit` method is deprecated for better compatibility with scikit-learn, use `callbacks` in constructor or`set_params` instead.\n",
      "  warnings.warn(\n"
     ]
    },
    {
     "name": "stdout",
     "output_type": "stream",
     "text": [
      "[0]\tvalidation_0-logloss:0.64611\tvalidation_0-amex_metric_mod:0.43492\n",
      "[100]\tvalidation_0-logloss:0.25432\tvalidation_0-amex_metric_mod:0.74872\n",
      "[200]\tvalidation_0-logloss:0.24112\tvalidation_0-amex_metric_mod:0.76289\n",
      "[300]\tvalidation_0-logloss:0.23576\tvalidation_0-amex_metric_mod:0.76867\n",
      "[400]\tvalidation_0-logloss:0.23254\tvalidation_0-amex_metric_mod:0.77162\n",
      "[500]\tvalidation_0-logloss:0.23028\tvalidation_0-amex_metric_mod:0.77456\n",
      "[600]\tvalidation_0-logloss:0.22862\tvalidation_0-amex_metric_mod:0.77653\n",
      "[700]\tvalidation_0-logloss:0.22736\tvalidation_0-amex_metric_mod:0.77815\n",
      "[800]\tvalidation_0-logloss:0.22636\tvalidation_0-amex_metric_mod:0.77958\n",
      "[892]\tvalidation_0-logloss:0.22554\tvalidation_0-amex_metric_mod:0.78040\n",
      "predicting\n"
     ]
    },
    {
     "name": "stderr",
     "output_type": "stream",
     "text": [
      "\u001b[32m[I 2022-08-28 14:33:37,489]\u001b[0m Trial 8 finished with value: 0.7799160514932918 and parameters: {'booster': 'gbtree', 'lambda': 0.1427779070110534, 'alpha': 1.2210863732439613e-07, 'learning_rate': 0.09288932784513146, 'subsample': 0.7854911202531849, 'colsample_bytree': 0.3315581613748485, 'colsample_bylevel': 0.44989669528734033, 'min_child_weight': 3, 'max_depth': 1, 'eta': 0.7329048371727995, 'gamma': 0.0003353623596389703, 'grow_policy': 'lossguide'}. Best is trial 6 with value: 0.7867228336805665.\u001b[0m\n"
     ]
    },
    {
     "name": "stdout",
     "output_type": "stream",
     "text": [
      "count zerO: 183566\n",
      "amex: 0.7799160514932918\n",
      "=== FINISHED FOLD 2/5, log loss=0.22642966776872295, accuracy=0.899861630149374, amex=0.7799160514932918 ===\n",
      "time to run this fold: 41s\n",
      "low score on amex, dropping loop\n",
      "STARTING OPTIMIZATION iteration 10, data size: (458913, 1580), params={'booster': 'gblinear', 'lambda': 5.3653315541654854e-08, 'alpha': 0.00025848117023484127, 'learning_rate': 0.2848287146915821, 'subsample': 0.9107992413320251, 'colsample_bytree': 0.6694183616151168, 'colsample_bylevel': 0.7154671937980284, 'min_child_weight': 0, 'objective': 'binary:logistic', 'max_depth': -1, 'eval_metric': <function amex_metric_mod at 0x7fa3788d18b0>, 'n_estimators': 10000, 'n_jobs': 16, 'tree_method': 'gpu_hist', 'predictor': 'gpu_predictor'}\n",
      "=== STARTING FOLD 1/5 (5) ===\n",
      "creating classifier\n",
      "fitting\n"
     ]
    },
    {
     "name": "stderr",
     "output_type": "stream",
     "text": [
      "/usr/local/lib/python3.8/dist-packages/xgboost/sklearn.py:793: UserWarning: `callbacks` in `fit` method is deprecated for better compatibility with scikit-learn, use `callbacks` in constructor or`set_params` instead.\n",
      "  warnings.warn(\n"
     ]
    },
    {
     "name": "stdout",
     "output_type": "stream",
     "text": [
      "[14:33:40] WARNING: ../src/learner.cc:627: \n",
      "Parameters: { \"colsample_bylevel\", \"colsample_bytree\", \"max_depth\", \"min_child_weight\", \"predictor\", \"subsample\", \"tree_method\" } might not be used.\n",
      "\n",
      "  This could be a false alarm, with some parameters getting used by language bindings but\n",
      "  then being mistakenly passed down to XGBoost core, or some parameter actually being used\n",
      "  but getting flagged wrongly here. Please open an issue if you find any such cases.\n",
      "\n",
      "\n",
      "[0]\tvalidation_0-logloss:0.31162\tvalidation_0-amex_metric_mod:0.72779\n",
      "[100]\tvalidation_0-logloss:0.22998\tvalidation_0-amex_metric_mod:0.78044\n",
      "[148]\tvalidation_0-logloss:0.22984\tvalidation_0-amex_metric_mod:0.78097\n",
      "predicting\n",
      "count zerO: 91783\n",
      "amex: 0.7809684090052447\n",
      "=== FINISHED FOLD 1/5, log loss=0.22981417494513076, accuracy=0.8992732859026181, amex=0.7809684090052447 ===\n",
      "time to run this fold: 52s\n",
      "=== STARTING FOLD 2/5 (5) ===\n",
      "creating classifier\n",
      "fitting\n"
     ]
    },
    {
     "name": "stderr",
     "output_type": "stream",
     "text": [
      "/usr/local/lib/python3.8/dist-packages/xgboost/sklearn.py:793: UserWarning: `callbacks` in `fit` method is deprecated for better compatibility with scikit-learn, use `callbacks` in constructor or`set_params` instead.\n",
      "  warnings.warn(\n"
     ]
    },
    {
     "name": "stdout",
     "output_type": "stream",
     "text": [
      "[14:34:32] WARNING: ../src/learner.cc:627: \n",
      "Parameters: { \"colsample_bylevel\", \"colsample_bytree\", \"max_depth\", \"min_child_weight\", \"predictor\", \"subsample\", \"tree_method\" } might not be used.\n",
      "\n",
      "  This could be a false alarm, with some parameters getting used by language bindings but\n",
      "  then being mistakenly passed down to XGBoost core, or some parameter actually being used\n",
      "  but getting flagged wrongly here. Please open an issue if you find any such cases.\n",
      "\n",
      "\n",
      "[0]\tvalidation_0-logloss:0.31573\tvalidation_0-amex_metric_mod:0.73213\n",
      "[100]\tvalidation_0-logloss:0.22831\tvalidation_0-amex_metric_mod:0.78156\n",
      "[132]\tvalidation_0-logloss:0.22817\tvalidation_0-amex_metric_mod:0.78137\n",
      "predicting\n",
      "count zerO: 183566\n",
      "amex: 0.7813729893682861\n",
      "=== FINISHED FOLD 2/5, log loss=0.22812239681141216, accuracy=0.9002538596472114, amex=0.7813729893682861 ===\n",
      "time to run this fold: 46s\n",
      "=== STARTING FOLD 3/5 (5) ===\n",
      "creating classifier\n",
      "fitting\n"
     ]
    },
    {
     "name": "stderr",
     "output_type": "stream",
     "text": [
      "/usr/local/lib/python3.8/dist-packages/xgboost/sklearn.py:793: UserWarning: `callbacks` in `fit` method is deprecated for better compatibility with scikit-learn, use `callbacks` in constructor or`set_params` instead.\n",
      "  warnings.warn(\n"
     ]
    },
    {
     "name": "stdout",
     "output_type": "stream",
     "text": [
      "[14:35:19] WARNING: ../src/learner.cc:627: \n",
      "Parameters: { \"colsample_bylevel\", \"colsample_bytree\", \"max_depth\", \"min_child_weight\", \"predictor\", \"subsample\", \"tree_method\" } might not be used.\n",
      "\n",
      "  This could be a false alarm, with some parameters getting used by language bindings but\n",
      "  then being mistakenly passed down to XGBoost core, or some parameter actually being used\n",
      "  but getting flagged wrongly here. Please open an issue if you find any such cases.\n",
      "\n",
      "\n",
      "[0]\tvalidation_0-logloss:0.31465\tvalidation_0-amex_metric_mod:0.72340\n",
      "[100]\tvalidation_0-logloss:0.23083\tvalidation_0-amex_metric_mod:0.77530\n",
      "[136]\tvalidation_0-logloss:0.23074\tvalidation_0-amex_metric_mod:0.77453\n",
      "predicting\n"
     ]
    },
    {
     "name": "stderr",
     "output_type": "stream",
     "text": [
      "\u001b[32m[I 2022-08-28 14:36:05,443]\u001b[0m Trial 9 finished with value: 0.7744446442712928 and parameters: {'booster': 'gblinear', 'lambda': 5.3653315541654854e-08, 'alpha': 0.00025848117023484127, 'learning_rate': 0.2848287146915821, 'subsample': 0.9107992413320251, 'colsample_bytree': 0.6694183616151168, 'colsample_bylevel': 0.7154671937980284, 'min_child_weight': 0}. Best is trial 6 with value: 0.7867228336805665.\u001b[0m\n"
     ]
    },
    {
     "name": "stdout",
     "output_type": "stream",
     "text": [
      "count zerO: 275349\n",
      "amex: 0.7744446442712928\n",
      "=== FINISHED FOLD 3/5, log loss=0.230714465176078, accuracy=0.8975627294814944, amex=0.7744446442712928 ===\n",
      "time to run this fold: 48s\n",
      "low score on amex, dropping loop\n",
      "STARTING OPTIMIZATION iteration 11, data size: (458913, 1580), params={'booster': 'dart', 'lambda': 6.192584047012263e-06, 'alpha': 1.3714519742059613e-08, 'learning_rate': 0.028730071446494643, 'subsample': 0.7522993191668891, 'colsample_bytree': 0.5280052592042394, 'colsample_bylevel': 0.3086927179392077, 'min_child_weight': 2, 'objective': 'binary:logistic', 'max_depth': 3, 'eval_metric': <function amex_metric_mod at 0x7fa3788d18b0>, 'n_estimators': 10000, 'n_jobs': 16, 'eta': 0.0006579256895014728, 'gamma': 1.236296175293952, 'grow_policy': 'depthwise', 'sample_type': 'weighted', 'normalize_type': 'tree', 'rate_drop': 0.003866348067269795, 'skip_drop': 0.0071358154485607235, 'tree_method': 'gpu_hist', 'predictor': 'gpu_predictor'}\n",
      "=== STARTING FOLD 1/5 (5) ===\n",
      "creating classifier\n",
      "fitting\n"
     ]
    },
    {
     "name": "stderr",
     "output_type": "stream",
     "text": [
      "/usr/local/lib/python3.8/dist-packages/xgboost/sklearn.py:793: UserWarning: `callbacks` in `fit` method is deprecated for better compatibility with scikit-learn, use `callbacks` in constructor or`set_params` instead.\n",
      "  warnings.warn(\n"
     ]
    },
    {
     "name": "stdout",
     "output_type": "stream",
     "text": [
      "[0]\tvalidation_0-logloss:0.67622\tvalidation_0-amex_metric_mod:0.58906\n",
      "[100]\tvalidation_0-logloss:0.27051\tvalidation_0-amex_metric_mod:0.74699\n",
      "[200]\tvalidation_0-logloss:0.24208\tvalidation_0-amex_metric_mod:0.76205\n",
      "[300]\tvalidation_0-logloss:0.23442\tvalidation_0-amex_metric_mod:0.77014\n",
      "[400]\tvalidation_0-logloss:0.23081\tvalidation_0-amex_metric_mod:0.77491\n",
      "[500]\tvalidation_0-logloss:0.22868\tvalidation_0-amex_metric_mod:0.77732\n",
      "[600]\tvalidation_0-logloss:0.22727\tvalidation_0-amex_metric_mod:0.77913\n",
      "[700]\tvalidation_0-logloss:0.22622\tvalidation_0-amex_metric_mod:0.78062\n",
      "[800]\tvalidation_0-logloss:0.22548\tvalidation_0-amex_metric_mod:0.78202\n",
      "[812]\tvalidation_0-logloss:0.22543\tvalidation_0-amex_metric_mod:0.78202\n",
      "predicting\n",
      "count zerO: 91783\n",
      "amex: 0.7809807600051382\n",
      "=== FINISHED FOLD 1/5, log loss=0.22619031873825493, accuracy=0.8996655154004555, amex=0.7809807600051382 ===\n",
      "time to run this fold: 14m, 55s\n",
      "=== STARTING FOLD 2/5 (5) ===\n",
      "creating classifier\n",
      "fitting\n"
     ]
    },
    {
     "name": "stderr",
     "output_type": "stream",
     "text": [
      "/usr/local/lib/python3.8/dist-packages/xgboost/sklearn.py:793: UserWarning: `callbacks` in `fit` method is deprecated for better compatibility with scikit-learn, use `callbacks` in constructor or`set_params` instead.\n",
      "  warnings.warn(\n"
     ]
    },
    {
     "name": "stdout",
     "output_type": "stream",
     "text": [
      "[0]\tvalidation_0-logloss:0.67620\tvalidation_0-amex_metric_mod:0.58569\n",
      "[100]\tvalidation_0-logloss:0.27051\tvalidation_0-amex_metric_mod:0.74869\n",
      "[200]\tvalidation_0-logloss:0.24168\tvalidation_0-amex_metric_mod:0.76445\n",
      "[300]\tvalidation_0-logloss:0.23376\tvalidation_0-amex_metric_mod:0.77164\n",
      "[400]\tvalidation_0-logloss:0.23001\tvalidation_0-amex_metric_mod:0.77469\n",
      "[500]\tvalidation_0-logloss:0.22778\tvalidation_0-amex_metric_mod:0.77728\n",
      "[600]\tvalidation_0-logloss:0.22641\tvalidation_0-amex_metric_mod:0.77970\n",
      "[700]\tvalidation_0-logloss:0.22533\tvalidation_0-amex_metric_mod:0.78091\n",
      "[800]\tvalidation_0-logloss:0.22449\tvalidation_0-amex_metric_mod:0.78192\n",
      "[805]\tvalidation_0-logloss:0.22448\tvalidation_0-amex_metric_mod:0.78199\n",
      "predicting\n",
      "count zerO: 183566\n",
      "amex: 0.7810944205890037\n",
      "=== FINISHED FOLD 2/5, log loss=0.22532551523231933, accuracy=0.9004172886046435, amex=0.7810944205890037 ===\n",
      "time to run this fold: 14m, 45s\n",
      "=== STARTING FOLD 3/5 (5) ===\n",
      "creating classifier\n",
      "fitting\n"
     ]
    },
    {
     "name": "stderr",
     "output_type": "stream",
     "text": [
      "/usr/local/lib/python3.8/dist-packages/xgboost/sklearn.py:793: UserWarning: `callbacks` in `fit` method is deprecated for better compatibility with scikit-learn, use `callbacks` in constructor or`set_params` instead.\n",
      "  warnings.warn(\n"
     ]
    },
    {
     "name": "stdout",
     "output_type": "stream",
     "text": [
      "[0]\tvalidation_0-logloss:0.67627\tvalidation_0-amex_metric_mod:0.57937\n",
      "[100]\tvalidation_0-logloss:0.27148\tvalidation_0-amex_metric_mod:0.74178\n",
      "[200]\tvalidation_0-logloss:0.24261\tvalidation_0-amex_metric_mod:0.75833\n",
      "[300]\tvalidation_0-logloss:0.23479\tvalidation_0-amex_metric_mod:0.76738\n",
      "[400]\tvalidation_0-logloss:0.23104\tvalidation_0-amex_metric_mod:0.77187\n",
      "[500]\tvalidation_0-logloss:0.22877\tvalidation_0-amex_metric_mod:0.77581\n",
      "[600]\tvalidation_0-logloss:0.22735\tvalidation_0-amex_metric_mod:0.77742\n",
      "[700]\tvalidation_0-logloss:0.22625\tvalidation_0-amex_metric_mod:0.77961\n",
      "[800]\tvalidation_0-logloss:0.22541\tvalidation_0-amex_metric_mod:0.78064\n",
      "[900]\tvalidation_0-logloss:0.22476\tvalidation_0-amex_metric_mod:0.78148\n",
      "[948]\tvalidation_0-logloss:0.22451\tvalidation_0-amex_metric_mod:0.78157\n",
      "predicting\n",
      "count zerO: 275349\n",
      "amex: 0.7813838675575403\n",
      "=== FINISHED FOLD 3/5, log loss=0.22515411676258995, accuracy=0.9003954980769859, amex=0.7813838675575403 ===\n",
      "time to run this fold: 20m, 14s\n",
      "=== STARTING FOLD 4/5 (5) ===\n",
      "creating classifier\n",
      "fitting\n"
     ]
    },
    {
     "name": "stderr",
     "output_type": "stream",
     "text": [
      "/usr/local/lib/python3.8/dist-packages/xgboost/sklearn.py:793: UserWarning: `callbacks` in `fit` method is deprecated for better compatibility with scikit-learn, use `callbacks` in constructor or`set_params` instead.\n",
      "  warnings.warn(\n"
     ]
    },
    {
     "name": "stdout",
     "output_type": "stream",
     "text": [
      "[0]\tvalidation_0-logloss:0.67623\tvalidation_0-amex_metric_mod:0.58984\n",
      "[100]\tvalidation_0-logloss:0.27118\tvalidation_0-amex_metric_mod:0.74889\n",
      "[200]\tvalidation_0-logloss:0.24236\tvalidation_0-amex_metric_mod:0.76710\n",
      "[300]\tvalidation_0-logloss:0.23436\tvalidation_0-amex_metric_mod:0.77397\n",
      "[400]\tvalidation_0-logloss:0.23043\tvalidation_0-amex_metric_mod:0.77892\n",
      "[500]\tvalidation_0-logloss:0.22813\tvalidation_0-amex_metric_mod:0.78132\n",
      "[600]\tvalidation_0-logloss:0.22667\tvalidation_0-amex_metric_mod:0.78321\n",
      "[700]\tvalidation_0-logloss:0.22560\tvalidation_0-amex_metric_mod:0.78417\n",
      "[703]\tvalidation_0-logloss:0.22556\tvalidation_0-amex_metric_mod:0.78433\n",
      "predicting\n",
      "count zerO: 367131\n",
      "amex: 0.7833544150681542\n",
      "=== FINISHED FOLD 4/5, log loss=0.22668215111061527, accuracy=0.8990651761783356, amex=0.7833544150681542 ===\n",
      "time to run this fold: 11m, 20s\n",
      "=== STARTING FOLD 5/5 (5) ===\n",
      "creating classifier\n",
      "fitting\n"
     ]
    },
    {
     "name": "stderr",
     "output_type": "stream",
     "text": [
      "/usr/local/lib/python3.8/dist-packages/xgboost/sklearn.py:793: UserWarning: `callbacks` in `fit` method is deprecated for better compatibility with scikit-learn, use `callbacks` in constructor or`set_params` instead.\n",
      "  warnings.warn(\n"
     ]
    },
    {
     "name": "stdout",
     "output_type": "stream",
     "text": [
      "[0]\tvalidation_0-logloss:0.67626\tvalidation_0-amex_metric_mod:0.58206\n",
      "[100]\tvalidation_0-logloss:0.27216\tvalidation_0-amex_metric_mod:0.74104\n",
      "[200]\tvalidation_0-logloss:0.24401\tvalidation_0-amex_metric_mod:0.75618\n",
      "[300]\tvalidation_0-logloss:0.23630\tvalidation_0-amex_metric_mod:0.76324\n",
      "[400]\tvalidation_0-logloss:0.23253\tvalidation_0-amex_metric_mod:0.76836\n",
      "[500]\tvalidation_0-logloss:0.23030\tvalidation_0-amex_metric_mod:0.77201\n",
      "[600]\tvalidation_0-logloss:0.22886\tvalidation_0-amex_metric_mod:0.77371\n",
      "[700]\tvalidation_0-logloss:0.22777\tvalidation_0-amex_metric_mod:0.77514\n",
      "[800]\tvalidation_0-logloss:0.22700\tvalidation_0-amex_metric_mod:0.77628\n",
      "[863]\tvalidation_0-logloss:0.22659\tvalidation_0-amex_metric_mod:0.77655\n",
      "predicting\n"
     ]
    },
    {
     "name": "stderr",
     "output_type": "stream",
     "text": [
      "\u001b[32m[I 2022-08-28 15:54:10,999]\u001b[0m Trial 10 finished with value: 0.7760016863772738 and parameters: {'booster': 'dart', 'lambda': 6.192584047012263e-06, 'alpha': 1.3714519742059613e-08, 'learning_rate': 0.028730071446494643, 'subsample': 0.7522993191668891, 'colsample_bytree': 0.5280052592042394, 'colsample_bylevel': 0.3086927179392077, 'min_child_weight': 2, 'max_depth': 3, 'eta': 0.0006579256895014728, 'gamma': 1.236296175293952, 'grow_policy': 'depthwise', 'sample_type': 'weighted', 'normalize_type': 'tree', 'rate_drop': 0.003866348067269795, 'skip_drop': 0.0071358154485607235}. Best is trial 6 with value: 0.7867228336805665.\u001b[0m\n"
     ]
    },
    {
     "name": "stdout",
     "output_type": "stream",
     "text": [
      "count zerO: 458913\n",
      "amex: 0.7760016863772738\n",
      "=== FINISHED FOLD 5/5, log loss=0.2272812281368125, accuracy=0.8997188991305485, amex=0.7760016863772738 ===\n",
      "time to run this fold: 16m, 49s\n",
      "low score on amex, dropping loop\n",
      "STARTING OPTIMIZATION iteration 12, data size: (458913, 1580), params={'booster': 'dart', 'lambda': 1.9972950284561023e-06, 'alpha': 2.5235740464266043e-06, 'learning_rate': 0.28508123227226967, 'subsample': 0.8890374754819055, 'colsample_bytree': 0.9744764958280132, 'colsample_bylevel': 0.7778233935139374, 'min_child_weight': 3, 'objective': 'binary:logistic', 'max_depth': 9, 'eval_metric': <function amex_metric_mod at 0x7fa3788d18b0>, 'n_estimators': 10000, 'n_jobs': 16, 'eta': 1.8795392780010562e-05, 'gamma': 1.7721548888219712e-08, 'grow_policy': 'depthwise', 'sample_type': 'uniform', 'normalize_type': 'tree', 'rate_drop': 0.9263107190345379, 'skip_drop': 0.15154787680743143, 'tree_method': 'gpu_hist', 'predictor': 'gpu_predictor'}\n",
      "=== STARTING FOLD 1/5 (5) ===\n",
      "creating classifier\n",
      "fitting\n"
     ]
    },
    {
     "name": "stderr",
     "output_type": "stream",
     "text": [
      "/usr/local/lib/python3.8/dist-packages/xgboost/sklearn.py:793: UserWarning: `callbacks` in `fit` method is deprecated for better compatibility with scikit-learn, use `callbacks` in constructor or`set_params` instead.\n",
      "  warnings.warn(\n"
     ]
    },
    {
     "name": "stdout",
     "output_type": "stream",
     "text": [
      "[0]\tvalidation_0-logloss:0.52640\tvalidation_0-amex_metric_mod:0.72533\n",
      "[100]\tvalidation_0-logloss:0.23164\tvalidation_0-amex_metric_mod:0.77393\n",
      "[200]\tvalidation_0-logloss:0.22675\tvalidation_0-amex_metric_mod:0.77881\n",
      "[300]\tvalidation_0-logloss:0.22621\tvalidation_0-amex_metric_mod:0.77955\n",
      "[318]\tvalidation_0-logloss:0.22634\tvalidation_0-amex_metric_mod:0.78002\n",
      "predicting\n"
     ]
    },
    {
     "name": "stderr",
     "output_type": "stream",
     "text": [
      "\u001b[32m[I 2022-08-28 15:58:11,497]\u001b[0m Trial 11 finished with value: 0.7795198349760312 and parameters: {'booster': 'dart', 'lambda': 1.9972950284561023e-06, 'alpha': 2.5235740464266043e-06, 'learning_rate': 0.28508123227226967, 'subsample': 0.8890374754819055, 'colsample_bytree': 0.9744764958280132, 'colsample_bylevel': 0.7778233935139374, 'min_child_weight': 3, 'max_depth': 9, 'eta': 1.8795392780010562e-05, 'gamma': 1.7721548888219712e-08, 'grow_policy': 'depthwise', 'sample_type': 'uniform', 'normalize_type': 'tree', 'rate_drop': 0.9263107190345379, 'skip_drop': 0.15154787680743143}. Best is trial 6 with value: 0.7867228336805665.\u001b[0m\n"
     ]
    },
    {
     "name": "stdout",
     "output_type": "stream",
     "text": [
      "count zerO: 91783\n",
      "amex: 0.7795198349760312\n",
      "=== FINISHED FOLD 1/5, log loss=0.2264050459801659, accuracy=0.8995892485536537, amex=0.7795198349760312 ===\n",
      "time to run this fold: 4m, 0s\n",
      "low score on amex, dropping loop\n",
      "STARTING OPTIMIZATION iteration 13, data size: (458913, 1580), params={'booster': 'dart', 'lambda': 1.1264647225064107e-05, 'alpha': 0.0034592192841351576, 'learning_rate': 0.20386550281156263, 'subsample': 0.7586905274300982, 'colsample_bytree': 0.8485522866141859, 'colsample_bylevel': 0.3275694370511324, 'min_child_weight': 4, 'objective': 'binary:logistic', 'max_depth': 5, 'eval_metric': <function amex_metric_mod at 0x7fa3788d18b0>, 'n_estimators': 10000, 'n_jobs': 16, 'eta': 2.2454982432842603e-05, 'gamma': 1.6887063580482697e-07, 'grow_policy': 'depthwise', 'sample_type': 'uniform', 'normalize_type': 'tree', 'rate_drop': 0.007063911747005387, 'skip_drop': 0.0006717486332703024, 'tree_method': 'gpu_hist', 'predictor': 'gpu_predictor'}\n",
      "=== STARTING FOLD 1/5 (5) ===\n",
      "creating classifier\n",
      "fitting\n"
     ]
    },
    {
     "name": "stderr",
     "output_type": "stream",
     "text": [
      "/usr/local/lib/python3.8/dist-packages/xgboost/sklearn.py:793: UserWarning: `callbacks` in `fit` method is deprecated for better compatibility with scikit-learn, use `callbacks` in constructor or`set_params` instead.\n",
      "  warnings.warn(\n"
     ]
    },
    {
     "name": "stdout",
     "output_type": "stream",
     "text": [
      "[0]\tvalidation_0-logloss:0.57504\tvalidation_0-amex_metric_mod:0.68081\n",
      "[100]\tvalidation_0-logloss:0.22213\tvalidation_0-amex_metric_mod:0.78446\n",
      "[200]\tvalidation_0-logloss:0.22022\tvalidation_0-amex_metric_mod:0.78888\n",
      "[300]\tvalidation_0-logloss:0.21971\tvalidation_0-amex_metric_mod:0.79037\n",
      "[400]\tvalidation_0-logloss:0.21947\tvalidation_0-amex_metric_mod:0.79037\n",
      "[450]\tvalidation_0-logloss:0.21925\tvalidation_0-amex_metric_mod:0.79026\n",
      "predicting\n",
      "count zerO: 91783\n",
      "amex: 0.7900230061704827\n",
      "=== FINISHED FOLD 1/5, log loss=0.21942129735198448, accuracy=0.9036749724894588, amex=0.7900230061704827 ===\n",
      "time to run this fold: 7m, 23s\n",
      "=== STARTING FOLD 2/5 (5) ===\n",
      "creating classifier\n",
      "fitting\n"
     ]
    },
    {
     "name": "stderr",
     "output_type": "stream",
     "text": [
      "/usr/local/lib/python3.8/dist-packages/xgboost/sklearn.py:793: UserWarning: `callbacks` in `fit` method is deprecated for better compatibility with scikit-learn, use `callbacks` in constructor or`set_params` instead.\n",
      "  warnings.warn(\n"
     ]
    },
    {
     "name": "stdout",
     "output_type": "stream",
     "text": [
      "[0]\tvalidation_0-logloss:0.57485\tvalidation_0-amex_metric_mod:0.68026\n",
      "[100]\tvalidation_0-logloss:0.22060\tvalidation_0-amex_metric_mod:0.78522\n",
      "[200]\tvalidation_0-logloss:0.21843\tvalidation_0-amex_metric_mod:0.78905\n",
      "[273]\tvalidation_0-logloss:0.21810\tvalidation_0-amex_metric_mod:0.78968\n",
      "predicting\n",
      "count zerO: 183566\n",
      "amex: 0.789650279478213\n",
      "=== FINISHED FOLD 2/5, log loss=0.2191381296273225, accuracy=0.9035769151149995, amex=0.789650279478213 ===\n",
      "time to run this fold: 2m, 54s\n",
      "=== STARTING FOLD 3/5 (5) ===\n",
      "creating classifier\n",
      "fitting\n"
     ]
    },
    {
     "name": "stderr",
     "output_type": "stream",
     "text": [
      "/usr/local/lib/python3.8/dist-packages/xgboost/sklearn.py:793: UserWarning: `callbacks` in `fit` method is deprecated for better compatibility with scikit-learn, use `callbacks` in constructor or`set_params` instead.\n",
      "  warnings.warn(\n"
     ]
    },
    {
     "name": "stdout",
     "output_type": "stream",
     "text": [
      "[0]\tvalidation_0-logloss:0.57517\tvalidation_0-amex_metric_mod:0.67412\n",
      "[100]\tvalidation_0-logloss:0.22174\tvalidation_0-amex_metric_mod:0.78358\n",
      "[200]\tvalidation_0-logloss:0.22005\tvalidation_0-amex_metric_mod:0.78702\n",
      "[291]\tvalidation_0-logloss:0.21935\tvalidation_0-amex_metric_mod:0.78783\n",
      "predicting\n",
      "count zerO: 275349\n",
      "amex: 0.7879419633287774\n",
      "=== FINISHED FOLD 3/5, log loss=0.2206624658323616, accuracy=0.9020079971236503, amex=0.7879419633287774 ===\n",
      "time to run this fold: 3m, 14s\n",
      "=== STARTING FOLD 4/5 (5) ===\n",
      "creating classifier\n",
      "fitting\n"
     ]
    },
    {
     "name": "stderr",
     "output_type": "stream",
     "text": [
      "/usr/local/lib/python3.8/dist-packages/xgboost/sklearn.py:793: UserWarning: `callbacks` in `fit` method is deprecated for better compatibility with scikit-learn, use `callbacks` in constructor or`set_params` instead.\n",
      "  warnings.warn(\n"
     ]
    },
    {
     "name": "stdout",
     "output_type": "stream",
     "text": [
      "[0]\tvalidation_0-logloss:0.57510\tvalidation_0-amex_metric_mod:0.67832\n",
      "[100]\tvalidation_0-logloss:0.22157\tvalidation_0-amex_metric_mod:0.78775\n",
      "[200]\tvalidation_0-logloss:0.21954\tvalidation_0-amex_metric_mod:0.78962\n",
      "[300]\tvalidation_0-logloss:0.21901\tvalidation_0-amex_metric_mod:0.79091\n",
      "[322]\tvalidation_0-logloss:0.21882\tvalidation_0-amex_metric_mod:0.79092\n",
      "predicting\n",
      "count zerO: 367131\n",
      "amex: 0.7900326360765104\n",
      "=== FINISHED FOLD 4/5, log loss=0.21986980969566122, accuracy=0.9024754309123794, amex=0.7900326360765104 ===\n",
      "time to run this fold: 3m, 55s\n",
      "=== STARTING FOLD 5/5 (5) ===\n",
      "creating classifier\n",
      "fitting\n"
     ]
    },
    {
     "name": "stderr",
     "output_type": "stream",
     "text": [
      "/usr/local/lib/python3.8/dist-packages/xgboost/sklearn.py:793: UserWarning: `callbacks` in `fit` method is deprecated for better compatibility with scikit-learn, use `callbacks` in constructor or`set_params` instead.\n",
      "  warnings.warn(\n"
     ]
    },
    {
     "name": "stdout",
     "output_type": "stream",
     "text": [
      "[0]\tvalidation_0-logloss:0.57549\tvalidation_0-amex_metric_mod:0.67426\n",
      "[100]\tvalidation_0-logloss:0.22403\tvalidation_0-amex_metric_mod:0.78028\n",
      "[200]\tvalidation_0-logloss:0.22228\tvalidation_0-amex_metric_mod:0.78518\n",
      "[300]\tvalidation_0-logloss:0.22182\tvalidation_0-amex_metric_mod:0.78530\n",
      "[340]\tvalidation_0-logloss:0.22164\tvalidation_0-amex_metric_mod:0.78522\n",
      "predicting\n"
     ]
    },
    {
     "name": "stderr",
     "output_type": "stream",
     "text": [
      "\u001b[32m[I 2022-08-28 16:19:58,213]\u001b[0m Trial 12 finished with value: 0.7886033672549433 and parameters: {'booster': 'dart', 'lambda': 1.1264647225064107e-05, 'alpha': 0.0034592192841351576, 'learning_rate': 0.20386550281156263, 'subsample': 0.7586905274300982, 'colsample_bytree': 0.8485522866141859, 'colsample_bylevel': 0.3275694370511324, 'min_child_weight': 4, 'max_depth': 5, 'eta': 2.2454982432842603e-05, 'gamma': 1.6887063580482697e-07, 'grow_policy': 'depthwise', 'sample_type': 'uniform', 'normalize_type': 'tree', 'rate_drop': 0.007063911747005387, 'skip_drop': 0.0006717486332703024}. Best is trial 12 with value: 0.7886033672549433.\u001b[0m\n"
     ]
    },
    {
     "name": "stdout",
     "output_type": "stream",
     "text": [
      "count zerO: 458913\n",
      "amex: 0.7853689512207322\n",
      "=== FINISHED FOLD 5/5, log loss=0.22234256500847746, accuracy=0.9015057418665969, amex=0.7853689512207322 ===\n",
      "time to run this fold: 4m, 19s\n",
      "time to run folds: 21m, 46s\n",
      "iteration logloss: 0.2202868535031614, iteration acc: 0.902648211501417, Iteration amex: 0.7886033672549433\n",
      "STARTING OPTIMIZATION iteration 14, data size: (458913, 1580), params={'booster': 'dart', 'lambda': 2.877329165565796e-05, 'alpha': 0.017356517964823577, 'learning_rate': 0.1877403690571971, 'subsample': 0.7504134004710002, 'colsample_bytree': 0.8162541363551923, 'colsample_bylevel': 0.30063466797337635, 'min_child_weight': 4, 'objective': 'binary:logistic', 'max_depth': 5, 'eval_metric': <function amex_metric_mod at 0x7fa3788d18b0>, 'n_estimators': 10000, 'n_jobs': 16, 'eta': 0.0008160403161566345, 'gamma': 0.027350795623652426, 'grow_policy': 'depthwise', 'sample_type': 'uniform', 'normalize_type': 'tree', 'rate_drop': 0.00010503067924786484, 'skip_drop': 9.959081399980223e-05, 'tree_method': 'gpu_hist', 'predictor': 'gpu_predictor'}\n",
      "=== STARTING FOLD 1/5 (5) ===\n",
      "creating classifier\n",
      "fitting\n"
     ]
    },
    {
     "name": "stderr",
     "output_type": "stream",
     "text": [
      "/usr/local/lib/python3.8/dist-packages/xgboost/sklearn.py:793: UserWarning: `callbacks` in `fit` method is deprecated for better compatibility with scikit-learn, use `callbacks` in constructor or`set_params` instead.\n",
      "  warnings.warn(\n"
     ]
    },
    {
     "name": "stdout",
     "output_type": "stream",
     "text": [
      "[0]\tvalidation_0-logloss:0.58301\tvalidation_0-amex_metric_mod:0.68143\n",
      "[100]\tvalidation_0-logloss:0.22232\tvalidation_0-amex_metric_mod:0.78700\n",
      "[200]\tvalidation_0-logloss:0.22138\tvalidation_0-amex_metric_mod:0.78705\n",
      "[207]\tvalidation_0-logloss:0.22133\tvalidation_0-amex_metric_mod:0.78714\n",
      "predicting\n",
      "count zerO: 91783\n",
      "amex: 0.7877644459872284\n",
      "=== FINISHED FOLD 1/5, log loss=0.2221780605541972, accuracy=0.9023784360938301, amex=0.7877644459872284 ===\n",
      "time to run this fold: 1m, 45s\n",
      "=== STARTING FOLD 2/5 (5) ===\n",
      "creating classifier\n",
      "fitting\n"
     ]
    },
    {
     "name": "stderr",
     "output_type": "stream",
     "text": [
      "/usr/local/lib/python3.8/dist-packages/xgboost/sklearn.py:793: UserWarning: `callbacks` in `fit` method is deprecated for better compatibility with scikit-learn, use `callbacks` in constructor or`set_params` instead.\n",
      "  warnings.warn(\n"
     ]
    },
    {
     "name": "stdout",
     "output_type": "stream",
     "text": [
      "[0]\tvalidation_0-logloss:0.58334\tvalidation_0-amex_metric_mod:0.68272\n",
      "[100]\tvalidation_0-logloss:0.22147\tvalidation_0-amex_metric_mod:0.78473\n",
      "[200]\tvalidation_0-logloss:0.22021\tvalidation_0-amex_metric_mod:0.78670\n",
      "[265]\tvalidation_0-logloss:0.22025\tvalidation_0-amex_metric_mod:0.78661\n",
      "predicting\n",
      "count zerO: 183566\n",
      "amex: 0.7866153939422278\n",
      "=== FINISHED FOLD 2/5, log loss=0.2202473647657917, accuracy=0.9028905134937842, amex=0.7866153939422278 ===\n",
      "time to run this fold: 2m, 43s\n",
      "=== STARTING FOLD 3/5 (5) ===\n",
      "creating classifier\n",
      "fitting\n"
     ]
    },
    {
     "name": "stderr",
     "output_type": "stream",
     "text": [
      "/usr/local/lib/python3.8/dist-packages/xgboost/sklearn.py:793: UserWarning: `callbacks` in `fit` method is deprecated for better compatibility with scikit-learn, use `callbacks` in constructor or`set_params` instead.\n",
      "  warnings.warn(\n"
     ]
    },
    {
     "name": "stdout",
     "output_type": "stream",
     "text": [
      "[0]\tvalidation_0-logloss:0.58320\tvalidation_0-amex_metric_mod:0.68039\n",
      "[100]\tvalidation_0-logloss:0.22221\tvalidation_0-amex_metric_mod:0.78473\n",
      "[200]\tvalidation_0-logloss:0.22129\tvalidation_0-amex_metric_mod:0.78799\n",
      "[279]\tvalidation_0-logloss:0.22154\tvalidation_0-amex_metric_mod:0.78568\n",
      "predicting\n",
      "count zerO: 275349\n",
      "amex: 0.7883595457061976\n",
      "=== FINISHED FOLD 3/5, log loss=0.22131420922331074, accuracy=0.9009838423237418, amex=0.7883595457061976 ===\n",
      "time to run this fold: 3m, 0s\n",
      "=== STARTING FOLD 4/5 (5) ===\n",
      "creating classifier\n",
      "fitting\n"
     ]
    },
    {
     "name": "stderr",
     "output_type": "stream",
     "text": [
      "/usr/local/lib/python3.8/dist-packages/xgboost/sklearn.py:793: UserWarning: `callbacks` in `fit` method is deprecated for better compatibility with scikit-learn, use `callbacks` in constructor or`set_params` instead.\n",
      "  warnings.warn(\n"
     ]
    },
    {
     "name": "stdout",
     "output_type": "stream",
     "text": [
      "[0]\tvalidation_0-logloss:0.58317\tvalidation_0-amex_metric_mod:0.68200\n",
      "[100]\tvalidation_0-logloss:0.22124\tvalidation_0-amex_metric_mod:0.78851\n",
      "[200]\tvalidation_0-logloss:0.22049\tvalidation_0-amex_metric_mod:0.78917\n",
      "[281]\tvalidation_0-logloss:0.22100\tvalidation_0-amex_metric_mod:0.78876\n",
      "predicting\n",
      "count zerO: 367131\n",
      "amex: 0.7896189493556283\n",
      "=== FINISHED FOLD 4/5, log loss=0.22053708096798882, accuracy=0.9018979756379246, amex=0.7896189493556283 ===\n",
      "time to run this fold: 3m, 3s\n",
      "=== STARTING FOLD 5/5 (5) ===\n",
      "creating classifier\n",
      "fitting\n"
     ]
    },
    {
     "name": "stderr",
     "output_type": "stream",
     "text": [
      "/usr/local/lib/python3.8/dist-packages/xgboost/sklearn.py:793: UserWarning: `callbacks` in `fit` method is deprecated for better compatibility with scikit-learn, use `callbacks` in constructor or`set_params` instead.\n",
      "  warnings.warn(\n"
     ]
    },
    {
     "name": "stdout",
     "output_type": "stream",
     "text": [
      "[0]\tvalidation_0-logloss:0.58332\tvalidation_0-amex_metric_mod:0.67709\n",
      "[100]\tvalidation_0-logloss:0.22376\tvalidation_0-amex_metric_mod:0.77970\n",
      "[200]\tvalidation_0-logloss:0.22268\tvalidation_0-amex_metric_mod:0.78129\n",
      "[300]\tvalidation_0-logloss:0.22295\tvalidation_0-amex_metric_mod:0.78265\n",
      "[353]\tvalidation_0-logloss:0.22330\tvalidation_0-amex_metric_mod:0.78236\n",
      "predicting\n"
     ]
    },
    {
     "name": "stderr",
     "output_type": "stream",
     "text": [
      "\u001b[32m[I 2022-08-28 16:35:10,485]\u001b[0m Trial 13 finished with value: 0.786999504237267 and parameters: {'booster': 'dart', 'lambda': 2.877329165565796e-05, 'alpha': 0.017356517964823577, 'learning_rate': 0.1877403690571971, 'subsample': 0.7504134004710002, 'colsample_bytree': 0.8162541363551923, 'colsample_bylevel': 0.30063466797337635, 'min_child_weight': 4, 'max_depth': 5, 'eta': 0.0008160403161566345, 'gamma': 0.027350795623652426, 'grow_policy': 'depthwise', 'sample_type': 'uniform', 'normalize_type': 'tree', 'rate_drop': 0.00010503067924786484, 'skip_drop': 9.959081399980223e-05}. Best is trial 12 with value: 0.7886033672549433.\u001b[0m\n"
     ]
    },
    {
     "name": "stdout",
     "output_type": "stream",
     "text": [
      "count zerO: 458913\n",
      "amex: 0.7826391861950528\n",
      "=== FINISHED FOLD 5/5, log loss=0.2227456666226738, accuracy=0.9014294741888388, amex=0.7826391861950528 ===\n",
      "time to run this fold: 4m, 38s\n",
      "time to run folds: 15m, 12s\n",
      "iteration logloss: 0.22140447642679248, iteration acc: 0.901916048347624, Iteration amex: 0.786999504237267\n",
      "STARTING OPTIMIZATION iteration 15, data size: (458913, 1580), params={'booster': 'dart', 'lambda': 1.638570330193235e-05, 'alpha': 0.00952562356818656, 'learning_rate': 0.18560229752669313, 'subsample': 0.7611693128506751, 'colsample_bytree': 0.765586903332785, 'colsample_bylevel': 0.4262615699896738, 'min_child_weight': 5, 'objective': 'binary:logistic', 'max_depth': 5, 'eval_metric': <function amex_metric_mod at 0x7fa3788d18b0>, 'n_estimators': 10000, 'n_jobs': 16, 'eta': 0.0017530232946320482, 'gamma': 2.52712613182235, 'grow_policy': 'depthwise', 'sample_type': 'uniform', 'normalize_type': 'tree', 'rate_drop': 1.2726456819169682e-05, 'skip_drop': 2.4459461601136815e-05, 'tree_method': 'gpu_hist', 'predictor': 'gpu_predictor'}\n",
      "=== STARTING FOLD 1/5 (5) ===\n",
      "creating classifier\n",
      "fitting\n"
     ]
    },
    {
     "name": "stderr",
     "output_type": "stream",
     "text": [
      "/usr/local/lib/python3.8/dist-packages/xgboost/sklearn.py:793: UserWarning: `callbacks` in `fit` method is deprecated for better compatibility with scikit-learn, use `callbacks` in constructor or`set_params` instead.\n",
      "  warnings.warn(\n"
     ]
    },
    {
     "name": "stdout",
     "output_type": "stream",
     "text": [
      "[0]\tvalidation_0-logloss:0.58332\tvalidation_0-amex_metric_mod:0.68414\n",
      "[100]\tvalidation_0-logloss:0.22224\tvalidation_0-amex_metric_mod:0.78565\n",
      "[200]\tvalidation_0-logloss:0.22088\tvalidation_0-amex_metric_mod:0.78736\n",
      "[273]\tvalidation_0-logloss:0.22093\tvalidation_0-amex_metric_mod:0.78696\n",
      "predicting\n",
      "count zerO: 91783\n",
      "amex: 0.7877090674223572\n",
      "=== FINISHED FOLD 1/5, log loss=0.22094837497549671, accuracy=0.9028687229661266, amex=0.7877090674223572 ===\n",
      "time to run this fold: 2m, 53s\n",
      "=== STARTING FOLD 2/5 (5) ===\n",
      "creating classifier\n",
      "fitting\n"
     ]
    },
    {
     "name": "stderr",
     "output_type": "stream",
     "text": [
      "/usr/local/lib/python3.8/dist-packages/xgboost/sklearn.py:793: UserWarning: `callbacks` in `fit` method is deprecated for better compatibility with scikit-learn, use `callbacks` in constructor or`set_params` instead.\n",
      "  warnings.warn(\n"
     ]
    },
    {
     "name": "stdout",
     "output_type": "stream",
     "text": [
      "[0]\tvalidation_0-logloss:0.58401\tvalidation_0-amex_metric_mod:0.68405\n",
      "[100]\tvalidation_0-logloss:0.22143\tvalidation_0-amex_metric_mod:0.78495\n",
      "[200]\tvalidation_0-logloss:0.22004\tvalidation_0-amex_metric_mod:0.78750\n",
      "[300]\tvalidation_0-logloss:0.22049\tvalidation_0-amex_metric_mod:0.78777\n",
      "[317]\tvalidation_0-logloss:0.22065\tvalidation_0-amex_metric_mod:0.78726\n",
      "predicting\n",
      "count zerO: 183566\n",
      "amex: 0.7887927777570535\n",
      "=== FINISHED FOLD 2/5, log loss=0.22008901468591083, accuracy=0.903315428783108, amex=0.7887927777570535 ===\n",
      "time to run this fold: 3m, 49s\n",
      "=== STARTING FOLD 3/5 (5) ===\n",
      "creating classifier\n",
      "fitting\n"
     ]
    },
    {
     "name": "stderr",
     "output_type": "stream",
     "text": [
      "/usr/local/lib/python3.8/dist-packages/xgboost/sklearn.py:793: UserWarning: `callbacks` in `fit` method is deprecated for better compatibility with scikit-learn, use `callbacks` in constructor or`set_params` instead.\n",
      "  warnings.warn(\n"
     ]
    },
    {
     "name": "stdout",
     "output_type": "stream",
     "text": [
      "[0]\tvalidation_0-logloss:0.58348\tvalidation_0-amex_metric_mod:0.68333\n",
      "[100]\tvalidation_0-logloss:0.22165\tvalidation_0-amex_metric_mod:0.78418\n",
      "[200]\tvalidation_0-logloss:0.22065\tvalidation_0-amex_metric_mod:0.78697\n",
      "[225]\tvalidation_0-logloss:0.22063\tvalidation_0-amex_metric_mod:0.78547\n",
      "predicting\n",
      "count zerO: 275349\n",
      "amex: 0.7858659076412287\n",
      "=== FINISHED FOLD 3/5, log loss=0.2210428199345628, accuracy=0.9024329124129741, amex=0.7858659076412287 ===\n",
      "time to run this fold: 2m, 2s\n",
      "=== STARTING FOLD 4/5 (5) ===\n",
      "creating classifier\n",
      "fitting\n"
     ]
    },
    {
     "name": "stderr",
     "output_type": "stream",
     "text": [
      "/usr/local/lib/python3.8/dist-packages/xgboost/sklearn.py:793: UserWarning: `callbacks` in `fit` method is deprecated for better compatibility with scikit-learn, use `callbacks` in constructor or`set_params` instead.\n",
      "  warnings.warn(\n"
     ]
    },
    {
     "name": "stdout",
     "output_type": "stream",
     "text": [
      "[0]\tvalidation_0-logloss:0.58332\tvalidation_0-amex_metric_mod:0.68049\n",
      "[100]\tvalidation_0-logloss:0.22185\tvalidation_0-amex_metric_mod:0.78863\n",
      "[200]\tvalidation_0-logloss:0.22066\tvalidation_0-amex_metric_mod:0.78961\n",
      "[262]\tvalidation_0-logloss:0.22091\tvalidation_0-amex_metric_mod:0.78950\n",
      "predicting\n",
      "count zerO: 367131\n",
      "amex: 0.7895688399298358\n",
      "=== FINISHED FOLD 4/5, log loss=0.22070320565537757, accuracy=0.9020940925235885, amex=0.7895688399298358 ===\n",
      "time to run this fold: 2m, 42s\n",
      "=== STARTING FOLD 5/5 (5) ===\n",
      "creating classifier\n",
      "fitting\n"
     ]
    },
    {
     "name": "stderr",
     "output_type": "stream",
     "text": [
      "/usr/local/lib/python3.8/dist-packages/xgboost/sklearn.py:793: UserWarning: `callbacks` in `fit` method is deprecated for better compatibility with scikit-learn, use `callbacks` in constructor or`set_params` instead.\n",
      "  warnings.warn(\n"
     ]
    },
    {
     "name": "stdout",
     "output_type": "stream",
     "text": [
      "[0]\tvalidation_0-logloss:0.58413\tvalidation_0-amex_metric_mod:0.68221\n",
      "[100]\tvalidation_0-logloss:0.22376\tvalidation_0-amex_metric_mod:0.77920\n",
      "[200]\tvalidation_0-logloss:0.22296\tvalidation_0-amex_metric_mod:0.77984\n",
      "[206]\tvalidation_0-logloss:0.22285\tvalidation_0-amex_metric_mod:0.78097\n",
      "predicting\n"
     ]
    },
    {
     "name": "stderr",
     "output_type": "stream",
     "text": [
      "\u001b[32m[I 2022-08-28 16:48:23,505]\u001b[0m Trial 14 finished with value: 0.7865133631916906 and parameters: {'booster': 'dart', 'lambda': 1.638570330193235e-05, 'alpha': 0.00952562356818656, 'learning_rate': 0.18560229752669313, 'subsample': 0.7611693128506751, 'colsample_bytree': 0.765586903332785, 'colsample_bylevel': 0.4262615699896738, 'min_child_weight': 5, 'max_depth': 5, 'eta': 0.0017530232946320482, 'gamma': 2.52712613182235, 'grow_policy': 'depthwise', 'sample_type': 'uniform', 'normalize_type': 'tree', 'rate_drop': 1.2726456819169682e-05, 'skip_drop': 2.4459461601136815e-05}. Best is trial 12 with value: 0.7886033672549433.\u001b[0m\n"
     ]
    },
    {
     "name": "stdout",
     "output_type": "stream",
     "text": [
      "count zerO: 458913\n",
      "amex: 0.7806302232079776\n",
      "=== FINISHED FOLD 5/5, log loss=0.22366185054892207, accuracy=0.9007321697064784, amex=0.7806302232079776 ===\n",
      "time to run this fold: 1m, 45s\n",
      "time to run folds: 13m, 13s\n",
      "iteration logloss: 0.22128905316005404, iteration acc: 0.9022886652784552, Iteration amex: 0.7865133631916906\n",
      "STARTING OPTIMIZATION iteration 16, data size: (458913, 1580), params={'booster': 'dart', 'lambda': 8.730882862429173e-05, 'alpha': 0.00572304209715167, 'learning_rate': 0.19172732138273418, 'subsample': 0.8406913812080042, 'colsample_bytree': 0.5506352954394087, 'colsample_bylevel': 0.38835092815671113, 'min_child_weight': 4, 'objective': 'binary:logistic', 'max_depth': 7, 'eval_metric': <function amex_metric_mod at 0x7fa3788d18b0>, 'n_estimators': 10000, 'n_jobs': 16, 'eta': 0.014892821532757377, 'gamma': 5.077540798178382e-06, 'grow_policy': 'depthwise', 'sample_type': 'weighted', 'normalize_type': 'forest', 'rate_drop': 1.2343394234958737e-05, 'skip_drop': 1.3933303950345778e-07, 'tree_method': 'gpu_hist', 'predictor': 'gpu_predictor'}\n",
      "=== STARTING FOLD 1/5 (5) ===\n",
      "creating classifier\n",
      "fitting\n"
     ]
    },
    {
     "name": "stderr",
     "output_type": "stream",
     "text": [
      "/usr/local/lib/python3.8/dist-packages/xgboost/sklearn.py:793: UserWarning: `callbacks` in `fit` method is deprecated for better compatibility with scikit-learn, use `callbacks` in constructor or`set_params` instead.\n",
      "  warnings.warn(\n"
     ]
    },
    {
     "name": "stdout",
     "output_type": "stream",
     "text": [
      "[0]\tvalidation_0-logloss:0.57776\tvalidation_0-amex_metric_mod:0.71003\n",
      "[100]\tvalidation_0-logloss:0.22249\tvalidation_0-amex_metric_mod:0.78562\n",
      "[156]\tvalidation_0-logloss:0.22283\tvalidation_0-amex_metric_mod:0.78472\n",
      "predicting\n",
      "count zerO: 91783\n",
      "amex: 0.7848573616355619\n",
      "=== FINISHED FOLD 1/5, log loss=0.22311488937119286, accuracy=0.9022803787193707, amex=0.7848573616355619 ===\n",
      "time to run this fold: 1m, 24s\n",
      "=== STARTING FOLD 2/5 (5) ===\n",
      "creating classifier\n",
      "fitting\n"
     ]
    },
    {
     "name": "stderr",
     "output_type": "stream",
     "text": [
      "/usr/local/lib/python3.8/dist-packages/xgboost/sklearn.py:793: UserWarning: `callbacks` in `fit` method is deprecated for better compatibility with scikit-learn, use `callbacks` in constructor or`set_params` instead.\n",
      "  warnings.warn(\n"
     ]
    },
    {
     "name": "stdout",
     "output_type": "stream",
     "text": [
      "[0]\tvalidation_0-logloss:0.57756\tvalidation_0-amex_metric_mod:0.71255\n",
      "[100]\tvalidation_0-logloss:0.22151\tvalidation_0-amex_metric_mod:0.78332\n",
      "[178]\tvalidation_0-logloss:0.22264\tvalidation_0-amex_metric_mod:0.78288\n",
      "predicting\n",
      "count zerO: 183566\n",
      "amex: 0.7849485624491264\n",
      "=== FINISHED FOLD 2/5, log loss=0.22151685492573503, accuracy=0.9025745508427486, amex=0.7849485624491264 ===\n",
      "time to run this fold: 1m, 47s\n",
      "=== STARTING FOLD 3/5 (5) ===\n",
      "creating classifier\n",
      "fitting\n"
     ]
    },
    {
     "name": "stderr",
     "output_type": "stream",
     "text": [
      "/usr/local/lib/python3.8/dist-packages/xgboost/sklearn.py:793: UserWarning: `callbacks` in `fit` method is deprecated for better compatibility with scikit-learn, use `callbacks` in constructor or`set_params` instead.\n",
      "  warnings.warn(\n"
     ]
    },
    {
     "name": "stdout",
     "output_type": "stream",
     "text": [
      "[0]\tvalidation_0-logloss:0.57776\tvalidation_0-amex_metric_mod:0.71143\n",
      "[100]\tvalidation_0-logloss:0.22280\tvalidation_0-amex_metric_mod:0.78286\n",
      "[200]\tvalidation_0-logloss:0.22364\tvalidation_0-amex_metric_mod:0.78255\n",
      "[225]\tvalidation_0-logloss:0.22414\tvalidation_0-amex_metric_mod:0.78165\n",
      "predicting\n",
      "count zerO: 275349\n",
      "amex: 0.784308039909562\n",
      "=== FINISHED FOLD 3/5, log loss=0.22267525242699643, accuracy=0.9010710044343724, amex=0.784308039909562 ===\n",
      "time to run this fold: 2m, 42s\n",
      "=== STARTING FOLD 4/5 (5) ===\n",
      "creating classifier\n",
      "fitting\n"
     ]
    },
    {
     "name": "stderr",
     "output_type": "stream",
     "text": [
      "/usr/local/lib/python3.8/dist-packages/xgboost/sklearn.py:793: UserWarning: `callbacks` in `fit` method is deprecated for better compatibility with scikit-learn, use `callbacks` in constructor or`set_params` instead.\n",
      "  warnings.warn(\n"
     ]
    },
    {
     "name": "stdout",
     "output_type": "stream",
     "text": [
      "[0]\tvalidation_0-logloss:0.57765\tvalidation_0-amex_metric_mod:0.71293\n",
      "[100]\tvalidation_0-logloss:0.22155\tvalidation_0-amex_metric_mod:0.78645\n",
      "[170]\tvalidation_0-logloss:0.22250\tvalidation_0-amex_metric_mod:0.78536\n",
      "predicting\n",
      "count zerO: 367131\n",
      "amex: 0.7874652103625909\n",
      "=== FINISHED FOLD 4/5, log loss=0.22189406094701503, accuracy=0.9008084373842365, amex=0.7874652103625909 ===\n",
      "time to run this fold: 1m, 37s\n",
      "=== STARTING FOLD 5/5 (5) ===\n",
      "creating classifier\n",
      "fitting\n"
     ]
    },
    {
     "name": "stderr",
     "output_type": "stream",
     "text": [
      "/usr/local/lib/python3.8/dist-packages/xgboost/sklearn.py:793: UserWarning: `callbacks` in `fit` method is deprecated for better compatibility with scikit-learn, use `callbacks` in constructor or`set_params` instead.\n",
      "  warnings.warn(\n"
     ]
    },
    {
     "name": "stdout",
     "output_type": "stream",
     "text": [
      "[0]\tvalidation_0-logloss:0.57775\tvalidation_0-amex_metric_mod:0.71177\n",
      "[100]\tvalidation_0-logloss:0.22433\tvalidation_0-amex_metric_mod:0.77865\n",
      "[163]\tvalidation_0-logloss:0.22502\tvalidation_0-amex_metric_mod:0.78033\n",
      "predicting\n"
     ]
    },
    {
     "name": "stderr",
     "output_type": "stream",
     "text": [
      "\u001b[32m[I 2022-08-28 16:57:28,912]\u001b[0m Trial 15 finished with value: 0.7797711609898004 and parameters: {'booster': 'dart', 'lambda': 8.730882862429173e-05, 'alpha': 0.00572304209715167, 'learning_rate': 0.19172732138273418, 'subsample': 0.8406913812080042, 'colsample_bytree': 0.5506352954394087, 'colsample_bylevel': 0.38835092815671113, 'min_child_weight': 4, 'max_depth': 7, 'eta': 0.014892821532757377, 'gamma': 5.077540798178382e-06, 'grow_policy': 'depthwise', 'sample_type': 'weighted', 'normalize_type': 'forest', 'rate_drop': 1.2343394234958737e-05, 'skip_drop': 1.3933303950345778e-07}. Best is trial 12 with value: 0.7886033672549433.\u001b[0m\n"
     ]
    },
    {
     "name": "stdout",
     "output_type": "stream",
     "text": [
      "count zerO: 458913\n",
      "amex: 0.7797711609898004\n",
      "=== FINISHED FOLD 5/5, log loss=0.22478704427451532, accuracy=0.9006885881763309, amex=0.7797711609898004 ===\n",
      "time to run this fold: 1m, 32s\n",
      "low score on amex, dropping loop\n",
      "STARTING OPTIMIZATION iteration 17, data size: (458913, 1580), params={'booster': 'dart', 'lambda': 1.4282924543046554e-06, 'alpha': 0.7421126559501213, 'learning_rate': 0.12350624934462157, 'subsample': 0.9211526643148326, 'colsample_bytree': 0.7792362617234776, 'colsample_bylevel': 0.5312724423906934, 'min_child_weight': 1, 'objective': 'binary:logistic', 'max_depth': 4, 'eval_metric': <function amex_metric_mod at 0x7fa3788d18b0>, 'n_estimators': 10000, 'n_jobs': 16, 'eta': 0.00018310147709936947, 'gamma': 0.0600981353612293, 'grow_policy': 'depthwise', 'sample_type': 'uniform', 'normalize_type': 'tree', 'rate_drop': 0.00040343773008072177, 'skip_drop': 0.00014111669502416772, 'tree_method': 'gpu_hist', 'predictor': 'gpu_predictor'}\n",
      "=== STARTING FOLD 1/5 (5) ===\n",
      "creating classifier\n",
      "fitting\n"
     ]
    },
    {
     "name": "stderr",
     "output_type": "stream",
     "text": [
      "/usr/local/lib/python3.8/dist-packages/xgboost/sklearn.py:793: UserWarning: `callbacks` in `fit` method is deprecated for better compatibility with scikit-learn, use `callbacks` in constructor or`set_params` instead.\n",
      "  warnings.warn(\n"
     ]
    },
    {
     "name": "stdout",
     "output_type": "stream",
     "text": [
      "[0]\tvalidation_0-logloss:0.61957\tvalidation_0-amex_metric_mod:0.64671\n",
      "[100]\tvalidation_0-logloss:0.22558\tvalidation_0-amex_metric_mod:0.78076\n",
      "[200]\tvalidation_0-logloss:0.22149\tvalidation_0-amex_metric_mod:0.78609\n",
      "[300]\tvalidation_0-logloss:0.22009\tvalidation_0-amex_metric_mod:0.78754\n",
      "[353]\tvalidation_0-logloss:0.21971\tvalidation_0-amex_metric_mod:0.78815\n",
      "predicting\n",
      "count zerO: 91783\n",
      "amex: 0.7876838811927785\n",
      "=== FINISHED FOLD 1/5, log loss=0.22062416616183134, accuracy=0.9035769151149995, amex=0.7876838811927785 ===\n",
      "time to run this fold: 3m, 52s\n",
      "=== STARTING FOLD 2/5 (5) ===\n",
      "creating classifier\n",
      "fitting\n"
     ]
    },
    {
     "name": "stderr",
     "output_type": "stream",
     "text": [
      "/usr/local/lib/python3.8/dist-packages/xgboost/sklearn.py:793: UserWarning: `callbacks` in `fit` method is deprecated for better compatibility with scikit-learn, use `callbacks` in constructor or`set_params` instead.\n",
      "  warnings.warn(\n"
     ]
    },
    {
     "name": "stdout",
     "output_type": "stream",
     "text": [
      "[0]\tvalidation_0-logloss:0.61952\tvalidation_0-amex_metric_mod:0.65316\n",
      "[100]\tvalidation_0-logloss:0.22443\tvalidation_0-amex_metric_mod:0.78159\n",
      "[200]\tvalidation_0-logloss:0.21978\tvalidation_0-amex_metric_mod:0.78621\n",
      "[300]\tvalidation_0-logloss:0.21799\tvalidation_0-amex_metric_mod:0.78863\n",
      "[400]\tvalidation_0-logloss:0.21727\tvalidation_0-amex_metric_mod:0.79052\n",
      "[461]\tvalidation_0-logloss:0.21717\tvalidation_0-amex_metric_mod:0.79000\n",
      "predicting\n",
      "count zerO: 183566\n",
      "amex: 0.7904889444524356\n",
      "=== FINISHED FOLD 2/5, log loss=0.217461311947949, accuracy=0.9040998877787826, amex=0.7904889444524356 ===\n",
      "time to run this fold: 6m, 22s\n",
      "=== STARTING FOLD 3/5 (5) ===\n",
      "creating classifier\n",
      "fitting\n"
     ]
    },
    {
     "name": "stderr",
     "output_type": "stream",
     "text": [
      "/usr/local/lib/python3.8/dist-packages/xgboost/sklearn.py:793: UserWarning: `callbacks` in `fit` method is deprecated for better compatibility with scikit-learn, use `callbacks` in constructor or`set_params` instead.\n",
      "  warnings.warn(\n"
     ]
    },
    {
     "name": "stdout",
     "output_type": "stream",
     "text": [
      "[0]\tvalidation_0-logloss:0.61983\tvalidation_0-amex_metric_mod:0.66631\n",
      "[100]\tvalidation_0-logloss:0.22517\tvalidation_0-amex_metric_mod:0.77961\n",
      "[200]\tvalidation_0-logloss:0.22057\tvalidation_0-amex_metric_mod:0.78615\n",
      "[300]\tvalidation_0-logloss:0.21910\tvalidation_0-amex_metric_mod:0.78822\n",
      "[400]\tvalidation_0-logloss:0.21856\tvalidation_0-amex_metric_mod:0.78973\n",
      "[499]\tvalidation_0-logloss:0.21814\tvalidation_0-amex_metric_mod:0.78945\n",
      "predicting\n",
      "count zerO: 275349\n",
      "amex: 0.7895443534479412\n",
      "=== FINISHED FOLD 3/5, log loss=0.21856639781430418, accuracy=0.9027379798001809, amex=0.7895443534479412 ===\n",
      "time to run this fold: 7m, 27s\n",
      "=== STARTING FOLD 4/5 (5) ===\n",
      "creating classifier\n",
      "fitting\n"
     ]
    },
    {
     "name": "stderr",
     "output_type": "stream",
     "text": [
      "/usr/local/lib/python3.8/dist-packages/xgboost/sklearn.py:793: UserWarning: `callbacks` in `fit` method is deprecated for better compatibility with scikit-learn, use `callbacks` in constructor or`set_params` instead.\n",
      "  warnings.warn(\n"
     ]
    },
    {
     "name": "stdout",
     "output_type": "stream",
     "text": [
      "[0]\tvalidation_0-logloss:0.61950\tvalidation_0-amex_metric_mod:0.65156\n",
      "[100]\tvalidation_0-logloss:0.22512\tvalidation_0-amex_metric_mod:0.78333\n",
      "[200]\tvalidation_0-logloss:0.22049\tvalidation_0-amex_metric_mod:0.78784\n",
      "[300]\tvalidation_0-logloss:0.21916\tvalidation_0-amex_metric_mod:0.78936\n",
      "[342]\tvalidation_0-logloss:0.21889\tvalidation_0-amex_metric_mod:0.79026\n",
      "predicting\n",
      "count zerO: 367131\n",
      "amex: 0.7890993525664205\n",
      "=== FINISHED FOLD 4/5, log loss=0.21976513406500114, accuracy=0.9024863262949162, amex=0.7890993525664205 ===\n",
      "time to run this fold: 3m, 39s\n",
      "=== STARTING FOLD 5/5 (5) ===\n",
      "creating classifier\n",
      "fitting\n"
     ]
    },
    {
     "name": "stderr",
     "output_type": "stream",
     "text": [
      "/usr/local/lib/python3.8/dist-packages/xgboost/sklearn.py:793: UserWarning: `callbacks` in `fit` method is deprecated for better compatibility with scikit-learn, use `callbacks` in constructor or`set_params` instead.\n",
      "  warnings.warn(\n"
     ]
    },
    {
     "name": "stdout",
     "output_type": "stream",
     "text": [
      "[0]\tvalidation_0-logloss:0.61969\tvalidation_0-amex_metric_mod:0.66473\n",
      "[100]\tvalidation_0-logloss:0.22645\tvalidation_0-amex_metric_mod:0.77802\n",
      "[200]\tvalidation_0-logloss:0.22238\tvalidation_0-amex_metric_mod:0.78286\n",
      "[300]\tvalidation_0-logloss:0.22120\tvalidation_0-amex_metric_mod:0.78434\n",
      "[348]\tvalidation_0-logloss:0.22073\tvalidation_0-amex_metric_mod:0.78446\n",
      "predicting\n"
     ]
    },
    {
     "name": "stderr",
     "output_type": "stream",
     "text": [
      "\u001b[32m[I 2022-08-28 17:22:37,823]\u001b[0m Trial 16 finished with value: 0.7881787630024144 and parameters: {'booster': 'dart', 'lambda': 1.4282924543046554e-06, 'alpha': 0.7421126559501213, 'learning_rate': 0.12350624934462157, 'subsample': 0.9211526643148326, 'colsample_bytree': 0.7792362617234776, 'colsample_bylevel': 0.5312724423906934, 'min_child_weight': 1, 'max_depth': 4, 'eta': 0.00018310147709936947, 'gamma': 0.0600981353612293, 'grow_policy': 'depthwise', 'sample_type': 'uniform', 'normalize_type': 'tree', 'rate_drop': 0.00040343773008072177, 'skip_drop': 0.00014111669502416772}. Best is trial 12 with value: 0.7886033672549433.\u001b[0m\n"
     ]
    },
    {
     "name": "stdout",
     "output_type": "stream",
     "text": [
      "count zerO: 458913\n",
      "amex: 0.7840772833524963\n",
      "=== FINISHED FOLD 5/5, log loss=0.22164246087028786, accuracy=0.9026824431805801, amex=0.7840772833524963 ===\n",
      "time to run this fold: 3m, 46s\n",
      "time to run folds: 25m, 8s\n",
      "iteration logloss: 0.21961189417187468, iteration acc: 0.9031167104338917, Iteration amex: 0.7881787630024144\n",
      "STARTING OPTIMIZATION iteration 18, data size: (458913, 1580), params={'booster': 'gbtree', 'lambda': 1.1399111743851115e-06, 'alpha': 0.9857936456574542, 'learning_rate': 0.09068268608935798, 'subsample': 0.9397046385347976, 'colsample_bytree': 0.6300634497193949, 'colsample_bylevel': 0.4914244935857979, 'min_child_weight': 1, 'objective': 'binary:logistic', 'max_depth': 3, 'eval_metric': <function amex_metric_mod at 0x7fa3788d18b0>, 'n_estimators': 10000, 'n_jobs': 16, 'eta': 7.720296412757095e-05, 'gamma': 0.12430506944090036, 'grow_policy': 'depthwise', 'tree_method': 'gpu_hist', 'predictor': 'gpu_predictor'}\n",
      "=== STARTING FOLD 1/5 (5) ===\n",
      "creating classifier\n",
      "fitting\n"
     ]
    },
    {
     "name": "stderr",
     "output_type": "stream",
     "text": [
      "/usr/local/lib/python3.8/dist-packages/xgboost/sklearn.py:793: UserWarning: `callbacks` in `fit` method is deprecated for better compatibility with scikit-learn, use `callbacks` in constructor or`set_params` instead.\n",
      "  warnings.warn(\n"
     ]
    },
    {
     "name": "stdout",
     "output_type": "stream",
     "text": [
      "[0]\tvalidation_0-logloss:0.63935\tvalidation_0-amex_metric_mod:0.63883\n",
      "[100]\tvalidation_0-logloss:0.23231\tvalidation_0-amex_metric_mod:0.77292\n",
      "[200]\tvalidation_0-logloss:0.22504\tvalidation_0-amex_metric_mod:0.78270\n",
      "[300]\tvalidation_0-logloss:0.22236\tvalidation_0-amex_metric_mod:0.78610\n",
      "[400]\tvalidation_0-logloss:0.22097\tvalidation_0-amex_metric_mod:0.78855\n",
      "[500]\tvalidation_0-logloss:0.22022\tvalidation_0-amex_metric_mod:0.79012\n",
      "[600]\tvalidation_0-logloss:0.21964\tvalidation_0-amex_metric_mod:0.79079\n",
      "[677]\tvalidation_0-logloss:0.21933\tvalidation_0-amex_metric_mod:0.79090\n",
      "predicting\n",
      "count zerO: 91783\n",
      "amex: 0.7908615805374933\n",
      "=== FINISHED FOLD 1/5, log loss=0.2197566453419105, accuracy=0.90366407722563, amex=0.7908615805374933 ===\n",
      "time to run this fold: 41s\n",
      "=== STARTING FOLD 2/5 (5) ===\n",
      "creating classifier\n",
      "fitting\n"
     ]
    },
    {
     "name": "stderr",
     "output_type": "stream",
     "text": [
      "/usr/local/lib/python3.8/dist-packages/xgboost/sklearn.py:793: UserWarning: `callbacks` in `fit` method is deprecated for better compatibility with scikit-learn, use `callbacks` in constructor or`set_params` instead.\n",
      "  warnings.warn(\n"
     ]
    },
    {
     "name": "stdout",
     "output_type": "stream",
     "text": [
      "[0]\tvalidation_0-logloss:0.63937\tvalidation_0-amex_metric_mod:0.64103\n",
      "[100]\tvalidation_0-logloss:0.23176\tvalidation_0-amex_metric_mod:0.77364\n",
      "[200]\tvalidation_0-logloss:0.22418\tvalidation_0-amex_metric_mod:0.78138\n",
      "[300]\tvalidation_0-logloss:0.22124\tvalidation_0-amex_metric_mod:0.78591\n",
      "[400]\tvalidation_0-logloss:0.21962\tvalidation_0-amex_metric_mod:0.78797\n",
      "[500]\tvalidation_0-logloss:0.21877\tvalidation_0-amex_metric_mod:0.78885\n",
      "[562]\tvalidation_0-logloss:0.21829\tvalidation_0-amex_metric_mod:0.78876\n",
      "predicting\n",
      "count zerO: 183566\n",
      "amex: 0.7889311779693443\n",
      "=== FINISHED FOLD 2/5, log loss=0.21908502284450582, accuracy=0.9032609524639639, amex=0.7889311779693443 ===\n",
      "time to run this fold: 35s\n",
      "=== STARTING FOLD 3/5 (5) ===\n",
      "creating classifier\n",
      "fitting\n"
     ]
    },
    {
     "name": "stderr",
     "output_type": "stream",
     "text": [
      "/usr/local/lib/python3.8/dist-packages/xgboost/sklearn.py:793: UserWarning: `callbacks` in `fit` method is deprecated for better compatibility with scikit-learn, use `callbacks` in constructor or`set_params` instead.\n",
      "  warnings.warn(\n"
     ]
    },
    {
     "name": "stdout",
     "output_type": "stream",
     "text": [
      "[0]\tvalidation_0-logloss:0.63948\tvalidation_0-amex_metric_mod:0.64317\n",
      "[100]\tvalidation_0-logloss:0.23270\tvalidation_0-amex_metric_mod:0.76985\n",
      "[200]\tvalidation_0-logloss:0.22501\tvalidation_0-amex_metric_mod:0.78053\n",
      "[300]\tvalidation_0-logloss:0.22192\tvalidation_0-amex_metric_mod:0.78577\n",
      "[400]\tvalidation_0-logloss:0.22055\tvalidation_0-amex_metric_mod:0.78712\n",
      "[500]\tvalidation_0-logloss:0.21964\tvalidation_0-amex_metric_mod:0.78939\n",
      "[568]\tvalidation_0-logloss:0.21925\tvalidation_0-amex_metric_mod:0.78973\n",
      "predicting\n",
      "count zerO: 275349\n",
      "amex: 0.7890821725063996\n",
      "=== FINISHED FOLD 3/5, log loss=0.2198842569811605, accuracy=0.9024002266214877, amex=0.7890821725063996 ===\n",
      "time to run this fold: 36s\n",
      "=== STARTING FOLD 4/5 (5) ===\n",
      "creating classifier\n",
      "fitting\n"
     ]
    },
    {
     "name": "stderr",
     "output_type": "stream",
     "text": [
      "/usr/local/lib/python3.8/dist-packages/xgboost/sklearn.py:793: UserWarning: `callbacks` in `fit` method is deprecated for better compatibility with scikit-learn, use `callbacks` in constructor or`set_params` instead.\n",
      "  warnings.warn(\n"
     ]
    },
    {
     "name": "stdout",
     "output_type": "stream",
     "text": [
      "[0]\tvalidation_0-logloss:0.63940\tvalidation_0-amex_metric_mod:0.64223\n",
      "[100]\tvalidation_0-logloss:0.23192\tvalidation_0-amex_metric_mod:0.77863\n",
      "[200]\tvalidation_0-logloss:0.22416\tvalidation_0-amex_metric_mod:0.78742\n",
      "[300]\tvalidation_0-logloss:0.22115\tvalidation_0-amex_metric_mod:0.78952\n",
      "[400]\tvalidation_0-logloss:0.21958\tvalidation_0-amex_metric_mod:0.79206\n",
      "[500]\tvalidation_0-logloss:0.21871\tvalidation_0-amex_metric_mod:0.79233\n",
      "[501]\tvalidation_0-logloss:0.21870\tvalidation_0-amex_metric_mod:0.79235\n",
      "predicting\n",
      "count zerO: 367131\n",
      "amex: 0.7923621130517828\n",
      "=== FINISHED FOLD 4/5, log loss=0.21955066583445726, accuracy=0.9023120001743261, amex=0.7923621130517828 ===\n",
      "time to run this fold: 32s\n",
      "=== STARTING FOLD 5/5 (5) ===\n",
      "creating classifier\n",
      "fitting\n"
     ]
    },
    {
     "name": "stderr",
     "output_type": "stream",
     "text": [
      "/usr/local/lib/python3.8/dist-packages/xgboost/sklearn.py:793: UserWarning: `callbacks` in `fit` method is deprecated for better compatibility with scikit-learn, use `callbacks` in constructor or`set_params` instead.\n",
      "  warnings.warn(\n"
     ]
    },
    {
     "name": "stdout",
     "output_type": "stream",
     "text": [
      "[0]\tvalidation_0-logloss:0.63951\tvalidation_0-amex_metric_mod:0.63765\n",
      "[100]\tvalidation_0-logloss:0.23389\tvalidation_0-amex_metric_mod:0.76582\n",
      "[200]\tvalidation_0-logloss:0.22659\tvalidation_0-amex_metric_mod:0.77493\n",
      "[300]\tvalidation_0-logloss:0.22392\tvalidation_0-amex_metric_mod:0.77960\n",
      "[400]\tvalidation_0-logloss:0.22239\tvalidation_0-amex_metric_mod:0.78162\n",
      "[484]\tvalidation_0-logloss:0.22162\tvalidation_0-amex_metric_mod:0.78169\n",
      "predicting\n"
     ]
    },
    {
     "name": "stderr",
     "output_type": "stream",
     "text": [
      "\u001b[32m[I 2022-08-28 17:25:34,953]\u001b[0m Trial 17 finished with value: 0.7884751176807661 and parameters: {'booster': 'gbtree', 'lambda': 1.1399111743851115e-06, 'alpha': 0.9857936456574542, 'learning_rate': 0.09068268608935798, 'subsample': 0.9397046385347976, 'colsample_bytree': 0.6300634497193949, 'colsample_bylevel': 0.4914244935857979, 'min_child_weight': 1, 'max_depth': 3, 'eta': 7.720296412757095e-05, 'gamma': 0.12430506944090036, 'grow_policy': 'depthwise'}. Best is trial 12 with value: 0.7886033672549433.\u001b[0m\n"
     ]
    },
    {
     "name": "stdout",
     "output_type": "stream",
     "text": [
      "count zerO: 458913\n",
      "amex: 0.7811385443388105\n",
      "=== FINISHED FOLD 5/5, log loss=0.22261456402005522, accuracy=0.9018543941077771, amex=0.7811385443388105 ===\n",
      "time to run this fold: 31s\n",
      "time to run folds: 2m, 57s\n",
      "iteration logloss: 0.22017823100441786, iteration acc: 0.902698330118637, Iteration amex: 0.7884751176807661\n",
      "STARTING OPTIMIZATION iteration 19, data size: (458913, 1580), params={'booster': 'gbtree', 'lambda': 6.340692088839467e-07, 'alpha': 0.7434740548299864, 'learning_rate': 0.01443678413614266, 'subsample': 0.9521660770536121, 'colsample_bytree': 0.46693419356124133, 'colsample_bylevel': 0.5086319346547177, 'min_child_weight': 1, 'objective': 'binary:logistic', 'max_depth': 3, 'eval_metric': <function amex_metric_mod at 0x7fa3788d18b0>, 'n_estimators': 10000, 'n_jobs': 16, 'eta': 5.483352044361294e-07, 'gamma': 1.818795639138449e-05, 'grow_policy': 'depthwise', 'tree_method': 'gpu_hist', 'predictor': 'gpu_predictor'}\n",
      "=== STARTING FOLD 1/5 (5) ===\n",
      "creating classifier\n",
      "fitting\n"
     ]
    },
    {
     "name": "stderr",
     "output_type": "stream",
     "text": [
      "/usr/local/lib/python3.8/dist-packages/xgboost/sklearn.py:793: UserWarning: `callbacks` in `fit` method is deprecated for better compatibility with scikit-learn, use `callbacks` in constructor or`set_params` instead.\n",
      "  warnings.warn(\n"
     ]
    },
    {
     "name": "stdout",
     "output_type": "stream",
     "text": [
      "[0]\tvalidation_0-logloss:0.68426\tvalidation_0-amex_metric_mod:0.63802\n",
      "[100]\tvalidation_0-logloss:0.33400\tvalidation_0-amex_metric_mod:0.73029\n",
      "[200]\tvalidation_0-logloss:0.26840\tvalidation_0-amex_metric_mod:0.74759\n",
      "[300]\tvalidation_0-logloss:0.24880\tvalidation_0-amex_metric_mod:0.75738\n",
      "[400]\tvalidation_0-logloss:0.24020\tvalidation_0-amex_metric_mod:0.76498\n",
      "[500]\tvalidation_0-logloss:0.23558\tvalidation_0-amex_metric_mod:0.76925\n",
      "[600]\tvalidation_0-logloss:0.23264\tvalidation_0-amex_metric_mod:0.77333\n",
      "[700]\tvalidation_0-logloss:0.23058\tvalidation_0-amex_metric_mod:0.77601\n",
      "[800]\tvalidation_0-logloss:0.22896\tvalidation_0-amex_metric_mod:0.77831\n",
      "[900]\tvalidation_0-logloss:0.22766\tvalidation_0-amex_metric_mod:0.77987\n",
      "[1000]\tvalidation_0-logloss:0.22662\tvalidation_0-amex_metric_mod:0.78122\n",
      "[1098]\tvalidation_0-logloss:0.22578\tvalidation_0-amex_metric_mod:0.78202\n",
      "predicting\n",
      "count zerO: 91783\n",
      "amex: 0.7814870317468203\n",
      "=== FINISHED FOLD 1/5, log loss=0.2266405839194664, accuracy=0.8995456674983384, amex=0.7814870317468203 ===\n",
      "time to run this fold: 1m, 7s\n",
      "=== STARTING FOLD 2/5 (5) ===\n",
      "creating classifier\n",
      "fitting\n"
     ]
    },
    {
     "name": "stderr",
     "output_type": "stream",
     "text": [
      "/usr/local/lib/python3.8/dist-packages/xgboost/sklearn.py:793: UserWarning: `callbacks` in `fit` method is deprecated for better compatibility with scikit-learn, use `callbacks` in constructor or`set_params` instead.\n",
      "  warnings.warn(\n"
     ]
    },
    {
     "name": "stdout",
     "output_type": "stream",
     "text": [
      "[0]\tvalidation_0-logloss:0.68427\tvalidation_0-amex_metric_mod:0.63711\n",
      "[100]\tvalidation_0-logloss:0.33396\tvalidation_0-amex_metric_mod:0.73184\n",
      "[200]\tvalidation_0-logloss:0.26831\tvalidation_0-amex_metric_mod:0.75020\n",
      "[300]\tvalidation_0-logloss:0.24846\tvalidation_0-amex_metric_mod:0.75893\n",
      "[400]\tvalidation_0-logloss:0.23966\tvalidation_0-amex_metric_mod:0.76704\n",
      "[500]\tvalidation_0-logloss:0.23487\tvalidation_0-amex_metric_mod:0.77141\n",
      "[600]\tvalidation_0-logloss:0.23187\tvalidation_0-amex_metric_mod:0.77377\n",
      "[700]\tvalidation_0-logloss:0.22971\tvalidation_0-amex_metric_mod:0.77626\n",
      "[800]\tvalidation_0-logloss:0.22807\tvalidation_0-amex_metric_mod:0.77822\n",
      "[900]\tvalidation_0-logloss:0.22675\tvalidation_0-amex_metric_mod:0.78002\n",
      "[945]\tvalidation_0-logloss:0.22624\tvalidation_0-amex_metric_mod:0.78008\n",
      "predicting\n"
     ]
    },
    {
     "name": "stderr",
     "output_type": "stream",
     "text": [
      "\u001b[32m[I 2022-08-28 17:27:40,857]\u001b[0m Trial 18 finished with value: 0.7794001536100028 and parameters: {'booster': 'gbtree', 'lambda': 6.340692088839467e-07, 'alpha': 0.7434740548299864, 'learning_rate': 0.01443678413614266, 'subsample': 0.9521660770536121, 'colsample_bytree': 0.46693419356124133, 'colsample_bylevel': 0.5086319346547177, 'min_child_weight': 1, 'max_depth': 3, 'eta': 5.483352044361294e-07, 'gamma': 1.818795639138449e-05, 'grow_policy': 'depthwise'}. Best is trial 12 with value: 0.7886033672549433.\u001b[0m\n"
     ]
    },
    {
     "name": "stdout",
     "output_type": "stream",
     "text": [
      "count zerO: 183566\n",
      "amex: 0.7794001536100028\n",
      "=== FINISHED FOLD 2/5, log loss=0.22745432822113842, accuracy=0.8992732859026181, amex=0.7794001536100028 ===\n",
      "time to run this fold: 58s\n",
      "low score on amex, dropping loop\n",
      "STARTING OPTIMIZATION iteration 20, data size: (458913, 1580), params={'booster': 'gbtree', 'lambda': 0.001147016685108034, 'alpha': 0.12271449814510488, 'learning_rate': 0.059852978433669615, 'subsample': 0.9430057322345442, 'colsample_bytree': 0.6027379962480811, 'colsample_bylevel': 0.3842654047202902, 'min_child_weight': 1, 'objective': 'binary:logistic', 'max_depth': 7, 'eval_metric': <function amex_metric_mod at 0x7fa3788d18b0>, 'n_estimators': 10000, 'n_jobs': 16, 'eta': 4.9314281070766694e-05, 'gamma': 1.4178172184173403e-08, 'grow_policy': 'depthwise', 'tree_method': 'gpu_hist', 'predictor': 'gpu_predictor'}\n",
      "=== STARTING FOLD 1/5 (5) ===\n",
      "creating classifier\n",
      "fitting\n"
     ]
    },
    {
     "name": "stderr",
     "output_type": "stream",
     "text": [
      "/usr/local/lib/python3.8/dist-packages/xgboost/sklearn.py:793: UserWarning: `callbacks` in `fit` method is deprecated for better compatibility with scikit-learn, use `callbacks` in constructor or`set_params` instead.\n",
      "  warnings.warn(\n"
     ]
    },
    {
     "name": "stdout",
     "output_type": "stream",
     "text": [
      "[0]\tvalidation_0-logloss:0.65456\tvalidation_0-amex_metric_mod:0.70922\n",
      "[100]\tvalidation_0-logloss:0.22566\tvalidation_0-amex_metric_mod:0.78232\n",
      "[200]\tvalidation_0-logloss:0.22050\tvalidation_0-amex_metric_mod:0.78943\n",
      "[300]\tvalidation_0-logloss:0.21921\tvalidation_0-amex_metric_mod:0.79119\n",
      "[348]\tvalidation_0-logloss:0.21887\tvalidation_0-amex_metric_mod:0.79124\n",
      "predicting\n",
      "count zerO: 91783\n",
      "amex: 0.7907444964799188\n",
      "=== FINISHED FOLD 1/5, log loss=0.21967409705779345, accuracy=0.9034570672128825, amex=0.7907444964799188 ===\n",
      "time to run this fold: 34s\n",
      "=== STARTING FOLD 2/5 (5) ===\n",
      "creating classifier\n",
      "fitting\n"
     ]
    },
    {
     "name": "stderr",
     "output_type": "stream",
     "text": [
      "/usr/local/lib/python3.8/dist-packages/xgboost/sklearn.py:793: UserWarning: `callbacks` in `fit` method is deprecated for better compatibility with scikit-learn, use `callbacks` in constructor or`set_params` instead.\n",
      "  warnings.warn(\n"
     ]
    },
    {
     "name": "stdout",
     "output_type": "stream",
     "text": [
      "[0]\tvalidation_0-logloss:0.65451\tvalidation_0-amex_metric_mod:0.71436\n",
      "[100]\tvalidation_0-logloss:0.22498\tvalidation_0-amex_metric_mod:0.78292\n",
      "[200]\tvalidation_0-logloss:0.21929\tvalidation_0-amex_metric_mod:0.79023\n",
      "[300]\tvalidation_0-logloss:0.21768\tvalidation_0-amex_metric_mod:0.79188\n",
      "[340]\tvalidation_0-logloss:0.21740\tvalidation_0-amex_metric_mod:0.79164\n",
      "predicting\n",
      "count zerO: 183566\n",
      "amex: 0.7919760813213264\n",
      "=== FINISHED FOLD 2/5, log loss=0.21833088632706488, accuracy=0.9038928777660351, amex=0.7919760813213264 ===\n",
      "time to run this fold: 33s\n",
      "=== STARTING FOLD 3/5 (5) ===\n",
      "creating classifier\n",
      "fitting\n"
     ]
    },
    {
     "name": "stderr",
     "output_type": "stream",
     "text": [
      "/usr/local/lib/python3.8/dist-packages/xgboost/sklearn.py:793: UserWarning: `callbacks` in `fit` method is deprecated for better compatibility with scikit-learn, use `callbacks` in constructor or`set_params` instead.\n",
      "  warnings.warn(\n"
     ]
    },
    {
     "name": "stdout",
     "output_type": "stream",
     "text": [
      "[0]\tvalidation_0-logloss:0.65457\tvalidation_0-amex_metric_mod:0.70950\n",
      "[100]\tvalidation_0-logloss:0.22585\tvalidation_0-amex_metric_mod:0.77990\n",
      "[200]\tvalidation_0-logloss:0.22023\tvalidation_0-amex_metric_mod:0.78568\n",
      "[300]\tvalidation_0-logloss:0.21873\tvalidation_0-amex_metric_mod:0.78773\n",
      "[347]\tvalidation_0-logloss:0.21836\tvalidation_0-amex_metric_mod:0.78782\n",
      "predicting\n",
      "count zerO: 275349\n",
      "amex: 0.7874313642129709\n",
      "=== FINISHED FOLD 3/5, log loss=0.21942079988639396, accuracy=0.902552760315091, amex=0.7874313642129709 ===\n",
      "time to run this fold: 35s\n",
      "=== STARTING FOLD 4/5 (5) ===\n",
      "creating classifier\n",
      "fitting\n"
     ]
    },
    {
     "name": "stderr",
     "output_type": "stream",
     "text": [
      "/usr/local/lib/python3.8/dist-packages/xgboost/sklearn.py:793: UserWarning: `callbacks` in `fit` method is deprecated for better compatibility with scikit-learn, use `callbacks` in constructor or`set_params` instead.\n",
      "  warnings.warn(\n"
     ]
    },
    {
     "name": "stdout",
     "output_type": "stream",
     "text": [
      "[0]\tvalidation_0-logloss:0.65444\tvalidation_0-amex_metric_mod:0.71387\n",
      "[100]\tvalidation_0-logloss:0.22525\tvalidation_0-amex_metric_mod:0.78560\n",
      "[200]\tvalidation_0-logloss:0.21922\tvalidation_0-amex_metric_mod:0.79103\n",
      "[300]\tvalidation_0-logloss:0.21777\tvalidation_0-amex_metric_mod:0.79318\n",
      "[394]\tvalidation_0-logloss:0.21730\tvalidation_0-amex_metric_mod:0.79329\n",
      "predicting\n",
      "count zerO: 367131\n",
      "amex: 0.7935509015344215\n",
      "=== FINISHED FOLD 4/5, log loss=0.21783810210897497, accuracy=0.9032163169248872, amex=0.7935509015344215 ===\n",
      "time to run this fold: 37s\n",
      "=== STARTING FOLD 5/5 (5) ===\n",
      "creating classifier\n",
      "fitting\n"
     ]
    },
    {
     "name": "stderr",
     "output_type": "stream",
     "text": [
      "/usr/local/lib/python3.8/dist-packages/xgboost/sklearn.py:793: UserWarning: `callbacks` in `fit` method is deprecated for better compatibility with scikit-learn, use `callbacks` in constructor or`set_params` instead.\n",
      "  warnings.warn(\n"
     ]
    },
    {
     "name": "stdout",
     "output_type": "stream",
     "text": [
      "[0]\tvalidation_0-logloss:0.65460\tvalidation_0-amex_metric_mod:0.70962\n",
      "[100]\tvalidation_0-logloss:0.22755\tvalidation_0-amex_metric_mod:0.77748\n",
      "[200]\tvalidation_0-logloss:0.22186\tvalidation_0-amex_metric_mod:0.78399\n",
      "[300]\tvalidation_0-logloss:0.22049\tvalidation_0-amex_metric_mod:0.78582\n",
      "[392]\tvalidation_0-logloss:0.22003\tvalidation_0-amex_metric_mod:0.78610\n",
      "predicting\n"
     ]
    },
    {
     "name": "stderr",
     "output_type": "stream",
     "text": [
      "\u001b[32m[I 2022-08-28 17:30:41,147]\u001b[0m Trial 19 finished with value: 0.7899273142794456 and parameters: {'booster': 'gbtree', 'lambda': 0.001147016685108034, 'alpha': 0.12271449814510488, 'learning_rate': 0.059852978433669615, 'subsample': 0.9430057322345442, 'colsample_bytree': 0.6027379962480811, 'colsample_bylevel': 0.3842654047202902, 'min_child_weight': 1, 'max_depth': 7, 'eta': 4.9314281070766694e-05, 'gamma': 1.4178172184173403e-08, 'grow_policy': 'depthwise'}. Best is trial 19 with value: 0.7899273142794456.\u001b[0m\n"
     ]
    },
    {
     "name": "stdout",
     "output_type": "stream",
     "text": [
      "count zerO: 458913\n",
      "amex: 0.7859337278485907\n",
      "=== FINISHED FOLD 5/5, log loss=0.22050629699923596, accuracy=0.9024427447647687, amex=0.7859337278485907 ===\n",
      "time to run this fold: 38s\n",
      "time to run folds: 3m, 0s\n",
      "iteration logloss: 0.21915403647589266, iteration acc: 0.9031123533967328, Iteration amex: 0.7899273142794456\n"
     ]
    }
   ],
   "source": [
    "optuna_eval_results = {}\n",
    "optuna_iteration_index = 0\n",
    "optuna_losses = []\n",
    "optuna_accuracies = []\n",
    "optuna_amexes = []\n",
    "optuna_parameters = []\n",
    "optuna_seconds = []\n",
    "\n",
    "#study = optuna.create_study(direction=\"minimize\", study_name=\"XGB Classifier\")\n",
    "study = optuna.create_study(direction=\"maximize\", study_name=\"XGB Classifier\")\n",
    "func = lambda trial: optuna_objective(trial, X, y, stratzip)\n",
    "study.optimize(func, n_trials=20) #more folds generally, just protoing with 20"
   ]
  },
  {
   "cell_type": "code",
   "execution_count": 16,
   "id": "19b952d9",
   "metadata": {},
   "outputs": [
    {
     "data": {
      "text/plain": [
       "7654"
      ]
     },
     "execution_count": 16,
     "metadata": {},
     "output_type": "execute_result"
    }
   ],
   "source": [
    "sum(optuna_seconds)"
   ]
  },
  {
   "cell_type": "markdown",
   "id": "0bfc6327",
   "metadata": {},
   "source": [
    "# Add Metadata to Optimizer Results for Analysis"
   ]
  },
  {
   "cell_type": "code",
   "execution_count": 17,
   "id": "a3caeab8",
   "metadata": {},
   "outputs": [],
   "source": [
    "df_params = pd.DataFrame(optuna_parameters)\n",
    "df_params[\"loss\"] = optuna_losses\n",
    "df_params[\"accuracy\"] = optuna_accuracies\n",
    "df_params[\"amex\"] = optuna_amexes\n",
    "df_params[\"time\"] = optuna_seconds\n"
   ]
  },
  {
   "cell_type": "code",
   "execution_count": 18,
   "id": "d1891ddd",
   "metadata": {},
   "outputs": [],
   "source": [
    "df_params.to_csv(\"optimizer_results_xgb_lagged_seed2.csv\")"
   ]
  },
  {
   "cell_type": "code",
   "execution_count": 19,
   "id": "d3a8ddbf",
   "metadata": {},
   "outputs": [],
   "source": [
    "df_params = pd.read_csv(\"optimizer_results_xgb_lagged_seed2.csv\")"
   ]
  },
  {
   "cell_type": "code",
   "execution_count": null,
   "id": "124dd855",
   "metadata": {},
   "outputs": [],
   "source": []
  },
  {
   "cell_type": "code",
   "execution_count": null,
   "id": "51c4f774",
   "metadata": {},
   "outputs": [],
   "source": []
  },
  {
   "cell_type": "markdown",
   "id": "7a2badf4",
   "metadata": {},
   "source": [
    "# Train and Predict After Optimization (Code)"
   ]
  },
  {
   "cell_type": "code",
   "execution_count": 20,
   "id": "341c6535",
   "metadata": {},
   "outputs": [],
   "source": [
    "def train_and_predict(optuna_params, df_from, strat):\n",
    "    X = df_from.drop([\"customer_ID\", \"target\"], axis=1)\n",
    "    y = df_from[\"target\"]\n",
    "\n",
    "    verbosity=50 #print status every 50 iteration of tree building\n",
    "    optuna_eval_results = {}\n",
    "\n",
    "    cv = StratifiedKFold(n_splits=N_FOLDS, shuffle=True, random_state=69)\n",
    "#    cv = StratifiedKFold(n_splits=N_FOLDS, shuffle=True, random_state=1121218)\n",
    "\n",
    "    cv_scores = np.empty(N_FOLDS)\n",
    "    cv_accuracies = np.empty(N_FOLDS)\n",
    "    time_start_all_folds = time.time()\n",
    "    acc_score_total = 0\n",
    "    amex_score_total = 0\n",
    "    models = []\n",
    "\n",
    "    n_classes = 1\n",
    "    train_preds = np.zeros((X.shape[0], n_classes))\n",
    "    #balanced_preds = np.empty([X.shape[0], n_classes], dtype = float)\n",
    "\n",
    "    for idx, (train_idx, test_idx) in enumerate(cv.split(X, strat)):\n",
    "\n",
    "        \n",
    "        time_start_this_fold = time.time()\n",
    "        print(f\"=== STARTING FOLD {idx+1}/{N_FOLDS} ===\")\n",
    "        X_train, X_test = X.iloc[train_idx], X.iloc[test_idx]\n",
    "        y_train, y_test = y.iloc[train_idx], y.iloc[test_idx]\n",
    "#        evalset = [(X_train, y_train), (X_test,y_test)]\n",
    "        evalset = [(X_test,y_test)]\n",
    "        \n",
    "        print(\"creating classifier\")\n",
    "        model = xgb.XGBClassifier(**optuna_params, enable_categorical = True)\n",
    "\n",
    "        es = xgb.callback.EarlyStopping(\n",
    "            rounds=100,\n",
    "            min_delta=1e-3,\n",
    "            maximize=True,\n",
    "            metric_name=\"amex_metric_mod\",\n",
    "        )\n",
    "        cbs = [es]\n",
    "        \n",
    "        print(\"fitting\")\n",
    "        model.fit(\n",
    "            X_train,\n",
    "            y_train,\n",
    "            verbose=20,\n",
    "            eval_set=evalset,\n",
    "            callbacks=cbs,\n",
    "        )\n",
    "        \n",
    "        print(f\"predicting, best round: {model.best_iteration+1}\")\n",
    "        preds = model.predict_proba(X_test, iteration_range=(0, model.best_iteration + 1))\n",
    "\n",
    "        preds_true_amex = preds[:, 1]\n",
    "        preds_true = preds[:, 1].flatten()\n",
    "        preds_true.shape = (y_test.shape[0], 1)\n",
    "        np.add.at(train_preds, test_idx, preds_true)\n",
    "        print(f\"count zerO: {np.count_nonzero(train_preds)}\")\n",
    "        \n",
    "        amex_score = amex_metric_mod(y_test, preds_true_amex)\n",
    "        amex_score_total += amex_score\n",
    "        \n",
    "        preds_this_round = (preds >= 0.5)[:,1]\n",
    "        \n",
    "        acc_score = accuracy_score(y_test, preds_this_round)\n",
    "        acc_score_total += acc_score\n",
    "\n",
    "        log_loss_fold = log_loss(y_test, preds)\n",
    "        cv_scores[idx] = log_loss_fold\n",
    "        cv_accuracies[idx] = acc_score\n",
    "        print(f\"=== FINISHED FOLD {idx+1}/{N_FOLDS}, log loss={log_loss_fold}, accuracy={acc_score}, amex={amex_score} ===\")\n",
    "        time_total_this_fold = time.time() - time_start_this_fold\n",
    "        print(f\"time to run this fold: {format_time(time_total_this_fold)}\")\n",
    "        models.append(model)\n",
    "        \n",
    "    print(f\"amex avg: {amex_score_total/N_FOLDS}\")\n",
    "        \n",
    "    return models, train_preds\n"
   ]
  },
  {
   "cell_type": "markdown",
   "id": "666fedf9",
   "metadata": {},
   "source": [
    "# Pick Best Optimizer Result, Compare Optimizer Runs"
   ]
  },
  {
   "cell_type": "code",
   "execution_count": 29,
   "id": "080d211d",
   "metadata": {},
   "outputs": [
    {
     "data": {
      "text/plain": [
       "7"
      ]
     },
     "execution_count": 29,
     "metadata": {},
     "output_type": "execute_result"
    }
   ],
   "source": [
    "best_idx = np.argmax(df_params[\"amex\"])\n",
    "best_idx"
   ]
  },
  {
   "cell_type": "code",
   "execution_count": 30,
   "id": "5a0be131",
   "metadata": {},
   "outputs": [
    {
     "data": {
      "text/plain": [
       "{'Unnamed: 0': 7,\n",
       " 'booster': 'gbtree',\n",
       " 'lambda': 0.001147016685108,\n",
       " 'alpha': 0.1227144981451048,\n",
       " 'learning_rate': 0.0598529784336696,\n",
       " 'subsample': 0.9430057322345442,\n",
       " 'colsample_bytree': 0.6027379962480811,\n",
       " 'colsample_bylevel': 0.3842654047202902,\n",
       " 'min_child_weight': 1,\n",
       " 'objective': 'binary:logistic',\n",
       " 'max_depth': 7,\n",
       " 'eval_metric': '<function amex_metric_mod at 0x7fa3788d18b0>',\n",
       " 'n_estimators': 10000,\n",
       " 'n_jobs': 16,\n",
       " 'eta': 4.931428107076669e-05,\n",
       " 'gamma': 1.4178172184173404e-08,\n",
       " 'grow_policy': 'depthwise',\n",
       " 'sample_type': nan,\n",
       " 'normalize_type': nan,\n",
       " 'rate_drop': nan,\n",
       " 'skip_drop': nan,\n",
       " 'tree_method': 'gpu_hist',\n",
       " 'predictor': 'gpu_predictor',\n",
       " 'loss': 0.2191540364758926,\n",
       " 'accuracy': 0.9031123533967328,\n",
       " 'amex': 0.7899273142794456,\n",
       " 'time': 180}"
      ]
     },
     "execution_count": 30,
     "metadata": {},
     "output_type": "execute_result"
    }
   ],
   "source": [
    "optuna_params = df_params.iloc[best_idx]\n",
    "optuna_params = dict(optuna_params)\n",
    "optuna_params\n"
   ]
  },
  {
   "cell_type": "code",
   "execution_count": 31,
   "id": "82b9817c",
   "metadata": {},
   "outputs": [],
   "source": [
    "del optuna_params['Unnamed: 0']"
   ]
  },
  {
   "cell_type": "code",
   "execution_count": 32,
   "id": "9eded01a",
   "metadata": {},
   "outputs": [],
   "source": [
    "#optuna_params"
   ]
  },
  {
   "cell_type": "code",
   "execution_count": 33,
   "id": "9fb028c3",
   "metadata": {},
   "outputs": [],
   "source": [
    "#method references dont seem to come well off the optimizer, so have to re-set it here\n",
    "optuna_params[\"eval_metric\"] = amex_metric_mod\n"
   ]
  },
  {
   "cell_type": "markdown",
   "id": "3b88ad62",
   "metadata": {},
   "source": [
    "# Train Classifier with Best Params, Predict Train Set via Folds"
   ]
  },
  {
   "cell_type": "code",
   "execution_count": 34,
   "id": "801233ee",
   "metadata": {},
   "outputs": [
    {
     "name": "stdout",
     "output_type": "stream",
     "text": [
      "=== STARTING FOLD 1/5 ===\n",
      "creating classifier\n",
      "fitting\n"
     ]
    },
    {
     "name": "stderr",
     "output_type": "stream",
     "text": [
      "/usr/local/lib/python3.8/dist-packages/xgboost/sklearn.py:793: UserWarning: `callbacks` in `fit` method is deprecated for better compatibility with scikit-learn, use `callbacks` in constructor or`set_params` instead.\n",
      "  warnings.warn(\n"
     ]
    },
    {
     "name": "stdout",
     "output_type": "stream",
     "text": [
      "[17:30:47] WARNING: ../src/learner.cc:627: \n",
      "Parameters: { \"accuracy\", \"amex\", \"loss\", \"normalize_type\", \"rate_drop\", \"sample_type\", \"skip_drop\", \"time\" } might not be used.\n",
      "\n",
      "  This could be a false alarm, with some parameters getting used by language bindings but\n",
      "  then being mistakenly passed down to XGBoost core, or some parameter actually being used\n",
      "  but getting flagged wrongly here. Please open an issue if you find any such cases.\n",
      "\n",
      "\n",
      "[0]\tvalidation_0-logloss:0.65456\tvalidation_0-amex_metric_mod:0.70922\n",
      "[20]\tvalidation_0-logloss:0.32878\tvalidation_0-amex_metric_mod:0.75854\n",
      "[40]\tvalidation_0-logloss:0.25687\tvalidation_0-amex_metric_mod:0.76868\n",
      "[60]\tvalidation_0-logloss:0.23616\tvalidation_0-amex_metric_mod:0.77444\n",
      "[80]\tvalidation_0-logloss:0.22887\tvalidation_0-amex_metric_mod:0.77888\n",
      "[100]\tvalidation_0-logloss:0.22566\tvalidation_0-amex_metric_mod:0.78232\n",
      "[120]\tvalidation_0-logloss:0.22386\tvalidation_0-amex_metric_mod:0.78475\n",
      "[140]\tvalidation_0-logloss:0.22251\tvalidation_0-amex_metric_mod:0.78632\n",
      "[160]\tvalidation_0-logloss:0.22168\tvalidation_0-amex_metric_mod:0.78746\n",
      "[180]\tvalidation_0-logloss:0.22101\tvalidation_0-amex_metric_mod:0.78805\n",
      "[200]\tvalidation_0-logloss:0.22050\tvalidation_0-amex_metric_mod:0.78943\n",
      "[220]\tvalidation_0-logloss:0.22013\tvalidation_0-amex_metric_mod:0.79013\n",
      "[240]\tvalidation_0-logloss:0.21980\tvalidation_0-amex_metric_mod:0.79023\n",
      "[260]\tvalidation_0-logloss:0.21954\tvalidation_0-amex_metric_mod:0.79106\n",
      "[280]\tvalidation_0-logloss:0.21935\tvalidation_0-amex_metric_mod:0.79138\n",
      "[300]\tvalidation_0-logloss:0.21921\tvalidation_0-amex_metric_mod:0.79119\n",
      "[320]\tvalidation_0-logloss:0.21906\tvalidation_0-amex_metric_mod:0.79135\n",
      "[340]\tvalidation_0-logloss:0.21891\tvalidation_0-amex_metric_mod:0.79141\n",
      "[348]\tvalidation_0-logloss:0.21887\tvalidation_0-amex_metric_mod:0.79124\n",
      "predicting, best round: 250\n",
      "count zerO: 91783\n",
      "=== FINISHED FOLD 1/5, log loss=0.21967409705779345, accuracy=0.9034570672128825, amex=0.7907444964799188 ===\n",
      "time to run this fold: 35s\n",
      "=== STARTING FOLD 2/5 ===\n",
      "creating classifier\n",
      "fitting\n"
     ]
    },
    {
     "name": "stderr",
     "output_type": "stream",
     "text": [
      "/usr/local/lib/python3.8/dist-packages/xgboost/sklearn.py:793: UserWarning: `callbacks` in `fit` method is deprecated for better compatibility with scikit-learn, use `callbacks` in constructor or`set_params` instead.\n",
      "  warnings.warn(\n"
     ]
    },
    {
     "name": "stdout",
     "output_type": "stream",
     "text": [
      "[17:31:22] WARNING: ../src/learner.cc:627: \n",
      "Parameters: { \"accuracy\", \"amex\", \"loss\", \"normalize_type\", \"rate_drop\", \"sample_type\", \"skip_drop\", \"time\" } might not be used.\n",
      "\n",
      "  This could be a false alarm, with some parameters getting used by language bindings but\n",
      "  then being mistakenly passed down to XGBoost core, or some parameter actually being used\n",
      "  but getting flagged wrongly here. Please open an issue if you find any such cases.\n",
      "\n",
      "\n",
      "[0]\tvalidation_0-logloss:0.65451\tvalidation_0-amex_metric_mod:0.71436\n",
      "[20]\tvalidation_0-logloss:0.32884\tvalidation_0-amex_metric_mod:0.76164\n",
      "[40]\tvalidation_0-logloss:0.25694\tvalidation_0-amex_metric_mod:0.77089\n",
      "[60]\tvalidation_0-logloss:0.23592\tvalidation_0-amex_metric_mod:0.77564\n",
      "[80]\tvalidation_0-logloss:0.22859\tvalidation_0-amex_metric_mod:0.77912\n",
      "[100]\tvalidation_0-logloss:0.22498\tvalidation_0-amex_metric_mod:0.78292\n",
      "[120]\tvalidation_0-logloss:0.22284\tvalidation_0-amex_metric_mod:0.78527\n",
      "[140]\tvalidation_0-logloss:0.22155\tvalidation_0-amex_metric_mod:0.78744\n",
      "[160]\tvalidation_0-logloss:0.22055\tvalidation_0-amex_metric_mod:0.78932\n",
      "[180]\tvalidation_0-logloss:0.21987\tvalidation_0-amex_metric_mod:0.78969\n",
      "[200]\tvalidation_0-logloss:0.21929\tvalidation_0-amex_metric_mod:0.79023\n",
      "[220]\tvalidation_0-logloss:0.21880\tvalidation_0-amex_metric_mod:0.79126\n",
      "[240]\tvalidation_0-logloss:0.21836\tvalidation_0-amex_metric_mod:0.79180\n",
      "[260]\tvalidation_0-logloss:0.21806\tvalidation_0-amex_metric_mod:0.79178\n",
      "[280]\tvalidation_0-logloss:0.21785\tvalidation_0-amex_metric_mod:0.79209\n",
      "[300]\tvalidation_0-logloss:0.21768\tvalidation_0-amex_metric_mod:0.79188\n",
      "[320]\tvalidation_0-logloss:0.21749\tvalidation_0-amex_metric_mod:0.79179\n",
      "[340]\tvalidation_0-logloss:0.21740\tvalidation_0-amex_metric_mod:0.79164\n",
      "[341]\tvalidation_0-logloss:0.21739\tvalidation_0-amex_metric_mod:0.79164\n",
      "predicting, best round: 242\n",
      "count zerO: 183566\n",
      "=== FINISHED FOLD 2/5, log loss=0.21833088632706488, accuracy=0.9038928777660351, amex=0.7919760813213264 ===\n",
      "time to run this fold: 33s\n",
      "=== STARTING FOLD 3/5 ===\n",
      "creating classifier\n",
      "fitting\n"
     ]
    },
    {
     "name": "stderr",
     "output_type": "stream",
     "text": [
      "/usr/local/lib/python3.8/dist-packages/xgboost/sklearn.py:793: UserWarning: `callbacks` in `fit` method is deprecated for better compatibility with scikit-learn, use `callbacks` in constructor or`set_params` instead.\n",
      "  warnings.warn(\n"
     ]
    },
    {
     "name": "stdout",
     "output_type": "stream",
     "text": [
      "[17:31:56] WARNING: ../src/learner.cc:627: \n",
      "Parameters: { \"accuracy\", \"amex\", \"loss\", \"normalize_type\", \"rate_drop\", \"sample_type\", \"skip_drop\", \"time\" } might not be used.\n",
      "\n",
      "  This could be a false alarm, with some parameters getting used by language bindings but\n",
      "  then being mistakenly passed down to XGBoost core, or some parameter actually being used\n",
      "  but getting flagged wrongly here. Please open an issue if you find any such cases.\n",
      "\n",
      "\n",
      "[0]\tvalidation_0-logloss:0.65457\tvalidation_0-amex_metric_mod:0.70950\n",
      "[20]\tvalidation_0-logloss:0.32971\tvalidation_0-amex_metric_mod:0.75525\n",
      "[40]\tvalidation_0-logloss:0.25790\tvalidation_0-amex_metric_mod:0.76529\n",
      "[60]\tvalidation_0-logloss:0.23686\tvalidation_0-amex_metric_mod:0.77114\n",
      "[80]\tvalidation_0-logloss:0.22935\tvalidation_0-amex_metric_mod:0.77702\n",
      "[100]\tvalidation_0-logloss:0.22585\tvalidation_0-amex_metric_mod:0.77990\n",
      "[120]\tvalidation_0-logloss:0.22383\tvalidation_0-amex_metric_mod:0.78255\n",
      "[140]\tvalidation_0-logloss:0.22247\tvalidation_0-amex_metric_mod:0.78413\n",
      "[160]\tvalidation_0-logloss:0.22162\tvalidation_0-amex_metric_mod:0.78488\n",
      "[180]\tvalidation_0-logloss:0.22091\tvalidation_0-amex_metric_mod:0.78540\n",
      "[200]\tvalidation_0-logloss:0.22023\tvalidation_0-amex_metric_mod:0.78568\n",
      "[220]\tvalidation_0-logloss:0.21981\tvalidation_0-amex_metric_mod:0.78662\n",
      "[240]\tvalidation_0-logloss:0.21952\tvalidation_0-amex_metric_mod:0.78702\n",
      "[260]\tvalidation_0-logloss:0.21925\tvalidation_0-amex_metric_mod:0.78753\n",
      "[280]\tvalidation_0-logloss:0.21899\tvalidation_0-amex_metric_mod:0.78702\n",
      "[300]\tvalidation_0-logloss:0.21873\tvalidation_0-amex_metric_mod:0.78773\n",
      "[320]\tvalidation_0-logloss:0.21860\tvalidation_0-amex_metric_mod:0.78765\n",
      "[340]\tvalidation_0-logloss:0.21838\tvalidation_0-amex_metric_mod:0.78781\n",
      "[347]\tvalidation_0-logloss:0.21836\tvalidation_0-amex_metric_mod:0.78782\n",
      "predicting, best round: 249\n",
      "count zerO: 275349\n",
      "=== FINISHED FOLD 3/5, log loss=0.21942079988639396, accuracy=0.902552760315091, amex=0.7874313642129709 ===\n",
      "time to run this fold: 35s\n",
      "=== STARTING FOLD 4/5 ===\n",
      "creating classifier\n",
      "fitting\n"
     ]
    },
    {
     "name": "stderr",
     "output_type": "stream",
     "text": [
      "/usr/local/lib/python3.8/dist-packages/xgboost/sklearn.py:793: UserWarning: `callbacks` in `fit` method is deprecated for better compatibility with scikit-learn, use `callbacks` in constructor or`set_params` instead.\n",
      "  warnings.warn(\n"
     ]
    },
    {
     "name": "stdout",
     "output_type": "stream",
     "text": [
      "[17:32:31] WARNING: ../src/learner.cc:627: \n",
      "Parameters: { \"accuracy\", \"amex\", \"loss\", \"normalize_type\", \"rate_drop\", \"sample_type\", \"skip_drop\", \"time\" } might not be used.\n",
      "\n",
      "  This could be a false alarm, with some parameters getting used by language bindings but\n",
      "  then being mistakenly passed down to XGBoost core, or some parameter actually being used\n",
      "  but getting flagged wrongly here. Please open an issue if you find any such cases.\n",
      "\n",
      "\n",
      "[0]\tvalidation_0-logloss:0.65444\tvalidation_0-amex_metric_mod:0.71387\n",
      "[20]\tvalidation_0-logloss:0.32918\tvalidation_0-amex_metric_mod:0.76407\n",
      "[40]\tvalidation_0-logloss:0.25749\tvalidation_0-amex_metric_mod:0.77218\n",
      "[60]\tvalidation_0-logloss:0.23636\tvalidation_0-amex_metric_mod:0.77695\n",
      "[80]\tvalidation_0-logloss:0.22884\tvalidation_0-amex_metric_mod:0.78154\n",
      "[100]\tvalidation_0-logloss:0.22525\tvalidation_0-amex_metric_mod:0.78560\n",
      "[120]\tvalidation_0-logloss:0.22313\tvalidation_0-amex_metric_mod:0.78687\n",
      "[140]\tvalidation_0-logloss:0.22177\tvalidation_0-amex_metric_mod:0.78834\n",
      "[160]\tvalidation_0-logloss:0.22062\tvalidation_0-amex_metric_mod:0.78951\n",
      "[180]\tvalidation_0-logloss:0.21979\tvalidation_0-amex_metric_mod:0.79121\n",
      "[200]\tvalidation_0-logloss:0.21922\tvalidation_0-amex_metric_mod:0.79103\n",
      "[220]\tvalidation_0-logloss:0.21889\tvalidation_0-amex_metric_mod:0.79190\n",
      "[240]\tvalidation_0-logloss:0.21852\tvalidation_0-amex_metric_mod:0.79245\n",
      "[260]\tvalidation_0-logloss:0.21828\tvalidation_0-amex_metric_mod:0.79264\n",
      "[280]\tvalidation_0-logloss:0.21803\tvalidation_0-amex_metric_mod:0.79300\n",
      "[300]\tvalidation_0-logloss:0.21777\tvalidation_0-amex_metric_mod:0.79318\n",
      "[320]\tvalidation_0-logloss:0.21761\tvalidation_0-amex_metric_mod:0.79397\n",
      "[340]\tvalidation_0-logloss:0.21749\tvalidation_0-amex_metric_mod:0.79412\n",
      "[360]\tvalidation_0-logloss:0.21735\tvalidation_0-amex_metric_mod:0.79342\n",
      "[380]\tvalidation_0-logloss:0.21727\tvalidation_0-amex_metric_mod:0.79399\n",
      "[393]\tvalidation_0-logloss:0.21730\tvalidation_0-amex_metric_mod:0.79335\n",
      "predicting, best round: 295\n",
      "count zerO: 367131\n",
      "=== FINISHED FOLD 4/5, log loss=0.21783810210897497, accuracy=0.9032163169248872, amex=0.7935509015344215 ===\n",
      "time to run this fold: 37s\n",
      "=== STARTING FOLD 5/5 ===\n",
      "creating classifier\n",
      "fitting\n"
     ]
    },
    {
     "name": "stderr",
     "output_type": "stream",
     "text": [
      "/usr/local/lib/python3.8/dist-packages/xgboost/sklearn.py:793: UserWarning: `callbacks` in `fit` method is deprecated for better compatibility with scikit-learn, use `callbacks` in constructor or`set_params` instead.\n",
      "  warnings.warn(\n"
     ]
    },
    {
     "name": "stdout",
     "output_type": "stream",
     "text": [
      "[17:33:08] WARNING: ../src/learner.cc:627: \n",
      "Parameters: { \"accuracy\", \"amex\", \"loss\", \"normalize_type\", \"rate_drop\", \"sample_type\", \"skip_drop\", \"time\" } might not be used.\n",
      "\n",
      "  This could be a false alarm, with some parameters getting used by language bindings but\n",
      "  then being mistakenly passed down to XGBoost core, or some parameter actually being used\n",
      "  but getting flagged wrongly here. Please open an issue if you find any such cases.\n",
      "\n",
      "\n",
      "[0]\tvalidation_0-logloss:0.65460\tvalidation_0-amex_metric_mod:0.70962\n",
      "[20]\tvalidation_0-logloss:0.32995\tvalidation_0-amex_metric_mod:0.75421\n",
      "[40]\tvalidation_0-logloss:0.25866\tvalidation_0-amex_metric_mod:0.76419\n",
      "[60]\tvalidation_0-logloss:0.23818\tvalidation_0-amex_metric_mod:0.76895\n",
      "[80]\tvalidation_0-logloss:0.23092\tvalidation_0-amex_metric_mod:0.77355\n",
      "[100]\tvalidation_0-logloss:0.22755\tvalidation_0-amex_metric_mod:0.77748\n",
      "[120]\tvalidation_0-logloss:0.22540\tvalidation_0-amex_metric_mod:0.77990\n",
      "[140]\tvalidation_0-logloss:0.22396\tvalidation_0-amex_metric_mod:0.78244\n",
      "[160]\tvalidation_0-logloss:0.22302\tvalidation_0-amex_metric_mod:0.78216\n",
      "[180]\tvalidation_0-logloss:0.22238\tvalidation_0-amex_metric_mod:0.78334\n",
      "[200]\tvalidation_0-logloss:0.22186\tvalidation_0-amex_metric_mod:0.78399\n",
      "[220]\tvalidation_0-logloss:0.22149\tvalidation_0-amex_metric_mod:0.78410\n",
      "[240]\tvalidation_0-logloss:0.22119\tvalidation_0-amex_metric_mod:0.78501\n",
      "[260]\tvalidation_0-logloss:0.22086\tvalidation_0-amex_metric_mod:0.78518\n",
      "[280]\tvalidation_0-logloss:0.22067\tvalidation_0-amex_metric_mod:0.78556\n",
      "[300]\tvalidation_0-logloss:0.22049\tvalidation_0-amex_metric_mod:0.78582\n",
      "[320]\tvalidation_0-logloss:0.22043\tvalidation_0-amex_metric_mod:0.78648\n",
      "[340]\tvalidation_0-logloss:0.22027\tvalidation_0-amex_metric_mod:0.78627\n",
      "[360]\tvalidation_0-logloss:0.22019\tvalidation_0-amex_metric_mod:0.78560\n",
      "[380]\tvalidation_0-logloss:0.22004\tvalidation_0-amex_metric_mod:0.78627\n",
      "[391]\tvalidation_0-logloss:0.22003\tvalidation_0-amex_metric_mod:0.78646\n",
      "predicting, best round: 293\n",
      "count zerO: 458913\n",
      "=== FINISHED FOLD 5/5, log loss=0.22050629699923596, accuracy=0.9024427447647687, amex=0.7859337278485907 ===\n",
      "time to run this fold: 38s\n",
      "amex avg: 0.7899273142794456\n"
     ]
    }
   ],
   "source": [
    "final_models, final_preds = train_and_predict(optuna_params, df_train, strat)"
   ]
  },
  {
   "cell_type": "code",
   "execution_count": 35,
   "id": "e6080cc4",
   "metadata": {},
   "outputs": [],
   "source": [
    "df_preds = pd.DataFrame()\n",
    "df_preds[\"customer_ID\"] = df_train[\"customer_ID\"]\n",
    "df_preds[\"prediction\"] = final_preds"
   ]
  },
  {
   "cell_type": "code",
   "execution_count": 36,
   "id": "79399279",
   "metadata": {},
   "outputs": [
    {
     "data": {
      "text/plain": [
       "0.7897820616111997"
      ]
     },
     "execution_count": 36,
     "metadata": {},
     "output_type": "execute_result"
    }
   ],
   "source": [
    "#calculate achieved competition metric\n",
    "amex_metric_mod(y, final_preds[:, 0])     "
   ]
  },
  {
   "cell_type": "code",
   "execution_count": 37,
   "id": "966e0842",
   "metadata": {},
   "outputs": [],
   "source": [
    "df_preds.to_csv(\"predictions_xgb_lagged.csv\")"
   ]
  },
  {
   "cell_type": "code",
   "execution_count": null,
   "id": "6f4f37a6",
   "metadata": {},
   "outputs": [],
   "source": []
  },
  {
   "cell_type": "markdown",
   "id": "2f76ef10",
   "metadata": {},
   "source": [
    "# Prediction Kaggle Test Set with Best Params, Over N Folds\n",
    "\n",
    "Could increase folds here from the Optimizer search if useful"
   ]
  },
  {
   "cell_type": "code",
   "execution_count": 38,
   "id": "53bc9691",
   "metadata": {},
   "outputs": [],
   "source": [
    "X = df_test.reset_index(drop=True).drop([\"customer_ID\"], axis=1)\n"
   ]
  },
  {
   "cell_type": "code",
   "execution_count": 39,
   "id": "6cd4be68",
   "metadata": {},
   "outputs": [
    {
     "name": "stderr",
     "output_type": "stream",
     "text": [
      "100%|███████████████████████████████████████████████████████████████████████████████████████████████████| 5/5 [00:38<00:00,  7.79s/it]\n"
     ]
    }
   ],
   "source": [
    "from tqdm import tqdm\n",
    "\n",
    "n_classes = 1\n",
    "sub_preds = np.zeros((X.shape[0], n_classes))\n",
    "\n",
    "#tqdm.auto()\n",
    "tqdm.pandas()\n",
    "\n",
    "for model in tqdm(final_models): #lqtm\n",
    "    preds = model.predict_proba(X, iteration_range=(0, model.best_iteration + 1))\n",
    "    preds_true = preds[:, 1]\n",
    "    preds_true.shape = (X.shape[0], 1)\n",
    "    sub_preds += preds_true\n",
    "sub_preds /= N_FOLDS\n"
   ]
  },
  {
   "cell_type": "code",
   "execution_count": 40,
   "id": "85090313",
   "metadata": {},
   "outputs": [
    {
     "data": {
      "text/html": [
       "<div>\n",
       "<style scoped>\n",
       "    .dataframe tbody tr th:only-of-type {\n",
       "        vertical-align: middle;\n",
       "    }\n",
       "\n",
       "    .dataframe tbody tr th {\n",
       "        vertical-align: top;\n",
       "    }\n",
       "\n",
       "    .dataframe thead th {\n",
       "        text-align: right;\n",
       "    }\n",
       "</style>\n",
       "<table border=\"1\" class=\"dataframe\">\n",
       "  <thead>\n",
       "    <tr style=\"text-align: right;\">\n",
       "      <th></th>\n",
       "      <th>customer_ID</th>\n",
       "      <th>prediction</th>\n",
       "    </tr>\n",
       "  </thead>\n",
       "  <tbody>\n",
       "    <tr>\n",
       "      <th>0</th>\n",
       "      <td>00000469ba478561f23a92a868bd366de6f6527a684c9a...</td>\n",
       "      <td>0.033213</td>\n",
       "    </tr>\n",
       "    <tr>\n",
       "      <th>1</th>\n",
       "      <td>00001bf2e77ff879fab36aa4fac689b9ba411dae63ae39...</td>\n",
       "      <td>0.001080</td>\n",
       "    </tr>\n",
       "    <tr>\n",
       "      <th>2</th>\n",
       "      <td>0000210045da4f81e5f122c6bde5c2a617d03eef67f82c...</td>\n",
       "      <td>0.028299</td>\n",
       "    </tr>\n",
       "    <tr>\n",
       "      <th>3</th>\n",
       "      <td>00003b41e58ede33b8daf61ab56d9952f17c9ad1c3976c...</td>\n",
       "      <td>0.244375</td>\n",
       "    </tr>\n",
       "    <tr>\n",
       "      <th>4</th>\n",
       "      <td>00004b22eaeeeb0ec976890c1d9bfc14fd9427e98c4ee9...</td>\n",
       "      <td>0.852290</td>\n",
       "    </tr>\n",
       "    <tr>\n",
       "      <th>...</th>\n",
       "      <td>...</td>\n",
       "      <td>...</td>\n",
       "    </tr>\n",
       "    <tr>\n",
       "      <th>924616</th>\n",
       "      <td>ffff952c631f2c911b8a2a8ca56ea6e656309a83d2f64c...</td>\n",
       "      <td>0.021676</td>\n",
       "    </tr>\n",
       "    <tr>\n",
       "      <th>924617</th>\n",
       "      <td>ffffcf5df59e5e0bba2a5ac4578a34e2b5aa64a1546cd3...</td>\n",
       "      <td>0.862490</td>\n",
       "    </tr>\n",
       "    <tr>\n",
       "      <th>924618</th>\n",
       "      <td>ffffd61f098cc056dbd7d2a21380c4804bbfe60856f475...</td>\n",
       "      <td>0.555502</td>\n",
       "    </tr>\n",
       "    <tr>\n",
       "      <th>924619</th>\n",
       "      <td>ffffddef1fc3643ea179c93245b68dca0f36941cd83977...</td>\n",
       "      <td>0.354948</td>\n",
       "    </tr>\n",
       "    <tr>\n",
       "      <th>924620</th>\n",
       "      <td>fffffa7cf7e453e1acc6a1426475d5cb9400859f82ff61...</td>\n",
       "      <td>0.076631</td>\n",
       "    </tr>\n",
       "  </tbody>\n",
       "</table>\n",
       "<p>924621 rows × 2 columns</p>\n",
       "</div>"
      ],
      "text/plain": [
       "                                              customer_ID  prediction\n",
       "0       00000469ba478561f23a92a868bd366de6f6527a684c9a...    0.033213\n",
       "1       00001bf2e77ff879fab36aa4fac689b9ba411dae63ae39...    0.001080\n",
       "2       0000210045da4f81e5f122c6bde5c2a617d03eef67f82c...    0.028299\n",
       "3       00003b41e58ede33b8daf61ab56d9952f17c9ad1c3976c...    0.244375\n",
       "4       00004b22eaeeeb0ec976890c1d9bfc14fd9427e98c4ee9...    0.852290\n",
       "...                                                   ...         ...\n",
       "924616  ffff952c631f2c911b8a2a8ca56ea6e656309a83d2f64c...    0.021676\n",
       "924617  ffffcf5df59e5e0bba2a5ac4578a34e2b5aa64a1546cd3...    0.862490\n",
       "924618  ffffd61f098cc056dbd7d2a21380c4804bbfe60856f475...    0.555502\n",
       "924619  ffffddef1fc3643ea179c93245b68dca0f36941cd83977...    0.354948\n",
       "924620  fffffa7cf7e453e1acc6a1426475d5cb9400859f82ff61...    0.076631\n",
       "\n",
       "[924621 rows x 2 columns]"
      ]
     },
     "execution_count": 40,
     "metadata": {},
     "output_type": "execute_result"
    }
   ],
   "source": [
    "submission = pd.DataFrame()\n",
    "submission[\"customer_ID\"] = df_test.reset_index()[\"customer_ID\"]\n",
    "submission[\"prediction\"] = sub_preds\n",
    "submission"
   ]
  },
  {
   "cell_type": "code",
   "execution_count": 41,
   "id": "f08b03c6",
   "metadata": {},
   "outputs": [],
   "source": [
    "submission.to_csv(\"submission_xgb_lagged.csv\", index=False)"
   ]
  },
  {
   "cell_type": "code",
   "execution_count": null,
   "id": "e16ea04b",
   "metadata": {},
   "outputs": [],
   "source": []
  },
  {
   "cell_type": "code",
   "execution_count": null,
   "id": "0b04d5e7",
   "metadata": {},
   "outputs": [],
   "source": []
  },
  {
   "cell_type": "code",
   "execution_count": 42,
   "id": "84f76938",
   "metadata": {},
   "outputs": [],
   "source": [
    "#df_all[\"D_50\"].quantile(0.99)"
   ]
  },
  {
   "cell_type": "code",
   "execution_count": 43,
   "id": "05b0058f",
   "metadata": {},
   "outputs": [],
   "source": [
    "pd.reset_option(\"display.max_rows\")\n",
    "pd.reset_option(\"display.min_rows\")\n",
    "pd.reset_option(\"display.max_columns\")\n"
   ]
  },
  {
   "cell_type": "code",
   "execution_count": null,
   "id": "9587bbe3",
   "metadata": {},
   "outputs": [],
   "source": []
  },
  {
   "cell_type": "code",
   "execution_count": null,
   "id": "698cec67",
   "metadata": {},
   "outputs": [],
   "source": []
  },
  {
   "cell_type": "code",
   "execution_count": null,
   "id": "32c7cdaa",
   "metadata": {},
   "outputs": [],
   "source": []
  },
  {
   "cell_type": "code",
   "execution_count": null,
   "id": "a512873e",
   "metadata": {},
   "outputs": [],
   "source": []
  },
  {
   "cell_type": "code",
   "execution_count": null,
   "id": "4178d87e",
   "metadata": {},
   "outputs": [],
   "source": []
  },
  {
   "cell_type": "code",
   "execution_count": null,
   "id": "b95c57d3",
   "metadata": {},
   "outputs": [],
   "source": []
  }
 ],
 "metadata": {
  "kernelspec": {
   "display_name": "Python 3 (ipykernel)",
   "language": "python",
   "name": "python3"
  },
  "language_info": {
   "codemirror_mode": {
    "name": "ipython",
    "version": 3
   },
   "file_extension": ".py",
   "mimetype": "text/x-python",
   "name": "python",
   "nbconvert_exporter": "python",
   "pygments_lexer": "ipython3",
   "version": "3.8.10"
  }
 },
 "nbformat": 4,
 "nbformat_minor": 5
}

{
 "cells": [
  {
   "cell_type": "code",
   "execution_count": 1,
   "id": "be5a5bc6",
   "metadata": {
    "ExecuteTime": {
     "end_time": "2023-07-26T07:15:14.233714657Z",
     "start_time": "2023-07-26T07:15:13.911841550Z"
    },
    "collapsed": false,
    "jupyter": {
     "outputs_hidden": false
    }
   },
   "outputs": [
    {
     "name": "stdout",
     "output_type": "stream",
     "text": [
      "/mystuff/notebooks\n"
     ]
    }
   ],
   "source": [
    "!pwd"
   ]
  },
  {
   "cell_type": "code",
   "execution_count": null,
   "id": "733a2c13-cc03-49b8-8182-7d409f440705",
   "metadata": {
    "ExecuteTime": {
     "end_time": "2023-07-26T07:15:14.537750907Z",
     "start_time": "2023-07-26T07:15:14.229797687Z"
    }
   },
   "outputs": [],
   "source": [
    "!ls"
   ]
  },
  {
   "cell_type": "code",
   "execution_count": 3,
   "id": "9342f9d4-7b4b-4428-8147-23ce88fa30b2",
   "metadata": {
    "ExecuteTime": {
     "end_time": "2023-07-26T07:15:14.718389891Z",
     "start_time": "2023-07-26T07:15:14.533117634Z"
    }
   },
   "outputs": [
    {
     "name": "stdout",
     "output_type": "stream",
     "text": [
      "data  jupyter_start.sh\tnotebooks\n"
     ]
    }
   ],
   "source": [
    "!ls .."
   ]
  },
  {
   "cell_type": "code",
   "execution_count": 4,
   "id": "9b9aa574-b485-4cdf-af60-1936341ada7c",
   "metadata": {
    "ExecuteTime": {
     "end_time": "2023-07-26T07:15:15.000635062Z",
     "start_time": "2023-07-26T07:15:14.979156766Z"
    }
   },
   "outputs": [
    {
     "name": "stdout",
     "output_type": "stream",
     "text": [
      "/mystuff/data\n"
     ]
    }
   ],
   "source": [
    "%cd ../data"
   ]
  },
  {
   "cell_type": "code",
   "execution_count": 5,
   "id": "9539f30d-2c5a-4cd9-b326-44f33c61bf15",
   "metadata": {
    "ExecuteTime": {
     "end_time": "2023-07-26T07:15:15.161624859Z",
     "start_time": "2023-07-26T07:15:14.980665874Z"
    }
   },
   "outputs": [
    {
     "name": "stdout",
     "output_type": "stream",
     "text": [
      "/mystuff/data\n"
     ]
    }
   ],
   "source": [
    "!pwd"
   ]
  },
  {
   "cell_type": "code",
   "execution_count": null,
   "id": "54dacc44-2c37-4f30-a92c-988b77e995d9",
   "metadata": {
    "ExecuteTime": {
     "end_time": "2023-07-26T07:15:15.395538991Z",
     "start_time": "2023-07-26T07:15:15.218506499Z"
    }
   },
   "outputs": [],
   "source": [
    "!ls"
   ]
  },
  {
   "cell_type": "code",
   "execution_count": null,
   "id": "d82f49cc-ab5b-472f-84d1-af347ab1f8fb",
   "metadata": {
    "ExecuteTime": {
     "end_time": "2023-07-26T07:15:15.690611655Z",
     "start_time": "2023-07-26T07:15:15.478865461Z"
    }
   },
   "outputs": [],
   "source": [
    "!nvidia-smi"
   ]
  },
  {
   "cell_type": "code",
   "execution_count": 8,
   "id": "c0974aad-90da-4e91-b9e2-a4bf75e9f9e5",
   "metadata": {
    "ExecuteTime": {
     "end_time": "2023-07-26T07:15:17.358885851Z",
     "start_time": "2023-07-26T07:15:16.000790679Z"
    }
   },
   "outputs": [
    {
     "name": "stdout",
     "output_type": "stream",
     "text": [
      "Requirement already satisfied: nvidia-ml-py in /opt/conda/lib/python3.10/site-packages (12.535.77)\n",
      "\u001b[33mWARNING: Running pip as the 'root' user can result in broken permissions and conflicting behaviour with the system package manager. It is recommended to use a virtual environment instead: https://pip.pypa.io/warnings/venv\u001b[0m\u001b[33m\n",
      "\u001b[0m"
     ]
    }
   ],
   "source": [
    "!pip install nvidia-ml-py"
   ]
  },
  {
   "cell_type": "code",
   "execution_count": 9,
   "id": "598009a5-e387-44c0-9f0a-23426399450f",
   "metadata": {
    "ExecuteTime": {
     "end_time": "2023-07-26T07:15:17.367065775Z",
     "start_time": "2023-07-26T07:15:17.352973082Z"
    }
   },
   "outputs": [],
   "source": [
    "from pynvml import nvmlInit, nvmlDeviceGetMemoryInfo, nvmlDeviceGetHandleByIndex, nvmlDeviceGetCount"
   ]
  },
  {
   "cell_type": "code",
   "execution_count": 10,
   "id": "794dd4f5-70cd-4b15-b05d-e9a34e5bea77",
   "metadata": {
    "ExecuteTime": {
     "end_time": "2023-07-26T07:15:17.377905462Z",
     "start_time": "2023-07-26T07:15:17.353093319Z"
    }
   },
   "outputs": [],
   "source": [
    "nvmlInit()\n",
    "handle = nvmlDeviceGetHandleByIndex(0)\n",
    "device_count = nvmlDeviceGetCount()\n"
   ]
  },
  {
   "cell_type": "code",
   "execution_count": 11,
   "id": "7b26a93a-b676-469f-8cfc-1d0332f2f26d",
   "metadata": {
    "ExecuteTime": {
     "end_time": "2023-07-26T07:15:17.378136591Z",
     "start_time": "2023-07-26T07:15:17.371043885Z"
    }
   },
   "outputs": [],
   "source": [
    "def print_nvmi_meminfo():\n",
    "    info = nvmlDeviceGetMemoryInfo(handle)\n",
    "    print(f\"device count: {device_count}\")\n",
    "    print(f\"Total memory: {info.total}\")\n",
    "    print(f\"Free memory:, {info.free}\")\n",
    "    print(f\"Used memory: {info.used}\")\n"
   ]
  },
  {
   "cell_type": "code",
   "execution_count": 12,
   "id": "a6efd17d-3cb7-4c6b-baea-4ea7f91cad14",
   "metadata": {
    "ExecuteTime": {
     "end_time": "2023-07-26T07:15:17.378349295Z",
     "start_time": "2023-07-26T07:15:17.378073296Z"
    }
   },
   "outputs": [
    {
     "name": "stdout",
     "output_type": "stream",
     "text": [
      "device count: 1\n",
      "Total memory: 25769803776\n",
      "Free memory:, 25372917760\n",
      "Used memory: 396886016\n"
     ]
    }
   ],
   "source": [
    "print_nvmi_meminfo()"
   ]
  },
  {
   "cell_type": "code",
   "execution_count": null,
   "id": "9b99fe04-6c21-43bf-925c-d1912afb31e2",
   "metadata": {
    "ExecuteTime": {
     "end_time": "2023-07-26T07:15:20.313784231Z",
     "start_time": "2023-07-26T07:15:17.676048452Z"
    }
   },
   "outputs": [],
   "source": [
    "!python -m torch.utils.collect_env "
   ]
  },
  {
   "cell_type": "code",
   "execution_count": 14,
   "id": "ee64db39-0084-459b-b3bd-550237aedbf0",
   "metadata": {
    "ExecuteTime": {
     "end_time": "2023-07-26T07:15:20.458319978Z",
     "start_time": "2023-07-26T07:15:20.297851414Z"
    }
   },
   "outputs": [
    {
     "name": "stdout",
     "output_type": "stream",
     "text": [
      "nvcc: NVIDIA (R) Cuda compiler driver\n",
      "Copyright (c) 2005-2022 NVIDIA Corporation\n",
      "Built on Wed_Jun__8_16:49:14_PDT_2022\n",
      "Cuda compilation tools, release 11.7, V11.7.99\n",
      "Build cuda_11.7.r11.7/compiler.31442593_0\n"
     ]
    }
   ],
   "source": [
    "!nvcc --version"
   ]
  },
  {
   "cell_type": "code",
   "execution_count": null,
   "id": "da995c27-07f6-46bb-ad8d-14fecab9ba18",
   "metadata": {
    "ExecuteTime": {
     "end_time": "2023-07-26T07:15:22.472921130Z",
     "start_time": "2023-07-26T07:15:20.430375275Z"
    }
   },
   "outputs": [],
   "source": [
    "!python -m bitsandbytes"
   ]
  },
  {
   "cell_type": "code",
   "execution_count": 16,
   "id": "04f265d5-e42e-43ed-94cb-923263ac93f6",
   "metadata": {
    "ExecuteTime": {
     "end_time": "2023-07-26T07:15:22.702693303Z",
     "start_time": "2023-07-26T07:15:22.473142971Z"
    }
   },
   "outputs": [
    {
     "name": "stdout",
     "output_type": "stream",
     "text": [
      "Qwen-7B\t\t\t\t\t minotaur-15b\tstarcoder\n",
      "WizardLM-1.0-Uncensored-Llama2-13B-GPTQ  processed\tvicuna-13b-v1.5-16k\n",
      "WizardLM-33B-V1.0-Uncensored-GPTQ\t starchat-beta\n"
     ]
    }
   ],
   "source": [
    "!ls "
   ]
  },
  {
   "cell_type": "code",
   "execution_count": 17,
   "id": "95c71ad3-eaed-428c-8ab9-6757685f85e9",
   "metadata": {
    "ExecuteTime": {
     "end_time": "2023-07-26T07:15:22.702950119Z",
     "start_time": "2023-07-26T07:15:22.682072129Z"
    }
   },
   "outputs": [
    {
     "name": "stdout",
     "output_type": "stream",
     "text": [
      "/mystuff/data/starchat-beta/human-eval\n"
     ]
    }
   ],
   "source": [
    "%cd starchat-beta/human-eval"
   ]
  },
  {
   "cell_type": "code",
   "execution_count": null,
   "id": "dbfdbbbd-8a28-4051-8ce7-936e9156b306",
   "metadata": {
    "ExecuteTime": {
     "end_time": "2023-07-26T07:15:22.882684206Z",
     "start_time": "2023-07-26T07:15:22.692780921Z"
    }
   },
   "outputs": [],
   "source": [
    "!ls"
   ]
  },
  {
   "cell_type": "code",
   "execution_count": 19,
   "id": "c15a10e7-1ea2-491f-8989-caf3adc24a18",
   "metadata": {
    "ExecuteTime": {
     "end_time": "2023-07-26T07:15:24.798848778Z",
     "start_time": "2023-07-26T07:15:22.883654248Z"
    }
   },
   "outputs": [
    {
     "name": "stdout",
     "output_type": "stream",
     "text": [
      "Obtaining file:///mystuff/data/starchat-beta/human-eval\n",
      "  Preparing metadata (setup.py) ... \u001b[?25ldone\n",
      "\u001b[?25hRequirement already satisfied: tqdm in /opt/conda/lib/python3.10/site-packages (from human-eval==1.0) (4.65.0)\n",
      "Requirement already satisfied: fire in /opt/conda/lib/python3.10/site-packages (from human-eval==1.0) (0.5.0)\n",
      "Requirement already satisfied: numpy in /opt/conda/lib/python3.10/site-packages (from human-eval==1.0) (1.24.3)\n",
      "Requirement already satisfied: six in /opt/conda/lib/python3.10/site-packages (from fire->human-eval==1.0) (1.16.0)\n",
      "Requirement already satisfied: termcolor in /opt/conda/lib/python3.10/site-packages (from fire->human-eval==1.0) (2.3.0)\n",
      "Installing collected packages: human-eval\n",
      "  Attempting uninstall: human-eval\n",
      "    Found existing installation: human-eval 1.0\n",
      "    Uninstalling human-eval-1.0:\n",
      "      Successfully uninstalled human-eval-1.0\n",
      "  Running setup.py develop for human-eval\n",
      "Successfully installed human-eval-1.0\n",
      "\u001b[33mWARNING: Running pip as the 'root' user can result in broken permissions and conflicting behaviour with the system package manager. It is recommended to use a virtual environment instead: https://pip.pypa.io/warnings/venv\u001b[0m\u001b[33m\n",
      "\u001b[0m"
     ]
    }
   ],
   "source": [
    "#!pip install -e human-eval\n",
    "!pip install -e ."
   ]
  },
  {
   "cell_type": "code",
   "execution_count": 20,
   "id": "99768074-dd67-4d48-9f99-b16006e55aa4",
   "metadata": {
    "ExecuteTime": {
     "end_time": "2023-07-26T07:15:24.807847811Z",
     "start_time": "2023-07-26T07:15:24.779869242Z"
    }
   },
   "outputs": [],
   "source": [
    "from human_eval.data import write_jsonl, read_problems\n",
    "from human_eval import execution\n",
    "\n",
    "problems = read_problems()"
   ]
  },
  {
   "cell_type": "code",
   "execution_count": 21,
   "id": "0d97055e-00fb-41d1-828b-c9a6dcd1b88d",
   "metadata": {
    "ExecuteTime": {
     "end_time": "2023-07-26T07:15:24.808001356Z",
     "start_time": "2023-07-26T07:15:24.780039877Z"
    }
   },
   "outputs": [],
   "source": [
    "system_prompt=\"you are a smart programming assistant. provide a python3 implementation of the following function:\\n\"\n"
   ]
  },
  {
   "cell_type": "code",
   "execution_count": null,
   "id": "59d778ca-6ae6-4507-9699-d8f75d85a30e",
   "metadata": {
    "ExecuteTime": {
     "end_time": "2023-07-26T07:15:24.808065971Z",
     "start_time": "2023-07-26T07:15:24.780217612Z"
    }
   },
   "outputs": [],
   "source": []
  },
  {
   "cell_type": "code",
   "execution_count": 22,
   "id": "40e30390-a739-4e2c-98db-2146910ce092",
   "metadata": {
    "ExecuteTime": {
     "end_time": "2023-07-26T07:15:24.808226876Z",
     "start_time": "2023-07-26T07:15:24.780312205Z"
    }
   },
   "outputs": [
    {
     "name": "stdout",
     "output_type": "stream",
     "text": [
      "/mystuff/data\n"
     ]
    }
   ],
   "source": [
    "%cd ../.."
   ]
  },
  {
   "cell_type": "code",
   "execution_count": 23,
   "id": "5cca89dd-15cb-4be8-97dd-f84ee068b7f0",
   "metadata": {
    "ExecuteTime": {
     "end_time": "2023-07-26T07:15:24.808464028Z",
     "start_time": "2023-07-26T07:15:24.780420330Z"
    }
   },
   "outputs": [
    {
     "data": {
      "text/plain": [
       "1691388201"
      ]
     },
     "execution_count": 23,
     "metadata": {},
     "output_type": "execute_result"
    }
   ],
   "source": [
    "import time\n",
    "\n",
    "int(time.time())\n"
   ]
  },
  {
   "cell_type": "code",
   "execution_count": 24,
   "id": "6a4c5f99-60eb-4d91-b364-7abf03a6668d",
   "metadata": {
    "ExecuteTime": {
     "end_time": "2023-07-26T07:15:44.096894889Z",
     "start_time": "2023-07-26T07:15:24.783313547Z"
    }
   },
   "outputs": [
    {
     "data": {
      "application/vnd.jupyter.widget-view+json": {
       "model_id": "e703a6b41afd405e8bfb651004b75558",
       "version_major": 2,
       "version_minor": 0
      },
      "text/plain": [
       "Loading checkpoint shards:   0%|          | 0/4 [00:00<?, ?it/s]"
      ]
     },
     "metadata": {},
     "output_type": "display_data"
    },
    {
     "name": "stderr",
     "output_type": "stream",
     "text": [
      "Some weights of GPTBigCodeForCausalLM were not initialized from the model checkpoint at starchat-beta and are newly initialized: ['lm_head.weight']\n",
      "You should probably TRAIN this model on a down-stream task to be able to use it for predictions and inference.\n"
     ]
    }
   ],
   "source": [
    "from transformers import AutoTokenizer, AutoModelForCausalLM, pipeline, AutoModelForSeq2SeqLM\n",
    "\n",
    "tokenizer = AutoTokenizer.from_pretrained(\"starchat-beta\", local_files_only=True)\n",
    "# to save memory consider using fp16 or bf16 by specifying torch_dtype=torch.float16 for example\n",
    "model = AutoModelForCausalLM.from_pretrained(\"starchat-beta\", local_files_only=True, load_in_4bit=True)\n",
    "#model = AutoModelForCausalLM.from_pretrained(\"starchat-beta\", local_files_only=True, load_in_8bit=True)"
   ]
  },
  {
   "cell_type": "code",
   "execution_count": 25,
   "id": "31274dd1-03ae-4bb4-a228-b99fb80aa19c",
   "metadata": {
    "ExecuteTime": {
     "end_time": "2023-07-26T07:15:44.097165009Z",
     "start_time": "2023-07-26T07:15:44.093289723Z"
    }
   },
   "outputs": [
    {
     "data": {
      "text/plain": [
       "1691388265"
      ]
     },
     "execution_count": 25,
     "metadata": {},
     "output_type": "execute_result"
    }
   ],
   "source": [
    "import time\n",
    "\n",
    "int(time.time())\n"
   ]
  },
  {
   "cell_type": "code",
   "execution_count": null,
   "id": "a78c7da3",
   "metadata": {
    "ExecuteTime": {
     "end_time": "2023-07-26T07:15:44.112381673Z",
     "start_time": "2023-07-26T07:15:44.096416452Z"
    },
    "collapsed": false,
    "jupyter": {
     "outputs_hidden": false
    }
   },
   "outputs": [],
   "source": []
  },
  {
   "cell_type": "code",
   "execution_count": 26,
   "id": "6d0bc598-0f58-4c3d-aa41-b7992bfedac3",
   "metadata": {
    "ExecuteTime": {
     "end_time": "2023-07-26T07:15:44.165917451Z",
     "start_time": "2023-07-26T07:15:44.097612387Z"
    }
   },
   "outputs": [
    {
     "name": "stderr",
     "output_type": "stream",
     "text": [
      "Xformers is not installed correctly. If you want to use memory_efficient_attention to accelerate training use the following command to install Xformers\n",
      "pip install xformers.\n"
     ]
    },
    {
     "name": "stdout",
     "output_type": "stream",
     "text": [
      "CPU times: user 78.1 ms, sys: 2.74 ms, total: 80.8 ms\n",
      "Wall time: 80.1 ms\n"
     ]
    }
   ],
   "source": [
    "%%time\n",
    "import torch\n",
    "from transformers import pipeline\n",
    "\n",
    "pipe = pipeline(\"text-generation\", \n",
    "                model=model,\n",
    "                tokenizer=tokenizer, \n",
    "                torch_dtype=torch.bfloat16, \n",
    "                device_map=\"auto\")\n",
    "\n",
    "# We use a variant of ChatML to format each message\n",
    "#prompt_template = \"<|system|>\\n<|end|>\\n<|user|>\\n{query}<|end|>\\n<|assistant|>\"\n",
    "prompt_template = \"<|system|>{system_prompt}\\n<|end|>\\n<|user|>\\n{query}<|end|>\\n<|assistant|>\"\n"
   ]
  },
  {
   "cell_type": "code",
   "execution_count": 27,
   "id": "2dda8b82-d614-45b4-a0e1-c79e4da1f7ac",
   "metadata": {
    "ExecuteTime": {
     "end_time": "2023-07-26T07:15:44.166146980Z",
     "start_time": "2023-07-26T07:15:44.161730419Z"
    }
   },
   "outputs": [
    {
     "data": {
      "text/plain": [
       "1691388269"
      ]
     },
     "execution_count": 27,
     "metadata": {},
     "output_type": "execute_result"
    }
   ],
   "source": [
    "import time\n",
    "\n",
    "int(time.time())\n"
   ]
  },
  {
   "cell_type": "code",
   "execution_count": null,
   "id": "b3a94f45-08b1-4b1e-af7a-3af74e503d0e",
   "metadata": {
    "ExecuteTime": {
     "end_time": "2023-07-26T07:39:38.727702538Z",
     "start_time": "2023-07-26T07:15:44.165500861Z"
    },
    "scrolled": true
   },
   "outputs": [],
   "source": [
    "from tqdm.notebook import tqdm\n",
    "import time\n",
    "\n",
    "user_prompts = []\n",
    "canonical_solutions = []\n",
    "problem_tests = []\n",
    "problem_keys = []\n",
    "answers = []\n",
    "times = []\n",
    "system_prompt=\"you are a smart programming assistant. provide a python3 implementation of the following function:\"\n",
    "\n",
    "for idx, problem_id in tqdm(enumerate(problems)):\n",
    "    problem = problems[problem_id]\n",
    "    problem_keys.append(problem_id)\n",
    "    user_prompt=problem[\"prompt\"]\n",
    "    canonical_solution=problem[\"canonical_solution\"]\n",
    "    problem_test=problem[\"test\"]\n",
    "    problem_tests.append(problem_test)\n",
    "    prompt = prompt_template.format(system_prompt=system_prompt, query=user_prompt)\n",
    "    start_time = time.time()\n",
    "    outputs = pipe(prompt,\n",
    "                   max_new_tokens=1024,\n",
    "                   do_sample=False,\n",
    "#                   temperature=0.0, #0 is not allowed, so do_sample=False\n",
    "#                   temperature=0.2,\n",
    "#                   top_k=50,\n",
    "#                   top_p=0.95,\n",
    "                   eos_token_id=49155)\n",
    "    answer = outputs[0][\"generated_text\"]\n",
    "    end_time = time.time()\n",
    "    diff_time = end_time - start_time\n",
    "    answers.append(answer)\n",
    "    times.append(diff_time)\n",
    "#    if idx > 10:\n",
    "#        break\n"
   ]
  },
  {
   "cell_type": "code",
   "execution_count": 29,
   "id": "fd5ede94-446d-4a84-acb9-873a1239c578",
   "metadata": {
    "ExecuteTime": {
     "end_time": "2023-07-26T07:39:38.733596148Z",
     "start_time": "2023-07-26T07:39:38.728396620Z"
    }
   },
   "outputs": [
    {
     "data": {
      "text/plain": [
       "1691390684"
      ]
     },
     "execution_count": 29,
     "metadata": {},
     "output_type": "execute_result"
    }
   ],
   "source": [
    "import time\n",
    "\n",
    "int(time.time())\n"
   ]
  },
  {
   "cell_type": "code",
   "execution_count": 30,
   "id": "b165257f-7317-4039-9e6d-114c8cbfb874",
   "metadata": {
    "ExecuteTime": {
     "end_time": "2023-07-26T07:39:38.924507686Z",
     "start_time": "2023-07-26T07:39:38.731909232Z"
    }
   },
   "outputs": [],
   "source": [
    "import pandas as pd\n",
    "\n",
    "df_generation = pd.DataFrame()\n",
    "df_generation[\"prompt\"] = user_prompts\n",
    "df_generation[\"canonical\"] = canonical_solution\n",
    "df_generation[\"test\"] = problem_tests\n",
    "df_generation[\"answer\"] = answers\n",
    "df_generation[\"problem_id\"] = problem_keys\n",
    "df_generation[\"time\"] = times\n"
   ]
  },
  {
   "cell_type": "code",
   "execution_count": 31,
   "id": "eff0fa44-f9d6-48dd-859e-9de796f67643",
   "metadata": {
    "ExecuteTime": {
     "end_time": "2023-07-26T07:39:38.928026485Z",
     "start_time": "2023-07-26T07:39:38.924855473Z"
    }
   },
   "outputs": [
    {
     "data": {
      "text/html": [
       "<div>\n",
       "<style scoped>\n",
       "    .dataframe tbody tr th:only-of-type {\n",
       "        vertical-align: middle;\n",
       "    }\n",
       "\n",
       "    .dataframe tbody tr th {\n",
       "        vertical-align: top;\n",
       "    }\n",
       "\n",
       "    .dataframe thead th {\n",
       "        text-align: right;\n",
       "    }\n",
       "</style>\n",
       "<table border=\"1\" class=\"dataframe\">\n",
       "  <thead>\n",
       "    <tr style=\"text-align: right;\">\n",
       "      <th></th>\n",
       "      <th>prompt</th>\n",
       "      <th>canonical</th>\n",
       "      <th>test</th>\n",
       "      <th>answer</th>\n",
       "      <th>problem_id</th>\n",
       "      <th>time</th>\n",
       "    </tr>\n",
       "  </thead>\n",
       "  <tbody>\n",
       "    <tr>\n",
       "      <th>0</th>\n",
       "      <td>NaN</td>\n",
       "      <td>NaN</td>\n",
       "      <td>\\n\\nMETADATA = {\\n    'author': 'jt',\\n    'da...</td>\n",
       "      <td>&lt;|system|&gt;you are a smart programming assistan...</td>\n",
       "      <td>HumanEval/0</td>\n",
       "      <td>22.788677</td>\n",
       "    </tr>\n",
       "    <tr>\n",
       "      <th>1</th>\n",
       "      <td>NaN</td>\n",
       "      <td>NaN</td>\n",
       "      <td>\\n\\nMETADATA = {\\n    'author': 'jt',\\n    'da...</td>\n",
       "      <td>&lt;|system|&gt;you are a smart programming assistan...</td>\n",
       "      <td>HumanEval/1</td>\n",
       "      <td>8.509821</td>\n",
       "    </tr>\n",
       "    <tr>\n",
       "      <th>2</th>\n",
       "      <td>NaN</td>\n",
       "      <td>NaN</td>\n",
       "      <td>\\n\\nMETADATA = {\\n    'author': 'jt',\\n    'da...</td>\n",
       "      <td>&lt;|system|&gt;you are a smart programming assistan...</td>\n",
       "      <td>HumanEval/2</td>\n",
       "      <td>8.839592</td>\n",
       "    </tr>\n",
       "    <tr>\n",
       "      <th>3</th>\n",
       "      <td>NaN</td>\n",
       "      <td>NaN</td>\n",
       "      <td>\\n\\nMETADATA = {\\n    'author': 'jt',\\n    'da...</td>\n",
       "      <td>&lt;|system|&gt;you are a smart programming assistan...</td>\n",
       "      <td>HumanEval/3</td>\n",
       "      <td>5.262252</td>\n",
       "    </tr>\n",
       "    <tr>\n",
       "      <th>4</th>\n",
       "      <td>NaN</td>\n",
       "      <td>NaN</td>\n",
       "      <td>\\n\\nMETADATA = {\\n    'author': 'jt',\\n    'da...</td>\n",
       "      <td>&lt;|system|&gt;you are a smart programming assistan...</td>\n",
       "      <td>HumanEval/4</td>\n",
       "      <td>10.686575</td>\n",
       "    </tr>\n",
       "    <tr>\n",
       "      <th>...</th>\n",
       "      <td>...</td>\n",
       "      <td>...</td>\n",
       "      <td>...</td>\n",
       "      <td>...</td>\n",
       "      <td>...</td>\n",
       "      <td>...</td>\n",
       "    </tr>\n",
       "    <tr>\n",
       "      <th>159</th>\n",
       "      <td>NaN</td>\n",
       "      <td>NaN</td>\n",
       "      <td>def check(candidate):\\n\\n    # Check some simp...</td>\n",
       "      <td>&lt;|system|&gt;you are a smart programming assistan...</td>\n",
       "      <td>HumanEval/159</td>\n",
       "      <td>2.690794</td>\n",
       "    </tr>\n",
       "    <tr>\n",
       "      <th>160</th>\n",
       "      <td>NaN</td>\n",
       "      <td>NaN</td>\n",
       "      <td>def check(candidate):\\n\\n    # Check some simp...</td>\n",
       "      <td>&lt;|system|&gt;you are a smart programming assistan...</td>\n",
       "      <td>HumanEval/160</td>\n",
       "      <td>17.400587</td>\n",
       "    </tr>\n",
       "    <tr>\n",
       "      <th>161</th>\n",
       "      <td>NaN</td>\n",
       "      <td>NaN</td>\n",
       "      <td>def check(candidate):\\n\\n    # Check some simp...</td>\n",
       "      <td>&lt;|system|&gt;you are a smart programming assistan...</td>\n",
       "      <td>HumanEval/161</td>\n",
       "      <td>5.818320</td>\n",
       "    </tr>\n",
       "    <tr>\n",
       "      <th>162</th>\n",
       "      <td>NaN</td>\n",
       "      <td>NaN</td>\n",
       "      <td>def check(candidate):\\n\\n    # Check some simp...</td>\n",
       "      <td>&lt;|system|&gt;you are a smart programming assistan...</td>\n",
       "      <td>HumanEval/162</td>\n",
       "      <td>3.498783</td>\n",
       "    </tr>\n",
       "    <tr>\n",
       "      <th>163</th>\n",
       "      <td>NaN</td>\n",
       "      <td>NaN</td>\n",
       "      <td>def check(candidate):\\n\\n    # Check some simp...</td>\n",
       "      <td>&lt;|system|&gt;you are a smart programming assistan...</td>\n",
       "      <td>HumanEval/163</td>\n",
       "      <td>6.198800</td>\n",
       "    </tr>\n",
       "  </tbody>\n",
       "</table>\n",
       "<p>164 rows × 6 columns</p>\n",
       "</div>"
      ],
      "text/plain": [
       "     prompt canonical                                               test  \\\n",
       "0       NaN       NaN  \\n\\nMETADATA = {\\n    'author': 'jt',\\n    'da...   \n",
       "1       NaN       NaN  \\n\\nMETADATA = {\\n    'author': 'jt',\\n    'da...   \n",
       "2       NaN       NaN  \\n\\nMETADATA = {\\n    'author': 'jt',\\n    'da...   \n",
       "3       NaN       NaN  \\n\\nMETADATA = {\\n    'author': 'jt',\\n    'da...   \n",
       "4       NaN       NaN  \\n\\nMETADATA = {\\n    'author': 'jt',\\n    'da...   \n",
       "..      ...       ...                                                ...   \n",
       "159     NaN       NaN  def check(candidate):\\n\\n    # Check some simp...   \n",
       "160     NaN       NaN  def check(candidate):\\n\\n    # Check some simp...   \n",
       "161     NaN       NaN  def check(candidate):\\n\\n    # Check some simp...   \n",
       "162     NaN       NaN  def check(candidate):\\n\\n    # Check some simp...   \n",
       "163     NaN       NaN  def check(candidate):\\n\\n    # Check some simp...   \n",
       "\n",
       "                                                answer     problem_id  \\\n",
       "0    <|system|>you are a smart programming assistan...    HumanEval/0   \n",
       "1    <|system|>you are a smart programming assistan...    HumanEval/1   \n",
       "2    <|system|>you are a smart programming assistan...    HumanEval/2   \n",
       "3    <|system|>you are a smart programming assistan...    HumanEval/3   \n",
       "4    <|system|>you are a smart programming assistan...    HumanEval/4   \n",
       "..                                                 ...            ...   \n",
       "159  <|system|>you are a smart programming assistan...  HumanEval/159   \n",
       "160  <|system|>you are a smart programming assistan...  HumanEval/160   \n",
       "161  <|system|>you are a smart programming assistan...  HumanEval/161   \n",
       "162  <|system|>you are a smart programming assistan...  HumanEval/162   \n",
       "163  <|system|>you are a smart programming assistan...  HumanEval/163   \n",
       "\n",
       "          time  \n",
       "0    22.788677  \n",
       "1     8.509821  \n",
       "2     8.839592  \n",
       "3     5.262252  \n",
       "4    10.686575  \n",
       "..         ...  \n",
       "159   2.690794  \n",
       "160  17.400587  \n",
       "161   5.818320  \n",
       "162   3.498783  \n",
       "163   6.198800  \n",
       "\n",
       "[164 rows x 6 columns]"
      ]
     },
     "execution_count": 31,
     "metadata": {},
     "output_type": "execute_result"
    }
   ],
   "source": [
    "df_generation"
   ]
  },
  {
   "cell_type": "code",
   "execution_count": null,
   "id": "f5b8ef3f-4263-4c7d-96a7-af3bcfab5da0",
   "metadata": {
    "ExecuteTime": {
     "end_time": "2023-07-26T07:39:38.928220259Z",
     "start_time": "2023-07-26T07:39:38.925240007Z"
    }
   },
   "outputs": [],
   "source": []
  },
  {
   "cell_type": "code",
   "execution_count": null,
   "id": "cba8189d-a32a-4cd1-95a4-5cb5adaeaa73",
   "metadata": {
    "ExecuteTime": {
     "end_time": "2023-07-26T07:39:38.928343577Z",
     "start_time": "2023-07-26T07:39:38.925462211Z"
    }
   },
   "outputs": [],
   "source": []
  },
  {
   "cell_type": "code",
   "execution_count": 32,
   "id": "aaae2f8b-e84d-446a-9a29-adb93852db3b",
   "metadata": {
    "ExecuteTime": {
     "end_time": "2023-07-26T07:39:38.928487167Z",
     "start_time": "2023-07-26T07:39:38.925777600Z"
    }
   },
   "outputs": [],
   "source": [
    "import re\n",
    "\n",
    "def slice_until_word(s, word):\n",
    "    start_index = s.find(word)\n",
    "    if start_index == -1:\n",
    "        # word not found in string\n",
    "        return s\n",
    "    end_index = start_index + len(word)\n",
    "    return s[end_index:]\n",
    "\n",
    "\n",
    "def slice_fundction_definition(completion, words):\n",
    "    completion = slice_until_word(completion, \"<|assistant|>\")\n",
    "\n",
    "    lines = completion.split('\\n')  # split the string into lines\n",
    "    result = []\n",
    "    capture = False\n",
    "\n",
    "    for line in lines:\n",
    "        if line:\n",
    "            if len(line.strip()) > 0:\n",
    "                first_word = line.split()[0]\n",
    "                if first_word in words:\n",
    "                    capture = True\n",
    "                elif capture and (line[0].isalpha() or line[0] == '`'):\n",
    "                    capture = False\n",
    "        if capture:\n",
    "#            print(line)\n",
    "            result.append(line)\n",
    "\n",
    "    return '\\n'.join(result)\n",
    "\n",
    "def extract_python_code(input_string):\n",
    "#    if \"```python\" in input_string:    \n",
    "#        python_code = re.findall(\"```python(.*?)```\", input_string, re.DOTALL)\n",
    "#        answers = [code.strip() for code in python_code]\n",
    "#        return answers[0]\n",
    "    return slice_fundction_definition(input_string, [\"from\", \"import\", \"def\"])\n"
   ]
  },
  {
   "cell_type": "code",
   "execution_count": 33,
   "id": "f5c20043-88c3-4770-86a5-d34aee688b4a",
   "metadata": {
    "ExecuteTime": {
     "end_time": "2023-07-26T07:39:38.928611749Z",
     "start_time": "2023-07-26T07:39:38.925926381Z"
    }
   },
   "outputs": [],
   "source": [
    "def execute_python_code(code, function_name, *args):\n",
    "#    code = \"import math\\n\"+code\n",
    "    exec(code)\n",
    "    result = locals()[function_name](*args)\n",
    "    return result\n"
   ]
  },
  {
   "cell_type": "code",
   "execution_count": 34,
   "id": "423705d9-499d-4ba6-98b4-2559727ccb4f",
   "metadata": {
    "ExecuteTime": {
     "end_time": "2023-07-26T07:39:38.928849360Z",
     "start_time": "2023-07-26T07:39:38.926563263Z"
    }
   },
   "outputs": [
    {
     "data": {
      "text/plain": [
       "1691390694"
      ]
     },
     "execution_count": 34,
     "metadata": {},
     "output_type": "execute_result"
    }
   ],
   "source": [
    "import time\n",
    "\n",
    "int(time.time())\n"
   ]
  },
  {
   "cell_type": "code",
   "execution_count": null,
   "id": "417717d2-e1ba-4aba-92cf-a2cb21f29f3e",
   "metadata": {
    "ExecuteTime": {
     "end_time": "2023-07-26T07:40:10.315945036Z",
     "start_time": "2023-07-26T07:39:38.926639548Z"
    },
    "scrolled": true
   },
   "outputs": [],
   "source": [
    "exec_results = []\n",
    "exec_times = []\n",
    "extracted_codes = []\n",
    "for idx, answer in tqdm(enumerate(answers)):\n",
    "    key = problem_keys[idx]\n",
    "    problem = problems[key]\n",
    "    extracted_code = extract_python_code(answer)\n",
    "    code_to_check = extracted_code\n",
    "    code_to_check = \"import math\\n\"+extracted_code\n",
    "    extracted_codes.append(code_to_check)\n",
    "    #params: problem, generated code (completion), timeout, completion_id\n",
    "    start_time = time.time()\n",
    "    result = execution.check_correctness(problem, code_to_check, 10, 1)\n",
    "    end_time = time.time()\n",
    "    time_diff = end_time - start_time\n",
    "    exec_results.append(result)\n",
    "    exec_times.append(time_diff)"
   ]
  },
  {
   "cell_type": "code",
   "execution_count": 36,
   "id": "3f16d4e1-28e2-4547-b1d2-1f44db19e746",
   "metadata": {
    "ExecuteTime": {
     "end_time": "2023-07-26T07:40:10.316568752Z",
     "start_time": "2023-07-26T07:40:10.307999772Z"
    }
   },
   "outputs": [
    {
     "data": {
      "text/plain": [
       "1691390759"
      ]
     },
     "execution_count": 36,
     "metadata": {},
     "output_type": "execute_result"
    }
   ],
   "source": [
    "import time\n",
    "\n",
    "int(time.time())\n"
   ]
  },
  {
   "cell_type": "code",
   "execution_count": 37,
   "id": "20f7d216-2bd6-4563-a31b-50e7603f47d9",
   "metadata": {
    "ExecuteTime": {
     "end_time": "2023-07-26T07:40:10.325352669Z",
     "start_time": "2023-07-26T07:40:10.310332592Z"
    }
   },
   "outputs": [
    {
     "data": {
      "text/plain": [
       "47"
      ]
     },
     "execution_count": 37,
     "metadata": {},
     "output_type": "execute_result"
    }
   ],
   "source": [
    "pass_fail = [1 if er[\"passed\"] else 0 for er in exec_results ]\n",
    "task_ids_2 = [er[\"task_id\"] for er in exec_results]\n",
    "\n",
    "#try 1 without python version definition gave 46 correct\n",
    "#try 2 with python3 definition gave 46 correct also\n",
    "#try 3 after prepending try 2 code with \"import math\" = 48 passed\n",
    "#try 4 using no quantization, import math = 49 passed\n",
    "#5 8bit, temp 0.2, 44, math, 256\n",
    "#6 8bit, temp 0, 46, math, 256\n",
    "#7 8bit, temp 0, 44, no math, 256\n",
    "#8 4bit, temp 0, 42, no math, 256\n",
    "#9 4bit, temp 0, 44, math, 256\n",
    "#10 4 bit, temp 0, 47, math, 1024\n",
    "#11 4 bit, temp 0, 45, nomath, 1024\n",
    "#12 8 bit, temp 0, 47, nomath, 1024\n",
    "#13 8 bit, temp 0, 49, math, 1024\n",
    "#14 CPU: \n",
    "sum(pass_fail)"
   ]
  },
  {
   "cell_type": "code",
   "execution_count": 38,
   "id": "019024e2-5f6d-4252-a3fc-df39686dcca8",
   "metadata": {
    "ExecuteTime": {
     "end_time": "2023-07-26T07:40:10.325682006Z",
     "start_time": "2023-07-26T07:40:10.318602675Z"
    }
   },
   "outputs": [
    {
     "data": {
      "text/html": [
       "<div>\n",
       "<style scoped>\n",
       "    .dataframe tbody tr th:only-of-type {\n",
       "        vertical-align: middle;\n",
       "    }\n",
       "\n",
       "    .dataframe tbody tr th {\n",
       "        vertical-align: top;\n",
       "    }\n",
       "\n",
       "    .dataframe thead th {\n",
       "        text-align: right;\n",
       "    }\n",
       "</style>\n",
       "<table border=\"1\" class=\"dataframe\">\n",
       "  <thead>\n",
       "    <tr style=\"text-align: right;\">\n",
       "      <th></th>\n",
       "      <th>pass</th>\n",
       "      <th>problem_id</th>\n",
       "      <th>exec_time</th>\n",
       "    </tr>\n",
       "  </thead>\n",
       "  <tbody>\n",
       "    <tr>\n",
       "      <th>0</th>\n",
       "      <td>1</td>\n",
       "      <td>HumanEval/0</td>\n",
       "      <td>0.071141</td>\n",
       "    </tr>\n",
       "    <tr>\n",
       "      <th>1</th>\n",
       "      <td>0</td>\n",
       "      <td>HumanEval/1</td>\n",
       "      <td>0.059336</td>\n",
       "    </tr>\n",
       "    <tr>\n",
       "      <th>2</th>\n",
       "      <td>1</td>\n",
       "      <td>HumanEval/2</td>\n",
       "      <td>0.059078</td>\n",
       "    </tr>\n",
       "    <tr>\n",
       "      <th>3</th>\n",
       "      <td>1</td>\n",
       "      <td>HumanEval/3</td>\n",
       "      <td>0.059538</td>\n",
       "    </tr>\n",
       "    <tr>\n",
       "      <th>4</th>\n",
       "      <td>0</td>\n",
       "      <td>HumanEval/4</td>\n",
       "      <td>0.059678</td>\n",
       "    </tr>\n",
       "    <tr>\n",
       "      <th>...</th>\n",
       "      <td>...</td>\n",
       "      <td>...</td>\n",
       "      <td>...</td>\n",
       "    </tr>\n",
       "    <tr>\n",
       "      <th>159</th>\n",
       "      <td>0</td>\n",
       "      <td>HumanEval/159</td>\n",
       "      <td>0.068854</td>\n",
       "    </tr>\n",
       "    <tr>\n",
       "      <th>160</th>\n",
       "      <td>0</td>\n",
       "      <td>HumanEval/160</td>\n",
       "      <td>0.068247</td>\n",
       "    </tr>\n",
       "    <tr>\n",
       "      <th>161</th>\n",
       "      <td>0</td>\n",
       "      <td>HumanEval/161</td>\n",
       "      <td>0.068586</td>\n",
       "    </tr>\n",
       "    <tr>\n",
       "      <th>162</th>\n",
       "      <td>1</td>\n",
       "      <td>HumanEval/162</td>\n",
       "      <td>0.068269</td>\n",
       "    </tr>\n",
       "    <tr>\n",
       "      <th>163</th>\n",
       "      <td>0</td>\n",
       "      <td>HumanEval/163</td>\n",
       "      <td>0.067996</td>\n",
       "    </tr>\n",
       "  </tbody>\n",
       "</table>\n",
       "<p>164 rows × 3 columns</p>\n",
       "</div>"
      ],
      "text/plain": [
       "     pass     problem_id  exec_time\n",
       "0       1    HumanEval/0   0.071141\n",
       "1       0    HumanEval/1   0.059336\n",
       "2       1    HumanEval/2   0.059078\n",
       "3       1    HumanEval/3   0.059538\n",
       "4       0    HumanEval/4   0.059678\n",
       "..    ...            ...        ...\n",
       "159     0  HumanEval/159   0.068854\n",
       "160     0  HumanEval/160   0.068247\n",
       "161     0  HumanEval/161   0.068586\n",
       "162     1  HumanEval/162   0.068269\n",
       "163     0  HumanEval/163   0.067996\n",
       "\n",
       "[164 rows x 3 columns]"
      ]
     },
     "execution_count": 38,
     "metadata": {},
     "output_type": "execute_result"
    }
   ],
   "source": [
    "import pandas as pd\n",
    "\n",
    "df_passfail = pd.DataFrame()\n",
    "df_passfail[\"pass\"] = pass_fail\n",
    "df_passfail[\"problem_id\"] = task_ids_2\n",
    "df_passfail[\"exec_time\"] = exec_times\n",
    "df_passfail"
   ]
  },
  {
   "cell_type": "code",
   "execution_count": 39,
   "id": "f2fb55bf-4488-441b-8dba-02d18375b52e",
   "metadata": {
    "ExecuteTime": {
     "end_time": "2023-07-26T07:40:10.328849815Z",
     "start_time": "2023-07-26T07:40:10.326613500Z"
    }
   },
   "outputs": [],
   "source": [
    "merged_df = df_generation.merge(df_passfail, on='problem_id')"
   ]
  },
  {
   "cell_type": "code",
   "execution_count": 40,
   "id": "6b19b144",
   "metadata": {
    "ExecuteTime": {
     "end_time": "2023-07-26T07:40:10.569819161Z",
     "start_time": "2023-07-26T07:40:10.329572963Z"
    },
    "collapsed": false,
    "jupyter": {
     "outputs_hidden": false
    }
   },
   "outputs": [
    {
     "name": "stdout",
     "output_type": "stream",
     "text": [
      "huggingface/tokenizers: The current process just got forked, after parallelism has already been used. Disabling parallelism to avoid deadlocks...\n",
      "To disable this warning, you can either:\n",
      "\t- Avoid using `tokenizers` before the fork if possible\n",
      "\t- Explicitly set the environment variable TOKENIZERS_PARALLELISM=(true | false)\n",
      "ls: cannot access 'results': No such file or directory\n"
     ]
    }
   ],
   "source": [
    "!ls results"
   ]
  },
  {
   "cell_type": "code",
   "execution_count": 44,
   "id": "e105f8c1-8d2c-4bfd-8fcf-f3f78b8c9373",
   "metadata": {},
   "outputs": [
    {
     "name": "stdout",
     "output_type": "stream",
     "text": [
      "/mystuff/data/starchat-beta\n"
     ]
    }
   ],
   "source": [
    "%cd starchat-beta"
   ]
  },
  {
   "cell_type": "code",
   "execution_count": 45,
   "id": "d95a689d",
   "metadata": {
    "ExecuteTime": {
     "end_time": "2023-07-26T07:40:10.570028075Z",
     "start_time": "2023-07-26T07:40:10.567826543Z"
    },
    "collapsed": false,
    "jupyter": {
     "outputs_hidden": false
    }
   },
   "outputs": [],
   "source": [
    "merged_old_df = pd.read_csv(\"results/gpu_1024_4b_temp00_math_stats.csv\")"
   ]
  },
  {
   "cell_type": "code",
   "execution_count": 46,
   "id": "26e0c694",
   "metadata": {
    "ExecuteTime": {
     "end_time": "2023-07-26T07:40:10.570296888Z",
     "start_time": "2023-07-26T07:40:10.568061490Z"
    },
    "collapsed": false,
    "jupyter": {
     "outputs_hidden": false
    }
   },
   "outputs": [
    {
     "data": {
      "text/html": [
       "<div>\n",
       "<style scoped>\n",
       "    .dataframe tbody tr th:only-of-type {\n",
       "        vertical-align: middle;\n",
       "    }\n",
       "\n",
       "    .dataframe tbody tr th {\n",
       "        vertical-align: top;\n",
       "    }\n",
       "\n",
       "    .dataframe thead th {\n",
       "        text-align: right;\n",
       "    }\n",
       "</style>\n",
       "<table border=\"1\" class=\"dataframe\">\n",
       "  <thead>\n",
       "    <tr style=\"text-align: right;\">\n",
       "      <th></th>\n",
       "      <th>prompt</th>\n",
       "      <th>canonical</th>\n",
       "      <th>test</th>\n",
       "      <th>answer</th>\n",
       "      <th>problem_id</th>\n",
       "      <th>time</th>\n",
       "      <th>pass</th>\n",
       "      <th>exec_time</th>\n",
       "    </tr>\n",
       "  </thead>\n",
       "  <tbody>\n",
       "    <tr>\n",
       "      <th>0</th>\n",
       "      <td>NaN</td>\n",
       "      <td>NaN</td>\n",
       "      <td>\\n\\nMETADATA = {\\n    'author': 'jt',\\n    'da...</td>\n",
       "      <td>&lt;|system|&gt;you are a smart programming assistan...</td>\n",
       "      <td>HumanEval/0</td>\n",
       "      <td>22.788677</td>\n",
       "      <td>1</td>\n",
       "      <td>0.071141</td>\n",
       "    </tr>\n",
       "    <tr>\n",
       "      <th>1</th>\n",
       "      <td>NaN</td>\n",
       "      <td>NaN</td>\n",
       "      <td>\\n\\nMETADATA = {\\n    'author': 'jt',\\n    'da...</td>\n",
       "      <td>&lt;|system|&gt;you are a smart programming assistan...</td>\n",
       "      <td>HumanEval/1</td>\n",
       "      <td>8.509821</td>\n",
       "      <td>0</td>\n",
       "      <td>0.059336</td>\n",
       "    </tr>\n",
       "    <tr>\n",
       "      <th>2</th>\n",
       "      <td>NaN</td>\n",
       "      <td>NaN</td>\n",
       "      <td>\\n\\nMETADATA = {\\n    'author': 'jt',\\n    'da...</td>\n",
       "      <td>&lt;|system|&gt;you are a smart programming assistan...</td>\n",
       "      <td>HumanEval/2</td>\n",
       "      <td>8.839592</td>\n",
       "      <td>1</td>\n",
       "      <td>0.059078</td>\n",
       "    </tr>\n",
       "    <tr>\n",
       "      <th>3</th>\n",
       "      <td>NaN</td>\n",
       "      <td>NaN</td>\n",
       "      <td>\\n\\nMETADATA = {\\n    'author': 'jt',\\n    'da...</td>\n",
       "      <td>&lt;|system|&gt;you are a smart programming assistan...</td>\n",
       "      <td>HumanEval/3</td>\n",
       "      <td>5.262252</td>\n",
       "      <td>1</td>\n",
       "      <td>0.059538</td>\n",
       "    </tr>\n",
       "    <tr>\n",
       "      <th>4</th>\n",
       "      <td>NaN</td>\n",
       "      <td>NaN</td>\n",
       "      <td>\\n\\nMETADATA = {\\n    'author': 'jt',\\n    'da...</td>\n",
       "      <td>&lt;|system|&gt;you are a smart programming assistan...</td>\n",
       "      <td>HumanEval/4</td>\n",
       "      <td>10.686575</td>\n",
       "      <td>0</td>\n",
       "      <td>0.059678</td>\n",
       "    </tr>\n",
       "  </tbody>\n",
       "</table>\n",
       "</div>"
      ],
      "text/plain": [
       "   prompt canonical                                               test  \\\n",
       "0     NaN       NaN  \\n\\nMETADATA = {\\n    'author': 'jt',\\n    'da...   \n",
       "1     NaN       NaN  \\n\\nMETADATA = {\\n    'author': 'jt',\\n    'da...   \n",
       "2     NaN       NaN  \\n\\nMETADATA = {\\n    'author': 'jt',\\n    'da...   \n",
       "3     NaN       NaN  \\n\\nMETADATA = {\\n    'author': 'jt',\\n    'da...   \n",
       "4     NaN       NaN  \\n\\nMETADATA = {\\n    'author': 'jt',\\n    'da...   \n",
       "\n",
       "                                              answer   problem_id       time  \\\n",
       "0  <|system|>you are a smart programming assistan...  HumanEval/0  22.788677   \n",
       "1  <|system|>you are a smart programming assistan...  HumanEval/1   8.509821   \n",
       "2  <|system|>you are a smart programming assistan...  HumanEval/2   8.839592   \n",
       "3  <|system|>you are a smart programming assistan...  HumanEval/3   5.262252   \n",
       "4  <|system|>you are a smart programming assistan...  HumanEval/4  10.686575   \n",
       "\n",
       "   pass  exec_time  \n",
       "0     1   0.071141  \n",
       "1     0   0.059336  \n",
       "2     1   0.059078  \n",
       "3     1   0.059538  \n",
       "4     0   0.059678  "
      ]
     },
     "execution_count": 46,
     "metadata": {},
     "output_type": "execute_result"
    }
   ],
   "source": [
    "merged_df.head()"
   ]
  },
  {
   "cell_type": "code",
   "execution_count": 47,
   "id": "16432f66",
   "metadata": {
    "ExecuteTime": {
     "end_time": "2023-07-26T07:40:10.571485143Z",
     "start_time": "2023-07-26T07:40:10.568190334Z"
    },
    "collapsed": false,
    "jupyter": {
     "outputs_hidden": false
    }
   },
   "outputs": [
    {
     "data": {
      "text/html": [
       "<div>\n",
       "<style scoped>\n",
       "    .dataframe tbody tr th:only-of-type {\n",
       "        vertical-align: middle;\n",
       "    }\n",
       "\n",
       "    .dataframe tbody tr th {\n",
       "        vertical-align: top;\n",
       "    }\n",
       "\n",
       "    .dataframe thead th {\n",
       "        text-align: right;\n",
       "    }\n",
       "</style>\n",
       "<table border=\"1\" class=\"dataframe\">\n",
       "  <thead>\n",
       "    <tr style=\"text-align: right;\">\n",
       "      <th></th>\n",
       "      <th>Unnamed: 0</th>\n",
       "      <th>prompt</th>\n",
       "      <th>canonical</th>\n",
       "      <th>test</th>\n",
       "      <th>answer</th>\n",
       "      <th>problem_id</th>\n",
       "      <th>time</th>\n",
       "      <th>pass</th>\n",
       "      <th>exec_time</th>\n",
       "    </tr>\n",
       "  </thead>\n",
       "  <tbody>\n",
       "    <tr>\n",
       "      <th>0</th>\n",
       "      <td>0</td>\n",
       "      <td>NaN</td>\n",
       "      <td>NaN</td>\n",
       "      <td>\\n\\nMETADATA = {\\n    'author': 'jt',\\n    'da...</td>\n",
       "      <td>&lt;|system|&gt;you are a smart programming assistan...</td>\n",
       "      <td>HumanEval/0</td>\n",
       "      <td>60.665479</td>\n",
       "      <td>1</td>\n",
       "      <td>0.065942</td>\n",
       "    </tr>\n",
       "    <tr>\n",
       "      <th>1</th>\n",
       "      <td>1</td>\n",
       "      <td>NaN</td>\n",
       "      <td>NaN</td>\n",
       "      <td>\\n\\nMETADATA = {\\n    'author': 'jt',\\n    'da...</td>\n",
       "      <td>&lt;|system|&gt;you are a smart programming assistan...</td>\n",
       "      <td>HumanEval/1</td>\n",
       "      <td>48.595213</td>\n",
       "      <td>0</td>\n",
       "      <td>0.059510</td>\n",
       "    </tr>\n",
       "    <tr>\n",
       "      <th>2</th>\n",
       "      <td>2</td>\n",
       "      <td>NaN</td>\n",
       "      <td>NaN</td>\n",
       "      <td>\\n\\nMETADATA = {\\n    'author': 'jt',\\n    'da...</td>\n",
       "      <td>&lt;|system|&gt;you are a smart programming assistan...</td>\n",
       "      <td>HumanEval/2</td>\n",
       "      <td>48.404578</td>\n",
       "      <td>1</td>\n",
       "      <td>0.059203</td>\n",
       "    </tr>\n",
       "    <tr>\n",
       "      <th>3</th>\n",
       "      <td>3</td>\n",
       "      <td>NaN</td>\n",
       "      <td>NaN</td>\n",
       "      <td>\\n\\nMETADATA = {\\n    'author': 'jt',\\n    'da...</td>\n",
       "      <td>&lt;|system|&gt;you are a smart programming assistan...</td>\n",
       "      <td>HumanEval/3</td>\n",
       "      <td>28.898859</td>\n",
       "      <td>1</td>\n",
       "      <td>0.059048</td>\n",
       "    </tr>\n",
       "    <tr>\n",
       "      <th>4</th>\n",
       "      <td>4</td>\n",
       "      <td>NaN</td>\n",
       "      <td>NaN</td>\n",
       "      <td>\\n\\nMETADATA = {\\n    'author': 'jt',\\n    'da...</td>\n",
       "      <td>&lt;|system|&gt;you are a smart programming assistan...</td>\n",
       "      <td>HumanEval/4</td>\n",
       "      <td>55.860152</td>\n",
       "      <td>0</td>\n",
       "      <td>0.059134</td>\n",
       "    </tr>\n",
       "  </tbody>\n",
       "</table>\n",
       "</div>"
      ],
      "text/plain": [
       "   Unnamed: 0  prompt  canonical  \\\n",
       "0           0     NaN        NaN   \n",
       "1           1     NaN        NaN   \n",
       "2           2     NaN        NaN   \n",
       "3           3     NaN        NaN   \n",
       "4           4     NaN        NaN   \n",
       "\n",
       "                                                test  \\\n",
       "0  \\n\\nMETADATA = {\\n    'author': 'jt',\\n    'da...   \n",
       "1  \\n\\nMETADATA = {\\n    'author': 'jt',\\n    'da...   \n",
       "2  \\n\\nMETADATA = {\\n    'author': 'jt',\\n    'da...   \n",
       "3  \\n\\nMETADATA = {\\n    'author': 'jt',\\n    'da...   \n",
       "4  \\n\\nMETADATA = {\\n    'author': 'jt',\\n    'da...   \n",
       "\n",
       "                                              answer   problem_id       time  \\\n",
       "0  <|system|>you are a smart programming assistan...  HumanEval/0  60.665479   \n",
       "1  <|system|>you are a smart programming assistan...  HumanEval/1  48.595213   \n",
       "2  <|system|>you are a smart programming assistan...  HumanEval/2  48.404578   \n",
       "3  <|system|>you are a smart programming assistan...  HumanEval/3  28.898859   \n",
       "4  <|system|>you are a smart programming assistan...  HumanEval/4  55.860152   \n",
       "\n",
       "   pass  exec_time  \n",
       "0     1   0.065942  \n",
       "1     0   0.059510  \n",
       "2     1   0.059203  \n",
       "3     1   0.059048  \n",
       "4     0   0.059134  "
      ]
     },
     "execution_count": 47,
     "metadata": {},
     "output_type": "execute_result"
    }
   ],
   "source": [
    "merged_old_df.head()"
   ]
  },
  {
   "cell_type": "code",
   "execution_count": 48,
   "id": "213149b1-67a7-4985-8af8-d2ed75979c87",
   "metadata": {
    "ExecuteTime": {
     "end_time": "2023-07-26T07:40:10.571615663Z",
     "start_time": "2023-07-26T07:40:10.570400988Z"
    }
   },
   "outputs": [],
   "source": [
    "merged_df.to_csv(\"results/gpu_1024_4b_v3.csv\")"
   ]
  },
  {
   "cell_type": "code",
   "execution_count": 54,
   "id": "383ec6e7-c7a7-4b32-a263-3ecbe81a2d92",
   "metadata": {},
   "outputs": [
    {
     "data": {
      "text/plain": [
       "47"
      ]
     },
     "execution_count": 54,
     "metadata": {},
     "output_type": "execute_result"
    }
   ],
   "source": [
    "sum(merged_df[\"pass\"])"
   ]
  },
  {
   "cell_type": "code",
   "execution_count": 56,
   "id": "1bb4b33f-8ecd-4f3c-a639-f4dc0139f4bd",
   "metadata": {},
   "outputs": [
    {
     "data": {
      "text/plain": [
       "47"
      ]
     },
     "execution_count": 56,
     "metadata": {},
     "output_type": "execute_result"
    }
   ],
   "source": [
    "sum(merged_old_df[\"pass\"])"
   ]
  },
  {
   "cell_type": "code",
   "execution_count": 50,
   "id": "a09130aa-6c30-4470-8a6e-9958f701d814",
   "metadata": {},
   "outputs": [],
   "source": [
    "def print_completion_evaluation(idx):\n",
    "    print(extracted_codes[idx])\n",
    "    print(exec_results[idx])"
   ]
  },
  {
   "cell_type": "code",
   "execution_count": null,
   "id": "cc87387e-8730-418c-8b65-d371b0510b4e",
   "metadata": {
    "scrolled": true
   },
   "outputs": [],
   "source": [
    "for x in range(len(problems)):\n",
    "    print_completion_evaluation(x)\n",
    "    print(\"-\"*100)\n"
   ]
  },
  {
   "cell_type": "code",
   "execution_count": null,
   "id": "7b073108-eaf2-4aa9-9851-d11335d1ab7a",
   "metadata": {},
   "outputs": [],
   "source": []
  },
  {
   "cell_type": "code",
   "execution_count": null,
   "id": "7789c76d-3e23-48be-8a4e-5d42cc511001",
   "metadata": {},
   "outputs": [],
   "source": []
  },
  {
   "cell_type": "code",
   "execution_count": null,
   "id": "a613f596-5912-4a10-86cc-07c2f6a7fe5a",
   "metadata": {},
   "outputs": [],
   "source": []
  },
  {
   "cell_type": "code",
   "execution_count": null,
   "id": "767b8c07-458c-4ca6-9876-ab4e16e4a443",
   "metadata": {},
   "outputs": [],
   "source": []
  },
  {
   "cell_type": "code",
   "execution_count": null,
   "id": "962ca90f-01fe-4d2a-8174-760bb6020af4",
   "metadata": {},
   "outputs": [],
   "source": []
  },
  {
   "cell_type": "code",
   "execution_count": null,
   "id": "c3659382-c737-450b-b1d9-88ae718bd5f4",
   "metadata": {},
   "outputs": [],
   "source": []
  },
  {
   "cell_type": "code",
   "execution_count": null,
   "id": "33bdb373-e43b-402d-a5b0-de4920b1af53",
   "metadata": {},
   "outputs": [],
   "source": []
  },
  {
   "cell_type": "code",
   "execution_count": null,
   "id": "f28d51ca-5a1c-4c6c-9b72-c396cb224253",
   "metadata": {},
   "outputs": [],
   "source": []
  }
 ],
 "metadata": {
  "kernelspec": {
   "display_name": "Python 3 (ipykernel)",
   "language": "python",
   "name": "python3"
  },
  "language_info": {
   "codemirror_mode": {
    "name": "ipython",
    "version": 3
   },
   "file_extension": ".py",
   "mimetype": "text/x-python",
   "name": "python",
   "nbconvert_exporter": "python",
   "pygments_lexer": "ipython3",
   "version": "3.10.11"
  }
 },
 "nbformat": 4,
 "nbformat_minor": 5
}

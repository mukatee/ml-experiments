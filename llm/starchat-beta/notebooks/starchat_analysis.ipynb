{
 "cells": [
  {
   "cell_type": "code",
   "execution_count": null,
   "metadata": {
    "ExecuteTime": {
     "end_time": "2023-07-26T07:52:31.579725904Z",
     "start_time": "2023-07-26T07:52:31.269186716Z"
    }
   },
   "outputs": [],
   "source": [
    "import pandas as pd\n"
   ]
  },
  {
   "cell_type": "code",
   "execution_count": null,
   "metadata": {
    "ExecuteTime": {
     "end_time": "2023-07-26T07:52:32.161386875Z",
     "start_time": "2023-07-26T07:52:31.851322359Z"
    },
    "collapsed": false,
    "jupyter": {
     "outputs_hidden": false
    }
   },
   "outputs": [],
   "source": [
    "!ls"
   ]
  },
  {
   "cell_type": "code",
   "execution_count": null,
   "metadata": {
    "ExecuteTime": {
     "end_time": "2023-07-26T07:52:33.792615269Z",
     "start_time": "2023-07-26T07:52:33.629146204Z"
    },
    "collapsed": false,
    "jupyter": {
     "outputs_hidden": false
    }
   },
   "outputs": [],
   "source": [
    "!ls ../data/results"
   ]
  },
  {
   "cell_type": "code",
   "execution_count": null,
   "metadata": {
    "ExecuteTime": {
     "end_time": "2023-07-26T07:53:02.826226535Z",
     "start_time": "2023-07-26T07:53:02.779618218Z"
    },
    "collapsed": false,
    "jupyter": {
     "outputs_hidden": false
    }
   },
   "outputs": [],
   "source": [
    "#df_cpu_1024 = pd.read_csv('../data/results/cpu_1024_full_temp00_math_stats.csv')\n",
    "#df_gpu_1024_8b_nomath = pd.read_csv('../data/results/gpu_1024_8b_temp00_nomath_stats.csv')\n",
    "#df_gpu_1024_4b_math = pd.read_csv('../data/results/gpu_1024_4b_temp00_math.csv')\n",
    "#df_gpu_1024_4b_nomath = pd.read_csv('../data/results/gpu_1024_4b_temp00_nomath.csv')\n",
    "\n",
    "df_cpu_1024 = pd.read_csv('../data/results/cpu_1024_full_temp00_math_stats.csv')\n",
    "df_gpu_1024_8b = pd.read_csv('../data/results/gpu_1024_8b_v2.csv')\n",
    "df_gpu_1024_4b = pd.read_csv('../data/results/gpu_1024_4b_v3.csv')\n"
   ]
  },
  {
   "cell_type": "code",
   "execution_count": null,
   "metadata": {
    "ExecuteTime": {
     "end_time": "2023-07-26T07:53:05.718067395Z",
     "start_time": "2023-07-26T07:53:05.655647842Z"
    },
    "collapsed": false,
    "jupyter": {
     "outputs_hidden": false
    }
   },
   "outputs": [],
   "source": [
    "df_cpu_1024.head()"
   ]
  },
  {
   "cell_type": "code",
   "execution_count": null,
   "metadata": {
    "ExecuteTime": {
     "end_time": "2023-07-26T07:53:30.005608702Z",
     "start_time": "2023-07-26T07:53:29.935960969Z"
    },
    "collapsed": false,
    "jupyter": {
     "outputs_hidden": false
    }
   },
   "outputs": [],
   "source": [
    "# extract python code from the answer column in df_cpu_1024\n",
    "df_cpu_1024['python_code'] = df_cpu_1024['answer'].str.extract(r'```python\\n(.*)```', expand=False)\n",
    "df_gpu_1024_8b['python_code'] = df_gpu_1024_8b['answer'].str.extract(r'```python\\n(.*)```', expand=False)\n",
    "df_gpu_1024_4b['python_code'] = df_gpu_1024_4b['answer'].str.extract(r'```python\\n(.*)```', expand=False)\n",
    "#df_gpu_1024_4b_nomath['python_code'] = df_gpu_1024_4b_nomath['answer'].str.extract(r'```python\\n(.*)```', expand=False)"
   ]
  },
  {
   "cell_type": "code",
   "execution_count": null,
   "metadata": {
    "ExecuteTime": {
     "end_time": "2023-07-26T07:53:31.823324657Z",
     "start_time": "2023-07-26T07:53:31.793750481Z"
    },
    "collapsed": false,
    "jupyter": {
     "outputs_hidden": false
    }
   },
   "outputs": [],
   "source": [
    "import re\n",
    "\n",
    "def slice_until_word(s, word):\n",
    "    start_index = s.find(word)\n",
    "    if start_index == -1:\n",
    "        # word not found in string\n",
    "        return s\n",
    "    end_index = start_index + len(word)\n",
    "    return s[end_index:]\n",
    "\n",
    "\n",
    "def slice_function_definition(completion, words):\n",
    "    completion = slice_until_word(completion, \"<|assistant|>\")\n",
    "\n",
    "    lines = completion.split('\\n')  # split the string into lines\n",
    "    result = []\n",
    "    capture = False\n",
    "\n",
    "    for line in lines:\n",
    "        if line:\n",
    "            if len(line.strip()) > 0:\n",
    "                first_word = line.split()[0]\n",
    "                if first_word in words:\n",
    "                    capture = True\n",
    "                elif capture and (line[0].isalpha() or line[0] == '`'):\n",
    "                    capture = False\n",
    "        if capture:\n",
    "#            print(line)\n",
    "            result.append(line)\n",
    "\n",
    "    return '\\n'.join(result)\n",
    "\n",
    "def extract_python_code(input_string):\n",
    "#    if \"```python\" in input_string:\n",
    "#        python_code = re.findall(\"```python(.*?)```\", input_string, re.DOTALL)\n",
    "#        answers = [code.strip() for code in python_code]\n",
    "#        return answers[0]\n",
    "    return slice_function_definition(input_string, [\"from\", \"import\", \"def\"])\n"
   ]
  },
  {
   "cell_type": "code",
   "execution_count": null,
   "metadata": {
    "ExecuteTime": {
     "end_time": "2023-07-26T07:53:34.526884023Z",
     "start_time": "2023-07-26T07:53:34.461062058Z"
    },
    "collapsed": false,
    "jupyter": {
     "outputs_hidden": false
    }
   },
   "outputs": [],
   "source": [
    "print(extract_python_code((df_cpu_1024['answer'][0])))"
   ]
  },
  {
   "cell_type": "code",
   "execution_count": null,
   "metadata": {
    "ExecuteTime": {
     "end_time": "2023-07-26T07:53:35.870733032Z",
     "start_time": "2023-07-26T07:53:35.849011746Z"
    },
    "collapsed": false,
    "jupyter": {
     "outputs_hidden": false
    }
   },
   "outputs": [],
   "source": [
    "def create_python_code_column(df):\n",
    "    python_codes = df['answer'].apply(extract_python_code)\n",
    "    df['python_code'] = python_codes\n",
    "    #return df"
   ]
  },
  {
   "cell_type": "code",
   "execution_count": null,
   "metadata": {
    "ExecuteTime": {
     "end_time": "2023-07-26T07:53:49.507984701Z",
     "start_time": "2023-07-26T07:53:49.459514106Z"
    },
    "collapsed": false,
    "jupyter": {
     "outputs_hidden": false
    }
   },
   "outputs": [],
   "source": [
    "create_python_code_column(df_cpu_1024)\n",
    "create_python_code_column(df_gpu_1024_8b)\n",
    "create_python_code_column(df_gpu_1024_4b)\n",
    "#create_python_code_column(df_gpu_1024_4b_nomath)"
   ]
  },
  {
   "cell_type": "code",
   "execution_count": null,
   "metadata": {
    "ExecuteTime": {
     "end_time": "2023-07-26T07:53:53.277997889Z",
     "start_time": "2023-07-26T07:53:53.251997151Z"
    },
    "collapsed": false,
    "jupyter": {
     "outputs_hidden": false
    }
   },
   "outputs": [],
   "source": [
    "df_gpu_1024_8b.head()"
   ]
  },
  {
   "cell_type": "code",
   "execution_count": null,
   "metadata": {
    "ExecuteTime": {
     "end_time": "2023-07-26T07:54:28.391885619Z",
     "start_time": "2023-07-26T07:54:28.368699151Z"
    },
    "collapsed": false,
    "jupyter": {
     "outputs_hidden": false
    }
   },
   "outputs": [],
   "source": [
    "df_python_codes = pd.concat([df_cpu_1024['python_code'],\n",
    "                             df_gpu_1024_8b['python_code'],\n",
    "                             df_gpu_1024_4b['python_code']],\n",
    "                             #df_gpu_1024_4b_nomath['python_code']],\n",
    "                            axis=1)"
   ]
  },
  {
   "cell_type": "code",
   "execution_count": null,
   "metadata": {
    "ExecuteTime": {
     "end_time": "2023-07-26T07:54:38.644214756Z",
     "start_time": "2023-07-26T07:54:38.588882448Z"
    },
    "collapsed": false,
    "jupyter": {
     "outputs_hidden": false
    }
   },
   "outputs": [],
   "source": [
    "df_python_codes.columns = ['cpu_1024', 'gpu_1024_8b', 'gpu_1024_4b']\n",
    "df_python_codes.head()\n"
   ]
  },
  {
   "cell_type": "code",
   "execution_count": null,
   "metadata": {
    "ExecuteTime": {
     "end_time": "2023-07-26T07:55:04.196217789Z",
     "start_time": "2023-07-26T07:55:04.172812178Z"
    },
    "collapsed": false,
    "jupyter": {
     "outputs_hidden": false
    }
   },
   "outputs": [],
   "source": [
    "df_passes = pd.concat([df_cpu_1024['pass'], df_gpu_1024_8b['pass'], df_gpu_1024_4b['pass']], axis=1)\n",
    "df_passes.columns = ['cpu_1024', 'gpu_1024_8b', 'gpu_1024_4b']"
   ]
  },
  {
   "cell_type": "code",
   "execution_count": null,
   "metadata": {
    "ExecuteTime": {
     "end_time": "2023-07-26T07:55:04.484076832Z",
     "start_time": "2023-07-26T07:55:04.459306841Z"
    },
    "collapsed": false,
    "jupyter": {
     "outputs_hidden": false
    }
   },
   "outputs": [],
   "source": [
    "df_passes.head()"
   ]
  },
  {
   "cell_type": "code",
   "execution_count": null,
   "metadata": {
    "ExecuteTime": {
     "end_time": "2023-07-26T07:55:07.594181226Z",
     "start_time": "2023-07-26T07:55:07.570876193Z"
    },
    "collapsed": false,
    "jupyter": {
     "outputs_hidden": false
    }
   },
   "outputs": [],
   "source": [
    "df_passes.columns"
   ]
  },
  {
   "cell_type": "code",
   "execution_count": null,
   "metadata": {
    "ExecuteTime": {
     "end_time": "2023-07-26T07:55:09.755498515Z",
     "start_time": "2023-07-26T07:55:09.440839136Z"
    },
    "collapsed": false,
    "jupyter": {
     "outputs_hidden": false
    }
   },
   "outputs": [],
   "source": [
    "# plot df_passes value counts as bar plot\n",
    "df_passes[\"cpu_1024\"].value_counts().plot(kind='bar', color=['red', 'green'])\n"
   ]
  },
  {
   "cell_type": "code",
   "execution_count": null,
   "metadata": {
    "ExecuteTime": {
     "end_time": "2023-07-26T07:55:12.267643107Z",
     "start_time": "2023-07-26T07:55:12.191910502Z"
    },
    "collapsed": false,
    "jupyter": {
     "outputs_hidden": false
    }
   },
   "outputs": [],
   "source": [
    "# plot df_cpu_1024 columns pass values counts as bar plot\n",
    "df_cpu_1024[\"pass\"].value_counts().plot(kind='bar', color=['red', 'green'])"
   ]
  },
  {
   "cell_type": "code",
   "execution_count": null,
   "metadata": {
    "ExecuteTime": {
     "end_time": "2023-07-26T07:55:29.177968733Z",
     "start_time": "2023-07-26T07:55:29.084354435Z"
    },
    "collapsed": false,
    "jupyter": {
     "outputs_hidden": false
    }
   },
   "outputs": [],
   "source": [
    "import pandas as pd\n",
    "import matplotlib.pyplot as plt\n",
    "import numpy as np\n",
    "\n",
    "# Assuming df_passes is your DataFrame\n",
    "cols = ['cpu_1024', 'gpu_1024_8b', 'gpu_1024_4b']\n",
    "\n",
    "# Calculate the value counts for 0 and 1 for each column\n",
    "data = []\n",
    "for col in cols:\n",
    "    data.append(df_passes[col].value_counts().sort_index().tolist())\n",
    "\n",
    "data = np.array(data).T\n",
    "\n",
    "# Create bar plot\n",
    "N = len(cols)\n",
    "ind = np.arange(N)    # the x locations for the groups\n",
    "width = 0.35       # the width of the bars: can also be len(x) sequence\n",
    "\n",
    "fig, ax = plt.subplots()\n",
    "\n",
    "p1 = ax.bar(ind - width/2, data[0], width, color='r')\n",
    "p2 = ax.bar(ind + width/2, data[1], width, color='b')\n",
    "\n",
    "ax.axhline(0, color='grey', linewidth=0.8)\n",
    "ax.set_ylabel('Counts')\n",
    "ax.set_title('Counts by group and variable')\n",
    "ax.set_xticks(ind)\n",
    "ax.set_xticklabels(cols)\n",
    "\n",
    "# add counts above bars\n",
    "for rect in p1 + p2:\n",
    "    height = rect.get_height()\n",
    "    ax.text(rect.get_x() + rect.get_width()/2., 1.002*height,\n",
    "            '%d' % int(height), ha='center', va='bottom')\n",
    "\n",
    "# turn x-ticks 90 degrees\n",
    "plt.setp(ax.get_xticklabels(), rotation=45, horizontalalignment='center')\n",
    "\n",
    "#ax.legend((p1[0], p2[0]), ('fail', 'pass'))\n",
    "\n",
    "# Move the legend to the bottom using bbox_to_anchor\n",
    "ax.legend((p1[0], p2[0]), ('fail', 'pass'), bbox_to_anchor=(1, 0.9), loc='upper center', ncol=1)\n",
    "\n",
    "plt.show()\n"
   ]
  },
  {
   "cell_type": "code",
   "execution_count": null,
   "metadata": {
    "ExecuteTime": {
     "end_time": "2023-07-26T07:55:34.401341240Z",
     "start_time": "2023-07-26T07:55:34.339035379Z"
    },
    "collapsed": false,
    "jupyter": {
     "outputs_hidden": false
    }
   },
   "outputs": [],
   "source": [
    "print(df_cpu_1024[\"python_code\"][0])\n"
   ]
  },
  {
   "cell_type": "code",
   "execution_count": null,
   "metadata": {
    "ExecuteTime": {
     "end_time": "2023-07-26T07:55:39.263479458Z",
     "start_time": "2023-07-26T07:55:39.221265979Z"
    },
    "collapsed": false,
    "jupyter": {
     "outputs_hidden": false
    }
   },
   "outputs": [],
   "source": [
    "print(df_gpu_1024_8b[\"python_code\"][0])"
   ]
  },
  {
   "cell_type": "code",
   "execution_count": null,
   "metadata": {
    "ExecuteTime": {
     "end_time": "2023-07-26T07:55:42.949471614Z",
     "start_time": "2023-07-26T07:55:42.920701666Z"
    },
    "collapsed": false,
    "jupyter": {
     "outputs_hidden": false
    }
   },
   "outputs": [],
   "source": [
    "print(df_gpu_1024_4b[\"python_code\"][0])"
   ]
  },
  {
   "cell_type": "code",
   "execution_count": null,
   "metadata": {
    "ExecuteTime": {
     "end_time": "2023-07-26T07:55:47.426253408Z",
     "start_time": "2023-07-26T07:55:47.395820199Z"
    },
    "collapsed": false,
    "jupyter": {
     "outputs_hidden": false
    }
   },
   "outputs": [],
   "source": [
    "print(df_gpu_1024_4b[\"python_code\"][0])"
   ]
  },
  {
   "cell_type": "code",
   "execution_count": null,
   "metadata": {
    "ExecuteTime": {
     "end_time": "2023-07-26T07:55:50.151561356Z",
     "start_time": "2023-07-26T07:55:49.809112896Z"
    },
    "collapsed": false,
    "jupyter": {
     "outputs_hidden": false
    }
   },
   "outputs": [],
   "source": [
    "!pwd"
   ]
  },
  {
   "cell_type": "code",
   "execution_count": null,
   "metadata": {
    "ExecuteTime": {
     "end_time": "2023-07-26T07:55:50.193226612Z",
     "start_time": "2023-07-26T07:55:50.140664658Z"
    },
    "collapsed": false,
    "jupyter": {
     "outputs_hidden": false
    }
   },
   "outputs": [],
   "source": [
    "%cd ../data/starchat-beta"
   ]
  },
  {
   "cell_type": "code",
   "execution_count": null,
   "metadata": {
    "ExecuteTime": {
     "end_time": "2023-07-26T07:55:50.722994787Z",
     "start_time": "2023-07-26T07:55:50.525767378Z"
    },
    "collapsed": false,
    "jupyter": {
     "outputs_hidden": false
    }
   },
   "outputs": [],
   "source": [
    "!ls"
   ]
  },
  {
   "cell_type": "code",
   "execution_count": null,
   "metadata": {
    "ExecuteTime": {
     "end_time": "2023-07-26T07:55:51.647758481Z",
     "start_time": "2023-07-26T07:55:51.608293653Z"
    },
    "collapsed": false,
    "jupyter": {
     "outputs_hidden": false
    }
   },
   "outputs": [],
   "source": [
    "%cd human-eval"
   ]
  },
  {
   "cell_type": "code",
   "execution_count": null,
   "metadata": {
    "ExecuteTime": {
     "end_time": "2023-07-26T07:55:55.217196518Z",
     "start_time": "2023-07-26T07:55:53.271970309Z"
    },
    "collapsed": false,
    "jupyter": {
     "outputs_hidden": false
    }
   },
   "outputs": [],
   "source": [
    "!pip install -e ."
   ]
  },
  {
   "cell_type": "code",
   "execution_count": null,
   "metadata": {
    "ExecuteTime": {
     "end_time": "2023-07-26T07:55:56.876292632Z",
     "start_time": "2023-07-26T07:55:56.835681267Z"
    },
    "collapsed": false,
    "jupyter": {
     "outputs_hidden": false
    }
   },
   "outputs": [],
   "source": [
    "from human_eval.data import write_jsonl, read_problems\n",
    "from human_eval import execution\n",
    "\n",
    "problems = read_problems()"
   ]
  },
  {
   "cell_type": "code",
   "execution_count": null,
   "metadata": {
    "ExecuteTime": {
     "end_time": "2023-07-26T07:55:57.756374233Z",
     "start_time": "2023-07-26T07:55:57.721124847Z"
    },
    "collapsed": false,
    "jupyter": {
     "outputs_hidden": false
    }
   },
   "outputs": [],
   "source": [
    "df_cpu_1024.columns"
   ]
  },
  {
   "cell_type": "code",
   "execution_count": null,
   "metadata": {
    "ExecuteTime": {
     "end_time": "2023-07-26T07:55:59.548642442Z",
     "start_time": "2023-07-26T07:55:59.497048465Z"
    },
    "collapsed": false,
    "jupyter": {
     "outputs_hidden": false
    }
   },
   "outputs": [],
   "source": [
    "%cd /mystuff/data"
   ]
  },
  {
   "cell_type": "code",
   "execution_count": null,
   "metadata": {
    "ExecuteTime": {
     "end_time": "2023-07-26T07:56:02.335823080Z",
     "start_time": "2023-07-26T07:56:00.690478483Z"
    },
    "collapsed": false,
    "jupyter": {
     "outputs_hidden": false
    }
   },
   "outputs": [],
   "source": [
    "from transformers import AutoTokenizer, AutoModelForCausalLM, pipeline, AutoModelForSeq2SeqLM\n",
    "\n",
    "tokenizer = AutoTokenizer.from_pretrained(\"starchat-beta\", local_files_only=True)\n"
   ]
  },
  {
   "cell_type": "code",
   "execution_count": null,
   "metadata": {
    "ExecuteTime": {
     "end_time": "2023-07-26T07:56:03.600370875Z",
     "start_time": "2023-07-26T07:56:03.573970078Z"
    },
    "collapsed": false,
    "jupyter": {
     "outputs_hidden": false
    }
   },
   "outputs": [],
   "source": [
    "from tqdm.notebook import tqdm\n",
    "\n",
    "def collect_results(df_from, tokenizer):\n",
    "    task_ids = []\n",
    "    execution_passed = []\n",
    "    execution_passed_with_import_math = []\n",
    "    execution_passed_with_import_typing = []\n",
    "    execution_results = []\n",
    "    execution_results_with_import_math = []\n",
    "    execution_results_with_import_typing = []\n",
    "    prompt_token_counts = []\n",
    "    generated_code_token_counts = []\n",
    "    answer_token_counts = []\n",
    "    answer_new_token_counts = []\n",
    "    token_diff_counts = []\n",
    "    canonicals = []\n",
    "    prompts = []\n",
    "    for idx, row in tqdm(df_from.iterrows()):\n",
    "        problem = problems[row.problem_id]\n",
    "        canonicals.append(problem[\"canonical_solution\"])\n",
    "        prompt = problem[\"prompt\"]\n",
    "        prompts.append(prompt)\n",
    "        prompt_tokens = tokenizer.tokenize(prompt)\n",
    "        prompt_token_count = len(prompt_tokens)\n",
    "        prompt_token_counts.append(prompt_token_count)\n",
    "        generated_code = row.python_code\n",
    "        generated_code_tokens = tokenizer.tokenize(row.python_code)\n",
    "        generated_code_token_count = len(generated_code_tokens)\n",
    "        generated_code_token_counts.append(generated_code_token_count)\n",
    "        answer_tokens = tokenizer.tokenize(row.answer)\n",
    "        answer_token_count = len(answer_tokens)\n",
    "        generated_code_new_token_counts = answer_token_count - prompt_token_count\n",
    "        answer_new_token_counts.append(generated_code_new_token_counts)\n",
    "        answer_token_counts.append(answer_token_count)\n",
    "        answer_new_token_count = answer_token_count - prompt_token_count - generated_code_token_count\n",
    "        answer_new_token_counts.append(answer_new_token_count)\n",
    "        token_diff_counts.append(answer_token_count - prompt_token_count)\n",
    "        #10 is timeout in seconds, 1 is optional completion_id\n",
    "        result = execution.check_correctness(problem, generated_code, 10, 1)\n",
    "        execution_passed.append(result[\"passed\"])\n",
    "        execution_results.append(result[\"result\"])\n",
    "        generated_code = \"import math\\n\"+generated_code\n",
    "        result = execution.check_correctness(problem, generated_code, 10, 1)\n",
    "        execution_passed_with_import_math.append(result[\"passed\"])\n",
    "        execution_results_with_import_math.append(result[\"result\"])\n",
    "        generated_code = \"from typing import List, Optional\\n\"+generated_code\n",
    "        result = execution.check_correctness(problem, generated_code, 10, 1)\n",
    "        execution_passed_with_import_typing.append(result[\"passed\"])\n",
    "        execution_results_with_import_typing.append(result[\"result\"])\n",
    "        task_ids.append(result[\"task_id\"])\n",
    "    df_from['canonical'] = canonicals\n",
    "    df_from['prompt'] = prompts\n",
    "    df_new = pd.DataFrame({'problem_id': task_ids, 'passed_no_math': execution_passed, 'passed_math': execution_passed_with_import_math,\n",
    "                           'passed_typing': execution_passed_with_import_typing,\n",
    "                           'result_no_math': execution_results, 'result_math': execution_results_with_import_math,\n",
    "                           'result_typing': execution_results_with_import_typing,\n",
    "                           'prompt_token_count': prompt_token_counts, 'generated_code_token_count': generated_code_token_counts,\n",
    "                           'answer_token_count': answer_token_counts})\n",
    "    merged_df = df_from.merge(df_new, on='problem_id')\n",
    "    return merged_df\n"
   ]
  },
  {
   "cell_type": "code",
   "execution_count": null,
   "metadata": {
    "ExecuteTime": {
     "end_time": "2023-07-26T07:56:09.207197898Z",
     "start_time": "2023-07-26T07:56:09.166306539Z"
    },
    "collapsed": false,
    "jupyter": {
     "outputs_hidden": false
    }
   },
   "outputs": [],
   "source": [
    "df_gpu_1024_8b[\"pass\"].value_counts()"
   ]
  },
  {
   "cell_type": "code",
   "execution_count": null,
   "metadata": {
    "ExecuteTime": {
     "end_time": "2023-07-26T07:59:24.675515784Z",
     "start_time": "2023-07-26T07:56:17.577771419Z"
    },
    "collapsed": false,
    "jupyter": {
     "outputs_hidden": false
    }
   },
   "outputs": [],
   "source": [
    "df_cpu_1024 = collect_results(df_cpu_1024, tokenizer)\n",
    "df_gpu_1024_8b = collect_results(df_gpu_1024_8b, tokenizer)\n",
    "df_gpu_1024_4b = collect_results(df_gpu_1024_4b, tokenizer)"
   ]
  },
  {
   "cell_type": "code",
   "execution_count": null,
   "metadata": {
    "ExecuteTime": {
     "end_time": "2023-07-26T07:59:24.675809093Z",
     "start_time": "2023-07-26T07:59:24.631000087Z"
    },
    "collapsed": false,
    "jupyter": {
     "outputs_hidden": false
    }
   },
   "outputs": [],
   "source": [
    "df_cpu_1024[\"passed_math\"].value_counts()"
   ]
  },
  {
   "cell_type": "code",
   "execution_count": null,
   "metadata": {
    "ExecuteTime": {
     "end_time": "2023-07-26T07:59:24.675962054Z",
     "start_time": "2023-07-26T07:59:24.631192832Z"
    },
    "collapsed": false,
    "jupyter": {
     "outputs_hidden": false
    }
   },
   "outputs": [],
   "source": [
    "df_gpu_1024_4b[\"passed_math\"].value_counts()"
   ]
  },
  {
   "cell_type": "code",
   "execution_count": null,
   "metadata": {
    "ExecuteTime": {
     "end_time": "2023-07-26T07:59:24.676076390Z",
     "start_time": "2023-07-26T07:59:24.642285048Z"
    },
    "collapsed": false,
    "jupyter": {
     "outputs_hidden": false
    }
   },
   "outputs": [],
   "source": [
    "df_gpu_1024_8b[\"passed_math\"].value_counts()\n"
   ]
  },
  {
   "cell_type": "code",
   "execution_count": null,
   "metadata": {
    "ExecuteTime": {
     "end_time": "2023-07-26T07:59:24.676261016Z",
     "start_time": "2023-07-26T07:59:24.651860913Z"
    },
    "collapsed": false,
    "jupyter": {
     "outputs_hidden": false
    }
   },
   "outputs": [],
   "source": [
    "df_cpu_1024.head()"
   ]
  },
  {
   "cell_type": "code",
   "execution_count": null,
   "metadata": {
    "ExecuteTime": {
     "end_time": "2023-07-26T07:59:24.958592843Z",
     "start_time": "2023-07-26T07:59:24.657817938Z"
    },
    "collapsed": false,
    "jupyter": {
     "outputs_hidden": false
    }
   },
   "outputs": [],
   "source": [
    "!pwd"
   ]
  },
  {
   "cell_type": "code",
   "execution_count": null,
   "metadata": {
    "ExecuteTime": {
     "end_time": "2023-07-26T07:59:25.027219071Z",
     "start_time": "2023-07-26T07:59:24.861497266Z"
    },
    "collapsed": false,
    "jupyter": {
     "outputs_hidden": false
    }
   },
   "outputs": [],
   "source": [
    "!ls"
   ]
  },
  {
   "cell_type": "code",
   "execution_count": null,
   "metadata": {
    "ExecuteTime": {
     "end_time": "2023-07-26T07:59:25.199204933Z",
     "start_time": "2023-07-26T07:59:25.019400700Z"
    },
    "collapsed": false,
    "jupyter": {
     "outputs_hidden": false
    }
   },
   "outputs": [],
   "source": [
    "!mkdir processed"
   ]
  },
  {
   "cell_type": "code",
   "execution_count": null,
   "metadata": {
    "ExecuteTime": {
     "end_time": "2023-07-26T07:59:25.205050664Z",
     "start_time": "2023-07-26T07:59:25.204466789Z"
    },
    "collapsed": false,
    "jupyter": {
     "outputs_hidden": false
    }
   },
   "outputs": [],
   "source": [
    "%cd processed"
   ]
  },
  {
   "cell_type": "code",
   "execution_count": null,
   "metadata": {
    "ExecuteTime": {
     "end_time": "2023-07-26T07:59:25.252956602Z",
     "start_time": "2023-07-26T07:59:25.209491380Z"
    },
    "collapsed": false,
    "jupyter": {
     "outputs_hidden": false
    }
   },
   "outputs": [],
   "source": [
    "df_cpu_1024.to_csv('cpu_1024_v2.csv')"
   ]
  },
  {
   "cell_type": "code",
   "execution_count": null,
   "metadata": {
    "ExecuteTime": {
     "end_time": "2023-07-26T07:59:25.264614881Z",
     "start_time": "2023-07-26T07:59:25.225432950Z"
    },
    "collapsed": false,
    "jupyter": {
     "outputs_hidden": false
    }
   },
   "outputs": [],
   "source": [
    "df_gpu_1024_4b.to_csv('gpu_1024_4b_v2.csv')"
   ]
  },
  {
   "cell_type": "code",
   "execution_count": null,
   "metadata": {
    "ExecuteTime": {
     "end_time": "2023-07-26T07:59:25.265087925Z",
     "start_time": "2023-07-26T07:59:25.253130627Z"
    },
    "collapsed": false,
    "jupyter": {
     "outputs_hidden": false
    }
   },
   "outputs": [],
   "source": [
    "df_gpu_1024_8b.to_csv('gpu_1024_8b_v2.csv')"
   ]
  },
  {
   "cell_type": "code",
   "execution_count": null,
   "metadata": {
    "ExecuteTime": {
     "end_time": "2023-07-26T07:59:25.265244605Z",
     "start_time": "2023-07-26T07:59:25.253251522Z"
    },
    "collapsed": false,
    "jupyter": {
     "outputs_hidden": false
    }
   },
   "outputs": [],
   "source": [
    "%cd /mystuff/data/processed"
   ]
  },
  {
   "cell_type": "code",
   "execution_count": null,
   "metadata": {
    "ExecuteTime": {
     "end_time": "2023-07-26T07:59:25.431433524Z",
     "start_time": "2023-07-26T07:59:25.255371880Z"
    },
    "collapsed": false,
    "jupyter": {
     "outputs_hidden": false
    }
   },
   "outputs": [],
   "source": [
    "!ls"
   ]
  },
  {
   "cell_type": "code",
   "execution_count": null,
   "metadata": {
    "ExecuteTime": {
     "end_time": "2023-07-26T07:59:25.443821111Z",
     "start_time": "2023-07-26T07:59:25.431209379Z"
    },
    "collapsed": false,
    "jupyter": {
     "outputs_hidden": false
    }
   },
   "outputs": [],
   "source": [
    "df_cpu_1024 = pd.read_csv('cpu_1024_v2.csv')"
   ]
  },
  {
   "cell_type": "code",
   "execution_count": null,
   "metadata": {
    "ExecuteTime": {
     "end_time": "2023-07-26T07:59:25.449058228Z",
     "start_time": "2023-07-26T07:59:25.444196575Z"
    },
    "collapsed": false,
    "jupyter": {
     "outputs_hidden": false
    }
   },
   "outputs": [],
   "source": [
    "df_gpu_1024_4b = pd.read_csv('gpu_1024_4b_v2.csv')\n"
   ]
  },
  {
   "cell_type": "code",
   "execution_count": null,
   "metadata": {
    "ExecuteTime": {
     "end_time": "2023-07-26T07:59:25.490774167Z",
     "start_time": "2023-07-26T07:59:25.456241368Z"
    },
    "collapsed": false,
    "jupyter": {
     "outputs_hidden": false
    }
   },
   "outputs": [],
   "source": [
    "df_gpu_1024_8b = pd.read_csv('gpu_1024_8b_v2.csv')"
   ]
  },
  {
   "cell_type": "code",
   "execution_count": null,
   "metadata": {
    "ExecuteTime": {
     "end_time": "2023-07-26T07:59:25.492200237Z",
     "start_time": "2023-07-26T07:59:25.461096942Z"
    },
    "collapsed": false,
    "jupyter": {
     "outputs_hidden": false
    }
   },
   "outputs": [],
   "source": [
    "df_cpu_1024.head()"
   ]
  },
  {
   "cell_type": "code",
   "execution_count": null,
   "metadata": {
    "ExecuteTime": {
     "end_time": "2023-07-26T07:59:25.752742222Z",
     "start_time": "2023-07-26T07:59:25.474794204Z"
    },
    "collapsed": false,
    "jupyter": {
     "outputs_hidden": false
    }
   },
   "outputs": [],
   "source": [
    "df_cpu_1024.plot.scatter(x='prompt_token_count', y='answer_token_count')"
   ]
  },
  {
   "cell_type": "code",
   "execution_count": null,
   "metadata": {
    "ExecuteTime": {
     "end_time": "2023-07-26T07:59:25.753823746Z",
     "start_time": "2023-07-26T07:59:25.665765389Z"
    },
    "collapsed": false,
    "jupyter": {
     "outputs_hidden": false
    }
   },
   "outputs": [],
   "source": [
    "df_cpu_1024.plot.scatter(x='prompt_token_count', y='generated_code_token_count')"
   ]
  },
  {
   "cell_type": "code",
   "execution_count": null,
   "metadata": {
    "ExecuteTime": {
     "end_time": "2023-07-26T07:59:25.754106790Z",
     "start_time": "2023-07-26T07:59:25.722015275Z"
    },
    "collapsed": false,
    "jupyter": {
     "outputs_hidden": false
    }
   },
   "outputs": [],
   "source": [
    "df_cpu_1024.plot.scatter(x='generated_code_token_count', y='answer_token_count')"
   ]
  },
  {
   "cell_type": "code",
   "execution_count": null,
   "metadata": {
    "ExecuteTime": {
     "end_time": "2023-07-26T07:59:25.754278348Z",
     "start_time": "2023-07-26T07:59:25.736350919Z"
    },
    "collapsed": false,
    "jupyter": {
     "outputs_hidden": false
    }
   },
   "outputs": [],
   "source": [
    "# find row with highest value for answer_token_count in df_cpu_1024\n",
    "max_ans = df_cpu_1024['answer_token_count'].idxmax()\n",
    "df_cpu_1024.loc[max_ans]\n"
   ]
  },
  {
   "cell_type": "code",
   "execution_count": null,
   "metadata": {
    "ExecuteTime": {
     "end_time": "2023-07-26T07:59:25.754384392Z",
     "start_time": "2023-07-26T07:59:25.736465758Z"
    },
    "collapsed": false,
    "jupyter": {
     "outputs_hidden": false
    }
   },
   "outputs": [],
   "source": [
    "print(df_cpu_1024.loc[max_ans][\"result_math\"])"
   ]
  },
  {
   "cell_type": "code",
   "execution_count": null,
   "metadata": {
    "ExecuteTime": {
     "end_time": "2023-07-26T07:59:25.754548500Z",
     "start_time": "2023-07-26T07:59:25.736570743Z"
    },
    "collapsed": false,
    "jupyter": {
     "outputs_hidden": false
    }
   },
   "outputs": [],
   "source": [
    "max_ans = df_cpu_1024['generated_code_token_count'].idxmax()\n",
    "df_cpu_1024.loc[max_ans]\n"
   ]
  },
  {
   "cell_type": "code",
   "execution_count": null,
   "metadata": {
    "ExecuteTime": {
     "end_time": "2023-07-26T07:59:25.754667278Z",
     "start_time": "2023-07-26T07:59:25.741665497Z"
    },
    "collapsed": false,
    "jupyter": {
     "outputs_hidden": false
    }
   },
   "outputs": [],
   "source": [
    "print(df_cpu_1024.loc[max_ans][\"python_code\"])"
   ]
  },
  {
   "cell_type": "code",
   "execution_count": null,
   "metadata": {
    "ExecuteTime": {
     "end_time": "2023-07-26T07:59:25.755186049Z",
     "start_time": "2023-07-26T07:59:25.741813437Z"
    },
    "collapsed": false,
    "jupyter": {
     "outputs_hidden": false
    }
   },
   "outputs": [],
   "source": [
    "df_cpu_1024.loc[max_ans].problem_id.replace(\"/\", \"_\")"
   ]
  },
  {
   "cell_type": "code",
   "execution_count": null,
   "metadata": {
    "ExecuteTime": {
     "end_time": "2023-07-26T07:59:25.769994920Z",
     "start_time": "2023-07-26T07:59:25.747042143Z"
    },
    "collapsed": false,
    "jupyter": {
     "outputs_hidden": false
    }
   },
   "outputs": [],
   "source": [
    "print(df_cpu_1024.loc[max_ans][\"test\"])"
   ]
  },
  {
   "cell_type": "code",
   "execution_count": null,
   "metadata": {
    "ExecuteTime": {
     "end_time": "2023-07-26T08:00:39.174110881Z",
     "start_time": "2023-07-26T08:00:38.586248660Z"
    },
    "collapsed": false,
    "jupyter": {
     "outputs_hidden": false
    }
   },
   "outputs": [],
   "source": [
    "%cd /mystuff/data\n",
    "!mkdir codes_cpu\n",
    "!mkdir codes_gpu4b\n",
    "!mkdir codes_gpu8b"
   ]
  },
  {
   "cell_type": "code",
   "execution_count": null,
   "metadata": {
    "ExecuteTime": {
     "end_time": "2023-07-26T08:00:44.653867445Z",
     "start_time": "2023-07-26T08:00:44.629138294Z"
    },
    "collapsed": false,
    "jupyter": {
     "outputs_hidden": false
    }
   },
   "outputs": [],
   "source": [
    "from tqdm.notebook import tqdm\n",
    "\n",
    "def save_codes(df_from, folder_name):\n",
    "    for idx, row in tqdm(df_from.iterrows()):\n",
    "        print(row.problem_id)\n",
    "        print(row.python_code)\n",
    "        print(row.test)\n",
    "        entry_point = problems[row.problem_id][\"entry_point\"]\n",
    "        print(entry_point)\n",
    "\n",
    "        with open(folder_name+\"/\"+row.problem_id.replace(\"/\", \"_\")+\".py\", \"w\") as f:\n",
    "            f.write(row.python_code)\n",
    "            f.write(\"\\n\\n##########################################################\\n\\n\")\n",
    "            f.write(row.test)\n",
    "            f.write(\"\\n\\n##########################################################\\n\\n\")\n",
    "            f.write(f\"check({entry_point})\")\n",
    "\n",
    "        with open(folder_name+\"/answer_\"+row.problem_id.replace(\"/\", \"_\")+\".txt\", \"w\") as f:\n",
    "            f.write(row.answer)\n"
   ]
  },
  {
   "cell_type": "code",
   "execution_count": null,
   "metadata": {
    "ExecuteTime": {
     "end_time": "2023-07-26T08:00:45.584717506Z",
     "start_time": "2023-07-26T08:00:45.432123069Z"
    },
    "collapsed": false,
    "jupyter": {
     "outputs_hidden": false
    }
   },
   "outputs": [],
   "source": [
    "save_codes(df_cpu_1024, \"codes_cpu\")\n",
    "save_codes(df_gpu_1024_4b, \"codes_gpu4b\")\n",
    "save_codes(df_gpu_1024_8b, \"codes_gpu8b\")\n"
   ]
  },
  {
   "cell_type": "code",
   "execution_count": null,
   "metadata": {
    "ExecuteTime": {
     "end_time": "2023-07-26T08:00:48.312895788Z",
     "start_time": "2023-07-26T08:00:48.061405834Z"
    },
    "collapsed": false,
    "jupyter": {
     "outputs_hidden": false
    }
   },
   "outputs": [],
   "source": [
    "!ls codes_cpu"
   ]
  },
  {
   "cell_type": "code",
   "execution_count": null,
   "metadata": {
    "ExecuteTime": {
     "end_time": "2023-07-26T08:00:49.024130926Z",
     "start_time": "2023-07-26T08:00:48.724347063Z"
    },
    "collapsed": false,
    "jupyter": {
     "outputs_hidden": false
    }
   },
   "outputs": [],
   "source": [
    "!ls codes_gpu4b"
   ]
  },
  {
   "cell_type": "code",
   "execution_count": null,
   "metadata": {
    "ExecuteTime": {
     "end_time": "2023-07-26T08:00:49.835221597Z",
     "start_time": "2023-07-26T08:00:49.546559128Z"
    },
    "collapsed": false,
    "jupyter": {
     "outputs_hidden": false
    }
   },
   "outputs": [],
   "source": [
    "!ls codes_gpu8b"
   ]
  },
  {
   "cell_type": "code",
   "execution_count": null,
   "metadata": {
    "ExecuteTime": {
     "end_time": "2023-07-26T08:00:50.519719586Z",
     "start_time": "2023-07-26T08:00:50.294547436Z"
    },
    "collapsed": false,
    "jupyter": {
     "outputs_hidden": false
    }
   },
   "outputs": [],
   "source": [
    "!cat HumanEval_0.py"
   ]
  },
  {
   "cell_type": "code",
   "execution_count": null,
   "metadata": {
    "ExecuteTime": {
     "end_time": "2023-07-26T08:00:51.407299671Z",
     "start_time": "2023-07-26T08:00:51.369993175Z"
    },
    "collapsed": false,
    "jupyter": {
     "outputs_hidden": false
    }
   },
   "outputs": [],
   "source": []
  },
  {
   "cell_type": "code",
   "execution_count": null,
   "metadata": {
    "ExecuteTime": {
     "end_time": "2023-07-26T08:00:51.919710579Z",
     "start_time": "2023-07-26T08:00:51.874658476Z"
    },
    "collapsed": false,
    "jupyter": {
     "outputs_hidden": false
    }
   },
   "outputs": [],
   "source": [
    "problems[\"HumanEval/0\"][\"entry_point\"]"
   ]
  },
  {
   "cell_type": "code",
   "execution_count": null,
   "metadata": {
    "ExecuteTime": {
     "end_time": "2023-07-26T08:00:52.545207688Z",
     "start_time": "2023-07-26T08:00:52.514902255Z"
    },
    "collapsed": false,
    "jupyter": {
     "outputs_hidden": false
    }
   },
   "outputs": [],
   "source": [
    "df_cpu_1024.head()"
   ]
  },
  {
   "cell_type": "code",
   "execution_count": null,
   "metadata": {
    "ExecuteTime": {
     "end_time": "2023-07-26T08:00:53.302717405Z",
     "start_time": "2023-07-26T08:00:53.288878439Z"
    },
    "collapsed": false,
    "jupyter": {
     "outputs_hidden": false
    }
   },
   "outputs": [],
   "source": [
    "df_cpu_1024[\"passed_math\"].value_counts()"
   ]
  },
  {
   "cell_type": "code",
   "execution_count": null,
   "metadata": {
    "ExecuteTime": {
     "end_time": "2023-07-26T08:00:53.708404764Z",
     "start_time": "2023-07-26T08:00:53.696607049Z"
    },
    "collapsed": false,
    "jupyter": {
     "outputs_hidden": false
    }
   },
   "outputs": [],
   "source": [
    "df_cpu_1024[\"passed_typing\"].value_counts()"
   ]
  },
  {
   "cell_type": "code",
   "execution_count": null,
   "metadata": {
    "ExecuteTime": {
     "end_time": "2023-07-26T08:00:54.310284390Z",
     "start_time": "2023-07-26T08:00:54.272014212Z"
    },
    "collapsed": false,
    "jupyter": {
     "outputs_hidden": false
    }
   },
   "outputs": [],
   "source": [
    "print(df_cpu_1024[\"python_code\"].iloc[12])"
   ]
  },
  {
   "cell_type": "code",
   "execution_count": null,
   "metadata": {
    "ExecuteTime": {
     "end_time": "2023-07-26T08:00:55.271503461Z",
     "start_time": "2023-07-26T08:00:55.242339698Z"
    },
    "collapsed": false,
    "jupyter": {
     "outputs_hidden": false
    }
   },
   "outputs": [],
   "source": [
    "df_cpu_1024[\"passed_no_math\"].iloc[12]"
   ]
  },
  {
   "cell_type": "code",
   "execution_count": null,
   "metadata": {
    "ExecuteTime": {
     "end_time": "2023-07-26T08:00:55.705971958Z",
     "start_time": "2023-07-26T08:00:55.676274855Z"
    },
    "collapsed": false,
    "jupyter": {
     "outputs_hidden": false
    }
   },
   "outputs": [],
   "source": [
    "#find row with highest length of answer\n"
   ]
  },
  {
   "cell_type": "code",
   "execution_count": null,
   "metadata": {
    "ExecuteTime": {
     "end_time": "2023-07-26T08:00:56.029110004Z",
     "start_time": "2023-07-26T08:00:56.000266509Z"
    },
    "collapsed": false,
    "jupyter": {
     "outputs_hidden": false
    }
   },
   "outputs": [],
   "source": [
    "df_cpu_1024[\"answer_token_count\"].idxmax()"
   ]
  },
  {
   "cell_type": "code",
   "execution_count": null,
   "metadata": {
    "ExecuteTime": {
     "end_time": "2023-07-26T08:00:56.415543154Z",
     "start_time": "2023-07-26T08:00:56.321268450Z"
    },
    "collapsed": false,
    "jupyter": {
     "outputs_hidden": false
    }
   },
   "outputs": [],
   "source": [
    "#get top 10 rows with highest length of answer\n",
    "df_cpu_1024.nlargest(10, 'answer_token_count').index\n"
   ]
  },
  {
   "cell_type": "code",
   "execution_count": null,
   "metadata": {
    "ExecuteTime": {
     "end_time": "2023-07-26T08:00:56.738189248Z",
     "start_time": "2023-07-26T08:00:56.674400907Z"
    },
    "collapsed": false,
    "jupyter": {
     "outputs_hidden": false
    }
   },
   "outputs": [],
   "source": []
  },
  {
   "cell_type": "code",
   "execution_count": null,
   "metadata": {
    "collapsed": false,
    "jupyter": {
     "outputs_hidden": false
    }
   },
   "outputs": [],
   "source": []
  }
 ],
 "metadata": {
  "kernelspec": {
   "display_name": "Python 3 (ipykernel)",
   "language": "python",
   "name": "python3"
  },
  "language_info": {
   "codemirror_mode": {
    "name": "ipython",
    "version": 3
   },
   "file_extension": ".py",
   "mimetype": "text/x-python",
   "name": "python",
   "nbconvert_exporter": "python",
   "pygments_lexer": "ipython3",
   "version": "3.10.11"
  }
 },
 "nbformat": 4,
 "nbformat_minor": 4
}
